{
 "cells": [
  {
   "cell_type": "markdown",
   "metadata": {},
   "source": [
    "# 타이타닉 데이터 로드 및 분석에 활용할 라이브러리 임포트"
   ]
  },
  {
   "cell_type": "code",
   "execution_count": 56,
   "metadata": {
    "ExecuteTime": {
     "end_time": "2021-03-30T07:23:51.454536Z",
     "start_time": "2021-03-30T07:23:51.415641Z"
    },
    "scrolled": true
   },
   "outputs": [
    {
     "data": {
      "text/html": [
       "<div>\n",
       "<style scoped>\n",
       "    .dataframe tbody tr th:only-of-type {\n",
       "        vertical-align: middle;\n",
       "    }\n",
       "\n",
       "    .dataframe tbody tr th {\n",
       "        vertical-align: top;\n",
       "    }\n",
       "\n",
       "    .dataframe thead th {\n",
       "        text-align: right;\n",
       "    }\n",
       "</style>\n",
       "<table border=\"1\" class=\"dataframe\">\n",
       "  <thead>\n",
       "    <tr style=\"text-align: right;\">\n",
       "      <th></th>\n",
       "      <th>survived</th>\n",
       "      <th>pclass</th>\n",
       "      <th>sex</th>\n",
       "      <th>age</th>\n",
       "      <th>sibsp</th>\n",
       "      <th>parch</th>\n",
       "      <th>fare</th>\n",
       "      <th>embarked</th>\n",
       "      <th>class</th>\n",
       "      <th>who</th>\n",
       "      <th>adult_male</th>\n",
       "      <th>deck</th>\n",
       "      <th>embark_town</th>\n",
       "      <th>alive</th>\n",
       "      <th>alone</th>\n",
       "    </tr>\n",
       "  </thead>\n",
       "  <tbody>\n",
       "    <tr>\n",
       "      <th>0</th>\n",
       "      <td>0</td>\n",
       "      <td>3</td>\n",
       "      <td>male</td>\n",
       "      <td>22.0</td>\n",
       "      <td>1</td>\n",
       "      <td>0</td>\n",
       "      <td>7.2500</td>\n",
       "      <td>S</td>\n",
       "      <td>Third</td>\n",
       "      <td>man</td>\n",
       "      <td>True</td>\n",
       "      <td>NaN</td>\n",
       "      <td>Southampton</td>\n",
       "      <td>no</td>\n",
       "      <td>False</td>\n",
       "    </tr>\n",
       "    <tr>\n",
       "      <th>1</th>\n",
       "      <td>1</td>\n",
       "      <td>1</td>\n",
       "      <td>female</td>\n",
       "      <td>38.0</td>\n",
       "      <td>1</td>\n",
       "      <td>0</td>\n",
       "      <td>71.2833</td>\n",
       "      <td>C</td>\n",
       "      <td>First</td>\n",
       "      <td>woman</td>\n",
       "      <td>False</td>\n",
       "      <td>C</td>\n",
       "      <td>Cherbourg</td>\n",
       "      <td>yes</td>\n",
       "      <td>False</td>\n",
       "    </tr>\n",
       "    <tr>\n",
       "      <th>2</th>\n",
       "      <td>1</td>\n",
       "      <td>3</td>\n",
       "      <td>female</td>\n",
       "      <td>26.0</td>\n",
       "      <td>0</td>\n",
       "      <td>0</td>\n",
       "      <td>7.9250</td>\n",
       "      <td>S</td>\n",
       "      <td>Third</td>\n",
       "      <td>woman</td>\n",
       "      <td>False</td>\n",
       "      <td>NaN</td>\n",
       "      <td>Southampton</td>\n",
       "      <td>yes</td>\n",
       "      <td>True</td>\n",
       "    </tr>\n",
       "    <tr>\n",
       "      <th>3</th>\n",
       "      <td>1</td>\n",
       "      <td>1</td>\n",
       "      <td>female</td>\n",
       "      <td>35.0</td>\n",
       "      <td>1</td>\n",
       "      <td>0</td>\n",
       "      <td>53.1000</td>\n",
       "      <td>S</td>\n",
       "      <td>First</td>\n",
       "      <td>woman</td>\n",
       "      <td>False</td>\n",
       "      <td>C</td>\n",
       "      <td>Southampton</td>\n",
       "      <td>yes</td>\n",
       "      <td>False</td>\n",
       "    </tr>\n",
       "    <tr>\n",
       "      <th>4</th>\n",
       "      <td>0</td>\n",
       "      <td>3</td>\n",
       "      <td>male</td>\n",
       "      <td>35.0</td>\n",
       "      <td>0</td>\n",
       "      <td>0</td>\n",
       "      <td>8.0500</td>\n",
       "      <td>S</td>\n",
       "      <td>Third</td>\n",
       "      <td>man</td>\n",
       "      <td>True</td>\n",
       "      <td>NaN</td>\n",
       "      <td>Southampton</td>\n",
       "      <td>no</td>\n",
       "      <td>True</td>\n",
       "    </tr>\n",
       "  </tbody>\n",
       "</table>\n",
       "</div>"
      ],
      "text/plain": [
       "   survived  pclass     sex   age  sibsp  parch     fare embarked  class  \\\n",
       "0         0       3    male  22.0      1      0   7.2500        S  Third   \n",
       "1         1       1  female  38.0      1      0  71.2833        C  First   \n",
       "2         1       3  female  26.0      0      0   7.9250        S  Third   \n",
       "3         1       1  female  35.0      1      0  53.1000        S  First   \n",
       "4         0       3    male  35.0      0      0   8.0500        S  Third   \n",
       "\n",
       "     who  adult_male deck  embark_town alive  alone  \n",
       "0    man        True  NaN  Southampton    no  False  \n",
       "1  woman       False    C    Cherbourg   yes  False  \n",
       "2  woman       False  NaN  Southampton   yes   True  \n",
       "3  woman       False    C  Southampton   yes  False  \n",
       "4    man        True  NaN  Southampton    no   True  "
      ]
     },
     "execution_count": 56,
     "metadata": {},
     "output_type": "execute_result"
    }
   ],
   "source": [
    "import pandas as pd\n",
    "import numpy as np\n",
    "import seaborn as sns\n",
    "import matplotlib.pyplot as plt\n",
    "%matplotlib inline\n",
    "sns.set()\n",
    "# 사용자 운영체제 확인\n",
    "import platform\n",
    "platform.system()\n",
    "\n",
    "# 운영체제별 한글 폰트 설정\n",
    "if platform.system() == 'Darwin': # Mac 환경 폰트 설정\n",
    "    plt.rc('font', family='AppleGothic')\n",
    "elif platform.system() == 'Windows': # Windows 환경 폰트 설정\n",
    "    plt.rc('font', family='Malgun Gothic')\n",
    "\n",
    "plt.rc('axes', unicode_minus=False) # 마이너스 폰트 설정\n",
    "\n",
    "\n",
    "# 글씨 선명하게 출력하는 설정\n",
    "%config InlineBackend.figure_format = 'retina'\n",
    "\n",
    "titanic = sns.load_dataset(\"titanic\")\n",
    "titanic.head()"
   ]
  },
  {
   "cell_type": "code",
   "execution_count": 4,
   "metadata": {
    "ExecuteTime": {
     "end_time": "2021-03-30T07:14:58.580169Z",
     "start_time": "2021-03-30T07:14:58.569196Z"
    }
   },
   "outputs": [
    {
     "data": {
      "text/plain": [
       "survived         0\n",
       "pclass           0\n",
       "sex              0\n",
       "age            177\n",
       "sibsp            0\n",
       "parch            0\n",
       "fare             0\n",
       "embarked         2\n",
       "class            0\n",
       "who              0\n",
       "adult_male       0\n",
       "deck           688\n",
       "embark_town      2\n",
       "alive            0\n",
       "alone            0\n",
       "dtype: int64"
      ]
     },
     "execution_count": 4,
     "metadata": {},
     "output_type": "execute_result"
    }
   ],
   "source": [
    "# 나이 그룹에 의한 생존율을 확인하는 것이 목적.\n",
    "# 하지만 나이 컬럼에 177개 결측치가 확인\n",
    "# 따라서 RandomForest model을 이용해 결측치를 처리\n",
    "\n",
    "titanic.isnull().sum()"
   ]
  },
  {
   "cell_type": "code",
   "execution_count": 24,
   "metadata": {
    "ExecuteTime": {
     "end_time": "2021-03-30T07:18:11.268718Z",
     "start_time": "2021-03-30T07:18:10.878803Z"
    }
   },
   "outputs": [
    {
     "data": {
      "image/png": "[encoded data removed]",
      "text/plain": [
       "<Figure size 864x576 with 2 Axes>"
      ]
     },
     "metadata": {},
     "output_type": "display_data"
    }
   ],
   "source": [
    "plt.figure(figsize=(12, 8))\n",
    "plt.title(\"TITANIC CORR MATRIX\")\n",
    "sns.heatmap(titanic.corr().sort_values(\"survived\", ascending=False) ,annot=True, fmt='f', cmap=\"Blues\")\n",
    "plt.show()"
   ]
  },
  {
   "cell_type": "code",
   "execution_count": 5,
   "metadata": {
    "ExecuteTime": {
     "end_time": "2021-03-30T07:15:14.840735Z",
     "start_time": "2021-03-30T07:15:14.830762Z"
    }
   },
   "outputs": [],
   "source": [
    "titanic['age'] = titanic[\"age\"].fillna(0) # age컬럼의 결측치를 0으로 채움"
   ]
  },
  {
   "cell_type": "markdown",
   "metadata": {},
   "source": [
    "# RandomForest를 통한 결측치 처리"
   ]
  },
  {
   "cell_type": "code",
   "execution_count": 10,
   "metadata": {
    "ExecuteTime": {
     "end_time": "2021-03-30T07:15:28.665432Z",
     "start_time": "2021-03-30T07:15:28.448977Z"
    }
   },
   "outputs": [
    {
     "name": "stdout",
     "output_type": "stream",
     "text": [
      "(177, 15)\n",
      "(714, 15)\n",
      "4.25814410607135\n"
     ]
    }
   ],
   "source": [
    "from sklearn.ensemble import RandomForestClassifier\n",
    "from sklearn.metrics import mean_squared_error\n",
    "\n",
    "# RandomForest 모델을 이용해 age 컬럼의 결측치를 채운다.\n",
    "# 이를 위해 0으로 채워진 데이터와 그렇지 않은 데이터를 분리시킨다.\n",
    "\n",
    "titanic0 = titanic.loc[titanic['age'] == 0]\n",
    "titanicNot0 = titanic.loc[titanic['age'] != 0]\n",
    "print(titanic0.shape)\n",
    "print(titanicNot0.shape)\n",
    "\n",
    "rf = RandomForestClassifier()\n",
    "\n",
    "# rf를 사용하기 위해 결측치로 인한 학습에 방해가 되는 컬럼 제거\n",
    "titanicNot0 = titanicNot0.drop([\"deck\", \"embark_town\", \"embarked\"], axis=1)\n",
    "\n",
    "# 범주형 데이터도 학습시키기 위해 원핫인코딩 진행\n",
    "titanicNot0_dummies = pd.get_dummies(titanicNot0)\n",
    "\n",
    "# titanic0 데이터에 who_child가 없기에 Not0 데이터 학습에서 제외\n",
    "titanicNot0_dummies = titanicNot0_dummies.drop([\"who_child\"], axis=1)\n",
    "\n",
    "# 전체 714 row중 오차지표 확인을 위해 600개 데이터 1차 학습\n",
    "rf.fit(titanicNot0_dummies[:600], titanicNot0[\"age\"][:600].astype(\"int\"))\n",
    "\n",
    "# rmse가 약 4정도로 양호한것을 확인\n",
    "rf_prediction = rf.predict(titanicNot0_dummies[600:])\n",
    "rf_mse = mean_squared_error(titanicNot0[\"age\"][600:], rf_prediction)\n",
    "rf_rmse = np.sqrt(rf_mse)\n",
    "print(rf_rmse)"
   ]
  },
  {
   "cell_type": "code",
   "execution_count": 11,
   "metadata": {
    "ExecuteTime": {
     "end_time": "2021-03-30T07:15:42.809449Z",
     "start_time": "2021-03-30T07:15:42.460384Z"
    }
   },
   "outputs": [
    {
     "name": "stderr",
     "output_type": "stream",
     "text": [
      "C:\\ProgramData\\Anaconda3\\lib\\site-packages\\seaborn\\_decorators.py:43: FutureWarning: Pass the following variable as a keyword arg: x. From version 0.12, the only valid positional argument will be `data`, and passing other arguments without an explicit keyword will result in an error or misinterpretation.\n",
      "  FutureWarning\n",
      "C:\\ProgramData\\Anaconda3\\lib\\site-packages\\seaborn\\_decorators.py:43: FutureWarning: Pass the following variable as a keyword arg: x. From version 0.12, the only valid positional argument will be `data`, and passing other arguments without an explicit keyword will result in an error or misinterpretation.\n",
      "  FutureWarning\n"
     ]
    },
    {
     "data": {
      "text/plain": [
       "<matplotlib.axes._subplots.AxesSubplot at 0x1cb2d9f9708>"
      ]
     },
     "execution_count": 11,
     "metadata": {},
     "output_type": "execute_result"
    },
    {
     "data": {
      "image/png": "[encoded data removed]",
      "text/plain": [
       "<Figure size 1080x432 with 2 Axes>"
      ]
     },
     "metadata": {},
     "output_type": "display_data"
    }
   ],
   "source": [
    "# violinplot을 이용해 예측데이터와 실제 데이터의 분포를 살펴보니 잘 예측이 된것으로 판단된다.\n",
    "# 따라서 전체 데이터를 이용해 다시 모델을 학습시키고 실제 결측치에 대입하겠다.\n",
    "\n",
    "plt.figure(figsize=(15,6))\n",
    "\n",
    "# 예측데이터 violinplot\n",
    "plt.subplot(121)\n",
    "sns.violinplot(rf_prediction, palette=\"Reds\")\n",
    "\n",
    "# 실제데이터 violinplot\n",
    "plt.subplot(122)\n",
    "sns.violinplot(titanicNot0[\"age\"][600:])"
   ]
  },
  {
   "cell_type": "code",
   "execution_count": 25,
   "metadata": {
    "ExecuteTime": {
     "end_time": "2021-03-30T07:18:30.431667Z",
     "start_time": "2021-03-30T07:18:30.186724Z"
    }
   },
   "outputs": [
    {
     "data": {
      "text/plain": [
       "array([16, 19, 16, 17, 16, 16, 17, 16, 20, 16, 16, 16, 16, 16, 26, 16, 20,\n",
       "       16, 16, 16, 16, 16, 16, 16, 19, 16, 16,  0, 18, 17, 17, 16, 16, 16,\n",
       "       16, 16, 18, 16,  0, 16, 16, 16, 17, 16,  2, 18, 18,  0, 17, 16, 16,\n",
       "       18, 16, 16, 16, 16, 16, 26, 16, 20, 17, 16, 16, 16,  0, 17, 16,  0,\n",
       "       16, 17, 16, 16, 16, 16, 16, 17, 16, 16,  2, 16, 19, 16, 18, 16, 17,\n",
       "       16,  0, 16, 16, 16, 17, 16, 16, 16, 16, 17, 16, 16,  2, 16, 16, 16,\n",
       "       18, 26, 16, 16, 17, 17, 22, 17,  0, 16, 19, 16, 22, 16, 16, 18, 17,\n",
       "       16, 18, 16, 16, 18, 19, 17, 16, 16, 17,  0, 16, 16, 16, 16, 16, 16,\n",
       "       16, 16, 16, 16, 17, 16, 18, 16, 16, 20, 16, 16, 16, 16, 16, 16, 26,\n",
       "       16, 16, 16, 17, 16, 16, 16, 16, 16, 16, 16, 17, 16, 16, 17, 16, 26,\n",
       "       16, 17, 17, 16, 16, 16,  2])"
      ]
     },
     "execution_count": 25,
     "metadata": {},
     "output_type": "execute_result"
    }
   ],
   "source": [
    "# 전체 데이터를 이용해 다시 모델을 학습시킵니다.\n",
    "\n",
    "rf.fit(titanicNot0_dummies, titanicNot0[\"age\"].astype(\"int\"))\n",
    "\n",
    "titanic0 = titanic0.drop(['deck','embarked','embark_town'], axis=1)\n",
    "\n",
    "titanic0_dummies = pd.get_dummies(titanic0)\n",
    "\n",
    "titanic0Values = rf.predict(X = titanic0_dummies)\n",
    "titanic0Values"
   ]
  },
  {
   "cell_type": "code",
   "execution_count": 26,
   "metadata": {
    "ExecuteTime": {
     "end_time": "2021-03-30T07:18:33.427970Z",
     "start_time": "2021-03-30T07:18:33.416999Z"
    }
   },
   "outputs": [],
   "source": [
    "# 결측치를 채우기 위한 새로운 데이터프레임 생성\n",
    "predictAge0 = titanic0\n",
    "predictAgeNot0 = titanicNot0\n",
    "\n",
    "predictAge0[\"age\"] = titanic0Values\n",
    "\n",
    "data = predictAgeNot0.append(predictAge0)\n",
    "data[\"age\"] = data[\"age\"].astype(\"int\")"
   ]
  },
  {
   "cell_type": "code",
   "execution_count": 27,
   "metadata": {
    "ExecuteTime": {
     "end_time": "2021-03-30T07:18:35.975224Z",
     "start_time": "2021-03-30T07:18:35.958270Z"
    }
   },
   "outputs": [],
   "source": [
    "# 학습에 방해가 되었던 특성들을 다시 붙여 age특성만 결측치가 처리된 상태로 만듭니다.\n",
    "\n",
    "data[[\"deck\", \"embark_town\", \"embarked\"]] = titanic[[\"deck\", \"embark_town\", \"embarked\"]]"
   ]
  },
  {
   "cell_type": "code",
   "execution_count": 28,
   "metadata": {
    "ExecuteTime": {
     "end_time": "2021-03-30T07:18:38.252996Z",
     "start_time": "2021-03-30T07:18:38.242026Z"
    }
   },
   "outputs": [
    {
     "data": {
      "text/plain": [
       "survived         0\n",
       "pclass           0\n",
       "sex              0\n",
       "age              0\n",
       "sibsp            0\n",
       "parch            0\n",
       "fare             0\n",
       "class            0\n",
       "who              0\n",
       "adult_male       0\n",
       "alive            0\n",
       "alone            0\n",
       "deck           688\n",
       "embark_town      2\n",
       "embarked         2\n",
       "dtype: int64"
      ]
     },
     "execution_count": 28,
     "metadata": {},
     "output_type": "execute_result"
    }
   ],
   "source": [
    "data.isnull().sum()"
   ]
  },
  {
   "cell_type": "code",
   "execution_count": 30,
   "metadata": {
    "ExecuteTime": {
     "end_time": "2021-03-30T07:18:47.504819Z",
     "start_time": "2021-03-30T07:18:47.270599Z"
    }
   },
   "outputs": [
    {
     "name": "stderr",
     "output_type": "stream",
     "text": [
      "C:\\ProgramData\\Anaconda3\\lib\\site-packages\\seaborn\\distributions.py:2557: FutureWarning: `distplot` is a deprecated function and will be removed in a future version. Please adapt your code to use either `displot` (a figure-level function with similar flexibility) or `histplot` (an axes-level function for histograms).\n",
      "  warnings.warn(msg, FutureWarning)\n"
     ]
    },
    {
     "data": {
      "text/plain": [
       "<matplotlib.axes._subplots.AxesSubplot at 0x1cb300f04c8>"
      ]
     },
     "execution_count": 30,
     "metadata": {},
     "output_type": "execute_result"
    },
    {
     "data": {
      "image/png": "[encoded data removed]",
      "text/plain": [
       "<Figure size 432x288 with 1 Axes>"
      ]
     },
     "metadata": {},
     "output_type": "display_data"
    }
   ],
   "source": [
    "# 세개의 나이(age) 그룹을 만들기 위해 titanic데이터의 탑승자 연령 데이터를 히스토그램으로 확인합니다.\n",
    "# 0세~80세의 구간을 가지며 10대 후반에서 40대 사이에 주로 분포한 것을 알 수 있습니다.\n",
    "\n",
    "sns.distplot(data.age, bins=20)"
   ]
  },
  {
   "cell_type": "code",
   "execution_count": 36,
   "metadata": {
    "ExecuteTime": {
     "end_time": "2021-03-30T07:19:50.883809Z",
     "start_time": "2021-03-30T07:19:50.866895Z"
    }
   },
   "outputs": [
    {
     "name": "stdout",
     "output_type": "stream",
     "text": [
      "최대값 :  80\n",
      "최소값 :  0\n"
     ]
    }
   ],
   "source": [
    "# 확실한 최대, 최소 수치를 확인합니다.\n",
    "\n",
    "print(\"최대값 : \",data.age.max())\n",
    "print(\"최소값 : \",data.age.min())"
   ]
  },
  {
   "cell_type": "code",
   "execution_count": 32,
   "metadata": {
    "ExecuteTime": {
     "end_time": "2021-03-30T07:19:01.203079Z",
     "start_time": "2021-03-30T07:19:01.162188Z"
    }
   },
   "outputs": [
    {
     "data": {
      "text/html": [
       "<div>\n",
       "<style scoped>\n",
       "    .dataframe tbody tr th:only-of-type {\n",
       "        vertical-align: middle;\n",
       "    }\n",
       "\n",
       "    .dataframe tbody tr th {\n",
       "        vertical-align: top;\n",
       "    }\n",
       "\n",
       "    .dataframe thead th {\n",
       "        text-align: right;\n",
       "    }\n",
       "</style>\n",
       "<table border=\"1\" class=\"dataframe\">\n",
       "  <thead>\n",
       "    <tr style=\"text-align: right;\">\n",
       "      <th></th>\n",
       "      <th>survived</th>\n",
       "      <th>pclass</th>\n",
       "      <th>sex</th>\n",
       "      <th>age</th>\n",
       "      <th>sibsp</th>\n",
       "      <th>parch</th>\n",
       "      <th>fare</th>\n",
       "      <th>class</th>\n",
       "      <th>who</th>\n",
       "      <th>adult_male</th>\n",
       "      <th>alive</th>\n",
       "      <th>alone</th>\n",
       "      <th>deck</th>\n",
       "      <th>embark_town</th>\n",
       "      <th>embarked</th>\n",
       "    </tr>\n",
       "  </thead>\n",
       "  <tbody>\n",
       "    <tr>\n",
       "      <th>831</th>\n",
       "      <td>1</td>\n",
       "      <td>2</td>\n",
       "      <td>male</td>\n",
       "      <td>0</td>\n",
       "      <td>1</td>\n",
       "      <td>1</td>\n",
       "      <td>18.7500</td>\n",
       "      <td>Second</td>\n",
       "      <td>child</td>\n",
       "      <td>False</td>\n",
       "      <td>yes</td>\n",
       "      <td>False</td>\n",
       "      <td>NaN</td>\n",
       "      <td>Southampton</td>\n",
       "      <td>S</td>\n",
       "    </tr>\n",
       "    <tr>\n",
       "      <th>533</th>\n",
       "      <td>1</td>\n",
       "      <td>3</td>\n",
       "      <td>female</td>\n",
       "      <td>0</td>\n",
       "      <td>0</td>\n",
       "      <td>2</td>\n",
       "      <td>22.3583</td>\n",
       "      <td>Third</td>\n",
       "      <td>woman</td>\n",
       "      <td>False</td>\n",
       "      <td>yes</td>\n",
       "      <td>False</td>\n",
       "      <td>NaN</td>\n",
       "      <td>Cherbourg</td>\n",
       "      <td>C</td>\n",
       "    </tr>\n",
       "    <tr>\n",
       "      <th>78</th>\n",
       "      <td>1</td>\n",
       "      <td>2</td>\n",
       "      <td>male</td>\n",
       "      <td>0</td>\n",
       "      <td>0</td>\n",
       "      <td>2</td>\n",
       "      <td>29.0000</td>\n",
       "      <td>Second</td>\n",
       "      <td>child</td>\n",
       "      <td>False</td>\n",
       "      <td>yes</td>\n",
       "      <td>False</td>\n",
       "      <td>NaN</td>\n",
       "      <td>Southampton</td>\n",
       "      <td>S</td>\n",
       "    </tr>\n",
       "    <tr>\n",
       "      <th>431</th>\n",
       "      <td>1</td>\n",
       "      <td>3</td>\n",
       "      <td>female</td>\n",
       "      <td>0</td>\n",
       "      <td>1</td>\n",
       "      <td>0</td>\n",
       "      <td>16.1000</td>\n",
       "      <td>Third</td>\n",
       "      <td>woman</td>\n",
       "      <td>False</td>\n",
       "      <td>yes</td>\n",
       "      <td>False</td>\n",
       "      <td>NaN</td>\n",
       "      <td>Southampton</td>\n",
       "      <td>S</td>\n",
       "    </tr>\n",
       "    <tr>\n",
       "      <th>347</th>\n",
       "      <td>1</td>\n",
       "      <td>3</td>\n",
       "      <td>female</td>\n",
       "      <td>0</td>\n",
       "      <td>1</td>\n",
       "      <td>0</td>\n",
       "      <td>16.1000</td>\n",
       "      <td>Third</td>\n",
       "      <td>woman</td>\n",
       "      <td>False</td>\n",
       "      <td>yes</td>\n",
       "      <td>False</td>\n",
       "      <td>NaN</td>\n",
       "      <td>Southampton</td>\n",
       "      <td>S</td>\n",
       "    </tr>\n",
       "    <tr>\n",
       "      <th>...</th>\n",
       "      <td>...</td>\n",
       "      <td>...</td>\n",
       "      <td>...</td>\n",
       "      <td>...</td>\n",
       "      <td>...</td>\n",
       "      <td>...</td>\n",
       "      <td>...</td>\n",
       "      <td>...</td>\n",
       "      <td>...</td>\n",
       "      <td>...</td>\n",
       "      <td>...</td>\n",
       "      <td>...</td>\n",
       "      <td>...</td>\n",
       "      <td>...</td>\n",
       "      <td>...</td>\n",
       "    </tr>\n",
       "    <tr>\n",
       "      <th>745</th>\n",
       "      <td>0</td>\n",
       "      <td>1</td>\n",
       "      <td>male</td>\n",
       "      <td>70</td>\n",
       "      <td>1</td>\n",
       "      <td>1</td>\n",
       "      <td>71.0000</td>\n",
       "      <td>First</td>\n",
       "      <td>man</td>\n",
       "      <td>True</td>\n",
       "      <td>no</td>\n",
       "      <td>False</td>\n",
       "      <td>B</td>\n",
       "      <td>Southampton</td>\n",
       "      <td>S</td>\n",
       "    </tr>\n",
       "    <tr>\n",
       "      <th>96</th>\n",
       "      <td>0</td>\n",
       "      <td>1</td>\n",
       "      <td>male</td>\n",
       "      <td>71</td>\n",
       "      <td>0</td>\n",
       "      <td>0</td>\n",
       "      <td>34.6542</td>\n",
       "      <td>First</td>\n",
       "      <td>man</td>\n",
       "      <td>True</td>\n",
       "      <td>no</td>\n",
       "      <td>True</td>\n",
       "      <td>A</td>\n",
       "      <td>Cherbourg</td>\n",
       "      <td>C</td>\n",
       "    </tr>\n",
       "    <tr>\n",
       "      <th>493</th>\n",
       "      <td>0</td>\n",
       "      <td>1</td>\n",
       "      <td>male</td>\n",
       "      <td>71</td>\n",
       "      <td>0</td>\n",
       "      <td>0</td>\n",
       "      <td>49.5042</td>\n",
       "      <td>First</td>\n",
       "      <td>man</td>\n",
       "      <td>True</td>\n",
       "      <td>no</td>\n",
       "      <td>True</td>\n",
       "      <td>NaN</td>\n",
       "      <td>Cherbourg</td>\n",
       "      <td>C</td>\n",
       "    </tr>\n",
       "    <tr>\n",
       "      <th>851</th>\n",
       "      <td>0</td>\n",
       "      <td>3</td>\n",
       "      <td>male</td>\n",
       "      <td>74</td>\n",
       "      <td>0</td>\n",
       "      <td>0</td>\n",
       "      <td>7.7750</td>\n",
       "      <td>Third</td>\n",
       "      <td>man</td>\n",
       "      <td>True</td>\n",
       "      <td>no</td>\n",
       "      <td>True</td>\n",
       "      <td>NaN</td>\n",
       "      <td>Southampton</td>\n",
       "      <td>S</td>\n",
       "    </tr>\n",
       "    <tr>\n",
       "      <th>630</th>\n",
       "      <td>1</td>\n",
       "      <td>1</td>\n",
       "      <td>male</td>\n",
       "      <td>80</td>\n",
       "      <td>0</td>\n",
       "      <td>0</td>\n",
       "      <td>30.0000</td>\n",
       "      <td>First</td>\n",
       "      <td>man</td>\n",
       "      <td>True</td>\n",
       "      <td>yes</td>\n",
       "      <td>True</td>\n",
       "      <td>A</td>\n",
       "      <td>Southampton</td>\n",
       "      <td>S</td>\n",
       "    </tr>\n",
       "  </tbody>\n",
       "</table>\n",
       "<p>891 rows × 15 columns</p>\n",
       "</div>"
      ],
      "text/plain": [
       "     survived  pclass     sex  age  sibsp  parch     fare   class    who  \\\n",
       "831         1       2    male    0      1      1  18.7500  Second  child   \n",
       "533         1       3  female    0      0      2  22.3583   Third  woman   \n",
       "78          1       2    male    0      0      2  29.0000  Second  child   \n",
       "431         1       3  female    0      1      0  16.1000   Third  woman   \n",
       "347         1       3  female    0      1      0  16.1000   Third  woman   \n",
       "..        ...     ...     ...  ...    ...    ...      ...     ...    ...   \n",
       "745         0       1    male   70      1      1  71.0000   First    man   \n",
       "96          0       1    male   71      0      0  34.6542   First    man   \n",
       "493         0       1    male   71      0      0  49.5042   First    man   \n",
       "851         0       3    male   74      0      0   7.7750   Third    man   \n",
       "630         1       1    male   80      0      0  30.0000   First    man   \n",
       "\n",
       "     adult_male alive  alone deck  embark_town embarked  \n",
       "831       False   yes  False  NaN  Southampton        S  \n",
       "533       False   yes  False  NaN    Cherbourg        C  \n",
       "78        False   yes  False  NaN  Southampton        S  \n",
       "431       False   yes  False  NaN  Southampton        S  \n",
       "347       False   yes  False  NaN  Southampton        S  \n",
       "..          ...   ...    ...  ...          ...      ...  \n",
       "745        True    no  False    B  Southampton        S  \n",
       "96         True    no   True    A    Cherbourg        C  \n",
       "493        True    no   True  NaN    Cherbourg        C  \n",
       "851        True    no   True  NaN  Southampton        S  \n",
       "630        True   yes   True    A  Southampton        S  \n",
       "\n",
       "[891 rows x 15 columns]"
      ]
     },
     "execution_count": 32,
     "metadata": {},
     "output_type": "execute_result"
    }
   ],
   "source": [
    "# qcut 함수는 동일한 갯수를 기준으로 데이터를 분할하기 때문에 age 컬럼을 오름차순으로 정렬합니다.\n",
    "\n",
    "titanic_sorted_by_age =  data.sort_values(\"age\")\n",
    "titanic_sorted_by_age"
   ]
  },
  {
   "cell_type": "code",
   "execution_count": 37,
   "metadata": {
    "ExecuteTime": {
     "end_time": "2021-03-30T07:19:57.114134Z",
     "start_time": "2021-03-30T07:19:57.090199Z"
    }
   },
   "outputs": [
    {
     "data": {
      "text/html": [
       "<div>\n",
       "<style scoped>\n",
       "    .dataframe tbody tr th:only-of-type {\n",
       "        vertical-align: middle;\n",
       "    }\n",
       "\n",
       "    .dataframe tbody tr th {\n",
       "        vertical-align: top;\n",
       "    }\n",
       "\n",
       "    .dataframe thead th {\n",
       "        text-align: right;\n",
       "    }\n",
       "</style>\n",
       "<table border=\"1\" class=\"dataframe\">\n",
       "  <thead>\n",
       "    <tr style=\"text-align: right;\">\n",
       "      <th></th>\n",
       "      <th>survived</th>\n",
       "      <th>pclass</th>\n",
       "      <th>sex</th>\n",
       "      <th>age</th>\n",
       "      <th>sibsp</th>\n",
       "      <th>parch</th>\n",
       "      <th>fare</th>\n",
       "      <th>class</th>\n",
       "      <th>who</th>\n",
       "      <th>adult_male</th>\n",
       "      <th>alive</th>\n",
       "      <th>alone</th>\n",
       "      <th>deck</th>\n",
       "      <th>embark_town</th>\n",
       "      <th>embarked</th>\n",
       "      <th>age_class</th>\n",
       "    </tr>\n",
       "  </thead>\n",
       "  <tbody>\n",
       "    <tr>\n",
       "      <th>831</th>\n",
       "      <td>1</td>\n",
       "      <td>2</td>\n",
       "      <td>male</td>\n",
       "      <td>0</td>\n",
       "      <td>1</td>\n",
       "      <td>1</td>\n",
       "      <td>18.7500</td>\n",
       "      <td>Second</td>\n",
       "      <td>child</td>\n",
       "      <td>False</td>\n",
       "      <td>yes</td>\n",
       "      <td>False</td>\n",
       "      <td>NaN</td>\n",
       "      <td>Southampton</td>\n",
       "      <td>S</td>\n",
       "      <td>미성년자</td>\n",
       "    </tr>\n",
       "    <tr>\n",
       "      <th>533</th>\n",
       "      <td>1</td>\n",
       "      <td>3</td>\n",
       "      <td>female</td>\n",
       "      <td>0</td>\n",
       "      <td>0</td>\n",
       "      <td>2</td>\n",
       "      <td>22.3583</td>\n",
       "      <td>Third</td>\n",
       "      <td>woman</td>\n",
       "      <td>False</td>\n",
       "      <td>yes</td>\n",
       "      <td>False</td>\n",
       "      <td>NaN</td>\n",
       "      <td>Cherbourg</td>\n",
       "      <td>C</td>\n",
       "      <td>미성년자</td>\n",
       "    </tr>\n",
       "    <tr>\n",
       "      <th>78</th>\n",
       "      <td>1</td>\n",
       "      <td>2</td>\n",
       "      <td>male</td>\n",
       "      <td>0</td>\n",
       "      <td>0</td>\n",
       "      <td>2</td>\n",
       "      <td>29.0000</td>\n",
       "      <td>Second</td>\n",
       "      <td>child</td>\n",
       "      <td>False</td>\n",
       "      <td>yes</td>\n",
       "      <td>False</td>\n",
       "      <td>NaN</td>\n",
       "      <td>Southampton</td>\n",
       "      <td>S</td>\n",
       "      <td>미성년자</td>\n",
       "    </tr>\n",
       "    <tr>\n",
       "      <th>431</th>\n",
       "      <td>1</td>\n",
       "      <td>3</td>\n",
       "      <td>female</td>\n",
       "      <td>0</td>\n",
       "      <td>1</td>\n",
       "      <td>0</td>\n",
       "      <td>16.1000</td>\n",
       "      <td>Third</td>\n",
       "      <td>woman</td>\n",
       "      <td>False</td>\n",
       "      <td>yes</td>\n",
       "      <td>False</td>\n",
       "      <td>NaN</td>\n",
       "      <td>Southampton</td>\n",
       "      <td>S</td>\n",
       "      <td>미성년자</td>\n",
       "    </tr>\n",
       "    <tr>\n",
       "      <th>347</th>\n",
       "      <td>1</td>\n",
       "      <td>3</td>\n",
       "      <td>female</td>\n",
       "      <td>0</td>\n",
       "      <td>1</td>\n",
       "      <td>0</td>\n",
       "      <td>16.1000</td>\n",
       "      <td>Third</td>\n",
       "      <td>woman</td>\n",
       "      <td>False</td>\n",
       "      <td>yes</td>\n",
       "      <td>False</td>\n",
       "      <td>NaN</td>\n",
       "      <td>Southampton</td>\n",
       "      <td>S</td>\n",
       "      <td>미성년자</td>\n",
       "    </tr>\n",
       "  </tbody>\n",
       "</table>\n",
       "</div>"
      ],
      "text/plain": [
       "     survived  pclass     sex  age  sibsp  parch     fare   class    who  \\\n",
       "831         1       2    male    0      1      1  18.7500  Second  child   \n",
       "533         1       3  female    0      0      2  22.3583   Third  woman   \n",
       "78          1       2    male    0      0      2  29.0000  Second  child   \n",
       "431         1       3  female    0      1      0  16.1000   Third  woman   \n",
       "347         1       3  female    0      1      0  16.1000   Third  woman   \n",
       "\n",
       "     adult_male alive  alone deck  embark_town embarked age_class  \n",
       "831       False   yes  False  NaN  Southampton        S      미성년자  \n",
       "533       False   yes  False  NaN    Cherbourg        C      미성년자  \n",
       "78        False   yes  False  NaN  Southampton        S      미성년자  \n",
       "431       False   yes  False  NaN  Southampton        S      미성년자  \n",
       "347       False   yes  False  NaN  Southampton        S      미성년자  "
      ]
     },
     "execution_count": 37,
     "metadata": {},
     "output_type": "execute_result"
    }
   ],
   "source": [
    "# qcut함수 사용을 위한 함수를 정의하고 age_class라는 새로운 범주를 생성합니다.\n",
    "\n",
    "def q3cut(s):\n",
    "    return pd.qcut(s, 3, labels = [\"미성년자\",\"청년층\",\"중년층\"]).astype(str) # qcut을 이용해 미성년자, 청년, 중년층 총 3개의 범주로 분할합니다.\n",
    "\n",
    "titanic_sorted_by_age[\"age_class\"] = titanic_sorted_by_age.age.transform(q3cut)\n",
    "titanic_sorted_by_age.head()"
   ]
  },
  {
   "cell_type": "code",
   "execution_count": 38,
   "metadata": {
    "ExecuteTime": {
     "end_time": "2021-03-30T07:20:00.737906Z",
     "start_time": "2021-03-30T07:20:00.717930Z"
    }
   },
   "outputs": [
    {
     "data": {
      "text/plain": [
       "array(['미성년자', '청년층', '중년층'], dtype=object)"
      ]
     },
     "execution_count": 38,
     "metadata": {},
     "output_type": "execute_result"
    }
   ],
   "source": [
    "titanic_sorted_by_age[\"age_class\"].unique() # qcut함수가 제대로 장동했는지 unique함수를 통해 age_class의 고유값을 확인합니다."
   ]
  },
  {
   "cell_type": "code",
   "execution_count": 39,
   "metadata": {
    "ExecuteTime": {
     "end_time": "2021-03-30T07:20:03.959807Z",
     "start_time": "2021-03-30T07:20:03.937865Z"
    }
   },
   "outputs": [
    {
     "data": {
      "text/plain": [
       "청년층     305\n",
       "미성년자    300\n",
       "중년층     286\n",
       "Name: age_class, dtype: int64"
      ]
     },
     "execution_count": 39,
     "metadata": {},
     "output_type": "execute_result"
    }
   ],
   "source": [
    " # value_counts함수를 이용해 age_class 범주의 각 고유값에 몇개의 데이터가 포함되었는지 확인합니다.\n",
    "\n",
    "titanic_sorted_by_age[\"age_class\"].value_counts()"
   ]
  },
  {
   "cell_type": "code",
   "execution_count": 40,
   "metadata": {
    "ExecuteTime": {
     "end_time": "2021-03-30T07:20:06.520160Z",
     "start_time": "2021-03-30T07:20:06.497186Z"
    }
   },
   "outputs": [
    {
     "data": {
      "text/plain": [
       "age_class\n",
       "미성년자    13.076667\n",
       "중년층     43.706294\n",
       "청년층     24.773770\n",
       "Name: age, dtype: float64"
      ]
     },
     "execution_count": 40,
     "metadata": {},
     "output_type": "execute_result"
    }
   ],
   "source": [
    "# 각 age_class별로 제대로 나뉘어졌는지 그룹별 평균값으로 확인합니다.\n",
    "\n",
    "titanic_sorted_by_age.age.groupby(titanic_sorted_by_age.age_class).mean()"
   ]
  },
  {
   "cell_type": "code",
   "execution_count": 41,
   "metadata": {
    "ExecuteTime": {
     "end_time": "2021-03-30T07:20:10.278219Z",
     "start_time": "2021-03-30T07:20:10.269246Z"
    }
   },
   "outputs": [
    {
     "data": {
      "text/plain": [
       "891"
      ]
     },
     "execution_count": 41,
     "metadata": {},
     "output_type": "execute_result"
    }
   ],
   "source": [
    "len(titanic_sorted_by_age) # 전체 탑승자 수"
   ]
  },
  {
   "cell_type": "code",
   "execution_count": 42,
   "metadata": {
    "ExecuteTime": {
     "end_time": "2021-03-30T07:20:12.884906Z",
     "start_time": "2021-03-30T07:20:12.854988Z"
    }
   },
   "outputs": [
    {
     "data": {
      "text/plain": [
       "sex     class   age_class\n",
       "female  First   미성년자         0.021324\n",
       "                중년층          0.052750\n",
       "                청년층          0.028058\n",
       "        Second  미성년자         0.016835\n",
       "                중년층          0.029181\n",
       "                청년층          0.032548\n",
       "        Third   미성년자         0.051627\n",
       "                중년층          0.005612\n",
       "                청년층          0.023569\n",
       "male    First   미성년자         0.004489\n",
       "                중년층          0.029181\n",
       "                청년층          0.016835\n",
       "        Second  미성년자         0.010101\n",
       "                중년층          0.004489\n",
       "                청년층          0.004489\n",
       "        Third   미성년자         0.017957\n",
       "                중년층          0.008979\n",
       "                청년층          0.025814\n",
       "Name: survived, dtype: float64"
      ]
     },
     "execution_count": 42,
     "metadata": {},
     "output_type": "execute_result"
    }
   ],
   "source": [
    "# 성별, 선싱, 나이 그룹에 의한 생존률을 구하기 위해  해당그룹인원 / 전체탑승자 수로 계산합니다.\n",
    "\n",
    "survival_rate = titanic_sorted_by_age.groupby([\"sex\",\"class\",\"age_class\"])[\"survived\"].sum()/len(titanic_sorted_by_age)\n",
    "survival_rate"
   ]
  },
  {
   "cell_type": "code",
   "execution_count": 43,
   "metadata": {
    "ExecuteTime": {
     "end_time": "2021-03-30T07:20:15.785888Z",
     "start_time": "2021-03-30T07:20:15.760993Z"
    }
   },
   "outputs": [
    {
     "data": {
      "text/html": [
       "<div>\n",
       "<style scoped>\n",
       "    .dataframe tbody tr th:only-of-type {\n",
       "        vertical-align: middle;\n",
       "    }\n",
       "\n",
       "    .dataframe tbody tr th {\n",
       "        vertical-align: top;\n",
       "    }\n",
       "\n",
       "    .dataframe thead th {\n",
       "        text-align: right;\n",
       "    }\n",
       "</style>\n",
       "<table border=\"1\" class=\"dataframe\">\n",
       "  <thead>\n",
       "    <tr style=\"text-align: right;\">\n",
       "      <th></th>\n",
       "      <th></th>\n",
       "      <th></th>\n",
       "      <th>survive_rate(%)</th>\n",
       "    </tr>\n",
       "    <tr>\n",
       "      <th>sex</th>\n",
       "      <th>class</th>\n",
       "      <th>age_class</th>\n",
       "      <th></th>\n",
       "    </tr>\n",
       "  </thead>\n",
       "  <tbody>\n",
       "    <tr>\n",
       "      <th rowspan=\"9\" valign=\"top\">female</th>\n",
       "      <th rowspan=\"3\" valign=\"top\">First</th>\n",
       "      <th>미성년자</th>\n",
       "      <td>2.132435</td>\n",
       "    </tr>\n",
       "    <tr>\n",
       "      <th>중년층</th>\n",
       "      <td>5.274972</td>\n",
       "    </tr>\n",
       "    <tr>\n",
       "      <th>청년층</th>\n",
       "      <td>2.805836</td>\n",
       "    </tr>\n",
       "    <tr>\n",
       "      <th rowspan=\"3\" valign=\"top\">Second</th>\n",
       "      <th>미성년자</th>\n",
       "      <td>1.683502</td>\n",
       "    </tr>\n",
       "    <tr>\n",
       "      <th>중년층</th>\n",
       "      <td>2.918070</td>\n",
       "    </tr>\n",
       "    <tr>\n",
       "      <th>청년층</th>\n",
       "      <td>3.254770</td>\n",
       "    </tr>\n",
       "    <tr>\n",
       "      <th rowspan=\"3\" valign=\"top\">Third</th>\n",
       "      <th>미성년자</th>\n",
       "      <td>5.162738</td>\n",
       "    </tr>\n",
       "    <tr>\n",
       "      <th>중년층</th>\n",
       "      <td>0.561167</td>\n",
       "    </tr>\n",
       "    <tr>\n",
       "      <th>청년층</th>\n",
       "      <td>2.356902</td>\n",
       "    </tr>\n",
       "    <tr>\n",
       "      <th rowspan=\"9\" valign=\"top\">male</th>\n",
       "      <th rowspan=\"3\" valign=\"top\">First</th>\n",
       "      <th>미성년자</th>\n",
       "      <td>0.448934</td>\n",
       "    </tr>\n",
       "    <tr>\n",
       "      <th>중년층</th>\n",
       "      <td>2.918070</td>\n",
       "    </tr>\n",
       "    <tr>\n",
       "      <th>청년층</th>\n",
       "      <td>1.683502</td>\n",
       "    </tr>\n",
       "    <tr>\n",
       "      <th rowspan=\"3\" valign=\"top\">Second</th>\n",
       "      <th>미성년자</th>\n",
       "      <td>1.010101</td>\n",
       "    </tr>\n",
       "    <tr>\n",
       "      <th>중년층</th>\n",
       "      <td>0.448934</td>\n",
       "    </tr>\n",
       "    <tr>\n",
       "      <th>청년층</th>\n",
       "      <td>0.448934</td>\n",
       "    </tr>\n",
       "    <tr>\n",
       "      <th rowspan=\"3\" valign=\"top\">Third</th>\n",
       "      <th>미성년자</th>\n",
       "      <td>1.795735</td>\n",
       "    </tr>\n",
       "    <tr>\n",
       "      <th>중년층</th>\n",
       "      <td>0.897868</td>\n",
       "    </tr>\n",
       "    <tr>\n",
       "      <th>청년층</th>\n",
       "      <td>2.581369</td>\n",
       "    </tr>\n",
       "  </tbody>\n",
       "</table>\n",
       "</div>"
      ],
      "text/plain": [
       "                         survive_rate(%)\n",
       "sex    class  age_class                 \n",
       "female First  미성년자              2.132435\n",
       "              중년층               5.274972\n",
       "              청년층               2.805836\n",
       "       Second 미성년자              1.683502\n",
       "              중년층               2.918070\n",
       "              청년층               3.254770\n",
       "       Third  미성년자              5.162738\n",
       "              중년층               0.561167\n",
       "              청년층               2.356902\n",
       "male   First  미성년자              0.448934\n",
       "              중년층               2.918070\n",
       "              청년층               1.683502\n",
       "       Second 미성년자              1.010101\n",
       "              중년층               0.448934\n",
       "              청년층               0.448934\n",
       "       Third  미성년자              1.795735\n",
       "              중년층               0.897868\n",
       "              청년층               2.581369"
      ]
     },
     "execution_count": 43,
     "metadata": {},
     "output_type": "execute_result"
    }
   ],
   "source": [
    "final_df = pd.DataFrame(survival_rate)\n",
    "\n",
    "final_df = final_df.fillna(0) # null값 0으로 치환\n",
    "\n",
    "final_df[\"survive_rate(%)\"] = final_df[\"survived\"]*100 # 퍼센트로 바꾸기 위해\n",
    "\n",
    "del final_df[\"survived\"]\n",
    "\n",
    "final_df"
   ]
  },
  {
   "cell_type": "code",
   "execution_count": 44,
   "metadata": {
    "ExecuteTime": {
     "end_time": "2021-03-30T07:20:18.821851Z",
     "start_time": "2021-03-30T07:20:18.815884Z"
    }
   },
   "outputs": [
    {
     "data": {
      "text/plain": [
       "38.38383838383838"
      ]
     },
     "execution_count": 44,
     "metadata": {},
     "output_type": "execute_result"
    }
   ],
   "source": [
    "final_df['survive_rate(%)'].sum()"
   ]
  },
  {
   "cell_type": "code",
   "execution_count": 50,
   "metadata": {
    "ExecuteTime": {
     "end_time": "2021-03-30T07:22:05.342171Z",
     "start_time": "2021-03-30T07:22:05.322227Z"
    }
   },
   "outputs": [],
   "source": [
    "final_df = final_df.reset_index()"
   ]
  },
  {
   "cell_type": "code",
   "execution_count": 59,
   "metadata": {
    "ExecuteTime": {
     "end_time": "2021-03-30T07:24:40.879944Z",
     "start_time": "2021-03-30T07:24:40.521690Z"
    }
   },
   "outputs": [
    {
     "data": {
      "text/plain": [
       "<matplotlib.axes._subplots.AxesSubplot at 0x1cb2fc2a3c8>"
      ]
     },
     "execution_count": 59,
     "metadata": {},
     "output_type": "execute_result"
    },
    {
     "data": {
      "image/png": "[encoded data removed]",
      "text/plain": [
       "<Figure size 864x720 with 1 Axes>"
      ]
     },
     "metadata": {
      "image/png": {
       "height": 595,
       "width": 716
      }
     },
     "output_type": "display_data"
    }
   ],
   "source": [
    "# 남녀를 기준으로 생존율을 시각화 한 결과 class가 모든 class에서 여성이 우선적으로 구출되었음을 알 수 있습니다.\n",
    "\n",
    "plt.figure(figsize=(12, 10))\n",
    "sns.boxplot(data=final_df, x=\"class\", y=\"survive_rate(%)\", hue=\"sex\")"
   ]
  },
  {
   "cell_type": "code",
   "execution_count": 60,
   "metadata": {
    "ExecuteTime": {
     "end_time": "2021-03-30T07:24:49.407006Z",
     "start_time": "2021-03-30T07:24:49.008323Z"
    }
   },
   "outputs": [
    {
     "data": {
      "text/plain": [
       "<matplotlib.axes._subplots.AxesSubplot at 0x1cb2feba808>"
      ]
     },
     "execution_count": 60,
     "metadata": {},
     "output_type": "execute_result"
    },
    {
     "data": {
      "image/png": "[encoded data removed]",
      "text/plain": [
       "<Figure size 864x720 with 1 Axes>"
      ]
     },
     "metadata": {
      "image/png": {
       "height": 595,
       "width": 716
      }
     },
     "output_type": "display_data"
    }
   ],
   "source": [
    "# 추가적으로 age_class를 기준으로 생존율을 분석한 결과 FIRST 클래스에서는 중년층이 우선적으로 구출되었으며 THIRD CLASS에서는 미성년자층이 우선적으로 구출되었음을 알 수 있습니다.\n",
    "\n",
    "plt.figure(figsize=(12, 10))\n",
    "sns.boxplot(data=final_df, x=\"class\", y=\"survive_rate(%)\", hue=\"age_class\")"
   ]
  }
 ],
 "metadata": {
  "kernelspec": {
   "display_name": "Python 3",
   "language": "python",
   "name": "python3"
  },
  "language_info": {
   "codemirror_mode": {
    "name": "ipython",
    "version": 3
   },
   "file_extension": ".py",
   "mimetype": "text/x-python",
   "name": "python",
   "nbconvert_exporter": "python",
   "pygments_lexer": "ipython3",
   "version": "3.7.6"
  },
  "toc": {
   "base_numbering": 1,
   "nav_menu": {},
   "number_sections": true,
   "sideBar": true,
   "skip_h1_title": false,
   "title_cell": "Table of Contents",
   "title_sidebar": "Contents",
   "toc_cell": false,
   "toc_position": {},
   "toc_section_display": true,
   "toc_window_display": false
  },
  "varInspector": {
   "cols": {
    "lenName": 16,
    "lenType": 16,
    "lenVar": 40
   },
   "kernels_config": {
    "python": {
     "delete_cmd_postfix": "",
     "delete_cmd_prefix": "del ",
     "library": "var_list.py",
     "varRefreshCmd": "print(var_dic_list())"
    },
    "r": {
     "delete_cmd_postfix": ") ",
     "delete_cmd_prefix": "rm(",
     "library": "var_list.r",
     "varRefreshCmd": "cat(var_dic_list()) "
    }
   },
   "types_to_exclude": [
    "module",
    "function",
    "builtin_function_or_method",
    "instance",
    "_Feature"
   ],
   "window_display": false
  }
 },
 "nbformat": 4,
 "nbformat_minor": 4
}
