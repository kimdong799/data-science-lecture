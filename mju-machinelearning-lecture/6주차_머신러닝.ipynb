{
 "cells": [
  {
   "cell_type": "markdown",
   "metadata": {},
   "source": [
    "### 음수가 들어올 때까지 숫자를 계속 읽어서 리스트에 저장하는 코드를 작성하시오"
   ]
  },
  {
   "cell_type": "code",
   "execution_count": 14,
   "metadata": {},
   "outputs": [],
   "source": [
    "# 음수가 들어오면 리스트를 보여주고 종료하시오"
   ]
  },
  {
   "cell_type": "code",
   "execution_count": 1,
   "metadata": {},
   "outputs": [
    {
     "name": "stdout",
     "output_type": "stream",
     "text": [
      "5\n",
      "3\n",
      "4\n",
      "-1\n"
     ]
    },
    {
     "data": {
      "text/plain": [
       "['5', '3', '4']"
      ]
     },
     "execution_count": 1,
     "metadata": {},
     "output_type": "execute_result"
    }
   ],
   "source": [
    "a = []\n",
    "while True:\n",
    "    c = input()\n",
    "    if int(c) < 0:\n",
    "        break#\n",
    "    else:\n",
    "        a.append(c)\n",
    "a"
   ]
  },
  {
   "cell_type": "markdown",
   "metadata": {},
   "source": [
    "### 반복문을 활용하여 아래를 출력해보자"
   ]
  },
  {
   "cell_type": "code",
   "execution_count": 1,
   "metadata": {},
   "outputs": [
    {
     "name": "stdout",
     "output_type": "stream",
     "text": [
      " *  *  *  *  * \n",
      " *  *  *  *  * \n",
      " *  *  *  *  * \n",
      " *  *  *  *  * \n",
      " *  *  *  *  * \n"
     ]
    }
   ],
   "source": [
    "for i in range(0,5):\n",
    "    for j in range(0,5):\n",
    "        print(' * ',end = '')\n",
    "    print('')"
   ]
  },
  {
   "cell_type": "code",
   "execution_count": 2,
   "metadata": {},
   "outputs": [
    {
     "name": "stdout",
     "output_type": "stream",
     "text": [
      " * \n",
      " *  * \n",
      " *  *  * \n",
      " *  *  *  * \n",
      " *  *  *  *  * \n"
     ]
    }
   ],
   "source": [
    "for i in range(0,5):\n",
    "    for j in range(0,i+1):\n",
    "        print(' * ',end = '')\n",
    "    print('')"
   ]
  },
  {
   "cell_type": "markdown",
   "metadata": {},
   "source": [
    "## 자연수가 들어있는, candidate_num = [10, 15, 5, 30, 25, 20]\n",
    "## 이라는 리스트가 주어졌을 때, \"최대값은 30입니다.\"\n",
    "## 라는 메세지를 출력해주는 프로그램을 작성해보자."
   ]
  },
  {
   "cell_type": "code",
   "execution_count": 1,
   "metadata": {},
   "outputs": [
    {
     "name": "stdout",
     "output_type": "stream",
     "text": [
      "최대값은 30입니다.\n"
     ]
    }
   ],
   "source": [
    "candidate_num = [10, 15, 5, 30, 25, 20]\n",
    "max = 0\n",
    "\n",
    "for num in candidate_num:\n",
    "    if num > max:\n",
    "        max = num\n",
    "    else:\n",
    "        pass\n",
    "    \n",
    "print(\"최대값은 %s입니다.\" %max)"
   ]
  },
  {
   "cell_type": "markdown",
   "metadata": {},
   "source": [
    "## 함수"
   ]
  },
  {
   "cell_type": "code",
   "execution_count": null,
   "metadata": {},
   "outputs": [],
   "source": [
    "def sum(a,b):\n",
    "    return a+b\n",
    "\n",
    "a = 3\n",
    "b = 4\n",
    "c = sum(a,b)\n",
    "print(c)"
   ]
  },
  {
   "cell_type": "code",
   "execution_count": null,
   "metadata": {},
   "outputs": [],
   "source": [
    "def sum(a,b):\n",
    "    result = a + b\n",
    "    return result\n",
    "\n",
    "a = sum(3,4)\n",
    "print(a)"
   ]
  },
  {
   "cell_type": "code",
   "execution_count": null,
   "metadata": {},
   "outputs": [],
   "source": [
    "## 입력값이 없는 함수"
   ]
  },
  {
   "cell_type": "code",
   "execution_count": null,
   "metadata": {},
   "outputs": [],
   "source": [
    "def say():\n",
    "    return \"Hello!\"\n",
    "\n",
    "a = say()\n",
    "print(a)"
   ]
  },
  {
   "cell_type": "code",
   "execution_count": 1,
   "metadata": {},
   "outputs": [
    {
     "name": "stdout",
     "output_type": "stream",
     "text": [
      "3, 4의 합은 7입니다.\n",
      "10, 100의 합은 110입니다.\n",
      "3, 4의 합은 7입니다.\n",
      "None\n"
     ]
    }
   ],
   "source": [
    "def sum(a,b):\n",
    "    print(\"%d, %d의 합은 %d입니다.\" % (a, b,a+b))\n",
    "    \n",
    "sum(3,4)\n",
    "sum(10, 100)\n",
    "\n",
    "s = sum(3,4)\n",
    "print(s)"
   ]
  },
  {
   "cell_type": "code",
   "execution_count": null,
   "metadata": {},
   "outputs": [],
   "source": [
    "def say():\n",
    "    print(\"HELLO!\")\n",
    "say()"
   ]
  },
  {
   "cell_type": "code",
   "execution_count": null,
   "metadata": {},
   "outputs": [],
   "source": [
    "## 입력값이 몇 개가 될 지 모르는 경우"
   ]
  },
  {
   "cell_type": "code",
   "execution_count": 3,
   "metadata": {},
   "outputs": [
    {
     "name": "stdout",
     "output_type": "stream",
     "text": [
      "6\n",
      "55\n"
     ]
    }
   ],
   "source": [
    "def sum_many(*args):\n",
    "    sum = 0\n",
    "    for i in args:\n",
    "        sum = sum + i\n",
    "    return sum\n",
    "\n",
    "result = sum_many(1,2,3)\n",
    "print(result)\n",
    "\n",
    "result2 = sum_many(1,2,3,4,5,6,7,8,9,10)\n",
    "print(result2)"
   ]
  },
  {
   "cell_type": "code",
   "execution_count": 4,
   "metadata": {},
   "outputs": [
    {
     "name": "stdout",
     "output_type": "stream",
     "text": [
      "15\n",
      "120\n"
     ]
    }
   ],
   "source": [
    "def sum_mul(choice, *args):\n",
    "    if choice ==\"sum\":\n",
    "        result = 0\n",
    "        for i in args:\n",
    "            result = result + i\n",
    "    elif choice == \"mul\":\n",
    "        result = 1\n",
    "        for i in args:\n",
    "            result = result * i\n",
    "    return result\n",
    "    \n",
    "result = sum_mul('sum',1,2,3,4,5)\n",
    "print(result)\n",
    "result = sum_mul('mul',1,2,3,4,5)\n",
    "print(result)"
   ]
  },
  {
   "cell_type": "code",
   "execution_count": null,
   "metadata": {},
   "outputs": [],
   "source": [
    "# 함수의 리턴값은 언제나 하나"
   ]
  },
  {
   "cell_type": "code",
   "execution_count": 2,
   "metadata": {},
   "outputs": [
    {
     "name": "stdout",
     "output_type": "stream",
     "text": [
      "(7, 12)\n",
      "7\n",
      "12\n"
     ]
    }
   ],
   "source": [
    "def sum_and_mul(a,b):\n",
    "    return a+b, a*b\n",
    "\n",
    "a = sum_and_mul(3,4)\n",
    "print(a)\n",
    "\n",
    "sum, mul = sum_and_mul(3,4)\n",
    "print(sum)\n",
    "print(mul)"
   ]
  },
  {
   "cell_type": "code",
   "execution_count": null,
   "metadata": {},
   "outputs": [],
   "source": [
    "type(a)"
   ]
  },
  {
   "cell_type": "code",
   "execution_count": null,
   "metadata": {},
   "outputs": [],
   "source": [
    "# return 문을 이용해서 함수 빠져나가기"
   ]
  },
  {
   "cell_type": "code",
   "execution_count": null,
   "metadata": {},
   "outputs": [],
   "source": [
    "def say_nick(nick):\n",
    "    if nick == \"바보\":\n",
    "        return\n",
    "    print(\"나의 별명은 %s 입니다.\" % nick)"
   ]
  },
  {
   "cell_type": "code",
   "execution_count": null,
   "metadata": {},
   "outputs": [],
   "source": [
    "# 입력 인자의 초기값 설정하기"
   ]
  },
  {
   "cell_type": "code",
   "execution_count": null,
   "metadata": {},
   "outputs": [],
   "source": [
    "# 항상 변하는 것이 아니라 가끔 변하는 입력 인자에 대해서 따로 설정하지 않으면 적용되는 초기갑(default value)를 설정"
   ]
  },
  {
   "cell_type": "code",
   "execution_count": null,
   "metadata": {},
   "outputs": [],
   "source": [
    "def say_myself(name, old, gender =1):\n",
    "    print(\"나의 이름은 %s 입니다.\" % name)\n",
    "    print(\"나이는 %d살입니다.\" % old)\n",
    "    if gender:\n",
    "        print(\"남자입니다.\")\n",
    "    else:\n",
    "        print(\"여자입니다.\")\n",
    "        \n",
    "say_myself(\"홍길동\", 27)\n",
    "say_myself(\"홍길동\", 27, 1)\n",
    "say_myself(\"홍길동\", 27, 0)"
   ]
  },
  {
   "cell_type": "code",
   "execution_count": null,
   "metadata": {},
   "outputs": [],
   "source": [
    "# 함수 내에서 선언된 변수의 효력 범위"
   ]
  },
  {
   "cell_type": "code",
   "execution_count": null,
   "metadata": {},
   "outputs": [],
   "source": [
    "#함수 안에서 만들어지는 변수는 함수 안에서만 쓰여지는 변수이다!"
   ]
  },
  {
   "cell_type": "code",
   "execution_count": null,
   "metadata": {},
   "outputs": [],
   "source": [
    "a = 1\n",
    "\n",
    "def vartest(a):\n",
    "    a = a+1\n",
    "    \n",
    "vartest(a)\n",
    "print(a)"
   ]
  },
  {
   "cell_type": "code",
   "execution_count": null,
   "metadata": {},
   "outputs": [],
   "source": [
    "def vartest(q):\n",
    "    q = q+1\n",
    "    \n",
    "vartest(3)\n",
    "print(q)"
   ]
  },
  {
   "cell_type": "code",
   "execution_count": null,
   "metadata": {},
   "outputs": [],
   "source": [
    "# 함수 예제"
   ]
  },
  {
   "cell_type": "markdown",
   "metadata": {},
   "source": [
    "# a,b 두개의 숫자를 받아서  \"sum\", \"sub\", \"mul\", \"div\"를 값으로 하는 \"cal\" 이라는 입력 인자에 따라서 더하기 빼기 곱하기 나누기를 수행하여 결과를 돌려주는 calculator 함수를 작성해보자"
   ]
  },
  {
   "cell_type": "code",
   "execution_count": 1,
   "metadata": {},
   "outputs": [
    {
     "name": "stdout",
     "output_type": "stream",
     "text": [
      "2\n",
      "3\n"
     ]
    },
    {
     "data": {
      "text/plain": [
       "5"
      ]
     },
     "execution_count": 1,
     "metadata": {},
     "output_type": "execute_result"
    }
   ],
   "source": [
    "def calculator(x,y,cal):\n",
    "    if(cal == 'sum'):\n",
    "        return x+y\n",
    "    elif(cal == 'mul'):\n",
    "        return x*y\n",
    "    elif(cal == 'div'):\n",
    "        return x/y\n",
    "    else:\n",
    "        return x-y\n",
    "\n",
    "a = int(input())\n",
    "b = int(input())\n",
    "cal = 'sum'\n",
    "calculator(a,b,cal)"
   ]
  },
  {
   "cell_type": "code",
   "execution_count": 7,
   "metadata": {},
   "outputs": [
    {
     "name": "stdout",
     "output_type": "stream",
     "text": [
      "최소값은 1 입니다.\n"
     ]
    }
   ],
   "source": [
    "nums = [2,4,1,3,5]\n",
    "\n",
    "def min_num():\n",
    "    min = 999\n",
    "    for i in nums:\n",
    "        if i < min:\n",
    "            min = i\n",
    "    return min\n",
    "\n",
    "print('최소값은 %s 입니다.'%min_num())"
   ]
  },
  {
   "cell_type": "code",
   "execution_count": null,
   "metadata": {},
   "outputs": [],
   "source": [
    "## 난수 함수(과제 수행을 위해 숙지)"
   ]
  },
  {
   "cell_type": "code",
   "execution_count": null,
   "metadata": {},
   "outputs": [],
   "source": [
    "## random() 함수를 이용\n",
    "## 0부터 1사이의 수를 반환"
   ]
  },
  {
   "cell_type": "code",
   "execution_count": 4,
   "metadata": {},
   "outputs": [],
   "source": [
    "import random as r"
   ]
  },
  {
   "cell_type": "code",
   "execution_count": null,
   "metadata": {},
   "outputs": [],
   "source": [
    "random.random()"
   ]
  },
  {
   "cell_type": "code",
   "execution_count": null,
   "metadata": {},
   "outputs": [],
   "source": [
    "r.random()"
   ]
  },
  {
   "cell_type": "code",
   "execution_count": null,
   "metadata": {},
   "outputs": [],
   "source": [
    "r.randrange(1,11)"
   ]
  },
  {
   "cell_type": "code",
   "execution_count": null,
   "metadata": {},
   "outputs": [],
   "source": [
    "lotto = r.randrange(1,46)"
   ]
  },
  {
   "cell_type": "code",
   "execution_count": null,
   "metadata": {},
   "outputs": [],
   "source": [
    "lotto"
   ]
  },
  {
   "cell_type": "code",
   "execution_count": null,
   "metadata": {},
   "outputs": [],
   "source": [
    "lotto * 6"
   ]
  },
  {
   "cell_type": "markdown",
   "metadata": {},
   "source": [
    "### 과제 1 겹치지 않는 로또 번호 6자리를 함수를 이용하여 작성하시오"
   ]
  },
  {
   "cell_type": "code",
   "execution_count": 7,
   "metadata": {
    "scrolled": true
   },
   "outputs": [
    {
     "name": "stdout",
     "output_type": "stream",
     "text": [
      "[2, 6, 17, 30, 37, 42]\n"
     ]
    }
   ],
   "source": [
    "import random as r\n",
    "\n",
    "def lotto():\n",
    "    return r.randrange(1,46)\n",
    "\n",
    "lotto_list = []\n",
    "\n",
    "while len(lotto_list) < 6:\n",
    "    lotto_num = lotto()\n",
    "    if lotto_num not in lotto_list:\n",
    "        lotto_list.append(lotto_num)\n",
    "        \n",
    "lotto_list.sort()\n",
    "print(lotto_list)"
   ]
  },
  {
   "cell_type": "code",
   "execution_count": null,
   "metadata": {},
   "outputs": [],
   "source": [
    "## 과제 2 프로그램을 실행시키면 1에서 45사이의 여섯개의 번호를 입력하라는 메세지가 뜨며 사용자로부터 이를 입력받는다.\n",
    "## 사용자가 여섯개의 수를 입력하면 컴퓨터가 추출한 여섯 개의 수를 보여주며 이 중 몇개를 맞추었는지 보여주고 순위를 알려준다.\n",
    "## 실제로 순위에 들기는 확률적으로 매우 어려우므로 테스트시 1부터 45가 아니라 1부터 15로 한다.\n",
    "### [보너스] 1등의 숫자와 하나가 다르고 보너스번호가 맞는 경우 아차상이 출력되도록한다.\n",
    "### 짝수가 홀수보다 높은 확률로 추출될 수 있도록 한다.(주석으로 코드를 설명할 것)"
   ]
  },
  {
   "cell_type": "markdown",
   "metadata": {},
   "source": [
    " "
   ]
  },
  {
   "cell_type": "code",
   "execution_count": 64,
   "metadata": {},
   "outputs": [
    {
     "name": "stdout",
     "output_type": "stream",
     "text": [
      "[11, 28, 36, 40, 41, 45]\n"
     ]
    },
    {
     "data": {
      "text/plain": [
       "list"
      ]
     },
     "execution_count": 64,
     "metadata": {},
     "output_type": "execute_result"
    }
   ],
   "source": [
    "import random as r\n",
    "\n",
    "def lotto():\n",
    "    return r.randrange(1,46)\n",
    "\n",
    "lotto_list = []\n",
    "\n",
    "while len(lotto_list) < 6:\n",
    "    lotto_list_num = lotto()\n",
    "    if lotto_list_num not in lotto_list:\n",
    "        lotto_list.append(lotto_list_num)\n",
    "        \n",
    "lotto_list.sort()\n",
    "print(lotto_list)"
   ]
  },
  {
   "cell_type": "markdown",
   "metadata": {},
   "source": [
    "### 머신러닝 WEEK 6 개인톡 과제 60161051 김동현"
   ]
  },
  {
   "cell_type": "code",
   "execution_count": 1,
   "metadata": {
    "scrolled": false
   },
   "outputs": [
    {
     "name": "stdout",
     "output_type": "stream",
     "text": [
      "1부터 15까지의 숫자를 6개 입력하세요.1\n",
      "1부터 15까지의 숫자를 6개 입력하세요.2\n",
      "1부터 15까지의 숫자를 6개 입력하세요.3\n",
      "1부터 15까지의 숫자를 6개 입력하세요.4\n",
      "1부터 15까지의 숫자를 6개 입력하세요.5\n",
      "1부터 15까지의 숫자를 6개 입력하세요.6\n",
      "보너스 번호 숫자를 1개 입력하세요.7\n",
      "$당신의 로또 번호는 [1, 2, 3, 4, 5, 6] 입니다.$\n",
      "$당신의 로또 보너스 번호는 [7] 입니다.$\n",
      "★이번 로또 당첨번호는 [2, 4, 6, 10, 12, 15] 입니다!★\n",
      "★이번 보너스 당첨번호는 [2] 입니다!★\n",
      "3 0\n",
      "축하합니다. 4등입니다.\n"
     ]
    }
   ],
   "source": [
    "import random as r\n",
    "\n",
    "input_lotto = [] #입력한 로또번호 6개를 input_lotto라는 리스트 변수로 저장한다.\n",
    "input_count = 0\n",
    "while input_count < 6:\n",
    "    input_lotto_num = int(input(\"1부터 15까지의 숫자를 6개 입력하세요.\"))\n",
    "    input_lotto.append(input_lotto_num)\n",
    "    input_count += 1\n",
    "\n",
    "\n",
    "input_bonus = [] #입력한 보너스 번호 1개를 input_bonus라는 리스토 변수로 저장한다.\n",
    "input_bonus_num = int(input(\"보너스 번호 숫자를 1개 입력하세요.\"))\n",
    "input_bonus.append(input_bonus_num)\n",
    "\n",
    "print(\"$당신의 로또 번호는\", input_lotto,\"입니다.$\")\n",
    "print(\"$당신의 로또 보너스 번호는\", input_bonus,\"입니다.$\")\n",
    "\n",
    "\n",
    "def lotto(): # import random 을 이용한 1~15까지의 난수 출력 함수\n",
    "    return r.randrange(1,16)\n",
    "\n",
    "lotto_list = []\n",
    "\n",
    "while len(lotto_list) < 6: # 1부터 15까지의 출력한 난수 6개를 겹치지 않도록 설정한다.\n",
    "    lotto_list_num = lotto()\n",
    "    if lotto_list_num not in lotto_list:\n",
    "        lotto_list.append(lotto_list_num)\n",
    "        \n",
    "lotto_list.sort() # 출력한 겹치지 않는 6개의 난수를 오름차순으로 정렬한다.\n",
    "print(\"★이번 로또 당첨번호는\", lotto_list,\"입니다!★\")\n",
    "\n",
    "def bonus_oddnum(): # 홀수 보너스 함수 (1부터 15까지의 난수 중 홀수만 출력한다.)\n",
    "    return r.randrange(1, 16, 2)\n",
    "\n",
    "def bonus_evennum(): # 짝수 보너스 함수 (2부터 15까지의 난수 중 짝수만 출력한다.)\n",
    "    return r.randrange(2, 16, 2)\n",
    "\n",
    "bonus_num = []\n",
    "\n",
    "a = r.randrange(2,5)  # a라는 변수에 2, 3, 4  즉 짝수가 나올 확률이 2/3 홀수가 나올 확률이 3/1로 설정하고 저장한다.\n",
    "    \n",
    "if (a % 2 == 0):  \n",
    "    b = bonus_evennum() # a라는 변수가 2로 나누어 떨어지는 짝수라면 위의 짝수 함수를 이용한다.\n",
    "    if b not in bonus_num:\n",
    "        bonus_num.append(b)\n",
    "else:\n",
    "    c = bonus_oddnum() # a라는 변수가 2로 나누어 떨어지지 않는 홀수라면 위의 홀수 함수를 이용한다.\n",
    "    if c not in bonus_num:\n",
    "        bonus_num.append(c)\n",
    "        \n",
    "            # 정리하자면 a라는 값을 2,3,4 중에서 난수를 출력하는데 2/3의 확률로 짝수를, 1/3 확률로 홀수가 나오게 설정한다.\n",
    "            # 이때 a값이 짝수라면 위의 짝수 난수를 출력하는 함수를 사용한다.\n",
    "            # 반대로 a값이 홀수라면 위의 홀수 난수를 출력하는 함수를 사용한다.\n",
    "            # 함수 자체만 보면 홀수 혹은 짝수만 출력하지만 a라는 값을 통해 그 홀수, 짝수 모두 출력이 가능하다.\n",
    "\n",
    "print(\"★이번 보너스 당첨번호는\", bonus_num,\"입니다!★\")\n",
    "\n",
    "\n",
    "# point 라는 변수를 사용하여 당첨된 로또번호 한개당 포인트가 1점씩 증가하도록 설정한다.\n",
    " \n",
    "point = 0 \n",
    "for i in range(0,len(lotto_list)):\n",
    "    for j in range(0,len(input_lotto)):\n",
    "        if lotto_list[i] == input_lotto[j]:\n",
    "            point += 1\n",
    "\n",
    "# bonus_point 라는 변수를 사용하여 보너스 포인트가 당첨되면 포인트를 1로 변환한다.        \n",
    "\n",
    "bonus_point = 0\n",
    "for i in range(0,len(input_bonus)):\n",
    "    for j in range(0,len(bonus_num)):\n",
    "        if input_bonus[i] == bonus_num[j]:\n",
    "            bonus_point = 1\n",
    "        \n",
    "print(point, bonus_point)\n",
    "\n",
    "# if문을 사용하여 point, bonus_point의 값에 따라 출력한다.\n",
    "\n",
    "if point == 6:\n",
    "    print(\"축하합니다. 1등입니다\")\n",
    "elif point ==5:\n",
    "        print(\"축하합니다. 2등입니다.\")\n",
    "elif point == 4:\n",
    "        print(\"축하합니다. 3등입니다.\")\n",
    "elif point == 3:\n",
    "        print(\"축하합니다. 4등입니다.\")\n",
    "elif point == 2:\n",
    "        print(\"축하합니다. 5등입니다.\")\n",
    "elif point == 1:\n",
    "        print(\"축하합니다. 6등입니다.\")\n",
    "elif bonus_point ==1 and point == 5:\n",
    "        print(\"축하합니다. 아차상입니다.\")\n",
    "else:\n",
    "    print(\"유감이지만 꽝입니다\")"
   ]
  },
  {
   "cell_type": "code",
   "execution_count": null,
   "metadata": {},
   "outputs": [],
   "source": []
  }
 ],
 "metadata": {
  "kernelspec": {
   "display_name": "Python 3",
   "language": "python",
   "name": "python3"
  },
  "language_info": {
   "codemirror_mode": {
    "name": "ipython",
    "version": 3
   },
   "file_extension": ".py",
   "mimetype": "text/x-python",
   "name": "python",
   "nbconvert_exporter": "python",
   "pygments_lexer": "ipython3",
   "version": "3.7.6"
  }
 },
 "nbformat": 4,
 "nbformat_minor": 4
}
