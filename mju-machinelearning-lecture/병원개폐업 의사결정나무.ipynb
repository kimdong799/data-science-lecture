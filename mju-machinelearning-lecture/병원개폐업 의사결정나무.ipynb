{
 "cells": [
  {
   "cell_type": "markdown",
   "metadata": {},
   "source": [
    "# 병원 재무데이터와 머신러닝을 이용한 병원 개업/폐업 분류 예측"
   ]
  },
  {
   "cell_type": "code",
   "execution_count": 108,
   "metadata": {
    "ExecuteTime": {
     "end_time": "2021-03-01T03:41:43.885698Z",
     "start_time": "2021-03-01T03:41:43.877710Z"
    }
   },
   "outputs": [],
   "source": [
    "import pandas as pd\n",
    "import numpy as np\n",
    "import sklearn"
   ]
  },
  {
   "cell_type": "code",
   "execution_count": 109,
   "metadata": {
    "ExecuteTime": {
     "end_time": "2021-03-01T03:41:44.245637Z",
     "start_time": "2021-03-01T03:41:44.200757Z"
    }
   },
   "outputs": [],
   "source": [
    "train = pd.read_csv(\"../data/병원개폐업분류/train.csv\")\n",
    "test = pd.read_csv(\"../data/병원개폐업분류/test.csv\")"
   ]
  },
  {
   "cell_type": "code",
   "execution_count": 110,
   "metadata": {
    "ExecuteTime": {
     "end_time": "2021-03-01T03:41:44.701890Z",
     "start_time": "2021-03-01T03:41:44.689923Z"
    }
   },
   "outputs": [
    {
     "name": "stdout",
     "output_type": "stream",
     "text": [
      "(301, 58) (127, 58)\n"
     ]
    }
   ],
   "source": [
    "print(train.shape, test.shape)"
   ]
  },
  {
   "cell_type": "code",
   "execution_count": 111,
   "metadata": {
    "ExecuteTime": {
     "end_time": "2021-03-01T03:41:45.049141Z",
     "start_time": "2021-03-01T03:41:45.025205Z"
    }
   },
   "outputs": [
    {
     "name": "stdout",
     "output_type": "stream",
     "text": [
      "<class 'pandas.core.frame.DataFrame'>\n",
      "RangeIndex: 301 entries, 0 to 300\n",
      "Data columns (total 58 columns):\n",
      " #   Column              Non-Null Count  Dtype  \n",
      "---  ------              --------------  -----  \n",
      " 0   inst_id             301 non-null    int64  \n",
      " 1   OC                  301 non-null    object \n",
      " 2   sido                301 non-null    object \n",
      " 3   sgg                 301 non-null    int64  \n",
      " 4   openDate            301 non-null    int64  \n",
      " 5   bedCount            296 non-null    float64\n",
      " 6   instkind            300 non-null    object \n",
      " 7   revenue1            293 non-null    float64\n",
      " 8   salescost1          293 non-null    float64\n",
      " 9   sga1                293 non-null    float64\n",
      " 10  salary1             293 non-null    float64\n",
      " 11  noi1                293 non-null    float64\n",
      " 12  noe1                293 non-null    float64\n",
      " 13  interest1           293 non-null    float64\n",
      " 14  ctax1               293 non-null    float64\n",
      " 15  profit1             293 non-null    float64\n",
      " 16  liquidAsset1        293 non-null    float64\n",
      " 17  quickAsset1         293 non-null    float64\n",
      " 18  receivableS1        293 non-null    float64\n",
      " 19  inventoryAsset1     293 non-null    float64\n",
      " 20  nonCAsset1          293 non-null    float64\n",
      " 21  tanAsset1           293 non-null    float64\n",
      " 22  OnonCAsset1         293 non-null    float64\n",
      " 23  receivableL1        293 non-null    float64\n",
      " 24  debt1               293 non-null    float64\n",
      " 25  liquidLiabilities1  293 non-null    float64\n",
      " 26  shortLoan1          293 non-null    float64\n",
      " 27  NCLiabilities1      293 non-null    float64\n",
      " 28  longLoan1           293 non-null    float64\n",
      " 29  netAsset1           293 non-null    float64\n",
      " 30  surplus1            293 non-null    float64\n",
      " 31  revenue2            293 non-null    float64\n",
      " 32  salescost2          293 non-null    float64\n",
      " 33  sga2                293 non-null    float64\n",
      " 34  salary2             293 non-null    float64\n",
      " 35  noi2                293 non-null    float64\n",
      " 36  noe2                293 non-null    float64\n",
      " 37  interest2           293 non-null    float64\n",
      " 38  ctax2               293 non-null    float64\n",
      " 39  profit2             293 non-null    float64\n",
      " 40  liquidAsset2        293 non-null    float64\n",
      " 41  quickAsset2         293 non-null    float64\n",
      " 42  receivableS2        293 non-null    float64\n",
      " 43  inventoryAsset2     293 non-null    float64\n",
      " 44  nonCAsset2          293 non-null    float64\n",
      " 45  tanAsset2           293 non-null    float64\n",
      " 46  OnonCAsset2         293 non-null    float64\n",
      " 47  receivableL2        293 non-null    float64\n",
      " 48  debt2               293 non-null    float64\n",
      " 49  liquidLiabilities2  293 non-null    float64\n",
      " 50  shortLoan2          293 non-null    float64\n",
      " 51  NCLiabilities2      293 non-null    float64\n",
      " 52  longLoan2           293 non-null    float64\n",
      " 53  netAsset2           293 non-null    float64\n",
      " 54  surplus2            293 non-null    float64\n",
      " 55  employee1           291 non-null    float64\n",
      " 56  employee2           288 non-null    float64\n",
      " 57  ownerChange         289 non-null    object \n",
      "dtypes: float64(51), int64(3), object(4)\n",
      "memory usage: 136.5+ KB\n"
     ]
    }
   ],
   "source": [
    "train.info()"
   ]
  },
  {
   "cell_type": "code",
   "execution_count": 112,
   "metadata": {
    "ExecuteTime": {
     "end_time": "2021-03-01T03:41:46.786439Z",
     "start_time": "2021-03-01T03:41:46.744551Z"
    }
   },
   "outputs": [
    {
     "data": {
      "text/html": [
       "<div>\n",
       "<style scoped>\n",
       "    .dataframe tbody tr th:only-of-type {\n",
       "        vertical-align: middle;\n",
       "    }\n",
       "\n",
       "    .dataframe tbody tr th {\n",
       "        vertical-align: top;\n",
       "    }\n",
       "\n",
       "    .dataframe thead th {\n",
       "        text-align: right;\n",
       "    }\n",
       "</style>\n",
       "<table border=\"1\" class=\"dataframe\">\n",
       "  <thead>\n",
       "    <tr style=\"text-align: right;\">\n",
       "      <th></th>\n",
       "      <th>inst_id</th>\n",
       "      <th>OC</th>\n",
       "      <th>sido</th>\n",
       "      <th>sgg</th>\n",
       "      <th>openDate</th>\n",
       "      <th>bedCount</th>\n",
       "      <th>instkind</th>\n",
       "      <th>revenue1</th>\n",
       "      <th>salescost1</th>\n",
       "      <th>sga1</th>\n",
       "      <th>...</th>\n",
       "      <th>debt2</th>\n",
       "      <th>liquidLiabilities2</th>\n",
       "      <th>shortLoan2</th>\n",
       "      <th>NCLiabilities2</th>\n",
       "      <th>longLoan2</th>\n",
       "      <th>netAsset2</th>\n",
       "      <th>surplus2</th>\n",
       "      <th>employee1</th>\n",
       "      <th>employee2</th>\n",
       "      <th>ownerChange</th>\n",
       "    </tr>\n",
       "  </thead>\n",
       "  <tbody>\n",
       "    <tr>\n",
       "      <th>0</th>\n",
       "      <td>1</td>\n",
       "      <td>open</td>\n",
       "      <td>choongnam</td>\n",
       "      <td>73</td>\n",
       "      <td>20071228</td>\n",
       "      <td>175.0</td>\n",
       "      <td>nursing_hospital</td>\n",
       "      <td>4.217530e+09</td>\n",
       "      <td>0.0</td>\n",
       "      <td>3.961135e+09</td>\n",
       "      <td>...</td>\n",
       "      <td>7.589937e+08</td>\n",
       "      <td>2.228769e+08</td>\n",
       "      <td>0.000000e+00</td>\n",
       "      <td>5.361169e+08</td>\n",
       "      <td>3.900000e+08</td>\n",
       "      <td>2.619290e+09</td>\n",
       "      <td>1.271224e+09</td>\n",
       "      <td>62.0</td>\n",
       "      <td>64.0</td>\n",
       "      <td>same</td>\n",
       "    </tr>\n",
       "    <tr>\n",
       "      <th>1</th>\n",
       "      <td>3</td>\n",
       "      <td>open</td>\n",
       "      <td>gyeongnam</td>\n",
       "      <td>32</td>\n",
       "      <td>19970401</td>\n",
       "      <td>410.0</td>\n",
       "      <td>general_hospital</td>\n",
       "      <td>NaN</td>\n",
       "      <td>NaN</td>\n",
       "      <td>NaN</td>\n",
       "      <td>...</td>\n",
       "      <td>NaN</td>\n",
       "      <td>NaN</td>\n",
       "      <td>NaN</td>\n",
       "      <td>NaN</td>\n",
       "      <td>NaN</td>\n",
       "      <td>NaN</td>\n",
       "      <td>NaN</td>\n",
       "      <td>801.0</td>\n",
       "      <td>813.0</td>\n",
       "      <td>same</td>\n",
       "    </tr>\n",
       "    <tr>\n",
       "      <th>2</th>\n",
       "      <td>4</td>\n",
       "      <td>open</td>\n",
       "      <td>gyeonggi</td>\n",
       "      <td>89</td>\n",
       "      <td>20161228</td>\n",
       "      <td>468.0</td>\n",
       "      <td>nursing_hospital</td>\n",
       "      <td>1.004522e+09</td>\n",
       "      <td>515483669.0</td>\n",
       "      <td>4.472197e+08</td>\n",
       "      <td>...</td>\n",
       "      <td>0.000000e+00</td>\n",
       "      <td>0.000000e+00</td>\n",
       "      <td>0.000000e+00</td>\n",
       "      <td>0.000000e+00</td>\n",
       "      <td>0.000000e+00</td>\n",
       "      <td>0.000000e+00</td>\n",
       "      <td>0.000000e+00</td>\n",
       "      <td>234.0</td>\n",
       "      <td>1.0</td>\n",
       "      <td>same</td>\n",
       "    </tr>\n",
       "    <tr>\n",
       "      <th>3</th>\n",
       "      <td>7</td>\n",
       "      <td>open</td>\n",
       "      <td>incheon</td>\n",
       "      <td>141</td>\n",
       "      <td>20000814</td>\n",
       "      <td>353.0</td>\n",
       "      <td>general_hospital</td>\n",
       "      <td>7.250734e+10</td>\n",
       "      <td>0.0</td>\n",
       "      <td>7.067740e+10</td>\n",
       "      <td>...</td>\n",
       "      <td>3.775501e+10</td>\n",
       "      <td>1.701860e+10</td>\n",
       "      <td>9.219427e+09</td>\n",
       "      <td>2.073641e+10</td>\n",
       "      <td>1.510000e+10</td>\n",
       "      <td>1.295427e+10</td>\n",
       "      <td>7.740829e+09</td>\n",
       "      <td>663.0</td>\n",
       "      <td>663.0</td>\n",
       "      <td>same</td>\n",
       "    </tr>\n",
       "    <tr>\n",
       "      <th>4</th>\n",
       "      <td>9</td>\n",
       "      <td>open</td>\n",
       "      <td>gyeongnam</td>\n",
       "      <td>32</td>\n",
       "      <td>20050901</td>\n",
       "      <td>196.0</td>\n",
       "      <td>general_hospital</td>\n",
       "      <td>4.904354e+10</td>\n",
       "      <td>0.0</td>\n",
       "      <td>4.765605e+10</td>\n",
       "      <td>...</td>\n",
       "      <td>5.143259e+10</td>\n",
       "      <td>3.007259e+10</td>\n",
       "      <td>1.759375e+10</td>\n",
       "      <td>2.136001e+10</td>\n",
       "      <td>1.410803e+10</td>\n",
       "      <td>5.561941e+06</td>\n",
       "      <td>9.025550e+09</td>\n",
       "      <td>206.0</td>\n",
       "      <td>197.0</td>\n",
       "      <td>same</td>\n",
       "    </tr>\n",
       "  </tbody>\n",
       "</table>\n",
       "<p>5 rows × 58 columns</p>\n",
       "</div>"
      ],
      "text/plain": [
       "   inst_id    OC       sido  sgg  openDate  bedCount          instkind  \\\n",
       "0        1  open  choongnam   73  20071228     175.0  nursing_hospital   \n",
       "1        3  open  gyeongnam   32  19970401     410.0  general_hospital   \n",
       "2        4  open   gyeonggi   89  20161228     468.0  nursing_hospital   \n",
       "3        7  open    incheon  141  20000814     353.0  general_hospital   \n",
       "4        9  open  gyeongnam   32  20050901     196.0  general_hospital   \n",
       "\n",
       "       revenue1   salescost1          sga1  ...         debt2  \\\n",
       "0  4.217530e+09          0.0  3.961135e+09  ...  7.589937e+08   \n",
       "1           NaN          NaN           NaN  ...           NaN   \n",
       "2  1.004522e+09  515483669.0  4.472197e+08  ...  0.000000e+00   \n",
       "3  7.250734e+10          0.0  7.067740e+10  ...  3.775501e+10   \n",
       "4  4.904354e+10          0.0  4.765605e+10  ...  5.143259e+10   \n",
       "\n",
       "   liquidLiabilities2    shortLoan2  NCLiabilities2     longLoan2  \\\n",
       "0        2.228769e+08  0.000000e+00    5.361169e+08  3.900000e+08   \n",
       "1                 NaN           NaN             NaN           NaN   \n",
       "2        0.000000e+00  0.000000e+00    0.000000e+00  0.000000e+00   \n",
       "3        1.701860e+10  9.219427e+09    2.073641e+10  1.510000e+10   \n",
       "4        3.007259e+10  1.759375e+10    2.136001e+10  1.410803e+10   \n",
       "\n",
       "      netAsset2      surplus2  employee1  employee2  ownerChange  \n",
       "0  2.619290e+09  1.271224e+09       62.0       64.0         same  \n",
       "1           NaN           NaN      801.0      813.0         same  \n",
       "2  0.000000e+00  0.000000e+00      234.0        1.0         same  \n",
       "3  1.295427e+10  7.740829e+09      663.0      663.0         same  \n",
       "4  5.561941e+06  9.025550e+09      206.0      197.0         same  \n",
       "\n",
       "[5 rows x 58 columns]"
      ]
     },
     "execution_count": 112,
     "metadata": {},
     "output_type": "execute_result"
    }
   ],
   "source": [
    "train.head()"
   ]
  },
  {
   "cell_type": "code",
   "execution_count": 113,
   "metadata": {
    "ExecuteTime": {
     "end_time": "2021-03-01T03:41:47.178171Z",
     "start_time": "2021-03-01T03:41:47.159223Z"
    }
   },
   "outputs": [
    {
     "data": {
      "text/plain": [
       "Index(['inst_id', 'OC', 'sido', 'sgg', 'openDate', 'bedCount', 'instkind',\n",
       "       'revenue1', 'salescost1', 'sga1', 'salary1', 'noi1', 'noe1',\n",
       "       'interest1', 'ctax1', 'profit1', 'liquidAsset1', 'quickAsset1',\n",
       "       'receivableS1', 'inventoryAsset1', 'nonCAsset1', 'tanAsset1',\n",
       "       'OnonCAsset1', 'receivableL1', 'debt1', 'liquidLiabilities1',\n",
       "       'shortLoan1', 'NCLiabilities1', 'longLoan1', 'netAsset1', 'surplus1',\n",
       "       'revenue2', 'salescost2', 'sga2', 'salary2', 'noi2', 'noe2',\n",
       "       'interest2', 'ctax2', 'profit2', 'liquidAsset2', 'quickAsset2',\n",
       "       'receivableS2', 'inventoryAsset2', 'nonCAsset2', 'tanAsset2',\n",
       "       'OnonCAsset2', 'receivableL2', 'debt2', 'liquidLiabilities2',\n",
       "       'shortLoan2', 'NCLiabilities2', 'longLoan2', 'netAsset2', 'surplus2',\n",
       "       'employee1', 'employee2', 'ownerChange'],\n",
       "      dtype='object')"
      ]
     },
     "execution_count": 113,
     "metadata": {},
     "output_type": "execute_result"
    }
   ],
   "source": [
    "train.columns"
   ]
  },
  {
   "cell_type": "markdown",
   "metadata": {},
   "source": [
    "inst_id - 각 파일에서의 병원 고유 번호\n",
    "\n",
    "OC – 영업/폐업 분류, 2018년 폐업은 2017년 폐업으로 간주함\n",
    "\n",
    "sido – 병원의 광역 지역 정보\n",
    "\n",
    "sgg – 병원의 시군구 자료\n",
    "\n",
    "openDate – 병원 설립일\n",
    "\n",
    "bedCount - 병원이 갖추고 있는 병상의 수\n",
    "\n",
    "instkind – 병원, 의원, 요양병원, 한의원, 종합병원 등 병원의 종류\n",
    "\n",
    "·        종합병원 : 입원환자 100명 이상 수용 가능\n",
    "\n",
    "·        병원 : 입원 환자 30명 이상 100명 미만 수용 가능\n",
    "\n",
    "·        의원 : 입원 환자 30명 이하 수용 가능\n",
    "\n",
    "·        한방 병원(한의원) : 침술과 한약으로 치료하는 의료 기관.  \n",
    "\n",
    " \n",
    "\n",
    "revenue1 – 매출액, 2017(회계년도)년 데이터를 의미함\n",
    "\n",
    "salescost1 – 매출원가, 2017(회계년도)년 데이터를 의미함\n",
    "\n",
    "sga1 - 판매비와 관리비, 2017(회계년도)년 데이터를 의미함\n",
    "\n",
    "salary1 – 급여, 2017(회계년도)년 데이터를 의미함\n",
    "\n",
    "noi1 – 영업외수익, 2017(회계년도)년 데이터를 의미함\n",
    "\n",
    "noe1 – 영업외비용, 2017(회계년도)년 데이터를 의미함\n",
    "\n",
    "Interest1 – 이자비용, 2017(회계년도)년 데이터를 의미함\n",
    "\n",
    "ctax1 – 법인세비용, 2017(회계년도)년 데이터를 의미함\n",
    "\n",
    "Profit1 – 당기순이익, 2017(회계년도)년 데이터를 의미함\n",
    "\n",
    "liquidAsset1 – 유동자산, 2017(회계년도)년 데이터를 의미함\n",
    "\n",
    "quickAsset1 – 당좌자산, 2017(회계년도)년 데이터를 의미함\n",
    "\n",
    "receivableS1 - 미수금(단기), 2017(회계년도)년 데이터를 의미함\n",
    "\n",
    "inventoryAsset1 – 재고자산, 2017(회계년도)년 데이터를 의미함\n",
    "\n",
    "nonCAsset1 – 비유동자산, 2017(회계년도)년 데이터를 의미함\n",
    "\n",
    "tanAsset1 – 유형자산, 2017(회계년도)년 데이터를 의미함\n",
    "\n",
    "OnonCAsset1 - 기타 비유동자산, 2017(회계년도)년 데이터를 의미함\n",
    "\n",
    "receivableL1 – 장기미수금, 2017(회계년도)년 데이터를 의미함\n",
    "\n",
    "debt1 – 부채총계, 2017(회계년도)년 데이터를 의미함\n",
    "\n",
    "liquidLiabilities1 – 유동부채, 2017(회계년도)년 데이터를 의미함\n",
    "\n",
    "shortLoan1 – 단기차입금, 2017(회계년도)년 데이터를 의미함\n",
    "\n",
    "NCLiabilities1 – 비유동부채, 2017(회계년도)년 데이터를 의미함\n",
    "\n",
    "longLoan1 – 장기차입금, 2017(회계년도)년 데이터를 의미함\n",
    "\n",
    "netAsset1 – 순자산총계, 2017(회계년도)년 데이터를 의미함\n",
    "\n",
    "surplus1 – 이익잉여금, 2017(회계년도)년 데이터를 의미함"
   ]
  },
  {
   "cell_type": "markdown",
   "metadata": {},
   "source": [
    "# 모델링"
   ]
  },
  {
   "cell_type": "markdown",
   "metadata": {},
   "source": [
    "## Data split"
   ]
  },
  {
   "cell_type": "code",
   "execution_count": 114,
   "metadata": {
    "ExecuteTime": {
     "end_time": "2021-03-01T03:41:49.447433Z",
     "start_time": "2021-03-01T03:41:49.437431Z"
    }
   },
   "outputs": [],
   "source": [
    "train = train.dropna(axis=0)\n",
    "#test = test.dropna(axis=0)"
   ]
  },
  {
   "cell_type": "code",
   "execution_count": 115,
   "metadata": {
    "ExecuteTime": {
     "end_time": "2021-03-01T03:41:49.700452Z",
     "start_time": "2021-03-01T03:41:49.687491Z"
    }
   },
   "outputs": [],
   "source": [
    "train_prepared = train[[ 'sgg', 'openDate', 'bedCount', 'revenue1',\n",
    "       'salescost1', 'sga1', 'salary1', 'noi1', 'noe1', 'interest1', 'ctax1',\n",
    "       'profit1', 'liquidAsset1', 'quickAsset1', 'receivableS1',\n",
    "       'inventoryAsset1', 'nonCAsset1', 'tanAsset1', 'OnonCAsset1',\n",
    "       'receivableL1', 'debt1', 'liquidLiabilities1', 'shortLoan1',\n",
    "       'NCLiabilities1', 'longLoan1', 'netAsset1', 'surplus1', 'revenue2',\n",
    "       'salescost2', 'sga2', 'salary2', 'noi2', 'noe2', 'interest2', 'ctax2',\n",
    "       'profit2', 'liquidAsset2', 'quickAsset2', 'receivableS2',\n",
    "       'inventoryAsset2', 'nonCAsset2', 'tanAsset2', 'OnonCAsset2',\n",
    "       'receivableL2', 'debt2', 'liquidLiabilities2', 'shortLoan2',\n",
    "       'NCLiabilities2', 'longLoan2', 'netAsset2', 'surplus2', 'employee1',\n",
    "       'employee2']]\n",
    "\n",
    "train_label = train[\"OC\"]"
   ]
  },
  {
   "cell_type": "code",
   "execution_count": null,
   "metadata": {},
   "outputs": [],
   "source": []
  },
  {
   "cell_type": "code",
   "execution_count": 116,
   "metadata": {
    "ExecuteTime": {
     "end_time": "2021-03-01T03:41:50.571020Z",
     "start_time": "2021-03-01T03:41:50.564005Z"
    }
   },
   "outputs": [
    {
     "name": "stdout",
     "output_type": "stream",
     "text": [
      "X_train 크기: (193, 53)\n",
      "y_train 크기: (193,)\n",
      "X_test 크기: (84, 53)\n",
      "y_test 크기: (84,)\n"
     ]
    }
   ],
   "source": [
    "from sklearn.model_selection import train_test_split\n",
    "\n",
    "X_train, X_test, y_train, y_test = train_test_split(train_prepared, train_label, test_size=0.3, random_state=0)\n",
    "\n",
    "print(\"X_train 크기:\", X_train.shape)\n",
    "print(\"y_train 크기:\", y_train.shape)\n",
    "print(\"X_test 크기:\", X_test.shape)\n",
    "print(\"y_test 크기:\", y_test.shape)"
   ]
  },
  {
   "cell_type": "code",
   "execution_count": 117,
   "metadata": {
    "ExecuteTime": {
     "end_time": "2021-03-01T03:41:50.966131Z",
     "start_time": "2021-03-01T03:41:50.949177Z"
    }
   },
   "outputs": [],
   "source": [
    "import os\n",
    "os.environ['PATH'] += os.pathsep + 'C:/Program Files (x86)/Graphviz2.38/bin/'"
   ]
  },
  {
   "cell_type": "code",
   "execution_count": 118,
   "metadata": {
    "ExecuteTime": {
     "end_time": "2021-03-01T03:41:51.439938Z",
     "start_time": "2021-03-01T03:41:51.428968Z"
    }
   },
   "outputs": [],
   "source": [
    "from IPython.display import Image\n",
    "import pydotplus\n",
    "import graphviz"
   ]
  },
  {
   "cell_type": "code",
   "execution_count": 119,
   "metadata": {
    "ExecuteTime": {
     "end_time": "2021-03-01T03:41:51.722739Z",
     "start_time": "2021-03-01T03:41:51.717753Z"
    }
   },
   "outputs": [
    {
     "data": {
      "text/plain": [
       "(0,)"
      ]
     },
     "execution_count": 119,
     "metadata": {},
     "output_type": "execute_result"
    }
   ],
   "source": [
    "test_label.shape"
   ]
  },
  {
   "cell_type": "code",
   "execution_count": 120,
   "metadata": {
    "ExecuteTime": {
     "end_time": "2021-03-01T03:41:52.067787Z",
     "start_time": "2021-03-01T03:41:52.042819Z"
    }
   },
   "outputs": [
    {
     "name": "stdout",
     "output_type": "stream",
     "text": [
      "훈련 데이터 결과: 1.0\n",
      "검증 데이터 결과: 0.9404761904761905\n"
     ]
    }
   ],
   "source": [
    "from sklearn.tree import DecisionTreeClassifier\n",
    "\n",
    "tree = DecisionTreeClassifier(random_state=0)\n",
    "tree.fit(X_train, y_train)\n",
    "\n",
    "print(\"훈련 데이터 결과:\", tree.score(X_train, y_train))\n",
    "print(\"검증 데이터 결과:\", tree.score(X_test, y_test))\n",
    "# 훈련 데이터 정확도가 검증 데이터보다 높은 경우에는 overfiting의 문제 있을 수 있음\n",
    "# 이 경우는 둘다 높기 때문에 문제 X"
   ]
  },
  {
   "cell_type": "code",
   "execution_count": 121,
   "metadata": {
    "ExecuteTime": {
     "end_time": "2021-03-01T03:41:52.416856Z",
     "start_time": "2021-03-01T03:41:52.406883Z"
    }
   },
   "outputs": [],
   "source": [
    "from sklearn.tree import export_graphviz\n",
    "\n",
    "# Create DOT data\n",
    "dot_data = export_graphviz(tree, out_file=None,\n",
    "                          class_names=train['OC'].unique(),\n",
    "                          feature_names=train_prepared.columns,\n",
    "                          impurity=False,\n",
    "                          filled=True)"
   ]
  },
  {
   "cell_type": "code",
   "execution_count": 122,
   "metadata": {
    "ExecuteTime": {
     "end_time": "2021-03-01T03:41:53.895539Z",
     "start_time": "2021-03-01T03:41:52.837907Z"
    }
   },
   "outputs": [
    {
     "data": {
      "image/png": "[encoded data removed]",
      "text/plain": [
       "<IPython.core.display.Image object>"
      ]
     },
     "execution_count": 122,
     "metadata": {},
     "output_type": "execute_result"
    }
   ],
   "source": [
    "graph = pydotplus.graph_from_dot_data(dot_data) # Draw graph\n",
    "Image(graph.create_png()) "
   ]
  },
  {
   "cell_type": "code",
   "execution_count": null,
   "metadata": {},
   "outputs": [],
   "source": []
  },
  {
   "cell_type": "code",
   "execution_count": 123,
   "metadata": {
    "ExecuteTime": {
     "end_time": "2021-03-01T03:42:04.162702Z",
     "start_time": "2021-03-01T03:42:04.138803Z"
    }
   },
   "outputs": [
    {
     "name": "stdout",
     "output_type": "stream",
     "text": [
      "훈련 데이터 결과: 0.9792746113989638\n",
      "검증 데이터 결과: 0.9642857142857143\n"
     ]
    }
   ],
   "source": [
    "tree2 = DecisionTreeClassifier(max_depth=2, random_state=0)\n",
    "tree2.fit(X_train, y_train)\n",
    "\n",
    "# max_depth는 가지치기 했다는 뜻\n",
    "# 검증 데이터 결과가 올라갔다면 과적합 문제 해소되었다는 뜻\n",
    "# 이 경우에 가지치기 효과 X\n",
    "\n",
    "print(\"훈련 데이터 결과:\", tree2.score(X_train, y_train))\n",
    "print(\"검증 데이터 결과:\", tree2.score(X_test, y_test))"
   ]
  },
  {
   "cell_type": "code",
   "execution_count": 129,
   "metadata": {
    "ExecuteTime": {
     "end_time": "2021-03-01T03:42:52.071050Z",
     "start_time": "2021-03-01T03:42:52.056052Z"
    }
   },
   "outputs": [],
   "source": [
    "dot_data = export_graphviz(tree2, out_file=None,\n",
    "                          class_names=train['OC'].unique(),\n",
    "                          feature_names=X_train.columns,\n",
    "                          impurity=False,\n",
    "                          filled=True)"
   ]
  },
  {
   "cell_type": "code",
   "execution_count": 130,
   "metadata": {
    "ExecuteTime": {
     "end_time": "2021-03-01T03:42:54.249191Z",
     "start_time": "2021-03-01T03:42:53.721915Z"
    }
   },
   "outputs": [
    {
     "data": {
      "image/png": "[encoded data removed]",
      "text/plain": [
       "<IPython.core.display.Image object>"
      ]
     },
     "execution_count": 130,
     "metadata": {},
     "output_type": "execute_result"
    }
   ],
   "source": [
    "graph = pydotplus.graph_from_dot_data(dot_data) # Draw graph\n",
    "Image(graph.create_png())"
   ]
  },
  {
   "cell_type": "code",
   "execution_count": 156,
   "metadata": {
    "ExecuteTime": {
     "end_time": "2021-03-01T03:56:27.328227Z",
     "start_time": "2021-03-01T03:56:27.321289Z"
    }
   },
   "outputs": [
    {
     "data": {
      "text/plain": [
       "array(['open', 'open', 'open', 'open', 'open', 'open', 'open', 'open',\n",
       "       'open', 'open', 'open', 'open', 'open', 'open', 'open', 'open',\n",
       "       'open', 'open', 'open', 'open', 'open', 'open', 'open', 'open',\n",
       "       'open', 'open', 'open', 'open', 'open', 'open', ' close', 'open',\n",
       "       'open', 'open', 'open', 'open', 'open', 'open', 'open', 'open',\n",
       "       'open', 'open', 'open', 'open', 'open', 'open', 'open', 'open',\n",
       "       'open', 'open', ' close', 'open', 'open', 'open', 'open', 'open',\n",
       "       'open', 'open', 'open', 'open', 'open', 'open', 'open', 'open',\n",
       "       'open', 'open', 'open', 'open', 'open', 'open', 'open', 'open',\n",
       "       'open', 'open', 'open', 'open', 'open', 'open', 'open', 'open',\n",
       "       'open', 'open', 'open', 'open'], dtype=object)"
      ]
     },
     "execution_count": 156,
     "metadata": {},
     "output_type": "execute_result"
    }
   ],
   "source": [
    "tree2.predict(X_test[:])"
   ]
  },
  {
   "cell_type": "code",
   "execution_count": 157,
   "metadata": {
    "ExecuteTime": {
     "end_time": "2021-03-01T03:56:37.473192Z",
     "start_time": "2021-03-01T03:56:37.457274Z"
    }
   },
   "outputs": [
    {
     "data": {
      "text/plain": [
       "open      83\n",
       " close     1\n",
       "Name: OC, dtype: int64"
      ]
     },
     "execution_count": 157,
     "metadata": {},
     "output_type": "execute_result"
    }
   ],
   "source": [
    "y_test.value_counts()"
   ]
  },
  {
   "cell_type": "code",
   "execution_count": null,
   "metadata": {},
   "outputs": [],
   "source": []
  },
  {
   "cell_type": "code",
   "execution_count": 23,
   "metadata": {},
   "outputs": [
    {
     "data": {
      "text/plain": [
       "True"
      ]
     },
     "execution_count": 23,
     "metadata": {},
     "output_type": "execute_result"
    }
   ],
   "source": [
    "# Create .png & pdf.files\n",
    "graph.write_png('../data/병원개폐업분류/hospital.png')\n",
    "graph.write_pdf('../data/병원개폐업분류/hospital.pdf')"
   ]
  },
  {
   "cell_type": "code",
   "execution_count": null,
   "metadata": {},
   "outputs": [],
   "source": []
  }
 ],
 "metadata": {
  "kernelspec": {
   "display_name": "Python 3",
   "language": "python",
   "name": "python3"
  },
  "language_info": {
   "codemirror_mode": {
    "name": "ipython",
    "version": 3
   },
   "file_extension": ".py",
   "mimetype": "text/x-python",
   "name": "python",
   "nbconvert_exporter": "python",
   "pygments_lexer": "ipython3",
   "version": "3.7.6"
  },
  "toc": {
   "base_numbering": 1,
   "nav_menu": {},
   "number_sections": true,
   "sideBar": true,
   "skip_h1_title": false,
   "title_cell": "Table of Contents",
   "title_sidebar": "Contents",
   "toc_cell": false,
   "toc_position": {},
   "toc_section_display": true,
   "toc_window_display": false
  },
  "varInspector": {
   "cols": {
    "lenName": 16,
    "lenType": 16,
    "lenVar": 40
   },
   "kernels_config": {
    "python": {
     "delete_cmd_postfix": "",
     "delete_cmd_prefix": "del ",
     "library": "var_list.py",
     "varRefreshCmd": "print(var_dic_list())"
    },
    "r": {
     "delete_cmd_postfix": ") ",
     "delete_cmd_prefix": "rm(",
     "library": "var_list.r",
     "varRefreshCmd": "cat(var_dic_list()) "
    }
   },
   "types_to_exclude": [
    "module",
    "function",
    "builtin_function_or_method",
    "instance",
    "_Feature"
   ],
   "window_display": false
  }
 },
 "nbformat": 4,
 "nbformat_minor": 4
}
