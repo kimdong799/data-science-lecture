{
 "cells": [
  {
   "cell_type": "markdown",
   "metadata": {},
   "source": [
    "# if문 예제  index, 리스트 원소 변경"
   ]
  },
  {
   "cell_type": "markdown",
   "metadata": {},
   "source": [
    "### index와 리스트 값 수정 방법 사용"
   ]
  },
  {
   "cell_type": "code",
   "execution_count": 1,
   "metadata": {},
   "outputs": [
    {
     "name": "stdout",
     "output_type": "stream",
     "text": [
      "['like', 'poitive', 'happy']\n"
     ]
    }
   ],
   "source": [
    "# if 문 예제\n",
    "# words = ['like','poitive','unhappy']\n",
    "# 부정적인 단어가 있으면 긍정적인 단어로 변경하는 코드 작성\n",
    "\n",
    "words = ['like','poitive','unhappy']\n",
    "\n",
    "if \"unlike\" in words:\n",
    "    a = words.index(\"unlike\")\n",
    "    words[a]=\"like\"\n",
    "elif \"negative\" in words:\n",
    "    b = words.index(\"negative\")\n",
    "    words[b]=\"positive\"\n",
    "elif \"unhappy\" in words:\n",
    "    c = words.index(\"unhappy\")\n",
    "    words[c]=\"happy\"\n",
    "print(words)\n",
    "\n",
    "# index를 이용\n",
    "# words.index(\"unhappy\") = 2 를 반환\n",
    "# words[2] = \"like\"  => words리스트의 3번째 원소를 \"like\"로 수정"
   ]
  },
  {
   "cell_type": "code",
   "execution_count": 7,
   "metadata": {},
   "outputs": [
    {
     "data": {
      "text/plain": [
       "1"
      ]
     },
     "execution_count": 7,
     "metadata": {},
     "output_type": "execute_result"
    }
   ],
   "source": [
    "a = [1,2,3,4,5]\n",
    "a.count(4)"
   ]
  },
  {
   "cell_type": "markdown",
   "metadata": {},
   "source": [
    "# split() 사용 예제"
   ]
  },
  {
   "cell_type": "code",
   "execution_count": 11,
   "metadata": {},
   "outputs": [
    {
     "data": {
      "text/plain": [
       "list"
      ]
     },
     "execution_count": 11,
     "metadata": {},
     "output_type": "execute_result"
    }
   ],
   "source": [
    "홍길동_주민등록번호 = \"881120-1068234\"\n",
    "홍길동_주민등록번호 = 홍길동_주민등록번호.split('-')\n",
    "type(홍길동_주민등록번호)"
   ]
  },
  {
   "cell_type": "code",
   "execution_count": 15,
   "metadata": {
    "scrolled": true
   },
   "outputs": [
    {
     "name": "stdout",
     "output_type": "stream",
     "text": [
      "881120\n",
      "1068234\n"
     ]
    }
   ],
   "source": [
    "print(홍길동_주민등록번호[0])\n",
    "print(홍길동_주민등록번호[1])"
   ]
  },
  {
   "cell_type": "markdown",
   "metadata": {},
   "source": [
    "# replace 문자열바꾸기"
   ]
  },
  {
   "cell_type": "code",
   "execution_count": 16,
   "metadata": {},
   "outputs": [
    {
     "data": {
      "text/plain": [
       "'Your leg is too short'"
      ]
     },
     "execution_count": 16,
     "metadata": {},
     "output_type": "execute_result"
    }
   ],
   "source": [
    "# 문자열 바꾸기 (replace)\n",
    "a = \"Life is too short\"\n",
    "a.replace(\"Life\",\"Your leg\")"
   ]
  },
  {
   "cell_type": "code",
   "execution_count": 44,
   "metadata": {},
   "outputs": [
    {
     "data": {
      "text/plain": [
       "'이 강의 너무 즐거워!'"
      ]
     },
     "execution_count": 44,
     "metadata": {},
     "output_type": "execute_result"
    }
   ],
   "source": [
    "review = \"이 수업 너무 지겨워!\"\n",
    "\n",
    "if '수업' in review:\n",
    "    review = review.replace('수업','강의')\n",
    "if '지겨워' in review:\n",
    "    review = review.replace('지겨워','즐거워')\n",
    "else:\n",
    "    pass\n",
    "\n",
    "review"
   ]
  },
  {
   "cell_type": "markdown",
   "metadata": {},
   "source": [
    "### Q2.주민등록번호가 881120-1068234 와 같을 때, 성별을 나타내는 숫자 1을 문자열 인덱싱을 이용하여 출력하라."
   ]
  },
  {
   "cell_type": "code",
   "execution_count": 47,
   "metadata": {},
   "outputs": [
    {
     "data": {
      "text/plain": [
       "'1'"
      ]
     },
     "execution_count": 47,
     "metadata": {},
     "output_type": "execute_result"
    }
   ],
   "source": [
    "주민번호 = '881120-1068234'\n",
    "주민번호[7]"
   ]
  },
  {
   "cell_type": "markdown",
   "metadata": {},
   "source": [
    "## Q3. [1,3,5,4,2] 라는 리스트를 [5,4,3,2,1]로 만들어라."
   ]
  },
  {
   "cell_type": "code",
   "execution_count": 51,
   "metadata": {},
   "outputs": [
    {
     "data": {
      "text/plain": [
       "[5, 4, 3, 2, 1]"
      ]
     },
     "execution_count": 51,
     "metadata": {},
     "output_type": "execute_result"
    }
   ],
   "source": [
    "list=[1,3,5,4,2]\n",
    "list.sort(reverse=True)\n",
    "list"
   ]
  },
  {
   "cell_type": "code",
   "execution_count": null,
   "metadata": {},
   "outputs": [],
   "source": [
    "# Q5. score = 85 일 때, 시험점수가 100점 만점 중, 90~100점은 A, 80~89는 B, 70~79는 C, 60~69는 D,\n",
    "# 나머지는 F를 출력하는 프로그램을 이용하여 “당신의 점수는 85점이므로, 성적은 B입니다” \n",
    "# 라는 메시지를 출력해주는 코드를 작성하시오. (단, 문자열 포매팅 방법을 사용하여 점수를 출력할 것!)"
   ]
  },
  {
   "cell_type": "code",
   "execution_count": 53,
   "metadata": {},
   "outputs": [
    {
     "name": "stdout",
     "output_type": "stream",
     "text": [
      "당신의 성적은 85 이므로, 성적은 B입니다.\n"
     ]
    }
   ],
   "source": [
    "score = 85\n",
    "\n",
    "if score >= 90:\n",
    "    print(\"당신의 성적은 %i 이므로, 성적은 A입니다.\" % score)\n",
    "elif score >= 80:\n",
    "    print(\"당신의 성적은 %i 이므로, 성적은 B입니다.\" % score)\n",
    "elif score >= 70:\n",
    "    print(\"당신의 성적은 %i 이므로, 성적은 C입니다.\" % score)\n",
    "elif score >= 60:\n",
    "    print(\"당신의 성적은 %i 이므로, 성적은 D입니다.\" % score)\n",
    "else:\n",
    "    print(\"당신의 성적은 %i 이므로, 성적은 F입니다.\" % score)"
   ]
  },
  {
   "cell_type": "code",
   "execution_count": 54,
   "metadata": {},
   "outputs": [],
   "source": [
    "# 알파벳을 하나 입력 받는다. input 사용\n",
    "# 이 알파벳이 \"management information system\" 문장 안에 포함되어 있으면 yes, 아니면 no 출력"
   ]
  },
  {
   "cell_type": "code",
   "execution_count": 55,
   "metadata": {},
   "outputs": [
    {
     "name": "stdout",
     "output_type": "stream",
     "text": [
      "알파벳을 하나 입력하세요!a\n",
      "yes\n"
     ]
    }
   ],
   "source": [
    "a = input(\"알파벳을 하나 입력하세요!\")\n",
    "b = \"management information system\"\n",
    "if a in b:\n",
    "    print(\"yes\")\n",
    "else:\n",
    "    print('no')"
   ]
  },
  {
   "cell_type": "code",
   "execution_count": 56,
   "metadata": {},
   "outputs": [],
   "source": [
    "# 과일 이름을 입력받아 딸기, 바나나, 사과 중 포함될 경우 yes 아니면 no 출력\n",
    "# 과일에 대한 자료형은 리스트로 추가는 내장함수 append 사용"
   ]
  },
  {
   "cell_type": "code",
   "execution_count": 71,
   "metadata": {},
   "outputs": [
    {
     "name": "stdout",
     "output_type": "stream",
     "text": [
      "과일을 입력하세요사과\n",
      "과일을 입력하세요바나나\n",
      "과일을 입력하세요딸기\n",
      "과일을 입력하세요멜론\n",
      "과일을 입력하세요키위\n",
      "yes\n"
     ]
    }
   ],
   "source": [
    "for i in range(5):\n",
    "    a = input(\"과일을 입력하세요\")\n",
    "    fruit.append(a)\n",
    "\n",
    "if \"딸기\" in fruit:\n",
    "    print('yes')\n",
    "elif \"바나나\" in fruit:\n",
    "    print('yes')\n",
    "elif '사과' in fruit:\n",
    "    print('yes')\n",
    "else:\n",
    "    print(\"no\")"
   ]
  },
  {
   "cell_type": "code",
   "execution_count": 72,
   "metadata": {},
   "outputs": [],
   "source": [
    "# 숫자를 하나 입력 받고 이 숫자가 짝수인지 홀수인지 출력하시오"
   ]
  },
  {
   "cell_type": "code",
   "execution_count": 74,
   "metadata": {},
   "outputs": [
    {
     "name": "stdout",
     "output_type": "stream",
     "text": [
      "2\n",
      "짝\n"
     ]
    }
   ],
   "source": [
    "a = int(input())\n",
    "if a % 2 == 0:\n",
    "    print(\"짝\")\n",
    "else:\n",
    "    print(\"홀\")"
   ]
  },
  {
   "cell_type": "code",
   "execution_count": 75,
   "metadata": {},
   "outputs": [],
   "source": [
    "# 반복문 while을 사용해 입력받은 숫자만큼 hi출력"
   ]
  },
  {
   "cell_type": "code",
   "execution_count": 81,
   "metadata": {},
   "outputs": [
    {
     "name": "stdout",
     "output_type": "stream",
     "text": [
      "3\n",
      "hi\n",
      "hi\n",
      "hi\n"
     ]
    }
   ],
   "source": [
    "n = int(input())\n",
    "\n",
    "while n > 0:\n",
    "    print(\"hi\")\n",
    "    n -=1"
   ]
  },
  {
   "cell_type": "code",
   "execution_count": 83,
   "metadata": {},
   "outputs": [],
   "source": [
    "# while문 10번 돌리기"
   ]
  },
  {
   "cell_type": "code",
   "execution_count": 84,
   "metadata": {},
   "outputs": [
    {
     "name": "stdout",
     "output_type": "stream",
     "text": [
      "나무를 1번 찍었습니다.\n",
      "나무를 2번 찍었습니다.\n",
      "나무를 3번 찍었습니다.\n",
      "나무를 4번 찍었습니다.\n",
      "나무를 5번 찍었습니다.\n",
      "나무를 6번 찍었습니다.\n",
      "나무를 7번 찍었습니다.\n",
      "나무를 8번 찍었습니다.\n",
      "나무를 9번 찍었습니다.\n",
      "나무를 10번 찍었습니다.\n",
      "나무 넘어갑니다.\n"
     ]
    }
   ],
   "source": [
    "treeHit = 0\n",
    "while treeHit < 10:\n",
    "    treeHit += 1\n",
    "    print(\"나무를 %d번 찍었습니다.\"%treeHit)\n",
    "print(\"나무 넘어갑니다.\")"
   ]
  },
  {
   "cell_type": "code",
   "execution_count": 86,
   "metadata": {},
   "outputs": [
    {
     "name": "stdout",
     "output_type": "stream",
     "text": [
      "주문하신 커피 나왔습니다.\n",
      "남은 커피의 양은 9입니다\n",
      "주문하신 커피 나왔습니다.\n",
      "남은 커피의 양은 8입니다\n",
      "주문하신 커피 나왔습니다.\n",
      "남은 커피의 양은 7입니다\n",
      "주문하신 커피 나왔습니다.\n",
      "남은 커피의 양은 6입니다\n",
      "주문하신 커피 나왔습니다.\n",
      "남은 커피의 양은 5입니다\n",
      "주문하신 커피 나왔습니다.\n",
      "남은 커피의 양은 4입니다\n",
      "주문하신 커피 나왔습니다.\n",
      "남은 커피의 양은 3입니다\n",
      "주문하신 커피 나왔습니다.\n",
      "남은 커피의 양은 2입니다\n",
      "주문하신 커피 나왔습니다.\n",
      "남은 커피의 양은 1입니다\n",
      "주문하신 커피 나왔습니다.\n",
      "남은 커피의 양은 0입니다\n",
      "커피 매진입니다. 판매를 종료합니다.\n"
     ]
    }
   ],
   "source": [
    "# while문 빠져나가기(break)\n",
    "\n",
    "coffee = 10\n",
    "money = 300\n",
    "while money:\n",
    "    print(\"주문하신 커피 나왔습니다.\")\n",
    "    coffee -= 1\n",
    "    print(\"남은 커피의 양은 %s입니다\"%coffee)\n",
    "    if not coffee:\n",
    "        print(\"커피 매진입니다. 판매를 종료합니다.\")\n",
    "        break"
   ]
  },
  {
   "cell_type": "code",
   "execution_count": 87,
   "metadata": {},
   "outputs": [
    {
     "name": "stdout",
     "output_type": "stream",
     "text": [
      "1\n",
      "3\n",
      "5\n",
      "7\n",
      "9\n"
     ]
    }
   ],
   "source": [
    "# while (continue)\n",
    "# 해당되는 조건문이 나오면 다시 맨 처음의 조건문으로 돌아감\n",
    "# continue를 이용한 홀수 출력\n",
    "\n",
    "a = 0\n",
    "while a < 10:\n",
    "    a += 1\n",
    "    if a % 2 ==0:\n",
    "        continue\n",
    "    print(a)"
   ]
  },
  {
   "cell_type": "code",
   "execution_count": 88,
   "metadata": {},
   "outputs": [
    {
     "name": "stdout",
     "output_type": "stream",
     "text": [
      "1번째 학생은 합격입니다.\n",
      "3번째 학생은 합격입니다.\n",
      "5번째 학생은 합격입니다.\n"
     ]
    }
   ],
   "source": [
    "# 총 5명의 학생의 시험 점수에 대해서 60점이 넘으면 합겨기고 그렇지 않으면 불합격이다. \n",
    "# 합격인지 불합격인지에 대한 결과를 보여준다. 개인 간 구분은 몇 번째 학생인지 표시한다.\n",
    "marks = [90,25,67,45,80]\n",
    "number = 0\n",
    "\n",
    "for i in marks:\n",
    "    number += 1\n",
    "    if i >= 60:\n",
    "        print(\"%s번째 학생은 합격입니다.\"%number)\n",
    "    else:\n",
    "        pass"
   ]
  },
  {
   "cell_type": "code",
   "execution_count": 8,
   "metadata": {},
   "outputs": [
    {
     "name": "stdout",
     "output_type": "stream",
     "text": [
      "55\n"
     ]
    }
   ],
   "source": [
    "# 1부터 10까지 더하는 코드를 작성하라\n",
    "sum=0\n",
    "for i in range(1,11):\n",
    "    sum = sum + i\n",
    "print(sum)"
   ]
  },
  {
   "cell_type": "code",
   "execution_count": 9,
   "metadata": {},
   "outputs": [
    {
     "name": "stdout",
     "output_type": "stream",
     "text": [
      "5\n",
      "1\n",
      "2\n",
      "3\n",
      "4\n",
      "5\n"
     ]
    }
   ],
   "source": [
    "# for문을 이용하여 자연수 N을 입력받아 1부터 N까지 하나씩 출력하는 프로그램 작성하시오\n",
    "n = int(input())\n",
    "\n",
    "for i in range(1,n+1):\n",
    "    print(i)"
   ]
  },
  {
   "cell_type": "code",
   "execution_count": 1,
   "metadata": {},
   "outputs": [
    {
     "name": "stdout",
     "output_type": "stream",
     "text": [
      "* * * * * \n",
      "\n",
      "* * * * * \n",
      "\n",
      "* * * * * \n",
      "\n",
      "* * * * * \n",
      "\n",
      "* * * * * \n",
      "\n"
     ]
    }
   ],
   "source": [
    "# 2중 for문을 이용하여 정사각형 5*5 별을 출력하시오\n",
    "for i in range(5):\n",
    "    for j in range(5):\n",
    "        print(\"*\",end= \" \")\n",
    "    print(\"\\n\")"
   ]
  },
  {
   "cell_type": "code",
   "execution_count": 2,
   "metadata": {},
   "outputs": [
    {
     "name": "stdout",
     "output_type": "stream",
     "text": [
      "3\n",
      "3 X 1 = 3\n",
      "3 X 2 = 6\n",
      "3 X 3 = 9\n",
      "3 X 4 = 12\n",
      "3 X 5 = 15\n",
      "3 X 6 = 18\n",
      "3 X 7 = 21\n",
      "3 X 8 = 24\n",
      "3 X 9 = 27\n"
     ]
    }
   ],
   "source": [
    "# 숫자를 입력받아 해당 구구단 출력\n",
    "a = int(input())\n",
    "\n",
    "for i in range(1,10):\n",
    "    print(a,'X',i,\"=\",a*i)"
   ]
  },
  {
   "cell_type": "code",
   "execution_count": null,
   "metadata": {},
   "outputs": [],
   "source": [
    "for i in range (5):\n",
    "    for j in range(1,6):\n",
    "        print(i*5+j,end=\" \")\n",
    "    print(\"\\n\")"
   ]
  },
  {
   "cell_type": "code",
   "execution_count": null,
   "metadata": {},
   "outputs": [],
   "source": []
  }
 ],
 "metadata": {
  "kernelspec": {
   "display_name": "Python 3",
   "language": "python",
   "name": "python3"
  },
  "language_info": {
   "codemirror_mode": {
    "name": "ipython",
    "version": 3
   },
   "file_extension": ".py",
   "mimetype": "text/x-python",
   "name": "python",
   "nbconvert_exporter": "python",
   "pygments_lexer": "ipython3",
   "version": "3.7.6"
  }
 },
 "nbformat": 4,
 "nbformat_minor": 4
}
