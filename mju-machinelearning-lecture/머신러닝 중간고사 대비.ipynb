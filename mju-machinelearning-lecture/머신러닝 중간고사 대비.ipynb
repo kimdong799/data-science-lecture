{
 "cells": [
  {
   "cell_type": "markdown",
   "metadata": {},
   "source": [
    "# 머신러닝 중간고사 대비"
   ]
  },
  {
   "cell_type": "code",
   "execution_count": 38,
   "metadata": {
    "scrolled": true
   },
   "outputs": [
    {
     "name": "stdout",
     "output_type": "stream",
     "text": [
      "pythonis fun\n",
      "ABC\n",
      "ABC\n",
      "ABC\n",
      "\n"
     ]
    }
   ],
   "source": [
    "# 문자열(string)\n",
    "# 인용부호에 둘러싸인 문장\n",
    "\n",
    "string = 'python'\n",
    "string_2 = \"is fun\"\n",
    "a = 'ABC\\n'\n",
    "# 문자열 연산 가능\n",
    "print(string + string_2)\n",
    "print(a*3)"
   ]
  },
  {
   "cell_type": "code",
   "execution_count": 7,
   "metadata": {},
   "outputs": [
    {
     "name": "stdout",
     "output_type": "stream",
     "text": [
      "Life is too short\n",
      "You need python\n"
     ]
    }
   ],
   "source": [
    "#여러 줄로 이루어진 문자열 처리\n",
    "# \\n 사용 (원표시)\n",
    "\n",
    "multi_line = 'Life is too short\\nYou need python'\n",
    "print(multi_line)"
   ]
  },
  {
   "cell_type": "code",
   "execution_count": 11,
   "metadata": {},
   "outputs": [
    {
     "name": "stdout",
     "output_type": "stream",
     "text": [
      "python's favorite food is perl\n",
      "python's favorite food is perl\n"
     ]
    }
   ],
   "source": [
    "# 문자열에 '',\"\" 를 포함시키는 방법\n",
    "\n",
    "# case 1 \n",
    "a = \"python's favorite food is perl\"\n",
    "print(a)\n",
    "\n",
    "# case 2\n",
    "# 역슬래시 \\ 사용\n",
    "b = \"python\\'s favorite food is perl\"\n",
    "print(b)\n",
    "\n",
    "# \\(원표시)를 escape code라 함"
   ]
  },
  {
   "cell_type": "code",
   "execution_count": 36,
   "metadata": {},
   "outputs": [
    {
     "name": "stdout",
     "output_type": "stream",
     "text": [
      "python\n",
      "is fun!\n",
      "python\n",
      "is fun!\n",
      "python\n",
      "is fun!\n",
      "\n"
     ]
    }
   ],
   "source": [
    "a = 'python\\nis fun!\\n'\n",
    "print(a*3)"
   ]
  },
  {
   "cell_type": "code",
   "execution_count": 44,
   "metadata": {},
   "outputs": [
    {
     "data": {
      "text/plain": [
       "7"
      ]
     },
     "execution_count": 44,
     "metadata": {},
     "output_type": "execute_result"
    }
   ],
   "source": [
    "# 인덱싱(Indexing)\n",
    "# 특정 문자열 내의 내가 원하는 문자 찾기\n",
    "# 파이썬은 0부터 센다!!\n",
    "# 공백 포함!!\n",
    "a = \"Python is fun!\"\n",
    "a.index(\"i\")"
   ]
  },
  {
   "cell_type": "code",
   "execution_count": 48,
   "metadata": {},
   "outputs": [
    {
     "name": "stdout",
     "output_type": "stream",
     "text": [
      "P y !\n"
     ]
    }
   ],
   "source": [
    "sent = \"Python is fun!\"\n",
    "print(sent[0], sent[1], sent[-1])"
   ]
  },
  {
   "cell_type": "code",
   "execution_count": 49,
   "metadata": {},
   "outputs": [
    {
     "data": {
      "text/plain": [
       "'Python'"
      ]
     },
     "execution_count": 49,
     "metadata": {},
     "output_type": "execute_result"
    }
   ],
   "source": [
    "# sent 변수에서 파이썬만 뽑아보시오!\n",
    "sent[0:6]  #첫번째부터 첫번째 포함 6글자 반환"
   ]
  },
  {
   "cell_type": "code",
   "execution_count": 53,
   "metadata": {},
   "outputs": [
    {
     "name": "stdout",
     "output_type": "stream",
     "text": [
      "Python\n",
      "Python is fun!\n",
      "Python\n",
      "fun\n",
      "is fun!\n"
     ]
    }
   ],
   "source": [
    "# 슬라이싱(Slicing)\n",
    "\n",
    "sent = \"Python is fun!\"\n",
    "print(sent[0:6])\n",
    "print(sent[:])\n",
    "print(sent[:6])\n",
    "print(sent[10:13])\n",
    "print(sent[7:])"
   ]
  },
  {
   "cell_type": "code",
   "execution_count": 66,
   "metadata": {},
   "outputs": [
    {
     "name": "stdout",
     "output_type": "stream",
     "text": [
      "2020\n",
      "05\n",
      "01\n",
      "Sunny\n"
     ]
    }
   ],
   "source": [
    "# 슬라이싱 예제\n",
    "a = \"20200501Sunny\"\n",
    "year = a[0:4]\n",
    "month = a[4:6]\n",
    "date = a[6:8]\n",
    "weather = a[8:14]\n",
    "print(year)\n",
    "print(month)\n",
    "print(date)\n",
    "print(weather)"
   ]
  },
  {
   "cell_type": "code",
   "execution_count": 79,
   "metadata": {},
   "outputs": [
    {
     "name": "stdout",
     "output_type": "stream",
     "text": [
      "123456\n",
      "1234567\n"
     ]
    }
   ],
   "source": [
    "# 응용 문제\n",
    "# 주민번호를 '-' 기준으로 나누고 줄을 띄워서 출력하시오\n",
    "a = \"123456-1234567\"\n",
    "print(a[0:6]+'\\n'+a[7:14])"
   ]
  },
  {
   "cell_type": "code",
   "execution_count": 83,
   "metadata": {},
   "outputs": [
    {
     "name": "stdout",
     "output_type": "stream",
     "text": [
      "10\n",
      "현재온도는 10도 입니다.\n"
     ]
    }
   ],
   "source": [
    "# 문자열 포매팅(Formatting)\n",
    "\n",
    "print(\"현재온도는 %s도 입니다.\"%input())\n",
    "\n",
    "# %d = int, %f =float, %s = str"
   ]
  },
  {
   "cell_type": "code",
   "execution_count": 86,
   "metadata": {},
   "outputs": [
    {
     "name": "stdout",
     "output_type": "stream",
     "text": [
      "I ate 3 apples yesterday\n"
     ]
    }
   ],
   "source": [
    "number = 3\n",
    "day = \"yesterday\"\n",
    "\n",
    "print(\"I ate %s apples %s\"%(number,day))"
   ]
  },
  {
   "cell_type": "code",
   "execution_count": null,
   "metadata": {},
   "outputs": [],
   "source": [
    "스쿼트 = int(input(\"당신의 스쿼트 1RM을 입력하세요\"))\n",
    "벤치프레스 = int(input(\"당신의 벤치프레스 1RM을 입력하세요\"))\n",
    "데드리프트 = int(input(\"당신의 데드리프트 1RM을 입력하세요\"))\n",
    "삼대운동 = 스쿼트+벤치프레스+데드리프트\n",
    "print(\"당신의 3대운동 1RM의 합은 %s입니다.\"%삼대운동)"
   ]
  },
  {
   "cell_type": "code",
   "execution_count": null,
   "metadata": {},
   "outputs": [],
   "source": [
    "# %s는 문자열로 인식하기 때문에 모두 처리 가능하다!"
   ]
  },
  {
   "cell_type": "code",
   "execution_count": null,
   "metadata": {},
   "outputs": [],
   "source": [
    "# 문자열 내장 함수\n",
    "# 문자열 뒤에 '.'를 붙인 다음 함수이름()을 입력하여 사용한다."
   ]
  },
  {
   "cell_type": "code",
   "execution_count": 1,
   "metadata": {},
   "outputs": [
    {
     "data": {
      "text/plain": [
       "1"
      ]
     },
     "execution_count": 1,
     "metadata": {},
     "output_type": "execute_result"
    }
   ],
   "source": [
    "# 문자 개수 세기(Count)\n",
    "a = \"명지대학교\"\n",
    "a.count('명')"
   ]
  },
  {
   "cell_type": "code",
   "execution_count": 27,
   "metadata": {},
   "outputs": [
    {
     "name": "stdout",
     "output_type": "stream",
     "text": [
      "I can eat 3 apples\n",
      "I can eat five apples\n",
      "I can eat 3.14 apples\n"
     ]
    }
   ],
   "source": [
    "# 고급 문자열 포매팅\n",
    "print(\"I can eat {0} apples\".format(3))\n",
    "print(\"I can eat {0} apples\".format('five'))\n",
    "print(\"I can eat {0} apples\".format(3.14))"
   ]
  },
  {
   "cell_type": "code",
   "execution_count": 30,
   "metadata": {},
   "outputs": [
    {
     "data": {
      "text/plain": [
       "'I can eat 3 apples'"
      ]
     },
     "execution_count": 30,
     "metadata": {},
     "output_type": "execute_result"
    }
   ],
   "source": [
    "num = 3\n",
    "\"I can eat {0} apples\".format(num)"
   ]
  },
  {
   "cell_type": "code",
   "execution_count": 31,
   "metadata": {},
   "outputs": [
    {
     "data": {
      "text/plain": [
       "'I can eat 3 apples yesterday'"
      ]
     },
     "execution_count": 31,
     "metadata": {},
     "output_type": "execute_result"
    }
   ],
   "source": [
    "# 고급 문자열 포매팅 여러 값 대입\n",
    "\"I can eat {0} apples {1}\".format(3, \"yesterday\")"
   ]
  },
  {
   "cell_type": "code",
   "execution_count": 36,
   "metadata": {},
   "outputs": [
    {
     "name": "stdout",
     "output_type": "stream",
     "text": [
      "7\n",
      "-1\n"
     ]
    }
   ],
   "source": [
    "# 문자 찾기 (find)\n",
    "a = \"Python is the best\"\n",
    "print(a.find('i'))\n",
    "print(a.find('z)')) #찾는 문자 없으면 -1 반환"
   ]
  },
  {
   "cell_type": "code",
   "execution_count": 40,
   "metadata": {},
   "outputs": [
    {
     "name": "stdout",
     "output_type": "stream",
     "text": [
      "7\n"
     ]
    },
    {
     "ename": "ValueError",
     "evalue": "substring not found",
     "output_type": "error",
     "traceback": [
      "\u001b[1;31m---------------------------------------------------------------------------\u001b[0m",
      "\u001b[1;31mValueError\u001b[0m                                Traceback (most recent call last)",
      "\u001b[1;32m<ipython-input-40-cfd8acc378f7>\u001b[0m in \u001b[0;36m<module>\u001b[1;34m\u001b[0m\n\u001b[0;32m      1\u001b[0m \u001b[1;31m# 문자 찾기 (index)\u001b[0m\u001b[1;33m\u001b[0m\u001b[1;33m\u001b[0m\u001b[1;33m\u001b[0m\u001b[0m\n\u001b[0;32m      2\u001b[0m \u001b[0mprint\u001b[0m\u001b[1;33m(\u001b[0m\u001b[0ma\u001b[0m\u001b[1;33m.\u001b[0m\u001b[0mindex\u001b[0m\u001b[1;33m(\u001b[0m\u001b[1;34m'i'\u001b[0m\u001b[1;33m)\u001b[0m\u001b[1;33m)\u001b[0m\u001b[1;33m\u001b[0m\u001b[1;33m\u001b[0m\u001b[0m\n\u001b[1;32m----> 3\u001b[1;33m \u001b[0mprint\u001b[0m\u001b[1;33m(\u001b[0m\u001b[0ma\u001b[0m\u001b[1;33m.\u001b[0m\u001b[0mindex\u001b[0m\u001b[1;33m(\u001b[0m\u001b[1;34m'z'\u001b[0m\u001b[1;33m)\u001b[0m\u001b[1;33m)\u001b[0m \u001b[1;31m# vallueError 발생 find와 차이점!\u001b[0m\u001b[1;33m\u001b[0m\u001b[1;33m\u001b[0m\u001b[0m\n\u001b[0m",
      "\u001b[1;31mValueError\u001b[0m: substring not found"
     ]
    }
   ],
   "source": [
    "# 문자 찾기 (index)\n",
    "print(a.index('i'))\n",
    "print(a.index('z')) # vallueError 발생 find와 차이점!"
   ]
  },
  {
   "cell_type": "code",
   "execution_count": 42,
   "metadata": {},
   "outputs": [
    {
     "data": {
      "text/plain": [
       "'Your leg is too short'"
      ]
     },
     "execution_count": 42,
     "metadata": {},
     "output_type": "execute_result"
    }
   ],
   "source": [
    "# 문자열 바꾸기 (replace)\n",
    "a = \"Life is too short\"\n",
    "a.replace(\"Life\",\"Your leg\")"
   ]
  },
  {
   "cell_type": "code",
   "execution_count": 44,
   "metadata": {},
   "outputs": [
    {
     "data": {
      "text/plain": [
       "['010', '2101', '5291']"
      ]
     },
     "execution_count": 44,
     "metadata": {},
     "output_type": "execute_result"
    }
   ],
   "source": [
    "# 문자열 나누기(split)\n",
    "phone = \"010-2101-5291\"\n",
    "phone.split('-')"
   ]
  },
  {
   "cell_type": "code",
   "execution_count": 45,
   "metadata": {},
   "outputs": [
    {
     "name": "stdout",
     "output_type": "stream",
     "text": [
      "김동현는 바나나를 좋아합니다.\n"
     ]
    }
   ],
   "source": [
    "name = \"김동현\"\n",
    "fruit = '바나나'\n",
    "\n",
    "print(\"%s는 %s를 좋아합니다.\"%(name,fruit))"
   ]
  },
  {
   "cell_type": "code",
   "execution_count": 46,
   "metadata": {},
   "outputs": [
    {
     "data": {
      "text/plain": [
       "[1, 2, 3, 4, 5]"
      ]
     },
     "execution_count": 46,
     "metadata": {},
     "output_type": "execute_result"
    }
   ],
   "source": [
    "# 리스트(list)\n",
    "# 모든 자료형들(숫자, 문자열, 리스트 등...의 모임을 표현)\n",
    "# 대괄호 []로 감싸주어 생성\n",
    "a = [1,2,3,4,5]\n",
    "a"
   ]
  },
  {
   "cell_type": "code",
   "execution_count": 47,
   "metadata": {},
   "outputs": [
    {
     "data": {
      "text/plain": [
       "[1, 2, ['a', 'b'], 3]"
      ]
     },
     "execution_count": 47,
     "metadata": {},
     "output_type": "execute_result"
    }
   ],
   "source": [
    "중첩괄호 = [1,2,['a','b'],3]\n",
    "중첩괄호"
   ]
  },
  {
   "cell_type": "code",
   "execution_count": 59,
   "metadata": {},
   "outputs": [
    {
     "name": "stdout",
     "output_type": "stream",
     "text": [
      "1\n",
      "['a', 'b']\n",
      "b\n",
      "3\n"
     ]
    }
   ],
   "source": [
    "# 리스트 인덱싱\n",
    "print(중첩괄호[0])\n",
    "print(중첩괄호[2])\n",
    "print(중첩괄호[2][1])\n",
    "print(중첩괄호[-1])"
   ]
  },
  {
   "cell_type": "code",
   "execution_count": 61,
   "metadata": {},
   "outputs": [
    {
     "name": "stdout",
     "output_type": "stream",
     "text": [
      "[1, 2]\n",
      "[1, 2, 3, 4, 5]\n"
     ]
    }
   ],
   "source": [
    "# 리스트 슬라이싱\n",
    "\n",
    "a = [1,2,3,4,5]\n",
    "print(a[0:2])\n",
    "print(a[:])"
   ]
  },
  {
   "cell_type": "code",
   "execution_count": 68,
   "metadata": {},
   "outputs": [
    {
     "name": "stdout",
     "output_type": "stream",
     "text": [
      "[3, ['a', 'b', 'c'], 4]\n",
      "['a', 'b', 'c']\n",
      "b\n",
      "['b', 'c']\n"
     ]
    }
   ],
   "source": [
    "# 중첩 리스트 슬라이싱\n",
    "a = [1,2,3,['a','b','c'],4,5]\n",
    "print(a[2:5])\n",
    "print(a[3])\n",
    "print(a[3][1])\n",
    "print(a[3][1:3])"
   ]
  },
  {
   "cell_type": "code",
   "execution_count": 69,
   "metadata": {},
   "outputs": [
    {
     "data": {
      "text/plain": [
       "[1, 2, 3, 4, 5, 6]"
      ]
     },
     "execution_count": 69,
     "metadata": {},
     "output_type": "execute_result"
    }
   ],
   "source": [
    "# 리스트 역시 문자열 처럼 + 를 이용하여 합칠 수 있다.\n",
    "a = [1,2,3]\n",
    "b = [4,5,6]\n",
    "a+b"
   ]
  },
  {
   "cell_type": "code",
   "execution_count": 71,
   "metadata": {},
   "outputs": [
    {
     "data": {
      "text/plain": [
       "[1, 2, 3, 1, 2, 3, 1, 2, 3]"
      ]
     },
     "execution_count": 71,
     "metadata": {},
     "output_type": "execute_result"
    }
   ],
   "source": [
    "# 리스트 역시 * 가능\n",
    "a*3"
   ]
  },
  {
   "cell_type": "code",
   "execution_count": 74,
   "metadata": {},
   "outputs": [
    {
     "data": {
      "text/plain": [
       "[1, 2, 4]"
      ]
     },
     "execution_count": 74,
     "metadata": {},
     "output_type": "execute_result"
    }
   ],
   "source": [
    "# 리스트 원소 수정(변경과 삭제)\n",
    "a = [1,2,3]\n",
    "a[2] = 4\n",
    "a"
   ]
  },
  {
   "cell_type": "code",
   "execution_count": 77,
   "metadata": {},
   "outputs": [
    {
     "data": {
      "text/plain": [
       "[1, 'a', 'b', 'c', 4]"
      ]
     },
     "execution_count": 77,
     "metadata": {},
     "output_type": "execute_result"
    }
   ],
   "source": [
    "a[1:2] = ['a','b','c']\n",
    "a"
   ]
  },
  {
   "cell_type": "code",
   "execution_count": 79,
   "metadata": {},
   "outputs": [
    {
     "data": {
      "text/plain": [
       "[1, 4]"
      ]
     },
     "execution_count": 79,
     "metadata": {},
     "output_type": "execute_result"
    }
   ],
   "source": [
    "# 리스트 원소 삭제\n",
    "a = [1,'b',4]\n",
    "del a[1]\n",
    "a"
   ]
  },
  {
   "cell_type": "code",
   "execution_count": 80,
   "metadata": {},
   "outputs": [],
   "source": [
    "# 리스트 함수 \n",
    "# 리스트.함수이름() 으로 사용"
   ]
  },
  {
   "cell_type": "code",
   "execution_count": 85,
   "metadata": {},
   "outputs": [
    {
     "data": {
      "text/plain": [
       "[1, 2, 3]"
      ]
     },
     "execution_count": 85,
     "metadata": {},
     "output_type": "execute_result"
    }
   ],
   "source": [
    "# 리스트 요소 추가 (append)\n",
    "a = [1,2,3]\n",
    "a"
   ]
  },
  {
   "cell_type": "code",
   "execution_count": 86,
   "metadata": {},
   "outputs": [
    {
     "data": {
      "text/plain": [
       "[1, 2, 3, 4]"
      ]
     },
     "execution_count": 86,
     "metadata": {},
     "output_type": "execute_result"
    }
   ],
   "source": [
    "a.append(4)\n",
    "a"
   ]
  },
  {
   "cell_type": "code",
   "execution_count": 87,
   "metadata": {},
   "outputs": [
    {
     "data": {
      "text/plain": [
       "[1, 2, 3, 4, [4, 5]]"
      ]
     },
     "execution_count": 87,
     "metadata": {},
     "output_type": "execute_result"
    }
   ],
   "source": [
    "a.append([4,5])\n",
    "a"
   ]
  },
  {
   "cell_type": "code",
   "execution_count": 88,
   "metadata": {},
   "outputs": [],
   "source": [
    "a.append(['hello'])"
   ]
  },
  {
   "cell_type": "code",
   "execution_count": 89,
   "metadata": {},
   "outputs": [
    {
     "data": {
      "text/plain": [
       "[1, 2, 3, 4, [4, 5], ['hello']]"
      ]
     },
     "execution_count": 89,
     "metadata": {},
     "output_type": "execute_result"
    }
   ],
   "source": [
    "a"
   ]
  },
  {
   "cell_type": "code",
   "execution_count": 90,
   "metadata": {},
   "outputs": [],
   "source": [
    "# 모든 자료형 가능!!"
   ]
  },
  {
   "cell_type": "code",
   "execution_count": 96,
   "metadata": {},
   "outputs": [
    {
     "name": "stdout",
     "output_type": "stream",
     "text": [
      "[1, 2, 3, 4]\n",
      "[4, 3, 2, 1]\n"
     ]
    }
   ],
   "source": [
    "# 리스트 정렬\n",
    "\n",
    "a = [1,4,2,3]\n",
    "a.sort()               #오름차순\n",
    "print(a)\n",
    "a.sort(reverse = True) #내림차순\n",
    "print(a)"
   ]
  },
  {
   "cell_type": "code",
   "execution_count": 99,
   "metadata": {},
   "outputs": [],
   "source": [
    "# 리스트확장(extend)\n",
    "a = [1,2,3]\n",
    "a.extend([4,5])"
   ]
  },
  {
   "cell_type": "code",
   "execution_count": 100,
   "metadata": {},
   "outputs": [
    {
     "data": {
      "text/plain": [
       "[1, 2, 3, 4, 5]"
      ]
     },
     "execution_count": 100,
     "metadata": {},
     "output_type": "execute_result"
    }
   ],
   "source": [
    "a"
   ]
  },
  {
   "cell_type": "code",
   "execution_count": 101,
   "metadata": {},
   "outputs": [],
   "source": [
    "# 리스트의 마지막에 리스트 확장"
   ]
  },
  {
   "cell_type": "code",
   "execution_count": 102,
   "metadata": {},
   "outputs": [],
   "source": [
    "# 딕셔너리(Dictionary)\n",
    "#사전 처럼 대응 관계를 가지고 있는 자료형\n",
    "# 예) \"손흥민\":\"축구\",\"류현진\":\"야구\".......\n",
    "# 대괄호로 생성{}"
   ]
  },
  {
   "cell_type": "code",
   "execution_count": 103,
   "metadata": {},
   "outputs": [
    {
     "data": {
      "text/plain": [
       "{'name': '김동현', 'phone': '010-2101-5291'}"
      ]
     },
     "execution_count": 103,
     "metadata": {},
     "output_type": "execute_result"
    }
   ],
   "source": [
    "dic = {'name':'김동현','phone':'010-2101-5291'}\n",
    "dic"
   ]
  },
  {
   "cell_type": "code",
   "execution_count": 117,
   "metadata": {},
   "outputs": [
    {
     "data": {
      "text/plain": [
       "'a'"
      ]
     },
     "execution_count": 117,
     "metadata": {},
     "output_type": "execute_result"
    }
   ],
   "source": [
    "# 주의할 점 딕셔너리는 순서의 개념이 없기 때문에 KEY값 1은 찾은것 절대 순서 1이 아님!!\n",
    "a = {1:'a',2:'b'}\n",
    "a[1]"
   ]
  },
  {
   "cell_type": "code",
   "execution_count": 105,
   "metadata": {},
   "outputs": [
    {
     "data": {
      "text/plain": [
       "{1: 'a'}"
      ]
     },
     "execution_count": 105,
     "metadata": {},
     "output_type": "execute_result"
    }
   ],
   "source": [
    "a = {1:'a'}\n",
    "a"
   ]
  },
  {
   "cell_type": "code",
   "execution_count": 106,
   "metadata": {},
   "outputs": [
    {
     "data": {
      "text/plain": [
       "{1: 'a', 2: 'b'}"
      ]
     },
     "execution_count": 106,
     "metadata": {},
     "output_type": "execute_result"
    }
   ],
   "source": [
    "a[2] = 'b'\n",
    "a"
   ]
  },
  {
   "cell_type": "code",
   "execution_count": 107,
   "metadata": {},
   "outputs": [],
   "source": [
    "# 추가되는 순서 등은 중요하지 않음, 무엇을 추가 하였는가의 의미를 가짐"
   ]
  },
  {
   "cell_type": "code",
   "execution_count": 113,
   "metadata": {},
   "outputs": [
    {
     "data": {
      "text/plain": [
       "{1: 'a', 2: 'b'}"
      ]
     },
     "execution_count": 113,
     "metadata": {},
     "output_type": "execute_result"
    }
   ],
   "source": [
    "a"
   ]
  },
  {
   "cell_type": "code",
   "execution_count": 118,
   "metadata": {},
   "outputs": [],
   "source": [
    "del a[1]  # del함수 이용 딕셔너리 원소 삭제"
   ]
  },
  {
   "cell_type": "code",
   "execution_count": 119,
   "metadata": {},
   "outputs": [
    {
     "data": {
      "text/plain": [
       "{2: 'b'}"
      ]
     },
     "execution_count": 119,
     "metadata": {},
     "output_type": "execute_result"
    }
   ],
   "source": [
    "a"
   ]
  },
  {
   "cell_type": "code",
   "execution_count": 120,
   "metadata": {},
   "outputs": [],
   "source": [
    "# 딕셔너리 주의사항!! 키값은 고유해야 한다. 키값으로 리스트는 사용할 수 없다."
   ]
  },
  {
   "cell_type": "code",
   "execution_count": 123,
   "metadata": {},
   "outputs": [
    {
     "data": {
      "text/plain": [
       "dict_keys(['name', 'phone'])"
      ]
     },
     "execution_count": 123,
     "metadata": {},
     "output_type": "execute_result"
    }
   ],
   "source": [
    "# 딕셔너리 키값 가져오기 (keys)\n",
    "a = {'name':'Kim','phone':'010-2101-5291'}\n",
    "a.keys()"
   ]
  },
  {
   "cell_type": "code",
   "execution_count": 124,
   "metadata": {},
   "outputs": [
    {
     "data": {
      "text/plain": [
       "dict_keys(['name', 'phone'])"
      ]
     },
     "execution_count": 124,
     "metadata": {},
     "output_type": "execute_result"
    }
   ],
   "source": [
    "a_keys = a.keys()\n",
    "a_keys"
   ]
  },
  {
   "cell_type": "code",
   "execution_count": 126,
   "metadata": {},
   "outputs": [
    {
     "data": {
      "text/plain": [
       "['name', 'phone']"
      ]
     },
     "execution_count": 126,
     "metadata": {},
     "output_type": "execute_result"
    }
   ],
   "source": [
    "# a의 key값들을 리스트로 변환하는 함수\n",
    "a_key_list = list(a.keys())\n",
    "a_key_list"
   ]
  },
  {
   "cell_type": "code",
   "execution_count": 128,
   "metadata": {},
   "outputs": [
    {
     "data": {
      "text/plain": [
       "dict_values(['Kim', '010-2101-5291'])"
      ]
     },
     "execution_count": 128,
     "metadata": {},
     "output_type": "execute_result"
    }
   ],
   "source": [
    "# value값 가져오기 (values)\n",
    "a.values()"
   ]
  },
  {
   "cell_type": "code",
   "execution_count": 129,
   "metadata": {},
   "outputs": [
    {
     "data": {
      "text/plain": [
       "dict_items([('name', 'Kim'), ('phone', '010-2101-5291')])"
      ]
     },
     "execution_count": 129,
     "metadata": {},
     "output_type": "execute_result"
    }
   ],
   "source": [
    "# key, value 쌍 얻기(items)\n",
    "a.items()"
   ]
  },
  {
   "cell_type": "code",
   "execution_count": 130,
   "metadata": {},
   "outputs": [
    {
     "data": {
      "text/plain": [
       "True"
      ]
     },
     "execution_count": 130,
     "metadata": {},
     "output_type": "execute_result"
    }
   ],
   "source": [
    "#특정 key가 있는지 조사(in), 문자열과 리스트에서도 가능!!\n",
    "'name' in a"
   ]
  },
  {
   "cell_type": "code",
   "execution_count": 131,
   "metadata": {},
   "outputs": [
    {
     "name": "stdout",
     "output_type": "stream",
     "text": [
      "걸어가세요\n"
     ]
    }
   ],
   "source": [
    "# if문(조건문)\n",
    "# 조건을 판단해서 각 상황에 맞게 처리\n",
    "# 택시 탈 돈이 있으면, 택시를 타고 가고 돈이 없으면 걸어가라\n",
    "money = 1000\n",
    "if money > 3000:\n",
    "    print(\"택시타세요\")\n",
    "else:\n",
    "    print(\"걸어가세요\")"
   ]
  },
  {
   "cell_type": "code",
   "execution_count": 133,
   "metadata": {},
   "outputs": [],
   "source": [
    "# 예제 \n",
    "# review = \"이 강의가 제일 좋아!\"일 때 \n",
    "# review에 들어있는 단어 수가 2개 이상이면, \"정상 리뷰입니다.\"를 출력\n",
    "# 그렇지 않으면, \"비정상 리뷰입니다.\" 를 출력하는 코드 작성"
   ]
  },
  {
   "cell_type": "code",
   "execution_count": 147,
   "metadata": {},
   "outputs": [
    {
     "name": "stdout",
     "output_type": "stream",
     "text": [
      "정상 리뷰입니다.\n"
     ]
    }
   ],
   "source": [
    "review = \"이 강의가 제일 좋아!\"\n",
    "if len(review.split()) >=2:\n",
    "    print(\"정상 리뷰입니다.\")\n",
    "else:\n",
    "    print(\"비정상 리뷰입니다.\")"
   ]
  },
  {
   "cell_type": "code",
   "execution_count": 148,
   "metadata": {},
   "outputs": [
    {
     "name": "stdout",
     "output_type": "stream",
     "text": [
      "택시\n"
     ]
    }
   ],
   "source": [
    "# 돈이 3000원 이상 있거나 풀러줄 시계가 있다면 택시를 타고 그렇지 않으면 걸어가라\n",
    "money = 3000\n",
    "watch = 0\n",
    "\n",
    "if money >= 3000 or watch == 1:\n",
    "    print(\"택시\")\n",
    "else:\n",
    "    print(\"도보\")"
   ]
  },
  {
   "cell_type": "code",
   "execution_count": 150,
   "metadata": {},
   "outputs": [
    {
     "name": "stdout",
     "output_type": "stream",
     "text": [
      "택시\n"
     ]
    }
   ],
   "source": [
    "# 주머니에 돈이있으면 택시를 타고 없으면 걸어가라\n",
    "pocket = ['money', 'phone', 'laptop']\n",
    "\n",
    "if 'money' in pocket:\n",
    "    print(\"택시\")\n",
    "else:\n",
    "    print(\"도보\")"
   ]
  },
  {
   "cell_type": "code",
   "execution_count": 152,
   "metadata": {},
   "outputs": [
    {
     "name": "stdout",
     "output_type": "stream",
     "text": [
      "택시\n"
     ]
    }
   ],
   "source": [
    "# 다중조건 elif\n",
    "# 지갑에 돈이 있으면 택시, 돈은 없지만 시계가 있으면 택시, 돈도 없고 시계도 없으면 도보\n",
    "wallet = ['papey','phone','money']\n",
    "\n",
    "if 'money' in wallet:\n",
    "    print(\"택시\")\n",
    "elif 'money' not in wallet and 'watch' in wallet:\n",
    "    print(\"택시\")\n",
    "elif 'money' and 'watch' not in wallet:\n",
    "    print('도보')"
   ]
  },
  {
   "cell_type": "code",
   "execution_count": 1,
   "metadata": {},
   "outputs": [
    {
     "name": "stdout",
     "output_type": "stream",
     "text": [
      "['like', 'poitive', 'happy']\n"
     ]
    }
   ],
   "source": [
    "# if 문 예제\n",
    "# words = ['like','poitive','unhappy']\n",
    "# 부정적인 단어가 있으면 긍정적인 단어로 변경하는 코드 작성\n",
    "\n",
    "words = ['like','poitive','unhappy']\n",
    "\n",
    "if \"unlike\" in words:\n",
    "    a = words.index(\"unlike\")\n",
    "    words[a]=\"like\"\n",
    "elif \"negative\" in words:\n",
    "    b = words.index(\"negative\")\n",
    "    words[b]=\"positive\"\n",
    "elif \"unhappy\" in words:\n",
    "    c = words.index(\"unhappy\")\n",
    "    words[c]=\"happy\"\n",
    "print(words)\n",
    "\n",
    "# index를 이용\n",
    "# words.index(\"unhappy\") = 2 를 반환\n",
    "# words[2] = \"like\"  => words리스트의 3번째 원소를 \"like\"로 수정"
   ]
  },
  {
   "cell_type": "code",
   "execution_count": 189,
   "metadata": {},
   "outputs": [
    {
     "name": "stdout",
     "output_type": "stream",
     "text": [
      "1\n",
      "2\n",
      "3\n"
     ]
    }
   ],
   "source": [
    "a = [1,2,3]\n",
    "for i in a:\n",
    "    print(i)"
   ]
  },
  {
   "cell_type": "code",
   "execution_count": 192,
   "metadata": {},
   "outputs": [
    {
     "name": "stdout",
     "output_type": "stream",
     "text": [
      "m\n",
      "a\n",
      "n\n",
      "a\n",
      "g\n",
      "e\n",
      "m\n",
      "e\n",
      "n\n",
      "t\n"
     ]
    }
   ],
   "source": [
    "a = 'management'\n",
    "\n",
    "for i in a:\n",
    "    print(i)"
   ]
  },
  {
   "cell_type": "code",
   "execution_count": 207,
   "metadata": {},
   "outputs": [
    {
     "name": "stdout",
     "output_type": "stream",
     "text": [
      "1번째 학생은 합격입니다.\n",
      "3번째 학생은 합격입니다.\n",
      "5번째 학생은 합격입니다.\n"
     ]
    }
   ],
   "source": [
    "# 총 5명의 학생의 시험 점수에 대해서 60점이 넘으면 합겨기고 그렇지 않으면 불합격이다. \n",
    "# 합격인지 불합격인지에 대한 결과를 보여준다. 개인 간 구분은 몇 번째 학생인지 표시한다.\n",
    "marks = [90,25,67,45,80]\n",
    "number = 0\n",
    "\n",
    "for i in marks:\n",
    "    number += 1\n",
    "    if i >= 60:\n",
    "        print(\"%s번째 학생은 합격입니다.\"%number)\n",
    "    else:\n",
    "        pass"
   ]
  },
  {
   "cell_type": "code",
   "execution_count": 6,
   "metadata": {},
   "outputs": [
    {
     "name": "stdout",
     "output_type": "stream",
     "text": [
      "1번 학생 축하합니다.\n",
      "3번 학생 축하합니다.\n",
      "5번 학생 축하합니다.\n"
     ]
    }
   ],
   "source": [
    "# for 과 continue\n",
    "\n",
    "marks = [90, 25, 67, 45, 80]\n",
    "\n",
    "number = 0\n",
    "for i in marks:\n",
    "    number += 1\n",
    "    if i < 60:\n",
    "        continue\n",
    "    else:\n",
    "        print(\"%s번 학생 축하합니다.\"%number)"
   ]
  },
  {
   "cell_type": "code",
   "execution_count": 9,
   "metadata": {},
   "outputs": [
    {
     "name": "stdout",
     "output_type": "stream",
     "text": [
      "range(0, 11)\n",
      "[0, 1, 2, 3, 4, 5, 6, 7, 8, 9, 10]\n",
      "[5, 6, 7, 8, 9, 10]\n"
     ]
    }
   ],
   "source": [
    "# for과 range 함수\n",
    "# range라는 숫자 리스트를 자동으로 만들어주는 함수\n",
    "# range(끝번호+1) : 0번부터 끝번호 까지의 숫자 생성\n",
    "# range(시작번호,끝번호+1): 시작번호 부터 끝번호 까지의 숫자 생성\n",
    "\n",
    "a = range(11)\n",
    "print(a)\n",
    "print(list(a))\n",
    "\n",
    "b = range(5,11)\n",
    "print(list(b))"
   ]
  },
  {
   "cell_type": "code",
   "execution_count": 18,
   "metadata": {},
   "outputs": [
    {
     "name": "stdout",
     "output_type": "stream",
     "text": [
      "55\n"
     ]
    }
   ],
   "source": [
    "# 1부터 10까지 더하는 코드를 작성하라\n",
    "sum=0\n",
    "for i in range(1,11):\n",
    "    sum = sum + i\n",
    "print(sum)"
   ]
  },
  {
   "cell_type": "code",
   "execution_count": 20,
   "metadata": {},
   "outputs": [
    {
     "name": "stdout",
     "output_type": "stream",
     "text": [
      "0번째 학생 축하합니다\n",
      "2번째 학생 축하합니다\n",
      "4번째 학생 축하합니다\n"
     ]
    }
   ],
   "source": [
    "# for range를 이용하여 60점 이사인 사람에게는 축하메세지를 보내고, 나머지 사람에게는 아무런 메세지를 보내지 않는 코드작성\n",
    "marks = [90, 25, 67, 45, 80]\n",
    "\n",
    "for i in range (len(marks)):\n",
    "    if marks[i] < 60:\n",
    "        continue\n",
    "    else:\n",
    "        print(\"%s번째 학생 축하합니다\"%i)"
   ]
  },
  {
   "cell_type": "code",
   "execution_count": 31,
   "metadata": {},
   "outputs": [
    {
     "name": "stdout",
     "output_type": "stream",
     "text": [
      "5\n",
      "1\n",
      "2\n",
      "3\n",
      "4\n",
      "5\n"
     ]
    }
   ],
   "source": [
    "# for문을 이용하여 자연수 N을 입력받아 1부터 N까지 하나씩 출력하는 프로그램 작성하시오\n",
    "n = int(input())\n",
    "\n",
    "for i in range(1,n+1):\n",
    "    print(i)"
   ]
  },
  {
   "cell_type": "code",
   "execution_count": 38,
   "metadata": {},
   "outputs": [
    {
     "name": "stdout",
     "output_type": "stream",
     "text": [
      "5\n",
      "1\n",
      "2\n",
      "3\n",
      "4\n",
      "5\n"
     ]
    }
   ],
   "source": [
    "# while문 이용하여 자연수 N을 입력받아 1부터 N까지 하나씩 출력하는 코드 작성\n",
    "n = int(input())\n",
    "i = 1\n",
    "while i <= n:\n",
    "    print(i)\n",
    "    i += 1"
   ]
  },
  {
   "cell_type": "code",
   "execution_count": 12,
   "metadata": {},
   "outputs": [
    {
     "name": "stdout",
     "output_type": "stream",
     "text": [
      "* * * * * \n",
      "\n",
      "* * * * * \n",
      "\n",
      "* * * * * \n",
      "\n",
      "* * * * * \n",
      "\n",
      "* * * * * \n",
      "\n"
     ]
    }
   ],
   "source": [
    "# 2중 for문을 이용하여 정사각형 5*5 별을 출력하시오\n",
    "for i in range(5):\n",
    "    for j in range(5):\n",
    "        print(\"*\",end= \" \")\n",
    "    print(\"\\n\")"
   ]
  },
  {
   "cell_type": "code",
   "execution_count": 25,
   "metadata": {
    "scrolled": true
   },
   "outputs": [
    {
     "name": "stdout",
     "output_type": "stream",
     "text": [
      "3\n",
      "3 X 1 = 3\n",
      "3 X 2 = 6\n",
      "3 X 3 = 9\n",
      "3 X 4 = 12\n",
      "3 X 5 = 15\n",
      "3 X 6 = 18\n",
      "3 X 7 = 21\n",
      "3 X 8 = 24\n",
      "3 X 9 = 27\n"
     ]
    }
   ],
   "source": [
    "# 숫자를 입력받아 해당 구구단 출력\n",
    "a = int(input())\n",
    "\n",
    "for i in range(1,10):\n",
    "    print(a,'X',i,\"=\",a*i)"
   ]
  },
  {
   "cell_type": "code",
   "execution_count": 38,
   "metadata": {
    "scrolled": false
   },
   "outputs": [
    {
     "name": "stdout",
     "output_type": "stream",
     "text": [
      "1 2 3 4 5 \n",
      "\n",
      "6 7 8 9 10 \n",
      "\n",
      "11 12 13 14 15 \n",
      "\n",
      "16 17 18 19 20 \n",
      "\n",
      "21 22 23 24 25 \n",
      "\n"
     ]
    }
   ],
   "source": [
    "for i in range (5):\n",
    "    for j in range(1,6):\n",
    "        print(i*5+j,end=\" \")\n",
    "    print(\"\\n\")"
   ]
  },
  {
   "cell_type": "markdown",
   "metadata": {},
   "source": [
    "### 총 5명의 학생의 시험 점수에 대해서, 60점이 넘으면 합격이고 그렇지 않으면 불합격이다. 합격인지 불합격인지에 대한 결과를 보여준다. 개인 간 구분은 몇 번째 학생인지로 한다."
   ]
  },
  {
   "cell_type": "code",
   "execution_count": 15,
   "metadata": {},
   "outputs": [
    {
     "name": "stdout",
     "output_type": "stream",
     "text": [
      "1 번째 학생은 합격입니다.\n",
      "2 번째 학생은 불합격입니다.\n",
      "3 번째 학생은 합격입니다.\n",
      "4 번째 학생은 불합격입니다.\n",
      "5 번째 학생은 합격입니다.\n"
     ]
    }
   ],
   "source": [
    "marks = [90,25,67,45,80]\n",
    "num = 0\n",
    "\n",
    "for i in marks:\n",
    "    num += 1\n",
    "    if i >= 60:\n",
    "        print(\"%s 번째 학생은 합격입니다.\"%num)\n",
    "    else:\n",
    "        print(\"%s 번째 학생은 불합격입니다.\"%num)\n",
    "        "
   ]
  },
  {
   "cell_type": "code",
   "execution_count": 20,
   "metadata": {
    "scrolled": true
   },
   "outputs": [
    {
     "name": "stdout",
     "output_type": "stream",
     "text": [
      "55\n"
     ]
    }
   ],
   "source": [
    "sum = 0\n",
    "\n",
    "for i in range(1,11):\n",
    "    sum = sum+i\n",
    "print(sum)"
   ]
  },
  {
   "cell_type": "markdown",
   "metadata": {},
   "source": [
    "## 60점 이상인 사람에게는 축하메세지를 보내고, 나머지 사람에게는 아무런 메세지를 보내지 않는 코드"
   ]
  },
  {
   "cell_type": "code",
   "execution_count": 31,
   "metadata": {},
   "outputs": [
    {
     "name": "stdout",
     "output_type": "stream",
     "text": [
      "1번째 학생 축하합니다\n",
      "3번째 학생 축하합니다\n",
      "5번째 학생 축하합니다\n"
     ]
    }
   ],
   "source": [
    "marks = [90,25,67,45,80]\n",
    "\n",
    "for i in range(len(marks)):\n",
    "    if marks[i] < 60:\n",
    "        continue\n",
    "    else:\n",
    "        i += 1\n",
    "        print(\"%s번째 학생 축하합니다\"%i)"
   ]
  },
  {
   "cell_type": "code",
   "execution_count": 36,
   "metadata": {},
   "outputs": [
    {
     "name": "stdout",
     "output_type": "stream",
     "text": [
      "3\n",
      "1\n",
      "2\n",
      "3\n"
     ]
    }
   ],
   "source": [
    "n = int(input())\n",
    "i = 1\n",
    "\n",
    "while i <= n:\n",
    "    print(i)\n",
    "    i+=1"
   ]
  },
  {
   "cell_type": "code",
   "execution_count": 40,
   "metadata": {},
   "outputs": [
    {
     "name": "stdout",
     "output_type": "stream",
     "text": [
      "2 X 1 = 2  2 X 2 = 4  2 X 3 = 6  2 X 4 = 8  2 X 5 = 10  2 X 6 = 12  2 X 7 = 14  2 X 8 = 16  2 X 9 = 18  \n",
      "\n",
      "3 X 1 = 3  3 X 2 = 6  3 X 3 = 9  3 X 4 = 12  3 X 5 = 15  3 X 6 = 18  3 X 7 = 21  3 X 8 = 24  3 X 9 = 27  \n",
      "\n",
      "4 X 1 = 4  4 X 2 = 8  4 X 3 = 12  4 X 4 = 16  4 X 5 = 20  4 X 6 = 24  4 X 7 = 28  4 X 8 = 32  4 X 9 = 36  \n",
      "\n",
      "5 X 1 = 5  5 X 2 = 10  5 X 3 = 15  5 X 4 = 20  5 X 5 = 25  5 X 6 = 30  5 X 7 = 35  5 X 8 = 40  5 X 9 = 45  \n",
      "\n",
      "6 X 1 = 6  6 X 2 = 12  6 X 3 = 18  6 X 4 = 24  6 X 5 = 30  6 X 6 = 36  6 X 7 = 42  6 X 8 = 48  6 X 9 = 54  \n",
      "\n",
      "7 X 1 = 7  7 X 2 = 14  7 X 3 = 21  7 X 4 = 28  7 X 5 = 35  7 X 6 = 42  7 X 7 = 49  7 X 8 = 56  7 X 9 = 63  \n",
      "\n",
      "8 X 1 = 8  8 X 2 = 16  8 X 3 = 24  8 X 4 = 32  8 X 5 = 40  8 X 6 = 48  8 X 7 = 56  8 X 8 = 64  8 X 9 = 72  \n",
      "\n",
      "9 X 1 = 9  9 X 2 = 18  9 X 3 = 27  9 X 4 = 36  9 X 5 = 45  9 X 6 = 54  9 X 7 = 63  9 X 8 = 72  9 X 9 = 81  \n",
      "\n"
     ]
    }
   ],
   "source": [
    "for i in range(2,10):\n",
    "    for j in range(1,10):\n",
    "        print(i,\"X\",j,\"=\",i*j,end=\"  \")\n",
    "    print(\"\\n\")"
   ]
  },
  {
   "cell_type": "markdown",
   "metadata": {},
   "source": [
    "### 음수가 들어올 때까지 숫자를 계속 읽어서 리스트에 저장하는 코드를 작성하시오"
   ]
  },
  {
   "cell_type": "code",
   "execution_count": 5,
   "metadata": {},
   "outputs": [
    {
     "name": "stdout",
     "output_type": "stream",
     "text": [
      "3\n",
      "5\n",
      "6\n",
      "7\n",
      "-1\n"
     ]
    },
    {
     "data": {
      "text/plain": [
       "[3, 5, 6, 7]"
      ]
     },
     "execution_count": 5,
     "metadata": {},
     "output_type": "execute_result"
    }
   ],
   "source": [
    "a = []\n",
    "\n",
    "while True:\n",
    "    c = int(input())\n",
    "    if c < 0:\n",
    "        break\n",
    "    else:\n",
    "        a.append(c)\n",
    "a"
   ]
  },
  {
   "cell_type": "code",
   "execution_count": 10,
   "metadata": {},
   "outputs": [
    {
     "name": "stdout",
     "output_type": "stream",
     "text": [
      "*    *    *    *    *    \n",
      "\n",
      "*    *    *    *    *    \n",
      "\n",
      "*    *    *    *    *    \n",
      "\n",
      "*    *    *    *    *    \n",
      "\n",
      "*    *    *    *    *    \n",
      "\n"
     ]
    }
   ],
   "source": [
    "for i in range(5):\n",
    "    for j in range(5):\n",
    "        print(\"*\",end=\"    \")\n",
    "    print(\"\\n\")"
   ]
  },
  {
   "cell_type": "code",
   "execution_count": 23,
   "metadata": {},
   "outputs": [
    {
     "name": "stdout",
     "output_type": "stream",
     "text": [
      "*  \n",
      "\n",
      "*  *  \n",
      "\n",
      "*  *  *  \n",
      "\n",
      "*  *  *  *  \n",
      "\n",
      "*  *  *  *  *  \n",
      "\n"
     ]
    }
   ],
   "source": [
    "for i in range(0,5):\n",
    "    for j in range(0,i+1):\n",
    "        print(\"*\",end=\"  \")\n",
    "    print('\\n')"
   ]
  },
  {
   "cell_type": "code",
   "execution_count": 25,
   "metadata": {},
   "outputs": [
    {
     "name": "stdout",
     "output_type": "stream",
     "text": [
      "30\n"
     ]
    }
   ],
   "source": [
    "# 함수작성\n",
    "\n",
    "candidate_num = [10, 15, 5, 30, 25, 20]\n",
    "max = 0\n",
    "\n",
    "for i in candidate_num:\n",
    "    if i > max:\n",
    "        max = i\n",
    "    else:\n",
    "        pass\n",
    "print(max)"
   ]
  },
  {
   "cell_type": "code",
   "execution_count": 27,
   "metadata": {},
   "outputs": [
    {
     "data": {
      "text/plain": [
       "5"
      ]
     },
     "execution_count": 27,
     "metadata": {},
     "output_type": "execute_result"
    }
   ],
   "source": [
    "def sum(x,y):\n",
    "    return x+y\n",
    "\n",
    "a = 3\n",
    "b = 2\n",
    "sum(a,b)"
   ]
  },
  {
   "cell_type": "code",
   "execution_count": 29,
   "metadata": {},
   "outputs": [
    {
     "data": {
      "text/plain": [
       "'Hello'"
      ]
     },
     "execution_count": 29,
     "metadata": {},
     "output_type": "execute_result"
    }
   ],
   "source": [
    "def say():\n",
    "    return(\"Hello\")\n",
    "\n",
    "say()"
   ]
  },
  {
   "cell_type": "code",
   "execution_count": null,
   "metadata": {},
   "outputs": [],
   "source": [
    "# 입력값이 많은 경우"
   ]
  },
  {
   "cell_type": "code",
   "execution_count": null,
   "metadata": {},
   "outputs": [],
   "source": [
    "def sum_many(*args):\n",
    "    sum = 0\n",
    "    for i in args:\n",
    "        sum = sum + i\n",
    "    return sum\n",
    "\n",
    "result = sum_many(1,2,3)\n",
    "print(result)\n",
    "\n",
    "result2 = sum_many(1,2,3,4,5,6,7,8,9,10)\n",
    "print(result2)"
   ]
  },
  {
   "cell_type": "code",
   "execution_count": 31,
   "metadata": {},
   "outputs": [
    {
     "data": {
      "text/plain": [
       "6"
      ]
     },
     "execution_count": 31,
     "metadata": {},
     "output_type": "execute_result"
    }
   ],
   "source": [
    "def 곱셈(*args):\n",
    "    a = 1\n",
    "    for i in args:\n",
    "        a = a*i\n",
    "    return a\n",
    "\n",
    "곱셈(1,2,3)"
   ]
  },
  {
   "cell_type": "code",
   "execution_count": 32,
   "metadata": {},
   "outputs": [
    {
     "name": "stdout",
     "output_type": "stream",
     "text": [
      "15\n",
      "120\n"
     ]
    }
   ],
   "source": [
    "def sum_mul(choice, *args):\n",
    "    if choice ==\"sum\":\n",
    "        result = 0\n",
    "        for i in args:\n",
    "            result = result + i\n",
    "    elif choice == \"mul\":\n",
    "        result = 1\n",
    "        for i in args:\n",
    "            result = result * i\n",
    "    return result\n",
    "    \n",
    "result = sum_mul('sum',1,2,3,4,5)\n",
    "print(result)\n",
    "result = sum_mul('mul',1,2,3,4,5)\n",
    "print(result)"
   ]
  },
  {
   "cell_type": "code",
   "execution_count": 35,
   "metadata": {},
   "outputs": [
    {
     "name": "stdout",
     "output_type": "stream",
     "text": [
      "6\n"
     ]
    }
   ],
   "source": [
    "def sum_mul(choice, *args):\n",
    "    if choice ==\"sum\":\n",
    "        result = 0\n",
    "        for i in args:\n",
    "            result = result + i\n",
    "    elif choice == \"mul\":\n",
    "        result = 1\n",
    "        for i in args:\n",
    "            result = result * i\n",
    "    return result\n",
    "    \n",
    "result = sum_mul('sum',1,2,3)\n",
    "print(result)"
   ]
  },
  {
   "cell_type": "code",
   "execution_count": 1,
   "metadata": {},
   "outputs": [
    {
     "data": {
      "text/plain": [
       "5"
      ]
     },
     "execution_count": 1,
     "metadata": {},
     "output_type": "execute_result"
    }
   ],
   "source": [
    "def sum(a,b):\n",
    "    result = a+b\n",
    "    return result\n",
    "\n",
    "sum(2,3)"
   ]
  },
  {
   "cell_type": "code",
   "execution_count": 2,
   "metadata": {},
   "outputs": [
    {
     "data": {
      "text/plain": [
       "25"
      ]
     },
     "execution_count": 2,
     "metadata": {},
     "output_type": "execute_result"
    }
   ],
   "source": [
    "def mul(x,y):\n",
    "    result = x*y\n",
    "    return result\n",
    "\n",
    "mul(5,5)"
   ]
  },
  {
   "cell_type": "code",
   "execution_count": 8,
   "metadata": {},
   "outputs": [
    {
     "data": {
      "text/plain": [
       "12"
      ]
     },
     "execution_count": 8,
     "metadata": {},
     "output_type": "execute_result"
    }
   ],
   "source": [
    "def sum_many(*args):\n",
    "    sum=0\n",
    "    for i in args:\n",
    "        sum = sum + i\n",
    "    return sum\n",
    "sum_many(2,4,6)"
   ]
  },
  {
   "cell_type": "code",
   "execution_count": 9,
   "metadata": {
    "scrolled": true
   },
   "outputs": [
    {
     "data": {
      "text/plain": [
       "8"
      ]
     },
     "execution_count": 9,
     "metadata": {},
     "output_type": "execute_result"
    }
   ],
   "source": [
    "def mul_many(*args):\n",
    "    mul = 1\n",
    "    for i in args:\n",
    "        mul = mul*i\n",
    "    return mul\n",
    "mul_many(2,2,2)"
   ]
  },
  {
   "cell_type": "code",
   "execution_count": 12,
   "metadata": {},
   "outputs": [
    {
     "data": {
      "text/plain": [
       "6"
      ]
     },
     "execution_count": 12,
     "metadata": {},
     "output_type": "execute_result"
    }
   ],
   "source": [
    "# choice를 이용한 선택 함수\n",
    "def sum_mul(choice, *args):\n",
    "    if choice == \"sum\":\n",
    "        result = 0\n",
    "        for i in args:\n",
    "            result = result + i\n",
    "        return result\n",
    "    elif choice == \"mul\":\n",
    "        result = 1\n",
    "        for i in args:\n",
    "            result = result * i\n",
    "        return result\n",
    "sum_mul('mul',1,2,3)"
   ]
  },
  {
   "cell_type": "code",
   "execution_count": 14,
   "metadata": {},
   "outputs": [],
   "source": [
    "# return 문을 이용해서 함수 빠져나가기\n",
    "def say_nick(nick):\n",
    "    if nick == \"바보\":\n",
    "        return\n",
    "    print(\"나의 별명은 %s 입니다.\" % nick)"
   ]
  },
  {
   "cell_type": "code",
   "execution_count": 17,
   "metadata": {},
   "outputs": [
    {
     "name": "stdout",
     "output_type": "stream",
     "text": [
      "나의 이름은 김동현입니다.\n",
      "나이는 24살입니다.\n",
      "남성입니다.\n"
     ]
    }
   ],
   "source": [
    "# 입력 인자의 초기값 설정하기\n",
    "\n",
    "def say_myself(name, old, gender = 1):\n",
    "    print(\"나의 이름은 %s입니다.\"%name)\n",
    "    print(\"나이는 %d살입니다.\"%old)\n",
    "    \n",
    "    if gender:\n",
    "        print(\"남성입니다.\")\n",
    "    else:\n",
    "        print(\"여섭입니다.\")\n",
    "        \n",
    "say_myself(\"김동현\",24,1)"
   ]
  },
  {
   "cell_type": "code",
   "execution_count": 19,
   "metadata": {},
   "outputs": [
    {
     "name": "stdout",
     "output_type": "stream",
     "text": [
      "나의 전공은 경영정보학과 입니다.\n",
      "나이는 24살 입니다.\n",
      "남자입니다.\n"
     ]
    }
   ],
   "source": [
    "def say_myMajor(major,old,gender=1):\n",
    "    print(\"나의 전공은 %s 입니다.\"%major)\n",
    "    print(\"나이는 %d살 입니다.\"%old)\n",
    "    \n",
    "    if gender:\n",
    "        print(\"남자입니다.\")\n",
    "    else:\n",
    "        print(\"여자입니다.\")\n",
    "        \n",
    "say_myMajor(\"경영정보학과\",24,1)"
   ]
  },
  {
   "cell_type": "code",
   "execution_count": 21,
   "metadata": {},
   "outputs": [
    {
     "name": "stdout",
     "output_type": "stream",
     "text": [
      "2\n",
      "3\n",
      "mul\n"
     ]
    },
    {
     "data": {
      "text/plain": [
       "6"
      ]
     },
     "execution_count": 21,
     "metadata": {},
     "output_type": "execute_result"
    }
   ],
   "source": [
    "#a,b 두개의 숫자를 받아서 \"sum\", \"sub\", \"mul\", \"div\"를 값으로 하는\n",
    "#\"cal\" 이라는 입력 인자에 따라서 더하기 빼기 곱하기 나누기를 수행하여\n",
    "#결과를 돌려주는 calculator 함수를 작성해보자\n",
    "\n",
    "def calculator(x,y,cal):\n",
    "    if (cal == \"sum\"):\n",
    "        return x+y\n",
    "    elif (cal == \"mul\"):\n",
    "        return x*y\n",
    "    elif (cal == \"div\"):\n",
    "        return x/y\n",
    "    else:\n",
    "        return x-y\n",
    "a=int(input())\n",
    "b=int(input())\n",
    "cal=input()\n",
    "calculator(a,b,cal)"
   ]
  },
  {
   "cell_type": "code",
   "execution_count": 30,
   "metadata": {},
   "outputs": [
    {
     "name": "stdout",
     "output_type": "stream",
     "text": [
      "최소값은 1 입니다.\n"
     ]
    }
   ],
   "source": [
    "nums = [2,4,1,3,5]\n",
    "\n",
    "def min_num():\n",
    "    min = 999\n",
    "    for i in nums:\n",
    "        if i < min:\n",
    "            min = i\n",
    "    return min\n",
    "print(\"최소값은 %s 입니다.\"%min_num())"
   ]
  },
  {
   "cell_type": "code",
   "execution_count": 31,
   "metadata": {},
   "outputs": [
    {
     "name": "stdout",
     "output_type": "stream",
     "text": [
      "최대값은 8입니다.\n"
     ]
    }
   ],
   "source": [
    "nums = [2,6,5,7,8,3,2]\n",
    "\n",
    "def max_num():\n",
    "    max = 1\n",
    "    for i in nums:\n",
    "        if i > max:\n",
    "            max = i\n",
    "    return max\n",
    "print(\"최대값은 %s입니다.\"%max_num())"
   ]
  },
  {
   "cell_type": "code",
   "execution_count": 32,
   "metadata": {},
   "outputs": [],
   "source": [
    "# 로또 난수 함제\n",
    "import random as r"
   ]
  },
  {
   "cell_type": "code",
   "execution_count": 33,
   "metadata": {},
   "outputs": [
    {
     "name": "stdout",
     "output_type": "stream",
     "text": [
      "[5, 13, 19, 23, 29, 44]\n"
     ]
    }
   ],
   "source": [
    "def lotto():\n",
    "    return r.randrange(1,46)\n",
    "\n",
    "lotto_nums = []\n",
    "\n",
    "while len(lotto_nums) < 6:\n",
    "    lotto_num = lotto()\n",
    "    if lotto_num not in lotto_nums:\n",
    "        lotto_nums.append(lotto_num)\n",
    "\n",
    "lotto_nums.sort()\n",
    "print(lotto_nums)"
   ]
  },
  {
   "cell_type": "code",
   "execution_count": 34,
   "metadata": {},
   "outputs": [],
   "source": [
    "# 내장함수\n",
    "#abs, max, min, int, str, list, len, type"
   ]
  },
  {
   "cell_type": "code",
   "execution_count": 36,
   "metadata": {},
   "outputs": [],
   "source": [
    "import pandas as pd"
   ]
  },
  {
   "cell_type": "code",
   "execution_count": 37,
   "metadata": {},
   "outputs": [],
   "source": [
    "# enumerate 순서형 자료형(문자열, 리스트, 튜플)을 입력으로 받아서\n",
    "# 첫번째 값으로 인덱스를 두번째 값으로 해당되는 원소값을 \n",
    "# enumerate 객체로 돌려주는 함수"
   ]
  },
  {
   "cell_type": "code",
   "execution_count": 38,
   "metadata": {},
   "outputs": [
    {
     "name": "stdout",
     "output_type": "stream",
     "text": [
      "0 body\n",
      "1 foo\n",
      "2 bar\n"
     ]
    }
   ],
   "source": [
    "for i,j in enumerate(['body','foo','bar']):\n",
    "    print(i,j)"
   ]
  },
  {
   "cell_type": "code",
   "execution_count": 40,
   "metadata": {},
   "outputs": [
    {
     "data": {
      "text/plain": [
       "[(0, 20), (1, 40), (2, 60)]"
      ]
     },
     "execution_count": 40,
     "metadata": {},
     "output_type": "execute_result"
    }
   ],
   "source": [
    "korean_score = [20,40,60]\n",
    "list(enumerate(korean_score))"
   ]
  },
  {
   "cell_type": "code",
   "execution_count": 41,
   "metadata": {},
   "outputs": [],
   "source": [
    "# zip() 동일한 개수의 원소값을 갖는 순서혀 자료형(문자열, 리스트, 튜플)을 묶어주는 역할\n",
    "# 열단위를 행단위로 묶어줌"
   ]
  },
  {
   "cell_type": "code",
   "execution_count": 44,
   "metadata": {},
   "outputs": [
    {
     "data": {
      "text/plain": [
       "[(1, 4), (2, 5), (3, 6)]"
      ]
     },
     "execution_count": 44,
     "metadata": {},
     "output_type": "execute_result"
    }
   ],
   "source": [
    "list(zip([1,2,3],[4,5,6]))"
   ]
  },
  {
   "cell_type": "code",
   "execution_count": 50,
   "metadata": {},
   "outputs": [
    {
     "data": {
      "text/plain": [
       "[('x1', 'y1'), ('x2', 'y2'), ('x3', 'y3')]"
      ]
     },
     "execution_count": 50,
     "metadata": {},
     "output_type": "execute_result"
    }
   ],
   "source": [
    "list_x = [\"x1\",\"x2\",\"x3\"]\n",
    "list_y = [\"y1\",\"y2\",\"y3\"]\n",
    "list(zip(list_x,list_y))"
   ]
  },
  {
   "cell_type": "code",
   "execution_count": 51,
   "metadata": {},
   "outputs": [
    {
     "name": "stdout",
     "output_type": "stream",
     "text": [
      "x1 y1\n",
      "x2 y2\n",
      "x3 y3\n"
     ]
    }
   ],
   "source": [
    "list_x = [\"x1\",\"x2\",\"x3\"]\n",
    "list_y = [\"y1\",\"y2\",\"y3\"]\n",
    "for x,y in zip(list_x,list_y):\n",
    "    print(x,y)"
   ]
  },
  {
   "cell_type": "code",
   "execution_count": 52,
   "metadata": {},
   "outputs": [],
   "source": [
    "# lambda\n",
    "# 함수에 대한 이름을 선언하지 않고 한 줄로 간결하게 함수를 생성"
   ]
  },
  {
   "cell_type": "code",
   "execution_count": 54,
   "metadata": {},
   "outputs": [
    {
     "data": {
      "text/plain": [
       "11"
      ]
     },
     "execution_count": 54,
     "metadata": {},
     "output_type": "execute_result"
    }
   ],
   "source": [
    "def plus_ten(x):\n",
    "    return x+10\n",
    "plus_ten(1)"
   ]
  },
  {
   "cell_type": "code",
   "execution_count": 55,
   "metadata": {},
   "outputs": [
    {
     "data": {
      "text/plain": [
       "11"
      ]
     },
     "execution_count": 55,
     "metadata": {},
     "output_type": "execute_result"
    }
   ],
   "source": [
    "plus_ten = lambda x:x+10\n",
    "plus_ten(1)"
   ]
  },
  {
   "cell_type": "code",
   "execution_count": 56,
   "metadata": {},
   "outputs": [
    {
     "data": {
      "text/plain": [
       "50"
      ]
     },
     "execution_count": 56,
     "metadata": {},
     "output_type": "execute_result"
    }
   ],
   "source": [
    "mul_ten = lambda x:x*10\n",
    "mul_ten(5)"
   ]
  },
  {
   "cell_type": "code",
   "execution_count": 57,
   "metadata": {},
   "outputs": [
    {
     "data": {
      "text/plain": [
       "9"
      ]
     },
     "execution_count": 57,
     "metadata": {},
     "output_type": "execute_result"
    }
   ],
   "source": [
    "f = lambda x:x**2\n",
    "f(3)"
   ]
  },
  {
   "cell_type": "code",
   "execution_count": 58,
   "metadata": {},
   "outputs": [],
   "source": [
    "# if_else filter 를 사용하여서 보다 구체적인 함수도 표현 가능\n",
    "# 반드시 if 와 else 를 함께 사용해야함."
   ]
  },
  {
   "cell_type": "code",
   "execution_count": 59,
   "metadata": {},
   "outputs": [
    {
     "name": "stdout",
     "output_type": "stream",
     "text": [
      "4\n"
     ]
    }
   ],
   "source": [
    "even_power = lambda x:x**2 if x % 2 == 0 else x\n",
    "# 짝수면 제곱값, 아니면 x값 출력\n",
    "print(even_power(2))"
   ]
  },
  {
   "cell_type": "code",
   "execution_count": 60,
   "metadata": {},
   "outputs": [],
   "source": [
    "# map()\n",
    "# 함수와 순서형 자료형(문자열, 리스트, 튜플)을 입력으로 받아서 각 원소를\n",
    "# 해당 함수에 차례대로 넣어 반환되는 결과값을 묶어 돌려주는 함수\n",
    "# lambda 함수와 주로 함께 사용!!\n",
    "# 각 원소에 동일한 함수를 적용시킴\n",
    "# map(함수이름, 순서형 자료형)"
   ]
  },
  {
   "cell_type": "code",
   "execution_count": 61,
   "metadata": {},
   "outputs": [
    {
     "name": "stdout",
     "output_type": "stream",
     "text": [
      "[1, 4, 9, 16, 25]\n"
     ]
    }
   ],
   "source": [
    "ex = [1,2,3,4,5]\n",
    "f = lambda x:x**2\n",
    "print(list(map(f,ex)))"
   ]
  },
  {
   "cell_type": "code",
   "execution_count": 63,
   "metadata": {},
   "outputs": [
    {
     "name": "stdout",
     "output_type": "stream",
     "text": [
      "5\n",
      "5\n"
     ]
    }
   ],
   "source": [
    "def add(n,m):\n",
    "    return n+m\n",
    "print(add(2,3))\n",
    "\n",
    "#람다식 표현\n",
    "add = lambda x,y : x+y\n",
    "print(add(2,3))"
   ]
  },
  {
   "cell_type": "code",
   "execution_count": 67,
   "metadata": {},
   "outputs": [],
   "source": [
    "# 양수를 입력받던 음수를 입력받던 항상 음수의 값으로\n",
    "# 출력하는 람다함수 생성"
   ]
  },
  {
   "cell_type": "code",
   "execution_count": 69,
   "metadata": {},
   "outputs": [
    {
     "name": "stdout",
     "output_type": "stream",
     "text": [
      "-3\n",
      "-3\n"
     ]
    }
   ],
   "source": [
    "minus_num = lambda x:-abs(x)\n",
    "print(minus_num(3))\n",
    "print(minus_num(-3))"
   ]
  },
  {
   "cell_type": "code",
   "execution_count": 70,
   "metadata": {},
   "outputs": [],
   "source": [
    "# 두 수 중 큰 수를 반환하는 람다 함수를 작성하시오\n",
    "# 이 함수를 활용하여 두 수를 입력받아 큰 수를 출력하시오."
   ]
  },
  {
   "cell_type": "code",
   "execution_count": 72,
   "metadata": {},
   "outputs": [
    {
     "name": "stdout",
     "output_type": "stream",
     "text": [
      "숫자를 두개 입력하세요3,4\n"
     ]
    },
    {
     "data": {
      "text/plain": [
       "'4'"
      ]
     },
     "execution_count": 72,
     "metadata": {},
     "output_type": "execute_result"
    }
   ],
   "source": [
    "big_num = lambda x:max(x)\n",
    "big_num(input(\"숫자를 두개 입력하세요\"))"
   ]
  },
  {
   "cell_type": "code",
   "execution_count": 74,
   "metadata": {
    "scrolled": true
   },
   "outputs": [
    {
     "name": "stdout",
     "output_type": "stream",
     "text": [
      "영어점수를 입력하세요\n",
      "50\n",
      "60\n",
      "70\n",
      "90\n",
      "10\n",
      "수학점수를 입력하세요\n",
      "100\n",
      "50\n",
      "30\n",
      "80\n",
      "670\n",
      "--------\n",
      "50 105\n",
      "60 50\n",
      "70 30\n",
      "95 80\n",
      "10 675\n"
     ]
    }
   ],
   "source": [
    "print(\"영어점수를 입력하세요\")\n",
    "eng_score= [int(input()) for i in range(5)]\n",
    "\n",
    "print(\"수학점수를 입력하세요\")\n",
    "math_score= [int(input()) for i in range(5)]\n",
    "\n",
    "bonus = lambda x:x+5 if x>=90 else x\n",
    "\n",
    "print(\"--------\")\n",
    "for x,y in zip (eng_score,math_score):\n",
    "    print(bonus(x),bonus(y))"
   ]
  },
  {
   "cell_type": "code",
   "execution_count": 36,
   "metadata": {},
   "outputs": [
    {
     "name": "stdout",
     "output_type": "stream",
     "text": [
      "10\n",
      "55\n"
     ]
    }
   ],
   "source": [
    "# 정수를 입력받아 1부터 그 수까지의 총합을 출력하시오.\n",
    "sum=0\n",
    "input_num = int(input())\n",
    "\n",
    "for i in range(1,input_num+1):\n",
    "    sum = sum + i\n",
    "print(sum)"
   ]
  },
  {
   "cell_type": "code",
   "execution_count": 33,
   "metadata": {},
   "outputs": [
    {
     "name": "stdout",
     "output_type": "stream",
     "text": [
      "55\n"
     ]
    }
   ],
   "source": [
    "sum=0\n",
    "for i in range(1,11):\n",
    "    sum = sum + i\n",
    "print(sum)"
   ]
  },
  {
   "cell_type": "code",
   "execution_count": null,
   "metadata": {},
   "outputs": [],
   "source": []
  }
 ],
 "metadata": {
  "kernelspec": {
   "display_name": "Python 3",
   "language": "python",
   "name": "python3"
  },
  "language_info": {
   "codemirror_mode": {
    "name": "ipython",
    "version": 3
   },
   "file_extension": ".py",
   "mimetype": "text/x-python",
   "name": "python",
   "nbconvert_exporter": "python",
   "pygments_lexer": "ipython3",
   "version": "3.7.6"
  }
 },
 "nbformat": 4,
 "nbformat_minor": 4
}
