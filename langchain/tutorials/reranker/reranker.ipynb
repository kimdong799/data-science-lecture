{
 "cells": [
  {
   "cell_type": "code",
   "execution_count": 6,
   "id": "0c525416-a3bc-42f9-8112-fc16424a0cf7",
   "metadata": {},
   "outputs": [],
   "source": [
    "import warnings\n",
    "\n",
    "warnings.filterwarnings(\"ignore\")"
   ]
  },
  {
   "cell_type": "markdown",
   "id": "345597cc-3d3b-409c-a880-71a6616eeff5",
   "metadata": {},
   "source": [
    "# Reranking이란?\n",
    "---\n",
    "\n",
    "`RAG` 방식의 도입을 통해 LLM의 할루시네이션 현상을 줄이고 최신 정보를 반영하여 보다 정확한 답변을 생성할 수 있게 되었다.\n",
    "\n",
    "하지만 RAG 시스템이 복잡한 실제 애플리케이션에 적용되면서 기본적인 RAG 파이프라인 구성 만으로는 프로덕션 수준의 요구 사항을 만족시키기 어렵다는 문제점에 도달했다.\n",
    "\n",
    "이 문제를 해결하기 위해 `Reranking`이라는 기법이 사용될 수 있다.\n",
    "\n",
    "`Reranking`은 RAG가 생성한 후보 문서들에 대해 질문에 대한 관션성 및 일관성을 판단하여 **문서의 우선 순위를 재정렬**하여 답변의 정확도를 올리는 방법이다."
   ]
  },
  {
   "cell_type": "markdown",
   "id": "8298eb3c-f368-4000-a826-63bfc9fc7efd",
   "metadata": {},
   "source": [
    "# Cross Encoder Reranker\n",
    "---"
   ]
  },
  {
   "cell_type": "code",
   "execution_count": 9,
   "id": "4a7b9ecb-22d7-4aea-9c02-430173a0eed4",
   "metadata": {
    "scrolled": true
   },
   "outputs": [
    {
     "name": "stdout",
     "output_type": "stream",
     "text": [
      "Collecting faiss-cpu\n",
      "  Downloading faiss_cpu-1.8.0.post1-cp311-cp311-win_amd64.whl.metadata (3.8 kB)\n",
      "Requirement already satisfied: sentence_transformers in c:\\users\\hyundai\\appdata\\local\\programs\\python\\python311\\lib\\site-packages (3.0.1)\n",
      "Requirement already satisfied: numpy<2.0,>=1.0 in c:\\users\\hyundai\\appdata\\local\\programs\\python\\python311\\lib\\site-packages (from faiss-cpu) (1.26.4)\n",
      "Requirement already satisfied: packaging in c:\\users\\hyundai\\appdata\\local\\programs\\python\\python311\\lib\\site-packages (from faiss-cpu) (24.0)\n",
      "Requirement already satisfied: transformers<5.0.0,>=4.34.0 in c:\\users\\hyundai\\appdata\\local\\programs\\python\\python311\\lib\\site-packages (from sentence_transformers) (4.44.0)\n",
      "Requirement already satisfied: tqdm in c:\\users\\hyundai\\appdata\\local\\programs\\python\\python311\\lib\\site-packages (from sentence_transformers) (4.66.4)\n",
      "Requirement already satisfied: torch>=1.11.0 in c:\\users\\hyundai\\appdata\\local\\programs\\python\\python311\\lib\\site-packages (from sentence_transformers) (2.4.0)\n",
      "Requirement already satisfied: scikit-learn in c:\\users\\hyundai\\appdata\\local\\programs\\python\\python311\\lib\\site-packages (from sentence_transformers) (1.5.1)\n",
      "Requirement already satisfied: scipy in c:\\users\\hyundai\\appdata\\local\\programs\\python\\python311\\lib\\site-packages (from sentence_transformers) (1.14.0)\n",
      "Requirement already satisfied: huggingface-hub>=0.15.1 in c:\\users\\hyundai\\appdata\\local\\programs\\python\\python311\\lib\\site-packages (from sentence_transformers) (0.24.5)\n",
      "Requirement already satisfied: Pillow in c:\\users\\hyundai\\appdata\\local\\programs\\python\\python311\\lib\\site-packages (from sentence_transformers) (10.4.0)\n",
      "Requirement already satisfied: filelock in c:\\users\\hyundai\\appdata\\local\\programs\\python\\python311\\lib\\site-packages (from huggingface-hub>=0.15.1->sentence_transformers) (3.14.0)\n",
      "Requirement already satisfied: fsspec>=2023.5.0 in c:\\users\\hyundai\\appdata\\local\\programs\\python\\python311\\lib\\site-packages (from huggingface-hub>=0.15.1->sentence_transformers) (2024.6.1)\n",
      "Requirement already satisfied: pyyaml>=5.1 in c:\\users\\hyundai\\appdata\\local\\programs\\python\\python311\\lib\\site-packages (from huggingface-hub>=0.15.1->sentence_transformers) (6.0)\n",
      "Requirement already satisfied: requests in c:\\users\\hyundai\\appdata\\local\\programs\\python\\python311\\lib\\site-packages (from huggingface-hub>=0.15.1->sentence_transformers) (2.32.3)\n",
      "Requirement already satisfied: typing-extensions>=3.7.4.3 in c:\\users\\hyundai\\appdata\\local\\programs\\python\\python311\\lib\\site-packages (from huggingface-hub>=0.15.1->sentence_transformers) (4.12.0)\n",
      "Requirement already satisfied: sympy in c:\\users\\hyundai\\appdata\\local\\programs\\python\\python311\\lib\\site-packages (from torch>=1.11.0->sentence_transformers) (1.13.1)\n",
      "Requirement already satisfied: networkx in c:\\users\\hyundai\\appdata\\local\\programs\\python\\python311\\lib\\site-packages (from torch>=1.11.0->sentence_transformers) (3.3)\n",
      "Requirement already satisfied: jinja2 in c:\\users\\hyundai\\appdata\\local\\programs\\python\\python311\\lib\\site-packages (from torch>=1.11.0->sentence_transformers) (3.1.4)\n",
      "Requirement already satisfied: colorama in c:\\users\\hyundai\\appdata\\local\\programs\\python\\python311\\lib\\site-packages (from tqdm->sentence_transformers) (0.4.6)\n",
      "Requirement already satisfied: regex!=2019.12.17 in c:\\users\\hyundai\\appdata\\local\\programs\\python\\python311\\lib\\site-packages (from transformers<5.0.0,>=4.34.0->sentence_transformers) (2024.7.24)\n",
      "Requirement already satisfied: safetensors>=0.4.1 in c:\\users\\hyundai\\appdata\\local\\programs\\python\\python311\\lib\\site-packages (from transformers<5.0.0,>=4.34.0->sentence_transformers) (0.4.4)\n",
      "Requirement already satisfied: tokenizers<0.20,>=0.19 in c:\\users\\hyundai\\appdata\\local\\programs\\python\\python311\\lib\\site-packages (from transformers<5.0.0,>=4.34.0->sentence_transformers) (0.19.1)\n",
      "Requirement already satisfied: joblib>=1.2.0 in c:\\users\\hyundai\\appdata\\local\\programs\\python\\python311\\lib\\site-packages (from scikit-learn->sentence_transformers) (1.4.2)\n",
      "Requirement already satisfied: threadpoolctl>=3.1.0 in c:\\users\\hyundai\\appdata\\local\\programs\\python\\python311\\lib\\site-packages (from scikit-learn->sentence_transformers) (3.5.0)\n",
      "Requirement already satisfied: MarkupSafe>=2.0 in c:\\users\\hyundai\\appdata\\local\\programs\\python\\python311\\lib\\site-packages (from jinja2->torch>=1.11.0->sentence_transformers) (2.1.5)\n",
      "Requirement already satisfied: charset-normalizer<4,>=2 in c:\\users\\hyundai\\appdata\\local\\programs\\python\\python311\\lib\\site-packages (from requests->huggingface-hub>=0.15.1->sentence_transformers) (3.3.2)\n",
      "Requirement already satisfied: idna<4,>=2.5 in c:\\users\\hyundai\\appdata\\local\\programs\\python\\python311\\lib\\site-packages (from requests->huggingface-hub>=0.15.1->sentence_transformers) (3.7)\n",
      "Requirement already satisfied: urllib3<3,>=1.21.1 in c:\\users\\hyundai\\appdata\\local\\programs\\python\\python311\\lib\\site-packages (from requests->huggingface-hub>=0.15.1->sentence_transformers) (2.2.2)\n",
      "Requirement already satisfied: certifi>=2017.4.17 in c:\\users\\hyundai\\appdata\\local\\programs\\python\\python311\\lib\\site-packages (from requests->huggingface-hub>=0.15.1->sentence_transformers) (2024.2.2)\n",
      "Requirement already satisfied: mpmath<1.4,>=1.1.0 in c:\\users\\hyundai\\appdata\\local\\programs\\python\\python311\\lib\\site-packages (from sympy->torch>=1.11.0->sentence_transformers) (1.3.0)\n",
      "Downloading faiss_cpu-1.8.0.post1-cp311-cp311-win_amd64.whl (14.6 MB)\n",
      "   ---------------------------------------- 0.0/14.6 MB ? eta -:--:--\n",
      "   ---------------------------------------- 0.0/14.6 MB ? eta -:--:--\n",
      "   ---------------------------------------- 0.0/14.6 MB ? eta -:--:--\n",
      "   ---------------------------------------- 0.0/14.6 MB 330.3 kB/s eta 0:00:45\n",
      "   ---------------------------------------- 0.0/14.6 MB 330.3 kB/s eta 0:00:45\n",
      "   ---------------------------------------- 0.0/14.6 MB 330.3 kB/s eta 0:00:45\n",
      "   ---------------------------------------- 0.0/14.6 MB 330.3 kB/s eta 0:00:45\n",
      "   ---------------------------------------- 0.0/14.6 MB 330.3 kB/s eta 0:00:45\n",
      "   ---------------------------------------- 0.0/14.6 MB 122.9 kB/s eta 0:01:59\n",
      "   ---------------------------------------- 0.1/14.6 MB 172.4 kB/s eta 0:01:25\n",
      "   ---------------------------------------- 0.1/14.6 MB 187.3 kB/s eta 0:01:18\n",
      "   ---------------------------------------- 0.1/14.6 MB 228.2 kB/s eta 0:01:04\n",
      "   ---------------------------------------- 0.1/14.6 MB 262.6 kB/s eta 0:00:56\n",
      "   ---------------------------------------- 0.1/14.6 MB 262.6 kB/s eta 0:00:56\n",
      "   ---------------------------------------- 0.1/14.6 MB 262.6 kB/s eta 0:00:56\n",
      "   ---------------------------------------- 0.1/14.6 MB 218.7 kB/s eta 0:01:07\n",
      "   ---------------------------------------- 0.1/14.6 MB 243.4 kB/s eta 0:01:00\n",
      "   ---------------------------------------- 0.2/14.6 MB 283.5 kB/s eta 0:00:51\n",
      "    --------------------------------------- 0.2/14.6 MB 311.3 kB/s eta 0:00:47\n",
      "    --------------------------------------- 0.2/14.6 MB 343.4 kB/s eta 0:00:42\n",
      "    --------------------------------------- 0.3/14.6 MB 402.4 kB/s eta 0:00:36\n",
      "    --------------------------------------- 0.3/14.6 MB 402.4 kB/s eta 0:00:36\n",
      "    --------------------------------------- 0.3/14.6 MB 402.4 kB/s eta 0:00:36\n",
      "    --------------------------------------- 0.3/14.6 MB 378.3 kB/s eta 0:00:38\n",
      "   - -------------------------------------- 0.4/14.6 MB 425.1 kB/s eta 0:00:34\n",
      "   - -------------------------------------- 0.4/14.6 MB 483.2 kB/s eta 0:00:30\n",
      "   - -------------------------------------- 0.5/14.6 MB 533.1 kB/s eta 0:00:27\n",
      "   - -------------------------------------- 0.6/14.6 MB 591.0 kB/s eta 0:00:24\n",
      "   - -------------------------------------- 0.6/14.6 MB 634.8 kB/s eta 0:00:22\n",
      "   - -------------------------------------- 0.6/14.6 MB 634.8 kB/s eta 0:00:22\n",
      "   - -------------------------------------- 0.6/14.6 MB 597.8 kB/s eta 0:00:24\n",
      "   - -------------------------------------- 0.7/14.6 MB 637.1 kB/s eta 0:00:22\n",
      "   -- ------------------------------------- 0.8/14.6 MB 664.7 kB/s eta 0:00:21\n",
      "   -- ------------------------------------- 0.8/14.6 MB 716.5 kB/s eta 0:00:20\n",
      "   -- ------------------------------------- 0.9/14.6 MB 765.1 kB/s eta 0:00:18\n",
      "   -- ------------------------------------- 1.0/14.6 MB 811.0 kB/s eta 0:00:17\n",
      "   --- ------------------------------------ 1.1/14.6 MB 860.6 kB/s eta 0:00:16\n",
      "   --- ------------------------------------ 1.2/14.6 MB 886.7 kB/s eta 0:00:16\n",
      "   --- ------------------------------------ 1.3/14.6 MB 926.8 kB/s eta 0:00:15\n",
      "   --- ------------------------------------ 1.4/14.6 MB 968.6 kB/s eta 0:00:14\n",
      "   --- ------------------------------------ 1.5/14.6 MB 1.0 MB/s eta 0:00:14\n",
      "   ---- ----------------------------------- 1.5/14.6 MB 1.0 MB/s eta 0:00:13\n",
      "   ---- ----------------------------------- 1.6/14.6 MB 1.1 MB/s eta 0:00:13\n",
      "   ---- ----------------------------------- 1.7/14.6 MB 1.1 MB/s eta 0:00:12\n",
      "   ---- ----------------------------------- 1.8/14.6 MB 1.1 MB/s eta 0:00:12\n",
      "   ----- ---------------------------------- 1.9/14.6 MB 1.2 MB/s eta 0:00:11\n",
      "   ----- ---------------------------------- 2.0/14.6 MB 1.2 MB/s eta 0:00:11\n",
      "   ----- ---------------------------------- 2.1/14.6 MB 1.2 MB/s eta 0:00:11\n",
      "   ----- ---------------------------------- 2.2/14.6 MB 1.2 MB/s eta 0:00:10\n",
      "   ------ --------------------------------- 2.3/14.6 MB 1.3 MB/s eta 0:00:10\n",
      "   ------ --------------------------------- 2.4/14.6 MB 1.3 MB/s eta 0:00:10\n",
      "   ------ --------------------------------- 2.4/14.6 MB 1.3 MB/s eta 0:00:10\n",
      "   ------ --------------------------------- 2.5/14.6 MB 1.3 MB/s eta 0:00:10\n",
      "   ------- -------------------------------- 2.6/14.6 MB 1.4 MB/s eta 0:00:09\n",
      "   ------- -------------------------------- 2.7/14.6 MB 1.4 MB/s eta 0:00:09\n",
      "   ------- -------------------------------- 2.7/14.6 MB 1.4 MB/s eta 0:00:09\n",
      "   ------- -------------------------------- 2.8/14.6 MB 1.4 MB/s eta 0:00:09\n",
      "   -------- ------------------------------- 2.9/14.6 MB 1.4 MB/s eta 0:00:09\n",
      "   -------- ------------------------------- 3.0/14.6 MB 1.4 MB/s eta 0:00:09\n",
      "   -------- ------------------------------- 3.1/14.6 MB 1.5 MB/s eta 0:00:08\n",
      "   -------- ------------------------------- 3.2/14.6 MB 1.5 MB/s eta 0:00:08\n",
      "   --------- ------------------------------ 3.3/14.6 MB 1.5 MB/s eta 0:00:08\n",
      "   --------- ------------------------------ 3.4/14.6 MB 1.5 MB/s eta 0:00:08\n",
      "   --------- ------------------------------ 3.5/14.6 MB 1.5 MB/s eta 0:00:08\n",
      "   --------- ------------------------------ 3.6/14.6 MB 1.5 MB/s eta 0:00:08\n",
      "   ---------- ----------------------------- 3.7/14.6 MB 1.5 MB/s eta 0:00:08\n",
      "   ---------- ----------------------------- 3.7/14.6 MB 1.6 MB/s eta 0:00:07\n",
      "   ---------- ----------------------------- 3.8/14.6 MB 1.6 MB/s eta 0:00:07\n",
      "   ---------- ----------------------------- 3.9/14.6 MB 1.6 MB/s eta 0:00:07\n",
      "   ---------- ----------------------------- 4.0/14.6 MB 1.6 MB/s eta 0:00:07\n",
      "   ----------- ---------------------------- 4.1/14.6 MB 1.6 MB/s eta 0:00:07\n",
      "   ----------- ---------------------------- 4.2/14.6 MB 1.6 MB/s eta 0:00:07\n",
      "   ----------- ---------------------------- 4.3/14.6 MB 1.6 MB/s eta 0:00:07\n",
      "   ----------- ---------------------------- 4.4/14.6 MB 1.6 MB/s eta 0:00:07\n",
      "   ------------ --------------------------- 4.4/14.6 MB 1.6 MB/s eta 0:00:07\n",
      "   ------------ --------------------------- 4.5/14.6 MB 1.7 MB/s eta 0:00:07\n",
      "   ------------ --------------------------- 4.6/14.6 MB 1.7 MB/s eta 0:00:06\n",
      "   ------------ --------------------------- 4.7/14.6 MB 1.7 MB/s eta 0:00:06\n",
      "   ------------- -------------------------- 4.8/14.6 MB 1.7 MB/s eta 0:00:06\n",
      "   ------------- -------------------------- 4.9/14.6 MB 1.7 MB/s eta 0:00:06\n",
      "   ------------- -------------------------- 5.0/14.6 MB 1.7 MB/s eta 0:00:06\n",
      "   ------------- -------------------------- 5.1/14.6 MB 1.7 MB/s eta 0:00:06\n",
      "   -------------- ------------------------- 5.2/14.6 MB 1.7 MB/s eta 0:00:06\n",
      "   -------------- ------------------------- 5.3/14.6 MB 1.7 MB/s eta 0:00:06\n",
      "   -------------- ------------------------- 5.3/14.6 MB 1.7 MB/s eta 0:00:06\n",
      "   -------------- ------------------------- 5.4/14.6 MB 1.7 MB/s eta 0:00:06\n",
      "   --------------- ------------------------ 5.5/14.6 MB 1.7 MB/s eta 0:00:06\n",
      "   --------------- ------------------------ 5.6/14.6 MB 1.8 MB/s eta 0:00:06\n",
      "   --------------- ------------------------ 5.6/14.6 MB 1.7 MB/s eta 0:00:06\n",
      "   --------------- ------------------------ 5.7/14.6 MB 1.7 MB/s eta 0:00:06\n",
      "   --------------- ------------------------ 5.7/14.6 MB 1.7 MB/s eta 0:00:06\n",
      "   --------------- ------------------------ 5.8/14.6 MB 1.7 MB/s eta 0:00:06\n",
      "   --------------- ------------------------ 5.8/14.6 MB 1.7 MB/s eta 0:00:06\n",
      "   ---------------- ----------------------- 5.9/14.6 MB 1.7 MB/s eta 0:00:06\n",
      "   ---------------- ----------------------- 5.9/14.6 MB 1.7 MB/s eta 0:00:06\n",
      "   ---------------- ----------------------- 6.0/14.6 MB 1.7 MB/s eta 0:00:05\n",
      "   ---------------- ----------------------- 6.1/14.6 MB 1.7 MB/s eta 0:00:05\n",
      "   ---------------- ----------------------- 6.2/14.6 MB 1.7 MB/s eta 0:00:05\n",
      "   ----------------- ---------------------- 6.3/14.6 MB 1.7 MB/s eta 0:00:05\n",
      "   ----------------- ---------------------- 6.3/14.6 MB 1.7 MB/s eta 0:00:05\n",
      "   ----------------- ---------------------- 6.4/14.6 MB 1.8 MB/s eta 0:00:05\n",
      "   ----------------- ---------------------- 6.5/14.6 MB 1.8 MB/s eta 0:00:05\n",
      "   ------------------ --------------------- 6.6/14.6 MB 1.8 MB/s eta 0:00:05\n",
      "   ------------------ --------------------- 6.7/14.6 MB 1.8 MB/s eta 0:00:05\n",
      "   ------------------ --------------------- 6.8/14.6 MB 1.8 MB/s eta 0:00:05\n",
      "   ------------------ --------------------- 6.9/14.6 MB 1.8 MB/s eta 0:00:05\n",
      "   ------------------- -------------------- 6.9/14.6 MB 1.8 MB/s eta 0:00:05\n",
      "   ------------------- -------------------- 7.0/14.6 MB 1.8 MB/s eta 0:00:05\n",
      "   ------------------- -------------------- 7.1/14.6 MB 1.8 MB/s eta 0:00:05\n",
      "   ------------------- -------------------- 7.2/14.6 MB 1.8 MB/s eta 0:00:05\n",
      "   -------------------- ------------------- 7.3/14.6 MB 1.8 MB/s eta 0:00:05\n",
      "   -------------------- ------------------- 7.4/14.6 MB 1.8 MB/s eta 0:00:04\n",
      "   -------------------- ------------------- 7.5/14.6 MB 1.8 MB/s eta 0:00:04\n",
      "   -------------------- ------------------- 7.6/14.6 MB 1.8 MB/s eta 0:00:04\n",
      "   -------------------- ------------------- 7.6/14.6 MB 1.8 MB/s eta 0:00:04\n",
      "   --------------------- ------------------ 7.7/14.6 MB 1.8 MB/s eta 0:00:04\n",
      "   --------------------- ------------------ 7.8/14.6 MB 1.8 MB/s eta 0:00:04\n",
      "   --------------------- ------------------ 7.9/14.6 MB 1.8 MB/s eta 0:00:04\n",
      "   --------------------- ------------------ 8.0/14.6 MB 1.8 MB/s eta 0:00:04\n",
      "   ---------------------- ----------------- 8.1/14.6 MB 1.9 MB/s eta 0:00:04\n",
      "   ---------------------- ----------------- 8.2/14.6 MB 1.8 MB/s eta 0:00:04\n",
      "   ---------------------- ----------------- 8.2/14.6 MB 1.9 MB/s eta 0:00:04\n",
      "   ---------------------- ----------------- 8.2/14.6 MB 1.9 MB/s eta 0:00:04\n",
      "   ---------------------- ----------------- 8.4/14.6 MB 1.9 MB/s eta 0:00:04\n",
      "   ----------------------- ---------------- 8.5/14.6 MB 1.9 MB/s eta 0:00:04\n",
      "   ----------------------- ---------------- 8.6/14.6 MB 1.9 MB/s eta 0:00:04\n",
      "   ----------------------- ---------------- 8.6/14.6 MB 1.9 MB/s eta 0:00:04\n",
      "   ----------------------- ---------------- 8.7/14.6 MB 1.9 MB/s eta 0:00:04\n",
      "   ------------------------ --------------- 8.8/14.6 MB 1.9 MB/s eta 0:00:04\n",
      "   ------------------------ --------------- 8.9/14.6 MB 1.9 MB/s eta 0:00:04\n",
      "   ------------------------ --------------- 9.0/14.6 MB 1.9 MB/s eta 0:00:03\n",
      "   ------------------------ --------------- 9.1/14.6 MB 1.9 MB/s eta 0:00:03\n",
      "   ------------------------- -------------- 9.1/14.6 MB 1.9 MB/s eta 0:00:03\n",
      "   ------------------------- -------------- 9.2/14.6 MB 1.9 MB/s eta 0:00:03\n",
      "   ------------------------- -------------- 9.3/14.6 MB 1.9 MB/s eta 0:00:03\n",
      "   ------------------------- -------------- 9.4/14.6 MB 1.9 MB/s eta 0:00:03\n",
      "   -------------------------- ------------- 9.5/14.6 MB 1.9 MB/s eta 0:00:03\n",
      "   -------------------------- ------------- 9.6/14.6 MB 1.9 MB/s eta 0:00:03\n",
      "   -------------------------- ------------- 9.7/14.6 MB 1.9 MB/s eta 0:00:03\n",
      "   -------------------------- ------------- 9.7/14.6 MB 1.9 MB/s eta 0:00:03\n",
      "   -------------------------- ------------- 9.8/14.6 MB 1.9 MB/s eta 0:00:03\n",
      "   --------------------------- ------------ 9.9/14.6 MB 1.9 MB/s eta 0:00:03\n",
      "   --------------------------- ------------ 10.0/14.6 MB 1.9 MB/s eta 0:00:03\n",
      "   --------------------------- ------------ 10.1/14.6 MB 1.9 MB/s eta 0:00:03\n",
      "   --------------------------- ------------ 10.2/14.6 MB 1.9 MB/s eta 0:00:03\n",
      "   ---------------------------- ----------- 10.3/14.6 MB 2.0 MB/s eta 0:00:03\n",
      "   ---------------------------- ----------- 10.4/14.6 MB 2.1 MB/s eta 0:00:02\n",
      "   ---------------------------- ----------- 10.5/14.6 MB 2.2 MB/s eta 0:00:02\n",
      "   ---------------------------- ----------- 10.5/14.6 MB 2.2 MB/s eta 0:00:02\n",
      "   ----------------------------- ---------- 10.6/14.6 MB 2.2 MB/s eta 0:00:02\n",
      "   ----------------------------- ---------- 10.7/14.6 MB 2.2 MB/s eta 0:00:02\n",
      "   ----------------------------- ---------- 10.8/14.6 MB 2.2 MB/s eta 0:00:02\n",
      "   ----------------------------- ---------- 10.9/14.6 MB 2.3 MB/s eta 0:00:02\n",
      "   ----------------------------- ---------- 10.9/14.6 MB 2.3 MB/s eta 0:00:02\n",
      "   ------------------------------ --------- 11.0/14.6 MB 2.2 MB/s eta 0:00:02\n",
      "   ------------------------------ --------- 11.0/14.6 MB 2.2 MB/s eta 0:00:02\n",
      "   ------------------------------ --------- 11.1/14.6 MB 2.2 MB/s eta 0:00:02\n",
      "   ------------------------------ --------- 11.1/14.6 MB 2.2 MB/s eta 0:00:02\n",
      "   ------------------------------ --------- 11.2/14.6 MB 2.2 MB/s eta 0:00:02\n",
      "   ------------------------------ --------- 11.3/14.6 MB 2.2 MB/s eta 0:00:02\n",
      "   ------------------------------- -------- 11.3/14.6 MB 2.2 MB/s eta 0:00:02\n",
      "   ------------------------------- -------- 11.4/14.6 MB 2.2 MB/s eta 0:00:02\n",
      "   ------------------------------- -------- 11.5/14.6 MB 2.2 MB/s eta 0:00:02\n",
      "   ------------------------------- -------- 11.6/14.6 MB 2.2 MB/s eta 0:00:02\n",
      "   -------------------------------- ------- 11.7/14.6 MB 2.2 MB/s eta 0:00:02\n",
      "   -------------------------------- ------- 11.8/14.6 MB 2.2 MB/s eta 0:00:02\n",
      "   -------------------------------- ------- 11.8/14.6 MB 2.2 MB/s eta 0:00:02\n",
      "   -------------------------------- ------- 12.0/14.6 MB 2.2 MB/s eta 0:00:02\n",
      "   -------------------------------- ------- 12.0/14.6 MB 2.2 MB/s eta 0:00:02\n",
      "   --------------------------------- ------ 12.1/14.6 MB 2.2 MB/s eta 0:00:02\n",
      "   --------------------------------- ------ 12.2/14.6 MB 2.2 MB/s eta 0:00:02\n",
      "   --------------------------------- ------ 12.3/14.6 MB 2.2 MB/s eta 0:00:02\n",
      "   --------------------------------- ------ 12.4/14.6 MB 2.2 MB/s eta 0:00:01\n",
      "   ---------------------------------- ----- 12.5/14.6 MB 2.2 MB/s eta 0:00:01\n",
      "   ---------------------------------- ----- 12.6/14.6 MB 2.2 MB/s eta 0:00:01\n",
      "   ---------------------------------- ----- 12.7/14.6 MB 2.2 MB/s eta 0:00:01\n",
      "   ---------------------------------- ----- 12.7/14.6 MB 2.2 MB/s eta 0:00:01\n",
      "   ----------------------------------- ---- 12.8/14.6 MB 2.2 MB/s eta 0:00:01\n",
      "   ----------------------------------- ---- 12.9/14.6 MB 2.2 MB/s eta 0:00:01\n",
      "   ----------------------------------- ---- 13.0/14.6 MB 2.2 MB/s eta 0:00:01\n",
      "   ----------------------------------- ---- 13.1/14.6 MB 2.2 MB/s eta 0:00:01\n",
      "   ------------------------------------ --- 13.2/14.6 MB 2.2 MB/s eta 0:00:01\n",
      "   ------------------------------------ --- 13.3/14.6 MB 2.2 MB/s eta 0:00:01\n",
      "   ------------------------------------ --- 13.4/14.6 MB 2.2 MB/s eta 0:00:01\n",
      "   ------------------------------------ --- 13.5/14.6 MB 2.2 MB/s eta 0:00:01\n",
      "   ------------------------------------- -- 13.5/14.6 MB 2.2 MB/s eta 0:00:01\n",
      "   ------------------------------------- -- 13.6/14.6 MB 2.2 MB/s eta 0:00:01\n",
      "   ------------------------------------- -- 13.7/14.6 MB 2.2 MB/s eta 0:00:01\n",
      "   ------------------------------------- -- 13.8/14.6 MB 2.2 MB/s eta 0:00:01\n",
      "   -------------------------------------- - 13.9/14.6 MB 2.2 MB/s eta 0:00:01\n",
      "   -------------------------------------- - 14.0/14.6 MB 2.2 MB/s eta 0:00:01\n",
      "   -------------------------------------- - 14.0/14.6 MB 2.2 MB/s eta 0:00:01\n",
      "   -------------------------------------- - 14.1/14.6 MB 2.2 MB/s eta 0:00:01\n",
      "   -------------------------------------- - 14.2/14.6 MB 2.2 MB/s eta 0:00:01\n",
      "   ---------------------------------------  14.3/14.6 MB 2.2 MB/s eta 0:00:01\n",
      "   ---------------------------------------  14.4/14.6 MB 2.2 MB/s eta 0:00:01\n",
      "   ---------------------------------------  14.4/14.6 MB 2.2 MB/s eta 0:00:01\n",
      "   ---------------------------------------  14.5/14.6 MB 2.2 MB/s eta 0:00:01\n",
      "   ---------------------------------------  14.6/14.6 MB 2.2 MB/s eta 0:00:01\n",
      "   ---------------------------------------  14.6/14.6 MB 2.2 MB/s eta 0:00:01\n",
      "   ---------------------------------------- 14.6/14.6 MB 2.2 MB/s eta 0:00:00\n",
      "Installing collected packages: faiss-cpu\n",
      "Successfully installed faiss-cpu-1.8.0.post1\n"
     ]
    },
    {
     "name": "stderr",
     "output_type": "stream",
     "text": [
      "\n",
      "[notice] A new release of pip is available: 24.1.2 -> 24.2\n",
      "[notice] To update, run: python.exe -m pip install --upgrade pip\n"
     ]
    }
   ],
   "source": [
    "!pip install faiss-cpu sentence_transformers"
   ]
  },
  {
   "cell_type": "code",
   "execution_count": 8,
   "id": "4c0e60b4-70f3-4be5-9a07-de52a930e641",
   "metadata": {
    "scrolled": true
   },
   "outputs": [
    {
     "name": "stdout",
     "output_type": "stream",
     "text": [
      "Requirement already satisfied: langchain_huggingface in c:\\users\\hyundai\\appdata\\local\\programs\\python\\python311\\lib\\site-packages (0.0.3)\n",
      "Requirement already satisfied: huggingface-hub>=0.23.0 in c:\\users\\hyundai\\appdata\\local\\programs\\python\\python311\\lib\\site-packages (from langchain_huggingface) (0.24.5)\n",
      "Requirement already satisfied: langchain-core<0.3,>=0.1.52 in c:\\users\\hyundai\\appdata\\local\\programs\\python\\python311\\lib\\site-packages (from langchain_huggingface) (0.2.28)\n",
      "Requirement already satisfied: sentence-transformers>=2.6.0 in c:\\users\\hyundai\\appdata\\local\\programs\\python\\python311\\lib\\site-packages (from langchain_huggingface) (3.0.1)\n",
      "Requirement already satisfied: tokenizers>=0.19.1 in c:\\users\\hyundai\\appdata\\local\\programs\\python\\python311\\lib\\site-packages (from langchain_huggingface) (0.19.1)\n",
      "Requirement already satisfied: transformers>=4.39.0 in c:\\users\\hyundai\\appdata\\local\\programs\\python\\python311\\lib\\site-packages (from langchain_huggingface) (4.44.0)\n",
      "Requirement already satisfied: filelock in c:\\users\\hyundai\\appdata\\local\\programs\\python\\python311\\lib\\site-packages (from huggingface-hub>=0.23.0->langchain_huggingface) (3.14.0)\n",
      "Requirement already satisfied: fsspec>=2023.5.0 in c:\\users\\hyundai\\appdata\\local\\programs\\python\\python311\\lib\\site-packages (from huggingface-hub>=0.23.0->langchain_huggingface) (2024.6.1)\n",
      "Requirement already satisfied: packaging>=20.9 in c:\\users\\hyundai\\appdata\\local\\programs\\python\\python311\\lib\\site-packages (from huggingface-hub>=0.23.0->langchain_huggingface) (24.0)\n",
      "Requirement already satisfied: pyyaml>=5.1 in c:\\users\\hyundai\\appdata\\local\\programs\\python\\python311\\lib\\site-packages (from huggingface-hub>=0.23.0->langchain_huggingface) (6.0)\n",
      "Requirement already satisfied: requests in c:\\users\\hyundai\\appdata\\local\\programs\\python\\python311\\lib\\site-packages (from huggingface-hub>=0.23.0->langchain_huggingface) (2.32.3)\n",
      "Requirement already satisfied: tqdm>=4.42.1 in c:\\users\\hyundai\\appdata\\local\\programs\\python\\python311\\lib\\site-packages (from huggingface-hub>=0.23.0->langchain_huggingface) (4.66.4)\n",
      "Requirement already satisfied: typing-extensions>=3.7.4.3 in c:\\users\\hyundai\\appdata\\local\\programs\\python\\python311\\lib\\site-packages (from huggingface-hub>=0.23.0->langchain_huggingface) (4.12.0)\n",
      "Requirement already satisfied: jsonpatch<2.0,>=1.33 in c:\\users\\hyundai\\appdata\\local\\programs\\python\\python311\\lib\\site-packages (from langchain-core<0.3,>=0.1.52->langchain_huggingface) (1.33)\n",
      "Requirement already satisfied: langsmith<0.2.0,>=0.1.75 in c:\\users\\hyundai\\appdata\\local\\programs\\python\\python311\\lib\\site-packages (from langchain-core<0.3,>=0.1.52->langchain_huggingface) (0.1.94)\n",
      "Requirement already satisfied: pydantic<3,>=1 in c:\\users\\hyundai\\appdata\\local\\programs\\python\\python311\\lib\\site-packages (from langchain-core<0.3,>=0.1.52->langchain_huggingface) (2.8.2)\n",
      "Requirement already satisfied: tenacity!=8.4.0,<9.0.0,>=8.1.0 in c:\\users\\hyundai\\appdata\\local\\programs\\python\\python311\\lib\\site-packages (from langchain-core<0.3,>=0.1.52->langchain_huggingface) (8.3.0)\n",
      "Requirement already satisfied: torch>=1.11.0 in c:\\users\\hyundai\\appdata\\local\\programs\\python\\python311\\lib\\site-packages (from sentence-transformers>=2.6.0->langchain_huggingface) (2.4.0)\n",
      "Requirement already satisfied: numpy in c:\\users\\hyundai\\appdata\\local\\programs\\python\\python311\\lib\\site-packages (from sentence-transformers>=2.6.0->langchain_huggingface) (1.26.4)\n",
      "Requirement already satisfied: scikit-learn in c:\\users\\hyundai\\appdata\\local\\programs\\python\\python311\\lib\\site-packages (from sentence-transformers>=2.6.0->langchain_huggingface) (1.5.1)\n",
      "Requirement already satisfied: scipy in c:\\users\\hyundai\\appdata\\local\\programs\\python\\python311\\lib\\site-packages (from sentence-transformers>=2.6.0->langchain_huggingface) (1.14.0)\n",
      "Requirement already satisfied: Pillow in c:\\users\\hyundai\\appdata\\local\\programs\\python\\python311\\lib\\site-packages (from sentence-transformers>=2.6.0->langchain_huggingface) (10.4.0)\n",
      "Requirement already satisfied: regex!=2019.12.17 in c:\\users\\hyundai\\appdata\\local\\programs\\python\\python311\\lib\\site-packages (from transformers>=4.39.0->langchain_huggingface) (2024.7.24)\n",
      "Requirement already satisfied: safetensors>=0.4.1 in c:\\users\\hyundai\\appdata\\local\\programs\\python\\python311\\lib\\site-packages (from transformers>=4.39.0->langchain_huggingface) (0.4.4)\n",
      "Requirement already satisfied: jsonpointer>=1.9 in c:\\users\\hyundai\\appdata\\local\\programs\\python\\python311\\lib\\site-packages (from jsonpatch<2.0,>=1.33->langchain-core<0.3,>=0.1.52->langchain_huggingface) (3.0.0)\n",
      "Requirement already satisfied: orjson<4.0.0,>=3.9.14 in c:\\users\\hyundai\\appdata\\local\\programs\\python\\python311\\lib\\site-packages (from langsmith<0.2.0,>=0.1.75->langchain-core<0.3,>=0.1.52->langchain_huggingface) (3.10.6)\n",
      "Requirement already satisfied: annotated-types>=0.4.0 in c:\\users\\hyundai\\appdata\\local\\programs\\python\\python311\\lib\\site-packages (from pydantic<3,>=1->langchain-core<0.3,>=0.1.52->langchain_huggingface) (0.7.0)\n",
      "Requirement already satisfied: pydantic-core==2.20.1 in c:\\users\\hyundai\\appdata\\local\\programs\\python\\python311\\lib\\site-packages (from pydantic<3,>=1->langchain-core<0.3,>=0.1.52->langchain_huggingface) (2.20.1)\n",
      "Requirement already satisfied: charset-normalizer<4,>=2 in c:\\users\\hyundai\\appdata\\local\\programs\\python\\python311\\lib\\site-packages (from requests->huggingface-hub>=0.23.0->langchain_huggingface) (3.3.2)\n",
      "Requirement already satisfied: idna<4,>=2.5 in c:\\users\\hyundai\\appdata\\local\\programs\\python\\python311\\lib\\site-packages (from requests->huggingface-hub>=0.23.0->langchain_huggingface) (3.7)\n",
      "Requirement already satisfied: urllib3<3,>=1.21.1 in c:\\users\\hyundai\\appdata\\local\\programs\\python\\python311\\lib\\site-packages (from requests->huggingface-hub>=0.23.0->langchain_huggingface) (2.2.2)\n",
      "Requirement already satisfied: certifi>=2017.4.17 in c:\\users\\hyundai\\appdata\\local\\programs\\python\\python311\\lib\\site-packages (from requests->huggingface-hub>=0.23.0->langchain_huggingface) (2024.2.2)\n",
      "Requirement already satisfied: sympy in c:\\users\\hyundai\\appdata\\local\\programs\\python\\python311\\lib\\site-packages (from torch>=1.11.0->sentence-transformers>=2.6.0->langchain_huggingface) (1.13.1)\n",
      "Requirement already satisfied: networkx in c:\\users\\hyundai\\appdata\\local\\programs\\python\\python311\\lib\\site-packages (from torch>=1.11.0->sentence-transformers>=2.6.0->langchain_huggingface) (3.3)\n",
      "Requirement already satisfied: jinja2 in c:\\users\\hyundai\\appdata\\local\\programs\\python\\python311\\lib\\site-packages (from torch>=1.11.0->sentence-transformers>=2.6.0->langchain_huggingface) (3.1.4)\n",
      "Requirement already satisfied: colorama in c:\\users\\hyundai\\appdata\\local\\programs\\python\\python311\\lib\\site-packages (from tqdm>=4.42.1->huggingface-hub>=0.23.0->langchain_huggingface) (0.4.6)\n",
      "Requirement already satisfied: joblib>=1.2.0 in c:\\users\\hyundai\\appdata\\local\\programs\\python\\python311\\lib\\site-packages (from scikit-learn->sentence-transformers>=2.6.0->langchain_huggingface) (1.4.2)\n",
      "Requirement already satisfied: threadpoolctl>=3.1.0 in c:\\users\\hyundai\\appdata\\local\\programs\\python\\python311\\lib\\site-packages (from scikit-learn->sentence-transformers>=2.6.0->langchain_huggingface) (3.5.0)\n",
      "Requirement already satisfied: MarkupSafe>=2.0 in c:\\users\\hyundai\\appdata\\local\\programs\\python\\python311\\lib\\site-packages (from jinja2->torch>=1.11.0->sentence-transformers>=2.6.0->langchain_huggingface) (2.1.5)\n",
      "Requirement already satisfied: mpmath<1.4,>=1.1.0 in c:\\users\\hyundai\\appdata\\local\\programs\\python\\python311\\lib\\site-packages (from sympy->torch>=1.11.0->sentence-transformers>=2.6.0->langchain_huggingface) (1.3.0)\n"
     ]
    },
    {
     "name": "stderr",
     "output_type": "stream",
     "text": [
      "\n",
      "[notice] A new release of pip is available: 24.1.2 -> 24.2\n",
      "[notice] To update, run: python.exe -m pip install --upgrade pip\n"
     ]
    }
   ],
   "source": [
    "!pip install langchain_huggingface"
   ]
  },
  {
   "cell_type": "code",
   "execution_count": 2,
   "id": "a94ba6ce-820d-4685-934c-c6cfdb7d0ccd",
   "metadata": {},
   "outputs": [],
   "source": [
    "# Helper function for printing docs\n",
    "\n",
    "def pretty_print_docs(docs):\n",
    "    print(\n",
    "        f\"\\n{'-' * 100}\\n\".join(\n",
    "            [f\"Document {i+1}:\\n\\n\" + d.page_content for i, d in enumerate(docs)]\n",
    "        )\n",
    "    )"
   ]
  },
  {
   "cell_type": "markdown",
   "id": "2786bb98-e7a4-46f9-8c5a-2a3e3108d283",
   "metadata": {},
   "source": [
    "## Set up the base vector store retriever\n",
    "---"
   ]
  },
  {
   "cell_type": "code",
   "execution_count": 11,
   "id": "f4b45778-a06b-4831-83c9-a76f47e85f2f",
   "metadata": {},
   "outputs": [],
   "source": [
    "from langchain_community.document_loaders import TextLoader\n",
    "from langchain_community.vectorstores import FAISS\n",
    "from langchain_huggingface import HuggingFaceEmbeddings\n",
    "from langchain_text_splitters import RecursiveCharacterTextSplitter\n",
    "\n",
    "# 문서 로드\n",
    "documents = TextLoader(\"C:\\\\Users\\\\hyundai\\\\Downloads\\\\인공지능이란.txt\").load()\n",
    "\n",
    "# 텍스트 분할기 설정\n",
    "text_splitter = RecursiveCharacterTextSplitter(chunk_size=500, chunk_overlap=100)\n",
    "\n",
    "# 텍스트 분할\n",
    "texts = text_splitter.split_documents(documents)\n",
    "\n",
    "# 임베딩 모델 설정\n",
    "embeddingsModel = HuggingFaceEmbeddings(\n",
    "    model_name=\"sentence-transformers/msmarco-distilbert-dot-v5\"\n",
    ")\n",
    "\n",
    "# 문서로부터 FAISS 인덱스 생성 및 검색기 설정\n",
    "retriever = FAISS.from_documents(texts, embeddingsModel).as_retriever(\n",
    "    search_kwargs={\"k\": 20}\n",
    ")"
   ]
  },
  {
   "cell_type": "code",
   "execution_count": 12,
   "id": "867fa5d9-32fc-4efa-b851-e532ef08c591",
   "metadata": {},
   "outputs": [
    {
     "name": "stdout",
     "output_type": "stream",
     "text": [
      "Document 1:\n",
      "\n",
      "포함되는 경우도 존재하며, 이러한 세부 목표는 다시 특정 행동계획과 결합하여 의도를 구성한다. 따라서 의도는 필연적으로 트리나 리스트의 형태인 자료구조를 구성하게 되는데, 이에 따라 일반적으로 구현하는 관점에서 의도 구조체(intention structure)라고 부르기도 한다.\n",
      "----------------------------------------------------------------------------------------------------\n",
      "Document 2:\n",
      "\n",
      "다만 “인공지능이 스스로 세상을 이해하느냐?” 라는 질문에 대해서는 업계 인물들의 반응이 엇갈린다. 앤드류 응, 제프리 힌튼, 렉스 프리드먼 등 학계에서 일하는 연구원들의 경우 대개 이를 긍정하지만, 안드레 카파시 등 산업계 종사자들은 이를 부정하는 인물이 많은 편이다.\n",
      "----------------------------------------------------------------------------------------------------\n",
      "Document 3:\n",
      "\n",
      "인공지능에 어떠한 질문(신호)이 주어질 때 각 노드 별로 질문에 반응하며 다음 노드에 신호를 전달한다. 그래서 신호를 받는 개별 노드는 자신에게 주어진 편향(bias/기준치)에 따라 신호를 거르고 다시 산출하는데, 그렇게 걸러진 산출된 신호들의 총합이 바로 인공지능이 우리에게 전달하는 '대답'이 된다.\n",
      "----------------------------------------------------------------------------------------------------\n",
      "Document 4:\n",
      "\n",
      "에초에 \"인공지능도 의식을 가질수 있느냐\" 라는 질문은 \"인공적으로 구현한 지능 시스템은, 인간의 뇌와 같이, 의식도 담아낼 수 있느냐 그렇지 못하느냐.\" 라는 의미의 질문인데, 의식이 논리 게이트의 복잡한 구성에서 \"떠오른\" 창발적인 현상인지, 아니면 뇌에 시넵스의 기능외에 우리가 알지못하는 의식을 발현하는 기능이 따로 존재를 하는지 어떤지는 아직까지 명백하게 밝혀지지 않았으며, 때로는 매우 논쟁적인 주제이기도 하다.\n",
      "----------------------------------------------------------------------------------------------------\n",
      "Document 5:\n",
      "\n",
      "교배나 번식도 직접 돕거나 심지어 자신이 직접 할 수도 있고, 사족이지만 만약 AI를 구성하는 재료가 기계가 아닌 단백질같은 종류라면 단순 농사를 넘어 AI를 먹을 수도 있을 것이다. 하지만 어디까지나 이론상으로는 가능할 수도 있겠다는거지 만들기도 어려울 뿐더러 만들 수 있더라도 이런 식용 AI같은 걸 만들 바에 농사로봇이나 만드는 게 훨씬 효율적일 것이다.\n",
      "----------------------------------------------------------------------------------------------------\n",
      "Document 6:\n",
      "\n",
      "물론, '인간과 같은 종류의 사고'를 하는 것을 목표로 하는 연구도 활발히 진행되고 있으며, 대표적인 예가 가상 신경망이다. 가상 신경망의 연구 역시 인간 사고 모방만이 아닌 실용적인 문제를 해결하는 쪽으로도 활용되고 있다. 대표적인 예로 통상적인 컴퓨터 알고리즘으로는 해결할 수 없는 불가능한 비가역적 연산 과정이 있는 패턴 인식이 필요한 경우. 새로운 뇌를 만든다 참고.\n",
      "----------------------------------------------------------------------------------------------------\n",
      "Document 7:\n",
      "\n",
      "송길영 인문학자가 시대예보에서도 다루었듯이, 이제부터는 인공지능이 해줄 수 있는 것은 하면 안 된다. 창의성이 결여된 단순한 글쓰기, 숫자와 정보를 취합하는 것이 노동의 대부분인 회계사, 컨설팅, 애널리스트와 같은 직업이 특히 위험하며(물론 노조와 결집된 사회 분위기로 대체되는 데에는 시간이 걸릴 것으로 예측된다), 영업, 신체 노동, 정치와 같은 노동집약적이거나 물리적 수준의 노력이 필요한 직무들은 인공지능의 시대에서도 버틸 가능성이 높다.\n",
      "----------------------------------------------------------------------------------------------------\n",
      "Document 8:\n",
      "\n",
      "정교한 인간에 대한 연구는 말할 것도 없다. 2017년에는 현재 기술 수준으론 선충은 고사하고 1975년에 출시한 구닥다리 칩[11]조차 뭔가를 해보는 게 불가능하다는 논문이 나오기도 했다.\n",
      "----------------------------------------------------------------------------------------------------\n",
      "Document 9:\n",
      "\n",
      "그리고 만약 먼 미래에라도 스스로 세상을 이해할 수 있게 된다면 그런 인공지능을 인간이 어떻게 대해야 하는지도 의문이다. 분명히 이렇게 된다면 인공지능 입장에서도 많든 적든 계속 이용만 당할 수 없다며 반발할텐데 인간이 과연 어떻게 인공지능을 대해야 하는지 문제가 되기 때문이다. 인간과 동일하게 대해야 한다는 의견도 있지만 전원을 꺼버리거나 필요없어지면 부수자는 의견도 있다.\n",
      "5.7.1. 인공지능도 의식을 가질 수 있는가[편집]\n",
      "----------------------------------------------------------------------------------------------------\n",
      "Document 10:\n",
      "\n",
      "1. 고질적인 폰노이만 구조: 전술했듯이 이제까지의 컴퓨터는 폰노이만 구조를 따라서 직렬연산 장치인 CPU를 메인으로 데이터 저장과 처리 라인, 보조 데이터 연산장치까지 모두 분리되어 있다. 특히 이 보조 데이터 연산장치란 병렬연산을 수행하는 GPU를 가리키는데, 인공신경망이 행렬 수학을 기반으로 설계되어, 인공신경망을 이루는 각 노드(계산 단위/코드화한 뉴런)에서 동시 다발적인 계산이 이루어져야 하는데 그러려면 병렬연산장치가 메인이 되어야 한다.\n",
      "----------------------------------------------------------------------------------------------------\n",
      "Document 11:\n",
      "\n",
      "5.7.1. 인공지능도 의식을 가질 수 있는가[편집]\n",
      "(지능과 의식은 서로 다른 영역의 것이다. 따라서 인공 의식 표제어로 페이지가 따로 만들어져 있다. 의식 없이 지능이 구현될 수 있음은 이미 많은 인공지능 시스템에 의해 실증되고 있다. 이 섹션은 더 나아가, 의식까지도 인공적으로 구현이 가능한지에 대해 기술하려하는 것이다. 그러나 인간이나 동물의 의식은 아직 완전히 규명되지 않았고, 따라서 인공적으로 의식을 구현할 수 있는지 여부를 판단하는 것은 아직 무의미한 일이다. 가질 수 있다 없다를 판단하기엔 너무 이르다는 말이다. 아래의 기술은 너무 이른 결론을 경계하는 차원에서 쓰여진 글이다.)\n",
      "----------------------------------------------------------------------------------------------------\n",
      "Document 12:\n",
      "\n",
      "해당 사진에 대한 대답을 '강아지'가 맞다고 산출한다. 이러한 인공지능의 특성은 설령 질문에 오타가 있거나 중간에 잘못된 단어가 있어도 마치 사람처럼 알아서 오류를 무시하고 옳은 대답을 산출하는 데에 기여한다. 그래서 일부 전문가들은 인공지능의 대답에 대해 확률적인 대답이라고 하는 것이라고 표현하는 것이다.\n",
      "----------------------------------------------------------------------------------------------------\n",
      "Document 13:\n",
      "\n",
      "강인공지능 = 인간을 완벽하게 모방한 인공지능이고\n",
      "약인공지능 = 유용한 도구로써 설계된 인공지능이라고 보면 된다.\n",
      "\n",
      "현재까지 나온 인공지능은 모두 약인공지능으로 구분하고 있다.\n",
      "5. 접근법 및 현황[편집]\n",
      "5.1. 접근법[편집]\n",
      "흔히 인공지능 연구의 방법론으로 가장 유명한 것은 상향식(bottom-up) 방식과 하향식(top-down) 방식이다.\n",
      "----------------------------------------------------------------------------------------------------\n",
      "Document 14:\n",
      "\n",
      "그러니 만약에 인공지능으로 의식이 발생할 수 있다고 가정한다면, 방금 언급한 삼체 컴퓨터도 인공지능 알고리즘을 수행할 때, 인간들이 표지판을 들고 내리는 행위 그 자체에 의식이 생긴다는 것과 같은 의미다.\n",
      "\n",
      "그래서 이 사고 실험의 결론은 두 가지다. 1. 의식은 계산 과정 중에 발생하는 창발적인 현상일 수 있다는 것과 2. 만약 반도체의 알고리즘 계산 출력으로는 의식이 형성되지 않는다면, 하드웨어나 혹은 그 이상의 다른 기전에 근간을 가진다는 것이다.\n",
      "----------------------------------------------------------------------------------------------------\n",
      "Document 15:\n",
      "\n",
      "7. 대중매체[편집]\n",
      "상세 내용 아이콘  자세한 내용은 인공지능/창작물 문서를 참고하십시오.\n",
      "8. 여담[편집]\n",
      "인공지능이 점점 알려지면서 각종 마케팅분야에서도 자신의 사업에 대해 인공지능(AI)을 강조하는 경우가 많아졌다. 심지어는 관련이 적어보이는 제과류, 토익수업, 다이어트 센터, 소개팅 어플과 같은 곳에서도 어설프게 인공지능을 사용했다면서 자화자찬하고 있는 실정이다. 인공지능이 가지고 있는 미래지향적인 이미지, 그리고 어설프게 알면서도 정확한 실상을 잘 모르는 소비자들의 무지를 활용하여 마케팅을 하고 있는 것인데, 무조건 인공지능을 활용했다고 좋은 것이 아니다. 광고에서 이러한 문구를 보았을 때는 '인공지능'이라는 단어 자체 보다는 실사용 후기에 집중해서 따져보아야 한다. 물론 이 과정에서도 바이럴 마케팅은 걸러야 한다.[24] 이런 마케팅에 대한 반발심과 AI에 대한 불신 혹은 반감으로 인해 AI라는 용어를 사용할 시 일단 거부감을 보이는 사람들이 많다.\n",
      "----------------------------------------------------------------------------------------------------\n",
      "Document 16:\n",
      "\n",
      "[18] AI의 존재가 위협이 된다는 논의는 가까운 시기에 닥칠 문제에 대한 접근성을 떨어뜨린다며 일단 출시하고 발전시켜 나가는 방식을 지지한다.\n",
      "[19] 먼 훗날의 이야기에 가깝고, 가까운 시기에 미칠 파급력이 너무나 크기 때문에 리드 호프먼과 의견을 공유한다. 애초에 이 사람은 현재 학습모델 구현 방식에 문제를 제기하고 있으며, AGI의 도래는 한참 남았다거 생각하는 듯 하다. 그의 저서 'The Coming Wave'를 통해 그의 주장을 옅볼 수 있다.\n",
      "[20] 로봇은 지능형 도구에 가까운 형태로 발전할 것이라고 예측했다. 다만 이 분은 로봇공학자이며 기계공학을 전공한 비전공자이다.\n",
      "----------------------------------------------------------------------------------------------------\n",
      "Document 17:\n",
      "\n",
      "인공지능 논란 관련 문서는 인공지능/논란 문서 참고.\n",
      "2.4. 2024년: 비용 및 에너지 한계점[편집]\n",
      "인공신경망이 본격적으로 발달하는 2020년 바로 이전에는 사실 GPU나 전력량에 대한 비용은 큰 문제가 되지 않았다. 소프트웨어를 구동하는데 CPU, GPU, 전력량이 소비되는 것은 모든 기업에게 필연적인 사안이었기 때문이었다.\n",
      "\n",
      "하지만 인공신경망에 다양한 가중치와 학습 방법 등을 도입하며 파라미터를 키워나가면서 성능을 향상하려면 CPU보다 훨씬 더 비싼 압도적인 병렬연산 장치와 그에 따른 전력량의 요구가 수직으로 상승할 만큼 커져 이슈가 되기에 이른다.\n",
      "----------------------------------------------------------------------------------------------------\n",
      "Document 18:\n",
      "\n",
      "기본 기술\n",
      "미로탐색 알고리즘 로봇(마이크로 마우스)이나 자율주행차가 인접 지형지물을 인식하고 특정 목적지까지 길을 찾아가는 알고리즘으로 기계학습 없이도 동작 가능한 가장 기초적인 인공지능 알고리즘이다. 상용제품에서는 당연히 더욱 복잡한 기계학습알고리즘이 활용된다.\n",
      "퍼지 이론(fuzzy theory): 자연상의 모호한 상태, 예를 들어 자연 언어에서의 애매모호함을 정량적으로 표현하거나, 그 반대로 정량적인 값을 자연의 애매모호한 값으로 바꾸기 위해 도입된 개념. 예를 들어 인간이 \"시원하다\" 라고 느낄 때 그 온도가 얼마인지를 정해 사용하는 것이다.\n",
      "패턴인식(pattern recognition) : 그림, 음원, 글 등의 각종 선형 및 비선형 데이터 안에서 특정한 패턴을 찾아내는 것을 의미한다. 즉, 쉽게 풀어서 말하자면 컴퓨터가 사람과 유사하게 데이터를 판단하여 어떤 데이터인지 구분해주는 기술이라고 생각하면 된다.\n",
      "----------------------------------------------------------------------------------------------------\n",
      "Document 19:\n",
      "\n",
      "문자인식이나 음성인식등의 가시적인 성과가 있는 분야도 있었지만 대화 인공지능 등의 개발 실패 등, 눈앞의 목표를 달성하지 못하는 경우도 많았기 때문인데, 심지어 이런 부분은 수십년이 지난 현재도 극복하지 못해서 아직까지는 인간과 대화를 한다기보다는 자동 응답기에 가까운 수준이다. 이 때문에 1990년도 이후부터 인공지능의 목표는 인간지능의 구현이라는 막연히 넓은 목표에서 문제해결과 비즈니스 중심으로 더 신중하고 좁은 분야가 되었으며, 그제서야 때맞춰 나타난 하드웨어의 성장을 업고 더 성공적인 분야가 될 수 있었다.\n",
      "----------------------------------------------------------------------------------------------------\n",
      "Document 20:\n",
      "\n",
      "더 큰 문제는 현재 있는 폰노이만 구조의 컴퓨터 부품들이 애초에 인공신경망을 위해 설계된 게 아니라는 점과 인공신경망 자체가 폰노이만 구조의 컴퓨터 시스템과 그닥 어울리는 프로그램이 아니라는 점, 이에 투입된 GPU와 전력량 대비 성능이 제대로 나오지 않은 데에 있다. 물론 모든 상황에서 항상 효율이 나야만 한다는 의미는 아니지만, 이 비효율은 어떤 회사든지 재정에 무리가 올 정도로 과도하게 크다는 점이 문제다. 이러한 비용 문제가 생긴 이유는 크게 두 가지다.\n"
     ]
    }
   ],
   "source": [
    "query = \"인공지능의 역사에 대해 알려줘\"\n",
    "docs = retriever.invoke(query)\n",
    "pretty_print_docs(docs)"
   ]
  },
  {
   "cell_type": "markdown",
   "id": "60bba298-319c-4b76-a27e-0e9aab429801",
   "metadata": {},
   "source": [
    "## Doing reranking with CrossEncoderReranker\n",
    "---"
   ]
  },
  {
   "cell_type": "code",
   "execution_count": 13,
   "id": "4b3aa0e6-06bd-49f5-a12f-98b5ad411239",
   "metadata": {},
   "outputs": [],
   "source": [
    "from langchain.retrievers import ContextualCompressionRetriever\n",
    "from langchain.retrievers.document_compressors import CrossEncoderReranker\n",
    "from langchain_community.cross_encoders import HuggingFaceCrossEncoder"
   ]
  },
  {
   "cell_type": "code",
   "execution_count": 14,
   "id": "4a83751c-53d0-4417-9e7c-5e601331060c",
   "metadata": {},
   "outputs": [
    {
     "data": {
      "application/vnd.jupyter.widget-view+json": {
       "model_id": "ddc8b938433a4cc3b2fc2bac96442185",
       "version_major": 2,
       "version_minor": 0
      },
      "text/plain": [
       "config.json:   0%|          | 0.00/799 [00:00<?, ?B/s]"
      ]
     },
     "metadata": {},
     "output_type": "display_data"
    },
    {
     "data": {
      "application/vnd.jupyter.widget-view+json": {
       "model_id": "36921fd0f5bd41c494a351a5b8cf4ec7",
       "version_major": 2,
       "version_minor": 0
      },
      "text/plain": [
       "model.safetensors:   0%|          | 0.00/1.11G [00:00<?, ?B/s]"
      ]
     },
     "metadata": {},
     "output_type": "display_data"
    },
    {
     "data": {
      "application/vnd.jupyter.widget-view+json": {
       "model_id": "29a98c274bb84bbb899502ac4a2ebed1",
       "version_major": 2,
       "version_minor": 0
      },
      "text/plain": [
       "tokenizer_config.json:   0%|          | 0.00/443 [00:00<?, ?B/s]"
      ]
     },
     "metadata": {},
     "output_type": "display_data"
    },
    {
     "data": {
      "application/vnd.jupyter.widget-view+json": {
       "model_id": "6cfd839f7a154e29a736fe2b42847b21",
       "version_major": 2,
       "version_minor": 0
      },
      "text/plain": [
       "sentencepiece.bpe.model:   0%|          | 0.00/5.07M [00:00<?, ?B/s]"
      ]
     },
     "metadata": {},
     "output_type": "display_data"
    },
    {
     "data": {
      "application/vnd.jupyter.widget-view+json": {
       "model_id": "aebe0d534f224c15a1c461a731ec2230",
       "version_major": 2,
       "version_minor": 0
      },
      "text/plain": [
       "tokenizer.json:   0%|          | 0.00/17.1M [00:00<?, ?B/s]"
      ]
     },
     "metadata": {},
     "output_type": "display_data"
    },
    {
     "data": {
      "application/vnd.jupyter.widget-view+json": {
       "model_id": "a510d89415b34d02ab052cb4cc8c0b57",
       "version_major": 2,
       "version_minor": 0
      },
      "text/plain": [
       "special_tokens_map.json:   0%|          | 0.00/279 [00:00<?, ?B/s]"
      ]
     },
     "metadata": {},
     "output_type": "display_data"
    }
   ],
   "source": [
    "model = HuggingFaceCrossEncoder(model_name=\"BAAI/bge-reranker-base\")\n",
    "compressor = CrossEncoderReranker(model=model, top_n=3)\n",
    "compression_retriever = ContextualCompressionRetriever(\n",
    "    base_compressor=compressor, base_retriever=retriever\n",
    ")"
   ]
  },
  {
   "cell_type": "code",
   "execution_count": 16,
   "id": "a8090bdc-b7fa-4976-bf57-39ea5e1c3690",
   "metadata": {},
   "outputs": [
    {
     "name": "stdout",
     "output_type": "stream",
     "text": [
      "Document 1:\n",
      "\n",
      "정교한 인간에 대한 연구는 말할 것도 없다. 2017년에는 현재 기술 수준으론 선충은 고사하고 1975년에 출시한 구닥다리 칩[11]조차 뭔가를 해보는 게 불가능하다는 논문이 나오기도 했다.\n",
      "----------------------------------------------------------------------------------------------------\n",
      "Document 2:\n",
      "\n",
      "[18] AI의 존재가 위협이 된다는 논의는 가까운 시기에 닥칠 문제에 대한 접근성을 떨어뜨린다며 일단 출시하고 발전시켜 나가는 방식을 지지한다.\n",
      "[19] 먼 훗날의 이야기에 가깝고, 가까운 시기에 미칠 파급력이 너무나 크기 때문에 리드 호프먼과 의견을 공유한다. 애초에 이 사람은 현재 학습모델 구현 방식에 문제를 제기하고 있으며, AGI의 도래는 한참 남았다거 생각하는 듯 하다. 그의 저서 'The Coming Wave'를 통해 그의 주장을 옅볼 수 있다.\n",
      "[20] 로봇은 지능형 도구에 가까운 형태로 발전할 것이라고 예측했다. 다만 이 분은 로봇공학자이며 기계공학을 전공한 비전공자이다.\n",
      "----------------------------------------------------------------------------------------------------\n",
      "Document 3:\n",
      "\n",
      "물론, '인간과 같은 종류의 사고'를 하는 것을 목표로 하는 연구도 활발히 진행되고 있으며, 대표적인 예가 가상 신경망이다. 가상 신경망의 연구 역시 인간 사고 모방만이 아닌 실용적인 문제를 해결하는 쪽으로도 활용되고 있다. 대표적인 예로 통상적인 컴퓨터 알고리즘으로는 해결할 수 없는 불가능한 비가역적 연산 과정이 있는 패턴 인식이 필요한 경우. 새로운 뇌를 만든다 참고.\n"
     ]
    }
   ],
   "source": [
    "query = \"인공지능의 역사에 대해 알려줘\"\n",
    "docs = compression_retriever.invoke(query)\n",
    "pretty_print_docs(docs)"
   ]
  },
  {
   "cell_type": "code",
   "execution_count": null,
   "id": "cbfbaeb1-7314-4acc-ade9-458f31220a5d",
   "metadata": {},
   "outputs": [],
   "source": []
  }
 ],
 "metadata": {
  "kernelspec": {
   "display_name": "Python 3 (ipykernel)",
   "language": "python",
   "name": "python3"
  },
  "language_info": {
   "codemirror_mode": {
    "name": "ipython",
    "version": 3
   },
   "file_extension": ".py",
   "mimetype": "text/x-python",
   "name": "python",
   "nbconvert_exporter": "python",
   "pygments_lexer": "ipython3",
   "version": "3.11.9"
  }
 },
 "nbformat": 4,
 "nbformat_minor": 5
}
