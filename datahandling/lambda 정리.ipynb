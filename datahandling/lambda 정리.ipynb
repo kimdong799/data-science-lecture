{
 "cells": [
  {
   "cell_type": "markdown",
   "id": "significant-barbados",
   "metadata": {},
   "source": [
    "lambda 함수는 데이터를 핸들링 하기 위해 pandas와 관련된 map, apply 등과 함께 유용하게 쓰인다.\n",
    "\n",
    "def 키워드로 함수를 정의해서 사용하는 것 또한 가능하지만 간단한 전처리를 위해선 1회용 함수인 lambda 함수를 주로 사용한다."
   ]
  },
  {
   "cell_type": "markdown",
   "id": "vanilla-trust",
   "metadata": {},
   "source": [
    "# 일반적인 함수와 lambda 함수의 비교\n",
    "---"
   ]
  },
  {
   "cell_type": "markdown",
   "id": "tested-breach",
   "metadata": {},
   "source": [
    "일반적인 def 키워드로 생성하는 함수는 아래와 같다."
   ]
  },
  {
   "cell_type": "code",
   "execution_count": 2,
   "id": "representative-french",
   "metadata": {
    "ExecuteTime": {
     "end_time": "2021-05-10T13:11:07.359880Z",
     "start_time": "2021-05-10T13:11:07.346914Z"
    }
   },
   "outputs": [
    {
     "data": {
      "text/plain": [
       "30"
      ]
     },
     "execution_count": 2,
     "metadata": {},
     "output_type": "execute_result"
    }
   ],
   "source": [
    "def plus(left, right):\n",
    "    result = left + right\n",
    "    return result\n",
    "\n",
    "plus(10, 20)"
   ]
  },
  {
   "cell_type": "markdown",
   "id": "awful-lecture",
   "metadata": {},
   "source": [
    "이번에는 같은 함수를 lambda 함수를 이용해서 만들어보자"
   ]
  },
  {
   "cell_type": "code",
   "execution_count": 6,
   "id": "attached-wells",
   "metadata": {
    "ExecuteTime": {
     "end_time": "2021-05-10T13:12:54.334540Z",
     "start_time": "2021-05-10T13:12:54.326594Z"
    }
   },
   "outputs": [
    {
     "data": {
      "text/plain": [
       "30"
      ]
     },
     "execution_count": 6,
     "metadata": {},
     "output_type": "execute_result"
    }
   ],
   "source": [
    "f = lambda x, y:x + y\n",
    "\n",
    "f(10, 20)"
   ]
  },
  {
   "cell_type": "markdown",
   "id": "military-seventh",
   "metadata": {},
   "source": [
    "위와 같이 lambda에 매개변수를 지정하고 :(콜론) 뒤 반환값으로 사용할 계산식을 지정한다."
   ]
  },
  {
   "cell_type": "markdown",
   "id": "square-alignment",
   "metadata": {},
   "source": [
    "그리고 lambda의 특징 중 하나는 특정 변수에 할당해서 사용해야한다. 이러한 이유로 lambda 함수가 익명 함수로 불리기도 한다."
   ]
  },
  {
   "cell_type": "markdown",
   "id": "anonymous-moore",
   "metadata": {},
   "source": [
    "아래의 그림을 보고 일반 함수와 lambda 함수의 차이를 이해하자."
   ]
  },
  {
   "attachments": {
    "image.png": {
     "image/png": "[encoded data removed]"
    }
   },
   "cell_type": "markdown",
   "id": "southwest-surgery",
   "metadata": {},
   "source": [
    "![image.png](attachment:image.png)"
   ]
  },
  {
   "cell_type": "markdown",
   "id": "suspended-shirt",
   "metadata": {},
   "source": [
    "참고) 코딩도장"
   ]
  },
  {
   "cell_type": "markdown",
   "id": "fewer-thousand",
   "metadata": {},
   "source": [
    "# lambda 표현식 자체를 호출\n",
    "---"
   ]
  },
  {
   "cell_type": "markdown",
   "id": "horizontal-branch",
   "metadata": {},
   "source": [
    "앞의 설명에서 lambda 함수는 특정 변수를 이용해서 사용해야 한다고 설명했다. 하지만 lambda 표현식 그 자체로 사용하는 방법이 없진 않다. 그 방법은 바로 괄호를 이용하는 것이다."
   ]
  },
  {
   "cell_type": "code",
   "execution_count": 9,
   "id": "continental-apparatus",
   "metadata": {
    "ExecuteTime": {
     "end_time": "2021-05-10T13:21:21.379763Z",
     "start_time": "2021-05-10T13:21:21.363441Z"
    },
    "scrolled": true
   },
   "outputs": [
    {
     "data": {
      "text/plain": [
       "25"
      ]
     },
     "execution_count": 9,
     "metadata": {},
     "output_type": "execute_result"
    }
   ],
   "source": [
    "# 5의 제곱을 구함ㅠ\n",
    "\n",
    "(lambda x: x**2)(5)"
   ]
  },
  {
   "cell_type": "markdown",
   "id": "sufficient-buffalo",
   "metadata": {},
   "source": [
    "# lambda 표현식 안에서 변수 생성은 불가능하다\n",
    "---"
   ]
  },
  {
   "cell_type": "code",
   "execution_count": 10,
   "id": "legitimate-pharmaceutical",
   "metadata": {
    "ExecuteTime": {
     "end_time": "2021-05-10T13:22:18.461120Z",
     "start_time": "2021-05-10T13:22:18.456133Z"
    }
   },
   "outputs": [
    {
     "ename": "SyntaxError",
     "evalue": "invalid syntax (<ipython-input-10-a9403626418d>, line 1)",
     "output_type": "error",
     "traceback": [
      "\u001b[1;36m  File \u001b[1;32m\"<ipython-input-10-a9403626418d>\"\u001b[1;36m, line \u001b[1;32m1\u001b[0m\n\u001b[1;33m    (lambda x: y = 10, x + y)(1)\u001b[0m\n\u001b[1;37m                 ^\u001b[0m\n\u001b[1;31mSyntaxError\u001b[0m\u001b[1;31m:\u001b[0m invalid syntax\n"
     ]
    }
   ],
   "source": [
    "(lambda x: y = 10, x + y)(1)"
   ]
  },
  {
   "cell_type": "markdown",
   "id": "suffering-december",
   "metadata": {},
   "source": [
    "하지만 lambda 표현식 밖에 있는 변수의 사용은 가능하다. 아래의 예시로 이해해보자"
   ]
  },
  {
   "cell_type": "code",
   "execution_count": 12,
   "id": "integrated-gravity",
   "metadata": {
    "ExecuteTime": {
     "end_time": "2021-05-10T13:23:32.201397Z",
     "start_time": "2021-05-10T13:23:32.187476Z"
    }
   },
   "outputs": [
    {
     "data": {
      "text/plain": [
       "15"
      ]
     },
     "execution_count": 12,
     "metadata": {},
     "output_type": "execute_result"
    }
   ],
   "source": [
    "# 최종적으로 lambda 표현식에는 x에 5가 입력, y에 10이 입력된다.\n",
    "\n",
    "y = 10\n",
    "(lambda x: x + y)(5)"
   ]
  },
  {
   "cell_type": "markdown",
   "id": "welsh-happening",
   "metadata": {},
   "source": [
    "# lambda 함수 예제\n",
    "---"
   ]
  },
  {
   "cell_type": "code",
   "execution_count": 16,
   "id": "homeless-scroll",
   "metadata": {
    "ExecuteTime": {
     "end_time": "2021-05-11T02:05:19.299469Z",
     "start_time": "2021-05-11T02:05:19.286499Z"
    }
   },
   "outputs": [
    {
     "data": {
      "text/plain": [
       "30"
      ]
     },
     "execution_count": 16,
     "metadata": {},
     "output_type": "execute_result"
    }
   ],
   "source": [
    "# x와 y를 더하는 lambda 함수식\n",
    "\n",
    "(lambda x, y: x+y)(10, 20)"
   ]
  },
  {
   "cell_type": "code",
   "execution_count": 18,
   "id": "destroyed-trust",
   "metadata": {
    "ExecuteTime": {
     "end_time": "2021-05-11T02:06:09.754093Z",
     "start_time": "2021-05-11T02:06:09.739088Z"
    }
   },
   "outputs": [
    {
     "data": {
      "text/plain": [
       "'ABC'"
      ]
     },
     "execution_count": 18,
     "metadata": {},
     "output_type": "execute_result"
    }
   ],
   "source": [
    "# 대문자로 만드는 lamba 함수식\n",
    "\n",
    "(lambda x: x.upper())('abc')"
   ]
  },
  {
   "cell_type": "code",
   "execution_count": 19,
   "id": "advanced-swiss",
   "metadata": {
    "ExecuteTime": {
     "end_time": "2021-05-11T02:06:28.139371Z",
     "start_time": "2021-05-11T02:06:28.124452Z"
    }
   },
   "outputs": [
    {
     "data": {
      "text/plain": [
       "'abc'"
      ]
     },
     "execution_count": 19,
     "metadata": {},
     "output_type": "execute_result"
    }
   ],
   "source": [
    "# 소문자로 만드는 lambda 함수식\n",
    "\n",
    "(lambda x: x.lower())('ABC')"
   ]
  },
  {
   "cell_type": "markdown",
   "id": "interesting-phrase",
   "metadata": {},
   "source": [
    "- lambda 식에서 if문은 반드시 if else를 명시"
   ]
  },
  {
   "cell_type": "code",
   "execution_count": 30,
   "id": "afraid-abuse",
   "metadata": {
    "ExecuteTime": {
     "end_time": "2021-05-11T02:11:30.176247Z",
     "start_time": "2021-05-11T02:11:30.163282Z"
    }
   },
   "outputs": [
    {
     "name": "stdout",
     "output_type": "stream",
     "text": [
      "100\n",
      "5\n"
     ]
    }
   ],
   "source": [
    "# 짝수면 제곱, 아니면 그대로 유지\n",
    "\n",
    "f = lambda x: x**2 if x % 2 == 0 else x\n",
    "\n",
    "print(f(10))\n",
    "print(f(5))"
   ]
  },
  {
   "cell_type": "code",
   "execution_count": 31,
   "id": "controlling-presence",
   "metadata": {
    "ExecuteTime": {
     "end_time": "2021-05-11T02:12:40.410768Z",
     "start_time": "2021-05-11T02:12:40.404817Z"
    }
   },
   "outputs": [
    {
     "name": "stdout",
     "output_type": "stream",
     "text": [
      "ABC\n",
      "10\n"
     ]
    }
   ],
   "source": [
    "# str형이면 소문자로 아니면 그대로 유지\n",
    "\n",
    "f = lambda x: x.lower() if type(x)=='str' else x\n",
    "\n",
    "print(f('ABC'))\n",
    "print(f(10))"
   ]
  },
  {
   "cell_type": "markdown",
   "id": "consecutive-directory",
   "metadata": {},
   "source": [
    "# filter\n",
    "---"
   ]
  },
  {
   "cell_type": "code",
   "execution_count": 36,
   "id": "intermediate-bunch",
   "metadata": {
    "ExecuteTime": {
     "end_time": "2021-05-11T02:15:41.250298Z",
     "start_time": "2021-05-11T02:15:41.244346Z"
    }
   },
   "outputs": [
    {
     "name": "stdout",
     "output_type": "stream",
     "text": [
      "[0, 2, 4, 6, 8]\n"
     ]
    }
   ],
   "source": [
    "# filter함수와 lambda 식을 이용해 짝수인 데이터를 추출하시오\n",
    "\n",
    "arr = np.arange(10)\n",
    "\n",
    "result = filter(lambda x: x%2==0, arr)\n",
    "\n",
    "print(list(result))"
   ]
  },
  {
   "cell_type": "markdown",
   "id": "global-shanghai",
   "metadata": {},
   "source": [
    "# map\n",
    "----"
   ]
  },
  {
   "cell_type": "markdown",
   "id": "combined-generic",
   "metadata": {},
   "source": [
    "- map 함수는 Series를 대상으로 함수 적용"
   ]
  },
  {
   "cell_type": "code",
   "execution_count": 42,
   "id": "welsh-transaction",
   "metadata": {
    "ExecuteTime": {
     "end_time": "2021-05-11T02:22:07.710584Z",
     "start_time": "2021-05-11T02:22:07.687645Z"
    }
   },
   "outputs": [
    {
     "data": {
      "text/html": [
       "<div>\n",
       "<style scoped>\n",
       "    .dataframe tbody tr th:only-of-type {\n",
       "        vertical-align: middle;\n",
       "    }\n",
       "\n",
       "    .dataframe tbody tr th {\n",
       "        vertical-align: top;\n",
       "    }\n",
       "\n",
       "    .dataframe thead th {\n",
       "        text-align: right;\n",
       "    }\n",
       "</style>\n",
       "<table border=\"1\" class=\"dataframe\">\n",
       "  <thead>\n",
       "    <tr style=\"text-align: right;\">\n",
       "      <th></th>\n",
       "      <th>age</th>\n",
       "      <th>height</th>\n",
       "      <th>weight</th>\n",
       "    </tr>\n",
       "  </thead>\n",
       "  <tbody>\n",
       "    <tr>\n",
       "      <th>0</th>\n",
       "      <td>30</td>\n",
       "      <td>178</td>\n",
       "      <td>80</td>\n",
       "    </tr>\n",
       "    <tr>\n",
       "      <th>1</th>\n",
       "      <td>25</td>\n",
       "      <td>180</td>\n",
       "      <td>100</td>\n",
       "    </tr>\n",
       "    <tr>\n",
       "      <th>2</th>\n",
       "      <td>25</td>\n",
       "      <td>160</td>\n",
       "      <td>55</td>\n",
       "    </tr>\n",
       "    <tr>\n",
       "      <th>3</th>\n",
       "      <td>12</td>\n",
       "      <td>140</td>\n",
       "      <td>40</td>\n",
       "    </tr>\n",
       "    <tr>\n",
       "      <th>4</th>\n",
       "      <td>40</td>\n",
       "      <td>176</td>\n",
       "      <td>70</td>\n",
       "    </tr>\n",
       "  </tbody>\n",
       "</table>\n",
       "</div>"
      ],
      "text/plain": [
       "   age  height  weight\n",
       "0   30     178      80\n",
       "1   25     180     100\n",
       "2   25     160      55\n",
       "3   12     140      40\n",
       "4   40     176      70"
      ]
     },
     "execution_count": 42,
     "metadata": {},
     "output_type": "execute_result"
    }
   ],
   "source": [
    "import pandas as pd\n",
    "\n",
    "df = pd.DataFrame({\"age\":[30,25,25,12,40],\n",
    "                  \"height\":[178,180,160,140,176],\n",
    "                  \"weight\":[80,100,55,40,70]})\n",
    "\n",
    "df"
   ]
  },
  {
   "cell_type": "code",
   "execution_count": 43,
   "id": "bacterial-venice",
   "metadata": {
    "ExecuteTime": {
     "end_time": "2021-05-11T02:22:07.960022Z",
     "start_time": "2021-05-11T02:22:07.942070Z"
    }
   },
   "outputs": [
    {
     "data": {
      "text/html": [
       "<div>\n",
       "<style scoped>\n",
       "    .dataframe tbody tr th:only-of-type {\n",
       "        vertical-align: middle;\n",
       "    }\n",
       "\n",
       "    .dataframe tbody tr th {\n",
       "        vertical-align: top;\n",
       "    }\n",
       "\n",
       "    .dataframe thead th {\n",
       "        text-align: right;\n",
       "    }\n",
       "</style>\n",
       "<table border=\"1\" class=\"dataframe\">\n",
       "  <thead>\n",
       "    <tr style=\"text-align: right;\">\n",
       "      <th></th>\n",
       "      <th>age</th>\n",
       "      <th>height</th>\n",
       "      <th>weight</th>\n",
       "    </tr>\n",
       "  </thead>\n",
       "  <tbody>\n",
       "    <tr>\n",
       "      <th>0</th>\n",
       "      <td>30</td>\n",
       "      <td>178</td>\n",
       "      <td>176.400</td>\n",
       "    </tr>\n",
       "    <tr>\n",
       "      <th>1</th>\n",
       "      <td>25</td>\n",
       "      <td>180</td>\n",
       "      <td>220.500</td>\n",
       "    </tr>\n",
       "    <tr>\n",
       "      <th>2</th>\n",
       "      <td>25</td>\n",
       "      <td>160</td>\n",
       "      <td>121.275</td>\n",
       "    </tr>\n",
       "    <tr>\n",
       "      <th>3</th>\n",
       "      <td>12</td>\n",
       "      <td>140</td>\n",
       "      <td>88.200</td>\n",
       "    </tr>\n",
       "    <tr>\n",
       "      <th>4</th>\n",
       "      <td>40</td>\n",
       "      <td>176</td>\n",
       "      <td>154.350</td>\n",
       "    </tr>\n",
       "  </tbody>\n",
       "</table>\n",
       "</div>"
      ],
      "text/plain": [
       "   age  height   weight\n",
       "0   30     178  176.400\n",
       "1   25     180  220.500\n",
       "2   25     160  121.275\n",
       "3   12     140   88.200\n",
       "4   40     176  154.350"
      ]
     },
     "execution_count": 43,
     "metadata": {},
     "output_type": "execute_result"
    }
   ],
   "source": [
    "# map 함수와 lambda 함수식을 이용해 weight를 pund로 변환하시오 * 2.205\n",
    "\n",
    "df['weight'] = df['weight'].map(lambda x: x*2.205)\n",
    "df"
   ]
  },
  {
   "cell_type": "markdown",
   "id": "annual-pregnancy",
   "metadata": {},
   "source": [
    "# apply\n",
    "---"
   ]
  },
  {
   "cell_type": "markdown",
   "id": "remarkable-starter",
   "metadata": {
    "ExecuteTime": {
     "end_time": "2021-05-11T02:22:33.569956Z",
     "start_time": "2021-05-11T02:22:33.552003Z"
    }
   },
   "source": [
    "- apply 함수는 전체 Series(컬럼)을 대상으로 함수를 적용합니다."
   ]
  },
  {
   "cell_type": "code",
   "execution_count": 46,
   "id": "moving-visit",
   "metadata": {
    "ExecuteTime": {
     "end_time": "2021-05-11T02:23:14.203773Z",
     "start_time": "2021-05-11T02:23:14.195828Z"
    }
   },
   "outputs": [
    {
     "data": {
      "text/plain": [
       "age        28.0\n",
       "height     40.0\n",
       "weight    132.3\n",
       "dtype: float64"
      ]
     },
     "execution_count": 46,
     "metadata": {},
     "output_type": "execute_result"
    }
   ],
   "source": [
    "# 학생 데이터프레임의 전체 컬럼의 최댓값 - 최솟값을 계산하시오\n",
    "\n",
    "df.apply(lambda x: x.max() - x.min())"
   ]
  },
  {
   "cell_type": "markdown",
   "id": "north-virtue",
   "metadata": {},
   "source": [
    "# applymap\n",
    "---"
   ]
  },
  {
   "cell_type": "markdown",
   "id": "offshore-wrestling",
   "metadata": {},
   "source": [
    "- applymap 함수는 DF의 모든 element에 대해 함수를 적용합니다. (axis 인자 X)\n"
   ]
  },
  {
   "cell_type": "code",
   "execution_count": 47,
   "id": "vocal-operation",
   "metadata": {
    "ExecuteTime": {
     "end_time": "2021-05-11T02:24:30.890918Z",
     "start_time": "2021-05-11T02:24:30.877952Z"
    }
   },
   "outputs": [
    {
     "data": {
      "text/html": [
       "<div>\n",
       "<style scoped>\n",
       "    .dataframe tbody tr th:only-of-type {\n",
       "        vertical-align: middle;\n",
       "    }\n",
       "\n",
       "    .dataframe tbody tr th {\n",
       "        vertical-align: top;\n",
       "    }\n",
       "\n",
       "    .dataframe thead th {\n",
       "        text-align: right;\n",
       "    }\n",
       "</style>\n",
       "<table border=\"1\" class=\"dataframe\">\n",
       "  <thead>\n",
       "    <tr style=\"text-align: right;\">\n",
       "      <th></th>\n",
       "      <th>age</th>\n",
       "      <th>height</th>\n",
       "      <th>weight</th>\n",
       "    </tr>\n",
       "  </thead>\n",
       "  <tbody>\n",
       "    <tr>\n",
       "      <th>0</th>\n",
       "      <td>-30</td>\n",
       "      <td>-178</td>\n",
       "      <td>-176.400</td>\n",
       "    </tr>\n",
       "    <tr>\n",
       "      <th>1</th>\n",
       "      <td>-25</td>\n",
       "      <td>-180</td>\n",
       "      <td>-220.500</td>\n",
       "    </tr>\n",
       "    <tr>\n",
       "      <th>2</th>\n",
       "      <td>-25</td>\n",
       "      <td>-160</td>\n",
       "      <td>-121.275</td>\n",
       "    </tr>\n",
       "    <tr>\n",
       "      <th>3</th>\n",
       "      <td>-12</td>\n",
       "      <td>-140</td>\n",
       "      <td>-88.200</td>\n",
       "    </tr>\n",
       "    <tr>\n",
       "      <th>4</th>\n",
       "      <td>-40</td>\n",
       "      <td>-176</td>\n",
       "      <td>-154.350</td>\n",
       "    </tr>\n",
       "  </tbody>\n",
       "</table>\n",
       "</div>"
      ],
      "text/plain": [
       "   age  height   weight\n",
       "0  -30    -178 -176.400\n",
       "1  -25    -180 -220.500\n",
       "2  -25    -160 -121.275\n",
       "3  -12    -140  -88.200\n",
       "4  -40    -176 -154.350"
      ]
     },
     "execution_count": 47,
     "metadata": {},
     "output_type": "execute_result"
    }
   ],
   "source": [
    "# 데이터프레임의 전체 element에 대해 음수로 변경하시오\n",
    "\n",
    "df.applymap(lambda x: -x)"
   ]
  },
  {
   "cell_type": "code",
   "execution_count": null,
   "id": "mechanical-torture",
   "metadata": {},
   "outputs": [],
   "source": []
  }
 ],
 "metadata": {
  "kernelspec": {
   "display_name": "Python 3",
   "language": "python",
   "name": "python3"
  },
  "language_info": {
   "codemirror_mode": {
    "name": "ipython",
    "version": 3
   },
   "file_extension": ".py",
   "mimetype": "text/x-python",
   "name": "python",
   "nbconvert_exporter": "python",
   "pygments_lexer": "ipython3",
   "version": "3.7.10"
  },
  "toc": {
   "base_numbering": 1,
   "nav_menu": {},
   "number_sections": true,
   "sideBar": true,
   "skip_h1_title": false,
   "title_cell": "Table of Contents",
   "title_sidebar": "Contents",
   "toc_cell": false,
   "toc_position": {},
   "toc_section_display": true,
   "toc_window_display": false
  },
  "varInspector": {
   "cols": {
    "lenName": 16,
    "lenType": 16,
    "lenVar": 40
   },
   "kernels_config": {
    "python": {
     "delete_cmd_postfix": "",
     "delete_cmd_prefix": "del ",
     "library": "var_list.py",
     "varRefreshCmd": "print(var_dic_list())"
    },
    "r": {
     "delete_cmd_postfix": ") ",
     "delete_cmd_prefix": "rm(",
     "library": "var_list.r",
     "varRefreshCmd": "cat(var_dic_list()) "
    }
   },
   "types_to_exclude": [
    "module",
    "function",
    "builtin_function_or_method",
    "instance",
    "_Feature"
   ],
   "window_display": false
  }
 },
 "nbformat": 4,
 "nbformat_minor": 5
}
