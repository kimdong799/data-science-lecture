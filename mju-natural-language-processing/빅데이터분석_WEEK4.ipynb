{
 "cells": [
  {
   "cell_type": "markdown",
   "metadata": {},
   "source": [
    "HTML 알아두어야 하는 태그"
   ]
  },
  {
   "cell_type": "code",
   "execution_count": 2,
   "metadata": {},
   "outputs": [],
   "source": [
    "# <div> 아무런 의미가 없음. 컨텐츠들을 묶고자 할 때 쓰임 (줄바꿈 O)\n",
    "# <span> 아무런 의미가 없음. 컨텐츠들을 묶고자 할 때 쓰임 (줄바꿈 X)\n",
    "\n",
    "# <ul> (<li>가 함께쓰임)\n",
    "# 순서가 없는 목록. 글자 앞에 불릿이 붙음\n",
    "# <ol>(<li>가 함께쓰임)\n",
    "# 순서가 있는 목록. 앞에 영문이 붙음. <ol type=\"A\"> 처럼 타입 지정 가능"
   ]
  },
  {
   "cell_type": "code",
   "execution_count": 6,
   "metadata": {},
   "outputs": [],
   "source": [
    "# <hn> (n:숫자)\n",
    "# 제목. <h1>부터 <h6>까지 존재. 서로 크기가 다름\n",
    "# <br>\n",
    "# 줄바꿈\n",
    "# <p>\n",
    "# 문단 앞뒤로 빈 줄이 생기면서 단락이 생김"
   ]
  },
  {
   "cell_type": "code",
   "execution_count": null,
   "metadata": {},
   "outputs": [],
   "source": []
  },
  {
   "cell_type": "code",
   "execution_count": null,
   "metadata": {},
   "outputs": [],
   "source": []
  },
  {
   "cell_type": "code",
   "execution_count": null,
   "metadata": {},
   "outputs": [],
   "source": []
  },
  {
   "cell_type": "code",
   "execution_count": 32,
   "metadata": {
    "ExecuteTime": {
     "end_time": "2021-02-22T06:03:11.482208Z",
     "start_time": "2021-02-22T06:03:11.459271Z"
    }
   },
   "outputs": [
    {
     "name": "stdout",
     "output_type": "stream",
     "text": [
      "Personal\n",
      "Open source\n",
      "Business\n",
      "Explore\n",
      "Pricing\n",
      "Blog\n",
      "Support\n",
      "\n",
      "\n",
      "Use at least one letter, one numeral, and seven characters.\n",
      "Sign up for GitHub\n",
      "By clicking \"Sign up for GitHub\", you agree to our terms of service and\n",
      "                                privacy policy. We'll occasionally send you account related emails.\n",
      "For everything you build\n",
      "Host and manage your code on GitHub. You can keep your work private or share it with the\n",
      "                                world.\n",
      "A better way to work\n",
      "From hobbyists to professionals, GitHub helps developers simplify the way they build\n",
      "                                software.\n",
      "Millions of projects\n",
      "GitHub is home to millions of open source projects. Try one out or get inspired to create\n",
      "                                your own.\n",
      "One platform, from start to finish\n",
      "With hundreds of integrations, GitHub is flexible enough to be at the center of your\n",
      "                                development process.\n",
      "@2016 GitHub.Inc\n",
      "Terms\n",
      "Privacy\n",
      "Security\n",
      "Status\n",
      "Help\n",
      "contact GitHub\n",
      "API\n",
      "Training\n",
      "Shop\n",
      "Blog\n",
      "About\n"
     ]
    }
   ],
   "source": [
    "import requests\n",
    "from bs4 import BeautifulSoup\n",
    "\n",
    "# res = resquests.get('')\n",
    "f = open(\"C:/Users/Kim/Desktop/FastCampus/html/깃허브클론코딩/index.html\", 'r', encoding='utf8')\n",
    "soup = BeautifulSoup(f, 'html.parser')\n",
    "items = soup.select('li')\n",
    "\n",
    "# 리스트 형태로 받아왔기 때문에 반복문 사용\n",
    "for item in items:\n",
    "    print(item.get_text().strip())"
   ]
  },
  {
   "cell_type": "code",
   "execution_count": 35,
   "metadata": {
    "ExecuteTime": {
     "end_time": "2021-02-22T06:07:55.474740Z",
     "start_time": "2021-02-22T06:07:55.450805Z"
    }
   },
   "outputs": [
    {
     "name": "stdout",
     "output_type": "stream",
     "text": [
      "\n",
      "\n",
      "For everything you build\n",
      "Host and manage your code on GitHub. You can keep your work private or share it with the\n",
      "                                world.\n",
      "\n"
     ]
    }
   ],
   "source": [
    "import requests\n",
    "from bs4 import BeautifulSoup\n",
    "\n",
    "# res = resquests.get('')\n",
    "f = open(\"C:/Users/Kim/Desktop/FastCampus/html/깃허브클론코딩/index.html\", 'r', encoding='utf8')\n",
    "soup = BeautifulSoup(f, 'html.parser')\n",
    "items = soup.select_one('div.tiles li')\n",
    "\n",
    "print(items.get_text())"
   ]
  },
  {
   "cell_type": "code",
   "execution_count": 34,
   "metadata": {
    "ExecuteTime": {
     "end_time": "2021-02-22T06:03:24.610294Z",
     "start_time": "2021-02-22T06:03:24.586358Z"
    }
   },
   "outputs": [
    {
     "name": "stdout",
     "output_type": "stream",
     "text": [
      "Personal\n"
     ]
    }
   ],
   "source": [
    "import requests\n",
    "from bs4 import BeautifulSoup\n",
    "\n",
    "# res = resquests.get('')\n",
    "f = open(\"C:/Users/Kim/Desktop/FastCampus/html/깃허브클론코딩/index.html\", 'r', encoding='utf8')\n",
    "soup = BeautifulSoup(f, 'html.parser')\n",
    "items = soup.select_one('li')\n",
    "\n",
    "# 리스트 형태로 받아왔기 때문에 반복문 사용\n",
    "\n",
    "print(items.get_text().strip())"
   ]
  },
  {
   "cell_type": "code",
   "execution_count": 53,
   "metadata": {
    "ExecuteTime": {
     "end_time": "2021-02-22T06:18:04.231302Z",
     "start_time": "2021-02-22T06:18:04.206369Z"
    }
   },
   "outputs": [
    {
     "name": "stdout",
     "output_type": "stream",
     "text": [
      "Millions of developers use GitHub to build personal projects, support their businesses,\n",
      "                        and work\n",
      "                        together on open source technologies.\n"
     ]
    }
   ],
   "source": [
    "import requests\n",
    "from bs4 import BeautifulSoup\n",
    "\n",
    "# res = resquests.get('')\n",
    "f = open(\"C:/Users/Kim/Desktop/FastCampus/html/깃허브클론코딩/index.html\", 'r', encoding='utf8')\n",
    "soup = BeautifulSoup(f, 'html.parser')\n",
    "items = soup.select('body > div > section.section.section--visual > div > div > p')\n",
    "\n",
    "# 리스트 형태로 받아왔기 때문에 반복문 사용\n",
    "\n",
    "for i in items:\n",
    "    print(i.get_text().strip())"
   ]
  },
  {
   "cell_type": "code",
   "execution_count": 58,
   "metadata": {
    "ExecuteTime": {
     "end_time": "2021-02-22T06:20:04.001704Z",
     "start_time": "2021-02-22T06:20:03.977808Z"
    }
   },
   "outputs": [
    {
     "name": "stdout",
     "output_type": "stream",
     "text": [
      "Millions of developers use GitHub to build personal projects, support their businesses,\n",
      "                        and work\n",
      "                        together on open source technologies.\n"
     ]
    }
   ],
   "source": [
    "import requests\n",
    "from bs4 import BeautifulSoup\n",
    "\n",
    "# res = resquests.get('')\n",
    "f = open(\"C:/Users/Kim/Desktop/FastCampus/html/깃허브클론코딩/index.html\", 'r', encoding='utf8')\n",
    "soup = BeautifulSoup(f, 'html.parser')\n",
    "items = soup.select('section.section.section--visual div div p')\n",
    "\n",
    "# 리스트 형태로 받아왔기 때문에 반복문 사용\n",
    "\n",
    "for i in items:\n",
    "    print(i.get_text().strip())"
   ]
  },
  {
   "cell_type": "code",
   "execution_count": null,
   "metadata": {},
   "outputs": [],
   "source": []
  },
  {
   "cell_type": "code",
   "execution_count": null,
   "metadata": {},
   "outputs": [],
   "source": []
  },
  {
   "cell_type": "code",
   "execution_count": 61,
   "metadata": {
    "ExecuteTime": {
     "end_time": "2021-02-22T06:50:09.395806Z",
     "start_time": "2021-02-22T06:50:09.388862Z"
    }
   },
   "outputs": [],
   "source": [
    "from selenium import webdriver\n",
    "from selenium.webdriver.common.keys import Keys\n",
    "import time"
   ]
  },
  {
   "cell_type": "code",
   "execution_count": 72,
   "metadata": {
    "ExecuteTime": {
     "end_time": "2021-02-22T07:02:54.202026Z",
     "start_time": "2021-02-22T07:02:49.344429Z"
    }
   },
   "outputs": [],
   "source": [
    "driver = webdriver.Chrome(\"C:/Users/Kim/Downloads/chromedriver.exe\")\n",
    "\n",
    "url = \"http://google.com\"  # 방문하고자 하는 웹 주소\n",
    "driver.get(url)   # 해당 url 열기\n",
    "\n",
    "time.sleep(1)\n",
    "\n",
    "driver.find_element_by_css_selector(\"input.gLFyf.gsfi\").send_keys('파이썬')\n",
    "\n",
    "# 클래스명은 .을 활용\n",
    "# input클래스를 찾아 css selector를 이용하고 send_keys로 검색어를 설정한다.\n",
    "\n",
    "driver.find_element_by_css_selector(\".gLFyf.gsfi\").send_keys(Keys.ENTER)\n",
    "# 위 코드를 통해 enter키 사용 가능\n",
    "\n",
    "driver.find_elements_by_css_selector(\".LC20lb\")[1].click()"
   ]
  }
 ],
 "metadata": {
  "kernelspec": {
   "display_name": "Python 3",
   "language": "python",
   "name": "python3"
  },
  "language_info": {
   "codemirror_mode": {
    "name": "ipython",
    "version": 3
   },
   "file_extension": ".py",
   "mimetype": "text/x-python",
   "name": "python",
   "nbconvert_exporter": "python",
   "pygments_lexer": "ipython3",
   "version": "3.7.6"
  },
  "toc": {
   "base_numbering": 1,
   "nav_menu": {},
   "number_sections": true,
   "sideBar": true,
   "skip_h1_title": false,
   "title_cell": "Table of Contents",
   "title_sidebar": "Contents",
   "toc_cell": false,
   "toc_position": {},
   "toc_section_display": true,
   "toc_window_display": false
  },
  "varInspector": {
   "cols": {
    "lenName": 16,
    "lenType": 16,
    "lenVar": 40
   },
   "kernels_config": {
    "python": {
     "delete_cmd_postfix": "",
     "delete_cmd_prefix": "del ",
     "library": "var_list.py",
     "varRefreshCmd": "print(var_dic_list())"
    },
    "r": {
     "delete_cmd_postfix": ") ",
     "delete_cmd_prefix": "rm(",
     "library": "var_list.r",
     "varRefreshCmd": "cat(var_dic_list()) "
    }
   },
   "types_to_exclude": [
    "module",
    "function",
    "builtin_function_or_method",
    "instance",
    "_Feature"
   ],
   "window_display": false
  }
 },
 "nbformat": 4,
 "nbformat_minor": 4
}
