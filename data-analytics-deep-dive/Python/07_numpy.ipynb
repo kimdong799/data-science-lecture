{
 "cells": [
  {
   "cell_type": "markdown",
   "id": "prerequisite-movie",
   "metadata": {},
   "source": [
    "### Numpy\n",
    "- 데이터는 행렬로 표현\n",
    "- 행렬 데이터를 빠르게 계산\n",
    "- 행렬 데이터를 생성, 수정, 계산하는 패키지\n",
    "- 특징\n",
    "    - C, C++, 포트란으로 작성\n",
    "    - 선형대수학을 빠르게 연산\n",
    "        - 스칼라, 벡터, 매트릭스"
   ]
  },
  {
   "cell_type": "code",
   "execution_count": 1,
   "id": "monthly-render",
   "metadata": {
    "ExecuteTime": {
     "end_time": "2021-07-03T04:17:34.100598Z",
     "start_time": "2021-07-03T04:17:34.092619Z"
    }
   },
   "outputs": [],
   "source": [
    "import numpy as np"
   ]
  },
  {
   "cell_type": "code",
   "execution_count": 5,
   "id": "matched-defense",
   "metadata": {
    "ExecuteTime": {
     "end_time": "2021-07-03T04:18:02.937405Z",
     "start_time": "2021-07-03T04:18:02.915463Z"
    }
   },
   "outputs": [
    {
     "data": {
      "text/plain": [
       "(array([1, 2, 3]), numpy.ndarray)"
      ]
     },
     "execution_count": 5,
     "metadata": {},
     "output_type": "execute_result"
    }
   ],
   "source": [
    "# 행렬 데이터 생성\n",
    "\n",
    "arr = np.array([1, 2, 3])\n",
    "arr, type(arr)"
   ]
  },
  {
   "cell_type": "code",
   "execution_count": 6,
   "id": "afraid-delivery",
   "metadata": {
    "ExecuteTime": {
     "end_time": "2021-07-03T04:19:38.438116Z",
     "start_time": "2021-07-03T04:19:38.416197Z"
    }
   },
   "outputs": [
    {
     "data": {
      "text/plain": [
       "array([[1, 2, 3],\n",
       "       [4, 5, 6]])"
      ]
     },
     "execution_count": 6,
     "metadata": {},
     "output_type": "execute_result"
    }
   ],
   "source": [
    "arr2 = np.array([\n",
    "    [1, 2, 3],\n",
    "    [4, 5, 6]\n",
    "])\n",
    "arr2"
   ]
  },
  {
   "cell_type": "code",
   "execution_count": 8,
   "id": "conscious-belief",
   "metadata": {
    "ExecuteTime": {
     "end_time": "2021-07-03T04:20:05.549270Z",
     "start_time": "2021-07-03T04:20:05.541291Z"
    }
   },
   "outputs": [
    {
     "data": {
      "text/plain": [
       "(2, (2, 3), 6)"
      ]
     },
     "execution_count": 8,
     "metadata": {},
     "output_type": "execute_result"
    }
   ],
   "source": [
    "# 차원, shape, size\n",
    "\n",
    "arr2.ndim, arr2.shape, arr2.size"
   ]
  },
  {
   "cell_type": "code",
   "execution_count": 9,
   "id": "declared-flash",
   "metadata": {
    "ExecuteTime": {
     "end_time": "2021-07-03T04:21:09.583804Z",
     "start_time": "2021-07-03T04:21:09.569842Z"
    }
   },
   "outputs": [
    {
     "data": {
      "text/plain": [
       "array([[1, 2],\n",
       "       [3, 4],\n",
       "       [5, 6]])"
      ]
     },
     "execution_count": 9,
     "metadata": {},
     "output_type": "execute_result"
    }
   ],
   "source": [
    "# 행렬의 모양(shape) 변경하기\n",
    "\n",
    "arr2.reshape(3, 2)"
   ]
  },
  {
   "cell_type": "code",
   "execution_count": 10,
   "id": "associate-tactics",
   "metadata": {
    "ExecuteTime": {
     "end_time": "2021-07-03T04:21:24.217614Z",
     "start_time": "2021-07-03T04:21:24.206681Z"
    }
   },
   "outputs": [
    {
     "data": {
      "text/plain": [
       "array([4, 5, 6])"
      ]
     },
     "execution_count": 10,
     "metadata": {},
     "output_type": "execute_result"
    }
   ],
   "source": [
    "# 행렬 데이터의 선택\n",
    "\n",
    "arr2[1]"
   ]
  },
  {
   "cell_type": "code",
   "execution_count": 11,
   "id": "rotary-router",
   "metadata": {
    "ExecuteTime": {
     "end_time": "2021-07-03T04:21:35.115477Z",
     "start_time": "2021-07-03T04:21:35.105504Z"
    }
   },
   "outputs": [
    {
     "data": {
      "text/plain": [
       "array([6, 5, 4])"
      ]
     },
     "execution_count": 11,
     "metadata": {},
     "output_type": "execute_result"
    }
   ],
   "source": [
    "arr2[1][::-1]"
   ]
  },
  {
   "cell_type": "code",
   "execution_count": 12,
   "id": "square-vaccine",
   "metadata": {
    "ExecuteTime": {
     "end_time": "2021-07-03T04:21:50.131153Z",
     "start_time": "2021-07-03T04:21:50.112168Z"
    }
   },
   "outputs": [
    {
     "data": {
      "text/plain": [
       "2"
      ]
     },
     "execution_count": 12,
     "metadata": {},
     "output_type": "execute_result"
    }
   ],
   "source": [
    "arr2[0][1]"
   ]
  },
  {
   "cell_type": "code",
   "execution_count": 13,
   "id": "covered-kinase",
   "metadata": {
    "ExecuteTime": {
     "end_time": "2021-07-03T04:21:59.947054Z",
     "start_time": "2021-07-03T04:21:59.931096Z"
    }
   },
   "outputs": [
    {
     "data": {
      "text/plain": [
       "2"
      ]
     },
     "execution_count": 13,
     "metadata": {},
     "output_type": "execute_result"
    }
   ],
   "source": [
    "arr2[0,1]"
   ]
  },
  {
   "cell_type": "code",
   "execution_count": 14,
   "id": "endangered-procedure",
   "metadata": {
    "ExecuteTime": {
     "end_time": "2021-07-03T04:22:26.441479Z",
     "start_time": "2021-07-03T04:22:26.419542Z"
    }
   },
   "outputs": [
    {
     "data": {
      "text/plain": [
       "array([[1, 2, 3],\n",
       "       [4, 5, 6]])"
      ]
     },
     "execution_count": 14,
     "metadata": {},
     "output_type": "execute_result"
    }
   ],
   "source": [
    "# 데이터 수정\n",
    "\n",
    "arr2"
   ]
  },
  {
   "cell_type": "code",
   "execution_count": 15,
   "id": "valid-furniture",
   "metadata": {
    "ExecuteTime": {
     "end_time": "2021-07-03T04:22:48.527325Z",
     "start_time": "2021-07-03T04:22:48.517350Z"
    }
   },
   "outputs": [
    {
     "data": {
      "text/plain": [
       "array([[  1, 999,   3],\n",
       "       [  4,   5,   6]])"
      ]
     },
     "execution_count": 15,
     "metadata": {},
     "output_type": "execute_result"
    }
   ],
   "source": [
    "arr2[0,1] = 999\n",
    "\n",
    "arr2"
   ]
  },
  {
   "cell_type": "code",
   "execution_count": 16,
   "id": "lucky-nutrition",
   "metadata": {
    "ExecuteTime": {
     "end_time": "2021-07-03T04:23:13.105191Z",
     "start_time": "2021-07-03T04:23:13.090764Z"
    }
   },
   "outputs": [
    {
     "data": {
      "text/plain": [
       "array([[  1, 999,   3],\n",
       "       [  0,   0,   0]])"
      ]
     },
     "execution_count": 16,
     "metadata": {},
     "output_type": "execute_result"
    }
   ],
   "source": [
    "arr2[1] = 0\n",
    "\n",
    "arr2"
   ]
  },
  {
   "cell_type": "code",
   "execution_count": 17,
   "id": "urban-interval",
   "metadata": {
    "ExecuteTime": {
     "end_time": "2021-07-03T04:23:31.135145Z",
     "start_time": "2021-07-03T04:23:31.120712Z"
    }
   },
   "outputs": [
    {
     "data": {
      "text/plain": [
       "array([[False,  True, False],\n",
       "       [False, False, False]])"
      ]
     },
     "execution_count": 17,
     "metadata": {},
     "output_type": "execute_result"
    }
   ],
   "source": [
    "# 조건으로 선택\n",
    "\n",
    "arr2 > 7"
   ]
  },
  {
   "cell_type": "code",
   "execution_count": 18,
   "id": "prescribed-scheme",
   "metadata": {
    "ExecuteTime": {
     "end_time": "2021-07-03T04:23:40.483971Z",
     "start_time": "2021-07-03T04:23:40.460037Z"
    }
   },
   "outputs": [
    {
     "data": {
      "text/plain": [
       "array([999])"
      ]
     },
     "execution_count": 18,
     "metadata": {},
     "output_type": "execute_result"
    }
   ],
   "source": [
    "arr2[arr2>7]"
   ]
  },
  {
   "cell_type": "code",
   "execution_count": 19,
   "id": "hearing-germany",
   "metadata": {
    "ExecuteTime": {
     "end_time": "2021-07-03T04:24:09.997786Z",
     "start_time": "2021-07-03T04:24:09.974846Z"
    }
   },
   "outputs": [
    {
     "data": {
      "text/plain": [
       "array([[   1, -999,    3],\n",
       "       [   0,    0,    0]])"
      ]
     },
     "execution_count": 19,
     "metadata": {},
     "output_type": "execute_result"
    }
   ],
   "source": [
    "arr2[arr2>7] = -999\n",
    "\n",
    "arr2"
   ]
  },
  {
   "cell_type": "code",
   "execution_count": 22,
   "id": "hawaiian-dining",
   "metadata": {
    "ExecuteTime": {
     "end_time": "2021-07-03T04:25:01.146643Z",
     "start_time": "2021-07-03T04:25:01.134675Z"
    }
   },
   "outputs": [
    {
     "data": {
      "text/plain": [
       "array([[0., 0., 0.],\n",
       "       [0., 0., 0.]])"
      ]
     },
     "execution_count": 22,
     "metadata": {},
     "output_type": "execute_result"
    }
   ],
   "source": [
    "# 헹랼 데이터의 생성 2\n",
    "\n",
    "data = np.zeros((2, 3))\n",
    "data"
   ]
  },
  {
   "cell_type": "code",
   "execution_count": 23,
   "id": "revolutionary-tennis",
   "metadata": {
    "ExecuteTime": {
     "end_time": "2021-07-03T04:25:38.827953Z",
     "start_time": "2021-07-03T04:25:38.818974Z"
    }
   },
   "outputs": [
    {
     "data": {
      "text/plain": [
       "dtype('float64')"
      ]
     },
     "execution_count": 23,
     "metadata": {},
     "output_type": "execute_result"
    }
   ],
   "source": [
    "data.dtype"
   ]
  },
  {
   "cell_type": "code",
   "execution_count": 27,
   "id": "sudden-centre",
   "metadata": {
    "ExecuteTime": {
     "end_time": "2021-07-03T04:26:14.671964Z",
     "start_time": "2021-07-03T04:26:14.654012Z"
    }
   },
   "outputs": [
    {
     "data": {
      "text/plain": [
       "dtype('int32')"
      ]
     },
     "execution_count": 27,
     "metadata": {},
     "output_type": "execute_result"
    }
   ],
   "source": [
    "data2 = data.astype('int')\n",
    "data2.dtype"
   ]
  },
  {
   "cell_type": "code",
   "execution_count": 29,
   "id": "loving-shopping",
   "metadata": {
    "ExecuteTime": {
     "end_time": "2021-07-03T04:26:36.874953Z",
     "start_time": "2021-07-03T04:26:36.853010Z"
    }
   },
   "outputs": [
    {
     "data": {
      "text/plain": [
       "array([[[1., 1.],\n",
       "        [1., 1.],\n",
       "        [1., 1.]],\n",
       "\n",
       "       [[1., 1.],\n",
       "        [1., 1.],\n",
       "        [1., 1.]]])"
      ]
     },
     "execution_count": 29,
     "metadata": {},
     "output_type": "execute_result"
    }
   ],
   "source": [
    "np.ones((2, 3, 2))"
   ]
  },
  {
   "cell_type": "code",
   "execution_count": 30,
   "id": "three-season",
   "metadata": {
    "ExecuteTime": {
     "end_time": "2021-07-03T04:27:08.062653Z",
     "start_time": "2021-07-03T04:27:08.055669Z"
    }
   },
   "outputs": [
    {
     "data": {
      "text/plain": [
       "array([0, 1, 2, 3, 4, 5, 6, 7, 8, 9])"
      ]
     },
     "execution_count": 30,
     "metadata": {},
     "output_type": "execute_result"
    }
   ],
   "source": [
    "# arange\n",
    "\n",
    "np.arange(10)"
   ]
  },
  {
   "cell_type": "code",
   "execution_count": 32,
   "id": "annual-regard",
   "metadata": {
    "ExecuteTime": {
     "end_time": "2021-07-03T04:27:24.174029Z",
     "start_time": "2021-07-03T04:27:24.167047Z"
    }
   },
   "outputs": [
    {
     "data": {
      "text/plain": [
       "array([5, 6, 7, 8, 9])"
      ]
     },
     "execution_count": 32,
     "metadata": {},
     "output_type": "execute_result"
    }
   ],
   "source": [
    "np.arange(5, 10)"
   ]
  },
  {
   "cell_type": "code",
   "execution_count": 33,
   "id": "joined-excerpt",
   "metadata": {
    "ExecuteTime": {
     "end_time": "2021-07-03T04:27:32.949241Z",
     "start_time": "2021-07-03T04:27:32.936276Z"
    }
   },
   "outputs": [
    {
     "data": {
      "text/plain": [
       "array([ 0,  2,  4,  6,  8, 10])"
      ]
     },
     "execution_count": 33,
     "metadata": {},
     "output_type": "execute_result"
    }
   ],
   "source": [
    "np.arange(0, 11, 2)"
   ]
  },
  {
   "cell_type": "code",
   "execution_count": null,
   "id": "varied-projector",
   "metadata": {},
   "outputs": [],
   "source": []
  }
 ],
 "metadata": {
  "kernelspec": {
   "display_name": "Python 3",
   "language": "python",
   "name": "python3"
  },
  "language_info": {
   "codemirror_mode": {
    "name": "ipython",
    "version": 3
   },
   "file_extension": ".py",
   "mimetype": "text/x-python",
   "name": "python",
   "nbconvert_exporter": "python",
   "pygments_lexer": "ipython3",
   "version": "3.7.10"
  },
  "nbTranslate": {
   "displayLangs": [
    "*"
   ],
   "hotkey": "alt-t",
   "langInMainMenu": true,
   "sourceLang": "en",
   "targetLang": "fr",
   "useGoogleTranslate": true
  },
  "varInspector": {
   "cols": {
    "lenName": 16,
    "lenType": 16,
    "lenVar": 40
   },
   "kernels_config": {
    "python": {
     "delete_cmd_postfix": "",
     "delete_cmd_prefix": "del ",
     "library": "var_list.py",
     "varRefreshCmd": "print(var_dic_list())"
    },
    "r": {
     "delete_cmd_postfix": ") ",
     "delete_cmd_prefix": "rm(",
     "library": "var_list.r",
     "varRefreshCmd": "cat(var_dic_list()) "
    }
   },
   "types_to_exclude": [
    "module",
    "function",
    "builtin_function_or_method",
    "instance",
    "_Feature"
   ],
   "window_display": false
  }
 },
 "nbformat": 4,
 "nbformat_minor": 5
}
