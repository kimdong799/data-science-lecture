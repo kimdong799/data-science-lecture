{
 "cells": [
  {
   "cell_type": "markdown",
   "id": "skilled-hindu",
   "metadata": {},
   "source": [
    "# 상관계수 (Correlation Coefficient)"
   ]
  },
  {
   "cell_type": "markdown",
   "id": "concerned-luxembourg",
   "metadata": {},
   "source": [
    "상관계수는 두개의 다른 확률변수가 얼마나 큰 관계를 갖는지 수치적으로 알아보는 것"
   ]
  },
  {
   "cell_type": "markdown",
   "id": "thousand-preliminary",
   "metadata": {},
   "source": [
    "## Index\n",
    "\n",
    "1. 분산\n",
    "2. 공분산\n",
    "3. 상관계수\n",
    "4. 결정계수\n",
    "5. 프리미어리그 데이터 상관계수 분석"
   ]
  },
  {
   "cell_type": "code",
   "execution_count": 1,
   "id": "frequent-credits",
   "metadata": {
    "ExecuteTime": {
     "end_time": "2021-07-03T04:31:11.511069Z",
     "start_time": "2021-07-03T04:31:11.501008Z"
    }
   },
   "outputs": [],
   "source": [
    "import numpy as np"
   ]
  },
  {
   "cell_type": "markdown",
   "id": "celtic-stations",
   "metadata": {},
   "source": [
    "샘플데이터 생성"
   ]
  },
  {
   "cell_type": "code",
   "execution_count": 21,
   "id": "connected-coverage",
   "metadata": {
    "ExecuteTime": {
     "end_time": "2021-07-03T04:41:51.890234Z",
     "start_time": "2021-07-03T04:41:51.885248Z"
    }
   },
   "outputs": [],
   "source": [
    "data1 = np.array([80, 85, 100, 90, 95])\n",
    "data2 = np.array([70, 80, 100, 95, 95])"
   ]
  },
  {
   "cell_type": "markdown",
   "id": "coastal-height",
   "metadata": {},
   "source": [
    "## 분산(Variance)\n",
    "- 1개의 이산정도를 나타냄\n",
    "- 편차제곱의 평균"
   ]
  },
  {
   "cell_type": "markdown",
   "id": "incoming-weekend",
   "metadata": {
    "ExecuteTime": {
     "end_time": "2021-07-03T04:35:02.223857Z",
     "start_time": "2021-07-03T04:35:02.211864Z"
    }
   },
   "source": [
    "$ variance = \\frac{\\sum_{i=1}^n{(x_i-\\bar{x})^2}}{n}, (\\bar{x}:평균) $"
   ]
  },
  {
   "cell_type": "markdown",
   "id": "periodic-russia",
   "metadata": {},
   "source": [
    "분산을 계산하는 함수를 작성해보자"
   ]
  },
  {
   "cell_type": "code",
   "execution_count": 19,
   "id": "frequent-belief",
   "metadata": {
    "ExecuteTime": {
     "end_time": "2021-07-03T04:41:34.668525Z",
     "start_time": "2021-07-03T04:41:34.662589Z"
    }
   },
   "outputs": [],
   "source": [
    "# Variance code\n",
    "\n",
    "def get_var(ls):\n",
    "    SUM_ = 0\n",
    "    MEAN_ = 0\n",
    "    for i in ls:\n",
    "        avg = np.mean(ls)\n",
    "        SUM_ += (i - avg) ** 2\n",
    "    result = SUM_ / len(ls)\n",
    "    return result"
   ]
  },
  {
   "cell_type": "code",
   "execution_count": 26,
   "id": "smoking-brisbane",
   "metadata": {
    "ExecuteTime": {
     "end_time": "2021-07-03T04:46:30.587135Z",
     "start_time": "2021-07-03T04:46:30.579162Z"
    }
   },
   "outputs": [
    {
     "data": {
      "text/plain": [
       "(50.0, 126.0, 7.0710678118654755, 11.224972160321824)"
      ]
     },
     "execution_count": 26,
     "metadata": {},
     "output_type": "execute_result"
    }
   ],
   "source": [
    "# 분산과 표준편차를 구해보자 (**0.5 는 루트와 같음)\n",
    "\n",
    "get_var(data1), get_var(data2), get_var(data1) ** 0.5, get_var(data2) ** 0.5"
   ]
  },
  {
   "cell_type": "markdown",
   "id": "third-consortium",
   "metadata": {},
   "source": [
    "data2가 더 큰 분산을 가진다."
   ]
  },
  {
   "cell_type": "markdown",
   "id": "improving-kennedy",
   "metadata": {},
   "source": [
    "일반 함수와 numpy 함수의 퍼포먼스 비교"
   ]
  },
  {
   "cell_type": "code",
   "execution_count": 27,
   "id": "latin-window",
   "metadata": {
    "ExecuteTime": {
     "end_time": "2021-07-03T04:46:56.458293Z",
     "start_time": "2021-07-03T04:46:56.447399Z"
    }
   },
   "outputs": [
    {
     "data": {
      "text/plain": [
       "(50.0, 126.0, 7.0710678118654755, 11.224972160321824)"
      ]
     },
     "execution_count": 27,
     "metadata": {},
     "output_type": "execute_result"
    }
   ],
   "source": [
    "# numpy를 이용한 분산 계산(var)m 표준편차 계산(std)\n",
    "\n",
    "np.var(data1), np.var(data2), np.std(data1), np.std(data2)"
   ]
  },
  {
   "cell_type": "code",
   "execution_count": 46,
   "id": "upper-citation",
   "metadata": {
    "ExecuteTime": {
     "end_time": "2021-07-03T04:53:23.069325Z",
     "start_time": "2021-07-03T04:53:23.050380Z"
    }
   },
   "outputs": [
    {
     "name": "stdout",
     "output_type": "stream",
     "text": [
      "10000\n"
     ]
    }
   ],
   "source": [
    "# 속도차이 비교\n",
    "\n",
    "p_data1 = np.random.randint(60, 100, int(10E3)) # 10의 3승 = 만개\n",
    "p_data2 = np.random.randint(60, 100, int(10E3)) # 10의 3승 = 만개\n",
    "\n",
    "print(p_data1.size)"
   ]
  },
  {
   "cell_type": "code",
   "execution_count": 42,
   "id": "dental-distance",
   "metadata": {
    "ExecuteTime": {
     "end_time": "2021-07-03T04:53:03.500967Z",
     "start_time": "2021-07-03T04:53:03.490958Z"
    }
   },
   "outputs": [],
   "source": [
    "# 일반함수"
   ]
  },
  {
   "cell_type": "code",
   "execution_count": 53,
   "id": "appropriate-variation",
   "metadata": {
    "ExecuteTime": {
     "end_time": "2021-07-03T04:53:50.769660Z",
     "start_time": "2021-07-03T04:53:50.374720Z"
    }
   },
   "outputs": [
    {
     "name": "stdout",
     "output_type": "stream",
     "text": [
      "Wall time: 387 ms\n"
     ]
    },
    {
     "data": {
      "text/plain": [
       "(134.46939431000146, 135.8277265600001)"
      ]
     },
     "execution_count": 53,
     "metadata": {},
     "output_type": "execute_result"
    }
   ],
   "source": [
    "%%time\n",
    "\n",
    "get_var(p_data1), get_var(p_data2)"
   ]
  },
  {
   "cell_type": "code",
   "execution_count": null,
   "id": "suburban-reliance",
   "metadata": {},
   "outputs": [],
   "source": [
    "# numpy"
   ]
  },
  {
   "cell_type": "code",
   "execution_count": 56,
   "id": "abandoned-glossary",
   "metadata": {
    "ExecuteTime": {
     "end_time": "2021-07-03T04:54:04.205341Z",
     "start_time": "2021-07-03T04:54:04.180823Z"
    }
   },
   "outputs": [
    {
     "name": "stdout",
     "output_type": "stream",
     "text": [
      "Wall time: 1 ms\n"
     ]
    },
    {
     "data": {
      "text/plain": [
       "(134.46939431, 135.82772655999997)"
      ]
     },
     "execution_count": 56,
     "metadata": {},
     "output_type": "execute_result"
    }
   ],
   "source": [
    "%%time\n",
    "\n",
    "np.var(p_data1), np.var(p_data2)"
   ]
  },
  {
   "cell_type": "markdown",
   "id": "norman-isaac",
   "metadata": {},
   "source": [
    "387배 속도 차이"
   ]
  },
  {
   "cell_type": "markdown",
   "id": "boring-leather",
   "metadata": {
    "ExecuteTime": {
     "end_time": "2021-07-03T05:00:30.444834Z",
     "start_time": "2021-07-03T05:00:30.431225Z"
    }
   },
   "source": [
    "## 공분산(covariance)\n",
    "- 2개의 확률변수의 상관정도를 나타냄\n",
    "- 평균 편차곱\n",
    "- **방향성**은 보여줄수 있으나 강도를 나타내는데 한계가 있다\n",
    "    - 표본데이터의 크기에 따라서 값의 차이가 큰 단점이 있다"
   ]
  },
  {
   "cell_type": "markdown",
   "id": "laden-mexican",
   "metadata": {},
   "source": [
    "$ covariance = \\frac{\\sum_{i=1}^{n}{(x_i-\\bar{x})(y_i-\\bar{y})}}{n}, (\\bar{x}:x의 평균, \\bar{y}:y의 평균) $"
   ]
  },
  {
   "cell_type": "markdown",
   "id": "interesting-ownership",
   "metadata": {},
   "source": [
    "### x가 증가할 때 y도 증가하는 경우"
   ]
  },
  {
   "cell_type": "code",
   "execution_count": 82,
   "id": "radical-champion",
   "metadata": {
    "ExecuteTime": {
     "end_time": "2021-07-03T05:12:55.190166Z",
     "start_time": "2021-07-03T05:12:55.072951Z"
    }
   },
   "outputs": [
    {
     "name": "stdout",
     "output_type": "stream",
     "text": [
      "cov matrix \n",
      " [[ 62.5   93.75]\n",
      " [ 93.75 157.5 ]] \n",
      "\n",
      "covariance\n",
      " 93.75\n"
     ]
    },
    {
     "data": {
      "image/png": "[encoded data removed]",
      "text/plain": [
       "<Figure size 432x288 with 1 Axes>"
      ]
     },
     "metadata": {
      "needs_background": "light"
     },
     "output_type": "display_data"
    }
   ],
   "source": [
    "import matplotlib.pyplot as plt\n",
    "\n",
    "x = np.array([80, 85, 100, 90, 95])\n",
    "y = np.array([70, 80, 100, 95, 95])\n",
    "\n",
    "plt.plot(x, y, 'o')\n",
    "\n",
    "# 공분산 행렬 계산\n",
    "print('cov matrix \\n',np.cov(x, y),'\\n')\n",
    "\n",
    "# 공분산 확인\n",
    "print('covariance\\n',np.cov(x, y)[0, 1])"
   ]
  },
  {
   "cell_type": "markdown",
   "id": "russian-average",
   "metadata": {
    "ExecuteTime": {
     "end_time": "2021-07-03T05:19:09.766754Z",
     "start_time": "2021-07-03T05:19:09.753790Z"
    }
   },
   "source": [
    "### x가 증가할 때 y가 감소하는 경우"
   ]
  },
  {
   "cell_type": "code",
   "execution_count": 91,
   "id": "secure-color",
   "metadata": {
    "ExecuteTime": {
     "end_time": "2021-07-03T05:18:22.321473Z",
     "start_time": "2021-07-03T05:18:22.215892Z"
    }
   },
   "outputs": [
    {
     "name": "stdout",
     "output_type": "stream",
     "text": [
      "cov matrix \n",
      " [[ 62.5 -87.5]\n",
      " [-87.5 130. ]] \n",
      "\n",
      "covariance\n",
      " -87.5\n"
     ]
    },
    {
     "data": {
      "image/png": "[encoded data removed]",
      "text/plain": [
       "<Figure size 432x288 with 1 Axes>"
      ]
     },
     "metadata": {
      "needs_background": "light"
     },
     "output_type": "display_data"
    }
   ],
   "source": [
    "x = np.array([80, 85, 100, 90, 95])\n",
    "y = np.array([100, 90, 70, 90, 80])\n",
    "\n",
    "plt.plot(x, y, 'or')\n",
    "\n",
    "# 공분산 행렬 계산\n",
    "print('cov matrix \\n',np.cov(x, y),'\\n')\n",
    "\n",
    "# 공분산 확인\n",
    "print('covariance\\n',np.cov(x, y)[0, 1])"
   ]
  },
  {
   "cell_type": "markdown",
   "id": "reverse-builder",
   "metadata": {},
   "source": [
    "**표본데이터의 크기에 따라 값의 차이가 크다는 단점이 있다.**"
   ]
  },
  {
   "cell_type": "code",
   "execution_count": 95,
   "id": "least-covering",
   "metadata": {
    "ExecuteTime": {
     "end_time": "2021-07-03T05:20:22.979733Z",
     "start_time": "2021-07-03T05:20:22.963776Z"
    }
   },
   "outputs": [
    {
     "data": {
      "text/plain": [
       "-8750.0"
      ]
     },
     "execution_count": 95,
     "metadata": {},
     "output_type": "execute_result"
    }
   ],
   "source": [
    "data5 = np.array([800, 850, 1000, 900, 950])\n",
    "data6 = np.array([1000, 900, 700, 900, 800])\n",
    "np.cov(data5, data6)[0, 1]"
   ]
  },
  {
   "cell_type": "markdown",
   "id": "hired-manhattan",
   "metadata": {},
   "source": [
    "공분산이 음수를 가지는 위의 두 데이터쌍을 보면 둘다 유사한 데이터의 움직임을 보인다. \n",
    "\n",
    "하지만 데이터 스케일이 달라 공분산 값 역시 크기가 매우 다르게 나타나는 것을 보인다. 이릍 통해 공분산의 단점인 방향성은 확인할 수 있지만 그 강도를 확인하기 어렵다는 단점을 확인할 수 있다."
   ]
  },
  {
   "cell_type": "code",
   "execution_count": 93,
   "id": "mighty-toddler",
   "metadata": {
    "ExecuteTime": {
     "end_time": "2021-07-03T05:19:45.593891Z",
     "start_time": "2021-07-03T05:19:45.572939Z"
    }
   },
   "outputs": [
    {
     "data": {
      "text/plain": [
       "93.75"
      ]
     },
     "execution_count": 93,
     "metadata": {},
     "output_type": "execute_result"
    }
   ],
   "source": [
    "# 공분산 파이썬 코드 구현\n",
    "\n",
    "x = np.array([80, 85, 100, 90, 95])\n",
    "y = np.array([70, 80, 100, 95, 95])\n",
    "\n",
    "x_mean = np.mean(x)\n",
    "y_mean = np.mean(y)\n",
    "cov = 0\n",
    "for i, j in zip(x, y):\n",
    "    cov += (i - x_mean)*(j - y_mean)\n",
    "    \n",
    "# 자유도 지정\n",
    "cov / (len(x)-1)"
   ]
  },
  {
   "cell_type": "markdown",
   "id": "brown-senior",
   "metadata": {},
   "source": [
    "자유도를 지정하는 이유!!\n",
    "\n",
    "- 표본은 모집단을 과소평가(Underestimate)하는 경향이 있다. 예를 들어 표본의 분산은 모집단의 분산보다 작은 상태가 되기 때문에 이를 보정하기 위해 표본 분산의 분모를 작게 만들어 전체 표본분산을 크게 만드는 것이다."
   ]
  },
  {
   "cell_type": "code",
   "execution_count": 94,
   "id": "clinical-winning",
   "metadata": {
    "ExecuteTime": {
     "end_time": "2021-07-03T05:19:50.718979Z",
     "start_time": "2021-07-03T05:19:50.710003Z"
    }
   },
   "outputs": [
    {
     "data": {
      "text/plain": [
       "True"
      ]
     },
     "execution_count": 94,
     "metadata": {},
     "output_type": "execute_result"
    }
   ],
   "source": [
    "cov / (len(x)-1) == np.cov(x, y)[0,1]"
   ]
  },
  {
   "cell_type": "markdown",
   "id": "offensive-congress",
   "metadata": {},
   "source": [
    "이러한 공분산의 한계를 극복하기 위해 상관계수라는 것을 이용한다."
   ]
  },
  {
   "cell_type": "markdown",
   "id": "developmental-frequency",
   "metadata": {},
   "source": [
    "## 피어슨 상관계수(Correlation coefficient)\n",
    "\n",
    "- 공분산의 한계를 극복하기 위해 만들어짐\n",
    "- -1 ~ 1까지의 수를 가지며 0과 가까울수록 상관도가 적음을 의미\n",
    "- x의 분산과 y의 분산을 곱한 결과의 제곱근을 나눠주면 x나 y의 변화량이 클수록 0에 가까워짐\n",
    "- https://docs.scipy.org/doc/numpy-1.13.0/reference/generated/numpy.corrcoef.html"
   ]
  },
  {
   "cell_type": "markdown",
   "id": "deadly-recording",
   "metadata": {},
   "source": [
    "$ correlation-coefficient = \\frac{공분산}{\\sqrt{{x분산} \\cdot {y분산}}} $"
   ]
  },
  {
   "cell_type": "markdown",
   "id": "pleasant-implement",
   "metadata": {},
   "source": [
    "최종 상관계수"
   ]
  },
  {
   "cell_type": "markdown",
   "id": "artificial-league",
   "metadata": {},
   "source": [
    "$ r = \\frac{\\sum(x-\\bar{x})(y-\\bar{y})}{\\sqrt{{\\sum(x-\\bar{x})^2}\\cdot{\\sum(y-\\bar{y})^2}}} $"
   ]
  },
  {
   "cell_type": "code",
   "execution_count": 101,
   "id": "temporal-crystal",
   "metadata": {
    "ExecuteTime": {
     "end_time": "2021-07-03T05:34:08.546649Z",
     "start_time": "2021-07-03T05:34:08.541625Z"
    }
   },
   "outputs": [],
   "source": [
    "data1 = np.array([80, 85, 100, 90, 95])\n",
    "data2 = np.array([70, 80, 100, 95, 95])\n",
    "\n",
    "data3 = np.array([80, 85, 100, 90, 95])\n",
    "data4 = np.array([100, 90, 70, 90, 80])\n",
    "\n",
    "data5 = np.array([800, 850, 1000, 900, 950])\n",
    "data6 = np.array([1000, 900, 700, 900, 800])\n"
   ]
  },
  {
   "cell_type": "code",
   "execution_count": 108,
   "id": "appropriate-taxation",
   "metadata": {
    "ExecuteTime": {
     "end_time": "2021-07-03T05:34:57.166497Z",
     "start_time": "2021-07-03T05:34:57.144594Z"
    }
   },
   "outputs": [
    {
     "data": {
      "text/plain": [
       "(0.9449111825230682, -0.970725343394151, -0.970725343394151)"
      ]
     },
     "execution_count": 108,
     "metadata": {},
     "output_type": "execute_result"
    }
   ],
   "source": [
    "# correlation coefficient function\n",
    "\n",
    "np.corrcoef(data1, data2)[0,1],\\\n",
    "np.corrcoef(data3, data4)[0,1],\\\n",
    "np.corrcoef(data5, data6)[0,1]"
   ]
  },
  {
   "cell_type": "markdown",
   "id": "static-pixel",
   "metadata": {},
   "source": [
    "**데이터 스케일에 상관없이 관계 정도를 수치화 했을 때 강도를 나타낼 수 있다.**"
   ]
  },
  {
   "cell_type": "markdown",
   "id": "universal-kinase",
   "metadata": {},
   "source": [
    "## 결정계수(Coefficeint of determination : R-squared)"
   ]
  },
  {
   "cell_type": "markdown",
   "id": "departmental-turning",
   "metadata": {},
   "source": [
    "- x로부터 y를 예측할 수 있는 정도\n",
    "- 상관계수의 제곱(상관계수를 양수화)\n",
    "- 수치가 클수록 회귀분석을 통해 예측할 수 있는 수치의 정도가 더 정확"
   ]
  },
  {
   "cell_type": "code",
   "execution_count": 111,
   "id": "diverse-value",
   "metadata": {
    "ExecuteTime": {
     "end_time": "2021-07-03T05:59:59.263335Z",
     "start_time": "2021-07-03T05:59:59.241393Z"
    }
   },
   "outputs": [
    {
     "data": {
      "text/plain": [
       "(0.892857142857143, 0.9423076923076923)"
      ]
     },
     "execution_count": 111,
     "metadata": {},
     "output_type": "execute_result"
    }
   ],
   "source": [
    "# 결정계수 확인\n",
    "\n",
    "np.corrcoef(data1, data2)[0,1] ** 2,\\\n",
    "np.corrcoef(data1, data4)[0,1] ** 2"
   ]
  },
  {
   "cell_type": "markdown",
   "id": "critical-gender",
   "metadata": {},
   "source": [
    "위 결과를 통해 data1에 영향을 미치는 연속형 변수로 data2보다 data4가 더 큰 영향을 미치는 것으로 확인할 수 있다."
   ]
  },
  {
   "cell_type": "markdown",
   "id": "neutral-jaguar",
   "metadata": {},
   "source": [
    "## 프리미어리그 데이터 상관계수 분석"
   ]
  },
  {
   "cell_type": "markdown",
   "id": "requested-texas",
   "metadata": {},
   "source": [
    "- 2016년 프리미어리그 `성적에서 득점과 실점 데이터중`에 승점에 영향을 더 많이 준 데이터는?"
   ]
  },
  {
   "cell_type": "markdown",
   "id": "popular-pizza",
   "metadata": {},
   "source": [
    "- 위 결과를 통해 공격력 훈련에 집중할지, 수비력 훈련에 집중할지를 분석"
   ]
  },
  {
   "cell_type": "code",
   "execution_count": 112,
   "id": "appointed-spouse",
   "metadata": {
    "ExecuteTime": {
     "end_time": "2021-07-03T06:01:21.608387Z",
     "start_time": "2021-07-03T06:01:20.502076Z"
    }
   },
   "outputs": [],
   "source": [
    "import pandas as pd"
   ]
  },
  {
   "cell_type": "code",
   "execution_count": 115,
   "id": "lined-winning",
   "metadata": {
    "ExecuteTime": {
     "end_time": "2021-07-03T06:01:52.629576Z",
     "start_time": "2021-07-03T06:01:52.606690Z"
    }
   },
   "outputs": [
    {
     "data": {
      "text/html": [
       "<div>\n",
       "<style scoped>\n",
       "    .dataframe tbody tr th:only-of-type {\n",
       "        vertical-align: middle;\n",
       "    }\n",
       "\n",
       "    .dataframe tbody tr th {\n",
       "        vertical-align: top;\n",
       "    }\n",
       "\n",
       "    .dataframe thead th {\n",
       "        text-align: right;\n",
       "    }\n",
       "</style>\n",
       "<table border=\"1\" class=\"dataframe\">\n",
       "  <thead>\n",
       "    <tr style=\"text-align: right;\">\n",
       "      <th></th>\n",
       "      <th>name</th>\n",
       "      <th>gf</th>\n",
       "      <th>ga</th>\n",
       "      <th>points</th>\n",
       "    </tr>\n",
       "  </thead>\n",
       "  <tbody>\n",
       "    <tr>\n",
       "      <th>15</th>\n",
       "      <td>Huddersfield Town</td>\n",
       "      <td>28</td>\n",
       "      <td>58</td>\n",
       "      <td>37</td>\n",
       "    </tr>\n",
       "    <tr>\n",
       "      <th>16</th>\n",
       "      <td>Southampton</td>\n",
       "      <td>37</td>\n",
       "      <td>56</td>\n",
       "      <td>36</td>\n",
       "    </tr>\n",
       "    <tr>\n",
       "      <th>17</th>\n",
       "      <td>Swansea City</td>\n",
       "      <td>28</td>\n",
       "      <td>56</td>\n",
       "      <td>33</td>\n",
       "    </tr>\n",
       "    <tr>\n",
       "      <th>18</th>\n",
       "      <td>Stoke City</td>\n",
       "      <td>35</td>\n",
       "      <td>68</td>\n",
       "      <td>33</td>\n",
       "    </tr>\n",
       "    <tr>\n",
       "      <th>19</th>\n",
       "      <td>West Bromwich Albion</td>\n",
       "      <td>31</td>\n",
       "      <td>56</td>\n",
       "      <td>31</td>\n",
       "    </tr>\n",
       "  </tbody>\n",
       "</table>\n",
       "</div>"
      ],
      "text/plain": [
       "                    name  gf  ga  points\n",
       "15     Huddersfield Town  28  58      37\n",
       "16           Southampton  37  56      36\n",
       "17          Swansea City  28  56      33\n",
       "18            Stoke City  35  68      33\n",
       "19  West Bromwich Albion  31  56      31"
      ]
     },
     "execution_count": 115,
     "metadata": {},
     "output_type": "execute_result"
    }
   ],
   "source": [
    "df = pd.read_csv('datas/premierleague.csv')\n",
    "df.tail()"
   ]
  },
  {
   "cell_type": "code",
   "execution_count": 118,
   "id": "known-plymouth",
   "metadata": {
    "ExecuteTime": {
     "end_time": "2021-07-03T06:03:43.148287Z",
     "start_time": "2021-07-03T06:03:43.140308Z"
    }
   },
   "outputs": [
    {
     "data": {
      "text/plain": [
       "array([106,  68,  74,  84,  62,  74,  36,  44,  56,  39,  45,  45,  48,\n",
       "        44,  34,  28,  37,  28,  35,  31], dtype=int64)"
      ]
     },
     "execution_count": 118,
     "metadata": {},
     "output_type": "execute_result"
    }
   ],
   "source": [
    "# 1위 부터 20위 까지의 득점 데이터\n",
    "\n",
    "gf = np.array(df['gf'])\n",
    "gf"
   ]
  },
  {
   "cell_type": "code",
   "execution_count": 120,
   "id": "temporal-bishop",
   "metadata": {
    "ExecuteTime": {
     "end_time": "2021-07-03T06:04:11.812964Z",
     "start_time": "2021-07-03T06:04:11.799002Z"
    }
   },
   "outputs": [
    {
     "data": {
      "text/plain": [
       "array([27, 28, 36, 38, 38, 51, 39, 58, 60, 47, 55, 61, 68, 64, 54, 58, 56,\n",
       "       56, 68, 56], dtype=int64)"
      ]
     },
     "execution_count": 120,
     "metadata": {},
     "output_type": "execute_result"
    }
   ],
   "source": [
    "# 1위부터 20위 까지의 실점 데이터\n",
    "\n",
    "ga = np.array(df['ga'])\n",
    "ga"
   ]
  },
  {
   "cell_type": "code",
   "execution_count": 124,
   "id": "constitutional-anthropology",
   "metadata": {
    "ExecuteTime": {
     "end_time": "2021-07-03T06:04:49.679294Z",
     "start_time": "2021-07-03T06:04:49.657323Z"
    }
   },
   "outputs": [
    {
     "data": {
      "text/plain": [
       "array([100,  81,  77,  75,  70,  63,  54,  49,  47,  44,  44,  44,  42,\n",
       "        41,  40,  37,  36,  33,  33,  31], dtype=int64)"
      ]
     },
     "execution_count": 124,
     "metadata": {},
     "output_type": "execute_result"
    }
   ],
   "source": [
    "# 1위부터 20위 까지의 승점 데이터\n",
    "\n",
    "points = df.points.values\n",
    "points"
   ]
  },
  {
   "cell_type": "code",
   "execution_count": null,
   "id": "generic-vanilla",
   "metadata": {},
   "outputs": [],
   "source": [
    "# 승점을 득점과 실점 데이터로 비교해 결정계수를 계산"
   ]
  },
  {
   "cell_type": "code",
   "execution_count": 130,
   "id": "straight-pursuit",
   "metadata": {
    "ExecuteTime": {
     "end_time": "2021-07-03T06:05:52.847572Z",
     "start_time": "2021-07-03T06:05:52.833574Z"
    }
   },
   "outputs": [
    {
     "data": {
      "text/plain": [
       "0.8683266496886471"
      ]
     },
     "execution_count": 130,
     "metadata": {},
     "output_type": "execute_result"
    }
   ],
   "source": [
    "# 득점과 승점\n",
    "\n",
    "np.corrcoef(gf, points)[0, 1] ** 2"
   ]
  },
  {
   "cell_type": "code",
   "execution_count": 131,
   "id": "simple-jaguar",
   "metadata": {
    "ExecuteTime": {
     "end_time": "2021-07-03T06:05:55.154713Z",
     "start_time": "2021-07-03T06:05:55.144741Z"
    }
   },
   "outputs": [
    {
     "data": {
      "text/plain": [
       "0.757933920368845"
      ]
     },
     "execution_count": 131,
     "metadata": {},
     "output_type": "execute_result"
    }
   ],
   "source": [
    "# 실점과 승점\n",
    "\n",
    "np.corrcoef(ga,points)[0, 1] ** 2"
   ]
  },
  {
   "cell_type": "code",
   "execution_count": 137,
   "id": "subjective-jason",
   "metadata": {
    "ExecuteTime": {
     "end_time": "2021-07-03T06:08:50.773793Z",
     "start_time": "2021-07-03T06:08:50.760835Z"
    }
   },
   "outputs": [
    {
     "data": {
      "text/plain": [
       "(0.87, 0.76)"
      ]
     },
     "execution_count": 137,
     "metadata": {},
     "output_type": "execute_result"
    }
   ],
   "source": [
    "data1, data2 = np.corrcoef(gf, points)[0, 1] ** 2, np.corrcoef(ga,points)[0, 1] ** 2\n",
    "\n",
    "round(data1, 2), round(data2, 2)"
   ]
  },
  {
   "cell_type": "markdown",
   "id": "compatible-scanner",
   "metadata": {},
   "source": [
    "위 결과를 통해 승점과 득점이 더 깊은 관계를 가지며 공격력 훈련에 집중하는 것이 더 유리하다고 말할 수 있다."
   ]
  }
 ],
 "metadata": {
  "kernelspec": {
   "display_name": "Python 3",
   "language": "python",
   "name": "python3"
  },
  "language_info": {
   "codemirror_mode": {
    "name": "ipython",
    "version": 3
   },
   "file_extension": ".py",
   "mimetype": "text/x-python",
   "name": "python",
   "nbconvert_exporter": "python",
   "pygments_lexer": "ipython3",
   "version": "3.7.10"
  },
  "nbTranslate": {
   "displayLangs": [
    "*"
   ],
   "hotkey": "alt-t",
   "langInMainMenu": true,
   "sourceLang": "en",
   "targetLang": "fr",
   "useGoogleTranslate": true
  },
  "varInspector": {
   "cols": {
    "lenName": 16,
    "lenType": 16,
    "lenVar": 40
   },
   "kernels_config": {
    "python": {
     "delete_cmd_postfix": "",
     "delete_cmd_prefix": "del ",
     "library": "var_list.py",
     "varRefreshCmd": "print(var_dic_list())"
    },
    "r": {
     "delete_cmd_postfix": ") ",
     "delete_cmd_prefix": "rm(",
     "library": "var_list.r",
     "varRefreshCmd": "cat(var_dic_list()) "
    }
   },
   "types_to_exclude": [
    "module",
    "function",
    "builtin_function_or_method",
    "instance",
    "_Feature"
   ],
   "window_display": false
  }
 },
 "nbformat": 4,
 "nbformat_minor": 5
}
