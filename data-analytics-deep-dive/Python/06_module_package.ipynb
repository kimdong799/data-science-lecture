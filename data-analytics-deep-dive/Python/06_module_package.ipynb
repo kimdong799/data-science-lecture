{
 "cells": [
  {
   "cell_type": "markdown",
   "id": "differential-arbitration",
   "metadata": {},
   "source": [
    "### summary\n",
    "- 상속 : 다른 클래스를 받아서 기능을 추가하는 등 새로운 클래스를 만드는 방법\n",
    "- super : 부모클래스에서 특정 함수의 코드를 가져오는 방법\n",
    "- getter & setter : 클래스로 만들어진 객체에 변수값을 수정할 때 특정 함수를 통해서 수정하고 출력하는 방법\n",
    "- non public(private) : mangling(__)_(클래스명)이 붙은 변수로 객체를 생성할 때 변경되어서 생성\n",
    "- is a / has a : 클래스를 설계하는 방법\n",
    "- magic(special) method\n",
    "    - 비교 : `__eq__`(==), `__ne__`(!=), `__lt__`(<),`__gt__`(>), `__le__`(<=). `__ge__`(>=)\n",
    "    - 연산 : \n",
    "        - `__add__`(+), `__sub__`(-), `__mul__`(*), `__truediv__`(/)\n",
    "        - `__floordiv__`(//), `__mod__`(%), `__pow__`(**)\n",
    "    - 그 외 : `__repr`, `__str__`"
   ]
  },
  {
   "cell_type": "code",
   "execution_count": 3,
   "id": "martial-rings",
   "metadata": {
    "ExecuteTime": {
     "end_time": "2021-07-01T13:31:32.521907Z",
     "start_time": "2021-07-01T13:31:32.509972Z"
    }
   },
   "outputs": [
    {
     "data": {
      "text/plain": [
       "(1, 2)"
      ]
     },
     "execution_count": 3,
     "metadata": {},
     "output_type": "execute_result"
    }
   ],
   "source": [
    "# Integer 객체\n",
    "\n",
    "class Integer:\n",
    "    \n",
    "    def __init__(self, number):\n",
    "        self.number = number\n",
    "    \n",
    "num1 = Integer(1)\n",
    "num2 = Integer(2)\n",
    "num1.number, num2.number"
   ]
  },
  {
   "cell_type": "code",
   "execution_count": 4,
   "id": "inside-paragraph",
   "metadata": {
    "ExecuteTime": {
     "end_time": "2021-07-01T13:31:36.503503Z",
     "start_time": "2021-07-01T13:31:36.384492Z"
    }
   },
   "outputs": [
    {
     "ename": "TypeError",
     "evalue": "unsupported operand type(s) for +: 'Integer' and 'Integer'",
     "output_type": "error",
     "traceback": [
      "\u001b[1;31m---------------------------------------------------------------------------\u001b[0m",
      "\u001b[1;31mTypeError\u001b[0m                                 Traceback (most recent call last)",
      "\u001b[1;32m<ipython-input-4-fc4e10997863>\u001b[0m in \u001b[0;36m<module>\u001b[1;34m\u001b[0m\n\u001b[1;32m----> 1\u001b[1;33m \u001b[0mnum1\u001b[0m \u001b[1;33m+\u001b[0m \u001b[0mnum2\u001b[0m\u001b[1;33m\u001b[0m\u001b[1;33m\u001b[0m\u001b[0m\n\u001b[0m",
      "\u001b[1;31mTypeError\u001b[0m: unsupported operand type(s) for +: 'Integer' and 'Integer'"
     ]
    }
   ],
   "source": [
    "# 3으로 연산되게 하려면?\n",
    "\n",
    "num1 + num2"
   ]
  },
  {
   "cell_type": "code",
   "execution_count": 6,
   "id": "indonesian-bikini",
   "metadata": {
    "ExecuteTime": {
     "end_time": "2021-07-01T13:32:15.377735Z",
     "start_time": "2021-07-01T13:32:15.363808Z"
    }
   },
   "outputs": [
    {
     "data": {
      "text/plain": [
       "3"
      ]
     },
     "execution_count": 6,
     "metadata": {},
     "output_type": "execute_result"
    }
   ],
   "source": [
    "# Integer 객체\n",
    "\n",
    "class Integer:\n",
    "    \n",
    "    def __init__(self, number):\n",
    "        self.number = number\n",
    "    \n",
    "    def __add__(self, obj): # __add__ 오버라이딩\n",
    "        return self.number + obj.number\n",
    "    \n",
    "    \n",
    "num1 = Integer(1)\n",
    "num2 = Integer(2)\n",
    "num1 + num2"
   ]
  },
  {
   "cell_type": "code",
   "execution_count": 8,
   "id": "indie-canadian",
   "metadata": {
    "ExecuteTime": {
     "end_time": "2021-07-01T13:35:57.914672Z",
     "start_time": "2021-07-01T13:35:57.897721Z"
    }
   },
   "outputs": [
    {
     "name": "stdout",
     "output_type": "stream",
     "text": [
      "<__main__.Integer object at 0x0000021AE0ACFD08>\n"
     ]
    }
   ],
   "source": [
    "# print의 결과가 num1의 값이려면?\n",
    "\n",
    "print(num1)"
   ]
  },
  {
   "cell_type": "code",
   "execution_count": 11,
   "id": "eastern-politics",
   "metadata": {
    "ExecuteTime": {
     "end_time": "2021-07-01T13:36:57.824558Z",
     "start_time": "2021-07-01T13:36:57.805614Z"
    }
   },
   "outputs": [
    {
     "name": "stdout",
     "output_type": "stream",
     "text": [
      "1 2\n"
     ]
    }
   ],
   "source": [
    "# Integer 객체\n",
    "\n",
    "class Integer:\n",
    "    \n",
    "    def __init__(self, number):\n",
    "        self.number = number\n",
    "    \n",
    "    def __add__(self, obj): # __add__ 오버라이딩\n",
    "        return self.number + obj.number\n",
    "    \n",
    "    def __str__(self):\n",
    "        return str(self.number) # str 형변환해야 출력됨\n",
    "        \n",
    "    def __repr__(self):\n",
    "        return str(self.number)\n",
    "    \n",
    "num1 = Integer(1)\n",
    "num2 = Integer(2)\n",
    "\n",
    "print(num1, num2)"
   ]
  },
  {
   "cell_type": "code",
   "execution_count": 34,
   "id": "optional-carnival",
   "metadata": {
    "ExecuteTime": {
     "end_time": "2021-07-01T13:48:25.602952Z",
     "start_time": "2021-07-01T13:48:25.591872Z"
    }
   },
   "outputs": [
    {
     "name": "stdout",
     "output_type": "stream",
     "text": [
      "draw money : 5000\n",
      "insert money : 10000\n",
      "add interest : 0.2\n"
     ]
    },
    {
     "data": {
      "text/plain": [
       "0.7"
      ]
     },
     "execution_count": 34,
     "metadata": {},
     "output_type": "execute_result"
    }
   ],
   "source": [
    "# 계좌 클래스 만들기 : \n",
    "# 자산(asset), 이자율(interst)\n",
    "# 함수 : 인출(draw), 입급(insert), 이자추가(add_interest)\n",
    "# 인출 시 자산이상의 돈을 인출 할 수 없다.\n",
    "\n",
    "class Account:\n",
    "    \n",
    "    def __init__(self, asset = 10000,  interest = 0.5):\n",
    "        self.asset = asset\n",
    "        self.interest = interest\n",
    "        \n",
    "    def draw(self, money):\n",
    "        if self.asset >= money:\n",
    "            print('draw money : {}'.format(money))\n",
    "            self.asset -= money\n",
    "            return self.asset\n",
    "        else:\n",
    "            return 'error'\n",
    "    \n",
    "    def insert(self, money):\n",
    "        print('insert money : {}'.format(money))\n",
    "        self.asset += money\n",
    "        return self.asset\n",
    "    \n",
    "    def add_interst(self, rate):\n",
    "        print('add interest : {}'.format(rate))\n",
    "        self.interest += rate\n",
    "        return self.interest\n",
    "    \n",
    "\n",
    "my_account = Account()\n",
    "my_account.draw(5000)\n",
    "my_account.insert(10000)\n",
    "my_account.add_interst(0.2)"
   ]
  },
  {
   "cell_type": "markdown",
   "id": "pursuant-teacher",
   "metadata": {
    "ExecuteTime": {
     "end_time": "2021-07-01T13:48:19.570663Z",
     "start_time": "2021-07-01T13:48:19.560697Z"
    }
   },
   "source": [
    "### Module Package\n",
    "- 모듈 : 변수, 함수, 클래스를 모아놓은 (.py) 확장자를 가진 파일\n",
    "- 패키지 : 모듈의 기능을 디렉토리 별로 정리해 놓은 개념\n",
    "    "
   ]
  },
  {
   "cell_type": "markdown",
   "id": "amateur-cosmetic",
   "metadata": {},
   "source": [
    " ### 1. 모듈\n",
    " - 모듈 생성\n",
    " - 모듈 호출"
   ]
  },
  {
   "cell_type": "code",
   "execution_count": null,
   "id": "careful-ivory",
   "metadata": {},
   "outputs": [],
   "source": [
    "# 이 셀안의 내용을 dss.py라는 파일로 저장"
   ]
  },
  {
   "cell_type": "code",
   "execution_count": 2,
   "id": "governmental-north",
   "metadata": {
    "ExecuteTime": {
     "end_time": "2021-07-02T04:58:32.660474Z",
     "start_time": "2021-07-02T04:58:32.646544Z"
    }
   },
   "outputs": [
    {
     "name": "stdout",
     "output_type": "stream",
     "text": [
      "Writing dss.py\n"
     ]
    }
   ],
   "source": [
    "%%writefile dss.py \n",
    "\n",
    "num = 1234\n",
    "\n",
    "def disp1(msg):\n",
    "    print('disp1', msg)\n",
    "\n",
    "def disp2(msg):\n",
    "    print('disp2', msg)\n",
    "    \n",
    "class Calc:\n",
    "    def plus(self, *args):\n",
    "        return sum(args)"
   ]
  },
  {
   "cell_type": "code",
   "execution_count": 3,
   "id": "hawaiian-right",
   "metadata": {
    "ExecuteTime": {
     "end_time": "2021-07-02T04:58:40.362240Z",
     "start_time": "2021-07-02T04:58:40.187439Z"
    }
   },
   "outputs": [
    {
     "name": "stdout",
     "output_type": "stream",
     "text": [
      "05_class.ipynb\n",
      "06_module_package.ipynb\n",
      "dss.py\n"
     ]
    }
   ],
   "source": [
    "!ls # 디렉토리에 존재하는 파일 확인"
   ]
  },
  {
   "cell_type": "code",
   "execution_count": 4,
   "id": "recreational-scholarship",
   "metadata": {
    "ExecuteTime": {
     "end_time": "2021-07-02T04:59:46.548088Z",
     "start_time": "2021-07-02T04:59:44.323179Z"
    }
   },
   "outputs": [
    {
     "name": "stdout",
     "output_type": "stream",
     "text": [
      "Once deleted, variables cannot be recovered. Proceed (y/[n])? y\n"
     ]
    }
   ],
   "source": [
    "%reset"
   ]
  },
  {
   "cell_type": "code",
   "execution_count": 5,
   "id": "nominated-compatibility",
   "metadata": {
    "ExecuteTime": {
     "end_time": "2021-07-02T04:59:50.408331Z",
     "start_time": "2021-07-02T04:59:50.387392Z"
    }
   },
   "outputs": [
    {
     "name": "stdout",
     "output_type": "stream",
     "text": [
      "Variable          Type                          Data/Info\n",
      "---------------------------------------------------------\n",
      "NamespaceMagics   MetaHasTraits                 <class 'IPython.core.magi<...>mespace.NamespaceMagics'>\n",
      "get_ipython       function                      <function get_ipython at 0x000001EF23516AF8>\n",
      "getsizeof         builtin_function_or_method    <built-in function getsizeof>\n",
      "json              module                        <module 'json' from 'C:\\\\<...>\\lib\\\\json\\\\__init__.py'>\n",
      "np                module                        <module 'numpy' from 'C:\\<...>ges\\\\numpy\\\\__init__.py'>\n",
      "var_dic_list      function                      <function var_dic_list at 0x000001EF6966A168>\n"
     ]
    }
   ],
   "source": [
    "%whos"
   ]
  },
  {
   "cell_type": "code",
   "execution_count": 6,
   "id": "convinced-console",
   "metadata": {
    "ExecuteTime": {
     "end_time": "2021-07-02T05:00:21.272361Z",
     "start_time": "2021-07-02T05:00:21.255846Z"
    }
   },
   "outputs": [],
   "source": [
    "# 모듈 호출 : import\n",
    "\n",
    "import dss"
   ]
  },
  {
   "cell_type": "code",
   "execution_count": 7,
   "id": "steady-geography",
   "metadata": {
    "ExecuteTime": {
     "end_time": "2021-07-02T05:00:26.527961Z",
     "start_time": "2021-07-02T05:00:26.521018Z"
    }
   },
   "outputs": [
    {
     "name": "stdout",
     "output_type": "stream",
     "text": [
      "Variable          Type                          Data/Info\n",
      "---------------------------------------------------------\n",
      "NamespaceMagics   MetaHasTraits                 <class 'IPython.core.magi<...>mespace.NamespaceMagics'>\n",
      "dss               module                        <module 'dss' from 'C:\\\\U<...>top\\\\데싸90일\\\\2주차\\\\dss.py'>\n",
      "get_ipython       function                      <function get_ipython at 0x000001EF23516AF8>\n",
      "getsizeof         builtin_function_or_method    <built-in function getsizeof>\n",
      "json              module                        <module 'json' from 'C:\\\\<...>\\lib\\\\json\\\\__init__.py'>\n",
      "np                module                        <module 'numpy' from 'C:\\<...>ges\\\\numpy\\\\__init__.py'>\n",
      "var_dic_list      function                      <function var_dic_list at 0x000001EF6966A168>\n"
     ]
    }
   ],
   "source": [
    "# dss라는 이름의 module 호출된 것을 확인\n",
    "\n",
    "%whos"
   ]
  },
  {
   "cell_type": "code",
   "execution_count": 16,
   "id": "urban-disposal",
   "metadata": {
    "ExecuteTime": {
     "end_time": "2021-07-02T05:02:13.402145Z",
     "start_time": "2021-07-02T05:02:13.394205Z"
    }
   },
   "outputs": [],
   "source": [
    "# dss 모듈에 작성된 함수, 클래스 사용"
   ]
  },
  {
   "cell_type": "code",
   "execution_count": 17,
   "id": "small-monaco",
   "metadata": {
    "ExecuteTime": {
     "end_time": "2021-07-02T05:02:13.574500Z",
     "start_time": "2021-07-02T05:02:13.557546Z"
    }
   },
   "outputs": [
    {
     "data": {
      "text/plain": [
       "1234"
      ]
     },
     "execution_count": 17,
     "metadata": {},
     "output_type": "execute_result"
    }
   ],
   "source": [
    "dss.num"
   ]
  },
  {
   "cell_type": "code",
   "execution_count": 18,
   "id": "protected-crawford",
   "metadata": {
    "ExecuteTime": {
     "end_time": "2021-07-02T05:02:13.730181Z",
     "start_time": "2021-07-02T05:02:13.721205Z"
    }
   },
   "outputs": [
    {
     "name": "stdout",
     "output_type": "stream",
     "text": [
      "disp1 python\n"
     ]
    }
   ],
   "source": [
    "dss.disp1('python')"
   ]
  },
  {
   "cell_type": "code",
   "execution_count": 19,
   "id": "korean-anime",
   "metadata": {
    "ExecuteTime": {
     "end_time": "2021-07-02T05:02:13.840073Z",
     "start_time": "2021-07-02T05:02:13.834087Z"
    }
   },
   "outputs": [
    {
     "name": "stdout",
     "output_type": "stream",
     "text": [
      "disp2 PYTHON\n"
     ]
    }
   ],
   "source": [
    "dss.disp2('PYTHON')"
   ]
  },
  {
   "cell_type": "code",
   "execution_count": 20,
   "id": "binary-facial",
   "metadata": {
    "ExecuteTime": {
     "end_time": "2021-07-02T05:02:13.950176Z",
     "start_time": "2021-07-02T05:02:13.936248Z"
    }
   },
   "outputs": [
    {
     "data": {
      "text/plain": [
       "10"
      ]
     },
     "execution_count": 20,
     "metadata": {},
     "output_type": "execute_result"
    }
   ],
   "source": [
    "calc = dss.Calc()\n",
    "calc.plus(1, 2, 3, 4)"
   ]
  },
  {
   "cell_type": "code",
   "execution_count": 21,
   "id": "explicit-community",
   "metadata": {
    "ExecuteTime": {
     "end_time": "2021-07-02T05:03:53.543936Z",
     "start_time": "2021-07-02T05:03:53.540943Z"
    }
   },
   "outputs": [],
   "source": [
    "# 모듈 안의 특정 함수, 변수, 클래스만 호출"
   ]
  },
  {
   "cell_type": "code",
   "execution_count": 25,
   "id": "partial-logging",
   "metadata": {
    "ExecuteTime": {
     "end_time": "2021-07-02T05:04:14.487434Z",
     "start_time": "2021-07-02T05:04:14.470480Z"
    }
   },
   "outputs": [],
   "source": [
    "from dss import num, disp2"
   ]
  },
  {
   "cell_type": "code",
   "execution_count": 27,
   "id": "transsexual-hunger",
   "metadata": {
    "ExecuteTime": {
     "end_time": "2021-07-02T05:04:37.976471Z",
     "start_time": "2021-07-02T05:04:37.959665Z"
    }
   },
   "outputs": [
    {
     "name": "stdout",
     "output_type": "stream",
     "text": [
      "Variable          Type                          Data/Info\n",
      "---------------------------------------------------------\n",
      "NamespaceMagics   MetaHasTraits                 <class 'IPython.core.magi<...>mespace.NamespaceMagics'>\n",
      "calc              Calc                          <dss.Calc object at 0x000001EF6A215288>\n",
      "disp2             function                      <function disp2 at 0x000001EF69D193A8>\n",
      "dss               module                        <module 'dss' from 'C:\\\\U<...>top\\\\데싸90일\\\\2주차\\\\dss.py'>\n",
      "get_ipython       function                      <function get_ipython at 0x000001EF23516AF8>\n",
      "getsizeof         builtin_function_or_method    <built-in function getsizeof>\n",
      "json              module                        <module 'json' from 'C:\\\\<...>\\lib\\\\json\\\\__init__.py'>\n",
      "np                module                        <module 'numpy' from 'C:\\<...>ges\\\\numpy\\\\__init__.py'>\n",
      "num               int                           1234\n",
      "var_dic_list      function                      <function var_dic_list at 0x000001EF6966A168>\n"
     ]
    }
   ],
   "source": [
    "%whos"
   ]
  },
  {
   "cell_type": "code",
   "execution_count": 29,
   "id": "literary-defensive",
   "metadata": {
    "ExecuteTime": {
     "end_time": "2021-07-02T05:04:54.527134Z",
     "start_time": "2021-07-02T05:04:54.521149Z"
    }
   },
   "outputs": [
    {
     "data": {
      "text/plain": [
       "(1234, <function dss.disp2(msg)>)"
      ]
     },
     "execution_count": 29,
     "metadata": {},
     "output_type": "execute_result"
    }
   ],
   "source": [
    "num, disp2"
   ]
  },
  {
   "cell_type": "code",
   "execution_count": 30,
   "id": "renewable-tourist",
   "metadata": {
    "ExecuteTime": {
     "end_time": "2021-07-02T05:05:31.275373Z",
     "start_time": "2021-07-02T05:05:31.259570Z"
    }
   },
   "outputs": [],
   "source": [
    "# 모두 호출하고 싶은 경우\n",
    "\n",
    "from dss import *"
   ]
  },
  {
   "cell_type": "code",
   "execution_count": 33,
   "id": "finished-infrared",
   "metadata": {
    "ExecuteTime": {
     "end_time": "2021-07-02T05:05:42.259109Z",
     "start_time": "2021-07-02T05:05:42.240236Z"
    }
   },
   "outputs": [
    {
     "data": {
      "text/plain": [
       "(1234,\n",
       " <dss.Calc at 0x1ef6a215288>,\n",
       " <function dss.disp1(msg)>,\n",
       " <function dss.disp2(msg)>)"
      ]
     },
     "execution_count": 33,
     "metadata": {},
     "output_type": "execute_result"
    }
   ],
   "source": [
    "num, calc, disp1, disp2"
   ]
  },
  {
   "cell_type": "markdown",
   "id": "available-amber",
   "metadata": {},
   "source": [
    "### 2. Package\n",
    "- 패키지 생성\n",
    "- 패키지 호출\n",
    "- setup.py 패키지 설치 파일 만들기"
   ]
  },
  {
   "cell_type": "code",
   "execution_count": 16,
   "id": "round-recipe",
   "metadata": {
    "ExecuteTime": {
     "end_time": "2021-07-02T05:24:23.987383Z",
     "start_time": "2021-07-02T05:24:23.941365Z"
    }
   },
   "outputs": [
    {
     "name": "stderr",
     "output_type": "stream",
     "text": [
      "The syntax of the command is incorrect.\n"
     ]
    }
   ],
   "source": [
    "# 디렉토리 안에 모듈이 있는 것이 패키지\n",
    "\n",
    "# 디렉토리 생성\n",
    "# school 이라는 디렉토리 밑에 dss 디렉토리 생성\n",
    "!mkdir -p school/dss"
   ]
  },
  {
   "cell_type": "code",
   "execution_count": 9,
   "id": "upper-statistics",
   "metadata": {
    "ExecuteTime": {
     "end_time": "2021-07-02T05:18:00.576785Z",
     "start_time": "2021-07-02T05:18:00.531416Z"
    }
   },
   "outputs": [
    {
     "name": "stderr",
     "output_type": "stream",
     "text": [
      "The syntax of the command is incorrect.\n"
     ]
    }
   ],
   "source": [
    "!mkdir -p school/web"
   ]
  },
  {
   "cell_type": "code",
   "execution_count": null,
   "id": "fifteen-coupon",
   "metadata": {},
   "outputs": [],
   "source": []
  }
 ],
 "metadata": {
  "kernelspec": {
   "display_name": "Python 3",
   "language": "python",
   "name": "python3"
  },
  "language_info": {
   "codemirror_mode": {
    "name": "ipython",
    "version": 3
   },
   "file_extension": ".py",
   "mimetype": "text/x-python",
   "name": "python",
   "nbconvert_exporter": "python",
   "pygments_lexer": "ipython3",
   "version": "3.7.10"
  },
  "nbTranslate": {
   "displayLangs": [
    "*"
   ],
   "hotkey": "alt-t",
   "langInMainMenu": true,
   "sourceLang": "en",
   "targetLang": "fr",
   "useGoogleTranslate": true
  },
  "varInspector": {
   "cols": {
    "lenName": 16,
    "lenType": 16,
    "lenVar": 40
   },
   "kernels_config": {
    "python": {
     "delete_cmd_postfix": "",
     "delete_cmd_prefix": "del ",
     "library": "var_list.py",
     "varRefreshCmd": "print(var_dic_list())"
    },
    "r": {
     "delete_cmd_postfix": ") ",
     "delete_cmd_prefix": "rm(",
     "library": "var_list.r",
     "varRefreshCmd": "cat(var_dic_list()) "
    }
   },
   "types_to_exclude": [
    "module",
    "function",
    "builtin_function_or_method",
    "instance",
    "_Feature"
   ],
   "window_display": false
  }
 },
 "nbformat": 4,
 "nbformat_minor": 5
}
