{
 "cells": [
  {
   "cell_type": "markdown",
   "id": "liable-footage",
   "metadata": {},
   "source": [
    "### Summary\n",
    "- numpy : 선형대수를 빠르게 연산해주는 패키지\n",
    "- 행렬의 생성(1) : ndarray, np.array(iterable)\n",
    "- 행렬의 생성(2) : ones, zeros\n",
    "- 행렬 데이터 선택 : array[n, m]\n",
    "- 행렬 데이터 수정\n",
    "    - 행렬 데이터 선택\n",
    "    - =, >, (값(scalar, vector, matrix))\n",
    "    - 브로드 캐스팅\n",
    "- arange : list에서 사용하는 range : 결과가 ndarray"
   ]
  },
  {
   "cell_type": "markdown",
   "id": "ahead-feeding",
   "metadata": {},
   "source": [
    "### quiz \n",
    "- 100 ~ 130 까지 랜덤한 숫자를 가지는 8*8 행렬을 만들고, \n",
    "- 3의 배수는 fiz, 5의 배수는 buz, 3과 5의 배수는 fiz 문자로 변환"
   ]
  },
  {
   "cell_type": "code",
   "execution_count": 101,
   "id": "smooth-departure",
   "metadata": {
    "ExecuteTime": {
     "end_time": "2021-07-05T07:15:16.220149Z",
     "start_time": "2021-07-05T07:15:16.201205Z"
    }
   },
   "outputs": [
    {
     "data": {
      "text/plain": [
       "array([[110, 104, 106, 114, 102, 113, 101, 126],\n",
       "       [123, 124, 125, 113, 115, 120, 108, 118],\n",
       "       [105, 128, 108, 110, 118, 101, 119, 106],\n",
       "       [100, 106, 125, 117, 103, 103, 111, 128],\n",
       "       [108, 114, 124, 116, 102, 100, 108, 113],\n",
       "       [101, 118, 123, 118, 121, 101, 100, 115],\n",
       "       [107, 109, 102, 119, 123, 106, 112, 127],\n",
       "       [124, 112, 104, 108, 114, 123, 115, 116]])"
      ]
     },
     "execution_count": 101,
     "metadata": {},
     "output_type": "execute_result"
    }
   ],
   "source": [
    "mat = np.random.randint(100, 130, (8,8))\n",
    "mat"
   ]
  },
  {
   "cell_type": "code",
   "execution_count": 102,
   "id": "typical-pontiac",
   "metadata": {
    "ExecuteTime": {
     "end_time": "2021-07-05T07:15:16.361477Z",
     "start_time": "2021-07-05T07:15:16.352502Z"
    }
   },
   "outputs": [],
   "source": [
    "# 3의 배수, 5의 배수, 15의 배수 위치값에 대한 T, F, matrix 생성\n",
    "\n",
    "idx3 = mat % 3 == 0\n",
    "idx5 = mat % 5 == 0\n",
    "idx15 = mat % 15 == 0"
   ]
  },
  {
   "cell_type": "code",
   "execution_count": 103,
   "id": "considerable-passenger",
   "metadata": {
    "ExecuteTime": {
     "end_time": "2021-07-05T07:15:16.500291Z",
     "start_time": "2021-07-05T07:15:16.495303Z"
    }
   },
   "outputs": [],
   "source": [
    "# 데이터 타입을 str로 변환\n",
    "\n",
    "mat = mat.astype('str')"
   ]
  },
  {
   "cell_type": "code",
   "execution_count": 104,
   "id": "legal-brake",
   "metadata": {
    "ExecuteTime": {
     "end_time": "2021-07-05T07:15:16.641607Z",
     "start_time": "2021-07-05T07:15:16.623881Z"
    }
   },
   "outputs": [],
   "source": [
    "mat[idx3] = 'fiz'\n",
    "mat[idx5] = 'buz'\n",
    "mat[idx15] = 'fiz'"
   ]
  },
  {
   "cell_type": "code",
   "execution_count": 105,
   "id": "registered-structure",
   "metadata": {
    "ExecuteTime": {
     "end_time": "2021-07-05T07:15:16.968437Z",
     "start_time": "2021-07-05T07:15:16.962453Z"
    }
   },
   "outputs": [
    {
     "data": {
      "text/plain": [
       "array([['buz', '104', '106', 'fiz', 'fiz', '113', '101', 'fiz'],\n",
       "       ['fiz', '124', 'buz', '113', 'buz', 'fiz', 'fiz', '118'],\n",
       "       ['fiz', '128', 'fiz', 'buz', '118', '101', '119', '106'],\n",
       "       ['buz', '106', 'buz', 'fiz', '103', '103', 'fiz', '128'],\n",
       "       ['fiz', 'fiz', '124', '116', 'fiz', 'buz', 'fiz', '113'],\n",
       "       ['101', '118', 'fiz', '118', '121', '101', 'buz', 'buz'],\n",
       "       ['107', '109', 'fiz', '119', 'fiz', '106', '112', '127'],\n",
       "       ['124', '112', '104', 'fiz', 'fiz', 'fiz', 'buz', '116']],\n",
       "      dtype='<U11')"
      ]
     },
     "execution_count": 105,
     "metadata": {},
     "output_type": "execute_result"
    }
   ],
   "source": [
    "mat"
   ]
  },
  {
   "cell_type": "code",
   "execution_count": null,
   "id": "immediate-eligibility",
   "metadata": {},
   "outputs": [],
   "source": []
  },
  {
   "cell_type": "markdown",
   "id": "adolescent-myanmar",
   "metadata": {},
   "source": [
    "### quiz\n",
    "- 1 ~ 20 까지의 랜덤한 숫자를 가지는 5*5 행렬 생성\n",
    "- 최대값에는 MAX, 최소값에는 MIN 문자열이 들어가도록 치환하는 코드"
   ]
  },
  {
   "cell_type": "code",
   "execution_count": 107,
   "id": "increasing-session",
   "metadata": {
    "ExecuteTime": {
     "end_time": "2021-07-05T07:17:04.655033Z",
     "start_time": "2021-07-05T07:17:04.638106Z"
    }
   },
   "outputs": [
    {
     "data": {
      "text/plain": [
       "array([[ 1,  7,  6,  5,  5],\n",
       "       [13,  1, 11,  9,  1],\n",
       "       [15,  4, 14, 15, 17],\n",
       "       [17, 19,  9, 16, 12],\n",
       "       [14, 14, 11,  4, 17]])"
      ]
     },
     "execution_count": 107,
     "metadata": {},
     "output_type": "execute_result"
    }
   ],
   "source": [
    "mat = np.random.randint(1, 20, (5,5))\n",
    "mat"
   ]
  },
  {
   "cell_type": "code",
   "execution_count": 132,
   "id": "retired-velvet",
   "metadata": {
    "ExecuteTime": {
     "end_time": "2021-07-05T07:22:06.304630Z",
     "start_time": "2021-07-05T07:22:06.292662Z"
    }
   },
   "outputs": [],
   "source": [
    "max_idx = mat == np.max(mat)\n",
    "min_idx = mat == np.min(mat)"
   ]
  },
  {
   "cell_type": "code",
   "execution_count": 135,
   "id": "rental-world",
   "metadata": {
    "ExecuteTime": {
     "end_time": "2021-07-05T07:22:29.710666Z",
     "start_time": "2021-07-05T07:22:29.703684Z"
    }
   },
   "outputs": [],
   "source": [
    "mat = mat.astype(str)"
   ]
  },
  {
   "cell_type": "code",
   "execution_count": 136,
   "id": "becoming-annotation",
   "metadata": {
    "ExecuteTime": {
     "end_time": "2021-07-05T07:22:39.990211Z",
     "start_time": "2021-07-05T07:22:39.982234Z"
    }
   },
   "outputs": [],
   "source": [
    "mat[max_idx] = 'MAX'\n",
    "mat[min_idx] = 'MIN'"
   ]
  },
  {
   "cell_type": "code",
   "execution_count": 137,
   "id": "dressed-montgomery",
   "metadata": {
    "ExecuteTime": {
     "end_time": "2021-07-05T07:22:41.047272Z",
     "start_time": "2021-07-05T07:22:41.041288Z"
    }
   },
   "outputs": [
    {
     "data": {
      "text/plain": [
       "array([['MIN', '7', '6', '5', '5'],\n",
       "       ['13', 'MIN', '11', '9', 'MIN'],\n",
       "       ['15', '4', '14', '15', '17'],\n",
       "       ['17', 'MAX', '9', '16', '12'],\n",
       "       ['14', '14', '11', '4', '17']], dtype='<U11')"
      ]
     },
     "execution_count": 137,
     "metadata": {},
     "output_type": "execute_result"
    }
   ],
   "source": [
    "mat"
   ]
  },
  {
   "cell_type": "markdown",
   "id": "economic-standard",
   "metadata": {},
   "source": [
    "### linspace, logspace 함수\n",
    "- linspace : 설정한 범위에서 선형적으로 분할한 위치의 값을 출력\n",
    "- logspace : 설정한 범위에서 로그로 분할한 위치릐 값을 출력"
   ]
  },
  {
   "cell_type": "code",
   "execution_count": 138,
   "id": "curious-diabetes",
   "metadata": {
    "ExecuteTime": {
     "end_time": "2021-07-05T07:24:09.299747Z",
     "start_time": "2021-07-05T07:24:09.281829Z"
    }
   },
   "outputs": [
    {
     "data": {
      "text/plain": [
       "array([  0.,  25.,  50.,  75., 100.])"
      ]
     },
     "execution_count": 138,
     "metadata": {},
     "output_type": "execute_result"
    }
   ],
   "source": [
    "# linspace\n",
    "# 0부터 100까지를 5등분으로 자름\n",
    "np.linspace(0, 100, 5)"
   ]
  },
  {
   "cell_type": "code",
   "execution_count": 141,
   "id": "meaning-paper",
   "metadata": {
    "ExecuteTime": {
     "end_time": "2021-07-05T07:30:44.958256Z",
     "start_time": "2021-07-05T07:30:44.942309Z"
    }
   },
   "outputs": [
    {
     "data": {
      "text/plain": [
       "array([  100.,  1000., 10000.])"
      ]
     },
     "execution_count": 141,
     "metadata": {},
     "output_type": "execute_result"
    }
   ],
   "source": [
    "# logspace\n",
    "# log10(x1) = 2, log10(x2)= 3, log10(x3)=4\n",
    "np.logspace(2, 4, 3)"
   ]
  },
  {
   "cell_type": "code",
   "execution_count": 144,
   "id": "falling-senator",
   "metadata": {
    "ExecuteTime": {
     "end_time": "2021-07-05T07:33:19.713970Z",
     "start_time": "2021-07-05T07:33:19.705990Z"
    }
   },
   "outputs": [],
   "source": [
    "# 30세에 연봉이 $100000 이고 60세 연봉이 $1000000 일때\n",
    "# 연봉이 선형으로 증가, 지수함수로 증가하는 두 경우에서의 40세와 50세 연봉을 출력\n",
    "\n",
    "age_30 = 100000\n",
    "age_60 = 1000000"
   ]
  },
  {
   "cell_type": "code",
   "execution_count": 148,
   "id": "least-secondary",
   "metadata": {
    "ExecuteTime": {
     "end_time": "2021-07-05T07:34:00.672538Z",
     "start_time": "2021-07-05T07:33:59.977384Z"
    }
   },
   "outputs": [],
   "source": [
    "import matplotlib.pyplot as plt"
   ]
  },
  {
   "cell_type": "code",
   "execution_count": 159,
   "id": "touched-jackson",
   "metadata": {
    "ExecuteTime": {
     "end_time": "2021-07-05T07:36:38.366574Z",
     "start_time": "2021-07-05T07:36:38.238914Z"
    }
   },
   "outputs": [
    {
     "name": "stdout",
     "output_type": "stream",
     "text": [
      "[ 100000.  400000.  700000. 1000000.]\n",
      "[ 100000.          215443.46900319  464158.88336128 1000000.        ]\n"
     ]
    },
    {
     "data": {
      "image/png": "[encoded data removed]",
      "text/plain": [
       "<Figure size 432x288 with 1 Axes>"
      ]
     },
     "metadata": {
      "needs_background": "light"
     },
     "output_type": "display_data"
    }
   ],
   "source": [
    "# 연봉이 선형으로 증가하는 경우와 지수함수로 증가하는 경우\n",
    "\n",
    "print(np.linspace(age_30, age_60, 4))\n",
    "print(np.logspace(np.log10(age_30), np.log10(age_60), 4))\n",
    "plt.plot(np.linspace(100000, 1000000, 4), label='lin')\n",
    "plt.plot(np.logspace(np.log10(age_30), np.log10(age_60), 4), label='log')\n",
    "plt.legend()\n",
    "plt.show()"
   ]
  },
  {
   "cell_type": "markdown",
   "id": "systematic-large",
   "metadata": {},
   "source": [
    "### numpy random"
   ]
  },
  {
   "cell_type": "markdown",
   "id": "regular-function",
   "metadata": {},
   "source": [
    "- seed : 랜덤값의 설정값\n",
    "- rand : 균등분포로 난수를 발생\n",
    "- randn : 정규분포로 난수를 발생\n",
    "- randint : 균등분포로 정수값을 발생\n",
    "- shuffle : 행렬 데이터를 섞어 줍니다.\n",
    "- choice : 특정 확률로 데이터를 선택"
   ]
  },
  {
   "cell_type": "code",
   "execution_count": 174,
   "id": "light-contributor",
   "metadata": {
    "ExecuteTime": {
     "end_time": "2021-07-05T07:44:01.579071Z",
     "start_time": "2021-07-05T07:44:01.556094Z"
    }
   },
   "outputs": [
    {
     "data": {
      "text/plain": [
       "(array([47, 22, 82, 19, 85, 15, 89, 74, 26, 11]),\n",
       " array([47, 22, 82, 19, 85, 15, 89, 74, 26, 11]),\n",
       " array([50, 25, 82, 32, 53, 92, 85, 17, 44, 59]))"
      ]
     },
     "execution_count": 174,
     "metadata": {},
     "output_type": "execute_result"
    }
   ],
   "source": [
    "# seed\n",
    "# seed값이 동일하면 동일한 난수를 발생\n",
    "\n",
    "np.random.seed(1)\n",
    "result1 = np.random.randint(10, 100, 10)\n",
    "\n",
    "np.random.seed(1)\n",
    "result2 = np.random.randint(10, 100, 10)\n",
    "\n",
    "np.random.seed(2)\n",
    "result3 = np.random.randint(10, 100, 10)\n",
    "\n",
    "result1, result2, result3"
   ]
  },
  {
   "cell_type": "code",
   "execution_count": 168,
   "id": "entitled-sustainability",
   "metadata": {
    "ExecuteTime": {
     "end_time": "2021-07-05T07:41:08.350349Z",
     "start_time": "2021-07-05T07:41:08.243639Z"
    }
   },
   "outputs": [
    {
     "data": {
      "text/plain": [
       "(array([ 941., 1010., 1034.,  990.,  971., 1049., 1039., 1023., 1006.,\n",
       "         937.]),\n",
       " array([6.21706343e-05, 1.00053568e-01, 2.00044966e-01, 3.00036364e-01,\n",
       "        4.00027761e-01, 5.00019159e-01, 6.00010556e-01, 7.00001954e-01,\n",
       "        7.99993352e-01, 8.99984749e-01, 9.99976147e-01]),\n",
       " <BarContainer object of 10 artists>)"
      ]
     },
     "execution_count": 168,
     "metadata": {},
     "output_type": "execute_result"
    },
    {
     "data": {
      "image/png": "[encoded data removed]",
      "text/plain": [
       "<Figure size 432x288 with 1 Axes>"
      ]
     },
     "metadata": {
      "needs_background": "light"
     },
     "output_type": "display_data"
    }
   ],
   "source": [
    "plt.title('np.random.rand')\n",
    "rand_arr = np.random.rand(10000)\n",
    "plt.hist(rand_arr)"
   ]
  },
  {
   "cell_type": "code",
   "execution_count": 172,
   "id": "buried-bunny",
   "metadata": {
    "ExecuteTime": {
     "end_time": "2021-07-05T07:42:06.255294Z",
     "start_time": "2021-07-05T07:42:06.120261Z"
    }
   },
   "outputs": [
    {
     "data": {
      "text/plain": [
       "(array([   8.,   52.,  411., 1371., 2665., 2997., 1801.,  579.,  102.,\n",
       "          14.]),\n",
       " array([-4.02873775, -3.24481576, -2.46089376, -1.67697177, -0.89304977,\n",
       "        -0.10912778,  0.67479422,  1.45871621,  2.24263821,  3.0265602 ,\n",
       "         3.8104822 ]),\n",
       " <BarContainer object of 10 artists>)"
      ]
     },
     "execution_count": 172,
     "metadata": {},
     "output_type": "execute_result"
    },
    {
     "data": {
      "image/png": "[encoded data removed]",
      "text/plain": [
       "<Figure size 432x288 with 1 Axes>"
      ]
     },
     "metadata": {
      "needs_background": "light"
     },
     "output_type": "display_data"
    }
   ],
   "source": [
    "plt.title('np.random.randn')\n",
    "randn_arr = np.random.randn(10000)\n",
    "plt.hist(randn_arr)"
   ]
  },
  {
   "cell_type": "code",
   "execution_count": 238,
   "id": "productive-spank",
   "metadata": {
    "ExecuteTime": {
     "end_time": "2021-07-05T07:56:30.368310Z",
     "start_time": "2021-07-05T07:56:30.347329Z"
    }
   },
   "outputs": [
    {
     "data": {
      "text/plain": [
       "array([[2, 9, 6, 2],\n",
       "       [1, 6, 1, 9],\n",
       "       [3, 7, 9, 3]])"
      ]
     },
     "execution_count": 238,
     "metadata": {},
     "output_type": "execute_result"
    }
   ],
   "source": [
    "# shuffle\n",
    "\n",
    "r = np.random.randint(1, 10, (3, 4))\n",
    "r"
   ]
  },
  {
   "cell_type": "code",
   "execution_count": 239,
   "id": "acting-sample",
   "metadata": {
    "ExecuteTime": {
     "end_time": "2021-07-05T07:56:30.668830Z",
     "start_time": "2021-07-05T07:56:30.646846Z"
    }
   },
   "outputs": [
    {
     "data": {
      "text/plain": [
       "array([[1, 6, 1, 9],\n",
       "       [3, 7, 9, 3],\n",
       "       [2, 9, 6, 2]])"
      ]
     },
     "execution_count": 239,
     "metadata": {},
     "output_type": "execute_result"
    }
   ],
   "source": [
    "# shuffle의 주의점\n",
    "# 가장 밖의 차원 순서만 바꿔줌\n",
    "\n",
    "np.random.shuffle(r)\n",
    "r"
   ]
  },
  {
   "cell_type": "code",
   "execution_count": 246,
   "id": "thirty-alexander",
   "metadata": {
    "ExecuteTime": {
     "end_time": "2021-07-05T07:59:08.709832Z",
     "start_time": "2021-07-05T07:59:08.703885Z"
    }
   },
   "outputs": [],
   "source": [
    "# 전체 데이터를 shuffle 하고 싶다면 1차원으로 변경 후 다시 원래 차원으로 변경\n",
    "\n",
    "flattened = r.reshape(-1)\n",
    "np.random.shuffle(flattened)"
   ]
  },
  {
   "cell_type": "code",
   "execution_count": 260,
   "id": "dominican-facility",
   "metadata": {
    "ExecuteTime": {
     "end_time": "2021-07-05T08:00:53.666976Z",
     "start_time": "2021-07-05T08:00:53.658996Z"
    }
   },
   "outputs": [
    {
     "data": {
      "text/plain": [
       "array([0, 1, 4, 2, 3, 4, 2, 0, 4, 2])"
      ]
     },
     "execution_count": 260,
     "metadata": {},
     "output_type": "execute_result"
    }
   ],
   "source": [
    "# choice \n",
    "# 4까지의 수 10개를 랜덤하게 선택\n",
    "\n",
    "np.random.choice(5, 10)"
   ]
  },
  {
   "cell_type": "code",
   "execution_count": 264,
   "id": "intermediate-motorcycle",
   "metadata": {
    "ExecuteTime": {
     "end_time": "2021-07-05T08:01:34.145248Z",
     "start_time": "2021-07-05T08:01:34.126300Z"
    }
   },
   "outputs": [
    {
     "data": {
      "text/plain": [
       "array([3, 2, 4, 2, 4, 0, 2, 3, 2, 2])"
      ]
     },
     "execution_count": 264,
     "metadata": {},
     "output_type": "execute_result"
    }
   ],
   "source": [
    "# p 파라미터 ( 각 확률변수가 선택될 확률 지정, 합은 1)\n",
    "\n",
    "np.random.choice(5, 10, p=[0.1, 0, 0.4, 0.2, 0.3])"
   ]
  },
  {
   "cell_type": "code",
   "execution_count": 266,
   "id": "indonesian-pastor",
   "metadata": {
    "ExecuteTime": {
     "end_time": "2021-07-05T08:02:04.521558Z",
     "start_time": "2021-07-05T08:02:04.513580Z"
    }
   },
   "outputs": [
    {
     "data": {
      "text/plain": [
       "array([1, 2, 3, 6, 7, 9])"
      ]
     },
     "execution_count": 266,
     "metadata": {},
     "output_type": "execute_result"
    }
   ],
   "source": [
    "# 고유값을 출력\n",
    "\n",
    "np.unique(r)"
   ]
  },
  {
   "cell_type": "code",
   "execution_count": 273,
   "id": "classical-portal",
   "metadata": {
    "ExecuteTime": {
     "end_time": "2021-07-05T08:03:57.037447Z",
     "start_time": "2021-07-05T08:03:57.025479Z"
    }
   },
   "outputs": [
    {
     "name": "stdout",
     "output_type": "stream",
     "text": [
      "[1 2 3 6 7 9] [2 2 2 2 1 3]\n"
     ]
    }
   ],
   "source": [
    "# 각 값이 몇번 나왔는지 return_counts 파라미터 지정\n",
    "\n",
    "numbers, counts = np.unique(r, return_counts = True)\n",
    "print(numbers, counts)"
   ]
  },
  {
   "cell_type": "markdown",
   "id": "exciting-airplane",
   "metadata": {},
   "source": [
    "### 3. 행렬 데이터의 결합"
   ]
  },
  {
   "cell_type": "markdown",
   "id": "spiritual-sister",
   "metadata": {},
   "source": [
    "- concatenate"
   ]
  },
  {
   "cell_type": "code",
   "execution_count": 274,
   "id": "visible-islam",
   "metadata": {
    "ExecuteTime": {
     "end_time": "2021-07-05T08:05:42.311008Z",
     "start_time": "2021-07-05T08:05:42.307018Z"
    }
   },
   "outputs": [],
   "source": [
    "na1 = np.random.randint(10, size=(2, 3))\n",
    "na2 = np.random.randint(10, size=(3, 2))\n",
    "na3 = np.random.randint(10, size=(3, 3))"
   ]
  },
  {
   "cell_type": "code",
   "execution_count": 277,
   "id": "framed-expression",
   "metadata": {
    "ExecuteTime": {
     "end_time": "2021-07-05T08:06:04.232004Z",
     "start_time": "2021-07-05T08:06:04.219000Z"
    }
   },
   "outputs": [
    {
     "data": {
      "text/plain": [
       "(array([[3, 1, 7],\n",
       "        [3, 5, 7]]),\n",
       " array([[7, 9],\n",
       "        [4, 6],\n",
       "        [3, 4]]),\n",
       " array([[8, 3, 9],\n",
       "        [6, 5, 1],\n",
       "        [8, 2, 8]]))"
      ]
     },
     "execution_count": 277,
     "metadata": {},
     "output_type": "execute_result"
    }
   ],
   "source": [
    "na1, na2, na3"
   ]
  },
  {
   "cell_type": "code",
   "execution_count": 286,
   "id": "intelligent-eligibility",
   "metadata": {
    "ExecuteTime": {
     "end_time": "2021-07-05T08:07:03.815106Z",
     "start_time": "2021-07-05T08:07:03.806132Z"
    }
   },
   "outputs": [
    {
     "data": {
      "text/plain": [
       "array([[3, 1, 7],\n",
       "       [3, 5, 7],\n",
       "       [8, 3, 9],\n",
       "       [6, 5, 1],\n",
       "       [8, 2, 8]])"
      ]
     },
     "execution_count": 286,
     "metadata": {},
     "output_type": "execute_result"
    }
   ],
   "source": [
    "# 세로 결합\n",
    "\n",
    "np.concatenate((na1, na3))"
   ]
  },
  {
   "cell_type": "code",
   "execution_count": 289,
   "id": "lightweight-comedy",
   "metadata": {
    "ExecuteTime": {
     "end_time": "2021-07-05T08:07:32.503215Z",
     "start_time": "2021-07-05T08:07:32.499225Z"
    }
   },
   "outputs": [
    {
     "data": {
      "text/plain": [
       "array([[7, 9, 8, 3, 9],\n",
       "       [4, 6, 6, 5, 1],\n",
       "       [3, 4, 8, 2, 8]])"
      ]
     },
     "execution_count": 289,
     "metadata": {},
     "output_type": "execute_result"
    }
   ],
   "source": [
    "# 가로 결합\n",
    "\n",
    "np.concatenate((na2, na3), axis=1)"
   ]
  },
  {
   "cell_type": "code",
   "execution_count": 290,
   "id": "acoustic-concrete",
   "metadata": {
    "ExecuteTime": {
     "end_time": "2021-07-05T08:08:40.408845Z",
     "start_time": "2021-07-05T08:08:40.392888Z"
    }
   },
   "outputs": [
    {
     "data": {
      "text/plain": [
       "array([[1, 4],\n",
       "       [2, 5],\n",
       "       [3, 6]])"
      ]
     },
     "execution_count": 290,
     "metadata": {},
     "output_type": "execute_result"
    }
   ],
   "source": [
    "# c_, r_\n",
    "\n",
    "\n",
    "# 컬럼 결합\n",
    "np.c_[np.array([1, 2, 3]), np.array([4, 5, 6])]"
   ]
  },
  {
   "cell_type": "code",
   "execution_count": 292,
   "id": "neutral-supply",
   "metadata": {
    "ExecuteTime": {
     "end_time": "2021-07-05T08:09:03.465717Z",
     "start_time": "2021-07-05T08:09:03.448763Z"
    }
   },
   "outputs": [
    {
     "data": {
      "text/plain": [
       "array([1, 2, 3, 4, 5, 6])"
      ]
     },
     "execution_count": 292,
     "metadata": {},
     "output_type": "execute_result"
    }
   ],
   "source": [
    "# 로우 결합\n",
    "np.r_[np.array([1, 2, 3]), np.array([4, 5, 6])]"
   ]
  },
  {
   "cell_type": "code",
   "execution_count": null,
   "id": "announced-status",
   "metadata": {},
   "outputs": [],
   "source": []
  }
 ],
 "metadata": {
  "kernelspec": {
   "display_name": "Python 3",
   "language": "python",
   "name": "python3"
  },
  "language_info": {
   "codemirror_mode": {
    "name": "ipython",
    "version": 3
   },
   "file_extension": ".py",
   "mimetype": "text/x-python",
   "name": "python",
   "nbconvert_exporter": "python",
   "pygments_lexer": "ipython3",
   "version": "3.7.10"
  },
  "nbTranslate": {
   "displayLangs": [
    "*"
   ],
   "hotkey": "alt-t",
   "langInMainMenu": true,
   "sourceLang": "en",
   "targetLang": "fr",
   "useGoogleTranslate": true
  },
  "varInspector": {
   "cols": {
    "lenName": 16,
    "lenType": 16,
    "lenVar": 40
   },
   "kernels_config": {
    "python": {
     "delete_cmd_postfix": "",
     "delete_cmd_prefix": "del ",
     "library": "var_list.py",
     "varRefreshCmd": "print(var_dic_list())"
    },
    "r": {
     "delete_cmd_postfix": ") ",
     "delete_cmd_prefix": "rm(",
     "library": "var_list.r",
     "varRefreshCmd": "cat(var_dic_list()) "
    }
   },
   "types_to_exclude": [
    "module",
    "function",
    "builtin_function_or_method",
    "instance",
    "_Feature"
   ],
   "window_display": false
  }
 },
 "nbformat": 4,
 "nbformat_minor": 5
}
