{
 "cells": [
  {
   "cell_type": "markdown",
   "id": "communist-wages",
   "metadata": {},
   "source": [
    "### 파이썬 기본 문법\n",
    "- 변수 선언, 식별자, 자료형, 형변환, 연산자 학습"
   ]
  },
  {
   "cell_type": "markdown",
   "id": "precious-february",
   "metadata": {},
   "source": [
    "#### 1. 주석(comment)과 출력(print)"
   ]
  },
  {
   "cell_type": "code",
   "execution_count": 2,
   "id": "bored-stuart",
   "metadata": {
    "ExecuteTime": {
     "end_time": "2021-06-29T06:01:48.044165Z",
     "start_time": "2021-06-29T06:01:48.028298Z"
    }
   },
   "outputs": [
    {
     "name": "stdout",
     "output_type": "stream",
     "text": [
      "1\n",
      "3\n"
     ]
    }
   ],
   "source": [
    "# 주석 : 앞에 #을 붙이면 코드로 인식 X\n",
    "# 코드에 대한 설명이나 중간에 코드를 실행시키고 싶지 않을 때 사용\n",
    "# 단축키 : ctrl(cmd) + /\n",
    "# 블럭설정 : shift + 방향키\n",
    "\n",
    "print(1)\n",
    "# print(2)\n",
    "print(3)"
   ]
  },
  {
   "cell_type": "code",
   "execution_count": 3,
   "id": "paperback-catering",
   "metadata": {
    "ExecuteTime": {
     "end_time": "2021-06-29T06:02:23.371535Z",
     "start_time": "2021-06-29T06:02:23.355748Z"
    }
   },
   "outputs": [],
   "source": [
    "# 출력 : print() 함수\n",
    "# 코드 중간에 변수안에 들어있는 값을 확인하고자 할 때 사용"
   ]
  },
  {
   "cell_type": "code",
   "execution_count": 4,
   "id": "juvenile-trunk",
   "metadata": {
    "ExecuteTime": {
     "end_time": "2021-06-29T06:02:47.247693Z",
     "start_time": "2021-06-29T06:02:47.230703Z"
    }
   },
   "outputs": [
    {
     "name": "stdout",
     "output_type": "stream",
     "text": [
      "2\n",
      "4\n"
     ]
    }
   ],
   "source": [
    "a = 1\n",
    "b = 2\n",
    "c = 3\n",
    "print(b)\n",
    "b = 4\n",
    "print(b)"
   ]
  },
  {
   "cell_type": "code",
   "execution_count": 10,
   "id": "sustained-connection",
   "metadata": {
    "ExecuteTime": {
     "end_time": "2021-06-29T06:05:00.605813Z",
     "start_time": "2021-06-29T06:05:00.587129Z"
    }
   },
   "outputs": [
    {
     "name": "stdout",
     "output_type": "stream",
     "text": [
      "1 2\n",
      "3\n",
      "1-2\t3\n"
     ]
    }
   ],
   "source": [
    "# print 함수의 옵션\n",
    "# docstring : 함수에 대한 설명 : 단축키(shift + tab)\n",
    "print(1, 2)\n",
    "print(3)\n",
    "print(1, 2, sep = '-', end='\\t')\n",
    "print(3)"
   ]
  },
  {
   "cell_type": "markdown",
   "id": "future-landscape",
   "metadata": {},
   "source": [
    "#### 2. 변수 선언\n",
    "- RAM 저장공간에 값을 할당하는 행위"
   ]
  },
  {
   "cell_type": "code",
   "execution_count": 12,
   "id": "southeast-account",
   "metadata": {
    "ExecuteTime": {
     "end_time": "2021-06-29T06:06:24.599687Z",
     "start_time": "2021-06-29T06:06:24.591716Z"
    }
   },
   "outputs": [
    {
     "data": {
      "text/plain": [
       "3"
      ]
     },
     "execution_count": 12,
     "metadata": {},
     "output_type": "execute_result"
    }
   ],
   "source": [
    "a = 1\n",
    "b = 2\n",
    "c = a + b\n",
    "c"
   ]
  },
  {
   "cell_type": "code",
   "execution_count": 15,
   "id": "arabic-swing",
   "metadata": {
    "ExecuteTime": {
     "end_time": "2021-06-29T06:07:19.842565Z",
     "start_time": "2021-06-29T06:07:19.836382Z"
    }
   },
   "outputs": [
    {
     "name": "stdout",
     "output_type": "stream",
     "text": [
      "3 4\n",
      "5 5\n"
     ]
    }
   ],
   "source": [
    "d, e = 3, 4\n",
    "print(d, e)\n",
    "\n",
    "f = g = 5\n",
    "print(f, g)"
   ]
  },
  {
   "cell_type": "markdown",
   "id": "associate-interest",
   "metadata": {
    "ExecuteTime": {
     "end_time": "2021-06-29T06:10:23.854119Z",
     "start_time": "2021-06-29T06:10:23.839335Z"
    }
   },
   "source": [
    "#### 3. 식별자\n",
    "- 변수, 함수, 클래스, 모듈 등의 이름을 식별자라 한다.\n",
    "- 식별자 규칙\n",
    "    - 소문자, 대문자, 숫자, 언더스코어(_)를 사용한다.\n",
    "    - 가장 앞에 숫자 사용 불가 ex) 10a = 5\n",
    "    - 예약어의 사용 불가 : def, class, try, except ...\n",
    "    - 컨벤션(합성어의 변수 사용)\n",
    "        - snake case : fast_campus : 변수, 함수 선언 시\n",
    "        - cammel case : FastCampus, fastCampus : 클래스 선언 시\n",
    "        "
   ]
  },
  {
   "cell_type": "markdown",
   "id": "talented-atmosphere",
   "metadata": {},
   "source": [
    "#### 4. 데이터 타입\n",
    "\n",
    "- RAM이라 불리는 저장공간을 효율적으로 사용하기 위해 저장공간의 타입 설정이 필요하다.\n",
    "- 파이썬은 동적타이핑을 이용한다.\n",
    "- 변수 선언 시 저장되는 값에 따라서 자동으로 데이터 타입이 설정된다.\n",
    "\n",
    "\n",
    "- 기본 데이터 타입 : int, float, bool, str\n",
    "- 컬렉션 데이터 타입 : list, tuple, dict"
   ]
  },
  {
   "cell_type": "code",
   "execution_count": 18,
   "id": "honest-confidentiality",
   "metadata": {
    "ExecuteTime": {
     "end_time": "2021-06-29T06:12:35.853842Z",
     "start_time": "2021-06-29T06:12:35.843904Z"
    }
   },
   "outputs": [
    {
     "name": "stdout",
     "output_type": "stream",
     "text": [
      "<class 'int'>\n",
      "<class 'str'>\n",
      "<class 'float'>\n",
      "<class 'bool'>\n"
     ]
    }
   ],
   "source": [
    "# 기본 데이터 타입\n",
    "\n",
    "a = 1 # int\n",
    "b = 'python' # str\n",
    "c = 1.5 # float\n",
    "d = True # bool\n",
    "\n",
    "var_list = [a, b, c, d]\n",
    "\n",
    "for i in var_list:\n",
    "    print(type(i))"
   ]
  },
  {
   "cell_type": "code",
   "execution_count": 23,
   "id": "lesser-bandwidth",
   "metadata": {
    "ExecuteTime": {
     "end_time": "2021-06-29T06:14:41.722827Z",
     "start_time": "2021-06-29T06:14:41.715846Z"
    }
   },
   "outputs": [
    {
     "name": "stdout",
     "output_type": "stream",
     "text": [
      "PYTHON\n"
     ]
    }
   ],
   "source": [
    "# 데이터 타입의 함수 : 문자열\n",
    "\n",
    "# upper : 대문자로 변환\n",
    "e = b.upper()\n",
    "print(e)"
   ]
  },
  {
   "cell_type": "code",
   "execution_count": 27,
   "id": "proud-choir",
   "metadata": {
    "ExecuteTime": {
     "end_time": "2021-06-29T06:15:45.668594Z",
     "start_time": "2021-06-29T06:15:45.662611Z"
    }
   },
   "outputs": [],
   "source": [
    "f = '  Fast campus  '"
   ]
  },
  {
   "cell_type": "code",
   "execution_count": 28,
   "id": "impressed-consultancy",
   "metadata": {
    "ExecuteTime": {
     "end_time": "2021-06-29T06:15:45.856062Z",
     "start_time": "2021-06-29T06:15:45.839245Z"
    }
   },
   "outputs": [
    {
     "data": {
      "text/plain": [
       "'  fast campus  '"
      ]
     },
     "execution_count": 28,
     "metadata": {},
     "output_type": "execute_result"
    }
   ],
   "source": [
    "# lower : 소문자로 변환\n",
    "f.lower()"
   ]
  },
  {
   "cell_type": "code",
   "execution_count": 29,
   "id": "occupational-gambling",
   "metadata": {
    "ExecuteTime": {
     "end_time": "2021-06-29T06:15:46.040646Z",
     "start_time": "2021-06-29T06:15:46.022967Z"
    }
   },
   "outputs": [
    {
     "data": {
      "text/plain": [
       "'Fast campus'"
      ]
     },
     "execution_count": 29,
     "metadata": {},
     "output_type": "execute_result"
    }
   ],
   "source": [
    "# strip() : 공백 제거\n",
    "f.strip()"
   ]
  },
  {
   "cell_type": "code",
   "execution_count": 30,
   "id": "derived-error",
   "metadata": {
    "ExecuteTime": {
     "end_time": "2021-06-29T06:16:09.388924Z",
     "start_time": "2021-06-29T06:16:09.369454Z"
    }
   },
   "outputs": [
    {
     "data": {
      "text/plain": [
       "'Fastcampus'"
      ]
     },
     "execution_count": 30,
     "metadata": {},
     "output_type": "execute_result"
    }
   ],
   "source": [
    "# replace() : 특정 문자열 치환\n",
    "f.replace(' ','')"
   ]
  },
  {
   "cell_type": "code",
   "execution_count": 33,
   "id": "angry-investor",
   "metadata": {
    "ExecuteTime": {
     "end_time": "2021-06-29T06:17:05.918785Z",
     "start_time": "2021-06-29T06:17:05.911433Z"
    }
   },
   "outputs": [
    {
     "data": {
      "text/plain": [
       "'Slow campus'"
      ]
     },
     "execution_count": 33,
     "metadata": {},
     "output_type": "execute_result"
    }
   ],
   "source": [
    "(f.strip()).replace('Fast', 'Slow')"
   ]
  },
  {
   "cell_type": "code",
   "execution_count": 34,
   "id": "realistic-contest",
   "metadata": {
    "ExecuteTime": {
     "end_time": "2021-06-29T06:17:18.668960Z",
     "start_time": "2021-06-29T06:17:18.660968Z"
    }
   },
   "outputs": [
    {
     "data": {
      "text/plain": [
       "['__add__',\n",
       " '__class__',\n",
       " '__contains__',\n",
       " '__delattr__',\n",
       " '__dir__',\n",
       " '__doc__',\n",
       " '__eq__',\n",
       " '__format__',\n",
       " '__ge__',\n",
       " '__getattribute__',\n",
       " '__getitem__',\n",
       " '__getnewargs__',\n",
       " '__gt__',\n",
       " '__hash__',\n",
       " '__init__',\n",
       " '__init_subclass__',\n",
       " '__iter__',\n",
       " '__le__',\n",
       " '__len__',\n",
       " '__lt__',\n",
       " '__mod__',\n",
       " '__mul__',\n",
       " '__ne__',\n",
       " '__new__',\n",
       " '__reduce__',\n",
       " '__reduce_ex__',\n",
       " '__repr__',\n",
       " '__rmod__',\n",
       " '__rmul__',\n",
       " '__setattr__',\n",
       " '__sizeof__',\n",
       " '__str__',\n",
       " '__subclasshook__',\n",
       " 'capitalize',\n",
       " 'casefold',\n",
       " 'center',\n",
       " 'count',\n",
       " 'encode',\n",
       " 'endswith',\n",
       " 'expandtabs',\n",
       " 'find',\n",
       " 'format',\n",
       " 'format_map',\n",
       " 'index',\n",
       " 'isalnum',\n",
       " 'isalpha',\n",
       " 'isascii',\n",
       " 'isdecimal',\n",
       " 'isdigit',\n",
       " 'isidentifier',\n",
       " 'islower',\n",
       " 'isnumeric',\n",
       " 'isprintable',\n",
       " 'isspace',\n",
       " 'istitle',\n",
       " 'isupper',\n",
       " 'join',\n",
       " 'ljust',\n",
       " 'lower',\n",
       " 'lstrip',\n",
       " 'maketrans',\n",
       " 'partition',\n",
       " 'replace',\n",
       " 'rfind',\n",
       " 'rindex',\n",
       " 'rjust',\n",
       " 'rpartition',\n",
       " 'rsplit',\n",
       " 'rstrip',\n",
       " 'split',\n",
       " 'splitlines',\n",
       " 'startswith',\n",
       " 'strip',\n",
       " 'swapcase',\n",
       " 'title',\n",
       " 'translate',\n",
       " 'upper',\n",
       " 'zfill']"
      ]
     },
     "execution_count": 34,
     "metadata": {},
     "output_type": "execute_result"
    }
   ],
   "source": [
    "# 어떤 함수들이 선언되어 있는지 확인\n",
    "dir(f)"
   ]
  },
  {
   "cell_type": "code",
   "execution_count": 35,
   "id": "divine-seminar",
   "metadata": {
    "ExecuteTime": {
     "end_time": "2021-06-29T06:18:32.949401Z",
     "start_time": "2021-06-29T06:18:32.945410Z"
    }
   },
   "outputs": [],
   "source": [
    "# 오프셋 인덱스 : 마스크, 마스킹 : []\n",
    "# 문자열은 순서가 있는 문자들의 집합"
   ]
  },
  {
   "cell_type": "code",
   "execution_count": 42,
   "id": "tribal-hopkins",
   "metadata": {
    "ExecuteTime": {
     "end_time": "2021-06-29T06:20:03.580282Z",
     "start_time": "2021-06-29T06:20:03.563690Z"
    }
   },
   "outputs": [
    {
     "data": {
      "text/plain": [
       "('a', 'g', 'cde', 'cdefg', 'abc', 'fg', 'gfedcba', 'aceg')"
      ]
     },
     "execution_count": 42,
     "metadata": {},
     "output_type": "execute_result"
    }
   ],
   "source": [
    "g = 'abcdefg'\n",
    "g[0], g[-1], g[2:5], g[2:], g[:3], g[-2:], g[::-1], g[::2]"
   ]
  },
  {
   "cell_type": "code",
   "execution_count": 49,
   "id": "designing-edmonton",
   "metadata": {
    "ExecuteTime": {
     "end_time": "2021-06-29T06:21:04.535020Z",
     "start_time": "2021-06-29T06:21:04.515918Z"
    }
   },
   "outputs": [
    {
     "data": {
      "text/plain": [
       "'97531'"
      ]
     },
     "execution_count": 49,
     "metadata": {},
     "output_type": "execute_result"
    }
   ],
   "source": [
    "numbers = \"123456789\" # 97531 출력\n",
    "\n",
    "numbers[::2][::-1]"
   ]
  },
  {
   "cell_type": "markdown",
   "id": "informal-plasma",
   "metadata": {},
   "source": [
    "#### 컬렉션 데이터 타입 : list, tuple, dict\n",
    "   - list[] : 순서가 있는 수정이 가능한 데이터 타입\n",
    "   - tuple() : 순서가 있는 수정이 불가능한 데이터 타입\n",
    "   - dict{} : 순서가 없고 키:값 으로 구성되어 있는 데이터 타입"
   ]
  },
  {
   "cell_type": "code",
   "execution_count": 50,
   "id": "cardiac-lobby",
   "metadata": {
    "ExecuteTime": {
     "end_time": "2021-06-29T06:24:16.551469Z",
     "start_time": "2021-06-29T06:24:16.540496Z"
    }
   },
   "outputs": [
    {
     "data": {
      "text/plain": [
       "(list, [1, 2, 3, 'four', [5, 6], True, 1.2])"
      ]
     },
     "execution_count": 50,
     "metadata": {},
     "output_type": "execute_result"
    }
   ],
   "source": [
    "# list\n",
    "ls = [1, 2, 3, 'four', [5, 6], True, 1.2]\n",
    "type(ls), ls"
   ]
  },
  {
   "cell_type": "code",
   "execution_count": 53,
   "id": "aging-detective",
   "metadata": {
    "ExecuteTime": {
     "end_time": "2021-06-29T06:24:50.786439Z",
     "start_time": "2021-06-29T06:24:50.776872Z"
    }
   },
   "outputs": [
    {
     "data": {
      "text/plain": [
       "('four',\n",
       " [2, 3],\n",
       " [1, 2, 3, 'four', [5, 6], True],\n",
       " [1.2, True, [5, 6], 'four', 3, 2, 1])"
      ]
     },
     "execution_count": 53,
     "metadata": {},
     "output_type": "execute_result"
    }
   ],
   "source": [
    "# offset_index 사용 가능\n",
    "ls[3], ls[1:3], ls[:-1], ls[::-1]"
   ]
  },
  {
   "cell_type": "code",
   "execution_count": null,
   "id": "first-collect",
   "metadata": {},
   "outputs": [],
   "source": [
    "# list 함수"
   ]
  },
  {
   "cell_type": "code",
   "execution_count": 73,
   "id": "angry-married",
   "metadata": {
    "ExecuteTime": {
     "end_time": "2021-06-29T06:27:39.886588Z",
     "start_time": "2021-06-29T06:27:39.875617Z"
    }
   },
   "outputs": [],
   "source": [
    "ls = [1, 5, 2, 4]"
   ]
  },
  {
   "cell_type": "code",
   "execution_count": 74,
   "id": "integrated-protest",
   "metadata": {
    "ExecuteTime": {
     "end_time": "2021-06-29T06:27:40.090275Z",
     "start_time": "2021-06-29T06:27:40.085287Z"
    }
   },
   "outputs": [
    {
     "data": {
      "text/plain": [
       "[1, 5, 2, 4, 3]"
      ]
     },
     "execution_count": 74,
     "metadata": {},
     "output_type": "execute_result"
    }
   ],
   "source": [
    "# append() : 가장 뒤에 값을 추가\n",
    "ls.append(3)\n",
    "ls"
   ]
  },
  {
   "cell_type": "code",
   "execution_count": 77,
   "id": "precious-gazette",
   "metadata": {
    "ExecuteTime": {
     "end_time": "2021-06-29T06:28:00.169882Z",
     "start_time": "2021-06-29T06:28:00.162897Z"
    }
   },
   "outputs": [
    {
     "name": "stdout",
     "output_type": "stream",
     "text": [
      "[1, 2, 3, 4, 5]\n",
      "[5, 4, 3, 2, 1]\n"
     ]
    }
   ],
   "source": [
    "# sort() : 오름차순 정렬\n",
    "ls.sort()\n",
    "print(ls)\n",
    "\n",
    "# [::-1] : 내림차순 정렬\n",
    "ls = ls[::-1]\n",
    "print(ls)"
   ]
  },
  {
   "cell_type": "code",
   "execution_count": 78,
   "id": "altered-hazard",
   "metadata": {
    "ExecuteTime": {
     "end_time": "2021-06-29T06:29:06.145172Z",
     "start_time": "2021-06-29T06:29:06.137199Z"
    }
   },
   "outputs": [
    {
     "name": "stdout",
     "output_type": "stream",
     "text": [
      "[5, 4, 3, 2] 1\n"
     ]
    }
   ],
   "source": [
    "# pop : 가장 마지막 데이터를 출력하고 삭제\n",
    "\n",
    "number = ls.pop()\n",
    "print(ls, number)"
   ]
  },
  {
   "cell_type": "code",
   "execution_count": 79,
   "id": "subject-article",
   "metadata": {
    "ExecuteTime": {
     "end_time": "2021-06-29T06:30:01.106396Z",
     "start_time": "2021-06-29T06:30:01.091418Z"
    }
   },
   "outputs": [
    {
     "data": {
      "text/plain": [
       "([1, 2, 3], [1, 2, 3])"
      ]
     },
     "execution_count": 79,
     "metadata": {},
     "output_type": "execute_result"
    }
   ],
   "source": [
    "# 리스트의 복사\n",
    "ls1 = [1, 2, 3]\n",
    "ls2 = ls1\n",
    "ls1, ls2"
   ]
  },
  {
   "cell_type": "code",
   "execution_count": 81,
   "id": "civic-african",
   "metadata": {
    "ExecuteTime": {
     "end_time": "2021-06-29T06:30:18.199480Z",
     "start_time": "2021-06-29T06:30:18.184994Z"
    }
   },
   "outputs": [],
   "source": [
    "ls1[2] = 999"
   ]
  },
  {
   "cell_type": "code",
   "execution_count": 82,
   "id": "excess-enclosure",
   "metadata": {
    "ExecuteTime": {
     "end_time": "2021-06-29T06:30:23.033335Z",
     "start_time": "2021-06-29T06:30:23.015422Z"
    }
   },
   "outputs": [
    {
     "data": {
      "text/plain": [
       "([1, 2, 999], [1, 2, 999])"
      ]
     },
     "execution_count": 82,
     "metadata": {},
     "output_type": "execute_result"
    }
   ],
   "source": [
    "ls1, ls2"
   ]
  },
  {
   "cell_type": "markdown",
   "id": "atmospheric-prompt",
   "metadata": {},
   "source": [
    "메모리에서 저장공간이 설정될 때 주소값이라는 개념이 존재\n",
    "\n",
    "여기서 list 라는 데이터 타입에 ls1 이라는 변수를 생성.\n",
    "\n",
    "여기서 내부적으로 ls1이라는 다른 저장공간에 ls1이라는 주소값을 가진 변수가 따로 존재\n",
    "\n",
    "여기서 ls1을 출력하면 주소값을 참조해서 ls1의 값이 출력됨.\n",
    "\n",
    "그런데 ls1 = ls2 라고 하면 주소값 복사가 일어남\n",
    "\n",
    "따라서 ls1의 특정 원소 값을 변경했을 때 같은 주소값을 참조하기 때문에 이러한 문제가 발생(주소값 복사, 얕은 복사)\n",
    "\n",
    "따라서 서로 다른 저장공간을 참조하도록 설정해야함."
   ]
  },
  {
   "cell_type": "code",
   "execution_count": 84,
   "id": "graphic-shanghai",
   "metadata": {
    "ExecuteTime": {
     "end_time": "2021-06-29T06:34:57.893504Z",
     "start_time": "2021-06-29T06:34:57.875514Z"
    }
   },
   "outputs": [
    {
     "data": {
      "text/plain": [
       "([1, 2, 999], [1, 2, 3])"
      ]
     },
     "execution_count": 84,
     "metadata": {},
     "output_type": "execute_result"
    }
   ],
   "source": [
    "# 리스트의 복사\n",
    "ls1 = [1, 2, 3]\n",
    "\n",
    "ls2 = ls1.copy() # 얕은 복사 방지\n",
    " \n",
    "ls1[2] = 999\n",
    "ls1, ls2"
   ]
  },
  {
   "cell_type": "markdown",
   "id": "chief-capture",
   "metadata": {
    "ExecuteTime": {
     "end_time": "2021-06-29T06:36:52.763589Z",
     "start_time": "2021-06-29T06:36:52.749299Z"
    }
   },
   "source": [
    "#### Tuple() : 리스트와 같지만 수정이 불가능한 데이터 타입\n",
    "- 튜플은 리스트보다 같은 데이터를 가졌을 때 공간을 적게 사용"
   ]
  },
  {
   "cell_type": "code",
   "execution_count": 88,
   "id": "smart-opening",
   "metadata": {
    "ExecuteTime": {
     "end_time": "2021-06-29T06:37:30.015471Z",
     "start_time": "2021-06-29T06:37:30.008034Z"
    }
   },
   "outputs": [
    {
     "data": {
      "text/plain": [
       "(tuple, tuple)"
      ]
     },
     "execution_count": 88,
     "metadata": {},
     "output_type": "execute_result"
    }
   ],
   "source": [
    "tp1 = 1, 2, 3\n",
    "tp2 = (4, 5, 6)\n",
    "\n",
    "type(tp1), type(tp2)"
   ]
  },
  {
   "cell_type": "code",
   "execution_count": 89,
   "id": "promotional-rally",
   "metadata": {
    "ExecuteTime": {
     "end_time": "2021-06-29T06:37:41.500703Z",
     "start_time": "2021-06-29T06:37:41.481754Z"
    }
   },
   "outputs": [
    {
     "data": {
      "text/plain": [
       "(1, 2)"
      ]
     },
     "execution_count": 89,
     "metadata": {},
     "output_type": "execute_result"
    }
   ],
   "source": [
    "a, b = 1, 2\n",
    "a, b"
   ]
  },
  {
   "cell_type": "code",
   "execution_count": 90,
   "id": "differential-heavy",
   "metadata": {
    "ExecuteTime": {
     "end_time": "2021-06-29T06:40:06.131715Z",
     "start_time": "2021-06-29T06:40:06.126765Z"
    }
   },
   "outputs": [
    {
     "data": {
      "text/plain": [
       "(2, (3, 2, 1))"
      ]
     },
     "execution_count": 90,
     "metadata": {},
     "output_type": "execute_result"
    }
   ],
   "source": [
    "# offset index 사용\n",
    "tp1[1], tp1[::-1]"
   ]
  },
  {
   "cell_type": "code",
   "execution_count": 91,
   "id": "sexual-range",
   "metadata": {
    "ExecuteTime": {
     "end_time": "2021-06-29T06:43:20.251160Z",
     "start_time": "2021-06-29T06:43:20.241179Z"
    }
   },
   "outputs": [
    {
     "name": "stdout",
     "output_type": "stream",
     "text": [
      "88 72\n"
     ]
    }
   ],
   "source": [
    "# 리스트와 튜플의 저장공간 차이 비교\n",
    "\n",
    "import sys # 다른 사람이 만든 코드를 사용하기 위해\n",
    "\n",
    "ls = [1, 2, 3]\n",
    "tp = (1, 2, 3)\n",
    "\n",
    "print(sys.getsizeof(ls), sys.getsizeof(tp)) # 저장공간 byte 확인"
   ]
  },
  {
   "cell_type": "markdown",
   "id": "lightweight-sphere",
   "metadata": {},
   "source": [
    "#### dict{}\n",
    "- 순서가 없고 {키:값}으로 구성되어 있는 데이터 타입"
   ]
  },
  {
   "cell_type": "code",
   "execution_count": 92,
   "id": "dense-subscriber",
   "metadata": {
    "ExecuteTime": {
     "end_time": "2021-06-29T06:45:45.235761Z",
     "start_time": "2021-06-29T06:45:45.219740Z"
    }
   },
   "outputs": [
    {
     "data": {
      "text/plain": [
       "(dict, {1: 'one', 'two': 2, 'three': [1, 2, 3]})"
      ]
     },
     "execution_count": 92,
     "metadata": {},
     "output_type": "execute_result"
    }
   ],
   "source": [
    "# 선언 : 키는 정수, 문자열 데이터 타입만 사용이 가능\n",
    "\n",
    "dic = {\n",
    "    1: 'one',\n",
    "    'two' : 2,\n",
    "    'three' : [1, 2, 3]\n",
    "}\n",
    "type(dic), dic"
   ]
  },
  {
   "cell_type": "code",
   "execution_count": 93,
   "id": "deluxe-output",
   "metadata": {
    "ExecuteTime": {
     "end_time": "2021-06-29T06:46:24.153095Z",
     "start_time": "2021-06-29T06:46:24.144856Z"
    }
   },
   "outputs": [
    {
     "data": {
      "text/plain": [
       "'one'"
      ]
     },
     "execution_count": 93,
     "metadata": {},
     "output_type": "execute_result"
    }
   ],
   "source": [
    "dic[1]"
   ]
  },
  {
   "cell_type": "code",
   "execution_count": 94,
   "id": "patent-digest",
   "metadata": {
    "ExecuteTime": {
     "end_time": "2021-06-29T06:46:30.413187Z",
     "start_time": "2021-06-29T06:46:30.401211Z"
    }
   },
   "outputs": [
    {
     "data": {
      "text/plain": [
       "2"
      ]
     },
     "execution_count": 94,
     "metadata": {},
     "output_type": "execute_result"
    }
   ],
   "source": [
    "dic['two']"
   ]
  },
  {
   "cell_type": "code",
   "execution_count": 95,
   "id": "quarterly-performer",
   "metadata": {
    "ExecuteTime": {
     "end_time": "2021-06-29T06:49:06.335527Z",
     "start_time": "2021-06-29T06:49:06.316499Z"
    }
   },
   "outputs": [
    {
     "data": {
      "text/plain": [
       "{1: 'one', 'two': 123, 'three': [1, 2, 3]}"
      ]
     },
     "execution_count": 95,
     "metadata": {},
     "output_type": "execute_result"
    }
   ],
   "source": [
    "dic['two'] = 123\n",
    "dic"
   ]
  },
  {
   "cell_type": "code",
   "execution_count": 103,
   "id": "proprietary-runner",
   "metadata": {
    "ExecuteTime": {
     "end_time": "2021-06-29T06:51:40.188692Z",
     "start_time": "2021-06-29T06:51:40.172899Z"
    }
   },
   "outputs": [
    {
     "name": "stdout",
     "output_type": "stream",
     "text": [
      "['seoul', 'busan', 'daegu'] [9700000, 3400000, 2400000]\n",
      "{'seoul': 9700000, 'busan': 3400000, 'daegu': 2400000}\n"
     ]
    }
   ],
   "source": [
    "# 아래의 데이터를 list와 dict로 선언\n",
    "# 도시 : seoul, busan, daegu\n",
    "# 인구 : 9,700,000, 3,400,000, 2,400,000\n",
    "\n",
    "도시 = ['seoul', 'busan', 'daegu']\n",
    "인구 = [9700000, 3400000, 2400000]\n",
    "\n",
    "도시_인구 = {\n",
    "    'seoul' : 9700000,\n",
    "    'busan' : 3400000,\n",
    "    'daegu' : 2400000\n",
    "}\n",
    "\n",
    "print(도시, 인구)\n",
    "print(도시_인구)"
   ]
  },
  {
   "cell_type": "code",
   "execution_count": 104,
   "id": "prepared-accounting",
   "metadata": {
    "ExecuteTime": {
     "end_time": "2021-06-29T06:51:52.642653Z",
     "start_time": "2021-06-29T06:51:52.633678Z"
    }
   },
   "outputs": [
    {
     "data": {
      "text/plain": [
       "15500000"
      ]
     },
     "execution_count": 104,
     "metadata": {},
     "output_type": "execute_result"
    }
   ],
   "source": [
    "sum(인구)"
   ]
  },
  {
   "cell_type": "code",
   "execution_count": 106,
   "id": "combined-lover",
   "metadata": {
    "ExecuteTime": {
     "end_time": "2021-06-29T06:52:09.255773Z",
     "start_time": "2021-06-29T06:52:09.246790Z"
    }
   },
   "outputs": [
    {
     "data": {
      "text/plain": [
       "15500000"
      ]
     },
     "execution_count": 106,
     "metadata": {},
     "output_type": "execute_result"
    }
   ],
   "source": [
    "sum(도시_인구.values())"
   ]
  },
  {
   "cell_type": "markdown",
   "id": "postal-vegetarian",
   "metadata": {},
   "source": [
    "#### 5. 형변환\n",
    "- 데이터 타입을 변환하는 방법"
   ]
  },
  {
   "cell_type": "code",
   "execution_count": 108,
   "id": "weighted-memphis",
   "metadata": {
    "ExecuteTime": {
     "end_time": "2021-06-29T06:53:44.865655Z",
     "start_time": "2021-06-29T06:53:44.852728Z"
    }
   },
   "outputs": [
    {
     "data": {
      "text/plain": [
       "3"
      ]
     },
     "execution_count": 108,
     "metadata": {},
     "output_type": "execute_result"
    }
   ],
   "source": [
    "a = 1\n",
    "b = '2'\n",
    "\n",
    "a + int(b)"
   ]
  },
  {
   "cell_type": "code",
   "execution_count": 109,
   "id": "expressed-performer",
   "metadata": {
    "ExecuteTime": {
     "end_time": "2021-06-29T06:53:55.971982Z",
     "start_time": "2021-06-29T06:53:55.957222Z"
    }
   },
   "outputs": [
    {
     "data": {
      "text/plain": [
       "'12'"
      ]
     },
     "execution_count": 109,
     "metadata": {},
     "output_type": "execute_result"
    }
   ],
   "source": [
    "str(a) + str(b)"
   ]
  },
  {
   "cell_type": "code",
   "execution_count": 111,
   "id": "proved-simulation",
   "metadata": {
    "ExecuteTime": {
     "end_time": "2021-06-29T06:54:29.325465Z",
     "start_time": "2021-06-29T06:54:29.309474Z"
    }
   },
   "outputs": [
    {
     "data": {
      "text/plain": [
       "[9700000, 3400000, 2400000]"
      ]
     },
     "execution_count": 111,
     "metadata": {},
     "output_type": "execute_result"
    }
   ],
   "source": [
    "list(도시_인구.values())"
   ]
  },
  {
   "cell_type": "code",
   "execution_count": 114,
   "id": "selective-concentration",
   "metadata": {
    "ExecuteTime": {
     "end_time": "2021-06-29T06:56:12.752374Z",
     "start_time": "2021-06-29T06:56:12.743397Z"
    }
   },
   "outputs": [
    {
     "data": {
      "text/plain": [
       "[('seoul', 9700000), ('busan', 3400000), ('daegu', 2400000)]"
      ]
     },
     "execution_count": 114,
     "metadata": {},
     "output_type": "execute_result"
    }
   ],
   "source": [
    "# zip() 같은 인덱스에 있는 데이터끼리 하나의 튜플로 반환\n",
    "\n",
    "list(zip(도시, 인구))"
   ]
  },
  {
   "cell_type": "code",
   "execution_count": 115,
   "id": "beginning-muscle",
   "metadata": {
    "ExecuteTime": {
     "end_time": "2021-06-29T06:56:38.790528Z",
     "start_time": "2021-06-29T06:56:38.771701Z"
    }
   },
   "outputs": [
    {
     "data": {
      "text/plain": [
       "{'seoul': 9700000, 'busan': 3400000, 'daegu': 2400000}"
      ]
     },
     "execution_count": 115,
     "metadata": {},
     "output_type": "execute_result"
    }
   ],
   "source": [
    "# 리스트를 dict로 변환\n",
    "\n",
    "dict(list(zip(도시, 인구)))"
   ]
  },
  {
   "cell_type": "code",
   "execution_count": 118,
   "id": "polished-bridges",
   "metadata": {
    "ExecuteTime": {
     "end_time": "2021-06-29T06:57:39.079284Z",
     "start_time": "2021-06-29T06:57:39.072591Z"
    }
   },
   "outputs": [
    {
     "name": "stdout",
     "output_type": "stream",
     "text": [
      "['seoul', 'busan', 'daegu']\n",
      "[9700000, 3400000, 2400000]\n"
     ]
    }
   ],
   "source": [
    "# dict를 리스트로 변환\n",
    "\n",
    "a = list(도시_인구.keys())\n",
    "b = list(도시_인구.values())\n",
    "\n",
    "print(a)\n",
    "print(b)"
   ]
  },
  {
   "cell_type": "markdown",
   "id": "moved-boutique",
   "metadata": {},
   "source": [
    "#### 6. 연산자\n",
    "- 산술연산자 : +, -, *, /, //, %, **\n",
    "- 할당연산자 : 변수에 누적시켜서 연산 : +=, -=, *= ...\n",
    "- 비교연산자 : >, <, ==, !=, <=, >= : 결과로 True, False\n",
    "- 논리연산자 : True, False를 연산 : or, and, not\n",
    "- 멤버연산자 : 특정 데이터가 존재하는지 여부를 True, False로 반환"
   ]
  },
  {
   "cell_type": "markdown",
   "id": "complicated-significance",
   "metadata": {},
   "source": [
    "=, +, -, *, / 등등\n",
    "\n",
    "연산자는 CPU에서 수행"
   ]
  },
  {
   "cell_type": "code",
   "execution_count": 119,
   "id": "official-mileage",
   "metadata": {
    "ExecuteTime": {
     "end_time": "2021-06-29T07:00:57.590122Z",
     "start_time": "2021-06-29T07:00:57.581269Z"
    }
   },
   "outputs": [
    {
     "data": {
      "text/plain": [
       "1.25"
      ]
     },
     "execution_count": 119,
     "metadata": {},
     "output_type": "execute_result"
    }
   ],
   "source": [
    "# 괄호가 1순위, 5/4\n",
    "(1 + 4) / 2 ** 2"
   ]
  },
  {
   "cell_type": "code",
   "execution_count": 123,
   "id": "bridal-clothing",
   "metadata": {
    "ExecuteTime": {
     "end_time": "2021-06-29T07:03:23.176025Z",
     "start_time": "2021-06-29T07:03:23.166018Z"
    }
   },
   "outputs": [
    {
     "name": "stdout",
     "output_type": "stream",
     "text": [
      "15\n"
     ]
    }
   ],
   "source": [
    "# 할당연산\n",
    "a = 10\n",
    "a += 5\n",
    "print(a)"
   ]
  },
  {
   "cell_type": "code",
   "execution_count": 125,
   "id": "worth-overall",
   "metadata": {
    "ExecuteTime": {
     "end_time": "2021-06-29T07:04:39.812059Z",
     "start_time": "2021-06-29T07:04:39.801099Z"
    }
   },
   "outputs": [
    {
     "data": {
      "text/plain": [
       "(True, False, False)"
      ]
     },
     "execution_count": 125,
     "metadata": {},
     "output_type": "execute_result"
    }
   ],
   "source": [
    "# 비교연산\n",
    "a = 5\n",
    "b = 10\n",
    "\n",
    "a<b, a==b, a>b"
   ]
  },
  {
   "cell_type": "code",
   "execution_count": 132,
   "id": "fitted-swimming",
   "metadata": {
    "ExecuteTime": {
     "end_time": "2021-06-29T07:06:22.545778Z",
     "start_time": "2021-06-29T07:06:22.527827Z"
    }
   },
   "outputs": [
    {
     "data": {
      "text/plain": [
       "(True, True, False)"
      ]
     },
     "execution_count": 132,
     "metadata": {},
     "output_type": "execute_result"
    }
   ],
   "source": [
    "# 논리연산\n",
    "True and True, True or False, not(True or False)"
   ]
  },
  {
   "cell_type": "code",
   "execution_count": 133,
   "id": "cognitive-router",
   "metadata": {
    "ExecuteTime": {
     "end_time": "2021-06-29T07:07:13.746579Z",
     "start_time": "2021-06-29T07:07:13.740594Z"
    }
   },
   "outputs": [
    {
     "data": {
      "text/plain": [
       "(True, False, False)"
      ]
     },
     "execution_count": 133,
     "metadata": {},
     "output_type": "execute_result"
    }
   ],
   "source": [
    "# 멤버 연산\n",
    "ls = ['jin', 'andy', 'jhon']\n",
    "\n",
    "'andy' in ls, 'anchel' in ls, 'jhon' not in ls"
   ]
  },
  {
   "cell_type": "code",
   "execution_count": 143,
   "id": "fatty-writing",
   "metadata": {
    "ExecuteTime": {
     "end_time": "2021-06-29T07:08:51.930728Z",
     "start_time": "2021-06-29T07:08:51.911734Z"
    }
   },
   "outputs": [
    {
     "data": {
      "text/plain": [
       "9"
      ]
     },
     "execution_count": 143,
     "metadata": {},
     "output_type": "execute_result"
    }
   ],
   "source": [
    "# 랜덤함수\n",
    "import random\n",
    "\n",
    "random.randint(1, 10) # 1~10 사이의 난수 반환"
   ]
  },
  {
   "cell_type": "code",
   "execution_count": null,
   "id": "developed-photography",
   "metadata": {},
   "outputs": [],
   "source": [
    "# 입력함수\n",
    "data = input('insert string : ')\n",
    "data"
   ]
  },
  {
   "cell_type": "code",
   "execution_count": 145,
   "id": "corrected-creator",
   "metadata": {
    "ExecuteTime": {
     "end_time": "2021-06-29T07:12:32.581555Z",
     "start_time": "2021-06-29T07:12:31.025081Z"
    }
   },
   "outputs": [
    {
     "name": "stdout",
     "output_type": "stream",
     "text": [
      "질문을 입력하세요. :1\n"
     ]
    },
    {
     "data": {
      "text/plain": [
       "'무엇을 상상하던 그 이상이다.'"
      ]
     },
     "execution_count": 145,
     "metadata": {},
     "output_type": "execute_result"
    }
   ],
   "source": [
    "# 해결의 책 : 질문을 하면 질문에 대한 답변을 해주는 책\n",
    "\n",
    "# 솔루션을 리스트로 작성\n",
    "# 질문 입력 받음\n",
    "# 솔루션의 갯수에 맞게 랜덤한 index 정수 값을 생성\n",
    "# index에 해당하는 솔루션 리스트의 데이터를 출력\n",
    "\n",
    "solution = [\n",
    "    '무엇을 하던 잘 안될것이다.',\n",
    "    '생각지도 않게 좋은 일이 생길것이다.',\n",
    "    '무엇을 상상하던 그 이상이다.'\n",
    "]\n",
    "\n",
    "# 질문 입력 받음\n",
    "input('질문을 입력하세요. :')\n",
    "\n",
    "# 솔루션의 갯수에 맞게 랜덤한 index 정수 값을 생성\n",
    "idx = random.randint(0, len(solution) - 1)\n",
    "\n",
    "# index에 해당하는 솔루션 리스트의 데이터를 출력\n",
    "solution[idx]"
   ]
  },
  {
   "cell_type": "code",
   "execution_count": null,
   "id": "homeless-triumph",
   "metadata": {},
   "outputs": [],
   "source": []
  }
 ],
 "metadata": {
  "kernelspec": {
   "display_name": "Python 3",
   "language": "python",
   "name": "python3"
  },
  "language_info": {
   "codemirror_mode": {
    "name": "ipython",
    "version": 3
   },
   "file_extension": ".py",
   "mimetype": "text/x-python",
   "name": "python",
   "nbconvert_exporter": "python",
   "pygments_lexer": "ipython3",
   "version": "3.7.10"
  },
  "nbTranslate": {
   "displayLangs": [
    "*"
   ],
   "hotkey": "alt-t",
   "langInMainMenu": true,
   "sourceLang": "en",
   "targetLang": "fr",
   "useGoogleTranslate": true
  },
  "toc": {
   "base_numbering": 1,
   "nav_menu": {},
   "number_sections": true,
   "sideBar": true,
   "skip_h1_title": false,
   "title_cell": "Table of Contents",
   "title_sidebar": "Contents",
   "toc_cell": false,
   "toc_position": {},
   "toc_section_display": true,
   "toc_window_display": false
  },
  "varInspector": {
   "cols": {
    "lenName": 16,
    "lenType": 16,
    "lenVar": 40
   },
   "kernels_config": {
    "python": {
     "delete_cmd_postfix": "",
     "delete_cmd_prefix": "del ",
     "library": "var_list.py",
     "varRefreshCmd": "print(var_dic_list())"
    },
    "r": {
     "delete_cmd_postfix": ") ",
     "delete_cmd_prefix": "rm(",
     "library": "var_list.r",
     "varRefreshCmd": "cat(var_dic_list()) "
    }
   },
   "types_to_exclude": [
    "module",
    "function",
    "builtin_function_or_method",
    "instance",
    "_Feature"
   ],
   "window_display": false
  }
 },
 "nbformat": 4,
 "nbformat_minor": 5
}
