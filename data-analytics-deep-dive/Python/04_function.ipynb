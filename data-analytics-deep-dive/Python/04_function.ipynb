{
 "cells": [
  {
   "cell_type": "markdown",
   "id": "laughing-lightning",
   "metadata": {},
   "source": [
    "### 함수\n",
    "- 반복되는 코드를 묶음으로 효율적인 코드를 작성하도록 해주는 기능\n",
    "- 기본 함수\n",
    "- 파라미터와 아규먼트\n",
    "- 리턴\n",
    "- `*args`, `**kwargs`\n",
    "- docstring\n",
    "- scope\n",
    "- inner function\n",
    "- lambda function\n",
    "- Map, Filter, Reduce\n",
    "- Decorlator"
   ]
  },
  {
   "cell_type": "markdown",
   "id": "dense-lesson",
   "metadata": {},
   "source": [
    "### 1. 기본 함수\n",
    "    - 선언과 호출"
   ]
  },
  {
   "cell_type": "code",
   "execution_count": 1,
   "id": "robust-premiere",
   "metadata": {
    "ExecuteTime": {
     "end_time": "2021-06-30T04:30:36.894063Z",
     "start_time": "2021-06-30T04:30:36.882059Z"
    }
   },
   "outputs": [
    {
     "name": "stdout",
     "output_type": "stream",
     "text": [
      "B\n"
     ]
    }
   ],
   "source": [
    "point = 88\n",
    "\n",
    "if point >= 90:\n",
    "    print('A')\n",
    "elif point >= 80:\n",
    "    print('B')\n",
    "else:\n",
    "    print('C')"
   ]
  },
  {
   "cell_type": "code",
   "execution_count": null,
   "id": "baking-survival",
   "metadata": {},
   "outputs": [],
   "source": [
    "# code ... 같은 코드가 또 필요하다면?"
   ]
  },
  {
   "cell_type": "code",
   "execution_count": 3,
   "id": "grand-declaration",
   "metadata": {
    "ExecuteTime": {
     "end_time": "2021-06-30T04:31:05.530735Z",
     "start_time": "2021-06-30T04:31:05.517772Z"
    }
   },
   "outputs": [
    {
     "name": "stdout",
     "output_type": "stream",
     "text": [
      "C\n"
     ]
    }
   ],
   "source": [
    "point = 78\n",
    "\n",
    "if point >= 90:\n",
    "    print('A')\n",
    "elif point >= 80:\n",
    "    print('B')\n",
    "else:\n",
    "    print('C')"
   ]
  },
  {
   "cell_type": "markdown",
   "id": "patient-episode",
   "metadata": {},
   "source": [
    "이렇게 동일한 코드가 반복되는 경우 함수로 선언해 중복을 줄이고 재서용성과 유지보수 효율을 높인다."
   ]
  },
  {
   "cell_type": "code",
   "execution_count": 8,
   "id": "inside-damages",
   "metadata": {
    "ExecuteTime": {
     "end_time": "2021-06-30T04:33:55.182777Z",
     "start_time": "2021-06-30T04:33:53.719242Z"
    }
   },
   "outputs": [
    {
     "name": "stdout",
     "output_type": "stream",
     "text": [
      "Once deleted, variables cannot be recovered. Proceed (y/[n])? y\n"
     ]
    }
   ],
   "source": [
    "%reset"
   ]
  },
  {
   "cell_type": "code",
   "execution_count": 9,
   "id": "working-lebanon",
   "metadata": {
    "ExecuteTime": {
     "end_time": "2021-06-30T04:33:59.822857Z",
     "start_time": "2021-06-30T04:33:59.814880Z"
    }
   },
   "outputs": [
    {
     "name": "stdout",
     "output_type": "stream",
     "text": [
      "Variable          Type                          Data/Info\n",
      "---------------------------------------------------------\n",
      "NamespaceMagics   MetaHasTraits                 <class 'IPython.core.magi<...>mespace.NamespaceMagics'>\n",
      "get_ipython       function                      <function get_ipython at 0x0000016F19286AF8>\n",
      "getsizeof         builtin_function_or_method    <built-in function getsizeof>\n",
      "json              module                        <module 'json' from 'C:\\\\<...>\\lib\\\\json\\\\__init__.py'>\n",
      "np                module                        <module 'numpy' from 'C:\\<...>ges\\\\numpy\\\\__init__.py'>\n",
      "var_dic_list      function                      <function var_dic_list at 0x0000016F5F7E30D8>\n"
     ]
    }
   ],
   "source": [
    "%whos"
   ]
  },
  {
   "cell_type": "code",
   "execution_count": 13,
   "id": "balanced-warrant",
   "metadata": {
    "ExecuteTime": {
     "end_time": "2021-06-30T05:05:25.126118Z",
     "start_time": "2021-06-30T05:05:25.113154Z"
    }
   },
   "outputs": [],
   "source": [
    "# 함수 선언\n",
    "\n",
    "def get_grade(point):\n",
    "    if point >= 90:\n",
    "        print('A')\n",
    "    elif point >= 80:\n",
    "        print('B')\n",
    "    else:\n",
    "        print('C')"
   ]
  },
  {
   "cell_type": "code",
   "execution_count": 11,
   "id": "dressed-programming",
   "metadata": {
    "ExecuteTime": {
     "end_time": "2021-06-30T04:34:06.753868Z",
     "start_time": "2021-06-30T04:34:06.735915Z"
    }
   },
   "outputs": [
    {
     "name": "stdout",
     "output_type": "stream",
     "text": [
      "Variable          Type                          Data/Info\n",
      "---------------------------------------------------------\n",
      "NamespaceMagics   MetaHasTraits                 <class 'IPython.core.magi<...>mespace.NamespaceMagics'>\n",
      "get_grade         function                      <function get_grade at 0x0000016F5F7E3AF8>\n",
      "get_ipython       function                      <function get_ipython at 0x0000016F19286AF8>\n",
      "getsizeof         builtin_function_or_method    <built-in function getsizeof>\n",
      "json              module                        <module 'json' from 'C:\\\\<...>\\lib\\\\json\\\\__init__.py'>\n",
      "np                module                        <module 'numpy' from 'C:\\<...>ges\\\\numpy\\\\__init__.py'>\n",
      "var_dic_list      function                      <function var_dic_list at 0x0000016F5F7E30D8>\n"
     ]
    }
   ],
   "source": [
    "%whos\n",
    "\n",
    "# get_grade    function   <function get_grade at 0x0000016F5F7E3AF8>"
   ]
  },
  {
   "cell_type": "code",
   "execution_count": 7,
   "id": "neural-jimmy",
   "metadata": {
    "ExecuteTime": {
     "end_time": "2021-06-30T04:32:09.247247Z",
     "start_time": "2021-06-30T04:32:09.239302Z"
    }
   },
   "outputs": [
    {
     "name": "stdout",
     "output_type": "stream",
     "text": [
      "A\n",
      "B\n",
      "C\n"
     ]
    }
   ],
   "source": [
    "# 함수 호출\n",
    "get_grade(90)\n",
    "get_grade(80)\n",
    "get_grade(70)"
   ]
  },
  {
   "cell_type": "markdown",
   "id": "solved-belly",
   "metadata": {},
   "source": [
    "함수도 하나의 데이터 타입이라고 할 수 있다. 다만 값이 아닌 코드를 가지고 있어 함수 호출로 인해 함수가 가진 코드가 실행된다."
   ]
  },
  {
   "cell_type": "markdown",
   "id": "competitive-creature",
   "metadata": {},
   "source": [
    "### 2. 파라미터와 아규먼트\n",
    "- 파라미터 : 함수를 선언할 때 호출하는 부분에서 보내주는 데이터를 받는 변수\n",
    "- 아규먼트 : 함수를 호출할 때 함수에 보내주는 데이터"
   ]
  },
  {
   "cell_type": "code",
   "execution_count": 12,
   "id": "controversial-hydrogen",
   "metadata": {
    "ExecuteTime": {
     "end_time": "2021-06-30T04:42:56.612458Z",
     "start_time": "2021-06-30T04:42:56.594511Z"
    }
   },
   "outputs": [
    {
     "name": "stdout",
     "output_type": "stream",
     "text": [
      "3\n"
     ]
    }
   ],
   "source": [
    "def plus(num1, num2): # 파라미터 -> num1, num2\n",
    "    print(num1 + num2)\n",
    "    \n",
    "plus(1, 2) # 아규먼트로 파라미터에 값을 전달"
   ]
  },
  {
   "cell_type": "code",
   "execution_count": 16,
   "id": "numerous-court",
   "metadata": {
    "ExecuteTime": {
     "end_time": "2021-06-30T04:46:43.609826Z",
     "start_time": "2021-06-30T04:46:43.589880Z"
    }
   },
   "outputs": [
    {
     "name": "stdout",
     "output_type": "stream",
     "text": [
      "12\n",
      "6\n"
     ]
    }
   ],
   "source": [
    "# 디폴트 파라미터\n",
    "# 인자값을 넘기지 않은 경우 디폴트 값을 파라미터에 적용할 수 있다.\n",
    "def plus(num1, num2 = 10):\n",
    "    print(num1 + num2)\n",
    "    \n",
    "plus(2)\n",
    "plus(1, 5)"
   ]
  },
  {
   "cell_type": "code",
   "execution_count": 22,
   "id": "scheduled-inspector",
   "metadata": {
    "ExecuteTime": {
     "end_time": "2021-06-30T04:49:33.366145Z",
     "start_time": "2021-06-30T04:49:33.361195Z"
    }
   },
   "outputs": [
    {
     "name": "stdout",
     "output_type": "stream",
     "text": [
      "120\n"
     ]
    }
   ],
   "source": [
    "# 키워드 아규먼트\n",
    "# 특정 파라미터의 디폴트 값만을 변경하고 싶은 경우\n",
    "# 키워드 아규먼트로 특정 파라미터 값을 지정할 수 있다.\n",
    "def plus(num1, num2 = 10, num3 = -20):\n",
    "    print(num1 + num2 + num3)\n",
    "\n",
    "plus(10, num3 = 100)"
   ]
  },
  {
   "cell_type": "markdown",
   "id": "suspended-questionnaire",
   "metadata": {},
   "source": [
    "### 3. 리턴\n",
    "- 함수를 실행한 결과를 저장하고 싶을 때 사용\n",
    "- return"
   ]
  },
  {
   "cell_type": "code",
   "execution_count": 7,
   "id": "pending-lawyer",
   "metadata": {
    "ExecuteTime": {
     "end_time": "2021-06-30T05:02:31.854741Z",
     "start_time": "2021-06-30T05:02:31.839784Z"
    }
   },
   "outputs": [
    {
     "name": "stdout",
     "output_type": "stream",
     "text": [
      "3\n"
     ]
    },
    {
     "data": {
      "text/plain": [
       "3"
      ]
     },
     "execution_count": 7,
     "metadata": {},
     "output_type": "execute_result"
    }
   ],
   "source": [
    "def plus(num1, num2):\n",
    "    print(num1 + num2)\n",
    "    return num1 + num2\n",
    "    \n",
    "plus(1, 2)"
   ]
  },
  {
   "cell_type": "code",
   "execution_count": 9,
   "id": "industrial-clear",
   "metadata": {
    "ExecuteTime": {
     "end_time": "2021-06-30T05:03:01.026719Z",
     "start_time": "2021-06-30T05:03:01.012758Z"
    }
   },
   "outputs": [
    {
     "name": "stdout",
     "output_type": "stream",
     "text": [
      "PYTHON\n"
     ]
    }
   ],
   "source": [
    "# 예를 들어 upper() 함수의 경우 return이 있다고 할 수 있다.\n",
    "\n",
    "data1 = 'python'\n",
    "result = data1.upper()\n",
    "print(result)"
   ]
  },
  {
   "cell_type": "code",
   "execution_count": 10,
   "id": "rotary-welding",
   "metadata": {
    "ExecuteTime": {
     "end_time": "2021-06-30T05:03:32.521763Z",
     "start_time": "2021-06-30T05:03:32.502815Z"
    }
   },
   "outputs": [
    {
     "name": "stdout",
     "output_type": "stream",
     "text": [
      "None\n"
     ]
    }
   ],
   "source": [
    "# 예를 들어 sort() 함수는 return이 없다고 할 수 있다.\n",
    "\n",
    "data2 = [3, 1, 2]\n",
    "result = data2.sort()\n",
    "print(result)"
   ]
  },
  {
   "cell_type": "markdown",
   "id": "combined-content",
   "metadata": {},
   "source": [
    "---"
   ]
  },
  {
   "cell_type": "code",
   "execution_count": 15,
   "id": "physical-advertising",
   "metadata": {
    "ExecuteTime": {
     "end_time": "2021-06-30T05:05:31.309615Z",
     "start_time": "2021-06-30T05:05:31.305628Z"
    }
   },
   "outputs": [
    {
     "name": "stdout",
     "output_type": "stream",
     "text": [
      "B\n",
      "None\n"
     ]
    }
   ],
   "source": [
    "point = 88\n",
    "result = get_grade(point)\n",
    "print(result)"
   ]
  },
  {
   "cell_type": "code",
   "execution_count": 16,
   "id": "objective-stamp",
   "metadata": {
    "ExecuteTime": {
     "end_time": "2021-06-30T05:05:58.275348Z",
     "start_time": "2021-06-30T05:05:58.265375Z"
    }
   },
   "outputs": [
    {
     "name": "stdout",
     "output_type": "stream",
     "text": [
      "fail\n"
     ]
    }
   ],
   "source": [
    "if result == 'A':\n",
    "    print('pass')\n",
    "else:\n",
    "    print('fail')"
   ]
  },
  {
   "cell_type": "code",
   "execution_count": 22,
   "id": "driven-princeton",
   "metadata": {
    "ExecuteTime": {
     "end_time": "2021-06-30T05:08:26.969657Z",
     "start_time": "2021-06-30T05:08:26.954741Z"
    }
   },
   "outputs": [
    {
     "name": "stdout",
     "output_type": "stream",
     "text": [
      "pass\n"
     ]
    }
   ],
   "source": [
    "# return을 이용해 앞의 get_grade 함수를 다시 작성해보자\n",
    "\n",
    "# 함수 선언\n",
    "\n",
    "def get_grade(point):\n",
    "    if point >= 90:\n",
    "        result = 'A'\n",
    "    elif point >= 80:\n",
    "        result = 'B'\n",
    "    else:\n",
    "        result = 'C'\n",
    "    return result\n",
    "\n",
    "point = 92\n",
    "\n",
    "result = get_grade(point)\n",
    "\n",
    "if result == 'A':\n",
    "    print('pass')\n",
    "else:\n",
    "    print('fail')"
   ]
  },
  {
   "cell_type": "code",
   "execution_count": 25,
   "id": "amino-coalition",
   "metadata": {
    "ExecuteTime": {
     "end_time": "2021-06-30T05:09:48.845437Z",
     "start_time": "2021-06-30T05:09:48.834468Z"
    }
   },
   "outputs": [
    {
     "name": "stdout",
     "output_type": "stream",
     "text": [
      "python\n"
     ]
    }
   ],
   "source": [
    "# return의 또 다른 특징으로 return은 함수를 중단시키기 위해서도 사용할 수 있다.\n",
    "\n",
    "def echo(msg):\n",
    "    if msg == 'quit':\n",
    "        return\n",
    "    print(msg)\n",
    "    \n",
    "echo('python')\n",
    "echo('quit') # print되지 않는다."
   ]
  },
  {
   "cell_type": "markdown",
   "id": "recorded-waste",
   "metadata": {},
   "source": [
    "### 4. `*args`, `**kwargs`\n",
    "   - 함수를 호출할 때 아규먼트와 키워드 아규먼트의 갯수를 특정지을 수 없을 때 사용"
   ]
  },
  {
   "cell_type": "code",
   "execution_count": 26,
   "id": "interstate-audio",
   "metadata": {
    "ExecuteTime": {
     "end_time": "2021-06-30T05:12:43.398680Z",
     "start_time": "2021-06-30T05:12:43.388706Z"
    }
   },
   "outputs": [
    {
     "data": {
      "text/plain": [
       "3"
      ]
     },
     "execution_count": 26,
     "metadata": {},
     "output_type": "execute_result"
    }
   ],
   "source": [
    "# 기존의 함수 작성 방식\n",
    "\n",
    "def plus(num1, num2):\n",
    "    return num1 + num2\n",
    "\n",
    "plus(1, 2)"
   ]
  },
  {
   "cell_type": "code",
   "execution_count": 27,
   "id": "expired-artist",
   "metadata": {
    "ExecuteTime": {
     "end_time": "2021-06-30T05:13:37.537187Z",
     "start_time": "2021-06-30T05:13:37.530206Z"
    }
   },
   "outputs": [
    {
     "name": "stdout",
     "output_type": "stream",
     "text": [
      "<class 'tuple'> (1, 2, 3, 4, 5, 6, 7, 8, 9)\n"
     ]
    },
    {
     "data": {
      "text/plain": [
       "45"
      ]
     },
     "execution_count": 27,
     "metadata": {},
     "output_type": "execute_result"
    }
   ],
   "source": [
    "# 그런데 plus() 함수에 몇개의 인자값이 들어올지 모른다면??\n",
    "\n",
    "def plus(*args):\n",
    "    print(type(args), args)\n",
    "    return sum(args)\n",
    "\n",
    "plus(1, 2, 3, 4, 5 ,6 ,7 ,8 ,9)"
   ]
  },
  {
   "cell_type": "markdown",
   "id": "computational-release",
   "metadata": {},
   "source": [
    "`*args` 를 이용하면 변수의 타입이 튜플로 지정되며 갯수를 특정지을 수 없는 경우에서도 여러개의 인자값을 담을 수 있게 된다."
   ]
  },
  {
   "cell_type": "code",
   "execution_count": 32,
   "id": "internal-default",
   "metadata": {
    "ExecuteTime": {
     "end_time": "2021-06-30T05:17:34.668728Z",
     "start_time": "2021-06-30T05:17:34.653724Z"
    }
   },
   "outputs": [
    {
     "name": "stdout",
     "output_type": "stream",
     "text": [
      "<class 'tuple'> (1, 2, 3, 4, 5)\n",
      "<class 'dict'> {'num1': 6, 'num2': 7}\n"
     ]
    },
    {
     "data": {
      "text/plain": [
       "(15, 13)"
      ]
     },
     "execution_count": 32,
     "metadata": {},
     "output_type": "execute_result"
    }
   ],
   "source": [
    "# 키워드가 있는 아규먼트가 필요하다면?\n",
    "\n",
    "def plus(*args, **kwargs):\n",
    "    print(type(args), args)\n",
    "    print(type(kwargs), kwargs)\n",
    "    return sum(args), sum(list(kwargs.values()))\n",
    "\n",
    "plus(1, 2, 3, 4, 5, num1=6, num2=7)"
   ]
  },
  {
   "cell_type": "markdown",
   "id": "organic-grave",
   "metadata": {
    "ExecuteTime": {
     "end_time": "2021-06-30T05:16:27.982031Z",
     "start_time": "2021-06-30T05:16:27.970060Z"
    }
   },
   "source": [
    "`**kwargs`를 이용하면 데이터 타입이 dictionary로 지정되며 갯수를 특정지을 수 없는 경우에서도 여러개의 키워드 아규먼트를 사용할 수 있다."
   ]
  },
  {
   "cell_type": "markdown",
   "id": "accepting-enough",
   "metadata": {},
   "source": [
    "---"
   ]
  },
  {
   "cell_type": "code",
   "execution_count": 34,
   "id": "bronze-azerbaijan",
   "metadata": {
    "ExecuteTime": {
     "end_time": "2021-06-30T05:19:21.687954Z",
     "start_time": "2021-06-30T05:19:21.674990Z"
    }
   },
   "outputs": [
    {
     "data": {
      "text/plain": [
       "6"
      ]
     },
     "execution_count": 34,
     "metadata": {},
     "output_type": "execute_result"
    }
   ],
   "source": [
    "def func(num1, num2, num3):\n",
    "    return num1 + num2 + num3\n",
    "\n",
    "data = [1, 2, 3]\n",
    "\n",
    "func(*data) # *가 붙음, func(1, 2, 3)과 동일한 의미"
   ]
  },
  {
   "cell_type": "markdown",
   "id": "accepting-proportion",
   "metadata": {},
   "source": [
    "*를 이용해 인자값으로 넘어오는 리스트에 속하는 각각의 원자값이 파라미터에 전달된다."
   ]
  },
  {
   "cell_type": "code",
   "execution_count": 38,
   "id": "union-incident",
   "metadata": {
    "ExecuteTime": {
     "end_time": "2021-06-30T05:23:19.608146Z",
     "start_time": "2021-06-30T05:23:19.597175Z"
    }
   },
   "outputs": [
    {
     "data": {
      "text/plain": [
       "301"
      ]
     },
     "execution_count": 38,
     "metadata": {},
     "output_type": "execute_result"
    }
   ],
   "source": [
    "# 딕셔너리의 value를 인자값으로 넘기는 경우 **\n",
    "\n",
    "data = {\n",
    "    'num2' : 100,\n",
    "    'num3' : 200,\n",
    "}\n",
    "func(1, **data) # func(1, num2=100, num3=200)와 동일하다."
   ]
  },
  {
   "cell_type": "code",
   "execution_count": 76,
   "id": "verbal-produce",
   "metadata": {
    "ExecuteTime": {
     "end_time": "2021-06-30T05:41:16.788597Z",
     "start_time": "2021-06-30T05:41:16.770684Z"
    }
   },
   "outputs": [
    {
     "data": {
      "text/plain": [
       "'Python is the best language.'"
      ]
     },
     "execution_count": 76,
     "metadata": {},
     "output_type": "execute_result"
    }
   ],
   "source": [
    "# 연습문제1\n",
    "\n",
    "# 문장을 입력받아서 문법에 맞도록 결과를 출력하는 코드를 작성\n",
    "# python IS the best language.\n",
    "# Python is the best language.\n",
    "# 마지막 문자는 점이 있을 수도 있고 없을 수도 있다.\n",
    "# 로 결과가 나오도록 코드륵 작성\n",
    "\n",
    "sentence = 'python Is the best language'\n",
    "\n",
    "def preprocess_sentence(sentence):\n",
    "    sentence_list = list(sentence)\n",
    "    result = ''\n",
    "    for i in sentence_list:\n",
    "        if sentence_list.index(i) == 0:\n",
    "            result += i.upper()\n",
    "        else:\n",
    "            result += i.lower()\n",
    "            \n",
    "    if sentence_list[-1] == '.':\n",
    "        return result\n",
    "    else:\n",
    "        result += '.'\n",
    "        \n",
    "    return result\n",
    "\n",
    "preprocess_sentence(sentence)"
   ]
  },
  {
   "cell_type": "code",
   "execution_count": 78,
   "id": "different-scene",
   "metadata": {
    "ExecuteTime": {
     "end_time": "2021-06-30T05:43:39.139946Z",
     "start_time": "2021-06-30T05:43:39.125988Z"
    }
   },
   "outputs": [
    {
     "data": {
      "text/plain": [
       "'Python is the best language.'"
      ]
     },
     "execution_count": 78,
     "metadata": {},
     "output_type": "execute_result"
    }
   ],
   "source": [
    "# 문제 풀이\n",
    "\n",
    "# 1. 문자열 입력 받기\n",
    "sentence = 'python Is the best language'\n",
    "\n",
    "# 2. 모두 소문자로 변경\n",
    "result = sentence.lower()\n",
    "\n",
    "# 3. 가장 앞글자를 대문자로 변경\n",
    "result = result[0].upper() + result[1:]\n",
    "\n",
    "# 4. 마지막 문자가 .인지 확인, .이 아니면 . 를 추가\n",
    "if result[-1] != '.':\n",
    "    result += '.'\n",
    "    \n",
    "result"
   ]
  },
  {
   "cell_type": "code",
   "execution_count": 94,
   "id": "smaller-vitamin",
   "metadata": {
    "ExecuteTime": {
     "end_time": "2021-06-30T05:52:47.858501Z",
     "start_time": "2021-06-30T05:52:47.847533Z"
    }
   },
   "outputs": [
    {
     "name": "stdout",
     "output_type": "stream",
     "text": [
      "[10, 13, 27, 29, 30, 45]\n"
     ]
    }
   ],
   "source": [
    "# 문제 2 \n",
    "\n",
    "# 6자리 로또 번호를 생성하는 코드를 작성\n",
    "# 6자리 번호는 중복이 X\n",
    "\n",
    "import random\n",
    "\n",
    "# 난수를 담을 리스트 생성\n",
    "nums = []\n",
    "\n",
    "# 중복되는 값이 리스트에 담기지 않도록 무한반복 로직 이용\n",
    "while True:\n",
    "    # 1~45 사이의 값을 갖는 난수 발생\n",
    "    num = random.randint(1, 45)\n",
    "    # num과 같은 값을 갖는 nums의 원소가 없다면 nums에 추가\n",
    "    if num not in nums:\n",
    "        nums.append(num)\n",
    "    else:\n",
    "        continue\n",
    "    # 무한루프이기 때문에 nums에 6개 원소가 채워지면 반복문 강제종료\n",
    "    if len(nums) == 6:\n",
    "        nums.sort()\n",
    "        print(nums)\n",
    "        break\n"
   ]
  },
  {
   "cell_type": "code",
   "execution_count": null,
   "id": "binding-recruitment",
   "metadata": {},
   "outputs": [],
   "source": [
    "# docstring 확인방법 shift tab\n",
    "print"
   ]
  },
  {
   "attachments": {
    "image.png": {
     "image/png": "[encoded data removed]"
    }
   },
   "cell_type": "markdown",
   "id": "warming-logic",
   "metadata": {},
   "source": [
    "![image.png](attachment:image.png)"
   ]
  },
  {
   "cell_type": "code",
   "execution_count": null,
   "id": "prepared-situation",
   "metadata": {},
   "outputs": [],
   "source": [
    "# 또 다른 방법"
   ]
  },
  {
   "cell_type": "code",
   "execution_count": 95,
   "id": "painted-rhythm",
   "metadata": {
    "ExecuteTime": {
     "end_time": "2021-06-30T06:00:58.521639Z",
     "start_time": "2021-06-30T06:00:58.515653Z"
    }
   },
   "outputs": [],
   "source": [
    "echo?"
   ]
  },
  {
   "cell_type": "code",
   "execution_count": 96,
   "id": "private-bikini",
   "metadata": {
    "ExecuteTime": {
     "end_time": "2021-06-30T06:01:02.903739Z",
     "start_time": "2021-06-30T06:01:02.881799Z"
    }
   },
   "outputs": [],
   "source": [
    "echo??"
   ]
  },
  {
   "cell_type": "code",
   "execution_count": 97,
   "id": "informal-providence",
   "metadata": {
    "ExecuteTime": {
     "end_time": "2021-06-30T06:01:19.190034Z",
     "start_time": "2021-06-30T06:01:19.172056Z"
    }
   },
   "outputs": [
    {
     "name": "stdout",
     "output_type": "stream",
     "text": [
      "Help on function echo in module __main__:\n",
      "\n",
      "echo(msg)\n",
      "\n"
     ]
    }
   ],
   "source": [
    "help(echo)"
   ]
  },
  {
   "cell_type": "code",
   "execution_count": 101,
   "id": "substantial-priority",
   "metadata": {
    "ExecuteTime": {
     "end_time": "2021-06-30T06:01:47.911261Z",
     "start_time": "2021-06-30T06:01:47.895267Z"
    }
   },
   "outputs": [
    {
     "name": "stdout",
     "output_type": "stream",
     "text": [
      "print(value, ..., sep=' ', end='\\n', file=sys.stdout, flush=False)\n",
      "\n",
      "Prints the values to a stream, or to sys.stdout by default.\n",
      "Optional keyword arguments:\n",
      "file:  a file-like object (stream); defaults to the current sys.stdout.\n",
      "sep:   string inserted between values, default a space.\n",
      "end:   string appended after the last value, default a newline.\n",
      "flush: whether to forcibly flush the stream.\n"
     ]
    }
   ],
   "source": [
    "print(print.__doc__)"
   ]
  },
  {
   "cell_type": "markdown",
   "id": "academic-bahamas",
   "metadata": {},
   "source": [
    "### 2. Scope 범위\n",
    "- 함수 안에서 선언되는 변수와 함수 밖에서 선언되는 변수의 범위가 다르다.\n",
    "- global(전역), local(지역)"
   ]
  },
  {
   "cell_type": "code",
   "execution_count": 103,
   "id": "powered-richardson",
   "metadata": {
    "ExecuteTime": {
     "end_time": "2021-06-30T06:05:03.711983Z",
     "start_time": "2021-06-30T06:05:03.700015Z"
    }
   },
   "outputs": [
    {
     "name": "stdout",
     "output_type": "stream",
     "text": [
      "10\n"
     ]
    }
   ],
   "source": [
    "# global\n",
    "\n",
    "gv = 10\n",
    "\n",
    "def echo():\n",
    "    print(gv)\n",
    "    \n",
    "echo()"
   ]
  },
  {
   "cell_type": "code",
   "execution_count": 107,
   "id": "meaningful-romania",
   "metadata": {
    "ExecuteTime": {
     "end_time": "2021-06-30T06:05:50.683692Z",
     "start_time": "2021-06-30T06:05:50.677743Z"
    }
   },
   "outputs": [
    {
     "name": "stdout",
     "output_type": "stream",
     "text": [
      "100\n"
     ]
    }
   ],
   "source": [
    "# local\n",
    "\n",
    "gv = 10\n",
    "\n",
    "def echo():\n",
    "    gv = 100\n",
    "    print(gv)\n",
    "    \n",
    "echo()"
   ]
  },
  {
   "cell_type": "code",
   "execution_count": 105,
   "id": "municipal-shipping",
   "metadata": {
    "ExecuteTime": {
     "end_time": "2021-06-30T06:05:42.114673Z",
     "start_time": "2021-06-30T06:05:42.098745Z"
    }
   },
   "outputs": [
    {
     "data": {
      "text/plain": [
       "10"
      ]
     },
     "execution_count": 105,
     "metadata": {},
     "output_type": "execute_result"
    }
   ],
   "source": [
    "gv"
   ]
  },
  {
   "cell_type": "markdown",
   "id": "hydraulic-natural",
   "metadata": {},
   "source": [
    "똑같은 이름의 변수여도 전역이냐 지역이냐에 따라 출력되는 값이 다르다."
   ]
  },
  {
   "cell_type": "markdown",
   "id": "silver-harmony",
   "metadata": {},
   "source": [
    "함수 내부에 있는 gv 변수는 함수 안에서만 활동이 되고 함수 밖에서 정의된 gv는 함수 안에서도 사용 가능하다."
   ]
  },
  {
   "cell_type": "markdown",
   "id": "genetic-secondary",
   "metadata": {},
   "source": [
    "함수 내부에 정의된 변수가 없을 경우 함수 외부의 전역 변수를 사용하고 함수 내부에 정의된 변수가 있을 경우 지역 변수를 사용한다."
   ]
  },
  {
   "cell_type": "code",
   "execution_count": 110,
   "id": "sixth-contrast",
   "metadata": {
    "ExecuteTime": {
     "end_time": "2021-06-30T06:07:52.432270Z",
     "start_time": "2021-06-30T06:07:52.421343Z"
    }
   },
   "outputs": [
    {
     "name": "stdout",
     "output_type": "stream",
     "text": [
      "100\n"
     ]
    }
   ],
   "source": [
    "gv = 10\n",
    "\n",
    "def echo():\n",
    "    global gv # 명시적 전역변수 지정\n",
    "    gv = 100\n",
    "    print(gv)\n",
    "    \n",
    "echo()"
   ]
  },
  {
   "cell_type": "markdown",
   "id": "assured-slave",
   "metadata": {},
   "source": [
    "### 4. inner function\n",
    "- 함수가 지역영역에 선언(함수가 함수 안에 선언)"
   ]
  },
  {
   "cell_type": "code",
   "execution_count": 113,
   "id": "occupational-thailand",
   "metadata": {
    "ExecuteTime": {
     "end_time": "2021-06-30T06:12:27.167487Z",
     "start_time": "2021-06-30T06:12:27.160507Z"
    }
   },
   "outputs": [],
   "source": [
    "def outer(a, b):\n",
    "    \n",
    "    def inner(c, d):\n",
    "        return c + d\n",
    "    \n",
    "    return inner(a, b)"
   ]
  },
  {
   "cell_type": "code",
   "execution_count": 114,
   "id": "military-infection",
   "metadata": {
    "ExecuteTime": {
     "end_time": "2021-06-30T06:12:28.433786Z",
     "start_time": "2021-06-30T06:12:28.422815Z"
    }
   },
   "outputs": [
    {
     "data": {
      "text/plain": [
       "3"
      ]
     },
     "execution_count": 114,
     "metadata": {},
     "output_type": "execute_result"
    }
   ],
   "source": [
    "outer(1, 2) # 전역함수를 통해 지역 함수를 사용"
   ]
  },
  {
   "cell_type": "code",
   "execution_count": 115,
   "id": "interim-modern",
   "metadata": {
    "ExecuteTime": {
     "end_time": "2021-06-30T06:12:34.048072Z",
     "start_time": "2021-06-30T06:12:34.032114Z"
    }
   },
   "outputs": [
    {
     "ename": "NameError",
     "evalue": "name 'inner' is not defined",
     "output_type": "error",
     "traceback": [
      "\u001b[1;31m---------------------------------------------------------------------------\u001b[0m",
      "\u001b[1;31mNameError\u001b[0m                                 Traceback (most recent call last)",
      "\u001b[1;32m<ipython-input-115-5051cd321f58>\u001b[0m in \u001b[0;36m<module>\u001b[1;34m\u001b[0m\n\u001b[1;32m----> 1\u001b[1;33m \u001b[0minner\u001b[0m\u001b[1;33m(\u001b[0m\u001b[1;36m1\u001b[0m\u001b[1;33m,\u001b[0m \u001b[1;36m2\u001b[0m\u001b[1;33m)\u001b[0m\u001b[1;33m\u001b[0m\u001b[1;33m\u001b[0m\u001b[0m\n\u001b[0m",
      "\u001b[1;31mNameError\u001b[0m: name 'inner' is not defined"
     ]
    }
   ],
   "source": [
    "inner(1, 2) # 지역영역에 선언된 변수 사용 불가"
   ]
  },
  {
   "cell_type": "code",
   "execution_count": 117,
   "id": "affected-person",
   "metadata": {
    "ExecuteTime": {
     "end_time": "2021-06-30T06:14:48.582510Z",
     "start_time": "2021-06-30T06:14:48.569543Z"
    }
   },
   "outputs": [
    {
     "data": {
      "text/plain": [
       "7"
      ]
     },
     "execution_count": 117,
     "metadata": {},
     "output_type": "execute_result"
    }
   ],
   "source": [
    "# 전역영역에서 지역영역 함수를 호출하는 방법\n",
    "\n",
    "def outer(a, b):\n",
    "    \n",
    "    def inner(c, d):\n",
    "        return c + d\n",
    "    \n",
    "    return inner\n",
    "\n",
    "outer(1, 2)(3, 4)"
   ]
  },
  {
   "cell_type": "markdown",
   "id": "characteristic-browser",
   "metadata": {
    "ExecuteTime": {
     "end_time": "2021-06-30T06:16:01.308935Z",
     "start_time": "2021-06-30T06:16:01.299959Z"
    }
   },
   "source": [
    "위의 경우 outer(1, 2)를 통해 outer함수를 호출하는데 이 때 반환 값이 inner 함수이다.\n",
    "따라서 결과적으로 inner(3, 4)와 동일하며 결과 값으로 7이 반환된다.\n",
    "\n",
    "즉, outer(1, 2)에서 전달된 인자값은 사실상 의미가 없는 인자값이다."
   ]
  },
  {
   "cell_type": "code",
   "execution_count": 121,
   "id": "aging-bleeding",
   "metadata": {
    "ExecuteTime": {
     "end_time": "2021-06-30T06:18:14.740184Z",
     "start_time": "2021-06-30T06:18:14.724228Z"
    }
   },
   "outputs": [
    {
     "data": {
      "text/plain": [
       "7"
      ]
     },
     "execution_count": 121,
     "metadata": {},
     "output_type": "execute_result"
    }
   ],
   "source": [
    "def inner(c, d):\n",
    "    return c + d\n",
    "\n",
    "def outer(a, b):\n",
    "    return inner\n",
    "\n",
    "outer(1, 2)(3, 4)\n",
    "\n",
    "# outer의 반환값은 inner인데 이 때 지역영역의 inner 함수는 존재하지 않아 전역영역의 inner함수를 찾게된다.\n",
    "# 따라서 전역영역의 inner 함수가 호출된 것이다."
   ]
  },
  {
   "cell_type": "code",
   "execution_count": 123,
   "id": "concerned-carter",
   "metadata": {
    "ExecuteTime": {
     "end_time": "2021-06-30T06:19:15.466738Z",
     "start_time": "2021-06-30T06:19:15.451780Z"
    }
   },
   "outputs": [],
   "source": [
    "# callback function : 함수를 아규먼트 파라미터로 설정해서 사용"
   ]
  },
  {
   "cell_type": "code",
   "execution_count": 128,
   "id": "seeing-greene",
   "metadata": {
    "ExecuteTime": {
     "end_time": "2021-06-30T06:21:05.959065Z",
     "start_time": "2021-06-30T06:21:05.949092Z"
    }
   },
   "outputs": [],
   "source": [
    "# callback function을 이용한 계산기 예제\n",
    "\n",
    "def calc(func, a, b):\n",
    "    return func(a, b)\n",
    "\n",
    "def plus(a, b):\n",
    "    return a + b\n",
    "\n",
    "def minus(a, b):\n",
    "    return a - b"
   ]
  },
  {
   "cell_type": "code",
   "execution_count": 129,
   "id": "familiar-orbit",
   "metadata": {
    "ExecuteTime": {
     "end_time": "2021-06-30T06:21:06.145235Z",
     "start_time": "2021-06-30T06:21:06.131273Z"
    }
   },
   "outputs": [
    {
     "data": {
      "text/plain": [
       "3"
      ]
     },
     "execution_count": 129,
     "metadata": {},
     "output_type": "execute_result"
    }
   ],
   "source": [
    "calc(plus, 1, 2)"
   ]
  },
  {
   "cell_type": "code",
   "execution_count": 130,
   "id": "quarterly-rebecca",
   "metadata": {
    "ExecuteTime": {
     "end_time": "2021-06-30T06:21:06.331727Z",
     "start_time": "2021-06-30T06:21:06.316768Z"
    }
   },
   "outputs": [
    {
     "data": {
      "text/plain": [
       "-1"
      ]
     },
     "execution_count": 130,
     "metadata": {},
     "output_type": "execute_result"
    }
   ],
   "source": [
    "calc(minus, 1, 2)"
   ]
  },
  {
   "cell_type": "markdown",
   "id": "diagnostic-seminar",
   "metadata": {},
   "source": [
    "즉, 인자값으로 함수를 넘겨 인자값에 특정 함수를 적용(호출)시키는 것!"
   ]
  },
  {
   "cell_type": "markdown",
   "id": "covered-haven",
   "metadata": {},
   "source": [
    "### 4. 람다함수\n",
    "    - 파라미터를 간단한 계산으로 리턶나는 함수 : 삼항 연산"
   ]
  },
  {
   "cell_type": "code",
   "execution_count": 132,
   "id": "genuine-western",
   "metadata": {
    "ExecuteTime": {
     "end_time": "2021-06-30T06:23:17.772193Z",
     "start_time": "2021-06-30T06:23:17.765208Z"
    }
   },
   "outputs": [
    {
     "data": {
      "text/plain": [
       "3"
      ]
     },
     "execution_count": 132,
     "metadata": {},
     "output_type": "execute_result"
    }
   ],
   "source": [
    "def plus(a, b):\n",
    "    return a + b\n",
    "\n",
    "plus(1, 2)"
   ]
  },
  {
   "cell_type": "code",
   "execution_count": 136,
   "id": "graphic-discretion",
   "metadata": {
    "ExecuteTime": {
     "end_time": "2021-06-30T06:24:24.205056Z",
     "start_time": "2021-06-30T06:24:24.197080Z"
    }
   },
   "outputs": [
    {
     "data": {
      "text/plain": [
       "5"
      ]
     },
     "execution_count": 136,
     "metadata": {},
     "output_type": "execute_result"
    }
   ],
   "source": [
    "plus2 = lambda a, b : a + b # lambda 파라미터 : 리턴값\n",
    "plus2(2, 3)"
   ]
  },
  {
   "cell_type": "markdown",
   "id": "terminal-aaron",
   "metadata": {},
   "source": [
    "lambda 함수를 왜 쓰는가?"
   ]
  },
  {
   "cell_type": "code",
   "execution_count": 138,
   "id": "healthy-questionnaire",
   "metadata": {
    "ExecuteTime": {
     "end_time": "2021-06-30T06:26:04.318423Z",
     "start_time": "2021-06-30T06:26:04.306455Z"
    }
   },
   "outputs": [
    {
     "data": {
      "text/plain": [
       "12"
      ]
     },
     "execution_count": 138,
     "metadata": {},
     "output_type": "execute_result"
    }
   ],
   "source": [
    "# 위에서 생성한 calc 함수에 lambda를 적용시킬 수 있다.\n",
    "\n",
    "calc(lambda a, b: a * b, 3, 4)"
   ]
  },
  {
   "cell_type": "markdown",
   "id": "legislative-damages",
   "metadata": {},
   "source": [
    "또한 일반적인 함수를 선언하면 저장공간을 사용하게 되는데 lambda의 경우 호출되면서 생성되기 때문에 저장공간을 적게 쓰고 컴퓨터 자원을 더 효율적으로 사용할 수 있기 때문에 사용한다."
   ]
  },
  {
   "cell_type": "code",
   "execution_count": 142,
   "id": "trying-device",
   "metadata": {
    "ExecuteTime": {
     "end_time": "2021-06-30T06:29:36.388868Z",
     "start_time": "2021-06-30T06:29:36.367923Z"
    }
   },
   "outputs": [
    {
     "data": {
      "text/plain": [
       "(<function __main__.<lambda>(a, b)>, 3, 4)"
      ]
     },
     "execution_count": 142,
     "metadata": {},
     "output_type": "execute_result"
    }
   ],
   "source": [
    "a = (lambda a, b: a + b, 3, 4)"
   ]
  },
  {
   "cell_type": "markdown",
   "id": "turkish-raising",
   "metadata": {},
   "source": [
    "### 5. map, filter, reduce"
   ]
  },
  {
   "cell_type": "markdown",
   "id": "angry-palace",
   "metadata": {
    "ExecuteTime": {
     "end_time": "2021-06-30T06:32:37.981946Z",
     "start_time": "2021-06-30T06:32:37.971008Z"
    }
   },
   "source": [
    "- map : 순서가 있는 데이터 집합에서 모든 값에 함수를 적용시킨 결과를 출력"
   ]
  },
  {
   "cell_type": "code",
   "execution_count": 160,
   "id": "based-immune",
   "metadata": {
    "ExecuteTime": {
     "end_time": "2021-06-30T06:37:17.624692Z",
     "start_time": "2021-06-30T06:37:17.606716Z"
    }
   },
   "outputs": [
    {
     "data": {
      "text/plain": [
       "['odd', 'even', 'odd', 'even']"
      ]
     },
     "execution_count": 160,
     "metadata": {},
     "output_type": "execute_result"
    }
   ],
   "source": [
    "ls = [1, 2, 3, 4]\n",
    "\n",
    "def odd_even(num):\n",
    "    return 'odd' if num % 2 else 'even'\n",
    "\n",
    "list(map(odd_even, ls))"
   ]
  },
  {
   "cell_type": "code",
   "execution_count": 162,
   "id": "continent-pepper",
   "metadata": {
    "ExecuteTime": {
     "end_time": "2021-06-30T06:39:40.195098Z",
     "start_time": "2021-06-30T06:39:34.373514Z"
    }
   },
   "outputs": [
    {
     "name": "stdout",
     "output_type": "stream",
     "text": [
      "insert numbers (separator = \" \")10 20 30 40 50\n"
     ]
    }
   ],
   "source": [
    "# input 함수로 구분자는 ' '으로 여러개의 숫자를 입력 받습니다.\n",
    "# str.split(' ')함수로 리스트를 생성하고\n",
    "# 만들어진 리스트의 값들을 정수로 형변환\n",
    "\n",
    "datas = input('insert numbers (separator = \" \")')"
   ]
  },
  {
   "cell_type": "code",
   "execution_count": 182,
   "id": "attended-fields",
   "metadata": {
    "ExecuteTime": {
     "end_time": "2021-06-30T06:43:40.697214Z",
     "start_time": "2021-06-30T06:43:40.686208Z"
    }
   },
   "outputs": [
    {
     "data": {
      "text/plain": [
       "['10', '20', '30', '40', '50']"
      ]
     },
     "execution_count": 182,
     "metadata": {},
     "output_type": "execute_result"
    }
   ],
   "source": [
    "result = datas.split(' ')\n",
    "result"
   ]
  },
  {
   "cell_type": "code",
   "execution_count": 183,
   "id": "wound-controversy",
   "metadata": {
    "ExecuteTime": {
     "end_time": "2021-06-30T06:43:41.320712Z",
     "start_time": "2021-06-30T06:43:41.308780Z"
    }
   },
   "outputs": [
    {
     "data": {
      "text/plain": [
       "[10, 20, 30, 40, 50]"
      ]
     },
     "execution_count": 183,
     "metadata": {},
     "output_type": "execute_result"
    }
   ],
   "source": [
    "result = map(int, result)\n",
    "list(result)"
   ]
  },
  {
   "cell_type": "markdown",
   "id": "agricultural-narrative",
   "metadata": {},
   "source": [
    "#### filter\n",
    "- 리스트 데이터에서 특정 조건에 맞는(True) value만 남기는 함수"
   ]
  },
  {
   "cell_type": "code",
   "execution_count": 189,
   "id": "administrative-buying",
   "metadata": {
    "ExecuteTime": {
     "end_time": "2021-06-30T06:50:36.014763Z",
     "start_time": "2021-06-30T06:50:36.008779Z"
    }
   },
   "outputs": [
    {
     "data": {
      "text/plain": [
       "[1, 3, 5, 7, 9]"
      ]
     },
     "execution_count": 189,
     "metadata": {},
     "output_type": "execute_result"
    }
   ],
   "source": [
    "ls = range(10)\n",
    "\n",
    "# 홀수만 출력\n",
    "list(filter(lambda x:True if x % 2 else False, ls))"
   ]
  },
  {
   "cell_type": "markdown",
   "id": "clean-hormone",
   "metadata": {},
   "source": [
    "#### reduce\n",
    "- 리스트 데이터를 처음부터 순서대로 특정 함수를 실행하여 결과를 누적시켜 주는 함수"
   ]
  },
  {
   "cell_type": "code",
   "execution_count": 190,
   "id": "western-karaoke",
   "metadata": {
    "ExecuteTime": {
     "end_time": "2021-06-30T06:51:37.193803Z",
     "start_time": "2021-06-30T06:51:37.178880Z"
    }
   },
   "outputs": [],
   "source": [
    "from functools import reduce"
   ]
  },
  {
   "cell_type": "code",
   "execution_count": 194,
   "id": "portuguese-bicycle",
   "metadata": {
    "ExecuteTime": {
     "end_time": "2021-06-30T06:52:41.039112Z",
     "start_time": "2021-06-30T06:52:41.031133Z"
    }
   },
   "outputs": [
    {
     "data": {
      "text/plain": [
       "15"
      ]
     },
     "execution_count": 194,
     "metadata": {},
     "output_type": "execute_result"
    }
   ],
   "source": [
    "ls = [3, 1, 2, 4, 5]\n",
    "\n",
    "reduce(lambda x, y: x+y, ls) # 계산을 누적하기 때문에 파라미터 두개가 필요"
   ]
  },
  {
   "cell_type": "markdown",
   "id": "special-musician",
   "metadata": {},
   "source": [
    "### 6. Decorlator\n",
    "- 함수에서 코드를 바꾸지 않고 기능을 추가하거나 수정하고 싶을 때 사용하는 문법\n",
    "\n",
    "```\n",
    "def a():\n",
    "    code_1\n",
    "    code_2\n",
    "    code_3\n",
    "```\n",
    "```\n",
    "def b():\n",
    "    code_1\n",
    "    code_4\n",
    "    code_3\n",
    "```\n",
    "\n",
    "위처럼 중복되는 code가 존재한다면 a라는 함수에는 code_2만 사용하고 b라는 함수는 code_4만 써서 code_1과 code_3을 묶어주면 관리 효율성이 증가할 수 있다.\n",
    "\n"
   ]
  },
  {
   "cell_type": "markdown",
   "id": "roman-characteristic",
   "metadata": {},
   "source": [
    "- 데코레이터의 사용\n",
    "\n",
    "```\n",
    "def c(func):\n",
    "    def wrapper(*args, **kwargs):\n",
    "        code_1\n",
    "        result = func(*args, **kwargs)\n",
    "        code_3\n",
    "        return result\n",
    "    return wrapper\n",
    "\n",
    "@c\n",
    "def a():\n",
    "    code_2\n",
    "\n",
    "@c\n",
    "def b():\n",
    "    code_4\n",
    "```"
   ]
  },
  {
   "cell_type": "markdown",
   "id": "damaged-acting",
   "metadata": {},
   "source": [
    "@는 데코레이터를 사용하기 위한 문법이다.\n",
    "\n",
    "위 경우 @c를 통해 함수 c가 실행되며 c함수의 파라미터 func에는 함수 a가 들어가게 된다. 그리고 함수 c 내부에 작성된 inner function인 wrapper 함수가 생성되며 이 때 인자값으로 넘어온 함수 a가 result에 저장된다. \n",
    "\n",
    "따라서 return wrapper를 통해 code_1, code_2, code_3을 사용할 수 있게 된다."
   ]
  },
  {
   "cell_type": "code",
   "execution_count": 204,
   "id": "adapted-final",
   "metadata": {
    "ExecuteTime": {
     "end_time": "2021-06-30T08:46:30.730339Z",
     "start_time": "2021-06-30T08:46:30.714346Z"
    }
   },
   "outputs": [],
   "source": [
    "# a\n",
    "def plus(a, b):\n",
    "    print('start')                       # code_1\n",
    "    result = a + b                      # code_2\n",
    "    print('result : {}'.format(result)) # code_3\n",
    "    return result"
   ]
  },
  {
   "cell_type": "code",
   "execution_count": 205,
   "id": "referenced-maker",
   "metadata": {
    "ExecuteTime": {
     "end_time": "2021-06-30T08:46:30.839897Z",
     "start_time": "2021-06-30T08:46:30.828925Z"
    }
   },
   "outputs": [],
   "source": [
    "# b\n",
    "def minus(a, b):\n",
    "    print('start')                       # code_1\n",
    "    result = a - b                      # code_4\n",
    "    print('result : {}'.format(result)) # code_3\n",
    "    return result"
   ]
  },
  {
   "cell_type": "code",
   "execution_count": 211,
   "id": "behavioral-survival",
   "metadata": {
    "ExecuteTime": {
     "end_time": "2021-06-30T08:49:01.376381Z",
     "start_time": "2021-06-30T08:49:01.359425Z"
    }
   },
   "outputs": [],
   "source": [
    "# c , 데코레이터 function\n",
    "def disp(func):\n",
    "    def wrapper(*args, **kwargs):\n",
    "            print('start')                         # code_1\n",
    "            result = func(*args, **kwargs)        # code_2, code_4\n",
    "            print('result : {}'.format(result))  # code_3\n",
    "            return result\n",
    "    return wrapper\n",
    "    \n",
    "    "
   ]
  },
  {
   "cell_type": "code",
   "execution_count": 215,
   "id": "indoor-scroll",
   "metadata": {
    "ExecuteTime": {
     "end_time": "2021-06-30T08:50:26.183936Z",
     "start_time": "2021-06-30T08:50:26.166980Z"
    }
   },
   "outputs": [
    {
     "name": "stdout",
     "output_type": "stream",
     "text": [
      "start\n",
      "result : 4\n"
     ]
    },
    {
     "data": {
      "text/plain": [
       "4"
      ]
     },
     "execution_count": 215,
     "metadata": {},
     "output_type": "execute_result"
    }
   ],
   "source": [
    "# 함수 a, b에 데코레이터 함수 c를 적용!\n",
    "\n",
    "@disp\n",
    "def plus(a, b):\n",
    "\n",
    "    result = a + b                      # code_2\n",
    "\n",
    "    return result\n",
    "\n",
    "plus(1, 3)"
   ]
  },
  {
   "cell_type": "code",
   "execution_count": 217,
   "id": "modern-referral",
   "metadata": {
    "ExecuteTime": {
     "end_time": "2021-06-30T08:50:50.071639Z",
     "start_time": "2021-06-30T08:50:50.058676Z"
    }
   },
   "outputs": [
    {
     "name": "stdout",
     "output_type": "stream",
     "text": [
      "start\n",
      "result : 3\n"
     ]
    },
    {
     "data": {
      "text/plain": [
       "3"
      ]
     },
     "execution_count": 217,
     "metadata": {},
     "output_type": "execute_result"
    }
   ],
   "source": [
    "# 함수 a, b에 데코레이터 함수 c를 적용!\n",
    "\n",
    "@disp\n",
    "def minus(a, b):\n",
    "\n",
    "    result = a - b                      # code_2\n",
    "\n",
    "    return result\n",
    "\n",
    "minus(10, 7)"
   ]
  },
  {
   "cell_type": "code",
   "execution_count": null,
   "id": "worth-frederick",
   "metadata": {},
   "outputs": [],
   "source": [
    "# 함수의 실행 시간을 출력하는 데코레이 함수 작성"
   ]
  },
  {
   "cell_type": "code",
   "execution_count": 219,
   "id": "noted-lodging",
   "metadata": {
    "ExecuteTime": {
     "end_time": "2021-06-30T09:09:26.518658Z",
     "start_time": "2021-06-30T09:09:26.503675Z"
    }
   },
   "outputs": [],
   "source": [
    "import time\n",
    "\n",
    "def timer(func):\n",
    "    def wrapper(*args, **kwargs):\n",
    "        start_time = time.time()\n",
    "        result = func(*args, **kwargs)\n",
    "        end_time = time.time()\n",
    "        print('running time : {}'.format(end_time - start_time))\n",
    "        return result\n",
    "    return wrapper"
   ]
  },
  {
   "cell_type": "code",
   "execution_count": 221,
   "id": "cooked-embassy",
   "metadata": {
    "ExecuteTime": {
     "end_time": "2021-06-30T09:12:09.360668Z",
     "start_time": "2021-06-30T09:12:09.352692Z"
    }
   },
   "outputs": [],
   "source": [
    "def test1(num1, num2):\n",
    "    data = range(num1, num2+1)\n",
    "    return sum(data)\n",
    "\n",
    "def test2(num1,  num2):\n",
    "    result = 0\n",
    "    for num in range(num1, num2+1):\n",
    "        result += num\n",
    "    return result"
   ]
  },
  {
   "cell_type": "code",
   "execution_count": 224,
   "id": "consecutive-iraqi",
   "metadata": {
    "ExecuteTime": {
     "end_time": "2021-06-30T09:12:31.054942Z",
     "start_time": "2021-06-30T09:12:31.039980Z"
    }
   },
   "outputs": [
    {
     "data": {
      "text/plain": [
       "5000050000"
      ]
     },
     "execution_count": 224,
     "metadata": {},
     "output_type": "execute_result"
    }
   ],
   "source": [
    "test1(1, 100000)"
   ]
  },
  {
   "cell_type": "code",
   "execution_count": 225,
   "id": "radio-nurse",
   "metadata": {
    "ExecuteTime": {
     "end_time": "2021-06-30T09:12:36.560375Z",
     "start_time": "2021-06-30T09:12:36.542446Z"
    }
   },
   "outputs": [
    {
     "data": {
      "text/plain": [
       "5000050000"
      ]
     },
     "execution_count": 225,
     "metadata": {},
     "output_type": "execute_result"
    }
   ],
   "source": [
    "test2(1, 100000)"
   ]
  },
  {
   "cell_type": "code",
   "execution_count": 228,
   "id": "outstanding-serve",
   "metadata": {
    "ExecuteTime": {
     "end_time": "2021-06-30T09:13:09.499049Z",
     "start_time": "2021-06-30T09:13:09.488491Z"
    }
   },
   "outputs": [
    {
     "name": "stdout",
     "output_type": "stream",
     "text": [
      "running time : 0.0019941329956054688\n"
     ]
    }
   ],
   "source": [
    "@timer\n",
    "def test1(num1, num2):\n",
    "    data = range(num1, num2+1)\n",
    "    return sum(data)\n",
    "test1(1, 100000)"
   ]
  },
  {
   "cell_type": "code",
   "execution_count": 230,
   "id": "extreme-vitamin",
   "metadata": {
    "ExecuteTime": {
     "end_time": "2021-06-30T09:13:23.908721Z",
     "start_time": "2021-06-30T09:13:23.896751Z"
    }
   },
   "outputs": [
    {
     "name": "stdout",
     "output_type": "stream",
     "text": [
      "running time : 0.003989458084106445\n"
     ]
    }
   ],
   "source": [
    "@timer\n",
    "def test2(num1,  num2):\n",
    "    result = 0\n",
    "    for num in range(num1, num2+1):\n",
    "        result += num\n",
    "    return result\n",
    "test2(1, 100000)"
   ]
  },
  {
   "cell_type": "markdown",
   "id": "narrative-production",
   "metadata": {},
   "source": [
    "이처럼 데코레이터 함수는 만들어두면 어떤 함수던 계속해서 사용할 수 있다."
   ]
  },
  {
   "cell_type": "code",
   "execution_count": 231,
   "id": "lovely-melissa",
   "metadata": {
    "ExecuteTime": {
     "end_time": "2021-06-30T11:49:53.336825Z",
     "start_time": "2021-06-30T11:49:53.323861Z"
    }
   },
   "outputs": [],
   "source": [
    "# 패스워드를 입력 받아야 함수가 실행되도록 하는 데코레이터 작성"
   ]
  },
  {
   "cell_type": "code",
   "execution_count": 247,
   "id": "interim-mississippi",
   "metadata": {
    "ExecuteTime": {
     "end_time": "2021-06-30T12:01:22.768683Z",
     "start_time": "2021-06-30T12:01:22.752733Z"
    }
   },
   "outputs": [],
   "source": [
    "# 데코레이터 Function\n",
    "\n",
    "def check_password(func):\n",
    "    def wrapper(*args, **kwargs):\n",
    "        pw = '1234'\n",
    "        # check password\n",
    "        input_pw = input('insert pw : ')\n",
    "        if input_pw == pw:\n",
    "            result = func(*args, **kwargs)\n",
    "        else:\n",
    "            result = \"not allow!\"\n",
    "        return result\n",
    "    return wrapper"
   ]
  },
  {
   "cell_type": "code",
   "execution_count": 248,
   "id": "engaging-assurance",
   "metadata": {
    "ExecuteTime": {
     "end_time": "2021-06-30T12:01:23.097861Z",
     "start_time": "2021-06-30T12:01:22.913277Z"
    }
   },
   "outputs": [
    {
     "name": "stdout",
     "output_type": "stream",
     "text": [
      "insert pw : \n"
     ]
    },
    {
     "data": {
      "text/plain": [
       "'not allow!'"
      ]
     },
     "execution_count": 248,
     "metadata": {},
     "output_type": "execute_result"
    }
   ],
   "source": [
    "@check_password\n",
    "def plus(a, b):\n",
    "    return a + b\n",
    "\n",
    "plus(5, 10)"
   ]
  },
  {
   "cell_type": "code",
   "execution_count": 249,
   "id": "silver-value",
   "metadata": {
    "ExecuteTime": {
     "end_time": "2021-06-30T12:01:24.218324Z",
     "start_time": "2021-06-30T12:01:23.808390Z"
    }
   },
   "outputs": [
    {
     "name": "stdout",
     "output_type": "stream",
     "text": [
      "insert pw : \n"
     ]
    },
    {
     "data": {
      "text/plain": [
       "'not allow!'"
      ]
     },
     "execution_count": 249,
     "metadata": {},
     "output_type": "execute_result"
    }
   ],
   "source": [
    "@check_password\n",
    "def lotto_func():\n",
    "    lotto = []\n",
    "    while True:\n",
    "        number = random.randint(1, 45)\n",
    "        if number not in lotto:\n",
    "            lotto.append(number)\n",
    "        if len(lotto) >= 6:\n",
    "            lotto.sort()\n",
    "            break\n",
    "    return lotto\n",
    "\n",
    "lotto_func()"
   ]
  },
  {
   "cell_type": "code",
   "execution_count": 273,
   "id": "aggressive-lancaster",
   "metadata": {
    "ExecuteTime": {
     "end_time": "2021-06-30T12:06:33.374555Z",
     "start_time": "2021-06-30T12:06:33.366614Z"
    }
   },
   "outputs": [],
   "source": [
    "# 데코레이터 Function\n",
    "# 응용예제, ID, PW 확인\n",
    "\n",
    "def check_password_2(func):\n",
    "    def wrapper(*args, **kwargs):\n",
    "        print('Hello Welcome to PYLOTTO!')\n",
    "        datas = [\n",
    "            {'id':'kimdingko'},\n",
    "            {'pw':'1234'}\n",
    "        ]\n",
    "        # check password\n",
    "        input_id = input('insert id : ')\n",
    "        input_pw = input('insert pw : ')\n",
    "        \n",
    "        if input_id == datas[0]['id'] and input_pw == datas[1]['pw']:\n",
    "            result = func(*args, **kwargs)\n",
    "        else:\n",
    "            result = 'not allow!'\n",
    "        return result\n",
    "    return wrapper\n",
    "\n"
   ]
  },
  {
   "cell_type": "code",
   "execution_count": 274,
   "id": "durable-degree",
   "metadata": {
    "ExecuteTime": {
     "end_time": "2021-06-30T12:06:39.244123Z",
     "start_time": "2021-06-30T12:06:34.641857Z"
    }
   },
   "outputs": [
    {
     "name": "stdout",
     "output_type": "stream",
     "text": [
      "Hello Welcome to PYLOTTO!\n",
      "insert id : kimdingko\n",
      "insert pw : 1234\n"
     ]
    },
    {
     "data": {
      "text/plain": [
       "[4, 13, 33, 35, 42, 44]"
      ]
     },
     "execution_count": 274,
     "metadata": {},
     "output_type": "execute_result"
    }
   ],
   "source": [
    "@check_password_2\n",
    "def lotto_func():\n",
    "    lotto = []\n",
    "    while True:\n",
    "        number = random.randint(1, 45)\n",
    "        if number not in lotto:\n",
    "            lotto.append(number)\n",
    "        if len(lotto) >= 6:\n",
    "            lotto.sort()\n",
    "            break\n",
    "    return lotto\n",
    "\n",
    "lotto_func()"
   ]
  },
  {
   "cell_type": "code",
   "execution_count": null,
   "id": "consistent-discount",
   "metadata": {},
   "outputs": [],
   "source": []
  }
 ],
 "metadata": {
  "kernelspec": {
   "display_name": "Python 3",
   "language": "python",
   "name": "python3"
  },
  "language_info": {
   "codemirror_mode": {
    "name": "ipython",
    "version": 3
   },
   "file_extension": ".py",
   "mimetype": "text/x-python",
   "name": "python",
   "nbconvert_exporter": "python",
   "pygments_lexer": "ipython3",
   "version": "3.7.10"
  },
  "nbTranslate": {
   "displayLangs": [
    "*"
   ],
   "hotkey": "alt-t",
   "langInMainMenu": true,
   "sourceLang": "en",
   "targetLang": "fr",
   "useGoogleTranslate": true
  },
  "toc": {
   "base_numbering": 1,
   "nav_menu": {},
   "number_sections": true,
   "sideBar": true,
   "skip_h1_title": false,
   "title_cell": "Table of Contents",
   "title_sidebar": "Contents",
   "toc_cell": false,
   "toc_position": {},
   "toc_section_display": true,
   "toc_window_display": false
  },
  "varInspector": {
   "cols": {
    "lenName": 16,
    "lenType": 16,
    "lenVar": 40
   },
   "kernels_config": {
    "python": {
     "delete_cmd_postfix": "",
     "delete_cmd_prefix": "del ",
     "library": "var_list.py",
     "varRefreshCmd": "print(var_dic_list())"
    },
    "r": {
     "delete_cmd_postfix": ") ",
     "delete_cmd_prefix": "rm(",
     "library": "var_list.r",
     "varRefreshCmd": "cat(var_dic_list()) "
    }
   },
   "types_to_exclude": [
    "module",
    "function",
    "builtin_function_or_method",
    "instance",
    "_Feature"
   ],
   "window_display": false
  }
 },
 "nbformat": 4,
 "nbformat_minor": 5
}
