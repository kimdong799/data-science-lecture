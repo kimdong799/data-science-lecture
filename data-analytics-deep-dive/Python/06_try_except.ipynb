{
 "cells": [
  {
   "cell_type": "markdown",
   "id": "corporate-sixth",
   "metadata": {},
   "source": [
    "### 예외처리\n",
    "- 코드를 실행중에 에러가 발생한 경우 에러를 처리하는 방법\n",
    "- try, except, finally, raise"
   ]
  },
  {
   "cell_type": "code",
   "execution_count": 1,
   "id": "cognitive-reflection",
   "metadata": {
    "ExecuteTime": {
     "end_time": "2021-07-02T05:35:26.553772Z",
     "start_time": "2021-07-02T05:35:26.491975Z"
    }
   },
   "outputs": [
    {
     "ename": "IndexError",
     "evalue": "list index out of range",
     "output_type": "error",
     "traceback": [
      "\u001b[1;31m---------------------------------------------------------------------------\u001b[0m",
      "\u001b[1;31mIndexError\u001b[0m                                Traceback (most recent call last)",
      "\u001b[1;32m<ipython-input-1-21eab21cf4e6>\u001b[0m in \u001b[0;36m<module>\u001b[1;34m\u001b[0m\n\u001b[0;32m      2\u001b[0m \u001b[0mls\u001b[0m \u001b[1;33m=\u001b[0m \u001b[1;33m[\u001b[0m\u001b[1;36m1\u001b[0m\u001b[1;33m,\u001b[0m \u001b[1;36m2\u001b[0m\u001b[1;33m,\u001b[0m \u001b[1;36m3\u001b[0m\u001b[1;33m]\u001b[0m\u001b[1;33m\u001b[0m\u001b[1;33m\u001b[0m\u001b[0m\n\u001b[0;32m      3\u001b[0m \u001b[1;33m\u001b[0m\u001b[0m\n\u001b[1;32m----> 4\u001b[1;33m \u001b[0mprint\u001b[0m\u001b[1;33m(\u001b[0m\u001b[0mls\u001b[0m\u001b[1;33m[\u001b[0m\u001b[1;36m3\u001b[0m\u001b[1;33m]\u001b[0m\u001b[1;33m)\u001b[0m\u001b[1;33m\u001b[0m\u001b[1;33m\u001b[0m\u001b[0m\n\u001b[0m\u001b[0;32m      5\u001b[0m \u001b[0mprint\u001b[0m\u001b[1;33m(\u001b[0m\u001b[1;34m'done'\u001b[0m\u001b[1;33m)\u001b[0m\u001b[1;33m\u001b[0m\u001b[1;33m\u001b[0m\u001b[0m\n",
      "\u001b[1;31mIndexError\u001b[0m: list index out of range"
     ]
    }
   ],
   "source": [
    "# try, except\n",
    "ls = [1, 2, 3]\n",
    "\n",
    "print(ls[3])\n",
    "print('done')"
   ]
  },
  {
   "cell_type": "markdown",
   "id": "alpine-active",
   "metadata": {},
   "source": [
    "리스트의 마지막 index가 2번인데 3을 입력해서 에러가 난 경우"
   ]
  },
  {
   "cell_type": "markdown",
   "id": "desirable-zoning",
   "metadata": {},
   "source": [
    "이렇게 에러가 발생해도 코드가 동작하도록 하는 경우 예외처리 로직 작성"
   ]
  },
  {
   "cell_type": "code",
   "execution_count": 2,
   "id": "deadly-luther",
   "metadata": {
    "ExecuteTime": {
     "end_time": "2021-07-02T05:37:14.175151Z",
     "start_time": "2021-07-02T05:37:14.170166Z"
    }
   },
   "outputs": [
    {
     "name": "stdout",
     "output_type": "stream",
     "text": [
      "error\n",
      "list index out of range\n",
      "done\n"
     ]
    }
   ],
   "source": [
    "try:\n",
    "    print(ls[3])\n",
    "except Exception as e:\n",
    "    print('error')\n",
    "    print(e)\n",
    "print('done')  "
   ]
  },
  {
   "cell_type": "markdown",
   "id": "absolute-replica",
   "metadata": {},
   "source": [
    "코드 수행이 완료되고 에러가 발생한 부분을 출력"
   ]
  },
  {
   "cell_type": "code",
   "execution_count": 3,
   "id": "early-bolivia",
   "metadata": {
    "ExecuteTime": {
     "end_time": "2021-07-02T05:39:05.077167Z",
     "start_time": "2021-07-02T05:39:05.063491Z"
    }
   },
   "outputs": [
    {
     "name": "stdout",
     "output_type": "stream",
     "text": [
      "error\n",
      "done\n"
     ]
    }
   ],
   "source": [
    "# finally : try, except 구문실행 된 후 finally 구문이 실행\n",
    "# 에러가 발생해도 실행되고 에러가 발생하지 않아도 실행된다.\n",
    "\n",
    "try:\n",
    "    1/0\n",
    "except:\n",
    "    print('error')\n",
    "finally:\n",
    "    print('done')"
   ]
  },
  {
   "cell_type": "markdown",
   "id": "based-haiti",
   "metadata": {},
   "source": [
    "예를들어 try에 DB 접속 로직을 작성하면 DB접속 객체가 생성되는데 중간에 에러가 발생하면 Except 구문으로 이동.\n",
    "\n",
    "그러면 DB에 접속한 객체는 계속 살아있기에 자원을 사용하고 있다.\n",
    "\n",
    "그런데 에러가 발생하든 하지 않든 DB 접속 객체를 닫아 컴퓨터 자원을 확보하기 위한 경우 finally 구문을 사용할 수 있다."
   ]
  },
  {
   "cell_type": "code",
   "execution_count": 4,
   "id": "oriental-friendship",
   "metadata": {
    "ExecuteTime": {
     "end_time": "2021-07-02T05:41:24.023754Z",
     "start_time": "2021-07-02T05:41:24.009890Z"
    }
   },
   "outputs": [
    {
     "name": "stdout",
     "output_type": "stream",
     "text": [
      "error\n"
     ]
    },
    {
     "ename": "ZeroDivisionError",
     "evalue": "division by zero",
     "output_type": "error",
     "traceback": [
      "\u001b[1;31m---------------------------------------------------------------------------\u001b[0m",
      "\u001b[1;31mZeroDivisionError\u001b[0m                         Traceback (most recent call last)",
      "\u001b[1;32m<ipython-input-4-3433448fd261>\u001b[0m in \u001b[0;36m<module>\u001b[1;34m\u001b[0m\n\u001b[0;32m      6\u001b[0m     \u001b[0mprint\u001b[0m\u001b[1;33m(\u001b[0m\u001b[1;34m'error'\u001b[0m\u001b[1;33m)\u001b[0m\u001b[1;33m\u001b[0m\u001b[1;33m\u001b[0m\u001b[0m\n\u001b[0;32m      7\u001b[0m \u001b[1;33m\u001b[0m\u001b[0m\n\u001b[1;32m----> 8\u001b[1;33m     \u001b[1;32mraise\u001b[0m\u001b[1;33m(\u001b[0m\u001b[0me\u001b[0m\u001b[1;33m)\u001b[0m\u001b[1;33m\u001b[0m\u001b[1;33m\u001b[0m\u001b[0m\n\u001b[0m\u001b[0;32m      9\u001b[0m \u001b[1;33m\u001b[0m\u001b[0m\n\u001b[0;32m     10\u001b[0m \u001b[0mprint\u001b[0m\u001b[1;33m(\u001b[0m\u001b[1;34m'done'\u001b[0m\u001b[1;33m)\u001b[0m\u001b[1;33m\u001b[0m\u001b[1;33m\u001b[0m\u001b[0m\n",
      "\u001b[1;32m<ipython-input-4-3433448fd261>\u001b[0m in \u001b[0;36m<module>\u001b[1;34m\u001b[0m\n\u001b[0;32m      2\u001b[0m \u001b[1;33m\u001b[0m\u001b[0m\n\u001b[0;32m      3\u001b[0m \u001b[1;32mtry\u001b[0m\u001b[1;33m:\u001b[0m\u001b[1;33m\u001b[0m\u001b[1;33m\u001b[0m\u001b[0m\n\u001b[1;32m----> 4\u001b[1;33m     \u001b[1;36m1\u001b[0m\u001b[1;33m/\u001b[0m\u001b[1;36m0\u001b[0m\u001b[1;33m\u001b[0m\u001b[1;33m\u001b[0m\u001b[0m\n\u001b[0m\u001b[0;32m      5\u001b[0m \u001b[1;32mexcept\u001b[0m \u001b[0mException\u001b[0m \u001b[1;32mas\u001b[0m \u001b[0me\u001b[0m\u001b[1;33m:\u001b[0m\u001b[1;33m\u001b[0m\u001b[1;33m\u001b[0m\u001b[0m\n\u001b[0;32m      6\u001b[0m     \u001b[0mprint\u001b[0m\u001b[1;33m(\u001b[0m\u001b[1;34m'error'\u001b[0m\u001b[1;33m)\u001b[0m\u001b[1;33m\u001b[0m\u001b[1;33m\u001b[0m\u001b[0m\n",
      "\u001b[1;31mZeroDivisionError\u001b[0m: division by zero"
     ]
    }
   ],
   "source": [
    "# raise : 강제로 에러를 발생시키는 명령\n",
    "\n",
    "try:\n",
    "    1/0\n",
    "except Exception as e:\n",
    "    print('error')\n",
    "    \n",
    "    raise(e) # 에러 강제 발생\n",
    "    \n",
    "print('done') # 출력되지 않음"
   ]
  },
  {
   "cell_type": "code",
   "execution_count": 5,
   "id": "finished-personal",
   "metadata": {
    "ExecuteTime": {
     "end_time": "2021-07-02T05:42:49.317840Z",
     "start_time": "2021-07-02T05:42:49.300885Z"
    }
   },
   "outputs": [],
   "source": [
    "# 에러 생성 : 10이상의 숫자가 입력되도록 하는 에러\n",
    "# Lownumber"
   ]
  },
  {
   "cell_type": "code",
   "execution_count": 6,
   "id": "crucial-preserve",
   "metadata": {
    "ExecuteTime": {
     "end_time": "2021-07-02T05:43:58.102949Z",
     "start_time": "2021-07-02T05:43:58.095969Z"
    }
   },
   "outputs": [],
   "source": [
    "class Lownumber(Exception):\n",
    "    \n",
    "    def __str__(self):\n",
    "        return 'Number greater than 10'"
   ]
  },
  {
   "cell_type": "code",
   "execution_count": 11,
   "id": "animal-extreme",
   "metadata": {
    "ExecuteTime": {
     "end_time": "2021-07-02T05:45:17.312274Z",
     "start_time": "2021-07-02T05:45:17.293357Z"
    }
   },
   "outputs": [],
   "source": [
    "# input_number가 10 이하인 경우 위에서 작성한 에러를 발생\n",
    "\n",
    "def input_number(num):\n",
    "    if num <= 10:\n",
    "        raise Lownumber()\n",
    "    print(num)"
   ]
  },
  {
   "cell_type": "code",
   "execution_count": 12,
   "id": "amber-transportation",
   "metadata": {
    "ExecuteTime": {
     "end_time": "2021-07-02T05:45:17.450020Z",
     "start_time": "2021-07-02T05:45:17.427115Z"
    }
   },
   "outputs": [
    {
     "ename": "Lownumber",
     "evalue": "Number greater than 10",
     "output_type": "error",
     "traceback": [
      "\u001b[1;31m---------------------------------------------------------------------------\u001b[0m",
      "\u001b[1;31mLownumber\u001b[0m                                 Traceback (most recent call last)",
      "\u001b[1;32m<ipython-input-12-8684a0e33c0b>\u001b[0m in \u001b[0;36m<module>\u001b[1;34m\u001b[0m\n\u001b[1;32m----> 1\u001b[1;33m \u001b[0minput_number\u001b[0m\u001b[1;33m(\u001b[0m\u001b[1;36m8\u001b[0m\u001b[1;33m)\u001b[0m\u001b[1;33m\u001b[0m\u001b[1;33m\u001b[0m\u001b[0m\n\u001b[0m",
      "\u001b[1;32m<ipython-input-11-2ea45706e66d>\u001b[0m in \u001b[0;36minput_number\u001b[1;34m(num)\u001b[0m\n\u001b[0;32m      3\u001b[0m \u001b[1;32mdef\u001b[0m \u001b[0minput_number\u001b[0m\u001b[1;33m(\u001b[0m\u001b[0mnum\u001b[0m\u001b[1;33m)\u001b[0m\u001b[1;33m:\u001b[0m\u001b[1;33m\u001b[0m\u001b[1;33m\u001b[0m\u001b[0m\n\u001b[0;32m      4\u001b[0m     \u001b[1;32mif\u001b[0m \u001b[0mnum\u001b[0m \u001b[1;33m<=\u001b[0m \u001b[1;36m10\u001b[0m\u001b[1;33m:\u001b[0m\u001b[1;33m\u001b[0m\u001b[1;33m\u001b[0m\u001b[0m\n\u001b[1;32m----> 5\u001b[1;33m         \u001b[1;32mraise\u001b[0m \u001b[0mLownumber\u001b[0m\u001b[1;33m(\u001b[0m\u001b[1;33m)\u001b[0m\u001b[1;33m\u001b[0m\u001b[1;33m\u001b[0m\u001b[0m\n\u001b[0m\u001b[0;32m      6\u001b[0m     \u001b[0mprint\u001b[0m\u001b[1;33m(\u001b[0m\u001b[0mnum\u001b[0m\u001b[1;33m)\u001b[0m\u001b[1;33m\u001b[0m\u001b[1;33m\u001b[0m\u001b[0m\n",
      "\u001b[1;31mLownumber\u001b[0m: Number greater than 10"
     ]
    }
   ],
   "source": [
    "input_number(8)"
   ]
  },
  {
   "cell_type": "code",
   "execution_count": null,
   "id": "contemporary-frank",
   "metadata": {},
   "outputs": [],
   "source": []
  }
 ],
 "metadata": {
  "kernelspec": {
   "display_name": "Python 3",
   "language": "python",
   "name": "python3"
  },
  "language_info": {
   "codemirror_mode": {
    "name": "ipython",
    "version": 3
   },
   "file_extension": ".py",
   "mimetype": "text/x-python",
   "name": "python",
   "nbconvert_exporter": "python",
   "pygments_lexer": "ipython3",
   "version": "3.7.10"
  },
  "nbTranslate": {
   "displayLangs": [
    "*"
   ],
   "hotkey": "alt-t",
   "langInMainMenu": true,
   "sourceLang": "en",
   "targetLang": "fr",
   "useGoogleTranslate": true
  },
  "varInspector": {
   "cols": {
    "lenName": 16,
    "lenType": 16,
    "lenVar": 40
   },
   "kernels_config": {
    "python": {
     "delete_cmd_postfix": "",
     "delete_cmd_prefix": "del ",
     "library": "var_list.py",
     "varRefreshCmd": "print(var_dic_list())"
    },
    "r": {
     "delete_cmd_postfix": ") ",
     "delete_cmd_prefix": "rm(",
     "library": "var_list.r",
     "varRefreshCmd": "cat(var_dic_list()) "
    }
   },
   "types_to_exclude": [
    "module",
    "function",
    "builtin_function_or_method",
    "instance",
    "_Feature"
   ],
   "window_display": false
  }
 },
 "nbformat": 4,
 "nbformat_minor": 5
}
