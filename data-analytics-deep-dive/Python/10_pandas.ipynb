{
 "cells": [
  {
   "cell_type": "markdown",
   "id": "occupational-empire",
   "metadata": {},
   "source": [
    "### Pandas\n",
    "    - 데이터 분석을 위한 사용이 쉽고 성능이 좋은 오픈소스 python 라이브러리\n",
    "    - R과 Pandas의 특징\n",
    "        - R보다 Pandas가 학습이 쉽다.\n",
    "        - R보다 Pandas가 성능이 좋다.\n",
    "        - R보다 python은 활용할 수 있는 분야가 많다.\n",
    "    - 크게 두가지 데이터 타입을 사용\n",
    "        - Series : index와 value로 이루어진 데이터 타입\n",
    "        - DataFrame : index, column, value로 이루어진 데이터 타입"
   ]
  },
  {
   "cell_type": "markdown",
   "id": "bright-choice",
   "metadata": {},
   "source": [
    "### 1. Series\n",
    "   - 동일한 데이터 타입의 값을 갖는다."
   ]
  },
  {
   "cell_type": "code",
   "execution_count": 14,
   "id": "endangered-president",
   "metadata": {
    "ExecuteTime": {
     "end_time": "2021-07-06T07:15:05.622569Z",
     "start_time": "2021-07-06T07:15:05.616585Z"
    }
   },
   "outputs": [
    {
     "data": {
      "text/plain": [
       "0    9\n",
       "1    3\n",
       "2    1\n",
       "3    1\n",
       "4    4\n",
       "dtype: int32"
      ]
     },
     "execution_count": 14,
     "metadata": {},
     "output_type": "execute_result"
    }
   ],
   "source": [
    "# Series : value만 설정하면 index는 0부터 자동으로 설정됨\n",
    "data = pd.Series(np.random.randint(10, size=5))\n",
    "data"
   ]
  },
  {
   "cell_type": "code",
   "execution_count": 16,
   "id": "composite-bandwidth",
   "metadata": {
    "ExecuteTime": {
     "end_time": "2021-07-06T07:19:55.313699Z",
     "start_time": "2021-07-06T07:19:55.294752Z"
    }
   },
   "outputs": [
    {
     "data": {
      "text/plain": [
       "A    0\n",
       "B    2\n",
       "C    2\n",
       "D    4\n",
       "E    0\n",
       "dtype: int32"
      ]
     },
     "execution_count": 16,
     "metadata": {},
     "output_type": "execute_result"
    }
   ],
   "source": [
    "# index 설정\n",
    "data = pd.Series(np.random.randint(10, size=5),\n",
    "                index = list('ABCDE'))\n",
    "\n",
    "data"
   ]
  },
  {
   "cell_type": "code",
   "execution_count": 17,
   "id": "trying-hazard",
   "metadata": {
    "ExecuteTime": {
     "end_time": "2021-07-06T07:20:11.273679Z",
     "start_time": "2021-07-06T07:20:11.265700Z"
    }
   },
   "outputs": [
    {
     "data": {
      "text/plain": [
       "(Index(['A', 'B', 'C', 'D', 'E'], dtype='object'), array([0, 2, 2, 4, 0]))"
      ]
     },
     "execution_count": 17,
     "metadata": {},
     "output_type": "execute_result"
    }
   ],
   "source": [
    "# index, value 확인\n",
    "\n",
    "data.index, data.values"
   ]
  },
  {
   "cell_type": "code",
   "execution_count": 18,
   "id": "timely-medium",
   "metadata": {
    "ExecuteTime": {
     "end_time": "2021-07-06T07:20:24.458728Z",
     "start_time": "2021-07-06T07:20:24.445759Z"
    }
   },
   "outputs": [
    {
     "data": {
      "text/plain": [
       "2"
      ]
     },
     "execution_count": 18,
     "metadata": {},
     "output_type": "execute_result"
    }
   ],
   "source": [
    "# 인덱싱\n",
    "\n",
    "data['B']"
   ]
  },
  {
   "cell_type": "code",
   "execution_count": 19,
   "id": "induced-magnet",
   "metadata": {
    "ExecuteTime": {
     "end_time": "2021-07-06T07:20:32.260696Z",
     "start_time": "2021-07-06T07:20:32.240882Z"
    }
   },
   "outputs": [
    {
     "data": {
      "text/plain": [
       "A      0\n",
       "B      2\n",
       "C    999\n",
       "D      4\n",
       "E      0\n",
       "dtype: int32"
      ]
     },
     "execution_count": 19,
     "metadata": {},
     "output_type": "execute_result"
    }
   ],
   "source": [
    "data['C'] = 999\n",
    "data"
   ]
  },
  {
   "cell_type": "code",
   "execution_count": 20,
   "id": "pressing-apache",
   "metadata": {
    "ExecuteTime": {
     "end_time": "2021-07-06T07:20:48.489771Z",
     "start_time": "2021-07-06T07:20:48.457883Z"
    }
   },
   "outputs": [
    {
     "data": {
      "text/plain": [
       "A       0\n",
       "B      20\n",
       "C    9990\n",
       "D      40\n",
       "E       0\n",
       "dtype: int32"
      ]
     },
     "execution_count": 20,
     "metadata": {},
     "output_type": "execute_result"
    }
   ],
   "source": [
    "# 브로드캐스팅\n",
    "\n",
    "data * 10"
   ]
  },
  {
   "cell_type": "code",
   "execution_count": 21,
   "id": "italic-pierre",
   "metadata": {
    "ExecuteTime": {
     "end_time": "2021-07-06T07:21:04.153397Z",
     "start_time": "2021-07-06T07:21:04.135492Z"
    }
   },
   "outputs": [
    {
     "data": {
      "text/plain": [
       "C    999\n",
       "E      0\n",
       "dtype: int32"
      ]
     },
     "execution_count": 21,
     "metadata": {},
     "output_type": "execute_result"
    }
   ],
   "source": [
    "# offset index\n",
    "\n",
    "data[2::2]"
   ]
  },
  {
   "cell_type": "code",
   "execution_count": 22,
   "id": "appreciated-marks",
   "metadata": {
    "ExecuteTime": {
     "end_time": "2021-07-06T07:21:09.039780Z",
     "start_time": "2021-07-06T07:21:09.030839Z"
    }
   },
   "outputs": [
    {
     "data": {
      "text/plain": [
       "E      0\n",
       "D      4\n",
       "C    999\n",
       "B      2\n",
       "A      0\n",
       "dtype: int32"
      ]
     },
     "execution_count": 22,
     "metadata": {},
     "output_type": "execute_result"
    }
   ],
   "source": [
    "data[::-1]"
   ]
  },
  {
   "cell_type": "code",
   "execution_count": 23,
   "id": "driving-throat",
   "metadata": {
    "ExecuteTime": {
     "end_time": "2021-07-06T07:21:38.352253Z",
     "start_time": "2021-07-06T07:21:38.334699Z"
    }
   },
   "outputs": [
    {
     "data": {
      "text/plain": [
       "D    3\n",
       "E    5\n",
       "F    7\n",
       "dtype: int64"
      ]
     },
     "execution_count": 23,
     "metadata": {},
     "output_type": "execute_result"
    }
   ],
   "source": [
    "data2 = pd.Series({'D':3, 'E':5, 'F':7})\n",
    "data2"
   ]
  },
  {
   "cell_type": "code",
   "execution_count": 25,
   "id": "about-worry",
   "metadata": {
    "ExecuteTime": {
     "end_time": "2021-07-06T07:21:58.462934Z",
     "start_time": "2021-07-06T07:21:58.443015Z"
    }
   },
   "outputs": [
    {
     "data": {
      "text/plain": [
       "A    NaN\n",
       "B    NaN\n",
       "C    NaN\n",
       "D    7.0\n",
       "E    5.0\n",
       "F    NaN\n",
       "dtype: float64"
      ]
     },
     "execution_count": 25,
     "metadata": {},
     "output_type": "execute_result"
    }
   ],
   "source": [
    "# index가 맞지 않는 value는 Null 반환\n",
    "\n",
    "result = data + data2\n",
    "result"
   ]
  },
  {
   "cell_type": "code",
   "execution_count": 26,
   "id": "following-utility",
   "metadata": {
    "ExecuteTime": {
     "end_time": "2021-07-06T07:22:16.420386Z",
     "start_time": "2021-07-06T07:22:16.393952Z"
    }
   },
   "outputs": [
    {
     "data": {
      "text/plain": [
       "A      0.0\n",
       "B      2.0\n",
       "C    999.0\n",
       "D      7.0\n",
       "E      5.0\n",
       "F      NaN\n",
       "dtype: float64"
      ]
     },
     "execution_count": 26,
     "metadata": {},
     "output_type": "execute_result"
    }
   ],
   "source": [
    "result[result.isnull()] = data\n",
    "result"
   ]
  },
  {
   "cell_type": "code",
   "execution_count": 27,
   "id": "devoted-february",
   "metadata": {
    "ExecuteTime": {
     "end_time": "2021-07-06T07:22:43.041946Z",
     "start_time": "2021-07-06T07:22:43.024448Z"
    }
   },
   "outputs": [
    {
     "data": {
      "text/plain": [
       "F   NaN\n",
       "dtype: float64"
      ]
     },
     "execution_count": 27,
     "metadata": {},
     "output_type": "execute_result"
    }
   ],
   "source": [
    "result[result.isnull()]"
   ]
  },
  {
   "cell_type": "code",
   "execution_count": 28,
   "id": "laden-documentation",
   "metadata": {
    "ExecuteTime": {
     "end_time": "2021-07-06T07:22:53.686704Z",
     "start_time": "2021-07-06T07:22:53.678725Z"
    }
   },
   "outputs": [
    {
     "data": {
      "text/plain": [
       "A      0.0\n",
       "B      2.0\n",
       "C    999.0\n",
       "D      7.0\n",
       "E      5.0\n",
       "F      7.0\n",
       "dtype: float64"
      ]
     },
     "execution_count": 28,
     "metadata": {},
     "output_type": "execute_result"
    }
   ],
   "source": [
    "result[result.isnull()] = data2\n",
    "result"
   ]
  },
  {
   "cell_type": "markdown",
   "id": "legislative-painting",
   "metadata": {},
   "source": [
    "### 2. DataFrame\n",
    "   - 데이터 프레임은 복수의 Series로 구성\n",
    "   - 같은 컬럼에 있는 value 값은 같은 데이터 타입을 갖는다."
   ]
  },
  {
   "cell_type": "code",
   "execution_count": 30,
   "id": "charming-interval",
   "metadata": {
    "ExecuteTime": {
     "end_time": "2021-07-06T07:25:04.922178Z",
     "start_time": "2021-07-06T07:25:04.908190Z"
    }
   },
   "outputs": [
    {
     "data": {
      "text/html": [
       "<div>\n",
       "<style scoped>\n",
       "    .dataframe tbody tr th:only-of-type {\n",
       "        vertical-align: middle;\n",
       "    }\n",
       "\n",
       "    .dataframe tbody tr th {\n",
       "        vertical-align: top;\n",
       "    }\n",
       "\n",
       "    .dataframe thead th {\n",
       "        text-align: right;\n",
       "    }\n",
       "</style>\n",
       "<table border=\"1\" class=\"dataframe\">\n",
       "  <thead>\n",
       "    <tr style=\"text-align: right;\">\n",
       "      <th></th>\n",
       "      <th>name</th>\n",
       "      <th>email</th>\n",
       "    </tr>\n",
       "  </thead>\n",
       "  <tbody>\n",
       "    <tr>\n",
       "      <th>0</th>\n",
       "      <td>kim</td>\n",
       "      <td>kim@gmail.com</td>\n",
       "    </tr>\n",
       "    <tr>\n",
       "      <th>1</th>\n",
       "      <td>john</td>\n",
       "      <td>john@.yahoo.co.kr</td>\n",
       "    </tr>\n",
       "    <tr>\n",
       "      <th>2</th>\n",
       "      <td>james</td>\n",
       "      <td>james@naver.com</td>\n",
       "    </tr>\n",
       "  </tbody>\n",
       "</table>\n",
       "</div>"
      ],
      "text/plain": [
       "    name              email\n",
       "0    kim      kim@gmail.com\n",
       "1   john  john@.yahoo.co.kr\n",
       "2  james    james@naver.com"
      ]
     },
     "execution_count": 30,
     "metadata": {},
     "output_type": "execute_result"
    }
   ],
   "source": [
    "# 데이터 프레임 생성1 : 딕셔너리의 리스트\n",
    "\n",
    "datas = {\n",
    "    'name':['kim', 'john', 'james'],\n",
    "    'email':['kim@gmail.com', 'john@.yahoo.co.kr', 'james@naver.com']\n",
    "}\n",
    "\n",
    "pd.DataFrame(datas)"
   ]
  },
  {
   "cell_type": "code",
   "execution_count": 32,
   "id": "stunning-transaction",
   "metadata": {
    "ExecuteTime": {
     "end_time": "2021-07-06T07:26:25.948916Z",
     "start_time": "2021-07-06T07:26:25.928969Z"
    }
   },
   "outputs": [
    {
     "data": {
      "text/html": [
       "<div>\n",
       "<style scoped>\n",
       "    .dataframe tbody tr th:only-of-type {\n",
       "        vertical-align: middle;\n",
       "    }\n",
       "\n",
       "    .dataframe tbody tr th {\n",
       "        vertical-align: top;\n",
       "    }\n",
       "\n",
       "    .dataframe thead th {\n",
       "        text-align: right;\n",
       "    }\n",
       "</style>\n",
       "<table border=\"1\" class=\"dataframe\">\n",
       "  <thead>\n",
       "    <tr style=\"text-align: right;\">\n",
       "      <th></th>\n",
       "      <th>name</th>\n",
       "      <th>email</th>\n",
       "    </tr>\n",
       "  </thead>\n",
       "  <tbody>\n",
       "    <tr>\n",
       "      <th>0</th>\n",
       "      <td>kim</td>\n",
       "      <td>kim@gmail.com</td>\n",
       "    </tr>\n",
       "    <tr>\n",
       "      <th>1</th>\n",
       "      <td>john</td>\n",
       "      <td>john@.yahoo.co.kr</td>\n",
       "    </tr>\n",
       "    <tr>\n",
       "      <th>2</th>\n",
       "      <td>james</td>\n",
       "      <td>james@naver.com</td>\n",
       "    </tr>\n",
       "  </tbody>\n",
       "</table>\n",
       "</div>"
      ],
      "text/plain": [
       "    name              email\n",
       "0    kim      kim@gmail.com\n",
       "1   john  john@.yahoo.co.kr\n",
       "2  james    james@naver.com"
      ]
     },
     "execution_count": 32,
     "metadata": {},
     "output_type": "execute_result"
    }
   ],
   "source": [
    "# 데이터 프레임 생성2 : 리스트의 딕셔너리\n",
    "\n",
    "datas = [\n",
    "    {'name':'kim', 'email':'kim@gmail.com'},\n",
    "    {'name':'john', 'email' :'john@.yahoo.co.kr'},\n",
    "    {'name':'james', 'email' :'james@naver.com'},\n",
    "]\n",
    "\n",
    "pd.DataFrame(datas)"
   ]
  },
  {
   "cell_type": "code",
   "execution_count": 36,
   "id": "designing-matrix",
   "metadata": {
    "ExecuteTime": {
     "end_time": "2021-07-06T07:27:01.071357Z",
     "start_time": "2021-07-06T07:27:01.047973Z"
    }
   },
   "outputs": [
    {
     "data": {
      "text/html": [
       "<div>\n",
       "<style scoped>\n",
       "    .dataframe tbody tr th:only-of-type {\n",
       "        vertical-align: middle;\n",
       "    }\n",
       "\n",
       "    .dataframe tbody tr th {\n",
       "        vertical-align: top;\n",
       "    }\n",
       "\n",
       "    .dataframe thead th {\n",
       "        text-align: right;\n",
       "    }\n",
       "</style>\n",
       "<table border=\"1\" class=\"dataframe\">\n",
       "  <thead>\n",
       "    <tr style=\"text-align: right;\">\n",
       "      <th></th>\n",
       "      <th>name</th>\n",
       "      <th>email</th>\n",
       "    </tr>\n",
       "  </thead>\n",
       "  <tbody>\n",
       "    <tr>\n",
       "      <th>one</th>\n",
       "      <td>kim</td>\n",
       "      <td>kim@gmail.com</td>\n",
       "    </tr>\n",
       "    <tr>\n",
       "      <th>two</th>\n",
       "      <td>john</td>\n",
       "      <td>john@.yahoo.co.kr</td>\n",
       "    </tr>\n",
       "    <tr>\n",
       "      <th>three</th>\n",
       "      <td>james</td>\n",
       "      <td>james@naver.com</td>\n",
       "    </tr>\n",
       "  </tbody>\n",
       "</table>\n",
       "</div>"
      ],
      "text/plain": [
       "        name              email\n",
       "one      kim      kim@gmail.com\n",
       "two     john  john@.yahoo.co.kr\n",
       "three  james    james@naver.com"
      ]
     },
     "execution_count": 36,
     "metadata": {},
     "output_type": "execute_result"
    }
   ],
   "source": [
    "# 인덱스를 추가하는 방법\n",
    "\n",
    "df = pd.DataFrame(datas, index=['one', 'two', 'three'])\n",
    "df"
   ]
  },
  {
   "cell_type": "code",
   "execution_count": 38,
   "id": "mexican-birthday",
   "metadata": {
    "ExecuteTime": {
     "end_time": "2021-07-06T07:27:27.705199Z",
     "start_time": "2021-07-06T07:27:27.686252Z"
    }
   },
   "outputs": [
    {
     "data": {
      "text/plain": [
       "(Index(['one', 'two', 'three'], dtype='object'),\n",
       " Index(['name', 'email'], dtype='object'),\n",
       " array([['kim', 'kim@gmail.com'],\n",
       "        ['john', 'john@.yahoo.co.kr'],\n",
       "        ['james', 'james@naver.com']], dtype=object))"
      ]
     },
     "execution_count": 38,
     "metadata": {},
     "output_type": "execute_result"
    }
   ],
   "source": [
    "# DF의 index, columns, values\n",
    "\n",
    "df.index, df.columns, df.values"
   ]
  },
  {
   "cell_type": "code",
   "execution_count": 39,
   "id": "naval-wedding",
   "metadata": {
    "ExecuteTime": {
     "end_time": "2021-07-06T07:28:03.396266Z",
     "start_time": "2021-07-06T07:28:03.384298Z"
    }
   },
   "outputs": [],
   "source": [
    "# 데이터 프레임에서 데이터의 선택 : row, column, (row, column)"
   ]
  },
  {
   "cell_type": "code",
   "execution_count": 82,
   "id": "editorial-stopping",
   "metadata": {
    "ExecuteTime": {
     "end_time": "2021-07-06T07:37:34.021991Z",
     "start_time": "2021-07-06T07:37:33.998058Z"
    }
   },
   "outputs": [
    {
     "data": {
      "text/html": [
       "<div>\n",
       "<style scoped>\n",
       "    .dataframe tbody tr th:only-of-type {\n",
       "        vertical-align: middle;\n",
       "    }\n",
       "\n",
       "    .dataframe tbody tr th {\n",
       "        vertical-align: top;\n",
       "    }\n",
       "\n",
       "    .dataframe thead th {\n",
       "        text-align: right;\n",
       "    }\n",
       "</style>\n",
       "<table border=\"1\" class=\"dataframe\">\n",
       "  <thead>\n",
       "    <tr style=\"text-align: right;\">\n",
       "      <th></th>\n",
       "      <th>name</th>\n",
       "      <th>email</th>\n",
       "    </tr>\n",
       "  </thead>\n",
       "  <tbody>\n",
       "    <tr>\n",
       "      <th>0</th>\n",
       "      <td>kim</td>\n",
       "      <td>kim@gmail.com</td>\n",
       "    </tr>\n",
       "    <tr>\n",
       "      <th>1</th>\n",
       "      <td>john</td>\n",
       "      <td>john@yahoo.co.kr</td>\n",
       "    </tr>\n",
       "    <tr>\n",
       "      <th>2</th>\n",
       "      <td>james</td>\n",
       "      <td>james@naver.com</td>\n",
       "    </tr>\n",
       "  </tbody>\n",
       "</table>\n",
       "</div>"
      ],
      "text/plain": [
       "    name             email\n",
       "0    kim     kim@gmail.com\n",
       "1   john  john@yahoo.co.kr\n",
       "2  james   james@naver.com"
      ]
     },
     "execution_count": 82,
     "metadata": {},
     "output_type": "execute_result"
    }
   ],
   "source": [
    "# row 선택\n",
    "\n",
    "datas = {\n",
    "    'name':['kim', 'john', 'james'],\n",
    "    'email':['kim@gmail.com', 'john@yahoo.co.kr', 'james@naver.com']\n",
    "}\n",
    "\n",
    "df = pd.DataFrame(datas)\n",
    "df"
   ]
  },
  {
   "cell_type": "code",
   "execution_count": 44,
   "id": "comic-merchant",
   "metadata": {
    "ExecuteTime": {
     "end_time": "2021-07-06T07:28:55.007728Z",
     "start_time": "2021-07-06T07:28:54.990411Z"
    }
   },
   "outputs": [
    {
     "data": {
      "text/plain": [
       "'john@.yahoo.co.kr'"
      ]
     },
     "execution_count": 44,
     "metadata": {},
     "output_type": "execute_result"
    }
   ],
   "source": [
    "# loc\n",
    "\n",
    "df.loc[1]['email']"
   ]
  },
  {
   "cell_type": "code",
   "execution_count": 46,
   "id": "indoor-lighting",
   "metadata": {
    "ExecuteTime": {
     "end_time": "2021-07-06T07:29:56.245253Z",
     "start_time": "2021-07-06T07:29:56.220770Z"
    }
   },
   "outputs": [
    {
     "data": {
      "text/html": [
       "<div>\n",
       "<style scoped>\n",
       "    .dataframe tbody tr th:only-of-type {\n",
       "        vertical-align: middle;\n",
       "    }\n",
       "\n",
       "    .dataframe tbody tr th {\n",
       "        vertical-align: top;\n",
       "    }\n",
       "\n",
       "    .dataframe thead th {\n",
       "        text-align: right;\n",
       "    }\n",
       "</style>\n",
       "<table border=\"1\" class=\"dataframe\">\n",
       "  <thead>\n",
       "    <tr style=\"text-align: right;\">\n",
       "      <th></th>\n",
       "      <th>name</th>\n",
       "      <th>email</th>\n",
       "    </tr>\n",
       "  </thead>\n",
       "  <tbody>\n",
       "    <tr>\n",
       "      <th>0</th>\n",
       "      <td>kim</td>\n",
       "      <td>kim@gmail.com</td>\n",
       "    </tr>\n",
       "    <tr>\n",
       "      <th>1</th>\n",
       "      <td>john</td>\n",
       "      <td>john@.yahoo.co.kr</td>\n",
       "    </tr>\n",
       "    <tr>\n",
       "      <th>2</th>\n",
       "      <td>james</td>\n",
       "      <td>james@naver.com</td>\n",
       "    </tr>\n",
       "    <tr>\n",
       "      <th>3</th>\n",
       "      <td>andy</td>\n",
       "      <td>andy@daum.net</td>\n",
       "    </tr>\n",
       "  </tbody>\n",
       "</table>\n",
       "</div>"
      ],
      "text/plain": [
       "    name              email\n",
       "0    kim      kim@gmail.com\n",
       "1   john  john@.yahoo.co.kr\n",
       "2  james    james@naver.com\n",
       "3   andy      andy@daum.net"
      ]
     },
     "execution_count": 46,
     "metadata": {},
     "output_type": "execute_result"
    }
   ],
   "source": [
    "# index가 있으면 수정, 없으면 추가\n",
    "# loc를 이용한 row 추가\n",
    "\n",
    "df.loc[3] = {'name':'andy', 'email':'andy@daum.net'}\n",
    "df"
   ]
  },
  {
   "cell_type": "code",
   "execution_count": 47,
   "id": "architectural-credits",
   "metadata": {
    "ExecuteTime": {
     "end_time": "2021-07-06T07:30:17.066875Z",
     "start_time": "2021-07-06T07:30:17.053293Z"
    }
   },
   "outputs": [
    {
     "data": {
      "text/plain": [
       "0      kim\n",
       "1     john\n",
       "2    james\n",
       "3     andy\n",
       "Name: name, dtype: object"
      ]
     },
     "execution_count": 47,
     "metadata": {},
     "output_type": "execute_result"
    }
   ],
   "source": [
    "df['name']"
   ]
  },
  {
   "cell_type": "code",
   "execution_count": 48,
   "id": "spiritual-adoption",
   "metadata": {
    "ExecuteTime": {
     "end_time": "2021-07-06T07:30:24.529543Z",
     "start_time": "2021-07-06T07:30:24.517575Z"
    }
   },
   "outputs": [
    {
     "data": {
      "text/html": [
       "<div>\n",
       "<style scoped>\n",
       "    .dataframe tbody tr th:only-of-type {\n",
       "        vertical-align: middle;\n",
       "    }\n",
       "\n",
       "    .dataframe tbody tr th {\n",
       "        vertical-align: top;\n",
       "    }\n",
       "\n",
       "    .dataframe thead th {\n",
       "        text-align: right;\n",
       "    }\n",
       "</style>\n",
       "<table border=\"1\" class=\"dataframe\">\n",
       "  <thead>\n",
       "    <tr style=\"text-align: right;\">\n",
       "      <th></th>\n",
       "      <th>name</th>\n",
       "      <th>email</th>\n",
       "      <th>id</th>\n",
       "    </tr>\n",
       "  </thead>\n",
       "  <tbody>\n",
       "    <tr>\n",
       "      <th>0</th>\n",
       "      <td>kim</td>\n",
       "      <td>kim@gmail.com</td>\n",
       "      <td></td>\n",
       "    </tr>\n",
       "    <tr>\n",
       "      <th>1</th>\n",
       "      <td>john</td>\n",
       "      <td>john@.yahoo.co.kr</td>\n",
       "      <td></td>\n",
       "    </tr>\n",
       "    <tr>\n",
       "      <th>2</th>\n",
       "      <td>james</td>\n",
       "      <td>james@naver.com</td>\n",
       "      <td></td>\n",
       "    </tr>\n",
       "    <tr>\n",
       "      <th>3</th>\n",
       "      <td>andy</td>\n",
       "      <td>andy@daum.net</td>\n",
       "      <td></td>\n",
       "    </tr>\n",
       "  </tbody>\n",
       "</table>\n",
       "</div>"
      ],
      "text/plain": [
       "    name              email id\n",
       "0    kim      kim@gmail.com   \n",
       "1   john  john@.yahoo.co.kr   \n",
       "2  james    james@naver.com   \n",
       "3   andy      andy@daum.net   "
      ]
     },
     "execution_count": 48,
     "metadata": {},
     "output_type": "execute_result"
    }
   ],
   "source": [
    "df['id'] = ''\n",
    "df"
   ]
  },
  {
   "cell_type": "code",
   "execution_count": 50,
   "id": "dangerous-zoning",
   "metadata": {
    "ExecuteTime": {
     "end_time": "2021-07-06T07:30:37.478610Z",
     "start_time": "2021-07-06T07:30:37.455104Z"
    }
   },
   "outputs": [
    {
     "data": {
      "text/html": [
       "<div>\n",
       "<style scoped>\n",
       "    .dataframe tbody tr th:only-of-type {\n",
       "        vertical-align: middle;\n",
       "    }\n",
       "\n",
       "    .dataframe tbody tr th {\n",
       "        vertical-align: top;\n",
       "    }\n",
       "\n",
       "    .dataframe thead th {\n",
       "        text-align: right;\n",
       "    }\n",
       "</style>\n",
       "<table border=\"1\" class=\"dataframe\">\n",
       "  <thead>\n",
       "    <tr style=\"text-align: right;\">\n",
       "      <th></th>\n",
       "      <th>name</th>\n",
       "      <th>email</th>\n",
       "      <th>id</th>\n",
       "    </tr>\n",
       "  </thead>\n",
       "  <tbody>\n",
       "    <tr>\n",
       "      <th>0</th>\n",
       "      <td>kim</td>\n",
       "      <td>kim@gmail.com</td>\n",
       "      <td>1</td>\n",
       "    </tr>\n",
       "    <tr>\n",
       "      <th>1</th>\n",
       "      <td>john</td>\n",
       "      <td>john@.yahoo.co.kr</td>\n",
       "      <td>2</td>\n",
       "    </tr>\n",
       "    <tr>\n",
       "      <th>2</th>\n",
       "      <td>james</td>\n",
       "      <td>james@naver.com</td>\n",
       "      <td>3</td>\n",
       "    </tr>\n",
       "    <tr>\n",
       "      <th>3</th>\n",
       "      <td>andy</td>\n",
       "      <td>andy@daum.net</td>\n",
       "      <td>4</td>\n",
       "    </tr>\n",
       "  </tbody>\n",
       "</table>\n",
       "</div>"
      ],
      "text/plain": [
       "    name              email  id\n",
       "0    kim      kim@gmail.com   1\n",
       "1   john  john@.yahoo.co.kr   2\n",
       "2  james    james@naver.com   3\n",
       "3   andy      andy@daum.net   4"
      ]
     },
     "execution_count": 50,
     "metadata": {},
     "output_type": "execute_result"
    }
   ],
   "source": [
    "df['id'] = range(1, 5)\n",
    "df"
   ]
  },
  {
   "cell_type": "code",
   "execution_count": 51,
   "id": "finite-intranet",
   "metadata": {
    "ExecuteTime": {
     "end_time": "2021-07-06T07:30:47.521957Z",
     "start_time": "2021-07-06T07:30:47.516971Z"
    }
   },
   "outputs": [
    {
     "data": {
      "text/plain": [
       "name     object\n",
       "email    object\n",
       "id        int32\n",
       "dtype: object"
      ]
     },
     "execution_count": 51,
     "metadata": {},
     "output_type": "execute_result"
    }
   ],
   "source": [
    "df.dtypes"
   ]
  },
  {
   "cell_type": "code",
   "execution_count": 58,
   "id": "expressed-netherlands",
   "metadata": {
    "ExecuteTime": {
     "end_time": "2021-07-06T07:31:54.642342Z",
     "start_time": "2021-07-06T07:31:54.619402Z"
    }
   },
   "outputs": [
    {
     "data": {
      "text/html": [
       "<div>\n",
       "<style scoped>\n",
       "    .dataframe tbody tr th:only-of-type {\n",
       "        vertical-align: middle;\n",
       "    }\n",
       "\n",
       "    .dataframe tbody tr th {\n",
       "        vertical-align: top;\n",
       "    }\n",
       "\n",
       "    .dataframe thead th {\n",
       "        text-align: right;\n",
       "    }\n",
       "</style>\n",
       "<table border=\"1\" class=\"dataframe\">\n",
       "  <thead>\n",
       "    <tr style=\"text-align: right;\">\n",
       "      <th></th>\n",
       "      <th>email</th>\n",
       "      <th>id</th>\n",
       "    </tr>\n",
       "  </thead>\n",
       "  <tbody>\n",
       "    <tr>\n",
       "      <th>0</th>\n",
       "      <td>kim@gmail.com</td>\n",
       "      <td>1</td>\n",
       "    </tr>\n",
       "    <tr>\n",
       "      <th>2</th>\n",
       "      <td>james@naver.com</td>\n",
       "      <td>3</td>\n",
       "    </tr>\n",
       "  </tbody>\n",
       "</table>\n",
       "</div>"
      ],
      "text/plain": [
       "             email  id\n",
       "0    kim@gmail.com   1\n",
       "2  james@naver.com   3"
      ]
     },
     "execution_count": 58,
     "metadata": {},
     "output_type": "execute_result"
    }
   ],
   "source": [
    "# row, column 선택\n",
    "\n",
    "df.loc[[0, 2],['email', 'id']]"
   ]
  },
  {
   "cell_type": "code",
   "execution_count": 62,
   "id": "systematic-inspiration",
   "metadata": {
    "ExecuteTime": {
     "end_time": "2021-07-06T07:32:30.456689Z",
     "start_time": "2021-07-06T07:32:30.444720Z"
    }
   },
   "outputs": [
    {
     "data": {
      "text/html": [
       "<div>\n",
       "<style scoped>\n",
       "    .dataframe tbody tr th:only-of-type {\n",
       "        vertical-align: middle;\n",
       "    }\n",
       "\n",
       "    .dataframe tbody tr th {\n",
       "        vertical-align: top;\n",
       "    }\n",
       "\n",
       "    .dataframe thead th {\n",
       "        text-align: right;\n",
       "    }\n",
       "</style>\n",
       "<table border=\"1\" class=\"dataframe\">\n",
       "  <thead>\n",
       "    <tr style=\"text-align: right;\">\n",
       "      <th></th>\n",
       "      <th>id</th>\n",
       "      <th>email</th>\n",
       "    </tr>\n",
       "  </thead>\n",
       "  <tbody>\n",
       "    <tr>\n",
       "      <th>0</th>\n",
       "      <td>1</td>\n",
       "      <td>kim@gmail.com</td>\n",
       "    </tr>\n",
       "    <tr>\n",
       "      <th>2</th>\n",
       "      <td>3</td>\n",
       "      <td>james@naver.com</td>\n",
       "    </tr>\n",
       "  </tbody>\n",
       "</table>\n",
       "</div>"
      ],
      "text/plain": [
       "   id            email\n",
       "0   1    kim@gmail.com\n",
       "2   3  james@naver.com"
      ]
     },
     "execution_count": 62,
     "metadata": {},
     "output_type": "execute_result"
    }
   ],
   "source": [
    "# 동일한 결과\n",
    "\n",
    "df.loc[[0, 2]][['id', 'email']]"
   ]
  },
  {
   "cell_type": "code",
   "execution_count": 64,
   "id": "purple-tiffany",
   "metadata": {
    "ExecuteTime": {
     "end_time": "2021-07-06T07:33:10.161262Z",
     "start_time": "2021-07-06T07:33:10.150293Z"
    }
   },
   "outputs": [
    {
     "data": {
      "text/html": [
       "<div>\n",
       "<style scoped>\n",
       "    .dataframe tbody tr th:only-of-type {\n",
       "        vertical-align: middle;\n",
       "    }\n",
       "\n",
       "    .dataframe tbody tr th {\n",
       "        vertical-align: top;\n",
       "    }\n",
       "\n",
       "    .dataframe thead th {\n",
       "        text-align: right;\n",
       "    }\n",
       "</style>\n",
       "<table border=\"1\" class=\"dataframe\">\n",
       "  <thead>\n",
       "    <tr style=\"text-align: right;\">\n",
       "      <th></th>\n",
       "      <th>id</th>\n",
       "      <th>email</th>\n",
       "      <th>name</th>\n",
       "    </tr>\n",
       "  </thead>\n",
       "  <tbody>\n",
       "    <tr>\n",
       "      <th>0</th>\n",
       "      <td>1</td>\n",
       "      <td>kim@gmail.com</td>\n",
       "      <td>kim</td>\n",
       "    </tr>\n",
       "    <tr>\n",
       "      <th>1</th>\n",
       "      <td>2</td>\n",
       "      <td>john@.yahoo.co.kr</td>\n",
       "      <td>john</td>\n",
       "    </tr>\n",
       "    <tr>\n",
       "      <th>2</th>\n",
       "      <td>3</td>\n",
       "      <td>james@naver.com</td>\n",
       "      <td>james</td>\n",
       "    </tr>\n",
       "    <tr>\n",
       "      <th>3</th>\n",
       "      <td>4</td>\n",
       "      <td>andy@daum.net</td>\n",
       "      <td>andy</td>\n",
       "    </tr>\n",
       "  </tbody>\n",
       "</table>\n",
       "</div>"
      ],
      "text/plain": [
       "   id              email   name\n",
       "0   1      kim@gmail.com    kim\n",
       "1   2  john@.yahoo.co.kr   john\n",
       "2   3    james@naver.com  james\n",
       "3   4      andy@daum.net   andy"
      ]
     },
     "execution_count": 64,
     "metadata": {},
     "output_type": "execute_result"
    }
   ],
   "source": [
    "# 컬럼 데이터 순서 설정\n",
    "\n",
    "df[['id', 'email', 'name']]"
   ]
  },
  {
   "cell_type": "code",
   "execution_count": 65,
   "id": "surrounded-momentum",
   "metadata": {
    "ExecuteTime": {
     "end_time": "2021-07-06T07:33:43.427079Z",
     "start_time": "2021-07-06T07:33:43.415742Z"
    }
   },
   "outputs": [
    {
     "data": {
      "text/html": [
       "<div>\n",
       "<style scoped>\n",
       "    .dataframe tbody tr th:only-of-type {\n",
       "        vertical-align: middle;\n",
       "    }\n",
       "\n",
       "    .dataframe tbody tr th {\n",
       "        vertical-align: top;\n",
       "    }\n",
       "\n",
       "    .dataframe thead th {\n",
       "        text-align: right;\n",
       "    }\n",
       "</style>\n",
       "<table border=\"1\" class=\"dataframe\">\n",
       "  <thead>\n",
       "    <tr style=\"text-align: right;\">\n",
       "      <th></th>\n",
       "      <th>name</th>\n",
       "      <th>email</th>\n",
       "      <th>id</th>\n",
       "    </tr>\n",
       "  </thead>\n",
       "  <tbody>\n",
       "    <tr>\n",
       "      <th>0</th>\n",
       "      <td>kim</td>\n",
       "      <td>kim@gmail.com</td>\n",
       "      <td>1</td>\n",
       "    </tr>\n",
       "    <tr>\n",
       "      <th>1</th>\n",
       "      <td>john</td>\n",
       "      <td>john@.yahoo.co.kr</td>\n",
       "      <td>2</td>\n",
       "    </tr>\n",
       "    <tr>\n",
       "      <th>2</th>\n",
       "      <td>james</td>\n",
       "      <td>james@naver.com</td>\n",
       "      <td>3</td>\n",
       "    </tr>\n",
       "    <tr>\n",
       "      <th>3</th>\n",
       "      <td>andy</td>\n",
       "      <td>andy@daum.net</td>\n",
       "      <td>4</td>\n",
       "    </tr>\n",
       "  </tbody>\n",
       "</table>\n",
       "</div>"
      ],
      "text/plain": [
       "    name              email  id\n",
       "0    kim      kim@gmail.com   1\n",
       "1   john  john@.yahoo.co.kr   2\n",
       "2  james    james@naver.com   3\n",
       "3   andy      andy@daum.net   4"
      ]
     },
     "execution_count": 65,
     "metadata": {},
     "output_type": "execute_result"
    }
   ],
   "source": [
    "# 일부 데이터 확인\n",
    "\n",
    "df.head()"
   ]
  },
  {
   "cell_type": "code",
   "execution_count": 66,
   "id": "roman-ivory",
   "metadata": {
    "ExecuteTime": {
     "end_time": "2021-07-06T07:33:47.279945Z",
     "start_time": "2021-07-06T07:33:47.256981Z"
    }
   },
   "outputs": [
    {
     "data": {
      "text/html": [
       "<div>\n",
       "<style scoped>\n",
       "    .dataframe tbody tr th:only-of-type {\n",
       "        vertical-align: middle;\n",
       "    }\n",
       "\n",
       "    .dataframe tbody tr th {\n",
       "        vertical-align: top;\n",
       "    }\n",
       "\n",
       "    .dataframe thead th {\n",
       "        text-align: right;\n",
       "    }\n",
       "</style>\n",
       "<table border=\"1\" class=\"dataframe\">\n",
       "  <thead>\n",
       "    <tr style=\"text-align: right;\">\n",
       "      <th></th>\n",
       "      <th>name</th>\n",
       "      <th>email</th>\n",
       "      <th>id</th>\n",
       "    </tr>\n",
       "  </thead>\n",
       "  <tbody>\n",
       "    <tr>\n",
       "      <th>0</th>\n",
       "      <td>kim</td>\n",
       "      <td>kim@gmail.com</td>\n",
       "      <td>1</td>\n",
       "    </tr>\n",
       "    <tr>\n",
       "      <th>1</th>\n",
       "      <td>john</td>\n",
       "      <td>john@.yahoo.co.kr</td>\n",
       "      <td>2</td>\n",
       "    </tr>\n",
       "    <tr>\n",
       "      <th>2</th>\n",
       "      <td>james</td>\n",
       "      <td>james@naver.com</td>\n",
       "      <td>3</td>\n",
       "    </tr>\n",
       "    <tr>\n",
       "      <th>3</th>\n",
       "      <td>andy</td>\n",
       "      <td>andy@daum.net</td>\n",
       "      <td>4</td>\n",
       "    </tr>\n",
       "  </tbody>\n",
       "</table>\n",
       "</div>"
      ],
      "text/plain": [
       "    name              email  id\n",
       "0    kim      kim@gmail.com   1\n",
       "1   john  john@.yahoo.co.kr   2\n",
       "2  james    james@naver.com   3\n",
       "3   andy      andy@daum.net   4"
      ]
     },
     "execution_count": 66,
     "metadata": {},
     "output_type": "execute_result"
    }
   ],
   "source": [
    "df.tail()"
   ]
  },
  {
   "cell_type": "markdown",
   "id": "fixed-composition",
   "metadata": {},
   "source": [
    "### 3.apply 함수\n",
    "- map 함수와 비슷"
   ]
  },
  {
   "cell_type": "code",
   "execution_count": 83,
   "id": "adapted-comment",
   "metadata": {
    "ExecuteTime": {
     "end_time": "2021-07-06T07:37:38.658849Z",
     "start_time": "2021-07-06T07:37:38.644885Z"
    }
   },
   "outputs": [
    {
     "data": {
      "text/html": [
       "<div>\n",
       "<style scoped>\n",
       "    .dataframe tbody tr th:only-of-type {\n",
       "        vertical-align: middle;\n",
       "    }\n",
       "\n",
       "    .dataframe tbody tr th {\n",
       "        vertical-align: top;\n",
       "    }\n",
       "\n",
       "    .dataframe thead th {\n",
       "        text-align: right;\n",
       "    }\n",
       "</style>\n",
       "<table border=\"1\" class=\"dataframe\">\n",
       "  <thead>\n",
       "    <tr style=\"text-align: right;\">\n",
       "      <th></th>\n",
       "      <th>name</th>\n",
       "      <th>email</th>\n",
       "    </tr>\n",
       "  </thead>\n",
       "  <tbody>\n",
       "    <tr>\n",
       "      <th>0</th>\n",
       "      <td>kim</td>\n",
       "      <td>kim@gmail.com</td>\n",
       "    </tr>\n",
       "    <tr>\n",
       "      <th>1</th>\n",
       "      <td>john</td>\n",
       "      <td>john@yahoo.co.kr</td>\n",
       "    </tr>\n",
       "    <tr>\n",
       "      <th>2</th>\n",
       "      <td>james</td>\n",
       "      <td>james@naver.com</td>\n",
       "    </tr>\n",
       "  </tbody>\n",
       "</table>\n",
       "</div>"
      ],
      "text/plain": [
       "    name             email\n",
       "0    kim     kim@gmail.com\n",
       "1   john  john@yahoo.co.kr\n",
       "2  james   james@naver.com"
      ]
     },
     "execution_count": 83,
     "metadata": {},
     "output_type": "execute_result"
    }
   ],
   "source": [
    "df"
   ]
  },
  {
   "cell_type": "code",
   "execution_count": 84,
   "id": "central-bottom",
   "metadata": {
    "ExecuteTime": {
     "end_time": "2021-07-06T07:37:40.226941Z",
     "start_time": "2021-07-06T07:37:40.220980Z"
    }
   },
   "outputs": [
    {
     "data": {
      "text/plain": [
       "'gmail'"
      ]
     },
     "execution_count": 84,
     "metadata": {},
     "output_type": "execute_result"
    }
   ],
   "source": [
    "# email 컬럼에서 메일의 도메인만 가져와서 새로운 domain 컬럼을 생성\n",
    "\n",
    "def domain(email):\n",
    "    return email.split('@')[1].split('.')[0]\n",
    "\n",
    "domain(df.loc[0]['email'])"
   ]
  },
  {
   "cell_type": "code",
   "execution_count": 85,
   "id": "dirty-kentucky",
   "metadata": {
    "ExecuteTime": {
     "end_time": "2021-07-06T07:37:40.401300Z",
     "start_time": "2021-07-06T07:37:40.392323Z"
    }
   },
   "outputs": [
    {
     "data": {
      "text/plain": [
       "0    gmail\n",
       "1    yahoo\n",
       "2    naver\n",
       "Name: email, dtype: object"
      ]
     },
     "execution_count": 85,
     "metadata": {},
     "output_type": "execute_result"
    }
   ],
   "source": [
    "df['email'].apply(domain)"
   ]
  },
  {
   "cell_type": "code",
   "execution_count": 86,
   "id": "operating-teddy",
   "metadata": {
    "ExecuteTime": {
     "end_time": "2021-07-06T07:37:53.582792Z",
     "start_time": "2021-07-06T07:37:53.572288Z"
    }
   },
   "outputs": [
    {
     "data": {
      "text/html": [
       "<div>\n",
       "<style scoped>\n",
       "    .dataframe tbody tr th:only-of-type {\n",
       "        vertical-align: middle;\n",
       "    }\n",
       "\n",
       "    .dataframe tbody tr th {\n",
       "        vertical-align: top;\n",
       "    }\n",
       "\n",
       "    .dataframe thead th {\n",
       "        text-align: right;\n",
       "    }\n",
       "</style>\n",
       "<table border=\"1\" class=\"dataframe\">\n",
       "  <thead>\n",
       "    <tr style=\"text-align: right;\">\n",
       "      <th></th>\n",
       "      <th>name</th>\n",
       "      <th>email</th>\n",
       "      <th>domain</th>\n",
       "    </tr>\n",
       "  </thead>\n",
       "  <tbody>\n",
       "    <tr>\n",
       "      <th>0</th>\n",
       "      <td>kim</td>\n",
       "      <td>kim@gmail.com</td>\n",
       "      <td>gmail</td>\n",
       "    </tr>\n",
       "    <tr>\n",
       "      <th>1</th>\n",
       "      <td>john</td>\n",
       "      <td>john@yahoo.co.kr</td>\n",
       "      <td>yahoo</td>\n",
       "    </tr>\n",
       "    <tr>\n",
       "      <th>2</th>\n",
       "      <td>james</td>\n",
       "      <td>james@naver.com</td>\n",
       "      <td>naver</td>\n",
       "    </tr>\n",
       "  </tbody>\n",
       "</table>\n",
       "</div>"
      ],
      "text/plain": [
       "    name             email domain\n",
       "0    kim     kim@gmail.com  gmail\n",
       "1   john  john@yahoo.co.kr  yahoo\n",
       "2  james   james@naver.com  naver"
      ]
     },
     "execution_count": 86,
     "metadata": {},
     "output_type": "execute_result"
    }
   ],
   "source": [
    "df['domain'] = df['email'].apply(domain)\n",
    "df"
   ]
  },
  {
   "cell_type": "code",
   "execution_count": 88,
   "id": "frozen-inquiry",
   "metadata": {
    "ExecuteTime": {
     "end_time": "2021-07-06T07:38:49.173314Z",
     "start_time": "2021-07-06T07:38:49.151376Z"
    }
   },
   "outputs": [
    {
     "data": {
      "text/html": [
       "<div>\n",
       "<style scoped>\n",
       "    .dataframe tbody tr th:only-of-type {\n",
       "        vertical-align: middle;\n",
       "    }\n",
       "\n",
       "    .dataframe tbody tr th {\n",
       "        vertical-align: top;\n",
       "    }\n",
       "\n",
       "    .dataframe thead th {\n",
       "        text-align: right;\n",
       "    }\n",
       "</style>\n",
       "<table border=\"1\" class=\"dataframe\">\n",
       "  <thead>\n",
       "    <tr style=\"text-align: right;\">\n",
       "      <th></th>\n",
       "      <th>name</th>\n",
       "      <th>email</th>\n",
       "      <th>domain</th>\n",
       "    </tr>\n",
       "  </thead>\n",
       "  <tbody>\n",
       "    <tr>\n",
       "      <th>0</th>\n",
       "      <td>kim</td>\n",
       "      <td>kim@gmail.com</td>\n",
       "      <td>gmail</td>\n",
       "    </tr>\n",
       "    <tr>\n",
       "      <th>1</th>\n",
       "      <td>john</td>\n",
       "      <td>john@yahoo.co.kr</td>\n",
       "      <td>yahoo</td>\n",
       "    </tr>\n",
       "    <tr>\n",
       "      <th>2</th>\n",
       "      <td>james</td>\n",
       "      <td>james@naver.com</td>\n",
       "      <td>naver</td>\n",
       "    </tr>\n",
       "  </tbody>\n",
       "</table>\n",
       "</div>"
      ],
      "text/plain": [
       "    name             email domain\n",
       "0    kim     kim@gmail.com  gmail\n",
       "1   john  john@yahoo.co.kr  yahoo\n",
       "2  james   james@naver.com  naver"
      ]
     },
     "execution_count": 88,
     "metadata": {},
     "output_type": "execute_result"
    }
   ],
   "source": [
    "# lambda 사용 예시\n",
    "\n",
    "df['domain'] = df['email'].apply(lambda email:email.split('@')[1].split('.')[0])\n",
    "df"
   ]
  },
  {
   "cell_type": "code",
   "execution_count": 90,
   "id": "horizontal-parking",
   "metadata": {
    "ExecuteTime": {
     "end_time": "2021-07-06T07:40:48.590828Z",
     "start_time": "2021-07-06T07:40:48.583848Z"
    }
   },
   "outputs": [],
   "source": [
    "# 예제용 makedata.py 메소드 사용\n",
    "\n",
    "from makedata import *"
   ]
  },
  {
   "cell_type": "code",
   "execution_count": 92,
   "id": "necessary-prefix",
   "metadata": {
    "ExecuteTime": {
     "end_time": "2021-07-06T07:41:10.374776Z",
     "start_time": "2021-07-06T07:41:10.364805Z"
    }
   },
   "outputs": [
    {
     "data": {
      "text/plain": [
       "'Billy'"
      ]
     },
     "execution_count": 92,
     "metadata": {},
     "output_type": "execute_result"
    }
   ],
   "source": [
    "get_name()"
   ]
  },
  {
   "cell_type": "code",
   "execution_count": 93,
   "id": "contrary-isaac",
   "metadata": {
    "ExecuteTime": {
     "end_time": "2021-07-06T07:41:14.111660Z",
     "start_time": "2021-07-06T07:41:14.095907Z"
    }
   },
   "outputs": [
    {
     "data": {
      "text/plain": [
       "22"
      ]
     },
     "execution_count": 93,
     "metadata": {},
     "output_type": "execute_result"
    }
   ],
   "source": [
    "get_age()"
   ]
  },
  {
   "cell_type": "code",
   "execution_count": 94,
   "id": "approved-bangladesh",
   "metadata": {
    "ExecuteTime": {
     "end_time": "2021-07-06T07:41:17.174894Z",
     "start_time": "2021-07-06T07:41:17.167917Z"
    }
   },
   "outputs": [
    {
     "data": {
      "text/plain": [
       "[{'Age': 25, 'Name': 'Jin'},\n",
       " {'Age': 27, 'Name': 'Arnold'},\n",
       " {'Age': 33, 'Name': 'Alex'},\n",
       " {'Age': 40, 'Name': 'Anchal'},\n",
       " {'Age': 30, 'Name': 'Billy'},\n",
       " {'Age': 30, 'Name': 'Alvin'},\n",
       " {'Age': 37, 'Name': 'Arnold'},\n",
       " {'Age': 40, 'Name': 'Alex'},\n",
       " {'Age': 36, 'Name': 'Arnold'},\n",
       " {'Age': 32, 'Name': 'Jin'}]"
      ]
     },
     "execution_count": 94,
     "metadata": {},
     "output_type": "execute_result"
    }
   ],
   "source": [
    "make_data()"
   ]
  },
  {
   "cell_type": "code",
   "execution_count": 96,
   "id": "becoming-escape",
   "metadata": {
    "ExecuteTime": {
     "end_time": "2021-07-06T07:41:46.975139Z",
     "start_time": "2021-07-06T07:41:46.967160Z"
    }
   },
   "outputs": [],
   "source": [
    "df1 = pd.DataFrame(make_data(5))\n",
    "df2 = pd.DataFrame(make_data(5))"
   ]
  },
  {
   "cell_type": "code",
   "execution_count": 102,
   "id": "honest-elimination",
   "metadata": {
    "ExecuteTime": {
     "end_time": "2021-07-06T07:43:20.176158Z",
     "start_time": "2021-07-06T07:43:20.153340Z"
    }
   },
   "outputs": [
    {
     "data": {
      "text/html": [
       "<div>\n",
       "<style scoped>\n",
       "    .dataframe tbody tr th:only-of-type {\n",
       "        vertical-align: middle;\n",
       "    }\n",
       "\n",
       "    .dataframe tbody tr th {\n",
       "        vertical-align: top;\n",
       "    }\n",
       "\n",
       "    .dataframe thead th {\n",
       "        text-align: right;\n",
       "    }\n",
       "</style>\n",
       "<table border=\"1\" class=\"dataframe\">\n",
       "  <thead>\n",
       "    <tr style=\"text-align: right;\">\n",
       "      <th></th>\n",
       "      <th>Age</th>\n",
       "      <th>Name</th>\n",
       "    </tr>\n",
       "  </thead>\n",
       "  <tbody>\n",
       "    <tr>\n",
       "      <th>0</th>\n",
       "      <td>37</td>\n",
       "      <td>Adam</td>\n",
       "    </tr>\n",
       "    <tr>\n",
       "      <th>1</th>\n",
       "      <td>22</td>\n",
       "      <td>Arnold</td>\n",
       "    </tr>\n",
       "    <tr>\n",
       "      <th>2</th>\n",
       "      <td>27</td>\n",
       "      <td>Billy</td>\n",
       "    </tr>\n",
       "    <tr>\n",
       "      <th>3</th>\n",
       "      <td>32</td>\n",
       "      <td>Alvin</td>\n",
       "    </tr>\n",
       "    <tr>\n",
       "      <th>4</th>\n",
       "      <td>28</td>\n",
       "      <td>Alan</td>\n",
       "    </tr>\n",
       "    <tr>\n",
       "      <th>0</th>\n",
       "      <td>31</td>\n",
       "      <td>Adam</td>\n",
       "    </tr>\n",
       "    <tr>\n",
       "      <th>1</th>\n",
       "      <td>36</td>\n",
       "      <td>Alvin</td>\n",
       "    </tr>\n",
       "    <tr>\n",
       "      <th>2</th>\n",
       "      <td>39</td>\n",
       "      <td>Alvin</td>\n",
       "    </tr>\n",
       "    <tr>\n",
       "      <th>3</th>\n",
       "      <td>26</td>\n",
       "      <td>Jin</td>\n",
       "    </tr>\n",
       "    <tr>\n",
       "      <th>4</th>\n",
       "      <td>38</td>\n",
       "      <td>Jin</td>\n",
       "    </tr>\n",
       "  </tbody>\n",
       "</table>\n",
       "</div>"
      ],
      "text/plain": [
       "   Age    Name\n",
       "0   37    Adam\n",
       "1   22  Arnold\n",
       "2   27   Billy\n",
       "3   32   Alvin\n",
       "4   28    Alan\n",
       "0   31    Adam\n",
       "1   36   Alvin\n",
       "2   39   Alvin\n",
       "3   26     Jin\n",
       "4   38     Jin"
      ]
     },
     "execution_count": 102,
     "metadata": {},
     "output_type": "execute_result"
    }
   ],
   "source": [
    "# append 데이터 프레임 합치기\n",
    "\n",
    "df3 = df1.append(df2)\n",
    "df3"
   ]
  },
  {
   "cell_type": "code",
   "execution_count": 105,
   "id": "quiet-craps",
   "metadata": {
    "ExecuteTime": {
     "end_time": "2021-07-06T07:44:01.649460Z",
     "start_time": "2021-07-06T07:44:01.636985Z"
    }
   },
   "outputs": [
    {
     "data": {
      "text/html": [
       "<div>\n",
       "<style scoped>\n",
       "    .dataframe tbody tr th:only-of-type {\n",
       "        vertical-align: middle;\n",
       "    }\n",
       "\n",
       "    .dataframe tbody tr th {\n",
       "        vertical-align: top;\n",
       "    }\n",
       "\n",
       "    .dataframe thead th {\n",
       "        text-align: right;\n",
       "    }\n",
       "</style>\n",
       "<table border=\"1\" class=\"dataframe\">\n",
       "  <thead>\n",
       "    <tr style=\"text-align: right;\">\n",
       "      <th></th>\n",
       "      <th>Age</th>\n",
       "      <th>Name</th>\n",
       "    </tr>\n",
       "  </thead>\n",
       "  <tbody>\n",
       "    <tr>\n",
       "      <th>0</th>\n",
       "      <td>37</td>\n",
       "      <td>Adam</td>\n",
       "    </tr>\n",
       "    <tr>\n",
       "      <th>1</th>\n",
       "      <td>22</td>\n",
       "      <td>Arnold</td>\n",
       "    </tr>\n",
       "    <tr>\n",
       "      <th>2</th>\n",
       "      <td>27</td>\n",
       "      <td>Billy</td>\n",
       "    </tr>\n",
       "    <tr>\n",
       "      <th>3</th>\n",
       "      <td>32</td>\n",
       "      <td>Alvin</td>\n",
       "    </tr>\n",
       "    <tr>\n",
       "      <th>4</th>\n",
       "      <td>28</td>\n",
       "      <td>Alan</td>\n",
       "    </tr>\n",
       "    <tr>\n",
       "      <th>5</th>\n",
       "      <td>31</td>\n",
       "      <td>Adam</td>\n",
       "    </tr>\n",
       "    <tr>\n",
       "      <th>6</th>\n",
       "      <td>36</td>\n",
       "      <td>Alvin</td>\n",
       "    </tr>\n",
       "    <tr>\n",
       "      <th>7</th>\n",
       "      <td>39</td>\n",
       "      <td>Alvin</td>\n",
       "    </tr>\n",
       "    <tr>\n",
       "      <th>8</th>\n",
       "      <td>26</td>\n",
       "      <td>Jin</td>\n",
       "    </tr>\n",
       "    <tr>\n",
       "      <th>9</th>\n",
       "      <td>38</td>\n",
       "      <td>Jin</td>\n",
       "    </tr>\n",
       "  </tbody>\n",
       "</table>\n",
       "</div>"
      ],
      "text/plain": [
       "   Age    Name\n",
       "0   37    Adam\n",
       "1   22  Arnold\n",
       "2   27   Billy\n",
       "3   32   Alvin\n",
       "4   28    Alan\n",
       "5   31    Adam\n",
       "6   36   Alvin\n",
       "7   39   Alvin\n",
       "8   26     Jin\n",
       "9   38     Jin"
      ]
     },
     "execution_count": 105,
     "metadata": {},
     "output_type": "execute_result"
    }
   ],
   "source": [
    "# reset_index 인덱스 재정렬\n",
    "# drop=True를 지정해 index가 컬럼으로 추가되는 것을 방지\n",
    "\n",
    "df3.reset_index(drop=True, inplace=True)\n",
    "df3"
   ]
  },
  {
   "cell_type": "code",
   "execution_count": 107,
   "id": "another-divide",
   "metadata": {
    "ExecuteTime": {
     "end_time": "2021-07-06T07:44:39.620682Z",
     "start_time": "2021-07-06T07:44:39.598680Z"
    }
   },
   "outputs": [
    {
     "data": {
      "text/html": [
       "<div>\n",
       "<style scoped>\n",
       "    .dataframe tbody tr th:only-of-type {\n",
       "        vertical-align: middle;\n",
       "    }\n",
       "\n",
       "    .dataframe tbody tr th {\n",
       "        vertical-align: top;\n",
       "    }\n",
       "\n",
       "    .dataframe thead th {\n",
       "        text-align: right;\n",
       "    }\n",
       "</style>\n",
       "<table border=\"1\" class=\"dataframe\">\n",
       "  <thead>\n",
       "    <tr style=\"text-align: right;\">\n",
       "      <th></th>\n",
       "      <th>Age</th>\n",
       "      <th>Name</th>\n",
       "    </tr>\n",
       "  </thead>\n",
       "  <tbody>\n",
       "    <tr>\n",
       "      <th>0</th>\n",
       "      <td>37</td>\n",
       "      <td>Adam</td>\n",
       "    </tr>\n",
       "    <tr>\n",
       "      <th>1</th>\n",
       "      <td>22</td>\n",
       "      <td>Arnold</td>\n",
       "    </tr>\n",
       "    <tr>\n",
       "      <th>2</th>\n",
       "      <td>27</td>\n",
       "      <td>Billy</td>\n",
       "    </tr>\n",
       "    <tr>\n",
       "      <th>3</th>\n",
       "      <td>32</td>\n",
       "      <td>Alvin</td>\n",
       "    </tr>\n",
       "    <tr>\n",
       "      <th>4</th>\n",
       "      <td>28</td>\n",
       "      <td>Alan</td>\n",
       "    </tr>\n",
       "    <tr>\n",
       "      <th>5</th>\n",
       "      <td>31</td>\n",
       "      <td>Adam</td>\n",
       "    </tr>\n",
       "    <tr>\n",
       "      <th>6</th>\n",
       "      <td>36</td>\n",
       "      <td>Alvin</td>\n",
       "    </tr>\n",
       "    <tr>\n",
       "      <th>7</th>\n",
       "      <td>39</td>\n",
       "      <td>Alvin</td>\n",
       "    </tr>\n",
       "    <tr>\n",
       "      <th>8</th>\n",
       "      <td>26</td>\n",
       "      <td>Jin</td>\n",
       "    </tr>\n",
       "    <tr>\n",
       "      <th>9</th>\n",
       "      <td>38</td>\n",
       "      <td>Jin</td>\n",
       "    </tr>\n",
       "  </tbody>\n",
       "</table>\n",
       "</div>"
      ],
      "text/plain": [
       "   Age    Name\n",
       "0   37    Adam\n",
       "1   22  Arnold\n",
       "2   27   Billy\n",
       "3   32   Alvin\n",
       "4   28    Alan\n",
       "5   31    Adam\n",
       "6   36   Alvin\n",
       "7   39   Alvin\n",
       "8   26     Jin\n",
       "9   38     Jin"
      ]
     },
     "execution_count": 107,
     "metadata": {},
     "output_type": "execute_result"
    }
   ],
   "source": [
    "# append시 ignore_index를 지정하면 된다.\n",
    "\n",
    "df1.append(df2, ignore_index=True)"
   ]
  },
  {
   "cell_type": "markdown",
   "id": "clean-mandate",
   "metadata": {},
   "source": [
    "### 5. concat\n",
    "- row나 column으로 데이터 프레임을 합칠 때 사용\n"
   ]
  },
  {
   "cell_type": "code",
   "execution_count": 108,
   "id": "numerous-match",
   "metadata": {
    "ExecuteTime": {
     "end_time": "2021-07-06T07:45:50.482717Z",
     "start_time": "2021-07-06T07:45:50.465764Z"
    }
   },
   "outputs": [
    {
     "data": {
      "text/html": [
       "<div>\n",
       "<style scoped>\n",
       "    .dataframe tbody tr th:only-of-type {\n",
       "        vertical-align: middle;\n",
       "    }\n",
       "\n",
       "    .dataframe tbody tr th {\n",
       "        vertical-align: top;\n",
       "    }\n",
       "\n",
       "    .dataframe thead th {\n",
       "        text-align: right;\n",
       "    }\n",
       "</style>\n",
       "<table border=\"1\" class=\"dataframe\">\n",
       "  <thead>\n",
       "    <tr style=\"text-align: right;\">\n",
       "      <th></th>\n",
       "      <th>Age</th>\n",
       "      <th>Name</th>\n",
       "    </tr>\n",
       "  </thead>\n",
       "  <tbody>\n",
       "    <tr>\n",
       "      <th>0</th>\n",
       "      <td>37</td>\n",
       "      <td>Adam</td>\n",
       "    </tr>\n",
       "    <tr>\n",
       "      <th>1</th>\n",
       "      <td>22</td>\n",
       "      <td>Arnold</td>\n",
       "    </tr>\n",
       "    <tr>\n",
       "      <th>2</th>\n",
       "      <td>27</td>\n",
       "      <td>Billy</td>\n",
       "    </tr>\n",
       "    <tr>\n",
       "      <th>3</th>\n",
       "      <td>32</td>\n",
       "      <td>Alvin</td>\n",
       "    </tr>\n",
       "    <tr>\n",
       "      <th>4</th>\n",
       "      <td>28</td>\n",
       "      <td>Alan</td>\n",
       "    </tr>\n",
       "    <tr>\n",
       "      <th>0</th>\n",
       "      <td>31</td>\n",
       "      <td>Adam</td>\n",
       "    </tr>\n",
       "    <tr>\n",
       "      <th>1</th>\n",
       "      <td>36</td>\n",
       "      <td>Alvin</td>\n",
       "    </tr>\n",
       "    <tr>\n",
       "      <th>2</th>\n",
       "      <td>39</td>\n",
       "      <td>Alvin</td>\n",
       "    </tr>\n",
       "    <tr>\n",
       "      <th>3</th>\n",
       "      <td>26</td>\n",
       "      <td>Jin</td>\n",
       "    </tr>\n",
       "    <tr>\n",
       "      <th>4</th>\n",
       "      <td>38</td>\n",
       "      <td>Jin</td>\n",
       "    </tr>\n",
       "  </tbody>\n",
       "</table>\n",
       "</div>"
      ],
      "text/plain": [
       "   Age    Name\n",
       "0   37    Adam\n",
       "1   22  Arnold\n",
       "2   27   Billy\n",
       "3   32   Alvin\n",
       "4   28    Alan\n",
       "0   31    Adam\n",
       "1   36   Alvin\n",
       "2   39   Alvin\n",
       "3   26     Jin\n",
       "4   38     Jin"
      ]
     },
     "execution_count": 108,
     "metadata": {},
     "output_type": "execute_result"
    }
   ],
   "source": [
    "df3 = pd.concat([df1, df2])\n",
    "df3"
   ]
  },
  {
   "cell_type": "code",
   "execution_count": 109,
   "id": "induced-sympathy",
   "metadata": {
    "ExecuteTime": {
     "end_time": "2021-07-06T07:46:10.100306Z",
     "start_time": "2021-07-06T07:46:10.080495Z"
    }
   },
   "outputs": [
    {
     "data": {
      "text/html": [
       "<div>\n",
       "<style scoped>\n",
       "    .dataframe tbody tr th:only-of-type {\n",
       "        vertical-align: middle;\n",
       "    }\n",
       "\n",
       "    .dataframe tbody tr th {\n",
       "        vertical-align: top;\n",
       "    }\n",
       "\n",
       "    .dataframe thead th {\n",
       "        text-align: right;\n",
       "    }\n",
       "</style>\n",
       "<table border=\"1\" class=\"dataframe\">\n",
       "  <thead>\n",
       "    <tr style=\"text-align: right;\">\n",
       "      <th></th>\n",
       "      <th>Age</th>\n",
       "      <th>Name</th>\n",
       "    </tr>\n",
       "  </thead>\n",
       "  <tbody>\n",
       "    <tr>\n",
       "      <th>0</th>\n",
       "      <td>37</td>\n",
       "      <td>Adam</td>\n",
       "    </tr>\n",
       "    <tr>\n",
       "      <th>1</th>\n",
       "      <td>22</td>\n",
       "      <td>Arnold</td>\n",
       "    </tr>\n",
       "    <tr>\n",
       "      <th>2</th>\n",
       "      <td>27</td>\n",
       "      <td>Billy</td>\n",
       "    </tr>\n",
       "    <tr>\n",
       "      <th>3</th>\n",
       "      <td>32</td>\n",
       "      <td>Alvin</td>\n",
       "    </tr>\n",
       "    <tr>\n",
       "      <th>4</th>\n",
       "      <td>28</td>\n",
       "      <td>Alan</td>\n",
       "    </tr>\n",
       "    <tr>\n",
       "      <th>5</th>\n",
       "      <td>31</td>\n",
       "      <td>Adam</td>\n",
       "    </tr>\n",
       "    <tr>\n",
       "      <th>6</th>\n",
       "      <td>36</td>\n",
       "      <td>Alvin</td>\n",
       "    </tr>\n",
       "    <tr>\n",
       "      <th>7</th>\n",
       "      <td>39</td>\n",
       "      <td>Alvin</td>\n",
       "    </tr>\n",
       "    <tr>\n",
       "      <th>8</th>\n",
       "      <td>26</td>\n",
       "      <td>Jin</td>\n",
       "    </tr>\n",
       "    <tr>\n",
       "      <th>9</th>\n",
       "      <td>38</td>\n",
       "      <td>Jin</td>\n",
       "    </tr>\n",
       "  </tbody>\n",
       "</table>\n",
       "</div>"
      ],
      "text/plain": [
       "   Age    Name\n",
       "0   37    Adam\n",
       "1   22  Arnold\n",
       "2   27   Billy\n",
       "3   32   Alvin\n",
       "4   28    Alan\n",
       "5   31    Adam\n",
       "6   36   Alvin\n",
       "7   39   Alvin\n",
       "8   26     Jin\n",
       "9   38     Jin"
      ]
     },
     "execution_count": 109,
     "metadata": {},
     "output_type": "execute_result"
    }
   ],
   "source": [
    "# reset_index\n",
    "\n",
    "df3 = pd.concat([df1, df2]).reset_index(drop=True)\n",
    "df3"
   ]
  },
  {
   "cell_type": "code",
   "execution_count": 110,
   "id": "identical-permit",
   "metadata": {
    "ExecuteTime": {
     "end_time": "2021-07-06T07:46:43.628632Z",
     "start_time": "2021-07-06T07:46:43.604240Z"
    }
   },
   "outputs": [
    {
     "data": {
      "text/html": [
       "<div>\n",
       "<style scoped>\n",
       "    .dataframe tbody tr th:only-of-type {\n",
       "        vertical-align: middle;\n",
       "    }\n",
       "\n",
       "    .dataframe tbody tr th {\n",
       "        vertical-align: top;\n",
       "    }\n",
       "\n",
       "    .dataframe thead th {\n",
       "        text-align: right;\n",
       "    }\n",
       "</style>\n",
       "<table border=\"1\" class=\"dataframe\">\n",
       "  <thead>\n",
       "    <tr style=\"text-align: right;\">\n",
       "      <th></th>\n",
       "      <th>Age</th>\n",
       "      <th>Name</th>\n",
       "      <th>Age</th>\n",
       "      <th>Name</th>\n",
       "    </tr>\n",
       "  </thead>\n",
       "  <tbody>\n",
       "    <tr>\n",
       "      <th>0</th>\n",
       "      <td>37</td>\n",
       "      <td>Adam</td>\n",
       "      <td>37.0</td>\n",
       "      <td>Adam</td>\n",
       "    </tr>\n",
       "    <tr>\n",
       "      <th>1</th>\n",
       "      <td>22</td>\n",
       "      <td>Arnold</td>\n",
       "      <td>22.0</td>\n",
       "      <td>Arnold</td>\n",
       "    </tr>\n",
       "    <tr>\n",
       "      <th>2</th>\n",
       "      <td>27</td>\n",
       "      <td>Billy</td>\n",
       "      <td>27.0</td>\n",
       "      <td>Billy</td>\n",
       "    </tr>\n",
       "    <tr>\n",
       "      <th>3</th>\n",
       "      <td>32</td>\n",
       "      <td>Alvin</td>\n",
       "      <td>32.0</td>\n",
       "      <td>Alvin</td>\n",
       "    </tr>\n",
       "    <tr>\n",
       "      <th>4</th>\n",
       "      <td>28</td>\n",
       "      <td>Alan</td>\n",
       "      <td>28.0</td>\n",
       "      <td>Alan</td>\n",
       "    </tr>\n",
       "    <tr>\n",
       "      <th>5</th>\n",
       "      <td>31</td>\n",
       "      <td>Adam</td>\n",
       "      <td>NaN</td>\n",
       "      <td>NaN</td>\n",
       "    </tr>\n",
       "    <tr>\n",
       "      <th>6</th>\n",
       "      <td>36</td>\n",
       "      <td>Alvin</td>\n",
       "      <td>NaN</td>\n",
       "      <td>NaN</td>\n",
       "    </tr>\n",
       "    <tr>\n",
       "      <th>7</th>\n",
       "      <td>39</td>\n",
       "      <td>Alvin</td>\n",
       "      <td>NaN</td>\n",
       "      <td>NaN</td>\n",
       "    </tr>\n",
       "    <tr>\n",
       "      <th>8</th>\n",
       "      <td>26</td>\n",
       "      <td>Jin</td>\n",
       "      <td>NaN</td>\n",
       "      <td>NaN</td>\n",
       "    </tr>\n",
       "    <tr>\n",
       "      <th>9</th>\n",
       "      <td>38</td>\n",
       "      <td>Jin</td>\n",
       "      <td>NaN</td>\n",
       "      <td>NaN</td>\n",
       "    </tr>\n",
       "  </tbody>\n",
       "</table>\n",
       "</div>"
      ],
      "text/plain": [
       "   Age    Name   Age    Name\n",
       "0   37    Adam  37.0    Adam\n",
       "1   22  Arnold  22.0  Arnold\n",
       "2   27   Billy  27.0   Billy\n",
       "3   32   Alvin  32.0   Alvin\n",
       "4   28    Alan  28.0    Alan\n",
       "5   31    Adam   NaN     NaN\n",
       "6   36   Alvin   NaN     NaN\n",
       "7   39   Alvin   NaN     NaN\n",
       "8   26     Jin   NaN     NaN\n",
       "9   38     Jin   NaN     NaN"
      ]
     },
     "execution_count": 110,
     "metadata": {},
     "output_type": "execute_result"
    }
   ],
   "source": [
    "# 가로로 합치기\n",
    "# 디폴트로 outer join 수행\n",
    "\n",
    "pd.concat([df3, df1], axis=1)"
   ]
  },
  {
   "cell_type": "code",
   "execution_count": 111,
   "id": "foster-halifax",
   "metadata": {
    "ExecuteTime": {
     "end_time": "2021-07-06T07:47:20.117506Z",
     "start_time": "2021-07-06T07:47:20.104031Z"
    }
   },
   "outputs": [
    {
     "data": {
      "text/html": [
       "<div>\n",
       "<style scoped>\n",
       "    .dataframe tbody tr th:only-of-type {\n",
       "        vertical-align: middle;\n",
       "    }\n",
       "\n",
       "    .dataframe tbody tr th {\n",
       "        vertical-align: top;\n",
       "    }\n",
       "\n",
       "    .dataframe thead th {\n",
       "        text-align: right;\n",
       "    }\n",
       "</style>\n",
       "<table border=\"1\" class=\"dataframe\">\n",
       "  <thead>\n",
       "    <tr style=\"text-align: right;\">\n",
       "      <th></th>\n",
       "      <th>Age</th>\n",
       "      <th>Name</th>\n",
       "      <th>Age</th>\n",
       "      <th>Name</th>\n",
       "    </tr>\n",
       "  </thead>\n",
       "  <tbody>\n",
       "    <tr>\n",
       "      <th>0</th>\n",
       "      <td>37</td>\n",
       "      <td>Adam</td>\n",
       "      <td>37</td>\n",
       "      <td>Adam</td>\n",
       "    </tr>\n",
       "    <tr>\n",
       "      <th>1</th>\n",
       "      <td>22</td>\n",
       "      <td>Arnold</td>\n",
       "      <td>22</td>\n",
       "      <td>Arnold</td>\n",
       "    </tr>\n",
       "    <tr>\n",
       "      <th>2</th>\n",
       "      <td>27</td>\n",
       "      <td>Billy</td>\n",
       "      <td>27</td>\n",
       "      <td>Billy</td>\n",
       "    </tr>\n",
       "    <tr>\n",
       "      <th>3</th>\n",
       "      <td>32</td>\n",
       "      <td>Alvin</td>\n",
       "      <td>32</td>\n",
       "      <td>Alvin</td>\n",
       "    </tr>\n",
       "    <tr>\n",
       "      <th>4</th>\n",
       "      <td>28</td>\n",
       "      <td>Alan</td>\n",
       "      <td>28</td>\n",
       "      <td>Alan</td>\n",
       "    </tr>\n",
       "  </tbody>\n",
       "</table>\n",
       "</div>"
      ],
      "text/plain": [
       "   Age    Name  Age    Name\n",
       "0   37    Adam   37    Adam\n",
       "1   22  Arnold   22  Arnold\n",
       "2   27   Billy   27   Billy\n",
       "3   32   Alvin   32   Alvin\n",
       "4   28    Alan   28    Alan"
      ]
     },
     "execution_count": 111,
     "metadata": {},
     "output_type": "execute_result"
    }
   ],
   "source": [
    "# join을 교집합으로 지정\n",
    "# df3, df1에서 공통으로 가진 index에 대해서만 데이터 병합을 수행\n",
    "\n",
    "pd.concat([df3, df1], axis=1, join = 'inner')"
   ]
  },
  {
   "cell_type": "markdown",
   "id": "varying-voice",
   "metadata": {},
   "source": [
    "### 6. group by\n",
    "   - 특정 컬럼의 중복되는 데이터를 합쳐 새로운 데이터 프레임을 만드는 방법"
   ]
  },
  {
   "cell_type": "code",
   "execution_count": 112,
   "id": "spread-little",
   "metadata": {
    "ExecuteTime": {
     "end_time": "2021-07-06T07:48:30.574367Z",
     "start_time": "2021-07-06T07:48:30.560405Z"
    }
   },
   "outputs": [],
   "source": [
    "df = pd.DataFrame(make_data())"
   ]
  },
  {
   "cell_type": "code",
   "execution_count": 113,
   "id": "naval-ranch",
   "metadata": {
    "ExecuteTime": {
     "end_time": "2021-07-06T07:48:31.732159Z",
     "start_time": "2021-07-06T07:48:31.721190Z"
    }
   },
   "outputs": [
    {
     "data": {
      "text/html": [
       "<div>\n",
       "<style scoped>\n",
       "    .dataframe tbody tr th:only-of-type {\n",
       "        vertical-align: middle;\n",
       "    }\n",
       "\n",
       "    .dataframe tbody tr th {\n",
       "        vertical-align: top;\n",
       "    }\n",
       "\n",
       "    .dataframe thead th {\n",
       "        text-align: right;\n",
       "    }\n",
       "</style>\n",
       "<table border=\"1\" class=\"dataframe\">\n",
       "  <thead>\n",
       "    <tr style=\"text-align: right;\">\n",
       "      <th></th>\n",
       "      <th>Age</th>\n",
       "      <th>Name</th>\n",
       "    </tr>\n",
       "  </thead>\n",
       "  <tbody>\n",
       "    <tr>\n",
       "      <th>0</th>\n",
       "      <td>35</td>\n",
       "      <td>Arnold</td>\n",
       "    </tr>\n",
       "    <tr>\n",
       "      <th>1</th>\n",
       "      <td>35</td>\n",
       "      <td>Alan</td>\n",
       "    </tr>\n",
       "    <tr>\n",
       "      <th>2</th>\n",
       "      <td>29</td>\n",
       "      <td>Anchal</td>\n",
       "    </tr>\n",
       "    <tr>\n",
       "      <th>3</th>\n",
       "      <td>37</td>\n",
       "      <td>Adam</td>\n",
       "    </tr>\n",
       "    <tr>\n",
       "      <th>4</th>\n",
       "      <td>36</td>\n",
       "      <td>Jin</td>\n",
       "    </tr>\n",
       "    <tr>\n",
       "      <th>5</th>\n",
       "      <td>40</td>\n",
       "      <td>Alan</td>\n",
       "    </tr>\n",
       "    <tr>\n",
       "      <th>6</th>\n",
       "      <td>28</td>\n",
       "      <td>Alvin</td>\n",
       "    </tr>\n",
       "    <tr>\n",
       "      <th>7</th>\n",
       "      <td>20</td>\n",
       "      <td>Jin</td>\n",
       "    </tr>\n",
       "    <tr>\n",
       "      <th>8</th>\n",
       "      <td>34</td>\n",
       "      <td>Jin</td>\n",
       "    </tr>\n",
       "    <tr>\n",
       "      <th>9</th>\n",
       "      <td>20</td>\n",
       "      <td>Alvin</td>\n",
       "    </tr>\n",
       "  </tbody>\n",
       "</table>\n",
       "</div>"
      ],
      "text/plain": [
       "   Age    Name\n",
       "0   35  Arnold\n",
       "1   35    Alan\n",
       "2   29  Anchal\n",
       "3   37    Adam\n",
       "4   36     Jin\n",
       "5   40    Alan\n",
       "6   28   Alvin\n",
       "7   20     Jin\n",
       "8   34     Jin\n",
       "9   20   Alvin"
      ]
     },
     "execution_count": 113,
     "metadata": {},
     "output_type": "execute_result"
    }
   ],
   "source": [
    "df"
   ]
  },
  {
   "cell_type": "code",
   "execution_count": 119,
   "id": "analyzed-photograph",
   "metadata": {
    "ExecuteTime": {
     "end_time": "2021-07-06T07:50:07.778402Z",
     "start_time": "2021-07-06T07:50:07.760086Z"
    }
   },
   "outputs": [
    {
     "data": {
      "text/plain": [
       "Name\n",
       "Adam      1\n",
       "Alan      2\n",
       "Alvin     2\n",
       "Anchal    1\n",
       "Arnold    1\n",
       "Jin       3\n",
       "dtype: int64"
      ]
     },
     "execution_count": 119,
     "metadata": {},
     "output_type": "execute_result"
    }
   ],
   "source": [
    "# size\n",
    "\n",
    "df.groupby('Name').size()"
   ]
  },
  {
   "cell_type": "code",
   "execution_count": 120,
   "id": "rising-width",
   "metadata": {
    "ExecuteTime": {
     "end_time": "2021-07-06T07:50:12.477596Z",
     "start_time": "2021-07-06T07:50:12.454004Z"
    }
   },
   "outputs": [
    {
     "data": {
      "text/html": [
       "<div>\n",
       "<style scoped>\n",
       "    .dataframe tbody tr th:only-of-type {\n",
       "        vertical-align: middle;\n",
       "    }\n",
       "\n",
       "    .dataframe tbody tr th {\n",
       "        vertical-align: top;\n",
       "    }\n",
       "\n",
       "    .dataframe thead th {\n",
       "        text-align: right;\n",
       "    }\n",
       "</style>\n",
       "<table border=\"1\" class=\"dataframe\">\n",
       "  <thead>\n",
       "    <tr style=\"text-align: right;\">\n",
       "      <th></th>\n",
       "      <th>Name</th>\n",
       "      <th>count</th>\n",
       "    </tr>\n",
       "  </thead>\n",
       "  <tbody>\n",
       "    <tr>\n",
       "      <th>0</th>\n",
       "      <td>Adam</td>\n",
       "      <td>1</td>\n",
       "    </tr>\n",
       "    <tr>\n",
       "      <th>1</th>\n",
       "      <td>Alan</td>\n",
       "      <td>2</td>\n",
       "    </tr>\n",
       "    <tr>\n",
       "      <th>2</th>\n",
       "      <td>Alvin</td>\n",
       "      <td>2</td>\n",
       "    </tr>\n",
       "    <tr>\n",
       "      <th>3</th>\n",
       "      <td>Anchal</td>\n",
       "      <td>1</td>\n",
       "    </tr>\n",
       "    <tr>\n",
       "      <th>4</th>\n",
       "      <td>Arnold</td>\n",
       "      <td>1</td>\n",
       "    </tr>\n",
       "    <tr>\n",
       "      <th>5</th>\n",
       "      <td>Jin</td>\n",
       "      <td>3</td>\n",
       "    </tr>\n",
       "  </tbody>\n",
       "</table>\n",
       "</div>"
      ],
      "text/plain": [
       "     Name  count\n",
       "0    Adam      1\n",
       "1    Alan      2\n",
       "2   Alvin      2\n",
       "3  Anchal      1\n",
       "4  Arnold      1\n",
       "5     Jin      3"
      ]
     },
     "execution_count": 120,
     "metadata": {},
     "output_type": "execute_result"
    }
   ],
   "source": [
    "# reset_index를 이용해 count라는 컬럼 생성\n",
    "\n",
    "df.groupby('Name').size().reset_index(name='count')"
   ]
  },
  {
   "cell_type": "code",
   "execution_count": 149,
   "id": "pressed-basin",
   "metadata": {
    "ExecuteTime": {
     "end_time": "2021-07-06T08:04:46.849982Z",
     "start_time": "2021-07-06T08:04:46.835020Z"
    }
   },
   "outputs": [
    {
     "data": {
      "text/html": [
       "<div>\n",
       "<style scoped>\n",
       "    .dataframe tbody tr th:only-of-type {\n",
       "        vertical-align: middle;\n",
       "    }\n",
       "\n",
       "    .dataframe tbody tr th {\n",
       "        vertical-align: top;\n",
       "    }\n",
       "\n",
       "    .dataframe thead th {\n",
       "        text-align: right;\n",
       "    }\n",
       "</style>\n",
       "<table border=\"1\" class=\"dataframe\">\n",
       "  <thead>\n",
       "    <tr style=\"text-align: right;\">\n",
       "      <th></th>\n",
       "      <th>Name</th>\n",
       "      <th>count</th>\n",
       "    </tr>\n",
       "  </thead>\n",
       "  <tbody>\n",
       "    <tr>\n",
       "      <th>0</th>\n",
       "      <td>Adam</td>\n",
       "      <td>1</td>\n",
       "    </tr>\n",
       "    <tr>\n",
       "      <th>3</th>\n",
       "      <td>Anchal</td>\n",
       "      <td>1</td>\n",
       "    </tr>\n",
       "    <tr>\n",
       "      <th>4</th>\n",
       "      <td>Arnold</td>\n",
       "      <td>1</td>\n",
       "    </tr>\n",
       "    <tr>\n",
       "      <th>1</th>\n",
       "      <td>Alan</td>\n",
       "      <td>2</td>\n",
       "    </tr>\n",
       "    <tr>\n",
       "      <th>2</th>\n",
       "      <td>Alvin</td>\n",
       "      <td>2</td>\n",
       "    </tr>\n",
       "    <tr>\n",
       "      <th>5</th>\n",
       "      <td>Jin</td>\n",
       "      <td>3</td>\n",
       "    </tr>\n",
       "  </tbody>\n",
       "</table>\n",
       "</div>"
      ],
      "text/plain": [
       "     Name  count\n",
       "0    Adam      1\n",
       "3  Anchal      1\n",
       "4  Arnold      1\n",
       "1    Alan      2\n",
       "2   Alvin      2\n",
       "5     Jin      3"
      ]
     },
     "execution_count": 149,
     "metadata": {},
     "output_type": "execute_result"
    }
   ],
   "source": [
    "# sort_values : 설정한 컬럼으로 데이터프레임을 정렬\n",
    "\n",
    "result = df.groupby('Name').size().reset_index(name='count')\n",
    "\n",
    "# 오름차순 정렬\n",
    "\n",
    "result.sort_values(['count'])"
   ]
  },
  {
   "cell_type": "code",
   "execution_count": 122,
   "id": "mediterranean-firewall",
   "metadata": {
    "ExecuteTime": {
     "end_time": "2021-07-06T07:51:19.419760Z",
     "start_time": "2021-07-06T07:51:19.409780Z"
    }
   },
   "outputs": [
    {
     "data": {
      "text/html": [
       "<div>\n",
       "<style scoped>\n",
       "    .dataframe tbody tr th:only-of-type {\n",
       "        vertical-align: middle;\n",
       "    }\n",
       "\n",
       "    .dataframe tbody tr th {\n",
       "        vertical-align: top;\n",
       "    }\n",
       "\n",
       "    .dataframe thead th {\n",
       "        text-align: right;\n",
       "    }\n",
       "</style>\n",
       "<table border=\"1\" class=\"dataframe\">\n",
       "  <thead>\n",
       "    <tr style=\"text-align: right;\">\n",
       "      <th></th>\n",
       "      <th>Name</th>\n",
       "      <th>count</th>\n",
       "    </tr>\n",
       "  </thead>\n",
       "  <tbody>\n",
       "    <tr>\n",
       "      <th>5</th>\n",
       "      <td>Jin</td>\n",
       "      <td>3</td>\n",
       "    </tr>\n",
       "    <tr>\n",
       "      <th>1</th>\n",
       "      <td>Alan</td>\n",
       "      <td>2</td>\n",
       "    </tr>\n",
       "    <tr>\n",
       "      <th>2</th>\n",
       "      <td>Alvin</td>\n",
       "      <td>2</td>\n",
       "    </tr>\n",
       "    <tr>\n",
       "      <th>0</th>\n",
       "      <td>Adam</td>\n",
       "      <td>1</td>\n",
       "    </tr>\n",
       "    <tr>\n",
       "      <th>3</th>\n",
       "      <td>Anchal</td>\n",
       "      <td>1</td>\n",
       "    </tr>\n",
       "    <tr>\n",
       "      <th>4</th>\n",
       "      <td>Arnold</td>\n",
       "      <td>1</td>\n",
       "    </tr>\n",
       "  </tbody>\n",
       "</table>\n",
       "</div>"
      ],
      "text/plain": [
       "     Name  count\n",
       "5     Jin      3\n",
       "1    Alan      2\n",
       "2   Alvin      2\n",
       "0    Adam      1\n",
       "3  Anchal      1\n",
       "4  Arnold      1"
      ]
     },
     "execution_count": 122,
     "metadata": {},
     "output_type": "execute_result"
    }
   ],
   "source": [
    "# 내림차순 정렬\n",
    "\n",
    "result.sort_values(['count'], ascending=False)"
   ]
  },
  {
   "cell_type": "code",
   "execution_count": 125,
   "id": "independent-chemical",
   "metadata": {
    "ExecuteTime": {
     "end_time": "2021-07-06T07:52:15.568909Z",
     "start_time": "2021-07-06T07:52:15.546113Z"
    }
   },
   "outputs": [
    {
     "data": {
      "text/html": [
       "<div>\n",
       "<style scoped>\n",
       "    .dataframe tbody tr th:only-of-type {\n",
       "        vertical-align: middle;\n",
       "    }\n",
       "\n",
       "    .dataframe tbody tr th {\n",
       "        vertical-align: top;\n",
       "    }\n",
       "\n",
       "    .dataframe thead th {\n",
       "        text-align: right;\n",
       "    }\n",
       "</style>\n",
       "<table border=\"1\" class=\"dataframe\">\n",
       "  <thead>\n",
       "    <tr style=\"text-align: right;\">\n",
       "      <th></th>\n",
       "      <th>Name</th>\n",
       "      <th>Age</th>\n",
       "    </tr>\n",
       "  </thead>\n",
       "  <tbody>\n",
       "    <tr>\n",
       "      <th>0</th>\n",
       "      <td>Adam</td>\n",
       "      <td>37</td>\n",
       "    </tr>\n",
       "    <tr>\n",
       "      <th>1</th>\n",
       "      <td>Alan</td>\n",
       "      <td>35</td>\n",
       "    </tr>\n",
       "    <tr>\n",
       "      <th>2</th>\n",
       "      <td>Alvin</td>\n",
       "      <td>20</td>\n",
       "    </tr>\n",
       "    <tr>\n",
       "      <th>3</th>\n",
       "      <td>Anchal</td>\n",
       "      <td>29</td>\n",
       "    </tr>\n",
       "    <tr>\n",
       "      <th>4</th>\n",
       "      <td>Arnold</td>\n",
       "      <td>35</td>\n",
       "    </tr>\n",
       "    <tr>\n",
       "      <th>5</th>\n",
       "      <td>Jin</td>\n",
       "      <td>20</td>\n",
       "    </tr>\n",
       "  </tbody>\n",
       "</table>\n",
       "</div>"
      ],
      "text/plain": [
       "     Name  Age\n",
       "0    Adam   37\n",
       "1    Alan   35\n",
       "2   Alvin   20\n",
       "3  Anchal   29\n",
       "4  Arnold   35\n",
       "5     Jin   20"
      ]
     },
     "execution_count": 125,
     "metadata": {},
     "output_type": "execute_result"
    }
   ],
   "source": [
    "# agg\n",
    "# size(), min(), max(), mean()\n",
    "\n",
    "df.groupby('Name').min().reset_index()"
   ]
  },
  {
   "cell_type": "code",
   "execution_count": 126,
   "id": "placed-colon",
   "metadata": {
    "ExecuteTime": {
     "end_time": "2021-07-06T07:52:30.042893Z",
     "start_time": "2021-07-06T07:52:30.023883Z"
    }
   },
   "outputs": [
    {
     "data": {
      "text/html": [
       "<div>\n",
       "<style scoped>\n",
       "    .dataframe tbody tr th:only-of-type {\n",
       "        vertical-align: middle;\n",
       "    }\n",
       "\n",
       "    .dataframe tbody tr th {\n",
       "        vertical-align: top;\n",
       "    }\n",
       "\n",
       "    .dataframe thead th {\n",
       "        text-align: right;\n",
       "    }\n",
       "</style>\n",
       "<table border=\"1\" class=\"dataframe\">\n",
       "  <thead>\n",
       "    <tr style=\"text-align: right;\">\n",
       "      <th></th>\n",
       "      <th>Age</th>\n",
       "    </tr>\n",
       "  </thead>\n",
       "  <tbody>\n",
       "    <tr>\n",
       "      <th>count</th>\n",
       "      <td>10.000000</td>\n",
       "    </tr>\n",
       "    <tr>\n",
       "      <th>mean</th>\n",
       "      <td>31.400000</td>\n",
       "    </tr>\n",
       "    <tr>\n",
       "      <th>std</th>\n",
       "      <td>6.963396</td>\n",
       "    </tr>\n",
       "    <tr>\n",
       "      <th>min</th>\n",
       "      <td>20.000000</td>\n",
       "    </tr>\n",
       "    <tr>\n",
       "      <th>25%</th>\n",
       "      <td>28.250000</td>\n",
       "    </tr>\n",
       "    <tr>\n",
       "      <th>50%</th>\n",
       "      <td>34.500000</td>\n",
       "    </tr>\n",
       "    <tr>\n",
       "      <th>75%</th>\n",
       "      <td>35.750000</td>\n",
       "    </tr>\n",
       "    <tr>\n",
       "      <th>max</th>\n",
       "      <td>40.000000</td>\n",
       "    </tr>\n",
       "  </tbody>\n",
       "</table>\n",
       "</div>"
      ],
      "text/plain": [
       "             Age\n",
       "count  10.000000\n",
       "mean   31.400000\n",
       "std     6.963396\n",
       "min    20.000000\n",
       "25%    28.250000\n",
       "50%    34.500000\n",
       "75%    35.750000\n",
       "max    40.000000"
      ]
     },
     "execution_count": 126,
     "metadata": {},
     "output_type": "execute_result"
    }
   ],
   "source": [
    "# 데이터 요약 함수\n",
    "\n",
    "df.describe()"
   ]
  },
  {
   "cell_type": "markdown",
   "id": "monetary-routine",
   "metadata": {},
   "source": [
    "### 7. Merge = sql join\n",
    "- 두개 이상의 데이터프레임을 합쳐 결과를 출력하는 방법"
   ]
  },
  {
   "cell_type": "code",
   "execution_count": 131,
   "id": "featured-elder",
   "metadata": {
    "ExecuteTime": {
     "end_time": "2021-07-06T07:58:29.865835Z",
     "start_time": "2021-07-06T07:58:29.855863Z"
    }
   },
   "outputs": [],
   "source": [
    "df1 = pd.DataFrame({'key' : list('bbacaab'),\n",
    "                   'data1':range(7)})\n",
    "df2 = pd.DataFrame({'key' : list('abd'),\n",
    "                   'data1':range(3)})"
   ]
  },
  {
   "cell_type": "code",
   "execution_count": 132,
   "id": "initial-apple",
   "metadata": {
    "ExecuteTime": {
     "end_time": "2021-07-06T07:58:55.855303Z",
     "start_time": "2021-07-06T07:58:55.822392Z"
    }
   },
   "outputs": [
    {
     "data": {
      "text/html": [
       "<div>\n",
       "<style scoped>\n",
       "    .dataframe tbody tr th:only-of-type {\n",
       "        vertical-align: middle;\n",
       "    }\n",
       "\n",
       "    .dataframe tbody tr th {\n",
       "        vertical-align: top;\n",
       "    }\n",
       "\n",
       "    .dataframe thead th {\n",
       "        text-align: right;\n",
       "    }\n",
       "</style>\n",
       "<table border=\"1\" class=\"dataframe\">\n",
       "  <thead>\n",
       "    <tr style=\"text-align: right;\">\n",
       "      <th></th>\n",
       "      <th>key</th>\n",
       "      <th>data1_x</th>\n",
       "      <th>data1_y</th>\n",
       "    </tr>\n",
       "  </thead>\n",
       "  <tbody>\n",
       "    <tr>\n",
       "      <th>0</th>\n",
       "      <td>b</td>\n",
       "      <td>0</td>\n",
       "      <td>1</td>\n",
       "    </tr>\n",
       "    <tr>\n",
       "      <th>1</th>\n",
       "      <td>b</td>\n",
       "      <td>1</td>\n",
       "      <td>1</td>\n",
       "    </tr>\n",
       "    <tr>\n",
       "      <th>2</th>\n",
       "      <td>b</td>\n",
       "      <td>6</td>\n",
       "      <td>1</td>\n",
       "    </tr>\n",
       "    <tr>\n",
       "      <th>3</th>\n",
       "      <td>a</td>\n",
       "      <td>2</td>\n",
       "      <td>0</td>\n",
       "    </tr>\n",
       "    <tr>\n",
       "      <th>4</th>\n",
       "      <td>a</td>\n",
       "      <td>4</td>\n",
       "      <td>0</td>\n",
       "    </tr>\n",
       "    <tr>\n",
       "      <th>5</th>\n",
       "      <td>a</td>\n",
       "      <td>5</td>\n",
       "      <td>0</td>\n",
       "    </tr>\n",
       "  </tbody>\n",
       "</table>\n",
       "</div>"
      ],
      "text/plain": [
       "  key  data1_x  data1_y\n",
       "0   b        0        1\n",
       "1   b        1        1\n",
       "2   b        6        1\n",
       "3   a        2        0\n",
       "4   a        4        0\n",
       "5   a        5        0"
      ]
     },
     "execution_count": 132,
     "metadata": {},
     "output_type": "execute_result"
    }
   ],
   "source": [
    "# on 파라미터\n",
    "# 공통되는 key값을 가진 데이터를 join\n",
    "# c, d 키값은 공통되지 않아 생략된\n",
    "\n",
    "pd.merge(df1, df2, on='key')"
   ]
  },
  {
   "cell_type": "code",
   "execution_count": 133,
   "id": "found-saudi",
   "metadata": {
    "ExecuteTime": {
     "end_time": "2021-07-06T07:59:51.967484Z",
     "start_time": "2021-07-06T07:59:51.951579Z"
    }
   },
   "outputs": [
    {
     "data": {
      "text/html": [
       "<div>\n",
       "<style scoped>\n",
       "    .dataframe tbody tr th:only-of-type {\n",
       "        vertical-align: middle;\n",
       "    }\n",
       "\n",
       "    .dataframe tbody tr th {\n",
       "        vertical-align: top;\n",
       "    }\n",
       "\n",
       "    .dataframe thead th {\n",
       "        text-align: right;\n",
       "    }\n",
       "</style>\n",
       "<table border=\"1\" class=\"dataframe\">\n",
       "  <thead>\n",
       "    <tr style=\"text-align: right;\">\n",
       "      <th></th>\n",
       "      <th>key</th>\n",
       "      <th>data1_x</th>\n",
       "      <th>data1_y</th>\n",
       "    </tr>\n",
       "  </thead>\n",
       "  <tbody>\n",
       "    <tr>\n",
       "      <th>0</th>\n",
       "      <td>b</td>\n",
       "      <td>0.0</td>\n",
       "      <td>1.0</td>\n",
       "    </tr>\n",
       "    <tr>\n",
       "      <th>1</th>\n",
       "      <td>b</td>\n",
       "      <td>1.0</td>\n",
       "      <td>1.0</td>\n",
       "    </tr>\n",
       "    <tr>\n",
       "      <th>2</th>\n",
       "      <td>b</td>\n",
       "      <td>6.0</td>\n",
       "      <td>1.0</td>\n",
       "    </tr>\n",
       "    <tr>\n",
       "      <th>3</th>\n",
       "      <td>a</td>\n",
       "      <td>2.0</td>\n",
       "      <td>0.0</td>\n",
       "    </tr>\n",
       "    <tr>\n",
       "      <th>4</th>\n",
       "      <td>a</td>\n",
       "      <td>4.0</td>\n",
       "      <td>0.0</td>\n",
       "    </tr>\n",
       "    <tr>\n",
       "      <th>5</th>\n",
       "      <td>a</td>\n",
       "      <td>5.0</td>\n",
       "      <td>0.0</td>\n",
       "    </tr>\n",
       "    <tr>\n",
       "      <th>6</th>\n",
       "      <td>c</td>\n",
       "      <td>3.0</td>\n",
       "      <td>NaN</td>\n",
       "    </tr>\n",
       "    <tr>\n",
       "      <th>7</th>\n",
       "      <td>d</td>\n",
       "      <td>NaN</td>\n",
       "      <td>2.0</td>\n",
       "    </tr>\n",
       "  </tbody>\n",
       "</table>\n",
       "</div>"
      ],
      "text/plain": [
       "  key  data1_x  data1_y\n",
       "0   b      0.0      1.0\n",
       "1   b      1.0      1.0\n",
       "2   b      6.0      1.0\n",
       "3   a      2.0      0.0\n",
       "4   a      4.0      0.0\n",
       "5   a      5.0      0.0\n",
       "6   c      3.0      NaN\n",
       "7   d      NaN      2.0"
      ]
     },
     "execution_count": 133,
     "metadata": {},
     "output_type": "execute_result"
    }
   ],
   "source": [
    "# how 파라미터\n",
    "# 위의 경우 inner join으로 c, d 키값이 생략\n",
    "# outer 조인 진행 시 c, d 키값도 출력\n",
    "\n",
    "pd.merge(df1, df2, on='key', how='outer')"
   ]
  },
  {
   "cell_type": "code",
   "execution_count": 134,
   "id": "global-folks",
   "metadata": {
    "ExecuteTime": {
     "end_time": "2021-07-06T08:01:01.229722Z",
     "start_time": "2021-07-06T08:01:01.210739Z"
    }
   },
   "outputs": [],
   "source": [
    "df1 = pd.DataFrame({'lkey' : list('bbacaab'),\n",
    "                   'data1':range(7)})\n",
    "df2 = pd.DataFrame({'rkey' : list('abd'),\n",
    "                   'data1':range(3)})"
   ]
  },
  {
   "cell_type": "code",
   "execution_count": 136,
   "id": "choice-rebecca",
   "metadata": {
    "ExecuteTime": {
     "end_time": "2021-07-06T08:01:55.735151Z",
     "start_time": "2021-07-06T08:01:55.713209Z"
    }
   },
   "outputs": [
    {
     "data": {
      "text/html": [
       "<div>\n",
       "<style scoped>\n",
       "    .dataframe tbody tr th:only-of-type {\n",
       "        vertical-align: middle;\n",
       "    }\n",
       "\n",
       "    .dataframe tbody tr th {\n",
       "        vertical-align: top;\n",
       "    }\n",
       "\n",
       "    .dataframe thead th {\n",
       "        text-align: right;\n",
       "    }\n",
       "</style>\n",
       "<table border=\"1\" class=\"dataframe\">\n",
       "  <thead>\n",
       "    <tr style=\"text-align: right;\">\n",
       "      <th></th>\n",
       "      <th>lkey</th>\n",
       "      <th>data1_x</th>\n",
       "      <th>rkey</th>\n",
       "      <th>data1_y</th>\n",
       "    </tr>\n",
       "  </thead>\n",
       "  <tbody>\n",
       "    <tr>\n",
       "      <th>0</th>\n",
       "      <td>b</td>\n",
       "      <td>0</td>\n",
       "      <td>b</td>\n",
       "      <td>1</td>\n",
       "    </tr>\n",
       "    <tr>\n",
       "      <th>1</th>\n",
       "      <td>b</td>\n",
       "      <td>1</td>\n",
       "      <td>b</td>\n",
       "      <td>1</td>\n",
       "    </tr>\n",
       "    <tr>\n",
       "      <th>2</th>\n",
       "      <td>b</td>\n",
       "      <td>6</td>\n",
       "      <td>b</td>\n",
       "      <td>1</td>\n",
       "    </tr>\n",
       "    <tr>\n",
       "      <th>3</th>\n",
       "      <td>a</td>\n",
       "      <td>2</td>\n",
       "      <td>a</td>\n",
       "      <td>0</td>\n",
       "    </tr>\n",
       "    <tr>\n",
       "      <th>4</th>\n",
       "      <td>a</td>\n",
       "      <td>4</td>\n",
       "      <td>a</td>\n",
       "      <td>0</td>\n",
       "    </tr>\n",
       "    <tr>\n",
       "      <th>5</th>\n",
       "      <td>a</td>\n",
       "      <td>5</td>\n",
       "      <td>a</td>\n",
       "      <td>0</td>\n",
       "    </tr>\n",
       "  </tbody>\n",
       "</table>\n",
       "</div>"
      ],
      "text/plain": [
       "  lkey  data1_x rkey  data1_y\n",
       "0    b        0    b        1\n",
       "1    b        1    b        1\n",
       "2    b        6    b        1\n",
       "3    a        2    a        0\n",
       "4    a        4    a        0\n",
       "5    a        5    a        0"
      ]
     },
     "execution_count": 136,
     "metadata": {},
     "output_type": "execute_result"
    }
   ],
   "source": [
    "# df1의 lkey와 df2의 rkey를 기준으로 값이 같은 것들끼리 카테시안 곱 조합으로 join\n",
    "\n",
    "pd.merge(df1, df2, left_on='lkey', right_on='rkey')"
   ]
  },
  {
   "cell_type": "markdown",
   "id": "weird-links",
   "metadata": {},
   "source": [
    "### quiz\n",
    "   - makedata 모듈을 이용해 데이터 프레임 생성\n",
    "   - user_df\n",
    "       - 8명의 데이터가 있는 데이터프레임을 생성\n",
    "       - UserID : 1 ~ 8\n",
    "       - Name : makedata.get_name()\n",
    "       - Age : makedata.get_age()\n",
    "       - 중복되는 Name 값이 없도록"
   ]
  },
  {
   "cell_type": "code",
   "execution_count": 260,
   "id": "chicken-combat",
   "metadata": {
    "ExecuteTime": {
     "end_time": "2021-07-06T08:19:07.390386Z",
     "start_time": "2021-07-06T08:19:07.368545Z"
    }
   },
   "outputs": [
    {
     "data": {
      "text/html": [
       "<div>\n",
       "<style scoped>\n",
       "    .dataframe tbody tr th:only-of-type {\n",
       "        vertical-align: middle;\n",
       "    }\n",
       "\n",
       "    .dataframe tbody tr th {\n",
       "        vertical-align: top;\n",
       "    }\n",
       "\n",
       "    .dataframe thead th {\n",
       "        text-align: right;\n",
       "    }\n",
       "</style>\n",
       "<table border=\"1\" class=\"dataframe\">\n",
       "  <thead>\n",
       "    <tr style=\"text-align: right;\">\n",
       "      <th></th>\n",
       "      <th>UserID</th>\n",
       "      <th>Age</th>\n",
       "      <th>Name</th>\n",
       "    </tr>\n",
       "  </thead>\n",
       "  <tbody>\n",
       "    <tr>\n",
       "      <th>0</th>\n",
       "      <td>1</td>\n",
       "      <td>25</td>\n",
       "      <td>Arnold</td>\n",
       "    </tr>\n",
       "    <tr>\n",
       "      <th>1</th>\n",
       "      <td>2</td>\n",
       "      <td>31</td>\n",
       "      <td>Alan</td>\n",
       "    </tr>\n",
       "    <tr>\n",
       "      <th>2</th>\n",
       "      <td>3</td>\n",
       "      <td>34</td>\n",
       "      <td>Adam</td>\n",
       "    </tr>\n",
       "    <tr>\n",
       "      <th>3</th>\n",
       "      <td>4</td>\n",
       "      <td>35</td>\n",
       "      <td>Adam</td>\n",
       "    </tr>\n",
       "    <tr>\n",
       "      <th>4</th>\n",
       "      <td>5</td>\n",
       "      <td>33</td>\n",
       "      <td>Adam</td>\n",
       "    </tr>\n",
       "    <tr>\n",
       "      <th>5</th>\n",
       "      <td>6</td>\n",
       "      <td>30</td>\n",
       "      <td>Anthony</td>\n",
       "    </tr>\n",
       "    <tr>\n",
       "      <th>6</th>\n",
       "      <td>7</td>\n",
       "      <td>32</td>\n",
       "      <td>Anthony</td>\n",
       "    </tr>\n",
       "    <tr>\n",
       "      <th>7</th>\n",
       "      <td>8</td>\n",
       "      <td>30</td>\n",
       "      <td>Alan</td>\n",
       "    </tr>\n",
       "  </tbody>\n",
       "</table>\n",
       "</div>"
      ],
      "text/plain": [
       "   UserID  Age     Name\n",
       "0       1   25   Arnold\n",
       "1       2   31     Alan\n",
       "2       3   34     Adam\n",
       "3       4   35     Adam\n",
       "4       5   33     Adam\n",
       "5       6   30  Anthony\n",
       "6       7   32  Anthony\n",
       "7       8   30     Alan"
      ]
     },
     "execution_count": 260,
     "metadata": {},
     "output_type": "execute_result"
    }
   ],
   "source": [
    "# 딕셔너리의 리스트 : UserID, NAME, Age\n",
    "\n",
    "datas = {}\n",
    "datas['UserID'] = list(range(1, 9))\n",
    "datas['Age'] = [makedata.get_age() for _ in range(8)]\n",
    "\n",
    "names = []\n",
    "while True:\n",
    "    name = makedata.get_name()\n",
    "    names.append(name)\n",
    "    if len(names) >= 8:\n",
    "        break\n",
    "datas['Name'] = names\n",
    "\n",
    "\n",
    "user_df = pd.DataFrame(datas)\n",
    "user_df"
   ]
  },
  {
   "cell_type": "code",
   "execution_count": 286,
   "id": "hairy-sender",
   "metadata": {
    "ExecuteTime": {
     "end_time": "2021-07-06T08:42:40.270596Z",
     "start_time": "2021-07-06T08:42:40.225170Z"
    }
   },
   "outputs": [
    {
     "data": {
      "text/html": [
       "<div>\n",
       "<style scoped>\n",
       "    .dataframe tbody tr th:only-of-type {\n",
       "        vertical-align: middle;\n",
       "    }\n",
       "\n",
       "    .dataframe tbody tr th {\n",
       "        vertical-align: top;\n",
       "    }\n",
       "\n",
       "    .dataframe thead th {\n",
       "        text-align: right;\n",
       "    }\n",
       "</style>\n",
       "<table border=\"1\" class=\"dataframe\">\n",
       "  <thead>\n",
       "    <tr style=\"text-align: right;\">\n",
       "      <th></th>\n",
       "      <th>UserID</th>\n",
       "      <th>Name</th>\n",
       "      <th>Age</th>\n",
       "    </tr>\n",
       "  </thead>\n",
       "  <tbody>\n",
       "    <tr>\n",
       "      <th>0</th>\n",
       "      <td>1</td>\n",
       "      <td>Andrew</td>\n",
       "      <td>21</td>\n",
       "    </tr>\n",
       "    <tr>\n",
       "      <th>1</th>\n",
       "      <td>2</td>\n",
       "      <td>Jin</td>\n",
       "      <td>39</td>\n",
       "    </tr>\n",
       "    <tr>\n",
       "      <th>2</th>\n",
       "      <td>3</td>\n",
       "      <td>Arnold</td>\n",
       "      <td>21</td>\n",
       "    </tr>\n",
       "    <tr>\n",
       "      <th>3</th>\n",
       "      <td>4</td>\n",
       "      <td>Adam</td>\n",
       "      <td>28</td>\n",
       "    </tr>\n",
       "    <tr>\n",
       "      <th>4</th>\n",
       "      <td>5</td>\n",
       "      <td>Alan</td>\n",
       "      <td>25</td>\n",
       "    </tr>\n",
       "    <tr>\n",
       "      <th>5</th>\n",
       "      <td>6</td>\n",
       "      <td>Alvin</td>\n",
       "      <td>37</td>\n",
       "    </tr>\n",
       "    <tr>\n",
       "      <th>6</th>\n",
       "      <td>7</td>\n",
       "      <td>Billy</td>\n",
       "      <td>37</td>\n",
       "    </tr>\n",
       "    <tr>\n",
       "      <th>7</th>\n",
       "      <td>8</td>\n",
       "      <td>Anchal</td>\n",
       "      <td>33</td>\n",
       "    </tr>\n",
       "  </tbody>\n",
       "</table>\n",
       "</div>"
      ],
      "text/plain": [
       "  UserID    Name Age\n",
       "0      1  Andrew  21\n",
       "1      2     Jin  39\n",
       "2      3  Arnold  21\n",
       "3      4    Adam  28\n",
       "4      5    Alan  25\n",
       "5      6   Alvin  37\n",
       "6      7   Billy  37\n",
       "7      8  Anchal  33"
      ]
     },
     "execution_count": 286,
     "metadata": {},
     "output_type": "execute_result"
    }
   ],
   "source": [
    "# 리스트의 딕셔너리 : UserID, Name, Age\n",
    "user_df = pd.DataFrame(columns=['UserID', 'Name', 'Age'])\n",
    "\n",
    "for idx in range(1, 9):\n",
    "    name = makedata.get_name()\n",
    "    \n",
    "    while name in list(user_df['Name']):\n",
    "        name = makedata.get_name()\n",
    "        \n",
    "    data = {'Name':name, 'UserID':idx, 'Age':makedata.get_age()}\n",
    "    user_df.loc[len(user_df)] = data\n",
    "    \n",
    "user_df"
   ]
  },
  {
   "cell_type": "markdown",
   "id": "numerical-inclusion",
   "metadata": {},
   "source": [
    "### quiz\n",
    "- money_df 만들기\n",
    "    - 15개 데이터\n",
    "    - ID : 1 ~ 8 랜덤한 숫자 데이터\n",
    "    - Money : 1000원 단위로 1000원 ~ 20000원까지의 숫자가 저장\n",
    "        "
   ]
  },
  {
   "cell_type": "code",
   "execution_count": 269,
   "id": "existing-obligation",
   "metadata": {
    "ExecuteTime": {
     "end_time": "2021-07-06T08:34:57.311386Z",
     "start_time": "2021-07-06T08:34:57.268714Z"
    }
   },
   "outputs": [
    {
     "data": {
      "text/plain": [
       "array([1, 3, 4, 5, 7, 8], dtype=object)"
      ]
     },
     "execution_count": 269,
     "metadata": {},
     "output_type": "execute_result"
    }
   ],
   "source": [
    "# 딕셔너리 데이터를 데이터 프레임에 하나씩 추가하기\n",
    "money_df = pd.DataFrame(columns = ['ID', 'Money'])\n",
    "\n",
    "for i in range(15):\n",
    "    money_df.loc[len(money_df)] = {\n",
    "        'ID':np.random.randint(1, 9),\n",
    "        'Money': np.random.randint(1, 21) * 1000,\n",
    "    }\n",
    "ids = money_df['ID'].unique()\n",
    "ids.sort()\n",
    "ids"
   ]
  },
  {
   "cell_type": "code",
   "execution_count": 271,
   "id": "vocal-latin",
   "metadata": {
    "ExecuteTime": {
     "end_time": "2021-07-06T08:35:10.334540Z",
     "start_time": "2021-07-06T08:35:10.324682Z"
    }
   },
   "outputs": [
    {
     "data": {
      "text/html": [
       "<div>\n",
       "<style scoped>\n",
       "    .dataframe tbody tr th:only-of-type {\n",
       "        vertical-align: middle;\n",
       "    }\n",
       "\n",
       "    .dataframe tbody tr th {\n",
       "        vertical-align: top;\n",
       "    }\n",
       "\n",
       "    .dataframe thead th {\n",
       "        text-align: right;\n",
       "    }\n",
       "</style>\n",
       "<table border=\"1\" class=\"dataframe\">\n",
       "  <thead>\n",
       "    <tr style=\"text-align: right;\">\n",
       "      <th></th>\n",
       "      <th>ID</th>\n",
       "      <th>Money</th>\n",
       "    </tr>\n",
       "  </thead>\n",
       "  <tbody>\n",
       "    <tr>\n",
       "      <th>0</th>\n",
       "      <td>7</td>\n",
       "      <td>18000</td>\n",
       "    </tr>\n",
       "    <tr>\n",
       "      <th>1</th>\n",
       "      <td>8</td>\n",
       "      <td>20000</td>\n",
       "    </tr>\n",
       "    <tr>\n",
       "      <th>2</th>\n",
       "      <td>1</td>\n",
       "      <td>1000</td>\n",
       "    </tr>\n",
       "    <tr>\n",
       "      <th>3</th>\n",
       "      <td>8</td>\n",
       "      <td>3000</td>\n",
       "    </tr>\n",
       "    <tr>\n",
       "      <th>4</th>\n",
       "      <td>3</td>\n",
       "      <td>1000</td>\n",
       "    </tr>\n",
       "  </tbody>\n",
       "</table>\n",
       "</div>"
      ],
      "text/plain": [
       "  ID  Money\n",
       "0  7  18000\n",
       "1  8  20000\n",
       "2  1   1000\n",
       "3  8   3000\n",
       "4  3   1000"
      ]
     },
     "execution_count": 271,
     "metadata": {},
     "output_type": "execute_result"
    }
   ],
   "source": [
    "money_df.head()"
   ]
  },
  {
   "cell_type": "code",
   "execution_count": 272,
   "id": "auburn-alexander",
   "metadata": {
    "ExecuteTime": {
     "end_time": "2021-07-06T08:35:15.791532Z",
     "start_time": "2021-07-06T08:35:15.780562Z"
    }
   },
   "outputs": [
    {
     "data": {
      "text/html": [
       "<div>\n",
       "<style scoped>\n",
       "    .dataframe tbody tr th:only-of-type {\n",
       "        vertical-align: middle;\n",
       "    }\n",
       "\n",
       "    .dataframe tbody tr th {\n",
       "        vertical-align: top;\n",
       "    }\n",
       "\n",
       "    .dataframe thead th {\n",
       "        text-align: right;\n",
       "    }\n",
       "</style>\n",
       "<table border=\"1\" class=\"dataframe\">\n",
       "  <thead>\n",
       "    <tr style=\"text-align: right;\">\n",
       "      <th></th>\n",
       "      <th>UserID</th>\n",
       "      <th>Name</th>\n",
       "      <th>Age</th>\n",
       "    </tr>\n",
       "  </thead>\n",
       "  <tbody>\n",
       "    <tr>\n",
       "      <th>0</th>\n",
       "      <td>1</td>\n",
       "      <td>Jin</td>\n",
       "      <td>22</td>\n",
       "    </tr>\n",
       "    <tr>\n",
       "      <th>1</th>\n",
       "      <td>2</td>\n",
       "      <td>Andrew</td>\n",
       "      <td>28</td>\n",
       "    </tr>\n",
       "    <tr>\n",
       "      <th>2</th>\n",
       "      <td>3</td>\n",
       "      <td>Alvin</td>\n",
       "      <td>24</td>\n",
       "    </tr>\n",
       "    <tr>\n",
       "      <th>3</th>\n",
       "      <td>4</td>\n",
       "      <td>Alex</td>\n",
       "      <td>24</td>\n",
       "    </tr>\n",
       "    <tr>\n",
       "      <th>4</th>\n",
       "      <td>5</td>\n",
       "      <td>Anchal</td>\n",
       "      <td>37</td>\n",
       "    </tr>\n",
       "  </tbody>\n",
       "</table>\n",
       "</div>"
      ],
      "text/plain": [
       "  UserID    Name Age\n",
       "0      1     Jin  22\n",
       "1      2  Andrew  28\n",
       "2      3   Alvin  24\n",
       "3      4    Alex  24\n",
       "4      5  Anchal  37"
      ]
     },
     "execution_count": 272,
     "metadata": {},
     "output_type": "execute_result"
    }
   ],
   "source": [
    "user_df.head()"
   ]
  },
  {
   "cell_type": "markdown",
   "id": "young-vermont",
   "metadata": {},
   "source": [
    "### 1. merge"
   ]
  },
  {
   "cell_type": "code",
   "execution_count": 287,
   "id": "synthetic-shell",
   "metadata": {
    "ExecuteTime": {
     "end_time": "2021-07-06T08:42:50.161483Z",
     "start_time": "2021-07-06T08:42:50.143529Z"
    }
   },
   "outputs": [
    {
     "data": {
      "text/html": [
       "<div>\n",
       "<style scoped>\n",
       "    .dataframe tbody tr th:only-of-type {\n",
       "        vertical-align: middle;\n",
       "    }\n",
       "\n",
       "    .dataframe tbody tr th {\n",
       "        vertical-align: top;\n",
       "    }\n",
       "\n",
       "    .dataframe thead th {\n",
       "        text-align: right;\n",
       "    }\n",
       "</style>\n",
       "<table border=\"1\" class=\"dataframe\">\n",
       "  <thead>\n",
       "    <tr style=\"text-align: right;\">\n",
       "      <th></th>\n",
       "      <th>UserID</th>\n",
       "      <th>Name</th>\n",
       "      <th>Age</th>\n",
       "      <th>ID</th>\n",
       "      <th>Money</th>\n",
       "    </tr>\n",
       "  </thead>\n",
       "  <tbody>\n",
       "    <tr>\n",
       "      <th>0</th>\n",
       "      <td>1</td>\n",
       "      <td>Andrew</td>\n",
       "      <td>21</td>\n",
       "      <td>1</td>\n",
       "      <td>1000</td>\n",
       "    </tr>\n",
       "    <tr>\n",
       "      <th>1</th>\n",
       "      <td>1</td>\n",
       "      <td>Andrew</td>\n",
       "      <td>21</td>\n",
       "      <td>1</td>\n",
       "      <td>8000</td>\n",
       "    </tr>\n",
       "    <tr>\n",
       "      <th>2</th>\n",
       "      <td>3</td>\n",
       "      <td>Arnold</td>\n",
       "      <td>21</td>\n",
       "      <td>3</td>\n",
       "      <td>1000</td>\n",
       "    </tr>\n",
       "    <tr>\n",
       "      <th>3</th>\n",
       "      <td>3</td>\n",
       "      <td>Arnold</td>\n",
       "      <td>21</td>\n",
       "      <td>3</td>\n",
       "      <td>5000</td>\n",
       "    </tr>\n",
       "    <tr>\n",
       "      <th>4</th>\n",
       "      <td>4</td>\n",
       "      <td>Adam</td>\n",
       "      <td>28</td>\n",
       "      <td>4</td>\n",
       "      <td>4000</td>\n",
       "    </tr>\n",
       "    <tr>\n",
       "      <th>5</th>\n",
       "      <td>4</td>\n",
       "      <td>Adam</td>\n",
       "      <td>28</td>\n",
       "      <td>4</td>\n",
       "      <td>4000</td>\n",
       "    </tr>\n",
       "    <tr>\n",
       "      <th>6</th>\n",
       "      <td>5</td>\n",
       "      <td>Alan</td>\n",
       "      <td>25</td>\n",
       "      <td>5</td>\n",
       "      <td>18000</td>\n",
       "    </tr>\n",
       "    <tr>\n",
       "      <th>7</th>\n",
       "      <td>7</td>\n",
       "      <td>Billy</td>\n",
       "      <td>37</td>\n",
       "      <td>7</td>\n",
       "      <td>18000</td>\n",
       "    </tr>\n",
       "    <tr>\n",
       "      <th>8</th>\n",
       "      <td>7</td>\n",
       "      <td>Billy</td>\n",
       "      <td>37</td>\n",
       "      <td>7</td>\n",
       "      <td>20000</td>\n",
       "    </tr>\n",
       "    <tr>\n",
       "      <th>9</th>\n",
       "      <td>7</td>\n",
       "      <td>Billy</td>\n",
       "      <td>37</td>\n",
       "      <td>7</td>\n",
       "      <td>17000</td>\n",
       "    </tr>\n",
       "    <tr>\n",
       "      <th>10</th>\n",
       "      <td>7</td>\n",
       "      <td>Billy</td>\n",
       "      <td>37</td>\n",
       "      <td>7</td>\n",
       "      <td>15000</td>\n",
       "    </tr>\n",
       "    <tr>\n",
       "      <th>11</th>\n",
       "      <td>7</td>\n",
       "      <td>Billy</td>\n",
       "      <td>37</td>\n",
       "      <td>7</td>\n",
       "      <td>16000</td>\n",
       "    </tr>\n",
       "    <tr>\n",
       "      <th>12</th>\n",
       "      <td>8</td>\n",
       "      <td>Anchal</td>\n",
       "      <td>33</td>\n",
       "      <td>8</td>\n",
       "      <td>20000</td>\n",
       "    </tr>\n",
       "    <tr>\n",
       "      <th>13</th>\n",
       "      <td>8</td>\n",
       "      <td>Anchal</td>\n",
       "      <td>33</td>\n",
       "      <td>8</td>\n",
       "      <td>3000</td>\n",
       "    </tr>\n",
       "    <tr>\n",
       "      <th>14</th>\n",
       "      <td>8</td>\n",
       "      <td>Anchal</td>\n",
       "      <td>33</td>\n",
       "      <td>8</td>\n",
       "      <td>9000</td>\n",
       "    </tr>\n",
       "  </tbody>\n",
       "</table>\n",
       "</div>"
      ],
      "text/plain": [
       "   UserID    Name Age ID  Money\n",
       "0       1  Andrew  21  1   1000\n",
       "1       1  Andrew  21  1   8000\n",
       "2       3  Arnold  21  3   1000\n",
       "3       3  Arnold  21  3   5000\n",
       "4       4    Adam  28  4   4000\n",
       "5       4    Adam  28  4   4000\n",
       "6       5    Alan  25  5  18000\n",
       "7       7   Billy  37  7  18000\n",
       "8       7   Billy  37  7  20000\n",
       "9       7   Billy  37  7  17000\n",
       "10      7   Billy  37  7  15000\n",
       "11      7   Billy  37  7  16000\n",
       "12      8  Anchal  33  8  20000\n",
       "13      8  Anchal  33  8   3000\n",
       "14      8  Anchal  33  8   9000"
      ]
     },
     "execution_count": 287,
     "metadata": {},
     "output_type": "execute_result"
    }
   ],
   "source": [
    "merged = user_df.merge(money_df, left_on = 'UserID', right_on = 'ID')\n",
    "merged"
   ]
  },
  {
   "cell_type": "code",
   "execution_count": 288,
   "id": "random-therapy",
   "metadata": {
    "ExecuteTime": {
     "end_time": "2021-07-06T08:42:53.152697Z",
     "start_time": "2021-07-06T08:42:53.142761Z"
    }
   },
   "outputs": [
    {
     "data": {
      "text/html": [
       "<div>\n",
       "<style scoped>\n",
       "    .dataframe tbody tr th:only-of-type {\n",
       "        vertical-align: middle;\n",
       "    }\n",
       "\n",
       "    .dataframe tbody tr th {\n",
       "        vertical-align: top;\n",
       "    }\n",
       "\n",
       "    .dataframe thead th {\n",
       "        text-align: right;\n",
       "    }\n",
       "</style>\n",
       "<table border=\"1\" class=\"dataframe\">\n",
       "  <thead>\n",
       "    <tr style=\"text-align: right;\">\n",
       "      <th></th>\n",
       "      <th>ID</th>\n",
       "      <th>Name</th>\n",
       "      <th>Age</th>\n",
       "    </tr>\n",
       "  </thead>\n",
       "  <tbody>\n",
       "    <tr>\n",
       "      <th>3</th>\n",
       "      <td>4</td>\n",
       "      <td>Adam</td>\n",
       "      <td>28</td>\n",
       "    </tr>\n",
       "    <tr>\n",
       "      <th>4</th>\n",
       "      <td>5</td>\n",
       "      <td>Alan</td>\n",
       "      <td>25</td>\n",
       "    </tr>\n",
       "    <tr>\n",
       "      <th>5</th>\n",
       "      <td>6</td>\n",
       "      <td>Alvin</td>\n",
       "      <td>37</td>\n",
       "    </tr>\n",
       "    <tr>\n",
       "      <th>6</th>\n",
       "      <td>7</td>\n",
       "      <td>Billy</td>\n",
       "      <td>37</td>\n",
       "    </tr>\n",
       "    <tr>\n",
       "      <th>7</th>\n",
       "      <td>8</td>\n",
       "      <td>Anchal</td>\n",
       "      <td>33</td>\n",
       "    </tr>\n",
       "  </tbody>\n",
       "</table>\n",
       "</div>"
      ],
      "text/plain": [
       "  ID    Name Age\n",
       "3  4    Adam  28\n",
       "4  5    Alan  25\n",
       "5  6   Alvin  37\n",
       "6  7   Billy  37\n",
       "7  8  Anchal  33"
      ]
     },
     "execution_count": 288,
     "metadata": {},
     "output_type": "execute_result"
    }
   ],
   "source": [
    "# 컬럼명 변경\n",
    "\n",
    "user_df.rename(columns={'UserID':'ID'}, inplace=True)\n",
    "user_df.tail()"
   ]
  },
  {
   "cell_type": "code",
   "execution_count": 291,
   "id": "stretch-earth",
   "metadata": {
    "ExecuteTime": {
     "end_time": "2021-07-06T08:43:04.367891Z",
     "start_time": "2021-07-06T08:43:04.345952Z"
    }
   },
   "outputs": [
    {
     "data": {
      "text/html": [
       "<div>\n",
       "<style scoped>\n",
       "    .dataframe tbody tr th:only-of-type {\n",
       "        vertical-align: middle;\n",
       "    }\n",
       "\n",
       "    .dataframe tbody tr th {\n",
       "        vertical-align: top;\n",
       "    }\n",
       "\n",
       "    .dataframe thead th {\n",
       "        text-align: right;\n",
       "    }\n",
       "</style>\n",
       "<table border=\"1\" class=\"dataframe\">\n",
       "  <thead>\n",
       "    <tr style=\"text-align: right;\">\n",
       "      <th></th>\n",
       "      <th>ID</th>\n",
       "      <th>Name</th>\n",
       "      <th>Age</th>\n",
       "      <th>Money</th>\n",
       "    </tr>\n",
       "  </thead>\n",
       "  <tbody>\n",
       "    <tr>\n",
       "      <th>13</th>\n",
       "      <td>8</td>\n",
       "      <td>Anchal</td>\n",
       "      <td>33</td>\n",
       "      <td>3000</td>\n",
       "    </tr>\n",
       "    <tr>\n",
       "      <th>14</th>\n",
       "      <td>8</td>\n",
       "      <td>Anchal</td>\n",
       "      <td>33</td>\n",
       "      <td>9000</td>\n",
       "    </tr>\n",
       "  </tbody>\n",
       "</table>\n",
       "</div>"
      ],
      "text/plain": [
       "   ID    Name Age Money\n",
       "13  8  Anchal  33  3000\n",
       "14  8  Anchal  33  9000"
      ]
     },
     "execution_count": 291,
     "metadata": {},
     "output_type": "execute_result"
    }
   ],
   "source": [
    "# 데이터프레임 객체의 merge 함수\n",
    "\n",
    "user_df.merge(money_df).tail(2)"
   ]
  },
  {
   "cell_type": "code",
   "execution_count": 292,
   "id": "fewer-manchester",
   "metadata": {
    "ExecuteTime": {
     "end_time": "2021-07-06T08:43:13.851597Z",
     "start_time": "2021-07-06T08:43:13.830783Z"
    }
   },
   "outputs": [
    {
     "data": {
      "text/html": [
       "<div>\n",
       "<style scoped>\n",
       "    .dataframe tbody tr th:only-of-type {\n",
       "        vertical-align: middle;\n",
       "    }\n",
       "\n",
       "    .dataframe tbody tr th {\n",
       "        vertical-align: top;\n",
       "    }\n",
       "\n",
       "    .dataframe thead th {\n",
       "        text-align: right;\n",
       "    }\n",
       "</style>\n",
       "<table border=\"1\" class=\"dataframe\">\n",
       "  <thead>\n",
       "    <tr style=\"text-align: right;\">\n",
       "      <th></th>\n",
       "      <th>ID</th>\n",
       "      <th>Money</th>\n",
       "      <th>Name</th>\n",
       "      <th>Age</th>\n",
       "    </tr>\n",
       "  </thead>\n",
       "  <tbody>\n",
       "    <tr>\n",
       "      <th>10</th>\n",
       "      <td>3</td>\n",
       "      <td>1000</td>\n",
       "      <td>Arnold</td>\n",
       "      <td>21</td>\n",
       "    </tr>\n",
       "    <tr>\n",
       "      <th>11</th>\n",
       "      <td>3</td>\n",
       "      <td>5000</td>\n",
       "      <td>Arnold</td>\n",
       "      <td>21</td>\n",
       "    </tr>\n",
       "    <tr>\n",
       "      <th>12</th>\n",
       "      <td>4</td>\n",
       "      <td>4000</td>\n",
       "      <td>Adam</td>\n",
       "      <td>28</td>\n",
       "    </tr>\n",
       "    <tr>\n",
       "      <th>13</th>\n",
       "      <td>4</td>\n",
       "      <td>4000</td>\n",
       "      <td>Adam</td>\n",
       "      <td>28</td>\n",
       "    </tr>\n",
       "    <tr>\n",
       "      <th>14</th>\n",
       "      <td>5</td>\n",
       "      <td>18000</td>\n",
       "      <td>Alan</td>\n",
       "      <td>25</td>\n",
       "    </tr>\n",
       "  </tbody>\n",
       "</table>\n",
       "</div>"
      ],
      "text/plain": [
       "   ID  Money    Name Age\n",
       "10  3   1000  Arnold  21\n",
       "11  3   5000  Arnold  21\n",
       "12  4   4000    Adam  28\n",
       "13  4   4000    Adam  28\n",
       "14  5  18000    Alan  25"
      ]
     },
     "execution_count": 292,
     "metadata": {},
     "output_type": "execute_result"
    }
   ],
   "source": [
    "# 판다스 모듈의 merge 함수\n",
    "\n",
    "result_df = pd.merge(money_df, user_df)\n",
    "result_df.tail()"
   ]
  },
  {
   "cell_type": "code",
   "execution_count": 296,
   "id": "front-effects",
   "metadata": {
    "ExecuteTime": {
     "end_time": "2021-07-06T08:44:40.186067Z",
     "start_time": "2021-07-06T08:44:40.158143Z"
    }
   },
   "outputs": [
    {
     "data": {
      "text/html": [
       "<div>\n",
       "<style scoped>\n",
       "    .dataframe tbody tr th:only-of-type {\n",
       "        vertical-align: middle;\n",
       "    }\n",
       "\n",
       "    .dataframe tbody tr th {\n",
       "        vertical-align: top;\n",
       "    }\n",
       "\n",
       "    .dataframe thead th {\n",
       "        text-align: right;\n",
       "    }\n",
       "</style>\n",
       "<table border=\"1\" class=\"dataframe\">\n",
       "  <thead>\n",
       "    <tr style=\"text-align: right;\">\n",
       "      <th></th>\n",
       "      <th>Name</th>\n",
       "      <th>Money</th>\n",
       "    </tr>\n",
       "  </thead>\n",
       "  <tbody>\n",
       "    <tr>\n",
       "      <th>0</th>\n",
       "      <td>Adam</td>\n",
       "      <td>8000</td>\n",
       "    </tr>\n",
       "    <tr>\n",
       "      <th>1</th>\n",
       "      <td>Alan</td>\n",
       "      <td>18000</td>\n",
       "    </tr>\n",
       "    <tr>\n",
       "      <th>2</th>\n",
       "      <td>Anchal</td>\n",
       "      <td>32000</td>\n",
       "    </tr>\n",
       "    <tr>\n",
       "      <th>3</th>\n",
       "      <td>Andrew</td>\n",
       "      <td>9000</td>\n",
       "    </tr>\n",
       "    <tr>\n",
       "      <th>4</th>\n",
       "      <td>Arnold</td>\n",
       "      <td>6000</td>\n",
       "    </tr>\n",
       "    <tr>\n",
       "      <th>5</th>\n",
       "      <td>Billy</td>\n",
       "      <td>86000</td>\n",
       "    </tr>\n",
       "  </tbody>\n",
       "</table>\n",
       "</div>"
      ],
      "text/plain": [
       "     Name  Money\n",
       "0    Adam   8000\n",
       "1    Alan  18000\n",
       "2  Anchal  32000\n",
       "3  Andrew   9000\n",
       "4  Arnold   6000\n",
       "5   Billy  86000"
      ]
     },
     "execution_count": 296,
     "metadata": {},
     "output_type": "execute_result"
    }
   ],
   "source": [
    "# grouby : sum, size, min ... : 결과 데이터는 Series\n",
    "money_list = result_df.groupby('Name').sum()['Money'].reset_index()\n",
    "money_list"
   ]
  },
  {
   "cell_type": "code",
   "execution_count": 299,
   "id": "stainless-particle",
   "metadata": {
    "ExecuteTime": {
     "end_time": "2021-07-06T08:45:45.595117Z",
     "start_time": "2021-07-06T08:45:45.560209Z"
    }
   },
   "outputs": [
    {
     "data": {
      "text/html": [
       "<div>\n",
       "<style scoped>\n",
       "    .dataframe tbody tr th:only-of-type {\n",
       "        vertical-align: middle;\n",
       "    }\n",
       "\n",
       "    .dataframe tbody tr th {\n",
       "        vertical-align: top;\n",
       "    }\n",
       "\n",
       "    .dataframe thead th {\n",
       "        text-align: right;\n",
       "    }\n",
       "</style>\n",
       "<table border=\"1\" class=\"dataframe\">\n",
       "  <thead>\n",
       "    <tr style=\"text-align: right;\">\n",
       "      <th></th>\n",
       "      <th>Name</th>\n",
       "      <th>Money</th>\n",
       "    </tr>\n",
       "  </thead>\n",
       "  <tbody>\n",
       "    <tr>\n",
       "      <th>0</th>\n",
       "      <td>Adam</td>\n",
       "      <td>8000</td>\n",
       "    </tr>\n",
       "    <tr>\n",
       "      <th>1</th>\n",
       "      <td>Alan</td>\n",
       "      <td>18000</td>\n",
       "    </tr>\n",
       "    <tr>\n",
       "      <th>2</th>\n",
       "      <td>Anchal</td>\n",
       "      <td>32000</td>\n",
       "    </tr>\n",
       "    <tr>\n",
       "      <th>3</th>\n",
       "      <td>Andrew</td>\n",
       "      <td>9000</td>\n",
       "    </tr>\n",
       "    <tr>\n",
       "      <th>4</th>\n",
       "      <td>Arnold</td>\n",
       "      <td>6000</td>\n",
       "    </tr>\n",
       "    <tr>\n",
       "      <th>5</th>\n",
       "      <td>Billy</td>\n",
       "      <td>86000</td>\n",
       "    </tr>\n",
       "  </tbody>\n",
       "</table>\n",
       "</div>"
      ],
      "text/plain": [
       "     Name  Money\n",
       "0    Adam   8000\n",
       "1    Alan  18000\n",
       "2  Anchal  32000\n",
       "3  Andrew   9000\n",
       "4  Arnold   6000\n",
       "5   Billy  86000"
      ]
     },
     "execution_count": 299,
     "metadata": {},
     "output_type": "execute_result"
    }
   ],
   "source": [
    "# groupby : agg('sum'), agg('mean') ... : DataFrame\n",
    "money_list = result_df.groupby('Name').agg('sum').reset_index()[['Name', 'Money']]\n",
    "money_list"
   ]
  },
  {
   "cell_type": "code",
   "execution_count": 300,
   "id": "comprehensive-recommendation",
   "metadata": {
    "ExecuteTime": {
     "end_time": "2021-07-06T08:46:25.563256Z",
     "start_time": "2021-07-06T08:46:25.537319Z"
    }
   },
   "outputs": [
    {
     "data": {
      "text/html": [
       "<div>\n",
       "<style scoped>\n",
       "    .dataframe tbody tr th:only-of-type {\n",
       "        vertical-align: middle;\n",
       "    }\n",
       "\n",
       "    .dataframe tbody tr th {\n",
       "        vertical-align: top;\n",
       "    }\n",
       "\n",
       "    .dataframe thead th {\n",
       "        text-align: right;\n",
       "    }\n",
       "</style>\n",
       "<table border=\"1\" class=\"dataframe\">\n",
       "  <thead>\n",
       "    <tr style=\"text-align: right;\">\n",
       "      <th></th>\n",
       "      <th>ID</th>\n",
       "      <th>Name</th>\n",
       "      <th>Age</th>\n",
       "      <th>Money</th>\n",
       "    </tr>\n",
       "  </thead>\n",
       "  <tbody>\n",
       "    <tr>\n",
       "      <th>0</th>\n",
       "      <td>1</td>\n",
       "      <td>Andrew</td>\n",
       "      <td>21</td>\n",
       "      <td>9000.0</td>\n",
       "    </tr>\n",
       "    <tr>\n",
       "      <th>1</th>\n",
       "      <td>2</td>\n",
       "      <td>Jin</td>\n",
       "      <td>39</td>\n",
       "      <td>NaN</td>\n",
       "    </tr>\n",
       "    <tr>\n",
       "      <th>2</th>\n",
       "      <td>3</td>\n",
       "      <td>Arnold</td>\n",
       "      <td>21</td>\n",
       "      <td>6000.0</td>\n",
       "    </tr>\n",
       "    <tr>\n",
       "      <th>3</th>\n",
       "      <td>4</td>\n",
       "      <td>Adam</td>\n",
       "      <td>28</td>\n",
       "      <td>8000.0</td>\n",
       "    </tr>\n",
       "    <tr>\n",
       "      <th>4</th>\n",
       "      <td>5</td>\n",
       "      <td>Alan</td>\n",
       "      <td>25</td>\n",
       "      <td>18000.0</td>\n",
       "    </tr>\n",
       "    <tr>\n",
       "      <th>5</th>\n",
       "      <td>6</td>\n",
       "      <td>Alvin</td>\n",
       "      <td>37</td>\n",
       "      <td>NaN</td>\n",
       "    </tr>\n",
       "    <tr>\n",
       "      <th>6</th>\n",
       "      <td>7</td>\n",
       "      <td>Billy</td>\n",
       "      <td>37</td>\n",
       "      <td>86000.0</td>\n",
       "    </tr>\n",
       "    <tr>\n",
       "      <th>7</th>\n",
       "      <td>8</td>\n",
       "      <td>Anchal</td>\n",
       "      <td>33</td>\n",
       "      <td>32000.0</td>\n",
       "    </tr>\n",
       "  </tbody>\n",
       "</table>\n",
       "</div>"
      ],
      "text/plain": [
       "  ID    Name Age    Money\n",
       "0  1  Andrew  21   9000.0\n",
       "1  2     Jin  39      NaN\n",
       "2  3  Arnold  21   6000.0\n",
       "3  4    Adam  28   8000.0\n",
       "4  5    Alan  25  18000.0\n",
       "5  6   Alvin  37      NaN\n",
       "6  7   Billy  37  86000.0\n",
       "7  8  Anchal  33  32000.0"
      ]
     },
     "execution_count": 300,
     "metadata": {},
     "output_type": "execute_result"
    }
   ],
   "source": [
    "# merge : money_list, user_df : outer\n",
    "\n",
    "result_df = pd.merge(user_df, money_list, how='outer')\n",
    "result_df"
   ]
  },
  {
   "cell_type": "code",
   "execution_count": 302,
   "id": "magnetic-leadership",
   "metadata": {
    "ExecuteTime": {
     "end_time": "2021-07-06T08:46:55.875789Z",
     "start_time": "2021-07-06T08:46:55.853880Z"
    }
   },
   "outputs": [
    {
     "data": {
      "text/html": [
       "<div>\n",
       "<style scoped>\n",
       "    .dataframe tbody tr th:only-of-type {\n",
       "        vertical-align: middle;\n",
       "    }\n",
       "\n",
       "    .dataframe tbody tr th {\n",
       "        vertical-align: top;\n",
       "    }\n",
       "\n",
       "    .dataframe thead th {\n",
       "        text-align: right;\n",
       "    }\n",
       "</style>\n",
       "<table border=\"1\" class=\"dataframe\">\n",
       "  <thead>\n",
       "    <tr style=\"text-align: right;\">\n",
       "      <th></th>\n",
       "      <th>ID</th>\n",
       "      <th>Name</th>\n",
       "      <th>Age</th>\n",
       "      <th>Money</th>\n",
       "    </tr>\n",
       "  </thead>\n",
       "  <tbody>\n",
       "    <tr>\n",
       "      <th>0</th>\n",
       "      <td>1</td>\n",
       "      <td>Andrew</td>\n",
       "      <td>21</td>\n",
       "      <td>9000.0</td>\n",
       "    </tr>\n",
       "    <tr>\n",
       "      <th>1</th>\n",
       "      <td>2</td>\n",
       "      <td>Jin</td>\n",
       "      <td>39</td>\n",
       "      <td>0.0</td>\n",
       "    </tr>\n",
       "    <tr>\n",
       "      <th>2</th>\n",
       "      <td>3</td>\n",
       "      <td>Arnold</td>\n",
       "      <td>21</td>\n",
       "      <td>6000.0</td>\n",
       "    </tr>\n",
       "    <tr>\n",
       "      <th>3</th>\n",
       "      <td>4</td>\n",
       "      <td>Adam</td>\n",
       "      <td>28</td>\n",
       "      <td>8000.0</td>\n",
       "    </tr>\n",
       "    <tr>\n",
       "      <th>4</th>\n",
       "      <td>5</td>\n",
       "      <td>Alan</td>\n",
       "      <td>25</td>\n",
       "      <td>18000.0</td>\n",
       "    </tr>\n",
       "    <tr>\n",
       "      <th>5</th>\n",
       "      <td>6</td>\n",
       "      <td>Alvin</td>\n",
       "      <td>37</td>\n",
       "      <td>0.0</td>\n",
       "    </tr>\n",
       "    <tr>\n",
       "      <th>6</th>\n",
       "      <td>7</td>\n",
       "      <td>Billy</td>\n",
       "      <td>37</td>\n",
       "      <td>86000.0</td>\n",
       "    </tr>\n",
       "    <tr>\n",
       "      <th>7</th>\n",
       "      <td>8</td>\n",
       "      <td>Anchal</td>\n",
       "      <td>33</td>\n",
       "      <td>32000.0</td>\n",
       "    </tr>\n",
       "  </tbody>\n",
       "</table>\n",
       "</div>"
      ],
      "text/plain": [
       "   ID    Name  Age    Money\n",
       "0   1  Andrew   21   9000.0\n",
       "1   2     Jin   39      0.0\n",
       "2   3  Arnold   21   6000.0\n",
       "3   4    Adam   28   8000.0\n",
       "4   5    Alan   25  18000.0\n",
       "5   6   Alvin   37      0.0\n",
       "6   7   Billy   37  86000.0\n",
       "7   8  Anchal   33  32000.0"
      ]
     },
     "execution_count": 302,
     "metadata": {},
     "output_type": "execute_result"
    }
   ],
   "source": [
    "# Nan 값을 0으로 채워주기\n",
    "\n",
    "result_df.fillna(0, inplace=True)\n",
    "result_df"
   ]
  },
  {
   "cell_type": "code",
   "execution_count": 307,
   "id": "junior-reserve",
   "metadata": {
    "ExecuteTime": {
     "end_time": "2021-07-06T08:48:02.140733Z",
     "start_time": "2021-07-06T08:48:02.130759Z"
    }
   },
   "outputs": [
    {
     "data": {
      "text/plain": [
       "ID         int64\n",
       "Name      object\n",
       "Age        int64\n",
       "Money    float64\n",
       "dtype: object"
      ]
     },
     "execution_count": 307,
     "metadata": {},
     "output_type": "execute_result"
    }
   ],
   "source": [
    "# money 컬럼을 정수 데이터 타입으로 변경\n",
    "\n",
    "result_df.dtypes"
   ]
  },
  {
   "cell_type": "code",
   "execution_count": 309,
   "id": "empirical-transparency",
   "metadata": {
    "ExecuteTime": {
     "end_time": "2021-07-06T08:48:16.919239Z",
     "start_time": "2021-07-06T08:48:16.896300Z"
    }
   },
   "outputs": [
    {
     "data": {
      "text/plain": [
       "ID        int64\n",
       "Name     object\n",
       "Age       int64\n",
       "Money     int32\n",
       "dtype: object"
      ]
     },
     "execution_count": 309,
     "metadata": {},
     "output_type": "execute_result"
    }
   ],
   "source": [
    "result_df['Money'] = result_df['Money'].astype('int')\n",
    "result_df.dtypes"
   ]
  },
  {
   "cell_type": "code",
   "execution_count": 310,
   "id": "substantial-poster",
   "metadata": {
    "ExecuteTime": {
     "end_time": "2021-07-06T08:48:23.261388Z",
     "start_time": "2021-07-06T08:48:23.242653Z"
    }
   },
   "outputs": [
    {
     "data": {
      "text/html": [
       "<div>\n",
       "<style scoped>\n",
       "    .dataframe tbody tr th:only-of-type {\n",
       "        vertical-align: middle;\n",
       "    }\n",
       "\n",
       "    .dataframe tbody tr th {\n",
       "        vertical-align: top;\n",
       "    }\n",
       "\n",
       "    .dataframe thead th {\n",
       "        text-align: right;\n",
       "    }\n",
       "</style>\n",
       "<table border=\"1\" class=\"dataframe\">\n",
       "  <thead>\n",
       "    <tr style=\"text-align: right;\">\n",
       "      <th></th>\n",
       "      <th>ID</th>\n",
       "      <th>Name</th>\n",
       "      <th>Age</th>\n",
       "      <th>Money</th>\n",
       "    </tr>\n",
       "  </thead>\n",
       "  <tbody>\n",
       "    <tr>\n",
       "      <th>0</th>\n",
       "      <td>1</td>\n",
       "      <td>Andrew</td>\n",
       "      <td>21</td>\n",
       "      <td>9000</td>\n",
       "    </tr>\n",
       "    <tr>\n",
       "      <th>1</th>\n",
       "      <td>2</td>\n",
       "      <td>Jin</td>\n",
       "      <td>39</td>\n",
       "      <td>0</td>\n",
       "    </tr>\n",
       "    <tr>\n",
       "      <th>2</th>\n",
       "      <td>3</td>\n",
       "      <td>Arnold</td>\n",
       "      <td>21</td>\n",
       "      <td>6000</td>\n",
       "    </tr>\n",
       "    <tr>\n",
       "      <th>3</th>\n",
       "      <td>4</td>\n",
       "      <td>Adam</td>\n",
       "      <td>28</td>\n",
       "      <td>8000</td>\n",
       "    </tr>\n",
       "    <tr>\n",
       "      <th>4</th>\n",
       "      <td>5</td>\n",
       "      <td>Alan</td>\n",
       "      <td>25</td>\n",
       "      <td>18000</td>\n",
       "    </tr>\n",
       "    <tr>\n",
       "      <th>5</th>\n",
       "      <td>6</td>\n",
       "      <td>Alvin</td>\n",
       "      <td>37</td>\n",
       "      <td>0</td>\n",
       "    </tr>\n",
       "    <tr>\n",
       "      <th>6</th>\n",
       "      <td>7</td>\n",
       "      <td>Billy</td>\n",
       "      <td>37</td>\n",
       "      <td>86000</td>\n",
       "    </tr>\n",
       "    <tr>\n",
       "      <th>7</th>\n",
       "      <td>8</td>\n",
       "      <td>Anchal</td>\n",
       "      <td>33</td>\n",
       "      <td>32000</td>\n",
       "    </tr>\n",
       "  </tbody>\n",
       "</table>\n",
       "</div>"
      ],
      "text/plain": [
       "   ID    Name  Age  Money\n",
       "0   1  Andrew   21   9000\n",
       "1   2     Jin   39      0\n",
       "2   3  Arnold   21   6000\n",
       "3   4    Adam   28   8000\n",
       "4   5    Alan   25  18000\n",
       "5   6   Alvin   37      0\n",
       "6   7   Billy   37  86000\n",
       "7   8  Anchal   33  32000"
      ]
     },
     "execution_count": 310,
     "metadata": {},
     "output_type": "execute_result"
    }
   ],
   "source": [
    "result_df"
   ]
  },
  {
   "cell_type": "code",
   "execution_count": 312,
   "id": "reasonable-avenue",
   "metadata": {
    "ExecuteTime": {
     "end_time": "2021-07-06T08:49:06.568879Z",
     "start_time": "2021-07-06T08:49:06.554879Z"
    }
   },
   "outputs": [
    {
     "data": {
      "text/html": [
       "<div>\n",
       "<style scoped>\n",
       "    .dataframe tbody tr th:only-of-type {\n",
       "        vertical-align: middle;\n",
       "    }\n",
       "\n",
       "    .dataframe tbody tr th {\n",
       "        vertical-align: top;\n",
       "    }\n",
       "\n",
       "    .dataframe thead th {\n",
       "        text-align: right;\n",
       "    }\n",
       "</style>\n",
       "<table border=\"1\" class=\"dataframe\">\n",
       "  <thead>\n",
       "    <tr style=\"text-align: right;\">\n",
       "      <th></th>\n",
       "      <th>ID</th>\n",
       "      <th>Name</th>\n",
       "      <th>Age</th>\n",
       "      <th>Money</th>\n",
       "    </tr>\n",
       "  </thead>\n",
       "  <tbody>\n",
       "    <tr>\n",
       "      <th>6</th>\n",
       "      <td>7</td>\n",
       "      <td>Billy</td>\n",
       "      <td>37</td>\n",
       "      <td>86000</td>\n",
       "    </tr>\n",
       "    <tr>\n",
       "      <th>7</th>\n",
       "      <td>8</td>\n",
       "      <td>Anchal</td>\n",
       "      <td>33</td>\n",
       "      <td>32000</td>\n",
       "    </tr>\n",
       "    <tr>\n",
       "      <th>4</th>\n",
       "      <td>5</td>\n",
       "      <td>Alan</td>\n",
       "      <td>25</td>\n",
       "      <td>18000</td>\n",
       "    </tr>\n",
       "    <tr>\n",
       "      <th>0</th>\n",
       "      <td>1</td>\n",
       "      <td>Andrew</td>\n",
       "      <td>21</td>\n",
       "      <td>9000</td>\n",
       "    </tr>\n",
       "    <tr>\n",
       "      <th>3</th>\n",
       "      <td>4</td>\n",
       "      <td>Adam</td>\n",
       "      <td>28</td>\n",
       "      <td>8000</td>\n",
       "    </tr>\n",
       "    <tr>\n",
       "      <th>2</th>\n",
       "      <td>3</td>\n",
       "      <td>Arnold</td>\n",
       "      <td>21</td>\n",
       "      <td>6000</td>\n",
       "    </tr>\n",
       "    <tr>\n",
       "      <th>1</th>\n",
       "      <td>2</td>\n",
       "      <td>Jin</td>\n",
       "      <td>39</td>\n",
       "      <td>0</td>\n",
       "    </tr>\n",
       "    <tr>\n",
       "      <th>5</th>\n",
       "      <td>6</td>\n",
       "      <td>Alvin</td>\n",
       "      <td>37</td>\n",
       "      <td>0</td>\n",
       "    </tr>\n",
       "  </tbody>\n",
       "</table>\n",
       "</div>"
      ],
      "text/plain": [
       "   ID    Name  Age  Money\n",
       "6   7   Billy   37  86000\n",
       "7   8  Anchal   33  32000\n",
       "4   5    Alan   25  18000\n",
       "0   1  Andrew   21   9000\n",
       "3   4    Adam   28   8000\n",
       "2   3  Arnold   21   6000\n",
       "1   2     Jin   39      0\n",
       "5   6   Alvin   37      0"
      ]
     },
     "execution_count": 312,
     "metadata": {},
     "output_type": "execute_result"
    }
   ],
   "source": [
    "# sorting\n",
    "\n",
    "result_df.sort_values('Money', ascending=False)"
   ]
  },
  {
   "cell_type": "markdown",
   "id": "powered-publication",
   "metadata": {},
   "source": [
    "### Pandas Pivot\n",
    "- 데이터 프레임의 컬럼 데이터에서 index, column, value를 선택해서 데이터 프레임을 만드는 방법\n",
    "- `df.pivot(index, columns, values)`\n",
    "    - groupby를 하고 pivot\n",
    "- `df.pivot_table(values, index, columns, aggfunc)`"
   ]
  },
  {
   "cell_type": "markdown",
   "id": "naval-supervisor",
   "metadata": {},
   "source": [
    "### pandas io\n",
    "- 데이터 프레임을 저장, 로드"
   ]
  },
  {
   "cell_type": "code",
   "execution_count": 317,
   "id": "mediterranean-astrology",
   "metadata": {
    "ExecuteTime": {
     "end_time": "2021-07-06T09:07:46.069350Z",
     "start_time": "2021-07-06T09:07:46.047410Z"
    }
   },
   "outputs": [
    {
     "data": {
      "text/html": [
       "<div>\n",
       "<style scoped>\n",
       "    .dataframe tbody tr th:only-of-type {\n",
       "        vertical-align: middle;\n",
       "    }\n",
       "\n",
       "    .dataframe tbody tr th {\n",
       "        vertical-align: top;\n",
       "    }\n",
       "\n",
       "    .dataframe thead th {\n",
       "        text-align: right;\n",
       "    }\n",
       "</style>\n",
       "<table border=\"1\" class=\"dataframe\">\n",
       "  <thead>\n",
       "    <tr style=\"text-align: right;\">\n",
       "      <th></th>\n",
       "      <th>PassengerId</th>\n",
       "      <th>Survived</th>\n",
       "      <th>Pclass</th>\n",
       "      <th>Name</th>\n",
       "      <th>Sex</th>\n",
       "      <th>Age</th>\n",
       "      <th>SibSp</th>\n",
       "      <th>Parch</th>\n",
       "      <th>Ticket</th>\n",
       "      <th>Fare</th>\n",
       "      <th>Cabin</th>\n",
       "      <th>Embarked</th>\n",
       "    </tr>\n",
       "  </thead>\n",
       "  <tbody>\n",
       "    <tr>\n",
       "      <th>889</th>\n",
       "      <td>890</td>\n",
       "      <td>1</td>\n",
       "      <td>1</td>\n",
       "      <td>Behr, Mr. Karl Howell</td>\n",
       "      <td>male</td>\n",
       "      <td>26.0</td>\n",
       "      <td>0</td>\n",
       "      <td>0</td>\n",
       "      <td>111369</td>\n",
       "      <td>30.00</td>\n",
       "      <td>C148</td>\n",
       "      <td>C</td>\n",
       "    </tr>\n",
       "    <tr>\n",
       "      <th>890</th>\n",
       "      <td>891</td>\n",
       "      <td>0</td>\n",
       "      <td>3</td>\n",
       "      <td>Dooley, Mr. Patrick</td>\n",
       "      <td>male</td>\n",
       "      <td>32.0</td>\n",
       "      <td>0</td>\n",
       "      <td>0</td>\n",
       "      <td>370376</td>\n",
       "      <td>7.75</td>\n",
       "      <td>NaN</td>\n",
       "      <td>Q</td>\n",
       "    </tr>\n",
       "  </tbody>\n",
       "</table>\n",
       "</div>"
      ],
      "text/plain": [
       "     PassengerId  Survived  Pclass                   Name   Sex   Age  SibSp  \\\n",
       "889          890         1       1  Behr, Mr. Karl Howell  male  26.0      0   \n",
       "890          891         0       3    Dooley, Mr. Patrick  male  32.0      0   \n",
       "\n",
       "     Parch  Ticket   Fare Cabin Embarked  \n",
       "889      0  111369  30.00  C148        C  \n",
       "890      0  370376   7.75   NaN        Q  "
      ]
     },
     "execution_count": 317,
     "metadata": {},
     "output_type": "execute_result"
    }
   ],
   "source": [
    "# load\n",
    "\n",
    "titanic = pd.read_csv('./datas/train.csv')\n",
    "titanic.tail(2)"
   ]
  },
  {
   "cell_type": "code",
   "execution_count": null,
   "id": "funny-evolution",
   "metadata": {},
   "outputs": [],
   "source": [
    "# sace\n",
    "\n",
    "titanic.to_csv('datas/titanic.tsv', sep='\\t', index=False)"
   ]
  },
  {
   "cell_type": "code",
   "execution_count": 321,
   "id": "royal-finding",
   "metadata": {
    "ExecuteTime": {
     "end_time": "2021-07-06T09:09:22.460322Z",
     "start_time": "2021-07-06T09:09:22.379486Z"
    }
   },
   "outputs": [
    {
     "data": {
      "text/html": [
       "<div>\n",
       "<style scoped>\n",
       "    .dataframe tbody tr th:only-of-type {\n",
       "        vertical-align: middle;\n",
       "    }\n",
       "\n",
       "    .dataframe tbody tr th {\n",
       "        vertical-align: top;\n",
       "    }\n",
       "\n",
       "    .dataframe thead th {\n",
       "        text-align: right;\n",
       "    }\n",
       "</style>\n",
       "<table border=\"1\" class=\"dataframe\">\n",
       "  <thead>\n",
       "    <tr style=\"text-align: right;\">\n",
       "      <th></th>\n",
       "      <th>ID</th>\n",
       "      <th>RCTRCK</th>\n",
       "      <th>RACE_DE</th>\n",
       "      <th>RACE_NO</th>\n",
       "      <th>PARTCPT_NO</th>\n",
       "      <th>RANK</th>\n",
       "      <th>RCHOSE_NM</th>\n",
       "      <th>HRSMN</th>\n",
       "      <th>RCORD</th>\n",
       "      <th>ARVL_DFFRNC</th>\n",
       "      <th>EACH_SCTN_PASAGE_RANK</th>\n",
       "      <th>A_WIN_SYTM_EXPECT_ALOT</th>\n",
       "      <th>WIN_STA_EXPECT_ALOT</th>\n",
       "    </tr>\n",
       "  </thead>\n",
       "  <tbody>\n",
       "    <tr>\n",
       "      <th>0</th>\n",
       "      <td>1</td>\n",
       "      <td>부경</td>\n",
       "      <td>2014-01-03</td>\n",
       "      <td>12</td>\n",
       "      <td>6</td>\n",
       "      <td>8.0</td>\n",
       "      <td>프리마돈</td>\n",
       "      <td>설동복</td>\n",
       "      <td>0:02:07.5</td>\n",
       "      <td>머리</td>\n",
       "      <td>8 - 7 - 4 - 5 - 5 - 4 - 4</td>\n",
       "      <td>16.9</td>\n",
       "      <td>4.7</td>\n",
       "    </tr>\n",
       "    <tr>\n",
       "      <th>1</th>\n",
       "      <td>2</td>\n",
       "      <td>부경</td>\n",
       "      <td>2014-01-03</td>\n",
       "      <td>8</td>\n",
       "      <td>2</td>\n",
       "      <td>8.0</td>\n",
       "      <td>중앙최강</td>\n",
       "      <td>이성재</td>\n",
       "      <td>0:01:39.1</td>\n",
       "      <td>½</td>\n",
       "      <td>11 -  - 11 - 11 - 12 - 10 - 8</td>\n",
       "      <td>30.2</td>\n",
       "      <td>5.1</td>\n",
       "    </tr>\n",
       "    <tr>\n",
       "      <th>2</th>\n",
       "      <td>3</td>\n",
       "      <td>부경</td>\n",
       "      <td>2014-01-03</td>\n",
       "      <td>8</td>\n",
       "      <td>1</td>\n",
       "      <td>11.0</td>\n",
       "      <td>맹호소리</td>\n",
       "      <td>김태경</td>\n",
       "      <td>0:01:42.3</td>\n",
       "      <td>5</td>\n",
       "      <td>10 -  - 10 - 10 - 11 - 11 - 11</td>\n",
       "      <td>99.8</td>\n",
       "      <td>9.1</td>\n",
       "    </tr>\n",
       "    <tr>\n",
       "      <th>3</th>\n",
       "      <td>4</td>\n",
       "      <td>부경</td>\n",
       "      <td>2014-01-03</td>\n",
       "      <td>5</td>\n",
       "      <td>9</td>\n",
       "      <td>1.0</td>\n",
       "      <td>스마트에너지</td>\n",
       "      <td>후지이</td>\n",
       "      <td>0:01:02.0</td>\n",
       "      <td>NaN</td>\n",
       "      <td>8 -  -  -  - 8 - 7 - 2</td>\n",
       "      <td>3.3</td>\n",
       "      <td>1.3</td>\n",
       "    </tr>\n",
       "    <tr>\n",
       "      <th>4</th>\n",
       "      <td>5</td>\n",
       "      <td>부경</td>\n",
       "      <td>2014-01-03</td>\n",
       "      <td>4</td>\n",
       "      <td>3</td>\n",
       "      <td>3.0</td>\n",
       "      <td>금포스카이</td>\n",
       "      <td>유현명</td>\n",
       "      <td>0:01:25.5</td>\n",
       "      <td>4</td>\n",
       "      <td>4 -  - 3 - 7 - 7 - 4 - 4</td>\n",
       "      <td>3.4</td>\n",
       "      <td>1.2</td>\n",
       "    </tr>\n",
       "  </tbody>\n",
       "</table>\n",
       "</div>"
      ],
      "text/plain": [
       "   ID RCTRCK     RACE_DE  RACE_NO  PARTCPT_NO  RANK RCHOSE_NM HRSMN  \\\n",
       "0   1     부경  2014-01-03       12           6   8.0      프리마돈   설동복   \n",
       "1   2     부경  2014-01-03        8           2   8.0      중앙최강   이성재   \n",
       "2   3     부경  2014-01-03        8           1  11.0      맹호소리   김태경   \n",
       "3   4     부경  2014-01-03        5           9   1.0    스마트에너지   후지이   \n",
       "4   5     부경  2014-01-03        4           3   3.0     금포스카이   유현명   \n",
       "\n",
       "       RCORD ARVL_DFFRNC           EACH_SCTN_PASAGE_RANK  \\\n",
       "0  0:02:07.5          머리       8 - 7 - 4 - 5 - 5 - 4 - 4   \n",
       "1  0:01:39.1           ½   11 -  - 11 - 11 - 12 - 10 - 8   \n",
       "2  0:01:42.3           5  10 -  - 10 - 10 - 11 - 11 - 11   \n",
       "3  0:01:02.0         NaN          8 -  -  -  - 8 - 7 - 2   \n",
       "4  0:01:25.5           4        4 -  - 3 - 7 - 7 - 4 - 4   \n",
       "\n",
       "   A_WIN_SYTM_EXPECT_ALOT  WIN_STA_EXPECT_ALOT  \n",
       "0                    16.9                  4.7  \n",
       "1                    30.2                  5.1  \n",
       "2                    99.8                  9.1  \n",
       "3                     3.3                  1.3  \n",
       "4                     3.4                  1.2  "
      ]
     },
     "execution_count": 321,
     "metadata": {},
     "output_type": "execute_result"
    }
   ],
   "source": [
    "# load : encoding\n",
    "df = pd.read_csv('datas/2014_p.csv', encoding='euc-kr')\n",
    "df.head()"
   ]
  },
  {
   "cell_type": "code",
   "execution_count": 324,
   "id": "exceptional-liechtenstein",
   "metadata": {
    "ExecuteTime": {
     "end_time": "2021-07-06T09:10:55.513996Z",
     "start_time": "2021-07-06T09:10:55.491057Z"
    }
   },
   "outputs": [
    {
     "data": {
      "text/html": [
       "<div>\n",
       "<style scoped>\n",
       "    .dataframe tbody tr th:only-of-type {\n",
       "        vertical-align: middle;\n",
       "    }\n",
       "\n",
       "    .dataframe tbody tr th {\n",
       "        vertical-align: top;\n",
       "    }\n",
       "\n",
       "    .dataframe thead th {\n",
       "        text-align: right;\n",
       "    }\n",
       "</style>\n",
       "<table border=\"1\" class=\"dataframe\">\n",
       "  <thead>\n",
       "    <tr style=\"text-align: right;\">\n",
       "      <th></th>\n",
       "      <th>Sex</th>\n",
       "      <th>Pclass</th>\n",
       "      <th>count</th>\n",
       "    </tr>\n",
       "  </thead>\n",
       "  <tbody>\n",
       "    <tr>\n",
       "      <th>0</th>\n",
       "      <td>female</td>\n",
       "      <td>1</td>\n",
       "      <td>94</td>\n",
       "    </tr>\n",
       "    <tr>\n",
       "      <th>1</th>\n",
       "      <td>female</td>\n",
       "      <td>2</td>\n",
       "      <td>76</td>\n",
       "    </tr>\n",
       "    <tr>\n",
       "      <th>2</th>\n",
       "      <td>female</td>\n",
       "      <td>3</td>\n",
       "      <td>144</td>\n",
       "    </tr>\n",
       "    <tr>\n",
       "      <th>3</th>\n",
       "      <td>male</td>\n",
       "      <td>1</td>\n",
       "      <td>122</td>\n",
       "    </tr>\n",
       "    <tr>\n",
       "      <th>4</th>\n",
       "      <td>male</td>\n",
       "      <td>2</td>\n",
       "      <td>108</td>\n",
       "    </tr>\n",
       "    <tr>\n",
       "      <th>5</th>\n",
       "      <td>male</td>\n",
       "      <td>3</td>\n",
       "      <td>347</td>\n",
       "    </tr>\n",
       "  </tbody>\n",
       "</table>\n",
       "</div>"
      ],
      "text/plain": [
       "      Sex  Pclass  count\n",
       "0  female       1     94\n",
       "1  female       2     76\n",
       "2  female       3    144\n",
       "3    male       1    122\n",
       "4    male       2    108\n",
       "5    male       3    347"
      ]
     },
     "execution_count": 324,
     "metadata": {},
     "output_type": "execute_result"
    }
   ],
   "source": [
    "# 1. 성별, 좌석등급에 따른 데이터의 수\n",
    "\n",
    "df1 = titanic.groupby(['Sex', 'Pclass']).size().reset_index(name='count')\n",
    "df1"
   ]
  },
  {
   "cell_type": "code",
   "execution_count": 326,
   "id": "super-detail",
   "metadata": {
    "ExecuteTime": {
     "end_time": "2021-07-06T09:11:45.937920Z",
     "start_time": "2021-07-06T09:11:45.916977Z"
    }
   },
   "outputs": [
    {
     "data": {
      "text/html": [
       "<div>\n",
       "<style scoped>\n",
       "    .dataframe tbody tr th:only-of-type {\n",
       "        vertical-align: middle;\n",
       "    }\n",
       "\n",
       "    .dataframe tbody tr th {\n",
       "        vertical-align: top;\n",
       "    }\n",
       "\n",
       "    .dataframe thead th {\n",
       "        text-align: right;\n",
       "    }\n",
       "</style>\n",
       "<table border=\"1\" class=\"dataframe\">\n",
       "  <thead>\n",
       "    <tr style=\"text-align: right;\">\n",
       "      <th>Pclass</th>\n",
       "      <th>1</th>\n",
       "      <th>2</th>\n",
       "      <th>3</th>\n",
       "    </tr>\n",
       "    <tr>\n",
       "      <th>Sex</th>\n",
       "      <th></th>\n",
       "      <th></th>\n",
       "      <th></th>\n",
       "    </tr>\n",
       "  </thead>\n",
       "  <tbody>\n",
       "    <tr>\n",
       "      <th>female</th>\n",
       "      <td>94</td>\n",
       "      <td>76</td>\n",
       "      <td>144</td>\n",
       "    </tr>\n",
       "    <tr>\n",
       "      <th>male</th>\n",
       "      <td>122</td>\n",
       "      <td>108</td>\n",
       "      <td>347</td>\n",
       "    </tr>\n",
       "  </tbody>\n",
       "</table>\n",
       "</div>"
      ],
      "text/plain": [
       "Pclass    1    2    3\n",
       "Sex                  \n",
       "female   94   76  144\n",
       "male    122  108  347"
      ]
     },
     "execution_count": 326,
     "metadata": {},
     "output_type": "execute_result"
    }
   ],
   "source": [
    "# pivot\n",
    "result = df1.pivot('Sex', 'Pclass', 'count')\n",
    "result"
   ]
  },
  {
   "cell_type": "code",
   "execution_count": 328,
   "id": "previous-clothing",
   "metadata": {
    "ExecuteTime": {
     "end_time": "2021-07-06T09:12:30.724806Z",
     "start_time": "2021-07-06T09:12:30.699838Z"
    }
   },
   "outputs": [
    {
     "data": {
      "text/html": [
       "<div>\n",
       "<style scoped>\n",
       "    .dataframe tbody tr th:only-of-type {\n",
       "        vertical-align: middle;\n",
       "    }\n",
       "\n",
       "    .dataframe tbody tr th {\n",
       "        vertical-align: top;\n",
       "    }\n",
       "\n",
       "    .dataframe thead th {\n",
       "        text-align: right;\n",
       "    }\n",
       "</style>\n",
       "<table border=\"1\" class=\"dataframe\">\n",
       "  <thead>\n",
       "    <tr style=\"text-align: right;\">\n",
       "      <th></th>\n",
       "      <th>PassengerId</th>\n",
       "      <th>Survived</th>\n",
       "      <th>Pclass</th>\n",
       "      <th>Name</th>\n",
       "      <th>Sex</th>\n",
       "      <th>Age</th>\n",
       "      <th>SibSp</th>\n",
       "      <th>Parch</th>\n",
       "      <th>Ticket</th>\n",
       "      <th>Fare</th>\n",
       "      <th>Cabin</th>\n",
       "      <th>Embarked</th>\n",
       "      <th>counts</th>\n",
       "    </tr>\n",
       "  </thead>\n",
       "  <tbody>\n",
       "    <tr>\n",
       "      <th>889</th>\n",
       "      <td>890</td>\n",
       "      <td>1</td>\n",
       "      <td>1</td>\n",
       "      <td>Behr, Mr. Karl Howell</td>\n",
       "      <td>male</td>\n",
       "      <td>26.0</td>\n",
       "      <td>0</td>\n",
       "      <td>0</td>\n",
       "      <td>111369</td>\n",
       "      <td>30.00</td>\n",
       "      <td>C148</td>\n",
       "      <td>C</td>\n",
       "      <td>1</td>\n",
       "    </tr>\n",
       "    <tr>\n",
       "      <th>890</th>\n",
       "      <td>891</td>\n",
       "      <td>0</td>\n",
       "      <td>3</td>\n",
       "      <td>Dooley, Mr. Patrick</td>\n",
       "      <td>male</td>\n",
       "      <td>32.0</td>\n",
       "      <td>0</td>\n",
       "      <td>0</td>\n",
       "      <td>370376</td>\n",
       "      <td>7.75</td>\n",
       "      <td>NaN</td>\n",
       "      <td>Q</td>\n",
       "      <td>1</td>\n",
       "    </tr>\n",
       "  </tbody>\n",
       "</table>\n",
       "</div>"
      ],
      "text/plain": [
       "     PassengerId  Survived  Pclass                   Name   Sex   Age  SibSp  \\\n",
       "889          890         1       1  Behr, Mr. Karl Howell  male  26.0      0   \n",
       "890          891         0       3    Dooley, Mr. Patrick  male  32.0      0   \n",
       "\n",
       "     Parch  Ticket   Fare Cabin Embarked  counts  \n",
       "889      0  111369  30.00  C148        C       1  \n",
       "890      0  370376   7.75   NaN        Q       1  "
      ]
     },
     "execution_count": 328,
     "metadata": {},
     "output_type": "execute_result"
    }
   ],
   "source": [
    "# pivot table 이용\n",
    "\n",
    "titanic['counts'] = 1\n",
    "titanic.tail(2)"
   ]
  },
  {
   "cell_type": "code",
   "execution_count": 338,
   "id": "rough-going",
   "metadata": {
    "ExecuteTime": {
     "end_time": "2021-07-06T09:15:55.497966Z",
     "start_time": "2021-07-06T09:15:55.477274Z"
    }
   },
   "outputs": [
    {
     "data": {
      "text/html": [
       "<div>\n",
       "<style scoped>\n",
       "    .dataframe tbody tr th:only-of-type {\n",
       "        vertical-align: middle;\n",
       "    }\n",
       "\n",
       "    .dataframe tbody tr th {\n",
       "        vertical-align: top;\n",
       "    }\n",
       "\n",
       "    .dataframe thead th {\n",
       "        text-align: right;\n",
       "    }\n",
       "</style>\n",
       "<table border=\"1\" class=\"dataframe\">\n",
       "  <thead>\n",
       "    <tr style=\"text-align: right;\">\n",
       "      <th>Survived</th>\n",
       "      <th>0</th>\n",
       "      <th>1</th>\n",
       "    </tr>\n",
       "    <tr>\n",
       "      <th>Pclass</th>\n",
       "      <th></th>\n",
       "      <th></th>\n",
       "    </tr>\n",
       "  </thead>\n",
       "  <tbody>\n",
       "    <tr>\n",
       "      <th>1</th>\n",
       "      <td>80</td>\n",
       "      <td>136</td>\n",
       "    </tr>\n",
       "    <tr>\n",
       "      <th>2</th>\n",
       "      <td>97</td>\n",
       "      <td>87</td>\n",
       "    </tr>\n",
       "    <tr>\n",
       "      <th>3</th>\n",
       "      <td>372</td>\n",
       "      <td>119</td>\n",
       "    </tr>\n",
       "  </tbody>\n",
       "</table>\n",
       "</div>"
      ],
      "text/plain": [
       "Survived    0    1\n",
       "Pclass            \n",
       "1          80  136\n",
       "2          97   87\n",
       "3         372  119"
      ]
     },
     "execution_count": 338,
     "metadata": {},
     "output_type": "execute_result"
    }
   ],
   "source": [
    "# pivot_table 함수\n",
    "\n",
    "result = titanic.pivot_table('counts', 'Pclass', 'Survived', aggfunc = np.sum)\n",
    "result"
   ]
  },
  {
   "cell_type": "code",
   "execution_count": 339,
   "id": "wound-lease",
   "metadata": {
    "ExecuteTime": {
     "end_time": "2021-07-06T09:15:55.947115Z",
     "start_time": "2021-07-06T09:15:55.935094Z"
    }
   },
   "outputs": [
    {
     "data": {
      "text/html": [
       "<div>\n",
       "<style scoped>\n",
       "    .dataframe tbody tr th:only-of-type {\n",
       "        vertical-align: middle;\n",
       "    }\n",
       "\n",
       "    .dataframe tbody tr th {\n",
       "        vertical-align: top;\n",
       "    }\n",
       "\n",
       "    .dataframe thead th {\n",
       "        text-align: right;\n",
       "    }\n",
       "</style>\n",
       "<table border=\"1\" class=\"dataframe\">\n",
       "  <thead>\n",
       "    <tr style=\"text-align: right;\">\n",
       "      <th>Survived</th>\n",
       "      <th>0</th>\n",
       "      <th>1</th>\n",
       "      <th>total</th>\n",
       "    </tr>\n",
       "    <tr>\n",
       "      <th>Pclass</th>\n",
       "      <th></th>\n",
       "      <th></th>\n",
       "      <th></th>\n",
       "    </tr>\n",
       "  </thead>\n",
       "  <tbody>\n",
       "    <tr>\n",
       "      <th>1</th>\n",
       "      <td>80</td>\n",
       "      <td>136</td>\n",
       "      <td>216</td>\n",
       "    </tr>\n",
       "    <tr>\n",
       "      <th>2</th>\n",
       "      <td>97</td>\n",
       "      <td>87</td>\n",
       "      <td>184</td>\n",
       "    </tr>\n",
       "    <tr>\n",
       "      <th>3</th>\n",
       "      <td>372</td>\n",
       "      <td>119</td>\n",
       "      <td>491</td>\n",
       "    </tr>\n",
       "  </tbody>\n",
       "</table>\n",
       "</div>"
      ],
      "text/plain": [
       "Survived    0    1  total\n",
       "Pclass                   \n",
       "1          80  136    216\n",
       "2          97   87    184\n",
       "3         372  119    491"
      ]
     },
     "execution_count": 339,
     "metadata": {},
     "output_type": "execute_result"
    }
   ],
   "source": [
    "result['total'] = result[0] + result[1]\n",
    "result"
   ]
  },
  {
   "cell_type": "code",
   "execution_count": 340,
   "id": "declared-induction",
   "metadata": {
    "ExecuteTime": {
     "end_time": "2021-07-06T09:15:56.750304Z",
     "start_time": "2021-07-06T09:15:56.729366Z"
    }
   },
   "outputs": [
    {
     "data": {
      "text/html": [
       "<div>\n",
       "<style scoped>\n",
       "    .dataframe tbody tr th:only-of-type {\n",
       "        vertical-align: middle;\n",
       "    }\n",
       "\n",
       "    .dataframe tbody tr th {\n",
       "        vertical-align: top;\n",
       "    }\n",
       "\n",
       "    .dataframe thead th {\n",
       "        text-align: right;\n",
       "    }\n",
       "</style>\n",
       "<table border=\"1\" class=\"dataframe\">\n",
       "  <thead>\n",
       "    <tr style=\"text-align: right;\">\n",
       "      <th>Survived</th>\n",
       "      <th>0</th>\n",
       "      <th>1</th>\n",
       "      <th>total</th>\n",
       "    </tr>\n",
       "    <tr>\n",
       "      <th>Pclass</th>\n",
       "      <th></th>\n",
       "      <th></th>\n",
       "      <th></th>\n",
       "    </tr>\n",
       "  </thead>\n",
       "  <tbody>\n",
       "    <tr>\n",
       "      <th>1</th>\n",
       "      <td>80</td>\n",
       "      <td>136</td>\n",
       "      <td>216</td>\n",
       "    </tr>\n",
       "    <tr>\n",
       "      <th>2</th>\n",
       "      <td>97</td>\n",
       "      <td>87</td>\n",
       "      <td>184</td>\n",
       "    </tr>\n",
       "    <tr>\n",
       "      <th>3</th>\n",
       "      <td>372</td>\n",
       "      <td>119</td>\n",
       "      <td>491</td>\n",
       "    </tr>\n",
       "    <tr>\n",
       "      <th>total</th>\n",
       "      <td>549</td>\n",
       "      <td>342</td>\n",
       "      <td>891</td>\n",
       "    </tr>\n",
       "  </tbody>\n",
       "</table>\n",
       "</div>"
      ],
      "text/plain": [
       "Survived    0    1  total\n",
       "Pclass                   \n",
       "1          80  136    216\n",
       "2          97   87    184\n",
       "3         372  119    491\n",
       "total     549  342    891"
      ]
     },
     "execution_count": 340,
     "metadata": {},
     "output_type": "execute_result"
    }
   ],
   "source": [
    "result.loc['total'] = result.loc[1] + result.loc[2] + result.loc[3]\n",
    "result"
   ]
  },
  {
   "cell_type": "code",
   "execution_count": null,
   "id": "outdoor-springfield",
   "metadata": {},
   "outputs": [],
   "source": []
  }
 ],
 "metadata": {
  "kernelspec": {
   "display_name": "Python 3",
   "language": "python",
   "name": "python3"
  },
  "language_info": {
   "codemirror_mode": {
    "name": "ipython",
    "version": 3
   },
   "file_extension": ".py",
   "mimetype": "text/x-python",
   "name": "python",
   "nbconvert_exporter": "python",
   "pygments_lexer": "ipython3",
   "version": "3.7.10"
  },
  "nbTranslate": {
   "displayLangs": [
    "*"
   ],
   "hotkey": "alt-t",
   "langInMainMenu": true,
   "sourceLang": "en",
   "targetLang": "fr",
   "useGoogleTranslate": true
  },
  "varInspector": {
   "cols": {
    "lenName": 16,
    "lenType": 16,
    "lenVar": 40
   },
   "kernels_config": {
    "python": {
     "delete_cmd_postfix": "",
     "delete_cmd_prefix": "del ",
     "library": "var_list.py",
     "varRefreshCmd": "print(var_dic_list())"
    },
    "r": {
     "delete_cmd_postfix": ") ",
     "delete_cmd_prefix": "rm(",
     "library": "var_list.r",
     "varRefreshCmd": "cat(var_dic_list()) "
    }
   },
   "types_to_exclude": [
    "module",
    "function",
    "builtin_function_or_method",
    "instance",
    "_Feature"
   ],
   "window_display": false
  }
 },
 "nbformat": 4,
 "nbformat_minor": 5
}
