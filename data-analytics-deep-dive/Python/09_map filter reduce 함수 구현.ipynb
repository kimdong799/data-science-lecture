{
 "cells": [
  {
   "cell_type": "markdown",
   "id": "female-factor",
   "metadata": {},
   "source": [
    "### quiz 1:\n",
    "- map 함수를 map_func 함수의 이름으로 수현\n",
    "- 리스트의 데이터를 아래의 예제와 같이 더하는 함수를 만드는데 따로 함수를 선언해서 사용하지 말고 map의 첫번째 파라미터에 lambda 함수로 구현."
   ]
  },
  {
   "cell_type": "markdown",
   "id": "marked-terminal",
   "metadata": {},
   "source": [
    "`\n",
    "ls1 = [1, 2, 3, 4]\n",
    "ls2 = [5, 6, 7]\n",
    "ls3 = [9, 10, 11, 12]\n",
    "result = [15, 18, 21\n",
    "`"
   ]
  },
  {
   "cell_type": "code",
   "execution_count": 1,
   "id": "valued-snake",
   "metadata": {
    "ExecuteTime": {
     "end_time": "2021-07-05T05:59:16.081532Z",
     "start_time": "2021-07-05T05:59:16.065384Z"
    }
   },
   "outputs": [],
   "source": [
    "ls1 = [1, 2, 3, 4]\n",
    "ls2 = [5, 6, 7]\n",
    "ls3 = [9, 10, 11, 12]"
   ]
  },
  {
   "cell_type": "code",
   "execution_count": 22,
   "id": "bibliographic-example",
   "metadata": {
    "ExecuteTime": {
     "end_time": "2021-07-05T06:26:55.502440Z",
     "start_time": "2021-07-05T06:26:55.492467Z"
    }
   },
   "outputs": [
    {
     "data": {
      "text/plain": [
       "[15, 18, 21]"
      ]
     },
     "execution_count": 22,
     "metadata": {},
     "output_type": "execute_result"
    }
   ],
   "source": [
    "# map 함수 사용\n",
    "\n",
    "list(map(lambda *args : sum(args), ls1, ls2, ls3))"
   ]
  },
  {
   "cell_type": "code",
   "execution_count": 36,
   "id": "ongoing-timing",
   "metadata": {
    "ExecuteTime": {
     "end_time": "2021-07-05T06:30:40.527004Z",
     "start_time": "2021-07-05T06:30:40.510224Z"
    }
   },
   "outputs": [],
   "source": [
    "# map_func 이름으로 map 함수를 구현하세요.\n",
    "\n",
    "def map_func(*args):\n",
    "    \n",
    "    min_len = 999\n",
    "    \n",
    "    # 파라미터로 넘어온 리스트 중 최소 길이를 구함\n",
    "    for i in args:\n",
    "        if min_len >= len(i):\n",
    "            min_len = len(i)\n",
    "            \n",
    "    result = []\n",
    "    \n",
    "    # 0번 ~ 최소 index -1 까지의 index\n",
    "    for idx in range(0, min_len):\n",
    "        ele_sum = 0\n",
    "        # 파라미터로 넘어온 값들 중 개별 리스트에 대해 코드 수행\n",
    "        for ele in args:\n",
    "            ele_sum += ele[idx]\n",
    "        result.append(ele_sum)\n",
    "    \n",
    "    return result"
   ]
  },
  {
   "cell_type": "code",
   "execution_count": 37,
   "id": "tested-major",
   "metadata": {
    "ExecuteTime": {
     "end_time": "2021-07-05T06:30:40.857028Z",
     "start_time": "2021-07-05T06:30:40.843977Z"
    }
   },
   "outputs": [
    {
     "data": {
      "text/plain": [
       "[15, 18, 21]"
      ]
     },
     "execution_count": 37,
     "metadata": {},
     "output_type": "execute_result"
    }
   ],
   "source": [
    "map_func(ls1, ls2, ls3)"
   ]
  },
  {
   "cell_type": "code",
   "execution_count": 45,
   "id": "viral-providence",
   "metadata": {
    "ExecuteTime": {
     "end_time": "2021-07-05T06:35:36.601862Z",
     "start_time": "2021-07-05T06:35:36.583941Z"
    }
   },
   "outputs": [],
   "source": [
    "# 강의 해답\n",
    "# args : (ls1, ls2, ls3) -> 튜플 데이터\n",
    "# zip(*args) : zip(ls1, ls2, ls3)\n",
    "\n",
    "def map_func(func, *args):\n",
    "    return [func(*datas) for datas in zip(*args)]"
   ]
  },
  {
   "cell_type": "code",
   "execution_count": 46,
   "id": "urban-warning",
   "metadata": {
    "ExecuteTime": {
     "end_time": "2021-07-05T06:35:55.214076Z",
     "start_time": "2021-07-05T06:35:55.197523Z"
    }
   },
   "outputs": [
    {
     "data": {
      "text/plain": [
       "[15, 18, 21]"
      ]
     },
     "execution_count": 46,
     "metadata": {},
     "output_type": "execute_result"
    }
   ],
   "source": [
    "map_func(lambda *args : sum(args), ls1, ls2, ls3)"
   ]
  },
  {
   "cell_type": "markdown",
   "id": "functioning-dubai",
   "metadata": {},
   "source": [
    "### quiz 2\n",
    "- filter 함수를 구현하여 1 ~ 10까지 숫자에서 홀수만 출력하는 코드를 작성\n",
    "\n",
    "`\n",
    "ls = range(1, 11)\n",
    "result = [1, 3, 5, 7, 9]\n",
    "`"
   ]
  },
  {
   "cell_type": "code",
   "execution_count": 52,
   "id": "female-slope",
   "metadata": {
    "ExecuteTime": {
     "end_time": "2021-07-05T06:40:31.670443Z",
     "start_time": "2021-07-05T06:40:31.650459Z"
    }
   },
   "outputs": [
    {
     "data": {
      "text/plain": [
       "[2, 4, 6, 8, 10]"
      ]
     },
     "execution_count": 52,
     "metadata": {},
     "output_type": "execute_result"
    }
   ],
   "source": [
    "# filter 함수 사용 시\n",
    "\n",
    "ls = range(1, 11)\n",
    "\n",
    "def is_even(n):\n",
    "    return True if n % 2 == 0 else False\n",
    "\n",
    "list(filter(is_even, ls))"
   ]
  },
  {
   "cell_type": "code",
   "execution_count": 54,
   "id": "heavy-kentucky",
   "metadata": {
    "ExecuteTime": {
     "end_time": "2021-07-05T06:41:36.741082Z",
     "start_time": "2021-07-05T06:41:36.730150Z"
    }
   },
   "outputs": [
    {
     "data": {
      "text/plain": [
       "[1, 3, 5, 7, 9]"
      ]
     },
     "execution_count": 54,
     "metadata": {},
     "output_type": "execute_result"
    }
   ],
   "source": [
    "# filter function 구현\n",
    "\n",
    "def filter_func(func, datas):\n",
    "    return [data for data in datas if func(data)]\n",
    "\n",
    "filter_func(lambda number : number % 2, ls)"
   ]
  },
  {
   "cell_type": "markdown",
   "id": "governmental-springer",
   "metadata": {},
   "source": [
    "### quiz 3\n",
    "- reduce 함수 구현"
   ]
  },
  {
   "cell_type": "code",
   "execution_count": 55,
   "id": "continental-conversion",
   "metadata": {
    "ExecuteTime": {
     "end_time": "2021-07-05T06:42:36.027127Z",
     "start_time": "2021-07-05T06:42:36.005037Z"
    }
   },
   "outputs": [
    {
     "data": {
      "text/plain": [
       "15"
      ]
     },
     "execution_count": 55,
     "metadata": {},
     "output_type": "execute_result"
    }
   ],
   "source": [
    "from functools import reduce\n",
    "\n",
    "ls = [1, 2, 3, 4, 5]\n",
    "\n",
    "# reduce 함수 사용\n",
    "reduce(lambda num1, num2 : num1 + num2, ls)"
   ]
  },
  {
   "cell_type": "code",
   "execution_count": 56,
   "id": "hungry-spelling",
   "metadata": {
    "ExecuteTime": {
     "end_time": "2021-07-05T06:44:47.539813Z",
     "start_time": "2021-07-05T06:44:47.533446Z"
    }
   },
   "outputs": [],
   "source": [
    "# reduce 함수 구현\n",
    "\n",
    "def reduce_func(func, datas):\n",
    "    result = ls[0]\n",
    "    del ls[0]\n",
    "    for data in ls:\n",
    "        result = func(result, data)\n",
    "    return result"
   ]
  },
  {
   "cell_type": "code",
   "execution_count": 57,
   "id": "confident-renaissance",
   "metadata": {
    "ExecuteTime": {
     "end_time": "2021-07-05T06:45:02.669564Z",
     "start_time": "2021-07-05T06:45:02.647871Z"
    }
   },
   "outputs": [
    {
     "data": {
      "text/plain": [
       "15"
      ]
     },
     "execution_count": 57,
     "metadata": {},
     "output_type": "execute_result"
    }
   ],
   "source": [
    "reduce_func(lambda num1, num2 : num1 + num2, ls)"
   ]
  },
  {
   "cell_type": "code",
   "execution_count": null,
   "id": "banner-tolerance",
   "metadata": {},
   "outputs": [],
   "source": []
  }
 ],
 "metadata": {
  "kernelspec": {
   "display_name": "Python 3",
   "language": "python",
   "name": "python3"
  },
  "language_info": {
   "codemirror_mode": {
    "name": "ipython",
    "version": 3
   },
   "file_extension": ".py",
   "mimetype": "text/x-python",
   "name": "python",
   "nbconvert_exporter": "python",
   "pygments_lexer": "ipython3",
   "version": "3.7.10"
  },
  "nbTranslate": {
   "displayLangs": [
    "*"
   ],
   "hotkey": "alt-t",
   "langInMainMenu": true,
   "sourceLang": "en",
   "targetLang": "fr",
   "useGoogleTranslate": true
  },
  "varInspector": {
   "cols": {
    "lenName": 16,
    "lenType": 16,
    "lenVar": 40
   },
   "kernels_config": {
    "python": {
     "delete_cmd_postfix": "",
     "delete_cmd_prefix": "del ",
     "library": "var_list.py",
     "varRefreshCmd": "print(var_dic_list())"
    },
    "r": {
     "delete_cmd_postfix": ") ",
     "delete_cmd_prefix": "rm(",
     "library": "var_list.r",
     "varRefreshCmd": "cat(var_dic_list()) "
    }
   },
   "types_to_exclude": [
    "module",
    "function",
    "builtin_function_or_method",
    "instance",
    "_Feature"
   ],
   "window_display": false
  }
 },
 "nbformat": 4,
 "nbformat_minor": 5
}
