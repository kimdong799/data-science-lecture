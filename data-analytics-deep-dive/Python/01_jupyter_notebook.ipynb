{
 "cells": [
  {
   "cell_type": "markdown",
   "id": "continuous-yukon",
   "metadata": {},
   "source": [
    "# 컴퓨터에 대한 이해\n",
    "---"
   ]
  },
  {
   "cell_type": "markdown",
   "id": "european-latest",
   "metadata": {},
   "source": [
    "`컴퓨터란 계산을 수행하는 기계`\n",
    "\n",
    "- CPU : 계산을 해주는 녀석, 1 + 2 라는 + 연산을 수행.\n",
    "\n",
    "\n",
    "- RAM : 흔히 메모리라 불리는 임시 저장 장치. 예를 들어 1 + 2 연산 수행 시 1과 2를 담을 임시 저장소가 필요한데 이를 RAM이 지원. \n",
    "\n",
    "\n",
    "- ROM : ROM은 파일형태로 저장된 저장소이다. 예를 들어 엑셀이라는 프로그램을 실행하면 ROM에 있는 엑셀에 대한 파일들이 RAM에 옮겨지는 것. 예를 들어 ctrl + s 를 누르면 저장이 되는데 이는 ROM에 저장되는 것."
   ]
  },
  {
   "cell_type": "markdown",
   "id": "naked-commerce",
   "metadata": {},
   "source": [
    "`운영체제란?`\n",
    "\n",
    "\n",
    "- 운영체제(OS)는 하드웨어를 컨트롤하는 소프트웨어.\n",
    "\n",
    "예를 들어 저장공간이나 CPU를 사용하면 RAM을 얼마나 사용할지 결정하는 녀석이 필요하다. 이 자원 할당 기능을 수행하는 것이 운영체제(OS)이다.\n",
    "\n",
    "\n"
   ]
  },
  {
   "cell_type": "markdown",
   "id": "disabled-battlefield",
   "metadata": {},
   "source": [
    "Kernel(커널)은 하드웨어를 컨트롤해주는 소프트웨어로 운영체제의 핵심이다.\n"
   ]
  },
  {
   "cell_type": "markdown",
   "id": "dominant-quest",
   "metadata": {},
   "source": [
    "`애플리케이션(APP)`\n",
    "\n",
    "- 이 운영체제 위에서 어플리케이션이 동작(ex. 엑셀)\n",
    "\n",
    "예를 들어 코드를 이용해서 프로그램을 작성하는데 이 프로그램이 바로 어플리케이션이다.\n",
    "\n",
    "따라서 코드를 어떻게 작성하느냐에 따라 OS가 자원을 할당하는 방식이 정해지며 컴퓨터 자원 할당의 효율성이 결정된다."
   ]
  },
  {
   "cell_type": "markdown",
   "id": "optional-marathon",
   "metadata": {},
   "source": [
    "# 컴퓨터에서 프로그램의 동작원리는?\n",
    "---"
   ]
  },
  {
   "cell_type": "markdown",
   "id": "banned-correlation",
   "metadata": {},
   "source": [
    "CPU, RAM, ROM은 0과 1밖에 모른다.\n",
    "\n",
    "\n",
    "전류가 흐르면 1, 아니면 0으로 판단.(5v, 0v)\n",
    "\n",
    "CPU나 메모리에 보면 기가헤르츠 단위가 있는데 이는 1초 안에 0과 1을 몇번 분별하는가를 나타내며 이 수치가 높다는 것은 컴퓨터 속도가 빠르다는 것!\n",
    "\n",
    "그런데 code는 숫자, 알파벳, 특수기호 등으로 이루어져있다.\n",
    "\n",
    "그렇다면 컴퓨터는 어떻게 이 코드를 해석하는가?\n",
    "\n",
    "사람이 작성한 코드를 실행시키면 Python Language Compiler가 이를 0과 1의 이진수로 변환한다.\n",
    "\n",
    "따라서 이러한 코드도 컴퓨터가 이해할 수 있는 것\n",
    "\n",
    "\n",
    "컴파일 방법은 크게 2가지로 나뉜다.\n",
    "\n",
    "`- 컴파일러 언어`\n",
    "\n",
    "모든 코드를 컴파일링 후에 컴퓨터에서 처리 -> 처리 속도가 빠르지만 프로그램 실행을 위해 컴파일링 시간이 필요\n",
    "\n",
    "`- 인터프리터 언어`\n",
    "\n",
    "한 줄의 코드를 컴파일링 하면서 컴퓨터에서 처리 ->  처리 속도가 느리지만 컴파일링 시간이 없어 바로 프로그램 실행 가능\n"
   ]
  },
  {
   "cell_type": "markdown",
   "id": "cultural-least",
   "metadata": {},
   "source": [
    "# 파이썬의 종류\n",
    "---"
   ]
  },
  {
   "cell_type": "markdown",
   "id": "married-closure",
   "metadata": {},
   "source": [
    "`- Cpython`\n",
    "    \n",
    "    python은 인터프리터 언어로 속도가 느리다. 하지만 데이터분석에서는 빠른 속도가 요구됨. 따라서 C로 만들어진 python을 사용.\n",
    "    \n",
    "    \n",
    "`- Jpython`\n",
    "\n",
    "    Java로 만들어진 파이썬\n",
    "    \n",
    "\n",
    "`- iconPython`\n",
    "\n",
    "    C#으로 만들어진 파이썬\n",
    "    \n",
    "    \n",
    "`- Pypy`\n",
    "\n",
    "    Python으로 만들어진 파이썬\n",
    "    \n",
    "    Cpython보다 빠르게 수행되는 것을 목표로 함"
   ]
  },
  {
   "cell_type": "markdown",
   "id": "annual-thread",
   "metadata": {},
   "source": [
    "# jupyter_notebook\n",
    "---"
   ]
  },
  {
   "cell_type": "markdown",
   "id": "unusual-scottish",
   "metadata": {},
   "source": [
    "- mode\n",
    "    - 명령모드(esc) : 셀을 수정할 때 사용\n",
    "    - 편집모드(enter) : 셀 안의 내용을 수정할 때 사용\n",
    "- style\n",
    "    - markdown : 셀 안에 설명을 작성할 때 사용\n",
    "    - code : 파이썬 코드를 작성할 때 사용\n",
    "\n",
    "- 단축키\n",
    "    - 셀 실행 : shift + enter\n",
    "    - 셀 삭제 : 명령모드에서 x\n",
    "    - 되돌리기 : 명령모드에서 z\n",
    "    - 셀 생성 : 명령모드에서 a(위), b(아래)\n"
   ]
  },
  {
   "cell_type": "markdown",
   "id": "geological-thumb",
   "metadata": {},
   "source": [
    "### Magic Command ###\n",
    "- 셀 내부에서 특별하게 동작하는 커맨드\n",
    "- % : 한줄의 magic command를 동작\n",
    "- %% : 셀 단위의 magic command를 동작\n",
    "- 주요 magic command\n",
    "    - pwd : 현재 주피터 노트북 파일의 경로\n",
    "    - ls : 현재 디렉토리의 파일 리스트\n",
    "    - whos : 현재 선언된 변수를 출력\n",
    "    - reset : 현재 선언된 변수를 모두 삭제\n"
   ]
  },
  {
   "cell_type": "code",
   "execution_count": 1,
   "id": "seventh-humidity",
   "metadata": {
    "ExecuteTime": {
     "end_time": "2021-06-29T05:25:34.985657Z",
     "start_time": "2021-06-29T05:25:34.943864Z"
    }
   },
   "outputs": [
    {
     "data": {
      "text/plain": [
       "'C:\\\\Users\\\\Kim\\\\Desktop\\\\데싸90일\\\\1주차\\\\1일차'"
      ]
     },
     "execution_count": 1,
     "metadata": {},
     "output_type": "execute_result"
    }
   ],
   "source": [
    "# 현재 주피터 노트북 파일의 경로\n",
    "\n",
    "%pwd"
   ]
  },
  {
   "cell_type": "code",
   "execution_count": 2,
   "id": "adjacent-region",
   "metadata": {
    "ExecuteTime": {
     "end_time": "2021-06-29T05:26:02.889775Z",
     "start_time": "2021-06-29T05:26:02.840636Z"
    }
   },
   "outputs": [
    {
     "name": "stdout",
     "output_type": "stream",
     "text": [
      " C 드라이브의 볼륨: OS\n",
      " 볼륨 일련 번호: 1666-4178\n",
      "\n",
      " C:\\Users\\Kim\\Desktop\\데싸90일\\1주차\\1일차 디렉터리\n",
      "\n",
      "2021-06-29  오후 02:25    <DIR>          .\n",
      "2021-06-29  오후 02:25    <DIR>          ..\n",
      "2021-06-29  오후 02:20    <DIR>          .ipynb_checkpoints\n",
      "2021-06-29  오후 02:25             7,183 01_jupyter_notebook.ipynb\n",
      "               1개 파일               7,183 바이트\n",
      "               3개 디렉터리  296,002,572,288 바이트 남음\n"
     ]
    }
   ],
   "source": [
    "# 현재 디렉토리의 파일 리스트\n",
    "\n",
    "%ls"
   ]
  },
  {
   "cell_type": "code",
   "execution_count": 4,
   "id": "interior-mills",
   "metadata": {
    "ExecuteTime": {
     "end_time": "2021-06-29T05:26:25.185315Z",
     "start_time": "2021-06-29T05:26:25.179363Z"
    },
    "hide_input": false
   },
   "outputs": [
    {
     "name": "stdout",
     "output_type": "stream",
     "text": [
      "Variable          Type                          Data/Info\n",
      "---------------------------------------------------------\n",
      "NamespaceMagics   MetaHasTraits                 <class 'IPython.core.magi<...>mespace.NamespaceMagics'>\n",
      "autopep8          module                        <module 'autopep8' from '<...>e-packages\\\\autopep8.py'>\n",
      "get_ipython       function                      <function get_ipython at 0x000001D7B90A6AF8>\n",
      "getsizeof         builtin_function_or_method    <built-in function getsizeof>\n",
      "json              module                        <module 'json' from 'C:\\\\<...>\\lib\\\\json\\\\__init__.py'>\n",
      "np                module                        <module 'numpy' from 'C:\\<...>ges\\\\numpy\\\\__init__.py'>\n",
      "var_dic_list      function                      <function var_dic_list at 0x000001D7BCEDF9D8>\n"
     ]
    }
   ],
   "source": [
    "# 현재 선언된 변수를 출력\n",
    "\n",
    "%whos"
   ]
  },
  {
   "cell_type": "code",
   "execution_count": 5,
   "id": "separated-jacksonville",
   "metadata": {
    "ExecuteTime": {
     "end_time": "2021-06-29T05:26:42.231713Z",
     "start_time": "2021-06-29T05:26:42.217751Z"
    }
   },
   "outputs": [
    {
     "name": "stdout",
     "output_type": "stream",
     "text": [
      "Variable          Type                          Data/Info\n",
      "---------------------------------------------------------\n",
      "NamespaceMagics   MetaHasTraits                 <class 'IPython.core.magi<...>mespace.NamespaceMagics'>\n",
      "a                 int                           1\n",
      "autopep8          module                        <module 'autopep8' from '<...>e-packages\\\\autopep8.py'>\n",
      "get_ipython       function                      <function get_ipython at 0x000001D7B90A6AF8>\n",
      "getsizeof         builtin_function_or_method    <built-in function getsizeof>\n",
      "json              module                        <module 'json' from 'C:\\\\<...>\\lib\\\\json\\\\__init__.py'>\n",
      "np                module                        <module 'numpy' from 'C:\\<...>ges\\\\numpy\\\\__init__.py'>\n",
      "var_dic_list      function                      <function var_dic_list at 0x000001D7BCEDF9D8>\n"
     ]
    }
   ],
   "source": [
    "a = 1\n",
    "\n",
    "%whos"
   ]
  },
  {
   "cell_type": "code",
   "execution_count": 11,
   "id": "retained-justice",
   "metadata": {
    "ExecuteTime": {
     "end_time": "2021-06-29T05:41:10.088741Z",
     "start_time": "2021-06-29T05:41:08.537496Z"
    }
   },
   "outputs": [
    {
     "name": "stdout",
     "output_type": "stream",
     "text": [
      "Once deleted, variables cannot be recovered. Proceed (y/[n])? y\n"
     ]
    }
   ],
   "source": [
    "# 현재 선언된 변수 삭제\n",
    "\n",
    "%reset"
   ]
  },
  {
   "cell_type": "code",
   "execution_count": 12,
   "id": "center-format",
   "metadata": {
    "ExecuteTime": {
     "end_time": "2021-06-29T05:41:18.446425Z",
     "start_time": "2021-06-29T05:41:18.438988Z"
    }
   },
   "outputs": [
    {
     "name": "stdout",
     "output_type": "stream",
     "text": [
      "Variable          Type                          Data/Info\n",
      "---------------------------------------------------------\n",
      "NamespaceMagics   MetaHasTraits                 <class 'IPython.core.magi<...>mespace.NamespaceMagics'>\n",
      "get_ipython       function                      <function get_ipython at 0x000001D7B90A6AF8>\n",
      "getsizeof         builtin_function_or_method    <built-in function getsizeof>\n",
      "json              module                        <module 'json' from 'C:\\\\<...>\\lib\\\\json\\\\__init__.py'>\n",
      "np                module                        <module 'numpy' from 'C:\\<...>ges\\\\numpy\\\\__init__.py'>\n",
      "var_dic_list      function                      <function var_dic_list at 0x000001D7FE618708>\n"
     ]
    }
   ],
   "source": [
    "%whos"
   ]
  },
  {
   "cell_type": "markdown",
   "id": "finite-contrary",
   "metadata": {},
   "source": [
    "#### Shell Command\n",
    "\n",
    "- 주피터 노트북을 실행 할 쉘 환경의 명령을 사용\n",
    "- 명령어 앞에 !를 붙여서 실행\n",
    "- 주요 명령어\n",
    "    - ls, cat, echo ..."
   ]
  },
  {
   "cell_type": "code",
   "execution_count": 13,
   "id": "willing-funeral",
   "metadata": {
    "ExecuteTime": {
     "end_time": "2021-06-29T05:44:01.565860Z",
     "start_time": "2021-06-29T05:44:01.524657Z"
    }
   },
   "outputs": [
    {
     "name": "stdout",
     "output_type": "stream",
     "text": [
      "python\n"
     ]
    }
   ],
   "source": [
    "# 뒤에 오는 문자열을 출력\n",
    "\n",
    "!echo python"
   ]
  },
  {
   "cell_type": "code",
   "execution_count": 14,
   "id": "indonesian-cleaners",
   "metadata": {
    "ExecuteTime": {
     "end_time": "2021-06-29T05:44:42.049188Z",
     "start_time": "2021-06-29T05:44:41.855933Z"
    }
   },
   "outputs": [
    {
     "name": "stdout",
     "output_type": "stream",
     "text": [
      "01_jupyter_notebook.ipynb\n"
     ]
    }
   ],
   "source": [
    "# 현재 디렉토리에 있는 데이터\n",
    "\n",
    "!ls"
   ]
  }
 ],
 "metadata": {
  "kernelspec": {
   "display_name": "Python 3",
   "language": "python",
   "name": "python3"
  },
  "language_info": {
   "codemirror_mode": {
    "name": "ipython",
    "version": 3
   },
   "file_extension": ".py",
   "mimetype": "text/x-python",
   "name": "python",
   "nbconvert_exporter": "python",
   "pygments_lexer": "ipython3",
   "version": "3.7.10"
  },
  "nbTranslate": {
   "displayLangs": [
    "*"
   ],
   "hotkey": "alt-t",
   "langInMainMenu": true,
   "sourceLang": "en",
   "targetLang": "fr",
   "useGoogleTranslate": true
  },
  "toc": {
   "base_numbering": 1,
   "nav_menu": {},
   "number_sections": true,
   "sideBar": true,
   "skip_h1_title": false,
   "title_cell": "Table of Contents",
   "title_sidebar": "Contents",
   "toc_cell": false,
   "toc_position": {},
   "toc_section_display": true,
   "toc_window_display": false
  },
  "varInspector": {
   "cols": {
    "lenName": 16,
    "lenType": 16,
    "lenVar": 40
   },
   "kernels_config": {
    "python": {
     "delete_cmd_postfix": "",
     "delete_cmd_prefix": "del ",
     "library": "var_list.py",
     "varRefreshCmd": "print(var_dic_list())"
    },
    "r": {
     "delete_cmd_postfix": ") ",
     "delete_cmd_prefix": "rm(",
     "library": "var_list.r",
     "varRefreshCmd": "cat(var_dic_list()) "
    }
   },
   "types_to_exclude": [
    "module",
    "function",
    "builtin_function_or_method",
    "instance",
    "_Feature"
   ],
   "window_display": false
  }
 },
 "nbformat": 4,
 "nbformat_minor": 5
}
