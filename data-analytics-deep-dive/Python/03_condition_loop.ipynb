{
 "cells": [
  {
   "cell_type": "markdown",
   "id": "accomplished-combining",
   "metadata": {},
   "source": [
    "### 1.조건문\n",
    "- 특정 조건에 따라 코드를 실행하고자 할 때 사용\n",
    "- if, else, elif"
   ]
  },
  {
   "cell_type": "code",
   "execution_count": 1,
   "id": "geographic-manor",
   "metadata": {
    "ExecuteTime": {
     "end_time": "2021-06-29T09:41:39.277660Z",
     "start_time": "2021-06-29T09:41:39.266690Z"
    }
   },
   "outputs": [
    {
     "name": "stdout",
     "output_type": "stream",
     "text": [
      "Dance\n"
     ]
    }
   ],
   "source": [
    "# 조건부분에 : bool 데이터 타입 이외의 데이터 타입이 오면 bool으로 형변환 되어 판단\n",
    "\n",
    "if False:\n",
    "    print(\"python\")\n",
    "print('Dance')"
   ]
  },
  {
   "cell_type": "code",
   "execution_count": 2,
   "id": "variable-basics",
   "metadata": {
    "ExecuteTime": {
     "end_time": "2021-06-29T09:42:01.972061Z",
     "start_time": "2021-06-29T09:42:01.953112Z"
    }
   },
   "outputs": [
    {
     "data": {
      "text/plain": [
       "(False, True, True, True)"
      ]
     },
     "execution_count": 2,
     "metadata": {},
     "output_type": "execute_result"
    }
   ],
   "source": [
    "# int : 0을 제외한 나머지 값은 True\n",
    "bool(0), bool(1), bool(-1), bool(100)"
   ]
  },
  {
   "cell_type": "code",
   "execution_count": 6,
   "id": "organic-ultimate",
   "metadata": {
    "ExecuteTime": {
     "end_time": "2021-06-29T09:42:43.638250Z",
     "start_time": "2021-06-29T09:42:43.622293Z"
    }
   },
   "outputs": [
    {
     "name": "stdout",
     "output_type": "stream",
     "text": [
      "python_2\n"
     ]
    }
   ],
   "source": [
    "num = 0\n",
    "\n",
    "if num:\n",
    "    print('python_1')\n",
    "    \n",
    "num = 1\n",
    "\n",
    "if num:\n",
    "    print('python_2')\n",
    "    "
   ]
  },
  {
   "cell_type": "code",
   "execution_count": 7,
   "id": "monetary-ozone",
   "metadata": {
    "ExecuteTime": {
     "end_time": "2021-06-29T09:43:12.536151Z",
     "start_time": "2021-06-29T09:43:12.520228Z"
    }
   },
   "outputs": [
    {
     "name": "stdout",
     "output_type": "stream",
     "text": [
      "홀수\n"
     ]
    }
   ],
   "source": [
    "number = 7\n",
    "\n",
    "if number % 2:\n",
    "    print('홀수')"
   ]
  },
  {
   "cell_type": "code",
   "execution_count": 8,
   "id": "adverse-staff",
   "metadata": {
    "ExecuteTime": {
     "end_time": "2021-06-29T09:43:53.896486Z",
     "start_time": "2021-06-29T09:43:53.884518Z"
    }
   },
   "outputs": [],
   "source": [
    "# float : 0.0을 제외한 나머지 실수는 True\n",
    "# str : ''을 제외한 문자열은 True\n",
    "# list, tuple, dict : [], (), {} 를 제외한 나머지는 True"
   ]
  },
  {
   "cell_type": "code",
   "execution_count": 10,
   "id": "outstanding-bacteria",
   "metadata": {
    "ExecuteTime": {
     "end_time": "2021-06-29T09:44:51.676816Z",
     "start_time": "2021-06-29T09:44:51.669831Z"
    }
   },
   "outputs": [
    {
     "name": "stdout",
     "output_type": "stream",
     "text": [
      "택시를 타고 집에 갑니다.\n"
     ]
    }
   ],
   "source": [
    "# 지갑에 돈이 10000원 이상 있으면 택시를 타고 그렇지 않으면 걸어서 집에 갑니다.\n",
    "\n",
    "money = 12000\n",
    "\n",
    "if money >= 10000:\n",
    "    print('택시를 타고 집에 갑니다.')\n",
    "if money < 10000:\n",
    "    printnt('걸어서 집에 갑니다.')"
   ]
  },
  {
   "cell_type": "code",
   "execution_count": 11,
   "id": "weekly-austin",
   "metadata": {
    "ExecuteTime": {
     "end_time": "2021-06-29T09:45:19.788743Z",
     "start_time": "2021-06-29T09:45:19.768763Z"
    }
   },
   "outputs": [
    {
     "name": "stdout",
     "output_type": "stream",
     "text": [
      "택시를 타고 집에 갑니다.\n"
     ]
    }
   ],
   "source": [
    "if money >= 10000:\n",
    "    print('택시를 타고 집에 갑니다.')\n",
    "else:\n",
    "    print('걸어서 집에 갑니다.')"
   ]
  },
  {
   "cell_type": "code",
   "execution_count": 12,
   "id": "spread-saver",
   "metadata": {
    "ExecuteTime": {
     "end_time": "2021-06-29T09:46:50.085902Z",
     "start_time": "2021-06-29T09:46:50.079917Z"
    }
   },
   "outputs": [
    {
     "name": "stdout",
     "output_type": "stream",
     "text": [
      "버스를 타고 집에 갑니다.\n"
     ]
    }
   ],
   "source": [
    "# 지갑에 돈이 10000원 이상 있으면 택시를 탑니다.\n",
    "# 2000원 이상, 10000원 미만 있으면 버스를 탑니다.\n",
    "# 그렇지 않으면 걸어서 집에 갑니다.\n",
    "\n",
    "money = 5000\n",
    "\n",
    "if money >= 10000:\n",
    "    print('택시를 타고 집에 갑니다.')\n",
    "elif money >= 2000:\n",
    "    print('버스를 타고 집에 갑니다.')\n",
    "else:\n",
    "    print('걸어서 집에 갑니다.')"
   ]
  },
  {
   "cell_type": "code",
   "execution_count": 13,
   "id": "fitting-glasgow",
   "metadata": {
    "ExecuteTime": {
     "end_time": "2021-06-29T09:48:26.059061Z",
     "start_time": "2021-06-29T09:48:26.055070Z"
    }
   },
   "outputs": [],
   "source": [
    "# 계좌에 10000원이 들어 있습니다.\n",
    "# 인출 금액을 입력 받습니다.\n",
    "# 인출 금액이 계좌에 있는 금액보다 크면 '인출이 불가능합니다.' 출력\n",
    "# 인출 금액이 계좌에 있는 금액보다 작으면 '인출 되었습니다.' 출력\n",
    "# 마지막에 현재 계좌의 잔액을 출력"
   ]
  },
  {
   "cell_type": "code",
   "execution_count": 25,
   "id": "stunning-money",
   "metadata": {
    "ExecuteTime": {
     "end_time": "2021-06-29T09:52:38.556474Z",
     "start_time": "2021-06-29T09:52:37.390335Z"
    }
   },
   "outputs": [
    {
     "name": "stdout",
     "output_type": "stream",
     "text": [
      "input draw money : 10000\n",
      "10000원이 인출 되었습니다.\n",
      "현재 잔액은 0원 입니다.\n"
     ]
    }
   ],
   "source": [
    "account = 10000\n",
    "draw_money = int(input('input draw money : '))\n",
    "\n",
    "if account >= draw_money:\n",
    "    account -= draw_money\n",
    "    print(str(draw_money) + '원이 인출 되었습니다.')\n",
    "else:\n",
    "    print('인출이 불가합니다. ' + str(draw_money - account) + '원의 잔액이 부족합니다.')\n",
    "print('현재 잔액은 ' + str(account) + '원 입니다.')"
   ]
  },
  {
   "cell_type": "code",
   "execution_count": 30,
   "id": "invalid-missouri",
   "metadata": {
    "ExecuteTime": {
     "end_time": "2021-06-29T09:54:24.149833Z",
     "start_time": "2021-06-29T09:54:24.132878Z"
    }
   },
   "outputs": [
    {
     "name": "stdout",
     "output_type": "stream",
     "text": [
      "현재 잔액은 0원입니다. 인출금액은 10000입니다.\n",
      "현재 잔액은 0원입니다. 인출금액은 10000입니다.\n"
     ]
    }
   ],
   "source": [
    "# string 데이터 타입의 format 함수\n",
    "print('현재 잔액은 {}원입니다. 인출금액은 {}입니다.'.format(account, draw_money))\n",
    "\n",
    "print('현재 잔액은 {data1}원입니다. 인출금액은 {data2}입니다.'.format(data1 = account, data2 = draw_money))"
   ]
  },
  {
   "cell_type": "markdown",
   "id": "included-cache",
   "metadata": {},
   "source": [
    "### 삼항연산자\n",
    "- 간단한 if, else 구문을 한줄의 코드로 표현할 수 있는 방법\n",
    "- (True) if (codition) else (False)"
   ]
  },
  {
   "cell_type": "code",
   "execution_count": 34,
   "id": "knowing-istanbul",
   "metadata": {
    "ExecuteTime": {
     "end_time": "2021-06-29T09:59:31.756349Z",
     "start_time": "2021-06-29T09:59:31.747372Z"
    }
   },
   "outputs": [
    {
     "data": {
      "text/plain": [
       "'zero'"
      ]
     },
     "execution_count": 34,
     "metadata": {},
     "output_type": "execute_result"
    }
   ],
   "source": [
    "# data 변수에 0이면 'zero' 출력, 아니면 'not zero'출력\n",
    "\n",
    "data = 0\n",
    "\n",
    "'not zero' if data else 'zero'"
   ]
  },
  {
   "cell_type": "markdown",
   "id": "behind-northwest",
   "metadata": {},
   "source": [
    "### 2. 방복문\n",
    "- 반복되는 코드를 실행할 때 사용\n",
    "- while, for, break, continue\n",
    "- list comprehension"
   ]
  },
  {
   "cell_type": "code",
   "execution_count": 36,
   "id": "regular-prescription",
   "metadata": {
    "ExecuteTime": {
     "end_time": "2021-06-29T10:20:47.249185Z",
     "start_time": "2021-06-29T10:20:47.245195Z"
    }
   },
   "outputs": [
    {
     "name": "stdout",
     "output_type": "stream",
     "text": [
      "3\n",
      "2\n",
      "1\n"
     ]
    }
   ],
   "source": [
    "# while \n",
    "data = 3\n",
    "\n",
    "while data:\n",
    "    print(data)\n",
    "    data-= 1"
   ]
  },
  {
   "cell_type": "code",
   "execution_count": 43,
   "id": "difficult-terrorism",
   "metadata": {
    "ExecuteTime": {
     "end_time": "2021-06-29T10:27:20.032918Z",
     "start_time": "2021-06-29T10:27:20.018967Z"
    }
   },
   "outputs": [
    {
     "name": "stdout",
     "output_type": "stream",
     "text": [
      "76.66666666666667\n"
     ]
    }
   ],
   "source": [
    "# 학생이 국어 : 80점, 영어 : 50점, 수학 : 100점 while문을 이용해서 \n",
    "# 총점과 평균을 출력\n",
    "# 학생의 점수는 list, dict 표현 둘 중 하나로\n",
    "\n",
    "scores = [80, 50, 100]\n",
    "total = 0\n",
    "idx = 0\n",
    "\n",
    "student_num = len(scores)\n",
    "while student_num:\n",
    "    total += scores[idx]\n",
    "    idx += 1\n",
    "    student_num-=1\n",
    "    \n",
    "result = total / len(scores)\n",
    "\n",
    "print(result)"
   ]
  },
  {
   "cell_type": "code",
   "execution_count": 52,
   "id": "broken-heritage",
   "metadata": {
    "ExecuteTime": {
     "end_time": "2021-06-29T10:29:50.269212Z",
     "start_time": "2021-06-29T10:29:50.250263Z"
    }
   },
   "outputs": [
    {
     "name": "stdout",
     "output_type": "stream",
     "text": [
      "76.66666666666667\n"
     ]
    }
   ],
   "source": [
    "# dict 풀이\n",
    "\n",
    "score_dic = {\n",
    "    '국어' : 80,\n",
    "    '영어' : 50,\n",
    "    '수학' : 100\n",
    "}\n",
    "idx = 0\n",
    "total = 0\n",
    "score_values = list(score_dic.values())\n",
    "\n",
    "student_num = len(score_values)\n",
    "while student_num:\n",
    "    total += score_values[idx]\n",
    "    idx += 1\n",
    "    student_num-=1\n",
    "    \n",
    "result = total / len(score_values)\n",
    "\n",
    "print(result)"
   ]
  },
  {
   "cell_type": "code",
   "execution_count": 53,
   "id": "equal-alias",
   "metadata": {
    "ExecuteTime": {
     "end_time": "2021-06-29T10:32:18.416441Z",
     "start_time": "2021-06-29T10:32:18.409482Z"
    }
   },
   "outputs": [
    {
     "name": "stdout",
     "output_type": "stream",
     "text": [
      "13\n"
     ]
    }
   ],
   "source": [
    "# 무한루프\n",
    "# break\n",
    "result = 1\n",
    "while result:\n",
    "    if result >= 13:\n",
    "        break\n",
    "    result +=1\n",
    "print(result)"
   ]
  },
  {
   "cell_type": "markdown",
   "id": "sunrise-hours",
   "metadata": {},
   "source": [
    "### for\n",
    "- iterable(순서가 있는 데이터의 집합)한 데이터의 값을 하나씩 꺼내서 value에 대입시킨 후 코드를 iterable 변수의 값 갯수 만큼 실행\n",
    "\n",
    "```\n",
    "for <variable> in <iterables>:\n",
    "    <code>\n",
    "```"
   ]
  },
  {
   "cell_type": "code",
   "execution_count": 62,
   "id": "familiar-incidence",
   "metadata": {
    "ExecuteTime": {
     "end_time": "2021-06-29T12:04:47.046419Z",
     "start_time": "2021-06-29T12:04:47.032423Z"
    }
   },
   "outputs": [
    {
     "name": "stdout",
     "output_type": "stream",
     "text": [
      "0 2 4 "
     ]
    }
   ],
   "source": [
    "# for : continue : 조건부분으로 올라가서 코드가 실행\n",
    "\n",
    "ls = [0, 1, 2, 3, 4]\n",
    "for data in ls:\n",
    "    if data % 2: #data가 홀수면 continue를 실행\n",
    "        continue\n",
    "    # data가 짝수이면 print를 실행\n",
    "    print(data, end=' ')"
   ]
  },
  {
   "cell_type": "code",
   "execution_count": 68,
   "id": "informed-novelty",
   "metadata": {
    "ExecuteTime": {
     "end_time": "2021-06-29T12:10:17.231353Z",
     "start_time": "2021-06-29T12:10:17.223375Z"
    }
   },
   "outputs": [
    {
     "name": "stdout",
     "output_type": "stream",
     "text": [
      "[0, 1, 2, 3, 4, 5, 6, 7, 8, 9]\n"
     ]
    },
    {
     "data": {
      "text/plain": [
       "45"
      ]
     },
     "execution_count": 68,
     "metadata": {},
     "output_type": "execute_result"
    }
   ],
   "source": [
    "# for를 이용해서 코드를 100번 실행\n",
    "\n",
    "# range 함수\n",
    "print(list(range(10)))\n",
    "\n",
    "result = 0\n",
    "for data in range(10):\n",
    "    result += data\n",
    "result"
   ]
  },
  {
   "cell_type": "code",
   "execution_count": 74,
   "id": "running-green",
   "metadata": {
    "ExecuteTime": {
     "end_time": "2021-06-29T12:11:21.946505Z",
     "start_time": "2021-06-29T12:11:21.930549Z"
    }
   },
   "outputs": [
    {
     "data": {
      "text/plain": [
       "([0, 1, 2, 3, 4], [5, 6, 7, 8, 9], [0, 2, 4, 6, 8])"
      ]
     },
     "execution_count": 74,
     "metadata": {},
     "output_type": "execute_result"
    }
   ],
   "source": [
    "# offset index 개념과 비슷하게 사용\n",
    "list(range(5)), list(range(5, 10)), list(range(0, 10, 2))"
   ]
  },
  {
   "cell_type": "code",
   "execution_count": 75,
   "id": "organic-bread",
   "metadata": {
    "ExecuteTime": {
     "end_time": "2021-06-29T12:11:49.253143Z",
     "start_time": "2021-06-29T12:11:49.238183Z"
    }
   },
   "outputs": [
    {
     "data": {
      "text/plain": [
       "[10, 8, 6, 4, 2]"
      ]
     },
     "execution_count": 75,
     "metadata": {},
     "output_type": "execute_result"
    }
   ],
   "source": [
    "# -도 가능\n",
    "list(range(10, 0, -2))"
   ]
  },
  {
   "cell_type": "code",
   "execution_count": 77,
   "id": "former-gardening",
   "metadata": {
    "ExecuteTime": {
     "end_time": "2021-06-29T12:12:51.039652Z",
     "start_time": "2021-06-29T12:12:51.029678Z"
    }
   },
   "outputs": [
    {
     "data": {
      "text/plain": [
       "30"
      ]
     },
     "execution_count": 77,
     "metadata": {},
     "output_type": "execute_result"
    }
   ],
   "source": [
    "# 0~10까지 짝수를 더한 총합\n",
    "result = 0\n",
    "for i in range(0, 11, 2):\n",
    "    result += i\n",
    "result"
   ]
  },
  {
   "cell_type": "code",
   "execution_count": 78,
   "id": "patent-frame",
   "metadata": {
    "ExecuteTime": {
     "end_time": "2021-06-29T12:20:10.130799Z",
     "start_time": "2021-06-29T12:20:10.113847Z"
    }
   },
   "outputs": [
    {
     "name": "stdout",
     "output_type": "stream",
     "text": [
      "korean\n",
      "english\n",
      "math\n"
     ]
    }
   ],
   "source": [
    "points_dict = {\n",
    "    'korean':80,\n",
    "    'english':90,\n",
    "    'math':100\n",
    "}\n",
    "\n",
    "for data in points_dict:\n",
    "    print(data)"
   ]
  },
  {
   "cell_type": "code",
   "execution_count": 81,
   "id": "civilian-smile",
   "metadata": {
    "ExecuteTime": {
     "end_time": "2021-06-29T12:20:56.695870Z",
     "start_time": "2021-06-29T12:20:56.674925Z"
    }
   },
   "outputs": [
    {
     "name": "stdout",
     "output_type": "stream",
     "text": [
      "korean 80\n",
      "english 90\n",
      "math 100\n"
     ]
    }
   ],
   "source": [
    "for key, value in points_dict.items():\n",
    "    print(key, value)"
   ]
  },
  {
   "cell_type": "code",
   "execution_count": 83,
   "id": "practical-elite",
   "metadata": {
    "ExecuteTime": {
     "end_time": "2021-06-29T12:22:54.737649Z",
     "start_time": "2021-06-29T12:22:54.728638Z"
    }
   },
   "outputs": [
    {
     "name": "stdout",
     "output_type": "stream",
     "text": [
      "korean 80\n",
      "english 90\n",
      "math 100\n"
     ]
    }
   ],
   "source": [
    "# for문에서 iterable 데이터가 tuple로 나오면 여러개의 변수로 받을 수 있다.\n",
    "subjects_ls = ['korean', 'english', 'math']\n",
    "points_ls = [80, 90, 100]\n",
    "\n",
    "for subject, point in zip(subjects_ls, points_ls):\n",
    "    print(subject, point)"
   ]
  },
  {
   "cell_type": "code",
   "execution_count": 91,
   "id": "characteristic-advance",
   "metadata": {
    "ExecuteTime": {
     "end_time": "2021-06-29T12:31:22.275391Z",
     "start_time": "2021-06-29T12:31:22.268412Z"
    }
   },
   "outputs": [
    {
     "name": "stdout",
     "output_type": "stream",
     "text": [
      "2*1=2\t3*1=3\t4*1=4\t5*1=5\t6*1=6\t7*1=7\t8*1=8\t9*1=9\t\n",
      "2*2=4\t3*2=6\t4*2=8\t5*2=10\t6*2=12\t7*2=14\t8*2=16\t9*2=18\t\n",
      "2*3=6\t3*3=9\t4*3=12\t5*3=15\t6*3=18\t7*3=21\t8*3=24\t9*3=27\t\n",
      "2*4=8\t3*4=12\t4*4=16\t5*4=20\t6*4=24\t7*4=28\t8*4=32\t9*4=36\t\n",
      "2*5=10\t3*5=15\t4*5=20\t5*5=25\t6*5=30\t7*5=35\t8*5=40\t9*5=45\t\n",
      "2*6=12\t3*6=18\t4*6=24\t5*6=30\t6*6=36\t7*6=42\t8*6=48\t9*6=54\t\n",
      "2*7=14\t3*7=21\t4*7=28\t5*7=35\t6*7=42\t7*7=49\t8*7=56\t9*7=63\t\n",
      "2*8=16\t3*8=24\t4*8=32\t5*8=40\t6*8=48\t7*8=56\t8*8=64\t9*8=72\t\n",
      "2*9=18\t3*9=27\t4*9=36\t5*9=45\t6*9=54\t7*9=63\t8*9=72\t9*9=81\t\n"
     ]
    }
   ],
   "source": [
    "# 구구단 출력 (가로 출력)\n",
    "\n",
    "for num2 in range(1, 10):\n",
    "    for num1 in range(2, 10):\n",
    "        print('{}*{}={}'.format(num1, num2, num1*num2), end='\\t')\n",
    "    print()"
   ]
  },
  {
   "cell_type": "markdown",
   "id": "retired-street",
   "metadata": {},
   "source": [
    "### 3. List Comprehention\n",
    "- 리스트 데이터를 만들어주는 방법\n",
    "- for문 보다 빠르게 동작"
   ]
  },
  {
   "cell_type": "code",
   "execution_count": 93,
   "id": "forbidden-synthetic",
   "metadata": {
    "ExecuteTime": {
     "end_time": "2021-06-29T12:41:58.837804Z",
     "start_time": "2021-06-29T12:41:58.826833Z"
    }
   },
   "outputs": [
    {
     "data": {
      "text/plain": [
       "[0, 1, 4, 9]"
      ]
     },
     "execution_count": 93,
     "metadata": {},
     "output_type": "execute_result"
    }
   ],
   "source": [
    "# 각각 값에 제곱한 결과 출력\n",
    "\n",
    "ls = [0, 1, 2, 3]\n",
    "result = []\n",
    "for data in ls:\n",
    "    result.append(data**2)\n",
    "result"
   ]
  },
  {
   "cell_type": "code",
   "execution_count": 95,
   "id": "backed-playlist",
   "metadata": {
    "ExecuteTime": {
     "end_time": "2021-06-29T12:42:33.154413Z",
     "start_time": "2021-06-29T12:42:33.138456Z"
    }
   },
   "outputs": [
    {
     "data": {
      "text/plain": [
       "[0, 1, 4, 9]"
      ]
     },
     "execution_count": 95,
     "metadata": {},
     "output_type": "execute_result"
    }
   ],
   "source": [
    "result = [data**2 for data in ls]\n",
    "result"
   ]
  },
  {
   "cell_type": "code",
   "execution_count": 99,
   "id": "characteristic-document",
   "metadata": {
    "ExecuteTime": {
     "end_time": "2021-06-29T12:45:12.819850Z",
     "start_time": "2021-06-29T12:45:12.812870Z"
    }
   },
   "outputs": [
    {
     "data": {
      "text/plain": [
       "['짝수', '홀수', '짝수', '홀수']"
      ]
     },
     "execution_count": 99,
     "metadata": {},
     "output_type": "execute_result"
    }
   ],
   "source": [
    "# list comprehension과 삼항연산 응용\n",
    "\n",
    "ls = [0, 1, 2, 3]\n",
    "#result = ['짝수', '홀수', '짝수', '홀수']\n",
    "\n",
    "result = [\n",
    "    '홀수' if data % 2 else '짝수'\n",
    "    for data in ls\n",
    "]\n",
    "result"
   ]
  },
  {
   "cell_type": "code",
   "execution_count": 104,
   "id": "assigned-village",
   "metadata": {
    "ExecuteTime": {
     "end_time": "2021-06-29T12:48:13.488995Z",
     "start_time": "2021-06-29T12:48:13.481015Z"
    }
   },
   "outputs": [
    {
     "data": {
      "text/plain": [
       "[1, 3, 5, 7, 9]"
      ]
     },
     "execution_count": 104,
     "metadata": {},
     "output_type": "execute_result"
    }
   ],
   "source": [
    "# list comprehension과 조건문\n",
    "ls = range(10)\n",
    "[data for data in ls if data % 2]"
   ]
  },
  {
   "cell_type": "code",
   "execution_count": 105,
   "id": "elect-offering",
   "metadata": {
    "ExecuteTime": {
     "end_time": "2021-06-29T12:50:42.533041Z",
     "start_time": "2021-06-29T12:50:42.519079Z"
    }
   },
   "outputs": [
    {
     "data": {
      "text/plain": [
       "['append',\n",
       " 'clear',\n",
       " 'copy',\n",
       " 'count',\n",
       " 'extend',\n",
       " 'index',\n",
       " 'insert',\n",
       " 'pop',\n",
       " 'remove',\n",
       " 'reverse',\n",
       " 'sort']"
      ]
     },
     "execution_count": 105,
     "metadata": {},
     "output_type": "execute_result"
    }
   ],
   "source": [
    "# dir() 안에 실제 사용 가능한 함수는 __가 붙지 않은 함수\n",
    "# 이러한 함수들만 출력하는 코드\n",
    "\n",
    "ls = [1, 2, 3]\n",
    "\n",
    "[func for func in dir(ls) if func[:2] != '__']"
   ]
  },
  {
   "cell_type": "code",
   "execution_count": 108,
   "id": "boring-calibration",
   "metadata": {
    "ExecuteTime": {
     "end_time": "2021-06-29T12:51:56.569283Z",
     "start_time": "2021-06-29T12:51:56.559309Z"
    }
   },
   "outputs": [
    {
     "data": {
      "text/plain": [
       "['clear', 'copy', 'count']"
      ]
     },
     "execution_count": 108,
     "metadata": {},
     "output_type": "execute_result"
    }
   ],
   "source": [
    "# dir() 안에 실제 사용 가능한 함수는 __가 붙지 않은 함수\n",
    "# 이러한 함수들만 출력하는 코드\n",
    "# 추가로 c로 시작하는\n",
    "\n",
    "ls = [1, 2, 3]\n",
    "\n",
    "[func for func in dir(ls) if func[:2] != '__' and func[0] == 'c']"
   ]
  },
  {
   "cell_type": "code",
   "execution_count": 124,
   "id": "according-fault",
   "metadata": {
    "ExecuteTime": {
     "end_time": "2021-06-29T12:55:25.969898Z",
     "start_time": "2021-06-29T12:55:25.959953Z"
    }
   },
   "outputs": [
    {
     "name": "stderr",
     "output_type": "stream",
     "text": [
      "UsageError: Line magic function `%%timeit` not found.\n"
     ]
    }
   ],
   "source": [
    "# for문과 리스트컴프리헨션 퍼포먼스 비교\n",
    "# 리스트컴프리헨션이 약 2/3 정도의 시간이 걸림"
   ]
  },
  {
   "cell_type": "code",
   "execution_count": 126,
   "id": "coordinate-piece",
   "metadata": {
    "ExecuteTime": {
     "end_time": "2021-06-29T12:56:19.114744Z",
     "start_time": "2021-06-29T12:56:14.106876Z"
    }
   },
   "outputs": [
    {
     "name": "stdout",
     "output_type": "stream",
     "text": [
      "612 µs ± 7.16 µs per loop (mean ± std. dev. of 7 runs, 1000 loops each)\n"
     ]
    }
   ],
   "source": [
    "%%timeit\n",
    "ls = []\n",
    "for num in range(1, 10001):\n",
    "    if num % 3 == 0:\n",
    "        ls.append(num)\n",
    "len(ls)"
   ]
  },
  {
   "cell_type": "code",
   "execution_count": 127,
   "id": "architectural-shelf",
   "metadata": {
    "ExecuteTime": {
     "end_time": "2021-06-29T12:56:28.444506Z",
     "start_time": "2021-06-29T12:56:24.315440Z"
    }
   },
   "outputs": [
    {
     "name": "stdout",
     "output_type": "stream",
     "text": [
      "506 µs ± 7.6 µs per loop (mean ± std. dev. of 7 runs, 1000 loops each)\n"
     ]
    }
   ],
   "source": [
    "%%timeit\n",
    "\n",
    "ls = [num for num in range(1, 10001) if num % 3 == 0]\n",
    "len(ls)"
   ]
  },
  {
   "cell_type": "code",
   "execution_count": null,
   "id": "significant-detail",
   "metadata": {},
   "outputs": [],
   "source": []
  }
 ],
 "metadata": {
  "kernelspec": {
   "display_name": "Python 3",
   "language": "python",
   "name": "python3"
  },
  "language_info": {
   "codemirror_mode": {
    "name": "ipython",
    "version": 3
   },
   "file_extension": ".py",
   "mimetype": "text/x-python",
   "name": "python",
   "nbconvert_exporter": "python",
   "pygments_lexer": "ipython3",
   "version": "3.7.10"
  },
  "nbTranslate": {
   "displayLangs": [
    "*"
   ],
   "hotkey": "alt-t",
   "langInMainMenu": true,
   "sourceLang": "en",
   "targetLang": "fr",
   "useGoogleTranslate": true
  },
  "toc": {
   "base_numbering": 1,
   "nav_menu": {},
   "number_sections": true,
   "sideBar": true,
   "skip_h1_title": false,
   "title_cell": "Table of Contents",
   "title_sidebar": "Contents",
   "toc_cell": false,
   "toc_position": {},
   "toc_section_display": true,
   "toc_window_display": false
  },
  "varInspector": {
   "cols": {
    "lenName": 16,
    "lenType": 16,
    "lenVar": 40
   },
   "kernels_config": {
    "python": {
     "delete_cmd_postfix": "",
     "delete_cmd_prefix": "del ",
     "library": "var_list.py",
     "varRefreshCmd": "print(var_dic_list())"
    },
    "r": {
     "delete_cmd_postfix": ") ",
     "delete_cmd_prefix": "rm(",
     "library": "var_list.r",
     "varRefreshCmd": "cat(var_dic_list()) "
    }
   },
   "types_to_exclude": [
    "module",
    "function",
    "builtin_function_or_method",
    "instance",
    "_Feature"
   ],
   "window_display": false
  }
 },
 "nbformat": 4,
 "nbformat_minor": 5
}
