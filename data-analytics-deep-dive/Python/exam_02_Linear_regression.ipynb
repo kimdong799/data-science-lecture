{
 "cells": [
  {
   "cell_type": "markdown",
   "id": "flexible-healing",
   "metadata": {
    "ExecuteTime": {
     "end_time": "2021-07-07T03:36:49.900544Z",
     "start_time": "2021-07-07T03:36:49.891569Z"
    }
   },
   "source": [
    "### 선형회귀 분석\n",
    "- 프리미어리그 데이터(득점, 실점, 승점)\n",
    "- 득점, 실점 -> 승점 예측 하는 모델\n",
    "- scikit-learn 패키지\n",
    "    - 데이터 마이닝 및 데이터 분석, 모델을 위한 도구\n",
    "    - 상업적으로 사용이 가능한 오픈소스"
   ]
  },
  {
   "cell_type": "code",
   "execution_count": 2,
   "id": "peripheral-punch",
   "metadata": {
    "ExecuteTime": {
     "end_time": "2021-07-07T03:38:48.133756Z",
     "start_time": "2021-07-07T03:38:47.893741Z"
    }
   },
   "outputs": [],
   "source": [
    "import pickle\n",
    "# 선형회귀 모델\n",
    "from sklearn import linear_model\n",
    "# 학습, 테스트 데이터 분리 모듈\n",
    "from sklearn.model_selection import train_test_split\n",
    "# 모델 평가지표\n",
    "from sklearn.metrics import mean_absolute_error"
   ]
  },
  {
   "cell_type": "markdown",
   "id": "hearing-washer",
   "metadata": {},
   "source": [
    "#### 분석 절차\n",
    "- 데이터 로드\n",
    "- 데이터 전처리 : \n",
    "    - 독립변수와 종속변수를 나눠줌\n",
    "    - 학습데이터와 테스트 데이터 분리\n",
    "- 데이터 분석 : 선형회귀 모델 \n",
    "- 성능평가 : MAE(Mean Absolute Error)\n",
    "- 예측 코드 작성"
   ]
  },
  {
   "cell_type": "code",
   "execution_count": 5,
   "id": "hollow-hurricane",
   "metadata": {
    "ExecuteTime": {
     "end_time": "2021-07-07T03:42:21.019365Z",
     "start_time": "2021-07-07T03:42:21.002411Z"
    }
   },
   "outputs": [
    {
     "data": {
      "text/html": [
       "<div>\n",
       "<style scoped>\n",
       "    .dataframe tbody tr th:only-of-type {\n",
       "        vertical-align: middle;\n",
       "    }\n",
       "\n",
       "    .dataframe tbody tr th {\n",
       "        vertical-align: top;\n",
       "    }\n",
       "\n",
       "    .dataframe thead th {\n",
       "        text-align: right;\n",
       "    }\n",
       "</style>\n",
       "<table border=\"1\" class=\"dataframe\">\n",
       "  <thead>\n",
       "    <tr style=\"text-align: right;\">\n",
       "      <th></th>\n",
       "      <th>name</th>\n",
       "      <th>gf</th>\n",
       "      <th>ga</th>\n",
       "      <th>points</th>\n",
       "    </tr>\n",
       "  </thead>\n",
       "  <tbody>\n",
       "    <tr>\n",
       "      <th>0</th>\n",
       "      <td>Manchester City</td>\n",
       "      <td>106</td>\n",
       "      <td>27</td>\n",
       "      <td>100</td>\n",
       "    </tr>\n",
       "    <tr>\n",
       "      <th>1</th>\n",
       "      <td>Manchester United</td>\n",
       "      <td>68</td>\n",
       "      <td>28</td>\n",
       "      <td>81</td>\n",
       "    </tr>\n",
       "    <tr>\n",
       "      <th>2</th>\n",
       "      <td>Tottenham Hotspur</td>\n",
       "      <td>74</td>\n",
       "      <td>36</td>\n",
       "      <td>77</td>\n",
       "    </tr>\n",
       "  </tbody>\n",
       "</table>\n",
       "</div>"
      ],
      "text/plain": [
       "                name   gf  ga  points\n",
       "0    Manchester City  106  27     100\n",
       "1  Manchester United   68  28      81\n",
       "2  Tottenham Hotspur   74  36      77"
      ]
     },
     "execution_count": 5,
     "metadata": {},
     "output_type": "execute_result"
    }
   ],
   "source": [
    "# 1. 데이터 로드\n",
    "p_df = pd.read_csv('datas/premierleague.csv')\n",
    "p_df.head(3)"
   ]
  },
  {
   "cell_type": "code",
   "execution_count": 6,
   "id": "controversial-activity",
   "metadata": {
    "ExecuteTime": {
     "end_time": "2021-07-07T03:43:46.245618Z",
     "start_time": "2021-07-07T03:43:46.233648Z"
    }
   },
   "outputs": [],
   "source": [
    "# 2. 데이터 전처리 : 독립변수, 종속변수 나누기\n",
    "\n",
    "x_features = p_df[['gf','ga']]\n",
    "y_target = p_df[['points']]"
   ]
  },
  {
   "cell_type": "code",
   "execution_count": 7,
   "id": "wooden-cliff",
   "metadata": {
    "ExecuteTime": {
     "end_time": "2021-07-07T03:45:07.472733Z",
     "start_time": "2021-07-07T03:45:07.464754Z"
    }
   },
   "outputs": [],
   "source": [
    "# 2. 데이터 전처리 : 학습 데이터, 테스트 데이터 나누기\n",
    "\n",
    "X_train, X_test, y_train, y_test = train_test_split(x_features, y_target, test_size = 0.3, random_state = 1)"
   ]
  },
  {
   "cell_type": "code",
   "execution_count": 13,
   "id": "quick-passion",
   "metadata": {
    "ExecuteTime": {
     "end_time": "2021-07-07T03:46:14.352334Z",
     "start_time": "2021-07-07T03:46:14.335376Z"
    }
   },
   "outputs": [
    {
     "data": {
      "text/plain": [
       "(28, 12)"
      ]
     },
     "execution_count": 13,
     "metadata": {},
     "output_type": "execute_result"
    }
   ],
   "source": [
    "X_train.size, X_test.size"
   ]
  },
  {
   "cell_type": "code",
   "execution_count": 14,
   "id": "medical-danger",
   "metadata": {
    "ExecuteTime": {
     "end_time": "2021-07-07T03:47:41.777064Z",
     "start_time": "2021-07-07T03:47:41.774068Z"
    }
   },
   "outputs": [],
   "source": [
    "# 3. 데이터 분석 : 선형 회귀 모델\n",
    "lr_model = linear_model.LinearRegression()"
   ]
  },
  {
   "cell_type": "code",
   "execution_count": 15,
   "id": "waiting-humanitarian",
   "metadata": {
    "ExecuteTime": {
     "end_time": "2021-07-07T03:48:02.903770Z",
     "start_time": "2021-07-07T03:48:02.880833Z"
    }
   },
   "outputs": [
    {
     "data": {
      "text/plain": [
       "LinearRegression()"
      ]
     },
     "execution_count": 15,
     "metadata": {},
     "output_type": "execute_result"
    }
   ],
   "source": [
    "# 모델 학습\n",
    "lr_model.fit(X_train, y_train)"
   ]
  },
  {
   "cell_type": "code",
   "execution_count": 22,
   "id": "running-citation",
   "metadata": {
    "ExecuteTime": {
     "end_time": "2021-07-07T03:49:28.562609Z",
     "start_time": "2021-07-07T03:49:28.550682Z"
    }
   },
   "outputs": [
    {
     "data": {
      "text/plain": [
       "array([[80.88065736],\n",
       "       [40.79778662],\n",
       "       [50.9467527 ],\n",
       "       [46.31419247],\n",
       "       [76.04209484],\n",
       "       [40.23228639]])"
      ]
     },
     "execution_count": 22,
     "metadata": {},
     "output_type": "execute_result"
    }
   ],
   "source": [
    "# test데이터 예측\n",
    "pred = lr_model.predict(X_test)\n",
    "pred"
   ]
  },
  {
   "cell_type": "code",
   "execution_count": 35,
   "id": "democratic-wildlife",
   "metadata": {
    "ExecuteTime": {
     "end_time": "2021-07-07T03:52:42.918570Z",
     "start_time": "2021-07-07T03:52:42.912616Z"
    }
   },
   "outputs": [
    {
     "data": {
      "text/plain": [
       "array([81, 41, 51, 46, 76, 40])"
      ]
     },
     "execution_count": 35,
     "metadata": {},
     "output_type": "execute_result"
    }
   ],
   "source": [
    "# 차원 축소 및 스케일 조정\n",
    "pred = np.around(pred.flatten()).astype('int')\n",
    "pred"
   ]
  },
  {
   "cell_type": "code",
   "execution_count": 41,
   "id": "analyzed-gnome",
   "metadata": {
    "ExecuteTime": {
     "end_time": "2021-07-07T03:53:24.870891Z",
     "start_time": "2021-07-07T03:53:24.857939Z"
    }
   },
   "outputs": [
    {
     "name": "stdout",
     "output_type": "stream",
     "text": [
      "MAE :  2.833\n"
     ]
    }
   ],
   "source": [
    "# 4. 성능 평가 : MAE\n",
    "mae = mean_absolute_error(y_test, pred)\n",
    "print(\"MAE : \", np.round(mae,3))"
   ]
  },
  {
   "cell_type": "markdown",
   "id": "internal-ceiling",
   "metadata": {
    "ExecuteTime": {
     "end_time": "2021-07-07T03:53:43.317106Z",
     "start_time": "2021-07-07T03:53:43.298155Z"
    }
   },
   "source": [
    "2.83 정도의 오차가 평균적으로 있다는 의미이다."
   ]
  },
  {
   "cell_type": "code",
   "execution_count": 43,
   "id": "structural-trust",
   "metadata": {
    "ExecuteTime": {
     "end_time": "2021-07-07T03:56:32.375234Z",
     "start_time": "2021-07-07T03:56:32.363264Z"
    }
   },
   "outputs": [],
   "source": [
    "# 5. 예측 함수 작성\n",
    "\n",
    "def make_df(gf, ga):\n",
    "    return pd.DataFrame({'gf':[gf],\n",
    "                       'ga':[ga]})"
   ]
  },
  {
   "cell_type": "code",
   "execution_count": 49,
   "id": "discrete-impossible",
   "metadata": {
    "ExecuteTime": {
     "end_time": "2021-07-07T03:58:13.452521Z",
     "start_time": "2021-07-07T03:58:13.420614Z"
    }
   },
   "outputs": [
    {
     "data": {
      "text/plain": [
       "83"
      ]
     },
     "execution_count": 49,
     "metadata": {},
     "output_type": "execute_result"
    }
   ],
   "source": [
    "gf, ga = 80, 30\n",
    "result = int(lr_model.predict(make_df(gf, ga)).flatten()[0])\n",
    "result"
   ]
  },
  {
   "cell_type": "markdown",
   "id": "nominated-resort",
   "metadata": {},
   "source": [
    "모델은 RAM에 저장되므로 사용시 fit() 메소드를 이용해 재학습 시켜야 한다.\n",
    "따라서 pickle 파일로 모델 객체를 저장하여 사용할 수 있다."
   ]
  },
  {
   "cell_type": "code",
   "execution_count": 51,
   "id": "intensive-stable",
   "metadata": {
    "ExecuteTime": {
     "end_time": "2021-07-07T04:13:39.327930Z",
     "start_time": "2021-07-07T04:13:39.307982Z"
    }
   },
   "outputs": [],
   "source": [
    "# pickle 파일로 모델 저장하기\n",
    "# wb = write binary : 2진수로 저장\n",
    "\n",
    "with open('datas/p_model.pkl', 'wb') as f:\n",
    "    pickle.dump(lr_model, f)"
   ]
  },
  {
   "cell_type": "code",
   "execution_count": 52,
   "id": "recovered-tolerance",
   "metadata": {
    "ExecuteTime": {
     "end_time": "2021-07-07T04:14:35.751623Z",
     "start_time": "2021-07-07T04:14:35.723813Z"
    }
   },
   "outputs": [
    {
     "data": {
      "text/plain": [
       "LinearRegression()"
      ]
     },
     "execution_count": 52,
     "metadata": {},
     "output_type": "execute_result"
    }
   ],
   "source": [
    "# 모델을 로드해서 재사용 가능\n",
    "# 모델 로드\n",
    "\n",
    "with open('datas/p_model.pkl', 'rb') as f:\n",
    "    load_model = pickle.load(f)\n",
    "load_model"
   ]
  },
  {
   "cell_type": "code",
   "execution_count": 54,
   "id": "residential-snake",
   "metadata": {
    "ExecuteTime": {
     "end_time": "2021-07-07T04:14:53.297327Z",
     "start_time": "2021-07-07T04:14:53.276375Z"
    }
   },
   "outputs": [
    {
     "data": {
      "text/plain": [
       "83"
      ]
     },
     "execution_count": 54,
     "metadata": {},
     "output_type": "execute_result"
    }
   ],
   "source": [
    "# load_model 사용\n",
    "\n",
    "gf, ga = 80, 30\n",
    "result = int(load_model.predict(make_df(gf, ga)).flatten()[0])\n",
    "result"
   ]
  },
  {
   "cell_type": "code",
   "execution_count": null,
   "id": "quiet-hawaii",
   "metadata": {},
   "outputs": [],
   "source": []
  }
 ],
 "metadata": {
  "kernelspec": {
   "display_name": "Python 3",
   "language": "python",
   "name": "python3"
  },
  "language_info": {
   "codemirror_mode": {
    "name": "ipython",
    "version": 3
   },
   "file_extension": ".py",
   "mimetype": "text/x-python",
   "name": "python",
   "nbconvert_exporter": "python",
   "pygments_lexer": "ipython3",
   "version": "3.7.10"
  },
  "nbTranslate": {
   "displayLangs": [
    "*"
   ],
   "hotkey": "alt-t",
   "langInMainMenu": true,
   "sourceLang": "en",
   "targetLang": "fr",
   "useGoogleTranslate": true
  },
  "varInspector": {
   "cols": {
    "lenName": 16,
    "lenType": 16,
    "lenVar": 40
   },
   "kernels_config": {
    "python": {
     "delete_cmd_postfix": "",
     "delete_cmd_prefix": "del ",
     "library": "var_list.py",
     "varRefreshCmd": "print(var_dic_list())"
    },
    "r": {
     "delete_cmd_postfix": ") ",
     "delete_cmd_prefix": "rm(",
     "library": "var_list.r",
     "varRefreshCmd": "cat(var_dic_list()) "
    }
   },
   "types_to_exclude": [
    "module",
    "function",
    "builtin_function_or_method",
    "instance",
    "_Feature"
   ],
   "window_display": false
  }
 },
 "nbformat": 4,
 "nbformat_minor": 5
}
