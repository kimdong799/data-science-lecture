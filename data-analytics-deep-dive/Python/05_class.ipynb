{
 "cells": [
  {
   "cell_type": "markdown",
   "id": "statutory-eleven",
   "metadata": {},
   "source": [
    "### class : 클래스\n",
    "- 함수는 코드들의 집합이다. 이를 통해 중복을 피하고 효율적으로 코드를 작성할 수 있다.\n",
    "- 1차적으로 클래스는 변수와 함수를 묶어 놓은 개념이다.\n",
    "- 사용방법\n",
    "    - 변수와 함수가 들어있는 클래스를 선언\n",
    "    - 클래스를 객체로 만들어서 클래스 안에 선언된 변수와 함수를 사용"
   ]
  },
  {
   "cell_type": "markdown",
   "id": "raising-macedonia",
   "metadata": {},
   "source": [
    "#### 1. 기본 클래스의 사용"
   ]
  },
  {
   "cell_type": "code",
   "execution_count": 27,
   "id": "statutory-amateur",
   "metadata": {
    "ExecuteTime": {
     "end_time": "2021-06-30T12:23:18.595577Z",
     "start_time": "2021-06-30T12:23:18.582611Z"
    }
   },
   "outputs": [],
   "source": [
    "# 클래스의 선언\n",
    "\n",
    "class Calculator:\n",
    "    \n",
    "    num1 = 1 \n",
    "    num2 = 2\n",
    "    \n",
    "    def plus(self):\n",
    "        return self.num1 + self.num2  # 클래스에 선언된 함수는 가장 첫번째로 self를 사용한다.\n",
    "    \n",
    "    def minus(self):\n",
    "        return self.num1 - self.num2"
   ]
  },
  {
   "cell_type": "code",
   "execution_count": 28,
   "id": "upset-humidity",
   "metadata": {
    "ExecuteTime": {
     "end_time": "2021-06-30T12:23:18.782112Z",
     "start_time": "2021-06-30T12:23:18.774134Z"
    }
   },
   "outputs": [
    {
     "data": {
      "text/plain": [
       "<__main__.Calculator at 0x1baffbee548>"
      ]
     },
     "execution_count": 28,
     "metadata": {},
     "output_type": "execute_result"
    }
   ],
   "source": [
    "# 클래스의 사용(객체 생성)\n",
    "\n",
    "calc = Calculator()\n",
    "calc"
   ]
  },
  {
   "cell_type": "code",
   "execution_count": 29,
   "id": "sudden-hollywood",
   "metadata": {
    "ExecuteTime": {
     "end_time": "2021-06-30T12:23:18.954571Z",
     "start_time": "2021-06-30T12:23:18.938615Z"
    }
   },
   "outputs": [
    {
     "data": {
      "text/plain": [
       "(1, 2)"
      ]
     },
     "execution_count": 29,
     "metadata": {},
     "output_type": "execute_result"
    }
   ],
   "source": [
    "# calc라는 객체의 변수 확인\n",
    "\n",
    "calc.num1, calc.num2"
   ]
  },
  {
   "cell_type": "code",
   "execution_count": 30,
   "id": "clear-knock",
   "metadata": {
    "ExecuteTime": {
     "end_time": "2021-06-30T12:23:19.096253Z",
     "start_time": "2021-06-30T12:23:19.085284Z"
    }
   },
   "outputs": [
    {
     "data": {
      "text/plain": [
       "(3, -1)"
      ]
     },
     "execution_count": 30,
     "metadata": {},
     "output_type": "execute_result"
    }
   ],
   "source": [
    "# function(method) 확인\n",
    "\n",
    "calc.plus(), calc.minus()"
   ]
  },
  {
   "cell_type": "code",
   "execution_count": 31,
   "id": "alert-polyester",
   "metadata": {
    "ExecuteTime": {
     "end_time": "2021-06-30T12:24:16.969155Z",
     "start_time": "2021-06-30T12:24:16.950239Z"
    }
   },
   "outputs": [
    {
     "data": {
      "text/plain": [
       "(1, 2)"
      ]
     },
     "execution_count": 31,
     "metadata": {},
     "output_type": "execute_result"
    }
   ],
   "source": [
    "# self의 의미 : 객체 자신(java의 this의 그것과 동일한 개념)\n",
    "\n",
    "calc2 = Calculator()\n",
    "calc2.num1, calc2.num2"
   ]
  },
  {
   "cell_type": "code",
   "execution_count": 32,
   "id": "willing-panel",
   "metadata": {
    "ExecuteTime": {
     "end_time": "2021-06-30T12:24:28.598386Z",
     "start_time": "2021-06-30T12:24:28.585423Z"
    }
   },
   "outputs": [
    {
     "data": {
      "text/plain": [
       "12"
      ]
     },
     "execution_count": 32,
     "metadata": {},
     "output_type": "execute_result"
    }
   ],
   "source": [
    "calc2.num1 = 10 # calc2.num1의 값을 변경\n",
    "calc2.plus()"
   ]
  },
  {
   "cell_type": "markdown",
   "id": "explicit-synthesis",
   "metadata": {},
   "source": [
    "### 2. 객체지향\n",
    "- 실제 세계를 코드에 반영해서 개발하는 방법\n",
    "- 여러명의 개발자가 코드를 효율적으로 작성해서 프로젝트를 완성시키기 위한 방법\n",
    "- 설계도를 작성(class) -> 실제 물건(object)"
   ]
  },
  {
   "cell_type": "code",
   "execution_count": 35,
   "id": "contemporary-racing",
   "metadata": {
    "ExecuteTime": {
     "end_time": "2021-06-30T12:33:17.915531Z",
     "start_time": "2021-06-30T12:33:17.904596Z"
    },
    "scrolled": false
   },
   "outputs": [
    {
     "data": {
      "text/plain": [
       "['__class__',\n",
       " '__delattr__',\n",
       " '__dict__',\n",
       " '__dir__',\n",
       " '__doc__',\n",
       " '__eq__',\n",
       " '__format__',\n",
       " '__ge__',\n",
       " '__getattribute__',\n",
       " '__gt__',\n",
       " '__hash__',\n",
       " '__init__',\n",
       " '__init_subclass__',\n",
       " '__le__',\n",
       " '__lt__',\n",
       " '__module__',\n",
       " '__ne__',\n",
       " '__new__',\n",
       " '__reduce__',\n",
       " '__reduce_ex__',\n",
       " '__repr__',\n",
       " '__setattr__',\n",
       " '__sizeof__',\n",
       " '__str__',\n",
       " '__subclasshook__',\n",
       " '__weakref__',\n",
       " 'minus',\n",
       " 'num1',\n",
       " 'num2',\n",
       " 'plus']"
      ]
     },
     "execution_count": 35,
     "metadata": {},
     "output_type": "execute_result"
    }
   ],
   "source": [
    "dir(calc)"
   ]
  },
  {
   "cell_type": "code",
   "execution_count": 40,
   "id": "determined-blues",
   "metadata": {
    "ExecuteTime": {
     "end_time": "2021-06-30T12:34:16.097821Z",
     "start_time": "2021-06-30T12:34:16.090811Z"
    }
   },
   "outputs": [
    {
     "data": {
      "text/plain": [
       "['minus', 'num1', 'num2', 'plus']"
      ]
     },
     "execution_count": 40,
     "metadata": {},
     "output_type": "execute_result"
    }
   ],
   "source": [
    "[data for data in dir(calc) if data[:2] != '__']"
   ]
  },
  {
   "cell_type": "markdown",
   "id": "mysterious-completion",
   "metadata": {},
   "source": [
    "### 3. 생성자\n",
    "- 클래스가 객체로 생성될 때 실행되는 함수\n",
    "- 변수(재료)를 추가할 때 사용된다."
   ]
  },
  {
   "cell_type": "markdown",
   "id": "better-poison",
   "metadata": {},
   "source": [
    "예를 들어 아래의 클래스를 선언하면 객체의 변수인 num1, num2는 무조건 1과 2로 초기값이 결정된다."
   ]
  },
  {
   "cell_type": "markdown",
   "id": "advance-client",
   "metadata": {},
   "source": [
    "따라서 객체를 생성할 때 멤버변수의 초기값을 정의하고자 할 때 사용하는 것이 바로 생성자이다."
   ]
  },
  {
   "cell_type": "code",
   "execution_count": 41,
   "id": "exclusive-tract",
   "metadata": {
    "ExecuteTime": {
     "end_time": "2021-07-01T03:58:41.382240Z",
     "start_time": "2021-07-01T03:58:41.372639Z"
    }
   },
   "outputs": [],
   "source": [
    "# 클래스의 선언\n",
    "\n",
    "class Calculator:\n",
    "    \n",
    "    num1 = 1 \n",
    "    num2 = 2\n",
    "    \n",
    "    def plus(self):\n",
    "        return self.num1 + self.num2  # 클래스에 선언된 함수는 가장 첫번째로 self를 사용한다.\n",
    "    \n",
    "    def minus(self):\n",
    "        return self.num1 - self.num2"
   ]
  },
  {
   "cell_type": "code",
   "execution_count": 42,
   "id": "subjective-integrity",
   "metadata": {
    "ExecuteTime": {
     "end_time": "2021-07-01T03:59:42.157803Z",
     "start_time": "2021-07-01T03:59:42.147803Z"
    }
   },
   "outputs": [],
   "source": [
    "# 클래스의 선언\n",
    "\n",
    "class Calculator:\n",
    "    \n",
    "    # 생성자 함수 : __init__\n",
    "    # 생성자를 이용해 num1과 num2를 지정해야 객체를 생성할 수 있다.\n",
    "    def __init__(self, num1, num2):\n",
    "        self.num1 = num1\n",
    "        self.num2 = num2\n",
    "\n",
    "    \n",
    "    def plus(self):\n",
    "        return self.num1 + self.num2  # 클래스에 선언된 함수는 가장 첫번째로 self를 사용한다.\n",
    "    \n",
    "    def minus(self):\n",
    "        return self.num1 - self.num2"
   ]
  },
  {
   "cell_type": "code",
   "execution_count": 46,
   "id": "neither-burns",
   "metadata": {
    "ExecuteTime": {
     "end_time": "2021-07-01T04:00:04.611463Z",
     "start_time": "2021-07-01T04:00:04.598723Z"
    }
   },
   "outputs": [
    {
     "data": {
      "text/plain": [
       "7"
      ]
     },
     "execution_count": 46,
     "metadata": {},
     "output_type": "execute_result"
    }
   ],
   "source": [
    "calc1 = Calculator(3, 4)\n",
    "calc1.plus()"
   ]
  },
  {
   "cell_type": "code",
   "execution_count": 47,
   "id": "large-attention",
   "metadata": {
    "ExecuteTime": {
     "end_time": "2021-07-01T04:00:54.206280Z",
     "start_time": "2021-07-01T04:00:54.195309Z"
    }
   },
   "outputs": [
    {
     "data": {
      "text/plain": [
       "5"
      ]
     },
     "execution_count": 47,
     "metadata": {},
     "output_type": "execute_result"
    }
   ],
   "source": [
    "calc2 = Calculator(10, 5)\n",
    "calc2.minus()"
   ]
  },
  {
   "cell_type": "markdown",
   "id": "specialized-hamburg",
   "metadata": {},
   "source": [
    "추가적으로 생성자 또한 디폴트 값을 지정할 수 있다."
   ]
  },
  {
   "cell_type": "code",
   "execution_count": 48,
   "id": "soviet-trigger",
   "metadata": {
    "ExecuteTime": {
     "end_time": "2021-07-01T04:01:25.805672Z",
     "start_time": "2021-07-01T04:01:25.794738Z"
    }
   },
   "outputs": [],
   "source": [
    "# 클래스의 선언\n",
    "\n",
    "class Calculator:\n",
    "    \n",
    "    # 생성자 함수 : __init__\n",
    "    # 생성자를 이용해 num1과 num2를 지정해야 객체를 생성할 수 있다.\n",
    "    def __init__(self, num1, num2 = 10):\n",
    "        self.num1 = num1\n",
    "        self.num2 = num2\n",
    "\n",
    "    \n",
    "    def plus(self):\n",
    "        return self.num1 + self.num2  # 클래스에 선언된 함수는 가장 첫번째로 self를 사용한다.\n",
    "    \n",
    "    def minus(self):\n",
    "        return self.num1 - self.num2"
   ]
  },
  {
   "cell_type": "code",
   "execution_count": 49,
   "id": "falling-contrast",
   "metadata": {
    "ExecuteTime": {
     "end_time": "2021-07-01T04:01:39.948097Z",
     "start_time": "2021-07-01T04:01:39.935132Z"
    }
   },
   "outputs": [
    {
     "data": {
      "text/plain": [
       "13"
      ]
     },
     "execution_count": 49,
     "metadata": {},
     "output_type": "execute_result"
    }
   ],
   "source": [
    "calc3 = Calculator(3)\n",
    "calc3.plus()"
   ]
  },
  {
   "cell_type": "code",
   "execution_count": 52,
   "id": "dress-charter",
   "metadata": {
    "ExecuteTime": {
     "end_time": "2021-07-01T04:03:56.493259Z",
     "start_time": "2021-07-01T04:03:56.476326Z"
    }
   },
   "outputs": [
    {
     "data": {
      "text/plain": [
       "'python is good'"
      ]
     },
     "execution_count": 52,
     "metadata": {},
     "output_type": "execute_result"
    }
   ],
   "source": [
    "# join\n",
    "\n",
    "# - 리스트로 구성된 데이터를 특정 문저열을 구분자로 사용해서 \n",
    "# 하나의 문자열로 반환하는 함수\n",
    "\n",
    "ls = ['python','is','good']\n",
    "sep = ' '\n",
    "sep.join(ls)"
   ]
  },
  {
   "cell_type": "code",
   "execution_count": 53,
   "id": "domestic-conservative",
   "metadata": {
    "ExecuteTime": {
     "end_time": "2021-07-01T04:04:22.171106Z",
     "start_time": "2021-07-01T04:04:22.159137Z"
    }
   },
   "outputs": [
    {
     "data": {
      "text/plain": [
       "'010-1234-5678'"
      ]
     },
     "execution_count": 53,
     "metadata": {},
     "output_type": "execute_result"
    }
   ],
   "source": [
    "ls = ['010', '1234', '5678']\n",
    "sep = '-'\n",
    "sep.join(ls)"
   ]
  },
  {
   "cell_type": "code",
   "execution_count": 75,
   "id": "regulated-jones",
   "metadata": {
    "ExecuteTime": {
     "end_time": "2021-07-01T04:45:36.207332Z",
     "start_time": "2021-07-01T04:45:36.188863Z"
    }
   },
   "outputs": [],
   "source": [
    "# user data를 입력 받아서 아이디와 패스워드를 체크하는 데코레이터 함수를 코드로 작성\n",
    "# count를 증가시키는 예제\n",
    "# 몇번 로그인 되었는가??\n",
    "\n",
    "\n",
    "user_datas = [\n",
    "    {'id' : 'test', 'pw':'1234', 'count':0},\n",
    "    {'id' : 'python', 'pw':'5678', 'count':0},\n",
    "]\n"
   ]
  },
  {
   "cell_type": "code",
   "execution_count": 171,
   "id": "satisfied-cherry",
   "metadata": {
    "ExecuteTime": {
     "end_time": "2021-07-01T05:27:30.058134Z",
     "start_time": "2021-07-01T05:27:30.052151Z"
    }
   },
   "outputs": [],
   "source": [
    "def need_login(func):\n",
    "    def wrapper(*args, **kwargs):\n",
    "        # 아이디 패스워드 입력\n",
    "        user, pw = tuple(input('insert user pw : ').split(' '))\n",
    "        \n",
    "        # 존재하는 아이디, 패스워드 확인\n",
    "        for idx, user_data in zip(range(len(user_datas)), user_datas):\n",
    "            \n",
    "            if(user_data['id'] == user) and (user_data['pw'] == pw):\n",
    "                \n",
    "                # count 데이터 추가\n",
    "                user_datas[idx]['count'] += 1\n",
    "            \n",
    "                # 함수 실행\n",
    "                return func(*args, **kwargs)\n",
    "        return 'wrong login data'  \n",
    "    return wrapper"
   ]
  },
  {
   "cell_type": "code",
   "execution_count": 172,
   "id": "first-puzzle",
   "metadata": {
    "ExecuteTime": {
     "end_time": "2021-07-01T05:27:35.140270Z",
     "start_time": "2021-07-01T05:27:35.127306Z"
    }
   },
   "outputs": [],
   "source": [
    "@need_login\n",
    "def plus(num1, num2):\n",
    "    return num1 + num2"
   ]
  },
  {
   "cell_type": "code",
   "execution_count": 174,
   "id": "rental-netherlands",
   "metadata": {
    "ExecuteTime": {
     "end_time": "2021-07-01T05:27:41.372083Z",
     "start_time": "2021-07-01T05:27:39.864925Z"
    }
   },
   "outputs": [
    {
     "name": "stdout",
     "output_type": "stream",
     "text": [
      "insert user pw : test 1234\n"
     ]
    },
    {
     "data": {
      "text/plain": [
       "3"
      ]
     },
     "execution_count": 174,
     "metadata": {},
     "output_type": "execute_result"
    }
   ],
   "source": [
    "plus(1, 2)"
   ]
  },
  {
   "cell_type": "code",
   "execution_count": 179,
   "id": "inside-thickness",
   "metadata": {
    "ExecuteTime": {
     "end_time": "2021-07-01T05:33:42.952931Z",
     "start_time": "2021-07-01T05:33:42.938972Z"
    }
   },
   "outputs": [],
   "source": [
    "# 다시 풀어보기"
   ]
  },
  {
   "cell_type": "code",
   "execution_count": 178,
   "id": "textile-kansas",
   "metadata": {
    "ExecuteTime": {
     "end_time": "2021-07-01T05:33:39.512020Z",
     "start_time": "2021-07-01T05:33:39.506035Z"
    }
   },
   "outputs": [],
   "source": [
    "def need_login(func):\n",
    "    def wrapper(*args, **kwargs):\n",
    "        user = input('insert id : ')\n",
    "        pw = input('insert pw : ')\n",
    "        \n",
    "        for idx, user_data in enumerate(user_datas):\n",
    "            if user_data['id'] == user and user_data['pw'] == pw:\n",
    "                user_datas[idx]['count'] += 1\n",
    "                print('welcome! its your {} time!'.format(user_datas[idx]['count']))\n",
    "                return func(*args, **kwargs)\n",
    "            else:\n",
    "                return 'wrong user, pw! try insert data again!'\n",
    "\n",
    "    return wrapper"
   ]
  },
  {
   "cell_type": "code",
   "execution_count": 182,
   "id": "minus-reasoning",
   "metadata": {
    "ExecuteTime": {
     "end_time": "2021-07-01T05:34:11.198061Z",
     "start_time": "2021-07-01T05:34:08.316775Z"
    }
   },
   "outputs": [
    {
     "name": "stdout",
     "output_type": "stream",
     "text": [
      "insert id : test\n",
      "insert pw : 1234\n",
      "welcome! its your 2 time!\n"
     ]
    },
    {
     "data": {
      "text/plain": [
       "8"
      ]
     },
     "execution_count": 182,
     "metadata": {},
     "output_type": "execute_result"
    }
   ],
   "source": [
    "@need_login\n",
    "def plus(num1, num2):\n",
    "    return num1 + num2\n",
    "\n",
    "plus(3, 5)"
   ]
  },
  {
   "cell_type": "code",
   "execution_count": 183,
   "id": "wireless-consistency",
   "metadata": {
    "ExecuteTime": {
     "end_time": "2021-07-01T05:34:37.481907Z",
     "start_time": "2021-07-01T05:34:34.043387Z"
    }
   },
   "outputs": [
    {
     "name": "stdout",
     "output_type": "stream",
     "text": [
      "insert id : test\n",
      "insert pw : 1111\n"
     ]
    },
    {
     "data": {
      "text/plain": [
       "'wrong user, pw! try insert data again!'"
      ]
     },
     "execution_count": 183,
     "metadata": {},
     "output_type": "execute_result"
    }
   ],
   "source": [
    "plus(3, 5)"
   ]
  },
  {
   "cell_type": "code",
   "execution_count": 222,
   "id": "hundred-latter",
   "metadata": {
    "ExecuteTime": {
     "end_time": "2021-07-01T05:48:24.375849Z",
     "start_time": "2021-07-01T05:48:24.364226Z"
    }
   },
   "outputs": [],
   "source": [
    "# 스타크래프트의 마린을 클래스로 설계해보자!\n",
    "\n",
    "# 마린은 체력(health), 공격력(attack_pow) 라는 멤버변수를 가짐\n",
    "# 기능으로는 공격(attack) 메소드를 가짐\n",
    "# 마린 클래스로 마린 객체 두개를 생성해서 마린 1이 마린 2를 공격하는 코드\n",
    "# 참고 attack(self, unit)\n",
    "\n",
    "class Marine:\n",
    "    # 주로 생성자 함수 안에 사용하고자 하는 변수를 정의\n",
    "    def __init__(self, health=40, attack_pow=10):\n",
    "        self.health = health\n",
    "        self.attack_pow = attack_pow\n",
    "    \n",
    "    def attack(self, unit):\n",
    "        unit.health -= self.attack_pow\n",
    "        print('***교전중***')\n",
    "        print('상대 체력 : {}'.format(unit.health))\n",
    "        if unit.health <= 0:\n",
    "            unit.health == 0\n",
    "            print('unit 사망')"
   ]
  },
  {
   "cell_type": "code",
   "execution_count": 223,
   "id": "ignored-nirvana",
   "metadata": {
    "ExecuteTime": {
     "end_time": "2021-07-01T05:48:24.652358Z",
     "start_time": "2021-07-01T05:48:24.637980Z"
    }
   },
   "outputs": [
    {
     "name": "stdout",
     "output_type": "stream",
     "text": [
      "***교전중***\n",
      "상대 체력 : 30\n",
      "***교전중***\n",
      "상대 체력 : 20\n",
      "***교전중***\n",
      "상대 체력 : 10\n",
      "***교전중***\n",
      "상대 체력 : 0\n",
      "unit 사망\n"
     ]
    }
   ],
   "source": [
    "marine1 = Marine()\n",
    "marine2 = Marine()\n",
    "\n",
    "marine1.attack(marine2)\n",
    "marine1.attack(marine2)\n",
    "marine1.attack(marine2)\n",
    "marine1.attack(marine2)"
   ]
  },
  {
   "cell_type": "code",
   "execution_count": 231,
   "id": "tamil-engagement",
   "metadata": {
    "ExecuteTime": {
     "end_time": "2021-07-01T05:50:35.000842Z",
     "start_time": "2021-07-01T05:50:34.982890Z"
    }
   },
   "outputs": [],
   "source": [
    "# 메딕 : heal_pow, heal(unit)\n",
    "class Medic:\n",
    "    \n",
    "    def __init__(self, health=40, heal_pow=6):\n",
    "        self.health = health\n",
    "        self.heal_pow = heal_pow\n",
    "        \n",
    "    def heal(self, unit):\n",
    "        if unit.health > 0:\n",
    "            unit.health += self.heal_pow\n",
    "            print('체력 회복 완료. 현재 치료된 유닛 체력: ',unit.health)\n",
    "            if unit.health >= 50:\n",
    "                unit.health = 50\n",
    "            \n",
    "        else:\n",
    "            print('이미 사망')\n",
    "        "
   ]
  },
  {
   "cell_type": "code",
   "execution_count": 239,
   "id": "substantial-range",
   "metadata": {
    "ExecuteTime": {
     "end_time": "2021-07-01T05:52:18.577636Z",
     "start_time": "2021-07-01T05:52:18.569654Z"
    }
   },
   "outputs": [
    {
     "name": "stdout",
     "output_type": "stream",
     "text": [
      "***교전중***\n",
      "상대 체력 : 30\n",
      "체력 회복 완료. 현재 치료된 유닛 체력:  36\n"
     ]
    }
   ],
   "source": [
    "medic1 = Medic()\n",
    "marine1 = Marine()\n",
    "marine2 = Marine()\n",
    "\n",
    "marine1.attack(marine2)\n",
    "medic1.heal(marine2)"
   ]
  },
  {
   "cell_type": "code",
   "execution_count": 240,
   "id": "effective-windsor",
   "metadata": {
    "ExecuteTime": {
     "end_time": "2021-07-01T05:52:21.286041Z",
     "start_time": "2021-07-01T05:52:21.268038Z"
    }
   },
   "outputs": [
    {
     "name": "stdout",
     "output_type": "stream",
     "text": [
      "***교전중***\n",
      "상대 체력 : 0\n",
      "unit 사망\n"
     ]
    }
   ],
   "source": [
    "# 영웅 마린\n",
    "# 공격력 지정\n",
    "\n",
    "marine_hero = Marine(attack_pow=40)\n",
    "marine_hero.attack(medic1)"
   ]
  },
  {
   "cell_type": "markdown",
   "id": "north-accident",
   "metadata": {},
   "source": [
    "### 상속\n",
    "- 클래스의 기능을 가져다가 기능을 수행하거나 추가할 때 사용하는 방법"
   ]
  },
  {
   "cell_type": "code",
   "execution_count": 241,
   "id": "needed-joseph",
   "metadata": {
    "ExecuteTime": {
     "end_time": "2021-07-01T05:59:04.194666Z",
     "start_time": "2021-07-01T05:59:04.182693Z"
    }
   },
   "outputs": [],
   "source": [
    "class Calculator:\n",
    "    \n",
    "    def __init__(self, num1, num2):\n",
    "        self.num1 = num1\n",
    "        self.num2 = num2\n",
    "        \n",
    "    def plus(self):\n",
    "        return self.num1 + self.num2"
   ]
  },
  {
   "cell_type": "code",
   "execution_count": 242,
   "id": "representative-pledge",
   "metadata": {
    "ExecuteTime": {
     "end_time": "2021-07-01T05:59:21.544254Z",
     "start_time": "2021-07-01T05:59:21.536277Z"
    }
   },
   "outputs": [
    {
     "data": {
      "text/plain": [
       "7"
      ]
     },
     "execution_count": 242,
     "metadata": {},
     "output_type": "execute_result"
    }
   ],
   "source": [
    "cal1 = Calculator(5, 2)\n",
    "cal1.plus()"
   ]
  },
  {
   "cell_type": "code",
   "execution_count": 243,
   "id": "relative-billion",
   "metadata": {
    "ExecuteTime": {
     "end_time": "2021-07-01T06:00:34.175891Z",
     "start_time": "2021-07-01T06:00:34.167932Z"
    }
   },
   "outputs": [],
   "source": [
    "# 여기서 마이너스 기능이 필요하다면?\n",
    "# 상속을 이용해 minus 함수 추가\n",
    "\n",
    "class NewCalculator(Calculator):\n",
    "    \n",
    "    def minus(self):\n",
    "        return self.num1 - self.num2"
   ]
  },
  {
   "cell_type": "code",
   "execution_count": 247,
   "id": "right-bowling",
   "metadata": {
    "ExecuteTime": {
     "end_time": "2021-07-01T06:01:53.613359Z",
     "start_time": "2021-07-01T06:01:53.603352Z"
    }
   },
   "outputs": [
    {
     "data": {
      "text/plain": [
       "(7, 3)"
      ]
     },
     "execution_count": 247,
     "metadata": {},
     "output_type": "execute_result"
    }
   ],
   "source": [
    "new_cal = NewCalculator(5, 2)\n",
    "new_cal.plus(), new_cal.minus()"
   ]
  },
  {
   "cell_type": "code",
   "execution_count": 248,
   "id": "joint-platform",
   "metadata": {
    "ExecuteTime": {
     "end_time": "2021-07-01T06:07:15.768140Z",
     "start_time": "2021-07-01T06:07:15.754177Z"
    }
   },
   "outputs": [
    {
     "data": {
      "text/plain": [
       "34"
      ]
     },
     "execution_count": 248,
     "metadata": {},
     "output_type": "execute_result"
    }
   ],
   "source": [
    "# plus 기능만 제곱 합 기능으로 수정하고 싶은 경우는??\n",
    "# 이런 경우에 사용하는 기능이 메소드 오버라이딩!\n",
    "\n",
    "class OverideCalculator(NewCalculator): # 부모 클래스의 기능을 그대로 상속\n",
    "    def plus(self):\n",
    "        return self.num1 ** 2 + self.num2 ** 2  # 특정 함수 재정의\n",
    "\n",
    "overide_cal = OverideCalculator(5, 3)\n",
    "overide_cal.plus()"
   ]
  },
  {
   "cell_type": "markdown",
   "id": "amber-organic",
   "metadata": {},
   "source": [
    "#### 다중상속"
   ]
  },
  {
   "cell_type": "code",
   "execution_count": 258,
   "id": "light-bride",
   "metadata": {
    "ExecuteTime": {
     "end_time": "2021-07-01T06:12:29.426134Z",
     "start_time": "2021-07-01T06:12:29.410142Z"
    }
   },
   "outputs": [],
   "source": [
    "# 오버라이딩 예제\n",
    "# 아이폰 1, 2, 3\n",
    "# 아이폰 1 : calling : print('calling') ...\n",
    "# 아이폰 2 : send message\n",
    "# 아이폰 3 : internet\n",
    "\n",
    "class Iphone:\n",
    "\n",
    "    def calling(self):\n",
    "        return print('calling')"
   ]
  },
  {
   "cell_type": "code",
   "execution_count": 259,
   "id": "severe-ghost",
   "metadata": {
    "ExecuteTime": {
     "end_time": "2021-07-01T06:12:29.660496Z",
     "start_time": "2021-07-01T06:12:29.643706Z"
    }
   },
   "outputs": [
    {
     "name": "stdout",
     "output_type": "stream",
     "text": [
      "calling\n"
     ]
    }
   ],
   "source": [
    "my_phone = Iphone()\n",
    "my_phone.calling()"
   ]
  },
  {
   "cell_type": "code",
   "execution_count": 260,
   "id": "portuguese-concentration",
   "metadata": {
    "ExecuteTime": {
     "end_time": "2021-07-01T06:12:29.894025Z",
     "start_time": "2021-07-01T06:12:29.878949Z"
    }
   },
   "outputs": [
    {
     "name": "stdout",
     "output_type": "stream",
     "text": [
      "send message\n"
     ]
    }
   ],
   "source": [
    "class Iphone2(Iphone):\n",
    "    def send_message(self):\n",
    "        return print('send message')\n",
    "my_phone = Iphone2()\n",
    "my_phone.send_message()"
   ]
  },
  {
   "cell_type": "code",
   "execution_count": 261,
   "id": "genuine-grain",
   "metadata": {
    "ExecuteTime": {
     "end_time": "2021-07-01T06:12:30.113756Z",
     "start_time": "2021-07-01T06:12:30.098887Z"
    }
   },
   "outputs": [
    {
     "name": "stdout",
     "output_type": "stream",
     "text": [
      "calling\n",
      "send message\n",
      "internet\n"
     ]
    }
   ],
   "source": [
    "class Iphone3(Iphone2):\n",
    "    def internet(self):\n",
    "        return print('internet')\n",
    "my_phone = Iphone3()\n",
    "my_phone.calling()\n",
    "my_phone.send_message()\n",
    "my_phone.internet()"
   ]
  },
  {
   "cell_type": "code",
   "execution_count": 264,
   "id": "alpha-situation",
   "metadata": {
    "ExecuteTime": {
     "end_time": "2021-07-01T06:13:25.091650Z",
     "start_time": "2021-07-01T06:13:25.077688Z"
    }
   },
   "outputs": [
    {
     "data": {
      "text/plain": [
       "['calling', 'internet', 'send_message']"
      ]
     },
     "execution_count": 264,
     "metadata": {},
     "output_type": "execute_result"
    }
   ],
   "source": [
    "# 현재 my_phone의 method\n",
    "\n",
    "[func for func in dir(my_phone) if func[:2] != '__']"
   ]
  },
  {
   "cell_type": "markdown",
   "id": "editorial-bride",
   "metadata": {},
   "source": [
    "### 2. super\n",
    "- 부모 클래스에서 사용된 함수의 코드를 가져다가 자식 클래스의 함수에서 재사용 할 때 사용"
   ]
  },
  {
   "cell_type": "markdown",
   "id": "rational-madrid",
   "metadata": {},
   "source": [
    "```\n",
    "class Parent:\n",
    "    def plus(self):\n",
    "        code1\n",
    "        \n",
    "class Child(Parent):\n",
    "    def minus(self):\n",
    "        super().plus()\n",
    "        code2\n",
    "```"
   ]
  },
  {
   "cell_type": "code",
   "execution_count": 274,
   "id": "official-application",
   "metadata": {
    "ExecuteTime": {
     "end_time": "2021-07-01T06:24:42.256137Z",
     "start_time": "2021-07-01T06:24:42.248158Z"
    }
   },
   "outputs": [],
   "source": [
    "# EX\n",
    "\n",
    "class Marine:\n",
    "    \n",
    "    def __init__(self):\n",
    "        self.health = 40\n",
    "        self.attack_pow = 5\n",
    "        \n",
    "    def attack(self, unit):\n",
    "        unit.health -= selflf.attack_pow\n",
    "        if unit.health <= 0:\n",
    "            unit.health = 0"
   ]
  },
  {
   "cell_type": "markdown",
   "id": "reduced-restriction",
   "metadata": {},
   "source": [
    "```\n",
    "class Marine2(Marine):\n",
    "    \n",
    "    def __init__(self):\n",
    "        self.health = 40\n",
    "        self.attack_pow = 5\n",
    "        self.max_health = 40\n",
    "```\n",
    "이 경우 self.health, self.attack_pow가 부모 클래스의 그것과 중복되는 현상이 발생. 이 코드가 수백, 수천 줄의 코드라면 super로 대체하는 것이 요구됨"
   ]
  },
  {
   "cell_type": "code",
   "execution_count": 285,
   "id": "known-escape",
   "metadata": {
    "ExecuteTime": {
     "end_time": "2021-07-01T06:27:17.737999Z",
     "start_time": "2021-07-01T06:27:17.731018Z"
    }
   },
   "outputs": [],
   "source": [
    "class Marine2(Marine):\n",
    "\n",
    "    def __init__(self):\n",
    "        super().__init__() # 부모 클래스의 init 메소드를 그대로 가져오는 것\n",
    "        self.max_health = 40 # 초기값 변수 추가"
   ]
  },
  {
   "cell_type": "code",
   "execution_count": 286,
   "id": "labeled-analyst",
   "metadata": {
    "ExecuteTime": {
     "end_time": "2021-07-01T06:27:17.875908Z",
     "start_time": "2021-07-01T06:27:17.855638Z"
    }
   },
   "outputs": [
    {
     "data": {
      "text/plain": [
       "(40, 5, 40)"
      ]
     },
     "execution_count": 286,
     "metadata": {},
     "output_type": "execute_result"
    }
   ],
   "source": [
    "marine = Marine2()\n",
    "marine.health, marine.attack_pow, marine.max_health"
   ]
  },
  {
   "cell_type": "markdown",
   "id": "finnish-waterproof",
   "metadata": {},
   "source": [
    "### 3. class의 getter, setter\n",
    "- 객체의 내부 변수에 접근할 때 특정 로직을 거쳐서 접근시키는 방법"
   ]
  },
  {
   "cell_type": "code",
   "execution_count": 287,
   "id": "completed-bride",
   "metadata": {
    "ExecuteTime": {
     "end_time": "2021-07-01T06:30:03.429620Z",
     "start_time": "2021-07-01T06:30:03.413735Z"
    }
   },
   "outputs": [],
   "source": [
    "class User:\n",
    "    \n",
    "    def __init__(self, first_name, last_name):\n",
    "        self.first_name = first_name\n",
    "        self.last_name = last_name\n",
    "        \n",
    "    def disp(self):\n",
    "        print(self.first_name, self.last_name)"
   ]
  },
  {
   "cell_type": "code",
   "execution_count": 288,
   "id": "unnecessary-segment",
   "metadata": {
    "ExecuteTime": {
     "end_time": "2021-07-01T06:30:58.522039Z",
     "start_time": "2021-07-01T06:30:58.505083Z"
    }
   },
   "outputs": [
    {
     "name": "stdout",
     "output_type": "stream",
     "text": [
      "andy kim\n"
     ]
    }
   ],
   "source": [
    "user1 = User('andy', 'kim')\n",
    "user1.disp()"
   ]
  },
  {
   "cell_type": "code",
   "execution_count": 289,
   "id": "sharing-consumer",
   "metadata": {
    "ExecuteTime": {
     "end_time": "2021-07-01T06:31:31.546715Z",
     "start_time": "2021-07-01T06:31:31.526844Z"
    }
   },
   "outputs": [
    {
     "name": "stdout",
     "output_type": "stream",
     "text": [
      "john kim\n"
     ]
    }
   ],
   "source": [
    "# 이름을 바꾸고 싶다면?\n",
    "user1.first_name = 'john'\n",
    "user1.disp()"
   ]
  },
  {
   "cell_type": "code",
   "execution_count": 290,
   "id": "further-restriction",
   "metadata": {
    "ExecuteTime": {
     "end_time": "2021-07-01T06:32:09.856851Z",
     "start_time": "2021-07-01T06:32:09.838863Z"
    }
   },
   "outputs": [
    {
     "name": "stdout",
     "output_type": "stream",
     "text": [
      "1 kim\n"
     ]
    }
   ],
   "source": [
    "# first_name에 1이라고 입력한다면??\n",
    "user1.first_name = 1\n",
    "user1.disp()"
   ]
  },
  {
   "cell_type": "code",
   "execution_count": 291,
   "id": "rural-giant",
   "metadata": {
    "ExecuteTime": {
     "end_time": "2021-07-01T06:32:43.538962Z",
     "start_time": "2021-07-01T06:32:43.530983Z"
    }
   },
   "outputs": [],
   "source": [
    "# 이러한 경우 문자열만 입력할 수 있도록 제약을 걸 수 있는데\n",
    "# 이것이 바로 getter, setter"
   ]
  },
  {
   "cell_type": "code",
   "execution_count": 339,
   "id": "martial-variation",
   "metadata": {
    "ExecuteTime": {
     "end_time": "2021-07-01T06:42:36.473000Z",
     "start_time": "2021-07-01T06:42:36.453393Z"
    }
   },
   "outputs": [],
   "source": [
    "class User:\n",
    "    \n",
    "    def __init__(self, first_name, last_name):\n",
    "        self.first_name = first_name\n",
    "        self.last_name = last_name\n",
    "#----------------------------------------------\n",
    "# 객체의 속성을 변경시키려 할 때 setter 메소드를 거치도록\n",
    "# setter 메소드에 특정 로직을 작성\n",
    "\n",
    "    def setter(self, first_name):\n",
    "        if type(first_name) == str:\n",
    "            print('setter')\n",
    "            self.first_name = first_name\n",
    "        else:\n",
    "            print('error')\n",
    "    \n",
    "    def getter(self):\n",
    "        print('getter')\n",
    "        return self.first_name\n",
    "#----------------------------------------------\n",
    "    def disp(self):\n",
    "        print(self.first_name, self.last_name)\n",
    "        \n",
    "    name = property(getter, setter) # name이라는 변수에 getter, setter로 접근하게 하는 함수"
   ]
  },
  {
   "cell_type": "code",
   "execution_count": 340,
   "id": "identical-article",
   "metadata": {
    "ExecuteTime": {
     "end_time": "2021-07-01T06:42:36.878607Z",
     "start_time": "2021-07-01T06:42:36.863892Z"
    }
   },
   "outputs": [
    {
     "data": {
      "text/plain": [
       "'andy'"
      ]
     },
     "execution_count": 340,
     "metadata": {},
     "output_type": "execute_result"
    }
   ],
   "source": [
    "user1 = User('andy', 'kim')\n",
    "user1.first_name"
   ]
  },
  {
   "cell_type": "code",
   "execution_count": 341,
   "id": "charitable-wells",
   "metadata": {
    "ExecuteTime": {
     "end_time": "2021-07-01T06:42:37.017691Z",
     "start_time": "2021-07-01T06:42:37.006409Z"
    }
   },
   "outputs": [
    {
     "name": "stdout",
     "output_type": "stream",
     "text": [
      "getter\n"
     ]
    },
    {
     "data": {
      "text/plain": [
       "'andy'"
      ]
     },
     "execution_count": 341,
     "metadata": {},
     "output_type": "execute_result"
    }
   ],
   "source": [
    "# getter 함수 실행\n",
    "user1.name"
   ]
  },
  {
   "cell_type": "code",
   "execution_count": 342,
   "id": "loose-internet",
   "metadata": {
    "ExecuteTime": {
     "end_time": "2021-07-01T06:42:37.110485Z",
     "start_time": "2021-07-01T06:42:37.105497Z"
    }
   },
   "outputs": [
    {
     "name": "stdout",
     "output_type": "stream",
     "text": [
      "error\n"
     ]
    }
   ],
   "source": [
    "# setter 함수 실행\n",
    "user1.name = 1"
   ]
  },
  {
   "cell_type": "code",
   "execution_count": 343,
   "id": "public-couple",
   "metadata": {
    "ExecuteTime": {
     "end_time": "2021-07-01T06:42:37.234091Z",
     "start_time": "2021-07-01T06:42:37.216344Z"
    }
   },
   "outputs": [
    {
     "name": "stdout",
     "output_type": "stream",
     "text": [
      "setter\n"
     ]
    }
   ],
   "source": [
    "user1.name = 'john'"
   ]
  },
  {
   "cell_type": "code",
   "execution_count": 344,
   "id": "active-punch",
   "metadata": {
    "ExecuteTime": {
     "end_time": "2021-07-01T06:42:37.358365Z",
     "start_time": "2021-07-01T06:42:37.354377Z"
    }
   },
   "outputs": [
    {
     "name": "stdout",
     "output_type": "stream",
     "text": [
      "john kim\n"
     ]
    }
   ],
   "source": [
    "user1.disp()"
   ]
  },
  {
   "cell_type": "markdown",
   "id": "exposed-bathroom",
   "metadata": {},
   "source": [
    "### 4. non public\n",
    "- mangling 이라는 방법으로 다이렉트로 객체의 변수에 접근하지 못하게 하는 방법"
   ]
  },
  {
   "cell_type": "code",
   "execution_count": 389,
   "id": "progressive-snapshot",
   "metadata": {
    "ExecuteTime": {
     "end_time": "2021-07-01T06:54:51.331576Z",
     "start_time": "2021-07-01T06:54:51.315656Z"
    }
   },
   "outputs": [],
   "source": [
    "class Calculator:\n",
    "    \n",
    "    def __init__(self, num1, num2):\n",
    "        self.num1 = num1\n",
    "        self.__num2 = num2\n",
    "        \n",
    "    def getter(self):\n",
    "        return self.__num2\n",
    "    \n",
    "    # num2 가 0이면 1로 setting되도록\n",
    "    def setter(self, num2):\n",
    "        num2 = 1 if num2 == 0 else num2\n",
    "        self.__num2 = num2\n",
    "       \n",
    "    def div(self):\n",
    "        return self.num1 / self.__num2\n",
    "    \n",
    "    number2 = property(getter, setter)"
   ]
  },
  {
   "cell_type": "code",
   "execution_count": 390,
   "id": "tropical-workplace",
   "metadata": {
    "ExecuteTime": {
     "end_time": "2021-07-01T06:54:51.533373Z",
     "start_time": "2021-07-01T06:54:51.518415Z"
    }
   },
   "outputs": [],
   "source": [
    "cal = Calculator(10, 20)"
   ]
  },
  {
   "cell_type": "code",
   "execution_count": 391,
   "id": "automatic-summit",
   "metadata": {
    "ExecuteTime": {
     "end_time": "2021-07-01T06:54:51.767231Z",
     "start_time": "2021-07-01T06:54:51.751797Z"
    }
   },
   "outputs": [
    {
     "data": {
      "text/plain": [
       "0.5"
      ]
     },
     "execution_count": 391,
     "metadata": {},
     "output_type": "execute_result"
    }
   ],
   "source": [
    "cal.div()"
   ]
  },
  {
   "cell_type": "code",
   "execution_count": 415,
   "id": "actual-terminal",
   "metadata": {
    "ExecuteTime": {
     "end_time": "2021-07-01T07:07:37.992130Z",
     "start_time": "2021-07-01T07:07:37.972595Z"
    }
   },
   "outputs": [
    {
     "data": {
      "text/plain": [
       "1"
      ]
     },
     "execution_count": 415,
     "metadata": {},
     "output_type": "execute_result"
    }
   ],
   "source": [
    "cal.number2"
   ]
  },
  {
   "cell_type": "code",
   "execution_count": 416,
   "id": "desperate-interval",
   "metadata": {
    "ExecuteTime": {
     "end_time": "2021-07-01T07:07:38.162571Z",
     "start_time": "2021-07-01T07:07:38.151590Z"
    }
   },
   "outputs": [],
   "source": [
    "cal.number2 = 0"
   ]
  },
  {
   "cell_type": "code",
   "execution_count": 417,
   "id": "ceramic-prompt",
   "metadata": {
    "ExecuteTime": {
     "end_time": "2021-07-01T07:07:38.332561Z",
     "start_time": "2021-07-01T07:07:38.324055Z"
    },
    "scrolled": true
   },
   "outputs": [
    {
     "data": {
      "text/plain": [
       "1"
      ]
     },
     "execution_count": 417,
     "metadata": {},
     "output_type": "execute_result"
    }
   ],
   "source": [
    "cal.number2"
   ]
  },
  {
   "cell_type": "code",
   "execution_count": 421,
   "id": "spectacular-apparatus",
   "metadata": {
    "ExecuteTime": {
     "end_time": "2021-07-01T07:08:04.641693Z",
     "start_time": "2021-07-01T07:08:04.620138Z"
    }
   },
   "outputs": [
    {
     "ename": "AttributeError",
     "evalue": "'Calculator' object has no attribute '__num2'",
     "output_type": "error",
     "traceback": [
      "\u001b[1;31m---------------------------------------------------------------------------\u001b[0m",
      "\u001b[1;31mAttributeError\u001b[0m                            Traceback (most recent call last)",
      "\u001b[1;32m<ipython-input-421-9422eadacb85>\u001b[0m in \u001b[0;36m<module>\u001b[1;34m\u001b[0m\n\u001b[1;32m----> 1\u001b[1;33m \u001b[0mcalc\u001b[0m\u001b[1;33m.\u001b[0m\u001b[0m__num2\u001b[0m\u001b[1;33m\u001b[0m\u001b[1;33m\u001b[0m\u001b[0m\n\u001b[0m",
      "\u001b[1;31mAttributeError\u001b[0m: 'Calculator' object has no attribute '__num2'"
     ]
    }
   ],
   "source": [
    "calc.__num2 # 직접적인 접근 불가"
   ]
  },
  {
   "cell_type": "code",
   "execution_count": 435,
   "id": "soviet-retail",
   "metadata": {
    "ExecuteTime": {
     "end_time": "2021-07-01T07:24:36.190807Z",
     "start_time": "2021-07-01T07:24:36.181859Z"
    }
   },
   "outputs": [
    {
     "data": {
      "text/plain": [
       "(0, 1)"
      ]
     },
     "execution_count": 435,
     "metadata": {},
     "output_type": "execute_result"
    }
   ],
   "source": [
    "# 실질적으로 num2라는 속성은 없고 num2 = 0 의 의미는\n",
    "# 새로운 속성 num2가 생성된 것이다. \n",
    "\n",
    "cal.num2 = 0\n",
    "\n",
    "cal.num2, cal.number2"
   ]
  },
  {
   "cell_type": "markdown",
   "id": "prerequisite-brazil",
   "metadata": {},
   "source": [
    "### 5. is a & has a\n",
    "- 클래스를 설계하는 개념이다.\n",
    "- A is a B\n",
    "    - A는 B이다. 상속을 이용해서 클래스를 만드는 방법\n",
    "- A has a B\n",
    "    - A는 B를 가진다. A가 B객체를 가지고 클래스를 만드는 방법"
   ]
  },
  {
   "cell_type": "code",
   "execution_count": 439,
   "id": "nervous-microwave",
   "metadata": {
    "ExecuteTime": {
     "end_time": "2021-07-01T07:27:29.221756Z",
     "start_time": "2021-07-01T07:27:29.213778Z"
    }
   },
   "outputs": [
    {
     "name": "stdout",
     "output_type": "stream",
     "text": [
      "andy andy@hmail.com\n"
     ]
    }
   ],
   "source": [
    "# 사람 : 이름, 이메일, 정보출력 기능\n",
    "\n",
    "# A is a B\n",
    "class Person:\n",
    "    def __init__(self, name, email):\n",
    "        self.name = name\n",
    "        self.email = email\n",
    "        \n",
    "class Person2(Person):\n",
    "    def info(self):\n",
    "        print(self.name, self.email)\n",
    "        \n",
    "# 상속으로 p라는 객체에 name, email 속성을 추가\n",
    "p = Person2('andy', 'andy@hmail.com')\n",
    "p.info()"
   ]
  },
  {
   "cell_type": "code",
   "execution_count": 442,
   "id": "interested-crisis",
   "metadata": {
    "ExecuteTime": {
     "end_time": "2021-07-01T07:31:06.766322Z",
     "start_time": "2021-07-01T07:31:06.754314Z"
    }
   },
   "outputs": [
    {
     "name": "stdout",
     "output_type": "stream",
     "text": [
      "andy andy@gmail.com\n"
     ]
    }
   ],
   "source": [
    "# A has a B\n",
    "# 객체 안에 객체를 가지는 개념\n",
    "\n",
    "class Name:\n",
    "    def __init__(self, name):\n",
    "        self.name_str = name\n",
    "        \n",
    "class Email:\n",
    "    def __init__(self, email):\n",
    "        self.email_str = email\n",
    "        \n",
    "# 상속을 받지 않는다.\n",
    "class Person:\n",
    "    def __init__(self, name_obj, email_obj):\n",
    "        self.name = name_obj\n",
    "        self.email = email_obj\n",
    "        \n",
    "    def info(self):\n",
    "        print(name.name_str, email.email_str)\n",
    "        \n",
    "name = Name('andy')\n",
    "email = Email('andy@gmail.com')\n",
    "p = Person(name, email)\n",
    "p.info()"
   ]
  },
  {
   "cell_type": "markdown",
   "id": "smooth-liver",
   "metadata": {},
   "source": [
    "### Magic(Special) Method\n",
    "- compare\n",
    "    - '__eq__' : ==\n",
    "    - '__ne__' : !=\n",
    "    - '__lt__' : <\n",
    "\n",
    "- calculate\n",
    "    - '__add__' : +\n",
    "    - '__sub__' : -\n",
    "- __repr__ : 객체의 내용을 출력(개발자용)\n",
    "- __str__ : 객체의 내용을 출력(사용자용)"
   ]
  },
  {
   "cell_type": "code",
   "execution_count": 445,
   "id": "nutritional-pastor",
   "metadata": {
    "ExecuteTime": {
     "end_time": "2021-07-01T07:35:44.136245Z",
     "start_time": "2021-07-01T07:35:44.125304Z"
    }
   },
   "outputs": [
    {
     "data": {
      "text/plain": [
       "True"
      ]
     },
     "execution_count": 445,
     "metadata": {},
     "output_type": "execute_result"
    }
   ],
   "source": [
    "'test' == 'test'"
   ]
  },
  {
   "cell_type": "code",
   "execution_count": 446,
   "id": "requested-mapping",
   "metadata": {
    "ExecuteTime": {
     "end_time": "2021-07-01T07:35:56.751249Z",
     "start_time": "2021-07-01T07:35:56.737286Z"
    }
   },
   "outputs": [
    {
     "data": {
      "text/plain": [
       "True"
      ]
     },
     "execution_count": 446,
     "metadata": {},
     "output_type": "execute_result"
    }
   ],
   "source": [
    "# 문자열 객체와 문자열 객체의 연산\n",
    "\n",
    "'test'.__eq__('test')"
   ]
  },
  {
   "cell_type": "code",
   "execution_count": 458,
   "id": "mathematical-aviation",
   "metadata": {
    "ExecuteTime": {
     "end_time": "2021-07-01T07:41:31.249008Z",
     "start_time": "2021-07-01T07:41:31.232053Z"
    }
   },
   "outputs": [],
   "source": [
    "# Magic Method를 이용한 class 생성\n",
    "\n",
    "class txt:\n",
    "    def __init__(self, txt):\n",
    "        self.txt = txt"
   ]
  },
  {
   "cell_type": "code",
   "execution_count": 459,
   "id": "blank-metro",
   "metadata": {
    "ExecuteTime": {
     "end_time": "2021-07-01T07:41:31.547443Z",
     "start_time": "2021-07-01T07:41:31.532365Z"
    }
   },
   "outputs": [],
   "source": [
    "t1 = txt('python')\n",
    "t2 = txt('PYTHON')\n",
    "t3 = t1"
   ]
  },
  {
   "cell_type": "code",
   "execution_count": 460,
   "id": "continent-kansas",
   "metadata": {
    "ExecuteTime": {
     "end_time": "2021-07-01T07:41:31.909990Z",
     "start_time": "2021-07-01T07:41:31.901381Z"
    }
   },
   "outputs": [
    {
     "data": {
      "text/plain": [
       "(False, True, False)"
      ]
     },
     "execution_count": 460,
     "metadata": {},
     "output_type": "execute_result"
    }
   ],
   "source": [
    "t1 == t2, t1 == t3, t2 == t3"
   ]
  },
  {
   "cell_type": "markdown",
   "id": "solar-precipitation",
   "metadata": {
    "ExecuteTime": {
     "end_time": "2021-07-01T07:39:48.026532Z",
     "start_time": "2021-07-01T07:39:48.015493Z"
    }
   },
   "source": [
    "`__eq__`\n",
    "\n",
    "앞의 객체와 뒤의 객체가 같은 주소값을 가지면 True를 반환한다.\n",
    "\n",
    "따라서 위의 비교 연산에서 False, True, False 값이 반환된다(t1, t3는 얕은복사로 같은 주소값을 가진다.)"
   ]
  },
  {
   "cell_type": "code",
   "execution_count": 477,
   "id": "brief-biodiversity",
   "metadata": {
    "ExecuteTime": {
     "end_time": "2021-07-01T07:48:06.864295Z",
     "start_time": "2021-07-01T07:48:06.853324Z"
    }
   },
   "outputs": [
    {
     "data": {
      "text/plain": [
       "(True, True, True)"
      ]
     },
     "execution_count": 477,
     "metadata": {},
     "output_type": "execute_result"
    }
   ],
   "source": [
    "# Magic Method를 이용한 class 생성\n",
    "\n",
    "class txt:\n",
    "    def __init__(self, txt):\n",
    "        self.txt = txt\n",
    "    def __eq__(self, txt_obj):\n",
    "        return self.txt.lower() == txt_obj.txt.lower()\n",
    "\n",
    "t1 = txt('python')\n",
    "t2 = txt('PYTHON')\n",
    "t3 = t1\n",
    "\n",
    "# 대소문자 구분 없이 비교 연산\n",
    "# 객체를 생성하면서 연산 방법을 재정의 할 수 있다!\n",
    "t1 == t2, t1 == t3, t2 == t3"
   ]
  },
  {
   "cell_type": "code",
   "execution_count": null,
   "id": "early-symphony",
   "metadata": {},
   "outputs": [],
   "source": []
  },
  {
   "cell_type": "code",
   "execution_count": null,
   "id": "alive-sacramento",
   "metadata": {},
   "outputs": [],
   "source": []
  },
  {
   "cell_type": "code",
   "execution_count": 478,
   "id": "august-waterproof",
   "metadata": {
    "ExecuteTime": {
     "end_time": "2021-07-01T07:48:07.449729Z",
     "start_time": "2021-07-01T07:48:07.435801Z"
    }
   },
   "outputs": [
    {
     "name": "stdout",
     "output_type": "stream",
     "text": [
      "<__main__.txt object at 0x000001BA83F7B408>\n"
     ]
    },
    {
     "data": {
      "text/plain": [
       "(<__main__.txt at 0x1ba83f7b408>, None)"
      ]
     },
     "execution_count": 478,
     "metadata": {},
     "output_type": "execute_result"
    }
   ],
   "source": [
    "# repr & str 오버라이딩 예제\n",
    "\n",
    "t1, print(t1)"
   ]
  },
  {
   "cell_type": "code",
   "execution_count": 472,
   "id": "necessary-tucson",
   "metadata": {
    "ExecuteTime": {
     "end_time": "2021-07-01T07:46:29.207495Z",
     "start_time": "2021-07-01T07:46:29.188885Z"
    }
   },
   "outputs": [],
   "source": [
    "# repr & str\n",
    "\n",
    "class txt:\n",
    "    def __init__(self, txt):\n",
    "        self.txt = txt\n",
    "    def __eq__(self, txt_obj):\n",
    "        return self.txt.lower() == txt_obj.txt.lower()\n",
    "    \n",
    "    # 오버라이딩\n",
    "    def __repr__(self):\n",
    "        return 'txt(txt={})'.format(self.txt)\n",
    "    def __str__(self):\n",
    "        return self.txt"
   ]
  },
  {
   "cell_type": "code",
   "execution_count": 473,
   "id": "homeless-twenty",
   "metadata": {
    "ExecuteTime": {
     "end_time": "2021-07-01T07:46:29.345847Z",
     "start_time": "2021-07-01T07:46:29.334874Z"
    }
   },
   "outputs": [
    {
     "name": "stdout",
     "output_type": "stream",
     "text": [
      "python\n"
     ]
    },
    {
     "data": {
      "text/plain": [
       "(txt(txt=python), None)"
      ]
     },
     "execution_count": 473,
     "metadata": {},
     "output_type": "execute_result"
    }
   ],
   "source": [
    "t1 = txt('python')\n",
    "\n",
    "t1, print(t1)"
   ]
  },
  {
   "cell_type": "code",
   "execution_count": 475,
   "id": "artificial-procurement",
   "metadata": {
    "ExecuteTime": {
     "end_time": "2021-07-01T07:47:51.215376Z",
     "start_time": "2021-07-01T07:47:51.196427Z"
    }
   },
   "outputs": [
    {
     "name": "stdout",
     "output_type": "stream",
     "text": [
      "python\n"
     ]
    },
    {
     "data": {
      "text/plain": [
       "(txt(txt=python), None)"
      ]
     },
     "execution_count": 475,
     "metadata": {},
     "output_type": "execute_result"
    }
   ],
   "source": [
    "t1, print(t1)"
   ]
  },
  {
   "cell_type": "code",
   "execution_count": 480,
   "id": "partial-pearl",
   "metadata": {
    "ExecuteTime": {
     "end_time": "2021-07-01T07:49:48.443971Z",
     "start_time": "2021-07-01T07:49:48.436990Z"
    }
   },
   "outputs": [
    {
     "name": "stdout",
     "output_type": "stream",
     "text": [
      "<__main__.txt object at 0x000001BA83F7B408>\n"
     ]
    },
    {
     "data": {
      "text/plain": [
       "(<__main__.txt at 0x1ba83f7b408>, None)"
      ]
     },
     "execution_count": 480,
     "metadata": {},
     "output_type": "execute_result"
    }
   ],
   "source": [
    "t1, print(t1)"
   ]
  }
 ],
 "metadata": {
  "kernelspec": {
   "display_name": "Python 3",
   "language": "python",
   "name": "python3"
  },
  "language_info": {
   "codemirror_mode": {
    "name": "ipython",
    "version": 3
   },
   "file_extension": ".py",
   "mimetype": "text/x-python",
   "name": "python",
   "nbconvert_exporter": "python",
   "pygments_lexer": "ipython3",
   "version": "3.7.10"
  },
  "nbTranslate": {
   "displayLangs": [
    "*"
   ],
   "hotkey": "alt-t",
   "langInMainMenu": true,
   "sourceLang": "en",
   "targetLang": "fr",
   "useGoogleTranslate": true
  },
  "varInspector": {
   "cols": {
    "lenName": 16,
    "lenType": 16,
    "lenVar": 40
   },
   "kernels_config": {
    "python": {
     "delete_cmd_postfix": "",
     "delete_cmd_prefix": "del ",
     "library": "var_list.py",
     "varRefreshCmd": "print(var_dic_list())"
    },
    "r": {
     "delete_cmd_postfix": ") ",
     "delete_cmd_prefix": "rm(",
     "library": "var_list.r",
     "varRefreshCmd": "cat(var_dic_list()) "
    }
   },
   "types_to_exclude": [
    "module",
    "function",
    "builtin_function_or_method",
    "instance",
    "_Feature"
   ],
   "window_display": false
  }
 },
 "nbformat": 4,
 "nbformat_minor": 5
}
