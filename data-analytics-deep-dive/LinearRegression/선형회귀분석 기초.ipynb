{
 "cells": [
  {
   "cell_type": "code",
   "execution_count": 1,
   "id": "explicit-military",
   "metadata": {
    "ExecuteTime": {
     "end_time": "2021-08-15T05:59:33.151728Z",
     "start_time": "2021-08-15T05:59:33.132777Z"
    }
   },
   "outputs": [],
   "source": [
    "# 파이썬 시각화 패키지 불러오기\n",
    "import matplotlib.pyplot as plt\n",
    "%matplotlib inline\n",
    "\n",
    "\n",
    "# 사용자 운영체제 확인\n",
    "import platform\n",
    "platform.system()\n",
    "\n",
    "# 운영체제별 한글 폰트 설정\n",
    "if platform.system() == 'Darwin': # Mac 환경 폰트 설정\n",
    "    plt.rc('font', family='AppleGothic')\n",
    "elif platform.system() == 'Windows': # Windows 환경 폰트 설정\n",
    "    plt.rc('font', family='Malgun Gothic')\n",
    "\n",
    "plt.rc('axes', unicode_minus=False) # 마이너스 폰트 설정\n",
    "\n",
    "\n",
    "# 글씨 선명하게 출력하는 설정\n",
    "%config InlineBackend.figure_format = 'retina'"
   ]
  },
  {
   "cell_type": "markdown",
   "id": "outdoor-prisoner",
   "metadata": {},
   "source": [
    "## 선형회귀분석의 기초"
   ]
  },
  {
   "cell_type": "markdown",
   "id": "useful-detection",
   "metadata": {},
   "source": [
    "회귀분석이란 독립변수 $x$를 입력으로 갖는 어떤 함수의 출력값이 실제 $y$값과 가능한 한 비슷하게 만드는 그 함수를 찾는 과정이다."
   ]
  },
  {
   "cell_type": "markdown",
   "id": "injured-share",
   "metadata": {},
   "source": [
    "$$\\hat{y} = f(x) \\sim y$$"
   ]
  },
  {
   "cell_type": "markdown",
   "id": "knowing-median",
   "metadata": {},
   "source": [
    "함수의 종류는 무수히 많기 때문에 함수의 종류는 **선형함수**로 국한한다.\n",
    "\n",
    "> 선형함수란 y절편이 있고 x의 선형조합으로 이루어지는 함수이다.\n",
    "\n",
    "$$\\hat{y} = w_0(y절편) + w_1x_1 + w_2x_2 + ... + w_Dx_D = w_0 + w^Tx$$\n",
    "\n",
    "이런 선형함수만 사용하는 회귀분석을 **선형회귀모형(linear regression model)**이라한다."
   ]
  },
  {
   "cell_type": "markdown",
   "id": "agreed-setting",
   "metadata": {},
   "source": [
    "위 식에서 가중치 벡터 $w$는 함수 $f(x)$의 계수(coefficient)이자 선형회귀 모형의 **모수(parameter)**이다."
   ]
  },
  {
   "cell_type": "markdown",
   "id": "chubby-consortium",
   "metadata": {},
   "source": [
    "## 상수항 결합(bias augmentation)"
   ]
  },
  {
   "cell_type": "markdown",
   "id": "behavioral-stroke",
   "metadata": {
    "ExecuteTime": {
     "end_time": "2021-08-16T02:45:19.645679Z",
     "start_time": "2021-08-16T02:45:19.634708Z"
    }
   },
   "source": [
    "$$\\hat{y} = w_0(y절편) + w_1x_1 + w_2x_2 + ... + w_Dx_D = w_0 + w^Tx$$"
   ]
  },
  {
   "cell_type": "markdown",
   "id": "stupid-analyst",
   "metadata": {},
   "source": [
    "위 식을 간단하게 만들기 위한 목적으로 상수항을 독립변수 데이터에 추가할 수 있다."
   ]
  },
  {
   "cell_type": "markdown",
   "id": "selected-talent",
   "metadata": {},
   "source": [
    "\\begin{split}\n",
    "X =\n",
    "\\begin{bmatrix}\n",
    "x_{11} & x_{12} & \\cdots & x_{1D} \\\\\n",
    "x_{21} & x_{22} & \\cdots & x_{2D} \\\\\n",
    "\\vdots & \\vdots & \\vdots & \\vdots \\\\\n",
    "x_{N1} & x_{N2} & \\cdots & x_{ND} \\\\\n",
    "\\end{bmatrix}\n",
    "\\rightarrow \n",
    "X_a =\n",
    "\\begin{bmatrix}\n",
    "1 & x_{11} & x_{12} & \\cdots & x_{1D} \\\\\n",
    "1 & x_{21} & x_{22} & \\cdots & x_{2D} \\\\\n",
    "\\vdots & \\vdots & \\vdots & \\vdots & \\vdots \\\\\n",
    "1 & x_{N1} & x_{N2} & \\cdots & x_{ND} \\\\\n",
    "\\end{bmatrix}\n",
    "\\end{split}"
   ]
  },
  {
   "cell_type": "markdown",
   "id": "certified-church",
   "metadata": {},
   "source": [
    "이렇게 상수항이 추가되면 앞의 식이 내적으로 간단하게 표시된다."
   ]
  },
  {
   "cell_type": "markdown",
   "id": "august-greensboro",
   "metadata": {},
   "source": [
    "\\begin{split} f(x) = w_0 + w_1 x_1 + w_2 x_2 + \\cdots + w_D x_D\n",
    "= \n",
    "\\begin{bmatrix}\n",
    "1 & x_1 & x_2 & \\cdots & x_D\n",
    "\\end{bmatrix}\n",
    "\\begin{bmatrix}\n",
    "w_0 \\\\ w_1 \\\\ w_2 \\\\ \\vdots \\\\ w_D\n",
    "\\end{bmatrix}\n",
    "= x_a^T w_a = w_a^T x_a\n",
    "\\end{split}"
   ]
  },
  {
   "cell_type": "code",
   "execution_count": 14,
   "id": "hollow-diploma",
   "metadata": {
    "ExecuteTime": {
     "end_time": "2021-08-16T02:47:56.894707Z",
     "start_time": "2021-08-16T02:47:56.885729Z"
    }
   },
   "outputs": [
    {
     "data": {
      "text/plain": [
       "array([[0, 1],\n",
       "       [2, 3],\n",
       "       [4, 5],\n",
       "       [6, 7],\n",
       "       [8, 9]])"
      ]
     },
     "execution_count": 14,
     "metadata": {},
     "output_type": "execute_result"
    }
   ],
   "source": [
    "# statsmodels 패키지의 상수항 결합\n",
    "\n",
    "X0 = np.arange(10).reshape(5, 2)\n",
    "X0"
   ]
  },
  {
   "cell_type": "code",
   "execution_count": 16,
   "id": "marked-breed",
   "metadata": {
    "ExecuteTime": {
     "end_time": "2021-08-16T02:48:18.416317Z",
     "start_time": "2021-08-16T02:48:18.406344Z"
    }
   },
   "outputs": [
    {
     "data": {
      "text/plain": [
       "array([[1., 0., 1.],\n",
       "       [1., 2., 3.],\n",
       "       [1., 4., 5.],\n",
       "       [1., 6., 7.],\n",
       "       [1., 8., 9.]])"
      ]
     },
     "execution_count": 16,
     "metadata": {},
     "output_type": "execute_result"
    }
   ],
   "source": [
    "# 상수항 결합\n",
    "# add_constant\n",
    "\n",
    "import statsmodels.api as sm\n",
    "\n",
    "X = sm.add_constant(X0)\n",
    "X"
   ]
  },
  {
   "cell_type": "markdown",
   "id": "adolescent-cover",
   "metadata": {},
   "source": [
    "## 최소자승법(OLS)"
   ]
  },
  {
   "cell_type": "markdown",
   "id": "under-nickel",
   "metadata": {},
   "source": [
    "즉, 잔차제곱합이 영벡터에 최대한 가까워지는 가중치 벡터 $w$를 구하는 문제가 된다."
   ]
  },
  {
   "cell_type": "markdown",
   "id": "sustainable-dairy",
   "metadata": {},
   "source": [
    "RSS(잔차제곱합)을 가장 작게 만드는 가중치 벡터 $w$를 위의 내용을 이용해 정리하면 다음과 같이 표현할 수 있다."
   ]
  },
  {
   "cell_type": "markdown",
   "id": "grand-colleague",
   "metadata": {},
   "source": [
    "$$RSS = e^Te$$\n",
    "$$= (y - Xw)^T(y - Xw)$$\n",
    "$$= y^Ty - 2y^TXw+w^TX^TXw$$"
   ]
  },
  {
   "cell_type": "markdown",
   "id": "specialized-reserve",
   "metadata": {},
   "source": [
    "이렇게 정리한 식을 이용해 RSS를 최소로 만드는 가중치 벡터를 구하기 위한 방법으로 최적화를 이용할 수 있다.\n",
    "\n",
    "즉, 위 식을 $w$로 미분하여 잔차 제곱합의 그래디언트 벡터가 0이 되면 된다."
   ]
  },
  {
   "cell_type": "markdown",
   "id": "elegant-today",
   "metadata": {},
   "source": [
    "$$\\dfrac{dRSS}{dw} = -2X^Ty + wX^TXw$$"
   ]
  },
  {
   "cell_type": "markdown",
   "id": "medieval-season",
   "metadata": {},
   "source": [
    "그래디언트 벡터가 0이 되어야 하기 때문에 다음의 식이 성립한다."
   ]
  },
  {
   "cell_type": "markdown",
   "id": "burning-syndication",
   "metadata": {},
   "source": [
    "$$X^TXw^* =  X^Ty$$"
   ]
  },
  {
   "cell_type": "markdown",
   "id": "outer-arthur",
   "metadata": {},
   "source": [
    "여기서 정방행렬인 $X^TX$의 역행렬이 존재한다면 가중치 벡터 $w^*$를 다음의 식으로 구할 수 있게된다."
   ]
  },
  {
   "cell_type": "markdown",
   "id": "passive-egypt",
   "metadata": {},
   "source": [
    "> $$w^* = (X^TX)^{-1}X^Ty$$"
   ]
  },
  {
   "cell_type": "markdown",
   "id": "respective-juice",
   "metadata": {},
   "source": [
    "위 식에서 $y$의 앞부분을 의사역행렬(pseudo inverse)라 하며 $A^+$로도 표기할 수 있다."
   ]
  },
  {
   "cell_type": "code",
   "execution_count": 37,
   "id": "studied-russell",
   "metadata": {
    "ExecuteTime": {
     "end_time": "2021-08-16T04:05:41.814501Z",
     "start_time": "2021-08-16T04:05:40.665047Z"
    }
   },
   "outputs": [],
   "source": [
    "from sklearn.datasets import load_boston\n",
    "boston = load_boston()\n",
    "X = boston.data\n",
    "y = boston.target"
   ]
  },
  {
   "cell_type": "code",
   "execution_count": 38,
   "id": "enclosed-discretion",
   "metadata": {
    "ExecuteTime": {
     "end_time": "2021-08-16T04:05:43.653537Z",
     "start_time": "2021-08-16T04:05:43.629602Z"
    }
   },
   "outputs": [
    {
     "data": {
      "text/plain": [
       "array([-9.28965170e-02,  4.87149552e-02, -4.05997958e-03,  2.85399882e+00,\n",
       "       -2.86843637e+00,  5.92814778e+00, -7.26933458e-03, -9.68514157e-01,\n",
       "        1.71151128e-01, -9.39621540e-03, -3.92190926e-01,  1.49056102e-02,\n",
       "       -4.16304471e-01])"
      ]
     },
     "execution_count": 38,
     "metadata": {},
     "output_type": "execute_result"
    }
   ],
   "source": [
    "# 가중치 벡터 계산\n",
    "\n",
    "w = np.linalg.inv(X.T @ X) @ X.T @ y\n",
    "w"
   ]
  },
  {
   "cell_type": "code",
   "execution_count": 40,
   "id": "lesser-cookie",
   "metadata": {
    "ExecuteTime": {
     "end_time": "2021-08-16T04:05:50.302350Z",
     "start_time": "2021-08-16T04:05:50.142449Z"
    }
   },
   "outputs": [
    {
     "data": {
      "text/plain": [
       "12228.046261044003"
      ]
     },
     "execution_count": 40,
     "metadata": {},
     "output_type": "execute_result"
    },
    {
     "data": {
      "image/png": "[encoded data removed]",
      "text/plain": [
       "<Figure size 432x288 with 1 Axes>"
      ]
     },
     "metadata": {
      "image/png": {
       "height": 249,
       "width": 367
      },
      "needs_background": "light"
     },
     "output_type": "display_data"
    }
   ],
   "source": [
    "plt.plot(X @ w, label='predict')\n",
    "plt.plot(y, label='target', alpha=0.5)\n",
    "plt.legend()\n",
    "\n",
    "# 잔차제곱합\n",
    "np.linalg.norm(X@w - y) ** 2"
   ]
  },
  {
   "cell_type": "code",
   "execution_count": 41,
   "id": "caring-february",
   "metadata": {
    "ExecuteTime": {
     "end_time": "2021-08-16T04:05:53.704369Z",
     "start_time": "2021-08-16T04:05:53.693361Z"
    }
   },
   "outputs": [
    {
     "name": "stderr",
     "output_type": "stream",
     "text": [
      "C:\\Users\\Kim\\AppData\\Roaming\\Python\\Python37\\site-packages\\ipykernel_launcher.py:3: FutureWarning: `rcond` parameter will change to the default of machine precision times ``max(M, N)`` where M and N are the input matrix dimensions.\n",
      "To use the future default and silence this warning we advise to pass `rcond=None`, to keep using the old, explicitly pass `rcond=-1`.\n",
      "  This is separate from the ipykernel package so we can avoid doing imports until\n"
     ]
    },
    {
     "data": {
      "text/plain": [
       "array([-9.28965170e-02,  4.87149552e-02, -4.05997958e-03,  2.85399882e+00,\n",
       "       -2.86843637e+00,  5.92814778e+00, -7.26933458e-03, -9.68514157e-01,\n",
       "        1.71151128e-01, -9.39621540e-03, -3.92190926e-01,  1.49056102e-02,\n",
       "       -4.16304471e-01])"
      ]
     },
     "execution_count": 41,
     "metadata": {},
     "output_type": "execute_result"
    }
   ],
   "source": [
    "# lstsq() 메소드를 이용한 가중치 벡터 계산\n",
    "\n",
    "w, resid, rank, s = np.linalg.lstsq(X, y)\n",
    "w"
   ]
  },
  {
   "cell_type": "markdown",
   "id": "destroyed-garden",
   "metadata": {},
   "source": [
    "## 넘파이를 이용한 선형회귀분석"
   ]
  },
  {
   "cell_type": "markdown",
   "id": "little-consortium",
   "metadata": {},
   "source": [
    "`make_regrssion()` 메소드를 이용해 bias가 100, noise가 10인 독립변수가 하나인 샘플 200개를 생성한다."
   ]
  },
  {
   "cell_type": "code",
   "execution_count": 62,
   "id": "raised-foster",
   "metadata": {
    "ExecuteTime": {
     "end_time": "2021-08-16T04:17:49.732636Z",
     "start_time": "2021-08-16T04:17:49.722663Z"
    }
   },
   "outputs": [],
   "source": [
    "from sklearn.datasets import make_regression\n",
    "\n",
    "bias = 100\n",
    "\n",
    "X0, y, w = make_regression(\n",
    "    n_samples=200, n_features=1, bias=bias, noise=10, coef=True, random_state=1\n",
    ")\n",
    "\n",
    "X = sm.add_constant(X0)\n",
    "y = y.reshape(-1,1)"
   ]
  },
  {
   "cell_type": "code",
   "execution_count": 63,
   "id": "blond-municipality",
   "metadata": {
    "ExecuteTime": {
     "end_time": "2021-08-16T04:17:49.903472Z",
     "start_time": "2021-08-16T04:17:49.892501Z"
    }
   },
   "outputs": [
    {
     "data": {
      "text/plain": [
       "array(86.44794301)"
      ]
     },
     "execution_count": 63,
     "metadata": {},
     "output_type": "execute_result"
    }
   ],
   "source": [
    "# make_regression을 통해 나온 가중치\n",
    "\n",
    "w"
   ]
  },
  {
   "cell_type": "code",
   "execution_count": 65,
   "id": "inappropriate-exclusive",
   "metadata": {
    "ExecuteTime": {
     "end_time": "2021-08-16T04:18:11.870424Z",
     "start_time": "2021-08-16T04:18:11.852473Z"
    }
   },
   "outputs": [
    {
     "data": {
      "text/plain": [
       "array([[99.79150869],\n",
       "       [86.96171201]])"
      ]
     },
     "execution_count": 65,
     "metadata": {},
     "output_type": "execute_result"
    }
   ],
   "source": [
    "# OLS 식을 이용해 직접구한 bias와 weight\n",
    "\n",
    "np.linalg.inv(X.T @ X) @ X.T @ y"
   ]
  },
  {
   "cell_type": "code",
   "execution_count": 67,
   "id": "immediate-number",
   "metadata": {
    "ExecuteTime": {
     "end_time": "2021-08-16T04:18:58.631007Z",
     "start_time": "2021-08-16T04:18:58.622031Z"
    }
   },
   "outputs": [
    {
     "name": "stderr",
     "output_type": "stream",
     "text": [
      "C:\\Users\\Kim\\AppData\\Roaming\\Python\\Python37\\site-packages\\ipykernel_launcher.py:1: FutureWarning: `rcond` parameter will change to the default of machine precision times ``max(M, N)`` where M and N are the input matrix dimensions.\n",
      "To use the future default and silence this warning we advise to pass `rcond=None`, to keep using the old, explicitly pass `rcond=-1`.\n",
      "  \"\"\"Entry point for launching an IPython kernel.\n"
     ]
    },
    {
     "data": {
      "text/plain": [
       "array([[99.79150869],\n",
       "       [86.96171201]])"
      ]
     },
     "execution_count": 67,
     "metadata": {},
     "output_type": "execute_result"
    }
   ],
   "source": [
    "# lstsq()로 구한 bias, weight\n",
    "\n",
    "w, resid, rank, s = np.linalg.lstsq(X, y)\n",
    "w"
   ]
  },
  {
   "cell_type": "markdown",
   "id": "freelance-architect",
   "metadata": {},
   "source": [
    "최소자승법으로 구한 선형회귀 모형"
   ]
  },
  {
   "cell_type": "markdown",
   "id": "atmospheric-playing",
   "metadata": {},
   "source": [
    "$$y = 100 + 86.96171201x + \\epsilon$$"
   ]
  },
  {
   "cell_type": "markdown",
   "id": "double-damage",
   "metadata": {},
   "source": [
    "$$\\hat{y} = 99.79150869(bias) + 86.96171201(weight)x$$"
   ]
  },
  {
   "cell_type": "markdown",
   "id": "czech-celtic",
   "metadata": {},
   "source": [
    "**noise(잡음)이 존재하기 때문에 실제 식과 완벽하게 똑같은 선형회귀식을 구할 수 없지만 근삿값을 구할 수 있다.**"
   ]
  },
  {
   "cell_type": "markdown",
   "id": "scheduled-afternoon",
   "metadata": {},
   "source": [
    "새로운 $X$값 10개를 생성해 선형회귀식에 대입한 결과 예측값은 다음과 같다."
   ]
  },
  {
   "cell_type": "code",
   "execution_count": 71,
   "id": "declared-terminal",
   "metadata": {
    "ExecuteTime": {
     "end_time": "2021-08-16T04:25:07.646593Z",
     "start_time": "2021-08-16T04:25:07.496459Z"
    }
   },
   "outputs": [
    {
     "data": {
      "image/png": "[encoded data removed]",
      "text/plain": [
       "<Figure size 432x288 with 1 Axes>"
      ]
     },
     "metadata": {
      "image/png": {
       "height": 279,
       "width": 391
      },
      "needs_background": "light"
     },
     "output_type": "display_data"
    }
   ],
   "source": [
    "x_new = np.linspace(np.min(X0), np.max(X0), 10)\n",
    "X_new = sm.add_constant(x_new)  # 상수항 결합\n",
    "y_new = X_new @ w\n",
    "\n",
    "plt.scatter(X0, y, label=\"원래 데이터\")\n",
    "plt.plot(x_new, y_new, 'rs-', label=\"회귀분석 예측\")\n",
    "plt.xlabel(\"x\")\n",
    "plt.ylabel(\"y\")\n",
    "plt.title(\"선형 회귀분석의 예\")\n",
    "plt.legend()\n",
    "plt.grid()\n",
    "plt.show()"
   ]
  },
  {
   "cell_type": "markdown",
   "id": "elementary-drama",
   "metadata": {},
   "source": [
    "## sklearn 패키지를 이용한 선형회귀분석"
   ]
  },
  {
   "cell_type": "code",
   "execution_count": 72,
   "id": "smooth-internship",
   "metadata": {
    "ExecuteTime": {
     "end_time": "2021-08-16T04:30:38.862431Z",
     "start_time": "2021-08-16T04:30:38.839460Z"
    }
   },
   "outputs": [
    {
     "name": "stdout",
     "output_type": "stream",
     "text": [
      "[99.79150869] [[86.96171201]]\n"
     ]
    }
   ],
   "source": [
    "from sklearn.linear_model import LinearRegression\n",
    "\n",
    "lr = LinearRegression().fit(X0, y)\n",
    "print(lr.intercept_, lr.coef_)"
   ]
  },
  {
   "cell_type": "code",
   "execution_count": 75,
   "id": "trying-closure",
   "metadata": {
    "ExecuteTime": {
     "end_time": "2021-08-16T04:31:26.800498Z",
     "start_time": "2021-08-16T04:31:26.790525Z"
    }
   },
   "outputs": [
    {
     "data": {
      "text/plain": [
       "array([[-74.13191534],\n",
       "       [ 12.82979668],\n",
       "       [ 99.79150869],\n",
       "       [186.7532207 ],\n",
       "       [273.71493272]])"
      ]
     },
     "execution_count": 75,
     "metadata": {},
     "output_type": "execute_result"
    }
   ],
   "source": [
    "predict = lr.predict([[-2], [-1], [0], [1], [2]])\n",
    "predict"
   ]
  },
  {
   "cell_type": "code",
   "execution_count": 82,
   "id": "domestic-bronze",
   "metadata": {
    "ExecuteTime": {
     "end_time": "2021-08-16T04:32:43.259139Z",
     "start_time": "2021-08-16T04:32:43.099600Z"
    }
   },
   "outputs": [
    {
     "data": {
      "image/png": "[encoded data removed]",
      "text/plain": [
       "<Figure size 432x288 with 1 Axes>"
      ]
     },
     "metadata": {
      "image/png": {
       "height": 249,
       "width": 376
      },
      "needs_background": "light"
     },
     "output_type": "display_data"
    }
   ],
   "source": [
    "plt.scatter(X0, y, label='real_vale')\n",
    "plt.scatter([[-2], [-1], [0], [1], [2]], predict, label='pred')\n",
    "plt.legend()\n",
    "plt.show()"
   ]
  },
  {
   "cell_type": "markdown",
   "id": "prompt-september",
   "metadata": {
    "ExecuteTime": {
     "end_time": "2021-08-16T04:33:24.415649Z",
     "start_time": "2021-08-16T04:33:24.408669Z"
    }
   },
   "source": [
    "## statsmodels 패키지를 이용한 선형회귀분석"
   ]
  },
  {
   "cell_type": "markdown",
   "id": "metropolitan-alfred",
   "metadata": {},
   "source": [
    "statsmodels 패키지는 OLS 클래스를 사용해 선형회귀분석을 실시"
   ]
  },
  {
   "cell_type": "markdown",
   "id": "acting-intellectual",
   "metadata": {
    "ExecuteTime": {
     "end_time": "2021-08-16T04:34:37.410785Z",
     "start_time": "2021-08-16T04:34:37.390842Z"
    }
   },
   "source": [
    "1. 독립변수와 종속변수가 모두 포함된 DF생성, 상수항 결합은 생략.\n",
    "2. OLS클래스 객체 생성. from_formula 메소드의 인수로 종속변수와 독립변수를 지정하는 formula 문자열 입력, data인수로는 독립변수와 종속변수가 모두 포함된 DF를 입력"
   ]
  },
  {
   "cell_type": "markdown",
   "id": "eligible-ambassador",
   "metadata": {
    "ExecuteTime": {
     "end_time": "2021-08-16T04:35:00.163506Z",
     "start_time": "2021-08-16T04:35:00.141527Z"
    }
   },
   "source": [
    "`model = OLS.from_formula(formula, data=df)`"
   ]
  },
  {
   "cell_type": "markdown",
   "id": "friendly-raise",
   "metadata": {},
   "source": [
    "또는 독립변수만 존재하는 `dfx`, 종속변수만 존재하는 `dfy`를 인수로 넘길 수 있다.\n",
    "\n",
    "다만 이 때는 `dfx`가 상수항을 가지고 있어야한다.\n",
    "\n",
    "`model = OLS(dfy, dfx)`"
   ]
  },
  {
   "cell_type": "markdown",
   "id": "incorporated-occasion",
   "metadata": {},
   "source": [
    "3. fit 메소드로 모형을 추정하고 별도의 RegressionResults 클래스 객체가 반환된다."
   ]
  },
  {
   "cell_type": "markdown",
   "id": "cordless-frame",
   "metadata": {},
   "source": [
    "`result = model.fit()`"
   ]
  },
  {
   "cell_type": "markdown",
   "id": "unlimited-classics",
   "metadata": {},
   "source": [
    "4. `RegressionResults` 클래스 객체는 `summary` 메소드와 예측을 위한 `predictio` 메소드를 제공"
   ]
  },
  {
   "cell_type": "markdown",
   "id": "stopped-server",
   "metadata": {},
   "source": [
    "`print(result.summary())`\n",
    "\n",
    "`y_new = result.predict(x_new)`"
   ]
  },
  {
   "cell_type": "markdown",
   "id": "referenced-bride",
   "metadata": {},
   "source": [
    "**예측을 위한 데이터는 추정시와 동일하게 상수항 결합을 해주어야 한다.**"
   ]
  },
  {
   "cell_type": "code",
   "execution_count": 86,
   "id": "electronic-labor",
   "metadata": {
    "ExecuteTime": {
     "end_time": "2021-08-16T04:37:46.994837Z",
     "start_time": "2021-08-16T04:37:46.961925Z"
    }
   },
   "outputs": [
    {
     "data": {
      "text/html": [
       "<div>\n",
       "<style scoped>\n",
       "    .dataframe tbody tr th:only-of-type {\n",
       "        vertical-align: middle;\n",
       "    }\n",
       "\n",
       "    .dataframe tbody tr th {\n",
       "        vertical-align: top;\n",
       "    }\n",
       "\n",
       "    .dataframe thead th {\n",
       "        text-align: right;\n",
       "    }\n",
       "</style>\n",
       "<table border=\"1\" class=\"dataframe\">\n",
       "  <thead>\n",
       "    <tr style=\"text-align: right;\">\n",
       "      <th></th>\n",
       "      <th>x</th>\n",
       "      <th>y</th>\n",
       "    </tr>\n",
       "  </thead>\n",
       "  <tbody>\n",
       "    <tr>\n",
       "      <th>0</th>\n",
       "      <td>0.232495</td>\n",
       "      <td>127.879017</td>\n",
       "    </tr>\n",
       "    <tr>\n",
       "      <th>1</th>\n",
       "      <td>-0.038696</td>\n",
       "      <td>93.032914</td>\n",
       "    </tr>\n",
       "    <tr>\n",
       "      <th>2</th>\n",
       "      <td>0.550537</td>\n",
       "      <td>161.857508</td>\n",
       "    </tr>\n",
       "    <tr>\n",
       "      <th>3</th>\n",
       "      <td>0.503185</td>\n",
       "      <td>141.692050</td>\n",
       "    </tr>\n",
       "    <tr>\n",
       "      <th>4</th>\n",
       "      <td>2.186980</td>\n",
       "      <td>283.260119</td>\n",
       "    </tr>\n",
       "    <tr>\n",
       "      <th>...</th>\n",
       "      <td>...</td>\n",
       "      <td>...</td>\n",
       "    </tr>\n",
       "    <tr>\n",
       "      <th>195</th>\n",
       "      <td>-0.172428</td>\n",
       "      <td>87.874277</td>\n",
       "    </tr>\n",
       "    <tr>\n",
       "      <th>196</th>\n",
       "      <td>-1.199268</td>\n",
       "      <td>-13.626664</td>\n",
       "    </tr>\n",
       "    <tr>\n",
       "      <th>197</th>\n",
       "      <td>1.462108</td>\n",
       "      <td>216.106619</td>\n",
       "    </tr>\n",
       "    <tr>\n",
       "      <th>198</th>\n",
       "      <td>1.131629</td>\n",
       "      <td>212.743149</td>\n",
       "    </tr>\n",
       "    <tr>\n",
       "      <th>199</th>\n",
       "      <td>0.495211</td>\n",
       "      <td>150.017589</td>\n",
       "    </tr>\n",
       "  </tbody>\n",
       "</table>\n",
       "<p>200 rows × 2 columns</p>\n",
       "</div>"
      ],
      "text/plain": [
       "            x           y\n",
       "0    0.232495  127.879017\n",
       "1   -0.038696   93.032914\n",
       "2    0.550537  161.857508\n",
       "3    0.503185  141.692050\n",
       "4    2.186980  283.260119\n",
       "..        ...         ...\n",
       "195 -0.172428   87.874277\n",
       "196 -1.199268  -13.626664\n",
       "197  1.462108  216.106619\n",
       "198  1.131629  212.743149\n",
       "199  0.495211  150.017589\n",
       "\n",
       "[200 rows x 2 columns]"
      ]
     },
     "execution_count": 86,
     "metadata": {},
     "output_type": "execute_result"
    }
   ],
   "source": [
    "df = pd.DataFrame({\"x\": X0[:, 0], \"y\": y[:, 0]})\n",
    "df"
   ]
  },
  {
   "cell_type": "code",
   "execution_count": 88,
   "id": "coordinated-budget",
   "metadata": {
    "ExecuteTime": {
     "end_time": "2021-08-16T04:38:45.234463Z",
     "start_time": "2021-08-16T04:38:45.212523Z"
    }
   },
   "outputs": [],
   "source": [
    "dfy = df[['y']]\n",
    "dfX = sm.add_constant(df[['x']]) # 상수항결합\n",
    "\n",
    "model = sm.OLS(dfy, dfX)\n",
    "result = model.fit()"
   ]
  },
  {
   "cell_type": "markdown",
   "id": "pointed-particle",
   "metadata": {},
   "source": [
    "또는 formula 문자열을 이용해 아래와 같이 model을 생성할 수 있다.\n",
    "\n",
    "formula 문자열을 만드는 방법은 ~ 기호의 왼쪽에 종속변수 이름, ~ 기호의 오른쪽에 독립변수 이름을 넣는다.\n",
    "\n",
    "독립변수가 여러개인 경우 pastsy 패키지의 formula 문자열을 만드는 방법을 따른다."
   ]
  },
  {
   "cell_type": "code",
   "execution_count": 95,
   "id": "compliant-county",
   "metadata": {
    "ExecuteTime": {
     "end_time": "2021-08-16T04:43:51.233617Z",
     "start_time": "2021-08-16T04:43:51.223584Z"
    }
   },
   "outputs": [],
   "source": [
    "model = sm.OLS.from_formula(\"y ~ x\", data=df)\n",
    "result = model.fit()"
   ]
  },
  {
   "cell_type": "code",
   "execution_count": 96,
   "id": "concerned-railway",
   "metadata": {
    "ExecuteTime": {
     "end_time": "2021-08-16T04:43:51.389876Z",
     "start_time": "2021-08-16T04:43:51.378905Z"
    }
   },
   "outputs": [
    {
     "name": "stdout",
     "output_type": "stream",
     "text": [
      "                            OLS Regression Results                            \n",
      "==============================================================================\n",
      "Dep. Variable:                      y   R-squared:                       0.985\n",
      "Model:                            OLS   Adj. R-squared:                  0.985\n",
      "Method:                 Least Squares   F-statistic:                 1.278e+04\n",
      "Date:                Mon, 16 Aug 2021   Prob (F-statistic):          8.17e-182\n",
      "Time:                        13:43:51   Log-Likelihood:                -741.28\n",
      "No. Observations:                 200   AIC:                             1487.\n",
      "Df Residuals:                     198   BIC:                             1493.\n",
      "Df Model:                           1                                         \n",
      "Covariance Type:            nonrobust                                         \n",
      "==============================================================================\n",
      "                 coef    std err          t      P>|t|      [0.025      0.975]\n",
      "------------------------------------------------------------------------------\n",
      "Intercept     99.7915      0.705    141.592      0.000      98.402     101.181\n",
      "x             86.9617      0.769    113.058      0.000      85.445      88.479\n",
      "==============================================================================\n",
      "Omnibus:                        1.418   Durbin-Watson:                   1.690\n",
      "Prob(Omnibus):                  0.492   Jarque-Bera (JB):                1.059\n",
      "Skew:                           0.121   Prob(JB):                        0.589\n",
      "Kurtosis:                       3.262   Cond. No.                         1.16\n",
      "==============================================================================\n",
      "\n",
      "Notes:\n",
      "[1] Standard Errors assume that the covariance matrix of the errors is correctly specified.\n"
     ]
    }
   ],
   "source": [
    "print(result.summary())"
   ]
  },
  {
   "cell_type": "markdown",
   "id": "radical-family",
   "metadata": {},
   "source": [
    "위 보고서 결과에서 `coef`에 집중하자.\n",
    "\n",
    "coef의 결과로 가중치값이 반환되는 것을 확인할 수 있다."
   ]
  },
  {
   "cell_type": "code",
   "execution_count": 97,
   "id": "bearing-porter",
   "metadata": {
    "ExecuteTime": {
     "end_time": "2021-08-16T04:43:52.701050Z",
     "start_time": "2021-08-16T04:43:52.689082Z"
    }
   },
   "outputs": [
    {
     "data": {
      "text/plain": [
       "0    -74.131915\n",
       "1     12.829797\n",
       "2     99.791509\n",
       "3    186.753221\n",
       "4    273.714933\n",
       "dtype: float64"
      ]
     },
     "execution_count": 97,
     "metadata": {},
     "output_type": "execute_result"
    }
   ],
   "source": [
    "result.predict({\"x\": [-2, -1, 0, 1, 2] })"
   ]
  },
  {
   "cell_type": "code",
   "execution_count": 98,
   "id": "progressive-banana",
   "metadata": {
    "ExecuteTime": {
     "end_time": "2021-08-16T04:44:15.816342Z",
     "start_time": "2021-08-16T04:44:15.810357Z"
    }
   },
   "outputs": [
    {
     "data": {
      "text/plain": [
       "Intercept    99.791509\n",
       "x            86.961712\n",
       "dtype: float64"
      ]
     },
     "execution_count": 98,
     "metadata": {},
     "output_type": "execute_result"
    }
   ],
   "source": [
    "# 가중치 벡터 \n",
    "\n",
    "result.params"
   ]
  },
  {
   "cell_type": "code",
   "execution_count": 100,
   "id": "periodic-system",
   "metadata": {
    "ExecuteTime": {
     "end_time": "2021-08-16T04:44:50.265664Z",
     "start_time": "2021-08-16T04:44:50.098946Z"
    }
   },
   "outputs": [
    {
     "data": {
      "image/png": "[encoded data removed]",
      "text/plain": [
       "<Figure size 432x288 with 1 Axes>"
      ]
     },
     "metadata": {
      "image/png": {
       "height": 279,
       "width": 385
      },
      "needs_background": "light"
     },
     "output_type": "display_data"
    }
   ],
   "source": [
    "# 잔차벡터의 형태\n",
    "\n",
    "result.resid.plot(style=\"o\")\n",
    "plt.title(\"잔차 벡터\")\n",
    "plt.xlabel(\"데이터 번호\")\n",
    "plt.ylabel(\"잔차\")\n",
    "plt.grid()\n",
    "plt.show()"
   ]
  },
  {
   "cell_type": "markdown",
   "id": "protected-toronto",
   "metadata": {},
   "source": [
    "직교방정식에서 나온 두가지 성질이 성립하는지 확인"
   ]
  },
  {
   "cell_type": "markdown",
   "id": "suffering-sally",
   "metadata": {},
   "source": [
    "1. 잔차의 합을 구하면 0"
   ]
  },
  {
   "cell_type": "code",
   "execution_count": 101,
   "id": "rotary-disabled",
   "metadata": {
    "ExecuteTime": {
     "end_time": "2021-08-16T04:45:23.502678Z",
     "start_time": "2021-08-16T04:45:23.491708Z"
    }
   },
   "outputs": [
    {
     "data": {
      "text/plain": [
       "6.064482249712455e-12"
      ]
     },
     "execution_count": 101,
     "metadata": {},
     "output_type": "execute_result"
    }
   ],
   "source": [
    "result.resid.sum()"
   ]
  },
  {
   "cell_type": "markdown",
   "id": "blond-litigation",
   "metadata": {},
   "source": [
    "2. $x$의 평균값을 넣으면 $y$의 평균값과 같은 값이 나온다."
   ]
  },
  {
   "cell_type": "code",
   "execution_count": 103,
   "id": "valued-wilderness",
   "metadata": {
    "ExecuteTime": {
     "end_time": "2021-08-16T04:45:57.362672Z",
     "start_time": "2021-08-16T04:45:57.351701Z"
    }
   },
   "outputs": [
    {
     "data": {
      "text/plain": [
       "0    109.069351\n",
       "dtype: float64"
      ]
     },
     "execution_count": 103,
     "metadata": {},
     "output_type": "execute_result"
    }
   ],
   "source": [
    "result.predict({\"x\":X0.mean()})"
   ]
  },
  {
   "cell_type": "code",
   "execution_count": 104,
   "id": "intermediate-oxygen",
   "metadata": {
    "ExecuteTime": {
     "end_time": "2021-08-16T04:46:01.036986Z",
     "start_time": "2021-08-16T04:46:01.025019Z"
    }
   },
   "outputs": [
    {
     "data": {
      "text/plain": [
       "109.06935068170773"
      ]
     },
     "execution_count": 104,
     "metadata": {},
     "output_type": "execute_result"
    }
   ],
   "source": [
    "y.mean()"
   ]
  },
  {
   "cell_type": "markdown",
   "id": "exposed-hours",
   "metadata": {},
   "source": [
    "## 보스턴 집값 예측(statsmodels)"
   ]
  },
  {
   "cell_type": "code",
   "execution_count": 108,
   "id": "noble-mortgage",
   "metadata": {
    "ExecuteTime": {
     "end_time": "2021-08-16T04:48:11.634221Z",
     "start_time": "2021-08-16T04:48:11.604302Z"
    }
   },
   "outputs": [
    {
     "name": "stdout",
     "output_type": "stream",
     "text": [
      "                            OLS Regression Results                            \n",
      "==============================================================================\n",
      "Dep. Variable:                   MEDV   R-squared:                       0.741\n",
      "Model:                            OLS   Adj. R-squared:                  0.734\n",
      "Method:                 Least Squares   F-statistic:                     108.1\n",
      "Date:                Mon, 16 Aug 2021   Prob (F-statistic):          6.72e-135\n",
      "Time:                        13:48:11   Log-Likelihood:                -1498.8\n",
      "No. Observations:                 506   AIC:                             3026.\n",
      "Df Residuals:                     492   BIC:                             3085.\n",
      "Df Model:                          13                                         \n",
      "Covariance Type:            nonrobust                                         \n",
      "==============================================================================\n",
      "                 coef    std err          t      P>|t|      [0.025      0.975]\n",
      "------------------------------------------------------------------------------\n",
      "const         36.4595      5.103      7.144      0.000      26.432      46.487\n",
      "CRIM          -0.1080      0.033     -3.287      0.001      -0.173      -0.043\n",
      "ZN             0.0464      0.014      3.382      0.001       0.019       0.073\n",
      "INDUS          0.0206      0.061      0.334      0.738      -0.100       0.141\n",
      "CHAS           2.6867      0.862      3.118      0.002       0.994       4.380\n",
      "NOX          -17.7666      3.820     -4.651      0.000     -25.272     -10.262\n",
      "RM             3.8099      0.418      9.116      0.000       2.989       4.631\n",
      "AGE            0.0007      0.013      0.052      0.958      -0.025       0.027\n",
      "DIS           -1.4756      0.199     -7.398      0.000      -1.867      -1.084\n",
      "RAD            0.3060      0.066      4.613      0.000       0.176       0.436\n",
      "TAX           -0.0123      0.004     -3.280      0.001      -0.020      -0.005\n",
      "PTRATIO       -0.9527      0.131     -7.283      0.000      -1.210      -0.696\n",
      "B              0.0093      0.003      3.467      0.001       0.004       0.015\n",
      "LSTAT         -0.5248      0.051    -10.347      0.000      -0.624      -0.425\n",
      "==============================================================================\n",
      "Omnibus:                      178.041   Durbin-Watson:                   1.078\n",
      "Prob(Omnibus):                  0.000   Jarque-Bera (JB):              783.126\n",
      "Skew:                           1.521   Prob(JB):                    8.84e-171\n",
      "Kurtosis:                       8.281   Cond. No.                     1.51e+04\n",
      "==============================================================================\n",
      "\n",
      "Notes:\n",
      "[1] Standard Errors assume that the covariance matrix of the errors is correctly specified.\n",
      "[2] The condition number is large, 1.51e+04. This might indicate that there are\n",
      "strong multicollinearity or other numerical problems.\n"
     ]
    }
   ],
   "source": [
    "from sklearn.datasets import load_boston\n",
    "\n",
    "boston = load_boston()\n",
    "\n",
    "dfX0 = pd.DataFrame(boston.data, columns=boston.feature_names)\n",
    "dfX = sm.add_constant(dfX0)\n",
    "dfy = pd.DataFrame(boston.target, columns=[\"MEDV\"])\n",
    "\n",
    "model_boston = sm.OLS(dfy, dfX)\n",
    "result_boston = model_boston.fit()\n",
    "print(result_boston.summary())"
   ]
  },
  {
   "cell_type": "markdown",
   "id": "proved-agency",
   "metadata": {},
   "source": [
    "도출된 보스턴 집값 예측 회귀식"
   ]
  },
  {
   "cell_type": "code",
   "execution_count": 112,
   "id": "floppy-highway",
   "metadata": {
    "ExecuteTime": {
     "end_time": "2021-08-16T04:48:57.219941Z",
     "start_time": "2021-08-16T04:48:57.205026Z"
    }
   },
   "outputs": [
    {
     "data": {
      "text/plain": [
       "const      36.459488\n",
       "CRIM       -0.108011\n",
       "ZN          0.046420\n",
       "INDUS       0.020559\n",
       "CHAS        2.686734\n",
       "NOX       -17.766611\n",
       "RM          3.809865\n",
       "AGE         0.000692\n",
       "DIS        -1.475567\n",
       "RAD         0.306049\n",
       "TAX        -0.012335\n",
       "PTRATIO    -0.952747\n",
       "B           0.009312\n",
       "LSTAT      -0.524758\n",
       "dtype: float64"
      ]
     },
     "execution_count": 112,
     "metadata": {},
     "output_type": "execute_result"
    }
   ],
   "source": [
    "result_boston.params"
   ]
  },
  {
   "cell_type": "markdown",
   "id": "comprehensive-parade",
   "metadata": {
    "ExecuteTime": {
     "end_time": "2021-08-16T04:49:26.842940Z",
     "start_time": "2021-08-16T04:49:26.829941Z"
    }
   },
   "source": [
    "\\begin{split}\n",
    "\\begin{aligned}\n",
    "y &= 36.4595 - 0.1080\\,\\text{CRIM} + 0.0464\\,\\text{ZN}  + 0.0206\\,\\text{INDUS}  + 2.6867 \\,\\text{CHAS} \\\\\n",
    "&  -17.7666\\,\\text{NOX}  + 3.8099\\,\\text{RM}  + 0.0007\\,\\text{AGE}  -1.4756\\,\\text{DIS} + 0.3060\\,\\text{RAD} \\\\\n",
    "&  -0.0123\\,\\text{TAX}  -0.9527\\,\\text{PTRATIO}  + 0.0093 \\,\\text{B} -0.5248\\,\\text{LSTAT}\n",
    "\\end{aligned}\n",
    "\\end{split}"
   ]
  }
 ],
 "metadata": {
  "kernelspec": {
   "display_name": "Python 3",
   "language": "python",
   "name": "python3"
  },
  "language_info": {
   "codemirror_mode": {
    "name": "ipython",
    "version": 3
   },
   "file_extension": ".py",
   "mimetype": "text/x-python",
   "name": "python",
   "nbconvert_exporter": "python",
   "pygments_lexer": "ipython3",
   "version": "3.7.10"
  },
  "nbTranslate": {
   "displayLangs": [
    "*"
   ],
   "hotkey": "alt-t",
   "langInMainMenu": true,
   "sourceLang": "en",
   "targetLang": "fr",
   "useGoogleTranslate": true
  },
  "varInspector": {
   "cols": {
    "lenName": 16,
    "lenType": 16,
    "lenVar": 40
   },
   "kernels_config": {
    "python": {
     "delete_cmd_postfix": "",
     "delete_cmd_prefix": "del ",
     "library": "var_list.py",
     "varRefreshCmd": "print(var_dic_list())"
    },
    "r": {
     "delete_cmd_postfix": ") ",
     "delete_cmd_prefix": "rm(",
     "library": "var_list.r",
     "varRefreshCmd": "cat(var_dic_list()) "
    }
   },
   "types_to_exclude": [
    "module",
    "function",
    "builtin_function_or_method",
    "instance",
    "_Feature"
   ],
   "window_display": false
  }
 },
 "nbformat": 4,
 "nbformat_minor": 5
}
