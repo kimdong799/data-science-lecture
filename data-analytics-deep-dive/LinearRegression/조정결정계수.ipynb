{
 "cells": [
  {
   "cell_type": "markdown",
   "id": "champion-burning",
   "metadata": {},
   "source": [
    "## 조정 결정 계수"
   ]
  },
  {
   "cell_type": "markdown",
   "id": "economic-brain",
   "metadata": {},
   "source": [
    "선형회귀모형에서 독립변수가 추가되면 결정계수의 값은 항상 증가한다."
   ]
  },
  {
   "cell_type": "code",
   "execution_count": 22,
   "id": "flying-lecture",
   "metadata": {
    "ExecuteTime": {
     "end_time": "2021-08-23T02:58:38.046708Z",
     "start_time": "2021-08-23T02:58:38.008806Z"
    }
   },
   "outputs": [],
   "source": [
    "import statsmodels.api as sm\n",
    "from sklearn.datasets import load_boston\n",
    "\n",
    "boston = load_boston()\n",
    "dfX0_boston = pd.DataFrame(boston.data, columns=boston.feature_names)\n",
    "dfy_boston = pd.DataFrame(boston.target, columns=[\"MEDV\"])\n",
    "dfX_boston = sm.add_constant(dfX0_boston)\n",
    "df_boston = pd.concat([dfX_boston, dfy_boston], axis=1)"
   ]
  },
  {
   "cell_type": "markdown",
   "id": "bulgarian-contributor",
   "metadata": {},
   "source": [
    "실제 Boston 데이터를 이용해 일부 피처를 사용한 reduced model과 전체 피처를 사용한 full model 을 이용한 회귀분석을 두번 수행하고 두 모델의 결정계수를 비교해보자."
   ]
  },
  {
   "cell_type": "markdown",
   "id": "manufactured-friend",
   "metadata": {},
   "source": [
    "일부 피처를 사용했을 때의 $R^2$값은 0.735이다."
   ]
  },
  {
   "cell_type": "code",
   "execution_count": 23,
   "id": "bulgarian-conditions",
   "metadata": {
    "ExecuteTime": {
     "end_time": "2021-08-23T02:59:28.720100Z",
     "start_time": "2021-08-23T02:59:28.666284Z"
    }
   },
   "outputs": [
    {
     "name": "stdout",
     "output_type": "stream",
     "text": [
      "                            OLS Regression Results                            \n",
      "==============================================================================\n",
      "Dep. Variable:                   MEDV   R-squared:                       0.735\n",
      "Model:                            OLS   Adj. R-squared:                  0.728\n",
      "Method:                 Least Squares   F-statistic:                     113.9\n",
      "Date:                Mon, 23 Aug 2021   Prob (F-statistic):          1.23e-133\n",
      "Time:                        11:59:28   Log-Likelihood:                -1504.3\n",
      "No. Observations:                 506   AIC:                             3035.\n",
      "Df Residuals:                     493   BIC:                             3090.\n",
      "Df Model:                          12                                         \n",
      "Covariance Type:            nonrobust                                         \n",
      "==============================================================================\n",
      "                 coef    std err          t      P>|t|      [0.025      0.975]\n",
      "------------------------------------------------------------------------------\n",
      "Intercept     35.3797      5.143      6.879      0.000      25.274      45.485\n",
      "ZN             0.0425      0.014      3.077      0.002       0.015       0.070\n",
      "INDUS          0.0281      0.062      0.452      0.651      -0.094       0.150\n",
      "NOX          -17.0182      3.851     -4.420      0.000     -24.584      -9.452\n",
      "RM             3.8460      0.422      9.116      0.000       3.017       4.675\n",
      "AGE            0.0005      0.013      0.041      0.967      -0.026       0.027\n",
      "DIS           -1.3990      0.200     -6.993      0.000      -1.792      -1.006\n",
      "RAD            0.2478      0.065      3.838      0.000       0.121       0.375\n",
      "TAX           -0.0122      0.004     -3.210      0.001      -0.020      -0.005\n",
      "PTRATIO       -0.9437      0.132     -7.145      0.000      -1.203      -0.684\n",
      "B              0.0103      0.003      3.841      0.000       0.005       0.016\n",
      "LSTAT         -0.5502      0.051    -10.870      0.000      -0.650      -0.451\n",
      "CHAS           2.8284      0.869      3.255      0.001       1.121       4.536\n",
      "==============================================================================\n",
      "Omnibus:                      171.086   Durbin-Watson:                   1.070\n",
      "Prob(Omnibus):                  0.000   Jarque-Bera (JB):              761.307\n",
      "Skew:                           1.449   Prob(JB):                    4.83e-166\n",
      "Kurtosis:                       8.264   Cond. No.                     1.51e+04\n",
      "==============================================================================\n",
      "\n",
      "Notes:\n",
      "[1] Standard Errors assume that the covariance matrix of the errors is correctly specified.\n",
      "[2] The condition number is large, 1.51e+04. This might indicate that there are\n",
      "strong multicollinearity or other numerical problems.\n"
     ]
    }
   ],
   "source": [
    "model_reduced = sm.OLS.from_formula(\n",
    "    \"MEDV ~ ZN + INDUS + NOX + RM + AGE + DIS + RAD + TAX + PTRATIO + B + LSTAT + CHAS\", data=df_boston)\n",
    "result = model_reduced.fit()\n",
    "print(result.summary())"
   ]
  },
  {
   "cell_type": "markdown",
   "id": "verified-ethnic",
   "metadata": {
    "ExecuteTime": {
     "end_time": "2021-08-23T03:00:29.289468Z",
     "start_time": "2021-08-23T03:00:29.271549Z"
    }
   },
   "source": [
    "전체 피처를 사용했을 때의 $R^2$는 0.741이다."
   ]
  },
  {
   "cell_type": "code",
   "execution_count": 25,
   "id": "sunrise-requirement",
   "metadata": {
    "ExecuteTime": {
     "end_time": "2021-08-23T03:00:05.224357Z",
     "start_time": "2021-08-23T03:00:05.165515Z"
    }
   },
   "outputs": [
    {
     "name": "stdout",
     "output_type": "stream",
     "text": [
      "                            OLS Regression Results                            \n",
      "==============================================================================\n",
      "Dep. Variable:                   MEDV   R-squared:                       0.741\n",
      "Model:                            OLS   Adj. R-squared:                  0.734\n",
      "Method:                 Least Squares   F-statistic:                     108.1\n",
      "Date:                Mon, 23 Aug 2021   Prob (F-statistic):          6.72e-135\n",
      "Time:                        12:00:05   Log-Likelihood:                -1498.8\n",
      "No. Observations:                 506   AIC:                             3026.\n",
      "Df Residuals:                     492   BIC:                             3085.\n",
      "Df Model:                          13                                         \n",
      "Covariance Type:            nonrobust                                         \n",
      "==============================================================================\n",
      "                 coef    std err          t      P>|t|      [0.025      0.975]\n",
      "------------------------------------------------------------------------------\n",
      "Intercept     36.4595      5.103      7.144      0.000      26.432      46.487\n",
      "CRIM          -0.1080      0.033     -3.287      0.001      -0.173      -0.043\n",
      "ZN             0.0464      0.014      3.382      0.001       0.019       0.073\n",
      "INDUS          0.0206      0.061      0.334      0.738      -0.100       0.141\n",
      "NOX          -17.7666      3.820     -4.651      0.000     -25.272     -10.262\n",
      "RM             3.8099      0.418      9.116      0.000       2.989       4.631\n",
      "AGE            0.0007      0.013      0.052      0.958      -0.025       0.027\n",
      "DIS           -1.4756      0.199     -7.398      0.000      -1.867      -1.084\n",
      "RAD            0.3060      0.066      4.613      0.000       0.176       0.436\n",
      "TAX           -0.0123      0.004     -3.280      0.001      -0.020      -0.005\n",
      "PTRATIO       -0.9527      0.131     -7.283      0.000      -1.210      -0.696\n",
      "B              0.0093      0.003      3.467      0.001       0.004       0.015\n",
      "LSTAT         -0.5248      0.051    -10.347      0.000      -0.624      -0.425\n",
      "CHAS           2.6867      0.862      3.118      0.002       0.994       4.380\n",
      "==============================================================================\n",
      "Omnibus:                      178.041   Durbin-Watson:                   1.078\n",
      "Prob(Omnibus):                  0.000   Jarque-Bera (JB):              783.126\n",
      "Skew:                           1.521   Prob(JB):                    8.84e-171\n",
      "Kurtosis:                       8.281   Cond. No.                     1.51e+04\n",
      "==============================================================================\n",
      "\n",
      "Notes:\n",
      "[1] Standard Errors assume that the covariance matrix of the errors is correctly specified.\n",
      "[2] The condition number is large, 1.51e+04. This might indicate that there are\n",
      "strong multicollinearity or other numerical problems.\n"
     ]
    }
   ],
   "source": [
    "model_full  = sm.OLS.from_formula(\n",
    "    \"MEDV ~ CRIM + ZN + INDUS + NOX + RM + AGE + DIS + RAD + TAX + PTRATIO + B + LSTAT + CHAS\", data=df_boston)\n",
    "result = model_full .fit()\n",
    "print(result.summary())"
   ]
  },
  {
   "cell_type": "markdown",
   "id": "effective-antigua",
   "metadata": {},
   "source": [
    "이처럼 선형 회귀 모형에서 독립변수가 추가되면 결정계수가 항상 증가하는 이유는 다음과 같다."
   ]
  },
  {
   "cell_type": "markdown",
   "id": "spiritual-portfolio",
   "metadata": {},
   "source": [
    "$$R^2_{Xz} = R^2_{X} + (1-R^2_{X})r^{\\ast 2}_{yz}$$"
   ]
  },
  {
   "cell_type": "markdown",
   "id": "interpreted-feeling",
   "metadata": {},
   "source": [
    "기존의 독립변수 $X$와 새로운 독립변수 $z$를 이용한 경우의 결정계수는 기존의 독립변수 $X$만을 이용했을 때의 결정계수에 $(1 - R^2_X)r_{yz}^2$이라는 항이 더해지게 된다."
   ]
  },
  {
   "cell_type": "markdown",
   "id": "greek-installation",
   "metadata": {},
   "source": [
    "여기서 $r^2_{yz}$는 새로운 독립변수 $z$와 종속변수 $y$의 상관계수를 의미하는데 실질적으로 아무런 관계가 없는 데이터라도 상관계수가 0이 나오는 경우는 없기에 모든 항은 양수값을 가지게 된다.\n",
    "\n",
    "따라서 기존의 독립변수 $X$ 만을 이용한 모델에 새로운 독립변수가 추가되면 상관계수는 반드시 증가하게 되어있다."
   ]
  },
  {
   "cell_type": "markdown",
   "id": "rubber-snowboard",
   "metadata": {},
   "source": [
    "따라서 이러한 결정계수의 성질로 인한 독립변수 추가 효과를 상쇄시키기 위한 방법 중 하나로 독립변수의 갯수 $K$에 따라 결정계수의 값을 조정하는 조정 결정 계수를 사용할 수 있다."
   ]
  },
  {
   "cell_type": "markdown",
   "id": "passing-dairy",
   "metadata": {},
   "source": [
    "$$R_{adj}^2 = 1 - \\frac{n-1}{n-K}(1-R^2) = \\dfrac{(n-1)R^2 +1-K}{n-K}$$"
   ]
  },
  {
   "cell_type": "markdown",
   "id": "reasonable-aging",
   "metadata": {},
   "source": [
    "즉, 독립변수가 많을수록 일종의 패널티를 부여하는 값이 된다."
   ]
  },
  {
   "cell_type": "markdown",
   "id": "flying-catalyst",
   "metadata": {},
   "source": [
    "위 report 결과에서 $Adj. R-squared$에 해당하는 값이 바로 조정 결정계수이다."
   ]
  },
  {
   "cell_type": "code",
   "execution_count": null,
   "id": "loose-soviet",
   "metadata": {},
   "outputs": [],
   "source": []
  }
 ],
 "metadata": {
  "kernelspec": {
   "display_name": "Python 3",
   "language": "python",
   "name": "python3"
  },
  "language_info": {
   "codemirror_mode": {
    "name": "ipython",
    "version": 3
   },
   "file_extension": ".py",
   "mimetype": "text/x-python",
   "name": "python",
   "nbconvert_exporter": "python",
   "pygments_lexer": "ipython3",
   "version": "3.7.10"
  },
  "nbTranslate": {
   "displayLangs": [
    "*"
   ],
   "hotkey": "alt-t",
   "langInMainMenu": true,
   "sourceLang": "en",
   "targetLang": "fr",
   "useGoogleTranslate": true
  },
  "varInspector": {
   "cols": {
    "lenName": 16,
    "lenType": 16,
    "lenVar": 40
   },
   "kernels_config": {
    "python": {
     "delete_cmd_postfix": "",
     "delete_cmd_prefix": "del ",
     "library": "var_list.py",
     "varRefreshCmd": "print(var_dic_list())"
    },
    "r": {
     "delete_cmd_postfix": ") ",
     "delete_cmd_prefix": "rm(",
     "library": "var_list.r",
     "varRefreshCmd": "cat(var_dic_list()) "
    }
   },
   "types_to_exclude": [
    "module",
    "function",
    "builtin_function_or_method",
    "instance",
    "_Feature"
   ],
   "window_display": false
  }
 },
 "nbformat": 4,
 "nbformat_minor": 5
}
