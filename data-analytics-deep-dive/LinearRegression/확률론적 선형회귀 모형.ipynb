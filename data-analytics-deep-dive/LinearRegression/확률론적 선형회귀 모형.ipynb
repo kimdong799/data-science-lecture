{
 "cells": [
  {
   "cell_type": "code",
   "execution_count": 1,
   "id": "surrounded-drill",
   "metadata": {
    "ExecuteTime": {
     "end_time": "2021-08-18T04:50:18.007497Z",
     "start_time": "2021-08-18T04:50:17.983576Z"
    }
   },
   "outputs": [],
   "source": [
    "# 파이썬 시각화 패키지 불러오기\n",
    "import matplotlib.pyplot as plt\n",
    "%matplotlib inline\n",
    "\n",
    "\n",
    "# 사용자 운영체제 확인\n",
    "import platform\n",
    "platform.system()\n",
    "\n",
    "# 운영체제별 한글 폰트 설정\n",
    "if platform.system() == 'Darwin': # Mac 환경 폰트 설정\n",
    "    plt.rc('font', family='AppleGothic')\n",
    "elif platform.system() == 'Windows': # Windows 환경 폰트 설정\n",
    "    plt.rc('font', family='Malgun Gothic')\n",
    "\n",
    "plt.rc('axes', unicode_minus=False) # 마이너스 폰트 설정\n",
    "\n",
    "\n",
    "# 글씨 선명하게 출력하는 설정\n",
    "%config InlineBackend.figure_format = 'retina'\n",
    "\n",
    "sns.set_style('whitegrid')\n",
    "\n",
    "import warnings\n",
    "warnings.filterwarnings('ignore')"
   ]
  },
  {
   "cell_type": "markdown",
   "id": "destroyed-liability",
   "metadata": {
    "ExecuteTime": {
     "end_time": "2021-08-18T04:50:54.191895Z",
     "start_time": "2021-08-18T04:50:54.188914Z"
    }
   },
   "source": [
    "## 확률론적 선형회귀 모형"
   ]
  },
  {
   "cell_type": "markdown",
   "id": "endless-corporation",
   "metadata": {},
   "source": [
    "확률론적 선형회귀 모형이란 데이터가 확률 변수로부터 생성된 표본으로 가정한다."
   ]
  },
  {
   "cell_type": "markdown",
   "id": "southeast-johns",
   "metadata": {},
   "source": [
    "### 1) 선형 정규 분포 가정"
   ]
  },
  {
   "cell_type": "markdown",
   "id": "metropolitan-wilson",
   "metadata": {},
   "source": [
    "종속변수 $y$가 독립변수 **$x$와의 선형조합으로 결정되는 기댓값과 고정된 분산 $\\sigma^2$**을 가지는 **가우시안 정규분포**를 따른다고 가정한다."
   ]
  },
  {
   "cell_type": "markdown",
   "id": "contrary-pitch",
   "metadata": {},
   "source": [
    "$$y \\sim \\mathcal{N}(w^Tx, \\sigma^2)$$"
   ]
  },
  {
   "cell_type": "markdown",
   "id": "virtual-salem",
   "metadata": {},
   "source": [
    "잡음(disturbance) $\\epsilon$ 은 다음과 같다.\n",
    "\n",
    "$$\\epsilon = y - w^Tx$$"
   ]
  },
  {
   "cell_type": "markdown",
   "id": "parallel-editing",
   "metadata": {},
   "source": [
    "**위 식에서 $w^Tx$는 회귀식의 중심위치를 의미한다. 즉, 정확한 회귀식을 따르는 중심위치에서 잡음으로 인해 $y$는 회귀선에서 잡음만큼 떨어진 위치에 존재하게 된다.**"
   ]
  },
  {
   "cell_type": "markdown",
   "id": "documentary-person",
   "metadata": {},
   "source": [
    "이를 이용해 $y$의 확률밀도 함수는 다음과 같이 쓸 수 있다."
   ]
  },
  {
   "cell_type": "markdown",
   "id": "informed-output",
   "metadata": {},
   "source": [
    "$$p(\\epsilon|\\theta) = \\mathcal{N}(0, \\sigma^2)$$"
   ]
  },
  {
   "cell_type": "markdown",
   "id": "stylish-carrier",
   "metadata": {},
   "source": [
    "> 이 가정의 핵심은 $y$는 $x$때문에 기댓값이 바뀌는 정규분포를 따르는 확률변수에서 나온 값이라는 것이다."
   ]
  },
  {
   "cell_type": "markdown",
   "id": "technological-special",
   "metadata": {},
   "source": [
    "> $\\epsilon$은 0을 중심으로하는 정규분포를 따르게 되며 $x, y$ 그 어느 것도 그 자체로 정규분포일 필요는 없다. $y$는 $x$에 대해 조건부로 정규분포를 이루는 것이다."
   ]
  },
  {
   "cell_type": "markdown",
   "id": "exterior-excess",
   "metadata": {},
   "source": [
    "### 2) 외생성(Exogeneity) 가정"
   ]
  },
  {
   "cell_type": "markdown",
   "id": "surprising-landing",
   "metadata": {},
   "source": [
    "잡음 $\\epsilon$의 기댓값은 독립변수 $x$에 상관없이 항상 0이라고 가정한다."
   ]
  },
  {
   "cell_type": "markdown",
   "id": "younger-magnitude",
   "metadata": {},
   "source": [
    "**기댓값 반복의 법칙**을 이용하면 다음과 같다."
   ]
  },
  {
   "cell_type": "markdown",
   "id": "basic-washer",
   "metadata": {},
   "source": [
    "$$E[\\epsilon] = E[E[\\epsilon|x]] = 0$$"
   ]
  },
  {
   "cell_type": "markdown",
   "id": "southeast-cleveland",
   "metadata": {},
   "source": [
    ">즉, 잡음의 기댓값음 독립변수에 상관없이 항상 0이라고 가정하며 기댓값 반복의 법칙을 이용해 잡음 자체의 기댓값 또한 0임을 알 수 있다."
   ]
  },
  {
   "cell_type": "markdown",
   "id": "voluntary-frank",
   "metadata": {},
   "source": [
    "### 3) 조건부 독립 가정"
   ]
  },
  {
   "cell_type": "markdown",
   "id": "involved-testament",
   "metadata": {},
   "source": [
    "$i$번째 표본의 잡음 $\\epsilon_i$와 $j$번째 표본의 잡음 $\\epsilon_j$의 공분산 값이 $x$와 상관없이 항상 0이라고 가정한다."
   ]
  },
  {
   "cell_type": "markdown",
   "id": "descending-anchor",
   "metadata": {},
   "source": [
    "$$Cov[\\epsilon_i, \\epsilon_j|x]=0$$"
   ]
  },
  {
   "cell_type": "markdown",
   "id": "southeast-indonesia",
   "metadata": {},
   "source": [
    "공분산이 0이라는 것은 두 잡음이 서로 독립이라는 가정으로 볼 수 있다."
   ]
  },
  {
   "cell_type": "markdown",
   "id": "handy-stability",
   "metadata": {},
   "source": [
    "### 4) 등분산성 가정"
   ]
  },
  {
   "cell_type": "markdown",
   "id": "chinese-enforcement",
   "metadata": {},
   "source": [
    "$i$번째 표본의 잡음과 $j$번째 표본의 잡음의 분산값이 표본과 상관없이 항상 같다고 가정한다."
   ]
  },
  {
   "cell_type": "markdown",
   "id": "ecological-argentina",
   "metadata": {},
   "source": [
    "이는 잡음벡터 $\\epsilon$의 공분산 행렬이 항등행렬 형태가 되어야 한다는 조건으로 볼 수 있다."
   ]
  },
  {
   "cell_type": "markdown",
   "id": "conceptual-inside",
   "metadata": {},
   "source": [
    "$$Cov[\\epsilon] = E[\\epsilon\\epsilon^T] = \\sigma^2I$$"
   ]
  },
  {
   "cell_type": "markdown",
   "id": "appointed-barbados",
   "metadata": {},
   "source": [
    "## Maximum Likelihood Estimation을 사용한 선형 회귀분석"
   ]
  },
  {
   "cell_type": "markdown",
   "id": "northern-tragedy",
   "metadata": {},
   "source": [
    "최대 가능도 방법을 이용해 확률론적 선형회귀모형의 가중치 벡터 $w$를 구하면 다음과 같다."
   ]
  },
  {
   "cell_type": "markdown",
   "id": "guided-tours",
   "metadata": {},
   "source": [
    "\\begin{split}\n",
    "\\begin{eqnarray}\n",
    "p(y_{1:N} \\,\\big|\\, x_{1:N}, \\theta)\n",
    "&=& \\prod_{i=1}^N \\mathcal{N}(y_i \\,\\big|\\, w^T x_i , \\sigma^2) \\\\\n",
    "&=& \\prod_{i=1}^N \\frac{1}{\\sqrt{2\\pi\\sigma^2}}\\exp\\left\\{-\\frac{(y_i-w^T x_i)^2}{2\\sigma^2} \\right\\}  \\\\\n",
    "\\end{eqnarray}\n",
    "\\end{split}"
   ]
  },
  {
   "cell_type": "markdown",
   "id": "advanced-butler",
   "metadata": {},
   "source": [
    "위 가능도 수식의 계산을 쉽게 하기 위해 Log를 적용하면 product가 summation으로 바뀌게 된다."
   ]
  },
  {
   "cell_type": "markdown",
   "id": "bored-express",
   "metadata": {},
   "source": [
    "\\begin{split}\n",
    "\\begin{eqnarray}\n",
    "\\text{LL}  \n",
    "&=& \\log p(y_{1:N} \\,\\big|\\, x_{1:N}, \\theta) \\\\\n",
    "&=& \\log \\prod_{i=1}^N \\frac{1}{\\sqrt{2\\pi\\sigma^2}}\\exp\\left\\{-\\frac{(y_i-w^T x_i)^2}{2\\sigma^2} \\right\\}  \\\\\n",
    "&=& -\\dfrac{1}{2\\sigma^2} \\sum_{i=1}^N (y_i-w^T x_i)^2 - \\dfrac{N}{2} \\log{2\\pi}{\\sigma^2}  \\\\\n",
    "\\end{eqnarray}\n",
    "\\end{split}"
   ]
  },
  {
   "cell_type": "markdown",
   "id": "dress-specification",
   "metadata": {},
   "source": [
    "최종적으로 Log를 취한 Likelihood는 앞뒤로 어떤 상수가 곱해진 $y_i - w^Tx_i$의 제곱합이 된다."
   ]
  },
  {
   "cell_type": "markdown",
   "id": "ordinary-intro",
   "metadata": {},
   "source": [
    "이 상수들을 각각 $C_0, C_1$으로 표현하면 다음과 같다."
   ]
  },
  {
   "cell_type": "markdown",
   "id": "changed-festival",
   "metadata": {},
   "source": [
    "$$\\text{LL}  =  -C_1 (y - Xw)^T(y-Xw) - C_0 = -C_1(w^TX^TXw -2 y^TXw + y^Ty) - C_0$$"
   ]
  },
  {
   "cell_type": "markdown",
   "id": "different-portal",
   "metadata": {},
   "source": [
    "$$C_1 =  -\\dfrac{1}{2\\sigma^2}$$"
   ]
  },
  {
   "cell_type": "markdown",
   "id": "bound-investment",
   "metadata": {},
   "source": [
    "$$C_0 =  \\dfrac{N}{2} \\log{2\\pi}{\\sigma^2}$$"
   ]
  },
  {
   "cell_type": "markdown",
   "id": "coral-console",
   "metadata": {},
   "source": [
    "위 결과를 최적화 하기 위해 $w$로 미분하면 다음과 같다."
   ]
  },
  {
   "cell_type": "markdown",
   "id": "excess-three",
   "metadata": {},
   "source": [
    "$$\\dfrac{d}{dw} \\text{LL} = -C_1 \\left( 2X^TX \\hat{w} - 2X^Ty \\right) = 0$$"
   ]
  },
  {
   "cell_type": "markdown",
   "id": "decimal-better",
   "metadata": {},
   "source": [
    "$$\\hat{w} = (X^TX)^{-1}X^T y$$"
   ]
  },
  {
   "cell_type": "markdown",
   "id": "ruled-title",
   "metadata": {},
   "source": [
    "최종적으로 추정한 $\\hat{w}$는 OLS로 구한 결과와 동일한 것을 확인할 수 있다."
   ]
  },
  {
   "cell_type": "markdown",
   "id": "metallic-updating",
   "metadata": {},
   "source": [
    "## 잔차의 분포"
   ]
  },
  {
   "cell_type": "markdown",
   "id": "removable-jaguar",
   "metadata": {},
   "source": [
    "확률론적 선형회귀 모형을 이용하면 회귀분석시 생기는 **잔차가 정규분포를 따른다**는 것을 증명할 수 있다."
   ]
  },
  {
   "cell_type": "markdown",
   "id": "rolled-delta",
   "metadata": {},
   "source": [
    "선형회귀 분석을 통해 구하는 예측값 $\\hat{y}$은 다음과 같이 계산된다."
   ]
  },
  {
   "cell_type": "markdown",
   "id": "solved-signature",
   "metadata": {},
   "source": [
    "$$\\hat{y}=X\\hat{w}=X(X^TX)^{-1}X^Ty=Hy$$"
   ]
  },
  {
   "cell_type": "markdown",
   "id": "antique-intranet",
   "metadata": {},
   "source": [
    "$y$의 앞부분을 $H$로 표현하는데 이 $H$는 투영행렬이라고 한다."
   ]
  },
  {
   "cell_type": "markdown",
   "id": "organic-fifty",
   "metadata": {},
   "source": [
    "투영행렬을 이용해 잔차를 다음과 같이 표현할 수 있다."
   ]
  },
  {
   "cell_type": "markdown",
   "id": "finnish-things",
   "metadata": {},
   "source": [
    "$$e = y - \\hat{y} = y - Hy = (I-H)y = My$$"
   ]
  },
  {
   "cell_type": "markdown",
   "id": "royal-division",
   "metadata": {},
   "source": [
    "이 행렬 $M$은 잔차행렬이라고 한다."
   ]
  },
  {
   "cell_type": "markdown",
   "id": "parliamentary-adaptation",
   "metadata": {},
   "source": [
    "위의 정리를 이용해 $e$를 표현하면 다음과 같다."
   ]
  },
  {
   "cell_type": "markdown",
   "id": "unnecessary-oklahoma",
   "metadata": {},
   "source": [
    "$$e = My = M(Xw + \\epsilon) = MXw + M\\epsilon$$"
   ]
  },
  {
   "cell_type": "markdown",
   "id": "mechanical-obligation",
   "metadata": {},
   "source": [
    "그런데 여기서 $MX = 0$이 된다는 성질이 있기 때문에 최종적으로 $e = M\\epsilon$이 된다."
   ]
  },
  {
   "cell_type": "markdown",
   "id": "terminal-wages",
   "metadata": {},
   "source": [
    "즉, 잡음$\\epsilon$에 대해 어떤 행렬$M$(잔차행렬)을 곱하여 선형조합하면 $e$라는 잔차벡터가 된다."
   ]
  },
  {
   "cell_type": "markdown",
   "id": "sharing-percentage",
   "metadata": {},
   "source": [
    "그런데 정규분포를 선형조합하면 그 결과도 정규분포를 따른다는 성질이 있다.\n",
    "\n",
    "> 따라서 정규분포를 따르는 잡음을 선형조합한 결과인 잔차 또한 정규분포를 따른다고 할 수 있다."
   ]
  },
  {
   "cell_type": "code",
   "execution_count": 6,
   "id": "residential-surge",
   "metadata": {
    "ExecuteTime": {
     "end_time": "2021-08-18T05:47:26.258653Z",
     "start_time": "2021-08-18T05:47:26.243694Z"
    }
   },
   "outputs": [],
   "source": [
    "import scipy as sp\n",
    "import scipy.stats"
   ]
  },
  {
   "cell_type": "code",
   "execution_count": 5,
   "id": "outdoor-reputation",
   "metadata": {
    "ExecuteTime": {
     "end_time": "2021-08-18T05:47:05.079343Z",
     "start_time": "2021-08-18T05:47:05.071363Z"
    }
   },
   "outputs": [],
   "source": [
    "from sklearn.datasets import make_regression\n",
    "\n",
    "X0, y, coef = make_regression(\n",
    "    n_samples = 100, n_features = 1, noise = 20, coef=True\n",
    ")\n",
    "dfX0 = pd.DataFrame(X0, columns=['X1'])\n",
    "dfX = sm.add_constant(dfX0)\n",
    "dfy = pd.DataFrame(y, columns=['y'])\n",
    "\n",
    "model = sm.OLS(dfy, dfX)\n",
    "result = model.fit()"
   ]
  },
  {
   "cell_type": "code",
   "execution_count": 7,
   "id": "centered-library",
   "metadata": {
    "ExecuteTime": {
     "end_time": "2021-08-18T05:47:42.125473Z",
     "start_time": "2021-08-18T05:47:41.906702Z"
    }
   },
   "outputs": [
    {
     "data": {
      "image/png": "[encoded data removed]",
      "text/plain": [
       "<Figure size 432x288 with 1 Axes>"
      ]
     },
     "metadata": {
      "image/png": {
       "height": 276,
       "width": 384
      }
     },
     "output_type": "display_data"
    }
   ],
   "source": [
    "sp.stats.probplot(result.resid, plot=plt)\n",
    "plt.show()"
   ]
  },
  {
   "cell_type": "markdown",
   "id": "applied-redhead",
   "metadata": {},
   "source": [
    "실제로 회귀분석용 데이터의 resid(잔차)를 이용해 Q-Q 플롯을 그린 결과 정규분포를 따르는 것을 확인할 수 있다."
   ]
  },
  {
   "cell_type": "markdown",
   "id": "bearing-march",
   "metadata": {},
   "source": [
    "추가적으로 옴니버스, 자크베라 정규성 검정을 통해 유의확률을 확인한 결과 정규분포를 따른다는 귀무가설을 채택할만한 유의확률이 도출된 것을 확인할 수 있다."
   ]
  },
  {
   "cell_type": "code",
   "execution_count": 9,
   "id": "processed-penguin",
   "metadata": {
    "ExecuteTime": {
     "end_time": "2021-08-18T05:49:40.969597Z",
     "start_time": "2021-08-18T05:49:40.959628Z"
    }
   },
   "outputs": [
    {
     "name": "stdout",
     "output_type": "stream",
     "text": [
      "Chi^2       :  2.180\n",
      "P-value     :  0.336\n"
     ]
    }
   ],
   "source": [
    "test = sm.stats.omni_normtest(result.resid)\n",
    "for xi in zip(['Chi^2', 'P-value'], test):\n",
    "    print(\"%-12s: %6.3f\" % xi)"
   ]
  },
  {
   "cell_type": "code",
   "execution_count": 10,
   "id": "collect-discussion",
   "metadata": {
    "ExecuteTime": {
     "end_time": "2021-08-18T05:49:50.240850Z",
     "start_time": "2021-08-18T05:49:50.233869Z"
    }
   },
   "outputs": [
    {
     "name": "stdout",
     "output_type": "stream",
     "text": [
      "Jarque-Bera :  2.157\n",
      "P-value     :  0.340\n",
      "Skew        : -0.346\n",
      "Kurtosis    :  2.802\n"
     ]
    }
   ],
   "source": [
    "test = sm.stats.jarque_bera(result.resid)\n",
    "for xi in zip(['Jarque-Bera', 'P-value', 'Skew', 'Kurtosis'], test):\n",
    "    print(\"%-12s: %6.3f\" % xi)"
   ]
  },
  {
   "cell_type": "markdown",
   "id": "monthly-zambia",
   "metadata": {},
   "source": [
    "또한 오차의 기댓값이 $x$와 상관없이 0이므로 잔차의 기댓값 또한 $x$와 상관없이 0이어야한다."
   ]
  },
  {
   "cell_type": "code",
   "execution_count": 11,
   "id": "closed-peeing",
   "metadata": {
    "ExecuteTime": {
     "end_time": "2021-08-18T05:51:28.686736Z",
     "start_time": "2021-08-18T05:51:28.507217Z"
    }
   },
   "outputs": [
    {
     "data": {
      "image/png": "[encoded data removed]",
      "text/plain": [
       "<Figure size 432x288 with 1 Axes>"
      ]
     },
     "metadata": {
      "image/png": {
       "height": 261,
       "width": 384
      }
     },
     "output_type": "display_data"
    }
   ],
   "source": [
    "plt.plot(X0, result.resid, 'o')\n",
    "plt.axhline(y=0, c='k')\n",
    "plt.xlabel(\"X1\")\n",
    "plt.ylabel(\"Residual\")\n",
    "plt.show()"
   ]
  },
  {
   "cell_type": "markdown",
   "id": "under-liberal",
   "metadata": {},
   "source": [
    "실제로 $x$값이 달라짐에 따라 잔차의 분포가 어떻게 달라지는지를 시각화 한 결과 데이터의 분포 형태가 어떤 관계가 있다고 보기 어려운 것을 확인할 수 있다."
   ]
  },
  {
   "cell_type": "markdown",
   "id": "mineral-anger",
   "metadata": {},
   "source": [
    "plot_regress_exog() 명령으로 그려지는 1행 2열의 시각화 결과가 바로 위의 시각화 결과이다."
   ]
  },
  {
   "cell_type": "code",
   "execution_count": 12,
   "id": "classified-index",
   "metadata": {
    "ExecuteTime": {
     "end_time": "2021-08-18T05:52:32.961910Z",
     "start_time": "2021-08-18T05:52:32.746615Z"
    }
   },
   "outputs": [
    {
     "data": {
      "image/png": "[encoded data removed]",
      "text/plain": [
       "<Figure size 432x288 with 1 Axes>"
      ]
     },
     "metadata": {
      "image/png": {
       "height": 248,
       "width": 400
      }
     },
     "output_type": "display_data"
    }
   ],
   "source": [
    "sns.kdeplot(result.resid[((1 < X0) & (X0 < 2)).flatten()], label=\"1 < x < 2\")\n",
    "sns.kdeplot(result.resid[((0 < X0) & (X0 < 1)).flatten()], label=\"0 < x < 1\")\n",
    "plt.legend()\n",
    "plt.show()"
   ]
  },
  {
   "cell_type": "markdown",
   "id": "described-liverpool",
   "metadata": {},
   "source": [
    "실제로 $0<x<1$, $1<x<2$ 의 두 구간에 대해 $e$의 분포를 확인한 결과 둘다 기댓값이 0에 가까운 것을 확인할 수 있다."
   ]
  },
  {
   "cell_type": "markdown",
   "id": "european-reflection",
   "metadata": {},
   "source": [
    "## 회귀계수의 표준오차"
   ]
  },
  {
   "cell_type": "markdown",
   "id": "seven-dealing",
   "metadata": {},
   "source": [
    "가중치의 예측치 $\\hat{w}$는 정규분포 확률변수인 $\\epsilon$(disturbance)의 선형변환이므로 정규분포를 따른다."
   ]
  },
  {
   "cell_type": "markdown",
   "id": "emerging-error",
   "metadata": {},
   "source": [
    "\\begin{split}  \n",
    "\\begin{eqnarray}\n",
    "\\hat{w} \n",
    "&=& (X^TX)^{-1} X^T y \\\\\n",
    "&=& (X^TX)^{-1} X^T (X w + \\epsilon) \\\\\n",
    "&=& w + (X^TX)^{-1} X^T \\epsilon \\\\\n",
    "\\end{eqnarray}\n",
    "\\end{split}"
   ]
  },
  {
   "cell_type": "markdown",
   "id": "olympic-ridge",
   "metadata": {},
   "source": [
    "$\\hat{w}$의 기댓값은 $w$이므로 $w$에 대한 비편향 추정값(unbiased estimate)이다."
   ]
  },
  {
   "cell_type": "markdown",
   "id": "deadly-circuit",
   "metadata": {},
   "source": [
    "\\begin{split}  \n",
    "\\begin{eqnarray}\n",
    "\\text{E}[\\hat{w}] \n",
    "&=&  \\text{E}[ w + (X^TX)^{-1} X^T \\epsilon ] \\\\\n",
    "&=&  w + (X^TX)^{-1} X^T \\text{E}[ \\epsilon ] \\\\\n",
    "&=& w\n",
    "\\end{eqnarray}\n",
    "\\end{split}"
   ]
  },
  {
   "cell_type": "markdown",
   "id": "knowing-conclusion",
   "metadata": {},
   "source": [
    "$\\hat{w}$의 공분산은 다음과 같다."
   ]
  },
  {
   "cell_type": "markdown",
   "id": "earlier-idaho",
   "metadata": {},
   "source": [
    "\\begin{split}\n",
    "\\begin{eqnarray}\n",
    "\\text{Cov}[\\hat{w}] \n",
    "&=& E[(\\hat{w} - w)(\\hat{w} - w)^T] \\\\\n",
    "&=& E[((X^TX)^{-1} X^T \\epsilon)((X^TX)^{-1} X^T \\epsilon)^T] \\\\\n",
    "&=& E[(X^TX)^{-1} X^T \\epsilon \\epsilon^T X(X^TX)^{−1} ] \\\\\n",
    "&=& (X^TX)^{-1} X^T E[\\epsilon \\epsilon^T] X(X^TX)^{−1} \\\\\n",
    "&=& (X^TX)^{-1} X^T (\\sigma^2 I) X(X^TX)^{−1} \\\\\n",
    "&=& \\sigma^2  (X^TX)^{-1}\n",
    "\\end{eqnarray}\n",
    "\\end{split}"
   ]
  },
  {
   "cell_type": "markdown",
   "id": "dramatic-subscription",
   "metadata": {},
   "source": [
    "그런데 $\\sigma$(잡음의 분산)는 알 수 없는 값으로 이를 잔차의 분산으로 추정한다."
   ]
  },
  {
   "cell_type": "markdown",
   "id": "naughty-equivalent",
   "metadata": {},
   "source": [
    "\\begin{split}\n",
    "\\begin{eqnarray}\n",
    "\\text{E}[e^2] \n",
    "&=& \\text{E}[(M\\epsilon)^2] \\\\\n",
    "&=& \\text{E}[(\\epsilon^T M^T)(M\\epsilon)] \\\\\n",
    "&=& \\text{E}[ \\epsilon^T M \\epsilon] \\\\\n",
    "&=& \\text{E}[ \\text{tr}(\\epsilon^T M \\epsilon) ] \\\\\n",
    "&=& \\text{tr}( \\text{E}[ M \\epsilon \\epsilon^T ]) \\\\\n",
    "&=& \\text{tr}( M \\text{E}[\\epsilon \\epsilon^T ]) \\\\\n",
    "&=& \\text{tr}( M \\sigma^2 I ) \\\\\n",
    "&=& \\sigma^2 \\text{tr}(M) \\\\\n",
    "&=& \\sigma^2 \\text{tr}(I - X(X^TX)^{-1}X^T) \\\\\n",
    "&=& \\sigma^2 \\left( \\text{tr}(I) - \\text{tr}((X^TX)^{-1}(X^TX))  \\right) \\\\\n",
    "&=& \\sigma^2 (N-K) \\\\\n",
    "\\end{eqnarray}\n",
    "\\end{split}"
   ]
  },
  {
   "cell_type": "markdown",
   "id": "finite-cleaning",
   "metadata": {},
   "source": [
    "- $K$ : $X$행렬의 수\n",
    "- $D$ : 입력 차원의 수\n",
    "- 1 : 상수항"
   ]
  },
  {
   "cell_type": "markdown",
   "id": "aquatic-summer",
   "metadata": {},
   "source": [
    "$$K = D + 1$$"
   ]
  },
  {
   "cell_type": "markdown",
   "id": "binary-director",
   "metadata": {},
   "source": [
    "잡음에 대한 비편향 표본분산은 $N-K$만큼 작아지는 값이 된다."
   ]
  },
  {
   "cell_type": "markdown",
   "id": "stupid-bedroom",
   "metadata": {},
   "source": [
    "$$s^2 = \\dfrac{e^Te}{N-K} = \\dfrac{RSS}{N-K}$$"
   ]
  },
  {
   "cell_type": "markdown",
   "id": "arctic-defense",
   "metadata": {},
   "source": [
    "실제 가중치와 추정한 가중치의 차이를 표준오차로 나눈 값은 자유도가 N-K인 스튜던트 t분포를 따른다."
   ]
  },
  {
   "cell_type": "markdown",
   "id": "imported-technology",
   "metadata": {},
   "source": [
    "$$\\dfrac{\\hat{w}_i - w_i}{se_i} \\sim t_{N-K} \\;\\; (i=0, \\ldots, K-1)$$"
   ]
  },
  {
   "cell_type": "code",
   "execution_count": null,
   "id": "australian-stream",
   "metadata": {},
   "outputs": [],
   "source": []
  }
 ],
 "metadata": {
  "kernelspec": {
   "display_name": "Python 3",
   "language": "python",
   "name": "python3"
  },
  "language_info": {
   "codemirror_mode": {
    "name": "ipython",
    "version": 3
   },
   "file_extension": ".py",
   "mimetype": "text/x-python",
   "name": "python",
   "nbconvert_exporter": "python",
   "pygments_lexer": "ipython3",
   "version": "3.7.10"
  },
  "nbTranslate": {
   "displayLangs": [
    "*"
   ],
   "hotkey": "alt-t",
   "langInMainMenu": true,
   "sourceLang": "en",
   "targetLang": "fr",
   "useGoogleTranslate": true
  },
  "varInspector": {
   "cols": {
    "lenName": 16,
    "lenType": 16,
    "lenVar": 40
   },
   "kernels_config": {
    "python": {
     "delete_cmd_postfix": "",
     "delete_cmd_prefix": "del ",
     "library": "var_list.py",
     "varRefreshCmd": "print(var_dic_list())"
    },
    "r": {
     "delete_cmd_postfix": ") ",
     "delete_cmd_prefix": "rm(",
     "library": "var_list.r",
     "varRefreshCmd": "cat(var_dic_list()) "
    }
   },
   "types_to_exclude": [
    "module",
    "function",
    "builtin_function_or_method",
    "instance",
    "_Feature"
   ],
   "window_display": false
  }
 },
 "nbformat": 4,
 "nbformat_minor": 5
}
