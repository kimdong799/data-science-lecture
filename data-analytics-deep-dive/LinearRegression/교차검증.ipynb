{
 "cells": [
  {
   "cell_type": "markdown",
   "id": "brief-patch",
   "metadata": {},
   "source": [
    "## statsmodels의 교차검증"
   ]
  },
  {
   "cell_type": "markdown",
   "id": "auburn-proof",
   "metadata": {},
   "source": [
    "statsmodels에는 별도의 교차검증 기능이 준비되어있지 않다. 따라서 다음과 같이 사용자가 직접 코드를 작성해야한다."
   ]
  },
  {
   "cell_type": "code",
   "execution_count": 2,
   "id": "modular-boards",
   "metadata": {
    "ExecuteTime": {
     "end_time": "2021-08-25T04:28:01.265463Z",
     "start_time": "2021-08-25T04:28:00.364145Z"
    }
   },
   "outputs": [
    {
     "name": "stdout",
     "output_type": "stream",
     "text": [
      "                            OLS Regression Results                            \n",
      "==============================================================================\n",
      "Dep. Variable:                   MEDV   R-squared:                       0.757\n",
      "Model:                            OLS   Adj. R-squared:                  0.747\n",
      "Method:                 Least Squares   F-statistic:                     81.31\n",
      "Date:                Wed, 25 Aug 2021   Prob (F-statistic):           7.22e-96\n",
      "Time:                        13:28:01   Log-Likelihood:                -1057.6\n",
      "No. Observations:                 354   AIC:                             2143.\n",
      "Df Residuals:                     340   BIC:                             2197.\n",
      "Df Model:                          13                                         \n",
      "Covariance Type:            nonrobust                                         \n",
      "==============================================================================\n",
      "                 coef    std err          t      P>|t|      [0.025      0.975]\n",
      "------------------------------------------------------------------------------\n",
      "Intercept     40.6105      6.807      5.966      0.000      27.222      53.999\n",
      "CRIM          -0.0801      0.040     -2.012      0.045      -0.158      -0.002\n",
      "ZN             0.0438      0.016      2.777      0.006       0.013       0.075\n",
      "INDUS          0.0978      0.076      1.287      0.199      -0.052       0.247\n",
      "CHAS           2.7905      1.120      2.491      0.013       0.587       4.994\n",
      "NOX          -21.4614      4.919     -4.363      0.000     -31.136     -11.787\n",
      "RM             3.7948      0.532      7.128      0.000       2.748       4.842\n",
      "AGE            0.0006      0.016      0.036      0.971      -0.030       0.031\n",
      "DIS           -1.6910      0.256     -6.605      0.000      -2.195      -1.187\n",
      "RAD            0.2730      0.079      3.447      0.001       0.117       0.429\n",
      "TAX           -0.0097      0.004     -2.215      0.027      -0.018      -0.001\n",
      "PTRATIO       -1.1651      0.167     -6.983      0.000      -1.493      -0.837\n",
      "B              0.0134      0.004      3.815      0.000       0.006       0.020\n",
      "LSTAT         -0.5490      0.062     -8.908      0.000      -0.670      -0.428\n",
      "==============================================================================\n",
      "Omnibus:                      129.426   Durbin-Watson:                   1.979\n",
      "Prob(Omnibus):                  0.000   Jarque-Bera (JB):              603.605\n",
      "Skew:                           1.498   Prob(JB):                    8.49e-132\n",
      "Kurtosis:                       8.652   Cond. No.                     1.64e+04\n",
      "==============================================================================\n",
      "\n",
      "Notes:\n",
      "[1] Standard Errors assume that the covariance matrix of the errors is correctly specified.\n",
      "[2] The condition number is large, 1.64e+04. This might indicate that there are\n",
      "strong multicollinearity or other numerical problems.\n"
     ]
    }
   ],
   "source": [
    "from sklearn.datasets import load_boston\n",
    "import statsmodels.api as sm\n",
    "\n",
    "# 보스턴 데이터 로드\n",
    "boston = load_boston()\n",
    "dfX = pd.DataFrame(boston.data, columns=boston.feature_names)\n",
    "dfy = pd.DataFrame(boston.target, columns=[\"MEDV\"])\n",
    "df = pd.concat([dfX, dfy], axis=1)\n",
    "\n",
    "# train_test_split\n",
    "N = len(df)\n",
    "ratio = 0.7\n",
    "np.random.seed(0)\n",
    "idx_train = np.random.choice(np.arange(N), np.int(ratio * N))\n",
    "idx_test = list(set(np.arange(N)).difference(idx_train))\n",
    "\n",
    "df_train = df.iloc[idx_train]\n",
    "df_test = df.iloc[idx_test]\n",
    "\n",
    "# 모덱 학습\n",
    "model = sm.OLS.from_formula(\"MEDV ~ \" + \"+\".join(boston.feature_names), data=df_train)\n",
    "result = model.fit()\n",
    "print(result.summary())"
   ]
  },
  {
   "cell_type": "code",
   "execution_count": 3,
   "id": "particular-permit",
   "metadata": {
    "ExecuteTime": {
     "end_time": "2021-08-25T04:29:16.474556Z",
     "start_time": "2021-08-25T04:29:16.420260Z"
    }
   },
   "outputs": [
    {
     "data": {
      "text/plain": [
       "0.6883734124987113"
      ]
     },
     "execution_count": 3,
     "metadata": {},
     "output_type": "execute_result"
    }
   ],
   "source": [
    "# 모델 성능 측정(R2)\n",
    "\n",
    "pred = result.predict(df_test)\n",
    "\n",
    "rss = ((df_test.MEDV - pred) ** 2).sum()\n",
    "tss = ((df_test.MEDV - df_test.MEDV.mean()) ** 2).sum()\n",
    "r2 = 1 - (rss / tss)\n",
    "r2"
   ]
  },
  {
   "cell_type": "markdown",
   "id": "adolescent-retro",
   "metadata": {},
   "source": [
    "train set에서의 결정계수가 0.757이었고 test set에서의 결정계수가 0.688로 측정되었다.\n",
    "\n",
    "이처럼 일반적으로 학습데이터에 대한 모델 성능보다 테스트데이터에 대한 모델 성능이 약간 더 낮게 측정된다."
   ]
  },
  {
   "cell_type": "markdown",
   "id": "coral-nightmare",
   "metadata": {},
   "source": [
    "## KFold 교차검증"
   ]
  },
  {
   "cell_type": "markdown",
   "id": "forward-prison",
   "metadata": {},
   "source": [
    "만약 데이터가 비교적 적은 경우 test 데이터에 대한 모델 성능평가가 신뢰할 수 없는 경우가 발생할 수 있다.\n",
    "\n",
    "이러한 경우 데이터셋을 K개의 셋으로 분리해 각각의 분리된 데이터셋을 교차하면서 학습하고 평가하는 KFold 교차검증을 이용할 수 있는데 이 경우 여러번 test를 수행하기 때문에 test set에 대한 모델 평가의 신뢰도가 상승한다."
   ]
  },
  {
   "cell_type": "code",
   "execution_count": 4,
   "id": "standard-welsh",
   "metadata": {
    "ExecuteTime": {
     "end_time": "2021-08-25T04:33:25.652422Z",
     "start_time": "2021-08-25T04:33:25.428085Z"
    }
   },
   "outputs": [
    {
     "name": "stdout",
     "output_type": "stream",
     "text": [
      "학습 R2 = 0.77301356, 검증 R2 = 0.58922238\n",
      "학습 R2 = 0.72917058, 검증 R2 = 0.77799144\n",
      "학습 R2 = 0.74897081, 검증 R2 = 0.66791979\n",
      "학습 R2 = 0.75658611, 검증 R2 = 0.66801630\n",
      "학습 R2 = 0.70497483, 검증 R2 = 0.83953317\n"
     ]
    }
   ],
   "source": [
    "from sklearn.model_selection import KFold\n",
    "\n",
    "scores = np.zeros(5)\n",
    "cv = KFold(5, shuffle=True, random_state=0)\n",
    "for i, (idx_train, idx_test) in enumerate(cv.split(df)):\n",
    "    df_train = df.iloc[idx_train]\n",
    "    df_test = df.iloc[idx_test]\n",
    "    \n",
    "    model = sm.OLS.from_formula(\"MEDV ~ \" + \"+\".join(boston.feature_names), data=df_train)\n",
    "    result = model.fit()\n",
    "    \n",
    "    pred = result.predict(df_test)\n",
    "    rss = ((df_test.MEDV - pred) ** 2).sum()\n",
    "    tss = ((df_test.MEDV - df_test.MEDV.mean())** 2).sum()\n",
    "    rsquared = 1 - rss / tss\n",
    "    \n",
    "    scores[i] = rsquared\n",
    "    print(\"학습 R2 = {:.8f}, 검증 R2 = {:.8f}\".format(result.rsquared, rsquared))"
   ]
  },
  {
   "cell_type": "code",
   "execution_count": 5,
   "id": "concrete-continent",
   "metadata": {
    "ExecuteTime": {
     "end_time": "2021-08-25T04:33:36.285553Z",
     "start_time": "2021-08-25T04:33:36.120194Z"
    }
   },
   "outputs": [
    {
     "data": {
      "text/plain": [
       "array([0.58922238, 0.77799144, 0.66791979, 0.6680163 , 0.83953317])"
      ]
     },
     "execution_count": 5,
     "metadata": {},
     "output_type": "execute_result"
    }
   ],
   "source": [
    "from sklearn.metrics import r2_score\n",
    "\n",
    "scores = np.zeros(5)\n",
    "cv = KFold(5, shuffle=True, random_state=0)\n",
    "for i, (idx_train, idx_test) in enumerate(cv.split(df)):\n",
    "    df_train = df.iloc[idx_train]\n",
    "    df_test = df.iloc[idx_test]\n",
    "    \n",
    "    model = sm.OLS.from_formula(\"MEDV ~ \" + \"+\".join(boston.feature_names), data=df_train)\n",
    "    result = model.fit()\n",
    "    \n",
    "    pred = result.predict(df_test)\n",
    "    rsquared = r2_score(df_test.MEDV, pred)\n",
    "    \n",
    "    scores[i] = rsquared\n",
    "\n",
    "scores"
   ]
  },
  {
   "cell_type": "markdown",
   "id": "hourly-harris",
   "metadata": {},
   "source": [
    "사이킷런에서는 KFold 교차검증과 성능평가를 한번에 지원하는 `cross_val_score()` 함수를 제공한다. 하지만 statsmodels 객체는 이 함수를 사용할 수 없으므로 다음과 같이 래퍼 클래스를 만들어준다."
   ]
  },
  {
   "cell_type": "code",
   "execution_count": 6,
   "id": "integral-spirituality",
   "metadata": {
    "ExecuteTime": {
     "end_time": "2021-08-25T04:37:05.844602Z",
     "start_time": "2021-08-25T04:37:05.827648Z"
    }
   },
   "outputs": [],
   "source": [
    "from sklearn.base import BaseEstimator, RegressorMixin\n",
    "import statsmodels.formula.api as smf\n",
    "import statsmodels.api as sm\n",
    "\n",
    "class StatsmodelsOLS(BaseEstimator, RegressorMixin):\n",
    "    def __init__(self, formula):\n",
    "        self.formula = formula\n",
    "        self.model = None\n",
    "        self.data = None\n",
    "        self.result = None\n",
    "        \n",
    "    def fit(self, dfX, dfy):\n",
    "        self.data = pd.concat([dfX, dfy], axis=1)\n",
    "        self.model = smf.ols(self.formula, data=self.data)\n",
    "        self.result = self.model.fit()\n",
    "        \n",
    "    def predict(self, new_data):\n",
    "        return self.result.predict(new_data)"
   ]
  },
  {
   "cell_type": "code",
   "execution_count": 7,
   "id": "moderate-green",
   "metadata": {
    "ExecuteTime": {
     "end_time": "2021-08-25T04:37:09.905394Z",
     "start_time": "2021-08-25T04:37:09.741982Z"
    }
   },
   "outputs": [
    {
     "data": {
      "text/plain": [
       "array([0.58922238, 0.77799144, 0.66791979, 0.6680163 , 0.83953317])"
      ]
     },
     "execution_count": 7,
     "metadata": {},
     "output_type": "execute_result"
    }
   ],
   "source": [
    "# cross_val_score() 명령 수행\n",
    "\n",
    "from sklearn.model_selection import cross_val_score\n",
    "\n",
    "model = StatsmodelsOLS(\"MEDV ~ \" + \"+\".join(boston.feature_names))\n",
    "cv = KFold(5, shuffle=True, random_state=0)\n",
    "cross_val_score(model, dfX, dfy, scoring=\"r2\", cv=cv)"
   ]
  }
 ],
 "metadata": {
  "kernelspec": {
   "display_name": "Python 3",
   "language": "python",
   "name": "python3"
  },
  "language_info": {
   "codemirror_mode": {
    "name": "ipython",
    "version": 3
   },
   "file_extension": ".py",
   "mimetype": "text/x-python",
   "name": "python",
   "nbconvert_exporter": "python",
   "pygments_lexer": "ipython3",
   "version": "3.7.10"
  },
  "nbTranslate": {
   "displayLangs": [
    "*"
   ],
   "hotkey": "alt-t",
   "langInMainMenu": true,
   "sourceLang": "en",
   "targetLang": "fr",
   "useGoogleTranslate": true
  },
  "varInspector": {
   "cols": {
    "lenName": 16,
    "lenType": 16,
    "lenVar": 40
   },
   "kernels_config": {
    "python": {
     "delete_cmd_postfix": "",
     "delete_cmd_prefix": "del ",
     "library": "var_list.py",
     "varRefreshCmd": "print(var_dic_list())"
    },
    "r": {
     "delete_cmd_postfix": ") ",
     "delete_cmd_prefix": "rm(",
     "library": "var_list.r",
     "varRefreshCmd": "cat(var_dic_list()) "
    }
   },
   "types_to_exclude": [
    "module",
    "function",
    "builtin_function_or_method",
    "instance",
    "_Feature"
   ],
   "window_display": false
  }
 },
 "nbformat": 4,
 "nbformat_minor": 5
}
