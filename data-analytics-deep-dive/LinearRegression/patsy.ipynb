{
 "cells": [
  {
   "cell_type": "code",
   "execution_count": 3,
   "id": "alert-candle",
   "metadata": {
    "ExecuteTime": {
     "end_time": "2021-08-17T02:44:42.317309Z",
     "start_time": "2021-08-17T02:44:42.303345Z"
    }
   },
   "outputs": [],
   "source": [
    "from patsy import demo_data\n",
    "from patsy import dmatrix"
   ]
  },
  {
   "cell_type": "markdown",
   "id": "informational-respect",
   "metadata": {},
   "source": [
    "## 예제용 데이터 생성"
   ]
  },
  {
   "cell_type": "code",
   "execution_count": 2,
   "id": "satisfied-poker",
   "metadata": {
    "ExecuteTime": {
     "end_time": "2021-08-17T02:42:30.862548Z",
     "start_time": "2021-08-17T02:42:30.837613Z"
    }
   },
   "outputs": [
    {
     "data": {
      "text/html": [
       "<div>\n",
       "<style scoped>\n",
       "    .dataframe tbody tr th:only-of-type {\n",
       "        vertical-align: middle;\n",
       "    }\n",
       "\n",
       "    .dataframe tbody tr th {\n",
       "        vertical-align: top;\n",
       "    }\n",
       "\n",
       "    .dataframe thead th {\n",
       "        text-align: right;\n",
       "    }\n",
       "</style>\n",
       "<table border=\"1\" class=\"dataframe\">\n",
       "  <thead>\n",
       "    <tr style=\"text-align: right;\">\n",
       "      <th></th>\n",
       "      <th>x1</th>\n",
       "      <th>x2</th>\n",
       "      <th>x3</th>\n",
       "      <th>x4</th>\n",
       "      <th>x5</th>\n",
       "    </tr>\n",
       "  </thead>\n",
       "  <tbody>\n",
       "    <tr>\n",
       "      <th>0</th>\n",
       "      <td>1.764052</td>\n",
       "      <td>-0.977278</td>\n",
       "      <td>0.144044</td>\n",
       "      <td>0.333674</td>\n",
       "      <td>-2.552990</td>\n",
       "    </tr>\n",
       "    <tr>\n",
       "      <th>1</th>\n",
       "      <td>0.400157</td>\n",
       "      <td>0.950088</td>\n",
       "      <td>1.454274</td>\n",
       "      <td>1.494079</td>\n",
       "      <td>0.653619</td>\n",
       "    </tr>\n",
       "    <tr>\n",
       "      <th>2</th>\n",
       "      <td>0.978738</td>\n",
       "      <td>-0.151357</td>\n",
       "      <td>0.761038</td>\n",
       "      <td>-0.205158</td>\n",
       "      <td>0.864436</td>\n",
       "    </tr>\n",
       "    <tr>\n",
       "      <th>3</th>\n",
       "      <td>2.240893</td>\n",
       "      <td>-0.103219</td>\n",
       "      <td>0.121675</td>\n",
       "      <td>0.313068</td>\n",
       "      <td>-0.742165</td>\n",
       "    </tr>\n",
       "    <tr>\n",
       "      <th>4</th>\n",
       "      <td>1.867558</td>\n",
       "      <td>0.410599</td>\n",
       "      <td>0.443863</td>\n",
       "      <td>-0.854096</td>\n",
       "      <td>2.269755</td>\n",
       "    </tr>\n",
       "  </tbody>\n",
       "</table>\n",
       "</div>"
      ],
      "text/plain": [
       "         x1        x2        x3        x4        x5\n",
       "0  1.764052 -0.977278  0.144044  0.333674 -2.552990\n",
       "1  0.400157  0.950088  1.454274  1.494079  0.653619\n",
       "2  0.978738 -0.151357  0.761038 -0.205158  0.864436\n",
       "3  2.240893 -0.103219  0.121675  0.313068 -0.742165\n",
       "4  1.867558  0.410599  0.443863 -0.854096  2.269755"
      ]
     },
     "execution_count": 2,
     "metadata": {},
     "output_type": "execute_result"
    }
   ],
   "source": [
    "df = pd.DataFrame(demo_data(\"x1\", \"x2\", \"x3\", \"x4\", \"x5\"))\n",
    "df"
   ]
  },
  {
   "cell_type": "markdown",
   "id": "rapid-tiffany",
   "metadata": {},
   "source": [
    "## dmatrix"
   ]
  },
  {
   "cell_type": "markdown",
   "id": "attractive-thread",
   "metadata": {},
   "source": [
    "`dmatrix(formula, data)` : 원하는 데이터를 선택하거나 변형, 상수항 추가를 할 수 있다."
   ]
  },
  {
   "cell_type": "markdown",
   "id": "collect-estimate",
   "metadata": {},
   "source": [
    "x1만 뽑고 싶은 경우"
   ]
  },
  {
   "cell_type": "code",
   "execution_count": 4,
   "id": "behind-lending",
   "metadata": {
    "ExecuteTime": {
     "end_time": "2021-08-17T02:44:58.163905Z",
     "start_time": "2021-08-17T02:44:58.146951Z"
    }
   },
   "outputs": [
    {
     "data": {
      "text/plain": [
       "DesignMatrix with shape (5, 1)\n",
       "       x1\n",
       "  1.76405\n",
       "  0.40016\n",
       "  0.97874\n",
       "  2.24089\n",
       "  1.86756\n",
       "  Terms:\n",
       "    'x1' (column 0)"
      ]
     },
     "execution_count": 4,
     "metadata": {},
     "output_type": "execute_result"
    }
   ],
   "source": [
    "dmatrix('x1 + 0', df)"
   ]
  },
  {
   "cell_type": "markdown",
   "id": "widespread-metabolism",
   "metadata": {},
   "source": [
    "x1, x2, x3를 뽑고싶은 경우"
   ]
  },
  {
   "cell_type": "code",
   "execution_count": 5,
   "id": "virgin-gnome",
   "metadata": {
    "ExecuteTime": {
     "end_time": "2021-08-17T02:47:12.082167Z",
     "start_time": "2021-08-17T02:47:12.060226Z"
    }
   },
   "outputs": [
    {
     "data": {
      "text/plain": [
       "DesignMatrix with shape (5, 3)\n",
       "       x1        x2       x3\n",
       "  1.76405  -0.97728  0.14404\n",
       "  0.40016   0.95009  1.45427\n",
       "  0.97874  -0.15136  0.76104\n",
       "  2.24089  -0.10322  0.12168\n",
       "  1.86756   0.41060  0.44386\n",
       "  Terms:\n",
       "    'x1' (column 0)\n",
       "    'x2' (column 1)\n",
       "    'x3' (column 2)"
      ]
     },
     "execution_count": 5,
     "metadata": {},
     "output_type": "execute_result"
    }
   ],
   "source": [
    "dmatrix('x1 + x2 + x3 + 0', df)"
   ]
  },
  {
   "cell_type": "markdown",
   "id": "instant-methodology",
   "metadata": {},
   "source": [
    "0이 없는 경우 자동으로 상수항(intercept)가 추가된다."
   ]
  },
  {
   "cell_type": "code",
   "execution_count": 7,
   "id": "molecular-probability",
   "metadata": {
    "ExecuteTime": {
     "end_time": "2021-08-17T02:47:25.652515Z",
     "start_time": "2021-08-17T02:47:25.634567Z"
    }
   },
   "outputs": [
    {
     "data": {
      "text/plain": [
       "DesignMatrix with shape (5, 4)\n",
       "  Intercept       x1        x2       x3\n",
       "          1  1.76405  -0.97728  0.14404\n",
       "          1  0.40016   0.95009  1.45427\n",
       "          1  0.97874  -0.15136  0.76104\n",
       "          1  2.24089  -0.10322  0.12168\n",
       "          1  1.86756   0.41060  0.44386\n",
       "  Terms:\n",
       "    'Intercept' (column 0)\n",
       "    'x1' (column 1)\n",
       "    'x2' (column 2)\n",
       "    'x3' (column 3)"
      ]
     },
     "execution_count": 7,
     "metadata": {},
     "output_type": "execute_result"
    }
   ],
   "source": [
    "dmatrix('x1 + x2 + x3', df)"
   ]
  },
  {
   "cell_type": "markdown",
   "id": "sunset-reader",
   "metadata": {
    "ExecuteTime": {
     "end_time": "2021-08-17T02:48:04.447534Z",
     "start_time": "2021-08-17T02:48:04.423596Z"
    }
   },
   "source": [
    "## dmatrix의 수학 변환"
   ]
  },
  {
   "cell_type": "code",
   "execution_count": 11,
   "id": "ambient-preparation",
   "metadata": {
    "ExecuteTime": {
     "end_time": "2021-08-17T02:48:46.058670Z",
     "start_time": "2021-08-17T02:48:46.035733Z"
    }
   },
   "outputs": [
    {
     "data": {
      "text/plain": [
       "DesignMatrix with shape (5, 3)\n",
       "  Intercept       x1  np.log(np.abs(x2))\n",
       "          1  1.76405            -0.02298\n",
       "          1  0.40016            -0.05120\n",
       "          1  0.97874            -1.88811\n",
       "          1  2.24089            -2.27090\n",
       "          1  1.86756            -0.89014\n",
       "  Terms:\n",
       "    'Intercept' (column 0)\n",
       "    'x1' (column 1)\n",
       "    'np.log(np.abs(x2))' (column 2)"
      ]
     },
     "execution_count": 11,
     "metadata": {},
     "output_type": "execute_result"
    }
   ],
   "source": [
    "# x2데이터는 절댓값을 씌운 뒤 로그변환\n",
    "\n",
    "dmatrix('x1 + np.log(np.abs(x2))', df)"
   ]
  },
  {
   "cell_type": "code",
   "execution_count": null,
   "id": "affected-scheme",
   "metadata": {},
   "outputs": [],
   "source": [
    "1.76405"
   ]
  }
 ],
 "metadata": {
  "kernelspec": {
   "display_name": "Python 3",
   "language": "python",
   "name": "python3"
  },
  "language_info": {
   "codemirror_mode": {
    "name": "ipython",
    "version": 3
   },
   "file_extension": ".py",
   "mimetype": "text/x-python",
   "name": "python",
   "nbconvert_exporter": "python",
   "pygments_lexer": "ipython3",
   "version": "3.7.10"
  },
  "nbTranslate": {
   "displayLangs": [
    "*"
   ],
   "hotkey": "alt-t",
   "langInMainMenu": true,
   "sourceLang": "en",
   "targetLang": "fr",
   "useGoogleTranslate": true
  },
  "varInspector": {
   "cols": {
    "lenName": 16,
    "lenType": 16,
    "lenVar": 40
   },
   "kernels_config": {
    "python": {
     "delete_cmd_postfix": "",
     "delete_cmd_prefix": "del ",
     "library": "var_list.py",
     "varRefreshCmd": "print(var_dic_list())"
    },
    "r": {
     "delete_cmd_postfix": ") ",
     "delete_cmd_prefix": "rm(",
     "library": "var_list.r",
     "varRefreshCmd": "cat(var_dic_list()) "
    }
   },
   "types_to_exclude": [
    "module",
    "function",
    "builtin_function_or_method",
    "instance",
    "_Feature"
   ],
   "window_display": false
  }
 },
 "nbformat": 4,
 "nbformat_minor": 5
}
