{
 "cells": [
  {
   "cell_type": "markdown",
   "id": "disturbed-yesterday",
   "metadata": {},
   "source": [
    "# 추천 시스템"
   ]
  },
  {
   "cell_type": "markdown",
   "id": "obvious-manitoba",
   "metadata": {},
   "source": [
    "추천시스템은 사용자가 선호하는 상품을 예측하는 시스템\n",
    "\n",
    "Netflix 등의 온라인 비디오 콘텐츠 제공 플랫폼에서 사용자가 그동안 시청했던 영상 기록, 평점 기록 정보등을 바탕으로 사용자가 가장 만족할만한 상품을 추천하는 시스템이 추천 시스템이다."
   ]
  },
  {
   "cell_type": "markdown",
   "id": "rocky-tyler",
   "metadata": {},
   "source": [
    "# Surprise 패키지"
   ]
  },
  {
   "cell_type": "markdown",
   "id": "mobile-merit",
   "metadata": {},
   "source": [
    "무료로 추천시스템을 만들기 위한 패키지는 Surpise이다.\n",
    "\n",
    "그 외의 다른 좋은 성능을 보유한 패키지는 대부분 유료이다."
   ]
  },
  {
   "cell_type": "code",
   "execution_count": 1,
   "id": "caring-honolulu",
   "metadata": {
    "ExecuteTime": {
     "end_time": "2021-11-07T01:45:11.687862Z",
     "start_time": "2021-11-07T01:45:10.753572Z"
    }
   },
   "outputs": [],
   "source": [
    "import surprise"
   ]
  },
  {
   "cell_type": "markdown",
   "id": "seven-wrong",
   "metadata": {},
   "source": [
    "# 평점 데이터"
   ]
  },
  {
   "cell_type": "markdown",
   "id": "worth-austin",
   "metadata": {},
   "source": [
    "surprise 패키지에는 MovieLense라는 영화 추천 웹사이트의 데이터를 샘플 평점 데이터로 제공."
   ]
  },
  {
   "cell_type": "code",
   "execution_count": 6,
   "id": "median-canberra",
   "metadata": {
    "ExecuteTime": {
     "end_time": "2021-11-07T01:45:19.161913Z",
     "start_time": "2021-11-07T01:45:18.919531Z"
    }
   },
   "outputs": [
    {
     "data": {
      "text/html": [
       "<div>\n",
       "<style scoped>\n",
       "    .dataframe tbody tr th:only-of-type {\n",
       "        vertical-align: middle;\n",
       "    }\n",
       "\n",
       "    .dataframe tbody tr th {\n",
       "        vertical-align: top;\n",
       "    }\n",
       "\n",
       "    .dataframe thead th {\n",
       "        text-align: right;\n",
       "    }\n",
       "</style>\n",
       "<table border=\"1\" class=\"dataframe\">\n",
       "  <thead>\n",
       "    <tr style=\"text-align: right;\">\n",
       "      <th></th>\n",
       "      <th>user</th>\n",
       "      <th>item</th>\n",
       "      <th>rate</th>\n",
       "    </tr>\n",
       "  </thead>\n",
       "  <tbody>\n",
       "    <tr>\n",
       "      <th>0</th>\n",
       "      <td>196</td>\n",
       "      <td>242</td>\n",
       "      <td>3.0</td>\n",
       "    </tr>\n",
       "    <tr>\n",
       "      <th>1</th>\n",
       "      <td>186</td>\n",
       "      <td>302</td>\n",
       "      <td>3.0</td>\n",
       "    </tr>\n",
       "    <tr>\n",
       "      <th>2</th>\n",
       "      <td>22</td>\n",
       "      <td>377</td>\n",
       "      <td>1.0</td>\n",
       "    </tr>\n",
       "    <tr>\n",
       "      <th>3</th>\n",
       "      <td>244</td>\n",
       "      <td>51</td>\n",
       "      <td>2.0</td>\n",
       "    </tr>\n",
       "    <tr>\n",
       "      <th>4</th>\n",
       "      <td>166</td>\n",
       "      <td>346</td>\n",
       "      <td>1.0</td>\n",
       "    </tr>\n",
       "    <tr>\n",
       "      <th>5</th>\n",
       "      <td>298</td>\n",
       "      <td>474</td>\n",
       "      <td>4.0</td>\n",
       "    </tr>\n",
       "    <tr>\n",
       "      <th>6</th>\n",
       "      <td>115</td>\n",
       "      <td>265</td>\n",
       "      <td>2.0</td>\n",
       "    </tr>\n",
       "    <tr>\n",
       "      <th>7</th>\n",
       "      <td>253</td>\n",
       "      <td>465</td>\n",
       "      <td>5.0</td>\n",
       "    </tr>\n",
       "    <tr>\n",
       "      <th>8</th>\n",
       "      <td>305</td>\n",
       "      <td>451</td>\n",
       "      <td>3.0</td>\n",
       "    </tr>\n",
       "    <tr>\n",
       "      <th>9</th>\n",
       "      <td>6</td>\n",
       "      <td>86</td>\n",
       "      <td>3.0</td>\n",
       "    </tr>\n",
       "  </tbody>\n",
       "</table>\n",
       "</div>"
      ],
      "text/plain": [
       "  user item  rate\n",
       "0  196  242   3.0\n",
       "1  186  302   3.0\n",
       "2   22  377   1.0\n",
       "3  244   51   2.0\n",
       "4  166  346   1.0\n",
       "5  298  474   4.0\n",
       "6  115  265   2.0\n",
       "7  253  465   5.0\n",
       "8  305  451   3.0\n",
       "9    6   86   3.0"
      ]
     },
     "execution_count": 6,
     "metadata": {},
     "output_type": "execute_result"
    }
   ],
   "source": [
    "data = surprise.Dataset.load_builtin('ml-100k')\n",
    "df = pd.DataFrame(data.raw_ratings, columns=['user','item','rate','id'])\n",
    "del df['id']\n",
    "\n",
    "df.head(10)"
   ]
  },
  {
   "cell_type": "markdown",
   "id": "exotic-blade",
   "metadata": {},
   "source": [
    "- user : 사용자 ID\n",
    "- item : 상품 ID\n",
    "- rate : 평점"
   ]
  },
  {
   "cell_type": "markdown",
   "id": "concrete-young",
   "metadata": {},
   "source": [
    "**추천 시스템은 결국 사용자 아이디와 상품 아이디라는 두 개의 카테고리 입력과 평점 출력을 가지는 예측 시스템**"
   ]
  },
  {
   "cell_type": "markdown",
   "id": "personalized-partnership",
   "metadata": {},
   "source": [
    "피벗테이블 형태로 변환하면 X축이 상품, y축이 사용자 아이디인 평점 행렬 $R$이 된다."
   ]
  },
  {
   "cell_type": "code",
   "execution_count": 7,
   "id": "liked-accused",
   "metadata": {
    "ExecuteTime": {
     "end_time": "2021-11-07T01:45:21.446043Z",
     "start_time": "2021-11-07T01:45:21.238604Z"
    }
   },
   "outputs": [
    {
     "data": {
      "text/plain": [
       "(943, 1682)"
      ]
     },
     "execution_count": 7,
     "metadata": {},
     "output_type": "execute_result"
    }
   ],
   "source": [
    "df_pivot = pd.pivot_table(df, index=df.user, columns=df.item)\n",
    "df_pivot.shape"
   ]
  },
  {
   "cell_type": "markdown",
   "id": "concrete-spirit",
   "metadata": {},
   "source": [
    "행은 특정 사용자의 평점, 열은 특정 상품의 평점을 의미한다."
   ]
  },
  {
   "cell_type": "code",
   "execution_count": 8,
   "id": "particular-shareware",
   "metadata": {
    "ExecuteTime": {
     "end_time": "2021-11-07T01:45:21.922239Z",
     "start_time": "2021-11-07T01:45:21.889299Z"
    }
   },
   "outputs": [
    {
     "data": {
      "text/html": [
       "<div>\n",
       "<style scoped>\n",
       "    .dataframe tbody tr th:only-of-type {\n",
       "        vertical-align: middle;\n",
       "    }\n",
       "\n",
       "    .dataframe tbody tr th {\n",
       "        vertical-align: top;\n",
       "    }\n",
       "\n",
       "    .dataframe thead tr th {\n",
       "        text-align: left;\n",
       "    }\n",
       "\n",
       "    .dataframe thead tr:last-of-type th {\n",
       "        text-align: right;\n",
       "    }\n",
       "</style>\n",
       "<table border=\"1\" class=\"dataframe\">\n",
       "  <thead>\n",
       "    <tr>\n",
       "      <th></th>\n",
       "      <th colspan=\"9\" halign=\"left\">rate</th>\n",
       "    </tr>\n",
       "    <tr>\n",
       "      <th>item</th>\n",
       "      <th>211</th>\n",
       "      <th>212</th>\n",
       "      <th>213</th>\n",
       "      <th>214</th>\n",
       "      <th>215</th>\n",
       "      <th>216</th>\n",
       "      <th>217</th>\n",
       "      <th>218</th>\n",
       "      <th>219</th>\n",
       "    </tr>\n",
       "    <tr>\n",
       "      <th>user</th>\n",
       "      <th></th>\n",
       "      <th></th>\n",
       "      <th></th>\n",
       "      <th></th>\n",
       "      <th></th>\n",
       "      <th></th>\n",
       "      <th></th>\n",
       "      <th></th>\n",
       "      <th></th>\n",
       "    </tr>\n",
       "  </thead>\n",
       "  <tbody>\n",
       "    <tr>\n",
       "      <th>290</th>\n",
       "      <td>3.0</td>\n",
       "      <td></td>\n",
       "      <td></td>\n",
       "      <td></td>\n",
       "      <td></td>\n",
       "      <td>4.0</td>\n",
       "      <td></td>\n",
       "      <td>2.0</td>\n",
       "      <td></td>\n",
       "    </tr>\n",
       "    <tr>\n",
       "      <th>291</th>\n",
       "      <td></td>\n",
       "      <td>4.0</td>\n",
       "      <td></td>\n",
       "      <td>4.0</td>\n",
       "      <td>4.0</td>\n",
       "      <td></td>\n",
       "      <td></td>\n",
       "      <td>4.0</td>\n",
       "      <td>4.0</td>\n",
       "    </tr>\n",
       "    <tr>\n",
       "      <th>292</th>\n",
       "      <td></td>\n",
       "      <td></td>\n",
       "      <td></td>\n",
       "      <td>3.0</td>\n",
       "      <td></td>\n",
       "      <td></td>\n",
       "      <td></td>\n",
       "      <td></td>\n",
       "      <td></td>\n",
       "    </tr>\n",
       "    <tr>\n",
       "      <th>293</th>\n",
       "      <td>4.0</td>\n",
       "      <td></td>\n",
       "      <td>3.0</td>\n",
       "      <td></td>\n",
       "      <td>4.0</td>\n",
       "      <td>4.0</td>\n",
       "      <td>3.0</td>\n",
       "      <td>2.0</td>\n",
       "      <td></td>\n",
       "    </tr>\n",
       "    <tr>\n",
       "      <th>294</th>\n",
       "      <td></td>\n",
       "      <td></td>\n",
       "      <td></td>\n",
       "      <td></td>\n",
       "      <td></td>\n",
       "      <td></td>\n",
       "      <td></td>\n",
       "      <td></td>\n",
       "      <td></td>\n",
       "    </tr>\n",
       "    <tr>\n",
       "      <th>295</th>\n",
       "      <td></td>\n",
       "      <td></td>\n",
       "      <td>5.0</td>\n",
       "      <td></td>\n",
       "      <td>5.0</td>\n",
       "      <td>5.0</td>\n",
       "      <td>4.0</td>\n",
       "      <td>5.0</td>\n",
       "      <td></td>\n",
       "    </tr>\n",
       "    <tr>\n",
       "      <th>296</th>\n",
       "      <td>4.0</td>\n",
       "      <td></td>\n",
       "      <td></td>\n",
       "      <td></td>\n",
       "      <td></td>\n",
       "      <td></td>\n",
       "      <td></td>\n",
       "      <td></td>\n",
       "      <td></td>\n",
       "    </tr>\n",
       "    <tr>\n",
       "      <th>297</th>\n",
       "      <td>4.0</td>\n",
       "      <td></td>\n",
       "      <td>3.0</td>\n",
       "      <td></td>\n",
       "      <td>2.0</td>\n",
       "      <td>4.0</td>\n",
       "      <td></td>\n",
       "      <td>3.0</td>\n",
       "      <td></td>\n",
       "    </tr>\n",
       "    <tr>\n",
       "      <th>298</th>\n",
       "      <td>5.0</td>\n",
       "      <td></td>\n",
       "      <td>3.0</td>\n",
       "      <td></td>\n",
       "      <td>5.0</td>\n",
       "      <td></td>\n",
       "      <td></td>\n",
       "      <td></td>\n",
       "      <td></td>\n",
       "    </tr>\n",
       "    <tr>\n",
       "      <th>299</th>\n",
       "      <td>4.0</td>\n",
       "      <td>4.0</td>\n",
       "      <td>5.0</td>\n",
       "      <td></td>\n",
       "      <td></td>\n",
       "      <td>5.0</td>\n",
       "      <td></td>\n",
       "      <td></td>\n",
       "      <td></td>\n",
       "    </tr>\n",
       "  </tbody>\n",
       "</table>\n",
       "</div>"
      ],
      "text/plain": [
       "     rate                                        \n",
       "item  211  212  213  214  215  216  217  218  219\n",
       "user                                             \n",
       "290   3.0                      4.0       2.0     \n",
       "291        4.0       4.0  4.0            4.0  4.0\n",
       "292                  3.0                         \n",
       "293   4.0       3.0       4.0  4.0  3.0  2.0     \n",
       "294                                              \n",
       "295             5.0       5.0  5.0  4.0  5.0     \n",
       "296   4.0                                        \n",
       "297   4.0       3.0       2.0  4.0       3.0     \n",
       "298   5.0       3.0       5.0                    \n",
       "299   4.0  4.0  5.0            5.0               "
      ]
     },
     "execution_count": 8,
     "metadata": {},
     "output_type": "execute_result"
    }
   ],
   "source": [
    "df_pivot.iloc[212:222, 808:817].fillna(\"\")"
   ]
  },
  {
   "cell_type": "code",
   "execution_count": 10,
   "id": "essential-partner",
   "metadata": {
    "ExecuteTime": {
     "end_time": "2021-11-07T01:45:34.748928Z",
     "start_time": "2021-11-07T01:45:34.218123Z"
    },
    "scrolled": false
   },
   "outputs": [
    {
     "data": {
      "image/png": "[encoded data removed]",
      "text/plain": [
       "<Figure size 864x576 with 1 Axes>"
      ]
     },
     "metadata": {
      "image/png": {
       "height": 437,
       "width": 722
      },
      "needs_background": "light"
     },
     "output_type": "display_data"
    }
   ],
   "source": [
    "plt.figure(figsize=(12, 8))\n",
    "plt.imshow(df_pivot, 'Reds')\n",
    "plt.grid(False)\n",
    "plt.xlabel(\"item\")\n",
    "plt.ylabel(\"user\")\n",
    "plt.title(\"Rate Matrix\")\n",
    "plt.show()"
   ]
  },
  {
   "cell_type": "markdown",
   "id": "closed-private",
   "metadata": {},
   "source": [
    "# 추천 시스템 알고리즘"
   ]
  },
  {
   "cell_type": "markdown",
   "id": "contrary-baltimore",
   "metadata": {},
   "source": [
    "추천 시스템은 기본적으로 두 개의 카테고리 값 입력(더미변수)에서 하나의 실수 값을 예측하는 회귀 모형이다. 이를 Baseline Model이라한다.\n",
    "\n",
    "Baseline Model 이외에도 여러 방법으로 예측 성능을 향상시키는 다양한 모델이 존재한다."
   ]
  },
  {
   "cell_type": "markdown",
   "id": "guided-longitude",
   "metadata": {},
   "source": [
    "1. Baseline Model\n",
    "2. Collaborative Filtering\n",
    "\n",
    "    1. Neighborhood Models\n",
    "        - User-based CF\n",
    "        - Item-based CF\n",
    "    2. Latent Factor Models\n",
    "        - Matrix Factorization\n",
    "        - SVD\n",
    "3. Content-Based Recommendation"
   ]
  },
  {
   "cell_type": "markdown",
   "id": "gross-great",
   "metadata": {},
   "source": [
    "# 베이스라인 모형"
   ]
  },
  {
   "cell_type": "markdown",
   "id": "instant-buddy",
   "metadata": {},
   "source": [
    "베이스라인 모형은 더미변수를 사용한 회귀분석으로 이해할 수 있다."
   ]
  },
  {
   "cell_type": "markdown",
   "id": "bulgarian-extra",
   "metadata": {},
   "source": [
    "베이스라인 모형에서 예측값(rate)을 구하는 방식은 아래와 같다."
   ]
  },
  {
   "cell_type": "markdown",
   "id": "documented-walker",
   "metadata": {},
   "source": [
    "$$\\hat{r}(u,i) = \\mu + b(u) + b(i)$$"
   ]
  },
  {
   "cell_type": "markdown",
   "id": "taken-search",
   "metadata": {},
   "source": [
    "- $\\mu$는 상수항을 의미한다.\n",
    "- $b(u)$는 더미변수 앞에 붙는 $w$로 Bias를 의미한다.($u$번째 아이디 user앞에 붙는 $w$값)\n",
    "- $b(i)$는 item을 더미변수화 했을 때 앞에 붙는 $w$를 의미한다.\n"
   ]
  },
  {
   "cell_type": "markdown",
   "id": "otherwise-crystal",
   "metadata": {},
   "source": [
    "이를 보다 직관적으로 예를 들어 설명하자면 $\\mu$는 기본적으로 붙는 평점, $b(u)$는 특정 유저는 다른 사람들보다 어느정도의 평점을 더 주더라, $b(i)$는 특정 아이템은 다른 아이템들보다 어느정도 평점을 더 받더라 라는 의미로 이해할 수 있다."
   ]
  },
  {
   "cell_type": "markdown",
   "id": "piano-oriental",
   "metadata": {},
   "source": [
    "즉, 베이스라인 모형은 기본적인 회귀 분석과 다를 것이 없다.\n",
    "\n",
    "하지만 여기서 발생하는 문제는 데이터의 사이즈가 너무 방대하다는 것이다. 따라서 모든 데이터를 가지고 Matrix를 이용해 inverse를 구해야한다. 따라서 정상적인 방법으로는 회귀분석을 수행할 수 없다."
   ]
  },
  {
   "cell_type": "markdown",
   "id": "educational-belfast",
   "metadata": {},
   "source": [
    "따라서 실제 rate와 예측한 rate와의 오차가 가능한 한 적어지도록 수치적 최적화를 통해 바로 $b$값을 찾는다."
   ]
  },
  {
   "cell_type": "markdown",
   "id": "whole-theme",
   "metadata": {},
   "source": [
    "$$\\sum_{u,i \\in R_{train}} \\left(r(u,i) - \\hat{r}(u,i))\\right)^2$$"
   ]
  },
  {
   "cell_type": "markdown",
   "id": "signal-reach",
   "metadata": {},
   "source": [
    "- $R_{train}$ : 실제 평점이 존재하는 학습용 데이터"
   ]
  },
  {
   "cell_type": "markdown",
   "id": "owned-mineral",
   "metadata": {},
   "source": [
    "바로 수치적 최적화를 진행하지만 과적합을 방지하기 위해 다음과 같은 정규화 항을 추가한다."
   ]
  },
  {
   "cell_type": "markdown",
   "id": "capital-heather",
   "metadata": {},
   "source": [
    "$$\\sum_{u,i \\in R_{train}} \\left(r(u,i) - \\hat{r}(u,i))\\right)^2 + \\lambda \\left(b(u)^2 + b(i)^2 \\right)$$"
   ]
  },
  {
   "cell_type": "markdown",
   "id": "isolated-discretion",
   "metadata": {},
   "source": [
    "위 식은 Ridge 정규화 항을 추가한 방법이다."
   ]
  },
  {
   "cell_type": "markdown",
   "id": "removable-coating",
   "metadata": {},
   "source": [
    "surprise 패키지는 Loss function을 최소화하기 위해 다음과 같은 두가지 최적화 알고리즘을 제공한다. 이 알고리즘의 선택은 `method` 파라미터를 통해 설정한다."
   ]
  },
  {
   "cell_type": "markdown",
   "id": "suitable-relationship",
   "metadata": {},
   "source": [
    "- `SGD(Stochastic Gradient Descent):`\n",
    "    - reg : 정규화 가중치, 디폴트 = 0.02\n",
    "    - learning_rate : 최적화 스텝 사이즈, 디폴트 = 0.005\n",
    "    - n_epochs : 최적화 반복 횟수, 디폴트 = 20\n",
    "    \n",
    "\n",
    "- `ALS(Alternating Least Squares):`\n",
    "    - reg_i : 상품에 대한 정규화 가중치, 디폴트 = 10\n",
    "    - reg_u : 사용자에 대한 정규화 가중치, 디폴트 = 15\n",
    "    - n_epochs : 최적화 반복 횟수, 디폴트 = 10"
   ]
  },
  {
   "cell_type": "markdown",
   "id": "periodic-potato",
   "metadata": {},
   "source": [
    "# 모형 사용법"
   ]
  },
  {
   "cell_type": "markdown",
   "id": "cheap-improvement",
   "metadata": {},
   "source": [
    "1. 데이터셋의 split, folds 메소드를 이용하여 K-Fold 트레이닝 데이터셋과 테스트셋을 생성\n",
    "\n",
    "\n",
    "2. Model 알고리즘 선택\n",
    "\n",
    "\n",
    "3. Model 알고리즘 객체의 train 메소드와 트레이닝 데이터셋으로 모수를 추정한 후 test 메소드로 데이터 셋에 대한 예측\n",
    "\n",
    "\n",
    "4. Model 성능평가\n",
    "\n",
    "이 과정은 evaluate 메소드로 단축이 가능하다."
   ]
  },
  {
   "cell_type": "markdown",
   "id": "floating-forum",
   "metadata": {},
   "source": [
    "# 추천시스템 Metrics"
   ]
  },
  {
   "cell_type": "markdown",
   "id": "imperial-oregon",
   "metadata": {},
   "source": [
    "- RMSE(Root Mean Squared Error)\n",
    "\n",
    "- MAE(Mean Absolute Error)\n",
    "\n",
    "- FCP(Fraction of Concordant Pairs)"
   ]
  },
  {
   "cell_type": "markdown",
   "id": "posted-business",
   "metadata": {},
   "source": [
    "$$\\text{FCP} = \\dfrac{\\text{number of concordant pairs}}{\\text{number of discordant pairs}}$$"
   ]
  },
  {
   "cell_type": "markdown",
   "id": "infectious-missile",
   "metadata": {},
   "source": [
    "FCP의 concordant는 $i$번째 상품과 $j$번째 상품에서 실제로 $j$번째 상품의 평점이 더 좋았는데 예측 결과 역시 그러하면 concordant라 한다."
   ]
  },
  {
   "cell_type": "markdown",
   "id": "furnished-lighter",
   "metadata": {},
   "source": [
    "만약 위 설명에 반대되는 경우 discordant라 하며 이 둘의 비율을 이용한 모델의 성능을 정량화 한 값을 FCP라 한다."
   ]
  },
  {
   "cell_type": "markdown",
   "id": "everyday-metadata",
   "metadata": {},
   "source": [
    "# Baseline Model Example"
   ]
  },
  {
   "cell_type": "code",
   "execution_count": 11,
   "id": "dental-thumb",
   "metadata": {
    "ExecuteTime": {
     "end_time": "2021-11-07T01:45:44.710926Z",
     "start_time": "2021-11-07T01:45:43.359533Z"
    }
   },
   "outputs": [
    {
     "name": "stdout",
     "output_type": "stream",
     "text": [
      "Estimating biases using als...\n",
      "RMSE: 0.9453\n",
      "Estimating biases using als...\n",
      "RMSE: 0.9377\n",
      "Estimating biases using als...\n",
      "RMSE: 0.9500\n"
     ]
    },
    {
     "data": {
      "text/plain": [
       "0.9443304984013942"
      ]
     },
     "execution_count": 11,
     "metadata": {},
     "output_type": "execute_result"
    }
   ],
   "source": [
    "from surprise.model_selection import KFold\n",
    "\n",
    "# 베이스라인 모델에 사용할 파라미터 정의\n",
    "bsl_options = {\n",
    "    'method' : 'als',\n",
    "    'n_epochs' : 5,\n",
    "    'reg_u' : 12,\n",
    "    'reg_i' : 5\n",
    "}\n",
    "\n",
    "# 베이스라인 모델 생성\n",
    "algo = surprise.BaselineOnly(bsl_options)\n",
    "\n",
    "np.random.seed(0)\n",
    "acc = np.zeros(3)\n",
    "cv = KFold(3)\n",
    "\n",
    "# cv객체의 split메소드를 이용해 3개의 폴트와 train, test셋 사용\n",
    "for i, (trainset, testset) in enumerate(cv.split(data)):\n",
    "    algo.fit(trainset)\n",
    "    predictions = algo.test(testset)\n",
    "    acc[i] = surprise.accuracy.rmse(predictions, verbose=True)\n",
    "acc.mean()"
   ]
  },
  {
   "cell_type": "markdown",
   "id": "sixth-access",
   "metadata": {},
   "source": [
    "위 과정을 cross_validate 메소드를 이용해 한번에 수행할 수 있다."
   ]
  },
  {
   "cell_type": "code",
   "execution_count": 30,
   "id": "complex-musician",
   "metadata": {
    "ExecuteTime": {
     "end_time": "2021-11-07T01:48:53.847815Z",
     "start_time": "2021-11-07T01:48:51.649629Z"
    }
   },
   "outputs": [
    {
     "name": "stdout",
     "output_type": "stream",
     "text": [
      "Estimating biases using als...\n",
      "Estimating biases using als...\n",
      "Estimating biases using als...\n",
      "Estimating biases using als...\n",
      "Estimating biases using als...\n"
     ]
    },
    {
     "data": {
      "text/plain": [
       "{'test_rmse': array([0.94401235, 0.93669078, 0.94714989, 0.94400004, 0.93606355]),\n",
       " 'test_mae': array([0.74688773, 0.73846283, 0.75322622, 0.74843106, 0.74206187]),\n",
       " 'fit_time': (0.11066722869873047,\n",
       "  0.13563776016235352,\n",
       "  0.14561080932617188,\n",
       "  0.148634672164917,\n",
       "  0.16359305381774902),\n",
       " 'test_time': (0.08078289031982422,\n",
       "  0.3899548053741455,\n",
       "  0.07679414749145508,\n",
       "  0.08274483680725098,\n",
       "  0.08876419067382812)}"
      ]
     },
     "execution_count": 30,
     "metadata": {},
     "output_type": "execute_result"
    }
   ],
   "source": [
    "from surprise.model_selection import cross_validate\n",
    "\n",
    "cross_validate(algo, data)"
   ]
  },
  {
   "cell_type": "code",
   "execution_count": 26,
   "id": "informal-chamber",
   "metadata": {
    "ExecuteTime": {
     "end_time": "2021-11-07T01:47:47.078332Z",
     "start_time": "2021-11-07T01:47:47.060343Z"
    }
   },
   "outputs": [
    {
     "data": {
      "text/plain": [
       "'als'"
      ]
     },
     "execution_count": 26,
     "metadata": {},
     "output_type": "execute_result"
    }
   ],
   "source": [
    "algo.bsl_options['method']"
   ]
  },
  {
   "cell_type": "code",
   "execution_count": 29,
   "id": "suitable-catch",
   "metadata": {
    "ExecuteTime": {
     "end_time": "2021-11-07T01:48:34.990392Z",
     "start_time": "2021-11-07T01:48:34.984408Z"
    }
   },
   "outputs": [
    {
     "data": {
      "text/plain": [
       "(0.9411881352307816, 0.7454558447235036)"
      ]
     },
     "execution_count": 29,
     "metadata": {},
     "output_type": "execute_result"
    }
   ],
   "source": [
    "result['test_rmse'].mean(), result['test_mae'].mean()"
   ]
  },
  {
   "cell_type": "markdown",
   "id": "attractive-button",
   "metadata": {},
   "source": [
    "# Collaborative Filter"
   ]
  },
  {
   "cell_type": "markdown",
   "id": "excessive-recording",
   "metadata": {
    "ExecuteTime": {
     "end_time": "2021-10-01T04:44:50.764764Z",
     "start_time": "2021-10-01T04:44:50.745813Z"
    }
   },
   "source": [
    "추천 시스템을 만든다는 것은 앞서 살펴본 rate matrix의 결측치들을 imputation하겠다는 것으로 이해할 수 있다."
   ]
  },
  {
   "cell_type": "markdown",
   "id": "fantastic-shift",
   "metadata": {},
   "source": [
    "이처럼 Collaborative Filter 방법은 회귀분석을 이용하는 것이 아닌 rate matrix가 가지는 특정한 패턴을 이용해 이를 평점 예측에 사용하는 방법이다.\n",
    "\n",
    "**Collaborative Filter(CF) 방법은 사용자나 상품 기준으로 평점의 유사성을 살피는 Neighborhood 모형과 행렬의 수치적 특징을 이용하는 Latent Factor 모형이 있다.**"
   ]
  },
  {
   "cell_type": "markdown",
   "id": "rational-culture",
   "metadata": {},
   "source": [
    "# Neighborhood Model"
   ]
  },
  {
   "cell_type": "markdown",
   "id": "established-quarterly",
   "metadata": {},
   "source": [
    "Neighborhood Model은 Memory-based CF라고도 부른다.\n",
    "\n",
    "이 방법은 특정 사용자의 평점을 예측하기 위해 사용하는 것이 아닌 해당 사용자와 유사한 사용자에 대해 가중치를 주기 위해 사용한다."
   ]
  },
  {
   "cell_type": "markdown",
   "id": "wooden-macintosh",
   "metadata": {},
   "source": [
    "여기서 해당 사용자와 유사한 사용자를 찾는 방법은 평점행렬에서 유사한 사용자 행 벡터를 찾아 이를 기반으로 비어있는 평점 데이터를 채우는 방법을 User-based CF 방법이라 한다."
   ]
  },
  {
   "cell_type": "markdown",
   "id": "technical-letter",
   "metadata": {},
   "source": [
    "이와 반대로 평점 행렬의 상품 열 벡터의 유사성을 찾고 특정한 상품과 유사한 평점 정보를 가지는 상품들로 해당 상품의 빈 평점 데이터를 채우는 방법을 Item-based CF 방법이라 한다."
   ]
  },
  {
   "cell_type": "markdown",
   "id": "minus-headquarters",
   "metadata": {},
   "source": [
    "# 유사도 계산"
   ]
  },
  {
   "cell_type": "markdown",
   "id": "every-tanzania",
   "metadata": {},
   "source": [
    "앞서 언급한 User-based CF, Item-basedd CF 방법을 위해선 유사도를 계산해야한다.\n",
    "\n",
    "이 때 사용되는 유사도는 다음과 같다."
   ]
  },
  {
   "cell_type": "markdown",
   "id": "opening-bumper",
   "metadata": {},
   "source": [
    "- 평균제곱차이 유사도(Mean Squared Difference Similarity)\n",
    "- 코사인 유사도(Cosine Similarity)\n",
    "- 피어슨 유사도(Pearson Similarity)\n",
    "- 피어슨-베이스라인 유사도(Pearson-Baseline Similarity)"
   ]
  },
  {
   "cell_type": "markdown",
   "id": "serial-neighbor",
   "metadata": {},
   "source": [
    "surprise 패키지의 유사도 설정 옵션"
   ]
  },
  {
   "cell_type": "markdown",
   "id": "dirty-centre",
   "metadata": {},
   "source": [
    "- name : 사용할 유사도 종류를 문자열로 지정, 디폴트는 'MSD'\n",
    "- user_based : True면 사용자 기반, False면 상품 기반 CF 수행\n",
    "- min_support : 두 사용자, 상품에서 공통적으로 있는 평점 원소 수의 최솟값, 공통 평점 원소의 수가 이 값보다 적으면 해당 벡터는 사용하지 않음.\n",
    "- shrinkage : Shrinkage 가중치, 디폴트는 100"
   ]
  },
  {
   "cell_type": "markdown",
   "id": "veterinary-upgrade",
   "metadata": {},
   "source": [
    "# MSD"
   ]
  },
  {
   "cell_type": "markdown",
   "id": "operating-warren",
   "metadata": {},
   "source": [
    "평균제곱차 유사도(Mean Squared Difference, MSD)는 유클리드 공간에서의 거리 제곱에 비례하는 값.\n",
    "\n",
    "다음의 식으로 MSD값을 구하고 그 역수로 유사도를 정의한다.\n",
    "\n",
    "MSD값이 0이 되는 경우를 방지하고자 1을 더함."
   ]
  },
  {
   "cell_type": "markdown",
   "id": "absolute-illustration",
   "metadata": {},
   "source": [
    "$$\\begin{split} \\begin{split}\\text{msd_sim}(u, v) &= \\frac{1}{\\text{msd}(u, v) + 1}\\\\\n",
    "\\text{msd_sim}(i, j) &= \\frac{1}{\\text{msd}(i, j) + 1}\\end{split} \\end{split}$$"
   ]
  },
  {
   "cell_type": "markdown",
   "id": "julian-sequence",
   "metadata": {},
   "source": [
    "- 사용자 $u$와 사용자 $v$간의 MSD"
   ]
  },
  {
   "cell_type": "markdown",
   "id": "magnetic-contents",
   "metadata": {},
   "source": [
    "$$\\text{msd}(u, v) = \\frac{1}{|I_{uv}|} \\cdot \\sum\\limits_{i \\in I_{uv}} (r(u,i) - r_(v,i))^2$$"
   ]
  },
  {
   "cell_type": "markdown",
   "id": "expanded-effect",
   "metadata": {},
   "source": [
    "위 식의 $I_{uv}$는 사용자 $u, v$ 모두에 의해 평가된 상품의 집합을 의미한다.\n",
    "\n",
    "$|I_{u,v}|$는 사용자 $u, v$ 모두에 의해 평가된 상품의 수를 의미한다."
   ]
  },
  {
   "cell_type": "markdown",
   "id": "interesting-priest",
   "metadata": {},
   "source": [
    "- 상품 $i$와 상품 $j$간의 MSD"
   ]
  },
  {
   "cell_type": "markdown",
   "id": "sufficient-spiritual",
   "metadata": {},
   "source": [
    "$$\\text{msd}(i, j) = \\frac{1}{|U_{ij}|} \\cdot \\sum\\limits_{u \\in U_{ij}} (r(u,i) - r(u,j))^2$$"
   ]
  },
  {
   "cell_type": "markdown",
   "id": "connected-zealand",
   "metadata": {},
   "source": [
    "위 식의 $U_{i,j}$는 상품 $i, j$ 모두를 평가한 사용자의 집합을 의미한다.\n",
    "$|U_{i,j}|$는 상품 $i, j$를 모두 평가한 사용자의 수를 의미한다."
   ]
  },
  {
   "cell_type": "code",
   "execution_count": null,
   "id": "prepared-absolute",
   "metadata": {
    "ExecuteTime": {
     "end_time": "2021-11-07T01:45:12.392400Z",
     "start_time": "2021-11-07T01:45:10.804Z"
    }
   },
   "outputs": [],
   "source": [
    "# MSD를 이용한 CF\n",
    "\n",
    "sim_option = {'name':'msd'}\n",
    "algo = surprise.KNNBasic(sim_option=sim_option) # 디폴트는 user-based\n",
    "cross_validate(algo, data)['test_mae'].mean()"
   ]
  },
  {
   "cell_type": "markdown",
   "id": "cardiac-tuner",
   "metadata": {},
   "source": [
    "# Cosine Similarity"
   ]
  },
  {
   "cell_type": "markdown",
   "id": "committed-crawford",
   "metadata": {},
   "source": [
    "코사인 유사도(Cosine Similarity)는 두 특성 벡터의 각도에 대한 코사인 값을 의미한다.\n",
    "\n",
    "벡터 $x, y$ 사이의 각도 $\\theta$는 두 벡터의 내적 $x \\cdot y$와 다음과 같은 관계가 있다."
   ]
  },
  {
   "cell_type": "markdown",
   "id": "happy-member",
   "metadata": {},
   "source": [
    "각도 $\\theta$가 0도이면 코사인 유사도는 1\n",
    "\n",
    "각도 $\\theta$가 90도이면 코사인 유사도는 0"
   ]
  },
  {
   "cell_type": "markdown",
   "id": "polar-supervisor",
   "metadata": {},
   "source": [
    "$$\\cos\\theta = \\dfrac{x \\cdot y}{|x| |y|}$$"
   ]
  },
  {
   "cell_type": "markdown",
   "id": "impossible-arrest",
   "metadata": {},
   "source": [
    "- 사용자 $u, v$간의 코사인 유사도"
   ]
  },
  {
   "cell_type": "markdown",
   "id": "gross-catalog",
   "metadata": {},
   "source": [
    "$$\\text{cosine_sim}(u, v) = \\frac{\n",
    "\\sum\\limits_{i \\in I_{uv}} r(u,i) \\cdot r(v,i)}\n",
    "{\\sqrt{\\sum\\limits_{i \\in I_{uv}} r(u,i)^2} \\cdot\n",
    "\\sqrt{\\sum\\limits_{i \\in I_{uv}} r(v,i)^2}\n",
    "}$$"
   ]
  },
  {
   "cell_type": "markdown",
   "id": "activated-surface",
   "metadata": {},
   "source": [
    "- 상품 $i$와 상품 $j$간의 코사인 유사도"
   ]
  },
  {
   "cell_type": "markdown",
   "id": "appropriate-perth",
   "metadata": {},
   "source": [
    "$$\\text{cosine_sim}(i, j) = \\frac{\n",
    "\\sum\\limits_{u \\in U_{ij}} r(u,i) \\cdot r(u,j)}\n",
    "{\\sqrt{\\sum\\limits_{u \\in U_{ij}} r(u,i)^2} \\cdot\n",
    "\\sqrt{\\sum\\limits_{u \\in U_{ij}} r(u,j)^2}\n",
    "}$$"
   ]
  },
  {
   "cell_type": "code",
   "execution_count": null,
   "id": "following-knowing",
   "metadata": {
    "ExecuteTime": {
     "end_time": "2021-11-07T01:45:12.394430Z",
     "start_time": "2021-11-07T01:45:10.814Z"
    }
   },
   "outputs": [],
   "source": [
    "# 코사인 유사도를 이용한 CF\n",
    "\n",
    "sim_option = {'name':'cosine'}\n",
    "algo = surprise.KNNBasic(sim_option=sim_option) # 디폴트는 user-based\n",
    "cross_validate(algo, data)['test_mae'].mean()"
   ]
  },
  {
   "cell_type": "markdown",
   "id": "moved-raise",
   "metadata": {},
   "source": [
    "# Pearson Similarity"
   ]
  },
  {
   "cell_type": "markdown",
   "id": "olive-cabin",
   "metadata": {},
   "source": [
    "피어슨 유사도(Pearson Similarity)는 두 벡터의 상관계수를 의마하며 다음과 같이 정의한다."
   ]
  },
  {
   "cell_type": "markdown",
   "id": "average-venezuela",
   "metadata": {},
   "source": [
    "- 사용자 $u, v$간의 피어슨 유사도"
   ]
  },
  {
   "cell_type": "markdown",
   "id": "second-danger",
   "metadata": {},
   "source": [
    "$$\\text{pearson_sim}(u, v) = \\frac{\n",
    "\\sum\\limits_{i \\in I_{uv}} (r(u,i) -  \\mu(u)) \\cdot (r(v,i) - \\mu(v))}\n",
    "{\\sqrt{\\sum\\limits_{i \\in I_{uv}} (r(u,i) -  \\mu(u))^2} \\cdot\n",
    "\\sqrt{\\sum\\limits_{i \\in I_{uv}} (r(v,i) -  \\mu(v))^2}\n",
    "}$$"
   ]
  },
  {
   "cell_type": "markdown",
   "id": "necessary-paris",
   "metadata": {},
   "source": [
    "- $\\mu(u)$ = 사용자 $u$의 평균 평점"
   ]
  },
  {
   "cell_type": "markdown",
   "id": "independent-grain",
   "metadata": {},
   "source": [
    "- 상품 $i, j$간의 피어슨 유사도"
   ]
  },
  {
   "cell_type": "markdown",
   "id": "corporate-toner",
   "metadata": {},
   "source": [
    "$$\\text{pearson_sim}(i, j) = \\frac{\n",
    "\\sum\\limits_{u \\in U_{ij}} (r(u,i) -  \\mu(i)) \\cdot (r(u,j) - \\mu(j))}\n",
    "{\\sqrt{\\sum\\limits_{u \\in U_{ij}} (r(u,i) -  \\mu(i))^2} \\cdot\n",
    "\\sqrt{\\sum\\limits_{u \\in U_{ij}} (r(u,j) -  \\mu(j))^2}\n",
    "}$$"
   ]
  },
  {
   "cell_type": "markdown",
   "id": "hindu-commitment",
   "metadata": {},
   "source": [
    "- $\\mu(i)$ = 상품 $i$의 평균 평점"
   ]
  },
  {
   "cell_type": "markdown",
   "id": "pursuant-anniversary",
   "metadata": {},
   "source": [
    "피어슨 유사도는 상관계수를 이용하기에 가장 높은 값이 1이고 무상관인 경우가 0에 해당한다."
   ]
  },
  {
   "cell_type": "code",
   "execution_count": null,
   "id": "elementary-tomorrow",
   "metadata": {
    "ExecuteTime": {
     "end_time": "2021-11-07T01:45:12.395391Z",
     "start_time": "2021-11-07T01:45:10.823Z"
    }
   },
   "outputs": [],
   "source": [
    "sim_options = {'name': 'pearson'}\n",
    "algo = surprise.KNNBasic(sim_options=sim_options)\n",
    "cross_validate(algo, data)[\"test_mae\"].mean()"
   ]
  },
  {
   "cell_type": "markdown",
   "id": "timely-sport",
   "metadata": {},
   "source": [
    "# Pearson-Baseline Similarity"
   ]
  },
  {
   "cell_type": "markdown",
   "id": "leading-summer",
   "metadata": {},
   "source": [
    "피어슨-베이스라인(Pearson-Baseline Similarity) 유사도는 피어슨 유사도와 같이 상관계를 구하지만 각 벡터의 기대삾을 단순 평균이 아닌 베이스라인 모형에서 예측한 값을 이용한다는 차이점이 있다."
   ]
  },
  {
   "cell_type": "markdown",
   "id": "material-runner",
   "metadata": {},
   "source": [
    "- 사용자 $u, v$간의 MSD"
   ]
  },
  {
   "cell_type": "markdown",
   "id": "attractive-tours",
   "metadata": {},
   "source": [
    "$$\\text{pearson_baseline_sim}(u, v) = \\hat{\\rho}_{uv} = \\frac{\n",
    "\\sum\\limits_{i \\in I_{uv}} (r(u,i) -  b(u,i)) \\cdot (r(v,i) - b(v,i))}\n",
    "{\\sqrt{\\sum\\limits_{i \\in I_{uv}} (r(u,i) -  b(u,i))^2} \\cdot\n",
    "\\sqrt{\\sum\\limits_{i \\in I_{uv}} (r(v,i) -  b(v,i))^2}}$$"
   ]
  },
  {
   "cell_type": "markdown",
   "id": "owned-dynamics",
   "metadata": {},
   "source": [
    "- 상품 $i, j$간의 MSD"
   ]
  },
  {
   "cell_type": "markdown",
   "id": "genuine-albuquerque",
   "metadata": {},
   "source": [
    "$$\\text{pearson_baseline_sim}(i, j) = \\hat{\\rho}_{ij} = \\frac{\n",
    "\\sum\\limits_{u \\in U_{ij}} (r(u,i) -  b(u,i)) \\cdot (r(u,j) - b(u,j))}\n",
    "{\\sqrt{\\sum\\limits_{u \\in U_{ij}} (r(u,i) -  b(u,i))^2} \\cdot\n",
    "\\sqrt{\\sum\\limits_{u \\in U_{ij}} (r(u,j) -  b(u,j))^2}}$$"
   ]
  },
  {
   "cell_type": "markdown",
   "id": "optical-resistance",
   "metadata": {},
   "source": [
    "피어슨-베이스라인 유사도는 두 사용자나 상품에 공통적으로 있는 평점 원소의 갯수를 이용해 정규화를 수행하는 shrinkage를 추가하여 사용한다."
   ]
  },
  {
   "cell_type": "markdown",
   "id": "changing-craft",
   "metadata": {},
   "source": [
    "$$\\begin{split}\\text{pearson_baseline_shrunk_sim}(u, v) &= \\frac{|I_{uv}| - 1}\n",
    "{|I_{uv}| - 1 + \\text{shrinkage}} \\cdot \\hat{\\rho}_{uv}\\end{split}$$"
   ]
  },
  {
   "cell_type": "markdown",
   "id": "featured-colleague",
   "metadata": {},
   "source": [
    "$$\\begin{split}\\text{pearson_baseline_shrunk_sim}(i, j) &= \\frac{|U_{ij}| - 1}\n",
    "{|U_{ij}| - 1 + \\text{shrinkage}} \\cdot \\hat{\\rho}_{ij}\\end{split}$$"
   ]
  },
  {
   "cell_type": "code",
   "execution_count": null,
   "id": "distinct-supervision",
   "metadata": {
    "ExecuteTime": {
     "end_time": "2021-11-07T01:45:12.397387Z",
     "start_time": "2021-11-07T01:45:10.831Z"
    }
   },
   "outputs": [],
   "source": [
    "sim_options = {'name': 'pearson_baseline'}\n",
    "algo = surprise.KNNBasic(sim_options=sim_options)\n",
    "cross_validate(algo, data)[\"test_mae\"].mean()"
   ]
  },
  {
   "cell_type": "markdown",
   "id": "responsible-solution",
   "metadata": {
    "ExecuteTime": {
     "end_time": "2021-10-01T05:20:32.524852Z",
     "start_time": "2021-10-01T05:20:32.507937Z"
    }
   },
   "source": [
    "# KNN 가중치 예측 방법"
   ]
  },
  {
   "cell_type": "markdown",
   "id": "bacterial-falls",
   "metadata": {},
   "source": [
    "위의 다양한 유사도를 이용해 평점을 예측하고자 하는 사용자 혹은 상품과 유사도가 큰 $k$개의 벡터를 사용해 최종적으로 가중평균을 내어 rate matrix의 빈 공간을 예측한다."
   ]
  },
  {
   "cell_type": "markdown",
   "id": "jewish-thriller",
   "metadata": {},
   "source": [
    "이를 KNN(K Nearest Neighbors)기반 예측 방법이라고 한다."
   ]
  },
  {
   "cell_type": "markdown",
   "id": "lyric-longitude",
   "metadata": {},
   "source": [
    "- KNNBasic\n",
    "    - 평점들을 단순히 가중평균한다.\n",
    "\n",
    "- KNNWithMeans\n",
    "    - 평점들을 평균값 기준으로 가중평균한다.\n",
    "    \n",
    "- KNNBaseline\n",
    "    - 평점들을 베이스라인 모형의 값 기준으로 가중평균한다."
   ]
  },
  {
   "cell_type": "markdown",
   "id": "boxed-hunter",
   "metadata": {},
   "source": [
    "# Latent Factor Model"
   ]
  },
  {
   "cell_type": "markdown",
   "id": "measured-ratio",
   "metadata": {},
   "source": [
    "Latent Factor Model은 사용자의 특성이나 상품 특성을 몇 개의 요인으로 간략화한다는 가정에서 출발한 모형이다."
   ]
  },
  {
   "cell_type": "markdown",
   "id": "indirect-vegetarian",
   "metadata": {},
   "source": [
    "PCA(Principle Component Analysis)를 사용해 긴 특성 벡터를 소수의 차원으로 차원 축소하듯이 사용자의 특성도 차원 축소가 가능하다."
   ]
  },
  {
   "cell_type": "markdown",
   "id": "meaningful-kinase",
   "metadata": {},
   "source": [
    "영화에 대한 평점을 주는 경우 코미디, 액션, 드라마 등 몇개의 장르 요인에 있어서 사용자가 특정한 장르 요소에 더 많은 점수를 주거나 적게 준다고 한다면 해당 사용자의 그 영화에 대한 평점은 사용자의 장르 요인에 대한 벡터와 영화의 장르 요인 벡터의 내적으로 표시할 수 있다."
   ]
  },
  {
   "cell_type": "markdown",
   "id": "dutch-canyon",
   "metadata": {},
   "source": [
    "만약 어떤 사람은 액션은 싫어하고(-1) 코미디(2)나 드라마(3)을 좋아한다면 이 사람의 요인 벡터는 다음과 같다."
   ]
  },
  {
   "cell_type": "markdown",
   "id": "outside-precipitation",
   "metadata": {},
   "source": [
    "$$p(u)^T = (-1, 2, 3)$$"
   ]
  },
  {
   "cell_type": "markdown",
   "id": "aquatic-light",
   "metadata": {},
   "source": [
    "이 사람이 아직 보지 않은 새로운 영화의 요소가 액션(2), 코미디(1), 드라마(1)이라면 평점은 다음과 같이 내적으로 표시될 수 있다."
   ]
  },
  {
   "cell_type": "markdown",
   "id": "corresponding-southeast",
   "metadata": {},
   "source": [
    "$$q(i)^T = (2, 1, 1)$$"
   ]
  },
  {
   "cell_type": "markdown",
   "id": "upset-trinity",
   "metadata": {},
   "source": [
    "$$r(u,i) = q(i)^Tp(u) = -1 \\cdot 2 + 2 \\cdot 1 + 3 \\cdot 1 = 3$$"
   ]
  },
  {
   "cell_type": "code",
   "execution_count": null,
   "id": "banned-winter",
   "metadata": {
    "ExecuteTime": {
     "end_time": "2021-11-07T01:45:12.398411Z",
     "start_time": "2021-11-07T01:45:10.840Z"
    }
   },
   "outputs": [],
   "source": [
    "p = np.array([[-1], [2], [3]])\n",
    "q = np.array([[2], [1], [1]])\n",
    "\n",
    "p.T @ q"
   ]
  },
  {
   "cell_type": "markdown",
   "id": "cross-testimony",
   "metadata": {},
   "source": [
    "# Matrix Factorization"
   ]
  },
  {
   "cell_type": "markdown",
   "id": "forty-devon",
   "metadata": {},
   "source": [
    "Matrix Factorization 방법은 모든 사용자와 상품에 대해 다음과 같은 오차 함수를 최소화하는 요인 벡터를 찾는 것이다."
   ]
  },
  {
   "cell_type": "markdown",
   "id": "treated-spirit",
   "metadata": {},
   "source": [
    "$$R \\approx PQ^T$$"
   ]
  },
  {
   "cell_type": "markdown",
   "id": "perfect-causing",
   "metadata": {},
   "source": [
    "- $R \\in R^{m \\times n}$ : $m$사용자와 $n$상품의 평점행렬\n",
    "- $P \\in R^{m \\times k}$ : $m$사용자와 $k$ 요인의 관계 행렬\n",
    "- $Q \\in R^{m \\times k}$ : $n$상품과 $k$ 요인의 관계 행렬"
   ]
  },
  {
   "cell_type": "markdown",
   "id": "residential-uganda",
   "metadata": {},
   "source": [
    "# SVD(Singular Value Decomposition)"
   ]
  },
  {
   "cell_type": "markdown",
   "id": "agreed-program",
   "metadata": {},
   "source": [
    "SVD(특이값 분해)는 Matrix Factorization 문제를 해결하기 위한 방법 중 하나이다."
   ]
  },
  {
   "cell_type": "markdown",
   "id": "tight-bosnia",
   "metadata": {},
   "source": [
    "다음과 같이 $m \\times n$ 크기의 평점행렬 $R$을 세 행렬의 곱으로 나타내는 특이값 분해를 진행한다."
   ]
  },
  {
   "cell_type": "markdown",
   "id": "alternative-calcium",
   "metadata": {},
   "source": [
    "$$R = U\\Sigma V^T$$"
   ]
  },
  {
   "attachments": {
    "image.png": {
     "image/png": "[encoded data removed]"
    }
   },
   "cell_type": "markdown",
   "id": "beginning-mustang",
   "metadata": {},
   "source": [
    "![image.png](attachment:image.png)"
   ]
  },
  {
   "cell_type": "markdown",
   "id": "casual-building",
   "metadata": {},
   "source": [
    "여기서 Singular Value($\\Sigma$)는 항상 양수이기에 루트를 이용해 다음과 같이 둘로 분리할 수 있다."
   ]
  },
  {
   "cell_type": "markdown",
   "id": "prescribed-fence",
   "metadata": {},
   "source": [
    "$$R = U\\sqrt{\\Sigma}\\sqrt{\\Sigma}^T V^T$$"
   ]
  },
  {
   "cell_type": "markdown",
   "id": "floating-south",
   "metadata": {},
   "source": [
    "위 식에서 $U\\sqrt{\\Sigma}$를 $Q$, $\\sqrt{\\Sigma}^T VT$를 $P$로 가져가면 SVD를 통해 $R = PQ^T$로 표현할 수 있다."
   ]
  },
  {
   "cell_type": "markdown",
   "id": "coordinated-likelihood",
   "metadata": {
    "ExecuteTime": {
     "end_time": "2021-10-01T05:49:18.246928Z",
     "start_time": "2021-10-01T05:49:18.231962Z"
    }
   },
   "source": [
    "여기서 중요한점은 모든 $P, Q$를 사용하지 않고 $\\Sigma$의 대각 성분인 특이치 값이 가장 큰 $k$개의 특이치를 사용하여 (Truncated SVD)로 $R$을 만드는 것이다. 이렇게 채워진 $R$을 이용해 Imputation을 진행한다."
   ]
  },
  {
   "attachments": {
    "image.png": {
     "image/png": "[encoded data removed]"
    }
   },
   "cell_type": "markdown",
   "id": "handy-delicious",
   "metadata": {},
   "source": [
    "![image.png](attachment:image.png)"
   ]
  },
  {
   "cell_type": "markdown",
   "id": "cloudy-estonia",
   "metadata": {},
   "source": [
    "- U^ 는 U에서 가장 값이 큰 k개의 특이치에 대응하는 k개의 성분만을 남긴 m×k 크기의 행렬\n",
    "\n",
    "- Σ^ 는 가장 값이 큰 k개의 특이치에 대응하는 k개의 성분만을 남긴 k×k 크기의 대각 행렬\n",
    "\n",
    "- V^ 는 V에서 가장 값이 큰 k개의 특이치에 대응하는 k개의 성분만을 남긴 k×n 크기의 행렬"
   ]
  },
  {
   "cell_type": "markdown",
   "id": "numeric-hearing",
   "metadata": {},
   "source": [
    "$$\\hat{U} \\hat{\\Sigma} \\hat{V}^T =  \\hat{R} \\approx R$$"
   ]
  },
  {
   "cell_type": "markdown",
   "id": "explicit-today",
   "metadata": {},
   "source": [
    "하지만 평점 행렬은 대부분 희소행렬(sparse matrix)로 SVD를 바로 적용하기 힘들어 행렬 $P, Q$는 다음과 같은 모형에 대해 오차함수를 최소화하여 구하게 된다."
   ]
  },
  {
   "cell_type": "markdown",
   "id": "parliamentary-driver",
   "metadata": {},
   "source": [
    "$$\\hat{r}(u,i) = \\mu + b(u) + b(i) + q(i)^Tp(u)$$"
   ]
  },
  {
   "cell_type": "markdown",
   "id": "ideal-sensitivity",
   "metadata": {},
   "source": [
    "$$\\sum_{u,i \\in R_{train}} \\left(r(u,i) - \\hat{r}(u,i) \\right)^2 +\n",
    "\\lambda\\left(b(i)^2 + b(u)^2 + ||q(i)||^2 + ||p(u)||^2\\right)$$"
   ]
  },
  {
   "cell_type": "code",
   "execution_count": null,
   "id": "norman-swimming",
   "metadata": {
    "ExecuteTime": {
     "end_time": "2021-11-07T01:45:12.399381Z",
     "start_time": "2021-11-07T01:45:10.857Z"
    }
   },
   "outputs": [],
   "source": [
    "algo = surprise.SVD(n_factors=100)\n",
    "cross_validate(algo, data)['test_mae'].mean()"
   ]
  },
  {
   "cell_type": "markdown",
   "id": "relative-world",
   "metadata": {},
   "source": [
    "# NMF(Non-negative matrix factorization)"
   ]
  },
  {
   "cell_type": "markdown",
   "id": "decimal-powell",
   "metadata": {},
   "source": [
    "SVD 대신 바로 2개의 행렬로 쪼개는 방법을 이용한 방법이다."
   ]
  },
  {
   "cell_type": "code",
   "execution_count": null,
   "id": "inner-investigation",
   "metadata": {
    "ExecuteTime": {
     "end_time": "2021-11-07T01:45:12.400378Z",
     "start_time": "2021-11-07T01:45:10.860Z"
    }
   },
   "outputs": [],
   "source": [
    "algo = surprise.NMF(n_factors=100)\n",
    "cross_validate(algo, data)[\"test_mae\"].mean()"
   ]
  },
  {
   "cell_type": "markdown",
   "id": "surface-positive",
   "metadata": {},
   "source": [
    "# test, predict"
   ]
  },
  {
   "cell_type": "markdown",
   "id": "sunset-appendix",
   "metadata": {},
   "source": [
    "test는 다음과 같이 사용하며 모든 테스트 데이터에 대한 평점 예측을 반환한다."
   ]
  },
  {
   "cell_type": "code",
   "execution_count": null,
   "id": "reverse-smooth",
   "metadata": {
    "ExecuteTime": {
     "end_time": "2021-11-07T01:45:12.401376Z",
     "start_time": "2021-11-07T01:45:10.864Z"
    }
   },
   "outputs": [],
   "source": [
    "from surprise.model_selection import train_test_split\n",
    "train, test = train_test_split(data, test_size=0.25,\n",
    "                              random_state=42)\n",
    "pred = algo.test(test)\n",
    "pred[:10]"
   ]
  },
  {
   "cell_type": "markdown",
   "id": "afraid-charity",
   "metadata": {},
   "source": [
    "predict는 예측하고 싶은 하나의 사용자와 아이템을 인자로 받아 하나의 예측값만을 반환한다."
   ]
  },
  {
   "cell_type": "code",
   "execution_count": null,
   "id": "awful-exception",
   "metadata": {
    "ExecuteTime": {
     "end_time": "2021-11-07T01:45:12.402372Z",
     "start_time": "2021-11-07T01:45:10.869Z"
    }
   },
   "outputs": [],
   "source": [
    "df_pivot.iloc[0, 3:10]"
   ]
  },
  {
   "cell_type": "code",
   "execution_count": null,
   "id": "unlimited-genius",
   "metadata": {
    "ExecuteTime": {
     "end_time": "2021-11-07T01:45:12.404367Z",
     "start_time": "2021-11-07T01:45:10.872Z"
    }
   },
   "outputs": [],
   "source": [
    "iids = range(1000, 1007)\n",
    "\n",
    "for iid in iids:\n",
    "    uid = str(1)\n",
    "    iid = str(iid)\n",
    "    print(algo.predict(uid, iid))"
   ]
  },
  {
   "cell_type": "code",
   "execution_count": null,
   "id": "upper-northern",
   "metadata": {},
   "outputs": [],
   "source": []
  },
  {
   "cell_type": "code",
   "execution_count": null,
   "id": "noticed-growth",
   "metadata": {},
   "outputs": [],
   "source": []
  },
  {
   "cell_type": "code",
   "execution_count": null,
   "id": "subsequent-shelf",
   "metadata": {},
   "outputs": [],
   "source": []
  },
  {
   "cell_type": "markdown",
   "id": "equivalent-fiction",
   "metadata": {},
   "source": [
    "# 모델 성능 종합"
   ]
  },
  {
   "cell_type": "code",
   "execution_count": 117,
   "id": "devoted-fundamental",
   "metadata": {
    "ExecuteTime": {
     "end_time": "2021-11-07T02:33:03.482580Z",
     "start_time": "2021-11-07T02:33:03.471609Z"
    }
   },
   "outputs": [],
   "source": [
    "from surprise.model_selection import KFold\n",
    "\n",
    "def get_metrics(algo):\n",
    "    \n",
    "    np.random.seed(0)\n",
    "    rmse = np.zeros(3)\n",
    "    mae = np.zeros(3)\n",
    "    fcp = np.zeros(3)\n",
    "    cv = KFold(3)\n",
    "\n",
    "    for i, (trainset, testset) in enumerate(cv.split(data)):\n",
    "        algo.fit(trainset)\n",
    "        predictions = algo.test(testset)\n",
    "        rmse[i] = surprise.accuracy.rmse(predictions, verbose=True)\n",
    "        mae[i] = surprise.accuracy.mae(predictions, verbose=True)\n",
    "        fcp[i] = surprise.accuracy.fcp(predictions, verbose=True)\n",
    "    model_name = str(algo).split('.')[2]\n",
    "    rmse_mean = np.mean(rmse)\n",
    "    mae_mean = np.mean(mae)\n",
    "    fcp_mean = np.mean(fcp)\n",
    "    return pd.DataFrame({'model_name':[model_name],\n",
    "             'rmse':[rmse_mean],\n",
    "             'mae':[mae_mean],\n",
    "             'fcp':[fcp_mean]})"
   ]
  },
  {
   "cell_type": "code",
   "execution_count": 118,
   "id": "nuclear-rehabilitation",
   "metadata": {
    "ExecuteTime": {
     "end_time": "2021-11-07T02:33:08.661064Z",
     "start_time": "2021-11-07T02:33:06.286710Z"
    }
   },
   "outputs": [
    {
     "name": "stdout",
     "output_type": "stream",
     "text": [
      "Estimating biases using als...\n",
      "RMSE: 0.9453\n",
      "MAE:  0.7488\n",
      "FCP:  0.6972\n",
      "Estimating biases using als...\n",
      "RMSE: 0.9377\n",
      "MAE:  0.7427\n",
      "FCP:  0.7078\n",
      "Estimating biases using als...\n",
      "RMSE: 0.9500\n",
      "MAE:  0.7531\n",
      "FCP:  0.7014\n"
     ]
    },
    {
     "data": {
      "text/html": [
       "<div>\n",
       "<style scoped>\n",
       "    .dataframe tbody tr th:only-of-type {\n",
       "        vertical-align: middle;\n",
       "    }\n",
       "\n",
       "    .dataframe tbody tr th {\n",
       "        vertical-align: top;\n",
       "    }\n",
       "\n",
       "    .dataframe thead th {\n",
       "        text-align: right;\n",
       "    }\n",
       "</style>\n",
       "<table border=\"1\" class=\"dataframe\">\n",
       "  <thead>\n",
       "    <tr style=\"text-align: right;\">\n",
       "      <th></th>\n",
       "      <th>model_name</th>\n",
       "      <th>rmse</th>\n",
       "      <th>mae</th>\n",
       "      <th>fcp</th>\n",
       "    </tr>\n",
       "  </thead>\n",
       "  <tbody>\n",
       "    <tr>\n",
       "      <th>0</th>\n",
       "      <td>baseline_only</td>\n",
       "      <td>0.94433</td>\n",
       "      <td>0.748174</td>\n",
       "      <td>0.70217</td>\n",
       "    </tr>\n",
       "  </tbody>\n",
       "</table>\n",
       "</div>"
      ],
      "text/plain": [
       "      model_name     rmse       mae      fcp\n",
       "0  baseline_only  0.94433  0.748174  0.70217"
      ]
     },
     "execution_count": 118,
     "metadata": {},
     "output_type": "execute_result"
    }
   ],
   "source": [
    "# 베이스라인 모델\n",
    "\n",
    "# 베이스라인 모델에 사용할 파라미터 정의\n",
    "bsl_options = {\n",
    "    'method' : 'als',\n",
    "    'n_epochs' : 5,\n",
    "    'reg_u' : 12,\n",
    "    'reg_i' : 5\n",
    "}\n",
    "\n",
    "# 베이스라인 모델 생성\n",
    "algo = surprise.BaselineOnly(bsl_options)\n",
    "df = get_metrics(algo)\n",
    "df"
   ]
  },
  {
   "cell_type": "code",
   "execution_count": 119,
   "id": "iraqi-transport",
   "metadata": {
    "ExecuteTime": {
     "end_time": "2021-11-07T02:33:27.655293Z",
     "start_time": "2021-11-07T02:33:11.943327Z"
    }
   },
   "outputs": [
    {
     "name": "stdout",
     "output_type": "stream",
     "text": [
      "Computing the msd similarity matrix...\n",
      "Done computing similarity matrix.\n",
      "RMSE: 0.9941\n",
      "MAE:  0.7841\n",
      "FCP:  0.7087\n",
      "Computing the msd similarity matrix...\n",
      "Done computing similarity matrix.\n",
      "RMSE: 0.9832\n",
      "MAE:  0.7760\n",
      "FCP:  0.7149\n",
      "Computing the msd similarity matrix...\n",
      "Done computing similarity matrix.\n",
      "RMSE: 0.9926\n",
      "MAE:  0.7857\n",
      "FCP:  0.7105\n"
     ]
    },
    {
     "data": {
      "text/html": [
       "<div>\n",
       "<style scoped>\n",
       "    .dataframe tbody tr th:only-of-type {\n",
       "        vertical-align: middle;\n",
       "    }\n",
       "\n",
       "    .dataframe tbody tr th {\n",
       "        vertical-align: top;\n",
       "    }\n",
       "\n",
       "    .dataframe thead th {\n",
       "        text-align: right;\n",
       "    }\n",
       "</style>\n",
       "<table border=\"1\" class=\"dataframe\">\n",
       "  <thead>\n",
       "    <tr style=\"text-align: right;\">\n",
       "      <th></th>\n",
       "      <th>model_name</th>\n",
       "      <th>rmse</th>\n",
       "      <th>mae</th>\n",
       "      <th>fcp</th>\n",
       "    </tr>\n",
       "  </thead>\n",
       "  <tbody>\n",
       "    <tr>\n",
       "      <th>0</th>\n",
       "      <td>baseline_only</td>\n",
       "      <td>0.944330</td>\n",
       "      <td>0.748174</td>\n",
       "      <td>0.702170</td>\n",
       "    </tr>\n",
       "    <tr>\n",
       "      <th>0</th>\n",
       "      <td>knns</td>\n",
       "      <td>0.989935</td>\n",
       "      <td>0.781954</td>\n",
       "      <td>0.711397</td>\n",
       "    </tr>\n",
       "  </tbody>\n",
       "</table>\n",
       "</div>"
      ],
      "text/plain": [
       "      model_name      rmse       mae       fcp\n",
       "0  baseline_only  0.944330  0.748174  0.702170\n",
       "0           knns  0.989935  0.781954  0.711397"
      ]
     },
     "execution_count": 119,
     "metadata": {},
     "output_type": "execute_result"
    }
   ],
   "source": [
    "# MSD를 이용한 CF\n",
    "\n",
    "sim_option = {'name':'msd'}\n",
    "algo = surprise.KNNBasic(sim_option=sim_option) # 디폴트는 user-based\n",
    "df = df.append(get_metrics(algo))\n",
    "df"
   ]
  },
  {
   "cell_type": "code",
   "execution_count": 120,
   "id": "velvet-terminal",
   "metadata": {
    "ExecuteTime": {
     "end_time": "2021-11-07T02:33:33.266299Z",
     "start_time": "2021-11-07T02:33:33.239377Z"
    }
   },
   "outputs": [
    {
     "data": {
      "text/html": [
       "<div>\n",
       "<style scoped>\n",
       "    .dataframe tbody tr th:only-of-type {\n",
       "        vertical-align: middle;\n",
       "    }\n",
       "\n",
       "    .dataframe tbody tr th {\n",
       "        vertical-align: top;\n",
       "    }\n",
       "\n",
       "    .dataframe thead th {\n",
       "        text-align: right;\n",
       "    }\n",
       "</style>\n",
       "<table border=\"1\" class=\"dataframe\">\n",
       "  <thead>\n",
       "    <tr style=\"text-align: right;\">\n",
       "      <th></th>\n",
       "      <th>model_name</th>\n",
       "      <th>rmse</th>\n",
       "      <th>mae</th>\n",
       "      <th>fcp</th>\n",
       "    </tr>\n",
       "  </thead>\n",
       "  <tbody>\n",
       "    <tr>\n",
       "      <th>0</th>\n",
       "      <td>baseline_only</td>\n",
       "      <td>0.944330</td>\n",
       "      <td>0.748174</td>\n",
       "      <td>0.702170</td>\n",
       "    </tr>\n",
       "    <tr>\n",
       "      <th>0</th>\n",
       "      <td>msd</td>\n",
       "      <td>0.989935</td>\n",
       "      <td>0.781954</td>\n",
       "      <td>0.711397</td>\n",
       "    </tr>\n",
       "  </tbody>\n",
       "</table>\n",
       "</div>"
      ],
      "text/plain": [
       "      model_name      rmse       mae       fcp\n",
       "0  baseline_only  0.944330  0.748174  0.702170\n",
       "0            msd  0.989935  0.781954  0.711397"
      ]
     },
     "execution_count": 120,
     "metadata": {},
     "output_type": "execute_result"
    }
   ],
   "source": [
    "df.loc[df.model_name == 'knns', ('model_name')] = 'msd'\n",
    "df"
   ]
  },
  {
   "cell_type": "code",
   "execution_count": 121,
   "id": "genetic-heater",
   "metadata": {
    "ExecuteTime": {
     "end_time": "2021-11-07T02:34:01.794031Z",
     "start_time": "2021-11-07T02:33:46.585690Z"
    },
    "scrolled": true
   },
   "outputs": [
    {
     "name": "stdout",
     "output_type": "stream",
     "text": [
      "Computing the msd similarity matrix...\n",
      "Done computing similarity matrix.\n",
      "RMSE: 0.9941\n",
      "MAE:  0.7841\n",
      "FCP:  0.7087\n",
      "Computing the msd similarity matrix...\n",
      "Done computing similarity matrix.\n",
      "RMSE: 0.9832\n",
      "MAE:  0.7760\n",
      "FCP:  0.7149\n",
      "Computing the msd similarity matrix...\n",
      "Done computing similarity matrix.\n",
      "RMSE: 0.9926\n",
      "MAE:  0.7857\n",
      "FCP:  0.7105\n"
     ]
    },
    {
     "data": {
      "text/html": [
       "<div>\n",
       "<style scoped>\n",
       "    .dataframe tbody tr th:only-of-type {\n",
       "        vertical-align: middle;\n",
       "    }\n",
       "\n",
       "    .dataframe tbody tr th {\n",
       "        vertical-align: top;\n",
       "    }\n",
       "\n",
       "    .dataframe thead th {\n",
       "        text-align: right;\n",
       "    }\n",
       "</style>\n",
       "<table border=\"1\" class=\"dataframe\">\n",
       "  <thead>\n",
       "    <tr style=\"text-align: right;\">\n",
       "      <th></th>\n",
       "      <th>model_name</th>\n",
       "      <th>rmse</th>\n",
       "      <th>mae</th>\n",
       "      <th>fcp</th>\n",
       "    </tr>\n",
       "  </thead>\n",
       "  <tbody>\n",
       "    <tr>\n",
       "      <th>0</th>\n",
       "      <td>baseline_only</td>\n",
       "      <td>0.944330</td>\n",
       "      <td>0.748174</td>\n",
       "      <td>0.702170</td>\n",
       "    </tr>\n",
       "    <tr>\n",
       "      <th>0</th>\n",
       "      <td>msd</td>\n",
       "      <td>0.989935</td>\n",
       "      <td>0.781954</td>\n",
       "      <td>0.711397</td>\n",
       "    </tr>\n",
       "    <tr>\n",
       "      <th>0</th>\n",
       "      <td>cosine</td>\n",
       "      <td>0.989935</td>\n",
       "      <td>0.781954</td>\n",
       "      <td>0.711397</td>\n",
       "    </tr>\n",
       "  </tbody>\n",
       "</table>\n",
       "</div>"
      ],
      "text/plain": [
       "      model_name      rmse       mae       fcp\n",
       "0  baseline_only  0.944330  0.748174  0.702170\n",
       "0            msd  0.989935  0.781954  0.711397\n",
       "0         cosine  0.989935  0.781954  0.711397"
      ]
     },
     "execution_count": 121,
     "metadata": {},
     "output_type": "execute_result"
    }
   ],
   "source": [
    "# 코사인 유사도를 이용한 CF\n",
    "\n",
    "sim_option = {'name':'cosine'}\n",
    "algo = surprise.KNNBasic(sim_option=sim_option) # 디폴트는 user-based\n",
    "df = df.append(get_metrics(algo))\n",
    "df.loc[df.model_name == 'knns', ('model_name')] = 'cosine'\n",
    "df"
   ]
  },
  {
   "cell_type": "code",
   "execution_count": 122,
   "id": "velvet-shuttle",
   "metadata": {
    "ExecuteTime": {
     "end_time": "2021-11-07T02:35:09.082962Z",
     "start_time": "2021-11-07T02:34:50.652624Z"
    }
   },
   "outputs": [
    {
     "name": "stdout",
     "output_type": "stream",
     "text": [
      "Estimating biases using als...\n",
      "Computing the pearson_baseline similarity matrix...\n",
      "Done computing similarity matrix.\n",
      "RMSE: 1.0162\n",
      "MAE:  0.8022\n",
      "FCP:  0.7121\n",
      "Estimating biases using als...\n",
      "Computing the pearson_baseline similarity matrix...\n",
      "Done computing similarity matrix.\n",
      "RMSE: 1.0034\n",
      "MAE:  0.7930\n",
      "FCP:  0.7177\n",
      "Estimating biases using als...\n",
      "Computing the pearson_baseline similarity matrix...\n",
      "Done computing similarity matrix.\n",
      "RMSE: 1.0136\n",
      "MAE:  0.8032\n",
      "FCP:  0.7139\n"
     ]
    },
    {
     "data": {
      "text/html": [
       "<div>\n",
       "<style scoped>\n",
       "    .dataframe tbody tr th:only-of-type {\n",
       "        vertical-align: middle;\n",
       "    }\n",
       "\n",
       "    .dataframe tbody tr th {\n",
       "        vertical-align: top;\n",
       "    }\n",
       "\n",
       "    .dataframe thead th {\n",
       "        text-align: right;\n",
       "    }\n",
       "</style>\n",
       "<table border=\"1\" class=\"dataframe\">\n",
       "  <thead>\n",
       "    <tr style=\"text-align: right;\">\n",
       "      <th></th>\n",
       "      <th>model_name</th>\n",
       "      <th>rmse</th>\n",
       "      <th>mae</th>\n",
       "      <th>fcp</th>\n",
       "    </tr>\n",
       "  </thead>\n",
       "  <tbody>\n",
       "    <tr>\n",
       "      <th>0</th>\n",
       "      <td>baseline_only</td>\n",
       "      <td>0.944330</td>\n",
       "      <td>0.748174</td>\n",
       "      <td>0.702170</td>\n",
       "    </tr>\n",
       "    <tr>\n",
       "      <th>0</th>\n",
       "      <td>msd</td>\n",
       "      <td>0.989935</td>\n",
       "      <td>0.781954</td>\n",
       "      <td>0.711397</td>\n",
       "    </tr>\n",
       "    <tr>\n",
       "      <th>0</th>\n",
       "      <td>cosine</td>\n",
       "      <td>0.989935</td>\n",
       "      <td>0.781954</td>\n",
       "      <td>0.711397</td>\n",
       "    </tr>\n",
       "    <tr>\n",
       "      <th>0</th>\n",
       "      <td>pearson</td>\n",
       "      <td>1.011054</td>\n",
       "      <td>0.799487</td>\n",
       "      <td>0.714558</td>\n",
       "    </tr>\n",
       "  </tbody>\n",
       "</table>\n",
       "</div>"
      ],
      "text/plain": [
       "      model_name      rmse       mae       fcp\n",
       "0  baseline_only  0.944330  0.748174  0.702170\n",
       "0            msd  0.989935  0.781954  0.711397\n",
       "0         cosine  0.989935  0.781954  0.711397\n",
       "0        pearson  1.011054  0.799487  0.714558"
      ]
     },
     "execution_count": 122,
     "metadata": {},
     "output_type": "execute_result"
    }
   ],
   "source": [
    "# 피어슨 베이스라인\n",
    "\n",
    "sim_options = {'name': 'pearson_baseline'}\n",
    "algo = surprise.KNNBasic(sim_options=sim_options)\n",
    "df = df.append(get_metrics(algo))\n",
    "df.loc[df.model_name == 'knns', ('model_name')] = 'pearson'\n",
    "df"
   ]
  },
  {
   "cell_type": "code",
   "execution_count": 123,
   "id": "russian-bahrain",
   "metadata": {
    "ExecuteTime": {
     "end_time": "2021-11-07T02:36:07.655384Z",
     "start_time": "2021-11-07T02:35:55.237457Z"
    }
   },
   "outputs": [
    {
     "name": "stdout",
     "output_type": "stream",
     "text": [
      "RMSE: 0.9480\n",
      "MAE:  0.7480\n",
      "FCP:  0.6910\n",
      "RMSE: 0.9392\n",
      "MAE:  0.7420\n",
      "FCP:  0.7032\n",
      "RMSE: 0.9518\n",
      "MAE:  0.7510\n",
      "FCP:  0.6949\n"
     ]
    },
    {
     "data": {
      "text/html": [
       "<div>\n",
       "<style scoped>\n",
       "    .dataframe tbody tr th:only-of-type {\n",
       "        vertical-align: middle;\n",
       "    }\n",
       "\n",
       "    .dataframe tbody tr th {\n",
       "        vertical-align: top;\n",
       "    }\n",
       "\n",
       "    .dataframe thead th {\n",
       "        text-align: right;\n",
       "    }\n",
       "</style>\n",
       "<table border=\"1\" class=\"dataframe\">\n",
       "  <thead>\n",
       "    <tr style=\"text-align: right;\">\n",
       "      <th></th>\n",
       "      <th>model_name</th>\n",
       "      <th>rmse</th>\n",
       "      <th>mae</th>\n",
       "      <th>fcp</th>\n",
       "    </tr>\n",
       "  </thead>\n",
       "  <tbody>\n",
       "    <tr>\n",
       "      <th>0</th>\n",
       "      <td>baseline_only</td>\n",
       "      <td>0.944330</td>\n",
       "      <td>0.748174</td>\n",
       "      <td>0.702170</td>\n",
       "    </tr>\n",
       "    <tr>\n",
       "      <th>0</th>\n",
       "      <td>msd</td>\n",
       "      <td>0.989935</td>\n",
       "      <td>0.781954</td>\n",
       "      <td>0.711397</td>\n",
       "    </tr>\n",
       "    <tr>\n",
       "      <th>0</th>\n",
       "      <td>cosine</td>\n",
       "      <td>0.989935</td>\n",
       "      <td>0.781954</td>\n",
       "      <td>0.711397</td>\n",
       "    </tr>\n",
       "    <tr>\n",
       "      <th>0</th>\n",
       "      <td>pearson</td>\n",
       "      <td>1.011054</td>\n",
       "      <td>0.799487</td>\n",
       "      <td>0.714558</td>\n",
       "    </tr>\n",
       "    <tr>\n",
       "      <th>0</th>\n",
       "      <td>matrix_factorization</td>\n",
       "      <td>0.946315</td>\n",
       "      <td>0.747009</td>\n",
       "      <td>0.696355</td>\n",
       "    </tr>\n",
       "  </tbody>\n",
       "</table>\n",
       "</div>"
      ],
      "text/plain": [
       "             model_name      rmse       mae       fcp\n",
       "0         baseline_only  0.944330  0.748174  0.702170\n",
       "0                   msd  0.989935  0.781954  0.711397\n",
       "0                cosine  0.989935  0.781954  0.711397\n",
       "0               pearson  1.011054  0.799487  0.714558\n",
       "0  matrix_factorization  0.946315  0.747009  0.696355"
      ]
     },
     "execution_count": 123,
     "metadata": {},
     "output_type": "execute_result"
    }
   ],
   "source": [
    "# SVD\n",
    "\n",
    "algo = surprise.SVD(n_factors=100)\n",
    "df = df.append(get_metrics(algo))\n",
    "df"
   ]
  },
  {
   "cell_type": "code",
   "execution_count": 124,
   "id": "blank-denmark",
   "metadata": {
    "ExecuteTime": {
     "end_time": "2021-11-07T02:36:25.704234Z",
     "start_time": "2021-11-07T02:36:25.695257Z"
    }
   },
   "outputs": [],
   "source": [
    "df.loc[df.model_name == 'matrix_factorization', ('model_name')] = 'SVD'"
   ]
  },
  {
   "cell_type": "code",
   "execution_count": 126,
   "id": "certified-activity",
   "metadata": {
    "ExecuteTime": {
     "end_time": "2021-11-07T02:37:28.905458Z",
     "start_time": "2021-11-07T02:36:54.018725Z"
    }
   },
   "outputs": [
    {
     "name": "stdout",
     "output_type": "stream",
     "text": [
      "RMSE: 1.1017\n",
      "MAE:  0.8391\n",
      "FCP:  0.6910\n",
      "RMSE: 1.0966\n",
      "MAE:  0.8342\n",
      "FCP:  0.6978\n",
      "RMSE: 1.1002\n",
      "MAE:  0.8350\n",
      "FCP:  0.6965\n"
     ]
    },
    {
     "data": {
      "text/html": [
       "<div>\n",
       "<style scoped>\n",
       "    .dataframe tbody tr th:only-of-type {\n",
       "        vertical-align: middle;\n",
       "    }\n",
       "\n",
       "    .dataframe tbody tr th {\n",
       "        vertical-align: top;\n",
       "    }\n",
       "\n",
       "    .dataframe thead th {\n",
       "        text-align: right;\n",
       "    }\n",
       "</style>\n",
       "<table border=\"1\" class=\"dataframe\">\n",
       "  <thead>\n",
       "    <tr style=\"text-align: right;\">\n",
       "      <th></th>\n",
       "      <th>model_name</th>\n",
       "      <th>rmse</th>\n",
       "      <th>mae</th>\n",
       "      <th>fcp</th>\n",
       "    </tr>\n",
       "  </thead>\n",
       "  <tbody>\n",
       "    <tr>\n",
       "      <th>0</th>\n",
       "      <td>baseline_only</td>\n",
       "      <td>0.944330</td>\n",
       "      <td>0.748174</td>\n",
       "      <td>0.702170</td>\n",
       "    </tr>\n",
       "    <tr>\n",
       "      <th>0</th>\n",
       "      <td>msd</td>\n",
       "      <td>0.989935</td>\n",
       "      <td>0.781954</td>\n",
       "      <td>0.711397</td>\n",
       "    </tr>\n",
       "    <tr>\n",
       "      <th>0</th>\n",
       "      <td>cosine</td>\n",
       "      <td>0.989935</td>\n",
       "      <td>0.781954</td>\n",
       "      <td>0.711397</td>\n",
       "    </tr>\n",
       "    <tr>\n",
       "      <th>0</th>\n",
       "      <td>pearson</td>\n",
       "      <td>1.011054</td>\n",
       "      <td>0.799487</td>\n",
       "      <td>0.714558</td>\n",
       "    </tr>\n",
       "    <tr>\n",
       "      <th>0</th>\n",
       "      <td>SVD</td>\n",
       "      <td>0.946315</td>\n",
       "      <td>0.747009</td>\n",
       "      <td>0.696355</td>\n",
       "    </tr>\n",
       "    <tr>\n",
       "      <th>0</th>\n",
       "      <td>matrix_factorization</td>\n",
       "      <td>1.099537</td>\n",
       "      <td>0.836117</td>\n",
       "      <td>0.695118</td>\n",
       "    </tr>\n",
       "  </tbody>\n",
       "</table>\n",
       "</div>"
      ],
      "text/plain": [
       "             model_name      rmse       mae       fcp\n",
       "0         baseline_only  0.944330  0.748174  0.702170\n",
       "0                   msd  0.989935  0.781954  0.711397\n",
       "0                cosine  0.989935  0.781954  0.711397\n",
       "0               pearson  1.011054  0.799487  0.714558\n",
       "0                   SVD  0.946315  0.747009  0.696355\n",
       "0  matrix_factorization  1.099537  0.836117  0.695118"
      ]
     },
     "execution_count": 126,
     "metadata": {},
     "output_type": "execute_result"
    }
   ],
   "source": [
    "# NMF\n",
    "\n",
    "algo = surprise.NMF(n_factors=100)\n",
    "df = df.append(get_metrics(algo))\n",
    "df"
   ]
  },
  {
   "cell_type": "code",
   "execution_count": 127,
   "id": "seasonal-premium",
   "metadata": {
    "ExecuteTime": {
     "end_time": "2021-11-07T02:37:42.237442Z",
     "start_time": "2021-11-07T02:37:42.217490Z"
    }
   },
   "outputs": [
    {
     "data": {
      "text/html": [
       "<div>\n",
       "<style scoped>\n",
       "    .dataframe tbody tr th:only-of-type {\n",
       "        vertical-align: middle;\n",
       "    }\n",
       "\n",
       "    .dataframe tbody tr th {\n",
       "        vertical-align: top;\n",
       "    }\n",
       "\n",
       "    .dataframe thead th {\n",
       "        text-align: right;\n",
       "    }\n",
       "</style>\n",
       "<table border=\"1\" class=\"dataframe\">\n",
       "  <thead>\n",
       "    <tr style=\"text-align: right;\">\n",
       "      <th></th>\n",
       "      <th>model_name</th>\n",
       "      <th>rmse</th>\n",
       "      <th>mae</th>\n",
       "      <th>fcp</th>\n",
       "    </tr>\n",
       "  </thead>\n",
       "  <tbody>\n",
       "    <tr>\n",
       "      <th>0</th>\n",
       "      <td>baseline_only</td>\n",
       "      <td>0.944330</td>\n",
       "      <td>0.748174</td>\n",
       "      <td>0.702170</td>\n",
       "    </tr>\n",
       "    <tr>\n",
       "      <th>0</th>\n",
       "      <td>msd</td>\n",
       "      <td>0.989935</td>\n",
       "      <td>0.781954</td>\n",
       "      <td>0.711397</td>\n",
       "    </tr>\n",
       "    <tr>\n",
       "      <th>0</th>\n",
       "      <td>cosine</td>\n",
       "      <td>0.989935</td>\n",
       "      <td>0.781954</td>\n",
       "      <td>0.711397</td>\n",
       "    </tr>\n",
       "    <tr>\n",
       "      <th>0</th>\n",
       "      <td>pearson</td>\n",
       "      <td>1.011054</td>\n",
       "      <td>0.799487</td>\n",
       "      <td>0.714558</td>\n",
       "    </tr>\n",
       "    <tr>\n",
       "      <th>0</th>\n",
       "      <td>SVD</td>\n",
       "      <td>0.946315</td>\n",
       "      <td>0.747009</td>\n",
       "      <td>0.696355</td>\n",
       "    </tr>\n",
       "    <tr>\n",
       "      <th>0</th>\n",
       "      <td>NMF</td>\n",
       "      <td>1.099537</td>\n",
       "      <td>0.836117</td>\n",
       "      <td>0.695118</td>\n",
       "    </tr>\n",
       "  </tbody>\n",
       "</table>\n",
       "</div>"
      ],
      "text/plain": [
       "      model_name      rmse       mae       fcp\n",
       "0  baseline_only  0.944330  0.748174  0.702170\n",
       "0            msd  0.989935  0.781954  0.711397\n",
       "0         cosine  0.989935  0.781954  0.711397\n",
       "0        pearson  1.011054  0.799487  0.714558\n",
       "0            SVD  0.946315  0.747009  0.696355\n",
       "0            NMF  1.099537  0.836117  0.695118"
      ]
     },
     "execution_count": 127,
     "metadata": {},
     "output_type": "execute_result"
    }
   ],
   "source": [
    "df.loc[df.model_name == 'matrix_factorization', ('model_name')] = 'NMF'\n",
    "df"
   ]
  },
  {
   "cell_type": "code",
   "execution_count": 129,
   "id": "clear-training",
   "metadata": {
    "ExecuteTime": {
     "end_time": "2021-11-07T02:38:06.273505Z",
     "start_time": "2021-11-07T02:38:06.256548Z"
    }
   },
   "outputs": [
    {
     "data": {
      "text/html": [
       "<div>\n",
       "<style scoped>\n",
       "    .dataframe tbody tr th:only-of-type {\n",
       "        vertical-align: middle;\n",
       "    }\n",
       "\n",
       "    .dataframe tbody tr th {\n",
       "        vertical-align: top;\n",
       "    }\n",
       "\n",
       "    .dataframe thead th {\n",
       "        text-align: right;\n",
       "    }\n",
       "</style>\n",
       "<table border=\"1\" class=\"dataframe\">\n",
       "  <thead>\n",
       "    <tr style=\"text-align: right;\">\n",
       "      <th></th>\n",
       "      <th>model_name</th>\n",
       "      <th>rmse</th>\n",
       "      <th>mae</th>\n",
       "      <th>fcp</th>\n",
       "    </tr>\n",
       "  </thead>\n",
       "  <tbody>\n",
       "    <tr>\n",
       "      <th>0</th>\n",
       "      <td>NMF</td>\n",
       "      <td>1.099537</td>\n",
       "      <td>0.836117</td>\n",
       "      <td>0.695118</td>\n",
       "    </tr>\n",
       "    <tr>\n",
       "      <th>0</th>\n",
       "      <td>pearson</td>\n",
       "      <td>1.011054</td>\n",
       "      <td>0.799487</td>\n",
       "      <td>0.714558</td>\n",
       "    </tr>\n",
       "    <tr>\n",
       "      <th>0</th>\n",
       "      <td>msd</td>\n",
       "      <td>0.989935</td>\n",
       "      <td>0.781954</td>\n",
       "      <td>0.711397</td>\n",
       "    </tr>\n",
       "    <tr>\n",
       "      <th>0</th>\n",
       "      <td>cosine</td>\n",
       "      <td>0.989935</td>\n",
       "      <td>0.781954</td>\n",
       "      <td>0.711397</td>\n",
       "    </tr>\n",
       "    <tr>\n",
       "      <th>0</th>\n",
       "      <td>SVD</td>\n",
       "      <td>0.946315</td>\n",
       "      <td>0.747009</td>\n",
       "      <td>0.696355</td>\n",
       "    </tr>\n",
       "    <tr>\n",
       "      <th>0</th>\n",
       "      <td>baseline_only</td>\n",
       "      <td>0.944330</td>\n",
       "      <td>0.748174</td>\n",
       "      <td>0.702170</td>\n",
       "    </tr>\n",
       "  </tbody>\n",
       "</table>\n",
       "</div>"
      ],
      "text/plain": [
       "      model_name      rmse       mae       fcp\n",
       "0            NMF  1.099537  0.836117  0.695118\n",
       "0        pearson  1.011054  0.799487  0.714558\n",
       "0            msd  0.989935  0.781954  0.711397\n",
       "0         cosine  0.989935  0.781954  0.711397\n",
       "0            SVD  0.946315  0.747009  0.696355\n",
       "0  baseline_only  0.944330  0.748174  0.702170"
      ]
     },
     "execution_count": 129,
     "metadata": {},
     "output_type": "execute_result"
    }
   ],
   "source": [
    "df.sort_values(by='rmse', ascending=False)"
   ]
  }
 ],
 "metadata": {
  "kernelspec": {
   "display_name": "Python 3",
   "language": "python",
   "name": "python3"
  },
  "language_info": {
   "codemirror_mode": {
    "name": "ipython",
    "version": 3
   },
   "file_extension": ".py",
   "mimetype": "text/x-python",
   "name": "python",
   "nbconvert_exporter": "python",
   "pygments_lexer": "ipython3",
   "version": "3.7.10"
  },
  "nbTranslate": {
   "displayLangs": [
    "*"
   ],
   "hotkey": "alt-t",
   "langInMainMenu": true,
   "sourceLang": "en",
   "targetLang": "fr",
   "useGoogleTranslate": true
  },
  "toc": {
   "base_numbering": 1,
   "nav_menu": {},
   "number_sections": true,
   "sideBar": true,
   "skip_h1_title": false,
   "title_cell": "Table of Contents",
   "title_sidebar": "Contents",
   "toc_cell": false,
   "toc_position": {
    "height": "calc(100% - 180px)",
    "left": "10px",
    "top": "150px",
    "width": "303.825px"
   },
   "toc_section_display": true,
   "toc_window_display": true
  },
  "varInspector": {
   "cols": {
    "lenName": 16,
    "lenType": 16,
    "lenVar": 40
   },
   "kernels_config": {
    "python": {
     "delete_cmd_postfix": "",
     "delete_cmd_prefix": "del ",
     "library": "var_list.py",
     "varRefreshCmd": "print(var_dic_list())"
    },
    "r": {
     "delete_cmd_postfix": ") ",
     "delete_cmd_prefix": "rm(",
     "library": "var_list.r",
     "varRefreshCmd": "cat(var_dic_list()) "
    }
   },
   "types_to_exclude": [
    "module",
    "function",
    "builtin_function_or_method",
    "instance",
    "_Feature"
   ],
   "window_display": false
  }
 },
 "nbformat": 4,
 "nbformat_minor": 5
}
