{
 "cells": [
  {
   "cell_type": "code",
   "execution_count": 1,
   "id": "peaceful-element",
   "metadata": {
    "ExecuteTime": {
     "end_time": "2021-08-16T05:19:58.974069Z",
     "start_time": "2021-08-16T05:19:58.304048Z"
    }
   },
   "outputs": [],
   "source": [
    "from sklearn.datasets import load_boston\n",
    "import statsmodels.api as sm"
   ]
  },
  {
   "cell_type": "code",
   "execution_count": 2,
   "id": "adapted-desert",
   "metadata": {
    "ExecuteTime": {
     "end_time": "2021-08-16T05:22:19.980791Z",
     "start_time": "2021-08-16T05:22:19.918990Z"
    }
   },
   "outputs": [
    {
     "name": "stdout",
     "output_type": "stream",
     "text": [
      "                            OLS Regression Results                            \n",
      "==============================================================================\n",
      "Dep. Variable:                   MEDV   R-squared:                       0.741\n",
      "Model:                            OLS   Adj. R-squared:                  0.734\n",
      "Method:                 Least Squares   F-statistic:                     108.1\n",
      "Date:                Mon, 16 Aug 2021   Prob (F-statistic):          6.72e-135\n",
      "Time:                        14:22:19   Log-Likelihood:                -1498.8\n",
      "No. Observations:                 506   AIC:                             3026.\n",
      "Df Residuals:                     492   BIC:                             3085.\n",
      "Df Model:                          13                                         \n",
      "Covariance Type:            nonrobust                                         \n",
      "==============================================================================\n",
      "                 coef    std err          t      P>|t|      [0.025      0.975]\n",
      "------------------------------------------------------------------------------\n",
      "Intercept     36.4595      5.103      7.144      0.000      26.432      46.487\n",
      "CRIM          -0.1080      0.033     -3.287      0.001      -0.173      -0.043\n",
      "ZN             0.0464      0.014      3.382      0.001       0.019       0.073\n",
      "INDUS          0.0206      0.061      0.334      0.738      -0.100       0.141\n",
      "CHAS           2.6867      0.862      3.118      0.002       0.994       4.380\n",
      "NOX          -17.7666      3.820     -4.651      0.000     -25.272     -10.262\n",
      "RM             3.8099      0.418      9.116      0.000       2.989       4.631\n",
      "AGE            0.0007      0.013      0.052      0.958      -0.025       0.027\n",
      "DIS           -1.4756      0.199     -7.398      0.000      -1.867      -1.084\n",
      "RAD            0.3060      0.066      4.613      0.000       0.176       0.436\n",
      "TAX           -0.0123      0.004     -3.280      0.001      -0.020      -0.005\n",
      "PTRATIO       -0.9527      0.131     -7.283      0.000      -1.210      -0.696\n",
      "B              0.0093      0.003      3.467      0.001       0.004       0.015\n",
      "LSTAT         -0.5248      0.051    -10.347      0.000      -0.624      -0.425\n",
      "==============================================================================\n",
      "Omnibus:                      178.041   Durbin-Watson:                   1.078\n",
      "Prob(Omnibus):                  0.000   Jarque-Bera (JB):              783.126\n",
      "Skew:                           1.521   Prob(JB):                    8.84e-171\n",
      "Kurtosis:                       8.281   Cond. No.                     1.51e+04\n",
      "==============================================================================\n",
      "\n",
      "Notes:\n",
      "[1] Standard Errors assume that the covariance matrix of the errors is correctly specified.\n",
      "[2] The condition number is large, 1.51e+04. This might indicate that there are\n",
      "strong multicollinearity or other numerical problems.\n"
     ]
    }
   ],
   "source": [
    "boston = load_boston()\n",
    "\n",
    "dfX = pd.DataFrame(boston.data, columns=boston.feature_names)\n",
    "dfy = pd.DataFrame(boston.target, columns=['MEDV'])\n",
    "df = pd.concat([dfX, dfy], axis=1)\n",
    "\n",
    "model = sm.OLS.from_formula(\"MEDV ~ \" + \" + \".join(boston.feature_names), data = df)\n",
    "result = model.fit()\n",
    "print(result.summary())"
   ]
  },
  {
   "cell_type": "markdown",
   "id": "powerful-rouge",
   "metadata": {},
   "source": [
    "**warning**을 보면 조건수(condition number)가 15100으로 너무 크고 다중공선성(multicollinearity) 문제가 있을 수 있다고 나타난다."
   ]
  },
  {
   "cell_type": "markdown",
   "id": "rolled-venice",
   "metadata": {},
   "source": [
    "## 조건수(condition number)"
   ]
  },
  {
   "cell_type": "markdown",
   "id": "hydraulic-minority",
   "metadata": {},
   "source": [
    "조건수란 공분산 행렬 $X^TX$의 가장 큰 고윳값과 가장 작은 고윳값의 비율을 뜻한다."
   ]
  },
  {
   "cell_type": "markdown",
   "id": "hindu-premises",
   "metadata": {},
   "source": [
    "$$\\text{condition number} = \\dfrac{\\lambda_{\\text{max}}}{\\lambda_{\\text{min}}}$$"
   ]
  },
  {
   "cell_type": "markdown",
   "id": "generic-primary",
   "metadata": {},
   "source": [
    "실제로 위의 boston 데이터를 이용해 공분산 행렬을 만들고 고유분해를 진행한 뒤 고윳값의 최댓값과 최솟값을 비교하면 다음과 같이 매우 큰 차이를 보이는 것을 확인할 수 있다."
   ]
  },
  {
   "cell_type": "code",
   "execution_count": 27,
   "id": "enclosed-holocaust",
   "metadata": {
    "ExecuteTime": {
     "end_time": "2021-08-16T05:31:22.376395Z",
     "start_time": "2021-08-16T05:31:22.359441Z"
    }
   },
   "outputs": [
    {
     "data": {
      "text/plain": [
       "array([1.58386796e+08, 1.18747372e+07, 4.17002244e+05, 1.61644573e+05,\n",
       "       2.52697480e+04, 1.47629635e+04, 8.18396001e+03, 6.07326738e+03,\n",
       "       4.23577535e+03, 6.06399504e+02, 3.27412564e+02, 3.04157837e+01,\n",
       "       2.19326965e+00])"
      ]
     },
     "execution_count": 27,
     "metadata": {},
     "output_type": "execute_result"
    }
   ],
   "source": [
    "eigen = np.linalg.eig(dfX.values.T @ dfX.values)[0]\n",
    "eigen"
   ]
  },
  {
   "cell_type": "code",
   "execution_count": 28,
   "id": "ceramic-defeat",
   "metadata": {
    "ExecuteTime": {
     "end_time": "2021-08-16T05:31:22.612033Z",
     "start_time": "2021-08-16T05:31:22.596076Z"
    }
   },
   "outputs": [
    {
     "data": {
      "text/plain": [
       "(2.1932696529903897, 158386795.65291503)"
      ]
     },
     "execution_count": 28,
     "metadata": {},
     "output_type": "execute_result"
    }
   ],
   "source": [
    "np.min(eigen), np.max(eigen)"
   ]
  },
  {
   "cell_type": "markdown",
   "id": "turned-metropolitan",
   "metadata": {},
   "source": [
    "조건수가 가장 작은 경우는 공분산 행렬이 단위행렬인 경우이다. 이 때의 조건수 값은 1이다."
   ]
  },
  {
   "cell_type": "markdown",
   "id": "governmental-mongolia",
   "metadata": {},
   "source": [
    "$$cond(I) = 1$$"
   ]
  },
  {
   "cell_type": "markdown",
   "id": "identical-ownership",
   "metadata": {},
   "source": [
    "$X$가 다음과 같은 단위행렬일 때 "
   ]
  },
  {
   "cell_type": "code",
   "execution_count": 1,
   "id": "authorized-internet",
   "metadata": {
    "ExecuteTime": {
     "end_time": "2021-09-09T10:46:30.173135Z",
     "start_time": "2021-09-09T10:46:30.150152Z"
    }
   },
   "outputs": [
    {
     "data": {
      "text/plain": [
       "array([[1., 0., 0., 0.],\n",
       "       [0., 1., 0., 0.],\n",
       "       [0., 0., 1., 0.],\n",
       "       [0., 0., 0., 1.]])"
      ]
     },
     "execution_count": 1,
     "metadata": {},
     "output_type": "execute_result"
    }
   ],
   "source": [
    "X = np.eye(4)\n",
    "X"
   ]
  },
  {
   "cell_type": "markdown",
   "id": "floppy-thesis",
   "metadata": {},
   "source": [
    "$y$가 1-벡터인 경우 $X^{-1}$을 구해서 가중치 벡터 $w$를 구할 수 있다."
   ]
  },
  {
   "cell_type": "code",
   "execution_count": 6,
   "id": "disturbed-vacation",
   "metadata": {
    "ExecuteTime": {
     "end_time": "2021-09-09T10:47:58.872252Z",
     "start_time": "2021-09-09T10:47:58.858289Z"
    }
   },
   "outputs": [
    {
     "data": {
      "text/plain": [
       "array([[1., 0., 0., 0.],\n",
       "       [0., 1., 0., 0.],\n",
       "       [0., 0., 1., 0.],\n",
       "       [0., 0., 0., 1.]])"
      ]
     },
     "execution_count": 6,
     "metadata": {},
     "output_type": "execute_result"
    }
   ],
   "source": [
    "X"
   ]
  },
  {
   "cell_type": "code",
   "execution_count": 3,
   "id": "suitable-durham",
   "metadata": {
    "ExecuteTime": {
     "end_time": "2021-09-09T10:46:33.196934Z",
     "start_time": "2021-09-09T10:46:33.177230Z"
    }
   },
   "outputs": [
    {
     "data": {
      "text/plain": [
       "array([1., 1., 1., 1.])"
      ]
     },
     "execution_count": 3,
     "metadata": {},
     "output_type": "execute_result"
    }
   ],
   "source": [
    "y"
   ]
  },
  {
   "cell_type": "code",
   "execution_count": 2,
   "id": "promising-psychiatry",
   "metadata": {
    "ExecuteTime": {
     "end_time": "2021-09-09T10:46:30.917925Z",
     "start_time": "2021-09-09T10:46:30.901968Z"
    }
   },
   "outputs": [
    {
     "data": {
      "text/plain": [
       "array([1., 1., 1., 1.])"
      ]
     },
     "execution_count": 2,
     "metadata": {},
     "output_type": "execute_result"
    }
   ],
   "source": [
    "y = np.ones(4)\n",
    "\n",
    "w = np.linalg.solve(X, y)\n",
    "w"
   ]
  },
  {
   "cell_type": "markdown",
   "id": "compact-tyler",
   "metadata": {},
   "source": [
    "만약 여기서 $X$에 약간의 오차가 있었다면 어땠을까?"
   ]
  },
  {
   "cell_type": "code",
   "execution_count": 44,
   "id": "protected-midnight",
   "metadata": {
    "ExecuteTime": {
     "end_time": "2021-08-16T05:37:12.275640Z",
     "start_time": "2021-08-16T05:37:12.262639Z"
    }
   },
   "outputs": [
    {
     "data": {
      "text/plain": [
       "array([[1.0001, 0.    , 0.    , 0.    ],\n",
       "       [0.    , 1.0001, 0.    , 0.    ],\n",
       "       [0.    , 0.    , 1.0001, 0.    ],\n",
       "       [0.    , 0.    , 0.    , 1.0001]])"
      ]
     },
     "execution_count": 44,
     "metadata": {},
     "output_type": "execute_result"
    }
   ],
   "source": [
    "X_error = X + 0.0001 * np.eye(4)\n",
    "X_error"
   ]
  },
  {
   "cell_type": "code",
   "execution_count": 46,
   "id": "universal-still",
   "metadata": {
    "ExecuteTime": {
     "end_time": "2021-08-16T05:37:37.806956Z",
     "start_time": "2021-08-16T05:37:37.789004Z"
    }
   },
   "outputs": [
    {
     "data": {
      "text/plain": [
       "array([0.99990001, 0.99990001, 0.99990001, 0.99990001])"
      ]
     },
     "execution_count": 46,
     "metadata": {},
     "output_type": "execute_result"
    }
   ],
   "source": [
    "w_error = np.linalg.solve(X_error, y)\n",
    "w_error"
   ]
  },
  {
   "cell_type": "markdown",
   "id": "white-producer",
   "metadata": {},
   "source": [
    "행렬 $A$에 1/10000 의 오차가 있었는데 가중치 벡터를 구한 결과 역시 유사한 정도의 오차가 발생했다."
   ]
  },
  {
   "cell_type": "markdown",
   "id": "golden-artist",
   "metadata": {},
   "source": [
    "이처럼 약간의 오차가 있는 데이터를 이용해 회귀분석 결과인 가중치 벡터를 구하면 역시 비슷한 정도의 오차가 발생한다는 것이 일반적인 사고이다. 하지만 다음과 같이 조건수가 큰 경우에 대해 가중치 벡터를 구해보자."
   ]
  },
  {
   "cell_type": "markdown",
   "id": "mysterious-ambassador",
   "metadata": {},
   "source": [
    "다음의 행렬은 4차 힐버트 행렬(Hilbert Matrix)라는 조건수가 15000이 넘는 특이한 행렬이다."
   ]
  },
  {
   "cell_type": "code",
   "execution_count": 50,
   "id": "laden-circular",
   "metadata": {
    "ExecuteTime": {
     "end_time": "2021-08-16T05:40:09.452219Z",
     "start_time": "2021-08-16T05:40:09.434268Z"
    }
   },
   "outputs": [
    {
     "data": {
      "text/plain": [
       "array([[1.        , 0.5       , 0.33333333, 0.25      ],\n",
       "       [0.5       , 0.33333333, 0.25      , 0.2       ],\n",
       "       [0.33333333, 0.25      , 0.2       , 0.16666667],\n",
       "       [0.25      , 0.2       , 0.16666667, 0.14285714]])"
      ]
     },
     "execution_count": 50,
     "metadata": {},
     "output_type": "execute_result"
    }
   ],
   "source": [
    "import scipy as sp\n",
    "\n",
    "X = sp.linalg.hilbert(4)\n",
    "X"
   ]
  },
  {
   "cell_type": "code",
   "execution_count": 51,
   "id": "devoted-individual",
   "metadata": {
    "ExecuteTime": {
     "end_time": "2021-08-16T05:40:15.185285Z",
     "start_time": "2021-08-16T05:40:15.163344Z"
    }
   },
   "outputs": [
    {
     "data": {
      "text/plain": [
       "15513.738738929662"
      ]
     },
     "execution_count": 51,
     "metadata": {},
     "output_type": "execute_result"
    }
   ],
   "source": [
    "np.linalg.cond(X)"
   ]
  },
  {
   "cell_type": "markdown",
   "id": "endless-symposium",
   "metadata": {},
   "source": [
    "오차가 없을 때의 연립방정식의 해"
   ]
  },
  {
   "cell_type": "code",
   "execution_count": 55,
   "id": "protective-funds",
   "metadata": {
    "ExecuteTime": {
     "end_time": "2021-08-16T05:41:06.025977Z",
     "start_time": "2021-08-16T05:41:06.012009Z"
    }
   },
   "outputs": [
    {
     "data": {
      "text/plain": [
       "array([  -4.,   60., -180.,  140.])"
      ]
     },
     "execution_count": 55,
     "metadata": {},
     "output_type": "execute_result"
    }
   ],
   "source": [
    "np.linalg.solve(X, y)"
   ]
  },
  {
   "cell_type": "markdown",
   "id": "existing-panama",
   "metadata": {},
   "source": [
    "1/10000 의 오차가 발생했을 때의 연립방정식의 해"
   ]
  },
  {
   "cell_type": "code",
   "execution_count": 56,
   "id": "compliant-steering",
   "metadata": {
    "ExecuteTime": {
     "end_time": "2021-08-16T05:41:36.735390Z",
     "start_time": "2021-08-16T05:41:36.718474Z"
    }
   },
   "outputs": [
    {
     "data": {
      "text/plain": [
       "array([ -0.58897672,  21.1225671 , -85.75912499,  78.45650825])"
      ]
     },
     "execution_count": 56,
     "metadata": {},
     "output_type": "execute_result"
    }
   ],
   "source": [
    "np.linalg.solve(X + 0.0001 * np.eye(4), y)"
   ]
  },
  {
   "cell_type": "markdown",
   "id": "gross-tomorrow",
   "metadata": {},
   "source": [
    "이처럼 조건수가 큰 경우에는 1/10000 이라는 아주 작은 오차가 주어졌음에도 불구하고 매우 큰 예측 결과를 반환하는 것을 확인할 수 있다."
   ]
  },
  {
   "cell_type": "markdown",
   "id": "specific-bridge",
   "metadata": {},
   "source": [
    "> 공분산행렬 $X^TX$의 조건수가 크면 회귀분석 예측값도 오차가 커진다."
   ]
  },
  {
   "cell_type": "markdown",
   "id": "promising-alpha",
   "metadata": {},
   "source": [
    "## 회귀분석과 조건수"
   ]
  },
  {
   "cell_type": "markdown",
   "id": "optional-pressure",
   "metadata": {},
   "source": [
    "회귀분석에서 조건수가 커지는 원인은 크게 두가지로 분류된다."
   ]
  },
  {
   "cell_type": "markdown",
   "id": "imported-shadow",
   "metadata": {},
   "source": [
    "1. 변수들의 스케일 문제(스케일링으로 해결)\n",
    "2. 다중공선성 문제, 독립변수간의 큰 상관관계가 있는 경우(PCA, 변수 선택으로 해결)"
   ]
  },
  {
   "cell_type": "markdown",
   "id": "cooperative-alexander",
   "metadata": {},
   "source": [
    "앞선 회귀분석에서 사용한 보스턴 데이터의 독립변수들의 통계량 중 표준편차를 확인한 결과는 다음과 같다."
   ]
  },
  {
   "cell_type": "markdown",
   "id": "cardiac-pointer",
   "metadata": {},
   "source": [
    "각 독립변수간의 스케일이 크게 다른것을 확인할 수 있다."
   ]
  },
  {
   "cell_type": "code",
   "execution_count": 62,
   "id": "literary-fleet",
   "metadata": {
    "ExecuteTime": {
     "end_time": "2021-08-16T05:45:04.847699Z",
     "start_time": "2021-08-16T05:45:04.798829Z"
    }
   },
   "outputs": [
    {
     "data": {
      "text/plain": [
       "CRIM         8.601545\n",
       "ZN          23.322453\n",
       "INDUS        6.860353\n",
       "CHAS         0.253994\n",
       "NOX          0.115878\n",
       "RM           0.702617\n",
       "AGE         28.148861\n",
       "DIS          2.105710\n",
       "RAD          8.707259\n",
       "TAX        168.537116\n",
       "PTRATIO      2.164946\n",
       "B           91.294864\n",
       "LSTAT        7.141062\n",
       "Name: std, dtype: float64"
      ]
     },
     "execution_count": 62,
     "metadata": {},
     "output_type": "execute_result"
    }
   ],
   "source": [
    "dfX.describe().loc[\"std\"]"
   ]
  },
  {
   "cell_type": "markdown",
   "id": "challenging-outdoors",
   "metadata": {},
   "source": [
    "조건수와 회귀분석의 관계를 파악하기 위해 일부러 TAX 의 스케일을 높게 조정했다.\n",
    "\n",
    "그 결과 회귀분석의 성능지표인 R-squared 값이 0.333으로 떨어진 것을 확인할 수 있다."
   ]
  },
  {
   "cell_type": "code",
   "execution_count": 63,
   "id": "recovered-coordinate",
   "metadata": {
    "ExecuteTime": {
     "end_time": "2021-08-16T05:46:01.562915Z",
     "start_time": "2021-08-16T05:46:01.496095Z"
    }
   },
   "outputs": [
    {
     "name": "stdout",
     "output_type": "stream",
     "text": [
      "                            OLS Regression Results                            \n",
      "==============================================================================\n",
      "Dep. Variable:                   MEDV   R-squared:                       0.333\n",
      "Model:                            OLS   Adj. R-squared:                  0.329\n",
      "Method:                 Least Squares   F-statistic:                     83.42\n",
      "Date:                Mon, 16 Aug 2021   Prob (F-statistic):           8.42e-44\n",
      "Time:                        14:46:01   Log-Likelihood:                -1737.9\n",
      "No. Observations:                 506   AIC:                             3484.\n",
      "Df Residuals:                     502   BIC:                             3501.\n",
      "Df Model:                           3                                         \n",
      "Covariance Type:            nonrobust                                         \n",
      "==============================================================================\n",
      "                 coef    std err          t      P>|t|      [0.025      0.975]\n",
      "------------------------------------------------------------------------------\n",
      "Intercept     -0.0038      0.000     -8.554      0.000      -0.005      -0.003\n",
      "CRIM          -0.1573      0.046     -3.432      0.001      -0.247      -0.067\n",
      "ZN             0.1270      0.016      7.735      0.000       0.095       0.159\n",
      "INDUS         -0.1967      0.019    -10.454      0.000      -0.234      -0.160\n",
      "CHAS           0.0034      0.000     12.453      0.000       0.003       0.004\n",
      "NOX           -0.0023      0.000     -9.323      0.000      -0.003      -0.002\n",
      "RM             0.0268      0.002     14.168      0.000       0.023       0.030\n",
      "AGE            0.1410      0.017      8.444      0.000       0.108       0.174\n",
      "DIS           -0.0286      0.004     -7.557      0.000      -0.036      -0.021\n",
      "RAD            0.1094      0.017      6.365      0.000       0.076       0.143\n",
      "TAX         1.094e-15   2.65e-16      4.124      0.000    5.73e-16    1.61e-15\n",
      "PTRATIO       -0.1123      0.011    -10.372      0.000      -0.134      -0.091\n",
      "B              0.0515      0.003     19.859      0.000       0.046       0.057\n",
      "LSTAT         -0.6575      0.056    -11.791      0.000      -0.767      -0.548\n",
      "==============================================================================\n",
      "Omnibus:                       39.128   Durbin-Watson:                   0.863\n",
      "Prob(Omnibus):                  0.000   Jarque-Bera (JB):               46.162\n",
      "Skew:                           0.700   Prob(JB):                     9.47e-11\n",
      "Kurtosis:                       3.478   Cond. No.                     1.19e+17\n",
      "==============================================================================\n",
      "\n",
      "Notes:\n",
      "[1] Standard Errors assume that the covariance matrix of the errors is correctly specified.\n",
      "[2] The condition number is large, 1.19e+17. This might indicate that there are\n",
      "strong multicollinearity or other numerical problems.\n"
     ]
    }
   ],
   "source": [
    "dfX2 = dfX.copy()\n",
    "dfX2[\"TAX\"] *= 1e13\n",
    "df2 = pd.concat([dfX2, dfy], axis=1)\n",
    "\n",
    "model2 = sm.OLS.from_formula(\"MEDV ~ \" + \"+\".join(boston.feature_names), data=df2)\n",
    "result2 = model2.fit()\n",
    "print(result2.summary())"
   ]
  },
  {
   "cell_type": "markdown",
   "id": "lovely-fossil",
   "metadata": {},
   "source": [
    "이번에는 `scale()`명령을 이용해 스케일링을 진행한 뒤 회귀분석을 진행한 결과 조건수 값이 매우 작게 떨어진 것을 확인할 수 있다."
   ]
  },
  {
   "cell_type": "code",
   "execution_count": 64,
   "id": "spare-harmony",
   "metadata": {
    "ExecuteTime": {
     "end_time": "2021-08-16T05:47:12.231700Z",
     "start_time": "2021-08-16T05:47:12.105005Z"
    }
   },
   "outputs": [
    {
     "name": "stdout",
     "output_type": "stream",
     "text": [
      "                            OLS Regression Results                            \n",
      "==============================================================================\n",
      "Dep. Variable:                   MEDV   R-squared:                       0.741\n",
      "Model:                            OLS   Adj. R-squared:                  0.734\n",
      "Method:                 Least Squares   F-statistic:                     108.1\n",
      "Date:                Mon, 16 Aug 2021   Prob (F-statistic):          6.72e-135\n",
      "Time:                        14:47:12   Log-Likelihood:                -1498.8\n",
      "No. Observations:                 506   AIC:                             3026.\n",
      "Df Residuals:                     492   BIC:                             3085.\n",
      "Df Model:                          13                                         \n",
      "Covariance Type:            nonrobust                                         \n",
      "==================================================================================\n",
      "                     coef    std err          t      P>|t|      [0.025      0.975]\n",
      "----------------------------------------------------------------------------------\n",
      "Intercept         22.3470      0.219    101.943      0.000      21.916      22.778\n",
      "scale(CRIM)       -0.9281      0.282     -3.287      0.001      -1.483      -0.373\n",
      "scale(ZN)          1.0816      0.320      3.382      0.001       0.453       1.710\n",
      "scale(INDUS)       0.1409      0.421      0.334      0.738      -0.687       0.969\n",
      "scale(NOX)        -2.0567      0.442     -4.651      0.000      -2.926      -1.188\n",
      "scale(RM)          2.6742      0.293      9.116      0.000       2.098       3.251\n",
      "scale(AGE)         0.0195      0.371      0.052      0.958      -0.710       0.749\n",
      "scale(DIS)        -3.1040      0.420     -7.398      0.000      -3.928      -2.280\n",
      "scale(RAD)         2.6622      0.577      4.613      0.000       1.528       3.796\n",
      "scale(TAX)        -2.0768      0.633     -3.280      0.001      -3.321      -0.833\n",
      "scale(PTRATIO)    -2.0606      0.283     -7.283      0.000      -2.617      -1.505\n",
      "scale(B)           0.8493      0.245      3.467      0.001       0.368       1.331\n",
      "scale(LSTAT)      -3.7436      0.362    -10.347      0.000      -4.454      -3.033\n",
      "CHAS               2.6867      0.862      3.118      0.002       0.994       4.380\n",
      "==============================================================================\n",
      "Omnibus:                      178.041   Durbin-Watson:                   1.078\n",
      "Prob(Omnibus):                  0.000   Jarque-Bera (JB):              783.126\n",
      "Skew:                           1.521   Prob(JB):                    8.84e-171\n",
      "Kurtosis:                       8.281   Cond. No.                         10.6\n",
      "==============================================================================\n",
      "\n",
      "Notes:\n",
      "[1] Standard Errors assume that the covariance matrix of the errors is correctly specified.\n"
     ]
    }
   ],
   "source": [
    "feature_names = list(boston.feature_names)\n",
    "feature_names.remove(\"CHAS\") \n",
    "feature_names = [\"scale({})\".format(name) for name in feature_names] + [\"CHAS\"]\n",
    "model3 = sm.OLS.from_formula(\"MEDV ~ \" + \"+\".join(feature_names), data=df2)\n",
    "result3 = model3.fit()\n",
    "print(result3.summary())"
   ]
  },
  {
   "cell_type": "code",
   "execution_count": null,
   "id": "weird-house",
   "metadata": {},
   "outputs": [],
   "source": []
  }
 ],
 "metadata": {
  "kernelspec": {
   "display_name": "Python 3",
   "language": "python",
   "name": "python3"
  },
  "language_info": {
   "codemirror_mode": {
    "name": "ipython",
    "version": 3
   },
   "file_extension": ".py",
   "mimetype": "text/x-python",
   "name": "python",
   "nbconvert_exporter": "python",
   "pygments_lexer": "ipython3",
   "version": "3.7.10"
  },
  "nbTranslate": {
   "displayLangs": [
    "*"
   ],
   "hotkey": "alt-t",
   "langInMainMenu": true,
   "sourceLang": "en",
   "targetLang": "fr",
   "useGoogleTranslate": true
  },
  "varInspector": {
   "cols": {
    "lenName": 16,
    "lenType": 16,
    "lenVar": 40
   },
   "kernels_config": {
    "python": {
     "delete_cmd_postfix": "",
     "delete_cmd_prefix": "del ",
     "library": "var_list.py",
     "varRefreshCmd": "print(var_dic_list())"
    },
    "r": {
     "delete_cmd_postfix": ") ",
     "delete_cmd_prefix": "rm(",
     "library": "var_list.r",
     "varRefreshCmd": "cat(var_dic_list()) "
    }
   },
   "types_to_exclude": [
    "module",
    "function",
    "builtin_function_or_method",
    "instance",
    "_Feature"
   ],
   "window_display": false
  }
 },
 "nbformat": 4,
 "nbformat_minor": 5
}
