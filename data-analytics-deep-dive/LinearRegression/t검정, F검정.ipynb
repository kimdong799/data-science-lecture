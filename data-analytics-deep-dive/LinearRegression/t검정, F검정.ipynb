{
 "cells": [
  {
   "cell_type": "markdown",
   "id": "otherwise-discrimination",
   "metadata": {
    "ExecuteTime": {
     "end_time": "2021-08-19T03:17:42.708845Z",
     "start_time": "2021-08-19T03:17:42.694882Z"
    }
   },
   "source": [
    "## 단일계수 t-검정"
   ]
  },
  {
   "cell_type": "markdown",
   "id": "alpine-carry",
   "metadata": {},
   "source": [
    "**정규화된 모수 오차 $\\dfrac{\\hat{w_i}}{se_i}$**를 검정통계량 $t$로 이용한 t-검정을 통해 $w_i$가 0인지 아닌지에 대한 검정이 가능하다."
   ]
  },
  {
   "cell_type": "markdown",
   "id": "greater-channel",
   "metadata": {},
   "source": [
    "$$H_0 : w_i = 0$$"
   ]
  },
  {
   "cell_type": "markdown",
   "id": "adult-calcium",
   "metadata": {},
   "source": [
    "귀무가설은 가중치가 0이라는 것이다. 즉, 특정 독립변수가 종속변수에 실제로 영향을 미치는지 아닌지에 대해 확인할 수 있는 검정이다."
   ]
  },
  {
   "cell_type": "markdown",
   "id": "utility-intelligence",
   "metadata": {},
   "source": [
    "보스턴 주택 가격 데이터를 이용해 회귀분석을 실시하고 각 독립변수에 대한 t-검정 결과를 확인해보자."
   ]
  },
  {
   "cell_type": "code",
   "execution_count": 20,
   "id": "super-handling",
   "metadata": {
    "ExecuteTime": {
     "end_time": "2021-08-19T03:42:30.464763Z",
     "start_time": "2021-08-19T03:42:30.422878Z"
    }
   },
   "outputs": [
    {
     "data": {
      "text/html": [
       "<div>\n",
       "<style scoped>\n",
       "    .dataframe tbody tr th:only-of-type {\n",
       "        vertical-align: middle;\n",
       "    }\n",
       "\n",
       "    .dataframe tbody tr th {\n",
       "        vertical-align: top;\n",
       "    }\n",
       "\n",
       "    .dataframe thead th {\n",
       "        text-align: right;\n",
       "    }\n",
       "</style>\n",
       "<table border=\"1\" class=\"dataframe\">\n",
       "  <thead>\n",
       "    <tr style=\"text-align: right;\">\n",
       "      <th></th>\n",
       "      <th>const</th>\n",
       "      <th>CRIM</th>\n",
       "      <th>ZN</th>\n",
       "      <th>INDUS</th>\n",
       "      <th>CHAS</th>\n",
       "      <th>NOX</th>\n",
       "      <th>RM</th>\n",
       "      <th>AGE</th>\n",
       "      <th>DIS</th>\n",
       "      <th>RAD</th>\n",
       "      <th>TAX</th>\n",
       "      <th>PTRATIO</th>\n",
       "      <th>B</th>\n",
       "      <th>LSTAT</th>\n",
       "      <th>MEDV</th>\n",
       "    </tr>\n",
       "  </thead>\n",
       "  <tbody>\n",
       "    <tr>\n",
       "      <th>0</th>\n",
       "      <td>1.0</td>\n",
       "      <td>0.00632</td>\n",
       "      <td>18.0</td>\n",
       "      <td>2.31</td>\n",
       "      <td>0.0</td>\n",
       "      <td>0.538</td>\n",
       "      <td>6.575</td>\n",
       "      <td>65.2</td>\n",
       "      <td>4.0900</td>\n",
       "      <td>1.0</td>\n",
       "      <td>296.0</td>\n",
       "      <td>15.3</td>\n",
       "      <td>396.90</td>\n",
       "      <td>4.98</td>\n",
       "      <td>24.0</td>\n",
       "    </tr>\n",
       "    <tr>\n",
       "      <th>1</th>\n",
       "      <td>1.0</td>\n",
       "      <td>0.02731</td>\n",
       "      <td>0.0</td>\n",
       "      <td>7.07</td>\n",
       "      <td>0.0</td>\n",
       "      <td>0.469</td>\n",
       "      <td>6.421</td>\n",
       "      <td>78.9</td>\n",
       "      <td>4.9671</td>\n",
       "      <td>2.0</td>\n",
       "      <td>242.0</td>\n",
       "      <td>17.8</td>\n",
       "      <td>396.90</td>\n",
       "      <td>9.14</td>\n",
       "      <td>21.6</td>\n",
       "    </tr>\n",
       "    <tr>\n",
       "      <th>2</th>\n",
       "      <td>1.0</td>\n",
       "      <td>0.02729</td>\n",
       "      <td>0.0</td>\n",
       "      <td>7.07</td>\n",
       "      <td>0.0</td>\n",
       "      <td>0.469</td>\n",
       "      <td>7.185</td>\n",
       "      <td>61.1</td>\n",
       "      <td>4.9671</td>\n",
       "      <td>2.0</td>\n",
       "      <td>242.0</td>\n",
       "      <td>17.8</td>\n",
       "      <td>392.83</td>\n",
       "      <td>4.03</td>\n",
       "      <td>34.7</td>\n",
       "    </tr>\n",
       "  </tbody>\n",
       "</table>\n",
       "</div>"
      ],
      "text/plain": [
       "   const     CRIM    ZN  INDUS  CHAS    NOX     RM   AGE     DIS  RAD    TAX  \\\n",
       "0    1.0  0.00632  18.0   2.31   0.0  0.538  6.575  65.2  4.0900  1.0  296.0   \n",
       "1    1.0  0.02731   0.0   7.07   0.0  0.469  6.421  78.9  4.9671  2.0  242.0   \n",
       "2    1.0  0.02729   0.0   7.07   0.0  0.469  7.185  61.1  4.9671  2.0  242.0   \n",
       "\n",
       "   PTRATIO       B  LSTAT  MEDV  \n",
       "0     15.3  396.90   4.98  24.0  \n",
       "1     17.8  396.90   9.14  21.6  \n",
       "2     17.8  392.83   4.03  34.7  "
      ]
     },
     "execution_count": 20,
     "metadata": {},
     "output_type": "execute_result"
    }
   ],
   "source": [
    "import statsmodels.api as sm\n",
    "from sklearn.datasets import load_boston\n",
    "\n",
    "boston = load_boston()\n",
    "\n",
    "dfX0 = pd.DataFrame(boston.data, columns=boston.feature_names)\n",
    "dfX = sm.add_constant(dfX0)\n",
    "dfy = pd.DataFrame(boston.target, columns=[\"MEDV\"])\n",
    "df = pd.concat([dfX, dfy], axis=1)\n",
    "df.head(3)"
   ]
  },
  {
   "cell_type": "code",
   "execution_count": 21,
   "id": "married-ferry",
   "metadata": {
    "ExecuteTime": {
     "end_time": "2021-08-19T03:42:30.685835Z",
     "start_time": "2021-08-19T03:42:30.670875Z"
    }
   },
   "outputs": [
    {
     "name": "stdout",
     "output_type": "stream",
     "text": [
      "                            OLS Regression Results                            \n",
      "==============================================================================\n",
      "Dep. Variable:                   MEDV   R-squared:                       0.741\n",
      "Model:                            OLS   Adj. R-squared:                  0.734\n",
      "Method:                 Least Squares   F-statistic:                     108.1\n",
      "Date:                Thu, 19 Aug 2021   Prob (F-statistic):          6.72e-135\n",
      "Time:                        12:42:30   Log-Likelihood:                -1498.8\n",
      "No. Observations:                 506   AIC:                             3026.\n",
      "Df Residuals:                     492   BIC:                             3085.\n",
      "Df Model:                          13                                         \n",
      "Covariance Type:            nonrobust                                         \n",
      "==============================================================================\n",
      "                 coef    std err          t      P>|t|      [0.025      0.975]\n",
      "------------------------------------------------------------------------------\n",
      "const         36.4595      5.103      7.144      0.000      26.432      46.487\n",
      "CRIM          -0.1080      0.033     -3.287      0.001      -0.173      -0.043\n",
      "ZN             0.0464      0.014      3.382      0.001       0.019       0.073\n",
      "INDUS          0.0206      0.061      0.334      0.738      -0.100       0.141\n",
      "CHAS           2.6867      0.862      3.118      0.002       0.994       4.380\n",
      "NOX          -17.7666      3.820     -4.651      0.000     -25.272     -10.262\n",
      "RM             3.8099      0.418      9.116      0.000       2.989       4.631\n",
      "AGE            0.0007      0.013      0.052      0.958      -0.025       0.027\n",
      "DIS           -1.4756      0.199     -7.398      0.000      -1.867      -1.084\n",
      "RAD            0.3060      0.066      4.613      0.000       0.176       0.436\n",
      "TAX           -0.0123      0.004     -3.280      0.001      -0.020      -0.005\n",
      "PTRATIO       -0.9527      0.131     -7.283      0.000      -1.210      -0.696\n",
      "B              0.0093      0.003      3.467      0.001       0.004       0.015\n",
      "LSTAT         -0.5248      0.051    -10.347      0.000      -0.624      -0.425\n",
      "==============================================================================\n",
      "Omnibus:                      178.041   Durbin-Watson:                   1.078\n",
      "Prob(Omnibus):                  0.000   Jarque-Bera (JB):              783.126\n",
      "Skew:                           1.521   Prob(JB):                    8.84e-171\n",
      "Kurtosis:                       8.281   Cond. No.                     1.51e+04\n",
      "==============================================================================\n",
      "\n",
      "Notes:\n",
      "[1] Standard Errors assume that the covariance matrix of the errors is correctly specified.\n",
      "[2] The condition number is large, 1.51e+04. This might indicate that there are\n",
      "strong multicollinearity or other numerical problems.\n"
     ]
    }
   ],
   "source": [
    "result = sm.OLS(dfy, dfX).fit()\n",
    "print(result.summary())"
   ]
  },
  {
   "cell_type": "markdown",
   "id": "exciting-wales",
   "metadata": {},
   "source": [
    "INDUS의 경우 t검정에 대한 유의확률이 0.738로 귀무가설을 기각한다. 따라서 실제 y값에 영향을 미치는 독립변수가 아니라는 것이다."
   ]
  },
  {
   "cell_type": "markdown",
   "id": "impressive-anger",
   "metadata": {},
   "source": [
    "AGE의 경우도 마찬가지로 유의확률이 0.958로 귀무가설을 기각한다."
   ]
  },
  {
   "cell_type": "markdown",
   "id": "chubby-oxide",
   "metadata": {},
   "source": [
    "실제로 부분회귀 플롯을 이용해 AGE와 INUDS에 대해 상관관계를 시각화하면 종속변수에 대한 상관관계가 없는것을 확인할 수 있다."
   ]
  },
  {
   "cell_type": "code",
   "execution_count": 22,
   "id": "seventh-nevada",
   "metadata": {
    "ExecuteTime": {
     "end_time": "2021-08-19T03:42:32.697378Z",
     "start_time": "2021-08-19T03:42:32.547794Z"
    }
   },
   "outputs": [
    {
     "name": "stderr",
     "output_type": "stream",
     "text": [
      "C:\\Users\\Kim\\AppData\\Roaming\\Python\\Python37\\site-packages\\matplotlib\\backends\\backend_agg.py:240: RuntimeWarning: Glyph 8722 missing from current font.\n",
      "  font.set_text(s, 0.0, flags=flags)\n",
      "C:\\Users\\Kim\\AppData\\Roaming\\Python\\Python37\\site-packages\\matplotlib\\backends\\backend_agg.py:203: RuntimeWarning: Glyph 8722 missing from current font.\n",
      "  font.set_text(s, 0, flags=flags)\n"
     ]
    },
    {
     "data": {
      "image/png": "[encoded data removed]",
      "text/plain": [
       "<Figure size 432x288 with 1 Axes>"
      ]
     },
     "metadata": {
      "image/png": {
       "height": 279,
       "width": 388
      },
      "needs_background": "light"
     },
     "output_type": "display_data"
    }
   ],
   "source": [
    "others = list(set(df.columns).difference(set(['MEDV','AGE'])))\n",
    "p, resids = sm.graphics.plot_partregress(\n",
    "    'MEDV', 'AGE', others, data=df, obs_labels=False, ret_coords=True)\n",
    "\n",
    "plt.grid()\n",
    "plt.show()"
   ]
  },
  {
   "cell_type": "code",
   "execution_count": 23,
   "id": "composed-logging",
   "metadata": {
    "ExecuteTime": {
     "end_time": "2021-08-19T03:42:33.550803Z",
     "start_time": "2021-08-19T03:42:33.401024Z"
    },
    "scrolled": false
   },
   "outputs": [
    {
     "name": "stderr",
     "output_type": "stream",
     "text": [
      "C:\\Users\\Kim\\AppData\\Roaming\\Python\\Python37\\site-packages\\matplotlib\\backends\\backend_agg.py:240: RuntimeWarning: Glyph 8722 missing from current font.\n",
      "  font.set_text(s, 0.0, flags=flags)\n",
      "C:\\Users\\Kim\\AppData\\Roaming\\Python\\Python37\\site-packages\\matplotlib\\backends\\backend_agg.py:203: RuntimeWarning: Glyph 8722 missing from current font.\n",
      "  font.set_text(s, 0, flags=flags)\n"
     ]
    },
    {
     "data": {
      "image/png": "[encoded data removed]",
      "text/plain": [
       "<Figure size 432x288 with 1 Axes>"
      ]
     },
     "metadata": {
      "image/png": {
       "height": 279,
       "width": 388
      },
      "needs_background": "light"
     },
     "output_type": "display_data"
    }
   ],
   "source": [
    "others = list(set(df.columns).difference(set(['MEDV','INDUS'])))\n",
    "p, resids = sm.graphics.plot_partregress(\n",
    "    'MEDV', 'INDUS', others, data=df, obs_labels=False, ret_coords=True)\n",
    "\n",
    "plt.grid()\n",
    "plt.show()"
   ]
  },
  {
   "cell_type": "markdown",
   "id": "arbitrary-adelaide",
   "metadata": {},
   "source": [
    "## t_test의 귀무가설 설정"
   ]
  },
  {
   "cell_type": "code",
   "execution_count": 25,
   "id": "instant-noise",
   "metadata": {
    "ExecuteTime": {
     "end_time": "2021-08-19T03:43:18.927543Z",
     "start_time": "2021-08-19T03:43:18.904647Z"
    }
   },
   "outputs": [
    {
     "name": "stdout",
     "output_type": "stream",
     "text": [
      "                            OLS Regression Results                            \n",
      "==============================================================================\n",
      "Dep. Variable:                      y   R-squared:                       0.731\n",
      "Model:                            OLS   Adj. R-squared:                  0.728\n",
      "Method:                 Least Squares   F-statistic:                     265.8\n",
      "Date:                Thu, 19 Aug 2021   Prob (F-statistic):           1.15e-29\n",
      "Time:                        12:43:18   Log-Likelihood:                -454.86\n",
      "No. Observations:                 100   AIC:                             913.7\n",
      "Df Residuals:                      98   BIC:                             918.9\n",
      "Df Model:                           1                                         \n",
      "Covariance Type:            nonrobust                                         \n",
      "==============================================================================\n",
      "                 coef    std err          t      P>|t|      [0.025      0.975]\n",
      "------------------------------------------------------------------------------\n",
      "const          4.5866      2.310      1.986      0.050       0.003       9.171\n",
      "X1            43.1341      2.646     16.304      0.000      37.884      48.384\n",
      "==============================================================================\n",
      "Omnibus:                        1.292   Durbin-Watson:                   1.947\n",
      "Prob(Omnibus):                  0.524   Jarque-Bera (JB):                1.371\n",
      "Skew:                           0.237   Prob(JB):                        0.504\n",
      "Kurtosis:                       2.676   Cond. No.                         1.15\n",
      "==============================================================================\n",
      "\n",
      "Notes:\n",
      "[1] Standard Errors assume that the covariance matrix of the errors is correctly specified.\n"
     ]
    }
   ],
   "source": [
    "from sklearn.datasets import make_regression\n",
    "\n",
    "X0, y, coef = make_regression(\n",
    "    n_samples = 100, n_features = 1, noise = 20, coef=True\n",
    ")\n",
    "\n",
    "dfX0 = pd.DataFrame(X0, columns=['X1'])\n",
    "dfX = sm.add_constant(dfX0)\n",
    "dfy = pd.DataFrame(y, columns=['y'])\n",
    "\n",
    "model = sm.OLS(dfy, dfX)\n",
    "result = model.fit()\n",
    "print(result.summary())"
   ]
  },
  {
   "cell_type": "markdown",
   "id": "classical-extreme",
   "metadata": {},
   "source": [
    "위 summary 결과를 확인해보면 X1의 coef값이 43.1341이라는 것을 확인할 수 있다.\n",
    "\n",
    "그런데 분석을 의뢰한 고객의 입장에서 봤을 때 43.1341이라는 값보다는 40이라는 값으로 분석결과를 보는 것이 더 좋을 것이다."
   ]
  },
  {
   "cell_type": "markdown",
   "id": "aware-orlando",
   "metadata": {},
   "source": [
    "이러한 경우 X1의 가중치를 40으로 써도 되는지에 대한 귀무가설을 t_test 메소드를 이용해 설정할 수 있다."
   ]
  },
  {
   "cell_type": "markdown",
   "id": "generous-finder",
   "metadata": {},
   "source": [
    "$$H_0 : w_1 = 40$$"
   ]
  },
  {
   "cell_type": "code",
   "execution_count": 26,
   "id": "julian-feature",
   "metadata": {
    "ExecuteTime": {
     "end_time": "2021-08-19T03:45:17.413143Z",
     "start_time": "2021-08-19T03:45:17.405159Z"
    }
   },
   "outputs": [
    {
     "name": "stdout",
     "output_type": "stream",
     "text": [
      "                             Test for Constraints                             \n",
      "==============================================================================\n",
      "                 coef    std err          t      P>|t|      [0.025      0.975]\n",
      "------------------------------------------------------------------------------\n",
      "c0            43.1341      2.646      1.185      0.239      37.884      48.384\n",
      "==============================================================================\n"
     ]
    }
   ],
   "source": [
    "# 귀무가설 : X1의 계수값은 40이다.\n",
    "\n",
    "print(result.t_test(\"X1 = 40\"))"
   ]
  },
  {
   "cell_type": "markdown",
   "id": "eastern-summer",
   "metadata": {},
   "source": [
    "결과를 확인해보면 P-value가 0.239로 귀무가설을 채택할 수 있다. 즉, $w_1$를 40으로 놓고 봐도 된다는 것이다."
   ]
  },
  {
   "cell_type": "markdown",
   "id": "interim-wrist",
   "metadata": {},
   "source": [
    "이번에는 t_test 메소드를 이용해 두 독립변수의 계수값을 비교해보자."
   ]
  },
  {
   "cell_type": "markdown",
   "id": "aboriginal-commodity",
   "metadata": {},
   "source": [
    "## 두 독립변수의 계수값 비교"
   ]
  },
  {
   "cell_type": "code",
   "execution_count": 27,
   "id": "nuclear-travel",
   "metadata": {
    "ExecuteTime": {
     "end_time": "2021-08-19T03:46:52.001413Z",
     "start_time": "2021-08-19T03:46:50.707182Z"
    },
    "scrolled": false
   },
   "outputs": [
    {
     "name": "stdout",
     "output_type": "stream",
     "text": [
      "                            OLS Regression Results                            \n",
      "==============================================================================\n",
      "Dep. Variable:                  value   R-squared:                       0.930\n",
      "Model:                            OLS   Adj. R-squared:                  0.927\n",
      "Method:                 Least Squares   F-statistic:                     277.3\n",
      "Date:                Thu, 19 Aug 2021   Prob (F-statistic):          2.96e-125\n",
      "Time:                        12:46:51   Log-Likelihood:                -535.82\n",
      "No. Observations:                 240   AIC:                             1096.\n",
      "Df Residuals:                     228   BIC:                             1137.\n",
      "Df Model:                          11                                         \n",
      "Covariance Type:            nonrobust                                         \n",
      "================================================================================\n",
      "                   coef    std err          t      P>|t|      [0.025      0.975]\n",
      "--------------------------------------------------------------------------------\n",
      "C(month)[01]    39.6950      0.518     76.691      0.000      38.675      40.715\n",
      "C(month)[02]    39.1900      0.518     75.716      0.000      38.170      40.210\n",
      "C(month)[03]    42.1950      0.518     81.521      0.000      41.175      43.215\n",
      "C(month)[04]    46.2900      0.518     89.433      0.000      45.270      47.310\n",
      "C(month)[05]    52.5600      0.518    101.547      0.000      51.540      53.580\n",
      "C(month)[06]    58.0400      0.518    112.134      0.000      57.020      59.060\n",
      "C(month)[07]    61.9000      0.518    119.592      0.000      60.880      62.920\n",
      "C(month)[08]    60.5200      0.518    116.926      0.000      59.500      61.540\n",
      "C(month)[09]    56.4800      0.518    109.120      0.000      55.460      57.500\n",
      "C(month)[10]    49.4950      0.518     95.625      0.000      48.475      50.515\n",
      "C(month)[11]    42.5800      0.518     82.265      0.000      41.560      43.600\n",
      "C(month)[12]    39.5300      0.518     76.373      0.000      38.510      40.550\n",
      "==============================================================================\n",
      "Omnibus:                        5.430   Durbin-Watson:                   1.529\n",
      "Prob(Omnibus):                  0.066   Jarque-Bera (JB):                5.299\n",
      "Skew:                          -0.281   Prob(JB):                       0.0707\n",
      "Kurtosis:                       3.463   Cond. No.                         1.00\n",
      "==============================================================================\n",
      "\n",
      "Notes:\n",
      "[1] Standard Errors assume that the covariance matrix of the errors is correctly specified.\n"
     ]
    }
   ],
   "source": [
    "import datetime\n",
    "from calendar import isleap\n",
    "\n",
    "df_nottem = sm.datasets.get_rdataset(\"nottem\").data \n",
    "\n",
    "def convert_partial_year(number):\n",
    "    year = int(number)\n",
    "    d = datetime.timedelta(days=(number - year) * (365 + isleap(year)))\n",
    "    day_one = datetime.datetime(year, 1, 1)\n",
    "    date = d + day_one\n",
    "    return date\n",
    "\n",
    "df_nottem[\"date0\"] = df_nottem[[\"time\"]].applymap(convert_partial_year)\n",
    "df_nottem[\"date\"] = pd.DatetimeIndex(df_nottem[\"date0\"]).round('60min') + datetime.timedelta(seconds=3600*24)\n",
    "df_nottem[\"month\"] = df_nottem[\"date\"].dt.strftime(\"%m\").astype('category')\n",
    "del df_nottem[\"date0\"], df_nottem[\"date\"]\n",
    "\n",
    "model_nottem = sm.OLS.from_formula(\"value ~ C(month) + 0\", df_nottem)\n",
    "result_nottem = model_nottem.fit()\n",
    "print(result_nottem.summary())"
   ]
  },
  {
   "cell_type": "markdown",
   "id": "secondary-stanford",
   "metadata": {},
   "source": [
    "1월과 2월이 같다는 귀무가설을 설정하고 t_test를 진행하면 p_value는 0.491로 두 범주형 독립변수는 사실상 같다고 봐도 된다는 것이다."
   ]
  },
  {
   "cell_type": "markdown",
   "id": "macro-eleven",
   "metadata": {},
   "source": [
    "즉, 1월과 2월을 구분하는 것이 사실상 의미가 없다는 뜻이 된다."
   ]
  },
  {
   "cell_type": "code",
   "execution_count": 28,
   "id": "massive-albert",
   "metadata": {
    "ExecuteTime": {
     "end_time": "2021-08-19T03:47:38.787884Z",
     "start_time": "2021-08-19T03:47:38.767937Z"
    }
   },
   "outputs": [
    {
     "name": "stdout",
     "output_type": "stream",
     "text": [
      "                             Test for Constraints                             \n",
      "==============================================================================\n",
      "                 coef    std err          t      P>|t|      [0.025      0.975]\n",
      "------------------------------------------------------------------------------\n",
      "c0             0.5050      0.732      0.690      0.491      -0.937       1.947\n",
      "==============================================================================\n"
     ]
    }
   ],
   "source": [
    "print(result_nottem.t_test(\"C(month)[01] = C(month)[02]\"))"
   ]
  },
  {
   "cell_type": "markdown",
   "id": "southern-venue",
   "metadata": {},
   "source": [
    "2월과 3월의 경우 귀무가설을 기각하며 구분이 필요한 것을 확인할 수 있다."
   ]
  },
  {
   "cell_type": "code",
   "execution_count": 29,
   "id": "mature-pontiac",
   "metadata": {
    "ExecuteTime": {
     "end_time": "2021-08-19T03:48:45.433942Z",
     "start_time": "2021-08-19T03:48:45.416988Z"
    }
   },
   "outputs": [
    {
     "name": "stdout",
     "output_type": "stream",
     "text": [
      "                             Test for Constraints                             \n",
      "==============================================================================\n",
      "                 coef    std err          t      P>|t|      [0.025      0.975]\n",
      "------------------------------------------------------------------------------\n",
      "c0             3.0050      0.732      4.105      0.000       1.563       4.447\n",
      "==============================================================================\n"
     ]
    }
   ],
   "source": [
    "print(result_nottem.t_test(\"C(month)[03] = C(month)[02]\"))"
   ]
  },
  {
   "cell_type": "markdown",
   "id": "expanded-testament",
   "metadata": {},
   "source": [
    "## 회귀분석 F-검정"
   ]
  },
  {
   "cell_type": "markdown",
   "id": "measured-nightmare",
   "metadata": {},
   "source": [
    "회귀분석 F검정은 전체 회귀 계수가 모두 의미가 있는지를 확인하는 검정이다."
   ]
  },
  {
   "cell_type": "markdown",
   "id": "republican-tradition",
   "metadata": {},
   "source": [
    "$$H_0 : w_0 = w_1 = ... = w_{k-1} = 0$$"
   ]
  },
  {
   "cell_type": "markdown",
   "id": "premier-oxford",
   "metadata": {},
   "source": [
    "귀무가설은 모든 독립변수가 종속변수에 아무런 영향을 미치지 않는다는 것이다."
   ]
  },
  {
   "cell_type": "markdown",
   "id": "level-consumer",
   "metadata": {},
   "source": [
    "현실적으로 이 귀무가설이 채택되는 경우는 없다고 봐도 무방하다.\n",
    "\n",
    "하지만 귀무가설이 어느정도의 수치고 기각 되었느냐는 비교할 수 있다.\n",
    "\n",
    "즉, 귀무가설이 기각된 정도를 통해 모델의 성능을 비교할 수 있게 된다."
   ]
  },
  {
   "cell_type": "markdown",
   "id": "twenty-alert",
   "metadata": {},
   "source": [
    "보스턴 주택가격 데이터를 이용해 OLS 회귀분석을 진행한 report이다."
   ]
  },
  {
   "cell_type": "code",
   "execution_count": 30,
   "id": "corporate-worship",
   "metadata": {
    "ExecuteTime": {
     "end_time": "2021-08-19T03:54:37.205677Z",
     "start_time": "2021-08-19T03:54:37.172193Z"
    }
   },
   "outputs": [
    {
     "name": "stdout",
     "output_type": "stream",
     "text": [
      "                            OLS Regression Results                            \n",
      "==============================================================================\n",
      "Dep. Variable:                   MEDV   R-squared:                       0.741\n",
      "Model:                            OLS   Adj. R-squared:                  0.734\n",
      "Method:                 Least Squares   F-statistic:                     108.1\n",
      "Date:                Thu, 19 Aug 2021   Prob (F-statistic):          6.72e-135\n",
      "Time:                        12:54:37   Log-Likelihood:                -1498.8\n",
      "No. Observations:                 506   AIC:                             3026.\n",
      "Df Residuals:                     492   BIC:                             3085.\n",
      "Df Model:                          13                                         \n",
      "Covariance Type:            nonrobust                                         \n",
      "==============================================================================\n",
      "                 coef    std err          t      P>|t|      [0.025      0.975]\n",
      "------------------------------------------------------------------------------\n",
      "const         36.4595      5.103      7.144      0.000      26.432      46.487\n",
      "CRIM          -0.1080      0.033     -3.287      0.001      -0.173      -0.043\n",
      "ZN             0.0464      0.014      3.382      0.001       0.019       0.073\n",
      "INDUS          0.0206      0.061      0.334      0.738      -0.100       0.141\n",
      "CHAS           2.6867      0.862      3.118      0.002       0.994       4.380\n",
      "NOX          -17.7666      3.820     -4.651      0.000     -25.272     -10.262\n",
      "RM             3.8099      0.418      9.116      0.000       2.989       4.631\n",
      "AGE            0.0007      0.013      0.052      0.958      -0.025       0.027\n",
      "DIS           -1.4756      0.199     -7.398      0.000      -1.867      -1.084\n",
      "RAD            0.3060      0.066      4.613      0.000       0.176       0.436\n",
      "TAX           -0.0123      0.004     -3.280      0.001      -0.020      -0.005\n",
      "PTRATIO       -0.9527      0.131     -7.283      0.000      -1.210      -0.696\n",
      "B              0.0093      0.003      3.467      0.001       0.004       0.015\n",
      "LSTAT         -0.5248      0.051    -10.347      0.000      -0.624      -0.425\n",
      "==============================================================================\n",
      "Omnibus:                      178.041   Durbin-Watson:                   1.078\n",
      "Prob(Omnibus):                  0.000   Jarque-Bera (JB):              783.126\n",
      "Skew:                           1.521   Prob(JB):                    8.84e-171\n",
      "Kurtosis:                       8.281   Cond. No.                     1.51e+04\n",
      "==============================================================================\n",
      "\n",
      "Notes:\n",
      "[1] Standard Errors assume that the covariance matrix of the errors is correctly specified.\n",
      "[2] The condition number is large, 1.51e+04. This might indicate that there are\n",
      "strong multicollinearity or other numerical problems.\n"
     ]
    }
   ],
   "source": [
    "boston = load_boston()\n",
    "\n",
    "dfX0 = pd.DataFrame(boston.data, columns=boston.feature_names)\n",
    "dfX = sm.add_constant(dfX0)\n",
    "dfy = pd.DataFrame(boston.target, columns=[\"MEDV\"])\n",
    "df = pd.concat([dfX, dfy], axis=1)\n",
    "result = sm.OLS(dfy, dfX).fit()\n",
    "print(result.summary())"
   ]
  },
  {
   "cell_type": "markdown",
   "id": "labeled-lingerie",
   "metadata": {},
   "source": [
    "앞서 확인했던 종속변수에 영향을 미치지 않는 것으로 확인했던 INDUS, AGE를 포함하여 회귀분석을 진행했다."
   ]
  },
  {
   "cell_type": "markdown",
   "id": "closed-importance",
   "metadata": {},
   "source": [
    "그 결과 F검정의 p_value는 6.72e-135로 확인된다."
   ]
  },
  {
   "cell_type": "markdown",
   "id": "canadian-flood",
   "metadata": {},
   "source": [
    "이번에는 INDUS, AGE 를 제외하여 회귀분석을 진행했고 F검정 p_value는 5.54e-137로 확인된다."
   ]
  }
 ],
 "metadata": {
  "kernelspec": {
   "display_name": "Python 3",
   "language": "python",
   "name": "python3"
  },
  "language_info": {
   "codemirror_mode": {
    "name": "ipython",
    "version": 3
   },
   "file_extension": ".py",
   "mimetype": "text/x-python",
   "name": "python",
   "nbconvert_exporter": "python",
   "pygments_lexer": "ipython3",
   "version": "3.7.10"
  },
  "nbTranslate": {
   "displayLangs": [
    "*"
   ],
   "hotkey": "alt-t",
   "langInMainMenu": true,
   "sourceLang": "en",
   "targetLang": "fr",
   "useGoogleTranslate": true
  },
  "varInspector": {
   "cols": {
    "lenName": 16,
    "lenType": 16,
    "lenVar": 40
   },
   "kernels_config": {
    "python": {
     "delete_cmd_postfix": "",
     "delete_cmd_prefix": "del ",
     "library": "var_list.py",
     "varRefreshCmd": "print(var_dic_list())"
    },
    "r": {
     "delete_cmd_postfix": ") ",
     "delete_cmd_prefix": "rm(",
     "library": "var_list.r",
     "varRefreshCmd": "cat(var_dic_list()) "
    }
   },
   "types_to_exclude": [
    "module",
    "function",
    "builtin_function_or_method",
    "instance",
    "_Feature"
   ],
   "window_display": false
  }
 },
 "nbformat": 4,
 "nbformat_minor": 5
}
