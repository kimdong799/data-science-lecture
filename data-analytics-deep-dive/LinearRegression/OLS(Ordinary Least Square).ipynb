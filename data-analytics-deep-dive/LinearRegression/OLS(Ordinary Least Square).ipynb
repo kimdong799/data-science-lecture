{
 "cells": [
  {
   "cell_type": "code",
   "execution_count": 1,
   "id": "conscious-tucson",
   "metadata": {
    "ExecuteTime": {
     "end_time": "2021-08-16T03:05:48.632043Z",
     "start_time": "2021-08-16T03:05:48.612096Z"
    }
   },
   "outputs": [],
   "source": [
    "import numpy as np"
   ]
  },
  {
   "cell_type": "markdown",
   "id": "twelve-abortion",
   "metadata": {},
   "source": [
    "## 역행렬과 선형 연립방정식의 해"
   ]
  },
  {
   "cell_type": "markdown",
   "id": "meaningful-offense",
   "metadata": {},
   "source": [
    "선형연립방정식에서 미지수의 수와 방정식의 수가 같은 경우 계수행렬인 $A$는 정방행렬이다.\n",
    "\n",
    "여기서 정방행렬 $A$의 역행렬 $A^{-1}$이 존재하는 경우 선형연립방정식의 해를 구할 수 있다."
   ]
  },
  {
   "cell_type": "markdown",
   "id": "bottom-child",
   "metadata": {},
   "source": [
    "$$Ax = b$$"
   ]
  },
  {
   "cell_type": "markdown",
   "id": "alleged-bible",
   "metadata": {},
   "source": [
    "계수행렬 $A$에서 미지수 벡터 $x$를 곱하면 상수벡터 $b$가 된다."
   ]
  },
  {
   "cell_type": "markdown",
   "id": "reported-glossary",
   "metadata": {},
   "source": [
    "$$A^{-1}Ax = A^{-1}b$$"
   ]
  },
  {
   "cell_type": "markdown",
   "id": "worth-dining",
   "metadata": {},
   "source": [
    "$$A^{-1}A = I$$이므로"
   ]
  },
  {
   "cell_type": "markdown",
   "id": "naval-choir",
   "metadata": {},
   "source": [
    "$$Ix = A^{-1}b$$"
   ]
  },
  {
   "cell_type": "markdown",
   "id": "victorian-stadium",
   "metadata": {},
   "source": [
    "$$x = A^{-1}b$$"
   ]
  },
  {
   "cell_type": "markdown",
   "id": "violent-johns",
   "metadata": {},
   "source": [
    "가 되며 최종적으로 $A$의 역행렬과 벡터 $b$를 곱해 미지수 벡터 $x$를 구할 수 있다."
   ]
  },
  {
   "cell_type": "code",
   "execution_count": 21,
   "id": "offensive-cleanup",
   "metadata": {
    "ExecuteTime": {
     "end_time": "2021-08-16T03:18:07.431383Z",
     "start_time": "2021-08-16T03:18:07.413432Z"
    }
   },
   "outputs": [
    {
     "data": {
      "text/plain": [
       "array([[1, 1, 0],\n",
       "       [0, 1, 1],\n",
       "       [1, 1, 1]])"
      ]
     },
     "execution_count": 21,
     "metadata": {},
     "output_type": "execute_result"
    }
   ],
   "source": [
    "A = np.array([[1, 1, 0], [0, 1, 1], [1, 1, 1]])\n",
    "A"
   ]
  },
  {
   "cell_type": "code",
   "execution_count": 22,
   "id": "empirical-memorial",
   "metadata": {
    "ExecuteTime": {
     "end_time": "2021-08-16T03:18:16.430601Z",
     "start_time": "2021-08-16T03:18:16.419630Z"
    }
   },
   "outputs": [
    {
     "data": {
      "text/plain": [
       "array([[2],\n",
       "       [2],\n",
       "       [3]])"
      ]
     },
     "execution_count": 22,
     "metadata": {},
     "output_type": "execute_result"
    }
   ],
   "source": [
    "b = np.array([[2],[2],[3]])\n",
    "b"
   ]
  },
  {
   "cell_type": "code",
   "execution_count": 24,
   "id": "suspended-newport",
   "metadata": {
    "ExecuteTime": {
     "end_time": "2021-08-16T03:18:36.015152Z",
     "start_time": "2021-08-16T03:18:36.004182Z"
    }
   },
   "outputs": [
    {
     "data": {
      "text/plain": [
       "array([[1.],\n",
       "       [1.],\n",
       "       [1.]])"
      ]
     },
     "execution_count": 24,
     "metadata": {},
     "output_type": "execute_result"
    }
   ],
   "source": [
    "# A의 역행렬 @ b\n",
    "\n",
    "x = np.linalg.inv(A) @ b\n",
    "x"
   ]
  },
  {
   "cell_type": "code",
   "execution_count": 27,
   "id": "unexpected-potential",
   "metadata": {
    "ExecuteTime": {
     "end_time": "2021-08-16T03:19:31.336070Z",
     "start_time": "2021-08-16T03:19:31.329090Z"
    }
   },
   "outputs": [
    {
     "data": {
      "text/plain": [
       "array([[0.],\n",
       "       [0.],\n",
       "       [0.]])"
      ]
     },
     "execution_count": 27,
     "metadata": {},
     "output_type": "execute_result"
    }
   ],
   "source": [
    "# A와 미지수 벡터를 곱한 벡터와 b벡터의 차이는 영벡터가 된다.\n",
    "\n",
    "A @ x - b"
   ]
  },
  {
   "cell_type": "markdown",
   "id": "verified-jacob",
   "metadata": {},
   "source": [
    "이 과정을 numpy의 lstsq() 메소드로 쉽게 구할 수 있다.\n",
    "\n",
    "lstsq()메소드는 OLS문제의 답인 미지수 벡터 x, 잔차제곱합 (resid), 랭크(rank), 특잇값(s)를 구한다."
   ]
  },
  {
   "cell_type": "code",
   "execution_count": 29,
   "id": "beginning-charger",
   "metadata": {
    "ExecuteTime": {
     "end_time": "2021-08-16T03:20:49.514771Z",
     "start_time": "2021-08-16T03:20:49.495822Z"
    }
   },
   "outputs": [
    {
     "name": "stderr",
     "output_type": "stream",
     "text": [
      "C:\\Users\\Kim\\AppData\\Roaming\\Python\\Python37\\site-packages\\ipykernel_launcher.py:1: FutureWarning: `rcond` parameter will change to the default of machine precision times ``max(M, N)`` where M and N are the input matrix dimensions.\n",
      "To use the future default and silence this warning we advise to pass `rcond=None`, to keep using the old, explicitly pass `rcond=-1`.\n",
      "  \"\"\"Entry point for launching an IPython kernel.\n"
     ]
    },
    {
     "data": {
      "text/plain": [
       "array([[1.],\n",
       "       [1.],\n",
       "       [1.]])"
      ]
     },
     "execution_count": 29,
     "metadata": {},
     "output_type": "execute_result"
    }
   ],
   "source": [
    "x, resid, rank, s = np.linalg.lstsq(A, b)\n",
    "\n",
    "x"
   ]
  },
  {
   "cell_type": "markdown",
   "id": "exclusive-dynamics",
   "metadata": {},
   "source": [
    "## 선형 연립방정식과 선형 예측 모형"
   ]
  },
  {
   "cell_type": "markdown",
   "id": "unlimited-scout",
   "metadata": {},
   "source": [
    "앞서 정리한 선형 연립방정식의 해를 구하는 문제를 회귀모델의 가중치 벡터 $w$를 구하는 문제로 응용할 수 있다."
   ]
  },
  {
   "cell_type": "markdown",
   "id": "interesting-queensland",
   "metadata": {},
   "source": [
    "\\begin{split}\n",
    "\\begin{align}\n",
    "\\begin{matrix}\n",
    "x_{11} w_1 & + \\;& x_{12} w_2   &\\; + \\cdots + \\;& x_{1N} w_N &\\; = \\;& y_1 \\\\\n",
    "x_{21} w_1 & + \\;& x_{22} w_2   &\\; + \\cdots + \\;& x_{2N} w_N &\\; = \\;& y_2 \\\\\n",
    "\\vdots\\;\\;\\; &   & \\vdots\\;\\;\\; &                & \\vdots\\;\\;\\; &     & \\;\\vdots \\\\\n",
    "x_{N1} w_1 & + \\;& x_{N2} w_2   &\\; + \\cdots + \\;& x_{NN} w_N &\\; = \\;& y_N \\\\\n",
    "\\end{matrix}\n",
    "\\end{align}\n",
    "\\end{split}"
   ]
  },
  {
   "cell_type": "markdown",
   "id": "twenty-brazil",
   "metadata": {},
   "source": [
    "$$Xw = y$$"
   ]
  },
  {
   "cell_type": "markdown",
   "id": "charged-commercial",
   "metadata": {},
   "source": [
    "선형회귀 모델의 목적은 가중치 벡터 $w$를 찾는 것으로 $w = X^{-1}y$가 된다."
   ]
  },
  {
   "cell_type": "code",
   "execution_count": 60,
   "id": "informal-sally",
   "metadata": {
    "ExecuteTime": {
     "end_time": "2021-08-16T03:27:50.640652Z",
     "start_time": "2021-08-16T03:27:50.621702Z"
    }
   },
   "outputs": [],
   "source": [
    "from sklearn.datasets import load_boston\n",
    "\n",
    "boston = load_boston()\n",
    "X = boston.data\n",
    "y = boston.target\n",
    "A = X[:4,[0,4,5,6]] # CRIM, NOX, RM, AGE\n",
    "b = y[:4]"
   ]
  },
  {
   "cell_type": "code",
   "execution_count": 61,
   "id": "attempted-dealer",
   "metadata": {
    "ExecuteTime": {
     "end_time": "2021-08-16T03:27:50.813648Z",
     "start_time": "2021-08-16T03:27:50.794699Z"
    }
   },
   "outputs": [
    {
     "data": {
      "text/plain": [
       "array([[6.320e-03, 5.380e-01, 6.575e+00, 6.520e+01],\n",
       "       [2.731e-02, 4.690e-01, 6.421e+00, 7.890e+01],\n",
       "       [2.729e-02, 4.690e-01, 7.185e+00, 6.110e+01],\n",
       "       [3.237e-02, 4.580e-01, 6.998e+00, 4.580e+01]])"
      ]
     },
     "execution_count": 61,
     "metadata": {},
     "output_type": "execute_result"
    }
   ],
   "source": [
    "A"
   ]
  },
  {
   "cell_type": "code",
   "execution_count": 62,
   "id": "fluid-stuart",
   "metadata": {
    "ExecuteTime": {
     "end_time": "2021-08-16T03:27:50.982751Z",
     "start_time": "2021-08-16T03:27:50.965764Z"
    }
   },
   "outputs": [
    {
     "data": {
      "text/plain": [
       "array([24. , 21.6, 34.7, 33.4])"
      ]
     },
     "execution_count": 62,
     "metadata": {},
     "output_type": "execute_result"
    }
   ],
   "source": [
    "b"
   ]
  },
  {
   "cell_type": "code",
   "execution_count": 63,
   "id": "municipal-quality",
   "metadata": {
    "ExecuteTime": {
     "end_time": "2021-08-16T03:27:51.202412Z",
     "start_time": "2021-08-16T03:27:51.194474Z"
    },
    "scrolled": true
   },
   "outputs": [
    {
     "data": {
      "text/plain": [
       "array([-3.12710043e+02, -1.15193942e+02,  1.44996465e+01, -1.13259317e-01])"
      ]
     },
     "execution_count": 63,
     "metadata": {},
     "output_type": "execute_result"
    }
   ],
   "source": [
    "w = np.linalg.inv(A) @ b\n",
    "w"
   ]
  },
  {
   "cell_type": "code",
   "execution_count": 70,
   "id": "ambient-former",
   "metadata": {
    "ExecuteTime": {
     "end_time": "2021-08-16T03:29:21.731674Z",
     "start_time": "2021-08-16T03:29:21.711765Z"
    },
    "scrolled": true
   },
   "outputs": [
    {
     "data": {
      "text/plain": [
       "array([ 1.42108547e-14, -4.26325641e-14, -2.13162821e-14, -4.26325641e-14])"
      ]
     },
     "execution_count": 70,
     "metadata": {},
     "output_type": "execute_result"
    }
   ],
   "source": [
    "A @ w - b"
   ]
  },
  {
   "cell_type": "code",
   "execution_count": 73,
   "id": "committed-blogger",
   "metadata": {
    "ExecuteTime": {
     "end_time": "2021-08-16T03:33:33.351763Z",
     "start_time": "2021-08-16T03:33:33.341789Z"
    },
    "scrolled": true
   },
   "outputs": [
    {
     "name": "stderr",
     "output_type": "stream",
     "text": [
      "C:\\Users\\Kim\\AppData\\Roaming\\Python\\Python37\\site-packages\\ipykernel_launcher.py:3: FutureWarning: `rcond` parameter will change to the default of machine precision times ``max(M, N)`` where M and N are the input matrix dimensions.\n",
      "To use the future default and silence this warning we advise to pass `rcond=None`, to keep using the old, explicitly pass `rcond=-1`.\n",
      "  This is separate from the ipykernel package so we can avoid doing imports until\n"
     ]
    },
    {
     "data": {
      "text/plain": [
       "array([-3.12710043e+02, -1.15193942e+02,  1.44996465e+01, -1.13259317e-01])"
      ]
     },
     "execution_count": 73,
     "metadata": {},
     "output_type": "execute_result"
    }
   ],
   "source": [
    "# np.linalg.lstsq()\n",
    "\n",
    "w, resid, rank, s = np.linalg.lstsq(A, b)\n",
    "w"
   ]
  },
  {
   "cell_type": "markdown",
   "id": "disabled-smart",
   "metadata": {},
   "source": [
    "여기서 문제는 방정식의 수가 미지수의 수보다 적거나 많은 경우이다."
   ]
  },
  {
   "cell_type": "markdown",
   "id": "corrected-intent",
   "metadata": {},
   "source": [
    "선형연립방정식에서 위의 경우 해가 무수히 많거나 모든 조건을 만족하는 해가 존재하지 않을 수 있다."
   ]
  },
  {
   "cell_type": "markdown",
   "id": "convinced-aberdeen",
   "metadata": {},
   "source": [
    "하지만 실제 타겟값과 예측값의 오차를 최소한으로 만든다면 이 문제는 **근삿값을 구하는 문제**로 해결할 수 있다."
   ]
  },
  {
   "cell_type": "markdown",
   "id": "alpine-tolerance",
   "metadata": {},
   "source": [
    "여기서 타겟값과 예측값의 오차를 **잔차(residual)**이라 한다."
   ]
  },
  {
   "cell_type": "markdown",
   "id": "presidential-casino",
   "metadata": {},
   "source": [
    "$$e = y - \\hat{y}$$"
   ]
  },
  {
   "cell_type": "markdown",
   "id": "brave-patio",
   "metadata": {},
   "source": [
    "선형회귀분석에서 잔차벡터 $e$는 실제값과 예측값의 차이를 나타내며 **잔차제곱합(RSS)**은 벡터 $e$의 norm의 제곱으로 표시할 수 있다."
   ]
  },
  {
   "cell_type": "markdown",
   "id": "manufactured-stockholm",
   "metadata": {},
   "source": [
    "$$e^Te = ||e||^2 = y- \\hat{y} = y - Xw$$"
   ]
  },
  {
   "cell_type": "code",
   "execution_count": 74,
   "id": "joint-refund",
   "metadata": {
    "ExecuteTime": {
     "end_time": "2021-08-16T03:35:28.060723Z",
     "start_time": "2021-08-16T03:35:28.049753Z"
    }
   },
   "outputs": [
    {
     "data": {
      "text/plain": [
       "array([0, 1, 2, 3, 4])"
      ]
     },
     "execution_count": 74,
     "metadata": {},
     "output_type": "execute_result"
    }
   ],
   "source": [
    "e = np.arange(5)\n",
    "e"
   ]
  },
  {
   "cell_type": "code",
   "execution_count": 75,
   "id": "designing-migration",
   "metadata": {
    "ExecuteTime": {
     "end_time": "2021-08-16T03:35:31.913538Z",
     "start_time": "2021-08-16T03:35:31.905559Z"
    }
   },
   "outputs": [
    {
     "data": {
      "text/plain": [
       "30"
      ]
     },
     "execution_count": 75,
     "metadata": {},
     "output_type": "execute_result"
    }
   ],
   "source": [
    "e.T @ e"
   ]
  },
  {
   "cell_type": "code",
   "execution_count": 77,
   "id": "impressed-winning",
   "metadata": {
    "ExecuteTime": {
     "end_time": "2021-08-16T03:35:41.750847Z",
     "start_time": "2021-08-16T03:35:41.736030Z"
    }
   },
   "outputs": [
    {
     "data": {
      "text/plain": [
       "30.0"
      ]
     },
     "execution_count": 77,
     "metadata": {},
     "output_type": "execute_result"
    }
   ],
   "source": [
    "np.linalg.norm(e) ** 2"
   ]
  },
  {
   "cell_type": "markdown",
   "id": "alike-legislature",
   "metadata": {},
   "source": [
    "## 최소자승법(OLS)"
   ]
  },
  {
   "cell_type": "markdown",
   "id": "floppy-picture",
   "metadata": {},
   "source": [
    "즉, 잔차제곱합이 영벡터에 최대한 가까워지는 가중치 벡터 $w$를 구하는 문제가 된다."
   ]
  },
  {
   "cell_type": "markdown",
   "id": "unexpected-israel",
   "metadata": {},
   "source": [
    "RSS(잔차제곱합)을 가장 작게 만드는 가중치 벡터 $w$를 위의 내용을 이용해 정리하면 다음과 같이 표현할 수 있다."
   ]
  },
  {
   "cell_type": "markdown",
   "id": "controlled-greeting",
   "metadata": {},
   "source": [
    "$$RSS = e^Te$$\n",
    "$$= (y - Xw)^T(y - Xw)$$\n",
    "$$= y^Ty - 2y^TXw+w^TX^TXw$$"
   ]
  },
  {
   "cell_type": "markdown",
   "id": "provincial-brisbane",
   "metadata": {},
   "source": [
    "이렇게 정리한 식을 이용해 RSS를 최소로 만드는 가중치 벡터를 구하기 위한 방법으로 최적화를 이용할 수 있다.\n",
    "\n",
    "즉, 위 식을 $w$로 미분하여 잔차 제곱합의 그래디언트 벡터가 0이 되면 된다."
   ]
  },
  {
   "cell_type": "markdown",
   "id": "unsigned-involvement",
   "metadata": {},
   "source": [
    "$$\\dfrac{dRSS}{dw} = -2X^Ty + wX^TXw$$"
   ]
  },
  {
   "cell_type": "markdown",
   "id": "featured-roots",
   "metadata": {},
   "source": [
    "그래디언트 벡터가 0이 되어야 하기 때문에 다음의 식이 성립한다."
   ]
  },
  {
   "cell_type": "markdown",
   "id": "developmental-fluid",
   "metadata": {},
   "source": [
    "$$X^TXw^* =  X^Ty$$"
   ]
  },
  {
   "cell_type": "markdown",
   "id": "genetic-joshua",
   "metadata": {},
   "source": [
    "여기서 정방행렬인 $X^TX$의 역행렬이 존재한다면 가중치 벡터 $w^*$를 다음의 식으로 구할 수 있게된다."
   ]
  },
  {
   "cell_type": "markdown",
   "id": "olympic-alexandria",
   "metadata": {},
   "source": [
    "> $$w^* = (X^TX)^{-1}X^Ty$$"
   ]
  },
  {
   "cell_type": "markdown",
   "id": "heated-middle",
   "metadata": {},
   "source": [
    "위 식에서 $y$의 앞부분을 의사역행렬(pseudo inverse)라 하며 $A^+$로도 표기할 수 있다."
   ]
  },
  {
   "cell_type": "code",
   "execution_count": 106,
   "id": "detailed-wrapping",
   "metadata": {
    "ExecuteTime": {
     "end_time": "2021-08-16T04:05:59.271037Z",
     "start_time": "2021-08-16T04:05:59.245102Z"
    }
   },
   "outputs": [],
   "source": [
    "from sklearn.datasets import load_boston\n",
    "boston = load_boston()\n",
    "X = boston.data\n",
    "y = boston.target"
   ]
  },
  {
   "cell_type": "code",
   "execution_count": 107,
   "id": "employed-receiver",
   "metadata": {
    "ExecuteTime": {
     "end_time": "2021-08-16T04:05:59.442579Z",
     "start_time": "2021-08-16T04:05:59.430607Z"
    }
   },
   "outputs": [
    {
     "data": {
      "text/plain": [
       "array([-9.28965170e-02,  4.87149552e-02, -4.05997958e-03,  2.85399882e+00,\n",
       "       -2.86843637e+00,  5.92814778e+00, -7.26933458e-03, -9.68514157e-01,\n",
       "        1.71151128e-01, -9.39621540e-03, -3.92190926e-01,  1.49056102e-02,\n",
       "       -4.16304471e-01])"
      ]
     },
     "execution_count": 107,
     "metadata": {},
     "output_type": "execute_result"
    }
   ],
   "source": [
    "# 가중치 벡터 계산\n",
    "\n",
    "w = np.linalg.inv(X.T @ X) @ X.T @ y\n",
    "w"
   ]
  },
  {
   "cell_type": "code",
   "execution_count": 108,
   "id": "found-attachment",
   "metadata": {
    "ExecuteTime": {
     "end_time": "2021-08-16T04:05:59.789909Z",
     "start_time": "2021-08-16T04:05:59.614378Z"
    },
    "scrolled": true
   },
   "outputs": [
    {
     "data": {
      "text/latex": [
       "$\\displaystyle 12228.046261044$"
      ],
      "text/plain": [
       "12228.046261044003"
      ]
     },
     "execution_count": 108,
     "metadata": {},
     "output_type": "execute_result"
    },
    {
     "data": {
      "image/png": "[encoded data removed]",
      "text/plain": [
       "<Figure size 432x288 with 1 Axes>"
      ]
     },
     "metadata": {
      "image/png": {
       "height": 249,
       "width": 367
      },
      "needs_background": "light"
     },
     "output_type": "display_data"
    }
   ],
   "source": [
    "plt.plot(X @ w, label='predict')\n",
    "plt.plot(y, label='target', alpha=0.5)\n",
    "plt.legend()\n",
    "\n",
    "# 잔차제곱합\n",
    "np.linalg.norm(X@w - y) ** 2"
   ]
  },
  {
   "cell_type": "code",
   "execution_count": 109,
   "id": "purple-johnson",
   "metadata": {
    "ExecuteTime": {
     "end_time": "2021-08-16T04:05:59.900612Z",
     "start_time": "2021-08-16T04:05:59.886651Z"
    }
   },
   "outputs": [
    {
     "name": "stderr",
     "output_type": "stream",
     "text": [
      "C:\\Users\\Kim\\AppData\\Roaming\\Python\\Python37\\site-packages\\ipykernel_launcher.py:3: FutureWarning: `rcond` parameter will change to the default of machine precision times ``max(M, N)`` where M and N are the input matrix dimensions.\n",
      "To use the future default and silence this warning we advise to pass `rcond=None`, to keep using the old, explicitly pass `rcond=-1`.\n",
      "  This is separate from the ipykernel package so we can avoid doing imports until\n"
     ]
    },
    {
     "data": {
      "text/plain": [
       "array([-9.28965170e-02,  4.87149552e-02, -4.05997958e-03,  2.85399882e+00,\n",
       "       -2.86843637e+00,  5.92814778e+00, -7.26933458e-03, -9.68514157e-01,\n",
       "        1.71151128e-01, -9.39621540e-03, -3.92190926e-01,  1.49056102e-02,\n",
       "       -4.16304471e-01])"
      ]
     },
     "execution_count": 109,
     "metadata": {},
     "output_type": "execute_result"
    }
   ],
   "source": [
    "# lstsq() 메소드를 이용한 가중치 벡터 계산\n",
    "\n",
    "w, resid, rank, s = np.linalg.lstsq(X, y)\n",
    "w"
   ]
  }
 ],
 "metadata": {
  "kernelspec": {
   "display_name": "Python 3",
   "language": "python",
   "name": "python3"
  },
  "language_info": {
   "codemirror_mode": {
    "name": "ipython",
    "version": 3
   },
   "file_extension": ".py",
   "mimetype": "text/x-python",
   "name": "python",
   "nbconvert_exporter": "python",
   "pygments_lexer": "ipython3",
   "version": "3.7.10"
  },
  "nbTranslate": {
   "displayLangs": [
    "*"
   ],
   "hotkey": "alt-t",
   "langInMainMenu": true,
   "sourceLang": "en",
   "targetLang": "fr",
   "useGoogleTranslate": true
  },
  "varInspector": {
   "cols": {
    "lenName": 16,
    "lenType": 16,
    "lenVar": 40
   },
   "kernels_config": {
    "python": {
     "delete_cmd_postfix": "",
     "delete_cmd_prefix": "del ",
     "library": "var_list.py",
     "varRefreshCmd": "print(var_dic_list())"
    },
    "r": {
     "delete_cmd_postfix": ") ",
     "delete_cmd_prefix": "rm(",
     "library": "var_list.r",
     "varRefreshCmd": "cat(var_dic_list()) "
    }
   },
   "types_to_exclude": [
    "module",
    "function",
    "builtin_function_or_method",
    "instance",
    "_Feature"
   ],
   "window_display": false
  }
 },
 "nbformat": 4,
 "nbformat_minor": 5
}
