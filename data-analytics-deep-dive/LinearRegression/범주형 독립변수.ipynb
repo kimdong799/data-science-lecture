{
 "cells": [
  {
   "cell_type": "markdown",
   "id": "south-castle",
   "metadata": {},
   "source": [
    "## 범주형 독립변수"
   ]
  },
  {
   "cell_type": "code",
   "execution_count": 2,
   "id": "short-piano",
   "metadata": {
    "ExecuteTime": {
     "end_time": "2021-08-17T02:36:49.759197Z",
     "start_time": "2021-08-17T02:36:47.393741Z"
    }
   },
   "outputs": [
    {
     "data": {
      "text/html": [
       "<div>\n",
       "<style scoped>\n",
       "    .dataframe tbody tr th:only-of-type {\n",
       "        vertical-align: middle;\n",
       "    }\n",
       "\n",
       "    .dataframe tbody tr th {\n",
       "        vertical-align: top;\n",
       "    }\n",
       "\n",
       "    .dataframe thead th {\n",
       "        text-align: right;\n",
       "    }\n",
       "</style>\n",
       "<table border=\"1\" class=\"dataframe\">\n",
       "  <thead>\n",
       "    <tr style=\"text-align: right;\">\n",
       "      <th></th>\n",
       "      <th>time</th>\n",
       "      <th>value</th>\n",
       "      <th>month</th>\n",
       "    </tr>\n",
       "  </thead>\n",
       "  <tbody>\n",
       "    <tr>\n",
       "      <th>235</th>\n",
       "      <td>1939.583333</td>\n",
       "      <td>61.8</td>\n",
       "      <td>08</td>\n",
       "    </tr>\n",
       "    <tr>\n",
       "      <th>236</th>\n",
       "      <td>1939.666667</td>\n",
       "      <td>58.2</td>\n",
       "      <td>09</td>\n",
       "    </tr>\n",
       "    <tr>\n",
       "      <th>237</th>\n",
       "      <td>1939.750000</td>\n",
       "      <td>46.7</td>\n",
       "      <td>10</td>\n",
       "    </tr>\n",
       "    <tr>\n",
       "      <th>238</th>\n",
       "      <td>1939.833333</td>\n",
       "      <td>46.6</td>\n",
       "      <td>11</td>\n",
       "    </tr>\n",
       "    <tr>\n",
       "      <th>239</th>\n",
       "      <td>1939.916667</td>\n",
       "      <td>37.8</td>\n",
       "      <td>12</td>\n",
       "    </tr>\n",
       "  </tbody>\n",
       "</table>\n",
       "</div>"
      ],
      "text/plain": [
       "            time  value month\n",
       "235  1939.583333   61.8    08\n",
       "236  1939.666667   58.2    09\n",
       "237  1939.750000   46.7    10\n",
       "238  1939.833333   46.6    11\n",
       "239  1939.916667   37.8    12"
      ]
     },
     "execution_count": 2,
     "metadata": {},
     "output_type": "execute_result"
    }
   ],
   "source": [
    "import statsmodels.api as sm\n",
    "import datetime\n",
    "from calendar import isleap\n",
    "\n",
    "def convert_partial_year(number):\n",
    "    \"연 단위 숫자에서 날짜를 계산하는 코드\"\n",
    "    year = int(number)\n",
    "    d = datetime.timedelta(days=(number - year) * (365 + isleap(year)))\n",
    "    day_one = datetime.datetime(year, 1, 1)\n",
    "    date = d + day_one\n",
    "    return date\n",
    "\n",
    "df_nottem = sm.datasets.get_rdataset(\"nottem\").data\n",
    "df_nottem[\"date0\"] = df_nottem[[\"time\"]].applymap(convert_partial_year)\n",
    "df_nottem[\"date\"] = pd.DatetimeIndex(df_nottem[\"date0\"]).round('60min') + datetime.timedelta(seconds=3600*24)\n",
    "df_nottem[\"month\"] = df_nottem[\"date\"].dt.strftime(\"%m\").astype('category')\n",
    "del df_nottem[\"date0\"], df_nottem[\"date\"]\n",
    "df_nottem.tail()"
   ]
  },
  {
   "cell_type": "code",
   "execution_count": 4,
   "id": "listed-mustang",
   "metadata": {
    "ExecuteTime": {
     "end_time": "2021-08-17T02:37:12.485806Z",
     "start_time": "2021-08-17T02:37:12.171105Z"
    }
   },
   "outputs": [
    {
     "data": {
      "image/png": "[encoded data removed]",
      "text/plain": [
       "<Figure size 432x288 with 1 Axes>"
      ]
     },
     "metadata": {
      "image/png": {
       "height": 285,
       "width": 377
      },
      "needs_background": "light"
     },
     "output_type": "display_data"
    }
   ],
   "source": [
    "df_nottem.boxplot('value', 'month')\n",
    "plt.show()"
   ]
  },
  {
   "cell_type": "markdown",
   "id": "magnetic-vision",
   "metadata": {},
   "source": [
    "## 풀랭크방식"
   ]
  },
  {
   "cell_type": "markdown",
   "id": "about-shipping",
   "metadata": {},
   "source": [
    "풀랭크(full-rank)방식에서는 더미변수의 값을 원핫인코딩(one-hot-encoding)방식으로 지정한다."
   ]
  },
  {
   "cell_type": "markdown",
   "id": "senior-translator",
   "metadata": {},
   "source": [
    "**별도의 상수항은 포함하지 않는다.**"
   ]
  },
  {
   "cell_type": "code",
   "execution_count": 6,
   "id": "aggregate-straight",
   "metadata": {
    "ExecuteTime": {
     "end_time": "2021-08-17T02:37:58.925101Z",
     "start_time": "2021-08-17T02:37:58.880220Z"
    }
   },
   "outputs": [
    {
     "name": "stdout",
     "output_type": "stream",
     "text": [
      "                            OLS Regression Results                            \n",
      "==============================================================================\n",
      "Dep. Variable:                  value   R-squared:                       0.930\n",
      "Model:                            OLS   Adj. R-squared:                  0.927\n",
      "Method:                 Least Squares   F-statistic:                     277.3\n",
      "Date:                Tue, 17 Aug 2021   Prob (F-statistic):          2.96e-125\n",
      "Time:                        11:37:58   Log-Likelihood:                -535.82\n",
      "No. Observations:                 240   AIC:                             1096.\n",
      "Df Residuals:                     228   BIC:                             1137.\n",
      "Df Model:                          11                                         \n",
      "Covariance Type:            nonrobust                                         \n",
      "================================================================================\n",
      "                   coef    std err          t      P>|t|      [0.025      0.975]\n",
      "--------------------------------------------------------------------------------\n",
      "C(month)[01]    39.6950      0.518     76.691      0.000      38.675      40.715\n",
      "C(month)[02]    39.1900      0.518     75.716      0.000      38.170      40.210\n",
      "C(month)[03]    42.1950      0.518     81.521      0.000      41.175      43.215\n",
      "C(month)[04]    46.2900      0.518     89.433      0.000      45.270      47.310\n",
      "C(month)[05]    52.5600      0.518    101.547      0.000      51.540      53.580\n",
      "C(month)[06]    58.0400      0.518    112.134      0.000      57.020      59.060\n",
      "C(month)[07]    61.9000      0.518    119.592      0.000      60.880      62.920\n",
      "C(month)[08]    60.5200      0.518    116.926      0.000      59.500      61.540\n",
      "C(month)[09]    56.4800      0.518    109.120      0.000      55.460      57.500\n",
      "C(month)[10]    49.4950      0.518     95.625      0.000      48.475      50.515\n",
      "C(month)[11]    42.5800      0.518     82.265      0.000      41.560      43.600\n",
      "C(month)[12]    39.5300      0.518     76.373      0.000      38.510      40.550\n",
      "==============================================================================\n",
      "Omnibus:                        5.430   Durbin-Watson:                   1.529\n",
      "Prob(Omnibus):                  0.066   Jarque-Bera (JB):                5.299\n",
      "Skew:                          -0.281   Prob(JB):                       0.0707\n",
      "Kurtosis:                       3.463   Cond. No.                         1.00\n",
      "==============================================================================\n",
      "\n",
      "Notes:\n",
      "[1] Standard Errors assume that the covariance matrix of the errors is correctly specified.\n"
     ]
    }
   ],
   "source": [
    "model = sm.OLS.from_formula(\"value ~ C(month) + 0\", df_nottem)\n",
    "result = model.fit()\n",
    "print(result.summary())"
   ]
  },
  {
   "cell_type": "markdown",
   "id": "transsexual-arthur",
   "metadata": {},
   "source": [
    "## 축소랭크 방식"
   ]
  },
  {
   "cell_type": "markdown",
   "id": "turned-montreal",
   "metadata": {},
   "source": [
    "축소랭크(reduced-rank)방식은 특정한 하나의 범주값을 기준값(reference, baseline)으로 하고 기준값에 대응하는 더미변수의 가중치를 1로 놓는다."
   ]
  },
  {
   "cell_type": "markdown",
   "id": "unlike-queensland",
   "metadata": {},
   "source": [
    "**상수항을 포함해야하므로 formula에 +0은 제외한다.**"
   ]
  },
  {
   "cell_type": "code",
   "execution_count": 8,
   "id": "fleet-transaction",
   "metadata": {
    "ExecuteTime": {
     "end_time": "2021-08-17T02:39:02.170646Z",
     "start_time": "2021-08-17T02:39:02.139731Z"
    }
   },
   "outputs": [
    {
     "name": "stdout",
     "output_type": "stream",
     "text": [
      "                            OLS Regression Results                            \n",
      "==============================================================================\n",
      "Dep. Variable:                  value   R-squared:                       0.930\n",
      "Model:                            OLS   Adj. R-squared:                  0.927\n",
      "Method:                 Least Squares   F-statistic:                     277.3\n",
      "Date:                Tue, 17 Aug 2021   Prob (F-statistic):          2.96e-125\n",
      "Time:                        11:39:02   Log-Likelihood:                -535.82\n",
      "No. Observations:                 240   AIC:                             1096.\n",
      "Df Residuals:                     228   BIC:                             1137.\n",
      "Df Model:                          11                                         \n",
      "Covariance Type:            nonrobust                                         \n",
      "==================================================================================\n",
      "                     coef    std err          t      P>|t|      [0.025      0.975]\n",
      "----------------------------------------------------------------------------------\n",
      "Intercept         39.6950      0.518     76.691      0.000      38.675      40.715\n",
      "C(month)[T.02]    -0.5050      0.732     -0.690      0.491      -1.947       0.937\n",
      "C(month)[T.03]     2.5000      0.732      3.415      0.001       1.058       3.942\n",
      "C(month)[T.04]     6.5950      0.732      9.010      0.000       5.153       8.037\n",
      "C(month)[T.05]    12.8650      0.732     17.575      0.000      11.423      14.307\n",
      "C(month)[T.06]    18.3450      0.732     25.062      0.000      16.903      19.787\n",
      "C(month)[T.07]    22.2050      0.732     30.335      0.000      20.763      23.647\n",
      "C(month)[T.08]    20.8250      0.732     28.450      0.000      19.383      22.267\n",
      "C(month)[T.09]    16.7850      0.732     22.931      0.000      15.343      18.227\n",
      "C(month)[T.10]     9.8000      0.732     13.388      0.000       8.358      11.242\n",
      "C(month)[T.11]     2.8850      0.732      3.941      0.000       1.443       4.327\n",
      "C(month)[T.12]    -0.1650      0.732     -0.225      0.822      -1.607       1.277\n",
      "==============================================================================\n",
      "Omnibus:                        5.430   Durbin-Watson:                   1.529\n",
      "Prob(Omnibus):                  0.066   Jarque-Bera (JB):                5.299\n",
      "Skew:                          -0.281   Prob(JB):                       0.0707\n",
      "Kurtosis:                       3.463   Cond. No.                         12.9\n",
      "==============================================================================\n",
      "\n",
      "Notes:\n",
      "[1] Standard Errors assume that the covariance matrix of the errors is correctly specified.\n"
     ]
    }
   ],
   "source": [
    "model = sm.OLS.from_formula(\"value ~ C(month)\", df_nottem)\n",
    "result = model.fit()\n",
    "print(result.summary())"
   ]
  },
  {
   "cell_type": "markdown",
   "id": "addressed-tucson",
   "metadata": {},
   "source": [
    "축소랭크 방식의 결과 intercept(y절편)이 1월의 범주데이터가 기준이 되었다."
   ]
  },
  {
   "cell_type": "markdown",
   "id": "periodic-chambers",
   "metadata": {},
   "source": [
    "2월, 3월 등등의 coef값은 기준값이 되는 1월에 비해 얼마나 높냐 낮냐를 의미"
   ]
  },
  {
   "cell_type": "markdown",
   "id": "sapphire-birthday",
   "metadata": {},
   "source": [
    "(P > |t|)의 의미는 해당 독립변수의 coef 값이 사실은 0일 것이라는 귀무가설에 대한 유의확률"
   ]
  },
  {
   "cell_type": "markdown",
   "id": "incorrect-agriculture",
   "metadata": {},
   "source": [
    "## 보스턴 집값 데이터 범주형 변수"
   ]
  },
  {
   "cell_type": "markdown",
   "id": "polish-relevance",
   "metadata": {},
   "source": [
    "보스턴 집값 데이터는 CHAS라는 범주형 변수가 있고 0과 1이라는 두개의 값을 가진다."
   ]
  },
  {
   "cell_type": "code",
   "execution_count": 9,
   "id": "monthly-parker",
   "metadata": {
    "ExecuteTime": {
     "end_time": "2021-08-17T03:05:07.803240Z",
     "start_time": "2021-08-17T03:05:06.571049Z"
    }
   },
   "outputs": [],
   "source": [
    "from sklearn.datasets import load_boston\n",
    "\n",
    "boston = load_boston()\n",
    "\n",
    "dfX = pd.DataFrame(boston.data, columns=boston.feature_names)\n",
    "dfy = pd.DataFrame(boston.target, columns=[\"MEDV\"])\n",
    "df_boston = pd.concat([dfX, dfy], axis=1)"
   ]
  },
  {
   "cell_type": "code",
   "execution_count": 11,
   "id": "celtic-fellowship",
   "metadata": {
    "ExecuteTime": {
     "end_time": "2021-08-17T03:05:58.092562Z",
     "start_time": "2021-08-17T03:05:58.041699Z"
    }
   },
   "outputs": [
    {
     "name": "stdout",
     "output_type": "stream",
     "text": [
      "                            OLS Regression Results                            \n",
      "==============================================================================\n",
      "Dep. Variable:                   MEDV   R-squared:                       0.741\n",
      "Model:                            OLS   Adj. R-squared:                  0.734\n",
      "Method:                 Least Squares   F-statistic:                     108.1\n",
      "Date:                Tue, 17 Aug 2021   Prob (F-statistic):          6.72e-135\n",
      "Time:                        12:05:58   Log-Likelihood:                -1498.8\n",
      "No. Observations:                 506   AIC:                             3026.\n",
      "Df Residuals:                     492   BIC:                             3085.\n",
      "Df Model:                          13                                         \n",
      "Covariance Type:            nonrobust                                         \n",
      "==============================================================================\n",
      "                 coef    std err          t      P>|t|      [0.025      0.975]\n",
      "------------------------------------------------------------------------------\n",
      "Intercept     36.4595      5.103      7.144      0.000      26.432      46.487\n",
      "CRIM          -0.1080      0.033     -3.287      0.001      -0.173      -0.043\n",
      "ZN             0.0464      0.014      3.382      0.001       0.019       0.073\n",
      "INDUS          0.0206      0.061      0.334      0.738      -0.100       0.141\n",
      "CHAS           2.6867      0.862      3.118      0.002       0.994       4.380\n",
      "NOX          -17.7666      3.820     -4.651      0.000     -25.272     -10.262\n",
      "RM             3.8099      0.418      9.116      0.000       2.989       4.631\n",
      "AGE            0.0007      0.013      0.052      0.958      -0.025       0.027\n",
      "DIS           -1.4756      0.199     -7.398      0.000      -1.867      -1.084\n",
      "RAD            0.3060      0.066      4.613      0.000       0.176       0.436\n",
      "TAX           -0.0123      0.004     -3.280      0.001      -0.020      -0.005\n",
      "PTRATIO       -0.9527      0.131     -7.283      0.000      -1.210      -0.696\n",
      "B              0.0093      0.003      3.467      0.001       0.004       0.015\n",
      "LSTAT         -0.5248      0.051    -10.347      0.000      -0.624      -0.425\n",
      "==============================================================================\n",
      "Omnibus:                      178.041   Durbin-Watson:                   1.078\n",
      "Prob(Omnibus):                  0.000   Jarque-Bera (JB):              783.126\n",
      "Skew:                           1.521   Prob(JB):                    8.84e-171\n",
      "Kurtosis:                       8.281   Cond. No.                     1.51e+04\n",
      "==============================================================================\n",
      "\n",
      "Notes:\n",
      "[1] Standard Errors assume that the covariance matrix of the errors is correctly specified.\n",
      "[2] The condition number is large, 1.51e+04. This might indicate that there are\n",
      "strong multicollinearity or other numerical problems.\n"
     ]
    }
   ],
   "source": [
    "model = sm.OLS.from_formula('MEDV ~ ' + '+'.join(boston.feature_names), data=df_boston)\n",
    "result = model.fit()\n",
    "print(result.summary())"
   ]
  },
  {
   "cell_type": "markdown",
   "id": "hourly-auction",
   "metadata": {},
   "source": [
    "상수값 가중치를 가지지 않는 모형 : 풀랭크 방식으로 더미변수 변환된 것과 같다."
   ]
  },
  {
   "cell_type": "code",
   "execution_count": 12,
   "id": "spiritual-convert",
   "metadata": {
    "ExecuteTime": {
     "end_time": "2021-08-17T03:07:36.830637Z",
     "start_time": "2021-08-17T03:07:36.785729Z"
    }
   },
   "outputs": [
    {
     "name": "stdout",
     "output_type": "stream",
     "text": [
      "                            OLS Regression Results                            \n",
      "==============================================================================\n",
      "Dep. Variable:                   MEDV   R-squared:                       0.741\n",
      "Model:                            OLS   Adj. R-squared:                  0.734\n",
      "Method:                 Least Squares   F-statistic:                     108.1\n",
      "Date:                Tue, 17 Aug 2021   Prob (F-statistic):          6.72e-135\n",
      "Time:                        12:07:36   Log-Likelihood:                -1498.8\n",
      "No. Observations:                 506   AIC:                             3026.\n",
      "Df Residuals:                     492   BIC:                             3085.\n",
      "Df Model:                          13                                         \n",
      "Covariance Type:            nonrobust                                         \n",
      "================================================================================\n",
      "                   coef    std err          t      P>|t|      [0.025      0.975]\n",
      "--------------------------------------------------------------------------------\n",
      "C(CHAS)[0.0]    36.4595      5.103      7.144      0.000      26.432      46.487\n",
      "C(CHAS)[1.0]    39.1462      5.153      7.597      0.000      29.023      49.270\n",
      "CRIM            -0.1080      0.033     -3.287      0.001      -0.173      -0.043\n",
      "ZN               0.0464      0.014      3.382      0.001       0.019       0.073\n",
      "INDUS            0.0206      0.061      0.334      0.738      -0.100       0.141\n",
      "NOX            -17.7666      3.820     -4.651      0.000     -25.272     -10.262\n",
      "RM               3.8099      0.418      9.116      0.000       2.989       4.631\n",
      "AGE              0.0007      0.013      0.052      0.958      -0.025       0.027\n",
      "DIS             -1.4756      0.199     -7.398      0.000      -1.867      -1.084\n",
      "RAD              0.3060      0.066      4.613      0.000       0.176       0.436\n",
      "TAX             -0.0123      0.004     -3.280      0.001      -0.020      -0.005\n",
      "PTRATIO         -0.9527      0.131     -7.283      0.000      -1.210      -0.696\n",
      "B                0.0093      0.003      3.467      0.001       0.004       0.015\n",
      "LSTAT           -0.5248      0.051    -10.347      0.000      -0.624      -0.425\n",
      "==============================================================================\n",
      "Omnibus:                      178.041   Durbin-Watson:                   1.078\n",
      "Prob(Omnibus):                  0.000   Jarque-Bera (JB):              783.126\n",
      "Skew:                           1.521   Prob(JB):                    8.84e-171\n",
      "Kurtosis:                       8.281   Cond. No.                     2.01e+04\n",
      "==============================================================================\n",
      "\n",
      "Notes:\n",
      "[1] Standard Errors assume that the covariance matrix of the errors is correctly specified.\n",
      "[2] The condition number is large, 2.01e+04. This might indicate that there are\n",
      "strong multicollinearity or other numerical problems.\n"
     ]
    }
   ],
   "source": [
    "feature_names = list(boston.feature_names)\n",
    "feature_names.remove(\"CHAS\") \n",
    "feature_names = [name for name in feature_names] + [\"C(CHAS)\"]\n",
    "model2 = sm.OLS.from_formula(\"MEDV ~ 0 + \" + \"+\".join(feature_names), data=df_boston)\n",
    "result2 = model2.fit()\n",
    "print(result2.summary())"
   ]
  },
  {
   "cell_type": "code",
   "execution_count": null,
   "id": "threatened-computer",
   "metadata": {},
   "outputs": [],
   "source": []
  }
 ],
 "metadata": {
  "kernelspec": {
   "display_name": "Python 3",
   "language": "python",
   "name": "python3"
  },
  "language_info": {
   "codemirror_mode": {
    "name": "ipython",
    "version": 3
   },
   "file_extension": ".py",
   "mimetype": "text/x-python",
   "name": "python",
   "nbconvert_exporter": "python",
   "pygments_lexer": "ipython3",
   "version": "3.7.10"
  },
  "nbTranslate": {
   "displayLangs": [
    "*"
   ],
   "hotkey": "alt-t",
   "langInMainMenu": true,
   "sourceLang": "en",
   "targetLang": "fr",
   "useGoogleTranslate": true
  },
  "varInspector": {
   "cols": {
    "lenName": 16,
    "lenType": 16,
    "lenVar": 40
   },
   "kernels_config": {
    "python": {
     "delete_cmd_postfix": "",
     "delete_cmd_prefix": "del ",
     "library": "var_list.py",
     "varRefreshCmd": "print(var_dic_list())"
    },
    "r": {
     "delete_cmd_postfix": ") ",
     "delete_cmd_prefix": "rm(",
     "library": "var_list.r",
     "varRefreshCmd": "cat(var_dic_list()) "
    }
   },
   "types_to_exclude": [
    "module",
    "function",
    "builtin_function_or_method",
    "instance",
    "_Feature"
   ],
   "window_display": false
  }
 },
 "nbformat": 4,
 "nbformat_minor": 5
}
