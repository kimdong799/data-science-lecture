{
 "cells": [
  {
   "cell_type": "code",
   "execution_count": 1,
   "id": "oriental-strand",
   "metadata": {
    "ExecuteTime": {
     "end_time": "2021-08-30T04:16:56.277972Z",
     "start_time": "2021-08-30T04:16:55.943923Z"
    }
   },
   "outputs": [],
   "source": [
    "import gensim"
   ]
  },
  {
   "cell_type": "markdown",
   "id": "romance-crawford",
   "metadata": {},
   "source": [
    "# step 1 : corpus 생성"
   ]
  },
  {
   "cell_type": "code",
   "execution_count": 2,
   "id": "relative-width",
   "metadata": {
    "ExecuteTime": {
     "end_time": "2021-08-30T04:18:46.846797Z",
     "start_time": "2021-08-30T04:18:46.839850Z"
    }
   },
   "outputs": [],
   "source": [
    "corpus = [\n",
    "    'This is the first document.',\n",
    "    'This is the second second document.',\n",
    "    'And the third one.',\n",
    "    'Is this the first document?',\n",
    "    'The last document?',\n",
    "]"
   ]
  },
  {
   "cell_type": "markdown",
   "id": "assumed-strain",
   "metadata": {},
   "source": [
    "# step 2 : 토큰 리스트 생성"
   ]
  },
  {
   "cell_type": "code",
   "execution_count": 4,
   "id": "diverse-basis",
   "metadata": {
    "ExecuteTime": {
     "end_time": "2021-08-30T04:19:37.146464Z",
     "start_time": "2021-08-30T04:19:37.133486Z"
    }
   },
   "outputs": [
    {
     "data": {
      "text/plain": [
       "[['This', 'is', 'the', 'first', 'document.'],\n",
       " ['This', 'is', 'the', 'second', 'second', 'document.'],\n",
       " ['And', 'the', 'third', 'one.'],\n",
       " ['Is', 'this', 'the', 'first', 'document?'],\n",
       " ['The', 'last', 'document?']]"
      ]
     },
     "execution_count": 4,
     "metadata": {},
     "output_type": "execute_result"
    }
   ],
   "source": [
    "token_list = [[text for text in doc.split()] for doc in corpus]\n",
    "token_list"
   ]
  },
  {
   "cell_type": "markdown",
   "id": "lucky-cologne",
   "metadata": {},
   "source": [
    "# step 3 : Dictionary 객체 생성"
   ]
  },
  {
   "cell_type": "code",
   "execution_count": 5,
   "id": "ruled-reality",
   "metadata": {
    "ExecuteTime": {
     "end_time": "2021-08-30T04:20:59.905307Z",
     "start_time": "2021-08-30T04:20:59.887322Z"
    }
   },
   "outputs": [
    {
     "data": {
      "text/plain": [
       "{'This': 0,\n",
       " 'document.': 1,\n",
       " 'first': 2,\n",
       " 'is': 3,\n",
       " 'the': 4,\n",
       " 'second': 5,\n",
       " 'And': 6,\n",
       " 'one.': 7,\n",
       " 'third': 8,\n",
       " 'Is': 9,\n",
       " 'document?': 10,\n",
       " 'this': 11,\n",
       " 'The': 12,\n",
       " 'last': 13}"
      ]
     },
     "execution_count": 5,
     "metadata": {},
     "output_type": "execute_result"
    }
   ],
   "source": [
    "from gensim.corpora import Dictionary\n",
    "\n",
    "dictionary = Dictionary(token_list)\n",
    "\n",
    "# 단어장\n",
    "dictionary.token2id"
   ]
  },
  {
   "cell_type": "markdown",
   "id": "casual-tactics",
   "metadata": {},
   "source": [
    "# step 4 : BOW 인코딩"
   ]
  },
  {
   "cell_type": "code",
   "execution_count": 7,
   "id": "documentary-point",
   "metadata": {
    "ExecuteTime": {
     "end_time": "2021-08-30T04:22:06.980913Z",
     "start_time": "2021-08-30T04:22:06.961999Z"
    }
   },
   "outputs": [
    {
     "data": {
      "text/plain": [
       "[[(0, 1), (1, 1), (2, 1), (3, 1), (4, 1)],\n",
       " [(0, 1), (1, 1), (3, 1), (4, 1), (5, 2)],\n",
       " [(4, 1), (6, 1), (7, 1), (8, 1)],\n",
       " [(2, 1), (4, 1), (9, 1), (10, 1), (11, 1)],\n",
       " [(10, 1), (12, 1), (13, 1)]]"
      ]
     },
     "execution_count": 7,
     "metadata": {},
     "output_type": "execute_result"
    }
   ],
   "source": [
    "term_matrix = [dictionary.doc2bow(tokens) for tokens in token_list]\n",
    "term_matrix"
   ]
  },
  {
   "cell_type": "markdown",
   "id": "israeli-omaha",
   "metadata": {},
   "source": [
    "n번째 단어가 M번 쓰인것을 sparse matrix형태로 반환"
   ]
  },
  {
   "cell_type": "markdown",
   "id": "superior-depression",
   "metadata": {},
   "source": [
    "# step 5 : TF-IDF 인코딩"
   ]
  },
  {
   "cell_type": "code",
   "execution_count": 8,
   "id": "regional-panic",
   "metadata": {
    "ExecuteTime": {
     "end_time": "2021-08-30T04:24:17.085604Z",
     "start_time": "2021-08-30T04:24:17.076660Z"
    }
   },
   "outputs": [
    {
     "name": "stdout",
     "output_type": "stream",
     "text": [
      "doc:\n",
      "0 0.49633406058198626\n",
      "1 0.49633406058198626\n",
      "2 0.49633406058198626\n",
      "3 0.49633406058198626\n",
      "4 0.12087183801361165\n",
      "doc:\n",
      "0 0.25482305694621393\n",
      "1 0.25482305694621393\n",
      "3 0.25482305694621393\n",
      "4 0.0620568558708622\n",
      "5 0.8951785160431313\n",
      "doc:\n",
      "4 0.07979258234193365\n",
      "6 0.5755093812740171\n",
      "7 0.5755093812740171\n",
      "8 0.5755093812740171\n",
      "doc:\n",
      "2 0.3485847413542797\n",
      "4 0.08489056411237639\n",
      "9 0.6122789185961829\n",
      "10 0.3485847413542797\n",
      "11 0.6122789185961829\n",
      "doc:\n",
      "10 0.37344696513776354\n",
      "12 0.6559486886294514\n",
      "13 0.6559486886294514\n"
     ]
    }
   ],
   "source": [
    "from gensim.models import TfidfModel\n",
    "\n",
    "tfidf = TfidfModel(term_matrix)\n",
    "\n",
    "for doc in tfidf[term_matrix]:\n",
    "    print('doc:')\n",
    "    for k, v in doc:\n",
    "        print(k, v)"
   ]
  }
 ],
 "metadata": {
  "kernelspec": {
   "display_name": "Python 3",
   "language": "python",
   "name": "python3"
  },
  "language_info": {
   "codemirror_mode": {
    "name": "ipython",
    "version": 3
   },
   "file_extension": ".py",
   "mimetype": "text/x-python",
   "name": "python",
   "nbconvert_exporter": "python",
   "pygments_lexer": "ipython3",
   "version": "3.7.10"
  },
  "nbTranslate": {
   "displayLangs": [
    "*"
   ],
   "hotkey": "alt-t",
   "langInMainMenu": true,
   "sourceLang": "en",
   "targetLang": "fr",
   "useGoogleTranslate": true
  },
  "varInspector": {
   "cols": {
    "lenName": 16,
    "lenType": 16,
    "lenVar": 40
   },
   "kernels_config": {
    "python": {
     "delete_cmd_postfix": "",
     "delete_cmd_prefix": "del ",
     "library": "var_list.py",
     "varRefreshCmd": "print(var_dic_list())"
    },
    "r": {
     "delete_cmd_postfix": ") ",
     "delete_cmd_prefix": "rm(",
     "library": "var_list.r",
     "varRefreshCmd": "cat(var_dic_list()) "
    }
   },
   "types_to_exclude": [
    "module",
    "function",
    "builtin_function_or_method",
    "instance",
    "_Feature"
   ],
   "window_display": false
  }
 },
 "nbformat": 4,
 "nbformat_minor": 5
}
