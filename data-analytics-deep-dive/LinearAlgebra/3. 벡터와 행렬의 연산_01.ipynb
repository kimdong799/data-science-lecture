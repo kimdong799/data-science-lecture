{
 "cells": [
  {
   "cell_type": "markdown",
   "id": "nutritional-annex",
   "metadata": {},
   "source": [
    "## 벡터/행렬의 덧셈과 뺄셈"
   ]
  },
  {
   "cell_type": "markdown",
   "id": "referenced-crazy",
   "metadata": {},
   "source": [
    "벡터와 행렬은 같은 크기(길이)를 가진다는 조건하에 덧셈과 뺄셈이 가능하다.\n",
    "\n",
    "이 때 벡터와 행렬의 연산은 같은 위치에 있는 요소끼리 연산이 수행되며 이를 요소별 연산(elemenet-wise)라 한다."
   ]
  },
  {
   "cell_type": "markdown",
   "id": "expanded-license",
   "metadata": {},
   "source": [
    "다음과 같은 x, y 두 벡터가 있다고 가정하자"
   ]
  },
  {
   "cell_type": "code",
   "execution_count": 3,
   "id": "chubby-muslim",
   "metadata": {
    "ExecuteTime": {
     "end_time": "2021-07-09T07:11:19.752138Z",
     "start_time": "2021-07-09T07:11:19.736179Z"
    }
   },
   "outputs": [
    {
     "name": "stdout",
     "output_type": "stream",
     "text": [
      "[[10 11 12]] [[0 1 2]]\n"
     ]
    }
   ],
   "source": [
    "X = np.array([[10, 11, 12]])\n",
    "Y = np.array([[0, 1, 2]])\n",
    "\n",
    "print(X, Y)"
   ]
  },
  {
   "cell_type": "markdown",
   "id": "dated-burton",
   "metadata": {},
   "source": [
    "위의 두 벡터는 3이라는 동일한 크기를 가지므로 덧셈과 뺄셈 연산이 가능하다."
   ]
  },
  {
   "cell_type": "code",
   "execution_count": 5,
   "id": "union-street",
   "metadata": {
    "ExecuteTime": {
     "end_time": "2021-07-09T07:11:44.168973Z",
     "start_time": "2021-07-09T07:11:44.155011Z"
    }
   },
   "outputs": [
    {
     "data": {
      "text/plain": [
       "array([[10, 12, 14]])"
      ]
     },
     "execution_count": 5,
     "metadata": {},
     "output_type": "execute_result"
    }
   ],
   "source": [
    "X + Y"
   ]
  },
  {
   "cell_type": "code",
   "execution_count": 6,
   "id": "documented-foster",
   "metadata": {
    "ExecuteTime": {
     "end_time": "2021-07-09T07:11:46.613136Z",
     "start_time": "2021-07-09T07:11:46.597180Z"
    }
   },
   "outputs": [
    {
     "data": {
      "text/plain": [
       "array([[10, 10, 10]])"
      ]
     },
     "execution_count": 6,
     "metadata": {},
     "output_type": "execute_result"
    }
   ],
   "source": [
    "X - Y"
   ]
  },
  {
   "cell_type": "markdown",
   "id": "played-innocent",
   "metadata": {},
   "source": [
    "위 연산 수행 결과처럼 두 벡터/행렬 간에 동일한 위치의 요소끼리 연산이 수행되고 이를 요소별 연산(element-wise)라 한다."
   ]
  },
  {
   "cell_type": "markdown",
   "id": "aboriginal-clothing",
   "metadata": {},
   "source": [
    "추가적으로 아래와 같은 항등행렬같의 연산을 통해 연산 수행 결과를 살펴보자"
   ]
  },
  {
   "cell_type": "markdown",
   "id": "vertical-warning",
   "metadata": {},
   "source": [
    "항등행렬은 정방행렬로 행과 열이 같은 크기를 가진 행렬이다. 따라서 정방행렬과 정방행렬과의 연산 결과는 역시 정방행렬임을 알 수 있다."
   ]
  },
  {
   "cell_type": "code",
   "execution_count": 12,
   "id": "guilty-voltage",
   "metadata": {
    "ExecuteTime": {
     "end_time": "2021-07-09T07:13:21.111000Z",
     "start_time": "2021-07-09T07:13:21.098037Z"
    }
   },
   "outputs": [
    {
     "name": "stdout",
     "output_type": "stream",
     "text": [
      "matrix X\n",
      "[[1. 0. 0.]\n",
      " [0. 1. 0.]\n",
      " [0. 0. 1.]]\n",
      "matrix Y\n",
      "[[1. 0. 0.]\n",
      " [0. 1. 0.]\n",
      " [0. 0. 1.]]\n"
     ]
    }
   ],
   "source": [
    "X = np.eye(3)\n",
    "Y = np.eye(3)\n",
    "\n",
    "print('matrix X')\n",
    "print(X)\n",
    "print('matrix Y')\n",
    "print(Y)"
   ]
  },
  {
   "cell_type": "code",
   "execution_count": 13,
   "id": "congressional-pittsburgh",
   "metadata": {
    "ExecuteTime": {
     "end_time": "2021-07-09T07:14:38.638454Z",
     "start_time": "2021-07-09T07:14:38.628480Z"
    }
   },
   "outputs": [
    {
     "data": {
      "text/plain": [
       "array([[2., 0., 0.],\n",
       "       [0., 2., 0.],\n",
       "       [0., 0., 2.]])"
      ]
     },
     "execution_count": 13,
     "metadata": {},
     "output_type": "execute_result"
    }
   ],
   "source": [
    "X+Y"
   ]
  },
  {
   "cell_type": "markdown",
   "id": "irish-township",
   "metadata": {},
   "source": [
    "## 스칼라와 벡터/행렬의 곱셈"
   ]
  },
  {
   "cell_type": "markdown",
   "id": "developing-seafood",
   "metadata": {},
   "source": [
    "벡터 X 또는 행렬 A에 스칼라 C를 곱하는 것은 벡터 X와 행렬 A의 모든 원소에 스칼라 C를 곱하는 것과 같다."
   ]
  },
  {
   "cell_type": "markdown",
   "id": "abstract-copper",
   "metadata": {},
   "source": [
    "아래의 예시를 통해 실제 연산이 어떻게 이루어지는지 살펴보자"
   ]
  },
  {
   "cell_type": "code",
   "execution_count": 19,
   "id": "refined-canvas",
   "metadata": {
    "ExecuteTime": {
     "end_time": "2021-07-09T07:20:25.202307Z",
     "start_time": "2021-07-09T07:20:25.189342Z"
    }
   },
   "outputs": [
    {
     "data": {
      "text/plain": [
       "array([10])"
      ]
     },
     "execution_count": 19,
     "metadata": {},
     "output_type": "execute_result"
    }
   ],
   "source": [
    "# 스칼라\n",
    "\n",
    "C = np.array([10])\n",
    "C"
   ]
  },
  {
   "cell_type": "code",
   "execution_count": 15,
   "id": "given-option",
   "metadata": {
    "ExecuteTime": {
     "end_time": "2021-07-09T07:19:12.117375Z",
     "start_time": "2021-07-09T07:19:12.100405Z"
    }
   },
   "outputs": [
    {
     "data": {
      "text/plain": [
       "array([0, 1, 2, 3, 4, 5, 6, 7, 8, 9])"
      ]
     },
     "execution_count": 15,
     "metadata": {},
     "output_type": "execute_result"
    }
   ],
   "source": [
    "# 벡터 X\n",
    "\n",
    "X = np.arange(10)\n",
    "X"
   ]
  },
  {
   "cell_type": "code",
   "execution_count": 20,
   "id": "sorted-amino",
   "metadata": {
    "ExecuteTime": {
     "end_time": "2021-07-09T07:20:36.199839Z",
     "start_time": "2021-07-09T07:20:36.185849Z"
    }
   },
   "outputs": [
    {
     "data": {
      "text/plain": [
       "array([ 0, 10, 20, 30, 40, 50, 60, 70, 80, 90])"
      ]
     },
     "execution_count": 20,
     "metadata": {},
     "output_type": "execute_result"
    }
   ],
   "source": [
    "# 스칼라와 벡터의 곱\n",
    "\n",
    "C*X"
   ]
  },
  {
   "cell_type": "code",
   "execution_count": 17,
   "id": "opening-external",
   "metadata": {
    "ExecuteTime": {
     "end_time": "2021-07-09T07:19:27.440157Z",
     "start_time": "2021-07-09T07:19:27.430194Z"
    }
   },
   "outputs": [
    {
     "data": {
      "text/plain": [
       "array([[1., 0., 0., 0., 0.],\n",
       "       [0., 1., 0., 0., 0.],\n",
       "       [0., 0., 1., 0., 0.],\n",
       "       [0., 0., 0., 1., 0.],\n",
       "       [0., 0., 0., 0., 1.]])"
      ]
     },
     "execution_count": 17,
     "metadata": {},
     "output_type": "execute_result"
    }
   ],
   "source": [
    "# Matrix A\n",
    "\n",
    "A = np.eye(5)\n",
    "A"
   ]
  },
  {
   "cell_type": "code",
   "execution_count": 21,
   "id": "center-legend",
   "metadata": {
    "ExecuteTime": {
     "end_time": "2021-07-09T07:20:55.754504Z",
     "start_time": "2021-07-09T07:20:55.743536Z"
    }
   },
   "outputs": [
    {
     "data": {
      "text/plain": [
       "array([[10.,  0.,  0.,  0.,  0.],\n",
       "       [ 0., 10.,  0.,  0.,  0.],\n",
       "       [ 0.,  0., 10.,  0.,  0.],\n",
       "       [ 0.,  0.,  0., 10.,  0.],\n",
       "       [ 0.,  0.,  0.,  0., 10.]])"
      ]
     },
     "execution_count": 21,
     "metadata": {},
     "output_type": "execute_result"
    }
   ],
   "source": [
    "# 스칼라와 Matrix의 곱\n",
    "\n",
    "C * A"
   ]
  },
  {
   "cell_type": "markdown",
   "id": "bronze-headquarters",
   "metadata": {},
   "source": [
    "## 브로드캐스팅"
   ]
  },
  {
   "cell_type": "markdown",
   "id": "proved-decline",
   "metadata": {},
   "source": [
    "기본적으로 덧셈과 뺄셈은 두 백터의 크기가 같은 조건하에 가능하다. 하지만 벡터와 스칼라의 경우 일벡터를 이용해 스칼라를 벡터로 변환해 연산을 수행할 수 있으며 이를 브로드캐스팅(broadcasting)이라 한다."
   ]
  },
  {
   "cell_type": "code",
   "execution_count": 22,
   "id": "mobile-fireplace",
   "metadata": {
    "ExecuteTime": {
     "end_time": "2021-07-09T07:27:00.069825Z",
     "start_time": "2021-07-09T07:27:00.065871Z"
    }
   },
   "outputs": [
    {
     "data": {
      "text/plain": [
       "array([[10, 11, 12]])"
      ]
     },
     "execution_count": 22,
     "metadata": {},
     "output_type": "execute_result"
    }
   ],
   "source": [
    "X = np.array([[10, 11, 12]])\n",
    "X"
   ]
  },
  {
   "cell_type": "code",
   "execution_count": 25,
   "id": "diagnostic-viewer",
   "metadata": {
    "ExecuteTime": {
     "end_time": "2021-07-09T07:27:14.525023Z",
     "start_time": "2021-07-09T07:27:14.520035Z"
    }
   },
   "outputs": [
    {
     "data": {
      "text/plain": [
       "array([10])"
      ]
     },
     "execution_count": 25,
     "metadata": {},
     "output_type": "execute_result"
    }
   ],
   "source": [
    "C = np.array([10])\n",
    "C"
   ]
  },
  {
   "cell_type": "code",
   "execution_count": 27,
   "id": "capable-advocacy",
   "metadata": {
    "ExecuteTime": {
     "end_time": "2021-07-09T07:27:19.849775Z",
     "start_time": "2021-07-09T07:27:19.835814Z"
    }
   },
   "outputs": [
    {
     "data": {
      "text/plain": [
       "array([[0, 1, 2]])"
      ]
     },
     "execution_count": 27,
     "metadata": {},
     "output_type": "execute_result"
    }
   ],
   "source": [
    "X - C"
   ]
  },
  {
   "cell_type": "code",
   "execution_count": 31,
   "id": "adjustable-serial",
   "metadata": {
    "ExecuteTime": {
     "end_time": "2021-07-09T07:28:27.019564Z",
     "start_time": "2021-07-09T07:28:27.002608Z"
    }
   },
   "outputs": [
    {
     "name": "stdout",
     "output_type": "stream",
     "text": [
      "[1. 1. 1.]\n",
      "[10. 10. 10.]\n"
     ]
    }
   ],
   "source": [
    "# 원리는 다음과 같다.\n",
    "\n",
    "ones_vec = np.ones(3)\n",
    "print(ones_vec)\n",
    "\n",
    "new_C = ones_vec * C\n",
    "print(new_C)"
   ]
  },
  {
   "cell_type": "code",
   "execution_count": 33,
   "id": "wound-language",
   "metadata": {
    "ExecuteTime": {
     "end_time": "2021-07-09T07:28:58.594104Z",
     "start_time": "2021-07-09T07:28:58.586099Z"
    }
   },
   "outputs": [
    {
     "name": "stdout",
     "output_type": "stream",
     "text": [
      "[[10 11 12]]\n",
      "[10. 10. 10.]\n"
     ]
    },
    {
     "data": {
      "text/plain": [
       "array([[0., 1., 2.]])"
      ]
     },
     "execution_count": 33,
     "metadata": {},
     "output_type": "execute_result"
    }
   ],
   "source": [
    "print(X)\n",
    "print(new_C)\n",
    "X - new_C"
   ]
  },
  {
   "cell_type": "markdown",
   "id": "equivalent-tobago",
   "metadata": {},
   "source": [
    "이처럼 데이터 분석에서는 원본 벡터 X가 아닌 데이터 벡터의 각 원소에서 평균값을 뺀 평균제거(mean removed vector)벡터 혹은 0-평균(zero-mean)벡터를 사용하는 경우가 많다."
   ]
  },
  {
   "cell_type": "markdown",
   "id": "studied-advisory",
   "metadata": {},
   "source": [
    "\\begin{split}\n",
    "\\begin{align}\n",
    "x = \n",
    "\\begin{bmatrix}\n",
    "x_1 \\\\\n",
    "x_2 \\\\\n",
    "\\vdots \\\\\n",
    "x_N\n",
    "\\end{bmatrix}\n",
    "\\;\\; \\rightarrow \\;\\;\n",
    "x - m =\n",
    "\\begin{bmatrix}\n",
    "x_1 - m\\\\\n",
    "x_2 - m \\\\\n",
    "\\vdots \\\\\n",
    "x_N - m\n",
    "\\end{bmatrix}\n",
    "\\end{align}\n",
    "\\end{split}"
   ]
  },
  {
   "cell_type": "markdown",
   "id": "growing-creation",
   "metadata": {},
   "source": [
    "\\begin{align}\n",
    "m = \\dfrac{1}{N}\\sum_{i=1}^N x_i\n",
    "\\end{align}"
   ]
  },
  {
   "cell_type": "markdown",
   "id": "beautiful-booking",
   "metadata": {},
   "source": [
    "위 식에서 m은 표본 평균을 의미한다."
   ]
  },
  {
   "cell_type": "markdown",
   "id": "authentic-coverage",
   "metadata": {},
   "source": [
    "### 선형조합"
   ]
  },
  {
   "cell_type": "markdown",
   "id": "valued-sperm",
   "metadata": {},
   "source": [
    "벡터나 행렬에 스칼라값을 곱한 후 더하거나 뺀 것을 벡터/행렬의 선형조합(linear combination)이라고 한다. 즉, 벡터/행렬에 대한 스칼라 곱이 합으로 연결된 형태이다."
   ]
  },
  {
   "cell_type": "markdown",
   "id": "representative-baker",
   "metadata": {},
   "source": [
    "\\begin{align}\n",
    "c_1x_1 + c_2x_2 + c_3x_3 + \\cdots + c_Lx_L = x\n",
    "\\tag{2.2.10}\n",
    "\\end{align}"
   ]
  },
  {
   "cell_type": "markdown",
   "id": "approximate-mother",
   "metadata": {},
   "source": [
    "\\begin{align}\n",
    "c_1A_1 + c_2A_2 + c_3A_3 + \\cdots + c_LA_L = A\n",
    "\\tag{2.2.11}\n",
    "\\end{align}"
   ]
  },
  {
   "cell_type": "markdown",
   "id": "therapeutic-conducting",
   "metadata": {},
   "source": [
    "행렬/벡터의 덧셈, 뺄셈 결과는 동일한 shape을 가지는 행렬/벡터이다. 추가적으로 행렬/벡터에 대한 스칼라 곱의 결과는 동일한 shape의 행렬/벡터이므로 벡터나 행렬을 선형조합해도 그 크기는 변하지 않는다."
   ]
  },
  {
   "cell_type": "markdown",
   "id": "confused-funeral",
   "metadata": {},
   "source": [
    "## 벡터와 벡터의 곱셈"
   ]
  },
  {
   "cell_type": "markdown",
   "id": "guilty-nancy",
   "metadata": {},
   "source": [
    "벡터와 벡터의 곱셈은 여러 방법이 존재하고 현재는 내적(inner product)에 대해 설명한다."
   ]
  },
  {
   "cell_type": "markdown",
   "id": "psychological-notion",
   "metadata": {},
   "source": [
    "벡터 X, Y가 존재할 때 이 두 벡터의 내적은 다음과 같이 표기한다."
   ]
  },
  {
   "cell_type": "markdown",
   "id": "native-wonder",
   "metadata": {},
   "source": [
    "$$x^Ty$$"
   ]
  },
  {
   "cell_type": "markdown",
   "id": "blind-treat",
   "metadata": {},
   "source": [
    "또는 닷 프로덕트(dot product)라고도 부르며 <x, y> 기호로도 나타낼 수 있다."
   ]
  },
  {
   "cell_type": "markdown",
   "id": "hidden-parker",
   "metadata": {},
   "source": [
    "$$x \\cdot y = <x, y>=x^Ty$$"
   ]
  },
  {
   "cell_type": "markdown",
   "id": "public-collar",
   "metadata": {},
   "source": [
    "두 벡터를 곱하기 위한 조건은 다음과 같다."
   ]
  },
  {
   "cell_type": "markdown",
   "id": "ideal-democracy",
   "metadata": {},
   "source": [
    "- 두 벡터의 길이(차원)이 같아야 한다.\n",
    "- 앞의 벡터는 행벡터이고 뒤의 벡터는 열벡터이다."
   ]
  },
  {
   "cell_type": "markdown",
   "id": "accepting-conducting",
   "metadata": {},
   "source": [
    "두 벡터의 대한 내적을 구하는 식은 다음처럼 두 벡터에 대해 동일한 위치의 원소끼리 요소별 곱셈을 수행하고 그 결과를 모두 더한것이 바로 내적이다."
   ]
  },
  {
   "cell_type": "markdown",
   "id": "changed-astronomy",
   "metadata": {},
   "source": [
    "\\begin{split}\n",
    "\\begin{align}\n",
    "x^T y = \n",
    "\\begin{bmatrix}\n",
    "x_{1} & x_{2} & \\cdots & x_{N} \n",
    "\\end{bmatrix}\n",
    "\\begin{bmatrix}\n",
    "y_{1} \\\\\n",
    "y_{2} \\\\\n",
    "\\vdots \\\\\n",
    "y_{N} \\\\\n",
    "\\end{bmatrix} \n",
    "= x_1 y_1 + \\cdots + x_N y_N \n",
    "= \\sum_{i=1}^N x_i y_i\n",
    "\\end{align}\n",
    "\\end{split}"
   ]
  },
  {
   "cell_type": "markdown",
   "id": "parallel-birmingham",
   "metadata": {},
   "source": [
    "위 식의 결과와 같이 두 벡터에 대한 내적의 결과는 스칼라값이며 벡터간의 덧셈 뺄셈의 경우와 달리 연산 결과의 크기에 영향을 미친다."
   ]
  },
  {
   "cell_type": "markdown",
   "id": "experienced-level",
   "metadata": {},
   "source": [
    "다음과 같은 X, Y 벡터가 있다고 가정하고 내적을 구해보자"
   ]
  },
  {
   "cell_type": "code",
   "execution_count": 38,
   "id": "organic-kennedy",
   "metadata": {
    "ExecuteTime": {
     "end_time": "2021-07-09T08:17:00.360500Z",
     "start_time": "2021-07-09T08:17:00.345544Z"
    }
   },
   "outputs": [
    {
     "name": "stdout",
     "output_type": "stream",
     "text": [
      "X\n",
      "[[1]\n",
      " [2]\n",
      " [3]]\n",
      "Y\n",
      "[[4]\n",
      " [5]\n",
      " [6]]\n"
     ]
    }
   ],
   "source": [
    "X = np.array([[1], [2], [3]])\n",
    "Y = np.array([[4], [5], [6]])\n",
    "print('X')\n",
    "print(X)\n",
    "print('Y')\n",
    "print(Y)"
   ]
  },
  {
   "cell_type": "markdown",
   "id": "hidden-strategy",
   "metadata": {},
   "source": [
    "numpy를 이용한 내적 연산은 아래처럼 @ 혹은 np.dot() 함수를 사용한다."
   ]
  },
  {
   "cell_type": "code",
   "execution_count": 39,
   "id": "later-worthy",
   "metadata": {
    "ExecuteTime": {
     "end_time": "2021-07-09T08:17:19.198690Z",
     "start_time": "2021-07-09T08:17:19.183695Z"
    }
   },
   "outputs": [
    {
     "data": {
      "text/plain": [
       "array([[32]])"
      ]
     },
     "execution_count": 39,
     "metadata": {},
     "output_type": "execute_result"
    }
   ],
   "source": [
    "X.T @ Y"
   ]
  },
  {
   "cell_type": "code",
   "execution_count": 41,
   "id": "interracial-warrior",
   "metadata": {
    "ExecuteTime": {
     "end_time": "2021-07-09T08:17:34.125991Z",
     "start_time": "2021-07-09T08:17:34.110035Z"
    }
   },
   "outputs": [
    {
     "data": {
      "text/plain": [
       "array([[32]])"
      ]
     },
     "execution_count": 41,
     "metadata": {},
     "output_type": "execute_result"
    }
   ],
   "source": [
    "np.dot(X.T, Y)"
   ]
  },
  {
   "cell_type": "markdown",
   "id": "numeric-accommodation",
   "metadata": {},
   "source": [
    "위 연산 결과를 정수로 뽑아내기 위해선 아래와 같이 작성한다."
   ]
  },
  {
   "cell_type": "code",
   "execution_count": 47,
   "id": "appointed-federal",
   "metadata": {
    "ExecuteTime": {
     "end_time": "2021-07-09T08:28:05.771369Z",
     "start_time": "2021-07-09T08:28:05.752419Z"
    }
   },
   "outputs": [
    {
     "data": {
      "text/plain": [
       "32"
      ]
     },
     "execution_count": 47,
     "metadata": {},
     "output_type": "execute_result"
    }
   ],
   "source": [
    "(X.T @ Y)[0][0]"
   ]
  },
  {
   "cell_type": "markdown",
   "id": "healthy-township",
   "metadata": {},
   "source": [
    "## 가중합"
   ]
  },
  {
   "cell_type": "markdown",
   "id": "spread-wisdom",
   "metadata": {},
   "source": [
    "위에서 정리한 벡터의 내적(inner product)를 이용해 가중합을 구할 수 있다."
   ]
  },
  {
   "cell_type": "markdown",
   "id": "vocational-showcase",
   "metadata": {},
   "source": [
    "\\begin{align}\n",
    "w_1 x_1 + \\cdots + w_N x_N = \\sum_{i=1}^N w_i x_i \n",
    "\\end{align}"
   ]
  },
  {
   "cell_type": "markdown",
   "id": "australian-fetish",
   "metadata": {},
   "source": [
    "예를 들어 구매한 각 물건의 가격을 X 벡터, 각 물건의 수량을 W(가중치)벡터로 가정한다면 구매한 물건의 총 금액을 구할 수 있다."
   ]
  },
  {
   "cell_type": "markdown",
   "id": "funny-syndrome",
   "metadata": {},
   "source": [
    "만약 모든 물건을 하나씩 구매했다면 W 벡터는 일벡터가 되며 내적 연산 결과는 일반적인 합과 동일해진다."
   ]
  },
  {
   "cell_type": "markdown",
   "id": "mexican-iceland",
   "metadata": {},
   "source": [
    "\\begin{align}\n",
    "w = \\mathbf{1}_N \n",
    "\\end{align}"
   ]
  },
  {
   "cell_type": "markdown",
   "id": "prerequisite-cornell",
   "metadata": {},
   "source": [
    "\\begin{align}\n",
    "\\sum_{i=1}^N x_i = \\mathbf{1}_N^T x \n",
    "\\tag{2.2.29}\n",
    "\\end{align}"
   ]
  },
  {
   "cell_type": "code",
   "execution_count": 51,
   "id": "favorite-assembly",
   "metadata": {
    "ExecuteTime": {
     "end_time": "2021-07-09T08:46:32.064192Z",
     "start_time": "2021-07-09T08:46:32.051227Z"
    }
   },
   "outputs": [
    {
     "data": {
      "text/plain": [
       "(array([14500.]), 14500)"
      ]
     },
     "execution_count": 51,
     "metadata": {},
     "output_type": "execute_result"
    }
   ],
   "source": [
    "X = np.array([[3000], [5000], [6500]])\n",
    "W = np.ones(3)\n",
    "\n",
    "X.T @ W, np.sum(X)"
   ]
  },
  {
   "cell_type": "markdown",
   "id": "awful-daniel",
   "metadata": {
    "ExecuteTime": {
     "end_time": "2021-07-09T08:46:25.662370Z",
     "start_time": "2021-07-09T08:46:25.643389Z"
    }
   },
   "source": [
    "내적을 이용한 가중합 예시를 하나 더 들어보자."
   ]
  },
  {
   "cell_type": "markdown",
   "id": "relative-retrieval",
   "metadata": {},
   "source": [
    "A, B, C 세 회사의 주식은 각각 100만원, 80만원, 50만원이다. 이 주식을 각각 3주, 4주, 5주를 매수할 때 필요한 금액을 구해보자"
   ]
  },
  {
   "cell_type": "code",
   "execution_count": 53,
   "id": "educated-belarus",
   "metadata": {
    "ExecuteTime": {
     "end_time": "2021-07-09T08:48:02.050524Z",
     "start_time": "2021-07-09T08:48:02.041548Z"
    }
   },
   "outputs": [
    {
     "data": {
      "text/plain": [
       "8700000"
      ]
     },
     "execution_count": 53,
     "metadata": {},
     "output_type": "execute_result"
    }
   ],
   "source": [
    "X = np.array([[100], [80], [50]])\n",
    "W = np.array([[3], [4], [5]])\n",
    "\n",
    "(X.T @ W)[0][0] * 10000"
   ]
  },
  {
   "cell_type": "markdown",
   "id": "spiritual-novel",
   "metadata": {},
   "source": [
    "## 가중평균"
   ]
  },
  {
   "cell_type": "markdown",
   "id": "about-thread",
   "metadata": {},
   "source": [
    "가중합의 가중치값을 전체 가중치값의 합으로 나누면 `가중평균`이 된다."
   ]
  },
  {
   "cell_type": "markdown",
   "id": "detected-words",
   "metadata": {},
   "source": [
    "예를 들어 1학점 과목이 100점이고 3학점 과목이 60점인 경우의 성적 평균을 구할 때 가중평균을 이용해 계산할 수 있다."
   ]
  },
  {
   "cell_type": "code",
   "execution_count": 1,
   "id": "raised-gibson",
   "metadata": {
    "ExecuteTime": {
     "end_time": "2021-07-12T03:32:49.959010Z",
     "start_time": "2021-07-12T03:32:49.942057Z"
    }
   },
   "outputs": [
    {
     "data": {
      "text/plain": [
       "70.0"
      ]
     },
     "execution_count": 1,
     "metadata": {},
     "output_type": "execute_result"
    }
   ],
   "source": [
    "1/(1+3) * 100 + 3/(1+3) * 60"
   ]
  },
  {
   "cell_type": "markdown",
   "id": "round-banking",
   "metadata": {},
   "source": [
    "벡터로 표현된 n개 데이터의 단순 평균을 구하는 수식은 아래와 같다."
   ]
  },
  {
   "cell_type": "markdown",
   "id": "reduced-bibliography",
   "metadata": {},
   "source": [
    "\\begin{align}\n",
    "\\bar{x} = \\dfrac{1}{N}\\sum_{i=1}^N x_i = \\dfrac{1}{N} \\mathbf{1}_N^T x\n",
    "\\end{align}"
   ]
  },
  {
   "cell_type": "markdown",
   "id": "understood-visit",
   "metadata": {},
   "source": [
    "위 수식을 이용해 80, 70, 90 점의 단순 평균을 구하는 경우 아래와 같이 코드를 작성할 수 있다."
   ]
  },
  {
   "cell_type": "code",
   "execution_count": 13,
   "id": "restricted-longitude",
   "metadata": {
    "ExecuteTime": {
     "end_time": "2021-07-12T03:36:38.642978Z",
     "start_time": "2021-07-12T03:36:38.624028Z"
    }
   },
   "outputs": [
    {
     "data": {
      "text/plain": [
       "80.0"
      ]
     },
     "execution_count": 13,
     "metadata": {},
     "output_type": "execute_result"
    }
   ],
   "source": [
    "scores = [80, 70, 90]\n",
    "\n",
    "1/len(scores) * (np.ones(3) @ scores)"
   ]
  },
  {
   "cell_type": "markdown",
   "id": "unlikely-radius",
   "metadata": {},
   "source": [
    "단순 평균의 경우 위처럼 구할 수 있지만 np.mean() 메소드를 이용하는 것이 더욱 편리하다."
   ]
  },
  {
   "cell_type": "code",
   "execution_count": 14,
   "id": "proved-clark",
   "metadata": {
    "ExecuteTime": {
     "end_time": "2021-07-12T03:37:13.565398Z",
     "start_time": "2021-07-12T03:37:13.555387Z"
    }
   },
   "outputs": [
    {
     "data": {
      "text/plain": [
       "80.0"
      ]
     },
     "execution_count": 14,
     "metadata": {},
     "output_type": "execute_result"
    }
   ],
   "source": [
    "np.mean(scores)"
   ]
  },
  {
   "cell_type": "markdown",
   "id": "established-township",
   "metadata": {},
   "source": [
    "## 유사도(similarity)"
   ]
  },
  {
   "cell_type": "markdown",
   "id": "textile-brother",
   "metadata": {
    "ExecuteTime": {
     "end_time": "2021-07-12T03:57:02.407003Z",
     "start_time": "2021-07-12T03:57:02.391027Z"
    }
   },
   "source": [
    "벡터의 내적(inner product)를 이용해 두 벡터간의 유사도를 계산할 수 있다. 유사도란 두 벡터가 닮은 정도를 정량적으로 나타낸 값으로 두 벡터가 비슷할수록 유사도의 값이 커지는 특징을 가진다."
   ]
  },
  {
   "cell_type": "code",
   "execution_count": 20,
   "id": "correct-escape",
   "metadata": {
    "ExecuteTime": {
     "end_time": "2021-07-12T03:59:48.973626Z",
     "start_time": "2021-07-12T03:59:48.887857Z"
    }
   },
   "outputs": [
    {
     "data": {
      "text/plain": [
       "('벡터화 결과', (64, 1))"
      ]
     },
     "execution_count": 20,
     "metadata": {},
     "output_type": "execute_result"
    }
   ],
   "source": [
    "from sklearn.datasets import load_digits\n",
    "import matplotlib.gridspec as gridspec\n",
    "\n",
    "digits = load_digits()\n",
    "d1 = digits.images[0]\n",
    "d2 = digits.images[10]\n",
    "d3 = digits.images[1]\n",
    "d4 = digits.images[11]\n",
    "\n",
    "# 이미지 데이터 벡터화\n",
    "v1 = d1.reshape(-1,1)\n",
    "v2 = d2.reshape(-1,1)\n",
    "v3 = d3.reshape(-1,1)\n",
    "v4 = d4.reshape(-1,1)\n",
    "\n",
    "'벡터화 결과',v1.shape"
   ]
  },
  {
   "cell_type": "code",
   "execution_count": 23,
   "id": "nominated-prize",
   "metadata": {
    "ExecuteTime": {
     "end_time": "2021-07-12T04:04:12.173905Z",
     "start_time": "2021-07-12T04:04:11.799897Z"
    }
   },
   "outputs": [
    {
     "data": {
      "image/png": "[encoded data removed]",
      "text/plain": [
       "<Figure size 648x648 with 8 Axes>"
      ]
     },
     "metadata": {
      "image/png": {
       "height": 242,
       "width": 656
      }
     },
     "output_type": "display_data"
    }
   ],
   "source": [
    "plt.figure(figsize=(9, 9))\n",
    "gs = gridspec.GridSpec(1, 8, height_ratios=[1],\n",
    "                       width_ratios=[9, 1, 9, 1, 9, 1, 9, 1])\n",
    "for i in range(4):\n",
    "    plt.subplot(gs[2 * i])\n",
    "    plt.imshow(eval(\"d\" + str(i + 1)), aspect=1,\n",
    "               interpolation='nearest', cmap=plt.cm.bone_r)\n",
    "    plt.grid(False)\n",
    "    plt.xticks([])\n",
    "    plt.yticks([])\n",
    "    plt.title(\"image {}\".format(i + 1))\n",
    "    plt.subplot(gs[2 * i + 1])\n",
    "    plt.imshow(eval(\"v\" + str(i + 1)), aspect=0.25,\n",
    "               interpolation='nearest', cmap=plt.cm.bone_r)\n",
    "    plt.grid(False)\n",
    "    plt.xticks([])\n",
    "    plt.yticks([])\n",
    "    plt.title(\"vector {}\".format(i + 1))\n",
    "plt.tight_layout()\n",
    "plt.show()"
   ]
  },
  {
   "cell_type": "code",
   "execution_count": 28,
   "id": "independent-savannah",
   "metadata": {
    "ExecuteTime": {
     "end_time": "2021-07-12T04:05:13.937291Z",
     "start_time": "2021-07-12T04:05:13.931313Z"
    }
   },
   "outputs": [
    {
     "name": "stdout",
     "output_type": "stream",
     "text": [
      "vector 1 과 vector 2의 유사도 : 3064.0\n",
      "vector 3 과 vector 4의 유사도 : 3661.0\n"
     ]
    }
   ],
   "source": [
    "print('vector 1 과 vector 2의 유사도 :',(v1.T @ v2)[0,0])\n",
    "print('vector 3 과 vector 4의 유사도 :',(v3.T @ v4)[0,0])"
   ]
  },
  {
   "cell_type": "code",
   "execution_count": 29,
   "id": "caring-entry",
   "metadata": {
    "ExecuteTime": {
     "end_time": "2021-07-12T04:05:29.829117Z",
     "start_time": "2021-07-12T04:05:29.818120Z"
    }
   },
   "outputs": [
    {
     "name": "stdout",
     "output_type": "stream",
     "text": [
      "vector 1 과 vector 3의 유사도 : 1866.0\n",
      "vector 2 과 vector 4의 유사도 : 2479.0\n"
     ]
    }
   ],
   "source": [
    "print('vector 1 과 vector 3의 유사도 :',(v1.T @ v3)[0,0])\n",
    "print('vector 2 과 vector 4의 유사도 :',(v2.T @ v4)[0,0])"
   ]
  },
  {
   "cell_type": "markdown",
   "id": "infrared-duplicate",
   "metadata": {},
   "source": [
    "위 결과를 통해 실제 비슷한 이미지는 높은 유사도값을 가지고 그렇지 않은 이미지의 경우 유사도 값이 낮은 것을 확인할 수 있다."
   ]
  },
  {
   "cell_type": "markdown",
   "id": "worth-associate",
   "metadata": {},
   "source": [
    "그 이유는 비슷한 이미지일수록 벡터간 내적을 구할 때 각각의 벡터에서 0의 순서가 비슷하기 때문에 벡터의 원소간 곱을 구할 때 0이 되는 경우가 상대적으로 적다.\n",
    "반면에 유사하지 않은 벡터의 경우 0의 순서가 달라 두 벡터의 연산 결과가 0으로 상쇄되는 경우가 많아져 전반적으로 유사도 값이 작아지는 것이다."
   ]
  },
  {
   "cell_type": "markdown",
   "id": "unable-office",
   "metadata": {},
   "source": [
    "## 연습문제"
   ]
  },
  {
   "cell_type": "code",
   "execution_count": 36,
   "id": "advised-recommendation",
   "metadata": {
    "ExecuteTime": {
     "end_time": "2021-07-12T04:12:47.301522Z",
     "start_time": "2021-07-12T04:12:47.201750Z"
    }
   },
   "outputs": [
    {
     "data": {
      "text/plain": [
       "array([[ 0.,  0.,  5., ...,  0.,  0.,  0.],\n",
       "       [ 0.,  0.,  0., ..., 10.,  0.,  0.],\n",
       "       [ 0.,  0.,  0., ..., 16.,  9.,  0.],\n",
       "       ...,\n",
       "       [ 0.,  0.,  1., ...,  6.,  0.,  0.],\n",
       "       [ 0.,  0.,  2., ..., 12.,  0.,  0.],\n",
       "       [ 0.,  0., 10., ..., 12.,  1.,  0.]])"
      ]
     },
     "execution_count": 36,
     "metadata": {},
     "output_type": "execute_result"
    }
   ],
   "source": [
    "from sklearn.datasets import load_digits\n",
    "X = load_digits().data\n",
    "X"
   ]
  },
  {
   "cell_type": "markdown",
   "id": "physical-insider",
   "metadata": {},
   "source": [
    "1. 내적을 이용해 첫번째 이미지와 10번째 이미지의 유사도를 구하시오"
   ]
  },
  {
   "cell_type": "code",
   "execution_count": 47,
   "id": "brilliant-george",
   "metadata": {
    "ExecuteTime": {
     "end_time": "2021-07-12T04:15:27.918882Z",
     "start_time": "2021-07-12T04:15:27.905919Z"
    }
   },
   "outputs": [
    {
     "data": {
      "text/plain": [
       "2807.0"
      ]
     },
     "execution_count": 47,
     "metadata": {},
     "output_type": "execute_result"
    }
   ],
   "source": [
    "X1, X2 = X[0], X[9]\n",
    "X1 = X1.reshape(-1,1)\n",
    "X2 = X2.reshape(-1,1)\n",
    "(X1.T @ X2)[0,0]"
   ]
  }
 ],
 "metadata": {
  "kernelspec": {
   "display_name": "Python 3",
   "language": "python",
   "name": "python3"
  },
  "language_info": {
   "codemirror_mode": {
    "name": "ipython",
    "version": 3
   },
   "file_extension": ".py",
   "mimetype": "text/x-python",
   "name": "python",
   "nbconvert_exporter": "python",
   "pygments_lexer": "ipython3",
   "version": "3.7.10"
  },
  "nbTranslate": {
   "displayLangs": [
    "*"
   ],
   "hotkey": "alt-t",
   "langInMainMenu": true,
   "sourceLang": "en",
   "targetLang": "fr",
   "useGoogleTranslate": true
  },
  "varInspector": {
   "cols": {
    "lenName": 16,
    "lenType": 16,
    "lenVar": 40
   },
   "kernels_config": {
    "python": {
     "delete_cmd_postfix": "",
     "delete_cmd_prefix": "del ",
     "library": "var_list.py",
     "varRefreshCmd": "print(var_dic_list())"
    },
    "r": {
     "delete_cmd_postfix": ") ",
     "delete_cmd_prefix": "rm(",
     "library": "var_list.r",
     "varRefreshCmd": "cat(var_dic_list()) "
    }
   },
   "types_to_exclude": [
    "module",
    "function",
    "builtin_function_or_method",
    "instance",
    "_Feature"
   ],
   "window_display": false
  }
 },
 "nbformat": 4,
 "nbformat_minor": 5
}
