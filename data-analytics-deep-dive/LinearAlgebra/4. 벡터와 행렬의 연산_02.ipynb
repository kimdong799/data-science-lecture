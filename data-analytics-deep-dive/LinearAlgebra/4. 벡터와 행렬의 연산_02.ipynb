{
 "cells": [
  {
   "cell_type": "markdown",
   "id": "national-official",
   "metadata": {},
   "source": [
    "## 선형회귀"
   ]
  },
  {
   "cell_type": "markdown",
   "id": "laden-doubt",
   "metadata": {},
   "source": [
    "선형회귀 모형(linear regression model)이란 독립변수 x를 통해 종속변수 y를 예측하는 방법의 하나로 독립변수 x와 가중치 벡터 w의 가중합을 이용해 y에 대한 예측값 $\\hat{y}$를 계산하는 수식을 말한다."
   ]
  },
  {
   "cell_type": "markdown",
   "id": "twelve-income",
   "metadata": {},
   "source": [
    "\\begin{align}\n",
    "\\hat{y} = w_1 x_1 + \\cdots + w_N x_N\n",
    "\\end{align}"
   ]
  },
  {
   "cell_type": "markdown",
   "id": "descending-responsibility",
   "metadata": {},
   "source": [
    "위 수식을 선형대수로 표현하면 다음과 같은 벡터의 내적으로 표현할 수 있다."
   ]
  },
  {
   "cell_type": "markdown",
   "id": "legitimate-nebraska",
   "metadata": {},
   "source": [
    "$$\\hat{y} = w^Tx$$"
   ]
  },
  {
   "cell_type": "markdown",
   "id": "helpful-regard",
   "metadata": {},
   "source": [
    "예를 들어 아파트 가격을 예측하는 문제에서 입력값으로 면적($m^2$)를 입력 데이터 $x_1$, 층수를 $x_2$, 한강이 보이는지 여부를 $x_3$로 입력해 한강이 보이면 1, 그렇지 않으면 0이라고 가정하자"
   ]
  },
  {
   "cell_type": "markdown",
   "id": "turkish-oklahoma",
   "metadata": {},
   "source": [
    "그리고 선형회귀 식을 도출했다고 가정하고 다음의 식이 완성된다고 가정하자."
   ]
  },
  {
   "cell_type": "markdown",
   "id": "ranking-stanley",
   "metadata": {},
   "source": [
    "\\begin{align}\n",
    "\\hat{y} = 500 x_1 + 200 x_2 + 1000 x_3 \n",
    "\\end{align}"
   ]
  },
  {
   "cell_type": "markdown",
   "id": "cathedral-conclusion",
   "metadata": {},
   "source": [
    "이 선형회귀 모형은 면적이 1$m^2$ 증가할수록 500만원이 상승하고 층수가 1층 높아질수록 200, 한강이 보이면 1000만원이 증가하고 그렇지 않으면 0이 더해지는 모형으로 이해할 수 있다."
   ]
  },
  {
   "cell_type": "markdown",
   "id": "aging-layout",
   "metadata": {},
   "source": [
    "위 식을 벡터의 내적으로 표현하면 다음과 같다."
   ]
  },
  {
   "cell_type": "markdown",
   "id": "outstanding-nurse",
   "metadata": {},
   "source": [
    "\\begin{split} \n",
    "\\begin{align}\n",
    "\\hat{y} = \\begin{bmatrix} 500 & 200 & 1000 \\end{bmatrix} \\begin{bmatrix} x_1 \\\\ x_2 \\\\ x_3 \\end{bmatrix} = w^T x \n",
    "\\end{align}\n",
    "\\end{split}"
   ]
  },
  {
   "cell_type": "markdown",
   "id": "chronic-ensemble",
   "metadata": {},
   "source": [
    "## 제곱합"
   ]
  },
  {
   "cell_type": "markdown",
   "id": "indian-creation",
   "metadata": {},
   "source": [
    "데이터의 분산(variance), 표준편차(standard devitation) 등을 계산하는 경우 각각의 데이터를 제곱한 뒤 이 값을 모두 더한 제곱합(sum of squares)을 계산해야 한다. 이 경우 벡터의 내적을 이용해 $x^Tx$로 표현할 수 있다."
   ]
  },
  {
   "cell_type": "markdown",
   "id": "coated-probability",
   "metadata": {},
   "source": [
    "\\begin{split}\n",
    "\\begin{align}\n",
    "x^T x = \n",
    "\\begin{bmatrix}\n",
    "x_{1} & x_{2} & \\cdots & x_{N} \n",
    "\\end{bmatrix}\n",
    "\\begin{bmatrix}\n",
    "x_{1} \\\\\n",
    "x_{2} \\\\\n",
    "\\vdots \\\\\n",
    "x_{N} \\\\\n",
    "\\end{bmatrix} = \\sum_{i=1}^{N} x_i^2\n",
    "\\end{align}\n",
    "\\end{split}"
   ]
  },
  {
   "cell_type": "markdown",
   "id": "broken-commission",
   "metadata": {},
   "source": [
    "## 행렬과 행렬의 곱셈"
   ]
  },
  {
   "cell_type": "markdown",
   "id": "impressed-breast",
   "metadata": {},
   "source": [
    "행렬과 행렬의 곱셈의 결과는 행렬로 A행렬과 B행렬을 곱한 결과가 C행렬이라 할 때 C 행렬의 i번째 행, j번째 열의 원소 $C_{ij}$의 값은 A행렬의 전치 행렬의 i번째 행벡터와 B행렬의 j번째 열벡터의 내적이다."
   ]
  },
  {
   "cell_type": "markdown",
   "id": "vertical-dream",
   "metadata": {},
   "source": [
    "\\begin{align}\n",
    "C = AB \\; \\rightarrow \\; c_{ij} = a_i^T b_j \n",
    "\\end{align}"
   ]
  },
  {
   "cell_type": "markdown",
   "id": "mobile-element",
   "metadata": {},
   "source": [
    "위 정의가 성립되기 위해선 아래와 같이 앞의 행렬의 열의 수가 뒤 행렬의 행의 수와 동일해야한다."
   ]
  },
  {
   "cell_type": "markdown",
   "id": "international-blair",
   "metadata": {},
   "source": [
    "\\begin{align}\n",
    "A \\in \\mathbf{R}^{N \\times L} , \\; B \\in \\mathbf{R}^{L \\times M} \\;  \\rightarrow \\; AB \\in \\mathbf{R}^{N \\times M} \n",
    "\\end{align}"
   ]
  },
  {
   "cell_type": "markdown",
   "id": "facial-subcommittee",
   "metadata": {},
   "source": [
    "실제 행렬의 곱을 계산해보자."
   ]
  },
  {
   "cell_type": "code",
   "execution_count": 1,
   "id": "occupational-lunch",
   "metadata": {
    "ExecuteTime": {
     "end_time": "2021-07-12T05:18:39.954651Z",
     "start_time": "2021-07-12T05:18:39.943680Z"
    }
   },
   "outputs": [
    {
     "data": {
      "text/plain": [
       "array([[1, 2, 3],\n",
       "       [3, 4, 5]])"
      ]
     },
     "execution_count": 1,
     "metadata": {},
     "output_type": "execute_result"
    }
   ],
   "source": [
    "A = np.array([[1, 2, 3],\n",
    "         [3, 4, 5]])\n",
    "A"
   ]
  },
  {
   "cell_type": "code",
   "execution_count": 2,
   "id": "initial-logic",
   "metadata": {
    "ExecuteTime": {
     "end_time": "2021-07-12T05:19:00.395911Z",
     "start_time": "2021-07-12T05:19:00.388931Z"
    }
   },
   "outputs": [
    {
     "data": {
      "text/plain": [
       "array([[1, 2],\n",
       "       [3, 4],\n",
       "       [5, 6]])"
      ]
     },
     "execution_count": 2,
     "metadata": {},
     "output_type": "execute_result"
    }
   ],
   "source": [
    "B = np.array([[1, 2],\n",
    "             [3, 4],\n",
    "             [5, 6]])\n",
    "B"
   ]
  },
  {
   "cell_type": "markdown",
   "id": "spare-happening",
   "metadata": {},
   "source": [
    "numpy를 이용한 행렬곱 계산을 위해선 @ 혹은 np.dot() 메소드를 이용한다."
   ]
  },
  {
   "cell_type": "code",
   "execution_count": 3,
   "id": "adjusted-shirt",
   "metadata": {
    "ExecuteTime": {
     "end_time": "2021-07-12T05:19:07.732635Z",
     "start_time": "2021-07-12T05:19:07.714685Z"
    }
   },
   "outputs": [
    {
     "data": {
      "text/plain": [
       "array([[22, 28],\n",
       "       [40, 52]])"
      ]
     },
     "execution_count": 3,
     "metadata": {},
     "output_type": "execute_result"
    }
   ],
   "source": [
    "A @ B"
   ]
  },
  {
   "cell_type": "code",
   "execution_count": 4,
   "id": "intellectual-diabetes",
   "metadata": {
    "ExecuteTime": {
     "end_time": "2021-07-12T05:19:16.965830Z",
     "start_time": "2021-07-12T05:19:16.955826Z"
    }
   },
   "outputs": [
    {
     "data": {
      "text/plain": [
       "array([[22, 28],\n",
       "       [40, 52]])"
      ]
     },
     "execution_count": 4,
     "metadata": {},
     "output_type": "execute_result"
    }
   ],
   "source": [
    "A.dot(B)"
   ]
  },
  {
   "cell_type": "markdown",
   "id": "recovered-denial",
   "metadata": {},
   "source": [
    "연산결과를 통해 사실상 행렬과 행렬의 곱셈은 벡터와 벡터의 내적 계산의 반복으로 이해할 수 있다."
   ]
  },
  {
   "cell_type": "markdown",
   "id": "manual-lotus",
   "metadata": {
    "ExecuteTime": {
     "end_time": "2021-07-12T05:39:31.214569Z",
     "start_time": "2021-07-12T05:39:31.202563Z"
    }
   },
   "source": [
    "## 연습문제"
   ]
  },
  {
   "cell_type": "code",
   "execution_count": 8,
   "id": "loose-departure",
   "metadata": {
    "ExecuteTime": {
     "end_time": "2021-07-12T05:39:57.231155Z",
     "start_time": "2021-07-12T05:39:57.222177Z"
    }
   },
   "outputs": [
    {
     "data": {
      "text/plain": [
       "array([[1, 2, 3],\n",
       "       [3, 4, 5]])"
      ]
     },
     "execution_count": 8,
     "metadata": {},
     "output_type": "execute_result"
    }
   ],
   "source": [
    "A"
   ]
  },
  {
   "cell_type": "code",
   "execution_count": 9,
   "id": "operational-minority",
   "metadata": {
    "ExecuteTime": {
     "end_time": "2021-07-12T05:39:59.251725Z",
     "start_time": "2021-07-12T05:39:59.239758Z"
    }
   },
   "outputs": [
    {
     "data": {
      "text/plain": [
       "array([[1, 2],\n",
       "       [3, 4],\n",
       "       [5, 6]])"
      ]
     },
     "execution_count": 9,
     "metadata": {},
     "output_type": "execute_result"
    }
   ],
   "source": [
    "B"
   ]
  },
  {
   "cell_type": "markdown",
   "id": "impressed-possibility",
   "metadata": {},
   "source": [
    "`1. AB와 BA가 같은가?`"
   ]
  },
  {
   "cell_type": "code",
   "execution_count": 10,
   "id": "internal-forth",
   "metadata": {
    "ExecuteTime": {
     "end_time": "2021-07-12T05:40:14.725614Z",
     "start_time": "2021-07-12T05:40:14.715684Z"
    }
   },
   "outputs": [
    {
     "data": {
      "text/plain": [
       "array([[22, 28],\n",
       "       [40, 52]])"
      ]
     },
     "execution_count": 10,
     "metadata": {},
     "output_type": "execute_result"
    }
   ],
   "source": [
    "A @ B"
   ]
  },
  {
   "cell_type": "code",
   "execution_count": 11,
   "id": "ready-payment",
   "metadata": {
    "ExecuteTime": {
     "end_time": "2021-07-12T05:40:17.979343Z",
     "start_time": "2021-07-12T05:40:17.968410Z"
    }
   },
   "outputs": [
    {
     "data": {
      "text/plain": [
       "array([[ 7, 10, 13],\n",
       "       [15, 22, 29],\n",
       "       [23, 34, 45]])"
      ]
     },
     "execution_count": 11,
     "metadata": {},
     "output_type": "execute_result"
    }
   ],
   "source": [
    "B @ A"
   ]
  },
  {
   "cell_type": "markdown",
   "id": "studied-platform",
   "metadata": {},
   "source": [
    "계산된 결과와 행렬의 모양이 다른것을 확인"
   ]
  },
  {
   "cell_type": "markdown",
   "id": "express-output",
   "metadata": {},
   "source": [
    "`2. 아래의 A, B행렬에서 AB, BA를 계산`"
   ]
  },
  {
   "cell_type": "code",
   "execution_count": 12,
   "id": "identical-aluminum",
   "metadata": {
    "ExecuteTime": {
     "end_time": "2021-07-12T05:41:50.004879Z",
     "start_time": "2021-07-12T05:41:49.996900Z"
    }
   },
   "outputs": [
    {
     "data": {
      "text/plain": [
       "array([[32, 50]])"
      ]
     },
     "execution_count": 12,
     "metadata": {},
     "output_type": "execute_result"
    }
   ],
   "source": [
    "A = np.array([[1, 2, 3]])\n",
    "B = np.array([[4, 7],\n",
    "             [5, 8],\n",
    "             [6, 9]])\n",
    "A @ B"
   ]
  },
  {
   "cell_type": "code",
   "execution_count": 13,
   "id": "abstract-connecticut",
   "metadata": {
    "ExecuteTime": {
     "end_time": "2021-07-12T05:41:54.658654Z",
     "start_time": "2021-07-12T05:41:54.531513Z"
    }
   },
   "outputs": [
    {
     "ename": "ValueError",
     "evalue": "matmul: Input operand 1 has a mismatch in its core dimension 0, with gufunc signature (n?,k),(k,m?)->(n?,m?) (size 1 is different from 2)",
     "output_type": "error",
     "traceback": [
      "\u001b[1;31m---------------------------------------------------------------------------\u001b[0m",
      "\u001b[1;31mValueError\u001b[0m                                Traceback (most recent call last)",
      "\u001b[1;32m<ipython-input-13-c9046335e71f>\u001b[0m in \u001b[0;36m<module>\u001b[1;34m\u001b[0m\n\u001b[1;32m----> 1\u001b[1;33m \u001b[0mB\u001b[0m \u001b[1;33m@\u001b[0m \u001b[0mA\u001b[0m\u001b[1;33m\u001b[0m\u001b[1;33m\u001b[0m\u001b[0m\n\u001b[0m",
      "\u001b[1;31mValueError\u001b[0m: matmul: Input operand 1 has a mismatch in its core dimension 0, with gufunc signature (n?,k),(k,m?)->(n?,m?) (size 1 is different from 2)"
     ]
    }
   ],
   "source": [
    "B @ A"
   ]
  },
  {
   "cell_type": "markdown",
   "id": "neutral-draft",
   "metadata": {},
   "source": [
    "BA 계산 시 B 행렬의 열의 수(2)와 A행렬의 행의 수(1)이 맞지 않으므로 연산 불가"
   ]
  },
  {
   "cell_type": "markdown",
   "id": "protected-bridal",
   "metadata": {},
   "source": [
    "`3. A, B가 다음과 같을 때 AB, BA의 결과 비교`"
   ]
  },
  {
   "cell_type": "code",
   "execution_count": 14,
   "id": "inclusive-wrong",
   "metadata": {
    "ExecuteTime": {
     "end_time": "2021-07-12T05:43:23.413885Z",
     "start_time": "2021-07-12T05:43:23.405905Z"
    }
   },
   "outputs": [
    {
     "data": {
      "text/plain": [
       "array([[19, 22],\n",
       "       [43, 50]])"
      ]
     },
     "execution_count": 14,
     "metadata": {},
     "output_type": "execute_result"
    }
   ],
   "source": [
    "A = np.array([[1, 2],\n",
    "             [3, 4]])\n",
    "\n",
    "B = np.array([[5, 6],\n",
    "             [7, 8]])\n",
    "\n",
    "A@B"
   ]
  },
  {
   "cell_type": "code",
   "execution_count": 15,
   "id": "rising-headline",
   "metadata": {
    "ExecuteTime": {
     "end_time": "2021-07-12T05:43:25.676551Z",
     "start_time": "2021-07-12T05:43:25.661591Z"
    }
   },
   "outputs": [
    {
     "data": {
      "text/plain": [
       "array([[23, 34],\n",
       "       [31, 46]])"
      ]
     },
     "execution_count": 15,
     "metadata": {},
     "output_type": "execute_result"
    }
   ],
   "source": [
    "B@A"
   ]
  },
  {
   "cell_type": "markdown",
   "id": "adjacent-season",
   "metadata": {},
   "source": [
    "결과 행렬의 shape은 같지만 연산 결과가 다름"
   ]
  },
  {
   "cell_type": "markdown",
   "id": "accredited-luther",
   "metadata": {},
   "source": [
    "4. A가 다음과 같을 때 $AA^T$와 $A^TA$를 계산"
   ]
  },
  {
   "cell_type": "code",
   "execution_count": 16,
   "id": "right-brook",
   "metadata": {
    "ExecuteTime": {
     "end_time": "2021-07-12T05:44:27.478185Z",
     "start_time": "2021-07-12T05:44:27.470205Z"
    }
   },
   "outputs": [
    {
     "data": {
      "text/plain": [
       "array([[1, 2],\n",
       "       [3, 4],\n",
       "       [5, 6]])"
      ]
     },
     "execution_count": 16,
     "metadata": {},
     "output_type": "execute_result"
    }
   ],
   "source": [
    "A = np.array([[1, 2],\n",
    "             [3, 4],\n",
    "             [5, 6]])\n",
    "A"
   ]
  },
  {
   "cell_type": "code",
   "execution_count": 18,
   "id": "superior-slave",
   "metadata": {
    "ExecuteTime": {
     "end_time": "2021-07-12T05:45:08.531094Z",
     "start_time": "2021-07-12T05:45:08.516097Z"
    }
   },
   "outputs": [
    {
     "data": {
      "text/plain": [
       "array([[ 5, 11, 17],\n",
       "       [11, 25, 39],\n",
       "       [17, 39, 61]])"
      ]
     },
     "execution_count": 18,
     "metadata": {},
     "output_type": "execute_result"
    }
   ],
   "source": [
    "A @ A.T"
   ]
  },
  {
   "cell_type": "code",
   "execution_count": 19,
   "id": "numerous-humidity",
   "metadata": {
    "ExecuteTime": {
     "end_time": "2021-07-12T05:45:43.292516Z",
     "start_time": "2021-07-12T05:45:43.273568Z"
    }
   },
   "outputs": [
    {
     "data": {
      "text/plain": [
       "array([[35, 44],\n",
       "       [44, 56]])"
      ]
     },
     "execution_count": 19,
     "metadata": {},
     "output_type": "execute_result"
    }
   ],
   "source": [
    "A.T @ A"
   ]
  },
  {
   "cell_type": "markdown",
   "id": "accessible-relationship",
   "metadata": {},
   "source": [
    "두 연산 결과 정방행렬이지만 3*3, 2*2로 shape이 다르고 연산 결과 또한 다르다."
   ]
  },
  {
   "cell_type": "markdown",
   "id": "spread-dover",
   "metadata": {},
   "source": [
    "6. x가 다음과 같을 때, $x^Tx와 xx^T$를 계산"
   ]
  },
  {
   "cell_type": "code",
   "execution_count": 21,
   "id": "thorough-circus",
   "metadata": {
    "ExecuteTime": {
     "end_time": "2021-07-12T05:51:58.828196Z",
     "start_time": "2021-07-12T05:51:58.809247Z"
    }
   },
   "outputs": [
    {
     "data": {
      "text/plain": [
       "array([[1],\n",
       "       [2],\n",
       "       [3]])"
      ]
     },
     "execution_count": 21,
     "metadata": {},
     "output_type": "execute_result"
    }
   ],
   "source": [
    "X = np.array([[1],\n",
    "             [2],\n",
    "             [3]])\n",
    "X"
   ]
  },
  {
   "cell_type": "code",
   "execution_count": 22,
   "id": "certified-september",
   "metadata": {
    "ExecuteTime": {
     "end_time": "2021-07-12T05:52:04.486717Z",
     "start_time": "2021-07-12T05:52:04.469764Z"
    }
   },
   "outputs": [
    {
     "data": {
      "text/plain": [
       "array([[14]])"
      ]
     },
     "execution_count": 22,
     "metadata": {},
     "output_type": "execute_result"
    }
   ],
   "source": [
    "X.T @ X"
   ]
  },
  {
   "cell_type": "code",
   "execution_count": 23,
   "id": "closed-breed",
   "metadata": {
    "ExecuteTime": {
     "end_time": "2021-07-12T05:52:08.865598Z",
     "start_time": "2021-07-12T05:52:08.848610Z"
    }
   },
   "outputs": [
    {
     "data": {
      "text/plain": [
       "array([[1, 2, 3],\n",
       "       [2, 4, 6],\n",
       "       [3, 6, 9]])"
      ]
     },
     "execution_count": 23,
     "metadata": {},
     "output_type": "execute_result"
    }
   ],
   "source": [
    "X @ X.T"
   ]
  },
  {
   "cell_type": "markdown",
   "id": "matched-summit",
   "metadata": {},
   "source": [
    "X.T @ X 연산 결과는 스칼라이고 X @ X.T의 연산 결과는 정방행렬이다."
   ]
  },
  {
   "cell_type": "markdown",
   "id": "adequate-albert",
   "metadata": {},
   "source": [
    "## 교환법칙과 분배법칙"
   ]
  },
  {
   "cell_type": "markdown",
   "id": "biblical-moscow",
   "metadata": {
    "ExecuteTime": {
     "end_time": "2021-07-12T06:08:00.408082Z",
     "start_time": "2021-07-12T06:08:00.390155Z"
    }
   },
   "source": [
    "행렬의 곱셈은 행렬의 순서를 바꾸는 교환법칙이 성립하지 않지만 덧셈에 대한 분배 법칙은 성립한다."
   ]
  },
  {
   "cell_type": "markdown",
   "id": "analyzed-reserve",
   "metadata": {
    "ExecuteTime": {
     "end_time": "2021-07-12T06:08:25.097852Z",
     "start_time": "2021-07-12T06:08:25.085884Z"
    }
   },
   "source": [
    "\\begin{align}\n",
    "AB \\neq BA  \n",
    "\\end{align}"
   ]
  },
  {
   "cell_type": "markdown",
   "id": "prepared-wealth",
   "metadata": {},
   "source": [
    "$$A(B + C) = AB + AC$$"
   ]
  },
  {
   "cell_type": "markdown",
   "id": "published-joyce",
   "metadata": {},
   "source": [
    "$$(A + B)C = AC + BC$$"
   ]
  },
  {
   "cell_type": "code",
   "execution_count": 27,
   "id": "restricted-alert",
   "metadata": {
    "ExecuteTime": {
     "end_time": "2021-07-12T06:10:02.218273Z",
     "start_time": "2021-07-12T06:10:02.200296Z"
    }
   },
   "outputs": [],
   "source": [
    "A = np.array([[1, 2], [3, 4]])\n",
    "B = np.array([[5, 6], [7, 8]])\n",
    "C = np.array([[9, 8], [7, 6]])"
   ]
  },
  {
   "cell_type": "markdown",
   "id": "northern-monroe",
   "metadata": {},
   "source": [
    "교환법칙 성립 X"
   ]
  },
  {
   "cell_type": "code",
   "execution_count": 28,
   "id": "opening-tribe",
   "metadata": {
    "ExecuteTime": {
     "end_time": "2021-07-12T06:10:05.949738Z",
     "start_time": "2021-07-12T06:10:05.934779Z"
    }
   },
   "outputs": [
    {
     "data": {
      "text/plain": [
       "array([[19, 22],\n",
       "       [43, 50]])"
      ]
     },
     "execution_count": 28,
     "metadata": {},
     "output_type": "execute_result"
    }
   ],
   "source": [
    "A @ B"
   ]
  },
  {
   "cell_type": "code",
   "execution_count": 29,
   "id": "attempted-kingston",
   "metadata": {
    "ExecuteTime": {
     "end_time": "2021-07-12T06:10:07.845874Z",
     "start_time": "2021-07-12T06:10:07.838891Z"
    }
   },
   "outputs": [
    {
     "data": {
      "text/plain": [
       "array([[23, 34],\n",
       "       [31, 46]])"
      ]
     },
     "execution_count": 29,
     "metadata": {},
     "output_type": "execute_result"
    }
   ],
   "source": [
    "B @ A"
   ]
  },
  {
   "cell_type": "markdown",
   "id": "intense-change",
   "metadata": {},
   "source": [
    "분배 법칙 성립"
   ]
  },
  {
   "cell_type": "code",
   "execution_count": 30,
   "id": "effective-laser",
   "metadata": {
    "ExecuteTime": {
     "end_time": "2021-07-12T06:10:41.441288Z",
     "start_time": "2021-07-12T06:10:41.430317Z"
    }
   },
   "outputs": [
    {
     "data": {
      "text/plain": [
       "array([[42, 42],\n",
       "       [98, 98]])"
      ]
     },
     "execution_count": 30,
     "metadata": {},
     "output_type": "execute_result"
    }
   ],
   "source": [
    "# 조건 1\n",
    "\n",
    "A @ (B + C)"
   ]
  },
  {
   "cell_type": "code",
   "execution_count": 31,
   "id": "duplicate-sunrise",
   "metadata": {
    "ExecuteTime": {
     "end_time": "2021-07-12T06:10:51.463737Z",
     "start_time": "2021-07-12T06:10:51.451732Z"
    }
   },
   "outputs": [
    {
     "data": {
      "text/plain": [
       "array([[42, 42],\n",
       "       [98, 98]])"
      ]
     },
     "execution_count": 31,
     "metadata": {},
     "output_type": "execute_result"
    }
   ],
   "source": [
    "A @ B + A @ C"
   ]
  },
  {
   "cell_type": "code",
   "execution_count": 35,
   "id": "painted-frame",
   "metadata": {
    "ExecuteTime": {
     "end_time": "2021-07-12T06:11:41.226450Z",
     "start_time": "2021-07-12T06:11:41.218508Z"
    }
   },
   "outputs": [
    {
     "data": {
      "text/plain": [
       "array([[110,  96],\n",
       "       [174, 152]])"
      ]
     },
     "execution_count": 35,
     "metadata": {},
     "output_type": "execute_result"
    }
   ],
   "source": [
    "# 조건 2\n",
    "\n",
    "(A + B) @ C"
   ]
  },
  {
   "cell_type": "code",
   "execution_count": 36,
   "id": "liquid-interstate",
   "metadata": {
    "ExecuteTime": {
     "end_time": "2021-07-12T06:11:41.383179Z",
     "start_time": "2021-07-12T06:11:41.366223Z"
    }
   },
   "outputs": [
    {
     "data": {
      "text/plain": [
       "array([[110,  96],\n",
       "       [174, 152]])"
      ]
     },
     "execution_count": 36,
     "metadata": {},
     "output_type": "execute_result"
    }
   ],
   "source": [
    "A @ C + B @ C"
   ]
  },
  {
   "cell_type": "markdown",
   "id": "tight-house",
   "metadata": {},
   "source": [
    "전치 연산도 덧셈과 뺄셈에 대한 분배법칙이 성립한다."
   ]
  },
  {
   "cell_type": "markdown",
   "id": "hairy-poverty",
   "metadata": {},
   "source": [
    "$$(A + B)^T = A^T + B^T$$"
   ]
  },
  {
   "cell_type": "markdown",
   "id": "organizational-amino",
   "metadata": {},
   "source": [
    "곱셈에 대한 분배법칙 또한 성립하지만 곱셈의 순서가 바뀐다."
   ]
  },
  {
   "cell_type": "markdown",
   "id": "future-indicator",
   "metadata": {},
   "source": [
    "$$(AB)^T = B^TA^T$$"
   ]
  },
  {
   "cell_type": "markdown",
   "id": "lonely-palmer",
   "metadata": {},
   "source": [
    "$$(ABC)^T = C^TB^TA^T$$"
   ]
  },
  {
   "cell_type": "code",
   "execution_count": 37,
   "id": "extended-leadership",
   "metadata": {
    "ExecuteTime": {
     "end_time": "2021-07-12T06:16:07.610777Z",
     "start_time": "2021-07-12T06:16:07.589796Z"
    }
   },
   "outputs": [
    {
     "data": {
      "text/plain": [
       "array([[ 6, 10],\n",
       "       [ 8, 12]])"
      ]
     },
     "execution_count": 37,
     "metadata": {},
     "output_type": "execute_result"
    }
   ],
   "source": [
    "(A + B).T"
   ]
  },
  {
   "cell_type": "code",
   "execution_count": 38,
   "id": "ruled-singing",
   "metadata": {
    "ExecuteTime": {
     "end_time": "2021-07-12T06:16:12.788409Z",
     "start_time": "2021-07-12T06:16:12.770429Z"
    }
   },
   "outputs": [
    {
     "data": {
      "text/plain": [
       "array([[ 6, 10],\n",
       "       [ 8, 12]])"
      ]
     },
     "execution_count": 38,
     "metadata": {},
     "output_type": "execute_result"
    }
   ],
   "source": [
    "A.T + B.T"
   ]
  },
  {
   "cell_type": "code",
   "execution_count": 39,
   "id": "black-refrigerator",
   "metadata": {
    "ExecuteTime": {
     "end_time": "2021-07-12T06:16:22.104625Z",
     "start_time": "2021-07-12T06:16:22.095649Z"
    }
   },
   "outputs": [
    {
     "data": {
      "text/plain": [
       "array([[19, 43],\n",
       "       [22, 50]])"
      ]
     },
     "execution_count": 39,
     "metadata": {},
     "output_type": "execute_result"
    }
   ],
   "source": [
    "(A @ B).T"
   ]
  },
  {
   "cell_type": "code",
   "execution_count": 40,
   "id": "based-archive",
   "metadata": {
    "ExecuteTime": {
     "end_time": "2021-07-12T06:16:28.542159Z",
     "start_time": "2021-07-12T06:16:28.535203Z"
    }
   },
   "outputs": [
    {
     "data": {
      "text/plain": [
       "array([[19, 43],\n",
       "       [22, 50]])"
      ]
     },
     "execution_count": 40,
     "metadata": {},
     "output_type": "execute_result"
    }
   ],
   "source": [
    "B.T @ A.T"
   ]
  },
  {
   "cell_type": "markdown",
   "id": "asian-shanghai",
   "metadata": {},
   "source": [
    "## 연습문제"
   ]
  },
  {
   "cell_type": "code",
   "execution_count": 56,
   "id": "divine-ceramic",
   "metadata": {
    "ExecuteTime": {
     "end_time": "2021-07-12T07:27:51.377777Z",
     "start_time": "2021-07-12T07:27:51.359828Z"
    }
   },
   "outputs": [
    {
     "data": {
      "text/plain": [
       "array([[80., 90., 70.],\n",
       "       [80., 90., 70.],\n",
       "       [80., 90., 70.]])"
      ]
     },
     "execution_count": 56,
     "metadata": {},
     "output_type": "execute_result"
    }
   ],
   "source": [
    "# 길이가 같은 일벡터와 행벡터의 곱은 행벡터 X를 반복하여 가지는 행렬과 같음을 보여라\n",
    "\n",
    "X = np.array([[80],\n",
    "             [90],\n",
    "             [70]])\n",
    "\n",
    "ones = np.ones(3)\n",
    "ones = ones.reshape(-1,1)\n",
    "\n",
    "ones @ X.T"
   ]
  },
  {
   "cell_type": "markdown",
   "id": "identical-holder",
   "metadata": {},
   "source": [
    "\\begin{split}\n",
    "\\begin{align}\n",
    "\\mathbf{1}_N^{} x^T\n",
    "=\n",
    "\\begin{bmatrix}\n",
    "{x}^T \\\\\n",
    "{x}^T \\\\\n",
    "\\vdots    \\\\\n",
    "{x}^T \\\\\n",
    "\\end{bmatrix}\n",
    "\\end{align}\n",
    "\\end{split}"
   ]
  },
  {
   "cell_type": "code",
   "execution_count": 58,
   "id": "bottom-bridges",
   "metadata": {
    "ExecuteTime": {
     "end_time": "2021-07-12T07:31:38.752135Z",
     "start_time": "2021-07-12T07:31:38.741164Z"
    }
   },
   "outputs": [
    {
     "data": {
      "text/plain": [
       "array([[5.84333333],\n",
       "       [3.05733333],\n",
       "       [3.758     ],\n",
       "       [1.19933333]])"
      ]
     },
     "execution_count": 58,
     "metadata": {},
     "output_type": "execute_result"
    }
   ],
   "source": [
    "# 행렬 X가 있을 때, 이 행렬의 각 열의 평균으로 이루어진 벡터 X_bar가 다음과 같음을 보여라\n",
    "\n",
    "X = load_iris().data\n",
    "N = X.shape[0]\n",
    "ones = np.ones(N).reshape(-1,1)\n",
    "\n",
    "1/N * X.T @ ones"
   ]
  },
  {
   "cell_type": "markdown",
   "id": "optional-strip",
   "metadata": {},
   "source": [
    "\\begin{align}\n",
    "\\bar{x} = \\dfrac{1}{N} X^T \\mathbf{1}_N  \n",
    "\\end{align}"
   ]
  },
  {
   "cell_type": "code",
   "execution_count": 65,
   "id": "selected-jones",
   "metadata": {
    "ExecuteTime": {
     "end_time": "2021-07-12T07:35:40.081409Z",
     "start_time": "2021-07-12T07:35:40.070400Z"
    }
   },
   "outputs": [],
   "source": [
    "# 행렬 X_bar는 동일한 벡터 x_bar.T를 N개 누적하여 만든 행렬이다."
   ]
  },
  {
   "cell_type": "code",
   "execution_count": 46,
   "id": "imperial-advisory",
   "metadata": {
    "ExecuteTime": {
     "end_time": "2021-07-12T06:50:23.932700Z",
     "start_time": "2021-07-12T06:50:23.922725Z"
    }
   },
   "outputs": [
    {
     "data": {
      "text/plain": [
       "array([[5.84333333, 3.05733333, 3.758     , 1.19933333],\n",
       "       [5.84333333, 3.05733333, 3.758     , 1.19933333],\n",
       "       [5.84333333, 3.05733333, 3.758     , 1.19933333],\n",
       "       [5.84333333, 3.05733333, 3.758     , 1.19933333],\n",
       "       [5.84333333, 3.05733333, 3.758     , 1.19933333]])"
      ]
     },
     "execution_count": 46,
     "metadata": {},
     "output_type": "execute_result"
    }
   ],
   "source": [
    "from sklearn.datasets import load_iris\n",
    "X = load_iris().data\n",
    "N = X.shape[0]\n",
    "ones = np.ones(N).reshape(-1,1)\n",
    "\n",
    "X_bar = ((ones @ ones.T) @ X) / N\n",
    "X_bar[:5]"
   ]
  },
  {
   "cell_type": "markdown",
   "id": "numerous-thunder",
   "metadata": {},
   "source": [
    "\\begin{align}\n",
    "\\bar{X} = \\dfrac{1}{N} \\mathbf{1}_N^{} \\mathbf{1}_N^T X \n",
    "\\end{align}"
   ]
  },
  {
   "cell_type": "markdown",
   "id": "lasting-groove",
   "metadata": {},
   "source": [
    "## 곱셈의 연결"
   ]
  },
  {
   "cell_type": "markdown",
   "id": "documentary-comedy",
   "metadata": {},
   "source": [
    "연속된 행렬의 곱셈은 계산 순서를 임의의 순서로 진행해도 상관없다."
   ]
  },
  {
   "cell_type": "markdown",
   "id": "spoken-thomson",
   "metadata": {},
   "source": [
    "$$ABC = (AB)C = A(BC)$$"
   ]
  },
  {
   "cell_type": "markdown",
   "id": "moved-settlement",
   "metadata": {},
   "source": [
    "$$ABCD = ((AB)C)D = (AB)(CD) = A(BCD) = A(BC)D$$"
   ]
  },
  {
   "cell_type": "code",
   "execution_count": 68,
   "id": "mental-springer",
   "metadata": {
    "ExecuteTime": {
     "end_time": "2021-07-12T08:01:35.936399Z",
     "start_time": "2021-07-12T08:01:35.930413Z"
    }
   },
   "outputs": [
    {
     "data": {
      "text/plain": [
       "array([[95]])"
      ]
     },
     "execution_count": 68,
     "metadata": {},
     "output_type": "execute_result"
    }
   ],
   "source": [
    "A = np.array([[1, 2]])\n",
    "B = np.array([[1, 2],\n",
    "             [3, 4]])\n",
    "C = np.array([[5],\n",
    "             [6]])\n",
    "\n",
    "(A@B)@C"
   ]
  },
  {
   "cell_type": "code",
   "execution_count": 69,
   "id": "referenced-evans",
   "metadata": {
    "ExecuteTime": {
     "end_time": "2021-07-12T08:01:43.396684Z",
     "start_time": "2021-07-12T08:01:43.379728Z"
    }
   },
   "outputs": [
    {
     "data": {
      "text/plain": [
       "array([[95]])"
      ]
     },
     "execution_count": 69,
     "metadata": {},
     "output_type": "execute_result"
    }
   ],
   "source": [
    "A@(B@C)"
   ]
  },
  {
   "cell_type": "markdown",
   "id": "apart-deviation",
   "metadata": {},
   "source": [
    "## 항등행렬의 곱셈"
   ]
  },
  {
   "cell_type": "markdown",
   "id": "interracial-cassette",
   "metadata": {},
   "source": [
    "어떤 행렬이든 항등행렬을 곱하면 그 값은 변하지 않는다.(1과 유사한 기능)"
   ]
  },
  {
   "cell_type": "markdown",
   "id": "warming-walker",
   "metadata": {},
   "source": [
    "$$AI = IA = A$$"
   ]
  },
  {
   "cell_type": "code",
   "execution_count": 71,
   "id": "announced-malawi",
   "metadata": {
    "ExecuteTime": {
     "end_time": "2021-07-12T08:10:43.200454Z",
     "start_time": "2021-07-12T08:10:43.186492Z"
    }
   },
   "outputs": [],
   "source": [
    "A = np.array([[1, 2], [3, 4]])\n",
    "I = np.eye(2)"
   ]
  },
  {
   "cell_type": "code",
   "execution_count": 72,
   "id": "violent-discovery",
   "metadata": {
    "ExecuteTime": {
     "end_time": "2021-07-12T08:10:46.678479Z",
     "start_time": "2021-07-12T08:10:46.660528Z"
    }
   },
   "outputs": [
    {
     "data": {
      "text/plain": [
       "array([[1., 2.],\n",
       "       [3., 4.]])"
      ]
     },
     "execution_count": 72,
     "metadata": {},
     "output_type": "execute_result"
    }
   ],
   "source": [
    "A @ I"
   ]
  },
  {
   "cell_type": "code",
   "execution_count": 73,
   "id": "based-governor",
   "metadata": {
    "ExecuteTime": {
     "end_time": "2021-07-12T08:10:49.496675Z",
     "start_time": "2021-07-12T08:10:49.490692Z"
    }
   },
   "outputs": [
    {
     "data": {
      "text/plain": [
       "array([[1., 2.],\n",
       "       [3., 4.]])"
      ]
     },
     "execution_count": 73,
     "metadata": {},
     "output_type": "execute_result"
    }
   ],
   "source": [
    "I @ A"
   ]
  },
  {
   "cell_type": "code",
   "execution_count": 74,
   "id": "drawn-cross",
   "metadata": {
    "ExecuteTime": {
     "end_time": "2021-07-12T08:10:50.872210Z",
     "start_time": "2021-07-12T08:10:50.855220Z"
    }
   },
   "outputs": [
    {
     "data": {
      "text/plain": [
       "array([[1, 2],\n",
       "       [3, 4]])"
      ]
     },
     "execution_count": 74,
     "metadata": {},
     "output_type": "execute_result"
    }
   ],
   "source": [
    "A"
   ]
  },
  {
   "cell_type": "markdown",
   "id": "suited-liverpool",
   "metadata": {
    "ExecuteTime": {
     "end_time": "2021-07-12T08:24:10.886429Z",
     "start_time": "2021-07-12T08:24:10.875426Z"
    }
   },
   "source": [
    "## 행렬과 벡터의 곱"
   ]
  },
  {
   "cell_type": "markdown",
   "id": "ignored-envelope",
   "metadata": {},
   "source": [
    "행렬의 곱셈 중 가장 널리 쓰이는 것은 행렬 $M$과 벡터 $v$의 곱 이다."
   ]
  },
  {
   "cell_type": "markdown",
   "id": "backed-congress",
   "metadata": {},
   "source": [
    "$$Mv$$"
   ]
  },
  {
   "cell_type": "markdown",
   "id": "marine-truth",
   "metadata": {},
   "source": [
    "## 열벡터의 선형조합"
   ]
  },
  {
   "cell_type": "markdown",
   "id": "geological-glass",
   "metadata": {},
   "source": [
    "행렬 $X$와 벡터 $w$의 곱은 행렬 $X$를 이루는 열벡터 $c_1, c_2,...,c_M$에 곱하는 벡터 $w$의 각 성분 $w_1, w_2, ..., w_M$으로 선형조합(linear combination)한 결과 벡터와 같다."
   ]
  },
  {
   "cell_type": "markdown",
   "id": "removable-january",
   "metadata": {},
   "source": [
    "\\begin{split}\n",
    "\\begin{align}\n",
    "Xw=\n",
    "\\begin{bmatrix}\n",
    "c_1 & c_2 & \\cdots & c_M\n",
    "\\end{bmatrix}\n",
    "\\begin{bmatrix}\n",
    "w_1 \\\\ w_2 \\\\ \\vdots \\\\ w_M\n",
    "\\end{bmatrix}\n",
    "=\n",
    "w_1 c_1 + w_2 c_2 + \\cdots + w_M c_M\n",
    "\\end{align}\n",
    "\\end{split}"
   ]
  },
  {
   "cell_type": "code",
   "execution_count": 78,
   "id": "christian-trinidad",
   "metadata": {
    "ExecuteTime": {
     "end_time": "2021-07-12T08:52:50.467019Z",
     "start_time": "2021-07-12T08:52:50.454027Z"
    }
   },
   "outputs": [
    {
     "data": {
      "text/plain": [
       "array([[20],\n",
       "       [47]])"
      ]
     },
     "execution_count": 78,
     "metadata": {},
     "output_type": "execute_result"
    }
   ],
   "source": [
    "# 다음의 행렬 X와 벡터 w에 대해 Xw를 구하는데 일반적인 방법과 행렬을 열벡터로 생각하여 연산을 수행해라\n",
    "\n",
    "X = np.array([[1, 2, 3], [4, 5, 6]])\n",
    "w = np.array([[2], [3], [4]])\n",
    "\n",
    "\n",
    "# 일반적인 방법\n",
    "X@w"
   ]
  },
  {
   "cell_type": "code",
   "execution_count": 88,
   "id": "adjacent-organization",
   "metadata": {
    "ExecuteTime": {
     "end_time": "2021-07-12T08:55:33.891469Z",
     "start_time": "2021-07-12T08:55:33.878506Z"
    }
   },
   "outputs": [
    {
     "data": {
      "text/plain": [
       "array([[20],\n",
       "       [47]])"
      ]
     },
     "execution_count": 88,
     "metadata": {},
     "output_type": "execute_result"
    }
   ],
   "source": [
    "# 행렬을 열벡터로 본다면\n",
    "\n",
    "c1 = np.array([[1],[4]])\n",
    "c2 = np.array([[2],[5]])\n",
    "c3 = np.array([[3],[6]])\n",
    "\n",
    "c1 * w[0] + c2 * w[1] + c3 * w[2]"
   ]
  },
  {
   "cell_type": "markdown",
   "id": "eastern-incidence",
   "metadata": {},
   "source": [
    "추가적으로 아래와 같은 수식의 계산 결과는 $\\lambda_1v_1$이 된다."
   ]
  },
  {
   "cell_type": "markdown",
   "id": "sought-active",
   "metadata": {},
   "source": [
    "\\begin{split}\n",
    "\\begin{align}\n",
    "V\\lambda = \n",
    "\\begin{bmatrix}\n",
    "v_1 & v_2 & v_3\n",
    "\\end{bmatrix}\n",
    "\\begin{bmatrix}\n",
    "\\lambda_{1} \\\\ 0 \\\\ 0 \n",
    "\\end{bmatrix}\n",
    "= \\lambda_1 v_1 \n",
    "\\end{align}\n",
    "\\end{split}"
   ]
  },
  {
   "cell_type": "markdown",
   "id": "hungry-aquatic",
   "metadata": {},
   "source": [
    "## 이미지 데이터의 벡터 선형조합"
   ]
  },
  {
   "cell_type": "markdown",
   "id": "comic-sucking",
   "metadata": {},
   "source": [
    "두 이미지 벡터의 선형조합을 이용해 두 이미지를 섞어 놓은듯한 모핑(morphing)효과를 얻을 수 있다."
   ]
  },
  {
   "cell_type": "code",
   "execution_count": 95,
   "id": "collected-investor",
   "metadata": {
    "ExecuteTime": {
     "end_time": "2021-07-12T09:00:11.916400Z",
     "start_time": "2021-07-12T09:00:11.741605Z"
    }
   },
   "outputs": [
    {
     "data": {
      "image/png": "[encoded data removed]",
      "text/plain": [
       "<Figure size 432x288 with 3 Axes>"
      ]
     },
     "metadata": {
      "image/png": {
       "height": 132,
       "width": 367
      }
     },
     "output_type": "display_data"
    }
   ],
   "source": [
    "from sklearn.datasets import fetch_olivetti_faces\n",
    "\n",
    "faces = fetch_olivetti_faces()\n",
    "\n",
    "f, ax = plt.subplots(1, 3)\n",
    "\n",
    "ax[0].imshow(faces.images[6], cmap=plt.cm.bone)\n",
    "ax[0].grid(False)\n",
    "ax[0].set_xticks([])\n",
    "ax[0].set_yticks([])\n",
    "ax[0].set_title(\"image 1: $x_1$\")\n",
    "\n",
    "ax[1].imshow(faces.images[10], cmap=plt.cm.bone)\n",
    "ax[1].grid(False)\n",
    "ax[1].set_xticks([])\n",
    "ax[1].set_yticks([])\n",
    "ax[1].set_title(\"image 2: $x_2$\")\n",
    "\n",
    "new_face = 0.7 * faces.images[6] + 0.3 * faces.images[10]\n",
    "ax[2].imshow(new_face, cmap=plt.cm.bone)\n",
    "ax[2].grid(False)\n",
    "ax[2].set_xticks([])\n",
    "ax[2].set_yticks([])\n",
    "ax[2].set_title(\"image 3: $0.7x_1 + 0.3x_2$\")\n",
    "\n",
    "plt.show()"
   ]
  },
  {
   "cell_type": "markdown",
   "id": "damaged-extra",
   "metadata": {},
   "source": [
    "## 잔차"
   ]
  },
  {
   "cell_type": "markdown",
   "id": "heated-details",
   "metadata": {},
   "source": [
    "선형 회귀분석(linear regression)의 결과는 가중치 벡터(w)이고 예측치 $\\hat{y}$은 가중치 벡터와 독립변수 데이터 레코드 즉, 벡터 $x_i$의 가중합 $w^Tx_i$가 된다. 이 때 실제 $y$값과 예측치 $\\hat{y}$의 차이를 오차(error) 또는 잔차(residual) $e_i$라고 한다. \n",
    "\n",
    "이러한 잔찻값을 모든 독립변수 벡터에 대해 구하면 이는 잔차벡터 $e$가 된다."
   ]
  },
  {
   "cell_type": "markdown",
   "id": "orange-ceremony",
   "metadata": {},
   "source": [
    "$$e_i = y_i - \\hat{y_i} = y_i - w^Tx_i$$"
   ]
  },
  {
   "cell_type": "markdown",
   "id": "impressive-remains",
   "metadata": {},
   "source": [
    "$$e = y - Xw$$"
   ]
  },
  {
   "cell_type": "code",
   "execution_count": 97,
   "id": "plain-benchmark",
   "metadata": {
    "ExecuteTime": {
     "end_time": "2021-07-12T12:54:52.429779Z",
     "start_time": "2021-07-12T12:54:52.414650Z"
    }
   },
   "outputs": [
    {
     "data": {
      "text/plain": [
       "array([[ 4,  5,  6],\n",
       "       [ 8, 10, 12],\n",
       "       [12, 15, 18]])"
      ]
     },
     "execution_count": 97,
     "metadata": {},
     "output_type": "execute_result"
    }
   ],
   "source": [
    "A = np.array([[1], [2], [3]])\n",
    "B = np.array([[4], [5], [6]])\n",
    "\n",
    "A @ B.T"
   ]
  },
  {
   "cell_type": "markdown",
   "id": "placed-monte",
   "metadata": {},
   "source": [
    "## 잔차제곱합"
   ]
  },
  {
   "cell_type": "markdown",
   "id": "complete-appeal",
   "metadata": {},
   "source": [
    "잔차의 크기는 잔차벡터의 각 원소를 제곱한 후 더한 잔차 제곱합(RSS, Residual Sum of Squares)을 이용한다. 이 값은 $e^Te$로 구할 수 있으며 다음과 같이 계산한다."
   ]
  },
  {
   "cell_type": "markdown",
   "id": "amateur-lottery",
   "metadata": {},
   "source": [
    "\\begin{align}\n",
    "\\sum_{i=1}^{N} e_i^2 = \\sum_{i=1}^{N} (y_i - w^Tx_i)^2 = e^Te =  (y - Xw)^T (y - Xw) \n",
    "\\end{align}"
   ]
  },
  {
   "cell_type": "markdown",
   "id": "taken-calibration",
   "metadata": {},
   "source": [
    "## 이차형식"
   ]
  },
  {
   "cell_type": "markdown",
   "id": "architectural-manual",
   "metadata": {},
   "source": [
    "위 식을 풀어쓰면 마지막 항은 $w^TX^TXw$ 형태가 된다. 여기서 $X^T$의 결과는 정방행렬로 이를 A라 하면 마지막 항은 $w^TAw$가 된다."
   ]
  },
  {
   "cell_type": "markdown",
   "id": "random-vertex",
   "metadata": {},
   "source": [
    "이처럼 행벡터 * 정방행렬 * 열벡터 의 형태를 이차형식이라 한다."
   ]
  },
  {
   "cell_type": "markdown",
   "id": "quality-dream",
   "metadata": {},
   "source": [
    "이차형식이 의미하는 것은 가능한 모든 i j 의 조합 쌍을 구한 후 i, j에 해당하는 원소 $x_i, y_i$를 가중치 $a_{ij}$와 같이 곱한 값의 총합이 된다."
   ]
  },
  {
   "cell_type": "markdown",
   "id": "better-irrigation",
   "metadata": {},
   "source": [
    "\\begin{split}\n",
    "\\begin{align}\n",
    "\\begin{aligned}\n",
    "x^T A x \n",
    "&= \n",
    "\\begin{bmatrix}\n",
    "x_{1} & x_{2} & \\cdots & x_{N} \n",
    "\\end{bmatrix}\n",
    "\\begin{bmatrix}\n",
    "a_{1,1} & a_{1,2} & \\cdots & a_{1,N} \\\\\n",
    "a_{2,1} & a_{2,2} & \\cdots & a_{2,N} \\\\\n",
    "\\vdots & \\vdots & \\ddots & \\vdots \\\\\n",
    "a_{N,1} & a_{N,2} & \\cdots & a_{N,N} \\\\\n",
    "\\end{bmatrix}\n",
    "\\begin{bmatrix}\n",
    "x_{1} \\\\\n",
    "x_{2} \\\\\n",
    "\\vdots \\\\\n",
    "x_{N} \\\\\n",
    "\\end{bmatrix} \n",
    "\\\\\n",
    "&= \\sum_{i=1}^{N} \\sum_{j=1}^{N} a_{i,j} x_i x_j \n",
    "\\end{aligned}\n",
    "\\end{align}\n",
    "\\end{split}"
   ]
  },
  {
   "cell_type": "code",
   "execution_count": 98,
   "id": "saved-upgrade",
   "metadata": {
    "ExecuteTime": {
     "end_time": "2021-07-12T13:16:34.218742Z",
     "start_time": "2021-07-12T13:16:34.209322Z"
    }
   },
   "outputs": [
    {
     "data": {
      "text/plain": [
       "array([1, 2, 3])"
      ]
     },
     "execution_count": 98,
     "metadata": {},
     "output_type": "execute_result"
    }
   ],
   "source": [
    "x = np.array([1, 2, 3])\n",
    "x"
   ]
  },
  {
   "cell_type": "code",
   "execution_count": 99,
   "id": "systematic-anthony",
   "metadata": {
    "ExecuteTime": {
     "end_time": "2021-07-12T13:16:43.093606Z",
     "start_time": "2021-07-12T13:16:43.071692Z"
    }
   },
   "outputs": [
    {
     "data": {
      "text/plain": [
       "array([[1, 2, 3],\n",
       "       [4, 5, 6],\n",
       "       [7, 8, 9]])"
      ]
     },
     "execution_count": 99,
     "metadata": {},
     "output_type": "execute_result"
    }
   ],
   "source": [
    "A = np.arange(1, 10).reshape(3,3)\n",
    "A"
   ]
  },
  {
   "cell_type": "code",
   "execution_count": 101,
   "id": "optimum-intranet",
   "metadata": {
    "ExecuteTime": {
     "end_time": "2021-07-12T13:16:51.868876Z",
     "start_time": "2021-07-12T13:16:51.845793Z"
    }
   },
   "outputs": [
    {
     "data": {
      "text/plain": [
       "228"
      ]
     },
     "execution_count": 101,
     "metadata": {},
     "output_type": "execute_result"
    }
   ],
   "source": [
    "x.T @ A @ x"
   ]
  },
  {
   "cell_type": "code",
   "execution_count": null,
   "id": "interesting-runner",
   "metadata": {},
   "outputs": [],
   "source": []
  }
 ],
 "metadata": {
  "kernelspec": {
   "display_name": "Python 3",
   "language": "python",
   "name": "python3"
  },
  "language_info": {
   "codemirror_mode": {
    "name": "ipython",
    "version": 3
   },
   "file_extension": ".py",
   "mimetype": "text/x-python",
   "name": "python",
   "nbconvert_exporter": "python",
   "pygments_lexer": "ipython3",
   "version": "3.7.10"
  },
  "nbTranslate": {
   "displayLangs": [
    "*"
   ],
   "hotkey": "alt-t",
   "langInMainMenu": true,
   "sourceLang": "en",
   "targetLang": "fr",
   "useGoogleTranslate": true
  },
  "varInspector": {
   "cols": {
    "lenName": 16,
    "lenType": 16,
    "lenVar": 40
   },
   "kernels_config": {
    "python": {
     "delete_cmd_postfix": "",
     "delete_cmd_prefix": "del ",
     "library": "var_list.py",
     "varRefreshCmd": "print(var_dic_list())"
    },
    "r": {
     "delete_cmd_postfix": ") ",
     "delete_cmd_prefix": "rm(",
     "library": "var_list.r",
     "varRefreshCmd": "cat(var_dic_list()) "
    }
   },
   "types_to_exclude": [
    "module",
    "function",
    "builtin_function_or_method",
    "instance",
    "_Feature"
   ],
   "window_display": false
  }
 },
 "nbformat": 4,
 "nbformat_minor": 5
}
