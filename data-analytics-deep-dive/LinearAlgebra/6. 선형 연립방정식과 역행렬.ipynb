{
 "cells": [
  {
   "cell_type": "markdown",
   "id": "narrative-orange",
   "metadata": {},
   "source": [
    "## 선형 연립방정식"
   ]
  },
  {
   "cell_type": "markdown",
   "id": "identified-description",
   "metadata": {},
   "source": [
    "복수의 미지수($x$)를 포함하는 복수의 선형 방정식을 **선형 연립방정식(system of linear equations)** 또는 연립일차방정식이라고 한다."
   ]
  },
  {
   "cell_type": "markdown",
   "id": "accepted-fantasy",
   "metadata": {},
   "source": [
    "다음은 3개의 미지수와 3개의 선형 방정식을 가지는 선형 연립방정식의 예시다."
   ]
  },
  {
   "cell_type": "markdown",
   "id": "nervous-bulgarian",
   "metadata": {},
   "source": [
    "\\begin{split}\n",
    "\\begin{align}\n",
    "\\begin{matrix}\n",
    "x_1 & + & x_2 &   &     & = & 2  \\\\\n",
    "    &   & x_2 & + & x_3 & = & 2  \\\\\n",
    "x_1 & + & x_2 & + & x_3 & = & 3  \\\\\n",
    "\\end{matrix}\n",
    "\\end{align}\n",
    "\\end{split}"
   ]
  },
  {
   "cell_type": "markdown",
   "id": "muslim-welsh",
   "metadata": {},
   "source": [
    "위 식을 행렬과 벡터로 표현하면 아래와 같이 미지수가 $M$개인 선형 연립방정식 $N$개로 표현할 수 있다."
   ]
  },
  {
   "cell_type": "markdown",
   "id": "fifty-waterproof",
   "metadata": {},
   "source": [
    "(a, b는 방정식의 계수이다.)"
   ]
  },
  {
   "cell_type": "markdown",
   "id": "twelve-fairy",
   "metadata": {},
   "source": [
    "\\begin{split}\n",
    "\\begin{align}\n",
    "\\begin{matrix}\n",
    "a_{11} x_1 & + \\;& a_{12} x_2   &\\; + \\cdots + \\;& a_{1M} x_M &\\; = \\;& b_1 \\\\\n",
    "a_{21} x_1 & + \\;& a_{22} x_2   &\\; + \\cdots + \\;& a_{2M} x_M &\\; = \\;& b_2 \\\\\n",
    "\\vdots\\;\\;\\; &   & \\vdots\\;\\;\\; &                & \\vdots\\;\\;\\; &     & \\;\\vdots \\\\\n",
    "a_{N1} x_1 & + \\;& a_{N2} x_2   &\\; + \\cdots + \\;& a_{NM} x_M &\\; = \\;& b_N \\\\\n",
    "\\end{matrix}\n",
    "\\end{align}\n",
    "\\end{split}"
   ]
  },
  {
   "cell_type": "markdown",
   "id": "transparent-objective",
   "metadata": {},
   "source": [
    "이를 행렬과 벡터의 곱셈으로 표현해보자."
   ]
  },
  {
   "cell_type": "markdown",
   "id": "reduced-bottle",
   "metadata": {},
   "source": [
    "\\begin{split}\n",
    "\\begin{align}\n",
    "\\begin{bmatrix}\n",
    "a_{11} & a_{12} & \\cdots & a_{1M} \\\\\n",
    "a_{21} & a_{22} & \\cdots & a_{2M} \\\\\n",
    "\\vdots & \\vdots & \\ddots & \\vdots \\\\\n",
    "a_{N1} & a_{N2} & \\cdots & a_{NM} \\\\\n",
    "\\end{bmatrix}\n",
    "\\begin{bmatrix}\n",
    "x_1 \\\\ x_2 \\\\ \\vdots \\\\ x_M\n",
    "\\end{bmatrix}\n",
    "=\n",
    "\\begin{bmatrix}\n",
    "b_1 \\\\ b_2 \\\\ \\vdots \\\\ b_N\n",
    "\\end{bmatrix}\n",
    "\\end{align}\n",
    "\\end{split}"
   ]
  },
  {
   "cell_type": "markdown",
   "id": "committed-message",
   "metadata": {},
   "source": [
    "여기서 행렬과 각 벡터에 대해 $A, x, b$로 표현하면 아래와 같다."
   ]
  },
  {
   "cell_type": "markdown",
   "id": "known-algeria",
   "metadata": {},
   "source": [
    "\\begin{split}\n",
    "\\begin{align}\n",
    "A = \n",
    "\\begin{bmatrix}\n",
    "a_{11} & a_{12} & \\cdots & a_{1M} \\\\\n",
    "a_{21} & a_{22} & \\cdots & a_{2M} \\\\\n",
    "\\vdots & \\vdots & \\ddots & \\vdots \\\\\n",
    "a_{N1} & a_{N2} & \\cdots & a_{NM} \\\\\n",
    "\\end{bmatrix}\n",
    ", \\;\\;\n",
    "x = \n",
    "\\begin{bmatrix}\n",
    "x_1 \\\\ x_2 \\\\ \\vdots \\\\ x_M\n",
    "\\end{bmatrix}\n",
    ", \\;\\;\n",
    "b=\n",
    "\\begin{bmatrix}\n",
    "b_1 \\\\ b_2 \\\\ \\vdots \\\\ b_N\n",
    "\\end{bmatrix}\n",
    "\\end{align}\n",
    "\\end{split}"
   ]
  },
  {
   "cell_type": "markdown",
   "id": "minus-restaurant",
   "metadata": {},
   "source": [
    "따라서 이 선형 연립방정식은 다음처럼 쓸 수 있다."
   ]
  },
  {
   "cell_type": "markdown",
   "id": "substantial-laugh",
   "metadata": {},
   "source": [
    "$$Ax = b$$"
   ]
  },
  {
   "cell_type": "markdown",
   "id": "focal-forestry",
   "metadata": {},
   "source": [
    "이 식에서 $A, x, b$는 각각 **계수행렬 coefficient matrix, 미지수벡터 unknown vector, 상수벡터 constanct vector**라 한다."
   ]
  },
  {
   "cell_type": "markdown",
   "id": "objective-collapse",
   "metadata": {},
   "source": [
    "만약 위의 $A, x, b$가 실수인 스칼라 값이라면 단순히 나눗셈을 이용해 다음처럼 계산할 수 있다."
   ]
  },
  {
   "cell_type": "markdown",
   "id": "equal-auditor",
   "metadata": {},
   "source": [
    "$$x = \\dfrac{B} A$$"
   ]
  },
  {
   "cell_type": "code",
   "execution_count": 8,
   "id": "national-sigma",
   "metadata": {
    "ExecuteTime": {
     "end_time": "2021-07-13T15:03:13.107438Z",
     "start_time": "2021-07-13T15:03:13.097688Z"
    }
   },
   "outputs": [
    {
     "data": {
      "text/plain": [
       "(3, 3.0)"
      ]
     },
     "execution_count": 8,
     "metadata": {},
     "output_type": "execute_result"
    }
   ],
   "source": [
    "# 예시\n",
    "\n",
    "A = 2\n",
    "x = 3\n",
    "b = A * x\n",
    "\n",
    "x, b/A"
   ]
  },
  {
   "cell_type": "markdown",
   "id": "dirty-wrestling",
   "metadata": {},
   "source": [
    "하지만 행렬의 연산에는 나눗셈이 없기 때문에 이와 유사한 기능을 수행하는 **역행렬**을 이용한다."
   ]
  },
  {
   "cell_type": "markdown",
   "id": "mental-college",
   "metadata": {},
   "source": [
    "## 역행렬"
   ]
  },
  {
   "cell_type": "markdown",
   "id": "material-honey",
   "metadata": {},
   "source": [
    "정방행렬 $A$에 대한 역행렬 $A^{-1}$은 원래 행렬 $A$와 다음 관계를 만족하는 정방행렬이다."
   ]
  },
  {
   "cell_type": "markdown",
   "id": "received-brush",
   "metadata": {},
   "source": [
    "$$A^{-1}A = AA^{-1} = I$$"
   ]
  },
  {
   "cell_type": "markdown",
   "id": "roman-fundamentals",
   "metadata": {},
   "source": [
    "역행렬은 행렬 $A$가 정방행렬인지 아닌지에 따라 존재하지 않을 수 있다.\n",
    "\n",
    "역행렬이 존재하는 행렬을 **가역행렬 invertable matrix, 정칙행렬 regular matrix, 비특이행렬 non-singular matrix**라 한다.\n",
    "\n",
    "역행렬이 존재하지 않는 행렬은 **비가역행렬 non-invertable matrix, 특이행렬 singular matrix, 퇴화행렬 degenerate matrix**라 한다."
   ]
  },
  {
   "cell_type": "markdown",
   "id": "coupled-tracy",
   "metadata": {},
   "source": [
    "## 역행렬의 성질"
   ]
  },
  {
   "cell_type": "markdown",
   "id": "recovered-doctrine",
   "metadata": {},
   "source": [
    "- 전치행렬의 역행렬은 역행렬의 전치행렬과 같다. 따라서 대칭행렬의 역행렬도 대칭행렬이다."
   ]
  },
  {
   "cell_type": "markdown",
   "id": "improving-transport",
   "metadata": {},
   "source": [
    "$$(A^T)^{-1} = (A^{-1})^T$$"
   ]
  },
  {
   "cell_type": "markdown",
   "id": "hazardous-harbor",
   "metadata": {},
   "source": [
    "- 두 개 이상의 정방행렬의 곱은 같은 크기의 정방행렬이 된다. 이러한 행렬의 곱의 역행렬은 다음 성질이 성립한다."
   ]
  },
  {
   "cell_type": "markdown",
   "id": "cheap-motorcycle",
   "metadata": {},
   "source": [
    "마치 전치연산의 분배법칙과 유사하다."
   ]
  },
  {
   "cell_type": "markdown",
   "id": "organizational-pierre",
   "metadata": {},
   "source": [
    "$$(AB)^{-1} = B^{-1} A^{-1}$$"
   ]
  },
  {
   "cell_type": "markdown",
   "id": "quality-monroe",
   "metadata": {},
   "source": [
    "$$(ABC)^{-1} = C^{-1}B^{-1}A^{-1}$$"
   ]
  },
  {
   "cell_type": "markdown",
   "id": "egyptian-compatibility",
   "metadata": {},
   "source": [
    "## 역행렬의 계산"
   ]
  },
  {
   "cell_type": "markdown",
   "id": "united-eligibility",
   "metadata": {},
   "source": [
    "역행렬을 구하는 방법은 아래의 공식으로 행렬식을 이용해 구할 수 있다."
   ]
  },
  {
   "cell_type": "markdown",
   "id": "normal-badge",
   "metadata": {
    "ExecuteTime": {
     "end_time": "2021-07-13T15:19:50.326538Z",
     "start_time": "2021-07-13T15:19:50.311459Z"
    }
   },
   "source": [
    "\\begin{split} \n",
    "\\begin{align}\n",
    "A^{-1} = \\dfrac{1}{\\det (A)} C^T = \\dfrac{1}{\\det (A)} \n",
    "\\begin{bmatrix}\n",
    "C_{1,1} & \\cdots & C_{N,1}  \\\\\n",
    "\\vdots  & \\ddots & \\vdots   \\\\\n",
    "C_{1,N} & \\cdots & C_{N,N}  \\\\\n",
    "\\end{bmatrix}\n",
    "\\end{align}\n",
    "\\end{split}"
   ]
  },
  {
   "cell_type": "markdown",
   "id": "relevant-strip",
   "metadata": {},
   "source": [
    "위 식에서 $C$를 **여인수행렬**, $C^T$를 **어드조인트행렬** 이라고 하며 **adj(A)**로 표시한다."
   ]
  },
  {
   "cell_type": "markdown",
   "id": "binary-facial",
   "metadata": {},
   "source": [
    "- 코팩터 식을 이용해 다음 공식을 증명하자."
   ]
  },
  {
   "cell_type": "markdown",
   "id": "fundamental-attraction",
   "metadata": {},
   "source": [
    "\\begin{split}\n",
    "\\begin{align}\n",
    "\\begin{bmatrix} \n",
    "a_{11} & a_{12} \\\\\n",
    "a_{21} & a_{22}  \n",
    "\\end{bmatrix}^{-1}\n",
    "=\n",
    "\\dfrac{1}{a_{11}a_{22} - a_{12}a_{21}}\n",
    "\\begin{bmatrix} \n",
    "a_{22} & -a_{12} \\\\\n",
    "-a_{21} & a_{11}  \n",
    "\\end{bmatrix}\n",
    "\\end{align}\n",
    "\\end{split}"
   ]
  },
  {
   "attachments": {
    "image.png": {
     "image/png": "[encoded data removed]"
    }
   },
   "cell_type": "markdown",
   "id": "alpine-throat",
   "metadata": {},
   "source": [
    "![image.png](attachment:image.png)"
   ]
  },
  {
   "cell_type": "markdown",
   "id": "patent-jordan",
   "metadata": {},
   "source": [
    "## 역행렬에 대한 공식"
   ]
  },
  {
   "cell_type": "markdown",
   "id": "certified-animation",
   "metadata": {},
   "source": [
    "### 셔먼-모리슨(Sherman–Morrison) 공식"
   ]
  },
  {
   "cell_type": "markdown",
   "id": "announced-delicious",
   "metadata": {},
   "source": [
    "정방행렬 $A$와 벡터 $u, v$에 대해 다음 공식이 성립한다."
   ]
  },
  {
   "cell_type": "markdown",
   "id": "drawn-gospel",
   "metadata": {},
   "source": [
    "\\begin{align}\n",
    "(A+uv^T)^{-1} = A^{-1} - {A^{-1}uv^T A^{-1} \\over 1 + v^T A^{-1}u} \n",
    "\\end{align}"
   ]
  },
  {
   "cell_type": "markdown",
   "id": "oriental-saint",
   "metadata": {},
   "source": [
    "이 공시은 $A$행렬이 $+uv^T$만큼 변했을 때 역행렬을 구하면 $- {A^{-1}uv^T A^{-1} \\over 1 + v^T A^{-1}u} $만큼 변한다는 의미이다."
   ]
  },
  {
   "cell_type": "markdown",
   "id": "revolutionary-entity",
   "metadata": {},
   "source": [
    "### 우드베리(Woodbury) 공식"
   ]
  },
  {
   "cell_type": "markdown",
   "id": "super-resident",
   "metadata": {},
   "source": [
    "정방행렬 $A$와 이에 대응하는 적절한 크기의 행렬 $U, V, C$에 대해 다음 공식이 성립한다."
   ]
  },
  {
   "cell_type": "markdown",
   "id": "understood-index",
   "metadata": {},
   "source": [
    "\\begin{align}\n",
    "\\left(A+UCV \\right)^{-1} = A^{-1} - A^{-1}U \\left(C^{-1}+VA^{-1}U \\right)^{-1} VA^{-1} \n",
    "\\end{align}"
   ]
  },
  {
   "cell_type": "markdown",
   "id": "super-organization",
   "metadata": {},
   "source": [
    "우드베리 공식은 셔먼-모리슨 공식을 확장한 개념으로 이해할 수 있다."
   ]
  },
  {
   "cell_type": "markdown",
   "id": "attached-stream",
   "metadata": {},
   "source": [
    "### 분할행렬의 역행렬"
   ]
  },
  {
   "cell_type": "markdown",
   "id": "distributed-sally",
   "metadata": {},
   "source": [
    "4개의 블록으로 분할된 행렬의 역행렬은 각 분할행렬을 이용해 구할 수 있다."
   ]
  },
  {
   "cell_type": "code",
   "execution_count": 29,
   "id": "efficient-diamond",
   "metadata": {
    "ExecuteTime": {
     "end_time": "2021-07-13T15:36:08.914868Z",
     "start_time": "2021-07-13T15:36:08.901902Z"
    }
   },
   "outputs": [
    {
     "data": {
      "text/plain": [
       "array([[ 0,  1,  2,  3],\n",
       "       [ 4,  5,  6,  7],\n",
       "       [ 8,  9, 10, 11],\n",
       "       [12, 13, 14, 15]])"
      ]
     },
     "execution_count": 29,
     "metadata": {},
     "output_type": "execute_result"
    }
   ],
   "source": [
    "np.arange(16).reshape(4,-1)"
   ]
  },
  {
   "cell_type": "markdown",
   "id": "diagnostic-ozone",
   "metadata": {},
   "source": [
    "위 행렬을 4개의 블록으로 분할하면 다음과 같다."
   ]
  },
  {
   "cell_type": "code",
   "execution_count": 40,
   "id": "disturbed-flour",
   "metadata": {
    "ExecuteTime": {
     "end_time": "2021-07-13T15:37:27.855632Z",
     "start_time": "2021-07-13T15:37:27.839755Z"
    }
   },
   "outputs": [
    {
     "data": {
      "text/plain": [
       "array([[0, 1],\n",
       "       [4, 5]])"
      ]
     },
     "execution_count": 40,
     "metadata": {},
     "output_type": "execute_result"
    }
   ],
   "source": [
    "np.arange(16).reshape(4,-1)[:2,:2]"
   ]
  },
  {
   "cell_type": "code",
   "execution_count": 42,
   "id": "incorrect-creature",
   "metadata": {
    "ExecuteTime": {
     "end_time": "2021-07-13T15:37:50.379956Z",
     "start_time": "2021-07-13T15:37:50.365788Z"
    }
   },
   "outputs": [
    {
     "data": {
      "text/plain": [
       "array([[2, 3],\n",
       "       [6, 7]])"
      ]
     },
     "execution_count": 42,
     "metadata": {},
     "output_type": "execute_result"
    }
   ],
   "source": [
    "np.arange(16).reshape(4,-1)[:2, 2:]"
   ]
  },
  {
   "cell_type": "code",
   "execution_count": 43,
   "id": "psychological-concentrate",
   "metadata": {
    "ExecuteTime": {
     "end_time": "2021-07-13T15:38:01.919462Z",
     "start_time": "2021-07-13T15:38:01.906416Z"
    }
   },
   "outputs": [
    {
     "data": {
      "text/plain": [
       "array([[ 8,  9],\n",
       "       [12, 13]])"
      ]
     },
     "execution_count": 43,
     "metadata": {},
     "output_type": "execute_result"
    }
   ],
   "source": [
    "np.arange(16).reshape(4,-1)[2:, :2]"
   ]
  },
  {
   "cell_type": "code",
   "execution_count": 41,
   "id": "greek-berkeley",
   "metadata": {
    "ExecuteTime": {
     "end_time": "2021-07-13T15:37:29.477280Z",
     "start_time": "2021-07-13T15:37:29.463319Z"
    }
   },
   "outputs": [
    {
     "data": {
      "text/plain": [
       "array([[10, 11],\n",
       "       [14, 15]])"
      ]
     },
     "execution_count": 41,
     "metadata": {},
     "output_type": "execute_result"
    }
   ],
   "source": [
    "np.arange(16).reshape(4,-1)[2:,2:]"
   ]
  },
  {
   "cell_type": "markdown",
   "id": "successful-migration",
   "metadata": {},
   "source": [
    "\\begin{split} \n",
    "\\begin{align}\n",
    "\\begin{bmatrix}\n",
    "A_{11} & A_{12} \\\\\n",
    "A_{21} & A_{22} \n",
    "\\end{bmatrix}^{-1}\n",
    "=\n",
    "\\begin{bmatrix}\n",
    "A_{11}^{-1}(I + A_{12}FA_{11}^{-1}) & -A_{11}^{-1}A_{12}F \\\\\n",
    "-FA_{21}A_{11}^{-1} & F\n",
    "\\end{bmatrix}\n",
    "\\end{align}\n",
    "\\end{split}"
   ]
  },
  {
   "cell_type": "markdown",
   "id": "unnecessary-basis",
   "metadata": {},
   "source": [
    "이 식에서 $F$는 다음과 같다."
   ]
  },
  {
   "cell_type": "markdown",
   "id": "forward-classroom",
   "metadata": {
    "ExecuteTime": {
     "end_time": "2021-07-13T15:35:24.525511Z",
     "start_time": "2021-07-13T15:35:24.507829Z"
    }
   },
   "source": [
    "\\begin{align}\n",
    "F = (A_{22} - A_{21}A_{11}^{-1}A_{12})^{-1}\n",
    "\\end{align}"
   ]
  },
  {
   "cell_type": "markdown",
   "id": "stunning-trailer",
   "metadata": {},
   "source": [
    "또는"
   ]
  },
  {
   "cell_type": "markdown",
   "id": "integrated-democracy",
   "metadata": {},
   "source": [
    "\\begin{align}\n",
    "F = (A_{11} - A_{12}A_{22}^{-1}A_{21})^{-1}\n",
    "\\end{align}"
   ]
  },
  {
   "cell_type": "markdown",
   "id": "average-summit",
   "metadata": {},
   "source": [
    "  "
   ]
  },
  {
   "cell_type": "markdown",
   "id": "plain-split",
   "metadata": {},
   "source": [
    "넘파이의 inv() 함수를 이용해 역행렬을 쉽게 구할 수 있다."
   ]
  },
  {
   "cell_type": "code",
   "execution_count": 44,
   "id": "veterinary-robertson",
   "metadata": {
    "ExecuteTime": {
     "end_time": "2021-07-13T15:39:44.383190Z",
     "start_time": "2021-07-13T15:39:44.372222Z"
    }
   },
   "outputs": [
    {
     "data": {
      "text/plain": [
       "array([[1, 1, 0],\n",
       "       [0, 1, 1],\n",
       "       [1, 1, 1]])"
      ]
     },
     "execution_count": 44,
     "metadata": {},
     "output_type": "execute_result"
    }
   ],
   "source": [
    "A = np.array([[1, 1, 0], [0, 1, 1], [1, 1, 1]])\n",
    "A"
   ]
  },
  {
   "cell_type": "code",
   "execution_count": 45,
   "id": "radical-scene",
   "metadata": {
    "ExecuteTime": {
     "end_time": "2021-07-13T15:39:58.769308Z",
     "start_time": "2021-07-13T15:39:58.748240Z"
    }
   },
   "outputs": [
    {
     "data": {
      "text/plain": [
       "array([[ 0., -1.,  1.],\n",
       "       [ 1.,  1., -1.],\n",
       "       [-1.,  0.,  1.]])"
      ]
     },
     "execution_count": 45,
     "metadata": {},
     "output_type": "execute_result"
    }
   ],
   "source": [
    "Ainv = np.linalg.inv(A)\n",
    "Ainv"
   ]
  },
  {
   "cell_type": "markdown",
   "id": "vital-diamond",
   "metadata": {},
   "source": [
    "## 역행렬과 선형 연립방정식의 해"
   ]
  },
  {
   "cell_type": "markdown",
   "id": "composed-digest",
   "metadata": {},
   "source": [
    "선형 연립방정식에서 미지수 수와 방정식 수가 같다면 계수행렬 A는 정방행렬이 된다.\n",
    "\n",
    "만약 행렬 $A$의 역행렬 $A^{-1}$이 존재하는 경우 역행렬 정의를 이용해 선형 연립방정식의 해를 구할 수 있다."
   ]
  },
  {
   "cell_type": "markdown",
   "id": "explicit-garlic",
   "metadata": {},
   "source": [
    "$$Ax = b$$"
   ]
  },
  {
   "cell_type": "markdown",
   "id": "soviet-hotel",
   "metadata": {},
   "source": [
    "계수 행렬 $A$ 에서 미지수 벡터 $x$를 곱하면 상수벡터 $b$가 된다."
   ]
  },
  {
   "cell_type": "markdown",
   "id": "gross-reward",
   "metadata": {},
   "source": [
    "$$A^{-1}Ax = A^{-1}b$$"
   ]
  },
  {
   "cell_type": "markdown",
   "id": "silver-banana",
   "metadata": {},
   "source": [
    "양쪽 항의 앞에 $A$의 역행렬 $A^{-1}$을 곱해주면 $A^{-1}A$ = $I$가 된다."
   ]
  },
  {
   "cell_type": "markdown",
   "id": "mounted-landing",
   "metadata": {},
   "source": [
    "$$Ix = A^{-1}b$$"
   ]
  },
  {
   "cell_type": "markdown",
   "id": "uniform-george",
   "metadata": {},
   "source": [
    "항등행렬 $I$와 벡터 $x$를 곱하면 $x$가 되므로 다음의 식이 완성된다."
   ]
  },
  {
   "cell_type": "markdown",
   "id": "boolean-cosmetic",
   "metadata": {},
   "source": [
    "$$x = A^{-1}b$$"
   ]
  },
  {
   "cell_type": "markdown",
   "id": "auburn-recording",
   "metadata": {},
   "source": [
    "넘파이를 이용해 선형 연립방정식의 해 $x$를 구해보자."
   ]
  },
  {
   "cell_type": "code",
   "execution_count": 46,
   "id": "absolute-captain",
   "metadata": {
    "ExecuteTime": {
     "end_time": "2021-07-14T03:05:41.664260Z",
     "start_time": "2021-07-14T03:05:41.646309Z"
    }
   },
   "outputs": [
    {
     "data": {
      "text/plain": [
       "array([[2],\n",
       "       [2],\n",
       "       [3]])"
      ]
     },
     "execution_count": 46,
     "metadata": {},
     "output_type": "execute_result"
    }
   ],
   "source": [
    "b = np.array([[2],[2],[3]])\n",
    "b"
   ]
  },
  {
   "cell_type": "code",
   "execution_count": 48,
   "id": "healthy-stephen",
   "metadata": {
    "ExecuteTime": {
     "end_time": "2021-07-14T03:05:51.227553Z",
     "start_time": "2021-07-14T03:05:51.212594Z"
    }
   },
   "outputs": [
    {
     "data": {
      "text/plain": [
       "array([[1.],\n",
       "       [1.],\n",
       "       [1.]])"
      ]
     },
     "execution_count": 48,
     "metadata": {},
     "output_type": "execute_result"
    }
   ],
   "source": [
    "x = Ainv @ b\n",
    "x"
   ]
  },
  {
   "cell_type": "markdown",
   "id": "hindu-former",
   "metadata": {},
   "source": [
    "$x$ 벡터를 원래의 연립방정식에 대입해 상수벡터 $B$와 일치하는지 확인해보자."
   ]
  },
  {
   "cell_type": "code",
   "execution_count": 52,
   "id": "phantom-static",
   "metadata": {
    "ExecuteTime": {
     "end_time": "2021-07-14T03:07:17.265287Z",
     "start_time": "2021-07-14T03:07:17.258306Z"
    }
   },
   "outputs": [
    {
     "data": {
      "text/plain": [
       "array([[0.],\n",
       "       [0.],\n",
       "       [0.]])"
      ]
     },
     "execution_count": 52,
     "metadata": {},
     "output_type": "execute_result"
    }
   ],
   "source": [
    "A @ x - b"
   ]
  },
  {
   "cell_type": "markdown",
   "id": "amateur-vitamin",
   "metadata": {},
   "source": [
    "`lstqsq()`메소드를 이용하면 행렬 $A$와 $B$를 모두 인수로 받아 최소자승문제(least square problem)의 답 x, 잔차제곱합 (resid), 랭크 (rank), 특잇값 (s) 를 구할 수 있다."
   ]
  },
  {
   "cell_type": "code",
   "execution_count": 54,
   "id": "standing-nirvana",
   "metadata": {
    "ExecuteTime": {
     "end_time": "2021-07-14T03:09:13.126127Z",
     "start_time": "2021-07-14T03:09:13.107179Z"
    }
   },
   "outputs": [
    {
     "name": "stderr",
     "output_type": "stream",
     "text": [
      "C:\\Users\\Kim\\AppData\\Roaming\\Python\\Python37\\site-packages\\ipykernel_launcher.py:1: FutureWarning: `rcond` parameter will change to the default of machine precision times ``max(M, N)`` where M and N are the input matrix dimensions.\n",
      "To use the future default and silence this warning we advise to pass `rcond=None`, to keep using the old, explicitly pass `rcond=-1`.\n",
      "  \"\"\"Entry point for launching an IPython kernel.\n"
     ]
    },
    {
     "data": {
      "text/plain": [
       "array([[1.],\n",
       "       [1.],\n",
       "       [1.]])"
      ]
     },
     "execution_count": 54,
     "metadata": {},
     "output_type": "execute_result"
    }
   ],
   "source": [
    "x, resid, rank, s = np.linalg.lstsq(A, b)\n",
    "x"
   ]
  },
  {
   "cell_type": "markdown",
   "id": "dated-worth",
   "metadata": {},
   "source": [
    "## 선형 연립방정식과 선형 예측 모형"
   ]
  },
  {
   "cell_type": "markdown",
   "id": "continuing-explorer",
   "metadata": {},
   "source": [
    "선형회귀 모델에서 가중치 벡터를 구하는 문제는 선형 연립방정식을 푸는 문제와 같다고 할 수 있다."
   ]
  },
  {
   "cell_type": "markdown",
   "id": "informed-squad",
   "metadata": {},
   "source": [
    "아래는 입력차원이 N개, 특징벡터가 N개인 입력데이터를 이용해 y를 구하는 예측 모형이다."
   ]
  },
  {
   "cell_type": "markdown",
   "id": "common-aquarium",
   "metadata": {},
   "source": [
    "\\begin{split}\n",
    "\\begin{align}\n",
    "\\begin{matrix}\n",
    "x_{11} w_1 & + \\;& x_{12} w_2   &\\; + \\cdots + \\;& x_{1N} w_N &\\; = \\;& y_1 \\\\\n",
    "x_{21} w_1 & + \\;& x_{22} w_2   &\\; + \\cdots + \\;& x_{2N} w_N &\\; = \\;& y_2 \\\\\n",
    "\\vdots\\;\\;\\; &   & \\vdots\\;\\;\\; &                & \\vdots\\;\\;\\; &     & \\;\\vdots \\\\\n",
    "x_{N1} w_1 & + \\;& x_{N2} w_2   &\\; + \\cdots + \\;& x_{NN} w_N &\\; = \\;& y_N \\\\\n",
    "\\end{matrix}\n",
    "\\end{align}\n",
    "\\end{split}"
   ]
  },
  {
   "cell_type": "markdown",
   "id": "british-syracuse",
   "metadata": {},
   "source": [
    "이를 행렬 $X$와 가중치 벡터 $x$, target값 벡터 $y$로 가정하면 다음의 식이 완성된다."
   ]
  },
  {
   "cell_type": "markdown",
   "id": "assumed-content",
   "metadata": {},
   "source": [
    "$$Xw = y$$"
   ]
  },
  {
   "cell_type": "markdown",
   "id": "quarterly-compromise",
   "metadata": {},
   "source": [
    "즉, 선형회귀 모델은 위의 식에서 가중치 벡터를 찾는 것으로 입력데이터 $X$에 대한 가중치 벡터 $w$를 찾는것으로 $X$ 행렬에 대한 역행렬 $X^{-1}$를 구해야한다."
   ]
  },
  {
   "cell_type": "markdown",
   "id": "willing-psychology",
   "metadata": {},
   "source": [
    "$$w = X^{-1}y$$"
   ]
  },
  {
   "cell_type": "code",
   "execution_count": 55,
   "id": "precise-moldova",
   "metadata": {
    "ExecuteTime": {
     "end_time": "2021-07-14T03:20:10.858577Z",
     "start_time": "2021-07-14T03:20:09.217227Z"
    }
   },
   "outputs": [],
   "source": [
    "from sklearn.datasets import load_boston\n",
    "boston = load_boston()\n",
    "X = boston.data\n",
    "y = boston.target\n",
    "A = X[:4,[0,4,5,6]] # CRIM, NOX, RM, AGE\n",
    "b = y[:4]"
   ]
  },
  {
   "cell_type": "code",
   "execution_count": 63,
   "id": "stretch-music",
   "metadata": {
    "ExecuteTime": {
     "end_time": "2021-07-14T03:23:27.441373Z",
     "start_time": "2021-07-14T03:23:27.421428Z"
    }
   },
   "outputs": [
    {
     "data": {
      "text/plain": [
       "array([-3.12710043e+02, -1.15193942e+02,  1.44996465e+01, -1.13259317e-01])"
      ]
     },
     "execution_count": 63,
     "metadata": {},
     "output_type": "execute_result"
    }
   ],
   "source": [
    "# w를 구하기 위해 A의 역행렬과 b를 곱한다.\n",
    "\n",
    "w = np.linalg.inv(A) @ b\n",
    "w"
   ]
  },
  {
   "cell_type": "markdown",
   "id": "eleven-needle",
   "metadata": {},
   "source": [
    "## 미지수 수와 방정식 수"
   ]
  },
  {
   "cell_type": "markdown",
   "id": "distinct-essex",
   "metadata": {},
   "source": [
    "위의 예제는 미지수의 수와 방정식의 수가 같은 경우에서의 선형 연립방정식이다. 하지만 실제 데이터 분석에서는 미지수가 방정식의 수가 더 많은 경우가 존재한다."
   ]
  },
  {
   "cell_type": "markdown",
   "id": "drawn-harbor",
   "metadata": {},
   "source": [
    "이처럼 미지수와 방정식의 수를 고려했을 때 그 종류는 다음과 같다."
   ]
  },
  {
   "cell_type": "markdown",
   "id": "asian-criminal",
   "metadata": {},
   "source": [
    "1. 방정식의 수가 미지수 수와 같은 경우 (N = M)\n",
    "2. 방정식의 수가 미지수 수보다 적은 경우 (N < M)\n",
    "3. 방정식의 수가 미지수 수보다 많은 경우 (N > M)"
   ]
  },
  {
   "cell_type": "markdown",
   "id": "native-inclusion",
   "metadata": {},
   "source": [
    "1번의 경우는 위의 boston 집값 예시와 동일하다.\n",
    "\n",
    "2번의 경우는 결론부터 말하자면 무수히 많은 해가 존재하므로 미지수를 구할 수 없다."
   ]
  },
  {
   "cell_type": "markdown",
   "id": "consistent-board",
   "metadata": {},
   "source": [
    "\\begin{split}\n",
    "\\begin{align}\n",
    "\\begin{matrix}\n",
    "x_1 & + & x_2 &   &     & = & 2  \\\\\n",
    "    &   & x_2 & + & x_3 & = & 2  \\\\\n",
    "\\end{matrix}\n",
    "\\end{align}\n",
    "\\end{split}"
   ]
  },
  {
   "cell_type": "markdown",
   "id": "applicable-speed",
   "metadata": {},
   "source": [
    "이 경우 $x1 = x3 = 2 - x2$가 성립되므로 $x2$는 무수히 많은 미지수가 존재한다."
   ]
  },
  {
   "cell_type": "markdown",
   "id": "complex-shift",
   "metadata": {},
   "source": [
    "3번의 경우, 방정식의 수가 미지수 수보다 많은 경우 모든 조건을 만족하는 해가 존재하지 않을 수 있어 답을 구할 수 없다."
   ]
  },
  {
   "cell_type": "markdown",
   "id": "british-factor",
   "metadata": {},
   "source": [
    "\\begin{split}\n",
    "\\begin{align}\n",
    "\\begin{matrix}\n",
    "x_1 & + & x_2 &   &     & = & 2  \\\\\n",
    "    &   & x_2 & + & x_3 & = & 2  \\\\\n",
    "x_1 & + & x_2 & + & x_3 & = & 3  \\\\\n",
    "x_1 & + & x_2 & + & 2x_3 & = & 5  \\\\\n",
    "\\end{matrix}\n",
    "\\end{align}\n",
    "\\end{split}"
   ]
  },
  {
   "cell_type": "markdown",
   "id": "incident-trailer",
   "metadata": {},
   "source": [
    "이 경우 $x1 = x2 = x3 = 1$이 성립되는데 4번째 방정식을 만족하지 못한다."
   ]
  },
  {
   "cell_type": "markdown",
   "id": "organic-republican",
   "metadata": {},
   "source": [
    "그렇다면 2번과 3번의 경우 모두 미지수를 구할 수 없는것인가?"
   ]
  },
  {
   "cell_type": "markdown",
   "id": "separated-serum",
   "metadata": {},
   "source": [
    "정답은 구할 수 있다."
   ]
  },
  {
   "cell_type": "markdown",
   "id": "adolescent-lancaster",
   "metadata": {},
   "source": [
    "## 최소자승문제"
   ]
  },
  {
   "cell_type": "markdown",
   "id": "muslim-korea",
   "metadata": {},
   "source": [
    "3번의 경우 정확히 말하자면 미지수를 구할 수 없다. 하지만 아래의 선형 연립방정식을 살펴보자."
   ]
  },
  {
   "cell_type": "markdown",
   "id": "following-prefix",
   "metadata": {},
   "source": [
    "\\begin{split}\n",
    "\\begin{align}\n",
    "\\begin{matrix}\n",
    "x_1 & + & x_2 &   &     & = & 2  \\\\\n",
    "    &   & x_2 & + & x_3 & = & 2  \\\\\n",
    "x_1 & + & x_2 & + & x_3 & = & 3  \\\\\n",
    "x_1 & + & x_2 & + & 2x_3 & = & 4.1  \\\\\n",
    "\\end{matrix}\n",
    "\\end{align}\n",
    "\\end{split}"
   ]
  },
  {
   "cell_type": "markdown",
   "id": "controlling-investing",
   "metadata": {},
   "source": [
    "이 식에서 $x1 = x2 = x3 = 1$이라고 했을 때 4번째 방정식의 답은 4가 도출된다. 하지만 실제값 4.1과는 근소한 차이로 오차가 발생한다는 것을 알 수 있다."
   ]
  },
  {
   "cell_type": "markdown",
   "id": "resident-brooks",
   "metadata": {},
   "source": [
    "\\begin{split}\n",
    "\\begin{align}\n",
    "\\begin{matrix}\n",
    "x_1 & + & x_2 &   &     & = & 2 & &\\\\\n",
    "    &   & x_2 & + & x_3 & = & 2 & &\\\\\n",
    "x_1 & + & x_2 & + & x_3 & = & 3 & &\\\\\n",
    "x_1 & + & x_2 & + & 2x_3 & = & 4 & \\approx & 4.1\n",
    "\\end{matrix}\n",
    "\\end{align}\n",
    "\\end{split}"
   ]
  },
  {
   "cell_type": "markdown",
   "id": "usual-terminal",
   "metadata": {},
   "source": [
    "따라서 3번과 같이 미지수의 수가 방정식의 수보다 적은 경우 정확한 값을 도출하기는 어렵지만 비슷한 값을 예측할 수 있는 문제로 바뀐다. 여기서 목표값과 예측값의 차이를 잔차(residual)이라고 한다."
   ]
  },
  {
   "cell_type": "markdown",
   "id": "fleet-transition",
   "metadata": {},
   "source": [
    "$$e = Ax - b$$"
   ]
  },
  {
   "cell_type": "markdown",
   "id": "sixth-restriction",
   "metadata": {},
   "source": [
    "잔차에 대해서 살펴보자. 잔차는 벡터로 표현되며 벡터의 놈(norm)을 최소하 하는 것으로 잔차 제곱합을 최소화 하는 것으로 이해할 수 있다."
   ]
  },
  {
   "cell_type": "markdown",
   "id": "spread-sugar",
   "metadata": {},
   "source": [
    "\\begin{align}\n",
    "e^Te = \\Vert e \\Vert^2 = (Ax-b)^T(Ax-b)  \n",
    "\\end{align}"
   ]
  },
  {
   "cell_type": "markdown",
   "id": "severe-baptist",
   "metadata": {},
   "source": [
    "따라서 잔차제곱합이 최소가 되는 $x$를 구하는 식으로 아래와 같이 표현할 수 있다."
   ]
  },
  {
   "cell_type": "markdown",
   "id": "caring-composition",
   "metadata": {},
   "source": [
    "\\begin{align}\n",
    "x = \\text{arg} \\min_x e^Te = \\text{arg} \\min_x  \\; (Ax-b)^T(Ax-b)  \n",
    "\\end{align}"
   ]
  },
  {
   "cell_type": "markdown",
   "id": "strong-russia",
   "metadata": {},
   "source": [
    "위 식에서 $argmin_x f(x)는 함수 f(x)$를 가장 작게 만드는 $x$값을 의미하며 이를 **최소자승문제(least square problem)**이라고 한다."
   ]
  },
  {
   "cell_type": "markdown",
   "id": "stock-commons",
   "metadata": {},
   "source": [
    "위 식을 이해하기 위해 엄밀한 증명은 아니지만 아래의 가정을 이용해 이해를 도울 수 있다."
   ]
  },
  {
   "cell_type": "markdown",
   "id": "thermal-engine",
   "metadata": {},
   "source": [
    "먼저 $A^TA$는 앞 행렬의 열의 개수 * 뒤 행렬의 행의 개수 shape을 가진 행렬로 변하므로 정방행렬이 된다는 점을 이용한다."
   ]
  },
  {
   "cell_type": "markdown",
   "id": "built-commander",
   "metadata": {},
   "source": [
    "\\begin{align}\n",
    "Ax \\approx b \n",
    "\\end{align}"
   ]
  },
  {
   "cell_type": "markdown",
   "id": "increasing-swaziland",
   "metadata": {},
   "source": [
    "이 식의 양변에 $A^T$를 곱하면 아래와 같다."
   ]
  },
  {
   "cell_type": "markdown",
   "id": "electrical-adrian",
   "metadata": {},
   "source": [
    "$$A^TAx = A^Tb$$"
   ]
  },
  {
   "cell_type": "markdown",
   "id": "northern-husband",
   "metadata": {},
   "source": [
    "여기서 정방행렬 $A^TA$의 역행렬 $(A^TA)^{-1}$이 존재한다고 가정하고 양변의 앞에 정방행렬의 역행렬을 곱해준다."
   ]
  },
  {
   "cell_type": "markdown",
   "id": "proprietary-cradle",
   "metadata": {},
   "source": [
    "$$(A^TA)^{-1}(A^TA)x = (A^TA)^{-1}A^Tb$$"
   ]
  },
  {
   "cell_type": "markdown",
   "id": "interested-trout",
   "metadata": {},
   "source": [
    "그럼 좌변은 $Ix$가 되고 결과적으로 $x$가 된다."
   ]
  },
  {
   "cell_type": "markdown",
   "id": "pediatric-cassette",
   "metadata": {},
   "source": [
    "이를 통해 다음과 같이 정리할 수 있다."
   ]
  },
  {
   "cell_type": "markdown",
   "id": "desirable-ivory",
   "metadata": {},
   "source": [
    "$$x = ((A^TA)^{-1}A^T)b$$"
   ]
  },
  {
   "cell_type": "markdown",
   "id": "agricultural-salem",
   "metadata": {},
   "source": [
    "엄밀한 수학적 증명은 이후 미분과 최적화를 공부한 뒤 다루자."
   ]
  },
  {
   "cell_type": "markdown",
   "id": "adverse-bulletin",
   "metadata": {},
   "source": [
    "위 식에서 $(A^TA)^{-1}A^T$를 행렬 $A$의 **의사역행렬(pseudo inverse)**라 하며 $A^{+}$로 표기한다."
   ]
  },
  {
   "cell_type": "markdown",
   "id": "amber-professional",
   "metadata": {},
   "source": [
    "$$A^{+} = (A^TA)^{-1}A^T$$"
   ]
  },
  {
   "cell_type": "markdown",
   "id": "heated-sandwich",
   "metadata": {
    "ExecuteTime": {
     "end_time": "2021-07-14T03:50:56.488079Z",
     "start_time": "2021-07-14T03:50:56.470126Z"
    }
   },
   "source": [
    "$$x = A^{+}b$$"
   ]
  },
  {
   "cell_type": "markdown",
   "id": "accomplished-concrete",
   "metadata": {},
   "source": [
    "앞서 살펴본 미지수 x를 구한 lstsq() 함수는 사실 최소자승문제를 푸는 함수이다."
   ]
  },
  {
   "cell_type": "code",
   "execution_count": 67,
   "id": "balanced-pittsburgh",
   "metadata": {
    "ExecuteTime": {
     "end_time": "2021-07-14T03:51:29.278455Z",
     "start_time": "2021-07-14T03:51:29.265438Z"
    }
   },
   "outputs": [
    {
     "data": {
      "text/plain": [
       "array([[1, 1, 0],\n",
       "       [0, 1, 1],\n",
       "       [1, 1, 1],\n",
       "       [1, 1, 2]])"
      ]
     },
     "execution_count": 67,
     "metadata": {},
     "output_type": "execute_result"
    }
   ],
   "source": [
    "A = np.array([[1, 1, 0], [0, 1, 1], [1, 1, 1], [1, 1, 2]])\n",
    "A"
   ]
  },
  {
   "cell_type": "code",
   "execution_count": 68,
   "id": "adapted-criticism",
   "metadata": {
    "ExecuteTime": {
     "end_time": "2021-07-14T03:51:34.749710Z",
     "start_time": "2021-07-14T03:51:34.737742Z"
    }
   },
   "outputs": [
    {
     "data": {
      "text/plain": [
       "array([[2. ],\n",
       "       [2. ],\n",
       "       [3. ],\n",
       "       [4.1]])"
      ]
     },
     "execution_count": 68,
     "metadata": {},
     "output_type": "execute_result"
    }
   ],
   "source": [
    "b = np.array([[2], [2], [3], [4.1]])\n",
    "b"
   ]
  },
  {
   "cell_type": "markdown",
   "id": "turkish-soviet",
   "metadata": {},
   "source": [
    "직접 의사역행렬을 구해보자."
   ]
  },
  {
   "cell_type": "code",
   "execution_count": 70,
   "id": "nasty-shareware",
   "metadata": {
    "ExecuteTime": {
     "end_time": "2021-07-14T03:52:37.868220Z",
     "start_time": "2021-07-14T03:52:37.848261Z"
    }
   },
   "outputs": [
    {
     "data": {
      "text/plain": [
       "array([[ 0.33333333, -1.        ,  0.33333333,  0.33333333],\n",
       "       [ 0.5       ,  1.        ,  0.        , -0.5       ],\n",
       "       [-0.5       ,  0.        ,  0.        ,  0.5       ]])"
      ]
     },
     "execution_count": 70,
     "metadata": {},
     "output_type": "execute_result"
    }
   ],
   "source": [
    "Apinv = np.linalg.inv(A.T @ A) @ A.T\n",
    "Apinv"
   ]
  },
  {
   "cell_type": "code",
   "execution_count": 72,
   "id": "consecutive-messenger",
   "metadata": {
    "ExecuteTime": {
     "end_time": "2021-07-14T03:52:50.611463Z",
     "start_time": "2021-07-14T03:52:50.600459Z"
    }
   },
   "outputs": [
    {
     "data": {
      "text/plain": [
       "array([[1.03333333],\n",
       "       [0.95      ],\n",
       "       [1.05      ]])"
      ]
     },
     "execution_count": 72,
     "metadata": {},
     "output_type": "execute_result"
    }
   ],
   "source": [
    "x = Apinv @ b\n",
    "x"
   ]
  },
  {
   "cell_type": "markdown",
   "id": "entire-dialogue",
   "metadata": {},
   "source": [
    "위의 x를 이용해 b값을 예측해보면 실제 b값과 매우 유사한 것을 확인할 수 있다."
   ]
  },
  {
   "cell_type": "code",
   "execution_count": 76,
   "id": "antique-finding",
   "metadata": {
    "ExecuteTime": {
     "end_time": "2021-07-14T03:53:25.733152Z",
     "start_time": "2021-07-14T03:53:25.727134Z"
    }
   },
   "outputs": [
    {
     "name": "stdout",
     "output_type": "stream",
     "text": [
      "[[1.98333333]\n",
      " [2.        ]\n",
      " [3.03333333]\n",
      " [4.08333333]]\n",
      "\n",
      "[[2. ]\n",
      " [2. ]\n",
      " [3. ]\n",
      " [4.1]]\n"
     ]
    }
   ],
   "source": [
    "print(A @ x)\n",
    "print()\n",
    "print(b)"
   ]
  },
  {
   "cell_type": "code",
   "execution_count": 77,
   "id": "enclosed-processing",
   "metadata": {
    "ExecuteTime": {
     "end_time": "2021-07-14T03:54:07.406387Z",
     "start_time": "2021-07-14T03:54:07.385477Z"
    }
   },
   "outputs": [
    {
     "name": "stderr",
     "output_type": "stream",
     "text": [
      "C:\\Users\\Kim\\AppData\\Roaming\\Python\\Python37\\site-packages\\ipykernel_launcher.py:1: FutureWarning: `rcond` parameter will change to the default of machine precision times ``max(M, N)`` where M and N are the input matrix dimensions.\n",
      "To use the future default and silence this warning we advise to pass `rcond=None`, to keep using the old, explicitly pass `rcond=-1`.\n",
      "  \"\"\"Entry point for launching an IPython kernel.\n"
     ]
    },
    {
     "data": {
      "text/plain": [
       "array([[1.03333333],\n",
       "       [0.95      ],\n",
       "       [1.05      ]])"
      ]
     },
     "execution_count": 77,
     "metadata": {},
     "output_type": "execute_result"
    }
   ],
   "source": [
    "x, resid, rank, s = np.linalg.lstsq(A, b)\n",
    "x"
   ]
  },
  {
   "cell_type": "markdown",
   "id": "contemporary-aircraft",
   "metadata": {},
   "source": [
    "위 코드에서 `resid`는 잔차벡터 $e$의 제곱합, 즉 놈의 제곱이다."
   ]
  },
  {
   "cell_type": "markdown",
   "id": "sensitive-sacramento",
   "metadata": {},
   "source": [
    "$$e = Ax - b$$"
   ]
  },
  {
   "cell_type": "code",
   "execution_count": 80,
   "id": "domestic-bermuda",
   "metadata": {
    "ExecuteTime": {
     "end_time": "2021-07-14T03:55:01.921409Z",
     "start_time": "2021-07-14T03:55:01.910404Z"
    }
   },
   "outputs": [
    {
     "data": {
      "text/plain": [
       "(array([0.00166667]), 0.0016666666666666624)"
      ]
     },
     "execution_count": 80,
     "metadata": {},
     "output_type": "execute_result"
    }
   ],
   "source": [
    "resid, np.linalg.norm(A @ x - b) ** 2"
   ]
  },
  {
   "cell_type": "code",
   "execution_count": null,
   "id": "boolean-account",
   "metadata": {},
   "outputs": [],
   "source": []
  },
  {
   "cell_type": "code",
   "execution_count": 81,
   "id": "affecting-dover",
   "metadata": {
    "ExecuteTime": {
     "end_time": "2021-07-14T03:56:16.962698Z",
     "start_time": "2021-07-14T03:56:16.942752Z"
    }
   },
   "outputs": [],
   "source": [
    "from sklearn.datasets import load_boston\n",
    "boston = load_boston()\n",
    "X = boston.data\n",
    "y = boston.target\n"
   ]
  },
  {
   "cell_type": "code",
   "execution_count": 87,
   "id": "directed-politics",
   "metadata": {
    "ExecuteTime": {
     "end_time": "2021-07-14T04:15:02.903392Z",
     "start_time": "2021-07-14T04:15:02.879459Z"
    }
   },
   "outputs": [
    {
     "data": {
      "text/plain": [
       "array([-9.28965170e-02,  4.87149552e-02, -4.05997958e-03,  2.85399882e+00,\n",
       "       -2.86843637e+00,  5.92814778e+00, -7.26933458e-03, -9.68514157e-01,\n",
       "        1.71151128e-01, -9.39621540e-03, -3.92190926e-01,  1.49056102e-02,\n",
       "       -4.16304471e-01])"
      ]
     },
     "execution_count": 87,
     "metadata": {},
     "output_type": "execute_result"
    }
   ],
   "source": [
    "# 공식을 이용한 w벡터 계산\n",
    "\n",
    "np.linalg.inv(X.T @ X) @ X.T @ y"
   ]
  },
  {
   "cell_type": "code",
   "execution_count": 82,
   "id": "detected-booth",
   "metadata": {
    "ExecuteTime": {
     "end_time": "2021-07-14T03:57:11.809595Z",
     "start_time": "2021-07-14T03:57:11.803611Z"
    }
   },
   "outputs": [
    {
     "name": "stderr",
     "output_type": "stream",
     "text": [
      "C:\\Users\\Kim\\AppData\\Roaming\\Python\\Python37\\site-packages\\ipykernel_launcher.py:1: FutureWarning: `rcond` parameter will change to the default of machine precision times ``max(M, N)`` where M and N are the input matrix dimensions.\n",
      "To use the future default and silence this warning we advise to pass `rcond=None`, to keep using the old, explicitly pass `rcond=-1`.\n",
      "  \"\"\"Entry point for launching an IPython kernel.\n"
     ]
    },
    {
     "data": {
      "text/plain": [
       "array([-9.28965170e-02,  4.87149552e-02, -4.05997958e-03,  2.85399882e+00,\n",
       "       -2.86843637e+00,  5.92814778e+00, -7.26933458e-03, -9.68514157e-01,\n",
       "        1.71151128e-01, -9.39621540e-03, -3.92190926e-01,  1.49056102e-02,\n",
       "       -4.16304471e-01])"
      ]
     },
     "execution_count": 82,
     "metadata": {},
     "output_type": "execute_result"
    }
   ],
   "source": [
    "# lstsq() 함수를 이용한 w벡터 계산\n",
    "\n",
    "w, resid, rank, s = np.linalg.lstsq(X, y)\n",
    "w"
   ]
  },
  {
   "cell_type": "code",
   "execution_count": 85,
   "id": "promotional-intent",
   "metadata": {
    "ExecuteTime": {
     "end_time": "2021-07-14T03:57:58.157381Z",
     "start_time": "2021-07-14T03:57:58.142396Z"
    },
    "scrolled": true
   },
   "outputs": [
    {
     "data": {
      "text/plain": [
       "12228.046261044008"
      ]
     },
     "execution_count": 85,
     "metadata": {},
     "output_type": "execute_result"
    }
   ],
   "source": [
    "# 잔차 제곱합 계산\n",
    "\n",
    "np.linalg.norm(X @ w - y) ** 2"
   ]
  },
  {
   "cell_type": "code",
   "execution_count": null,
   "id": "italian-belle",
   "metadata": {},
   "outputs": [],
   "source": []
  },
  {
   "cell_type": "code",
   "execution_count": null,
   "id": "sudden-finnish",
   "metadata": {},
   "outputs": [],
   "source": []
  },
  {
   "cell_type": "code",
   "execution_count": null,
   "id": "increasing-excitement",
   "metadata": {},
   "outputs": [],
   "source": []
  },
  {
   "cell_type": "code",
   "execution_count": null,
   "id": "intelligent-shopper",
   "metadata": {},
   "outputs": [],
   "source": []
  }
 ],
 "metadata": {
  "kernelspec": {
   "display_name": "Python 3",
   "language": "python",
   "name": "python3"
  },
  "language_info": {
   "codemirror_mode": {
    "name": "ipython",
    "version": 3
   },
   "file_extension": ".py",
   "mimetype": "text/x-python",
   "name": "python",
   "nbconvert_exporter": "python",
   "pygments_lexer": "ipython3",
   "version": "3.7.10"
  },
  "nbTranslate": {
   "displayLangs": [
    "*"
   ],
   "hotkey": "alt-t",
   "langInMainMenu": true,
   "sourceLang": "en",
   "targetLang": "fr",
   "useGoogleTranslate": true
  },
  "varInspector": {
   "cols": {
    "lenName": 16,
    "lenType": 16,
    "lenVar": 40
   },
   "kernels_config": {
    "python": {
     "delete_cmd_postfix": "",
     "delete_cmd_prefix": "del ",
     "library": "var_list.py",
     "varRefreshCmd": "print(var_dic_list())"
    },
    "r": {
     "delete_cmd_postfix": ") ",
     "delete_cmd_prefix": "rm(",
     "library": "var_list.r",
     "varRefreshCmd": "cat(var_dic_list()) "
    }
   },
   "types_to_exclude": [
    "module",
    "function",
    "builtin_function_or_method",
    "instance",
    "_Feature"
   ],
   "window_display": false
  }
 },
 "nbformat": 4,
 "nbformat_minor": 5
}
