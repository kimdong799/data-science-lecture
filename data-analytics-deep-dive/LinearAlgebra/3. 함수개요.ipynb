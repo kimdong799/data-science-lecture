{
 "cells": [
  {
   "cell_type": "markdown",
   "id": "continental-disco",
   "metadata": {},
   "source": [
    "## 함수"
   ]
  },
  {
   "cell_type": "markdown",
   "id": "musical-sensitivity",
   "metadata": {},
   "source": [
    "함수(function)는 입력값을 출력값으로 바꾸어 출력하는 **관계**를 말한다."
   ]
  },
  {
   "attachments": {
    "image.png": {
     "image/png": "[encoded data removed]"
    }
   },
   "cell_type": "markdown",
   "id": "bright-volume",
   "metadata": {},
   "source": [
    "![image.png](attachment:image.png)"
   ]
  },
  {
   "cell_type": "markdown",
   "id": "smooth-australia",
   "metadata": {},
   "source": [
    "위의 그림처럼 함수에서 어떤 입력값과 출력값이 함수 관계를 이루려면 같은 입력값에 대해서 항상 같은 출력값이 나와야한다."
   ]
  },
  {
   "cell_type": "markdown",
   "id": "presidential-delivery",
   "metadata": {},
   "source": [
    "여기서 입력변수가 가질 수 있는 값의 집합을 **정의역(domain)**, 출력변수가 가질 수 있는 값의 집합을 **공역(range)**라 한다."
   ]
  },
  {
   "cell_type": "markdown",
   "id": "bizarre-isolation",
   "metadata": {},
   "source": [
    "## 표를 사용한 함수 구현"
   ]
  },
  {
   "cell_type": "markdown",
   "id": "narrative-onion",
   "metadata": {},
   "source": [
    "`1. 정의역이 유한 개의 원소로 이루어진 경우`"
   ]
  },
  {
   "cell_type": "markdown",
   "id": "medieval-substitute",
   "metadata": {},
   "source": [
    "**표 (lookup table)로 표현할 수 있으며 파이썬에서는 딕셔너리를 이용해 구현 가능**"
   ]
  },
  {
   "cell_type": "code",
   "execution_count": 4,
   "id": "crazy-danger",
   "metadata": {
    "ExecuteTime": {
     "end_time": "2021-07-21T05:18:50.519832Z",
     "start_time": "2021-07-21T05:18:50.511851Z"
    }
   },
   "outputs": [
    {
     "name": "stdout",
     "output_type": "stream",
     "text": [
      "f[1] = 2\n",
      "f[2] = 4\n",
      "f[3] = 6\n"
     ]
    }
   ],
   "source": [
    "# 정의역이 유한한 경우\n",
    "\n",
    "f = {\n",
    "    1 : 2,\n",
    "    2 : 4,\n",
    "    3 : 6\n",
    "}\n",
    "\n",
    "for i in range(1, 4):\n",
    "    print('f[{}] = {}'.format(i, f[i]))"
   ]
  },
  {
   "cell_type": "markdown",
   "id": "unsigned-penny",
   "metadata": {},
   "source": [
    "## 변수"
   ]
  },
  {
   "cell_type": "markdown",
   "id": "eleven-discussion",
   "metadata": {},
   "source": [
    "만약 정의역이 무한개 원소로 이루어진 경우 **변수와 수식을 이용한다.**"
   ]
  },
  {
   "cell_type": "markdown",
   "id": "narrow-hawaiian",
   "metadata": {},
   "source": [
    "1. **변수(variable)**란 어떤 숫자를 대표하는 기호\n",
    "2. **입력변수(input variable)**는 입력값을 대표하는 변수\n",
    "3. **출력변수(output variable)**는 출력값을 대표하는 변수"
   ]
  },
  {
   "cell_type": "markdown",
   "id": "ecological-specialist",
   "metadata": {},
   "source": [
    "ex) $$x -> 2x$$"
   ]
  },
  {
   "cell_type": "markdown",
   "id": "bigger-advocate",
   "metadata": {},
   "source": [
    "$$or$$\n",
    "$$y = 2x$$"
   ]
  },
  {
   "cell_type": "markdown",
   "id": "mediterranean-toner",
   "metadata": {},
   "source": [
    "함수를 여러 개 사용할 떄 함수에 이름을 붙여 구별한다.\n",
    "\n",
    "함수의 이름은 f, g, h와 같이 알파벳 소문자를 이용해 표시한다."
   ]
  },
  {
   "cell_type": "markdown",
   "id": "relative-procedure",
   "metadata": {},
   "source": [
    "아래의 기호는 \"f of x\"라고 읽는다."
   ]
  },
  {
   "cell_type": "markdown",
   "id": "further-recipe",
   "metadata": {},
   "source": [
    "$$f(x) = 2x$$"
   ]
  },
  {
   "cell_type": "code",
   "execution_count": 6,
   "id": "pacific-paraguay",
   "metadata": {
    "ExecuteTime": {
     "end_time": "2021-07-21T05:23:09.887676Z",
     "start_time": "2021-07-21T05:23:09.880727Z"
    }
   },
   "outputs": [
    {
     "name": "stdout",
     "output_type": "stream",
     "text": [
      "f(20) = 40\n"
     ]
    }
   ],
   "source": [
    "def f(x):\n",
    "    return 2 * x\n",
    "\n",
    "x = 20\n",
    "y = f(x)\n",
    "\n",
    "print('f({}) = {}'.format(x, y))"
   ]
  },
  {
   "cell_type": "markdown",
   "id": "existing-worse",
   "metadata": {},
   "source": [
    "## 연속과 불연속"
   ]
  },
  {
   "cell_type": "markdown",
   "id": "israeli-vampire",
   "metadata": {},
   "source": [
    "함수의 값이 중간에 갑자기 변하는 경우 **불연속(discontinuos)**라고 하고 그렇지 않은 경우 **연속(continuous)**이라고 한다."
   ]
  },
  {
   "cell_type": "markdown",
   "id": "choice-cemetery",
   "metadata": {},
   "source": [
    "## 부호함수"
   ]
  },
  {
   "cell_type": "markdown",
   "id": "boxed-samba",
   "metadata": {},
   "source": [
    "**부호함수(sign function)**은 입력값이 양수이면 1, 음수이면 -1, 0이면 0을 출력하는 $x=0$에서 불연속인 함수이다. "
   ]
  },
  {
   "cell_type": "markdown",
   "id": "seeing-suspension",
   "metadata": {},
   "source": [
    "\\begin{split} \n",
    "\\begin{align}\n",
    "\\text{sgn}(x) \n",
    "=\n",
    "\\begin{cases} \n",
    "1, & x > 0, \\\\ \n",
    "0, & x = 0, \\\\ \n",
    "-1, & x < 0 \n",
    "\\end{cases} \n",
    "\\end{align}\n",
    "\\end{split}"
   ]
  },
  {
   "cell_type": "code",
   "execution_count": 11,
   "id": "elegant-enforcement",
   "metadata": {
    "ExecuteTime": {
     "end_time": "2021-07-21T05:25:45.004707Z",
     "start_time": "2021-07-21T05:25:44.985760Z"
    }
   },
   "outputs": [
    {
     "data": {
      "text/plain": [
       "1"
      ]
     },
     "execution_count": 11,
     "metadata": {},
     "output_type": "execute_result"
    }
   ],
   "source": [
    "np.sign(10000)"
   ]
  },
  {
   "cell_type": "code",
   "execution_count": 9,
   "id": "convinced-crazy",
   "metadata": {
    "ExecuteTime": {
     "end_time": "2021-07-21T05:25:36.513314Z",
     "start_time": "2021-07-21T05:25:36.506319Z"
    }
   },
   "outputs": [
    {
     "data": {
      "text/plain": [
       "0"
      ]
     },
     "execution_count": 9,
     "metadata": {},
     "output_type": "execute_result"
    }
   ],
   "source": [
    "np.sign(0)"
   ]
  },
  {
   "cell_type": "code",
   "execution_count": 10,
   "id": "static-management",
   "metadata": {
    "ExecuteTime": {
     "end_time": "2021-07-21T05:25:42.646726Z",
     "start_time": "2021-07-21T05:25:42.639745Z"
    }
   },
   "outputs": [
    {
     "data": {
      "text/plain": [
       "-1"
      ]
     },
     "execution_count": 10,
     "metadata": {},
     "output_type": "execute_result"
    }
   ],
   "source": [
    "np.sign(-10000)"
   ]
  },
  {
   "cell_type": "markdown",
   "id": "looking-fishing",
   "metadata": {},
   "source": [
    "## 단위계단함수"
   ]
  },
  {
   "cell_type": "markdown",
   "id": "confidential-exemption",
   "metadata": {},
   "source": [
    "**단위계단함수(Heaviside step function)**은 $x=0$에서 불연속인 함수다."
   ]
  },
  {
   "cell_type": "markdown",
   "id": "statistical-oklahoma",
   "metadata": {},
   "source": [
    "입력값이 0 혹은 양수인 경우 출력값으로 1을 반환하고 음수인 경우 0을 반환하는 부호함수와 유사한 함수이다."
   ]
  },
  {
   "cell_type": "markdown",
   "id": "divided-eugene",
   "metadata": {},
   "source": [
    "\\begin{split} \n",
    "\\begin{align}\n",
    "H(x) =\n",
    "\\begin{cases} \n",
    "1, & x \\ge 0, \\\\ \n",
    "0, & x < 0  \n",
    "\\end{cases}\n",
    "\\end{align}\n",
    "\\end{split}"
   ]
  },
  {
   "cell_type": "code",
   "execution_count": 13,
   "id": "passing-money",
   "metadata": {
    "ExecuteTime": {
     "end_time": "2021-07-21T05:30:56.048538Z",
     "start_time": "2021-07-21T05:30:56.034572Z"
    }
   },
   "outputs": [
    {
     "data": {
      "text/plain": [
       "(0.0, 1.0, 1.0)"
      ]
     },
     "execution_count": 13,
     "metadata": {},
     "output_type": "execute_result"
    }
   ],
   "source": [
    "def heaviside_step(x):\n",
    "    if isinstance(x, np.ndarray):\n",
    "        return np.where(x >= 0, 1, 0)\n",
    "    else:\n",
    "        return 1.0 if x >= 0 else 0.0\n",
    "    \n",
    "heaviside_step(-0.0001), heaviside_step(0), heaviside_step(0.0001), "
   ]
  },
  {
   "cell_type": "code",
   "execution_count": 15,
   "id": "auburn-workstation",
   "metadata": {
    "ExecuteTime": {
     "end_time": "2021-07-21T05:31:16.356342Z",
     "start_time": "2021-07-21T05:31:16.345399Z"
    }
   },
   "outputs": [
    {
     "data": {
      "text/plain": [
       "array([0, 1, 1])"
      ]
     },
     "execution_count": 15,
     "metadata": {},
     "output_type": "execute_result"
    }
   ],
   "source": [
    "heaviside_step(np.linspace(-1, 1, 3))"
   ]
  },
  {
   "cell_type": "markdown",
   "id": "accessory-flash",
   "metadata": {},
   "source": [
    "## 지시함수"
   ]
  },
  {
   "cell_type": "markdown",
   "id": "chemical-laugh",
   "metadata": {},
   "source": [
    "**지시함수(indicator function)**는 함수 이름에 아래첨자로 미리 지정된 값이 들어오는 경우 1이 출력되고 그렇지 않은 경우 0이 출력된다."
   ]
  },
  {
   "cell_type": "markdown",
   "id": "oriental-killer",
   "metadata": {},
   "source": [
    "지시함수를 표현하기 위해서는 아래의 수식과 같이 I 기호 혹은 델타 기호를 사용한다."
   ]
  },
  {
   "cell_type": "markdown",
   "id": "young-trailer",
   "metadata": {},
   "source": [
    "\\begin{split}\n",
    "\\begin{align}\n",
    "\\mathbb{I}_i(x)\n",
    "=\n",
    "\\delta_{ix} \n",
    "=\n",
    "\\begin{cases}\n",
    "1 & \\text{ if } x = i \\\\ \n",
    "0 & \\text{ if } x \\neq i \\\\ \n",
    "\\end{cases}\n",
    "\\end{align}\n",
    "\\end{split}"
   ]
  },
  {
   "cell_type": "markdown",
   "id": "genetic-arbitration",
   "metadata": {},
   "source": [
    "$$or$$"
   ]
  },
  {
   "cell_type": "markdown",
   "id": "early-allocation",
   "metadata": {},
   "source": [
    "\\begin{split}\n",
    "\\begin{align}\n",
    "\\mathbb{I}(x=i)\n",
    "=\n",
    "\\begin{cases}\n",
    "1 & \\text{ if } x = i \\\\ \n",
    "0 & \\text{ if } x \\neq i \\\\ \n",
    "\\end{cases}\n",
    "\\end{align}\n",
    "\\end{split}"
   ]
  },
  {
   "cell_type": "markdown",
   "id": "quality-cover",
   "metadata": {},
   "source": [
    "이러한 지시함수는 **특정한 데이터만 선택하여 개수를 세는 데 사용된다.**"
   ]
  },
  {
   "cell_type": "markdown",
   "id": "narrative-monroe",
   "metadata": {},
   "source": [
    "\\begin{align}\n",
    "N_0 = \\sum_{i=1}^N \\mathbb{I} (x_i=0)\n",
    "\\end{align}"
   ]
  },
  {
   "cell_type": "markdown",
   "id": "separated-sheep",
   "metadata": {},
   "source": [
    "\\begin{align}\n",
    "N_1 = \\sum_{i=1}^N \\mathbb{I} (x_i=1)\n",
    "\\end{align}"
   ]
  },
  {
   "cell_type": "code",
   "execution_count": 35,
   "id": "prospective-begin",
   "metadata": {
    "ExecuteTime": {
     "end_time": "2021-07-21T05:38:39.225792Z",
     "start_time": "2021-07-21T05:38:39.219808Z"
    }
   },
   "outputs": [
    {
     "data": {
      "text/plain": [
       "array([2, 2, 0, 0, 0, 1, 2, 1, 0, 2])"
      ]
     },
     "execution_count": 35,
     "metadata": {},
     "output_type": "execute_result"
    }
   ],
   "source": [
    "x = np.random.randint(0, 3, 10)\n",
    "x"
   ]
  },
  {
   "cell_type": "code",
   "execution_count": 43,
   "id": "regular-cricket",
   "metadata": {
    "ExecuteTime": {
     "end_time": "2021-07-21T05:39:47.645557Z",
     "start_time": "2021-07-21T05:39:47.639609Z"
    }
   },
   "outputs": [
    {
     "name": "stdout",
     "output_type": "stream",
     "text": [
      "4\n",
      "2\n"
     ]
    }
   ],
   "source": [
    "def indicator(x, num):\n",
    "    condition = x==num\n",
    "    result = len(x[condition])\n",
    "    return print(result)\n",
    "\n",
    "indicator(x, 0)\n",
    "indicator(x, 1)"
   ]
  },
  {
   "cell_type": "markdown",
   "id": "signed-allowance",
   "metadata": {},
   "source": [
    "## 역함수"
   ]
  },
  {
   "cell_type": "markdown",
   "id": "transparent-financing",
   "metadata": {},
   "source": [
    "어떤 함수 $f(x)$가 있을 때입력/출력 관계와 정반대의 입출력 관계를 갖는 함수를 **역함수(inverse function)**이라 한다."
   ]
  },
  {
   "cell_type": "markdown",
   "id": "stainless-iraqi",
   "metadata": {},
   "source": [
    "예를 들어 x값에 대해 2를 곱하여 반환하는 함수 f가 있다고 가정하자."
   ]
  },
  {
   "cell_type": "code",
   "execution_count": 56,
   "id": "combined-sunglasses",
   "metadata": {
    "ExecuteTime": {
     "end_time": "2021-07-21T05:45:57.009603Z",
     "start_time": "2021-07-21T05:45:56.998632Z"
    }
   },
   "outputs": [
    {
     "name": "stdout",
     "output_type": "stream",
     "text": [
      "[2, 4, 6, 8, 10]\n"
     ]
    }
   ],
   "source": [
    "x = [1, 2, 3, 4, 5]\n",
    "result = []\n",
    "\n",
    "def f(x):\n",
    "    for i in x:\n",
    "        result.append(i * 2)\n",
    "    print(result)\n",
    "    \n",
    "f(x)"
   ]
  },
  {
   "cell_type": "markdown",
   "id": "orange-prophet",
   "metadata": {},
   "source": [
    "위 함수의 역함수는 아래와 같다."
   ]
  },
  {
   "cell_type": "code",
   "execution_count": 57,
   "id": "central-demographic",
   "metadata": {
    "ExecuteTime": {
     "end_time": "2021-07-21T05:46:15.448368Z",
     "start_time": "2021-07-21T05:46:15.426429Z"
    }
   },
   "outputs": [
    {
     "name": "stdout",
     "output_type": "stream",
     "text": [
      "[1.0, 2.0, 3.0, 4.0, 5.0]\n"
     ]
    }
   ],
   "source": [
    "x = [1, 2, 3, 4, 5]\n",
    "result2 = []\n",
    "\n",
    "def f_inv(x):\n",
    "    for i in x:\n",
    "        result2.append(i / 2)\n",
    "    print(result2)\n",
    "    \n",
    "f_inv(result)"
   ]
  },
  {
   "cell_type": "markdown",
   "id": "contained-aspect",
   "metadata": {},
   "source": [
    "위에서 2가 곱해진 값들에 대해 다시 2로 나누어주면 원래 함수 f에 사용된 입력값과 동일한 출력값이 반환된다."
   ]
  },
  {
   "cell_type": "markdown",
   "id": "coupled-sydney",
   "metadata": {},
   "source": [
    "이러한 역함수를 표시하기 위해 함수 $f$의 역함수는 $f^{-1}$로 표시한다."
   ]
  },
  {
   "cell_type": "markdown",
   "id": "sweet-membership",
   "metadata": {},
   "source": [
    "여기서 중요한점은 함수의 역함수와 함수의 역수를 혼동하기 쉽기 때문에 유의해야한다."
   ]
  },
  {
   "cell_type": "markdown",
   "id": "several-evidence",
   "metadata": {},
   "source": [
    "함수는 $f$로 표현되며 $f^{-1}$이 역함수이고 $f(x)$는 함수에 $x$가 입력된 반환 값을 의미한다. 따라서 $f(x)^{-1}$은 함수 $f$의 역수이다."
   ]
  },
  {
   "cell_type": "markdown",
   "id": "rough-sunset",
   "metadata": {},
   "source": [
    "\\begin{align}\n",
    "f^{-1}(x) \\neq f(x)^{-1} = \\dfrac{1}{f(x)} \n",
    "\\end{align}"
   ]
  },
  {
   "cell_type": "markdown",
   "id": "minor-happening",
   "metadata": {},
   "source": [
    "그렇다면 한가지 의문이 생긴다. \n",
    "\n",
    "함수가 존재하면 항상 역함수가 존재하는가?  정답은 아니다."
   ]
  },
  {
   "cell_type": "markdown",
   "id": "occupational-belgium",
   "metadata": {},
   "source": [
    "아래의 예시를 통해 그 이유를 알아보자."
   ]
  },
  {
   "cell_type": "markdown",
   "id": "otherwise-invalid",
   "metadata": {},
   "source": [
    "$f(x_1) = y^*$"
   ]
  },
  {
   "cell_type": "markdown",
   "id": "white-regression",
   "metadata": {},
   "source": [
    "$f(x_2) = y^*$"
   ]
  },
  {
   "cell_type": "markdown",
   "id": "upper-preservation",
   "metadata": {},
   "source": [
    "위의 경우 다른 두 입력값 $x_1, x_2$에 대한 출력값이 $y^*$으로 동일한 것을 알 수 있다."
   ]
  },
  {
   "cell_type": "markdown",
   "id": "broke-tobago",
   "metadata": {},
   "source": [
    "이처럼 다른 입력값에 대해 같은 출력값이 반환되면 역함수는 존재하지 않는다."
   ]
  },
  {
   "cell_type": "markdown",
   "id": "thrown-tracy",
   "metadata": {},
   "source": [
    "위 예시를 적용한 아래의 경우를 살펴보자."
   ]
  },
  {
   "cell_type": "markdown",
   "id": "blind-footage",
   "metadata": {},
   "source": [
    "$f(x) = x^2$"
   ]
  },
  {
   "cell_type": "markdown",
   "id": "specialized-calculator",
   "metadata": {},
   "source": [
    "위 함수에 -1과 1 을 대입해보자."
   ]
  },
  {
   "cell_type": "code",
   "execution_count": 62,
   "id": "presidential-hometown",
   "metadata": {
    "ExecuteTime": {
     "end_time": "2021-07-21T05:52:00.548117Z",
     "start_time": "2021-07-21T05:52:00.544130Z"
    }
   },
   "outputs": [],
   "source": [
    "def f(x):\n",
    "    return x**2"
   ]
  },
  {
   "cell_type": "code",
   "execution_count": 63,
   "id": "patient-oklahoma",
   "metadata": {
    "ExecuteTime": {
     "end_time": "2021-07-21T05:52:08.552566Z",
     "start_time": "2021-07-21T05:52:08.535651Z"
    }
   },
   "outputs": [
    {
     "data": {
      "text/plain": [
       "1"
      ]
     },
     "execution_count": 63,
     "metadata": {},
     "output_type": "execute_result"
    }
   ],
   "source": [
    "x = 1\n",
    "\n",
    "f(x)"
   ]
  },
  {
   "cell_type": "code",
   "execution_count": 64,
   "id": "gothic-description",
   "metadata": {
    "ExecuteTime": {
     "end_time": "2021-07-21T05:52:16.587859Z",
     "start_time": "2021-07-21T05:52:16.581841Z"
    }
   },
   "outputs": [
    {
     "data": {
      "text/plain": [
       "1"
      ]
     },
     "execution_count": 64,
     "metadata": {},
     "output_type": "execute_result"
    }
   ],
   "source": [
    "x = -1\n",
    "\n",
    "f(x)"
   ]
  },
  {
   "cell_type": "markdown",
   "id": "finite-refund",
   "metadata": {},
   "source": [
    "이처럼 다른 입력값 1, -1에 대해 동일한 출력값 1이 반환되는 것을 알 수 있다."
   ]
  },
  {
   "cell_type": "markdown",
   "id": "defensive-duplicate",
   "metadata": {},
   "source": [
    "이러한 경우 함수 f에 대한 역함수는 존재하지 않는다."
   ]
  },
  {
   "cell_type": "markdown",
   "id": "nuclear-society",
   "metadata": {},
   "source": [
    "그런데 여기서 함수 $f$의 정의역을 양수로 제한 ($x>0$)하면 역함수가 존재할 수 있다."
   ]
  },
  {
   "cell_type": "markdown",
   "id": "expressed-chart",
   "metadata": {},
   "source": [
    "\\begin{align}\n",
    "f^{-1}(x) = \\sqrt{x}\n",
    "\\end{align}"
   ]
  },
  {
   "cell_type": "markdown",
   "id": "narrative-identity",
   "metadata": {},
   "source": [
    "## 함수의 그래프"
   ]
  },
  {
   "cell_type": "markdown",
   "id": "super-formation",
   "metadata": {},
   "source": [
    "함수를 시각적으로 표현하기 위해 그래프 또는 플롯을 이용할 수 있다."
   ]
  },
  {
   "cell_type": "markdown",
   "id": "arabic-corps",
   "metadata": {},
   "source": [
    "아래의 함수를 그래프로 표현해보자."
   ]
  },
  {
   "cell_type": "markdown",
   "id": "baking-destruction",
   "metadata": {},
   "source": [
    "$f(x) = x^3 - 3x^2 + x$"
   ]
  },
  {
   "cell_type": "code",
   "execution_count": 65,
   "id": "personalized-zambia",
   "metadata": {
    "ExecuteTime": {
     "end_time": "2021-07-21T05:59:13.181305Z",
     "start_time": "2021-07-21T05:59:13.176318Z"
    }
   },
   "outputs": [],
   "source": [
    "def f(x):\n",
    "    return x**3 - 3 * x**2 + x"
   ]
  },
  {
   "cell_type": "code",
   "execution_count": 66,
   "id": "bridal-issue",
   "metadata": {
    "ExecuteTime": {
     "end_time": "2021-07-21T05:59:21.511556Z",
     "start_time": "2021-07-21T05:59:21.490572Z"
    }
   },
   "outputs": [
    {
     "data": {
      "text/plain": [
       "array([-1. , -0.5,  0. ,  0.5,  1. ,  1.5,  2. ,  2.5,  3. ])"
      ]
     },
     "execution_count": 66,
     "metadata": {},
     "output_type": "execute_result"
    }
   ],
   "source": [
    "x = np.linspace(-1, 3, 9)\n",
    "x"
   ]
  },
  {
   "cell_type": "code",
   "execution_count": 67,
   "id": "handed-hearing",
   "metadata": {
    "ExecuteTime": {
     "end_time": "2021-07-21T05:59:27.358952Z",
     "start_time": "2021-07-21T05:59:27.340964Z"
    }
   },
   "outputs": [
    {
     "data": {
      "text/plain": [
       "array([-5.   , -1.375,  0.   , -0.125, -1.   , -1.875, -2.   , -0.625,\n",
       "        3.   ])"
      ]
     },
     "execution_count": 67,
     "metadata": {},
     "output_type": "execute_result"
    }
   ],
   "source": [
    "y = f(x)\n",
    "y"
   ]
  },
  {
   "cell_type": "markdown",
   "id": "statutory-checklist",
   "metadata": {},
   "source": [
    "위 x, y값을 표로 나타내면 다음과 같다."
   ]
  },
  {
   "cell_type": "code",
   "execution_count": 84,
   "id": "attempted-daily",
   "metadata": {
    "ExecuteTime": {
     "end_time": "2021-07-21T06:02:18.025923Z",
     "start_time": "2021-07-21T06:02:18.002983Z"
    }
   },
   "outputs": [
    {
     "data": {
      "text/html": [
       "<div>\n",
       "<style scoped>\n",
       "    .dataframe tbody tr th:only-of-type {\n",
       "        vertical-align: middle;\n",
       "    }\n",
       "\n",
       "    .dataframe tbody tr th {\n",
       "        vertical-align: top;\n",
       "    }\n",
       "\n",
       "    .dataframe thead th {\n",
       "        text-align: right;\n",
       "    }\n",
       "</style>\n",
       "<table border=\"1\" class=\"dataframe\">\n",
       "  <thead>\n",
       "    <tr style=\"text-align: right;\">\n",
       "      <th></th>\n",
       "      <th>x</th>\n",
       "      <th>y</th>\n",
       "    </tr>\n",
       "  </thead>\n",
       "  <tbody>\n",
       "    <tr>\n",
       "      <th>0</th>\n",
       "      <td>-1.0</td>\n",
       "      <td>-5.000</td>\n",
       "    </tr>\n",
       "    <tr>\n",
       "      <th>1</th>\n",
       "      <td>-0.5</td>\n",
       "      <td>-1.375</td>\n",
       "    </tr>\n",
       "    <tr>\n",
       "      <th>2</th>\n",
       "      <td>0.0</td>\n",
       "      <td>0.000</td>\n",
       "    </tr>\n",
       "    <tr>\n",
       "      <th>3</th>\n",
       "      <td>0.5</td>\n",
       "      <td>-0.125</td>\n",
       "    </tr>\n",
       "    <tr>\n",
       "      <th>4</th>\n",
       "      <td>1.0</td>\n",
       "      <td>-1.000</td>\n",
       "    </tr>\n",
       "    <tr>\n",
       "      <th>5</th>\n",
       "      <td>1.5</td>\n",
       "      <td>-1.875</td>\n",
       "    </tr>\n",
       "    <tr>\n",
       "      <th>6</th>\n",
       "      <td>2.0</td>\n",
       "      <td>-2.000</td>\n",
       "    </tr>\n",
       "    <tr>\n",
       "      <th>7</th>\n",
       "      <td>2.5</td>\n",
       "      <td>-0.625</td>\n",
       "    </tr>\n",
       "    <tr>\n",
       "      <th>8</th>\n",
       "      <td>3.0</td>\n",
       "      <td>3.000</td>\n",
       "    </tr>\n",
       "  </tbody>\n",
       "</table>\n",
       "</div>"
      ],
      "text/plain": [
       "     x      y\n",
       "0 -1.0 -5.000\n",
       "1 -0.5 -1.375\n",
       "2  0.0  0.000\n",
       "3  0.5 -0.125\n",
       "4  1.0 -1.000\n",
       "5  1.5 -1.875\n",
       "6  2.0 -2.000\n",
       "7  2.5 -0.625\n",
       "8  3.0  3.000"
      ]
     },
     "execution_count": 84,
     "metadata": {},
     "output_type": "execute_result"
    }
   ],
   "source": [
    "df = pd.DataFrame(x, y).reset_index()\n",
    "df.columns = ['y','x']\n",
    "df[['x','y']]"
   ]
  },
  {
   "cell_type": "code",
   "execution_count": 97,
   "id": "automotive-gilbert",
   "metadata": {
    "ExecuteTime": {
     "end_time": "2021-07-21T06:05:44.311548Z",
     "start_time": "2021-07-21T06:05:44.165906Z"
    }
   },
   "outputs": [
    {
     "name": "stderr",
     "output_type": "stream",
     "text": [
      "C:\\Users\\Kim\\AppData\\Roaming\\Python\\Python37\\site-packages\\matplotlib\\backends\\backend_agg.py:240: RuntimeWarning: Glyph 8722 missing from current font.\n",
      "  font.set_text(s, 0.0, flags=flags)\n",
      "C:\\Users\\Kim\\AppData\\Roaming\\Python\\Python37\\site-packages\\matplotlib\\backends\\backend_agg.py:203: RuntimeWarning: Glyph 8722 missing from current font.\n",
      "  font.set_text(s, 0, flags=flags)\n"
     ]
    },
    {
     "data": {
      "image/png": "[encoded data removed]",
      "text/plain": [
       "<Figure size 432x288 with 1 Axes>"
      ]
     },
     "metadata": {
      "image/png": {
       "height": 281,
       "width": 382
      },
      "needs_background": "light"
     },
     "output_type": "display_data"
    }
   ],
   "source": [
    "plt.plot(x, y, 'ro-')\n",
    "plt.xlim(-2, 4)\n",
    "plt.title(\"함수 $f(x) = x^3 - 3x^2 + x$의 그래프\")\n",
    "plt.xlabel(\"x\")\n",
    "plt.ylabel(\"y\")\n",
    "plt.xticks(np.arange(-1, 4))\n",
    "plt.yticks(np.arange(-5, 4))\n",
    "plt.grid()\n",
    "plt.show()"
   ]
  },
  {
   "cell_type": "markdown",
   "id": "signal-server",
   "metadata": {},
   "source": [
    "위 x, y 벡터의 구간을 더 세밀하게 쪼개보자. 그러면 그래프는 곡선으로 보이게 될 것이다."
   ]
  },
  {
   "cell_type": "code",
   "execution_count": 100,
   "id": "musical-empty",
   "metadata": {
    "ExecuteTime": {
     "end_time": "2021-07-21T06:05:51.095477Z",
     "start_time": "2021-07-21T06:05:50.956173Z"
    }
   },
   "outputs": [
    {
     "name": "stderr",
     "output_type": "stream",
     "text": [
      "C:\\Users\\Kim\\AppData\\Roaming\\Python\\Python37\\site-packages\\matplotlib\\backends\\backend_agg.py:240: RuntimeWarning: Glyph 8722 missing from current font.\n",
      "  font.set_text(s, 0.0, flags=flags)\n",
      "C:\\Users\\Kim\\AppData\\Roaming\\Python\\Python37\\site-packages\\matplotlib\\backends\\backend_agg.py:203: RuntimeWarning: Glyph 8722 missing from current font.\n",
      "  font.set_text(s, 0, flags=flags)\n"
     ]
    },
    {
     "data": {
      "image/png": "[encoded data removed]",
      "text/plain": [
       "<Figure size 432x288 with 1 Axes>"
      ]
     },
     "metadata": {
      "image/png": {
       "height": 281,
       "width": 382
      },
      "needs_background": "light"
     },
     "output_type": "display_data"
    }
   ],
   "source": [
    "x = np.linspace(-1, 3, 400)\n",
    "y = f(x)\n",
    "plt.plot(x, y)\n",
    "\n",
    "plt.xlim(-2, 4)\n",
    "plt.title(\"함수 $f(x) = x^3 - 3x^2 + x$의 그래프\")\n",
    "plt.xlabel(\"x\")\n",
    "plt.ylabel(\"y\")\n",
    "plt.xticks(np.arange(-1, 4))\n",
    "plt.yticks(np.arange(-5, 4))\n",
    "plt.grid()\n",
    "plt.show()"
   ]
  },
  {
   "cell_type": "code",
   "execution_count": 114,
   "id": "lovely-mouth",
   "metadata": {
    "ExecuteTime": {
     "end_time": "2021-07-21T06:10:25.923427Z",
     "start_time": "2021-07-21T06:10:25.707042Z"
    }
   },
   "outputs": [
    {
     "name": "stderr",
     "output_type": "stream",
     "text": [
      "C:\\Users\\Kim\\AppData\\Roaming\\Python\\Python37\\site-packages\\matplotlib\\backends\\backend_agg.py:240: RuntimeWarning: Glyph 8722 missing from current font.\n",
      "  font.set_text(s, 0.0, flags=flags)\n",
      "C:\\Users\\Kim\\AppData\\Roaming\\Python\\Python37\\site-packages\\matplotlib\\backends\\backend_agg.py:203: RuntimeWarning: Glyph 8722 missing from current font.\n",
      "  font.set_text(s, 0, flags=flags)\n"
     ]
    },
    {
     "data": {
      "image/png": "[encoded data removed]",
      "text/plain": [
       "<Figure size 504x288 with 2 Axes>"
      ]
     },
     "metadata": {
      "image/png": {
       "height": 282,
       "width": 496
      },
      "needs_background": "light"
     },
     "output_type": "display_data"
    }
   ],
   "source": [
    "# 부호함수 시각화\n",
    "\n",
    "x = np.linspace(-1, 1, 1000)\n",
    "\n",
    "sign = np.sign(x)\n",
    "step = heaviside_step(x)\n",
    "\n",
    "plt.figure(figsize=(7, 4))\n",
    "plt.subplot(121)\n",
    "plt.title('부호함수')\n",
    "plt.ylim(-1.5, 1.5)\n",
    "plt.plot(x, sign, 'r-')\n",
    "plt.grid()\n",
    "plt.subplot(122)\n",
    "plt.title('헤비사이드 스텝 함수')\n",
    "plt.ylim(-1.5, 1.5)\n",
    "plt.plot(x, step, 'k-')\n",
    "plt.tight_layout()\n",
    "plt.grid()\n",
    "plt.show()"
   ]
  },
  {
   "cell_type": "markdown",
   "id": "endangered-catch",
   "metadata": {},
   "source": [
    "## 역함수의 그래프"
   ]
  },
  {
   "cell_type": "markdown",
   "id": "continental-terminology",
   "metadata": {},
   "source": [
    "역함수의 그래프는 원래의 함수에서 $x축과 y축$이 바뀐 것이다. 따라서 $y=x$가 나타내는 직선(원점을 통과하는 기울기 1인 직선)을 대칭축으로 대칭인 함수의 그래프와 같다."
   ]
  },
  {
   "cell_type": "code",
   "execution_count": 126,
   "id": "mineral-sydney",
   "metadata": {
    "ExecuteTime": {
     "end_time": "2021-07-21T06:18:40.927569Z",
     "start_time": "2021-07-21T06:18:40.726468Z"
    }
   },
   "outputs": [
    {
     "data": {
      "image/png": "[encoded data removed]",
      "text/plain": [
       "<Figure size 432x288 with 1 Axes>"
      ]
     },
     "metadata": {
      "image/png": {
       "height": 264,
       "width": 384
      },
      "needs_background": "light"
     },
     "output_type": "display_data"
    }
   ],
   "source": [
    "def f1(x):\n",
    "    return x**2\n",
    "\n",
    "def f1inv(x):\n",
    "    return np.sqrt(x)\n",
    "\n",
    "x = np.linspace(0, 3, 300)\n",
    "plt.plot(x, f1(x), \"r-\", label=\"함수 $f(x) = x^2$\")\n",
    "plt.plot(x, f1inv(x), \"b-.\", label=\"역함수 $f^{-1}(x) = \\sqrt{x}$\")\n",
    "plt.plot(x, x, \"g--\")\n",
    "plt.axis =\"equal\"\n",
    "plt.xlim(0, 2)\n",
    "plt.ylim(0, 2)\n",
    "plt.legend()\n",
    "plt.title(\"역함수의 그래프\")\n",
    "plt.grid()\n",
    "plt.show()"
   ]
  },
  {
   "cell_type": "code",
   "execution_count": null,
   "id": "federal-ethernet",
   "metadata": {},
   "outputs": [],
   "source": []
  }
 ],
 "metadata": {
  "kernelspec": {
   "display_name": "Python 3",
   "language": "python",
   "name": "python3"
  },
  "language_info": {
   "codemirror_mode": {
    "name": "ipython",
    "version": 3
   },
   "file_extension": ".py",
   "mimetype": "text/x-python",
   "name": "python",
   "nbconvert_exporter": "python",
   "pygments_lexer": "ipython3",
   "version": "3.7.10"
  },
  "nbTranslate": {
   "displayLangs": [
    "*"
   ],
   "hotkey": "alt-t",
   "langInMainMenu": true,
   "sourceLang": "en",
   "targetLang": "fr",
   "useGoogleTranslate": true
  },
  "varInspector": {
   "cols": {
    "lenName": 16,
    "lenType": 16,
    "lenVar": 40
   },
   "kernels_config": {
    "python": {
     "delete_cmd_postfix": "",
     "delete_cmd_prefix": "del ",
     "library": "var_list.py",
     "varRefreshCmd": "print(var_dic_list())"
    },
    "r": {
     "delete_cmd_postfix": ") ",
     "delete_cmd_prefix": "rm(",
     "library": "var_list.r",
     "varRefreshCmd": "cat(var_dic_list()) "
    }
   },
   "types_to_exclude": [
    "module",
    "function",
    "builtin_function_or_method",
    "instance",
    "_Feature"
   ],
   "window_display": false
  }
 },
 "nbformat": 4,
 "nbformat_minor": 5
}
