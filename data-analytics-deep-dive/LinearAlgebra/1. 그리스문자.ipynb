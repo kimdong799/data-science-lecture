{
 "cells": [
  {
   "cell_type": "markdown",
   "id": "preceding-battle",
   "metadata": {},
   "source": [
    "### 인라인 수식 : `$   $`"
   ]
  },
  {
   "cell_type": "markdown",
   "id": "foster-uzbekistan",
   "metadata": {},
   "source": [
    "`$\\alpha와 \\beta$의 수식이 같다.`"
   ]
  },
  {
   "cell_type": "markdown",
   "id": "allied-suite",
   "metadata": {},
   "source": [
    "사용 예시 : $\\alpha와 \\beta의 수식이 같다.$"
   ]
  },
  {
   "cell_type": "markdown",
   "id": "baking-surname",
   "metadata": {},
   "source": [
    "### 디스플레이 수식 : `$$  $$`"
   ]
  },
  {
   "cell_type": "markdown",
   "id": "statistical-client",
   "metadata": {},
   "source": [
    "`$$\\alpha = \\beta $$`"
   ]
  },
  {
   "cell_type": "markdown",
   "id": "auburn-petroleum",
   "metadata": {},
   "source": [
    "$$\\alpha = \\beta $$"
   ]
  },
  {
   "cell_type": "markdown",
   "id": "returning-consistency",
   "metadata": {
    "ExecuteTime": {
     "end_time": "2021-07-07T05:15:50.028386Z",
     "start_time": "2021-07-07T05:15:50.009436Z"
    }
   },
   "source": [
    "## 그리스 문자\n",
    "---"
   ]
  },
  {
   "cell_type": "markdown",
   "id": "addressed-system",
   "metadata": {},
   "source": [
    "$alpha = \\alpha$\n"
   ]
  },
  {
   "cell_type": "markdown",
   "id": "light-professional",
   "metadata": {},
   "source": [
    "$beta = \\beta$"
   ]
  },
  {
   "cell_type": "markdown",
   "id": "senior-nightmare",
   "metadata": {},
   "source": [
    "$gamma = \\gamma$"
   ]
  },
  {
   "cell_type": "markdown",
   "id": "bottom-utilization",
   "metadata": {},
   "source": [
    "$delta = \\delta$"
   ]
  },
  {
   "cell_type": "markdown",
   "id": "bottom-redhead",
   "metadata": {},
   "source": [
    "$epsilon = \\epsilon$"
   ]
  },
  {
   "cell_type": "markdown",
   "id": "wooden-kruger",
   "metadata": {},
   "source": [
    "$zeta = \\zeta$"
   ]
  },
  {
   "cell_type": "markdown",
   "id": "urban-easter",
   "metadata": {},
   "source": [
    "$eta = \\eta$\n",
    "\n",
    "$theta = \\theta$\n",
    "\n",
    "$kappa = \\kappa$\n",
    "\n",
    "$lambda = \\lambda$\n",
    "\n",
    "$mu = \\mu$\n",
    "\n",
    "$nu = \\nu$\n",
    "\n",
    "$xi = \\xi$\n",
    "\n",
    "$pi = \\pi$\n",
    "\n",
    "$rho = \\rho$"
   ]
  },
  {
   "cell_type": "markdown",
   "id": "fossil-fetish",
   "metadata": {},
   "source": [
    "$sigma = \\sigma$\n",
    "\n",
    "$tau = \\tau$\n",
    "\n",
    "$phi = \\phi$\n",
    "\n",
    "$chi = \\chi$\n",
    "\n",
    "$psi = \\psi$\n",
    "\n",
    "$omega = \\omega$"
   ]
  },
  {
   "cell_type": "code",
   "execution_count": null,
   "id": "hybrid-messaging",
   "metadata": {},
   "outputs": [],
   "source": []
  }
 ],
 "metadata": {
  "kernelspec": {
   "display_name": "Python 3",
   "language": "python",
   "name": "python3"
  },
  "language_info": {
   "codemirror_mode": {
    "name": "ipython",
    "version": 3
   },
   "file_extension": ".py",
   "mimetype": "text/x-python",
   "name": "python",
   "nbconvert_exporter": "python",
   "pygments_lexer": "ipython3",
   "version": "3.7.10"
  },
  "nbTranslate": {
   "displayLangs": [
    "*"
   ],
   "hotkey": "alt-t",
   "langInMainMenu": true,
   "sourceLang": "en",
   "targetLang": "fr",
   "useGoogleTranslate": true
  },
  "varInspector": {
   "cols": {
    "lenName": 16,
    "lenType": 16,
    "lenVar": 40
   },
   "kernels_config": {
    "python": {
     "delete_cmd_postfix": "",
     "delete_cmd_prefix": "del ",
     "library": "var_list.py",
     "varRefreshCmd": "print(var_dic_list())"
    },
    "r": {
     "delete_cmd_postfix": ") ",
     "delete_cmd_prefix": "rm(",
     "library": "var_list.r",
     "varRefreshCmd": "cat(var_dic_list()) "
    }
   },
   "types_to_exclude": [
    "module",
    "function",
    "builtin_function_or_method",
    "instance",
    "_Feature"
   ],
   "window_display": false
  }
 },
 "nbformat": 4,
 "nbformat_minor": 5
}
