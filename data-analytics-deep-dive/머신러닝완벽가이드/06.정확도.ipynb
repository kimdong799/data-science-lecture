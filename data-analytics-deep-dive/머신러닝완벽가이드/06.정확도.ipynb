{
 "cells": [
  {
   "cell_type": "markdown",
   "id": "brief-compromise",
   "metadata": {},
   "source": [
    "# 정확도(Accuracy)\n",
    "---"
   ]
  },
  {
   "cell_type": "markdown",
   "id": "behind-institution",
   "metadata": {},
   "source": [
    "정확도는 실제 데이터에서 예측 데이터가 얼마나 같은지를 판단하는 지표로 사용됩니다."
   ]
  },
  {
   "attachments": {
    "image.png": {
     "image/png": "[encoded data removed]"
    }
   },
   "cell_type": "markdown",
   "id": "moderate-balloon",
   "metadata": {},
   "source": [
    "![image.png](attachment:image.png)"
   ]
  },
  {
   "cell_type": "markdown",
   "id": "funded-jacksonville",
   "metadata": {},
   "source": [
    "정확도는 ML 모델의 예측 성능을 직관적으로 타나낼 수 있는 평가 지표입니다.\n",
    "\n",
    "하지만 이진 분류의 경우 데이터 구성에 따라 ML 모델의 성능을 왜곡할 수 있기 때문에 이것만으로 ML 모델의 성능을 평가하는 것은 부족합니다."
   ]
  },
  {
   "cell_type": "markdown",
   "id": "hidden-gospel",
   "metadata": {},
   "source": [
    "타이타닉 데이터를 예시로 설명하겠습니다.\n",
    "\n",
    "생존자를 예측하는 ML 모델을 생성했다고 가정합시다. 이 모델의 성능이 약 80%로 측정되었는데 단순히 남녀의 생존 비율(2:8)을 이용해 남성이면 사망, 여성이면 생존으로 분류한 알고리즘 또한 높은 정확도를 가집니다.\n",
    "\n",
    "이것이 정확도만을 평가 지표로 사용했을 때 발생할 수 있는 문제점입니다."
   ]
  },
  {
   "cell_type": "markdown",
   "id": "third-cholesterol",
   "metadata": {},
   "source": [
    "실제로 sklearn에서 제공하는 Customized 형태의 Estimator인 BaseEstimator를 이용해 남성이면 사망, 여성이면 생존으로 분류하는 알고리즘을 작성해보겠습니다."
   ]
  },
  {
   "cell_type": "markdown",
   "id": "heated-dinner",
   "metadata": {},
   "source": [
    "이제 생성된 모델을 이용해 타이타닉 생존자 예측을 진행하고 정확도를 측정해봅시다."
   ]
  },
  {
   "cell_type": "markdown",
   "id": "functional-regulation",
   "metadata": {},
   "source": [
    "  "
   ]
  },
  {
   "cell_type": "markdown",
   "id": "stuck-warner",
   "metadata": {},
   "source": [
    "**즉, 불균형한 레이블 값 분포에서 ML 모델의 성능을 판단할 경우 정확도 평가 지표로 사용하면 ML 모델 성능을 왜곡할 수 있습니다.**"
   ]
  },
  {
   "cell_type": "markdown",
   "id": "grand-while",
   "metadata": {},
   "source": [
    " "
   ]
  },
  {
   "cell_type": "markdown",
   "id": "chicken-orientation",
   "metadata": {},
   "source": [
    " "
   ]
  }
 ],
 "metadata": {
  "kernelspec": {
   "display_name": "Python 3",
   "language": "python",
   "name": "python3"
  },
  "language_info": {
   "codemirror_mode": {
    "name": "ipython",
    "version": 3
   },
   "file_extension": ".py",
   "mimetype": "text/x-python",
   "name": "python",
   "nbconvert_exporter": "python",
   "pygments_lexer": "ipython3",
   "version": "3.7.10"
  },
  "toc": {
   "base_numbering": 1,
   "nav_menu": {},
   "number_sections": true,
   "sideBar": true,
   "skip_h1_title": false,
   "title_cell": "Table of Contents",
   "title_sidebar": "Contents",
   "toc_cell": false,
   "toc_position": {},
   "toc_section_display": true,
   "toc_window_display": false
  },
  "varInspector": {
   "cols": {
    "lenName": 16,
    "lenType": 16,
    "lenVar": 40
   },
   "kernels_config": {
    "python": {
     "delete_cmd_postfix": "",
     "delete_cmd_prefix": "del ",
     "library": "var_list.py",
     "varRefreshCmd": "print(var_dic_list())"
    },
    "r": {
     "delete_cmd_postfix": ") ",
     "delete_cmd_prefix": "rm(",
     "library": "var_list.r",
     "varRefreshCmd": "cat(var_dic_list()) "
    }
   },
   "types_to_exclude": [
    "module",
    "function",
    "builtin_function_or_method",
    "instance",
    "_Feature"
   ],
   "window_display": false
  }
 },
 "nbformat": 4,
 "nbformat_minor": 5
}
