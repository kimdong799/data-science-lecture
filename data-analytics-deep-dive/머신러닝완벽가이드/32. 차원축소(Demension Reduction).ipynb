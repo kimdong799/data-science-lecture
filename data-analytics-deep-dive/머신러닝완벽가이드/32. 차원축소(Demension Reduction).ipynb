{
 "cells": [
  {
   "cell_type": "markdown",
   "id": "signed-publicity",
   "metadata": {},
   "source": [
    "# 차원 축소(Demension Reduction)\n",
    "---"
   ]
  },
  {
   "cell_type": "markdown",
   "id": "arctic-shell",
   "metadata": {},
   "source": [
    "일반적으로 머신러닝 알고리즘에 많은 피쳐를 이용해 학습하면 성능이 올라가기 마련입니다. \n",
    "\n",
    "하지만 이전에 다루었던 **다중 공선성 문제(개별 피처간 상관관계가 높은 경우)**와 차원이 증가할수록 각 데이터 포인트 간의 거리가 기하급수적으로 멀어지는 **희소(sparse)성 문제**로 인해 모델의 예측 성능이 떨어지는 경우가 발생할 수 있습니다."
   ]
  },
  {
   "cell_type": "markdown",
   "id": "exceptional-hotel",
   "metadata": {},
   "source": [
    "차원 축소는 크게 `Feature Selection(피처 선택)`, `Feature Extraction(피처 추출)` 으로 나뉘어집니다.\n",
    "\n",
    "**Feature Selection은 말 그대로 특정 피처만을 선택해 모델에 학습시키는 것으로 불필요한 피처는 학습에서 제외**하는 방법입니다. \n",
    "\n",
    "다음으로 **Feature Extraction은 Feature Selection과 달리 기존 피처를 저차원의 중요 피처로 압축하는 것으로 추출된 피처는 원본 피처와 다른 값**을 가진다는 특징이 있습니다."
   ]
  },
  {
   "cell_type": "markdown",
   "id": "stylish-jacob",
   "metadata": {},
   "source": [
    "따라서 **PCA, SVD, NMF**와 같은 알고리즘은 Feature Extraction을 통해 원본 피처로는 인지하기 어려웠던 **잠재적인 요소(Latent Factor)를 추출하기 때문에 이미지나 텍스트 분석**에 주로 사용됩니다."
   ]
  },
  {
   "cell_type": "code",
   "execution_count": 1,
   "id": "driving-handling",
   "metadata": {
    "ExecuteTime": {
     "end_time": "2021-06-22T08:49:51.321256Z",
     "start_time": "2021-06-22T08:49:51.288336Z"
    }
   },
   "outputs": [
    {
     "data": {
      "text/plain": [
       "-3.0"
      ]
     },
     "execution_count": 1,
     "metadata": {},
     "output_type": "execute_result"
    }
   ],
   "source": [
    "4 * -(3/4)"
   ]
  }
 ],
 "metadata": {
  "kernelspec": {
   "display_name": "Python 3",
   "language": "python",
   "name": "python3"
  },
  "language_info": {
   "codemirror_mode": {
    "name": "ipython",
    "version": 3
   },
   "file_extension": ".py",
   "mimetype": "text/x-python",
   "name": "python",
   "nbconvert_exporter": "python",
   "pygments_lexer": "ipython3",
   "version": "3.7.10"
  },
  "toc": {
   "base_numbering": 1,
   "nav_menu": {},
   "number_sections": true,
   "sideBar": true,
   "skip_h1_title": false,
   "title_cell": "Table of Contents",
   "title_sidebar": "Contents",
   "toc_cell": false,
   "toc_position": {},
   "toc_section_display": true,
   "toc_window_display": false
  },
  "varInspector": {
   "cols": {
    "lenName": 16,
    "lenType": 16,
    "lenVar": 40
   },
   "kernels_config": {
    "python": {
     "delete_cmd_postfix": "",
     "delete_cmd_prefix": "del ",
     "library": "var_list.py",
     "varRefreshCmd": "print(var_dic_list())"
    },
    "r": {
     "delete_cmd_postfix": ") ",
     "delete_cmd_prefix": "rm(",
     "library": "var_list.r",
     "varRefreshCmd": "cat(var_dic_list()) "
    }
   },
   "types_to_exclude": [
    "module",
    "function",
    "builtin_function_or_method",
    "instance",
    "_Feature"
   ],
   "window_display": false
  }
 },
 "nbformat": 4,
 "nbformat_minor": 5
}
