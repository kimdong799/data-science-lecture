{
 "cells": [
  {
   "cell_type": "markdown",
   "id": "extra-court",
   "metadata": {},
   "source": [
    "# 사이킷런 소개와 특징"
   ]
  },
  {
   "cell_type": "markdown",
   "id": "elder-carroll",
   "metadata": {},
   "source": [
    "---"
   ]
  },
  {
   "cell_type": "markdown",
   "id": "active-standard",
   "metadata": {},
   "source": [
    "`사이킷런(scikit-learn)`은 파이썬 머신러닝 라이브러리 중 가장 많이 사용되는 라이브러리입니다.\n",
    "\n",
    "파이썬 기반의 머신러닝은 사이킷런으로 개발한다는 것을 의미할 정도로 오랫동안, 널리 사용된 머신러닝 라이브러리입니다. 그정도로 파이썬 환경에서 머신러닝을 위한 매우 효율적인 개발 라이브러리를 제공하기 때문입니다.\n",
    "\n",
    "하지만 최근 텐서플로우, 케라스 등 딥러닝 라이브러리들이 많이 사용되면서 대중적인 관심이 많이 줄어들기는 했지만 아직도 많이 사용되는 ML라이브러리입니다."
   ]
  },
  {
   "cell_type": "markdown",
   "id": "strong-saturn",
   "metadata": {},
   "source": [
    "먼저 사이킷런을 임포트합니다."
   ]
  },
  {
   "cell_type": "code",
   "execution_count": 1,
   "id": "accomplished-outline",
   "metadata": {
    "ExecuteTime": {
     "end_time": "2021-04-03T12:21:12.903934Z",
     "start_time": "2021-04-03T12:21:07.856619Z"
    }
   },
   "outputs": [
    {
     "name": "stdout",
     "output_type": "stream",
     "text": [
      "0.24.1\n"
     ]
    }
   ],
   "source": [
    "import sklearn\n",
    "\n",
    "print(sklearn.__version__) # __version__ : 라이브러리 버전"
   ]
  },
  {
   "cell_type": "markdown",
   "id": "australian-chart",
   "metadata": {},
   "source": [
    "사이킷런은 Anaconda를 설치하면 기본적으로 동시에 설치되지만 혹시라도 설치가 되지 않은 경우 `!pip install sklearn` 으로 사이킷런을 인스톨합니다."
   ]
  },
  {
   "cell_type": "markdown",
   "id": "identical-semiconductor",
   "metadata": {},
   "source": [
    "# IRIS 데이터를 이용한 붖꽃 품종 예측"
   ]
  },
  {
   "cell_type": "markdown",
   "id": "baking-rhythm",
   "metadata": {},
   "source": [
    "---"
   ]
  },
  {
   "cell_type": "markdown",
   "id": "ordered-colombia",
   "metadata": {},
   "source": [
    "사이킷런 라이브러리를 이용해 만들어 볼 머신러닝 모델은 붖꽃 데이터 세트를 이용한 붖꽃 품종 **분류(Classification)모델**입니다.\n",
    "\n",
    "붓꽃 데이터세트는 꽃잎의 길이와 너비, 꽃받침의 길이와 너비를 특성(Feature)로 갖습니다."
   ]
  },
  {
   "cell_type": "markdown",
   "id": "italian-medicaid",
   "metadata": {},
   "source": [
    "`분류(Classification)`는 대표적인 `지도학습(Supervised Learning)` 방법의 하나입니다. 지도학습이란 학습을 위한 `다양한 피처`와 분류 결정값인 `레이블(Label)` 데이터로 모델을 학습한 뒤, 별도의 테스트 데이터 세트에서 미지의 레이블을 예측합니다.\n",
    "\n",
    "**즉 지도학습은 명확한 정답(label)이 주어진 데이터로 먼저 학습한 뒤 미지의 데이터(새로운 데이터)를 예측하는 방식입니다.**"
   ]
  },
  {
   "cell_type": "markdown",
   "id": "laughing-customer",
   "metadata": {},
   "source": [
    "**머신러닝 모델에 사용되는 데이터는 크게 두가지로 구분할 수 있습니다.**\n",
    "\n",
    "`학습을 위해 주어진 데이터`\n",
    "- 학습 데이터 세트(Traning Set)\n",
    "\n",
    "`머신러닝 모델의 예측 성능을 평가하기 위한 데이터`\n",
    "- 테스트 데이터 세트(Test set)"
   ]
  },
  {
   "cell_type": "markdown",
   "id": "typical-liver",
   "metadata": {},
   "source": [
    "## 사이킷런 모듈 임포트 및 데이터 로드"
   ]
  },
  {
   "cell_type": "markdown",
   "id": "surgical-regression",
   "metadata": {},
   "source": [
    "----"
   ]
  },
  {
   "cell_type": "markdown",
   "id": "specified-english",
   "metadata": {},
   "source": [
    "머신러닝 모델을 생성하기 위한 사이킷런에서 제공하는 모듈을 몇가지 소개합니다."
   ]
  },
  {
   "cell_type": "markdown",
   "id": "approximate-playback",
   "metadata": {},
   "source": [
    "- **`sklearn.datasets (사이킷런에서 자체적으로 제공하는 데이터세트)`**\n",
    "\n",
    "- **`sklearn.tree (트리기반 ML알고리즘을 구현한 클래스의 모임)`**\n",
    "\n",
    "\n",
    "- **`sklearn.model_selection (학습 데이터와 검증데이터, 예측 데이터로 데이터를 분리하거나 최적의 하이퍼 파라미터로 평가하기 위한 다양한 모듈의 모임)`**"
   ]
  },
  {
   "cell_type": "markdown",
   "id": "dense-screening",
   "metadata": {
    "ExecuteTime": {
     "end_time": "2021-04-03T12:36:40.680319Z",
     "start_time": "2021-04-03T12:36:40.663369Z"
    }
   },
   "source": [
    "**`하이퍼파라미터란?`**"
   ]
  },
  {
   "cell_type": "markdown",
   "id": "formed-bullet",
   "metadata": {},
   "source": [
    "하이퍼파라미터는 머신러닝 알고리즘별로 최적의 학습을 위해 직접 입력하는 파이터들을 의미합니다.\n",
    "\n",
    "즉, 하이퍼파라미터를 조정하는 것으로 머신러닝 알고리즘의 성능을 튜닝하는 것이 가능합니다."
   ]
  },
  {
   "cell_type": "markdown",
   "id": "early-wages",
   "metadata": {},
   "source": [
    "붖꽃 품종 예측을 위해 load_iris()를 이용하며, ML알고리즘은 의사결정트리(Decision Tree)알고리즘으로, 이를 구현한 `DecisionTreeClassifier`를 적용합니다."
   ]
  },
  {
   "cell_type": "code",
   "execution_count": 11,
   "id": "weird-insulation",
   "metadata": {
    "ExecuteTime": {
     "end_time": "2021-04-03T12:43:13.598377Z",
     "start_time": "2021-04-03T12:43:13.587407Z"
    }
   },
   "outputs": [],
   "source": [
    "from sklearn.datasets import load_iris # IRIS 데이터 로드\n",
    "from sklearn.tree import DecisionTreeClassifier # DecisionTreeClassifier 모델\n",
    "from sklearn.model_selection import train_test_split # 데이터분리"
   ]
  },
  {
   "cell_type": "code",
   "execution_count": 18,
   "id": "cross-holocaust",
   "metadata": {
    "ExecuteTime": {
     "end_time": "2021-04-03T12:46:24.197069Z",
     "start_time": "2021-04-03T12:46:24.134191Z"
    }
   },
   "outputs": [
    {
     "name": "stdout",
     "output_type": "stream",
     "text": [
      "iris target값:  [0 0 0 0 0 0 0 0 0 0 0 0 0 0 0 0 0 0 0 0 0 0 0 0 0 0 0 0 0 0 0 0 0 0 0 0 0\n",
      " 0 0 0 0 0 0 0 0 0 0 0 0 0 1 1 1 1 1 1 1 1 1 1 1 1 1 1 1 1 1 1 1 1 1 1 1 1\n",
      " 1 1 1 1 1 1 1 1 1 1 1 1 1 1 1 1 1 1 1 1 1 1 1 1 1 1 2 2 2 2 2 2 2 2 2 2 2\n",
      " 2 2 2 2 2 2 2 2 2 2 2 2 2 2 2 2 2 2 2 2 2 2 2 2 2 2 2 2 2 2 2 2 2 2 2 2 2\n",
      " 2 2]\n",
      "iris target명:  ['setosa' 'versicolor' 'virginica']\n"
     ]
    },
    {
     "data": {
      "text/html": [
       "<div>\n",
       "<style scoped>\n",
       "    .dataframe tbody tr th:only-of-type {\n",
       "        vertical-align: middle;\n",
       "    }\n",
       "\n",
       "    .dataframe tbody tr th {\n",
       "        vertical-align: top;\n",
       "    }\n",
       "\n",
       "    .dataframe thead th {\n",
       "        text-align: right;\n",
       "    }\n",
       "</style>\n",
       "<table border=\"1\" class=\"dataframe\">\n",
       "  <thead>\n",
       "    <tr style=\"text-align: right;\">\n",
       "      <th></th>\n",
       "      <th>sepal length (cm)</th>\n",
       "      <th>sepal width (cm)</th>\n",
       "      <th>petal length (cm)</th>\n",
       "      <th>petal width (cm)</th>\n",
       "      <th>label</th>\n",
       "    </tr>\n",
       "  </thead>\n",
       "  <tbody>\n",
       "    <tr>\n",
       "      <th>0</th>\n",
       "      <td>5.1</td>\n",
       "      <td>3.5</td>\n",
       "      <td>1.4</td>\n",
       "      <td>0.2</td>\n",
       "      <td>0</td>\n",
       "    </tr>\n",
       "    <tr>\n",
       "      <th>1</th>\n",
       "      <td>4.9</td>\n",
       "      <td>3.0</td>\n",
       "      <td>1.4</td>\n",
       "      <td>0.2</td>\n",
       "      <td>0</td>\n",
       "    </tr>\n",
       "    <tr>\n",
       "      <th>2</th>\n",
       "      <td>4.7</td>\n",
       "      <td>3.2</td>\n",
       "      <td>1.3</td>\n",
       "      <td>0.2</td>\n",
       "      <td>0</td>\n",
       "    </tr>\n",
       "  </tbody>\n",
       "</table>\n",
       "</div>"
      ],
      "text/plain": [
       "   sepal length (cm)  sepal width (cm)  petal length (cm)  petal width (cm)  \\\n",
       "0                5.1               3.5                1.4               0.2   \n",
       "1                4.9               3.0                1.4               0.2   \n",
       "2                4.7               3.2                1.3               0.2   \n",
       "\n",
       "   label  \n",
       "0      0  \n",
       "1      0  \n",
       "2      0  "
      ]
     },
     "execution_count": 18,
     "metadata": {},
     "output_type": "execute_result"
    }
   ],
   "source": [
    "import pandas as pd\n",
    "\n",
    "# 붖꽃 데이터 세트를 로드합니다.\n",
    "\n",
    "iris = load_iris()\n",
    "\n",
    "# iris.data는 IRIS 데이터 세트에서 피쳐(Feature)만으로 된 데이터를 numpy로 가지고 있습니다.\n",
    "iris_data = iris.data\n",
    "\n",
    "# iris.target은 붖꽃 데이터 세트에서 레이블(결정 값) 데이터를 numpy로 가지고 있습니다.\n",
    "iris_label = iris.target\n",
    "print('iris target값: ', iris_label)\n",
    "print('iris target명: ', iris.target_names)\n",
    "\n",
    "# 붖꽃 데이터 세트를 자세히 보기 위해 DataFrame으로 변환합니다.\n",
    "iris_df = pd.DataFrame(data=iris_data, columns=iris.feature_names)\n",
    "iris_df['label'] = iris.target\n",
    "\n",
    "iris_df.head(3)"
   ]
  },
  {
   "cell_type": "markdown",
   "id": "executed-assessment",
   "metadata": {},
   "source": [
    "- 레이블 설명\n",
    "\n",
    "0 : Setosa\n",
    "\n",
    "1 : versicolor\n",
    "\n",
    "2 : virginica"
   ]
  },
  {
   "cell_type": "markdown",
   "id": "hindu-report",
   "metadata": {},
   "source": [
    "# 학습용 데이터, 테스트용 데이터 분리"
   ]
  },
  {
   "cell_type": "markdown",
   "id": "waiting-abuse",
   "metadata": {},
   "source": [
    "----"
   ]
  },
  {
   "cell_type": "markdown",
   "id": "classical-fighter",
   "metadata": {},
   "source": [
    "이버에는 학습용 데이터와 테스트용 데이터를 분리해보곘습니다. 위에서 로드한 `train_test_split()` 함수를 사용해 간단하게 데이터를 분리할 수 있습니다.\n",
    "\n",
    "`머신러닝을 할 때는 반드시 데이터를 학습용과 테스트용으로 분리하는 작업이 선행되어야합니다.`\n",
    "\n",
    "이후에 다루겠지만 머신러닝에는 과적합이라는 문제가 있어 머신러닝 모델이 학습하지 못한 새로운 데이터로 성능을 평가해야합니다.\n",
    "이 때 사용하는 데이터가 바로 테스트 데이터 세트입니다."
   ]
  },
  {
   "cell_type": "code",
   "execution_count": 19,
   "id": "attempted-rochester",
   "metadata": {
    "ExecuteTime": {
     "end_time": "2021-04-03T13:01:54.226164Z",
     "start_time": "2021-04-03T13:01:54.217323Z"
    }
   },
   "outputs": [],
   "source": [
    "# train, test세트를 8:2로 분할\n",
    "\n",
    "X_train, X_test, y_train, y_test = train_test_split(iris_data, iris_label, test_size=0.2, random_state=11)"
   ]
  },
  {
   "cell_type": "code",
   "execution_count": 34,
   "id": "acknowledged-detective",
   "metadata": {
    "ExecuteTime": {
     "end_time": "2021-04-03T13:04:34.640451Z",
     "start_time": "2021-04-03T13:04:34.623372Z"
    }
   },
   "outputs": [
    {
     "name": "stdout",
     "output_type": "stream",
     "text": [
      "학습데이터: : 480\n",
      "테스트데이터 : 120\n"
     ]
    }
   ],
   "source": [
    "print(\"학습데이터: :\",X_train.size)\n",
    "print(\"테스트데이터 :\",y_train.size)"
   ]
  },
  {
   "cell_type": "markdown",
   "id": "permanent-visiting",
   "metadata": {},
   "source": [
    "train_test_split() 함수의 파라미터는 `피쳐 데이터 세트, 레이블 데이터 세트, (학습)테스트 데이터세트 비율, random_state`로 입력합니다.\n",
    "\n",
    "random_state는 옵션이지만 이를 지정하지 않는 경우 데이터를 분리할 때마다 다른 학습, 테스트 데이터 세트가 생겨나기 때문에 실습을 위해 random_state를 지정합니다.(random.seed와 같은 의미입니다.)"
   ]
  },
  {
   "cell_type": "markdown",
   "id": "frequent-calgary",
   "metadata": {},
   "source": [
    "# Decision Tree 모델 생성"
   ]
  },
  {
   "cell_type": "markdown",
   "id": "continued-viewer",
   "metadata": {},
   "source": [
    "---"
   ]
  },
  {
   "cell_type": "markdown",
   "id": "going-configuration",
   "metadata": {},
   "source": [
    "먼저 사이킷런의 분류 알고리즘의 하나인 Decision Tree 모델을 생성해 학습과 예측을 수행해봅시다."
   ]
  },
  {
   "cell_type": "code",
   "execution_count": 36,
   "id": "intimate-array",
   "metadata": {
    "ExecuteTime": {
     "end_time": "2021-04-03T13:09:51.728987Z",
     "start_time": "2021-04-03T13:09:51.712033Z"
    }
   },
   "outputs": [],
   "source": [
    "# Decision Tree Classifier 객체 생성\n",
    "\n",
    "dt_clf = DecisionTreeClassifier(random_state=11) # random_state는 예제이기 때문에 동일한 결과를 위해 사용합니다."
   ]
  },
  {
   "cell_type": "markdown",
   "id": "pending-actor",
   "metadata": {},
   "source": [
    "Decision Tree Classifier 객체를 생성했으니 fit 메소드를 통해 학습을 진행해봅시다."
   ]
  },
  {
   "cell_type": "code",
   "execution_count": 37,
   "id": "bottom-infrared",
   "metadata": {
    "ExecuteTime": {
     "end_time": "2021-04-03T13:10:30.432160Z",
     "start_time": "2021-04-03T13:10:30.405901Z"
    }
   },
   "outputs": [
    {
     "data": {
      "text/plain": [
       "DecisionTreeClassifier(random_state=11)"
      ]
     },
     "execution_count": 37,
     "metadata": {},
     "output_type": "execute_result"
    }
   ],
   "source": [
    "dt_clf.fit(X_train, y_train)"
   ]
  },
  {
   "cell_type": "markdown",
   "id": "impressive-defensive",
   "metadata": {},
   "source": [
    "이제 우리가 생성한 의사 결정 트리 기반의 Decision Tree Classifier 객체는 학습 데이터를 기반으로 학습을 진행했습니다.\n",
    "\n",
    "모델을 생성했으니 이제는 예측을 수행해봅시다.\n",
    "\n",
    "앞서 설명했듯이 예측을 위해선 학습에 사용되지 않은 테스트 데이터세트를 이용해야합니다."
   ]
  },
  {
   "cell_type": "code",
   "execution_count": 39,
   "id": "lasting-launch",
   "metadata": {
    "ExecuteTime": {
     "end_time": "2021-04-03T13:12:19.470486Z",
     "start_time": "2021-04-03T13:12:19.459400Z"
    }
   },
   "outputs": [],
   "source": [
    "# 예측을 위해 predict() 메소드를 사용합니다.\n",
    "\n",
    "pred = dt_clf.predict(X_test)"
   ]
  },
  {
   "cell_type": "markdown",
   "id": "nominated-joining",
   "metadata": {},
   "source": [
    "예측 결과를 기반으로 의사결정 트리 기반의 Decision Tree Classfier의 예측 성능을 평가해 보겠습니다.\n",
    "\n",
    "머신러닝 모델의 성능 평가 지표는 여러 가지가 있지만, 이번에는 `정확도`를 기준으로 측정해보겠습니다.\n",
    "\n",
    "정확도란 예측 결과 (pred)가 얼마나 실제 레이블(정답)과 일치하는지를 평가하는 지표입니다."
   ]
  },
  {
   "cell_type": "markdown",
   "id": "amateur-newfoundland",
   "metadata": {},
   "source": [
    "사이킷런은 정확도 측정을 위한 방법으로 **`accuracy_score()`** 함수를 제공합니다.\n",
    "\n",
    "이 함수의 **첫 번째 파라미터로 실제 레이블(정답), 두 번째 파라미터로 예측 레이블(예측결과)**을 입력합니다."
   ]
  },
  {
   "cell_type": "code",
   "execution_count": 50,
   "id": "caring-medicine",
   "metadata": {
    "ExecuteTime": {
     "end_time": "2021-04-03T13:18:49.372109Z",
     "start_time": "2021-04-03T13:18:49.366246Z"
    }
   },
   "outputs": [
    {
     "name": "stdout",
     "output_type": "stream",
     "text": [
      "예측 정확도: 0.933%\n"
     ]
    }
   ],
   "source": [
    "# accuracy_score() 메소드를 통한 성능평가\n",
    "\n",
    "from sklearn.metrics import accuracy_score\n",
    "\n",
    "print('예측 정확도: {:.3f}%'.format(accuracy_score(y_test, pred)))"
   ]
  },
  {
   "cell_type": "markdown",
   "id": "latest-international",
   "metadata": {},
   "source": [
    "학습한 Decision Tree 알고리즘의 예측 정확도가 약 0.933%로 측정되었습니다.\n",
    "\n",
    "지금까지 진행한 프로세스를 정리하면 아래와 같습니다.\n",
    "\n",
    "**`1. 데이터 세트 분리: 원본 데이터를 학습 데이터 세트와 테스트 데이터 세트로 분리합니다.`**\n",
    "\n",
    "**`2. 모델 학습: 학습 데이터를 기반으로 ML알고리즘을 적용해 모델을 학습시킵니다.`**\n",
    "\n",
    "**`3. 예측 수행: 학습된 ML 모델을 이용해 테스트 데이터의 분류를 예측합니다.`**\n",
    "\n",
    "**`4. 평가: 예측된 결괏괎과 테스트 데이터의 실제 결괏값을 비교해 ML 모델의 성능을 평가합니다.`**"
   ]
  },
  {
   "cell_type": "code",
   "execution_count": null,
   "id": "driving-contribution",
   "metadata": {},
   "outputs": [],
   "source": []
  }
 ],
 "metadata": {
  "kernelspec": {
   "display_name": "Python 3",
   "language": "python",
   "name": "python3"
  },
  "language_info": {
   "codemirror_mode": {
    "name": "ipython",
    "version": 3
   },
   "file_extension": ".py",
   "mimetype": "text/x-python",
   "name": "python",
   "nbconvert_exporter": "python",
   "pygments_lexer": "ipython3",
   "version": "3.7.10"
  },
  "nbTranslate": {
   "displayLangs": [
    "*"
   ],
   "hotkey": "alt-t",
   "langInMainMenu": true,
   "sourceLang": "en",
   "targetLang": "fr",
   "useGoogleTranslate": true
  },
  "toc": {
   "base_numbering": 1,
   "nav_menu": {},
   "number_sections": true,
   "sideBar": true,
   "skip_h1_title": false,
   "title_cell": "Table of Contents",
   "title_sidebar": "Contents",
   "toc_cell": false,
   "toc_position": {},
   "toc_section_display": true,
   "toc_window_display": false
  },
  "varInspector": {
   "cols": {
    "lenName": 16,
    "lenType": 16,
    "lenVar": 40
   },
   "kernels_config": {
    "python": {
     "delete_cmd_postfix": "",
     "delete_cmd_prefix": "del ",
     "library": "var_list.py",
     "varRefreshCmd": "print(var_dic_list())"
    },
    "r": {
     "delete_cmd_postfix": ") ",
     "delete_cmd_prefix": "rm(",
     "library": "var_list.r",
     "varRefreshCmd": "cat(var_dic_list()) "
    }
   },
   "types_to_exclude": [
    "module",
    "function",
    "builtin_function_or_method",
    "instance",
    "_Feature"
   ],
   "window_display": false
  }
 },
 "nbformat": 4,
 "nbformat_minor": 5
}
