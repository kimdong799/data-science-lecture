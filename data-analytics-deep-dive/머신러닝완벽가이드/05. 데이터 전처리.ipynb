{
 "cells": [
  {
   "cell_type": "markdown",
   "id": "republican-setup",
   "metadata": {},
   "source": [
    "# 데이터 전처리 (Data Preprocessing)\n",
    "---"
   ]
  },
  {
   "cell_type": "markdown",
   "id": "informative-rebecca",
   "metadata": {},
   "source": [
    "ML 알고리즘은 데이터를 기반으로 합니다. 따라서 어떤 데이터를 훈련(입력)하느냐에 따라 그 성능의 결과가 크게 달라질 수 있습니다.**(Garbage In Garbage Out)**\n",
    "\n",
    "따라서 사이킷런의 ML 알고리즘을 사용하기 전에 데이터에 대해 미리 처리해야하는 작업이 데이터 전처리입니다."
   ]
  },
  {
   "cell_type": "markdown",
   "id": "constant-contents",
   "metadata": {},
   "source": [
    " "
   ]
  },
  {
   "cell_type": "markdown",
   "id": "sized-bracelet",
   "metadata": {},
   "source": [
    " "
   ]
  },
  {
   "cell_type": "markdown",
   "id": "common-young",
   "metadata": {},
   "source": [
    "## 결측치(결손값)\n",
    "---"
   ]
  },
  {
   "cell_type": "markdown",
   "id": "starting-voice",
   "metadata": {},
   "source": [
    "첫번째 데이터 전처리 대상은 결측치(결손값), 즉 Null값에 대한 이슈를 해결하는 것입니다. \n",
    "\n",
    "데이터 전처리를 통해 Null값을 다른 고정된 값으로 변환해야 합니다. 하지만 데이터의 특징에 따라 Null값을 어떻게 처리해야 할지 달라집니다.\n",
    "\n",
    "**`1. 피처 값 중 Null값의 비율이 매우 작을 경우`**\n",
    "\n",
    "위 경우에는 단순히 평균값, 최빈값 등으로 대체하는 방법이 있습니다.\n",
    "\n",
    "**`2. 피처 값 대부분이 Null값인 경우`**\n",
    "\n",
    "위 경우에는 과감히 해당 피처를 드롭하는 것이 ML 알고리즘 성능 개선이 더 효과적일 수 있습니다.\n",
    "\n",
    "**`3. 중요한 피쳐의 Null값의 분포가 일정 수준 이상일 경우`**\n",
    "\n",
    "위 경우가 Null값 처리의 핵심이 되겠습니다. 일정 수준의 기준은 데이터에 따라 달라질 수 있습니다. \n",
    "또한 중요한 피처인 경우 1번, 2번 방식으로 결측치를 처리하게 되면 예측 왜곡이 심하게 나타날 수 있어 업무 로직, 필드 지식 등을 상세히 검토하여 더 정밀한 값으로 대체해야합니다."
   ]
  },
  {
   "cell_type": "markdown",
   "id": "endless-bennett",
   "metadata": {},
   "source": [
    " "
   ]
  },
  {
   "cell_type": "markdown",
   "id": "legitimate-sweet",
   "metadata": {},
   "source": [
    " "
   ]
  },
  {
   "cell_type": "markdown",
   "id": "statutory-vault",
   "metadata": {},
   "source": [
    "## 비정형 데이터(문자열)\n",
    "---"
   ]
  },
  {
   "cell_type": "markdown",
   "id": "played-twenty",
   "metadata": {},
   "source": [
    "sklearn의 ML 알고리즘은 문자열 데이터를 입력 값으로 받지 못합니다.**(카테고리형, 텍스트)**\n",
    "\n",
    "문자열 데이터가 `카테고리형 변수라면 원핫인코딩` 방식을 통해 이를 숫자형 데이터로 변환하는 작업이 필요합니다.\n",
    "\n",
    "추가적으로 문자열 데이터가 `텍스트형 데이터라면 Feature Vectorization` 등의 기법으로 벡터화하거나 단순히 행을 식별하는 주민번호, ID 와 같은 데이터는 삭제하는 편이 좋습니다."
   ]
  },
  {
   "cell_type": "markdown",
   "id": "rural-dream",
   "metadata": {},
   "source": [
    " "
   ]
  },
  {
   "cell_type": "markdown",
   "id": "conventional-viewer",
   "metadata": {},
   "source": [
    " "
   ]
  },
  {
   "cell_type": "markdown",
   "id": "entertaining-fitness",
   "metadata": {},
   "source": [
    "# 데이터 인코딩\n",
    "---"
   ]
  },
  {
   "cell_type": "markdown",
   "id": "artistic-marking",
   "metadata": {},
   "source": [
    "데이터 인코딩 방식에는 크게 **`레이블 인코딩(Label encoding)`**과 **`원-핫 인코딩(One Hot encoding)`**이 있습니다."
   ]
  },
  {
   "cell_type": "markdown",
   "id": "surgical-hardware",
   "metadata": {},
   "source": [
    " "
   ]
  },
  {
   "cell_type": "markdown",
   "id": "pretty-woman",
   "metadata": {},
   "source": [
    " "
   ]
  },
  {
   "cell_type": "markdown",
   "id": "choice-spider",
   "metadata": {},
   "source": [
    "## Label encoding\n",
    "---"
   ]
  },
  {
   "cell_type": "markdown",
   "id": "bored-refund",
   "metadata": {},
   "source": [
    "레이블 인코딩이란 예를 들어 학생 데이터의 학과 구분이 `'경영정보학과','경영학과','국제통상학과'` 값으로 돼 있다면 `경영정보학과:1, 경영학과:2, 국제통상학과:3` 과 같은 숫자형 변수로 변환하는 것입니다."
   ]
  },
  {
   "cell_type": "markdown",
   "id": "affiliated-harris",
   "metadata": {},
   "source": [
    "**레이블 인코딩**"
   ]
  },
  {
   "cell_type": "markdown",
   "id": "least-innocent",
   "metadata": {},
   "source": [
    "sklearn은 레이블 인코딩을 위해 `LabelEncoder` 클래스를 제공합니다."
   ]
  },
  {
   "cell_type": "code",
   "execution_count": 23,
   "id": "universal-frost",
   "metadata": {
    "ExecuteTime": {
     "end_time": "2021-04-06T06:47:07.488352Z",
     "start_time": "2021-04-06T06:47:07.481369Z"
    }
   },
   "outputs": [
    {
     "data": {
      "text/html": [
       "<div>\n",
       "<style scoped>\n",
       "    .dataframe tbody tr th:only-of-type {\n",
       "        vertical-align: middle;\n",
       "    }\n",
       "\n",
       "    .dataframe tbody tr th {\n",
       "        vertical-align: top;\n",
       "    }\n",
       "\n",
       "    .dataframe thead th {\n",
       "        text-align: right;\n",
       "    }\n",
       "</style>\n",
       "<table border=\"1\" class=\"dataframe\">\n",
       "  <thead>\n",
       "    <tr style=\"text-align: right;\">\n",
       "      <th></th>\n",
       "      <th>학과</th>\n",
       "    </tr>\n",
       "  </thead>\n",
       "  <tbody>\n",
       "    <tr>\n",
       "      <th>0</th>\n",
       "      <td>경영정보학과</td>\n",
       "    </tr>\n",
       "    <tr>\n",
       "      <th>1</th>\n",
       "      <td>경영학과</td>\n",
       "    </tr>\n",
       "    <tr>\n",
       "      <th>2</th>\n",
       "      <td>국제통상학과</td>\n",
       "    </tr>\n",
       "  </tbody>\n",
       "</table>\n",
       "</div>"
      ],
      "text/plain": [
       "       학과\n",
       "0  경영정보학과\n",
       "1    경영학과\n",
       "2  국제통상학과"
      ]
     },
     "execution_count": 23,
     "metadata": {},
     "output_type": "execute_result"
    }
   ],
   "source": [
    "import pandas as pd\n",
    "\n",
    "df = pd.DataFrame({'학과':['경영정보학과','경영학과','국제통상학과']})\n",
    "df"
   ]
  },
  {
   "cell_type": "code",
   "execution_count": 18,
   "id": "protective-green",
   "metadata": {
    "ExecuteTime": {
     "end_time": "2021-04-06T06:46:05.304112Z",
     "start_time": "2021-04-06T06:46:05.292144Z"
    }
   },
   "outputs": [
    {
     "name": "stdout",
     "output_type": "stream",
     "text": [
      "레이블 인코딩 클래스 :  ['경영정보학과' '경영학과' '국제통상학과']\n",
      "레이블 인코딩 변환값 :  [0 1 2]\n"
     ]
    }
   ],
   "source": [
    "# 레이블 인코더 임포트\n",
    "from sklearn.preprocessing import LabelEncoder\n",
    "\n",
    "depts = ['경영정보학과','경영학과','국제통상학과']\n",
    "\n",
    "# LabelEncoder를 객체로 생성\n",
    "encoder = LabelEncoder()\n",
    "\n",
    "# fit, transform 메소드를 통한 레이블 인코딩\n",
    "encoder.fit(depts)\n",
    "labels = encoder.transform(depts)\n",
    "\n",
    "print('레이블 인코딩 클래스 : ',encoder.classes_) # 인코딩 클래스는 classes_속성값으로 확인\n",
    "print('레이블 인코딩 변환값 : ',labels)"
   ]
  },
  {
   "cell_type": "markdown",
   "id": "external-words",
   "metadata": {
    "ExecuteTime": {
     "end_time": "2021-04-06T06:41:48.751164Z",
     "start_time": "2021-04-06T06:41:48.739194Z"
    }
   },
   "source": [
    "classes_ 속성은 0번부터 순서대로 변환된 인코딩 값을 원본 데이터를 가집니다. 따라서 `inverse_transform `메소드를 통해 디코딩 또한 가능합니다."
   ]
  },
  {
   "cell_type": "code",
   "execution_count": 20,
   "id": "loving-deployment",
   "metadata": {
    "ExecuteTime": {
     "end_time": "2021-04-06T06:46:08.718665Z",
     "start_time": "2021-04-06T06:46:08.701711Z"
    }
   },
   "outputs": [
    {
     "name": "stdout",
     "output_type": "stream",
     "text": [
      "디코딩 결과:  ['경영정보학과' '경영학과' '국제통상학과']\n"
     ]
    }
   ],
   "source": [
    "print('디코딩 결과: ', encoder.inverse_transform(labels))"
   ]
  },
  {
   "cell_type": "code",
   "execution_count": 24,
   "id": "dependent-bandwidth",
   "metadata": {
    "ExecuteTime": {
     "end_time": "2021-04-06T06:47:09.310676Z",
     "start_time": "2021-04-06T06:47:09.284785Z"
    }
   },
   "outputs": [
    {
     "data": {
      "text/html": [
       "<div>\n",
       "<style scoped>\n",
       "    .dataframe tbody tr th:only-of-type {\n",
       "        vertical-align: middle;\n",
       "    }\n",
       "\n",
       "    .dataframe tbody tr th {\n",
       "        vertical-align: top;\n",
       "    }\n",
       "\n",
       "    .dataframe thead th {\n",
       "        text-align: right;\n",
       "    }\n",
       "</style>\n",
       "<table border=\"1\" class=\"dataframe\">\n",
       "  <thead>\n",
       "    <tr style=\"text-align: right;\">\n",
       "      <th></th>\n",
       "      <th>학과</th>\n",
       "    </tr>\n",
       "  </thead>\n",
       "  <tbody>\n",
       "    <tr>\n",
       "      <th>0</th>\n",
       "      <td>0</td>\n",
       "    </tr>\n",
       "    <tr>\n",
       "      <th>1</th>\n",
       "      <td>1</td>\n",
       "    </tr>\n",
       "    <tr>\n",
       "      <th>2</th>\n",
       "      <td>2</td>\n",
       "    </tr>\n",
       "  </tbody>\n",
       "</table>\n",
       "</div>"
      ],
      "text/plain": [
       "   학과\n",
       "0   0\n",
       "1   1\n",
       "2   2"
      ]
     },
     "execution_count": 24,
     "metadata": {},
     "output_type": "execute_result"
    }
   ],
   "source": [
    "df['학과'] = encoder.fit_transform(df['학과'])\n",
    "df"
   ]
  },
  {
   "cell_type": "code",
   "execution_count": 25,
   "id": "boolean-pavilion",
   "metadata": {
    "ExecuteTime": {
     "end_time": "2021-04-06T06:47:20.725918Z",
     "start_time": "2021-04-06T06:47:20.703544Z"
    }
   },
   "outputs": [
    {
     "data": {
      "text/html": [
       "<div>\n",
       "<style scoped>\n",
       "    .dataframe tbody tr th:only-of-type {\n",
       "        vertical-align: middle;\n",
       "    }\n",
       "\n",
       "    .dataframe tbody tr th {\n",
       "        vertical-align: top;\n",
       "    }\n",
       "\n",
       "    .dataframe thead th {\n",
       "        text-align: right;\n",
       "    }\n",
       "</style>\n",
       "<table border=\"1\" class=\"dataframe\">\n",
       "  <thead>\n",
       "    <tr style=\"text-align: right;\">\n",
       "      <th></th>\n",
       "      <th>학과</th>\n",
       "    </tr>\n",
       "  </thead>\n",
       "  <tbody>\n",
       "    <tr>\n",
       "      <th>0</th>\n",
       "      <td>경영정보학과</td>\n",
       "    </tr>\n",
       "    <tr>\n",
       "      <th>1</th>\n",
       "      <td>경영학과</td>\n",
       "    </tr>\n",
       "    <tr>\n",
       "      <th>2</th>\n",
       "      <td>국제통상학과</td>\n",
       "    </tr>\n",
       "  </tbody>\n",
       "</table>\n",
       "</div>"
      ],
      "text/plain": [
       "       학과\n",
       "0  경영정보학과\n",
       "1    경영학과\n",
       "2  국제통상학과"
      ]
     },
     "execution_count": 25,
     "metadata": {},
     "output_type": "execute_result"
    }
   ],
   "source": [
    "df['학과'] = encoder.inverse_transform(df['학과'])\n",
    "df"
   ]
  },
  {
   "cell_type": "markdown",
   "id": "bigger-dimension",
   "metadata": {},
   "source": [
    "위 결과와 같이 레이블 인코딩이란 카테고리형 문자열 데이터를 숫자형 카테고리 값으로 변환합니다.\n",
    "\n",
    "하지만 일부 `선형회귀와 같이 숫자의 크고 작음을 가중치로 이용하는 ML 알고리즘에서는 레이블 인코딩을 사용해선 안됩니다.`\n",
    "\n",
    "즉, 위 데이터와 같은 학과 정보의 인코딩 결과는 학과의 `우열을 나누는 기준이 아니라 단순한 식별 코드`이기 때문입니다.\n",
    "\n",
    "따라서 숫자의 크고 작음을 기준으로 가중치를 적용하지 않는 `트리 계열의 ML 알고리즘에서 사용`할 수 있습니다."
   ]
  },
  {
   "cell_type": "markdown",
   "id": "dying-couple",
   "metadata": {},
   "source": [
    " "
   ]
  },
  {
   "cell_type": "markdown",
   "id": "chinese-civilization",
   "metadata": {},
   "source": [
    " "
   ]
  },
  {
   "cell_type": "markdown",
   "id": "adequate-crisis",
   "metadata": {},
   "source": [
    "## 원-핫 인코딩(One-Hot encoding)\n",
    "---"
   ]
  },
  {
   "cell_type": "markdown",
   "id": "available-spokesman",
   "metadata": {},
   "source": [
    "레이블 인코딩의 문제점을 보완하기 위한 방법으로 원-핫 인코딩을 사용할 수 있습니다.\n",
    "\n",
    "원-핫 인코딩이란 피처 값의 유형에 따라 새로운 피처를 추가해 고유 값에 해당하는 컬럼에만 1을 표시하고 나머지 컬럼에는 0을 표시하는 방법입니다."
   ]
  },
  {
   "cell_type": "code",
   "execution_count": 26,
   "id": "worthy-disposition",
   "metadata": {
    "ExecuteTime": {
     "end_time": "2021-04-06T06:59:19.813534Z",
     "start_time": "2021-04-06T06:59:19.800568Z"
    }
   },
   "outputs": [
    {
     "data": {
      "text/html": [
       "<div>\n",
       "<style scoped>\n",
       "    .dataframe tbody tr th:only-of-type {\n",
       "        vertical-align: middle;\n",
       "    }\n",
       "\n",
       "    .dataframe tbody tr th {\n",
       "        vertical-align: top;\n",
       "    }\n",
       "\n",
       "    .dataframe thead th {\n",
       "        text-align: right;\n",
       "    }\n",
       "</style>\n",
       "<table border=\"1\" class=\"dataframe\">\n",
       "  <thead>\n",
       "    <tr style=\"text-align: right;\">\n",
       "      <th></th>\n",
       "      <th>학과</th>\n",
       "    </tr>\n",
       "  </thead>\n",
       "  <tbody>\n",
       "    <tr>\n",
       "      <th>0</th>\n",
       "      <td>경영정보학과</td>\n",
       "    </tr>\n",
       "    <tr>\n",
       "      <th>1</th>\n",
       "      <td>경영학과</td>\n",
       "    </tr>\n",
       "    <tr>\n",
       "      <th>2</th>\n",
       "      <td>국제통상학과</td>\n",
       "    </tr>\n",
       "  </tbody>\n",
       "</table>\n",
       "</div>"
      ],
      "text/plain": [
       "       학과\n",
       "0  경영정보학과\n",
       "1    경영학과\n",
       "2  국제통상학과"
      ]
     },
     "execution_count": 26,
     "metadata": {},
     "output_type": "execute_result"
    }
   ],
   "source": [
    "df"
   ]
  },
  {
   "cell_type": "code",
   "execution_count": 27,
   "id": "unique-advertiser",
   "metadata": {
    "ExecuteTime": {
     "end_time": "2021-04-06T06:59:32.666984Z",
     "start_time": "2021-04-06T06:59:32.651024Z"
    }
   },
   "outputs": [
    {
     "data": {
      "text/html": [
       "<div>\n",
       "<style scoped>\n",
       "    .dataframe tbody tr th:only-of-type {\n",
       "        vertical-align: middle;\n",
       "    }\n",
       "\n",
       "    .dataframe tbody tr th {\n",
       "        vertical-align: top;\n",
       "    }\n",
       "\n",
       "    .dataframe thead th {\n",
       "        text-align: right;\n",
       "    }\n",
       "</style>\n",
       "<table border=\"1\" class=\"dataframe\">\n",
       "  <thead>\n",
       "    <tr style=\"text-align: right;\">\n",
       "      <th></th>\n",
       "      <th>학과_경영정보학과</th>\n",
       "      <th>학과_경영학과</th>\n",
       "      <th>학과_국제통상학과</th>\n",
       "    </tr>\n",
       "  </thead>\n",
       "  <tbody>\n",
       "    <tr>\n",
       "      <th>0</th>\n",
       "      <td>1</td>\n",
       "      <td>0</td>\n",
       "      <td>0</td>\n",
       "    </tr>\n",
       "    <tr>\n",
       "      <th>1</th>\n",
       "      <td>0</td>\n",
       "      <td>1</td>\n",
       "      <td>0</td>\n",
       "    </tr>\n",
       "    <tr>\n",
       "      <th>2</th>\n",
       "      <td>0</td>\n",
       "      <td>0</td>\n",
       "      <td>1</td>\n",
       "    </tr>\n",
       "  </tbody>\n",
       "</table>\n",
       "</div>"
      ],
      "text/plain": [
       "   학과_경영정보학과  학과_경영학과  학과_국제통상학과\n",
       "0          1        0          0\n",
       "1          0        1          0\n",
       "2          0        0          1"
      ]
     },
     "execution_count": 27,
     "metadata": {},
     "output_type": "execute_result"
    }
   ],
   "source": [
    "pd.get_dummies(df)"
   ]
  },
  {
   "cell_type": "markdown",
   "id": "homeless-marathon",
   "metadata": {},
   "source": [
    "원-핫 인코딩은 sklearn의 **OneHotEncoder** 클래스로 구현 가능합니다.\n",
    "\n",
    "단 LabelEncoder와 차이점은 **모든 문자열 값이 숫자형으로 변환**돼야 한다는 점과 **입력 값으로 2차원 데이터가 필요**하다는 점입니다."
   ]
  },
  {
   "cell_type": "code",
   "execution_count": 44,
   "id": "employed-dragon",
   "metadata": {
    "ExecuteTime": {
     "end_time": "2021-04-06T07:08:42.534055Z",
     "start_time": "2021-04-06T07:08:42.513111Z"
    }
   },
   "outputs": [
    {
     "name": "stdout",
     "output_type": "stream",
     "text": [
      "[0 1 2] \n",
      "\n",
      "[[0]\n",
      " [1]\n",
      " [2]]\n",
      "2 차원\n",
      "\n",
      "원-핫 인코딩 데이터\n",
      "[[1. 0. 0.]\n",
      " [0. 1. 0.]\n",
      " [0. 0. 1.]]\n"
     ]
    }
   ],
   "source": [
    "from sklearn.preprocessing import LabelEncoder\n",
    "from sklearn.preprocessing import OneHotEncoder\n",
    "import numpy as np\n",
    "\n",
    "depts = ['경영정보학과','경영학과','국제통상학과']\n",
    "\n",
    "# 먼저 숫자 값으로 변환을 위해 LabelEncoder로 변환합니다.\n",
    "encoder = LabelEncoder()\n",
    "encoder.fit(depts)\n",
    "labels = encoder.transform(depts)\n",
    "print(labels,'\\n')\n",
    "\n",
    "# 2차원 데이터로 변환\n",
    "labels = labels.reshape(-1,1)\n",
    "print(labels)\n",
    "print(labels.ndim,'차원\\n')\n",
    "\n",
    "\n",
    "# 원-핫 인코딩 적용\n",
    "oh_encoder = OneHotEncoder()\n",
    "oh_encoder.fit(labels)\n",
    "oh_labels = oh_encoder.transform(labels)\n",
    "\n",
    "print('원-핫 인코딩 데이터')\n",
    "print(oh_labels.toarray())\n",
    "\n"
   ]
  },
  {
   "cell_type": "markdown",
   "id": "sharp-family",
   "metadata": {},
   "source": [
    "이전에 원핫인코딩의 예시로 pd.get_dummies 라는 함수를 사용했습니다.\n",
    "\n",
    "이 함수를 이용하면 sklearn의 OneHotEncoder와 다르게 문자열 카테고리 값을 숫자로 변환할 필요 없이 바로 변환이 가능합니다."
   ]
  },
  {
   "cell_type": "markdown",
   "id": "smooth-buying",
   "metadata": {},
   "source": [
    "  "
   ]
  },
  {
   "cell_type": "markdown",
   "id": "owned-saskatchewan",
   "metadata": {},
   "source": [
    "  "
   ]
  },
  {
   "cell_type": "markdown",
   "id": "friendly-deployment",
   "metadata": {},
   "source": [
    "# 피처 스케일링과 정규화\n",
    "---"
   ]
  },
  {
   "cell_type": "markdown",
   "id": "supreme-inspection",
   "metadata": {},
   "source": [
    "**피처 스케일링(Feature Scaling)**이란 서로 다른 변수의 값 범위를 일정한 수준으로 맞추는 작업입니다.\n",
    "\n",
    "피처 스케일링을 위한 대표적인 방법으로는 **`표준화(Standardization)`**와 **`정규화(Normalization)`**가 있습니다."
   ]
  },
  {
   "cell_type": "markdown",
   "id": "combined-compiler",
   "metadata": {},
   "source": [
    " "
   ]
  },
  {
   "cell_type": "markdown",
   "id": "italian-nerve",
   "metadata": {},
   "source": [
    "\n",
    "\n"
   ]
  },
  {
   "cell_type": "markdown",
   "id": "continental-score",
   "metadata": {},
   "source": [
    "## 표준화 (Standardization)\n",
    "---"
   ]
  },
  {
   "cell_type": "markdown",
   "id": "informed-africa",
   "metadata": {},
   "source": [
    "**표준화**란 데이터의 피처 각각이 `평균이 0`이고 `분산이 1`인 **가우시안 정규 분포**를 가진 값으로 변환하는 것입니다."
   ]
  },
  {
   "cell_type": "markdown",
   "id": "dietary-crash",
   "metadata": {},
   "source": [
    "표준화를 통해 변환될 피처 x의 새로운 i번째 데이터를 xi_new 라고 가정한다면 이 값은 원래 값(xi)에서 피처 x의 평균을 뺀 값에 피처 x의 표준편차로 계산할 수 있습니다."
   ]
  },
  {
   "attachments": {
    "image.png": {
     "image/png": "[encoded data removed]"
    }
   },
   "cell_type": "markdown",
   "id": "average-zambia",
   "metadata": {},
   "source": [
    "![image.png](attachment:image.png)"
   ]
  },
  {
   "cell_type": "markdown",
   "id": "rolled-integer",
   "metadata": {},
   "source": [
    "  \n",
    "    "
   ]
  },
  {
   "cell_type": "markdown",
   "id": "fewer-constraint",
   "metadata": {},
   "source": [
    "## 정규화 (Normalization)\n",
    "---"
   ]
  },
  {
   "cell_type": "markdown",
   "id": "hybrid-stock",
   "metadata": {},
   "source": [
    "**정규화**란 `서로 다른 피처의 크기를 통일`하기 위해 `개별 데이터의 크기를 모두 똑같은 단위로 변경하는 것`입니다.\n",
    "\n",
    "예를 들어 아파트 평수를 나타내는 피처의 값이 0~100 으로 주어지고 또 다른 매매가격을 나타내는 피처의 값이 0 ~ 10,000,000,000 으로 주어진다면 이 변수들의 크기를 통일시켜 비교하기 위한 작업으로 모두 최소 0 ~ 최대 1의 값으로 변환하는 것입니다."
   ]
  },
  {
   "attachments": {
    "image.png": {
     "image/png": "[encoded data removed]"
    }
   },
   "cell_type": "markdown",
   "id": "latest-bearing",
   "metadata": {},
   "source": [
    "![image.png](attachment:image.png)"
   ]
  },
  {
   "cell_type": "markdown",
   "id": "eight-record",
   "metadata": {},
   "source": [
    "  "
   ]
  },
  {
   "cell_type": "markdown",
   "id": "southwest-nirvana",
   "metadata": {},
   "source": [
    "  "
   ]
  },
  {
   "cell_type": "markdown",
   "id": "confident-framework",
   "metadata": {},
   "source": [
    "## sklearn의 Normalizer 모듈과 일반적인 정규화의 차이점\n",
    "----"
   ]
  },
  {
   "cell_type": "markdown",
   "id": "lovely-truck",
   "metadata": {},
   "source": [
    "sklearn의 Normalizer 모듈은 일반 정규화 개념과 큰 개념은 같지만 `선형대수의 정규화 개념`을 이용하는 것이 차이점입니다.\n",
    "\n",
    "**sklearn의 Normalizer는 개별 벡터의 크기를 맞추기 위해 개별 벡터를 모든 피처 벡터의 크기로 나눠줍니다.**"
   ]
  },
  {
   "cell_type": "markdown",
   "id": "imported-ghost",
   "metadata": {
    "ExecuteTime": {
     "end_time": "2021-04-06T07:40:57.739519Z",
     "start_time": "2021-04-06T07:40:57.731541Z"
    }
   },
   "source": [
    "아래는 세개의 피처 x, y, z가 있다고 가정한 경우입니다."
   ]
  },
  {
   "attachments": {
    "image.png": {
     "image/png": "[encoded data removed]"
    }
   },
   "cell_type": "markdown",
   "id": "statistical-inspection",
   "metadata": {},
   "source": [
    "![image.png](attachment:image.png)"
   ]
  },
  {
   "cell_type": "markdown",
   "id": "emotional-triumph",
   "metadata": {},
   "source": [
    " "
   ]
  },
  {
   "cell_type": "markdown",
   "id": "muslim-limit",
   "metadata": {},
   "source": [
    "  "
   ]
  },
  {
   "cell_type": "markdown",
   "id": "widespread-benefit",
   "metadata": {},
   "source": [
    "## Standard Scaler\n",
    "----"
   ]
  },
  {
   "cell_type": "markdown",
   "id": "clear-nitrogen",
   "metadata": {},
   "source": [
    "sklearn에서는 **`StandardScaler를 통한 표준화`** 기능을 지원합니다.\n",
    "\n",
    "앞서 설명했듯이 StandardScaler를 통해 개별 피처를 **평균이 0이고 분산이 1인 가우시안 정규 분포**의 값으로 변환하는 것이 가능합니다.\n",
    "\n",
    "표준화는 **`RBF 커널을 이용하는 서포트 벡터 머신(Support Vector Machine), 선형 회귀(Linear Regression), 로지스틱 회귀(Logistic Regression)은 데이터가 가우시안 분포를 가지고 있다고 가정하고 구현`**되었기 때문에 표준화 작업을 통해 더 좋은 성능의 ML 알고리즘을 구현할 수 있습니다."
   ]
  },
  {
   "cell_type": "code",
   "execution_count": 76,
   "id": "hazardous-wiring",
   "metadata": {
    "ExecuteTime": {
     "end_time": "2021-04-06T08:14:58.378726Z",
     "start_time": "2021-04-06T08:14:58.361772Z"
    }
   },
   "outputs": [
    {
     "data": {
      "text/html": [
       "<div>\n",
       "<style scoped>\n",
       "    .dataframe tbody tr th:only-of-type {\n",
       "        vertical-align: middle;\n",
       "    }\n",
       "\n",
       "    .dataframe tbody tr th {\n",
       "        vertical-align: top;\n",
       "    }\n",
       "\n",
       "    .dataframe thead th {\n",
       "        text-align: right;\n",
       "    }\n",
       "</style>\n",
       "<table border=\"1\" class=\"dataframe\">\n",
       "  <thead>\n",
       "    <tr style=\"text-align: right;\">\n",
       "      <th></th>\n",
       "      <th>sepal length (cm)</th>\n",
       "      <th>sepal width (cm)</th>\n",
       "      <th>petal length (cm)</th>\n",
       "      <th>petal width (cm)</th>\n",
       "    </tr>\n",
       "  </thead>\n",
       "  <tbody>\n",
       "    <tr>\n",
       "      <th>0</th>\n",
       "      <td>5.1</td>\n",
       "      <td>3.5</td>\n",
       "      <td>1.4</td>\n",
       "      <td>0.2</td>\n",
       "    </tr>\n",
       "    <tr>\n",
       "      <th>1</th>\n",
       "      <td>4.9</td>\n",
       "      <td>3.0</td>\n",
       "      <td>1.4</td>\n",
       "      <td>0.2</td>\n",
       "    </tr>\n",
       "    <tr>\n",
       "      <th>2</th>\n",
       "      <td>4.7</td>\n",
       "      <td>3.2</td>\n",
       "      <td>1.3</td>\n",
       "      <td>0.2</td>\n",
       "    </tr>\n",
       "    <tr>\n",
       "      <th>3</th>\n",
       "      <td>4.6</td>\n",
       "      <td>3.1</td>\n",
       "      <td>1.5</td>\n",
       "      <td>0.2</td>\n",
       "    </tr>\n",
       "    <tr>\n",
       "      <th>4</th>\n",
       "      <td>5.0</td>\n",
       "      <td>3.6</td>\n",
       "      <td>1.4</td>\n",
       "      <td>0.2</td>\n",
       "    </tr>\n",
       "  </tbody>\n",
       "</table>\n",
       "</div>"
      ],
      "text/plain": [
       "   sepal length (cm)  sepal width (cm)  petal length (cm)  petal width (cm)\n",
       "0                5.1               3.5                1.4               0.2\n",
       "1                4.9               3.0                1.4               0.2\n",
       "2                4.7               3.2                1.3               0.2\n",
       "3                4.6               3.1                1.5               0.2\n",
       "4                5.0               3.6                1.4               0.2"
      ]
     },
     "execution_count": 76,
     "metadata": {},
     "output_type": "execute_result"
    }
   ],
   "source": [
    "from sklearn.datasets import load_iris\n",
    "import pandas as pd\n",
    "\n",
    "iris = load_iris()\n",
    "iris_data = iris.data\n",
    "iris_df = pd.DataFrame(data=iris_data, columns=iris.feature_names)\n",
    "\n",
    "iris_df.head()"
   ]
  },
  {
   "cell_type": "code",
   "execution_count": 78,
   "id": "serial-newton",
   "metadata": {
    "ExecuteTime": {
     "end_time": "2021-04-06T08:15:05.776315Z",
     "start_time": "2021-04-06T08:15:05.759361Z"
    }
   },
   "outputs": [
    {
     "name": "stdout",
     "output_type": "stream",
     "text": [
      "feature 평균: \n",
      "\n",
      " sepal length (cm)    5.843333\n",
      "sepal width (cm)     3.057333\n",
      "petal length (cm)    3.758000\n",
      "petal width (cm)     1.199333\n",
      "dtype: float64 \n",
      "\n",
      "\n",
      "feature 분산: \n",
      "\n",
      " sepal length (cm)    0.685694\n",
      "sepal width (cm)     0.189979\n",
      "petal length (cm)    3.116278\n",
      "petal width (cm)     0.581006\n",
      "dtype: float64\n"
     ]
    }
   ],
   "source": [
    "print('feature 평균: \\n\\n',iris_df.mean(),'\\n\\n')\n",
    "print('feature 분산: \\n\\n',iris_df.var())"
   ]
  },
  {
   "cell_type": "code",
   "execution_count": 89,
   "id": "structured-rings",
   "metadata": {
    "ExecuteTime": {
     "end_time": "2021-04-06T08:16:21.732275Z",
     "start_time": "2021-04-06T08:16:21.708339Z"
    }
   },
   "outputs": [
    {
     "name": "stdout",
     "output_type": "stream",
     "text": [
      "feature 평균: \n",
      "\n",
      " 0    0\n",
      "1    0\n",
      "2    0\n",
      "3    0\n",
      "dtype: int32 \n",
      "\n",
      "\n",
      "feature 분산: \n",
      "\n",
      " 0    1\n",
      "1    1\n",
      "2    1\n",
      "3    1\n",
      "dtype: int32\n"
     ]
    }
   ],
   "source": [
    "from sklearn.preprocessing import StandardScaler\n",
    "\n",
    "# StadardScaler 객체 생성\n",
    "scaler = StandardScaler()\n",
    "\n",
    "# StandardScaler로 데이터 세트 변환, fit()과 transform()호출\n",
    "scaler.fit(iris_df)\n",
    "iris_scaled = scaler.transform(iris_df)\n",
    "\n",
    "# transform() 시 스케일 변환된 데이터 세트가 Numpy ndarray로 반환, 데이터프레임으로 변환 작업 필요\n",
    "iris_df = pd.DataFrame(iris_scaled)\n",
    "print('feature 평균: \\n\\n',iris_df.mean().astype(int),'\\n\\n')\n",
    "print('feature 분산: \\n\\n',iris_df.var().astype(int))"
   ]
  },
  {
   "cell_type": "markdown",
   "id": "detected-satellite",
   "metadata": {
    "ExecuteTime": {
     "end_time": "2021-04-06T08:15:45.580146Z",
     "start_time": "2021-04-06T08:15:45.558208Z"
    }
   },
   "source": [
    "  "
   ]
  },
  {
   "cell_type": "markdown",
   "id": "minus-updating",
   "metadata": {},
   "source": [
    "  "
   ]
  },
  {
   "cell_type": "markdown",
   "id": "vital-lecture",
   "metadata": {},
   "source": [
    "## MinMaxScaler\n",
    "---"
   ]
  },
  {
   "cell_type": "markdown",
   "id": "outstanding-stuart",
   "metadata": {},
   "source": [
    "MinMaxScaler는 데이터의 값을 **0과 1사이의 범위 값**으로 변환하는 기능을 지원합니다.(음수 값 존재시 -1 ~ 1)\n",
    "\n",
    "**`데이터의 분포가 가우시안 분포가 아닐 경우 Min, Max Scale을 적용할 수 있습니다. `**"
   ]
  },
  {
   "cell_type": "code",
   "execution_count": 90,
   "id": "selected-programming",
   "metadata": {
    "ExecuteTime": {
     "end_time": "2021-04-06T08:24:05.547002Z",
     "start_time": "2021-04-06T08:24:05.536032Z"
    }
   },
   "outputs": [
    {
     "name": "stdout",
     "output_type": "stream",
     "text": [
      "feature 최솟값: \n",
      "\n",
      " 0    0\n",
      "1    0\n",
      "2    0\n",
      "3    0\n",
      "dtype: int32 \n",
      "\n",
      "\n",
      "feature 최댓값: \n",
      "\n",
      " 0    1\n",
      "1    1\n",
      "2    1\n",
      "3    1\n",
      "dtype: int32\n"
     ]
    }
   ],
   "source": [
    "from sklearn.preprocessing import MinMaxScaler\n",
    "\n",
    "# MinMaxScaler 객체 생성\n",
    "scaler = MinMaxScaler()\n",
    "\n",
    "# MinMaxScaler로 데이터 세트 변환, fit()과 transform() 호출\n",
    "scaler.fit(iris_df)\n",
    "iris_scaled = scaler.transform(iris_df)\n",
    "\n",
    "# transform() 결과는 ndarraay, 데이터 프레임으로 변환\n",
    "iris_df = pd.DataFrame(iris_scaled)\n",
    "print('feature 최솟값: \\n\\n',iris_df.min().astype(int),'\\n\\n')\n",
    "print('feature 최댓값: \\n\\n',iris_df.max().astype(int))"
   ]
  },
  {
   "cell_type": "markdown",
   "id": "computational-music",
   "metadata": {},
   "source": [
    "## 학습 데이터와 테스트 데이터의 스케일링 변환 시 유의점\n",
    "---"
   ]
  },
  {
   "cell_type": "markdown",
   "id": "expressed-heather",
   "metadata": {},
   "source": [
    "`StandardScaler`나 `MinMaxScaler`와 같은 sklearn에서 제공하는 Scaler 객체를 이용할 때 `fit() 메소드를 이용해 데이터 변환을 위한 기준 정보를 설정`합니다.(최댓값/최솟값 설정 등) 그리고 그 기준 정보를 바탕으로 `transform()메소드를 통해 데이터를 변환`합니다.\n",
    "\n",
    "그런데 학습 데이터 세트와 테스트 데이터 세트로 나뉘어져 있는 경우 `학습 데이터 세트로 fit()이 적용된 스케일링 기준 정보를 테스트 데이터에 적용해야합니다.`\n",
    "\n",
    "**그 이유는 테스트 데이터로 다시 새로운 스케일링 기준 정보를 만들게 되면 학습 데이터와 테스트 데이터의 스케일링 기준 정보가 달라 올바른 예측 결과를 도출하지 못할 가능성이 커지기 때문입니다.**"
   ]
  },
  {
   "cell_type": "markdown",
   "id": "temporal-danish",
   "metadata": {},
   "source": [
    "아래의 코드는 테스트 데이터에 fit() 메소드를 적용할 때 어떤 문제가 발생하는지를 구현한 코드입니다."
   ]
  },
  {
   "cell_type": "code",
   "execution_count": 93,
   "id": "above-italian",
   "metadata": {
    "ExecuteTime": {
     "end_time": "2021-04-06T10:45:17.249014Z",
     "start_time": "2021-04-06T10:45:17.233066Z"
    }
   },
   "outputs": [
    {
     "name": "stdout",
     "output_type": "stream",
     "text": [
      "원본 train_array : [ 0  1  2  3  4  5  6  7  8  9 10]\n",
      "Scale된 train_array : [0.  0.1 0.2 0.3 0.4 0.5 0.6 0.7 0.8 0.9 1. ]\n"
     ]
    }
   ],
   "source": [
    "from sklearn.preprocessing import MinMaxScaler\n",
    "import numpy as np\n",
    "\n",
    "# 학습 데이터는 0부터 10까지, 테스트 데이터는 0부터 5까지 값을 가지는 데이터 세트로 생성\n",
    "# Scaler 클래스의 fit(), transform()은 2차원 이상 데이터만 가능,\n",
    "\n",
    "train_array = np.arange(0, 11).reshape(-1, 1)\n",
    "test_array = np.arange(0, 6).reshape(-1, 1)\n",
    "\n",
    "# MinMaxScaler 객체에 별도의 feature_range 파라미터 값을 지정하지 않으면 0~1 반환\n",
    "scaler = MinMaxScaler()\n",
    "\n",
    "# fit() 적용, train_array 데이터 최솟값:0, 최댓값: 10 설정\n",
    "scaler.fit(train_array)\n",
    "\n",
    "# 1/10 scale로 train_array 데이터 변홤. 원본 10->1\n",
    "train_scaled = scaler.transform(train_array)\n",
    "\n",
    "print('원본 train_array :', np.round(train_array.reshape(-1),2))\n",
    "print('Scale된 train_array :', np.round(train_scaled.reshape(-1),2))"
   ]
  },
  {
   "cell_type": "markdown",
   "id": "japanese-rwanda",
   "metadata": {},
   "source": [
    " "
   ]
  },
  {
   "cell_type": "markdown",
   "id": "derived-flight",
   "metadata": {},
   "source": [
    "이번에는 테스트 데이터 세트를 변환합니다. `(스케일링 기준 test 데이터 다시 적용하는 경우)`"
   ]
  },
  {
   "cell_type": "code",
   "execution_count": 94,
   "id": "corporate-brand",
   "metadata": {
    "ExecuteTime": {
     "end_time": "2021-04-06T10:48:27.761378Z",
     "start_time": "2021-04-06T10:48:27.746451Z"
    }
   },
   "outputs": [
    {
     "name": "stdout",
     "output_type": "stream",
     "text": [
      "원본 test_array : [0 1 2 3 4 5]\n",
      "Scale된 test_array : [0.  0.2 0.4 0.6 0.8 1. ]\n"
     ]
    }
   ],
   "source": [
    "# MinMaxScaler에 test_array를 fit(), 최솟값 0, 최댓값 5 설정\n",
    "scaler.fit(test_array)\n",
    "\n",
    "# 1/5 scale로 test_array 데이터 변환. 원본 5 -> 1\n",
    "test_scaled = scaler.transform(test_array)\n",
    "\n",
    "# test_array의 scale 변환 출력\n",
    "print('원본 test_array :', np.round(test_array.reshape(-1),2))\n",
    "print('Scale된 test_array :', np.round(test_scaled.reshape(-1),2))"
   ]
  },
  {
   "cell_type": "markdown",
   "id": "differential-surname",
   "metadata": {},
   "source": [
    " "
   ]
  },
  {
   "cell_type": "markdown",
   "id": "inner-command",
   "metadata": {},
   "source": [
    "위 결과를 통해 학습 데이터와 테스트 데이터가 서로 다른 스케일 기준 정보를 가지면 `서로 다른 데이터가 같은 값으로 변환되는 결과를 초래`하는 것을 알 수 있습니다.\n",
    "\n",
    "**ML 모델은 학습 데이터를 기준으로 학습되기 때문에 반드시 스케일 기준 정보는 학습 데이터를 따라야합니다.**"
   ]
  },
  {
   "cell_type": "code",
   "execution_count": 95,
   "id": "macro-twins",
   "metadata": {
    "ExecuteTime": {
     "end_time": "2021-04-06T10:52:40.319515Z",
     "start_time": "2021-04-06T10:52:40.304554Z"
    }
   },
   "outputs": [
    {
     "name": "stdout",
     "output_type": "stream",
     "text": [
      "원본 train_array : [ 0  1  2  3  4  5  6  7  8  9 10]\n",
      "Scale된 train_array : [0.  0.1 0.2 0.3 0.4 0.5 0.6 0.7 0.8 0.9 1. ]\n",
      "원본 test_array : [0 1 2 3 4 5]\n",
      "Scale된 test_array : [0.  0.1 0.2 0.3 0.4 0.5]\n"
     ]
    }
   ],
   "source": [
    "# 같은 스케일 기준 정보를 통한 정규화\n",
    "\n",
    "scaler = MinMaxScaler()\n",
    "\n",
    "scaler.fit(train_array)\n",
    "train_scaled = scaler.transform(train_array)\n",
    "print('원본 train_array :', np.round(train_array.reshape(-1),2))\n",
    "print('Scale된 train_array :', np.round(train_scaled.reshape(-1),2))\n",
    "\n",
    "test_scaled = scaler.transform(test_array)\n",
    "print('원본 test_array :', np.round(test_array.reshape(-1),2))\n",
    "print('Scale된 test_array :', np.round(test_scaled.reshape(-1),2))"
   ]
  },
  {
   "cell_type": "markdown",
   "id": "statutory-pasta",
   "metadata": {},
   "source": [
    "  "
   ]
  },
  {
   "cell_type": "markdown",
   "id": "common-repository",
   "metadata": {},
   "source": [
    "fit() 메소드와 transform() 메소드를 한번에 이용하기 위해 fit_transform() 메소드를 지원합니다. \n",
    "\n",
    "학습 데이터에 대해 스케일링을 할 때 fit_transform() 메소드를 사용해도 문제가 없지만 test 데이터에 대해서는 반드시 transform()만 사용하는 것을 기억하시기 바랍니다."
   ]
  },
  {
   "cell_type": "code",
   "execution_count": null,
   "id": "mature-escape",
   "metadata": {},
   "outputs": [],
   "source": []
  }
 ],
 "metadata": {
  "kernelspec": {
   "display_name": "Python 3",
   "language": "python",
   "name": "python3"
  },
  "language_info": {
   "codemirror_mode": {
    "name": "ipython",
    "version": 3
   },
   "file_extension": ".py",
   "mimetype": "text/x-python",
   "name": "python",
   "nbconvert_exporter": "python",
   "pygments_lexer": "ipython3",
   "version": "3.7.10"
  },
  "toc": {
   "base_numbering": 1,
   "nav_menu": {},
   "number_sections": true,
   "sideBar": true,
   "skip_h1_title": false,
   "title_cell": "Table of Contents",
   "title_sidebar": "Contents",
   "toc_cell": false,
   "toc_position": {
    "height": "calc(100% - 180px)",
    "left": "10px",
    "top": "150px",
    "width": "409.6px"
   },
   "toc_section_display": true,
   "toc_window_display": false
  },
  "varInspector": {
   "cols": {
    "lenName": 16,
    "lenType": 16,
    "lenVar": 40
   },
   "kernels_config": {
    "python": {
     "delete_cmd_postfix": "",
     "delete_cmd_prefix": "del ",
     "library": "var_list.py",
     "varRefreshCmd": "print(var_dic_list())"
    },
    "r": {
     "delete_cmd_postfix": ") ",
     "delete_cmd_prefix": "rm(",
     "library": "var_list.r",
     "varRefreshCmd": "cat(var_dic_list()) "
    }
   },
   "types_to_exclude": [
    "module",
    "function",
    "builtin_function_or_method",
    "instance",
    "_Feature"
   ],
   "window_display": false
  }
 },
 "nbformat": 4,
 "nbformat_minor": 5
}
