{
 "cells": [
  {
   "cell_type": "markdown",
   "id": "automotive-astrology",
   "metadata": {},
   "source": [
    "# 사이킷런 래퍼 XGBoost\n",
    "---"
   ]
  },
  {
   "cell_type": "markdown",
   "id": "impaired-robin",
   "metadata": {},
   "source": [
    "사이킷런 래퍼 XGBoost는 XGBoost 개발 그룹이 사이킷런 프레임워크와 연동하기 위해 개발한 것입니다."
   ]
  },
  {
   "cell_type": "markdown",
   "id": "anticipated-checkout",
   "metadata": {},
   "source": [
    "# 사이킷런 래퍼 사용 시 변경되는 네이티브 하이퍼 파라미터\n",
    "---"
   ]
  },
  {
   "cell_type": "markdown",
   "id": "gentle-convention",
   "metadata": {},
   "source": [
    "- eta -> learning_rate\n",
    "\n",
    "\n",
    "- sub_sample -> subsample\n",
    "\n",
    "\n",
    "- lambda -> reg_lambda\n",
    "\n",
    "\n",
    "- alpha -> reg_alpha"
   ]
  },
  {
   "cell_type": "markdown",
   "id": "disabled-residence",
   "metadata": {},
   "source": [
    "# XGBoost Classififer를 이용한 위스콘신 대학병원 유방암 데이터 분류 모델\n",
    "---"
   ]
  },
  {
   "cell_type": "code",
   "execution_count": 13,
   "id": "affecting-persian",
   "metadata": {
    "ExecuteTime": {
     "end_time": "2021-04-22T05:07:28.821552Z",
     "start_time": "2021-04-22T05:07:28.795602Z"
    }
   },
   "outputs": [],
   "source": [
    "import warnings\n",
    "warnings.filterwarnings('ignore')\n",
    "\n",
    "# 데이터 로드 및 학습, 테스트 데이터 분리\n",
    "\n",
    "from sklearn.model_selection import train_test_split\n",
    "from sklearn.datasets import load_breast_cancer\n",
    "import pandas as pd\n",
    "\n",
    "data = load_breast_cancer()\n",
    "X_features = data.data\n",
    "y_label = data.target\n",
    "\n",
    "cancer_df = pd.DataFrame(data=X_features, columns = data.feature_names)\n",
    "cancer_df['target'] = y_label\n",
    "\n",
    "X_train, X_test, y_train, y_test = train_test_split(X_features, y_label, test_size=0.2)"
   ]
  },
  {
   "cell_type": "code",
   "execution_count": 16,
   "id": "burning-freeware",
   "metadata": {
    "ExecuteTime": {
     "end_time": "2021-04-22T05:08:04.305201Z",
     "start_time": "2021-04-22T05:08:04.222424Z"
    }
   },
   "outputs": [
    {
     "name": "stdout",
     "output_type": "stream",
     "text": [
      "[14:08:04] WARNING: C:/Users/Administrator/workspace/xgboost-win64_release_1.3.0/src/learner.cc:541: \n",
      "Parameters: { n_estimator } might not be used.\n",
      "\n",
      "  This may not be accurate due to some parameters are only used in language bindings but\n",
      "  passed down to XGBoost core.  Or some parameters are not used but slip through this\n",
      "  verification. Please open an issue if you find above cases.\n",
      "\n",
      "\n",
      "[14:08:04] WARNING: C:/Users/Administrator/workspace/xgboost-win64_release_1.3.0/src/learner.cc:1061: Starting in XGBoost 1.3.0, the default evaluation metric used with the objective 'binary:logistic' was changed from 'error' to 'logloss'. Explicitly set eval_metric if you'd like to restore the old behavior.\n"
     ]
    }
   ],
   "source": [
    "# 사이킷런 래퍼 XGBoost 클래스인 XGBClassifier 임포트\n",
    "\n",
    "from xgboost import XGBClassifier\n",
    "\n",
    "# 모델 학습\n",
    "xgb_wrapper = XGBClassifier(n_estimator=400, learning_rate=0.1, max_depth=3)\n",
    "xgb_wrapper.fit(X_train, y_train)\n",
    "\n",
    "# predict, predict_proba 추출\n",
    "w_preds = xgb_wrapper.predict(X_test)\n",
    "w_pred_proba = xgb_wrapper.predict_proba(X_test)[:,1]"
   ]
  },
  {
   "cell_type": "code",
   "execution_count": 20,
   "id": "stainless-scope",
   "metadata": {
    "ExecuteTime": {
     "end_time": "2021-04-22T05:08:59.318639Z",
     "start_time": "2021-04-22T05:08:59.288706Z"
    }
   },
   "outputs": [
    {
     "name": "stdout",
     "output_type": "stream",
     "text": [
      "Confusion Matrix\n",
      "[[38  2]\n",
      " [ 2 72]]\n",
      "accuracy: 0.9649, precision: 0.9730, recall: 0.9730, f1: 0.9730, roc_auc: 0.9949\n"
     ]
    }
   ],
   "source": [
    "# 다양한 오차 측정 지표를 확인하기 위한 함수 정의\n",
    "\n",
    "from sklearn.metrics import *\n",
    "\n",
    "def get_clf_eval(y_test, pred=None, pred_proba=None): \n",
    "    confusion = confusion_matrix(y_test, pred) \n",
    "    accuracy = accuracy_score(y_test, pred) \n",
    "    precision = precision_score(y_test, pred) \n",
    "    recall = recall_score(y_test, pred) \n",
    "    f1 = f1_score(y_test, pred) \n",
    "    # ROC AUC \n",
    "    roc_auc = roc_auc_score(y_test, pred_proba) \n",
    "    \n",
    "    print('Confusion Matrix') \n",
    "    print(confusion) \n",
    "    print('accuracy: {0:.4f}, precision: {1:.4f}, recall: {2:.4f}, f1: {3:.4f}, roc_auc: {4:.4f}'.format( accuracy, precision, recall, f1, roc_auc))\n",
    "    \n",
    "\n",
    "# get_clf_eval()를 이용해 사키릿런 래퍼 XGBoost로 만들어진 모델 예측 성능 평가\n",
    "get_clf_eval(y_test, w_preds, w_pred_proba)"
   ]
  },
  {
   "cell_type": "markdown",
   "id": "generous-perry",
   "metadata": {},
   "source": [
    "# 사이킷런 래퍼 XGBoost의 조기 중단 기능\n",
    "---"
   ]
  },
  {
   "cell_type": "markdown",
   "id": "collect-cyprus",
   "metadata": {},
   "source": [
    "사이킷란 래퍼 XGBoost는 조기 중단 기능을 지원하며 아래의 파라미터를 입력합니다.\n",
    "\n",
    "`1. 평가 지표가 향상될 수 있는 반복 횟수를 정의하는 early_stopping_rounds`\n",
    "\n",
    "\n",
    "`2. 성능 평가를 수행할 데이터 세트인 eval_set`\n",
    "\n",
    "\n",
    "`3. 조기 중단을 위한 평가지표인 eval_metric`"
   ]
  },
  {
   "cell_type": "markdown",
   "id": "minus-offense",
   "metadata": {},
   "source": [
    "아래의 경우 early_stoppping_round를 100, eval_meetric을 logloss로 지정합니다.\n",
    "\n",
    "추가적으로 현재 데이터는 부득이하게 새로운 데이터가 없기에 eval_set을 X_test와 y_test를 사용했습니다.\n",
    "\n",
    "`**eval_set은 완전히 알려지지 않은 새로운 데이터 세트를 사용하는 것이 바람직하다.**`"
   ]
  },
  {
   "cell_type": "code",
   "execution_count": 22,
   "id": "sealed-mainstream",
   "metadata": {
    "ExecuteTime": {
     "end_time": "2021-04-22T05:13:07.790455Z",
     "start_time": "2021-04-22T05:13:07.523172Z"
    },
    "scrolled": true
   },
   "outputs": [
    {
     "name": "stdout",
     "output_type": "stream",
     "text": [
      "[14:13:07] WARNING: C:/Users/Administrator/workspace/xgboost-win64_release_1.3.0/src/learner.cc:541: \n",
      "Parameters: { n_estimator } might not be used.\n",
      "\n",
      "  This may not be accurate due to some parameters are only used in language bindings but\n",
      "  passed down to XGBoost core.  Or some parameters are not used but slip through this\n",
      "  verification. Please open an issue if you find above cases.\n",
      "\n",
      "\n",
      "[0]\tvalidation_0-logloss:0.61782\n",
      "[1]\tvalidation_0-logloss:0.55681\n",
      "[2]\tvalidation_0-logloss:0.50700\n",
      "[3]\tvalidation_0-logloss:0.46512\n",
      "[4]\tvalidation_0-logloss:0.42896\n",
      "[5]\tvalidation_0-logloss:0.39591\n",
      "[6]\tvalidation_0-logloss:0.36955\n",
      "[7]\tvalidation_0-logloss:0.34469\n",
      "[8]\tvalidation_0-logloss:0.32198\n",
      "[9]\tvalidation_0-logloss:0.30528\n",
      "[10]\tvalidation_0-logloss:0.28522\n",
      "[11]\tvalidation_0-logloss:0.26963\n",
      "[12]\tvalidation_0-logloss:0.25587\n",
      "[13]\tvalidation_0-logloss:0.24159\n",
      "[14]\tvalidation_0-logloss:0.23086\n",
      "[15]\tvalidation_0-logloss:0.21932\n",
      "[16]\tvalidation_0-logloss:0.21111\n",
      "[17]\tvalidation_0-logloss:0.20178\n",
      "[18]\tvalidation_0-logloss:0.19460\n",
      "[19]\tvalidation_0-logloss:0.18889\n",
      "[20]\tvalidation_0-logloss:0.17970\n",
      "[21]\tvalidation_0-logloss:0.17317\n",
      "[22]\tvalidation_0-logloss:0.16807\n",
      "[23]\tvalidation_0-logloss:0.16262\n",
      "[24]\tvalidation_0-logloss:0.15550\n",
      "[25]\tvalidation_0-logloss:0.15224\n",
      "[26]\tvalidation_0-logloss:0.14553\n",
      "[27]\tvalidation_0-logloss:0.14278\n",
      "[28]\tvalidation_0-logloss:0.14061\n",
      "[29]\tvalidation_0-logloss:0.13656\n",
      "[30]\tvalidation_0-logloss:0.13375\n",
      "[31]\tvalidation_0-logloss:0.13055\n",
      "[32]\tvalidation_0-logloss:0.12721\n",
      "[33]\tvalidation_0-logloss:0.12372\n",
      "[34]\tvalidation_0-logloss:0.11989\n",
      "[35]\tvalidation_0-logloss:0.11730\n",
      "[36]\tvalidation_0-logloss:0.11561\n",
      "[37]\tvalidation_0-logloss:0.11263\n",
      "[38]\tvalidation_0-logloss:0.10942\n",
      "[39]\tvalidation_0-logloss:0.10852\n",
      "[40]\tvalidation_0-logloss:0.10857\n",
      "[41]\tvalidation_0-logloss:0.10613\n",
      "[42]\tvalidation_0-logloss:0.10498\n",
      "[43]\tvalidation_0-logloss:0.10347\n",
      "[44]\tvalidation_0-logloss:0.10272\n",
      "[45]\tvalidation_0-logloss:0.10047\n",
      "[46]\tvalidation_0-logloss:0.09895\n",
      "[47]\tvalidation_0-logloss:0.09803\n",
      "[48]\tvalidation_0-logloss:0.09776\n",
      "[49]\tvalidation_0-logloss:0.09850\n",
      "[50]\tvalidation_0-logloss:0.09738\n",
      "[51]\tvalidation_0-logloss:0.09645\n",
      "[52]\tvalidation_0-logloss:0.09635\n",
      "[53]\tvalidation_0-logloss:0.09651\n",
      "[54]\tvalidation_0-logloss:0.09502\n",
      "[55]\tvalidation_0-logloss:0.09456\n",
      "[56]\tvalidation_0-logloss:0.09391\n",
      "[57]\tvalidation_0-logloss:0.09282\n",
      "[58]\tvalidation_0-logloss:0.09167\n",
      "[59]\tvalidation_0-logloss:0.09166\n",
      "[60]\tvalidation_0-logloss:0.09148\n",
      "[61]\tvalidation_0-logloss:0.09137\n",
      "[62]\tvalidation_0-logloss:0.09166\n",
      "[63]\tvalidation_0-logloss:0.09202\n",
      "[64]\tvalidation_0-logloss:0.09175\n",
      "[65]\tvalidation_0-logloss:0.09067\n",
      "[66]\tvalidation_0-logloss:0.09085\n",
      "[67]\tvalidation_0-logloss:0.09032\n",
      "[68]\tvalidation_0-logloss:0.09004\n",
      "[69]\tvalidation_0-logloss:0.08929\n",
      "[70]\tvalidation_0-logloss:0.08866\n",
      "[71]\tvalidation_0-logloss:0.08765\n",
      "[72]\tvalidation_0-logloss:0.08844\n",
      "[73]\tvalidation_0-logloss:0.08750\n",
      "[74]\tvalidation_0-logloss:0.08743\n",
      "[75]\tvalidation_0-logloss:0.08679\n",
      "[76]\tvalidation_0-logloss:0.08660\n",
      "[77]\tvalidation_0-logloss:0.08715\n",
      "[78]\tvalidation_0-logloss:0.08707\n",
      "[79]\tvalidation_0-logloss:0.08682\n",
      "[80]\tvalidation_0-logloss:0.08708\n",
      "[81]\tvalidation_0-logloss:0.08732\n",
      "[82]\tvalidation_0-logloss:0.08698\n",
      "[83]\tvalidation_0-logloss:0.08645\n",
      "[84]\tvalidation_0-logloss:0.08670\n",
      "[85]\tvalidation_0-logloss:0.08699\n",
      "[86]\tvalidation_0-logloss:0.08683\n",
      "[87]\tvalidation_0-logloss:0.08636\n",
      "[88]\tvalidation_0-logloss:0.08665\n",
      "[89]\tvalidation_0-logloss:0.08695\n",
      "[90]\tvalidation_0-logloss:0.08675\n",
      "[91]\tvalidation_0-logloss:0.08654\n",
      "[92]\tvalidation_0-logloss:0.08682\n",
      "[93]\tvalidation_0-logloss:0.08666\n",
      "[94]\tvalidation_0-logloss:0.08591\n",
      "[95]\tvalidation_0-logloss:0.08589\n",
      "[96]\tvalidation_0-logloss:0.08590\n",
      "[97]\tvalidation_0-logloss:0.08589\n",
      "[98]\tvalidation_0-logloss:0.08620\n",
      "[99]\tvalidation_0-logloss:0.08604\n"
     ]
    }
   ],
   "source": [
    "from xgboost import XGBClassifier\n",
    "\n",
    "xgb_wrapper = XGBClassifier(n_estimator=400, learning_rate=0.1, max_depth=3)\n",
    "evals = [(X_test, y_test)]\n",
    "xgb_wrapper.fit(X_train, y_train, early_stopping_rounds=100, eval_metric=\"logloss\", eval_set=evals, verbose=True)\n",
    "\n",
    "ws100_preds = xgb_wrapper.predict(X_test)\n",
    "ws100_pred_proba = xgb_wrapper.predict_proba(X_test)[:,1]"
   ]
  },
  {
   "cell_type": "markdown",
   "id": "cordless-afghanistan",
   "metadata": {},
   "source": [
    "위 결과를 확인하면 n_estimator 400을 진행하지 않고 99에서 학습이 중단된 것을 확인할 수 있습니다.\n",
    "\n",
    "그 이유는 early_stopping_rounds=100 으로 지정된 반복 동안 logloss가 향상되지 않았기 때문입니다 "
   ]
  },
  {
   "cell_type": "code",
   "execution_count": 23,
   "id": "welcome-closer",
   "metadata": {
    "ExecuteTime": {
     "end_time": "2021-04-22T05:18:03.774519Z",
     "start_time": "2021-04-22T05:18:03.757527Z"
    }
   },
   "outputs": [
    {
     "name": "stdout",
     "output_type": "stream",
     "text": [
      "Confusion Matrix\n",
      "[[38  2]\n",
      " [ 2 72]]\n",
      "accuracy: 0.9649, precision: 0.9730, recall: 0.9730, f1: 0.9730, roc_auc: 0.9949\n"
     ]
    }
   ],
   "source": [
    "get_clf_eval(y_test, ws100_preds, ws100_pred_proba)"
   ]
  },
  {
   "cell_type": "markdown",
   "id": "mental-postage",
   "metadata": {},
   "source": [
    "**이러한 조기중단 기능은 불필요한 학습 시간을 단축시켜준다는 장점이 있습니다. 하지만 이 조기중단 값을 급격하게 줄이는 경우 모델 성능이 향상될 여지가 있음에도 불구하고 학습이 조기 중단되는 경우가 발생할 수 있습니다.**"
   ]
  },
  {
   "cell_type": "markdown",
   "id": "medical-amplifier",
   "metadata": {},
   "source": [
    "# 피처중요도 시각화\n",
    "---"
   ]
  },
  {
   "cell_type": "markdown",
   "id": "modular-career",
   "metadata": {},
   "source": [
    "사이킷런 래퍼 XGBoost 역시 피처중요도 시각화 기능을 지원합니다.\n"
   ]
  },
  {
   "cell_type": "code",
   "execution_count": 42,
   "id": "hybrid-colony",
   "metadata": {
    "ExecuteTime": {
     "end_time": "2021-04-22T05:24:44.638465Z",
     "start_time": "2021-04-22T05:24:43.724241Z"
    }
   },
   "outputs": [
    {
     "data": {
      "text/plain": [
       "<AxesSubplot:title={'center':'Feature importance'}, xlabel='F score', ylabel='Features'>"
      ]
     },
     "execution_count": 42,
     "metadata": {},
     "output_type": "execute_result"
    },
    {
     "data": {
      "image/png": "[encoded data removed]",
      "text/plain": [
       "<Figure size 720x864 with 1 Axes>"
      ]
     },
     "metadata": {
      "needs_background": "light"
     },
     "output_type": "display_data"
    }
   ],
   "source": [
    "from xgboost import plot_importance\n",
    "import matplotlib.pyplot as plt\n",
    "%matplotlib inline\n",
    "\n",
    "fig, ax = plt.subplots(figsize=(10, 12))\n",
    "\n",
    "plot_importance(xgb_wrapper, ax=ax)"
   ]
  },
  {
   "cell_type": "code",
   "execution_count": null,
   "id": "handmade-bristol",
   "metadata": {},
   "outputs": [],
   "source": []
  }
 ],
 "metadata": {
  "kernelspec": {
   "display_name": "Python 3",
   "language": "python",
   "name": "python3"
  },
  "language_info": {
   "codemirror_mode": {
    "name": "ipython",
    "version": 3
   },
   "file_extension": ".py",
   "mimetype": "text/x-python",
   "name": "python",
   "nbconvert_exporter": "python",
   "pygments_lexer": "ipython3",
   "version": "3.7.10"
  },
  "toc": {
   "base_numbering": 1,
   "nav_menu": {},
   "number_sections": true,
   "sideBar": true,
   "skip_h1_title": false,
   "title_cell": "Table of Contents",
   "title_sidebar": "Contents",
   "toc_cell": false,
   "toc_position": {},
   "toc_section_display": true,
   "toc_window_display": false
  },
  "varInspector": {
   "cols": {
    "lenName": 16,
    "lenType": 16,
    "lenVar": 40
   },
   "kernels_config": {
    "python": {
     "delete_cmd_postfix": "",
     "delete_cmd_prefix": "del ",
     "library": "var_list.py",
     "varRefreshCmd": "print(var_dic_list())"
    },
    "r": {
     "delete_cmd_postfix": ") ",
     "delete_cmd_prefix": "rm(",
     "library": "var_list.r",
     "varRefreshCmd": "cat(var_dic_list()) "
    }
   },
   "types_to_exclude": [
    "module",
    "function",
    "builtin_function_or_method",
    "instance",
    "_Feature"
   ],
   "window_display": false
  }
 },
 "nbformat": 4,
 "nbformat_minor": 5
}
