{
 "cells": [
  {
   "cell_type": "markdown",
   "id": "demonstrated-screen",
   "metadata": {},
   "source": [
    "# XGBoost (eXtreme Gradient Boost)\n",
    "---"
   ]
  },
  {
   "attachments": {
    "image.png": {
     "image/png": "[encoded data removed]"
    }
   },
   "cell_type": "markdown",
   "id": "fitting-ultimate",
   "metadata": {},
   "source": [
    "![image.png](attachment:image.png)"
   ]
  },
  {
   "cell_type": "markdown",
   "id": "touched-valley",
   "metadata": {},
   "source": [
    "XGBoost는 트리 기반의 앙상블 학습 모델로 GBM을 기반으로 새롭게 만들어진 세계에서 가장 각광받는 그래디언트 부스팅 기반 ML 패키지 입니다."
   ]
  },
  {
   "cell_type": "markdown",
   "id": "worth-framing",
   "metadata": {},
   "source": [
    "XGBoost는 분류와 회귀 문제에 있어서 일반적으로 다른 ML 알고리즘보다 뛰어난 예측 성능을 보여 실제 캐글에서 수많은 상위권 데이터 과학자들이 XGBoost를 사용하고 있습니다."
   ]
  },
  {
   "cell_type": "markdown",
   "id": "major-process",
   "metadata": {},
   "source": [
    "앞서 설명했듯이 XGBoost는 GBM을 기반으로 한 알고리즘입니다. 하지만 병렬 CPU환경에서 병렬 학습이 가능해 GBM의 단점으로 꼽히는 느린 수행 시간과 과적합 규제(Regulation) 부재 등의 문제를 해결한 것도 XGBoost가 각광받는 이유 중 하나입니다."
   ]
  },
  {
   "cell_type": "markdown",
   "id": "occupied-authorization",
   "metadata": {},
   "source": [
    "다음은 XGBoost의 장점을 정리한 내용입니다.\n",
    "\n",
    "* 분류와 회귀 문제에서 뛰어난 예측 성능\n",
    "\n",
    "\n",
    "* 병렬 학습으로 인한 GBM 대비 빠른 수행 시간\n",
    "\n",
    "\n",
    "* 과적합 규제를 통한 과적합 문제에 대한 유연성\n",
    "\n",
    "\n",
    "* Tree Pruning을 통한 긍정 이득이 없는 분할을 제거\n",
    "\n",
    "\n",
    "* 내부적 교차 검증을 수행한 최적화된 반복 수행 횟수를 가질 수 있으며 조기 중단 기능 내포\n",
    "\n",
    "\n",
    "* 결손값 자체 처리 기능"
   ]
  },
  {
   "cell_type": "markdown",
   "id": "acknowledged-society",
   "metadata": {},
   "source": [
    "# XGBoost HyperParameters\n",
    "---"
   ]
  },
  {
   "cell_type": "markdown",
   "id": "incident-minnesota",
   "metadata": {},
   "source": [
    "다음 글을 참고 및 번역했습니다.\n",
    "Complete Guide to Parameter Tuning in XGBoost (with codes in Python)"
   ]
  },
  {
   "cell_type": "markdown",
   "id": "satellite-divorce",
   "metadata": {},
   "source": [
    "**Parameter 종류**\n",
    "\n",
    "* General Parameter: 전체 기능을 가이드(디폴트 값을 바꾸는 경우는 거의 없음)\n",
    "\n",
    "\n",
    "* Boost Parameter: 각각의 step에서 booster 가이드(트리 최적화, 부스팅, regularization)\n",
    "\n",
    "\n",
    "* Learning Task Parameter: 최적화 수행 가이드(학습 수행 시 객체 함수, 평가지표 설정)"
   ]
  },
  {
   "cell_type": "markdown",
   "id": "automated-separate",
   "metadata": {},
   "source": [
    "**General Parameter**\n",
    "\n",
    "* booster: tree 기반 모델(gbtree) / 선형 모델(gblinear), 디폴트는 gbtree\n",
    "\n",
    "\n",
    "* silent: 메세지 조절(디폴트는 0, 출력 메세지 없음 : 1)\n",
    "\n",
    "\n",
    "* nthread: 병렬 처리 조절"
   ]
  },
  {
   "cell_type": "markdown",
   "id": "arabic-clause",
   "metadata": {},
   "source": [
    "**Boost Parameter**\n",
    "\n",
    "\n",
    "* eta[default = 0.3, alias: learning_rate]: GBM의 Learning rate(일반적으로 0.01 - 0.2), 사이킷런 래퍼 클래스의 경우 eta는 learning_rate으로 대체\n",
    "\n",
    "\n",
    "* num_boost_rounts: GBM의 n_estimator\n",
    "\n",
    "\n",
    "* min_child_weight[default=1]: min_child_weight를 기준으로 추가 분기 결정(클수록 Underfitting)\n",
    "\n",
    "\n",
    "* gamma[default=0, alias: min_split_loss]: split 하기 위한 최소의 loss 감소 정의(클수록 Underfitting)\n",
    "\n",
    "\n",
    "* max_depth: Tree 깊이 수(일반적으로 3 ~ 10)\n",
    "\n",
    "\n",
    "* subsample: 트리를 만들기 위한 데이터 샘플링 비율(일반적으로 0.5 ~ 1)\n",
    "\n",
    "\n",
    "* max_leaf_node: 하나의 트리에서 node 개수\n",
    "\n",
    "\n",
    "* colsample_bytree[default=1]: 트리 생성을 위한 피처 샘플링 비율, 너무 많은 피쳐가 있는 경우 과적합 방지 효과(일반적으로 0.5 ~ 1)\n",
    "\n",
    "\n",
    "* colsample_bylevel: 각 level마다 샘플링 비율\n",
    "\n",
    "\n",
    "* lambda[default=1, alias:reg_lambda]: L2 Regularization 적용 값(클수록 underfitting)\n",
    "\n",
    "\n",
    "* alpha[default=0, alias: reg_alpha]: L1 Regularization 적용 값(클수록 underfitting)\n",
    "\n",
    "\n",
    "* scale_pos_weight: positive, negative weight 지정(비대칭한 클래스로 구성된 데이터 세트 균형 유지)"
   ]
  },
  {
   "cell_type": "markdown",
   "id": "isolated-clarity",
   "metadata": {},
   "source": [
    "**Learning Task Parameter**\n",
    "\n",
    "\n",
    "* object: 최솟값을 가져야할 손실 함수 정의. 이진 분류, 다중 분류에 따라 달라짐.\n",
    "\n",
    "\n",
    "* binary:logistic(이진 분류)\n",
    "\n",
    "\n",
    "* multi:softmax(다중 분류),  손실함수가 multi:softmax인 경우 레이블 클래스의 개수인 num_class 파라미터 지정.\n",
    "\n",
    "\n",
    "* multi-softprob(다중 확률), multi:softmax와 유사. 개별 레이블 클래스의 해당되는 예측 확률 반환\n",
    "\n",
    "\n",
    "* eval_metric: 평가 지표 정의, 회귀:RMSE, 분류 ERROR\n",
    "\n",
    "**eval_metric의 유형**\n",
    "\n",
    "\n",
    "* rmse – root mean square error\n",
    "\n",
    "\n",
    "* mae – mean absolute error\n",
    "\n",
    "\n",
    "* logloss – negative log-likelihood\n",
    "\n",
    "\n",
    "* error – Binary classification error rate (0.5 threshold)\n",
    "\n",
    "\n",
    "* merror – Multiclass classification error rate\n",
    "\n",
    "\n",
    "* mlogloss – Multiclass logloss\n",
    "\n",
    "\n",
    "* auc: Area under the curve"
   ]
  },
  {
   "cell_type": "markdown",
   "id": "focal-proposal",
   "metadata": {},
   "source": [
    "## 과적합 문제가 심할 경우\n",
    "---"
   ]
  },
  {
   "cell_type": "markdown",
   "id": "american-synthesis",
   "metadata": {},
   "source": [
    "일반적으로 뛰어난 알고리즘은 하이퍼 파라미터 튜닝의 필요가 적습니다. 하지만 과적합 문제가 심하다면 다음의 파라미터를 튜닝을 고려해야합니다.\n",
    "\n",
    "* eta값을 낮추고(0.01 ~ 0.1) num_round(n_estimator)를 높인다.\n",
    "\n",
    "\n",
    "* max_depth 를 낮춰 트리의 깊이를 제한.\n",
    "\n",
    "\n",
    "* min_child_weight 값을 높여 트리 분기를 제한.\n",
    "\n",
    "\n",
    "* gamma 값을 높임.\n",
    "\n",
    "\n",
    "* subsample과 colsample_bytree를 조정해 트리가 복잡해지는 것을 방지."
   ]
  },
  {
   "cell_type": "markdown",
   "id": "welsh-interface",
   "metadata": {},
   "source": [
    "# 파이썬 래퍼 XGBoost - 타이타닉 생존자 예측\n",
    "---"
   ]
  },
  {
   "cell_type": "markdown",
   "id": "agricultural-rocket",
   "metadata": {},
   "source": [
    "XGBoost는 자체적인 교차 검증, 성능 평가, 피처 중요도 시각화, 조기 중단 기능을 포함하고 있습니다.\n",
    "\n",
    "XGBoost로 타이타닉 데이터의 생존자 분류 모델을 만들고 앞서 언급한 기능들을 수행해보겠습니다."
   ]
  },
  {
   "cell_type": "code",
   "execution_count": 96,
   "id": "otherwise-liability",
   "metadata": {
    "ExecuteTime": {
     "end_time": "2021-04-12T14:06:48.016572Z",
     "start_time": "2021-04-12T14:06:47.935787Z"
    }
   },
   "outputs": [
    {
     "data": {
      "text/html": [
       "<div>\n",
       "<style scoped>\n",
       "    .dataframe tbody tr th:only-of-type {\n",
       "        vertical-align: middle;\n",
       "    }\n",
       "\n",
       "    .dataframe tbody tr th {\n",
       "        vertical-align: top;\n",
       "    }\n",
       "\n",
       "    .dataframe thead th {\n",
       "        text-align: right;\n",
       "    }\n",
       "</style>\n",
       "<table border=\"1\" class=\"dataframe\">\n",
       "  <thead>\n",
       "    <tr style=\"text-align: right;\">\n",
       "      <th></th>\n",
       "      <th>mean radius</th>\n",
       "      <th>mean texture</th>\n",
       "      <th>mean perimeter</th>\n",
       "      <th>mean area</th>\n",
       "      <th>mean smoothness</th>\n",
       "      <th>mean compactness</th>\n",
       "      <th>mean concavity</th>\n",
       "      <th>mean concave points</th>\n",
       "      <th>mean symmetry</th>\n",
       "      <th>mean fractal dimension</th>\n",
       "      <th>radius error</th>\n",
       "      <th>texture error</th>\n",
       "      <th>perimeter error</th>\n",
       "      <th>area error</th>\n",
       "      <th>smoothness error</th>\n",
       "      <th>compactness error</th>\n",
       "      <th>concavity error</th>\n",
       "      <th>concave points error</th>\n",
       "      <th>symmetry error</th>\n",
       "      <th>fractal dimension error</th>\n",
       "      <th>worst radius</th>\n",
       "      <th>worst texture</th>\n",
       "      <th>worst perimeter</th>\n",
       "      <th>worst area</th>\n",
       "      <th>worst smoothness</th>\n",
       "      <th>worst compactness</th>\n",
       "      <th>worst concavity</th>\n",
       "      <th>worst concave points</th>\n",
       "      <th>worst symmetry</th>\n",
       "      <th>worst fractal dimension</th>\n",
       "      <th>target</th>\n",
       "    </tr>\n",
       "  </thead>\n",
       "  <tbody>\n",
       "    <tr>\n",
       "      <th>0</th>\n",
       "      <td>17.99</td>\n",
       "      <td>10.38</td>\n",
       "      <td>122.80</td>\n",
       "      <td>1001.0</td>\n",
       "      <td>0.11840</td>\n",
       "      <td>0.27760</td>\n",
       "      <td>0.3001</td>\n",
       "      <td>0.14710</td>\n",
       "      <td>0.2419</td>\n",
       "      <td>0.07871</td>\n",
       "      <td>1.0950</td>\n",
       "      <td>0.9053</td>\n",
       "      <td>8.589</td>\n",
       "      <td>153.40</td>\n",
       "      <td>0.006399</td>\n",
       "      <td>0.04904</td>\n",
       "      <td>0.05373</td>\n",
       "      <td>0.01587</td>\n",
       "      <td>0.03003</td>\n",
       "      <td>0.006193</td>\n",
       "      <td>25.38</td>\n",
       "      <td>17.33</td>\n",
       "      <td>184.60</td>\n",
       "      <td>2019.0</td>\n",
       "      <td>0.1622</td>\n",
       "      <td>0.6656</td>\n",
       "      <td>0.7119</td>\n",
       "      <td>0.2654</td>\n",
       "      <td>0.4601</td>\n",
       "      <td>0.11890</td>\n",
       "      <td>0</td>\n",
       "    </tr>\n",
       "    <tr>\n",
       "      <th>1</th>\n",
       "      <td>20.57</td>\n",
       "      <td>17.77</td>\n",
       "      <td>132.90</td>\n",
       "      <td>1326.0</td>\n",
       "      <td>0.08474</td>\n",
       "      <td>0.07864</td>\n",
       "      <td>0.0869</td>\n",
       "      <td>0.07017</td>\n",
       "      <td>0.1812</td>\n",
       "      <td>0.05667</td>\n",
       "      <td>0.5435</td>\n",
       "      <td>0.7339</td>\n",
       "      <td>3.398</td>\n",
       "      <td>74.08</td>\n",
       "      <td>0.005225</td>\n",
       "      <td>0.01308</td>\n",
       "      <td>0.01860</td>\n",
       "      <td>0.01340</td>\n",
       "      <td>0.01389</td>\n",
       "      <td>0.003532</td>\n",
       "      <td>24.99</td>\n",
       "      <td>23.41</td>\n",
       "      <td>158.80</td>\n",
       "      <td>1956.0</td>\n",
       "      <td>0.1238</td>\n",
       "      <td>0.1866</td>\n",
       "      <td>0.2416</td>\n",
       "      <td>0.1860</td>\n",
       "      <td>0.2750</td>\n",
       "      <td>0.08902</td>\n",
       "      <td>0</td>\n",
       "    </tr>\n",
       "    <tr>\n",
       "      <th>2</th>\n",
       "      <td>19.69</td>\n",
       "      <td>21.25</td>\n",
       "      <td>130.00</td>\n",
       "      <td>1203.0</td>\n",
       "      <td>0.10960</td>\n",
       "      <td>0.15990</td>\n",
       "      <td>0.1974</td>\n",
       "      <td>0.12790</td>\n",
       "      <td>0.2069</td>\n",
       "      <td>0.05999</td>\n",
       "      <td>0.7456</td>\n",
       "      <td>0.7869</td>\n",
       "      <td>4.585</td>\n",
       "      <td>94.03</td>\n",
       "      <td>0.006150</td>\n",
       "      <td>0.04006</td>\n",
       "      <td>0.03832</td>\n",
       "      <td>0.02058</td>\n",
       "      <td>0.02250</td>\n",
       "      <td>0.004571</td>\n",
       "      <td>23.57</td>\n",
       "      <td>25.53</td>\n",
       "      <td>152.50</td>\n",
       "      <td>1709.0</td>\n",
       "      <td>0.1444</td>\n",
       "      <td>0.4245</td>\n",
       "      <td>0.4504</td>\n",
       "      <td>0.2430</td>\n",
       "      <td>0.3613</td>\n",
       "      <td>0.08758</td>\n",
       "      <td>0</td>\n",
       "    </tr>\n",
       "    <tr>\n",
       "      <th>3</th>\n",
       "      <td>11.42</td>\n",
       "      <td>20.38</td>\n",
       "      <td>77.58</td>\n",
       "      <td>386.1</td>\n",
       "      <td>0.14250</td>\n",
       "      <td>0.28390</td>\n",
       "      <td>0.2414</td>\n",
       "      <td>0.10520</td>\n",
       "      <td>0.2597</td>\n",
       "      <td>0.09744</td>\n",
       "      <td>0.4956</td>\n",
       "      <td>1.1560</td>\n",
       "      <td>3.445</td>\n",
       "      <td>27.23</td>\n",
       "      <td>0.009110</td>\n",
       "      <td>0.07458</td>\n",
       "      <td>0.05661</td>\n",
       "      <td>0.01867</td>\n",
       "      <td>0.05963</td>\n",
       "      <td>0.009208</td>\n",
       "      <td>14.91</td>\n",
       "      <td>26.50</td>\n",
       "      <td>98.87</td>\n",
       "      <td>567.7</td>\n",
       "      <td>0.2098</td>\n",
       "      <td>0.8663</td>\n",
       "      <td>0.6869</td>\n",
       "      <td>0.2575</td>\n",
       "      <td>0.6638</td>\n",
       "      <td>0.17300</td>\n",
       "      <td>0</td>\n",
       "    </tr>\n",
       "    <tr>\n",
       "      <th>4</th>\n",
       "      <td>20.29</td>\n",
       "      <td>14.34</td>\n",
       "      <td>135.10</td>\n",
       "      <td>1297.0</td>\n",
       "      <td>0.10030</td>\n",
       "      <td>0.13280</td>\n",
       "      <td>0.1980</td>\n",
       "      <td>0.10430</td>\n",
       "      <td>0.1809</td>\n",
       "      <td>0.05883</td>\n",
       "      <td>0.7572</td>\n",
       "      <td>0.7813</td>\n",
       "      <td>5.438</td>\n",
       "      <td>94.44</td>\n",
       "      <td>0.011490</td>\n",
       "      <td>0.02461</td>\n",
       "      <td>0.05688</td>\n",
       "      <td>0.01885</td>\n",
       "      <td>0.01756</td>\n",
       "      <td>0.005115</td>\n",
       "      <td>22.54</td>\n",
       "      <td>16.67</td>\n",
       "      <td>152.20</td>\n",
       "      <td>1575.0</td>\n",
       "      <td>0.1374</td>\n",
       "      <td>0.2050</td>\n",
       "      <td>0.4000</td>\n",
       "      <td>0.1625</td>\n",
       "      <td>0.2364</td>\n",
       "      <td>0.07678</td>\n",
       "      <td>0</td>\n",
       "    </tr>\n",
       "  </tbody>\n",
       "</table>\n",
       "</div>"
      ],
      "text/plain": [
       "   mean radius  mean texture  mean perimeter  ...  worst symmetry  worst fractal dimension  target\n",
       "0        17.99         10.38          122.80  ...          0.4601                  0.11890       0\n",
       "1        20.57         17.77          132.90  ...          0.2750                  0.08902       0\n",
       "2        19.69         21.25          130.00  ...          0.3613                  0.08758       0\n",
       "3        11.42         20.38           77.58  ...          0.6638                  0.17300       0\n",
       "4        20.29         14.34          135.10  ...          0.2364                  0.07678       0\n",
       "\n",
       "[5 rows x 31 columns]"
      ]
     },
     "execution_count": 96,
     "metadata": {},
     "output_type": "execute_result"
    }
   ],
   "source": [
    "# 분석에 사용할 라이브러리 로드\n",
    "import xgboost as xgb\n",
    "from xgboost import plot_importance\n",
    "import pandas as pd\n",
    "import numpy as np\n",
    "from sklearn.datasets import load_breast_cancer\n",
    "from sklearn.model_selection import train_test_split\n",
    "import warnings\n",
    "warnings.filterwarnings('ignore')\n",
    "\n",
    "# 유방암 데이터 로드\n",
    "data = load_breast_cancer()\n",
    "X_features = data.data\n",
    "y_label = data.target\n",
    "\n",
    "cancer_df = pd.DataFrame(data=X_features, columns=data.feature_names)\n",
    "cancer_df['target'] = y_label\n",
    "cancer_df.head()"
   ]
  },
  {
   "cell_type": "code",
   "execution_count": 99,
   "id": "advance-calvin",
   "metadata": {
    "ExecuteTime": {
     "end_time": "2021-04-12T14:07:02.308951Z",
     "start_time": "2021-04-12T14:07:02.292043Z"
    }
   },
   "outputs": [
    {
     "data": {
      "text/plain": [
       "array([0, 1])"
      ]
     },
     "execution_count": 99,
     "metadata": {},
     "output_type": "execute_result"
    }
   ],
   "source": [
    "# 0: 악성, 1:양성\n",
    "\n",
    "cancer_df['target'].unique()"
   ]
  },
  {
   "cell_type": "code",
   "execution_count": 101,
   "id": "familiar-moses",
   "metadata": {
    "ExecuteTime": {
     "end_time": "2021-04-12T14:07:05.489168Z",
     "start_time": "2021-04-12T14:07:05.478197Z"
    }
   },
   "outputs": [
    {
     "data": {
      "text/plain": [
       "1    357\n",
       "0    212\n",
       "Name: target, dtype: int64"
      ]
     },
     "execution_count": 101,
     "metadata": {},
     "output_type": "execute_result"
    }
   ],
   "source": [
    "cancer_df['target'].value_counts()"
   ]
  },
  {
   "cell_type": "code",
   "execution_count": 102,
   "id": "civil-swing",
   "metadata": {
    "ExecuteTime": {
     "end_time": "2021-04-12T14:07:07.215272Z",
     "start_time": "2021-04-12T14:07:07.197298Z"
    }
   },
   "outputs": [
    {
     "name": "stdout",
     "output_type": "stream",
     "text": [
      "(455, 30) (114, 30)\n"
     ]
    }
   ],
   "source": [
    "# 8:2의 비율로 학습 데이터와 테스트 데이터로 분할\n",
    "\n",
    "X_train, X_test, y_train, y_test  = train_test_split(X_features, y_label, test_size=0.2)\n",
    "\n",
    "print(X_train.shape, X_test.shape)"
   ]
  },
  {
   "cell_type": "code",
   "execution_count": 103,
   "id": "concrete-breathing",
   "metadata": {
    "ExecuteTime": {
     "end_time": "2021-04-12T14:07:07.781677Z",
     "start_time": "2021-04-12T14:07:07.760767Z"
    }
   },
   "outputs": [],
   "source": [
    "# 파이썬 래퍼 XGBoost는 학습, 테스트 데이터 세트를 위해 DMatrix를 별도로 생성\n",
    "\n",
    "dtrain = xgb.DMatrix(data=X_train, label=y_train)\n",
    "dtest = xgb.DMatrix(data=X_test, label=y_test)"
   ]
  },
  {
   "cell_type": "code",
   "execution_count": 94,
   "id": "acquired-pantyhose",
   "metadata": {
    "ExecuteTime": {
     "end_time": "2021-04-12T14:05:36.833473Z",
     "start_time": "2021-04-12T14:05:36.822503Z"
    }
   },
   "outputs": [],
   "source": [
    "# XGBoost에 사용할 하이퍼 파라미터 정의\n",
    "\n",
    "params = {\n",
    "    'max_depth':3,\n",
    "    'eta':0.1,\n",
    "    'objective':'binary:logistic',\n",
    "    'eval_metric':'logloss',\n",
    "    'early_stoppings':100\n",
    "}\n",
    "\n",
    "# 부스팅 반복 횟수 정의\n",
    "num_rounds = 400"
   ]
  },
  {
   "cell_type": "markdown",
   "id": "little-trinity",
   "metadata": {},
   "source": [
    "# 모델 학습\n",
    "---"
   ]
  },
  {
   "cell_type": "code",
   "execution_count": 18,
   "id": "latin-norfolk",
   "metadata": {
    "ExecuteTime": {
     "end_time": "2021-04-12T12:50:41.571524Z",
     "start_time": "2021-04-12T12:50:40.453517Z"
    }
   },
   "outputs": [
    {
     "name": "stdout",
     "output_type": "stream",
     "text": [
      "[21:50:41] WARNING: C:/Users/Administrator/workspace/xgboost-win64_release_1.3.0/src/learner.cc:541: \n",
      "Parameters: { early_stoppings } might not be used.\n",
      "\n",
      "  This may not be accurate due to some parameters are only used in language bindings but\n",
      "  passed down to XGBoost core.  Or some parameters are not used but slip through this\n",
      "  verification. Please open an issue if you find above cases.\n",
      "\n",
      "\n",
      "[0]\ttrain-logloss:0.61167\teval-logloss:0.61557\n",
      "[1]\ttrain-logloss:0.54454\teval-logloss:0.55246\n",
      "[2]\ttrain-logloss:0.48610\teval-logloss:0.49762\n",
      "[3]\ttrain-logloss:0.43665\teval-logloss:0.45182\n",
      "[4]\ttrain-logloss:0.39308\teval-logloss:0.41178\n",
      "[5]\ttrain-logloss:0.35489\teval-logloss:0.37620\n",
      "[6]\ttrain-logloss:0.32193\teval-logloss:0.34626\n",
      "[7]\ttrain-logloss:0.29454\teval-logloss:0.32036\n",
      "[8]\ttrain-logloss:0.26825\teval-logloss:0.29648\n",
      "[9]\ttrain-logloss:0.24571\teval-logloss:0.27736\n",
      "[10]\ttrain-logloss:0.22500\teval-logloss:0.25901\n",
      "[11]\ttrain-logloss:0.20686\teval-logloss:0.24390\n",
      "[12]\ttrain-logloss:0.19033\teval-logloss:0.22889\n",
      "[13]\ttrain-logloss:0.17621\teval-logloss:0.21660\n",
      "[14]\ttrain-logloss:0.16247\teval-logloss:0.20663\n",
      "[15]\ttrain-logloss:0.15065\teval-logloss:0.19806\n",
      "[16]\ttrain-logloss:0.13965\teval-logloss:0.19032\n",
      "[17]\ttrain-logloss:0.13017\teval-logloss:0.18228\n",
      "[18]\ttrain-logloss:0.12077\teval-logloss:0.17477\n",
      "[19]\ttrain-logloss:0.11290\teval-logloss:0.16972\n",
      "[20]\ttrain-logloss:0.10565\teval-logloss:0.16473\n",
      "[21]\ttrain-logloss:0.09870\teval-logloss:0.16050\n",
      "[22]\ttrain-logloss:0.09281\teval-logloss:0.15633\n",
      "[23]\ttrain-logloss:0.08691\teval-logloss:0.15193\n",
      "[24]\ttrain-logloss:0.08192\teval-logloss:0.14834\n",
      "[25]\ttrain-logloss:0.07748\teval-logloss:0.14573\n",
      "[26]\ttrain-logloss:0.07301\teval-logloss:0.14338\n",
      "[27]\ttrain-logloss:0.06874\teval-logloss:0.14060\n",
      "[28]\ttrain-logloss:0.06518\teval-logloss:0.13886\n",
      "[29]\ttrain-logloss:0.06137\teval-logloss:0.13724\n",
      "[30]\ttrain-logloss:0.05844\teval-logloss:0.13605\n",
      "[31]\ttrain-logloss:0.05550\teval-logloss:0.13457\n",
      "[32]\ttrain-logloss:0.05262\teval-logloss:0.13394\n",
      "[33]\ttrain-logloss:0.05011\teval-logloss:0.13311\n",
      "[34]\ttrain-logloss:0.04781\teval-logloss:0.13203\n",
      "[35]\ttrain-logloss:0.04582\teval-logloss:0.13157\n",
      "[36]\ttrain-logloss:0.04378\teval-logloss:0.13235\n",
      "[37]\ttrain-logloss:0.04187\teval-logloss:0.13136\n",
      "[38]\ttrain-logloss:0.04023\teval-logloss:0.13113\n",
      "[39]\ttrain-logloss:0.03865\teval-logloss:0.13062\n",
      "[40]\ttrain-logloss:0.03712\teval-logloss:0.13157\n",
      "[41]\ttrain-logloss:0.03567\teval-logloss:0.13098\n",
      "[42]\ttrain-logloss:0.03445\teval-logloss:0.13118\n",
      "[43]\ttrain-logloss:0.03320\teval-logloss:0.13043\n",
      "[44]\ttrain-logloss:0.03205\teval-logloss:0.13040\n",
      "[45]\ttrain-logloss:0.03092\teval-logloss:0.13007\n",
      "[46]\ttrain-logloss:0.02987\teval-logloss:0.12988\n",
      "[47]\ttrain-logloss:0.02888\teval-logloss:0.12966\n",
      "[48]\ttrain-logloss:0.02797\teval-logloss:0.13080\n",
      "[49]\ttrain-logloss:0.02706\teval-logloss:0.13065\n",
      "[50]\ttrain-logloss:0.02622\teval-logloss:0.13052\n",
      "[51]\ttrain-logloss:0.02548\teval-logloss:0.13061\n",
      "[52]\ttrain-logloss:0.02472\teval-logloss:0.13064\n",
      "[53]\ttrain-logloss:0.02401\teval-logloss:0.13064\n",
      "[54]\ttrain-logloss:0.02337\teval-logloss:0.13176\n",
      "[55]\ttrain-logloss:0.02265\teval-logloss:0.13153\n",
      "[56]\ttrain-logloss:0.02195\teval-logloss:0.13180\n",
      "[57]\ttrain-logloss:0.02142\teval-logloss:0.13207\n",
      "[58]\ttrain-logloss:0.02090\teval-logloss:0.13319\n",
      "[59]\ttrain-logloss:0.02035\teval-logloss:0.13329\n",
      "[60]\ttrain-logloss:0.01983\teval-logloss:0.13404\n",
      "[61]\ttrain-logloss:0.01939\teval-logloss:0.13478\n",
      "[62]\ttrain-logloss:0.01884\teval-logloss:0.13536\n",
      "[63]\ttrain-logloss:0.01845\teval-logloss:0.13520\n",
      "[64]\ttrain-logloss:0.01809\teval-logloss:0.13527\n",
      "[65]\ttrain-logloss:0.01766\teval-logloss:0.13545\n",
      "[66]\ttrain-logloss:0.01738\teval-logloss:0.13486\n",
      "[67]\ttrain-logloss:0.01700\teval-logloss:0.13446\n",
      "[68]\ttrain-logloss:0.01663\teval-logloss:0.13359\n",
      "[69]\ttrain-logloss:0.01629\teval-logloss:0.13354\n",
      "[70]\ttrain-logloss:0.01600\teval-logloss:0.13359\n",
      "[71]\ttrain-logloss:0.01567\teval-logloss:0.13276\n",
      "[72]\ttrain-logloss:0.01547\teval-logloss:0.13281\n",
      "[73]\ttrain-logloss:0.01524\teval-logloss:0.13271\n",
      "[74]\ttrain-logloss:0.01496\teval-logloss:0.13317\n",
      "[75]\ttrain-logloss:0.01469\teval-logloss:0.13316\n",
      "[76]\ttrain-logloss:0.01449\teval-logloss:0.13301\n",
      "[77]\ttrain-logloss:0.01430\teval-logloss:0.13289\n",
      "[78]\ttrain-logloss:0.01410\teval-logloss:0.13297\n",
      "[79]\ttrain-logloss:0.01391\teval-logloss:0.13284\n",
      "[80]\ttrain-logloss:0.01370\teval-logloss:0.13239\n",
      "[81]\ttrain-logloss:0.01351\teval-logloss:0.13205\n",
      "[82]\ttrain-logloss:0.01320\teval-logloss:0.13116\n",
      "[83]\ttrain-logloss:0.01305\teval-logloss:0.13185\n",
      "[84]\ttrain-logloss:0.01290\teval-logloss:0.13144\n",
      "[85]\ttrain-logloss:0.01271\teval-logloss:0.13125\n",
      "[86]\ttrain-logloss:0.01254\teval-logloss:0.13115\n",
      "[87]\ttrain-logloss:0.01238\teval-logloss:0.13077\n",
      "[88]\ttrain-logloss:0.01225\teval-logloss:0.13102\n",
      "[89]\ttrain-logloss:0.01204\teval-logloss:0.13036\n",
      "[90]\ttrain-logloss:0.01189\teval-logloss:0.13022\n",
      "[91]\ttrain-logloss:0.01177\teval-logloss:0.13044\n",
      "[92]\ttrain-logloss:0.01163\teval-logloss:0.13008\n",
      "[93]\ttrain-logloss:0.01152\teval-logloss:0.13033\n",
      "[94]\ttrain-logloss:0.01132\teval-logloss:0.13007\n",
      "[95]\ttrain-logloss:0.01120\teval-logloss:0.13022\n",
      "[96]\ttrain-logloss:0.01104\teval-logloss:0.13058\n",
      "[97]\ttrain-logloss:0.01091\teval-logloss:0.13033\n",
      "[98]\ttrain-logloss:0.01082\teval-logloss:0.13032\n",
      "[99]\ttrain-logloss:0.01072\teval-logloss:0.13065\n",
      "[100]\ttrain-logloss:0.01057\teval-logloss:0.13012\n",
      "[101]\ttrain-logloss:0.01047\teval-logloss:0.13026\n",
      "[102]\ttrain-logloss:0.01038\teval-logloss:0.13057\n",
      "[103]\ttrain-logloss:0.01025\teval-logloss:0.13094\n",
      "[104]\ttrain-logloss:0.01016\teval-logloss:0.13115\n",
      "[105]\ttrain-logloss:0.01008\teval-logloss:0.13093\n",
      "[106]\ttrain-logloss:0.00997\teval-logloss:0.13089\n",
      "[107]\ttrain-logloss:0.00989\teval-logloss:0.13121\n",
      "[108]\ttrain-logloss:0.00981\teval-logloss:0.13161\n",
      "[109]\ttrain-logloss:0.00970\teval-logloss:0.13216\n",
      "[110]\ttrain-logloss:0.00964\teval-logloss:0.13213\n",
      "[111]\ttrain-logloss:0.00954\teval-logloss:0.13209\n",
      "[112]\ttrain-logloss:0.00947\teval-logloss:0.13223\n",
      "[113]\ttrain-logloss:0.00941\teval-logloss:0.13267\n",
      "[114]\ttrain-logloss:0.00931\teval-logloss:0.13320\n",
      "[115]\ttrain-logloss:0.00927\teval-logloss:0.13300\n",
      "[116]\ttrain-logloss:0.00920\teval-logloss:0.13326\n",
      "[117]\ttrain-logloss:0.00911\teval-logloss:0.13378\n",
      "[118]\ttrain-logloss:0.00905\teval-logloss:0.13394\n",
      "[119]\ttrain-logloss:0.00901\teval-logloss:0.13411\n",
      "[120]\ttrain-logloss:0.00892\teval-logloss:0.13408\n",
      "[121]\ttrain-logloss:0.00889\teval-logloss:0.13389\n",
      "[122]\ttrain-logloss:0.00883\teval-logloss:0.13414\n",
      "[123]\ttrain-logloss:0.00874\teval-logloss:0.13465\n",
      "[124]\ttrain-logloss:0.00868\teval-logloss:0.13476\n",
      "[125]\ttrain-logloss:0.00861\teval-logloss:0.13490\n",
      "[126]\ttrain-logloss:0.00853\teval-logloss:0.13488\n",
      "[127]\ttrain-logloss:0.00848\teval-logloss:0.13527\n",
      "[128]\ttrain-logloss:0.00845\teval-logloss:0.13509\n",
      "[129]\ttrain-logloss:0.00838\teval-logloss:0.13557\n",
      "[130]\ttrain-logloss:0.00835\teval-logloss:0.13574\n",
      "[131]\ttrain-logloss:0.00831\teval-logloss:0.13608\n",
      "[132]\ttrain-logloss:0.00825\teval-logloss:0.13655\n",
      "[133]\ttrain-logloss:0.00822\teval-logloss:0.13637\n",
      "[134]\ttrain-logloss:0.00819\teval-logloss:0.13671\n",
      "[135]\ttrain-logloss:0.00813\teval-logloss:0.13654\n",
      "[136]\ttrain-logloss:0.00805\teval-logloss:0.13654\n",
      "[137]\ttrain-logloss:0.00803\teval-logloss:0.13670\n",
      "[138]\ttrain-logloss:0.00798\teval-logloss:0.13714\n",
      "[139]\ttrain-logloss:0.00793\teval-logloss:0.13744\n",
      "[140]\ttrain-logloss:0.00790\teval-logloss:0.13727\n",
      "[141]\ttrain-logloss:0.00787\teval-logloss:0.13759\n",
      "[142]\ttrain-logloss:0.00785\teval-logloss:0.13775\n",
      "[143]\ttrain-logloss:0.00779\teval-logloss:0.13820\n",
      "[144]\ttrain-logloss:0.00774\teval-logloss:0.13836\n",
      "[145]\ttrain-logloss:0.00767\teval-logloss:0.13836\n",
      "[146]\ttrain-logloss:0.00763\teval-logloss:0.13879\n",
      "[147]\ttrain-logloss:0.00761\teval-logloss:0.13894\n"
     ]
    }
   ],
   "source": [
    "# 조기 중단 기능을 위한 eval_set과 eval_metric 지정(wlist, logloss)\n",
    "\n",
    "wlist = [(dtrain, 'train'), (dtest, 'eval')]\n",
    "\n",
    "xgb_model = xgb.train(params = params, dtrain=dtrain, num_boost_round=num_rounds,\n",
    "                     early_stopping_rounds=100, evals=wlist)"
   ]
  },
  {
   "cell_type": "code",
   "execution_count": 21,
   "id": "understanding-surveillance",
   "metadata": {
    "ExecuteTime": {
     "end_time": "2021-04-12T12:53:25.567228Z",
     "start_time": "2021-04-12T12:53:25.553266Z"
    }
   },
   "outputs": [
    {
     "name": "stdout",
     "output_type": "stream",
     "text": [
      "[9.9982005e-01 2.1541916e-02 1.3450697e-03 9.9599946e-01 9.9804485e-01\n",
      " 9.9686545e-01 4.3589540e-04 9.9981362e-01 9.9717283e-01 9.9567860e-01]\n",
      "[1, 0, 0, 1, 1, 1, 0, 1, 1, 1]\n"
     ]
    }
   ],
   "source": [
    "# XGBoost는 예측 결과 추정 확률 값을 반환\n",
    "# predproba 10개 출력\n",
    "\n",
    "pred_probos = xgb_model.predict(dtest)\n",
    "print(pred_probos[:10])\n",
    "\n",
    "# 이진분류이므로 0과 1을 결정하는 로직 추가\n",
    "preds = [1 if x > 0.5 else 0 for x in pred_probos]\n",
    "print(preds[:10])"
   ]
  },
  {
   "cell_type": "markdown",
   "id": "spanish-steps",
   "metadata": {},
   "source": [
    "# 성능 측정\n",
    "---"
   ]
  },
  {
   "cell_type": "code",
   "execution_count": 28,
   "id": "clear-fiction",
   "metadata": {
    "ExecuteTime": {
     "end_time": "2021-04-12T12:55:40.852337Z",
     "start_time": "2021-04-12T12:55:40.823415Z"
    },
    "scrolled": true
   },
   "outputs": [
    {
     "name": "stdout",
     "output_type": "stream",
     "text": [
      "Confusion Matrix\n",
      "[[38  3]\n",
      " [ 1 72]]\n",
      "accuracy: 0.9649, precision: 0.9600, recall: 0.9863, f1: 0.9730, roc_auc: 0.9826\n"
     ]
    }
   ],
   "source": [
    "# 다양한 오차 측정 지표를 확인하기 위한 함수 정의\n",
    "\n",
    "from sklearn.metrics import *\n",
    "\n",
    "def get_clf_eval(y_test, pred=None, pred_proba=None): \n",
    "    confusion = confusion_matrix(y_test, pred) \n",
    "    accuracy = accuracy_score(y_test, pred) \n",
    "    precision = precision_score(y_test, pred) \n",
    "    recall = recall_score(y_test, pred) \n",
    "    f1 = f1_score(y_test, pred) \n",
    "    # ROC AUC \n",
    "    roc_auc = roc_auc_score(y_test, pred_proba) \n",
    "    \n",
    "    print('Confusion Matrix') \n",
    "    print(confusion) \n",
    "    print('accuracy: {0:.4f}, precision: {1:.4f}, recall: {2:.4f}, f1: {3:.4f}, roc_auc: {4:.4f}'.format( accuracy, precision, recall, f1, roc_auc))\n",
    "    \n",
    "    \n",
    "get_clf_eval(y_test, preds, pred_probos)"
   ]
  },
  {
   "cell_type": "markdown",
   "id": "hungry-return",
   "metadata": {},
   "source": [
    "# 특성 중요도 시각화\n",
    "----"
   ]
  },
  {
   "cell_type": "code",
   "execution_count": 32,
   "id": "adjusted-words",
   "metadata": {
    "ExecuteTime": {
     "end_time": "2021-04-12T12:57:20.822394Z",
     "start_time": "2021-04-12T12:57:20.424458Z"
    }
   },
   "outputs": [
    {
     "data": {
      "text/plain": [
       "<AxesSubplot:title={'center':'Feature importance'}, xlabel='F score', ylabel='Features'>"
      ]
     },
     "execution_count": 32,
     "metadata": {},
     "output_type": "execute_result"
    },
    {
     "data": {
      "image/png": "[encoded data removed]",
      "text/plain": [
       "<Figure size 720x864 with 1 Axes>"
      ]
     },
     "metadata": {
      "needs_background": "light"
     },
     "output_type": "display_data"
    }
   ],
   "source": [
    "# XGBoost는 f1 스코어를 기반으로 피처 중요도 시각화 지원\n",
    "\n",
    "from xgboost import plot_importance\n",
    "\n",
    "import matplotlib.pyplot as plt\n",
    "%matplotlib inline\n",
    "\n",
    "fig, ax = plt.subplots(figsize=(10, 12))\n",
    "plot_importance(xgb_model, ax=ax)"
   ]
  },
  {
   "cell_type": "code",
   "execution_count": null,
   "id": "selected-extent",
   "metadata": {},
   "outputs": [],
   "source": [
    "# 아래 피쳐들이 f1스코어를 기준으로 가장 중요한 상위 5가지 피처"
   ]
  },
  {
   "cell_type": "code",
   "execution_count": 56,
   "id": "fatal-translator",
   "metadata": {
    "ExecuteTime": {
     "end_time": "2021-04-12T13:20:40.690885Z",
     "start_time": "2021-04-12T13:20:40.685896Z"
    }
   },
   "outputs": [
    {
     "data": {
      "text/plain": [
       "'mean concave points'"
      ]
     },
     "execution_count": 56,
     "metadata": {},
     "output_type": "execute_result"
    }
   ],
   "source": [
    "cancer_df.columns[7]"
   ]
  },
  {
   "cell_type": "code",
   "execution_count": 55,
   "id": "cheap-council",
   "metadata": {
    "ExecuteTime": {
     "end_time": "2021-04-12T13:20:24.762837Z",
     "start_time": "2021-04-12T13:20:24.753863Z"
    }
   },
   "outputs": [
    {
     "data": {
      "text/plain": [
       "'mean texture'"
      ]
     },
     "execution_count": 55,
     "metadata": {},
     "output_type": "execute_result"
    }
   ],
   "source": [
    "cancer_df.columns[1]"
   ]
  },
  {
   "cell_type": "code",
   "execution_count": 54,
   "id": "designed-evening",
   "metadata": {
    "ExecuteTime": {
     "end_time": "2021-04-12T13:20:15.431781Z",
     "start_time": "2021-04-12T13:20:15.416821Z"
    }
   },
   "outputs": [
    {
     "data": {
      "text/plain": [
       "'worst area'"
      ]
     },
     "execution_count": 54,
     "metadata": {},
     "output_type": "execute_result"
    }
   ],
   "source": [
    "cancer_df.columns[23]"
   ]
  },
  {
   "cell_type": "code",
   "execution_count": 53,
   "id": "chief-turner",
   "metadata": {
    "ExecuteTime": {
     "end_time": "2021-04-12T13:20:11.687389Z",
     "start_time": "2021-04-12T13:20:11.672389Z"
    }
   },
   "outputs": [
    {
     "data": {
      "text/plain": [
       "'area error'"
      ]
     },
     "execution_count": 53,
     "metadata": {},
     "output_type": "execute_result"
    }
   ],
   "source": [
    "cancer_df.columns[13]"
   ]
  },
  {
   "cell_type": "code",
   "execution_count": 52,
   "id": "satisfied-elite",
   "metadata": {
    "ExecuteTime": {
     "end_time": "2021-04-12T13:19:58.185964Z",
     "start_time": "2021-04-12T13:19:58.169038Z"
    }
   },
   "outputs": [
    {
     "data": {
      "text/plain": [
       "'worst texture'"
      ]
     },
     "execution_count": 52,
     "metadata": {},
     "output_type": "execute_result"
    }
   ],
   "source": [
    "cancer_df.columns[21]"
   ]
  },
  {
   "cell_type": "markdown",
   "id": "minimal-street",
   "metadata": {},
   "source": [
    "# 최적의 파라미터\n",
    "---"
   ]
  },
  {
   "cell_type": "code",
   "execution_count": 59,
   "id": "alternative-average",
   "metadata": {
    "ExecuteTime": {
     "end_time": "2021-04-12T13:22:00.420645Z",
     "start_time": "2021-04-12T13:22:00.410672Z"
    }
   },
   "outputs": [
    {
     "data": {
      "text/plain": [
       "<function xgboost.training.cv(params, dtrain, num_boost_round=10, nfold=3, stratified=False, folds=None, metrics=(), obj=None, feval=None, maximize=None, early_stopping_rounds=None, fpreproc=None, as_pandas=True, verbose_eval=None, show_stdv=True, seed=0, callbacks=None, shuffle=True)>"
      ]
     },
     "execution_count": 59,
     "metadata": {},
     "output_type": "execute_result"
    }
   ],
   "source": [
    "# 최적 파라미터를 구할 수 있는 방법을 cv API로 제공\n",
    "\n",
    "xgb.cv"
   ]
  }
 ],
 "metadata": {
  "kernelspec": {
   "display_name": "Python 3",
   "language": "python",
   "name": "python3"
  },
  "language_info": {
   "codemirror_mode": {
    "name": "ipython",
    "version": 3
   },
   "file_extension": ".py",
   "mimetype": "text/x-python",
   "name": "python",
   "nbconvert_exporter": "python",
   "pygments_lexer": "ipython3",
   "version": "3.7.10"
  },
  "toc": {
   "base_numbering": 1,
   "nav_menu": {},
   "number_sections": true,
   "sideBar": true,
   "skip_h1_title": false,
   "title_cell": "Table of Contents",
   "title_sidebar": "Contents",
   "toc_cell": false,
   "toc_position": {},
   "toc_section_display": true,
   "toc_window_display": false
  },
  "varInspector": {
   "cols": {
    "lenName": 16,
    "lenType": 16,
    "lenVar": 40
   },
   "kernels_config": {
    "python": {
     "delete_cmd_postfix": "",
     "delete_cmd_prefix": "del ",
     "library": "var_list.py",
     "varRefreshCmd": "print(var_dic_list())"
    },
    "r": {
     "delete_cmd_postfix": ") ",
     "delete_cmd_prefix": "rm(",
     "library": "var_list.r",
     "varRefreshCmd": "cat(var_dic_list()) "
    }
   },
   "types_to_exclude": [
    "module",
    "function",
    "builtin_function_or_method",
    "instance",
    "_Feature"
   ],
   "window_display": false
  }
 },
 "nbformat": 4,
 "nbformat_minor": 5
}
