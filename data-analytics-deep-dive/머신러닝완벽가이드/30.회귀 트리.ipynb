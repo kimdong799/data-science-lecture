{
 "cells": [
  {
   "cell_type": "markdown",
   "id": "social-humor",
   "metadata": {},
   "source": [
    "# 회귀 트리\n",
    "---"
   ]
  },
  {
   "cell_type": "markdown",
   "id": "digital-mailing",
   "metadata": {},
   "source": [
    "`회귀 트리`란 일반적인 결정 트리와 같이 **트리를 기반으로 하는 회귀 방식 모델**입니다. \n",
    "\n",
    "따라서 회귀 트리는 회귀 계수를 기반으로 하는 회귀 함수를 도출하는 것이 아닌 **트리를 이용하는 방식으로 동작하여 회귀 예측**을 진행합니다."
   ]
  },
  {
   "cell_type": "markdown",
   "id": "middle-poster",
   "metadata": {},
   "source": [
    "다만 결정 트리의 경우 리프 노드에 속한 특정 클래스의 레이블을 결정하는 반면에 **회귀 트리의 경우 리프 노드에 속하는 데이터의 평균값을 이용해 예측값을 계산**한다는 차이점이 있습니다."
   ]
  },
  {
   "attachments": {
    "image.png": {
     "image/png": "[encoded data removed]"
    }
   },
   "cell_type": "markdown",
   "id": "downtown-berlin",
   "metadata": {},
   "source": [
    "![image.png](attachment:image.png)"
   ]
  },
  {
   "cell_type": "markdown",
   "id": "adverse-trustee",
   "metadata": {},
   "source": [
    "위와 같이 2차 평면도 위에 데이터가 존재한다고 가정할 때 각 Split과 같이 트리 분할이 완료된 상태에서 리프 노드에 해당하는 데이터 값의 평균 값을 최종 리프 노드 값으로 사용하는 것이 바로 회귀 트리의 원리입니다."
   ]
  },
  {
   "cell_type": "markdown",
   "id": "equivalent-scholar",
   "metadata": {},
   "source": [
    "# 그 외의 Regressor Class\n",
    "---"
   ]
  },
  {
   "cell_type": "markdown",
   "id": "saving-chorus",
   "metadata": {},
   "source": [
    "분류 실습에서 사용한 Decision Tree, Gradient Boosting, XGBoost, LightGBM 모델 모두 Regressor 클래스로 회귀 문제에 사용 가능합니다."
   ]
  },
  {
   "cell_type": "markdown",
   "id": "happy-bahrain",
   "metadata": {},
   "source": [
    "실제 예시를 위해 여러 Regressor를 이용해 Boston 주택 가격 예측을 진행하겠습니다."
   ]
  },
  {
   "cell_type": "code",
   "execution_count": 124,
   "id": "subtle-divide",
   "metadata": {
    "ExecuteTime": {
     "end_time": "2021-06-21T05:06:27.586568Z",
     "start_time": "2021-06-21T05:06:27.546165Z"
    }
   },
   "outputs": [],
   "source": [
    "from sklearn.datasets import load_boston\n",
    "from sklearn.model_selection import cross_val_score\n",
    "from sklearn.ensemble import RandomForestRegressor\n",
    "from sklearn.ensemble import GradientBoostingRegressor\n",
    "from sklearn.tree import DecisionTreeRegressor\n",
    "from xgboost import XGBRegressor\n",
    "from lightgbm import LGBMRegressor\n",
    "import pandas as pd\n",
    "import numpy as np\n",
    "\n",
    "# Bostn 주택가격 데이터 로드\n",
    "boston = load_boston()\n",
    "bostonDF = pd.DataFrame(boston.data, columns = boston.feature_names)\n",
    "\n",
    "bostonDF['PRICE'] = boston.target\n",
    "y_target = bostonDF['PRICE']\n",
    "X_data = bostonDF.drop(['PRICE'], axis=1, inplace=False)\n",
    "\n",
    "# 모델 생성\n",
    "rf = RandomForestRegressor(n_estimators = 1000)\n",
    "dt = DecisionTreeRegressor(max_depth = 4)\n",
    "gb = GradientBoostingRegressor(n_estimators = 1000)\n",
    "xgb = XGBRegressor(n_estimators = 1000)\n",
    "lgb = LGBMRegressor(n_estimators = 1000)\n",
    "\n",
    "def get_model_cv_prediction(model, X_data, y_target):\n",
    "    neg_mse_scores=cross_val_score(model, X_data, y_target, scoring = 'neg_mean_squared_error', cv=5)\n",
    "    rmse_scores = np.sqrt(-1 * neg_mse_scores)\n",
    "    avg_rmse = np.mean(rmse_scores)\n",
    "    print('####', model.__class__.__name__, '####')\n",
    "    print('5 fold 교차검증 평균 RMSE :{:.3f}'.format(avg_rmse))"
   ]
  },
  {
   "cell_type": "code",
   "execution_count": 125,
   "id": "proof-adobe",
   "metadata": {
    "ExecuteTime": {
     "end_time": "2021-06-21T05:06:45.396618Z",
     "start_time": "2021-06-21T05:06:27.588567Z"
    }
   },
   "outputs": [
    {
     "name": "stdout",
     "output_type": "stream",
     "text": [
      "#### RandomForestRegressor ####\n",
      "5 fold 교차검증 평균 RMSE :4.443\n",
      "#### DecisionTreeRegressor ####\n",
      "5 fold 교차검증 평균 RMSE :6.070\n",
      "#### GradientBoostingRegressor ####\n",
      "5 fold 교차검증 평균 RMSE :4.223\n",
      "#### XGBRegressor ####\n",
      "5 fold 교차검증 평균 RMSE :4.251\n",
      "#### LGBMRegressor ####\n",
      "5 fold 교차검증 평균 RMSE :4.646\n"
     ]
    }
   ],
   "source": [
    "models = [rf, dt, gb, xgb, lgb]\n",
    "\n",
    "for model in models:\n",
    "    get_model_cv_prediction(model, X_data, y_target)"
   ]
  },
  {
   "cell_type": "markdown",
   "id": "operating-track",
   "metadata": {},
   "source": [
    "회귀 트리의 Regressor 클래스는 회귀 계수를 이용하지 않기 때문에 coef_ 속성을 사용할 수 없지만 반면 트리 기반 모델이기 때문에 feature_importances_를 이용해 피처 중요도를 확인할 수 있습니다."
   ]
  },
  {
   "cell_type": "code",
   "execution_count": 126,
   "id": "hispanic-binding",
   "metadata": {
    "ExecuteTime": {
     "end_time": "2021-06-21T05:06:48.163529Z",
     "start_time": "2021-06-21T05:06:45.398614Z"
    }
   },
   "outputs": [
    {
     "data": {
      "text/plain": [
       "<AxesSubplot:>"
      ]
     },
     "execution_count": 126,
     "metadata": {},
     "output_type": "execute_result"
    },
    {
     "data": {
      "image/png": "[encoded data removed]",
      "text/plain": [
       "<Figure size 432x288 with 1 Axes>"
      ]
     },
     "metadata": {
      "needs_background": "light"
     },
     "output_type": "display_data"
    }
   ],
   "source": [
    "import seaborn as sns\n",
    "\n",
    "rf.fit(X_data, y_target)\n",
    "\n",
    "feature_series = pd.Series(data=rf.feature_importances_, index = X_data.columns)\n",
    "feature_series = feature_series.sort_values(ascending=False)\n",
    "sns.barplot(x=feature_series, y=feature_series.index)"
   ]
  },
  {
   "cell_type": "markdown",
   "id": "played-dining",
   "metadata": {},
   "source": [
    "# 회귀 트리의 예측값 판단 시각화\n",
    "---"
   ]
  },
  {
   "cell_type": "code",
   "execution_count": 127,
   "id": "bound-worship",
   "metadata": {
    "ExecuteTime": {
     "end_time": "2021-06-21T05:06:48.275237Z",
     "start_time": "2021-06-21T05:06:48.165475Z"
    }
   },
   "outputs": [
    {
     "name": "stdout",
     "output_type": "stream",
     "text": [
      "(100, 2)\n"
     ]
    },
    {
     "data": {
      "text/plain": [
       "<matplotlib.collections.PathCollection at 0x1e352c4c288>"
      ]
     },
     "execution_count": 127,
     "metadata": {},
     "output_type": "execute_result"
    },
    {
     "data": {
      "image/png": "[encoded data removed]",
      "text/plain": [
       "<Figure size 432x288 with 1 Axes>"
      ]
     },
     "metadata": {
      "needs_background": "light"
     },
     "output_type": "display_data"
    }
   ],
   "source": [
    "bostonDF_sample = bostonDF[['RM', 'PRICE']]\n",
    "bostonDF_sample = bostonDF_sample.sample(n=100)\n",
    "print(bostonDF_sample.shape)\n",
    "\n",
    "plt.scatter(bostonDF_sample.RM, bostonDF_sample.PRICE)"
   ]
  },
  {
   "cell_type": "code",
   "execution_count": 128,
   "id": "honey-roommate",
   "metadata": {
    "ExecuteTime": {
     "end_time": "2021-06-21T05:06:48.291194Z",
     "start_time": "2021-06-21T05:06:48.277231Z"
    }
   },
   "outputs": [],
   "source": [
    "import numpy as np\n",
    "from sklearn.linear_model import LinearRegression\n",
    "\n",
    "# 선형 회귀와 결정트리 기반 Regressor 생성\n",
    "lr_reg = LinearRegression()\n",
    "rf_reg2 = DecisionTreeRegressor(max_depth=2)\n",
    "rf_reg7 = DecisionTreeRegressor(max_depth=7)\n",
    "\n",
    "# 실제 예측을 적용할 테스트 데이터셋을 4.5에서 8.5까지 100개 데이터셋으로 생성\n",
    "X_test = np.arange(4.5, 8.5, 0.04).reshape(-1, 1)\n",
    "\n",
    "# 보스턴 데이터에서 시각화를 위해 RM피처만 사용\n",
    "X_feature = bostonDF_sample['RM'].values.reshape(-1, 1)\n",
    "y_target = bostonDF_sample['PRICE'].values.reshape(-1, 1)\n",
    "\n",
    "# 학습 및 예측\n",
    "lr_reg.fit(X_feature, y_target)\n",
    "rf_reg2.fit(X_feature, y_target)\n",
    "rf_reg7.fit(X_feature, y_target)\n",
    "\n",
    "pred_lr = lr_reg.predict(X_test)\n",
    "pred_rf2 = rf_reg2.predict(X_test)\n",
    "pred_rf7 = rf_reg7.predict(X_test)"
   ]
  },
  {
   "cell_type": "markdown",
   "id": "different-suspect",
   "metadata": {},
   "source": [
    "각 모델을 이용해 예측한 PRICE 회귀선을 시각화합니다."
   ]
  },
  {
   "cell_type": "code",
   "execution_count": 137,
   "id": "stock-stock",
   "metadata": {
    "ExecuteTime": {
     "end_time": "2021-06-21T05:10:22.755186Z",
     "start_time": "2021-06-21T05:10:22.523878Z"
    }
   },
   "outputs": [
    {
     "data": {
      "text/plain": [
       "[<matplotlib.lines.Line2D at 0x1e3584a0388>]"
      ]
     },
     "execution_count": 137,
     "metadata": {},
     "output_type": "execute_result"
    },
    {
     "data": {
      "image/png": "[encoded data removed]",
      "text/plain": [
       "<Figure size 1008x288 with 3 Axes>"
      ]
     },
     "metadata": {
      "needs_background": "light"
     },
     "output_type": "display_data"
    }
   ],
   "source": [
    "fig, (ax1, ax2, ax3) = plt.subplots(figsize=(14, 4), ncols=3)\n",
    "\n",
    "# X축 값을 4.5 ~ 8.5로 변환하며 입력했을 때 선형 회귀외 결정 트리 회귀 예측선 시각화\n",
    "# 선형회귀로 학습된 모델 회귀 예측선\n",
    "ax1.set_title('Linear Regression')\n",
    "ax1.scatter(bostonDF_sample.RM, bostonDF_sample.PRICE, c='darkorange')\n",
    "ax1.plot(X_test, pred_lr, label='linear', linewidth=2)\n",
    "\n",
    "# DT의 max_depth를 2로 했을 때의 회귀 예측선\n",
    "ax2.set_title('Decision Tree Regression: \\n max_depth=2')\n",
    "ax2.scatter(bostonDF_sample.RM, bostonDF_sample.PRICE, c='darkorange')\n",
    "ax2.plot(X_test, pred_rf2, label='max_depth=2', linewidth=2)\n",
    "\n",
    "# 선형회귀로 학습된 모델 회귀 예측선\n",
    "ax3.set_title('Decision Tree Regression: \\n max_depth=7')\n",
    "ax3.scatter(bostonDF_sample.RM, bostonDF_sample.PRICE, c='darkorange')\n",
    "ax3.plot(X_test, pred_rf7, label='max_depth=7', linewidth=2)"
   ]
  },
  {
   "cell_type": "markdown",
   "id": "competitive-allergy",
   "metadata": {},
   "source": [
    "위 시각화 결과처럼 선형회귀는 예측 회귀선을 표현하지만 Tree Regressor의 경우 시각화 결과처럼 **분할되는 노드에 따라 가지를 만들면서 계단 형식의 회귀선이 생성**됩니다. \n",
    "\n",
    "트리 기반 모델의 경우 max_depth가 깊을수록 과적합 이슈가 발생하는데 Tree Regressor의 경우도 마찬가지로 max_depth = 7 모델의 회귀선과 같이 과적합 문제가 발생하는 것을 확인할 수 있습니다."
   ]
  },
  {
   "cell_type": "code",
   "execution_count": null,
   "id": "electronic-border",
   "metadata": {},
   "outputs": [],
   "source": []
  }
 ],
 "metadata": {
  "kernelspec": {
   "display_name": "Python 3",
   "language": "python",
   "name": "python3"
  },
  "language_info": {
   "codemirror_mode": {
    "name": "ipython",
    "version": 3
   },
   "file_extension": ".py",
   "mimetype": "text/x-python",
   "name": "python",
   "nbconvert_exporter": "python",
   "pygments_lexer": "ipython3",
   "version": "3.7.10"
  },
  "toc": {
   "base_numbering": 1,
   "nav_menu": {},
   "number_sections": true,
   "sideBar": true,
   "skip_h1_title": false,
   "title_cell": "Table of Contents",
   "title_sidebar": "Contents",
   "toc_cell": false,
   "toc_position": {},
   "toc_section_display": true,
   "toc_window_display": false
  },
  "varInspector": {
   "cols": {
    "lenName": 16,
    "lenType": 16,
    "lenVar": 40
   },
   "kernels_config": {
    "python": {
     "delete_cmd_postfix": "",
     "delete_cmd_prefix": "del ",
     "library": "var_list.py",
     "varRefreshCmd": "print(var_dic_list())"
    },
    "r": {
     "delete_cmd_postfix": ") ",
     "delete_cmd_prefix": "rm(",
     "library": "var_list.r",
     "varRefreshCmd": "cat(var_dic_list()) "
    }
   },
   "types_to_exclude": [
    "module",
    "function",
    "builtin_function_or_method",
    "instance",
    "_Feature"
   ],
   "window_display": false
  }
 },
 "nbformat": 4,
 "nbformat_minor": 5
}
