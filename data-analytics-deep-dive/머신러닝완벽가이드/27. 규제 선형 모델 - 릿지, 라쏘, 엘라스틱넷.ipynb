{
 "cells": [
  {
   "cell_type": "markdown",
   "id": "opposite-phase",
   "metadata": {},
   "source": [
    "# 비용 함수 목표\n",
    "---"
   ]
  },
  {
   "cell_type": "markdown",
   "id": "sized-final",
   "metadata": {},
   "source": [
    "이전 포스팅에서 어떤 Regression 모델이 좋은 모델인지에 대해서 알아보는 시간을 가졌습니다.\n",
    "\n",
    "어떤 Regression 모델이 좋은 모델일까? 라는 질문에 대해 **다항 회귀의 Degree에 대한 이슈**가 발생한다는 것을 알게 되었습니다. \n",
    "\n",
    "지난 포스팅의 핵심을 살펴보자면 **Degree를 지나치게 낮게 가져가는 경우 너무 단순한 모델이 생성되어 Underfitting 되기 때문에 고편향(High Bias)성**을 가지게 됩니다.  \n",
    "\n",
    "반대로 **Degree를 너무 높게 가져가는 경우 지나치게 학습 데이터에 fit한 모델이 생성되어 Overfitting 문제가 발생하고 고분산(High Variace)성**을 가지게 됩니다."
   ]
  },
  {
   "cell_type": "markdown",
   "id": "prospective-planner",
   "metadata": {},
   "source": [
    "따라서 좋은 회귀 모델을 만들기 위해선 선형 모델의 **비용함수(RSS)를 최소화 하면서도 회귀 계수 값이 커지지 않는 균형점**을 찾아야합니다."
   ]
  },
  {
   "cell_type": "markdown",
   "id": "metric-senegal",
   "metadata": {},
   "source": [
    "그 균형점을 찾기 위한 방법으로 **회귀 계수의 크기를 제어하면서 과적합을 개선하기 위해 비용(Cost)함수 목표를 다음과 같이 변경**할 수 있습니다."
   ]
  },
  {
   "attachments": {
    "image.png": {
     "image/png": "[encoded data removed]"
    }
   },
   "cell_type": "markdown",
   "id": "parallel-burns",
   "metadata": {},
   "source": [
    "![image.png](attachment:image.png)"
   ]
  },
  {
   "cell_type": "markdown",
   "id": "infinite-drove",
   "metadata": {},
   "source": [
    "위 수식에서 **`alpha`**는 **`학습 데이터 적합 정도와 회귀 계수의 크기를 제어하는 튜닝 파라미터`**입니다."
   ]
  },
  {
   "cell_type": "markdown",
   "id": "afraid-manitoba",
   "metadata": {},
   "source": [
    "위 수식의 최소값을 만족하는 W 벡터를 찾기 위해 alpha 값이 어떤 역할을 하는지 알아보겠습니다."
   ]
  },
  {
   "cell_type": "markdown",
   "id": "portuguese-cement",
   "metadata": {},
   "source": [
    "먼저 **alpha 값이 0 또는 0에 수렴**하는 매우 작은 값이라면 위 수식은 다음과 같이 변합니다."
   ]
  },
  {
   "attachments": {
    "image.png": {
     "image/png": "[encoded data removed]"
    }
   },
   "cell_type": "markdown",
   "id": "posted-worthy",
   "metadata": {},
   "source": [
    "![image.png](attachment:image.png)"
   ]
  },
  {
   "cell_type": "markdown",
   "id": "verbal-signature",
   "metadata": {},
   "source": [
    "반면 **alpha 값이 무한대에 가까운** 매우 큰 값이라면 `RSS(W)`에 비해 아래의 값이 비정상적으로 커지게 됩니다."
   ]
  },
  {
   "attachments": {
    "image.png": {
     "image/png": "[encoded data removed]"
    }
   },
   "cell_type": "markdown",
   "id": "czech-saturday",
   "metadata": {},
   "source": [
    "![image.png](attachment:image.png)"
   ]
  },
  {
   "cell_type": "markdown",
   "id": "floppy-roberts",
   "metadata": {},
   "source": [
    "따라서 **alpha 값을 크게 가져간다면 회귀 계수 W를 작게 가져가는 것으로 과적합을 개선**할 수 있으며 **alpha 값을 작게 가져가는 경우 회귀 계수 W의 값이 커져도 어느 정도 상쇄**가 가능하여 데이터 적합을 개선할 수 있게 됩니다."
   ]
  },
  {
   "cell_type": "markdown",
   "id": "subject-boost",
   "metadata": {},
   "source": [
    "  "
   ]
  },
  {
   "cell_type": "markdown",
   "id": "analyzed-absorption",
   "metadata": {},
   "source": [
    "이처럼 alhpa 값을 0에서부터 지속적으로 증가시켜 회귀 계수 값의 크기를 감소시키는 것이 가능하며 비용 함수에 **alhpa 값으로 패널티를 부여해 회귀 계수 값의 크기를 감소**시켜 과적합을 개선하는 방법을 **규제(Regularization)** 이라고 합니다."
   ]
  },
  {
   "cell_type": "markdown",
   "id": "geological-marshall",
   "metadata": {},
   "source": [
    "여기서 규제에는 L1 규제와 L2 규제로 나뉘는데 L1 규제는 아래의 식과 같이 W의 절댓값에 대해 패널티를 부여하는 규제 방법으로 영향력이 크지 않은 회귀 계수 값을 0으로 변환하며 **L1 규제를 적용한 회귀를 라쏘(Lasso) 회귀**라 부릅니다."
   ]
  },
  {
   "attachments": {
    "image.png": {
     "image/png": "[encoded data removed]"
    }
   },
   "cell_type": "markdown",
   "id": "sitting-nepal",
   "metadata": {},
   "source": [
    "![image.png](attachment:image.png)"
   ]
  },
  {
   "cell_type": "markdown",
   "id": "legendary-creature",
   "metadata": {
    "ExecuteTime": {
     "end_time": "2021-06-20T04:03:00.165194Z",
     "start_time": "2021-06-20T04:03:00.127264Z"
    }
   },
   "source": [
    "이어서 L2 규제는 아래의 식과 같이 W의 제곱에 대해 패널티를 부여하는 방법을 사용하며 **L2 규제를 적용한 회귀를 릿지(RIdge) 회귀**라 부릅니다."
   ]
  },
  {
   "attachments": {
    "image.png": {
     "image/png": "[encoded data removed]"
    }
   },
   "cell_type": "markdown",
   "id": "vocational-logic",
   "metadata": {},
   "source": [
    "![image.png](attachment:image.png)"
   ]
  },
  {
   "cell_type": "markdown",
   "id": "early-visit",
   "metadata": {},
   "source": [
    "# 릿지 회귀(Ridge)\n",
    "---"
   ]
  },
  {
   "cell_type": "markdown",
   "id": "minor-defendant",
   "metadata": {
    "ExecuteTime": {
     "end_time": "2021-06-20T04:04:23.930515Z",
     "start_time": "2021-06-20T04:04:23.912564Z"
    }
   },
   "source": [
    "앞에서도 설명했듯이 릿지 회귀는 L2 규제를 이용한 회귀로 Ridge 클래스의 주요 생성 파라미터는 alpha입니다."
   ]
  },
  {
   "cell_type": "markdown",
   "id": "assigned-binding",
   "metadata": {},
   "source": [
    "따라서 **릿지 회귀는 alpha 값이 커질수록 회귀 계수 값을 작게 만든다는 특징**이 있습니다."
   ]
  },
  {
   "cell_type": "markdown",
   "id": "optional-notice",
   "metadata": {},
   "source": [
    "릿지 회귀 실습을 위해 boston 주택 가격 데이터를 로드하고 이를 Ridge 회귀 모델로 학습해 cross_val_score() 함수로 평가합니다."
   ]
  },
  {
   "cell_type": "code",
   "execution_count": 6,
   "id": "living-strand",
   "metadata": {
    "ExecuteTime": {
     "end_time": "2021-06-20T04:08:59.627660Z",
     "start_time": "2021-06-20T04:08:59.612728Z"
    }
   },
   "outputs": [],
   "source": [
    "from sklearn.datasets import load_boston\n",
    "from sklearn.linear_model import Ridge\n",
    "from sklearn.model_selection import cross_val_score\n",
    "import pandas as pd\n",
    "import numpy as np\n",
    "\n",
    "# boston 데이터 세트 로드\n",
    "\n",
    "bst = load_boston()\n",
    "\n",
    "bstDF = pd.DataFrame(bst.data, columns = bst.feature_names)\n",
    "\n",
    "# boston 데이터 세트의 Target은 주택 가격\n",
    "\n",
    "bstDF['PRICE'] = bst.target\n",
    "\n",
    "# 선형회귀 모델 생성을 위한 라이브러리 임포트\n",
    "from sklearn.model_selection import train_test_split\n",
    "from sklearn.linear_model import LinearRegression\n",
    "from sklearn.metrics import mean_squared_error, r2_score\n",
    "\n",
    "# 학습에 사용할 데이터 준비\n",
    "y_target = bstDF['PRICE']\n",
    "X_data = bstDF.drop(['PRICE'], axis=1, inplace=False)\n",
    "\n",
    "# train, test 세트 분리\n",
    "X_train, X_test, y_train, y_test = train_test_split(X_data, y_target, test_size=0.3, random_state = 156)"
   ]
  },
  {
   "cell_type": "code",
   "execution_count": 8,
   "id": "utility-tunnel",
   "metadata": {
    "ExecuteTime": {
     "end_time": "2021-06-20T04:09:25.548440Z",
     "start_time": "2021-06-20T04:09:25.509544Z"
    }
   },
   "outputs": [
    {
     "name": "stdout",
     "output_type": "stream",
     "text": [
      "5 folds의 개별 Negative MSE scores :  [-11.42 -24.29 -28.14 -74.6  -28.52]\n",
      "5 folds의 개별 RMSE scores :  [3.38 4.93 5.31 8.64 5.34]\n",
      "5 folds의 평균 RMSE scores :  5.52\n"
     ]
    }
   ],
   "source": [
    "# alpha=10 으로 설정한 릿지 회귀 모델 생성\n",
    "\n",
    "ridge = Ridge(alpha = 10)\n",
    "neg_mse_scores = cross_val_score(ridge, X_data, y_target, scoring='neg_mean_squared_error', cv=5)\n",
    "rmse_scores = np.sqrt(-1 * neg_mse_scores)\n",
    "avg_rmse = np.mean(rmse_scores)\n",
    "\n",
    "# cross_val_score(scoring=\"neg_mean_squared_error\")로 반환된 값은 모두 음수\n",
    "print('5 folds의 개별 Negative MSE scores : ', np.round(neg_mse_scores, 2))\n",
    "print('5 folds의 개별 RMSE scores : ', np.round(rmse_scores, 2))\n",
    "print('5 folds의 평균 RMSE scores : ', np.round(avg_rmse, 2))"
   ]
  },
  {
   "cell_type": "markdown",
   "id": "tribal-custody",
   "metadata": {},
   "source": [
    "5폴드로 나누어 모델 평가를 실시한 결과 평균 RMSE가 5.52로 일반적인 Linear Regression을 이용했을 때의 5.83보다 더 뛰어난 예측 성능을 보입니다."
   ]
  },
  {
   "cell_type": "code",
   "execution_count": 9,
   "id": "bacterial-danish",
   "metadata": {
    "ExecuteTime": {
     "end_time": "2021-06-20T04:13:07.381676Z",
     "start_time": "2021-06-20T04:13:07.273823Z"
    }
   },
   "outputs": [
    {
     "name": "stdout",
     "output_type": "stream",
     "text": [
      "alpha 0 일 때 5 폴드의 평균 RMSE : 5.829\n",
      "alpha 0.1 일 때 5 폴드의 평균 RMSE : 5.788\n",
      "alpha 1 일 때 5 폴드의 평균 RMSE : 5.653\n",
      "alpha 10 일 때 5 폴드의 평균 RMSE : 5.518\n",
      "alpha 100 일 때 5 폴드의 평균 RMSE : 5.330\n"
     ]
    }
   ],
   "source": [
    "# 릿지에 사용될 alpha 파라미터 값\n",
    "alphas = [0, 0.1, 1, 10, 100]\n",
    "\n",
    "# alphas list 값을 반복하면서 alpha에 따른 평균 RMSE 계산\n",
    "for alpha in alphas:\n",
    "    ridge = Ridge(alpha = alpha)\n",
    "    \n",
    "    # cross_val_score를 이용해 5fold의 평균 RMSE 계산\n",
    "    neg_mse_scores = cross_val_score(ridge, X_data, y_target, scoring='neg_mean_squared_error', cv=5)\n",
    "    rmse_scores = np.sqrt(-1 * neg_mse_scores)\n",
    "    avg_rmse = np.mean(rmse_scores)\n",
    "    \n",
    "    print('alpha {0} 일 때 5 폴드의 평균 RMSE : {1:.3f}'.format(alpha, avg_rmse))"
   ]
  },
  {
   "cell_type": "markdown",
   "id": "impressed-milan",
   "metadata": {},
   "source": [
    "위 cross_val_score() 결과 alpha가 100일 때 5개 폴드의 평균 RMSE가 가장 작게 나타나며 위 **alpha 값에 따른 피처의 회귀 계수가 어떻게 변화하는지 시각화**합니다."
   ]
  },
  {
   "cell_type": "code",
   "execution_count": 19,
   "id": "responsible-bread",
   "metadata": {
    "ExecuteTime": {
     "end_time": "2021-06-20T04:58:55.318213Z",
     "start_time": "2021-06-20T04:58:55.089287Z"
    }
   },
   "outputs": [],
   "source": [
    "import matplotlib.pyplot as plt\n",
    "import seaborn as sns"
   ]
  },
  {
   "cell_type": "code",
   "execution_count": 31,
   "id": "parliamentary-involvement",
   "metadata": {
    "ExecuteTime": {
     "end_time": "2021-06-20T05:03:30.689312Z",
     "start_time": "2021-06-20T05:03:30.118829Z"
    }
   },
   "outputs": [
    {
     "data": {
      "image/png": "[encoded data removed]",
      "text/plain": [
       "<Figure size 1296x432 with 5 Axes>"
      ]
     },
     "metadata": {
      "needs_background": "light"
     },
     "output_type": "display_data"
    }
   ],
   "source": [
    "# 각 alhpa값에 따른 회귀 계수 값 시각화\n",
    "fig, axes = plt.subplots(figsize=(18, 6), nrows=1, ncols=5)\n",
    "\n",
    "# 각 alpha에 따른 회귀 계수 값을 데이터로 저장하기 위한 DF\n",
    "coeff_df = pd.DataFrame()\n",
    "\n",
    "# alphas 리스트 값을 차례로 입력해 회귀 계수 값 시각화, pos는 axis의 위치\n",
    "for pos, alpha in enumerate(alphas):\n",
    "    ridge = Ridge(alpha = alpha)\n",
    "    ridge.fit(X_data, y_target)\n",
    "    \n",
    "    # alhpa 값에 따른 피처별 회귀 계수를 Sereis로 변환하고 DF 칼럼으로 추가\n",
    "    coeff = pd.Series(data=ridge.coef_, index = X_data.columns)\n",
    "    colname = 'alpha:'+str(alpha)\n",
    "    coeff_df[colname] = coeff\n",
    "    \n",
    "    # barplot으로 각 alhpa값에서의 회귀 계수를 시각화\n",
    "    coeff = coeff.sort_values(ascending=False)\n",
    "    axes[pos].set_title(colname)\n",
    "    axes[pos].set_xlim(-3, 6)\n",
    "    sns.barplot(x=coeff.values, y=coeff.index, ax=axes[pos])\n",
    "\n",
    "plt.show()"
   ]
  },
  {
   "cell_type": "markdown",
   "id": "dietary-bunny",
   "metadata": {},
   "source": [
    "릿지 회귀는 alpha값을 크게 지정할수록 회귀 계수 값이 작아진다는 특징이 있습니다. 위 그래프를 통해 NOX : 일산화질소 농도 피처의 회귀 계수가 alpha가 100일 때 매우 작아진 것을 확인할 수 있습니다."
   ]
  },
  {
   "cell_type": "markdown",
   "id": "disturbed-jamaica",
   "metadata": {},
   "source": [
    "위 그래프를 히트맵을 이용해 아래와 같이 시각화 한 결과 더욱 직관적으로 alpha 값이 증가할수록 회귀 계수의 값이 감소하는 것을 확인할 수 있습니다.\n",
    "\n",
    "**여기서 한가지 중요한 점은 릿지 회귀의 경우 회귀 계수를 작게 만든다는 특징이 있지만 0으로 만들지는 않기 때문에 피처 선택의 효과는 기대할 수 없다는 점입니다!**"
   ]
  },
  {
   "cell_type": "code",
   "execution_count": 32,
   "id": "neural-stylus",
   "metadata": {
    "ExecuteTime": {
     "end_time": "2021-06-20T05:03:33.069345Z",
     "start_time": "2021-06-20T05:03:33.054351Z"
    }
   },
   "outputs": [
    {
     "data": {
      "text/html": [
       "<div>\n",
       "<style scoped>\n",
       "    .dataframe tbody tr th:only-of-type {\n",
       "        vertical-align: middle;\n",
       "    }\n",
       "\n",
       "    .dataframe tbody tr th {\n",
       "        vertical-align: top;\n",
       "    }\n",
       "\n",
       "    .dataframe thead th {\n",
       "        text-align: right;\n",
       "    }\n",
       "</style>\n",
       "<table border=\"1\" class=\"dataframe\">\n",
       "  <thead>\n",
       "    <tr style=\"text-align: right;\">\n",
       "      <th></th>\n",
       "      <th>alpha:0</th>\n",
       "      <th>alpha:0.1</th>\n",
       "      <th>alpha:1</th>\n",
       "      <th>alpha:10</th>\n",
       "      <th>alpha:100</th>\n",
       "    </tr>\n",
       "  </thead>\n",
       "  <tbody>\n",
       "    <tr>\n",
       "      <th>RM</th>\n",
       "      <td>3.809865</td>\n",
       "      <td>3.818233</td>\n",
       "      <td>3.854000</td>\n",
       "      <td>3.702272</td>\n",
       "      <td>2.334536</td>\n",
       "    </tr>\n",
       "    <tr>\n",
       "      <th>CHAS</th>\n",
       "      <td>2.686734</td>\n",
       "      <td>2.670019</td>\n",
       "      <td>2.552393</td>\n",
       "      <td>1.952021</td>\n",
       "      <td>0.638335</td>\n",
       "    </tr>\n",
       "    <tr>\n",
       "      <th>RAD</th>\n",
       "      <td>0.306049</td>\n",
       "      <td>0.303515</td>\n",
       "      <td>0.290142</td>\n",
       "      <td>0.279596</td>\n",
       "      <td>0.315358</td>\n",
       "    </tr>\n",
       "    <tr>\n",
       "      <th>ZN</th>\n",
       "      <td>0.046420</td>\n",
       "      <td>0.046572</td>\n",
       "      <td>0.047443</td>\n",
       "      <td>0.049579</td>\n",
       "      <td>0.054496</td>\n",
       "    </tr>\n",
       "    <tr>\n",
       "      <th>INDUS</th>\n",
       "      <td>0.020559</td>\n",
       "      <td>0.015999</td>\n",
       "      <td>-0.008805</td>\n",
       "      <td>-0.042962</td>\n",
       "      <td>-0.052826</td>\n",
       "    </tr>\n",
       "    <tr>\n",
       "      <th>B</th>\n",
       "      <td>0.009312</td>\n",
       "      <td>0.009368</td>\n",
       "      <td>0.009673</td>\n",
       "      <td>0.010037</td>\n",
       "      <td>0.009393</td>\n",
       "    </tr>\n",
       "    <tr>\n",
       "      <th>AGE</th>\n",
       "      <td>0.000692</td>\n",
       "      <td>-0.000269</td>\n",
       "      <td>-0.005415</td>\n",
       "      <td>-0.010707</td>\n",
       "      <td>0.001212</td>\n",
       "    </tr>\n",
       "    <tr>\n",
       "      <th>TAX</th>\n",
       "      <td>-0.012335</td>\n",
       "      <td>-0.012421</td>\n",
       "      <td>-0.012912</td>\n",
       "      <td>-0.013993</td>\n",
       "      <td>-0.015856</td>\n",
       "    </tr>\n",
       "    <tr>\n",
       "      <th>CRIM</th>\n",
       "      <td>-0.108011</td>\n",
       "      <td>-0.107474</td>\n",
       "      <td>-0.104595</td>\n",
       "      <td>-0.101435</td>\n",
       "      <td>-0.102202</td>\n",
       "    </tr>\n",
       "    <tr>\n",
       "      <th>LSTAT</th>\n",
       "      <td>-0.524758</td>\n",
       "      <td>-0.525966</td>\n",
       "      <td>-0.533343</td>\n",
       "      <td>-0.559366</td>\n",
       "      <td>-0.660764</td>\n",
       "    </tr>\n",
       "    <tr>\n",
       "      <th>PTRATIO</th>\n",
       "      <td>-0.952747</td>\n",
       "      <td>-0.940759</td>\n",
       "      <td>-0.876074</td>\n",
       "      <td>-0.797945</td>\n",
       "      <td>-0.829218</td>\n",
       "    </tr>\n",
       "    <tr>\n",
       "      <th>DIS</th>\n",
       "      <td>-1.475567</td>\n",
       "      <td>-1.459626</td>\n",
       "      <td>-1.372654</td>\n",
       "      <td>-1.248808</td>\n",
       "      <td>-1.153390</td>\n",
       "    </tr>\n",
       "    <tr>\n",
       "      <th>NOX</th>\n",
       "      <td>-17.766611</td>\n",
       "      <td>-16.684645</td>\n",
       "      <td>-10.777015</td>\n",
       "      <td>-2.371619</td>\n",
       "      <td>-0.262847</td>\n",
       "    </tr>\n",
       "  </tbody>\n",
       "</table>\n",
       "</div>"
      ],
      "text/plain": [
       "           alpha:0  alpha:0.1    alpha:1  alpha:10  alpha:100\n",
       "RM        3.809865   3.818233   3.854000  3.702272   2.334536\n",
       "CHAS      2.686734   2.670019   2.552393  1.952021   0.638335\n",
       "RAD       0.306049   0.303515   0.290142  0.279596   0.315358\n",
       "ZN        0.046420   0.046572   0.047443  0.049579   0.054496\n",
       "INDUS     0.020559   0.015999  -0.008805 -0.042962  -0.052826\n",
       "B         0.009312   0.009368   0.009673  0.010037   0.009393\n",
       "AGE       0.000692  -0.000269  -0.005415 -0.010707   0.001212\n",
       "TAX      -0.012335  -0.012421  -0.012912 -0.013993  -0.015856\n",
       "CRIM     -0.108011  -0.107474  -0.104595 -0.101435  -0.102202\n",
       "LSTAT    -0.524758  -0.525966  -0.533343 -0.559366  -0.660764\n",
       "PTRATIO  -0.952747  -0.940759  -0.876074 -0.797945  -0.829218\n",
       "DIS      -1.475567  -1.459626  -1.372654 -1.248808  -1.153390\n",
       "NOX     -17.766611 -16.684645 -10.777015 -2.371619  -0.262847"
      ]
     },
     "execution_count": 32,
     "metadata": {},
     "output_type": "execute_result"
    }
   ],
   "source": [
    "ridge_alphas = [0, 0.1, 1, 10, 100]\n",
    "sort_column = 'alpha:'+str(ridge_alphas[0])\n",
    "coeff_df.sort_values(by=sort_column, ascending=False)"
   ]
  },
  {
   "cell_type": "code",
   "execution_count": 41,
   "id": "cleared-crest",
   "metadata": {
    "ExecuteTime": {
     "end_time": "2021-06-20T05:05:26.011983Z",
     "start_time": "2021-06-20T05:05:25.650908Z"
    }
   },
   "outputs": [
    {
     "data": {
      "text/plain": [
       "<AxesSubplot:>"
      ]
     },
     "execution_count": 41,
     "metadata": {},
     "output_type": "execute_result"
    },
    {
     "data": {
      "image/png": "[encoded data removed]",
      "text/plain": [
       "<Figure size 720x576 with 2 Axes>"
      ]
     },
     "metadata": {
      "needs_background": "light"
     },
     "output_type": "display_data"
    }
   ],
   "source": [
    "plt.figure(figsize=(10, 8))\n",
    "sns.heatmap(coeff_df.sort_values(by=sort_column, ascending=False), annot=True, linewidths=.5, cmap='jet')"
   ]
  },
  {
   "cell_type": "markdown",
   "id": "utility-maine",
   "metadata": {},
   "source": [
    "# 라쏘 회귀(Lasso)\n",
    "---"
   ]
  },
  {
   "cell_type": "markdown",
   "id": "fluid-calendar",
   "metadata": {},
   "source": [
    "라쏘 회귀(Lasso)는 W의 절댓값에 패널티를 부여하는 L1 규제를 선형회귀에 적용한 회귀 모델로 비용함수의 목표는 다음의 식을 최소화하는 W를 찾는 것입니다."
   ]
  },
  {
   "attachments": {
    "image.png": {
     "image/png": "[encoded data removed]"
    }
   },
   "cell_type": "markdown",
   "id": "latin-timothy",
   "metadata": {},
   "source": [
    "![image.png](attachment:image.png)"
   ]
  },
  {
   "cell_type": "markdown",
   "id": "tight-prospect",
   "metadata": {},
   "source": [
    "위에서도 설명했듯이 L2 규제를 적용한 릿지 회귀처럼 회귀 계수를 감소시키는 방법이 아닌 **불필요한 회귀 계수를 0으로 만들어 제거하기 때문에 피쳐 선택의 기능**이 가능하다는 점이 특징입니다."
   ]
  },
  {
   "cell_type": "markdown",
   "id": "maritime-water",
   "metadata": {},
   "source": [
    "**라소 회귀(Lasso) 클래스의 주요 생성 파라미터 또한 alpha**이며 다음의 예제를 통해 alhpa 값이 변경됨에 따라 RMSE와 회귀 계수가 어떻게 변화하는지 알아보겠습니다."
   ]
  },
  {
   "cell_type": "markdown",
   "id": "driving-blend",
   "metadata": {},
   "source": [
    "이후 ElasticNet 회귀 또한 바로 예제를 진행하기 위해 아래의 함수를 정의합니다."
   ]
  },
  {
   "cell_type": "code",
   "execution_count": 116,
   "id": "unlikely-adelaide",
   "metadata": {
    "ExecuteTime": {
     "end_time": "2021-06-20T05:54:26.821640Z",
     "start_time": "2021-06-20T05:54:26.801697Z"
    }
   },
   "outputs": [],
   "source": [
    "from sklearn.linear_model import Lasso, ElasticNet\n",
    "\n",
    "# alpha 값에 따른 회귀 모델의 폴드 평균 RMSE와 회귀 계수 반환\n",
    "def get_linear_reg_eval(model_name, params=None, X_data_n = None, y_target_n=None,\n",
    "                        verbose=True, return_coeff=True):\n",
    "    coeff_df = pd.DataFrame()\n",
    "    if verbose : print('####### ', model_name, '#######')\n",
    "    for param in params:\n",
    "        if model_name == 'Ridge' : model = Ridge(alpha=param)\n",
    "        elif model_name == 'Lasso' : model = Lasso(alpha=param)\n",
    "        elif model_name == 'ElasticNet': model = ElasticNet(alpha=param, l1_ratio=0.7)\n",
    "        neg_mse_scores = cross_val_score(model, X_data_n,\n",
    "                                        y_target_n, scoring='neg_mean_squared_error', cv = 5)\n",
    "        avg_rmse = np.mean(np.sqrt(-1 * neg_mse_scores))\n",
    "        \n",
    "        print('alpha {0} 일 때 5 폴드의 평균 RMSE : {1:.3f}'.format(param, avg_rmse))\n",
    "            \n",
    "        # cross_val_score는 evaluation metric만 반환, 모델을 다시 학습해 회귀 계수 반환\n",
    "            \n",
    "        model.fit(X_data_n, y_target_n)\n",
    "        if return_coeff:\n",
    "            # alpha에 따른 피처별 회귀 계수를 series로 변환, 이를 DF 칼럼으로 추가\n",
    "            coeff = pd.Series(data=model.coef_, index = X_data_n.columns)\n",
    "            colname = 'alpha:'+str(param)\n",
    "            coeff_df[colname] = coeff\n",
    "    return coeff_df"
   ]
  },
  {
   "cell_type": "code",
   "execution_count": 106,
   "id": "conditional-liverpool",
   "metadata": {
    "ExecuteTime": {
     "end_time": "2021-06-20T05:42:04.042438Z",
     "start_time": "2021-06-20T05:42:03.924866Z"
    }
   },
   "outputs": [
    {
     "name": "stdout",
     "output_type": "stream",
     "text": [
      "#######  Lasso #######\n",
      "alpha 0.07 일 때 5 폴드의 평균 RMSE : 5.612\n",
      "alpha 0.1 일 때 5 폴드의 평균 RMSE : 5.615\n",
      "alpha 0.5 일 때 5 폴드의 평균 RMSE : 5.669\n",
      "alpha 1 일 때 5 폴드의 평균 RMSE : 5.776\n",
      "alpha 3 일 때 5 폴드의 평균 RMSE : 6.189\n"
     ]
    }
   ],
   "source": [
    "# 라쏘에 사용될 alpha 파라미터 값 정의 \n",
    "lasso_alphas = [0.07, 0.1, 0.5, 1, 3]\n",
    "\n",
    "# 모델을 Lasso로 지정하고 get_linear_reg_eval() 함수 실행\n",
    "coeff_lasso_df = get_linear_reg_eval('Lasso', params=lasso_alphas, X_data_n=X_data, y_target_n=y_target)"
   ]
  },
  {
   "cell_type": "markdown",
   "id": "understood-aurora",
   "metadata": {},
   "source": [
    "Lasso 회귀 모델을 이용해 위 함수를 실행한 결과 alpha값이 0.07일 때 가장 좋은 RMSE를 보입니다. 이 경우 일반적인 선형회귀 모델의 결과보다는 좋지만 릿지 회귀 보다는 좋지 못한 성능을 보입니다."
   ]
  },
  {
   "cell_type": "markdown",
   "id": "olympic-mixture",
   "metadata": {},
   "source": [
    "아래는 위 lasso_alphas에 따른 피처별 회귀 계수입니다."
   ]
  },
  {
   "cell_type": "code",
   "execution_count": 109,
   "id": "mathematical-circulation",
   "metadata": {
    "ExecuteTime": {
     "end_time": "2021-06-20T05:42:25.769782Z",
     "start_time": "2021-06-20T05:42:25.757813Z"
    }
   },
   "outputs": [
    {
     "data": {
      "text/html": [
       "<div>\n",
       "<style scoped>\n",
       "    .dataframe tbody tr th:only-of-type {\n",
       "        vertical-align: middle;\n",
       "    }\n",
       "\n",
       "    .dataframe tbody tr th {\n",
       "        vertical-align: top;\n",
       "    }\n",
       "\n",
       "    .dataframe thead th {\n",
       "        text-align: right;\n",
       "    }\n",
       "</style>\n",
       "<table border=\"1\" class=\"dataframe\">\n",
       "  <thead>\n",
       "    <tr style=\"text-align: right;\">\n",
       "      <th></th>\n",
       "      <th>alpha:0.07</th>\n",
       "      <th>alpha:0.1</th>\n",
       "      <th>alpha:0.5</th>\n",
       "      <th>alpha:1</th>\n",
       "      <th>alpha:3</th>\n",
       "    </tr>\n",
       "  </thead>\n",
       "  <tbody>\n",
       "    <tr>\n",
       "      <th>RM</th>\n",
       "      <td>3.789725</td>\n",
       "      <td>3.703202</td>\n",
       "      <td>2.498212</td>\n",
       "      <td>0.949811</td>\n",
       "      <td>0.000000</td>\n",
       "    </tr>\n",
       "    <tr>\n",
       "      <th>CHAS</th>\n",
       "      <td>1.434343</td>\n",
       "      <td>0.955190</td>\n",
       "      <td>0.000000</td>\n",
       "      <td>0.000000</td>\n",
       "      <td>0.000000</td>\n",
       "    </tr>\n",
       "    <tr>\n",
       "      <th>RAD</th>\n",
       "      <td>0.270936</td>\n",
       "      <td>0.274707</td>\n",
       "      <td>0.277451</td>\n",
       "      <td>0.264206</td>\n",
       "      <td>0.061864</td>\n",
       "    </tr>\n",
       "    <tr>\n",
       "      <th>ZN</th>\n",
       "      <td>0.049059</td>\n",
       "      <td>0.049211</td>\n",
       "      <td>0.049544</td>\n",
       "      <td>0.049165</td>\n",
       "      <td>0.037231</td>\n",
       "    </tr>\n",
       "    <tr>\n",
       "      <th>B</th>\n",
       "      <td>0.010248</td>\n",
       "      <td>0.010249</td>\n",
       "      <td>0.009469</td>\n",
       "      <td>0.008247</td>\n",
       "      <td>0.006510</td>\n",
       "    </tr>\n",
       "    <tr>\n",
       "      <th>NOX</th>\n",
       "      <td>-0.000000</td>\n",
       "      <td>-0.000000</td>\n",
       "      <td>-0.000000</td>\n",
       "      <td>-0.000000</td>\n",
       "      <td>0.000000</td>\n",
       "    </tr>\n",
       "    <tr>\n",
       "      <th>AGE</th>\n",
       "      <td>-0.011706</td>\n",
       "      <td>-0.010037</td>\n",
       "      <td>0.003604</td>\n",
       "      <td>0.020910</td>\n",
       "      <td>0.042495</td>\n",
       "    </tr>\n",
       "    <tr>\n",
       "      <th>TAX</th>\n",
       "      <td>-0.014290</td>\n",
       "      <td>-0.014570</td>\n",
       "      <td>-0.015442</td>\n",
       "      <td>-0.015212</td>\n",
       "      <td>-0.008602</td>\n",
       "    </tr>\n",
       "    <tr>\n",
       "      <th>INDUS</th>\n",
       "      <td>-0.042120</td>\n",
       "      <td>-0.036619</td>\n",
       "      <td>-0.005253</td>\n",
       "      <td>-0.000000</td>\n",
       "      <td>-0.000000</td>\n",
       "    </tr>\n",
       "    <tr>\n",
       "      <th>CRIM</th>\n",
       "      <td>-0.098193</td>\n",
       "      <td>-0.097894</td>\n",
       "      <td>-0.083289</td>\n",
       "      <td>-0.063437</td>\n",
       "      <td>-0.000000</td>\n",
       "    </tr>\n",
       "    <tr>\n",
       "      <th>LSTAT</th>\n",
       "      <td>-0.560431</td>\n",
       "      <td>-0.568769</td>\n",
       "      <td>-0.656290</td>\n",
       "      <td>-0.761115</td>\n",
       "      <td>-0.807679</td>\n",
       "    </tr>\n",
       "    <tr>\n",
       "      <th>PTRATIO</th>\n",
       "      <td>-0.765107</td>\n",
       "      <td>-0.770654</td>\n",
       "      <td>-0.758752</td>\n",
       "      <td>-0.722966</td>\n",
       "      <td>-0.265072</td>\n",
       "    </tr>\n",
       "    <tr>\n",
       "      <th>DIS</th>\n",
       "      <td>-1.176583</td>\n",
       "      <td>-1.160538</td>\n",
       "      <td>-0.936605</td>\n",
       "      <td>-0.668790</td>\n",
       "      <td>-0.000000</td>\n",
       "    </tr>\n",
       "  </tbody>\n",
       "</table>\n",
       "</div>"
      ],
      "text/plain": [
       "         alpha:0.07  alpha:0.1  alpha:0.5   alpha:1   alpha:3\n",
       "RM         3.789725   3.703202   2.498212  0.949811  0.000000\n",
       "CHAS       1.434343   0.955190   0.000000  0.000000  0.000000\n",
       "RAD        0.270936   0.274707   0.277451  0.264206  0.061864\n",
       "ZN         0.049059   0.049211   0.049544  0.049165  0.037231\n",
       "B          0.010248   0.010249   0.009469  0.008247  0.006510\n",
       "NOX       -0.000000  -0.000000  -0.000000 -0.000000  0.000000\n",
       "AGE       -0.011706  -0.010037   0.003604  0.020910  0.042495\n",
       "TAX       -0.014290  -0.014570  -0.015442 -0.015212 -0.008602\n",
       "INDUS     -0.042120  -0.036619  -0.005253 -0.000000 -0.000000\n",
       "CRIM      -0.098193  -0.097894  -0.083289 -0.063437 -0.000000\n",
       "LSTAT     -0.560431  -0.568769  -0.656290 -0.761115 -0.807679\n",
       "PTRATIO   -0.765107  -0.770654  -0.758752 -0.722966 -0.265072\n",
       "DIS       -1.176583  -1.160538  -0.936605 -0.668790 -0.000000"
      ]
     },
     "execution_count": 109,
     "metadata": {},
     "output_type": "execute_result"
    }
   ],
   "source": [
    "sort_column = 'alpha:'+str(lasso_alphas[0])\n",
    "coeff_lasso_df.sort_values(by=sort_column, ascending=False)"
   ]
  },
  {
   "cell_type": "markdown",
   "id": "likely-argentina",
   "metadata": {},
   "source": [
    "라쏘 회귀 모델의 각 alpha에 따른 피처별 회귀 계수를 아래와 같이 시각화 한 결과 alpha 값이 증가됨에 따라 회귀 계수가 0으로 바뀌는 피쳐들이 존재합니다.\n",
    "\n",
    "이처럼 **라쏘 회귀 모델은 alpha 값이 조정됨에 따라 회귀 계수가 0으로 변하는 피처들이 발생하며 이렇게 회귀 계수가 0으로 변한 피처들을 회귀 식에서 제외하는 효과를 기대할 수 있습니다.**"
   ]
  },
  {
   "cell_type": "code",
   "execution_count": 111,
   "id": "studied-technique",
   "metadata": {
    "ExecuteTime": {
     "end_time": "2021-06-20T05:42:45.760308Z",
     "start_time": "2021-06-20T05:42:45.421214Z"
    }
   },
   "outputs": [
    {
     "data": {
      "text/plain": [
       "<AxesSubplot:>"
      ]
     },
     "execution_count": 111,
     "metadata": {},
     "output_type": "execute_result"
    },
    {
     "data": {
      "image/png": "[encoded data removed]",
      "text/plain": [
       "<Figure size 720x576 with 2 Axes>"
      ]
     },
     "metadata": {
      "needs_background": "light"
     },
     "output_type": "display_data"
    }
   ],
   "source": [
    "plt.figure(figsize=(10, 8))\n",
    "sns.heatmap(coeff_lasso_df.sort_values(by=sort_column, ascending=False), annot=True, linewidths=.5, cmap='jet')"
   ]
  },
  {
   "cell_type": "markdown",
   "id": "organic-sleep",
   "metadata": {},
   "source": [
    "# 엘라스틱넷 회귀(Elastic Net)\n",
    "---"
   ]
  },
  {
   "cell_type": "markdown",
   "id": "significant-valuation",
   "metadata": {},
   "source": [
    "**엘라스틱넷 회귀(Elastic Net)회귀는 앞서 살펴본 L1 규제와 L2 규제를 결합**한 회귀로 엘라스틱넷 회귀의 비용 함수 목표는 아래의 식을 최소화 하는 W를 찾는 것입니다."
   ]
  },
  {
   "attachments": {
    "image.png": {
     "image/png": "[encoded data removed]"
    }
   },
   "cell_type": "markdown",
   "id": "thrown-inspiration",
   "metadata": {},
   "source": [
    "![image.png](attachment:image.png)"
   ]
  },
  {
   "cell_type": "markdown",
   "id": "premier-kuwait",
   "metadata": {},
   "source": [
    "앞서 살펴본 **라쏘 회귀의 경우 L1 규제를 이용해 중요 피처를 선택하고 그 외의 피처들은 회귀 계수를 0으로 만들어 회귀 식에서 제외**하기 때문에 alhpa 값에 따라 회귀 계수의 변동이 심할 수 있다는 단점이 존재합니다. 따라서 **엘라스틱넷 회귀는 이를 보완하기 위해 L2 규제에 L1 규제를 결합**한 회귀입니다."
   ]
  },
  {
   "cell_type": "markdown",
   "id": "little-board",
   "metadata": {},
   "source": [
    "ElasticNet 클래스의 주요 생성 파라미터는 alpha와 l1_ratio입니다."
   ]
  },
  {
   "cell_type": "code",
   "execution_count": 118,
   "id": "verified-dealer",
   "metadata": {
    "ExecuteTime": {
     "end_time": "2021-06-20T05:54:52.946953Z",
     "start_time": "2021-06-20T05:54:52.824283Z"
    }
   },
   "outputs": [
    {
     "name": "stdout",
     "output_type": "stream",
     "text": [
      "#######  ElasticNet #######\n",
      "alpha 0.07 일 때 5 폴드의 평균 RMSE : 5.542\n",
      "alpha 0.1 일 때 5 폴드의 평균 RMSE : 5.526\n",
      "alpha 0.5 일 때 5 폴드의 평균 RMSE : 5.467\n",
      "alpha 1 일 때 5 폴드의 평균 RMSE : 5.597\n",
      "alpha 3 일 때 5 폴드의 평균 RMSE : 6.068\n"
     ]
    }
   ],
   "source": [
    "# l1_ratio를 0.7로 고정\n",
    "# l1_ratio가 1이면 L1 규제와 동일, 0이며 L2규제와 동일\n",
    "elastic_alphas = [0.07, 0.1, 0.5, 1, 3]\n",
    "\n",
    "# 모델을 Lasso로 지정하고 get_linear_reg_eval() 함수 실행\n",
    "coeff_elastic_df = get_linear_reg_eval('ElasticNet', params=elastic_alphas, X_data_n=X_data, y_target_n=y_target)"
   ]
  },
  {
   "cell_type": "markdown",
   "id": "marine-garlic",
   "metadata": {},
   "source": [
    "**ElasticNet 회귀 실행 결과 alhpa가 0.5일 때 가장 좋은 성능을 보이며 아래의 히트맵 시각화를 통해 단순 Lasso 회귀 보다 회귀 계수가 0으로 변하는 피처들이 적은 것을 확인할 수 있습니다.**"
   ]
  },
  {
   "cell_type": "code",
   "execution_count": 122,
   "id": "hydraulic-neighborhood",
   "metadata": {
    "ExecuteTime": {
     "end_time": "2021-06-20T05:56:02.041542Z",
     "start_time": "2021-06-20T05:56:02.020616Z"
    }
   },
   "outputs": [
    {
     "data": {
      "text/html": [
       "<div>\n",
       "<style scoped>\n",
       "    .dataframe tbody tr th:only-of-type {\n",
       "        vertical-align: middle;\n",
       "    }\n",
       "\n",
       "    .dataframe tbody tr th {\n",
       "        vertical-align: top;\n",
       "    }\n",
       "\n",
       "    .dataframe thead th {\n",
       "        text-align: right;\n",
       "    }\n",
       "</style>\n",
       "<table border=\"1\" class=\"dataframe\">\n",
       "  <thead>\n",
       "    <tr style=\"text-align: right;\">\n",
       "      <th></th>\n",
       "      <th>alpha:0.07</th>\n",
       "      <th>alpha:0.1</th>\n",
       "      <th>alpha:0.5</th>\n",
       "      <th>alpha:1</th>\n",
       "      <th>alpha:3</th>\n",
       "    </tr>\n",
       "  </thead>\n",
       "  <tbody>\n",
       "    <tr>\n",
       "      <th>RM</th>\n",
       "      <td>3.574162</td>\n",
       "      <td>3.414154</td>\n",
       "      <td>1.918419</td>\n",
       "      <td>0.938789</td>\n",
       "      <td>0.000000</td>\n",
       "    </tr>\n",
       "    <tr>\n",
       "      <th>CHAS</th>\n",
       "      <td>1.330724</td>\n",
       "      <td>0.979706</td>\n",
       "      <td>0.000000</td>\n",
       "      <td>0.000000</td>\n",
       "      <td>0.000000</td>\n",
       "    </tr>\n",
       "    <tr>\n",
       "      <th>RAD</th>\n",
       "      <td>0.278880</td>\n",
       "      <td>0.283443</td>\n",
       "      <td>0.300761</td>\n",
       "      <td>0.289299</td>\n",
       "      <td>0.146846</td>\n",
       "    </tr>\n",
       "    <tr>\n",
       "      <th>ZN</th>\n",
       "      <td>0.050107</td>\n",
       "      <td>0.050617</td>\n",
       "      <td>0.052878</td>\n",
       "      <td>0.052136</td>\n",
       "      <td>0.038268</td>\n",
       "    </tr>\n",
       "    <tr>\n",
       "      <th>B</th>\n",
       "      <td>0.010122</td>\n",
       "      <td>0.010067</td>\n",
       "      <td>0.009114</td>\n",
       "      <td>0.008320</td>\n",
       "      <td>0.007020</td>\n",
       "    </tr>\n",
       "    <tr>\n",
       "      <th>AGE</th>\n",
       "      <td>-0.010116</td>\n",
       "      <td>-0.008276</td>\n",
       "      <td>0.007760</td>\n",
       "      <td>0.020348</td>\n",
       "      <td>0.043446</td>\n",
       "    </tr>\n",
       "    <tr>\n",
       "      <th>TAX</th>\n",
       "      <td>-0.014522</td>\n",
       "      <td>-0.014814</td>\n",
       "      <td>-0.016046</td>\n",
       "      <td>-0.016218</td>\n",
       "      <td>-0.011417</td>\n",
       "    </tr>\n",
       "    <tr>\n",
       "      <th>INDUS</th>\n",
       "      <td>-0.044855</td>\n",
       "      <td>-0.042719</td>\n",
       "      <td>-0.023252</td>\n",
       "      <td>-0.000000</td>\n",
       "      <td>-0.000000</td>\n",
       "    </tr>\n",
       "    <tr>\n",
       "      <th>CRIM</th>\n",
       "      <td>-0.099468</td>\n",
       "      <td>-0.099213</td>\n",
       "      <td>-0.089070</td>\n",
       "      <td>-0.073577</td>\n",
       "      <td>-0.019058</td>\n",
       "    </tr>\n",
       "    <tr>\n",
       "      <th>NOX</th>\n",
       "      <td>-0.175072</td>\n",
       "      <td>-0.000000</td>\n",
       "      <td>-0.000000</td>\n",
       "      <td>-0.000000</td>\n",
       "      <td>-0.000000</td>\n",
       "    </tr>\n",
       "    <tr>\n",
       "      <th>LSTAT</th>\n",
       "      <td>-0.574822</td>\n",
       "      <td>-0.587702</td>\n",
       "      <td>-0.693861</td>\n",
       "      <td>-0.760457</td>\n",
       "      <td>-0.800368</td>\n",
       "    </tr>\n",
       "    <tr>\n",
       "      <th>PTRATIO</th>\n",
       "      <td>-0.779498</td>\n",
       "      <td>-0.784725</td>\n",
       "      <td>-0.790969</td>\n",
       "      <td>-0.738672</td>\n",
       "      <td>-0.423065</td>\n",
       "    </tr>\n",
       "    <tr>\n",
       "      <th>DIS</th>\n",
       "      <td>-1.189438</td>\n",
       "      <td>-1.173647</td>\n",
       "      <td>-0.975902</td>\n",
       "      <td>-0.725174</td>\n",
       "      <td>-0.031208</td>\n",
       "    </tr>\n",
       "  </tbody>\n",
       "</table>\n",
       "</div>"
      ],
      "text/plain": [
       "         alpha:0.07  alpha:0.1  alpha:0.5   alpha:1   alpha:3\n",
       "RM         3.574162   3.414154   1.918419  0.938789  0.000000\n",
       "CHAS       1.330724   0.979706   0.000000  0.000000  0.000000\n",
       "RAD        0.278880   0.283443   0.300761  0.289299  0.146846\n",
       "ZN         0.050107   0.050617   0.052878  0.052136  0.038268\n",
       "B          0.010122   0.010067   0.009114  0.008320  0.007020\n",
       "AGE       -0.010116  -0.008276   0.007760  0.020348  0.043446\n",
       "TAX       -0.014522  -0.014814  -0.016046 -0.016218 -0.011417\n",
       "INDUS     -0.044855  -0.042719  -0.023252 -0.000000 -0.000000\n",
       "CRIM      -0.099468  -0.099213  -0.089070 -0.073577 -0.019058\n",
       "NOX       -0.175072  -0.000000  -0.000000 -0.000000 -0.000000\n",
       "LSTAT     -0.574822  -0.587702  -0.693861 -0.760457 -0.800368\n",
       "PTRATIO   -0.779498  -0.784725  -0.790969 -0.738672 -0.423065\n",
       "DIS       -1.189438  -1.173647  -0.975902 -0.725174 -0.031208"
      ]
     },
     "execution_count": 122,
     "metadata": {},
     "output_type": "execute_result"
    }
   ],
   "source": [
    "sort_column = 'alpha:'+str(elastic_alphas[0])\n",
    "coeff_elastic_df.sort_values(by=sort_column, ascending=False)"
   ]
  },
  {
   "cell_type": "code",
   "execution_count": 123,
   "id": "remarkable-mountain",
   "metadata": {
    "ExecuteTime": {
     "end_time": "2021-06-20T05:56:13.391366Z",
     "start_time": "2021-06-20T05:56:13.048266Z"
    }
   },
   "outputs": [
    {
     "data": {
      "text/plain": [
       "<AxesSubplot:>"
      ]
     },
     "execution_count": 123,
     "metadata": {},
     "output_type": "execute_result"
    },
    {
     "data": {
      "image/png": "[encoded data removed]",
      "text/plain": [
       "<Figure size 720x576 with 2 Axes>"
      ]
     },
     "metadata": {
      "needs_background": "light"
     },
     "output_type": "display_data"
    }
   ],
   "source": [
    "plt.figure(figsize=(10, 8))\n",
    "sns.heatmap(coeff_elastic_df.sort_values(by=sort_column, ascending=False), annot=True, linewidths=.5, cmap='jet')"
   ]
  },
  {
   "cell_type": "markdown",
   "id": "typical-paintball",
   "metadata": {},
   "source": [
    "이 글은 머신러닝 완벽가이드를 참고했으며 영리 목적이 아닌 개인적인 학습을 위해 정리한 내용을 바탕으로 작성했음을 밝힙니다."
   ]
  }
 ],
 "metadata": {
  "kernelspec": {
   "display_name": "Python 3",
   "language": "python",
   "name": "python3"
  },
  "language_info": {
   "codemirror_mode": {
    "name": "ipython",
    "version": 3
   },
   "file_extension": ".py",
   "mimetype": "text/x-python",
   "name": "python",
   "nbconvert_exporter": "python",
   "pygments_lexer": "ipython3",
   "version": "3.7.10"
  },
  "toc": {
   "base_numbering": 1,
   "nav_menu": {},
   "number_sections": true,
   "sideBar": true,
   "skip_h1_title": false,
   "title_cell": "Table of Contents",
   "title_sidebar": "Contents",
   "toc_cell": false,
   "toc_position": {},
   "toc_section_display": true,
   "toc_window_display": false
  },
  "varInspector": {
   "cols": {
    "lenName": 16,
    "lenType": 16,
    "lenVar": 40
   },
   "kernels_config": {
    "python": {
     "delete_cmd_postfix": "",
     "delete_cmd_prefix": "del ",
     "library": "var_list.py",
     "varRefreshCmd": "print(var_dic_list())"
    },
    "r": {
     "delete_cmd_postfix": ") ",
     "delete_cmd_prefix": "rm(",
     "library": "var_list.r",
     "varRefreshCmd": "cat(var_dic_list()) "
    }
   },
   "types_to_exclude": [
    "module",
    "function",
    "builtin_function_or_method",
    "instance",
    "_Feature"
   ],
   "window_display": false
  }
 },
 "nbformat": 4,
 "nbformat_minor": 5
}
