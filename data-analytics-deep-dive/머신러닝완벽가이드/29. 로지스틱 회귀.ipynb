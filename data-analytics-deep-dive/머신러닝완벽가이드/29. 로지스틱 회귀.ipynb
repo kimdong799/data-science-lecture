{
 "cells": [
  {
   "cell_type": "markdown",
   "id": "suited-alias",
   "metadata": {},
   "source": [
    "# 로지스틱 회귀(Logistic Regerssion)\n",
    "---"
   ]
  },
  {
   "cell_type": "markdown",
   "id": "compound-recipient",
   "metadata": {},
   "source": [
    "`로지스틱 회귀(Logistic Regression)` 모델은 다른 회귀 모델과는 다르게 **선형 회귀 방식을 분류에 적용**한 알고리즘입니다.\n",
    "\n",
    "로지스틱 회귀는 독립변수가 아닌 가중치(weight) 변수가 선형인지 아닌지에 따라 회귀의 선형, 비선형을 결정합니다. \n",
    "\n",
    "또한 일반적인 회귀 모델과의 차이점은 오차제곱합(SSE)을 최소로 갖는 회귀선을 찾는 것이 아닌 **시그모이드(Sigmoid) 함수 최적선을 찾아 이 시그모이드 함수의 반환 값을 확률로 간주하여 분류**를 진행한다는 점입니다."
   ]
  },
  {
   "cell_type": "markdown",
   "id": "geographic-julian",
   "metadata": {},
   "source": [
    "로지스틱 회귀는 이러한 특성을 이용해 텍스트 데이터를 이용한 감성분석(Sentiment Analysis)과 같은 분류 문제에 주로 사용됩니다."
   ]
  },
  {
   "cell_type": "markdown",
   "id": "useful-angola",
   "metadata": {},
   "source": [
    "로지스틱 회귀에 대한 추가적인 설명을 위해 이전에 진행했던 네이버 영화 리뷰의 감성 분석 데이터를 로드합니다."
   ]
  },
  {
   "cell_type": "code",
   "execution_count": 93,
   "id": "ethical-listening",
   "metadata": {
    "ExecuteTime": {
     "end_time": "2021-06-20T07:58:34.672917Z",
     "start_time": "2021-06-20T07:58:34.661948Z"
    }
   },
   "outputs": [],
   "source": [
    "import numpy as np\n",
    "import pandas as pd\n",
    "import matplotlib.pyplot as plt\n",
    "import seaborn as sns\n",
    "import warnings\n",
    "warnings.filterwarnings(action='ignore')"
   ]
  },
  {
   "cell_type": "code",
   "execution_count": 66,
   "id": "typical-skiing",
   "metadata": {
    "ExecuteTime": {
     "end_time": "2021-06-20T07:38:47.413938Z",
     "start_time": "2021-06-20T07:38:47.366323Z"
    }
   },
   "outputs": [
    {
     "data": {
      "text/html": [
       "<div>\n",
       "<style scoped>\n",
       "    .dataframe tbody tr th:only-of-type {\n",
       "        vertical-align: middle;\n",
       "    }\n",
       "\n",
       "    .dataframe tbody tr th {\n",
       "        vertical-align: top;\n",
       "    }\n",
       "\n",
       "    .dataframe thead th {\n",
       "        text-align: right;\n",
       "    }\n",
       "</style>\n",
       "<table border=\"1\" class=\"dataframe\">\n",
       "  <thead>\n",
       "    <tr style=\"text-align: right;\">\n",
       "      <th></th>\n",
       "      <th>review</th>\n",
       "      <th>rate</th>\n",
       "      <th>target</th>\n",
       "    </tr>\n",
       "  </thead>\n",
       "  <tbody>\n",
       "    <tr>\n",
       "      <th>0</th>\n",
       "      <td>인생 최고의 영화였으며, 이걸 이제야 보았다는 것이 정말로 후회된다...모든 배우의...</td>\n",
       "      <td>10</td>\n",
       "      <td>1</td>\n",
       "    </tr>\n",
       "    <tr>\n",
       "      <th>1</th>\n",
       "      <td>어떻게 볼때 마다 눈물을 흘리냐...</td>\n",
       "      <td>10</td>\n",
       "      <td>1</td>\n",
       "    </tr>\n",
       "    <tr>\n",
       "      <th>2</th>\n",
       "      <td>너무너무 슬프다 ..ㅠㅠ</td>\n",
       "      <td>10</td>\n",
       "      <td>1</td>\n",
       "    </tr>\n",
       "    <tr>\n",
       "      <th>3</th>\n",
       "      <td>10번을넘게봤는데도슬프다..</td>\n",
       "      <td>10</td>\n",
       "      <td>1</td>\n",
       "    </tr>\n",
       "    <tr>\n",
       "      <th>4</th>\n",
       "      <td>언제봐도 눈물나게 슬퍼요ㅠㅠ</td>\n",
       "      <td>10</td>\n",
       "      <td>1</td>\n",
       "    </tr>\n",
       "  </tbody>\n",
       "</table>\n",
       "</div>"
      ],
      "text/plain": [
       "                                              review  rate  target\n",
       "0  인생 최고의 영화였으며, 이걸 이제야 보았다는 것이 정말로 후회된다...모든 배우의...    10       1\n",
       "1                               어떻게 볼때 마다 눈물을 흘리냐...    10       1\n",
       "2                                      너무너무 슬프다 ..ㅠㅠ    10       1\n",
       "3                                    10번을넘게봤는데도슬프다..    10       1\n",
       "4                                    언제봐도 눈물나게 슬퍼요ㅠㅠ    10       1"
      ]
     },
     "execution_count": 66,
     "metadata": {},
     "output_type": "execute_result"
    }
   ],
   "source": [
    "review_data = pd.read_csv('../../data/review.csv')\n",
    "review_data.drop(review_data.columns[0], axis=1, inplace=True)\n",
    "review_data.head()"
   ]
  },
  {
   "cell_type": "code",
   "execution_count": 71,
   "id": "operating-infection",
   "metadata": {
    "ExecuteTime": {
     "end_time": "2021-06-20T07:39:45.189079Z",
     "start_time": "2021-06-20T07:39:45.173123Z"
    }
   },
   "outputs": [],
   "source": [
    "review_data.dropna(inplace=True)"
   ]
  },
  {
   "cell_type": "markdown",
   "id": "encouraging-brooks",
   "metadata": {},
   "source": [
    "위 데이터는 평점(rate)를 기준으로 target(감성)을 분류한 데이터입니다. 이 데이터의 target은 0과 1로 label이 존재하며 이는 긍정과 부정을 나타냅니다."
   ]
  },
  {
   "cell_type": "markdown",
   "id": "recent-scott",
   "metadata": {},
   "source": [
    "이처럼 범주형 변수를 이용해 회귀 모델을 생성한다면 아래와 같은 모양의 회귀선이 그려지고 각 데이터 포인트들은 2진 데이터인 target 값으로 인해 아래와 같은 모양을 보일 것입니다."
   ]
  },
  {
   "attachments": {
    "image.png": {
     "image/png": "[encoded data removed]"
    }
   },
   "cell_type": "markdown",
   "id": "phantom-sampling",
   "metadata": {},
   "source": [
    "![image.png](attachment:image.png)"
   ]
  },
  {
   "cell_type": "markdown",
   "id": "useful-brave",
   "metadata": {},
   "source": [
    "이미지 출처 : https://ratsgo.github.io/machine%20learning/2017/04/02/logistic/"
   ]
  },
  {
   "cell_type": "markdown",
   "id": "functioning-cliff",
   "metadata": {},
   "source": [
    "이처럼 현재 target과 같은 범주형 데이터의 경우 0과 1이라는 숫자로 이루어져 있지만 그 숫자의 실제 의미는 부정과 긍정이므로 아무런 수치적 의미를 가지고 있지 않다는 것입니다."
   ]
  },
  {
   "attachments": {
    "image.png": {
     "image/png": "[encoded data removed]"
    }
   },
   "cell_type": "markdown",
   "id": "isolated-morrison",
   "metadata": {},
   "source": [
    "![image.png](attachment:image.png)"
   ]
  },
  {
   "cell_type": "markdown",
   "id": "fatty-analyst",
   "metadata": {},
   "source": [
    "이미지 출처:  http://taewan.kim/post/sigmoid_diff/"
   ]
  },
  {
   "cell_type": "markdown",
   "id": "framed-trainer",
   "metadata": {},
   "source": [
    "따라서 S자 커브 형태의 시그모이드 함수를 이용해 모든 실수 입력 값을 0과 1사이의 미분 가능한 수로 변환하여 이를 확률로 이용해 더욱 정확한 분류를 진행하는 것이 바로 로지스틱 회귀입니다."
   ]
  },
  {
   "cell_type": "markdown",
   "id": "judicial-trader",
   "metadata": {},
   "source": [
    "아래의 예시를 통해 실제 로지스틱 회귀를 이용해 어떻게 회귀 모델을 이용해 분류가 진행되는지 실습을 진행해보겠습니다."
   ]
  },
  {
   "cell_type": "markdown",
   "id": "metropolitan-ghana",
   "metadata": {},
   "source": [
    "# 로지스틱 회귀를 이용한 감성분류\n",
    "---"
   ]
  },
  {
   "cell_type": "code",
   "execution_count": 72,
   "id": "incredible-journalism",
   "metadata": {
    "ExecuteTime": {
     "end_time": "2021-06-20T07:39:49.000391Z",
     "start_time": "2021-06-20T07:39:48.997432Z"
    }
   },
   "outputs": [],
   "source": [
    "review = review_data.review\n",
    "target = review_data.target"
   ]
  },
  {
   "cell_type": "code",
   "execution_count": 73,
   "id": "incoming-kuwait",
   "metadata": {
    "ExecuteTime": {
     "end_time": "2021-06-20T07:39:49.219607Z",
     "start_time": "2021-06-20T07:39:49.203617Z"
    }
   },
   "outputs": [],
   "source": [
    "from sklearn.model_selection import train_test_split\n",
    "\n",
    "train_x, test_x, train_y, test_y = train_test_split(review, target, test_size = 0.2, random_state=0)"
   ]
  },
  {
   "cell_type": "code",
   "execution_count": 74,
   "id": "integrated-upgrade",
   "metadata": {
    "ExecuteTime": {
     "end_time": "2021-06-20T07:39:58.821196Z",
     "start_time": "2021-06-20T07:39:49.544777Z"
    }
   },
   "outputs": [
    {
     "name": "stderr",
     "output_type": "stream",
     "text": [
      "C:\\Users\\Kim\\AppData\\Roaming\\Python\\Python37\\site-packages\\konlpy\\tag\\_okt.py:16: UserWarning: \"Twitter\" has changed to \"Okt\" since KoNLPy v0.4.5.\n",
      "  warn('\"Twitter\" has changed to \"Okt\" since KoNLPy v0.4.5.')\n",
      "C:\\Users\\Kim\\AppData\\Roaming\\Python\\Python37\\site-packages\\sklearn\\feature_extraction\\text.py:484: UserWarning: The parameter 'token_pattern' will not be used since 'tokenizer' is not None'\n",
      "  warnings.warn(\"The parameter 'token_pattern' will not be used\"\n"
     ]
    },
    {
     "data": {
      "text/plain": [
       "<3156x3934 sparse matrix of type '<class 'numpy.float64'>'\n",
       "\twith 51636 stored elements in Compressed Sparse Row format>"
      ]
     },
     "execution_count": 74,
     "metadata": {},
     "output_type": "execute_result"
    }
   ],
   "source": [
    "from konlpy.tag import Twitter\n",
    "from sklearn.feature_extraction.text import TfidfVectorizer\n",
    "\n",
    "twitter = Twitter()\n",
    "\n",
    "tfv = TfidfVectorizer(tokenizer=twitter.morphs, ngram_range=(1,2), min_df=3, max_df = 0.9)\n",
    "tfv.fit(train_x)\n",
    "\n",
    "tfv_train_x = tfv.transform(train_x)\n",
    "tfv_train_x"
   ]
  },
  {
   "cell_type": "code",
   "execution_count": 75,
   "id": "vocal-recorder",
   "metadata": {
    "ExecuteTime": {
     "end_time": "2021-06-20T07:39:59.940617Z",
     "start_time": "2021-06-20T07:39:58.907089Z"
    }
   },
   "outputs": [
    {
     "name": "stdout",
     "output_type": "stream",
     "text": [
      "Fitting 4 folds for each of 5 candidates, totalling 20 fits\n"
     ]
    },
    {
     "name": "stderr",
     "output_type": "stream",
     "text": [
      "[Parallel(n_jobs=1)]: Using backend SequentialBackend with 1 concurrent workers.\n",
      "[Parallel(n_jobs=1)]: Done  20 out of  20 | elapsed:    0.9s finished\n"
     ]
    },
    {
     "data": {
      "text/plain": [
       "GridSearchCV(cv=4, estimator=LogisticRegression(random_state=0),\n",
       "             param_grid={'C': [1, 3, 5, 7, 9]}, scoring='accuracy', verbose=1)"
      ]
     },
     "execution_count": 75,
     "metadata": {},
     "output_type": "execute_result"
    }
   ],
   "source": [
    "from sklearn.linear_model import LogisticRegression\n",
    "from sklearn.model_selection import GridSearchCV\n",
    "\n",
    "clf = LogisticRegression(random_state=0)\n",
    "params = {\"C\":[1,3,5,7,9]} # 규제 강도 설정\n",
    "grid_cv = GridSearchCV(clf, param_grid=params, cv = 4, scoring='accuracy', verbose=1)\n",
    "grid_cv.fit(tfv_train_x, train_y)"
   ]
  },
  {
   "cell_type": "code",
   "execution_count": 76,
   "id": "indonesian-irrigation",
   "metadata": {
    "ExecuteTime": {
     "end_time": "2021-06-20T07:40:37.494735Z",
     "start_time": "2021-06-20T07:40:36.383098Z"
    }
   },
   "outputs": [
    {
     "data": {
      "text/plain": [
       "0.8555133079847909"
      ]
     },
     "execution_count": 76,
     "metadata": {},
     "output_type": "execute_result"
    }
   ],
   "source": [
    "tfv_test_x = tfv.transform(test_x)\n",
    "grid_cv.best_estimator_.score(tfv_test_x, test_y)"
   ]
  },
  {
   "cell_type": "code",
   "execution_count": 77,
   "id": "several-beads",
   "metadata": {
    "ExecuteTime": {
     "end_time": "2021-06-20T07:40:40.834645Z",
     "start_time": "2021-06-20T07:40:40.804726Z"
    }
   },
   "outputs": [
    {
     "data": {
      "text/plain": [
       "array([0, 0, 1, 1, 1, 1, 1, 0, 0, 1], dtype=int64)"
      ]
     },
     "execution_count": 77,
     "metadata": {},
     "output_type": "execute_result"
    }
   ],
   "source": [
    "r=[\"시간 아깝네요.\",\"스토리 전개가 고구마 먹는 듯 답답\",\"조연이 살렸네요\",\"도무지 주제도 모르겠고 멀 전달하려는지 모르겠음\",\"아무 생각없이 보면 재미있는 것 같기는 한데 추천하고 싶진 않네요.\",\n",
    "  \"몰입도가 높은 영화입니다. 시간 가는 줄 몰랐네요.\",\"곱씹을수록 잘 만들어진 영화인 것 같아요. 다시 볼 겁니다.\",\"어이가 없네\",\"평점 알바 왜이렇게 많냐\",\n",
    "  \"일상의 고단함을 잊게 해주었던 인생영화\"]\n",
    "my_review = tfv.transform(r)\n",
    "grid_cv.best_estimator_.predict(my_review)"
   ]
  },
  {
   "cell_type": "code",
   "execution_count": 83,
   "id": "automated-contrast",
   "metadata": {
    "ExecuteTime": {
     "end_time": "2021-06-20T07:42:20.215431Z",
     "start_time": "2021-06-20T07:42:20.202463Z"
    }
   },
   "outputs": [
    {
     "name": "stdout",
     "output_type": "stream",
     "text": [
      "시간 아깝네요. : 부정\n",
      "스토리 전개가 고구마 먹는 듯 답답 : 부정\n",
      "조연이 살렸네요 : 긍정\n",
      "도무지 주제도 모르겠고 멀 전달하려는지 모르겠음 : 긍정\n",
      "아무 생각없이 보면 재미있는 것 같기는 한데 추천하고 싶진 않네요. : 긍정\n",
      "몰입도가 높은 영화입니다. 시간 가는 줄 몰랐네요. : 긍정\n",
      "곱씹을수록 잘 만들어진 영화인 것 같아요. 다시 볼 겁니다. : 긍정\n",
      "어이가 없네 : 부정\n",
      "평점 알바 왜이렇게 많냐 : 부정\n",
      "일상의 고단함을 잊게 해주었던 인생영화 : 긍정\n"
     ]
    }
   ],
   "source": [
    "for i, j in zip(r, grid_cv.best_estimator_.predict(my_review)):\n",
    "    if j == 0:\n",
    "        j = '부정'\n",
    "    else:\n",
    "        j = '긍정'\n",
    "    print(i,':', j)"
   ]
  },
  {
   "cell_type": "markdown",
   "id": "bearing-waters",
   "metadata": {},
   "source": [
    "로지스틱 회귀 모델의 정확도는 약 0.855로 실제 새로운 데이터에 대해서 분류를 진행한 결과 2 데이터를 제외하고 나머지 8개 데이터에 대해 정확한 감성 분류를 진행한 것으로 파악됩니다."
   ]
  },
  {
   "cell_type": "markdown",
   "id": "cultural-export",
   "metadata": {},
   "source": [
    "# 로지스틱 회귀를 이용한 암 여부 판단 모델\n",
    "---"
   ]
  },
  {
   "cell_type": "markdown",
   "id": "copyrighted-translation",
   "metadata": {},
   "source": [
    "이번에는 sklearn에서 제공하는 위스콘신 유방암 데이터를 이용해 종양 데이터를 이용해 양성, 악성 종양 여부를 판단하는 분류 모델을 생성해보겠습니다."
   ]
  },
  {
   "cell_type": "code",
   "execution_count": 87,
   "id": "positive-serial",
   "metadata": {
    "ExecuteTime": {
     "end_time": "2021-06-20T07:50:12.559558Z",
     "start_time": "2021-06-20T07:50:12.537617Z"
    }
   },
   "outputs": [],
   "source": [
    "from sklearn.datasets import load_breast_cancer\n",
    "from sklearn.linear_model import LogisticRegression\n",
    "\n",
    "# 위스콘신 데이터 로드\n",
    "cancer = load_breast_cancer()\n",
    "\n",
    "from sklearn.preprocessing import StandardScaler\n",
    "from sklearn.model_selection import train_test_split\n",
    "\n",
    "# 학습 전 데이터가 가우시안 정규분포를 따르도록 표준화 진행\n",
    "scaler = StandardScaler()\n",
    "data_scaled = scaler.fit_transform(cancer.data)\n",
    "\n",
    "# 학습, 테스트 데이터 셋 분리\n",
    "X_train, X_test, y_train, y_test = train_test_split(data_scaled, cancer.target,\n",
    "                                                   test_size=0.3)"
   ]
  },
  {
   "cell_type": "code",
   "execution_count": 88,
   "id": "compatible-dayton",
   "metadata": {
    "ExecuteTime": {
     "end_time": "2021-06-20T07:52:18.182066Z",
     "start_time": "2021-06-20T07:52:18.158129Z"
    }
   },
   "outputs": [
    {
     "name": "stdout",
     "output_type": "stream",
     "text": [
      "Accuacy Score:  0.9649122807017544\n",
      "ROC AUC Score:  0.9656834112149533\n"
     ]
    }
   ],
   "source": [
    "from sklearn.metrics import accuracy_score, roc_auc_score\n",
    "\n",
    "# 로지스틱 회귀 모델 생성 및 학습\n",
    "lr_clf = LogisticRegression()\n",
    "lr_clf.fit(X_train, y_train)\n",
    "pred = lr_clf.predict(X_test)\n",
    "\n",
    "# 성능 평가\n",
    "print('Accuacy Score: ', accuracy_score(y_test, pred))\n",
    "print('ROC AUC Score: ', roc_auc_score(y_test, pred))"
   ]
  },
  {
   "cell_type": "markdown",
   "id": "advisory-coaching",
   "metadata": {},
   "source": [
    "위 결과 정확도와 ROC_AUC Score모두 높은 성능을 보이는 분류 모델이 생성된 것을 확인할 수 있습니다."
   ]
  },
  {
   "cell_type": "markdown",
   "id": "apparent-laptop",
   "metadata": {},
   "source": [
    "이번에는 GridSearch를 이용해 여러가지 하이퍼 파라미터를 적용해 모델을 생성해보겠습니다.\n",
    "\n",
    "로지스틱 회귀 모델의 경우 주요 하이퍼 파라미터로 **penalty와 C**가 존재하는데 여기서 penalty는 L1, L2 규제를 적용하는 파라미터이며 C의 경우 규제 강도를 조정하는 alhpa 값의 역수입니다.(C = 1/alpha) 즉, C 가 클수록 규제 강도가 크다고 이해할 수 있습니다."
   ]
  },
  {
   "cell_type": "code",
   "execution_count": 95,
   "id": "referenced-pledge",
   "metadata": {
    "ExecuteTime": {
     "end_time": "2021-06-20T08:00:51.323400Z",
     "start_time": "2021-06-20T08:00:51.195728Z"
    }
   },
   "outputs": [
    {
     "name": "stdout",
     "output_type": "stream",
     "text": [
      "최적 하이퍼 파라미터 :{'C': 0.1, 'penalty': 'l2'}, 최적 평균 정확도 :0.965\n"
     ]
    }
   ],
   "source": [
    "from sklearn.model_selection import GridSearchCV\n",
    "\n",
    "params = {'penalty':['l2', 'l1'],\n",
    "         'C':[0.01, 0.1, 1, 5, 10]}\n",
    "\n",
    "grid_clf = GridSearchCV(lr_clf, param_grid=params, scoring='accuracy', cv=3)\n",
    "grid_clf.fit(X_train, y_train)\n",
    "print('최적 하이퍼 파라미터 :{0}, 최적 평균 정확도 :{1:.3f}'.format(grid_clf.best_params_,\n",
    "                                                   grid_clf.best_score_))"
   ]
  },
  {
   "cell_type": "markdown",
   "id": "fatty-command",
   "metadata": {},
   "source": [
    "GridSearch를 이용해 L1, L2 규제를 적용했고 C 파라미터를 통해 규제 강도를 설정했습니다. 그 결과 위와 같은 최적의 하이퍼 파라미터를 얻게 되었고 위의 모델과 비교하기 위해 Accuacy, ROC_AUC를 비교한 결과 ROC_AUC score가 개선된 것을 확인할 수 있습니다."
   ]
  },
  {
   "cell_type": "code",
   "execution_count": 100,
   "id": "united-movie",
   "metadata": {
    "ExecuteTime": {
     "end_time": "2021-06-20T08:03:30.384827Z",
     "start_time": "2021-06-20T08:03:30.370862Z"
    }
   },
   "outputs": [
    {
     "name": "stdout",
     "output_type": "stream",
     "text": [
      "Accuacy Score:  0.9647793726741094\n",
      "ROC AUC Score:  0.9750292056074766\n"
     ]
    }
   ],
   "source": [
    "pred = grid_clf.predict(X_test)\n",
    "print('Accuacy Score: ', grid_clf.best_score_)\n",
    "print('ROC AUC Score: ', roc_auc_score(y_test, pred))"
   ]
  },
  {
   "cell_type": "markdown",
   "id": "fifth-front",
   "metadata": {},
   "source": [
    "이 글은 머신러닝 완벽가이드를 참고했으며 영리 목적이 아닌 개인적인 학습을 위해 정리한 내용을 바탕으로 작성했음을 밝힙니다."
   ]
  }
 ],
 "metadata": {
  "kernelspec": {
   "display_name": "Python 3",
   "language": "python",
   "name": "python3"
  },
  "language_info": {
   "codemirror_mode": {
    "name": "ipython",
    "version": 3
   },
   "file_extension": ".py",
   "mimetype": "text/x-python",
   "name": "python",
   "nbconvert_exporter": "python",
   "pygments_lexer": "ipython3",
   "version": "3.7.10"
  },
  "toc": {
   "base_numbering": 1,
   "nav_menu": {},
   "number_sections": true,
   "sideBar": true,
   "skip_h1_title": false,
   "title_cell": "Table of Contents",
   "title_sidebar": "Contents",
   "toc_cell": false,
   "toc_position": {},
   "toc_section_display": true,
   "toc_window_display": false
  },
  "varInspector": {
   "cols": {
    "lenName": 16,
    "lenType": 16,
    "lenVar": 40
   },
   "kernels_config": {
    "python": {
     "delete_cmd_postfix": "",
     "delete_cmd_prefix": "del ",
     "library": "var_list.py",
     "varRefreshCmd": "print(var_dic_list())"
    },
    "r": {
     "delete_cmd_postfix": ") ",
     "delete_cmd_prefix": "rm(",
     "library": "var_list.r",
     "varRefreshCmd": "cat(var_dic_list()) "
    }
   },
   "types_to_exclude": [
    "module",
    "function",
    "builtin_function_or_method",
    "instance",
    "_Feature"
   ],
   "window_display": false
  }
 },
 "nbformat": 4,
 "nbformat_minor": 5
}
