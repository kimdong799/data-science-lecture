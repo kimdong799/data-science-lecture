{
 "cells": [
  {
   "cell_type": "markdown",
   "id": "imported-looking",
   "metadata": {},
   "source": [
    "사이킷런의 `model_selection` 모듈은 학습(Training)데이터와 테스트 `데이터 세트를 분리`하거나 `교차 검증 분할 및 평가`, 그리고 `Estimator의 하이퍼 파라미터를 튜닝`하기 위한 다양한 함수와 클래스를 제공합니다."
   ]
  },
  {
   "cell_type": "markdown",
   "id": "stunning-wallpaper",
   "metadata": {},
   "source": [
    "# 학습/테스트 데이터 세트 분리 - train_test_split()"
   ]
  },
  {
   "cell_type": "markdown",
   "id": "technological-vegetable",
   "metadata": {},
   "source": [
    "먼저 테스트 데이터 세트를 이용하지 않고 학습 데이터 세트로만 ML모델을 학습하면 과적합 문제가 발생한다고 설명했습니다. \n",
    "\n",
    "실제로 학습 데이터 세트로만 학습을 진행하면 어떤 문제가 발생하는지 알아보겠습니다."
   ]
  },
  {
   "cell_type": "code",
   "execution_count": 4,
   "id": "architectural-yorkshire",
   "metadata": {
    "ExecuteTime": {
     "end_time": "2021-04-04T03:13:38.519309Z",
     "start_time": "2021-04-04T03:13:38.504349Z"
    }
   },
   "outputs": [
    {
     "name": "stdout",
     "output_type": "stream",
     "text": [
      "예측 정확도:  1.0\n"
     ]
    }
   ],
   "source": [
    "from sklearn.datasets import load_iris\n",
    "from sklearn.tree import DecisionTreeClassifier\n",
    "from sklearn.metrics import accuracy_score\n",
    "\n",
    "# Iris 데이터 로드\n",
    "iris = load_iris()\n",
    "\n",
    "# DecisionTreeClassifier 객체 생성\n",
    "dt_clf = DecisionTreeClassifier()\n",
    "\n",
    "# train_data 준비\n",
    "train_data = iris.data\n",
    "\n",
    "# train_label 준비\n",
    "train_label = iris.target\n",
    "\n",
    "# 모델 학습\n",
    "dt_clf.fit(train_data, train_label)\n",
    "\n",
    "# 학습 데이터 세트로 예측 수행\n",
    "pred = dt_clf.predict(train_data)\n",
    "print(\"예측 정확도: \",accuracy_score(train_label, pred))"
   ]
  },
  {
   "cell_type": "markdown",
   "id": "parental-british",
   "metadata": {},
   "source": [
    "보시는 바와 같이 이미 학습된 데이터 세트를 기반으로 예측한 결과 정확도가 1이 나옵니다. 즉, 위 ML모델의 성능이 100%로 Iris 데이터를 예측한다는 뜻입니다.\n",
    "\n",
    "이 경우는 쉽게 생각하면 모의고사를 한 번 보고 답을 알고 있는 상태에서 다시 똑같은 문제를 시험본 것과 동일한 경우입니다.\n",
    "\n",
    "따라서 `예측을 수행하는 데이터 세트는 기존에 학습되지 않은 새로운 데이터 세트여야 합니다.` \n",
    "\n",
    "이러한 이유로 데이터 세트를 분리해야하는데 사이킷런의 `train_test_split()` 함수는 원본 데이터 세트를 학습, 테스트 데이터 세트로 쉽게 분리해주는 기능을 제공합니다."
   ]
  },
  {
   "cell_type": "markdown",
   "id": "tired-crawford",
   "metadata": {},
   "source": [
    "`train_test_split() 함수는 sklearn.model_selection 모듈`에서 로드할 수 있습니다. \n",
    "\n",
    "`train_test_split()은 첫번째 파라미터로 피처데이터 세트, 두번째로 레이블 데이터 세트를 입력 받습니다.`\n",
    "\n",
    "그리고 선택적으로 아래의 파라미터를 지정할 수 있습니다."
   ]
  },
  {
   "cell_type": "markdown",
   "id": "silent-problem",
   "metadata": {},
   "source": [
    "- **`test_size`**: 테스트 데이터 세트 크기를 지정, 디폴트는 25%\n",
    "\n",
    "\n",
    "\n",
    "- **`train_size`**: 학습용 데이터 세트 크기를 지정(test만 지정하면 자동으로 지정)\n",
    "\n",
    "\n",
    "- **`shuffle`**: 데이터를 분리하기 전 데이터를 섞을지 결정, 디폴트는 True, 데이터를 분산시켜 더 효율적인 학습 및 테스트 데이터 세트를 만드는 데 사용\n",
    "\n",
    "\n",
    "- **`random_state`**: random_state는 호출할 때마다 동일한 학습/테스트용 데이터 세트를 생성하기 위해 주어지는 난수 값.(동일한 분리를 위해 사용)\n",
    "\n",
    "\n",
    "- **`train_test_split()`**의 반환값은 튜플 형태. 순차적으로 x_train, x_test, y_train, y_test 반환"
   ]
  },
  {
   "cell_type": "markdown",
   "id": "objective-aerospace",
   "metadata": {},
   "source": [
    "붓꽃 데이터 세트를 train_test_split()을 이용해 train, test 데이터 세트의 비율을 7:3으로 지정하겠습니다."
   ]
  },
  {
   "cell_type": "code",
   "execution_count": 9,
   "id": "demanding-breach",
   "metadata": {
    "ExecuteTime": {
     "end_time": "2021-04-04T03:27:40.198503Z",
     "start_time": "2021-04-04T03:27:40.179554Z"
    }
   },
   "outputs": [],
   "source": [
    "from sklearn.tree import DecisionTreeClassifier\n",
    "from sklearn.metrics import accuracy_score\n",
    "from sklearn.datasets import load_iris\n",
    "from sklearn.model_selection import train_test_split\n",
    "\n",
    "dt_clf = DecisionTreeClassifier()\n",
    "iris = load_iris()\n",
    "iris_data = iris.data\n",
    "iris_label = iris.target\n",
    "\n",
    "X_train, X_test, y_train, y_test = train_test_split(iris_data, iris_label, test_size=0.3, random_state=121)"
   ]
  },
  {
   "cell_type": "markdown",
   "id": "corrected-awareness",
   "metadata": {},
   "source": [
    "학습 데이터를 기반으로 DecisionTreeClassifier를 학습하고 test 데이터를 이용해 예측 정확도를 측정해보겠습니다."
   ]
  },
  {
   "cell_type": "code",
   "execution_count": 17,
   "id": "simplified-courage",
   "metadata": {
    "ExecuteTime": {
     "end_time": "2021-04-04T03:30:09.833674Z",
     "start_time": "2021-04-04T03:30:09.817714Z"
    }
   },
   "outputs": [
    {
     "name": "stdout",
     "output_type": "stream",
     "text": [
      "예측 정확도: 0.956%\n"
     ]
    }
   ],
   "source": [
    "dt_clf.fit(X_train, y_train)\n",
    "pred = dt_clf.predict(X_test)\n",
    "\n",
    "print(\"예측 정확도: {0:.3f}%\".format(accuracy_score(y_test, pred)))"
   ]
  },
  {
   "cell_type": "markdown",
   "id": "common-globe",
   "metadata": {},
   "source": [
    "테스트 데이터로 예측을 수행한 결과는 이전의 1보다 약간 낮은 95%가 측정됩니다.\n",
    "\n",
    "붓꽃 데이터는 150개의 데이터로 양이 그리 크지 않아 전체의 30% 정도인 테스트 데이터는 45개이므로 알고리즘의 예측 성능을 판단하기에 적합하진 않습니다. \n",
    "\n",
    "**`학습을 위한 데이터의 양을 일정 수준 이상으로 보장하는 것도 중요한 이슈이지만 다양한 데이터를 기반으로 예측 성능을 평가하는 것 또한 매우 중요한 이슈입니다.`**"
   ]
  },
  {
   "cell_type": "code",
   "execution_count": null,
   "id": "electoral-nickname",
   "metadata": {},
   "outputs": [],
   "source": []
  }
 ],
 "metadata": {
  "kernelspec": {
   "display_name": "Python 3",
   "language": "python",
   "name": "python3"
  },
  "language_info": {
   "codemirror_mode": {
    "name": "ipython",
    "version": 3
   },
   "file_extension": ".py",
   "mimetype": "text/x-python",
   "name": "python",
   "nbconvert_exporter": "python",
   "pygments_lexer": "ipython3",
   "version": "3.7.10"
  },
  "toc": {
   "base_numbering": 1,
   "nav_menu": {},
   "number_sections": true,
   "sideBar": true,
   "skip_h1_title": false,
   "title_cell": "Table of Contents",
   "title_sidebar": "Contents",
   "toc_cell": false,
   "toc_position": {},
   "toc_section_display": true,
   "toc_window_display": false
  },
  "varInspector": {
   "cols": {
    "lenName": 16,
    "lenType": 16,
    "lenVar": 40
   },
   "kernels_config": {
    "python": {
     "delete_cmd_postfix": "",
     "delete_cmd_prefix": "del ",
     "library": "var_list.py",
     "varRefreshCmd": "print(var_dic_list())"
    },
    "r": {
     "delete_cmd_postfix": ") ",
     "delete_cmd_prefix": "rm(",
     "library": "var_list.r",
     "varRefreshCmd": "cat(var_dic_list()) "
    }
   },
   "types_to_exclude": [
    "module",
    "function",
    "builtin_function_or_method",
    "instance",
    "_Feature"
   ],
   "window_display": false
  }
 },
 "nbformat": 4,
 "nbformat_minor": 5
}
