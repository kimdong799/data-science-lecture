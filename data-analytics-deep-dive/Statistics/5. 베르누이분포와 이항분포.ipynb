{
 "cells": [
  {
   "cell_type": "markdown",
   "id": "resident-venue",
   "metadata": {},
   "source": [
    "사이파이는 수치해석 기능을 제공하는 파이썬 패키지\n",
    "\n",
    "stats 서브패키지로 확률분포 분석 가능"
   ]
  },
  {
   "cell_type": "code",
   "execution_count": 1,
   "id": "intelligent-vault",
   "metadata": {
    "ExecuteTime": {
     "end_time": "2021-08-04T04:09:11.550790Z",
     "start_time": "2021-08-04T04:09:11.543842Z"
    }
   },
   "outputs": [],
   "source": [
    "import scipy as sp\n",
    "import scipy.stats"
   ]
  },
  {
   "cell_type": "markdown",
   "id": "respected-interim",
   "metadata": {},
   "source": [
    "## 확률분포 클래스"
   ]
  },
  {
   "cell_type": "markdown",
   "id": "direct-saskatchewan",
   "metadata": {},
   "source": [
    "사이파이를 통해 확률분포 기능을 사용하려면 `확률분포에 대한 확률분포 클래스 객체를 생성한다.`"
   ]
  },
  {
   "cell_type": "code",
   "execution_count": 2,
   "id": "acceptable-professor",
   "metadata": {
    "ExecuteTime": {
     "end_time": "2021-08-04T04:09:12.574557Z",
     "start_time": "2021-08-04T04:09:12.524134Z"
    }
   },
   "outputs": [
    {
     "data": {
      "text/html": [
       "<div>\n",
       "<style scoped>\n",
       "    .dataframe tbody tr th:only-of-type {\n",
       "        vertical-align: middle;\n",
       "    }\n",
       "\n",
       "    .dataframe tbody tr th {\n",
       "        vertical-align: top;\n",
       "    }\n",
       "\n",
       "    .dataframe thead th {\n",
       "        text-align: right;\n",
       "    }\n",
       "</style>\n",
       "<table border=\"1\" class=\"dataframe\">\n",
       "  <thead>\n",
       "    <tr style=\"text-align: right;\">\n",
       "      <th></th>\n",
       "      <th>종류</th>\n",
       "      <th>명령</th>\n",
       "      <th>확률분포</th>\n",
       "    </tr>\n",
       "  </thead>\n",
       "  <tbody>\n",
       "    <tr>\n",
       "      <th>0</th>\n",
       "      <td>이산</td>\n",
       "      <td>bernoulli</td>\n",
       "      <td>베르누이분포</td>\n",
       "    </tr>\n",
       "    <tr>\n",
       "      <th>1</th>\n",
       "      <td>이산</td>\n",
       "      <td>binom</td>\n",
       "      <td>이항분포</td>\n",
       "    </tr>\n",
       "    <tr>\n",
       "      <th>2</th>\n",
       "      <td>이산</td>\n",
       "      <td>multinomial</td>\n",
       "      <td>다항분포</td>\n",
       "    </tr>\n",
       "    <tr>\n",
       "      <th>3</th>\n",
       "      <td>연속</td>\n",
       "      <td>uniform</td>\n",
       "      <td>균일분포</td>\n",
       "    </tr>\n",
       "    <tr>\n",
       "      <th>4</th>\n",
       "      <td>연속</td>\n",
       "      <td>norm</td>\n",
       "      <td>정규분포</td>\n",
       "    </tr>\n",
       "    <tr>\n",
       "      <th>5</th>\n",
       "      <td>연속</td>\n",
       "      <td>beta</td>\n",
       "      <td>베타분포</td>\n",
       "    </tr>\n",
       "    <tr>\n",
       "      <th>6</th>\n",
       "      <td>연속</td>\n",
       "      <td>gamma</td>\n",
       "      <td>감마분포</td>\n",
       "    </tr>\n",
       "    <tr>\n",
       "      <th>7</th>\n",
       "      <td>연속</td>\n",
       "      <td>t</td>\n",
       "      <td>스튜던트 t분포</td>\n",
       "    </tr>\n",
       "    <tr>\n",
       "      <th>8</th>\n",
       "      <td>연속</td>\n",
       "      <td>chi2</td>\n",
       "      <td>카이제곱분포</td>\n",
       "    </tr>\n",
       "    <tr>\n",
       "      <th>9</th>\n",
       "      <td>연속</td>\n",
       "      <td>f</td>\n",
       "      <td>F분포</td>\n",
       "    </tr>\n",
       "    <tr>\n",
       "      <th>10</th>\n",
       "      <td>연속</td>\n",
       "      <td>dirichlet</td>\n",
       "      <td>디리클리분포</td>\n",
       "    </tr>\n",
       "    <tr>\n",
       "      <th>11</th>\n",
       "      <td>연속</td>\n",
       "      <td>multivariate_normal</td>\n",
       "      <td>다변수정규분포</td>\n",
       "    </tr>\n",
       "  </tbody>\n",
       "</table>\n",
       "</div>"
      ],
      "text/plain": [
       "    종류                   명령      확률분포\n",
       "0   이산            bernoulli    베르누이분포\n",
       "1   이산                binom      이항분포\n",
       "2   이산          multinomial      다항분포\n",
       "3   연속              uniform      균일분포\n",
       "4   연속                 norm      정규분포\n",
       "5   연속                 beta      베타분포\n",
       "6   연속                gamma      감마분포\n",
       "7   연속                    t  스튜던트 t분포\n",
       "8   연속                 chi2    카이제곱분포\n",
       "9   연속                    f       F분포\n",
       "10  연속            dirichlet    디리클리분포\n",
       "11  연속  multivariate_normal   다변수정규분포"
      ]
     },
     "execution_count": 2,
     "metadata": {},
     "output_type": "execute_result"
    }
   ],
   "source": [
    "pd.DataFrame({\n",
    "    '종류':['이산','이산','이산','연속','연속','연속','연속','연속','연속','연속','연속','연속'],\n",
    "    '명령':['bernoulli', 'binom','multinomial','uniform','norm','beta','gamma','t','chi2','f','dirichlet','multivariate_normal'],\n",
    "    '확률분포':['베르누이분포', '이항분포','다항분포','균일분포','정규분포','베타분포','감마분포','스튜던트 t분포','카이제곱분포','F분포','디리클리분포','다변수정규분포']\n",
    "})"
   ]
  },
  {
   "cell_type": "code",
   "execution_count": 3,
   "id": "compressed-strip",
   "metadata": {
    "ExecuteTime": {
     "end_time": "2021-08-04T04:09:12.621429Z",
     "start_time": "2021-08-04T04:09:12.607466Z"
    }
   },
   "outputs": [
    {
     "data": {
      "text/plain": [
       "<scipy.stats._distn_infrastructure.rv_frozen at 0x10b4d087f48>"
      ]
     },
     "execution_count": 3,
     "metadata": {},
     "output_type": "execute_result"
    }
   ],
   "source": [
    "# 생성예시 - 정규분포\n",
    "\n",
    "rv = sp.stats.norm()\n",
    "rv"
   ]
  },
  {
   "cell_type": "markdown",
   "id": "lesbian-optics",
   "metadata": {},
   "source": [
    "## 모수지정"
   ]
  },
  {
   "cell_type": "markdown",
   "id": "quality-relaxation",
   "metadata": {},
   "source": [
    "확률분포 객체를 위와 같이 생성했다면 그 확률분포의 형상을 구체적으로 지정하는 **모수**를 인수로 넘겨야한다."
   ]
  },
  {
   "cell_type": "markdown",
   "id": "objective-motel",
   "metadata": {},
   "source": [
    "확률분포마다 인수가 달라지지만 대부분 기댓값과 표준편차를 공통 인자로 가진다."
   ]
  },
  {
   "cell_type": "markdown",
   "id": "dietary-grant",
   "metadata": {},
   "source": [
    "- loc : 분포의 기댓값\n",
    "    \n",
    "- scale : 분포의 표준편차"
   ]
  },
  {
   "cell_type": "code",
   "execution_count": 4,
   "id": "widespread-maldives",
   "metadata": {
    "ExecuteTime": {
     "end_time": "2021-08-04T04:09:12.714199Z",
     "start_time": "2021-08-04T04:09:12.701229Z"
    }
   },
   "outputs": [
    {
     "data": {
      "text/plain": [
       "<scipy.stats._distn_infrastructure.rv_frozen at 0x10b4d0cb4c8>"
      ]
     },
     "execution_count": 4,
     "metadata": {},
     "output_type": "execute_result"
    }
   ],
   "source": [
    "# 기댓값 1, 표준편차 2인 정규분포\n",
    "\n",
    "rv = sp.stats.norm(loc=1, scale=2)\n",
    "rv"
   ]
  },
  {
   "cell_type": "markdown",
   "id": "electrical-holocaust",
   "metadata": {},
   "source": [
    "## 확률분포 메소드"
   ]
  },
  {
   "cell_type": "markdown",
   "id": "pursuant-clark",
   "metadata": {},
   "source": [
    "- pmf : 확률질량함수\n",
    "- pdf : 확률밀도함수\n",
    "- cdf : 누적분포함수\n",
    "- ppf : 누적분포함수의 역함수\n",
    "- sf : 생존함수 = 1 - 누적분포함수\n",
    "- isf : 생존함수의 역함수\n",
    "- rvs : 랜덤표본생성"
   ]
  },
  {
   "cell_type": "markdown",
   "id": "opposed-chess",
   "metadata": {},
   "source": [
    "## 확률밀도함수 : PDF"
   ]
  },
  {
   "cell_type": "code",
   "execution_count": 5,
   "id": "minimal-dutch",
   "metadata": {
    "ExecuteTime": {
     "end_time": "2021-08-04T04:09:13.424113Z",
     "start_time": "2021-08-04T04:09:12.821212Z"
    }
   },
   "outputs": [
    {
     "name": "stderr",
     "output_type": "stream",
     "text": [
      "C:\\Users\\Kim\\AppData\\Roaming\\Python\\Python37\\site-packages\\matplotlib\\backends\\backend_agg.py:240: RuntimeWarning: Glyph 8722 missing from current font.\n",
      "  font.set_text(s, 0.0, flags=flags)\n",
      "C:\\Users\\Kim\\AppData\\Roaming\\Python\\Python37\\site-packages\\matplotlib\\backends\\backend_agg.py:203: RuntimeWarning: Glyph 8722 missing from current font.\n",
      "  font.set_text(s, 0, flags=flags)\n"
     ]
    },
    {
     "data": {
      "image/png": "[encoded data removed]",
      "text/plain": [
       "<Figure size 432x288 with 1 Axes>"
      ]
     },
     "metadata": {
      "image/png": {
       "height": 279,
       "width": 395
      },
      "needs_background": "light"
     },
     "output_type": "display_data"
    }
   ],
   "source": [
    "xx = np.linspace(-8, 8, 100)\n",
    "pdf = rv.pdf(xx)\n",
    "plt.plot(xx, pdf)\n",
    "plt.title('확률밀도함수')\n",
    "plt.xlabel('$x$')\n",
    "plt.ylabel('$p(x)$')\n",
    "plt.grid()\n",
    "plt.show()"
   ]
  },
  {
   "cell_type": "code",
   "execution_count": 6,
   "id": "noted-setup",
   "metadata": {
    "ExecuteTime": {
     "end_time": "2021-08-04T04:09:13.598110Z",
     "start_time": "2021-08-04T04:09:13.456139Z"
    }
   },
   "outputs": [
    {
     "name": "stderr",
     "output_type": "stream",
     "text": [
      "C:\\Users\\Kim\\AppData\\Roaming\\Python\\Python37\\site-packages\\matplotlib\\backends\\backend_agg.py:240: RuntimeWarning: Glyph 8722 missing from current font.\n",
      "  font.set_text(s, 0.0, flags=flags)\n",
      "C:\\Users\\Kim\\AppData\\Roaming\\Python\\Python37\\site-packages\\matplotlib\\backends\\backend_agg.py:203: RuntimeWarning: Glyph 8722 missing from current font.\n",
      "  font.set_text(s, 0, flags=flags)\n"
     ]
    },
    {
     "data": {
      "image/png": "[encoded data removed]",
      "text/plain": [
       "<Figure size 432x288 with 1 Axes>"
      ]
     },
     "metadata": {
      "image/png": {
       "height": 249,
       "width": 369
      },
      "needs_background": "light"
     },
     "output_type": "display_data"
    }
   ],
   "source": [
    "rv2 = sp.stats.norm(loc=0, scale=0.1)\n",
    "xx = np.linspace(-1, 1, 1000)\n",
    "pdf = rv2.pdf(xx)\n",
    "plt.plot(xx, pdf)\n",
    "plt.grid()\n",
    "plt.show()"
   ]
  },
  {
   "cell_type": "markdown",
   "id": "suffering-blackjack",
   "metadata": {},
   "source": [
    "확률밀도함수는 cdf(누적분포함수)의 기울기를 나타내며 말 그대로 어느 구간에 확률의 밀도가 가장 높은가(어떤 구간에 확률이 가장 많은가)를 나타낸다. 그 증거로 위의 PDF는 1을 넘어 4까지 값을 가진다."
   ]
  },
  {
   "cell_type": "code",
   "execution_count": 7,
   "id": "genuine-finding",
   "metadata": {
    "ExecuteTime": {
     "end_time": "2021-08-04T04:09:13.676575Z",
     "start_time": "2021-08-04T04:09:13.662579Z"
    }
   },
   "outputs": [
    {
     "data": {
      "text/plain": [
       "3.9892229383393256"
      ]
     },
     "execution_count": 7,
     "metadata": {},
     "output_type": "execute_result"
    }
   ],
   "source": [
    "np.max(pdf)"
   ]
  },
  {
   "cell_type": "code",
   "execution_count": 8,
   "id": "curious-veteran",
   "metadata": {
    "ExecuteTime": {
     "end_time": "2021-08-04T04:09:13.802706Z",
     "start_time": "2021-08-04T04:09:13.788743Z"
    }
   },
   "outputs": [
    {
     "data": {
      "text/plain": [
       "3.989422804014327"
      ]
     },
     "execution_count": 8,
     "metadata": {},
     "output_type": "execute_result"
    }
   ],
   "source": [
    "# x = 0 에서 최댓값을 가진다.\n",
    "\n",
    "rv2.pdf(0)"
   ]
  },
  {
   "cell_type": "code",
   "execution_count": 9,
   "id": "interesting-miami",
   "metadata": {
    "ExecuteTime": {
     "end_time": "2021-08-04T04:09:14.003524Z",
     "start_time": "2021-08-04T04:09:13.866635Z"
    }
   },
   "outputs": [
    {
     "name": "stderr",
     "output_type": "stream",
     "text": [
      "C:\\Users\\Kim\\AppData\\Roaming\\Python\\Python37\\site-packages\\matplotlib\\backends\\backend_agg.py:240: RuntimeWarning: Glyph 8722 missing from current font.\n",
      "  font.set_text(s, 0.0, flags=flags)\n",
      "C:\\Users\\Kim\\AppData\\Roaming\\Python\\Python37\\site-packages\\matplotlib\\backends\\backend_agg.py:203: RuntimeWarning: Glyph 8722 missing from current font.\n",
      "  font.set_text(s, 0, flags=flags)\n"
     ]
    },
    {
     "data": {
      "image/png": "[encoded data removed]",
      "text/plain": [
       "<Figure size 432x288 with 1 Axes>"
      ]
     },
     "metadata": {
      "image/png": {
       "height": 264,
       "width": 369
      },
      "needs_background": "light"
     },
     "output_type": "display_data"
    }
   ],
   "source": [
    "cdf = rv2.cdf(xx)\n",
    "plt.plot(xx, cdf)\n",
    "plt.grid()\n",
    "plt.title('CDF - 누적분포함수')\n",
    "plt.show()"
   ]
  },
  {
   "cell_type": "markdown",
   "id": "amino-structure",
   "metadata": {},
   "source": [
    "누적분포함수의 값은 확률 그 자체를 나타내며 0과 1 사이의 값을 가진다."
   ]
  },
  {
   "cell_type": "markdown",
   "id": "optical-silence",
   "metadata": {},
   "source": [
    "## 무작위 표본 생성"
   ]
  },
  {
   "cell_type": "markdown",
   "id": "personalized-arbitration",
   "metadata": {},
   "source": [
    "`rvs()`메소드를 이용해 무작위 표본 생성가능"
   ]
  },
  {
   "cell_type": "markdown",
   "id": "changed-cover",
   "metadata": {},
   "source": [
    "- size : 표본 생성시 생성될 표본 크기"
   ]
  },
  {
   "cell_type": "code",
   "execution_count": 11,
   "id": "diagnostic-stage",
   "metadata": {
    "ExecuteTime": {
     "end_time": "2021-08-04T04:11:05.215848Z",
     "start_time": "2021-08-04T04:11:05.208867Z"
    }
   },
   "outputs": [
    {
     "data": {
      "text/plain": [
       "array([[ 0.82251684,  4.69070026,  0.62291025,  0.23466681],\n",
       "       [-2.69200085,  1.55645986, -0.33631538,  0.20235423],\n",
       "       [ 0.20358232,  1.30151097, -0.90512527,  2.24652937]])"
      ]
     },
     "execution_count": 11,
     "metadata": {},
     "output_type": "execute_result"
    }
   ],
   "source": [
    "# 3 x 4 행렬\n",
    "\n",
    "rv.rvs(size=(3,4))"
   ]
  },
  {
   "cell_type": "code",
   "execution_count": 13,
   "id": "muslim-pencil",
   "metadata": {
    "ExecuteTime": {
     "end_time": "2021-08-04T04:12:02.501489Z",
     "start_time": "2021-08-04T04:12:02.146286Z"
    }
   },
   "outputs": [
    {
     "name": "stderr",
     "output_type": "stream",
     "text": [
      "C:\\ProgramData\\Anaconda3\\lib\\site-packages\\seaborn\\distributions.py:2557: FutureWarning: `distplot` is a deprecated function and will be removed in a future version. Please adapt your code to use either `displot` (a figure-level function with similar flexibility) or `histplot` (an axes-level function for histograms).\n",
      "  warnings.warn(msg, FutureWarning)\n",
      "C:\\Users\\Kim\\AppData\\Roaming\\Python\\Python37\\site-packages\\matplotlib\\backends\\backend_agg.py:240: RuntimeWarning: Glyph 8722 missing from current font.\n",
      "  font.set_text(s, 0.0, flags=flags)\n",
      "C:\\Users\\Kim\\AppData\\Roaming\\Python\\Python37\\site-packages\\matplotlib\\backends\\backend_agg.py:203: RuntimeWarning: Glyph 8722 missing from current font.\n",
      "  font.set_text(s, 0, flags=flags)\n"
     ]
    },
    {
     "data": {
      "image/png": "[encoded data removed]",
      "text/plain": [
       "<Figure size 432x288 with 1 Axes>"
      ]
     },
     "metadata": {
      "image/png": {
       "height": 279,
       "width": 397
      },
      "needs_background": "light"
     },
     "output_type": "display_data"
    }
   ],
   "source": [
    "sns.distplot(rv.rvs(size=10000))\n",
    "plt.title('random 표본 생성 결과')\n",
    "plt.xlabel('표본값')\n",
    "plt.ylabel('count')\n",
    "plt.xlim(-8, 8)\n",
    "plt.grid()\n",
    "plt.show()"
   ]
  },
  {
   "cell_type": "markdown",
   "id": "lasting-classic",
   "metadata": {},
   "source": [
    "위의 random 표본을 생성한 분포는 기댓값 1, 표준편차를 2로 지정한 정규분포 클래스에서 생성되었다."
   ]
  },
  {
   "cell_type": "code",
   "execution_count": 24,
   "id": "indian-boundary",
   "metadata": {
    "ExecuteTime": {
     "end_time": "2021-08-04T04:15:25.072668Z",
     "start_time": "2021-08-04T04:15:25.063727Z"
    }
   },
   "outputs": [
    {
     "name": "stdout",
     "output_type": "stream",
     "text": [
      " 기댓값 : 0.9830794694424917\n",
      " 표준편차 : 2.009369516647241\n",
      " 비편향표준편차 : 2.0103749555476114\n"
     ]
    },
    {
     "name": "stderr",
     "output_type": "stream",
     "text": [
      "C:\\Users\\Kim\\AppData\\Roaming\\Python\\Python37\\site-packages\\ipykernel_launcher.py:3: DeprecationWarning: scipy.mean is deprecated and will be removed in SciPy 2.0.0, use numpy.mean instead\n",
      "  This is separate from the ipykernel package so we can avoid doing imports until\n",
      "C:\\Users\\Kim\\AppData\\Roaming\\Python\\Python37\\site-packages\\ipykernel_launcher.py:3: DeprecationWarning: scipy.std is deprecated and will be removed in SciPy 2.0.0, use numpy.std instead\n",
      "  This is separate from the ipykernel package so we can avoid doing imports until\n"
     ]
    }
   ],
   "source": [
    "sample = rv.rvs(1000)\n",
    "\n",
    "print(' 기댓값 : {}\\n 표준편차 : {}\\n 비편향표준편차 : {}'.format(sp.mean(sample), sp.std(sample), sp.std(sample, ddof=1)))"
   ]
  },
  {
   "cell_type": "markdown",
   "id": "unlimited-cannon",
   "metadata": {
    "ExecuteTime": {
     "end_time": "2021-08-04T04:15:54.574967Z",
     "start_time": "2021-08-04T04:15:54.557006Z"
    }
   },
   "source": [
    "실제 이론적인 기댓값, 표준편차와 샘플의 기댓값 표준편차가 근사값임을 확인할 수 있다."
   ]
  },
  {
   "cell_type": "markdown",
   "id": "removable-compatibility",
   "metadata": {},
   "source": [
    "## 변환 확률변수의 시물레이션"
   ]
  },
  {
   "cell_type": "markdown",
   "id": "shaped-hotel",
   "metadata": {},
   "source": [
    "0과 1 사이의 균일분포를 가지는 확률변수에서 두 표본값을 생성하고 이 두 값을 합한 결과를 또 하나의 분포로 시각화한다."
   ]
  },
  {
   "cell_type": "markdown",
   "id": "mechanical-refrigerator",
   "metadata": {},
   "source": [
    "그 결과는 변환확률변수의 분포는 균일분포가 아닌 1에서 최빈값을 가지는 삼각형의 분포가 된다."
   ]
  },
  {
   "cell_type": "code",
   "execution_count": 27,
   "id": "liked-syndicate",
   "metadata": {
    "ExecuteTime": {
     "end_time": "2021-08-04T04:19:16.863888Z",
     "start_time": "2021-08-04T04:19:16.411081Z"
    }
   },
   "outputs": [
    {
     "name": "stderr",
     "output_type": "stream",
     "text": [
      "C:\\ProgramData\\Anaconda3\\lib\\site-packages\\seaborn\\distributions.py:2557: FutureWarning: `distplot` is a deprecated function and will be removed in a future version. Please adapt your code to use either `displot` (a figure-level function with similar flexibility) or `histplot` (an axes-level function for histograms).\n",
      "  warnings.warn(msg, FutureWarning)\n"
     ]
    },
    {
     "data": {
      "image/png": "[encoded data removed]",
      "text/plain": [
       "<Figure size 864x360 with 3 Axes>"
      ]
     },
     "metadata": {
      "image/png": {
       "height": 333,
       "width": 713
      },
      "needs_background": "light"
     },
     "output_type": "display_data"
    }
   ],
   "source": [
    "rv1 = sp.stats.uniform()\n",
    "rv2 = sp.stats.uniform()\n",
    "\n",
    "N = 50000\n",
    "\n",
    "x_1 = rv1.rvs(N)\n",
    "x_2 = rv2.rvs(N)\n",
    "x_3 = x_1 + x_2\n",
    "\n",
    "plt.figure(figsize=(12, 5))\n",
    "\n",
    "plt.subplot(131)\n",
    "plt.title('균일분포')\n",
    "plt.xlabel('표본값')\n",
    "sns.distplot(x_1, kde=False)\n",
    "\n",
    "plt.subplot(132)\n",
    "plt.title('균일분포')\n",
    "plt.xlabel('표본값')\n",
    "sns.distplot(x_2, kde=False)\n",
    "\n",
    "plt.subplot(133)\n",
    "plt.title('균일분포 표본 합의 분포')\n",
    "plt.xlabel('표본값')\n",
    "sns.distplot(x_3, kde=False)\n",
    "\n",
    "plt.show()"
   ]
  },
  {
   "cell_type": "markdown",
   "id": "maritime-feelings",
   "metadata": {},
   "source": [
    "## 베르누이분포와 이항분포"
   ]
  },
  {
   "cell_type": "markdown",
   "id": "executive-sheep",
   "metadata": {},
   "source": [
    "### 베르누이 시행"
   ]
  },
  {
   "cell_type": "markdown",
   "id": "corporate-headset",
   "metadata": {},
   "source": [
    "결과가 두가지 중 하나로만 나오는 실험, 시행을 **베르누이 시행(Bernoulli trail)**이라 한다."
   ]
  },
  {
   "cell_type": "markdown",
   "id": "prescription-atmosphere",
   "metadata": {},
   "source": [
    "동전 던지기 시행의 예시로 앞면(H), 뒷면(T)가 나오는 것도 베르누아 시행으로 볼 수 있다."
   ]
  },
  {
   "cell_type": "markdown",
   "id": "sonic-cisco",
   "metadata": {},
   "source": [
    "### 베르누이 확률변수"
   ]
  },
  {
   "cell_type": "markdown",
   "id": "marine-powell",
   "metadata": {},
   "source": [
    "동전던지기 결과로 나온 H, T를 실수 0, 1로 변환한 것을 **베르누이확률변수(Bernoulli random variable)**이라 한다."
   ]
  },
  {
   "cell_type": "markdown",
   "id": "positive-mongolia",
   "metadata": {},
   "source": [
    "즉, 베르누이 확률변수는 두 값 중 하나만 가질 수 있는 **이산확률변수**이다.\n",
    "\n",
    "때로는 -1, 1로 표현하는 경우도 있다."
   ]
  },
  {
   "cell_type": "markdown",
   "id": "classical-dakota",
   "metadata": {},
   "source": [
    "### 베르누이 확률분포"
   ]
  },
  {
   "cell_type": "markdown",
   "id": "presidential-classroom",
   "metadata": {},
   "source": [
    "앞서 설명한 베르누이 확률변수의 분포를 **베르누이 확률분포**라고 한다.\n",
    "\n",
    "어떤 확률변수 $X$가 베르누이분포에 의해 발생된다면 이를 **확률변수 $X$가 베르누이분포를 따른다.**라고 말한다."
   ]
  },
  {
   "cell_type": "markdown",
   "id": "north-table",
   "metadata": {},
   "source": [
    "$X$ ~$Bern(x;\\mu)$"
   ]
  },
  {
   "cell_type": "markdown",
   "id": "starting-leone",
   "metadata": {},
   "source": [
    "베르누이분포의 확률질량함수 수식은 다음과 같다."
   ]
  },
  {
   "cell_type": "markdown",
   "id": "elementary-accident",
   "metadata": {},
   "source": [
    "\\begin{split}\n",
    "\\begin{align}\n",
    "\\text{Bern}(x;\\mu) = \n",
    "\\begin{cases} \n",
    "\\mu   & \\text{if }x=1, \\\\\n",
    "1-\\mu & \\text{if }x=0\n",
    "\\end{cases}\n",
    "\\end{align}\n",
    "\\end{split}"
   ]
  },
  {
   "cell_type": "markdown",
   "id": "trained-lightning",
   "metadata": {},
   "source": [
    "베르누이분포는 1이 나올 확률(성공할 확률)을 의미하는 모수 $\\mu$를 가지며 0이 나올 확률(실패할 확률)은 $1-\\mu$로 표시한다."
   ]
  },
  {
   "cell_type": "markdown",
   "id": "above-update",
   "metadata": {},
   "source": [
    "이 수식을 간략하게 다음과 같이 표현한다."
   ]
  },
  {
   "cell_type": "markdown",
   "id": "strategic-tolerance",
   "metadata": {},
   "source": [
    "$$Bern(x;\\mu) = \\mu^x(1-\\mu)^{1-x}$$"
   ]
  },
  {
   "cell_type": "markdown",
   "id": "lined-mercy",
   "metadata": {},
   "source": [
    "위 수식을 함수로 구현해보면 무슨 뜻인지 쉽게 알 수 있다."
   ]
  },
  {
   "cell_type": "code",
   "execution_count": 42,
   "id": "grand-brunei",
   "metadata": {
    "ExecuteTime": {
     "end_time": "2021-08-04T04:34:18.432942Z",
     "start_time": "2021-08-04T04:34:18.422006Z"
    }
   },
   "outputs": [
    {
     "name": "stdout",
     "output_type": "stream",
     "text": [
      "1 이 나올 확률 : 0.7\n",
      "0 가 나올 확률 : 0.30000000000000004\n"
     ]
    }
   ],
   "source": [
    "def bern(x, mu):\n",
    "    prob = (mu**x * (1-mu) ** (1-x))\n",
    "    if x==0:\n",
    "        print(x,'가 나올 확률 :',prob)\n",
    "    else:\n",
    "        print(x,'이 나올 확률 :',prob)\n",
    "        \n",
    "bern(1, 0.7)\n",
    "bern(0, 0.7)"
   ]
  },
  {
   "cell_type": "markdown",
   "id": "robust-space",
   "metadata": {},
   "source": [
    "### 베르누이 확률변수 시뮬레이션"
   ]
  },
  {
   "cell_type": "markdown",
   "id": "shared-sheriff",
   "metadata": {},
   "source": [
    "베르누이 확률변수는 sp.stats.bernoulli 클래스를 이용한다.\n",
    "\n",
    "인수로는 모수 $\\mu$를 받는다."
   ]
  },
  {
   "cell_type": "code",
   "execution_count": 44,
   "id": "radio-solid",
   "metadata": {
    "ExecuteTime": {
     "end_time": "2021-08-04T04:36:29.982896Z",
     "start_time": "2021-08-04T04:36:29.874187Z"
    }
   },
   "outputs": [
    {
     "name": "stderr",
     "output_type": "stream",
     "text": [
      "C:\\ProgramData\\Anaconda3\\lib\\site-packages\\seaborn\\_decorators.py:43: FutureWarning: Pass the following variables as keyword args: x, y. From version 0.12, the only valid positional argument will be `data`, and passing other arguments without an explicit keyword will result in an error or misinterpretation.\n",
      "  FutureWarning\n"
     ]
    },
    {
     "data": {
      "image/png": "[encoded data removed]",
      "text/plain": [
       "<Figure size 432x288 with 1 Axes>"
      ]
     },
     "metadata": {
      "image/png": {
       "height": 279,
       "width": 383
      },
      "needs_background": "light"
     },
     "output_type": "display_data"
    }
   ],
   "source": [
    "# 모수 = 0.6 = 1이 나올 확률\n",
    "mu = 0.6\n",
    "rv = sp.stats.bernoulli(mu)\n",
    "\n",
    "xx = [0, 1]\n",
    "\n",
    "# 확률질량함수 계산\n",
    "pmf = rv.pmf(xx)\n",
    "\n",
    "sns.barplot(xx, pmf)\n",
    "plt.title('베르누이 확률분포 PMF')\n",
    "plt.xlabel('표본값')\n",
    "plt.ylabel('P(x)')\n",
    "plt.grid()"
   ]
  },
  {
   "cell_type": "markdown",
   "id": "pointed-consortium",
   "metadata": {},
   "source": [
    "`rvs()` 메소드를 이용하면 베르누이분포를 따르는 무작위 샘플링이 가능하다."
   ]
  },
  {
   "cell_type": "code",
   "execution_count": 45,
   "id": "forty-difference",
   "metadata": {
    "ExecuteTime": {
     "end_time": "2021-08-04T04:36:42.854174Z",
     "start_time": "2021-08-04T04:36:42.838217Z"
    },
    "scrolled": true
   },
   "outputs": [
    {
     "data": {
      "text/plain": [
       "array([0, 1, 1, 1, 1, 0, 1, 0, 1, 0, 0, 1, 1, 1, 0, 1, 0, 0, 1, 0, 0, 1,\n",
       "       0, 0, 1, 0, 0, 1, 0, 1, 1, 1, 1, 1, 1, 0, 0, 0, 0, 1, 1, 0, 1, 1,\n",
       "       1, 1, 1, 0, 0, 1, 0, 1, 0, 1, 1, 1, 1, 1, 1, 1, 0, 1, 1, 1, 1, 1,\n",
       "       0, 0, 1, 1, 1, 1, 1, 1, 0, 1, 0, 1, 1, 1, 0, 1, 1, 1, 1, 1, 0, 1,\n",
       "       0, 0, 0, 1, 1, 1, 0, 0, 1, 1, 1, 0])"
      ]
     },
     "execution_count": 45,
     "metadata": {},
     "output_type": "execute_result"
    }
   ],
   "source": [
    "rv.rvs(100)"
   ]
  },
  {
   "cell_type": "markdown",
   "id": "copyrighted-transcript",
   "metadata": {},
   "source": [
    "모수가 0.8인 베르누이분포를 따르는 무작위 표본 생성"
   ]
  },
  {
   "cell_type": "code",
   "execution_count": 51,
   "id": "built-ranking",
   "metadata": {
    "ExecuteTime": {
     "end_time": "2021-08-04T04:39:02.413790Z",
     "start_time": "2021-08-04T04:39:02.274049Z"
    }
   },
   "outputs": [
    {
     "name": "stderr",
     "output_type": "stream",
     "text": [
      "C:\\ProgramData\\Anaconda3\\lib\\site-packages\\seaborn\\_decorators.py:43: FutureWarning: Pass the following variable as a keyword arg: x. From version 0.12, the only valid positional argument will be `data`, and passing other arguments without an explicit keyword will result in an error or misinterpretation.\n",
      "  FutureWarning\n"
     ]
    },
    {
     "data": {
      "image/png": "[encoded data removed]",
      "text/plain": [
       "<Figure size 432x288 with 1 Axes>"
      ]
     },
     "metadata": {
      "image/png": {
       "height": 264,
       "width": 381
      },
      "needs_background": "light"
     },
     "output_type": "display_data"
    }
   ],
   "source": [
    "mu = 0.8\n",
    "rv = sp.stats.bernoulli(mu)\n",
    "\n",
    "x = rv.rvs(100)\n",
    "\n",
    "sns.countplot(x)\n",
    "plt.title('모수가 0.8인 베르누이분포를 따르는 랜덤표본')\n",
    "plt.grid()\n",
    "plt.show()"
   ]
  },
  {
   "cell_type": "markdown",
   "id": "romance-album",
   "metadata": {},
   "source": [
    "### 베르누이분포의 모멘트"
   ]
  },
  {
   "cell_type": "markdown",
   "id": "fluid-affiliate",
   "metadata": {},
   "source": [
    "- 기댓값 : $E[X] = \\mu$\n",
    "- 분산 : $\\mu(1-\\mu)$"
   ]
  },
  {
   "cell_type": "code",
   "execution_count": 52,
   "id": "metropolitan-median",
   "metadata": {
    "ExecuteTime": {
     "end_time": "2021-08-04T04:45:01.267910Z",
     "start_time": "2021-08-04T04:45:01.249967Z"
    }
   },
   "outputs": [
    {
     "data": {
      "text/plain": [
       "array([1, 0, 1, 0, 0, 0, 1, 1, 1, 0, 1, 1, 1, 1, 1, 1, 1, 1, 1, 0, 1, 1,\n",
       "       1, 0, 1, 1, 1, 1, 0, 1, 1, 1, 1, 1, 1, 1, 1, 1, 0, 1, 0, 1, 1, 1,\n",
       "       1, 1, 1, 1, 1, 1, 1, 1, 1, 1, 1, 1, 0, 1, 0, 1, 1, 1, 1, 1, 1, 1,\n",
       "       1, 1, 0, 0, 1, 1, 0, 1, 1, 1, 0, 1, 1, 1, 1, 0, 1, 1, 1, 1, 1, 1,\n",
       "       1, 1, 1, 1, 1, 1, 0, 0, 1, 1, 1, 1])"
      ]
     },
     "execution_count": 52,
     "metadata": {},
     "output_type": "execute_result"
    }
   ],
   "source": [
    "x"
   ]
  },
  {
   "cell_type": "code",
   "execution_count": 55,
   "id": "helpful-burden",
   "metadata": {
    "ExecuteTime": {
     "end_time": "2021-08-04T04:45:50.760502Z",
     "start_time": "2021-08-04T04:45:50.747548Z"
    }
   },
   "outputs": [
    {
     "name": "stderr",
     "output_type": "stream",
     "text": [
      "C:\\Users\\Kim\\AppData\\Roaming\\Python\\Python37\\site-packages\\ipykernel_launcher.py:3: DeprecationWarning: scipy.mean is deprecated and will be removed in SciPy 2.0.0, use numpy.mean instead\n",
      "  This is separate from the ipykernel package so we can avoid doing imports until\n",
      "C:\\Users\\Kim\\AppData\\Roaming\\Python\\Python37\\site-packages\\ipykernel_launcher.py:3: DeprecationWarning: scipy.std is deprecated and will be removed in SciPy 2.0.0, use numpy.std instead\n",
      "  This is separate from the ipykernel package so we can avoid doing imports until\n"
     ]
    },
    {
     "data": {
      "text/plain": [
       "(0.81, 0.3942772444036625)"
      ]
     },
     "execution_count": 55,
     "metadata": {},
     "output_type": "execute_result"
    }
   ],
   "source": [
    "# 모수가 0.8이었던 베르누이분포의 기댓값과 분산\n",
    "\n",
    "sp.mean(x), sp.std(x, ddof=1)"
   ]
  },
  {
   "cell_type": "markdown",
   "id": "pharmaceutical-monaco",
   "metadata": {},
   "source": [
    "> describe() 메소드로 여러 통계량, 모멘트를 확인할 수 있다."
   ]
  },
  {
   "cell_type": "code",
   "execution_count": 57,
   "id": "verified-revelation",
   "metadata": {
    "ExecuteTime": {
     "end_time": "2021-08-04T04:46:17.218912Z",
     "start_time": "2021-08-04T04:46:17.202956Z"
    }
   },
   "outputs": [
    {
     "data": {
      "text/plain": [
       "DescribeResult(nobs=100, minmax=(0, 1), mean=0.81, variance=0.15545454545454543, skewness=-1.5804194999972043, kurtosis=0.497725795971411)"
      ]
     },
     "execution_count": 57,
     "metadata": {},
     "output_type": "execute_result"
    }
   ],
   "source": [
    "sp.stats.describe(x)"
   ]
  },
  {
   "cell_type": "markdown",
   "id": "opening-netherlands",
   "metadata": {},
   "source": [
    "## 이항분포"
   ]
  },
  {
   "cell_type": "markdown",
   "id": "alive-victim",
   "metadata": {},
   "source": [
    "이항분포는 베르누이 시행을 $N$번 반복하는 경우의 확률변수이다.\n",
    "\n",
    "**이항분포(binomial distribution)**은 아래와 같이 표시한다."
   ]
  },
  {
   "cell_type": "markdown",
   "id": "criminal-wayne",
   "metadata": {},
   "source": [
    "$$X \\sim Bin(x;N,\\mu)$$"
   ]
  },
  {
   "cell_type": "markdown",
   "id": "sitting-plasma",
   "metadata": {},
   "source": [
    "이항분포 역시 베르누이 확률변수에서 나온 표본값이기에 베루느이 확률분포를 따르는 확률변수 $Y$를 가정한다."
   ]
  },
  {
   "cell_type": "markdown",
   "id": "pleased-picture",
   "metadata": {},
   "source": [
    "$$Y \\sim Bern(y;\\mu)$$"
   ]
  },
  {
   "cell_type": "markdown",
   "id": "future-specific",
   "metadata": {},
   "source": [
    "위 확률변수 $Y$의 표본은 $N$개가 되므로 $y_1, y_2, ..., y_N$이 된다.\n",
    "\n",
    "각각의 $y_i$는 베르누이분포를 따르므로 그 값은 0 혹은 1이 된다."
   ]
  },
  {
   "cell_type": "markdown",
   "id": "blind-absorption",
   "metadata": {},
   "source": [
    "따라서 $N$번 중 성공한 횟수는 표본값 $N$개의 합이라 할 수 있다.\n",
    "\n",
    "즉, SUM 기호가 COUNTING의 개념인 것이다."
   ]
  },
  {
   "cell_type": "markdown",
   "id": "olive-treatment",
   "metadata": {},
   "source": [
    "$$x = \\sum_{i=1}^{N} y_i$$"
   ]
  },
  {
   "cell_type": "code",
   "execution_count": 58,
   "id": "personalized-ethiopia",
   "metadata": {
    "ExecuteTime": {
     "end_time": "2021-08-04T04:54:43.081405Z",
     "start_time": "2021-08-04T04:54:43.076419Z"
    }
   },
   "outputs": [
    {
     "data": {
      "text/plain": [
       "array([0, 1, 0, 1, 1, 1, 0, 0])"
      ]
     },
     "execution_count": 58,
     "metadata": {},
     "output_type": "execute_result"
    }
   ],
   "source": [
    "np.array([0,1,0,1,1,1,0,0])"
   ]
  },
  {
   "cell_type": "code",
   "execution_count": 59,
   "id": "departmental-simulation",
   "metadata": {
    "ExecuteTime": {
     "end_time": "2021-08-04T04:54:52.223130Z",
     "start_time": "2021-08-04T04:54:52.207136Z"
    }
   },
   "outputs": [
    {
     "data": {
      "text/plain": [
       "4"
      ]
     },
     "execution_count": 59,
     "metadata": {},
     "output_type": "execute_result"
    }
   ],
   "source": [
    "np.array([0,1,0,1,1,1,0,0]).sum()"
   ]
  },
  {
   "cell_type": "markdown",
   "id": "clean-verification",
   "metadata": {},
   "source": [
    "베르누이분포를 따르는 확률변수 $Y$의 확률질량함수를 대입하여 정리하면 이항분포 확률변수 $X$의 확률질량함수는 다음과 같다."
   ]
  },
  {
   "cell_type": "markdown",
   "id": "russian-going",
   "metadata": {},
   "source": [
    "\\begin{align}\n",
    "\\text{Bin}(x;N,\\mu) = \\binom N x \\; \\mu^x(1-\\mu)^{N-x}\n",
    "\\end{align}"
   ]
  },
  {
   "cell_type": "markdown",
   "id": "false-timber",
   "metadata": {},
   "source": [
    "위 식에서 $\\binom N x$는 combination 기호이다."
   ]
  },
  {
   "cell_type": "markdown",
   "id": "falling-fisher",
   "metadata": {},
   "source": [
    "$$\\binom N x = \\dfrac{N!}{x!(N-x)! }$$"
   ]
  },
  {
   "cell_type": "markdown",
   "id": "domestic-soundtrack",
   "metadata": {},
   "source": [
    "### 이항분포 시뮬레이션"
   ]
  },
  {
   "cell_type": "code",
   "execution_count": 60,
   "id": "balanced-absence",
   "metadata": {
    "ExecuteTime": {
     "end_time": "2021-08-04T04:59:36.691438Z",
     "start_time": "2021-08-04T04:59:36.683492Z"
    }
   },
   "outputs": [],
   "source": [
    "# 시행횟수\n",
    "N = 10\n",
    "\n",
    "# 기댓값\n",
    "mu = 0.6\n",
    "\n",
    "# 이항분포 객체 생성\n",
    "rv = sp.stats.binom(N, mu)"
   ]
  },
  {
   "cell_type": "code",
   "execution_count": 62,
   "id": "classical-montgomery",
   "metadata": {
    "ExecuteTime": {
     "end_time": "2021-08-04T05:01:30.636349Z",
     "start_time": "2021-08-04T05:01:30.207418Z"
    }
   },
   "outputs": [
    {
     "data": {
      "image/png": "[encoded data removed]",
      "text/plain": [
       "<Figure size 432x288 with 1 Axes>"
      ]
     },
     "metadata": {
      "image/png": {
       "height": 263,
       "width": 389
      },
      "needs_background": "light"
     },
     "output_type": "display_data"
    }
   ],
   "source": [
    "# 0이 포함되므로 N+1\n",
    "xx = np.arange(N+1)\n",
    "plt.bar(xx, rv.pmf(xx))\n",
    "plt.xlabel('표본값')\n",
    "plt.ylabel('p(x)')\n",
    "plt.grid()\n",
    "plt.show()"
   ]
  },
  {
   "cell_type": "markdown",
   "id": "iraqi-albany",
   "metadata": {},
   "source": [
    "`rvs()`메소드로 무작위 표본을 추출할 수 있다."
   ]
  },
  {
   "cell_type": "code",
   "execution_count": 71,
   "id": "known-redhead",
   "metadata": {
    "ExecuteTime": {
     "end_time": "2021-08-04T05:02:43.340401Z",
     "start_time": "2021-08-04T05:02:43.325441Z"
    }
   },
   "outputs": [
    {
     "data": {
      "text/plain": [
       "array([5, 7, 5, 5, 6, 8, 5, 5, 8, 4, 4, 5, 5, 5, 6, 7, 5, 6, 6, 7, 3, 6,\n",
       "       6, 2, 4, 5, 5, 7, 8, 4, 1, 4, 7, 7, 6, 7, 4, 1, 6, 8, 7, 5, 9, 5,\n",
       "       8, 6, 5, 5, 5, 7, 6, 8, 8, 6, 5, 9, 3, 8, 5, 7, 6, 3, 5, 4, 5, 6,\n",
       "       3, 5, 8, 4, 7, 5, 8, 6, 9, 6, 7, 7, 3, 5, 6, 7, 2, 6, 4, 6, 5, 4,\n",
       "       6, 4, 4, 8, 7, 5, 6, 4, 5, 0, 8, 5])"
      ]
     },
     "execution_count": 71,
     "metadata": {},
     "output_type": "execute_result"
    }
   ],
   "source": [
    "x = rv.rvs(10000)\n",
    "x[:100]"
   ]
  },
  {
   "cell_type": "code",
   "execution_count": 73,
   "id": "average-scroll",
   "metadata": {
    "ExecuteTime": {
     "end_time": "2021-08-04T05:03:13.655153Z",
     "start_time": "2021-08-04T05:03:13.495545Z"
    }
   },
   "outputs": [
    {
     "name": "stderr",
     "output_type": "stream",
     "text": [
      "C:\\ProgramData\\Anaconda3\\lib\\site-packages\\seaborn\\_decorators.py:43: FutureWarning: Pass the following variable as a keyword arg: x. From version 0.12, the only valid positional argument will be `data`, and passing other arguments without an explicit keyword will result in an error or misinterpretation.\n",
      "  FutureWarning\n"
     ]
    },
    {
     "data": {
      "image/png": "[encoded data removed]",
      "text/plain": [
       "<Figure size 432x288 with 1 Axes>"
      ]
     },
     "metadata": {
      "image/png": {
       "height": 279,
       "width": 392
      },
      "needs_background": "light"
     },
     "output_type": "display_data"
    }
   ],
   "source": [
    "sns.countplot(x)\n",
    "plt.title('이항분포 시뮬레이션')\n",
    "plt.xlabel('표본값')\n",
    "plt.grid()\n",
    "plt.show()"
   ]
  },
  {
   "cell_type": "markdown",
   "id": "weekly-bahamas",
   "metadata": {
    "ExecuteTime": {
     "end_time": "2021-08-04T05:05:15.449337Z",
     "start_time": "2021-08-04T05:05:15.436372Z"
    }
   },
   "source": [
    "위 확률질량함수 시뮬레이션 결과를 확인해보면 동전을 던졌을 때 앞면이 나오는 경우를 성공(1)로 가정했을 때 그 확률은 0.6이었다. (기댓값)\n",
    "\n",
    "따라서 위 시각화 결과 또한 표본값 6(동전을 10번 던졌을 때 6번 성공할 확률)이 가장 높은 것을 확인할 수 있다."
   ]
  },
  {
   "cell_type": "markdown",
   "id": "beautiful-friday",
   "metadata": {
    "ExecuteTime": {
     "end_time": "2021-08-04T05:05:39.003630Z",
     "start_time": "2021-08-04T05:05:38.998644Z"
    }
   },
   "source": [
    "### 이항분포의 모멘트"
   ]
  },
  {
   "cell_type": "markdown",
   "id": "institutional-herald",
   "metadata": {},
   "source": [
    "- 기댓값 : $E[X] = N\\mu$"
   ]
  },
  {
   "cell_type": "code",
   "execution_count": 76,
   "id": "sporting-candy",
   "metadata": {
    "ExecuteTime": {
     "end_time": "2021-08-04T05:06:58.819479Z",
     "start_time": "2021-08-04T05:06:58.801526Z"
    }
   },
   "outputs": [
    {
     "data": {
      "text/plain": [
       "6.0"
      ]
     },
     "execution_count": 76,
     "metadata": {},
     "output_type": "execute_result"
    }
   ],
   "source": [
    "0.6 * 10"
   ]
  },
  {
   "cell_type": "markdown",
   "id": "about-delta",
   "metadata": {},
   "source": [
    "- 분산 : $Var[X] = N\\mu(1-\\mu)$"
   ]
  },
  {
   "cell_type": "code",
   "execution_count": 77,
   "id": "adjustable-clearance",
   "metadata": {
    "ExecuteTime": {
     "end_time": "2021-08-04T05:07:48.871847Z",
     "start_time": "2021-08-04T05:07:48.861859Z"
    }
   },
   "outputs": [
    {
     "data": {
      "text/plain": [
       "2.4000000000000004"
      ]
     },
     "execution_count": 77,
     "metadata": {},
     "output_type": "execute_result"
    }
   ],
   "source": [
    "N * mu * (1 - mu)"
   ]
  },
  {
   "cell_type": "code",
   "execution_count": 79,
   "id": "suspected-martial",
   "metadata": {
    "ExecuteTime": {
     "end_time": "2021-08-04T05:08:52.028080Z",
     "start_time": "2021-08-04T05:08:52.012121Z"
    }
   },
   "outputs": [
    {
     "name": "stderr",
     "output_type": "stream",
     "text": [
      "C:\\Users\\Kim\\AppData\\Roaming\\Python\\Python37\\site-packages\\ipykernel_launcher.py:1: DeprecationWarning: scipy.var is deprecated and will be removed in SciPy 2.0.0, use numpy.var instead\n",
      "  \"\"\"Entry point for launching an IPython kernel.\n"
     ]
    },
    {
     "data": {
      "text/plain": [
       "2.399812941294129"
      ]
     },
     "execution_count": 79,
     "metadata": {},
     "output_type": "execute_result"
    }
   ],
   "source": [
    "sp.var(x, ddof=1)"
   ]
  },
  {
   "cell_type": "markdown",
   "id": "polyphonic-balloon",
   "metadata": {},
   "source": [
    "## 베르누이분포, 이항분포의 모수 추정"
   ]
  },
  {
   "cell_type": "markdown",
   "id": "statutory-stationery",
   "metadata": {},
   "source": [
    "**모수추정(parameter estimation)**은 데이터에서 모수값을 찾아내는 과정이다."
   ]
  },
  {
   "cell_type": "markdown",
   "id": "careful-compromise",
   "metadata": {
    "ExecuteTime": {
     "end_time": "2021-08-04T05:10:17.279588Z",
     "start_time": "2021-08-04T05:10:17.265612Z"
    }
   },
   "source": [
    "베르누이분포와 이항분포는 공통 모수로 $\\mu$를 갖는다."
   ]
  },
  {
   "cell_type": "markdown",
   "id": "destroyed-edward",
   "metadata": {},
   "source": [
    "\\begin{align}\n",
    "\\hat{\\mu} = \\dfrac{\\sum_{i=1}^N x_i}{N}= \\dfrac{N_1}{N}\n",
    "\\end{align}"
   ]
  },
  {
   "cell_type": "markdown",
   "id": "specific-marshall",
   "metadata": {},
   "source": [
    ">즉, 추정한 모수값은 `1이 나온 횟수 / 전체 데이터 수` 이다."
   ]
  },
  {
   "cell_type": "code",
   "execution_count": 81,
   "id": "determined-number",
   "metadata": {
    "ExecuteTime": {
     "end_time": "2021-08-04T05:11:44.125069Z",
     "start_time": "2021-08-04T05:11:43.958515Z"
    }
   },
   "outputs": [
    {
     "name": "stderr",
     "output_type": "stream",
     "text": [
      "C:\\ProgramData\\Anaconda3\\lib\\site-packages\\seaborn\\_decorators.py:43: FutureWarning: Pass the following variable as a keyword arg: x. From version 0.12, the only valid positional argument will be `data`, and passing other arguments without an explicit keyword will result in an error or misinterpretation.\n",
      "  FutureWarning\n"
     ]
    },
    {
     "data": {
      "image/png": "[encoded data removed]",
      "text/plain": [
       "<Figure size 432x288 with 1 Axes>"
      ]
     },
     "metadata": {
      "image/png": {
       "height": 279,
       "width": 392
      },
      "needs_background": "light"
     },
     "output_type": "display_data"
    }
   ],
   "source": [
    "sns.countplot(x)\n",
    "plt.title('이항분포 시뮬레이션')\n",
    "plt.xlabel('표본값')\n",
    "plt.grid()\n",
    "plt.show()"
   ]
  },
  {
   "cell_type": "markdown",
   "id": "young-alloy",
   "metadata": {},
   "source": [
    "이 경우 모수값은 6이었다. (N*mu)"
   ]
  },
  {
   "cell_type": "markdown",
   "id": "completed-mining",
   "metadata": {},
   "source": [
    "전체 횟수를 1이 나온 횟수로 나누면 다음과 같다."
   ]
  },
  {
   "cell_type": "code",
   "execution_count": 87,
   "id": "palestinian-excess",
   "metadata": {
    "ExecuteTime": {
     "end_time": "2021-08-04T05:13:44.513234Z",
     "start_time": "2021-08-04T05:13:44.506288Z"
    }
   },
   "outputs": [
    {
     "data": {
      "text/plain": [
       "5.9948"
      ]
     },
     "execution_count": 87,
     "metadata": {},
     "output_type": "execute_result"
    }
   ],
   "source": [
    "x.sum() / 10000"
   ]
  },
  {
   "cell_type": "markdown",
   "id": "genetic-mobility",
   "metadata": {},
   "source": [
    "약간의 오차가 있지만 6과 굉장이 근사한 값임을 확인할 수 있다."
   ]
  },
  {
   "cell_type": "code",
   "execution_count": null,
   "id": "warming-lemon",
   "metadata": {},
   "outputs": [],
   "source": []
  }
 ],
 "metadata": {
  "kernelspec": {
   "display_name": "Python 3",
   "language": "python",
   "name": "python3"
  },
  "language_info": {
   "codemirror_mode": {
    "name": "ipython",
    "version": 3
   },
   "file_extension": ".py",
   "mimetype": "text/x-python",
   "name": "python",
   "nbconvert_exporter": "python",
   "pygments_lexer": "ipython3",
   "version": "3.7.10"
  },
  "nbTranslate": {
   "displayLangs": [
    "*"
   ],
   "hotkey": "alt-t",
   "langInMainMenu": true,
   "sourceLang": "en",
   "targetLang": "fr",
   "useGoogleTranslate": true
  },
  "varInspector": {
   "cols": {
    "lenName": 16,
    "lenType": 16,
    "lenVar": 40
   },
   "kernels_config": {
    "python": {
     "delete_cmd_postfix": "",
     "delete_cmd_prefix": "del ",
     "library": "var_list.py",
     "varRefreshCmd": "print(var_dic_list())"
    },
    "r": {
     "delete_cmd_postfix": ") ",
     "delete_cmd_prefix": "rm(",
     "library": "var_list.r",
     "varRefreshCmd": "cat(var_dic_list()) "
    }
   },
   "types_to_exclude": [
    "module",
    "function",
    "builtin_function_or_method",
    "instance",
    "_Feature"
   ],
   "window_display": false
  }
 },
 "nbformat": 4,
 "nbformat_minor": 5
}
