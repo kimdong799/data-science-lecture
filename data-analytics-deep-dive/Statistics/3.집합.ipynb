{
 "cells": [
  {
   "cell_type": "markdown",
   "id": "acknowledged-migration",
   "metadata": {},
   "source": [
    "## 집합과 원소"
   ]
  },
  {
   "cell_type": "markdown",
   "id": "familiar-gibraltar",
   "metadata": {},
   "source": [
    "**집합(set)**이란 구별 가능한 객체의 모임을 말한다.\n",
    "\n",
    "**원소(element)**란 그 집합에 포함된 구별 가능한 객체를 말한다."
   ]
  },
  {
   "cell_type": "markdown",
   "id": "alone-doctrine",
   "metadata": {},
   "source": [
    "원소 $x$와 그 원소를 포함하는 집합 $A$의 관계는 다음처럼 표시한다."
   ]
  },
  {
   "cell_type": "markdown",
   "id": "matched-palestine",
   "metadata": {},
   "source": [
    "$$x \\in A$$"
   ]
  },
  {
   "cell_type": "markdown",
   "id": "pregnant-tampa",
   "metadata": {},
   "source": [
    "원소 $x$가 집합 $A$에 포함되지 않는다면 다음처럼 표시한다."
   ]
  },
  {
   "cell_type": "markdown",
   "id": "reported-mineral",
   "metadata": {},
   "source": [
    "$$x \\notin A$$"
   ]
  },
  {
   "cell_type": "markdown",
   "id": "peripheral-snake",
   "metadata": {},
   "source": [
    "### 파이썬의 집합표현"
   ]
  },
  {
   "cell_type": "markdown",
   "id": "quarterly-halifax",
   "metadata": {},
   "source": [
    "파이썬의 집합은 `set`, `frozenset`이 있다."
   ]
  },
  {
   "cell_type": "markdown",
   "id": "julian-butterfly",
   "metadata": {},
   "source": [
    "- `set`\n",
    "    - 내용을 변경할 수 있는 mutable 자료형\n",
    "    - 딕셔너리의 key, set의 원소가 될 수 없음\n",
    "- `frozenset`\n",
    "    - 내용을 변경할 수 없는 immutable 자료형\n",
    "    - 딕셔너리의 key, set의 원소가 될 수 있음"
   ]
  },
  {
   "cell_type": "code",
   "execution_count": 3,
   "id": "everyday-belgium",
   "metadata": {
    "ExecuteTime": {
     "end_time": "2021-07-27T02:41:12.983836Z",
     "start_time": "2021-07-27T02:41:12.972867Z"
    }
   },
   "outputs": [
    {
     "data": {
      "text/plain": [
       "{1, 2, 3}"
      ]
     },
     "execution_count": 3,
     "metadata": {},
     "output_type": "execute_result"
    }
   ],
   "source": [
    "# set, mutable\n",
    "\n",
    "A = set([1, 2, 3])\n",
    "A"
   ]
  },
  {
   "cell_type": "code",
   "execution_count": 5,
   "id": "coated-resistance",
   "metadata": {
    "ExecuteTime": {
     "end_time": "2021-07-27T02:44:20.114383Z",
     "start_time": "2021-07-27T02:44:20.097427Z"
    }
   },
   "outputs": [
    {
     "data": {
      "text/plain": [
       "{1, 2, 3}"
      ]
     },
     "execution_count": 5,
     "metadata": {},
     "output_type": "execute_result"
    }
   ],
   "source": [
    "# 중복된 자료는 사라짐\n",
    "\n",
    "B = set([1, 2, 3, 3, 2])\n",
    "B"
   ]
  },
  {
   "cell_type": "code",
   "execution_count": 6,
   "id": "revolutionary-defeat",
   "metadata": {
    "ExecuteTime": {
     "end_time": "2021-07-27T02:44:47.679211Z",
     "start_time": "2021-07-27T02:44:47.665250Z"
    }
   },
   "outputs": [
    {
     "data": {
      "text/plain": [
       "frozenset({'H', 'T'})"
      ]
     },
     "execution_count": 6,
     "metadata": {},
     "output_type": "execute_result"
    }
   ],
   "source": [
    "# frozenset, immutable\n",
    "\n",
    "C = frozenset(['H', 'T'])\n",
    "C"
   ]
  },
  {
   "cell_type": "code",
   "execution_count": 7,
   "id": "later-wallace",
   "metadata": {
    "ExecuteTime": {
     "end_time": "2021-07-27T02:45:13.211707Z",
     "start_time": "2021-07-27T02:45:13.193721Z"
    }
   },
   "outputs": [
    {
     "data": {
      "text/plain": [
       "{'♠', '♡', '♢', '♣'}"
      ]
     },
     "execution_count": 7,
     "metadata": {},
     "output_type": "execute_result"
    }
   ],
   "source": [
    "# set 자료형은 {} 기호로 표현 가능\n",
    "\n",
    "C = {\"\\u2660\", \"\\u2661\", \"\\u2662\", \"\\u2663\"}\n",
    "C"
   ]
  },
  {
   "cell_type": "code",
   "execution_count": 8,
   "id": "decreased-emperor",
   "metadata": {
    "ExecuteTime": {
     "end_time": "2021-07-27T02:45:20.267488Z",
     "start_time": "2021-07-27T02:45:20.261505Z"
    }
   },
   "outputs": [
    {
     "data": {
      "text/plain": [
       "set"
      ]
     },
     "execution_count": 8,
     "metadata": {},
     "output_type": "execute_result"
    }
   ],
   "source": [
    "type(C)"
   ]
  },
  {
   "cell_type": "markdown",
   "id": "pressing-commercial",
   "metadata": {},
   "source": [
    "## 집합의 크기"
   ]
  },
  {
   "cell_type": "markdown",
   "id": "consistent-review",
   "metadata": {},
   "source": [
    "집합의 **크기(cardinality)**는 집합이 가지는 원소의 개수를 말한다."
   ]
  },
  {
   "cell_type": "markdown",
   "id": "adjacent-consideration",
   "metadata": {},
   "source": [
    "표현방법"
   ]
  },
  {
   "cell_type": "markdown",
   "id": "simple-consideration",
   "metadata": {},
   "source": [
    "- $|A|$\n",
    "- card(A)"
   ]
  },
  {
   "cell_type": "markdown",
   "id": "civil-soccer",
   "metadata": {},
   "source": [
    "$A = {1, 2, 3}$\n",
    "\n",
    "$|A| = card(A) = 3$"
   ]
  },
  {
   "cell_type": "code",
   "execution_count": 9,
   "id": "disturbed-static",
   "metadata": {
    "ExecuteTime": {
     "end_time": "2021-07-27T02:50:58.377346Z",
     "start_time": "2021-07-27T02:50:58.372358Z"
    }
   },
   "outputs": [
    {
     "data": {
      "text/plain": [
       "(3, 3, 4)"
      ]
     },
     "execution_count": 9,
     "metadata": {},
     "output_type": "execute_result"
    }
   ],
   "source": [
    "# 파이썬에서의 원소의 갯수를 구하는 방법\n",
    "\n",
    "len(A), len(B), len(C)"
   ]
  },
  {
   "cell_type": "markdown",
   "id": "banner-paris",
   "metadata": {},
   "source": [
    "예를 들어 다음과 같은 집합은 0보다 크고 1보다 작은 모든 실수를 원소로 갖기 때문에 원소의 갯수는 무한히 많다."
   ]
  },
  {
   "cell_type": "markdown",
   "id": "planned-center",
   "metadata": {},
   "source": [
    "\\begin{align}\n",
    "D = \\{ x: 0 < x \\leq 1 \\}\n",
    "\\end{align}"
   ]
  },
  {
   "cell_type": "markdown",
   "id": "several-basic",
   "metadata": {},
   "source": [
    "## 합집합과 교집합"
   ]
  },
  {
   "cell_type": "markdown",
   "id": "patent-monday",
   "metadata": {},
   "source": [
    "- 합집합(union)\n",
    "    - 각 집합의 원소를 모두 포함하는 집합"
   ]
  },
  {
   "cell_type": "markdown",
   "id": "postal-trinity",
   "metadata": {},
   "source": [
    "$$A \\cup B$$"
   ]
  },
  {
   "cell_type": "markdown",
   "id": "antique-butterfly",
   "metadata": {},
   "source": [
    "- 교집합(intersection)\n",
    "    - 두 사건 모두에 속하는 원소로만 이루어진 집합"
   ]
  },
  {
   "cell_type": "markdown",
   "id": "eastern-comparative",
   "metadata": {},
   "source": [
    "$$A \\cap B$$"
   ]
  },
  {
   "cell_type": "markdown",
   "id": "boolean-specification",
   "metadata": {},
   "source": [
    "- 집부분집합(proper subset)\n",
    "    - 원소의 크기가 더 작은 부분집합"
   ]
  },
  {
   "cell_type": "code",
   "execution_count": 10,
   "id": "governmental-powder",
   "metadata": {
    "ExecuteTime": {
     "end_time": "2021-07-27T02:53:43.873853Z",
     "start_time": "2021-07-27T02:53:43.862883Z"
    }
   },
   "outputs": [],
   "source": [
    "A1 = set([1, 2, 3, 4])\n",
    "A2 = set([2, 4, 6])\n",
    "A3 = set([1, 2, 3])\n",
    "A4 = set([2, 3, 4, 5, 6])"
   ]
  },
  {
   "cell_type": "code",
   "execution_count": 11,
   "id": "controversial-colonial",
   "metadata": {
    "ExecuteTime": {
     "end_time": "2021-07-27T02:53:50.833795Z",
     "start_time": "2021-07-27T02:53:50.827810Z"
    }
   },
   "outputs": [
    {
     "data": {
      "text/plain": [
       "{1, 2, 3, 4, 6}"
      ]
     },
     "execution_count": 11,
     "metadata": {},
     "output_type": "execute_result"
    }
   ],
   "source": [
    "A1.union(A2)"
   ]
  },
  {
   "cell_type": "code",
   "execution_count": 12,
   "id": "prompt-offer",
   "metadata": {
    "ExecuteTime": {
     "end_time": "2021-07-27T02:53:56.280711Z",
     "start_time": "2021-07-27T02:53:56.272732Z"
    }
   },
   "outputs": [
    {
     "data": {
      "text/plain": [
       "{1, 2, 3, 4, 6}"
      ]
     },
     "execution_count": 12,
     "metadata": {},
     "output_type": "execute_result"
    }
   ],
   "source": [
    "# 합집합 표현\n",
    "\n",
    "A2 | A1"
   ]
  },
  {
   "cell_type": "code",
   "execution_count": 13,
   "id": "expired-timeline",
   "metadata": {
    "ExecuteTime": {
     "end_time": "2021-07-27T02:54:17.950925Z",
     "start_time": "2021-07-27T02:54:17.945938Z"
    }
   },
   "outputs": [
    {
     "data": {
      "text/plain": [
       "{2, 3}"
      ]
     },
     "execution_count": 13,
     "metadata": {},
     "output_type": "execute_result"
    }
   ],
   "source": [
    "A3.intersection(A4)"
   ]
  },
  {
   "cell_type": "code",
   "execution_count": 14,
   "id": "committed-chick",
   "metadata": {
    "ExecuteTime": {
     "end_time": "2021-07-27T02:54:25.115373Z",
     "start_time": "2021-07-27T02:54:25.099416Z"
    }
   },
   "outputs": [
    {
     "data": {
      "text/plain": [
       "{2, 3}"
      ]
     },
     "execution_count": 14,
     "metadata": {},
     "output_type": "execute_result"
    }
   ],
   "source": [
    "# 교집합 표현\n",
    "\n",
    "A3 & A4"
   ]
  },
  {
   "cell_type": "markdown",
   "id": "greater-consistency",
   "metadata": {},
   "source": [
    "## 전체집합, 부분집합, 여집합"
   ]
  },
  {
   "cell_type": "markdown",
   "id": "fundamental-craps",
   "metadata": {},
   "source": [
    "- 부분집합(subset)\n",
    "    - 어떤 집합의 원소 중 일부만을 포함하는 집합\n",
    "    \n",
    "- 전체집합\n",
    "    - 원래의 집합($\\Omega$)"
   ]
  },
  {
   "cell_type": "markdown",
   "id": "psychological-workshop",
   "metadata": {},
   "source": [
    "\\begin{align}\n",
    "A \\subset \\Omega \n",
    "\\end{align}"
   ]
  },
  {
   "cell_type": "markdown",
   "id": "convertible-forge",
   "metadata": {},
   "source": [
    "- 파이썬에서의 부분집합 연산\n",
    "- `issubset`"
   ]
  },
  {
   "cell_type": "code",
   "execution_count": 15,
   "id": "collaborative-lecture",
   "metadata": {
    "ExecuteTime": {
     "end_time": "2021-07-27T02:57:23.941211Z",
     "start_time": "2021-07-27T02:57:23.928246Z"
    }
   },
   "outputs": [
    {
     "data": {
      "text/plain": [
       "True"
      ]
     },
     "execution_count": 15,
     "metadata": {},
     "output_type": "execute_result"
    }
   ],
   "source": [
    "A3.issubset(A1)"
   ]
  },
  {
   "cell_type": "code",
   "execution_count": 16,
   "id": "expired-separation",
   "metadata": {
    "ExecuteTime": {
     "end_time": "2021-07-27T02:57:57.555616Z",
     "start_time": "2021-07-27T02:57:57.541653Z"
    }
   },
   "outputs": [
    {
     "data": {
      "text/plain": [
       "True"
      ]
     },
     "execution_count": 16,
     "metadata": {},
     "output_type": "execute_result"
    }
   ],
   "source": [
    "A3 <= A1"
   ]
  },
  {
   "cell_type": "code",
   "execution_count": 17,
   "id": "strange-dover",
   "metadata": {
    "ExecuteTime": {
     "end_time": "2021-07-27T02:58:02.019901Z",
     "start_time": "2021-07-27T02:58:02.010925Z"
    }
   },
   "outputs": [
    {
     "data": {
      "text/plain": [
       "True"
      ]
     },
     "execution_count": 17,
     "metadata": {},
     "output_type": "execute_result"
    }
   ],
   "source": [
    "A3 <= A3  # 모든 집합은 자기 자신의 부분집합이다."
   ]
  },
  {
   "cell_type": "code",
   "execution_count": 18,
   "id": "designing-exchange",
   "metadata": {
    "ExecuteTime": {
     "end_time": "2021-07-27T02:58:05.369083Z",
     "start_time": "2021-07-27T02:58:05.361105Z"
    }
   },
   "outputs": [
    {
     "data": {
      "text/plain": [
       "False"
      ]
     },
     "execution_count": 18,
     "metadata": {},
     "output_type": "execute_result"
    }
   ],
   "source": [
    "A3 < A3  # 모든 집합은 자기 자신의 진부분집합이 아니다."
   ]
  },
  {
   "cell_type": "markdown",
   "id": "mature-potter",
   "metadata": {},
   "source": [
    "## 차집합과 여집합"
   ]
  },
  {
   "cell_type": "markdown",
   "id": "compliant-kernel",
   "metadata": {},
   "source": [
    "- 차집합(difference)\n",
    "    - 어떤 집합 $A$에 속하면서 다른 집합 $B$에 속하지 않는 원소로 이루어진 $A$의 부분집합\n",
    "    "
   ]
  },
  {
   "cell_type": "markdown",
   "id": "duplicate-milan",
   "metadata": {},
   "source": [
    "$$A - B$$"
   ]
  },
  {
   "cell_type": "markdown",
   "id": "comic-northwest",
   "metadata": {},
   "source": [
    "- 여집합(complement)\n",
    "    - 전체집합 $\\Omega$ 중 부분집합 $A$에 속하지 않은 원소로만 이루어진 부분집합"
   ]
  },
  {
   "cell_type": "markdown",
   "id": "different-baptist",
   "metadata": {},
   "source": [
    "$$A^C$$"
   ]
  },
  {
   "cell_type": "markdown",
   "id": "homeless-offering",
   "metadata": {},
   "source": [
    "**여집합 $A^C$는 전체집합에서 부분집합 $A$를 뺀 것과 같다.**"
   ]
  },
  {
   "cell_type": "markdown",
   "id": "solar-burlington",
   "metadata": {},
   "source": [
    "\\begin{align}\n",
    "A^C = \\Omega - A\n",
    "\\end{align}"
   ]
  },
  {
   "cell_type": "markdown",
   "id": "furnished-restoration",
   "metadata": {},
   "source": [
    "- 파이썬에서의 차집합 연산\n",
    "    - `difference`"
   ]
  },
  {
   "cell_type": "code",
   "execution_count": 19,
   "id": "formed-palmer",
   "metadata": {
    "ExecuteTime": {
     "end_time": "2021-07-27T03:01:34.663703Z",
     "start_time": "2021-07-27T03:01:34.654727Z"
    }
   },
   "outputs": [
    {
     "data": {
      "text/plain": [
       "{1, 3}"
      ]
     },
     "execution_count": 19,
     "metadata": {},
     "output_type": "execute_result"
    }
   ],
   "source": [
    "A1.difference(A2)"
   ]
  },
  {
   "cell_type": "code",
   "execution_count": 20,
   "id": "united-johns",
   "metadata": {
    "ExecuteTime": {
     "end_time": "2021-07-27T03:01:37.689170Z",
     "start_time": "2021-07-27T03:01:37.683221Z"
    }
   },
   "outputs": [
    {
     "data": {
      "text/plain": [
       "{1, 3}"
      ]
     },
     "execution_count": 20,
     "metadata": {},
     "output_type": "execute_result"
    }
   ],
   "source": [
    "A1 - A2"
   ]
  },
  {
   "cell_type": "markdown",
   "id": "falling-channels",
   "metadata": {},
   "source": [
    "## 공집합"
   ]
  },
  {
   "cell_type": "markdown",
   "id": "normal-tobacco",
   "metadata": {},
   "source": [
    "- 공집합(null set)\n",
    "    - 아무런 원소도 포함하지 않는 집합\n",
    "    - 모든 집합의 부분집합이 된다는 특징"
   ]
  },
  {
   "cell_type": "markdown",
   "id": "contemporary-spyware",
   "metadata": {},
   "source": [
    "\\begin{align}\n",
    "\\emptyset \\subset A, \\;\\text{ for all } A \n",
    "\\end{align}"
   ]
  },
  {
   "cell_type": "markdown",
   "id": "green-military",
   "metadata": {},
   "source": [
    "- 임의의 집합과 공집합의 교집합은 공집합\n",
    "\n",
    "- 임의의 집합과 공집합의 합집합은 그 집합 자신"
   ]
  },
  {
   "cell_type": "markdown",
   "id": "ranging-syndicate",
   "metadata": {},
   "source": [
    "\\begin{align}\n",
    "A \\cap \\emptyset = \\emptyset \n",
    "\\end{align}\n",
    "\n",
    "\\begin{align}\n",
    "A \\cup \\emptyset = A  \n",
    "\\end{align}"
   ]
  },
  {
   "cell_type": "markdown",
   "id": "operational-working",
   "metadata": {},
   "source": [
    "- 여집합과 원래의 집합의 교집합은 공집합"
   ]
  },
  {
   "cell_type": "markdown",
   "id": "metric-williams",
   "metadata": {},
   "source": [
    "\\begin{align}\n",
    "A \\cap A^C = \\emptyset\n",
    "\\end{align}"
   ]
  },
  {
   "cell_type": "code",
   "execution_count": 21,
   "id": "naughty-ukraine",
   "metadata": {
    "ExecuteTime": {
     "end_time": "2021-07-27T03:04:36.345260Z",
     "start_time": "2021-07-27T03:04:36.329303Z"
    }
   },
   "outputs": [
    {
     "data": {
      "text/plain": [
       "set()"
      ]
     },
     "execution_count": 21,
     "metadata": {},
     "output_type": "execute_result"
    }
   ],
   "source": [
    "empty_set = set([])\n",
    "empty_set"
   ]
  },
  {
   "cell_type": "code",
   "execution_count": 22,
   "id": "stretch-campus",
   "metadata": {
    "ExecuteTime": {
     "end_time": "2021-07-27T03:04:38.726593Z",
     "start_time": "2021-07-27T03:04:38.719612Z"
    }
   },
   "outputs": [
    {
     "data": {
      "text/plain": [
       "True"
      ]
     },
     "execution_count": 22,
     "metadata": {},
     "output_type": "execute_result"
    }
   ],
   "source": [
    "empty_set < A1"
   ]
  },
  {
   "cell_type": "code",
   "execution_count": 23,
   "id": "personalized-money",
   "metadata": {
    "ExecuteTime": {
     "end_time": "2021-07-27T03:04:42.439424Z",
     "start_time": "2021-07-27T03:04:42.430490Z"
    }
   },
   "outputs": [
    {
     "data": {
      "text/plain": [
       "set()"
      ]
     },
     "execution_count": 23,
     "metadata": {},
     "output_type": "execute_result"
    }
   ],
   "source": [
    "empty_set.intersection(A1)"
   ]
  },
  {
   "cell_type": "code",
   "execution_count": 25,
   "id": "emerging-translator",
   "metadata": {
    "ExecuteTime": {
     "end_time": "2021-07-27T03:04:51.971908Z",
     "start_time": "2021-07-27T03:04:51.962933Z"
    }
   },
   "outputs": [
    {
     "data": {
      "text/plain": [
       "{1, 2, 3, 4}"
      ]
     },
     "execution_count": 25,
     "metadata": {},
     "output_type": "execute_result"
    }
   ],
   "source": [
    "empty_set.union(A1)"
   ]
  },
  {
   "cell_type": "markdown",
   "id": "bulgarian-doctor",
   "metadata": {},
   "source": [
    "## 부분집합의 수"
   ]
  },
  {
   "cell_type": "markdown",
   "id": "important-tuesday",
   "metadata": {},
   "source": [
    "집합 $A = {1, 2}$는 다음과 같이 4개의 부분집합을 가진다."
   ]
  },
  {
   "cell_type": "markdown",
   "id": "appropriate-quick",
   "metadata": {},
   "source": [
    "$A_1 = \\emptyset$\n",
    "\n",
    "$A_2 = \\{ 1 \\}$\n",
    "\n",
    "$A_3 = \\{ 2 \\}$\n",
    "\n",
    "$A_4 = \\{ 1,2 \\}$\n",
    "\n"
   ]
  },
  {
   "cell_type": "markdown",
   "id": "capable-cuisine",
   "metadata": {},
   "source": [
    ">**원소의 갯수가 $N$개의 집합은 $2^N$개의 부분집합을 가진다.**"
   ]
  },
  {
   "cell_type": "markdown",
   "id": "amateur-national",
   "metadata": {},
   "source": [
    "이 경우도 원소의 갯수는 2 이므로 $2^2$개의 부분집합을 가진다."
   ]
  },
  {
   "cell_type": "markdown",
   "id": "guilty-external",
   "metadata": {},
   "source": [
    "## 합집합과 교집합의 분배 법칙"
   ]
  },
  {
   "cell_type": "markdown",
   "id": "alternate-following",
   "metadata": {},
   "source": [
    "교집합과 합집합의 분배법칙은 다음과 같다."
   ]
  },
  {
   "cell_type": "markdown",
   "id": "ahead-utility",
   "metadata": {},
   "source": [
    "\\begin{align}\n",
    "A \\cup (B \\cap C) = (A \\cup B) \\cap (A \\cup C)\n",
    "\\end{align}"
   ]
  },
  {
   "cell_type": "markdown",
   "id": "bacterial-marker",
   "metadata": {},
   "source": [
    "\\begin{align}\n",
    "A \\cap (B \\cup C) = (A \\cap B) \\cup (A \\cap C) \n",
    "\\end{align}"
   ]
  }
 ],
 "metadata": {
  "kernelspec": {
   "display_name": "Python 3",
   "language": "python",
   "name": "python3"
  },
  "language_info": {
   "codemirror_mode": {
    "name": "ipython",
    "version": 3
   },
   "file_extension": ".py",
   "mimetype": "text/x-python",
   "name": "python",
   "nbconvert_exporter": "python",
   "pygments_lexer": "ipython3",
   "version": "3.7.10"
  },
  "nbTranslate": {
   "displayLangs": [
    "*"
   ],
   "hotkey": "alt-t",
   "langInMainMenu": true,
   "sourceLang": "en",
   "targetLang": "fr",
   "useGoogleTranslate": true
  },
  "varInspector": {
   "cols": {
    "lenName": 16,
    "lenType": 16,
    "lenVar": 40
   },
   "kernels_config": {
    "python": {
     "delete_cmd_postfix": "",
     "delete_cmd_prefix": "del ",
     "library": "var_list.py",
     "varRefreshCmd": "print(var_dic_list())"
    },
    "r": {
     "delete_cmd_postfix": ") ",
     "delete_cmd_prefix": "rm(",
     "library": "var_list.r",
     "varRefreshCmd": "cat(var_dic_list()) "
    }
   },
   "types_to_exclude": [
    "module",
    "function",
    "builtin_function_or_method",
    "instance",
    "_Feature"
   ],
   "window_display": false
  }
 },
 "nbformat": 4,
 "nbformat_minor": 5
}
