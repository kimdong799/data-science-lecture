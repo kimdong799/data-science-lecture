{
 "cells": [
  {
   "cell_type": "markdown",
   "id": "thermal-canon",
   "metadata": {},
   "source": [
    "## 카테고리 확률변수"
   ]
  },
  {
   "cell_type": "markdown",
   "id": "extreme-replacement",
   "metadata": {},
   "source": [
    "베르누이 확률변수는 동전을 예시로 앞면 혹은 뒷면이 발생할 사건을 0과 1로 표현했다."
   ]
  },
  {
   "cell_type": "markdown",
   "id": "cultural-marina",
   "metadata": {},
   "source": [
    "즉, 이진 분류 문제에 사용할 수 있는 확률변수이다."
   ]
  },
  {
   "cell_type": "markdown",
   "id": "wired-clerk",
   "metadata": {},
   "source": [
    "그런데 주사위와 같은 다중분류문제는 베르누이 확률변수만으로는 해결할 수 없다."
   ]
  },
  {
   "cell_type": "markdown",
   "id": "sacred-lawyer",
   "metadata": {},
   "source": [
    "따라서 이러한 경우에 사용하는 것이 카테고리 확률변수이다."
   ]
  },
  {
   "cell_type": "markdown",
   "id": "eleven-valve",
   "metadata": {},
   "source": [
    "**카테고리 확률변수**는 1부터 $K$까지의 $K$개의 정숫값 중 하나를 갖는다."
   ]
  },
  {
   "cell_type": "markdown",
   "id": "moved-criterion",
   "metadata": {},
   "source": [
    "이 값을 `범줏값, 카테고리, 클래스`라고 한다.\n",
    "\n",
    "주사위의 경우 $K=6$인 카테고리 분포가 된다."
   ]
  },
  {
   "cell_type": "markdown",
   "id": "rising-diploma",
   "metadata": {},
   "source": [
    "주사위를 던지는 경우 카테고리는 스칼라값이 된다."
   ]
  },
  {
   "cell_type": "code",
   "execution_count": 2,
   "id": "anticipated-hammer",
   "metadata": {
    "ExecuteTime": {
     "end_time": "2021-08-04T10:39:42.465913Z",
     "start_time": "2021-08-04T10:39:42.446945Z"
    }
   },
   "outputs": [
    {
     "data": {
      "text/html": [
       "<div>\n",
       "<style scoped>\n",
       "    .dataframe tbody tr th:only-of-type {\n",
       "        vertical-align: middle;\n",
       "    }\n",
       "\n",
       "    .dataframe tbody tr th {\n",
       "        vertical-align: top;\n",
       "    }\n",
       "\n",
       "    .dataframe thead th {\n",
       "        text-align: right;\n",
       "    }\n",
       "</style>\n",
       "<table border=\"1\" class=\"dataframe\">\n",
       "  <thead>\n",
       "    <tr style=\"text-align: right;\">\n",
       "      <th></th>\n",
       "      <th>주사위 눈</th>\n",
       "    </tr>\n",
       "  </thead>\n",
       "  <tbody>\n",
       "    <tr>\n",
       "      <th>0</th>\n",
       "      <td>1</td>\n",
       "    </tr>\n",
       "    <tr>\n",
       "      <th>1</th>\n",
       "      <td>2</td>\n",
       "    </tr>\n",
       "    <tr>\n",
       "      <th>2</th>\n",
       "      <td>3</td>\n",
       "    </tr>\n",
       "    <tr>\n",
       "      <th>3</th>\n",
       "      <td>4</td>\n",
       "    </tr>\n",
       "    <tr>\n",
       "      <th>4</th>\n",
       "      <td>5</td>\n",
       "    </tr>\n",
       "    <tr>\n",
       "      <th>5</th>\n",
       "      <td>6</td>\n",
       "    </tr>\n",
       "  </tbody>\n",
       "</table>\n",
       "</div>"
      ],
      "text/plain": [
       "   주사위 눈\n",
       "0      1\n",
       "1      2\n",
       "2      3\n",
       "3      4\n",
       "4      5\n",
       "5      6"
      ]
     },
     "execution_count": 2,
     "metadata": {},
     "output_type": "execute_result"
    }
   ],
   "source": [
    "df = pd.DataFrame({\n",
    "    '주사위 눈':[1, 2, 3, 4, 5, 6]\n",
    "})\n",
    "df"
   ]
  },
  {
   "cell_type": "markdown",
   "id": "moved-damage",
   "metadata": {},
   "source": [
    "하지만 카테고리 확률변수는 0과 1만으로 이루어진 다차원 벡터를 출력한다.\n",
    "\n",
    "위의 각 주사위 눈이 나오는 경우를 아래와 같이 0과 1로 이루어진 다차원 벡터로 표현한 것이 **원핫인코딩**이라 한다."
   ]
  },
  {
   "cell_type": "code",
   "execution_count": 6,
   "id": "ignored-duncan",
   "metadata": {
    "ExecuteTime": {
     "end_time": "2021-08-04T10:41:05.856813Z",
     "start_time": "2021-08-04T10:41:05.836867Z"
    }
   },
   "outputs": [
    {
     "data": {
      "text/html": [
       "<div>\n",
       "<style scoped>\n",
       "    .dataframe tbody tr th:only-of-type {\n",
       "        vertical-align: middle;\n",
       "    }\n",
       "\n",
       "    .dataframe tbody tr th {\n",
       "        vertical-align: top;\n",
       "    }\n",
       "\n",
       "    .dataframe thead th {\n",
       "        text-align: right;\n",
       "    }\n",
       "</style>\n",
       "<table border=\"1\" class=\"dataframe\">\n",
       "  <thead>\n",
       "    <tr style=\"text-align: right;\">\n",
       "      <th></th>\n",
       "      <th>1</th>\n",
       "      <th>2</th>\n",
       "      <th>3</th>\n",
       "      <th>4</th>\n",
       "      <th>5</th>\n",
       "      <th>6</th>\n",
       "    </tr>\n",
       "  </thead>\n",
       "  <tbody>\n",
       "    <tr>\n",
       "      <th>0</th>\n",
       "      <td>1</td>\n",
       "      <td>0</td>\n",
       "      <td>0</td>\n",
       "      <td>0</td>\n",
       "      <td>0</td>\n",
       "      <td>0</td>\n",
       "    </tr>\n",
       "    <tr>\n",
       "      <th>1</th>\n",
       "      <td>0</td>\n",
       "      <td>1</td>\n",
       "      <td>0</td>\n",
       "      <td>0</td>\n",
       "      <td>0</td>\n",
       "      <td>0</td>\n",
       "    </tr>\n",
       "    <tr>\n",
       "      <th>2</th>\n",
       "      <td>0</td>\n",
       "      <td>0</td>\n",
       "      <td>1</td>\n",
       "      <td>0</td>\n",
       "      <td>0</td>\n",
       "      <td>0</td>\n",
       "    </tr>\n",
       "    <tr>\n",
       "      <th>3</th>\n",
       "      <td>0</td>\n",
       "      <td>0</td>\n",
       "      <td>0</td>\n",
       "      <td>1</td>\n",
       "      <td>0</td>\n",
       "      <td>0</td>\n",
       "    </tr>\n",
       "    <tr>\n",
       "      <th>4</th>\n",
       "      <td>0</td>\n",
       "      <td>0</td>\n",
       "      <td>0</td>\n",
       "      <td>0</td>\n",
       "      <td>1</td>\n",
       "      <td>0</td>\n",
       "    </tr>\n",
       "    <tr>\n",
       "      <th>5</th>\n",
       "      <td>0</td>\n",
       "      <td>0</td>\n",
       "      <td>0</td>\n",
       "      <td>0</td>\n",
       "      <td>0</td>\n",
       "      <td>1</td>\n",
       "    </tr>\n",
       "  </tbody>\n",
       "</table>\n",
       "</div>"
      ],
      "text/plain": [
       "   1  2  3  4  5  6\n",
       "0  1  0  0  0  0  0\n",
       "1  0  1  0  0  0  0\n",
       "2  0  0  1  0  0  0\n",
       "3  0  0  0  1  0  0\n",
       "4  0  0  0  0  1  0\n",
       "5  0  0  0  0  0  1"
      ]
     },
     "execution_count": 6,
     "metadata": {},
     "output_type": "execute_result"
    }
   ],
   "source": [
    "ohc = pd.get_dummies(df['주사위 눈'])\n",
    "ohc"
   ]
  },
  {
   "cell_type": "markdown",
   "id": "remarkable-playing",
   "metadata": {},
   "source": [
    "따라서 확률변수의 값을 벡터로 표시한다."
   ]
  },
  {
   "cell_type": "markdown",
   "id": "desperate-wedding",
   "metadata": {},
   "source": [
    "$x = (x_1, x_2, x_3, x_4, x_5, x_6)$"
   ]
  },
  {
   "cell_type": "markdown",
   "id": "legal-spiritual",
   "metadata": {},
   "source": [
    "이 벡터를 구성하는 원소 $x_i$에는 다음의 조건이 붙는다."
   ]
  },
  {
   "cell_type": "markdown",
   "id": "chubby-defendant",
   "metadata": {},
   "source": [
    "\\begin{split}\n",
    "\\begin{align}\n",
    "x_i = \\begin{cases} 0 \\\\ 1 \\end{cases}\n",
    "\\end{align}\n",
    "\\end{split}"
   ]
  },
  {
   "cell_type": "markdown",
   "id": "hawaiian-investor",
   "metadata": {},
   "source": [
    "벡터를 구성하는 $x_i$는 0과 1만을 값으로 가진다."
   ]
  },
  {
   "cell_type": "markdown",
   "id": "lesser-variety",
   "metadata": {},
   "source": [
    "$$\\sum_{k=1}^K x_k = 1$$"
   ]
  },
  {
   "cell_type": "markdown",
   "id": "useful-airline",
   "metadata": {},
   "source": [
    "벡터로 표현된 $x_i$중 하나만이 그 1을 값으로 갖는다."
   ]
  },
  {
   "cell_type": "markdown",
   "id": "thermal-optimum",
   "metadata": {},
   "source": [
    "이 경우 SUM을 SUM으로 보는 것이 아닌 COUNTING으로 보는 관점이 올바르다."
   ]
  },
  {
   "cell_type": "markdown",
   "id": "roman-viking",
   "metadata": {},
   "source": [
    "이렇게 원핫인코딩으로 카테고리 분포 값을 표시하게 되면 각 $x_i$ 하나하나가 각각의 베르누이 확률변수라 할 수 있다."
   ]
  },
  {
   "cell_type": "markdown",
   "id": "intermediate-allowance",
   "metadata": {},
   "source": [
    "따라서 각각 1이 나올 확률을 나타내는 모수 $\\mu_k$또한 $K$개를 가지며 벡터로 표현한다."
   ]
  },
  {
   "cell_type": "markdown",
   "id": "extensive-vinyl",
   "metadata": {},
   "source": [
    "$$\\mu = (\\mu_1, ..., \\mu_k)$$"
   ]
  },
  {
   "cell_type": "markdown",
   "id": "special-greene",
   "metadata": {},
   "source": [
    "모수는 다음의 조건을 따른다."
   ]
  },
  {
   "cell_type": "markdown",
   "id": "steady-diagram",
   "metadata": {},
   "source": [
    "\\begin{align}\n",
    "0 \\leq \\mu_i \\leq 1\n",
    "\\end{align}"
   ]
  },
  {
   "cell_type": "markdown",
   "id": "subtle-comedy",
   "metadata": {},
   "source": [
    "여기서 모수는 각각의 $x$가 1일 확률을 표현하므로 0과 1사이의 값을 갖는다."
   ]
  },
  {
   "cell_type": "markdown",
   "id": "acting-aircraft",
   "metadata": {},
   "source": [
    "\\begin{align}\n",
    "\\sum_{k=1}^K \\mu_k = 1\n",
    "\\end{align}"
   ]
  },
  {
   "cell_type": "markdown",
   "id": "resistant-cooking",
   "metadata": {},
   "source": [
    "각각의 $x$는 서로 배터적이면서 완전하기에 전체확률의 법칙에 따라 그 합은 1이된다.\n",
    "\n",
    "여기서의 SUM은 SUM으로 보는 관점이 올바르다."
   ]
  },
  {
   "cell_type": "markdown",
   "id": "dramatic-swing",
   "metadata": {},
   "source": [
    "## 카테고리 확률분포"
   ]
  },
  {
   "cell_type": "markdown",
   "id": "democratic-certificate",
   "metadata": {},
   "source": [
    "카테고리 확률변수의 확률분포인 카테고리 확률분포는 다음과 같이 표현한다."
   ]
  },
  {
   "cell_type": "markdown",
   "id": "czech-frontier",
   "metadata": {},
   "source": [
    "\\begin{align}\n",
    "\\text{Cat}(x_1, x_2, \\dots, x_K;\\mu_1, \\dots, \\mu_K)\n",
    "\\end{align}"
   ]
  },
  {
   "cell_type": "markdown",
   "id": "subject-travel",
   "metadata": {},
   "source": [
    "여기서 $x_k, \\mu_k$를 벡터로 보면 다음처럼 간단하게 표기할 수 있다."
   ]
  },
  {
   "cell_type": "markdown",
   "id": "spectacular-coffee",
   "metadata": {},
   "source": [
    "\\begin{align}\n",
    "\\text{Cat}(x;\\mu)\n",
    "\\end{align}"
   ]
  },
  {
   "cell_type": "markdown",
   "id": "critical-aurora",
   "metadata": {},
   "source": [
    "카테고리 확률분포의 확률질량함수는 다음과 같이 표현한다."
   ]
  },
  {
   "cell_type": "markdown",
   "id": "threaded-lawrence",
   "metadata": {},
   "source": [
    "\\begin{split} \n",
    "\\begin{align}\n",
    "\\text{Cat}(x;\\mu) = \n",
    "\\begin{cases}\n",
    "\\mu_1 & \\text{if } x = (1, 0, 0, \\cdots, 0) \\\\\n",
    "\\mu_2 & \\text{if } x = (0, 1, 0, \\cdots, 0) \\\\\n",
    "\\mu_3 & \\text{if } x = (0, 0, 1, \\cdots, 0) \\\\\n",
    "\\vdots & \\vdots \\\\\n",
    "\\mu_K & \\text{if } x = (0, 0, 0, \\cdots, 1) \\\\\n",
    "\\end{cases}\n",
    "\\end{align}\n",
    "\\end{split}"
   ]
  },
  {
   "cell_type": "markdown",
   "id": "artistic-interpretation",
   "metadata": {},
   "source": [
    "이를 간단히 표시하면"
   ]
  },
  {
   "cell_type": "markdown",
   "id": "pointed-treasure",
   "metadata": {},
   "source": [
    "\\begin{align}\n",
    "\\text{Cat}(x;\\mu) = \\mu_1^{x_1} \\mu_2^{x_2}  \\cdots \\mu_K^{x_K}  =  \\prod_{k=1}^K \\mu_k^{x_k}\n",
    "\\end{align}"
   ]
  },
  {
   "cell_type": "markdown",
   "id": "adaptive-suffering",
   "metadata": {},
   "source": [
    "가 된다. 이것이 원핫인코딩의 장점 중 하나이다."
   ]
  },
  {
   "cell_type": "markdown",
   "id": "antique-garden",
   "metadata": {},
   "source": [
    "## 카테고리분포의 모멘트"
   ]
  },
  {
   "cell_type": "markdown",
   "id": "prerequisite-bidder",
   "metadata": {},
   "source": [
    "카테고리분포는 표본값이 벡터이기에 기댓값, 분산도 벡터이다."
   ]
  },
  {
   "cell_type": "markdown",
   "id": "acoustic-homeless",
   "metadata": {},
   "source": [
    "\\begin{align}\n",
    "\\text{E}[x_k] = \\mu_k\n",
    "\\end{align}"
   ]
  },
  {
   "cell_type": "markdown",
   "id": "unique-wisdom",
   "metadata": {},
   "source": [
    "\\begin{align}\n",
    "\\text{Var}[x_k] = \\mu_k(1-\\mu_k)\n",
    "\\end{align}"
   ]
  },
  {
   "cell_type": "markdown",
   "id": "found-daniel",
   "metadata": {},
   "source": [
    "## 카테고리분포 시뮬레이션"
   ]
  },
  {
   "cell_type": "markdown",
   "id": "documentary-bruce",
   "metadata": {},
   "source": [
    "카테고리분포 시뮬레이션을 위해선 다항분포 클래스에서 시행횟수를 1로 설정한다."
   ]
  },
  {
   "cell_type": "code",
   "execution_count": 7,
   "id": "toxic-fleet",
   "metadata": {
    "ExecuteTime": {
     "end_time": "2021-08-04T10:56:39.094122Z",
     "start_time": "2021-08-04T10:56:39.078131Z"
    }
   },
   "outputs": [],
   "source": [
    "import scipy as sp\n",
    "import scipy.stats"
   ]
  },
  {
   "cell_type": "code",
   "execution_count": 16,
   "id": "attractive-julian",
   "metadata": {
    "ExecuteTime": {
     "end_time": "2021-08-04T11:07:27.552811Z",
     "start_time": "2021-08-04T11:07:27.543611Z"
    }
   },
   "outputs": [],
   "source": [
    "# 모수가 벡터로 입력\n",
    "\n",
    "mu = [0.1, 0.1, 0.1, 0.1, 0.3, 0.3]\n",
    "rv = sp.stats.multinomial(1, mu)"
   ]
  },
  {
   "cell_type": "code",
   "execution_count": 19,
   "id": "olive-wednesday",
   "metadata": {
    "ExecuteTime": {
     "end_time": "2021-08-04T11:09:01.941665Z",
     "start_time": "2021-08-04T11:09:01.584621Z"
    }
   },
   "outputs": [
    {
     "data": {
      "image/png": "[encoded data removed]",
      "text/plain": [
       "<Figure size 432x288 with 1 Axes>"
      ]
     },
     "metadata": {
      "image/png": {
       "height": 263,
       "width": 389
      },
      "needs_background": "light"
     },
     "output_type": "display_data"
    }
   ],
   "source": [
    "xx = np.arange(1, 7)\n",
    "\n",
    "# 카테고리분포 출력값은 벡터\n",
    "# 인수로 원핫인코딩 벡터 지정\n",
    "xx_ohe = pd.get_dummies(xx)\n",
    "\n",
    "plt.bar(xx, rv.pmf(xx_ohe.values))\n",
    "plt.grid()\n",
    "plt.xlabel('표본값')\n",
    "plt.ylabel('P(x)')\n",
    "plt.show()"
   ]
  },
  {
   "cell_type": "markdown",
   "id": "flexible-split",
   "metadata": {},
   "source": [
    "`rvs`결과 또한 원핫인코딩 벡터"
   ]
  },
  {
   "cell_type": "code",
   "execution_count": 21,
   "id": "compressed-chassis",
   "metadata": {
    "ExecuteTime": {
     "end_time": "2021-08-04T11:09:34.352633Z",
     "start_time": "2021-08-04T11:09:34.338573Z"
    }
   },
   "outputs": [
    {
     "data": {
      "text/plain": [
       "array([[0, 0, 0, 0, 1, 0],\n",
       "       [1, 0, 0, 0, 0, 0],\n",
       "       [0, 0, 0, 0, 1, 0],\n",
       "       [1, 0, 0, 0, 0, 0],\n",
       "       [0, 0, 0, 0, 1, 0]])"
      ]
     },
     "execution_count": 21,
     "metadata": {},
     "output_type": "execute_result"
    }
   ],
   "source": [
    "x = rv.rvs(100)\n",
    "x[:5]"
   ]
  },
  {
   "cell_type": "code",
   "execution_count": 24,
   "id": "responsible-leone",
   "metadata": {
    "ExecuteTime": {
     "end_time": "2021-08-04T11:09:56.519868Z",
     "start_time": "2021-08-04T11:09:56.156805Z"
    }
   },
   "outputs": [
    {
     "data": {
      "image/png": "[encoded data removed]",
      "text/plain": [
       "<Figure size 432x288 with 1 Axes>"
      ]
     },
     "metadata": {
      "image/png": {
       "height": 279,
       "width": 389
      },
      "needs_background": "light"
     },
     "output_type": "display_data"
    }
   ],
   "source": [
    "y = x.sum(axis=0) / float(len(x))\n",
    "plt.bar(np.arange(1, 7), y)\n",
    "plt.title(\"카테고리분포의 시뮬레이션 결과\")\n",
    "plt.xlabel(\"표본값\")\n",
    "plt.ylabel(\"비율\")\n",
    "plt.grid()\n",
    "plt.show()"
   ]
  },
  {
   "cell_type": "markdown",
   "id": "dense-shore",
   "metadata": {},
   "source": [
    "## 다중분류문제"
   ]
  },
  {
   "cell_type": "markdown",
   "id": "adult-dependence",
   "metadata": {},
   "source": [
    "IRIS 데이터의 품종은 3가지로 $K$ = 3인 카테고리분포를 이룬다고 할 수 있다."
   ]
  },
  {
   "cell_type": "markdown",
   "id": "coupled-opening",
   "metadata": {},
   "source": [
    "꽃잎 폭이라는 특징에 따라 카테고리분포의 모양이 달라지는 것을 확인할 수 있다."
   ]
  },
  {
   "cell_type": "code",
   "execution_count": 25,
   "id": "authentic-scenario",
   "metadata": {
    "ExecuteTime": {
     "end_time": "2021-08-04T11:10:28.954272Z",
     "start_time": "2021-08-04T11:10:24.108853Z"
    }
   },
   "outputs": [
    {
     "data": {
      "image/png": "[encoded data removed]",
      "text/plain": [
       "<Figure size 432x288 with 2 Axes>"
      ]
     },
     "metadata": {
      "image/png": {
       "height": 284,
       "width": 426
      },
      "needs_background": "light"
     },
     "output_type": "display_data"
    }
   ],
   "source": [
    "from sklearn.datasets import load_iris\n",
    "\n",
    "iris = load_iris()\n",
    "df = pd.DataFrame(iris.data, columns=iris.feature_names)\n",
    "df[\"품종\"] = pd.Series(iris.target, dtype=\"category\")\n",
    "\n",
    "df1 = df[df[\"petal width (cm)\"] > 1.5]\n",
    "df2 = df[df[\"petal width (cm)\"] <= 1.5]\n",
    "\n",
    "fig, ax = plt.subplots(1, 2)\n",
    "sns.countplot(x=\"품종\", data=df1, ax=ax[0]).set_title(\"꽃잎 폭 > 1.5cm\")\n",
    "sns.countplot(x=\"품종\", data=df2, ax=ax[1]).set_title(\"꽃잎 폭 <= 1.5cm\")\n",
    "plt.tight_layout()\n",
    "plt.show()"
   ]
  },
  {
   "cell_type": "markdown",
   "id": "twelve-investigation",
   "metadata": {},
   "source": [
    "## 다항분포"
   ]
  },
  {
   "cell_type": "markdown",
   "id": "confused-train",
   "metadata": {},
   "source": [
    "베르누이 확률변수 데이터가 복수라면 이항분포\n",
    "\n",
    "카테고리 확률변수 데이터가 복수이면 다항분포 라 한다."
   ]
  },
  {
   "cell_type": "markdown",
   "id": "dying-groove",
   "metadata": {},
   "source": [
    "예를 들어 주사위를 $N$번 던져 각 면이 나오는 횟수의 집합을 다항분포라 할 수 있다."
   ]
  },
  {
   "cell_type": "markdown",
   "id": "exact-petroleum",
   "metadata": {},
   "source": [
    "예를 들어 $x = (1, 2, 1, 2, 3, 1)$은 1이 1번, 2가 2번, 3이 1번, 4가 2번, 5가 3번, 6이 1번 나왔다는 의미가 된다."
   ]
  },
  {
   "cell_type": "markdown",
   "id": "usual-lease",
   "metadata": {},
   "source": [
    "다항분포의 확률질량함수는 다음과 같이 표기한다."
   ]
  },
  {
   "cell_type": "markdown",
   "id": "regulated-sailing",
   "metadata": {},
   "source": [
    "\\begin{align}\n",
    "\\text{Mu}(x;N,\\mu) = \\binom N x  \\prod_{k=1}^K \\mu_k^{x_k} = \\binom N {x_1, \\cdots, x_K} \\prod_{k=1}^K \\mu_k^{x_k}\n",
    "\\end{align}"
   ]
  },
  {
   "cell_type": "markdown",
   "id": "offshore-project",
   "metadata": {},
   "source": [
    "## 다항분포의 모멘트"
   ]
  },
  {
   "cell_type": "markdown",
   "id": "nearby-methodology",
   "metadata": {},
   "source": [
    "\\begin{align}\n",
    "\\text{E}[x_k] = N\\mu_k\n",
    "\\end{align}"
   ]
  },
  {
   "cell_type": "markdown",
   "id": "viral-ability",
   "metadata": {},
   "source": [
    "\\begin{align}\n",
    "\\text{Var}[x_k] = N\\mu_k(1-\\mu_k)\n",
    "\\end{align}"
   ]
  },
  {
   "cell_type": "markdown",
   "id": "bacterial-wagon",
   "metadata": {},
   "source": [
    "## 다항분포 시뮬레이션"
   ]
  },
  {
   "cell_type": "code",
   "execution_count": 26,
   "id": "expired-muscle",
   "metadata": {
    "ExecuteTime": {
     "end_time": "2021-08-04T11:16:23.491010Z",
     "start_time": "2021-08-04T11:16:23.465078Z"
    }
   },
   "outputs": [
    {
     "data": {
      "text/plain": [
       "array([[ 3,  2,  2,  2, 14,  7],\n",
       "       [ 3,  3,  3,  2,  7, 12],\n",
       "       [ 1,  5,  3,  4,  6, 11],\n",
       "       [ 2,  6,  5,  3,  6,  8],\n",
       "       [ 3,  1,  2,  3, 13,  8],\n",
       "       [ 2,  6,  1,  6,  7,  8],\n",
       "       [ 6,  2,  2,  3, 11,  6],\n",
       "       [ 1,  5,  4,  0, 12,  8],\n",
       "       [ 0,  5,  8,  3,  8,  6],\n",
       "       [ 3,  1,  4,  4,  7, 11]])"
      ]
     },
     "execution_count": 26,
     "metadata": {},
     "output_type": "execute_result"
    }
   ],
   "source": [
    "N = 30\n",
    "mu = [0.1, 0.1, 0.1, 0.1, 0.3, 0.3]\n",
    "rv = sp.stats.multinomial(N, mu)\n",
    "\n",
    "X = rv.rvs(100)\n",
    "X[:10]"
   ]
  },
  {
   "cell_type": "code",
   "execution_count": 38,
   "id": "noted-school",
   "metadata": {
    "ExecuteTime": {
     "end_time": "2021-08-04T11:19:09.692662Z",
     "start_time": "2021-08-04T11:19:09.667621Z"
    }
   },
   "outputs": [
    {
     "data": {
      "text/html": [
       "<div>\n",
       "<style scoped>\n",
       "    .dataframe tbody tr th:only-of-type {\n",
       "        vertical-align: middle;\n",
       "    }\n",
       "\n",
       "    .dataframe tbody tr th {\n",
       "        vertical-align: top;\n",
       "    }\n",
       "\n",
       "    .dataframe thead th {\n",
       "        text-align: right;\n",
       "    }\n",
       "</style>\n",
       "<table border=\"1\" class=\"dataframe\">\n",
       "  <thead>\n",
       "    <tr style=\"text-align: right;\">\n",
       "      <th></th>\n",
       "      <th>0</th>\n",
       "      <th>1</th>\n",
       "      <th>2</th>\n",
       "      <th>3</th>\n",
       "      <th>4</th>\n",
       "      <th>5</th>\n",
       "    </tr>\n",
       "  </thead>\n",
       "  <tbody>\n",
       "    <tr>\n",
       "      <th>0</th>\n",
       "      <td>3</td>\n",
       "      <td>2</td>\n",
       "      <td>2</td>\n",
       "      <td>2</td>\n",
       "      <td>14</td>\n",
       "      <td>7</td>\n",
       "    </tr>\n",
       "    <tr>\n",
       "      <th>1</th>\n",
       "      <td>3</td>\n",
       "      <td>3</td>\n",
       "      <td>3</td>\n",
       "      <td>2</td>\n",
       "      <td>7</td>\n",
       "      <td>12</td>\n",
       "    </tr>\n",
       "    <tr>\n",
       "      <th>2</th>\n",
       "      <td>1</td>\n",
       "      <td>5</td>\n",
       "      <td>3</td>\n",
       "      <td>4</td>\n",
       "      <td>6</td>\n",
       "      <td>11</td>\n",
       "    </tr>\n",
       "    <tr>\n",
       "      <th>3</th>\n",
       "      <td>2</td>\n",
       "      <td>6</td>\n",
       "      <td>5</td>\n",
       "      <td>3</td>\n",
       "      <td>6</td>\n",
       "      <td>8</td>\n",
       "    </tr>\n",
       "    <tr>\n",
       "      <th>4</th>\n",
       "      <td>3</td>\n",
       "      <td>1</td>\n",
       "      <td>2</td>\n",
       "      <td>3</td>\n",
       "      <td>13</td>\n",
       "      <td>8</td>\n",
       "    </tr>\n",
       "  </tbody>\n",
       "</table>\n",
       "</div>"
      ],
      "text/plain": [
       "   0  1  2  3   4   5\n",
       "0  3  2  2  2  14   7\n",
       "1  3  3  3  2   7  12\n",
       "2  1  5  3  4   6  11\n",
       "3  2  6  5  3   6   8\n",
       "4  3  1  2  3  13   8"
      ]
     },
     "execution_count": 38,
     "metadata": {},
     "output_type": "execute_result"
    }
   ],
   "source": [
    "df = pd.DataFrame(X)\n",
    "df.head()"
   ]
  },
  {
   "cell_type": "code",
   "execution_count": 35,
   "id": "directed-candidate",
   "metadata": {
    "ExecuteTime": {
     "end_time": "2021-08-04T11:17:44.490932Z",
     "start_time": "2021-08-04T11:17:44.466996Z"
    }
   },
   "outputs": [
    {
     "data": {
      "text/html": [
       "<div>\n",
       "<style scoped>\n",
       "    .dataframe tbody tr th:only-of-type {\n",
       "        vertical-align: middle;\n",
       "    }\n",
       "\n",
       "    .dataframe tbody tr th {\n",
       "        vertical-align: top;\n",
       "    }\n",
       "\n",
       "    .dataframe thead th {\n",
       "        text-align: right;\n",
       "    }\n",
       "</style>\n",
       "<table border=\"1\" class=\"dataframe\">\n",
       "  <thead>\n",
       "    <tr style=\"text-align: right;\">\n",
       "      <th></th>\n",
       "      <th>시도</th>\n",
       "      <th>클래스</th>\n",
       "      <th>표본값</th>\n",
       "    </tr>\n",
       "  </thead>\n",
       "  <tbody>\n",
       "    <tr>\n",
       "      <th>0</th>\n",
       "      <td>0</td>\n",
       "      <td>0</td>\n",
       "      <td>3</td>\n",
       "    </tr>\n",
       "    <tr>\n",
       "      <th>1</th>\n",
       "      <td>0</td>\n",
       "      <td>1</td>\n",
       "      <td>2</td>\n",
       "    </tr>\n",
       "    <tr>\n",
       "      <th>2</th>\n",
       "      <td>0</td>\n",
       "      <td>2</td>\n",
       "      <td>2</td>\n",
       "    </tr>\n",
       "    <tr>\n",
       "      <th>3</th>\n",
       "      <td>0</td>\n",
       "      <td>3</td>\n",
       "      <td>2</td>\n",
       "    </tr>\n",
       "    <tr>\n",
       "      <th>4</th>\n",
       "      <td>0</td>\n",
       "      <td>4</td>\n",
       "      <td>14</td>\n",
       "    </tr>\n",
       "  </tbody>\n",
       "</table>\n",
       "</div>"
      ],
      "text/plain": [
       "   시도  클래스  표본값\n",
       "0   0    0    3\n",
       "1   0    1    2\n",
       "2   0    2    2\n",
       "3   0    3    2\n",
       "4   0    4   14"
      ]
     },
     "execution_count": 35,
     "metadata": {},
     "output_type": "execute_result"
    }
   ],
   "source": [
    "df = df.stack().reset_index()\n",
    "df.columns = [\"시도\", \"클래스\", \"표본값\"]\n",
    "df.head()"
   ]
  },
  {
   "cell_type": "markdown",
   "id": "substantial-norfolk",
   "metadata": {},
   "source": [
    "스웜플롯, 바이올린 플롯을 이용해 각 카테고리에 해당하는 실숫값 데이터 집합을 하나하나 점으로 표현하고 바이올린 플롯으로 데이터의 분포를 커널밀도라는 부드러운 곡선으로 표현할 수 있다."
   ]
  },
  {
   "cell_type": "code",
   "execution_count": 37,
   "id": "extra-township",
   "metadata": {
    "ExecuteTime": {
     "end_time": "2021-08-04T11:18:48.181080Z",
     "start_time": "2021-08-04T11:18:47.146782Z"
    }
   },
   "outputs": [
    {
     "name": "stderr",
     "output_type": "stream",
     "text": [
      "C:\\ProgramData\\Anaconda3\\lib\\site-packages\\seaborn\\categorical.py:1296: UserWarning: 44.0% of the points cannot be placed; you may want to decrease the size of the markers or use stripplot.\n",
      "  warnings.warn(msg, UserWarning)\n",
      "C:\\ProgramData\\Anaconda3\\lib\\site-packages\\seaborn\\categorical.py:1296: UserWarning: 42.0% of the points cannot be placed; you may want to decrease the size of the markers or use stripplot.\n",
      "  warnings.warn(msg, UserWarning)\n",
      "C:\\ProgramData\\Anaconda3\\lib\\site-packages\\seaborn\\categorical.py:1296: UserWarning: 46.0% of the points cannot be placed; you may want to decrease the size of the markers or use stripplot.\n",
      "  warnings.warn(msg, UserWarning)\n",
      "C:\\ProgramData\\Anaconda3\\lib\\site-packages\\seaborn\\categorical.py:1296: UserWarning: 45.0% of the points cannot be placed; you may want to decrease the size of the markers or use stripplot.\n",
      "  warnings.warn(msg, UserWarning)\n",
      "C:\\ProgramData\\Anaconda3\\lib\\site-packages\\seaborn\\categorical.py:1296: UserWarning: 29.0% of the points cannot be placed; you may want to decrease the size of the markers or use stripplot.\n",
      "  warnings.warn(msg, UserWarning)\n",
      "C:\\ProgramData\\Anaconda3\\lib\\site-packages\\seaborn\\categorical.py:1296: UserWarning: 23.0% of the points cannot be placed; you may want to decrease the size of the markers or use stripplot.\n",
      "  warnings.warn(msg, UserWarning)\n"
     ]
    },
    {
     "data": {
      "image/png": "[encoded data removed]",
      "text/plain": [
       "<Figure size 432x288 with 1 Axes>"
      ]
     },
     "metadata": {
      "image/png": {
       "height": 279,
       "width": 389
      },
      "needs_background": "light"
     },
     "output_type": "display_data"
    }
   ],
   "source": [
    "sns.violinplot(x=\"클래스\", y=\"표본값\", data=df, inner=\"quartile\")\n",
    "sns.swarmplot(x=\"클래스\", y=\"표본값\", data=df, color=\".3\")\n",
    "plt.title(\"다항분포의 시뮬레이션 결과\")\n",
    "plt.grid()\n",
    "plt.show()"
   ]
  },
  {
   "cell_type": "markdown",
   "id": "patent-ticket",
   "metadata": {},
   "source": [
    "혹은 박스플롯을 이용하여 표현하는 것 또한 가능하다."
   ]
  },
  {
   "cell_type": "code",
   "execution_count": 67,
   "id": "noted-liabilities",
   "metadata": {
    "ExecuteTime": {
     "end_time": "2021-08-04T11:27:29.743314Z",
     "start_time": "2021-08-04T11:27:29.342179Z"
    }
   },
   "outputs": [
    {
     "data": {
      "image/png": "[encoded data removed]",
      "text/plain": [
       "<Figure size 432x288 with 1 Axes>"
      ]
     },
     "metadata": {
      "image/png": {
       "height": 249,
       "width": 367
      },
      "needs_background": "light"
     },
     "output_type": "display_data"
    }
   ],
   "source": [
    "plt.boxplot(X)\n",
    "plt.show()"
   ]
  },
  {
   "cell_type": "code",
   "execution_count": null,
   "id": "complex-secondary",
   "metadata": {},
   "outputs": [],
   "source": []
  }
 ],
 "metadata": {
  "kernelspec": {
   "display_name": "Python 3",
   "language": "python",
   "name": "python3"
  },
  "language_info": {
   "codemirror_mode": {
    "name": "ipython",
    "version": 3
   },
   "file_extension": ".py",
   "mimetype": "text/x-python",
   "name": "python",
   "nbconvert_exporter": "python",
   "pygments_lexer": "ipython3",
   "version": "3.7.10"
  },
  "nbTranslate": {
   "displayLangs": [
    "*"
   ],
   "hotkey": "alt-t",
   "langInMainMenu": true,
   "sourceLang": "en",
   "targetLang": "fr",
   "useGoogleTranslate": true
  },
  "varInspector": {
   "cols": {
    "lenName": 16,
    "lenType": 16,
    "lenVar": 40
   },
   "kernels_config": {
    "python": {
     "delete_cmd_postfix": "",
     "delete_cmd_prefix": "del ",
     "library": "var_list.py",
     "varRefreshCmd": "print(var_dic_list())"
    },
    "r": {
     "delete_cmd_postfix": ") ",
     "delete_cmd_prefix": "rm(",
     "library": "var_list.r",
     "varRefreshCmd": "cat(var_dic_list()) "
    }
   },
   "types_to_exclude": [
    "module",
    "function",
    "builtin_function_or_method",
    "instance",
    "_Feature"
   ],
   "window_display": false
  }
 },
 "nbformat": 4,
 "nbformat_minor": 5
}
