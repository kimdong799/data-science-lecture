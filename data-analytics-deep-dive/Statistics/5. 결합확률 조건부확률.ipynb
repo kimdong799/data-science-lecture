{
 "cells": [
  {
   "cell_type": "markdown",
   "id": "light-siemens",
   "metadata": {},
   "source": [
    "## 코로나 확진자 접촉자 판단 문제"
   ]
  },
  {
   "cell_type": "markdown",
   "id": "leading-brooks",
   "metadata": {},
   "source": [
    "강의실에 코로나 확진자가 발생했다고 가정하자. 따라서 교학팀에서는 확진자와의 접촉의 의심되는 학생들에게 코로나 검사를 받으라는 안내 문자를 발송해야한다고 가정하자."
   ]
  },
  {
   "cell_type": "markdown",
   "id": "according-drama",
   "metadata": {},
   "source": [
    "당시 강의실의 표본공간은 학생 50명으로 구성되어있으며 이 중 남자가 30명 여자가 20명이라고 가정하자."
   ]
  },
  {
   "cell_type": "markdown",
   "id": "existing-literature",
   "metadata": {},
   "source": [
    "확진자의 말에 따르면 밀접하게 접촉한 사람은 여자라고 한다. \n",
    "\n",
    "따라서 **'접촉자는 남자일것'**이다. 라는 주장은 확률론적 관점에서 남자로만 이루어진 사건(부분집합)이 된다.\n",
    "\n",
    "이를 사건 $A$라고 하자.\n",
    "\n",
    "이 때, 접촉자는 남자라는 사건 $A$의 신뢰는 사건 $A$의 확률 $P(A)$가 된다."
   ]
  },
  {
   "cell_type": "markdown",
   "id": "tired-signal",
   "metadata": {},
   "source": [
    "아직 접촉자가 남자라는 사실 외에는 아무런 정보가 없다고 가정하면 접촉자가 남자일 확률 $P(A)$는 다음과 같이 전체 학생 수로 남학생의 수를 나눈 값이 된다."
   ]
  },
  {
   "cell_type": "markdown",
   "id": "guided-arkansas",
   "metadata": {},
   "source": [
    "\\begin{align}\n",
    "P(A) = \\dfrac{|A|}{|\\Omega|} = \\dfrac{30}{30 + 20} = \\dfrac{30}{50} = 0.6\n",
    "\\end{align}"
   ]
  },
  {
   "cell_type": "markdown",
   "id": "statutory-crash",
   "metadata": {},
   "source": [
    "반대로 접촉자는 여자라는 사건은 사건 $A$에 대한 여집합 $A^C$로 표현할 수 있으며 그 확률은 다음과 같다."
   ]
  },
  {
   "cell_type": "markdown",
   "id": "fallen-flower",
   "metadata": {},
   "source": [
    "\\begin{align}\n",
    "P(A^C) = \\dfrac{|A^C|}{|\\Omega|} = \\dfrac{20}{30 + 20} = \\dfrac{20}{50} = 0.4\n",
    "\\end{align}"
   ]
  },
  {
   "cell_type": "markdown",
   "id": "random-windsor",
   "metadata": {
    "ExecuteTime": {
     "end_time": "2021-07-29T11:20:10.972824Z",
     "start_time": "2021-07-29T11:20:10.957863Z"
    }
   },
   "source": [
    "여기서 확진자의 추가적인 정보에 따르면 접촉자는 안경을 쓰고 있었던 것 같다고 한다.\n",
    "\n",
    "이를 새로운 사건 $B$라고 하자.\n",
    "\n",
    "현재 표본공간(해당 강의실의 학생들)에는 안경을 쓴 학생이 15명 안경을 쓰지 않은 사람이 35명이다.\n",
    "\n",
    "만약 이 사건이 진실이라는 보장이 없다면 사건 $B$에 대한 확률 $P(B)$, 안경을 쓴 사람이 접촉자라는 주장의 신뢰도는 다음과 같다."
   ]
  },
  {
   "cell_type": "markdown",
   "id": "moderate-needle",
   "metadata": {},
   "source": [
    "\\begin{align}\n",
    "P(B) = \\dfrac{|B|}{|\\Omega|} = \\dfrac{15}{15 + 35} = \\dfrac{15}{50} = 0.3\n",
    "\\end{align}"
   ]
  },
  {
   "cell_type": "markdown",
   "id": "printable-project",
   "metadata": {},
   "source": [
    "반대로 안경을 쓰지 않은 사람의 사건은 $B^C$가 되고 그 확률은 다음과 같다."
   ]
  },
  {
   "cell_type": "markdown",
   "id": "moral-custom",
   "metadata": {
    "ExecuteTime": {
     "end_time": "2021-07-29T11:22:07.490236Z",
     "start_time": "2021-07-29T11:22:07.469261Z"
    }
   },
   "source": [
    "\\begin{align}\n",
    "P(B^C) = \\dfrac{|B^C|}{|\\Omega|} = \\dfrac{35}{15 + 35} = \\dfrac{35}{50} = 0.7\n",
    "\\end{align}"
   ]
  },
  {
   "cell_type": "markdown",
   "id": "driving-polish",
   "metadata": {},
   "source": [
    "각 사건들에 대한 확률을 계산했으니 위 내용들을 정리해보자."
   ]
  },
  {
   "cell_type": "markdown",
   "id": "intelligent-mercury",
   "metadata": {},
   "source": [
    "- 강의실에 코로나 확진자 발생, 당시 강의실에는 50명의 학생이 강의를 수강\n",
    "    - 남자 30명, 여자 20명\n",
    "    - 안경을 쓴 사람이 15명, 안경을 쓰지 않은 사람이 35명\n",
    "- 접촉자가 남자일 확률\n",
    "    - 남자 집합(사건) $A$에 접촉자가 속해 있다는 주장의 신뢰도 : $P(A) = 0.6$\n",
    "- 접촉자가 안경을 쓴 사람일 확률\n",
    "    - 안경을 쓴 사람의 집합(사건) $B$에 접촉자가 속해 있다는 주장의 신뢰도 : $P(B) = 0.3$"
   ]
  },
  {
   "cell_type": "markdown",
   "id": "facial-doctrine",
   "metadata": {},
   "source": [
    "## 결합확률과 조건부확률"
   ]
  },
  {
   "cell_type": "markdown",
   "id": "anonymous-triumph",
   "metadata": {},
   "source": [
    "- 결합확률(joint probability)\n",
    "    - 사건 $A$와 $B$가 동시에 발생할 확률\n",
    "    - 즉, 사건 $A$도 진실이고 사건 $B$도 진실이므로 사건 $A$와 $B$의 교집합의 확률을 계산하는 것과 같음.\n",
    "\n",
    "\n",
    "$P(A \\cap B) or P(A, B)$"
   ]
  },
  {
   "cell_type": "markdown",
   "id": "reasonable-airplane",
   "metadata": {},
   "source": [
    "- 주변확률(marginal probability)\n",
    "    - 결합확률과 대비되는 개념\n",
    "    - 결합되지 않는 개별 사건의 확률 P(A), P(B)"
   ]
  },
  {
   "cell_type": "markdown",
   "id": "delayed-convenience",
   "metadata": {},
   "source": [
    "사건 $B$가 사실인 경우 사건 $A$에 대한 확률을 **사건 $B$에 대한 사건 $A$의 조건부확률(conditional probability)** 이라 한다."
   ]
  },
  {
   "cell_type": "markdown",
   "id": "alive-sunglasses",
   "metadata": {},
   "source": [
    "$P(A|B)$"
   ]
  },
  {
   "cell_type": "markdown",
   "id": "usual-split",
   "metadata": {},
   "source": [
    "> 조건부확률의 정의"
   ]
  },
  {
   "cell_type": "markdown",
   "id": "italian-cursor",
   "metadata": {},
   "source": [
    "\\begin{align}\n",
    "P(A|B) = \\dfrac{P(A,B)}{P(B)}\n",
    "\\end{align}"
   ]
  },
  {
   "cell_type": "markdown",
   "id": "behavioral-gospel",
   "metadata": {},
   "source": [
    "앞의 접촉자 예제를 조건부확률로 정의하면 다음과 같다."
   ]
  },
  {
   "cell_type": "markdown",
   "id": "regional-onion",
   "metadata": {},
   "source": [
    "- $P(A)$ : 접촉자가 남자일 확률\n",
    "\n",
    "\n",
    "- $P(B)$ : 접촉자가 안경을 썼을 확률\n",
    "\n",
    "\n",
    "- $P(A|B)$ : 접촉자가 안경을 썼다는 사실을 알게 되었을 때 달라진 접촉자가 남자일 확률"
   ]
  },
  {
   "cell_type": "markdown",
   "id": "british-stockholm",
   "metadata": {},
   "source": [
    "> 조건부 확률을 구하기 위해선 결합확률을 알아야한다."
   ]
  },
  {
   "cell_type": "markdown",
   "id": "horizontal-trader",
   "metadata": {},
   "source": [
    "> 주변확률과 결합확률은 다르다! ex)주변확률 $P(A) = $접촉자가 남자일 확률, $P(B) = $접촉자가 안경을 썼을 확률, 결합확률 $P(A,B) = $접촉자가 남자이면서 안경을 썼을 확률!!"
   ]
  },
  {
   "cell_type": "markdown",
   "id": "serial-pepper",
   "metadata": {},
   "source": [
    "따라서 이는 수학적으로 계산하여 구할 수 있는 값이 아니라 따로 데이터를 수집해야한다."
   ]
  },
  {
   "cell_type": "markdown",
   "id": "frequent-timer",
   "metadata": {},
   "source": [
    "추가적인 정보를 수집했다고 가정하고"
   ]
  },
  {
   "cell_type": "markdown",
   "id": "limited-supplement",
   "metadata": {},
   "source": [
    "다음과 같은 경우에 조건부확률을 구해보자."
   ]
  },
  {
   "attachments": {
    "image.png": {
     "image/png": "[encoded data removed]"
    }
   },
   "cell_type": "markdown",
   "id": "collected-ethics",
   "metadata": {},
   "source": [
    "![image.png](attachment:image.png)"
   ]
  },
  {
   "cell_type": "markdown",
   "id": "expanded-bruce",
   "metadata": {},
   "source": [
    "이 경우 조건부확률 공식에 따르면"
   ]
  },
  {
   "cell_type": "markdown",
   "id": "frank-diving",
   "metadata": {},
   "source": [
    "1. 접촉자가 안경을 썼다는 전제하에 접촉자가 남자일 확률\n",
    "\n",
    "$P(A|B) = P(A,B)/P(B) = (10/50)/(15/50) = 2/3$\n",
    "\n",
    "\n",
    "2. 접촉자가 안경을 쓰지 않았다는 전제하에 접촉자가 남자일 확률\n",
    "\n",
    "$P(A|B^c) = P(A,B^c)/P(B^c) = (20/50)/(35/50) = 4/7$\n",
    "\n",
    "...\n",
    "\n",
    "$P(A^c|B) = 1/3$\n",
    "\n",
    "$P(A^c|B^c) = 3/7$\n",
    "\n",
    "모든 경우의 확률 합은 1"
   ]
  },
  {
   "cell_type": "markdown",
   "id": "cheap-basket",
   "metadata": {},
   "source": [
    "## 독립"
   ]
  },
  {
   "cell_type": "markdown",
   "id": "hidden-reflection",
   "metadata": {},
   "source": [
    "수학적으로 사건 $A$와 사건 $B$의 결합확률 값이 다음과 같은 관계가 성립하면 **두 사건은 서로 독립**이라고 한다."
   ]
  },
  {
   "cell_type": "markdown",
   "id": "legislative-plastic",
   "metadata": {},
   "source": [
    "$P(A,B) = P(A)P(B)$"
   ]
  },
  {
   "cell_type": "markdown",
   "id": "unlike-indonesia",
   "metadata": {},
   "source": [
    "따라서 독립이 경우는 조건부확률과 원래의 확률이 같아진다. 즉, 새로운 정보가 주어져도 아무런 의미가 없는 정보였다는 것이다."
   ]
  },
  {
   "cell_type": "markdown",
   "id": "graduate-worth",
   "metadata": {},
   "source": [
    "\\begin{align}\n",
    "P(A|B) = \\dfrac{P(A,B)}{P(B)} = \\dfrac{P(A)P(B)}{P(B)} = P(A)\n",
    "\\end{align}"
   ]
  },
  {
   "cell_type": "markdown",
   "id": "posted-tunnel",
   "metadata": {},
   "source": [
    "## 결합확률의 확장"
   ]
  },
  {
   "cell_type": "markdown",
   "id": "acknowledged-coating",
   "metadata": {},
   "source": [
    "결합확률의 정의를 바꿔쓰면 다음과 같이 된다."
   ]
  },
  {
   "cell_type": "markdown",
   "id": "vital-factory",
   "metadata": {},
   "source": [
    "$P(A, B) = P(A|B)P(B)$"
   ]
  },
  {
   "cell_type": "markdown",
   "id": "chicken-topic",
   "metadata": {},
   "source": [
    "A, B가 모두 발생할 확률은 B가 발생할 확률과 B가 발생했다는 전제하에 A가 발생할 확률의 곱"
   ]
  },
  {
   "cell_type": "markdown",
   "id": "bibliographic-circumstances",
   "metadata": {},
   "source": [
    "## pgmpy"
   ]
  },
  {
   "cell_type": "markdown",
   "id": "western-diana",
   "metadata": {},
   "source": [
    "JointProbabilityDistribution 클래스를 이용해 결합확률 모형을 만들 수 있다."
   ]
  },
  {
   "cell_type": "markdown",
   "id": "deluxe-layer",
   "metadata": {},
   "source": [
    "- `JPD(variables, cardinality, values)`\n",
    "    - variables : 확률변수의 이름 문자열 리스트\n",
    "    - cardinality : 각 확률변수의 표본 혹은 배타적 사건의 수의 리스트(남,여 = 2)\n",
    "    - values : 확률변수의 모든 표본에 대한 확률값의 리스트"
   ]
  },
  {
   "cell_type": "code",
   "execution_count": 16,
   "id": "whole-opera",
   "metadata": {
    "ExecuteTime": {
     "end_time": "2021-07-29T02:41:22.939894Z",
     "start_time": "2021-07-29T02:41:22.922923Z"
    }
   },
   "outputs": [
    {
     "name": "stdout",
     "output_type": "stream",
     "text": [
      "+------+--------+\n",
      "| X    |   P(X) |\n",
      "+======+========+\n",
      "| X(0) | 0.6000 |\n",
      "+------+--------+\n",
      "| X(1) | 0.4000 |\n",
      "+------+--------+\n"
     ]
    }
   ],
   "source": [
    "from pgmpy.factors.discrete import JointProbabilityDistribution as JPD\n",
    "\n",
    "px = JPD(['X'], [2], np.array([12, 8]) / 20)\n",
    "print(px)"
   ]
  },
  {
   "cell_type": "markdown",
   "id": "horizontal-saint",
   "metadata": {},
   "source": [
    "범인찾기 문제에서의 $Y$의 확률을 pgmpy의 구현"
   ]
  },
  {
   "cell_type": "code",
   "execution_count": 17,
   "id": "hawaiian-inflation",
   "metadata": {
    "ExecuteTime": {
     "end_time": "2021-07-29T02:47:01.485708Z",
     "start_time": "2021-07-29T02:47:01.474745Z"
    }
   },
   "outputs": [
    {
     "name": "stdout",
     "output_type": "stream",
     "text": [
      "+------+--------+\n",
      "| Y    |   P(Y) |\n",
      "+======+========+\n",
      "| Y(0) | 0.5000 |\n",
      "+------+--------+\n",
      "| Y(1) | 0.5000 |\n",
      "+------+--------+\n"
     ]
    }
   ],
   "source": [
    "px2 = JPD(['Y'], [2], np.array([10, 10]) / 20)\n",
    "print(px2)"
   ]
  },
  {
   "cell_type": "markdown",
   "id": "analyzed-conjunction",
   "metadata": {},
   "source": [
    "- 확률변수 $X$와 $Y$의 결합확률 구현"
   ]
  },
  {
   "cell_type": "code",
   "execution_count": 31,
   "id": "sharing-transition",
   "metadata": {
    "ExecuteTime": {
     "end_time": "2021-07-29T02:58:31.388756Z",
     "start_time": "2021-07-29T02:58:31.383770Z"
    }
   },
   "outputs": [
    {
     "name": "stdout",
     "output_type": "stream",
     "text": [
      "+------+------+----------+\n",
      "| X    | Y    |   P(X,Y) |\n",
      "+======+======+==========+\n",
      "| X(0) | Y(0) |   0.1500 |\n",
      "+------+------+----------+\n",
      "| X(0) | Y(1) |   0.4500 |\n",
      "+------+------+----------+\n",
      "| X(1) | Y(0) |   0.3500 |\n",
      "+------+------+----------+\n",
      "| X(1) | Y(1) |   0.0500 |\n",
      "+------+------+----------+\n"
     ]
    }
   ],
   "source": [
    "pxy = JPD(['X','Y'], [2,2], np.array([3, 9, 7, 1])/20)\n",
    "print(pxy)"
   ]
  },
  {
   "cell_type": "markdown",
   "id": "friendly-passing",
   "metadata": {},
   "source": [
    "- 남자 12명 중 머리카락이 긴 사람이 6명인 경우의 결합확률 모형 구현"
   ]
  },
  {
   "cell_type": "code",
   "execution_count": 58,
   "id": "attempted-public",
   "metadata": {
    "ExecuteTime": {
     "end_time": "2021-07-29T03:13:29.055842Z",
     "start_time": "2021-07-29T03:13:29.038887Z"
    }
   },
   "outputs": [
    {
     "name": "stdout",
     "output_type": "stream",
     "text": [
      "+------+------+----------+\n",
      "| X    | Y    |   P(X,Y) |\n",
      "+======+======+==========+\n",
      "| X(0) | Y(0) |   0.3000 |\n",
      "+------+------+----------+\n",
      "| X(0) | Y(1) |   0.3000 |\n",
      "+------+------+----------+\n",
      "| X(1) | Y(0) |   0.2000 |\n",
      "+------+------+----------+\n",
      "| X(1) | Y(1) |   0.2000 |\n",
      "+------+------+----------+\n"
     ]
    }
   ],
   "source": [
    "pxy2 = JPD(['X','Y'], [2,2], np.array([6, 6, 4, 4])/20)\n",
    "print(pxy2)"
   ]
  },
  {
   "cell_type": "markdown",
   "id": "italian-grenada",
   "metadata": {},
   "source": [
    "### marginalize()함수"
   ]
  },
  {
   "cell_type": "markdown",
   "id": "ranking-professional",
   "metadata": {},
   "source": [
    "주변확률분포를 계산"
   ]
  },
  {
   "cell_type": "code",
   "execution_count": 33,
   "id": "sized-dressing",
   "metadata": {
    "ExecuteTime": {
     "end_time": "2021-07-29T02:58:31.436628Z",
     "start_time": "2021-07-29T02:58:31.406709Z"
    },
    "scrolled": true
   },
   "outputs": [
    {
     "name": "stdout",
     "output_type": "stream",
     "text": [
      "+------+------+----------+\n",
      "| X    | Y    |   P(X,Y) |\n",
      "+======+======+==========+\n",
      "| X(0) | Y(0) |   0.1500 |\n",
      "+------+------+----------+\n",
      "| X(0) | Y(1) |   0.4500 |\n",
      "+------+------+----------+\n",
      "| X(1) | Y(0) |   0.3500 |\n",
      "+------+------+----------+\n",
      "| X(1) | Y(1) |   0.0500 |\n",
      "+------+------+----------+\n"
     ]
    }
   ],
   "source": [
    "print(pxy)"
   ]
  },
  {
   "cell_type": "markdown",
   "id": "outstanding-bristol",
   "metadata": {},
   "source": [
    "- marginalize 함수는 어떤 확률변수의 주변확률을 구하기 위해 인자값으로 입력된 확률변수를 제거한다."
   ]
  },
  {
   "cell_type": "code",
   "execution_count": 34,
   "id": "cutting-oriental",
   "metadata": {
    "ExecuteTime": {
     "end_time": "2021-07-29T02:58:31.452586Z",
     "start_time": "2021-07-29T02:58:31.439622Z"
    }
   },
   "outputs": [
    {
     "name": "stdout",
     "output_type": "stream",
     "text": [
      "+------+--------+\n",
      "| X    |   P(X) |\n",
      "+======+========+\n",
      "| X(0) | 0.6000 |\n",
      "+------+--------+\n",
      "| X(1) | 0.4000 |\n",
      "+------+--------+\n"
     ]
    }
   ],
   "source": [
    "pmx = pxy.marginalize(['Y'], inplace=False)\n",
    "print(pmx)"
   ]
  },
  {
   "cell_type": "markdown",
   "id": "opposed-atlantic",
   "metadata": {},
   "source": [
    "### marginal_distribution"
   ]
  },
  {
   "cell_type": "markdown",
   "id": "vertical-evidence",
   "metadata": {},
   "source": [
    "- marginal_distribution 함수는 인수로 받은 확률변수에 대한 주변확률분포를 구한다."
   ]
  },
  {
   "cell_type": "code",
   "execution_count": 35,
   "id": "attractive-rebecca",
   "metadata": {
    "ExecuteTime": {
     "end_time": "2021-07-29T02:58:31.468542Z",
     "start_time": "2021-07-29T02:58:31.455580Z"
    }
   },
   "outputs": [
    {
     "name": "stdout",
     "output_type": "stream",
     "text": [
      "+------+--------+\n",
      "| X    |   P(X) |\n",
      "+======+========+\n",
      "| X(0) | 0.6000 |\n",
      "+------+--------+\n",
      "| X(1) | 0.4000 |\n",
      "+------+--------+\n"
     ]
    }
   ],
   "source": [
    "pmx = pxy.marginal_distribution(['X'], inplace=False)\n",
    "print(pmx)"
   ]
  },
  {
   "cell_type": "markdown",
   "id": "going-consultation",
   "metadata": {},
   "source": [
    "### conditional_distribution"
   ]
  },
  {
   "cell_type": "markdown",
   "id": "uniform-puppy",
   "metadata": {},
   "source": [
    "- conditional_distribution 함수는 어떤 확률변수가 어떤 사건이 되는 조건에 대한 조건부확률값을 계산"
   ]
  },
  {
   "cell_type": "code",
   "execution_count": 37,
   "id": "thrown-indonesia",
   "metadata": {
    "ExecuteTime": {
     "end_time": "2021-07-29T03:02:10.536810Z",
     "start_time": "2021-07-29T03:02:10.518886Z"
    }
   },
   "outputs": [
    {
     "name": "stdout",
     "output_type": "stream",
     "text": [
      "+------+--------+\n",
      "| Y    |   P(Y) |\n",
      "+======+========+\n",
      "| Y(0) | 0.2500 |\n",
      "+------+--------+\n",
      "| Y(1) | 0.7500 |\n",
      "+------+--------+\n"
     ]
    }
   ],
   "source": [
    "# 사건 A에 대한 조건부확률\n",
    "\n",
    "py_on_x0 = pxy.conditional_distribution([('X',0)], inplace=False)\n",
    "print(py_on_x0)"
   ]
  },
  {
   "cell_type": "markdown",
   "id": "threatened-portugal",
   "metadata": {},
   "source": [
    "- 설명\n",
    "    - X 가 0인 사건 = 범인이 남자라면~\n",
    "    - Y(0) = B(장발)\n",
    "    - Y(1) = $B^c$ = (단발)"
   ]
  },
  {
   "cell_type": "markdown",
   "id": "prostate-swaziland",
   "metadata": {},
   "source": [
    "$P(B|A)$\n",
    "\n",
    "$P(B^c|A)$"
   ]
  },
  {
   "cell_type": "markdown",
   "id": "chronic-richards",
   "metadata": {},
   "source": [
    "를 계산한 것"
   ]
  },
  {
   "cell_type": "code",
   "execution_count": 38,
   "id": "civic-member",
   "metadata": {
    "ExecuteTime": {
     "end_time": "2021-07-29T03:05:57.785138Z",
     "start_time": "2021-07-29T03:05:57.775165Z"
    }
   },
   "outputs": [
    {
     "name": "stdout",
     "output_type": "stream",
     "text": [
      "+------+--------+\n",
      "| Y    |   P(Y) |\n",
      "+======+========+\n",
      "| Y(0) | 0.8750 |\n",
      "+------+--------+\n",
      "| Y(1) | 0.1250 |\n",
      "+------+--------+\n"
     ]
    }
   ],
   "source": [
    "py_on_x1 = pxy.conditional_distribution([('X',1)], inplace=False)\n",
    "print(py_on_x1)"
   ]
  },
  {
   "cell_type": "markdown",
   "id": "north-hobby",
   "metadata": {},
   "source": [
    "- 설명\n",
    "    - X가 1일 때, $A^c$일 때의 조건부 확률 = 범인이 여자일 때의 조건부 확률\n",
    "    "
   ]
  },
  {
   "cell_type": "markdown",
   "id": "buried-completion",
   "metadata": {},
   "source": [
    "### check_independence"
   ]
  },
  {
   "cell_type": "markdown",
   "id": "decent-inflation",
   "metadata": {},
   "source": [
    "- 두 확률변수 간의 독립 확인"
   ]
  },
  {
   "cell_type": "code",
   "execution_count": 39,
   "id": "international-soundtrack",
   "metadata": {
    "ExecuteTime": {
     "end_time": "2021-07-29T03:07:54.631524Z",
     "start_time": "2021-07-29T03:07:54.619556Z"
    }
   },
   "outputs": [
    {
     "data": {
      "text/plain": [
       "False"
      ]
     },
     "execution_count": 39,
     "metadata": {},
     "output_type": "execute_result"
    }
   ],
   "source": [
    "pxy.check_independence(['X'], ['Y'])"
   ]
  },
  {
   "cell_type": "code",
   "execution_count": 46,
   "id": "greenhouse-nigeria",
   "metadata": {
    "ExecuteTime": {
     "end_time": "2021-07-29T03:11:05.566351Z",
     "start_time": "2021-07-29T03:11:05.552390Z"
    }
   },
   "outputs": [
    {
     "name": "stdout",
     "output_type": "stream",
     "text": [
      "+------+--------+\n",
      "| X    |   P(X) |\n",
      "+======+========+\n",
      "| X(0) | 0.6000 |\n",
      "+------+--------+\n",
      "| X(1) | 0.4000 |\n",
      "+------+--------+\n"
     ]
    }
   ],
   "source": [
    "print(px)"
   ]
  },
  {
   "cell_type": "code",
   "execution_count": 45,
   "id": "informed-galaxy",
   "metadata": {
    "ExecuteTime": {
     "end_time": "2021-07-29T03:10:59.219304Z",
     "start_time": "2021-07-29T03:10:59.205342Z"
    }
   },
   "outputs": [
    {
     "name": "stdout",
     "output_type": "stream",
     "text": [
      "+------+--------+\n",
      "| Y    |   P(Y) |\n",
      "+======+========+\n",
      "| Y(0) | 0.5000 |\n",
      "+------+--------+\n",
      "| Y(1) | 0.5000 |\n",
      "+------+--------+\n"
     ]
    }
   ],
   "source": [
    "py = JPD(['Y'], [2], np.array([10, 10]) / 20)\n",
    "print(py)"
   ]
  },
  {
   "cell_type": "markdown",
   "id": "deadly-detail",
   "metadata": {},
   "source": [
    "- 두 JPD 객체를 곱하면 두 분포가 독립이라는 가정하에 결합확률을 구함.\n",
    "\n",
    "- 원래의 결합확률과 비교해서 독립인지 아닌지 판단 가능"
   ]
  },
  {
   "cell_type": "code",
   "execution_count": 47,
   "id": "solved-permit",
   "metadata": {
    "ExecuteTime": {
     "end_time": "2021-07-29T03:11:07.406513Z",
     "start_time": "2021-07-29T03:11:07.393547Z"
    }
   },
   "outputs": [
    {
     "name": "stdout",
     "output_type": "stream",
     "text": [
      "+------+------+----------+\n",
      "| X    | Y    |   P(X,Y) |\n",
      "+======+======+==========+\n",
      "| X(0) | Y(0) |   0.3000 |\n",
      "+------+------+----------+\n",
      "| X(0) | Y(1) |   0.3000 |\n",
      "+------+------+----------+\n",
      "| X(1) | Y(0) |   0.2000 |\n",
      "+------+------+----------+\n",
      "| X(1) | Y(1) |   0.2000 |\n",
      "+------+------+----------+\n"
     ]
    }
   ],
   "source": [
    "print(px * py)"
   ]
  },
  {
   "cell_type": "code",
   "execution_count": 48,
   "id": "muslim-clarity",
   "metadata": {
    "ExecuteTime": {
     "end_time": "2021-07-29T03:11:13.539727Z",
     "start_time": "2021-07-29T03:11:13.528757Z"
    }
   },
   "outputs": [
    {
     "name": "stdout",
     "output_type": "stream",
     "text": [
      "+------+------+----------+\n",
      "| X    | Y    |   P(X,Y) |\n",
      "+======+======+==========+\n",
      "| X(0) | Y(0) |   0.1500 |\n",
      "+------+------+----------+\n",
      "| X(0) | Y(1) |   0.4500 |\n",
      "+------+------+----------+\n",
      "| X(1) | Y(0) |   0.3500 |\n",
      "+------+------+----------+\n",
      "| X(1) | Y(1) |   0.0500 |\n",
      "+------+------+----------+\n"
     ]
    }
   ],
   "source": [
    "print(pxy)"
   ]
  },
  {
   "cell_type": "code",
   "execution_count": 90,
   "id": "sweet-nicaragua",
   "metadata": {
    "ExecuteTime": {
     "end_time": "2021-07-29T12:38:21.808721Z",
     "start_time": "2021-07-29T12:38:21.792852Z"
    }
   },
   "outputs": [
    {
     "name": "stdout",
     "output_type": "stream",
     "text": [
      "+------+------+----------+\n",
      "| X    | Y    |   P(X,Y) |\n",
      "+======+======+==========+\n",
      "| X(0) | Y(0) |   0.3000 |\n",
      "+------+------+----------+\n",
      "| X(0) | Y(1) |   0.3000 |\n",
      "+------+------+----------+\n",
      "| X(1) | Y(0) |   0.2000 |\n",
      "+------+------+----------+\n",
      "| X(1) | Y(1) |   0.2000 |\n",
      "+------+------+----------+\n"
     ]
    }
   ],
   "source": [
    "print(pxy2)"
   ]
  },
  {
   "cell_type": "code",
   "execution_count": 91,
   "id": "adaptive-arizona",
   "metadata": {
    "ExecuteTime": {
     "end_time": "2021-07-29T12:38:29.413632Z",
     "start_time": "2021-07-29T12:38:29.396557Z"
    }
   },
   "outputs": [
    {
     "name": "stdout",
     "output_type": "stream",
     "text": [
      "+------+--------+\n",
      "| X    |   P(X) |\n",
      "+======+========+\n",
      "| X(0) | 0.6000 |\n",
      "+------+--------+\n",
      "| X(1) | 0.4000 |\n",
      "+------+--------+\n"
     ]
    }
   ],
   "source": [
    "# X의 주변확률\n",
    "\n",
    "print(pxy2.marginal_distribution(['X'], inplace=False))"
   ]
  },
  {
   "cell_type": "code",
   "execution_count": 92,
   "id": "premier-little",
   "metadata": {
    "ExecuteTime": {
     "end_time": "2021-07-29T12:38:35.716301Z",
     "start_time": "2021-07-29T12:38:35.704361Z"
    }
   },
   "outputs": [
    {
     "name": "stdout",
     "output_type": "stream",
     "text": [
      "+------+--------+\n",
      "| Y    |   P(Y) |\n",
      "+======+========+\n",
      "| Y(0) | 0.5000 |\n",
      "+------+--------+\n",
      "| Y(1) | 0.5000 |\n",
      "+------+--------+\n"
     ]
    }
   ],
   "source": [
    "# Y의 주변확률\n",
    "\n",
    "print(pxy2.marginal_distribution(['Y'], inplace=False))"
   ]
  },
  {
   "cell_type": "code",
   "execution_count": 93,
   "id": "banner-nitrogen",
   "metadata": {
    "ExecuteTime": {
     "end_time": "2021-07-29T12:38:42.117521Z",
     "start_time": "2021-07-29T12:38:42.105987Z"
    }
   },
   "outputs": [
    {
     "name": "stdout",
     "output_type": "stream",
     "text": [
      "+------+--------+\n",
      "| Y    |   P(Y) |\n",
      "+======+========+\n",
      "| Y(0) | 0.5000 |\n",
      "+------+--------+\n",
      "| Y(1) | 0.5000 |\n",
      "+------+--------+\n"
     ]
    }
   ],
   "source": [
    "# X = 0, 남자일 때 조건부확률\n",
    "\n",
    "print(pxy2.conditional_distribution([('X', 0)], inplace=False))"
   ]
  },
  {
   "cell_type": "code",
   "execution_count": 94,
   "id": "personal-scheme",
   "metadata": {
    "ExecuteTime": {
     "end_time": "2021-07-29T12:38:48.709088Z",
     "start_time": "2021-07-29T12:38:48.690044Z"
    }
   },
   "outputs": [
    {
     "name": "stdout",
     "output_type": "stream",
     "text": [
      "+------+--------+\n",
      "| Y    |   P(Y) |\n",
      "+======+========+\n",
      "| Y(0) | 0.5000 |\n",
      "+------+--------+\n",
      "| Y(1) | 0.5000 |\n",
      "+------+--------+\n"
     ]
    }
   ],
   "source": [
    "# X = 1, 여자일 때 조건부확률\n",
    "\n",
    "print(pxy2.conditional_distribution([('X', 1)], inplace=False))"
   ]
  },
  {
   "cell_type": "code",
   "execution_count": 95,
   "id": "judicial-caution",
   "metadata": {
    "ExecuteTime": {
     "end_time": "2021-07-29T12:38:54.999714Z",
     "start_time": "2021-07-29T12:38:54.980581Z"
    }
   },
   "outputs": [
    {
     "data": {
      "text/plain": [
       "True"
      ]
     },
     "execution_count": 95,
     "metadata": {},
     "output_type": "execute_result"
    }
   ],
   "source": [
    "# 독립 여부 확인\n",
    "\n",
    "pxy2.check_independence(['X'],['Y'])"
   ]
  },
  {
   "cell_type": "code",
   "execution_count": 96,
   "id": "exceptional-stevens",
   "metadata": {
    "ExecuteTime": {
     "end_time": "2021-07-29T12:39:00.418726Z",
     "start_time": "2021-07-29T12:39:00.398780Z"
    }
   },
   "outputs": [
    {
     "name": "stdout",
     "output_type": "stream",
     "text": [
      "+------+------+----------+\n",
      "| X    | Y    |   P(X,Y) |\n",
      "+======+======+==========+\n",
      "| X(0) | Y(0) |   0.3000 |\n",
      "+------+------+----------+\n",
      "| X(0) | Y(1) |   0.3000 |\n",
      "+------+------+----------+\n",
      "| X(1) | Y(0) |   0.2000 |\n",
      "+------+------+----------+\n",
      "| X(1) | Y(1) |   0.2000 |\n",
      "+------+------+----------+\n"
     ]
    }
   ],
   "source": [
    "print(pxy2)"
   ]
  },
  {
   "cell_type": "markdown",
   "id": "palestinian-forge",
   "metadata": {},
   "source": [
    "## 베이즈 정리"
   ]
  },
  {
   "cell_type": "markdown",
   "id": "surface-agency",
   "metadata": {},
   "source": [
    "- 베이즈정리(Bayesian rule) : 조건부확률을 구하는 공식"
   ]
  },
  {
   "cell_type": "markdown",
   "id": "breeding-carpet",
   "metadata": {},
   "source": [
    "\\begin{align}\n",
    "P(A|B) = \\dfrac{P(B|A)P(A)}{P(B)} \n",
    "\\end{align}"
   ]
  },
  {
   "cell_type": "markdown",
   "id": "suitable-asian",
   "metadata": {},
   "source": [
    "- $P(A)$ : 사전확률(prior) : B가 발생하기 전에 가지고 있던 사건 A의 확률\n",
    "\n",
    "- $P(A|B)$ : 사건 B가 발생한 후 변환된 사건 A의 확률 = 사후확률(posterior)"
   ]
  },
  {
   "cell_type": "markdown",
   "id": "weekly-owner",
   "metadata": {},
   "source": [
    "- 사후활률(posterior)은 사전확률(prior) * $\\dfrac{P(B|A)}{P(B)}$로 계산 가능 곱하는 $P(B|A)$를 가능도(likelyhood), $P(B)$를 증거(evidence)라고 함"
   ]
  },
  {
   "cell_type": "markdown",
   "id": "collect-portable",
   "metadata": {},
   "source": [
    "## 코로나 확진 검사 문제"
   ]
  },
  {
   "cell_type": "markdown",
   "id": "competent-package",
   "metadata": {},
   "source": [
    "베이즈 정리를 이용해 다음과 같은 문제를 해결할 수 있다."
   ]
  },
  {
   "cell_type": "markdown",
   "id": "damaged-costa",
   "metadata": {},
   "source": [
    "국내 코로나 확진 검사 키트가 개발되었다.\n",
    "\n",
    "코로나에 확진된 사람에게 키트를 테스트한 결과 99%로 양성 반응을 보였다.\n",
    "\n",
    "확진이 확인되지 않은 사람에게 키트를 테스트 했을 때 양성반을을 보였다면 이 사람이 확진자일 확률을 몇 %가 되는가?"
   ]
  },
  {
   "cell_type": "markdown",
   "id": "lucky-fortune",
   "metadata": {},
   "source": [
    "이를 베이즈 정리로 다시 서술해보자."
   ]
  },
  {
   "cell_type": "markdown",
   "id": "medium-arnold",
   "metadata": {},
   "source": [
    "실제 확진된 경우를 사건 $D$라 가정.\n",
    "\n",
    "확진되지 않은 경우는 사건 $D^C$가 된다.\n",
    "\n",
    "키트 테스트 결과 양성 반응을 $S$라 가정.\n",
    "\n",
    "음성 반응은 $S^C$가 된다."
   ]
  },
  {
   "cell_type": "markdown",
   "id": "decimal-vocabulary",
   "metadata": {},
   "source": [
    "이 정보를 이용해 확진자에게 키트를 테스트 했을 때 양성 반응을 보이는 확률은 다음과 같다.\n",
    "\n",
    "$P(S|D) = 0.99$"
   ]
  },
  {
   "cell_type": "markdown",
   "id": "falling-likelihood",
   "metadata": {},
   "source": [
    "그런데 현재 알고 싶은 문제는 다음과 같다.\n",
    "\n",
    "$P(D|S) = 양성반을을 보일 때 실제 확진자일 확률$"
   ]
  },
  {
   "cell_type": "markdown",
   "id": "absent-brain",
   "metadata": {},
   "source": [
    "$P(D|S)$를 베이즈 정리 공식을 이용하면 다음과 같다."
   ]
  },
  {
   "cell_type": "markdown",
   "id": "happy-beverage",
   "metadata": {},
   "source": [
    "\\begin{align}\n",
    "P(D|S) = \\dfrac{P(S|D)P(D)}{P(S)}\n",
    "\\end{align}"
   ]
  },
  {
   "cell_type": "markdown",
   "id": "indonesian-arrest",
   "metadata": {},
   "source": [
    "추가 정보 수집을 통해 다음과 같은 정보를 입수했다고 가정하자."
   ]
  },
  {
   "cell_type": "markdown",
   "id": "flexible-burst",
   "metadata": {},
   "source": [
    "- 현재 코로나 바이러스가 발견된지 초기 단계이기에 전체 인구 중 걸린 사람이 0.2%인 경우이다.\n",
    "- 확진되지 않은 사람이 양성반을이 나올 확률 (FP)가 나타난 확률이 5%"
   ]
  },
  {
   "cell_type": "markdown",
   "id": "functioning-interview",
   "metadata": {},
   "source": [
    "$P(D) = 0.002$\n",
    "\n",
    "\n",
    "$P(S|D^C) = 0.05$"
   ]
  },
  {
   "cell_type": "markdown",
   "id": "separated-cedar",
   "metadata": {},
   "source": [
    "이제 이 정보들을 이용해 양성반응이 나왔을 때 실제 확진자일 확률을 구하면 다음과 같다."
   ]
  },
  {
   "cell_type": "markdown",
   "id": "ordinary-paradise",
   "metadata": {},
   "source": [
    "\\begin{split} \n",
    "\\begin{align}\n",
    "\\begin{aligned}\n",
    "P(D|S) \n",
    "&= \\dfrac{P(S|D)P(D)}{P(S)} \\\\\n",
    "&= \\dfrac{P(S|D)P(D)}{P(S,D) + P(S,D^C)} \\\\\n",
    "&= \\dfrac{P(S|D)P(D)}{P(S|D)P(D) + P(S|D^C)P(D^C)} \\\\\n",
    "&= \\dfrac{P(S|D)P(D)}{P(S|D)P(D) + P(S|D^C)(1-P(D))} \\\\\n",
    "&= \\dfrac{0.99 \\cdot 0.002}{0.99 \\cdot 0.002 + 0.05 \\cdot (1 - 0.002)} \\\\\n",
    "&= 0.038\n",
    "\\end{aligned}\n",
    "\\end{align}\n",
    "\\end{split}"
   ]
  },
  {
   "cell_type": "markdown",
   "id": "flying-client",
   "metadata": {},
   "source": [
    "양성반응이더라도 실제 확진자일 확률은 0.038에 불과하다. 이 문제의 경우 확진자가 너무 극소수라는 이유 때문에 이러한 결과가 도출된다."
   ]
  },
  {
   "cell_type": "markdown",
   "id": "palestinian-diagnosis",
   "metadata": {},
   "source": [
    "### 시약문제"
   ]
  },
  {
   "cell_type": "markdown",
   "id": "constant-somerset",
   "metadata": {},
   "source": [
    "> TabularCPD(variable, variable_card, value, evidence=None, evidence_card=None)"
   ]
  },
  {
   "cell_type": "markdown",
   "id": "caring-wellington",
   "metadata": {},
   "source": [
    "- variable: 확률변수의 이름 문자열\n",
    "\n",
    "- variable_card: 확률변수가 가질 수 있는 경우의 수\n",
    "\n",
    "- value: 조건부확률 배열. 하나의 열(column)이 동일 조건을 뜻하므로 하나의 열의 확률 합은 1이어야 한다.\n",
    "\n",
    "- evidence: 조건이 되는 확률변수의 이름 문자열의 리스트\n",
    "\n",
    "- evidence_card: 조건이 되는 확률변수가 가질 수 있는 경우의 수의 리스트"
   ]
  },
  {
   "cell_type": "code",
   "execution_count": 81,
   "id": "swedish-photography",
   "metadata": {
    "ExecuteTime": {
     "end_time": "2021-07-29T04:12:54.816677Z",
     "start_time": "2021-07-29T04:12:54.801715Z"
    }
   },
   "outputs": [],
   "source": [
    "from pgmpy.factors.discrete import TabularCPD"
   ]
  },
  {
   "cell_type": "code",
   "execution_count": 83,
   "id": "apart-average",
   "metadata": {
    "ExecuteTime": {
     "end_time": "2021-07-29T04:13:09.979956Z",
     "start_time": "2021-07-29T04:13:09.963001Z"
    }
   },
   "outputs": [
    {
     "name": "stdout",
     "output_type": "stream",
     "text": [
      "+------+-------+\n",
      "| X(0) | 0.998 |\n",
      "+------+-------+\n",
      "| X(1) | 0.002 |\n",
      "+------+-------+\n"
     ]
    }
   ],
   "source": [
    "cpd_X = TabularCPD('X', 2, [[1 - 0.002], [0.002]])\n",
    "print(cpd_X)"
   ]
  },
  {
   "cell_type": "code",
   "execution_count": 84,
   "id": "fabulous-village",
   "metadata": {
    "ExecuteTime": {
     "end_time": "2021-07-29T04:14:51.312189Z",
     "start_time": "2021-07-29T04:14:51.295235Z"
    }
   },
   "outputs": [
    {
     "name": "stdout",
     "output_type": "stream",
     "text": [
      "+------+------+-------+\n",
      "| X    | X(0) | X(1)  |\n",
      "+------+------+-------+\n",
      "| Y(0) | 0.95 | 0.001 |\n",
      "+------+------+-------+\n",
      "| Y(1) | 0.05 | 0.99  |\n",
      "+------+------+-------+\n"
     ]
    }
   ],
   "source": [
    "cpd_Y_on_X = TabularCPD('Y', 2, np.array([[0.95, 0.001], [0.05, 0.99]]), evidence=['X'], evidence_card=[2])\n",
    "print(cpd_Y_on_X)"
   ]
  },
  {
   "cell_type": "code",
   "execution_count": 85,
   "id": "classical-pastor",
   "metadata": {
    "ExecuteTime": {
     "end_time": "2021-07-29T04:15:47.132549Z",
     "start_time": "2021-07-29T04:15:47.113606Z"
    }
   },
   "outputs": [
    {
     "data": {
      "text/plain": [
       "True"
      ]
     },
     "execution_count": 85,
     "metadata": {},
     "output_type": "execute_result"
    }
   ],
   "source": [
    "from pgmpy.models import BayesianModel\n",
    "\n",
    "model = BayesianModel([('X','Y')])\n",
    "model.add_cpds(cpd_X, cpd_Y_on_X)\n",
    "model.check_model()"
   ]
  },
  {
   "cell_type": "code",
   "execution_count": 87,
   "id": "above-beauty",
   "metadata": {
    "ExecuteTime": {
     "end_time": "2021-07-29T04:17:38.561406Z",
     "start_time": "2021-07-29T04:17:38.549439Z"
    }
   },
   "outputs": [
    {
     "name": "stdout",
     "output_type": "stream",
     "text": [
      "+------+----------+\n",
      "| X    |   phi(X) |\n",
      "+======+==========+\n",
      "| X(0) |   0.9615 |\n",
      "+------+----------+\n",
      "| X(1) |   0.0385 |\n",
      "+------+----------+\n"
     ]
    }
   ],
   "source": [
    "from pgmpy.inference import VariableElimination\n",
    "\n",
    "inference = VariableElimination(model)\n",
    "posterior = inference.query(['X'], evidence={'Y': 1}, joint=False, show_progress=False)\n",
    "print(posterior['X'])"
   ]
  },
  {
   "cell_type": "code",
   "execution_count": null,
   "id": "wound-century",
   "metadata": {},
   "outputs": [],
   "source": []
  },
  {
   "cell_type": "markdown",
   "id": "efficient-transsexual",
   "metadata": {},
   "source": [
    "## 5주차 퀴즈"
   ]
  },
  {
   "cell_type": "code",
   "execution_count": 97,
   "id": "dietary-topic",
   "metadata": {
    "ExecuteTime": {
     "end_time": "2021-07-30T10:52:58.581417Z",
     "start_time": "2021-07-30T10:52:58.570450Z"
    }
   },
   "outputs": [],
   "source": [
    "from pgmpy.factors.discrete import TabularCPD"
   ]
  },
  {
   "cell_type": "markdown",
   "id": "major-nudist",
   "metadata": {},
   "source": [
    "- 병에 걸린 사람을 테스트했을 때 양성 반응이 나올 확률 0.97\n",
    "- 전체 인구 중 병에 걸린 비율 10%\n",
    "- 병에 걸리지 않았는데 테스트 양성 반응이 나올 확률 0.05"
   ]
  },
  {
   "cell_type": "markdown",
   "id": "institutional-dublin",
   "metadata": {},
   "source": [
    "X0 = 병에 걸리지 않을 확률\n",
    "\n",
    "X1 = 병에 걸릴 확률"
   ]
  },
  {
   "cell_type": "code",
   "execution_count": 103,
   "id": "incident-annual",
   "metadata": {
    "ExecuteTime": {
     "end_time": "2021-07-30T10:55:48.641489Z",
     "start_time": "2021-07-30T10:55:48.632555Z"
    }
   },
   "outputs": [
    {
     "name": "stdout",
     "output_type": "stream",
     "text": [
      "+------+-----+\n",
      "| X(0) | 0.9 |\n",
      "+------+-----+\n",
      "| X(1) | 0.1 |\n",
      "+------+-----+\n"
     ]
    }
   ],
   "source": [
    "cpd_X = TabularCPD('X', 2, np.array([[0.9], [0.1]]))\n",
    "print(cpd_X)"
   ]
  },
  {
   "cell_type": "markdown",
   "id": "mathematical-syndication",
   "metadata": {},
   "source": [
    "양성이 나올 확률 : P(Y = 1)"
   ]
  },
  {
   "cell_type": "code",
   "execution_count": 107,
   "id": "hearing-championship",
   "metadata": {
    "ExecuteTime": {
     "end_time": "2021-07-30T10:59:02.124863Z",
     "start_time": "2021-07-30T10:59:02.113893Z"
    }
   },
   "outputs": [
    {
     "name": "stdout",
     "output_type": "stream",
     "text": [
      "+------+------+------+\n",
      "| X    | X(0) | X(1) |\n",
      "+------+------+------+\n",
      "| Y(0) | 0.95 | 0.03 |\n",
      "+------+------+------+\n",
      "| Y(1) | 0.05 | 0.97 |\n",
      "+------+------+------+\n"
     ]
    }
   ],
   "source": [
    "cpd_Y_on_X = TabularCPD('Y', 2, np.array([[0.95, 0.03], [0.05, 0.97]]), evidence=['X'], evidence_card=[2])\n",
    "print(cpd_Y_on_X)"
   ]
  },
  {
   "cell_type": "code",
   "execution_count": 109,
   "id": "thirty-reach",
   "metadata": {
    "ExecuteTime": {
     "end_time": "2021-07-30T11:00:43.720281Z",
     "start_time": "2021-07-30T11:00:43.703326Z"
    }
   },
   "outputs": [
    {
     "data": {
      "text/plain": [
       "True"
      ]
     },
     "execution_count": 109,
     "metadata": {},
     "output_type": "execute_result"
    }
   ],
   "source": [
    "from pgmpy.models import BayesianModel\n",
    "\n",
    "model = BayesianModel([('X','Y')])\n",
    "model.add_cpds(cpd_X, cpd_Y_on_X)\n",
    "model.check_model()"
   ]
  },
  {
   "cell_type": "code",
   "execution_count": 110,
   "id": "former-colorado",
   "metadata": {
    "ExecuteTime": {
     "end_time": "2021-07-30T11:01:23.843247Z",
     "start_time": "2021-07-30T11:01:23.819346Z"
    }
   },
   "outputs": [
    {
     "name": "stdout",
     "output_type": "stream",
     "text": [
      "+------+----------+\n",
      "| X    |   phi(X) |\n",
      "+======+==========+\n",
      "| X(0) |   0.3169 |\n",
      "+------+----------+\n",
      "| X(1) |   0.6831 |\n",
      "+------+----------+\n"
     ]
    }
   ],
   "source": [
    "from pgmpy.inference import VariableElimination\n",
    "\n",
    "inference = VariableElimination(model)\n",
    "posterior = inference.query(['X'], evidence={'Y': 1}, joint=False, show_progress=False)\n",
    "print(posterior['X'])"
   ]
  },
  {
   "cell_type": "code",
   "execution_count": 1,
   "id": "following-convertible",
   "metadata": {
    "ExecuteTime": {
     "end_time": "2021-08-05T05:22:26.545906Z",
     "start_time": "2021-08-05T05:22:23.117132Z"
    }
   },
   "outputs": [],
   "source": [
    "# 1주평가\n",
    "\n",
    "from pgmpy.factors.discrete import TabularCPD\n",
    "from pgmpy.models import BayesianModel\n",
    "from pgmpy.inference import VariableElimination\n",
    "import numpy as np"
   ]
  },
  {
   "cell_type": "code",
   "execution_count": 5,
   "id": "blond-parameter",
   "metadata": {
    "ExecuteTime": {
     "end_time": "2021-08-05T05:23:23.081607Z",
     "start_time": "2021-08-05T05:23:23.075623Z"
    }
   },
   "outputs": [
    {
     "name": "stdout",
     "output_type": "stream",
     "text": [
      "+------+-------+\n",
      "| X(0) | 0.998 |\n",
      "+------+-------+\n",
      "| X(1) | 0.002 |\n",
      "+------+-------+\n"
     ]
    }
   ],
   "source": [
    "cpd_X = TabularCPD('X', 2, [[1 - 0.002], [0.002]])\n",
    "print(cpd_X)"
   ]
  },
  {
   "cell_type": "code",
   "execution_count": 6,
   "id": "comparable-access",
   "metadata": {
    "ExecuteTime": {
     "end_time": "2021-08-05T05:24:04.157418Z",
     "start_time": "2021-08-05T05:24:04.136488Z"
    }
   },
   "outputs": [
    {
     "name": "stdout",
     "output_type": "stream",
     "text": [
      "+------+------+------+\n",
      "| X    | X(0) | X(1) |\n",
      "+------+------+------+\n",
      "| Y(0) | 0.95 | 0.01 |\n",
      "+------+------+------+\n",
      "| Y(1) | 0.05 | 0.99 |\n",
      "+------+------+------+\n"
     ]
    }
   ],
   "source": [
    "cpd_Y_on_X = TabularCPD('Y', 2, np.array([[0.95, 0.01], [0.05, 0.99]]),\n",
    "                        evidence=['X'], evidence_card=[2])\n",
    "print(cpd_Y_on_X)"
   ]
  },
  {
   "cell_type": "code",
   "execution_count": 9,
   "id": "overhead-bread",
   "metadata": {
    "ExecuteTime": {
     "end_time": "2021-08-05T05:25:14.999751Z",
     "start_time": "2021-08-05T05:25:14.983796Z"
    }
   },
   "outputs": [
    {
     "data": {
      "text/plain": [
       "True"
      ]
     },
     "execution_count": 9,
     "metadata": {},
     "output_type": "execute_result"
    }
   ],
   "source": [
    "from pgmpy.models import BayesianModel\n",
    "\n",
    "\n",
    "model = BayesianModel([('X', 'Y')])\n",
    "model.add_cpds(cpd_X, cpd_Y_on_X)\n",
    "model.check_model()"
   ]
  },
  {
   "cell_type": "code",
   "execution_count": 10,
   "id": "growing-mainstream",
   "metadata": {
    "ExecuteTime": {
     "end_time": "2021-08-05T05:25:57.438549Z",
     "start_time": "2021-08-05T05:25:57.430570Z"
    }
   },
   "outputs": [
    {
     "name": "stdout",
     "output_type": "stream",
     "text": [
      "+------+----------+\n",
      "| X    |   phi(X) |\n",
      "+======+==========+\n",
      "| X(0) |   0.9618 |\n",
      "+------+----------+\n",
      "| X(1) |   0.0382 |\n",
      "+------+----------+\n"
     ]
    }
   ],
   "source": [
    "inference = VariableElimination(model)\n",
    "posterior = inference.query(['X'], evidence={'Y': 1}, joint=False, show_progress=False)\n",
    "print(posterior['X'])"
   ]
  }
 ],
 "metadata": {
  "kernelspec": {
   "display_name": "Python 3",
   "language": "python",
   "name": "python3"
  },
  "language_info": {
   "codemirror_mode": {
    "name": "ipython",
    "version": 3
   },
   "file_extension": ".py",
   "mimetype": "text/x-python",
   "name": "python",
   "nbconvert_exporter": "python",
   "pygments_lexer": "ipython3",
   "version": "3.7.10"
  },
  "nbTranslate": {
   "displayLangs": [
    "*"
   ],
   "hotkey": "alt-t",
   "langInMainMenu": true,
   "sourceLang": "en",
   "targetLang": "fr",
   "useGoogleTranslate": true
  },
  "varInspector": {
   "cols": {
    "lenName": 16,
    "lenType": 16,
    "lenVar": 40
   },
   "kernels_config": {
    "python": {
     "delete_cmd_postfix": "",
     "delete_cmd_prefix": "del ",
     "library": "var_list.py",
     "varRefreshCmd": "print(var_dic_list())"
    },
    "r": {
     "delete_cmd_postfix": ") ",
     "delete_cmd_prefix": "rm(",
     "library": "var_list.r",
     "varRefreshCmd": "cat(var_dic_list()) "
    }
   },
   "types_to_exclude": [
    "module",
    "function",
    "builtin_function_or_method",
    "instance",
    "_Feature"
   ],
   "window_display": false
  }
 },
 "nbformat": 4,
 "nbformat_minor": 5
}
