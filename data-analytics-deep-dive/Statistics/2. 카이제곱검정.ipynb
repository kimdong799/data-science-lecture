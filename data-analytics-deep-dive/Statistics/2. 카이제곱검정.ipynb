{
 "cells": [
  {
   "cell_type": "code",
   "execution_count": 5,
   "id": "generous-scheduling",
   "metadata": {
    "ExecuteTime": {
     "end_time": "2021-08-11T05:04:18.448400Z",
     "start_time": "2021-08-11T05:04:18.439426Z"
    }
   },
   "outputs": [],
   "source": [
    "import scipy as sp\n",
    "import scipy.stats"
   ]
  },
  {
   "cell_type": "markdown",
   "id": "verbal-conditioning",
   "metadata": {},
   "source": [
    "## 카이제곱검정"
   ]
  },
  {
   "cell_type": "markdown",
   "id": "impaired-ranking",
   "metadata": {},
   "source": [
    "이항검정은 베르누이분포의 모수에 대한 검정으로 두가지 카테고리에 대한 검정이다.\n",
    "\n",
    "그런데 여기서 카테고리의 갯수가 2개가 아닌 3개 이상인 경우의 카테고리 검정을 하는 경우 카이제곱검정을 이용한다."
   ]
  },
  {
   "cell_type": "markdown",
   "id": "ethical-savannah",
   "metadata": {},
   "source": [
    "베르누이분포는 이항분포를 이용해서 검정했지만 여기서 다항분포를 사용하지 않는 이유는 Vector값이 나오기 때문에 PDF에서 점을 찍어 유의 확률을 구하지 못하기 때문이다. 따라서 통계량으로 다음의 수식을 따라 scalar값을 이용해 PDF의 점을 찍어 유의확률을 구할 수 있다."
   ]
  },
  {
   "cell_type": "markdown",
   "id": "fewer-luxembourg",
   "metadata": {},
   "source": [
    "> 카이제곱검정은 범주형 확률분포의 모수에 대한 가설을 조사하는 검정방법으로 **적합도검정**이라고 한다."
   ]
  },
  {
   "cell_type": "markdown",
   "id": "developmental-jefferson",
   "metadata": {},
   "source": [
    "$$\\sum_{i=1}^K\\dfrac{(x_k - m_k)^2}{m_k}$$"
   ]
  },
  {
   "cell_type": "markdown",
   "id": "victorian-ethiopia",
   "metadata": {},
   "source": [
    "- $m_k$ : 귀무가설을 따랐을 때 $K$가 나오는 횟수 ex) $\\mu$=1/4, 1/4, 1/4, 1/4 -> N=40, 10,10,10,10\n",
    "- $x_k$ : 실제로 $K$가 나온 횟수 ex) 20, 10, 5, 5\n",
    "\n",
    "- 이를 모두 더해 scalar값으로 만들면 일종의 오차값이 된다.\n",
    "- 위 통계량은 카이제곱분포를 따른다."
   ]
  },
  {
   "cell_type": "code",
   "execution_count": 7,
   "id": "featured-wilson",
   "metadata": {
    "ExecuteTime": {
     "end_time": "2021-08-11T05:07:25.518112Z",
     "start_time": "2021-08-11T05:07:25.507142Z"
    }
   },
   "outputs": [
    {
     "data": {
      "text/plain": [
       "array([0.25, 0.25, 0.25, 0.25])"
      ]
     },
     "execution_count": 7,
     "metadata": {},
     "output_type": "execute_result"
    }
   ],
   "source": [
    "N = 10\n",
    "K = 4\n",
    "mu_0 = np.ones(K)/K\n",
    "\n",
    "# 귀무가설 모수\n",
    "mu_0"
   ]
  },
  {
   "cell_type": "code",
   "execution_count": 8,
   "id": "victorian-simon",
   "metadata": {
    "ExecuteTime": {
     "end_time": "2021-08-11T05:07:26.070274Z",
     "start_time": "2021-08-11T05:07:26.061307Z"
    }
   },
   "outputs": [
    {
     "data": {
      "text/plain": [
       "array([3, 0, 0, 1, 3, 3, 2, 2, 2, 3])"
      ]
     },
     "execution_count": 8,
     "metadata": {},
     "output_type": "execute_result"
    }
   ],
   "source": [
    "# 0부터 K까지의 수를 10번 샘플링, 확률은 mu_0\n",
    "\n",
    "x = np.random.choice(K, N, p=mu_0)\n",
    "x"
   ]
  },
  {
   "cell_type": "code",
   "execution_count": 9,
   "id": "insured-practice",
   "metadata": {
    "ExecuteTime": {
     "end_time": "2021-08-11T05:07:27.077406Z",
     "start_time": "2021-08-11T05:07:27.062445Z"
    }
   },
   "outputs": [
    {
     "data": {
      "text/plain": [
       "array([2, 1, 3, 4], dtype=int64)"
      ]
     },
     "execution_count": 9,
     "metadata": {},
     "output_type": "execute_result"
    }
   ],
   "source": [
    "# 0, 1, 2, 3이 나온 횟수\n",
    "\n",
    "n = np.bincount(x, minlength=K)\n",
    "n"
   ]
  },
  {
   "cell_type": "code",
   "execution_count": 10,
   "id": "educational-conviction",
   "metadata": {
    "ExecuteTime": {
     "end_time": "2021-08-11T05:07:27.759204Z",
     "start_time": "2021-08-11T05:07:27.751226Z"
    }
   },
   "outputs": [
    {
     "data": {
      "text/plain": [
       "Power_divergenceResult(statistic=2.0, pvalue=0.5724067044708798)"
      ]
     },
     "execution_count": 10,
     "metadata": {},
     "output_type": "execute_result"
    }
   ],
   "source": [
    "# 카이제곱검정\n",
    "\n",
    "sp.stats.chisquare(n)"
   ]
  },
  {
   "cell_type": "markdown",
   "id": "dynamic-cycling",
   "metadata": {},
   "source": [
    "위 결과 유의확률이 57%로 각 카테고리의 값에 대한 모수가 1/4, 1/4, 1/4, 1/4 라는 귀무가설을 채택한다.\n",
    "\n",
    "즉, fair한 주사위라도 위와 같은 경우가 발생할 수 있다는 것을 의미한다."
   ]
  },
  {
   "cell_type": "markdown",
   "id": "assured-acceptance",
   "metadata": {},
   "source": [
    "**예제 1)**"
   ]
  },
  {
   "cell_type": "markdown",
   "id": "fixed-parent",
   "metadata": {},
   "source": [
    "6면체 주사위를 5번 던졌을 때 5번 모두 6이 나왔다면 주사위가 공정하다는 귀무가설의 유의확률은?"
   ]
  },
  {
   "cell_type": "code",
   "execution_count": 18,
   "id": "capable-michigan",
   "metadata": {
    "ExecuteTime": {
     "end_time": "2021-08-11T05:13:10.278347Z",
     "start_time": "2021-08-11T05:13:10.261427Z"
    }
   },
   "outputs": [
    {
     "name": "stdout",
     "output_type": "stream",
     "text": [
      "[1 0 0 2 2 0]\n"
     ]
    },
    {
     "data": {
      "text/plain": [
       "Power_divergenceResult(statistic=5.799999999999999, pvalue=0.3261688136935728)"
      ]
     },
     "execution_count": 18,
     "metadata": {},
     "output_type": "execute_result"
    }
   ],
   "source": [
    "# fair한 주사위의 경우\n",
    "\n",
    "N = 5\n",
    "K = 6\n",
    "mu_0 = np.ones(K)/K\n",
    "\n",
    "x = np.random.choice(K, N, p = mu_0)\n",
    "n = np.bincount(x, minlength=K)\n",
    "\n",
    "print(n)\n",
    "sp.stats.chisquare(n)"
   ]
  },
  {
   "cell_type": "code",
   "execution_count": 17,
   "id": "casual-health",
   "metadata": {
    "ExecuteTime": {
     "end_time": "2021-08-11T05:12:58.386979Z",
     "start_time": "2021-08-11T05:12:58.371993Z"
    }
   },
   "outputs": [
    {
     "data": {
      "text/plain": [
       "Power_divergenceResult(statistic=25.000000000000004, pvalue=0.00013933379118562602)"
      ]
     },
     "execution_count": 17,
     "metadata": {},
     "output_type": "execute_result"
    }
   ],
   "source": [
    "# 5번 모두 6이 나온 경우\n",
    "\n",
    "n2 = [0,0,0,0,0,5]\n",
    "sp.stats.chisquare(n2)"
   ]
  },
  {
   "cell_type": "markdown",
   "id": "deadly-insulin",
   "metadata": {},
   "source": [
    "유의확률이 0.0001로 절대 fair한 주사위면 이러한 값이 나올 수 없다.\n",
    "\n",
    "즉, 주사위가 공정하다는 귀무가설을 기각한다."
   ]
  },
  {
   "cell_type": "markdown",
   "id": "grateful-modern",
   "metadata": {},
   "source": [
    "## 카이제곱 독립검정"
   ]
  },
  {
   "cell_type": "markdown",
   "id": "specific-baltimore",
   "metadata": {},
   "source": [
    "카이제곱 독립검정은 X, Y라는 두 확률변수가 실수가 아닌 경우 상관계수를 구하지 못할 때 사용할 수 있는 검정 방법이다."
   ]
  },
  {
   "cell_type": "markdown",
   "id": "contrary-strength",
   "metadata": {},
   "source": [
    "X, Y라는 범주형 확률변수를 이용해 X가 달라지면 Y의 분포가 달라지는 경우 두 범주형 확률변수간 상관관계가 있다고 본다.\n"
   ]
  },
  {
   "cell_type": "markdown",
   "id": "expected-latitude",
   "metadata": {},
   "source": [
    "ex)"
   ]
  },
  {
   "cell_type": "markdown",
   "id": "subject-vietnamese",
   "metadata": {},
   "source": [
    "x = 0, y = 0.12, 0.28\n",
    "\n",
    "x = 1, y = 0.18, 0.42"
   ]
  },
  {
   "cell_type": "markdown",
   "id": "hidden-stick",
   "metadata": {},
   "source": [
    "위의 경우 x값에 따라 y의 분포가 달라지므로 상관관계가 있다."
   ]
  },
  {
   "cell_type": "markdown",
   "id": "genuine-haiti",
   "metadata": {},
   "source": [
    "x = 0, y = 6, 14\n",
    "\n",
    "x = 1, y = 9, 21\n",
    "\n",
    "기 경우 실질적으로 y의 분포는 같으므로 상관관계가 없다."
   ]
  },
  {
   "cell_type": "markdown",
   "id": "democratic-marine",
   "metadata": {},
   "source": [
    "하지만 실제 데이터에는 위와 같이 상관관계가 명확히 나타나는 경우가 드물다. 따라서 이 경우 카이제곱 독립검정을 이용한다."
   ]
  },
  {
   "cell_type": "markdown",
   "id": "worthy-equipment",
   "metadata": {},
   "source": [
    "`chi2_contingency()`메소드를 이용하는데 여기서 중요한점은 디폴트 귀무가설은 상관관계가 없다는 것이다."
   ]
  },
  {
   "cell_type": "code",
   "execution_count": 32,
   "id": "ruled-percentage",
   "metadata": {
    "ExecuteTime": {
     "end_time": "2021-08-11T05:36:48.785459Z",
     "start_time": "2021-08-11T05:36:48.768541Z"
    }
   },
   "outputs": [
    {
     "name": "stdout",
     "output_type": "stream",
     "text": [
      "[[ 5 15]\n",
      " [10 20]]\n"
     ]
    }
   ],
   "source": [
    "obs = np.array([[5, 15], [10, 20]])\n",
    "print(obs)"
   ]
  },
  {
   "cell_type": "code",
   "execution_count": 33,
   "id": "tested-combat",
   "metadata": {
    "ExecuteTime": {
     "end_time": "2021-08-11T05:36:58.228178Z",
     "start_time": "2021-08-11T05:36:58.209228Z"
    }
   },
   "outputs": [
    {
     "data": {
      "text/plain": [
       "(0.0992063492063492,\n",
       " 0.7527841326498471,\n",
       " 1,\n",
       " array([[ 6., 14.],\n",
       "        [ 9., 21.]]))"
      ]
     },
     "execution_count": 33,
     "metadata": {},
     "output_type": "execute_result"
    }
   ],
   "source": [
    "sp.stats.chi2_contingency(obs)"
   ]
  },
  {
   "cell_type": "code",
   "execution_count": 34,
   "id": "solved-porter",
   "metadata": {
    "ExecuteTime": {
     "end_time": "2021-08-11T05:37:21.265726Z",
     "start_time": "2021-08-11T05:37:21.250767Z"
    }
   },
   "outputs": [
    {
     "data": {
      "text/plain": [
       "0.7527841326498471"
      ]
     },
     "execution_count": 34,
     "metadata": {},
     "output_type": "execute_result"
    }
   ],
   "source": [
    "# p_value\n",
    "\n",
    "sp.stats.chi2_contingency(obs)[1]"
   ]
  },
  {
   "cell_type": "markdown",
   "id": "attempted-briefing",
   "metadata": {},
   "source": [
    "유의확률은 0.75로 X와 Y는 상관관계가 없다는 귀무가설을 채택한다. 즉, 상관관계가 없다."
   ]
  },
  {
   "cell_type": "markdown",
   "id": "celtic-presentation",
   "metadata": {},
   "source": [
    "**예제)**"
   ]
  },
  {
   "cell_type": "markdown",
   "id": "expanded-disclaimer",
   "metadata": {},
   "source": [
    "데이터사이언스 강의 수강 여부가 이후 대학원 머신러닝 수업의 학점과 상관관계가 있는가?\n",
    "\n",
    "- 수강하지 않은 경우의 학점(ABC분포) X = 0: 4, 16, 20\n",
    "- 수강한 경우의 학점(ABC분포) X = 1: 23, 18, 19"
   ]
  },
  {
   "cell_type": "code",
   "execution_count": 36,
   "id": "pressed-hometown",
   "metadata": {
    "ExecuteTime": {
     "end_time": "2021-08-11T05:39:56.390458Z",
     "start_time": "2021-08-11T05:39:56.375508Z"
    }
   },
   "outputs": [
    {
     "data": {
      "text/plain": [
       "array([[ 4, 16, 20],\n",
       "       [23, 18, 19]])"
      ]
     },
     "execution_count": 36,
     "metadata": {},
     "output_type": "execute_result"
    }
   ],
   "source": [
    "obs = np.array([[4, 16, 20],[23, 18, 19]])\n",
    "obs"
   ]
  },
  {
   "cell_type": "code",
   "execution_count": 38,
   "id": "isolated-shuttle",
   "metadata": {
    "ExecuteTime": {
     "end_time": "2021-08-11T05:40:13.703123Z",
     "start_time": "2021-08-11T05:40:13.697103Z"
    }
   },
   "outputs": [
    {
     "data": {
      "text/plain": [
       "0.00704786570249751"
      ]
     },
     "execution_count": 38,
     "metadata": {},
     "output_type": "execute_result"
    }
   ],
   "source": [
    "sp.stats.chi2_contingency(obs)[1]"
   ]
  },
  {
   "cell_type": "markdown",
   "id": "brown-cheat",
   "metadata": {},
   "source": [
    "유의확률이 1%보다 낮으므로 귀무가설을 기각한다. 따라서 상관관계가 있다고 말할 수 있다."
   ]
  }
 ],
 "metadata": {
  "kernelspec": {
   "display_name": "Python 3",
   "language": "python",
   "name": "python3"
  },
  "language_info": {
   "codemirror_mode": {
    "name": "ipython",
    "version": 3
   },
   "file_extension": ".py",
   "mimetype": "text/x-python",
   "name": "python",
   "nbconvert_exporter": "python",
   "pygments_lexer": "ipython3",
   "version": "3.7.10"
  },
  "nbTranslate": {
   "displayLangs": [
    "*"
   ],
   "hotkey": "alt-t",
   "langInMainMenu": true,
   "sourceLang": "en",
   "targetLang": "fr",
   "useGoogleTranslate": true
  },
  "varInspector": {
   "cols": {
    "lenName": 16,
    "lenType": 16,
    "lenVar": 40
   },
   "kernels_config": {
    "python": {
     "delete_cmd_postfix": "",
     "delete_cmd_prefix": "del ",
     "library": "var_list.py",
     "varRefreshCmd": "print(var_dic_list())"
    },
    "r": {
     "delete_cmd_postfix": ") ",
     "delete_cmd_prefix": "rm(",
     "library": "var_list.r",
     "varRefreshCmd": "cat(var_dic_list()) "
    }
   },
   "types_to_exclude": [
    "module",
    "function",
    "builtin_function_or_method",
    "instance",
    "_Feature"
   ],
   "window_display": false
  }
 },
 "nbformat": 4,
 "nbformat_minor": 5
}
