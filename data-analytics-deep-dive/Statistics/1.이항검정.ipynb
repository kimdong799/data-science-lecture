{
 "cells": [
  {
   "cell_type": "code",
   "execution_count": 1,
   "id": "precious-visitor",
   "metadata": {
    "ExecuteTime": {
     "end_time": "2021-08-11T02:18:27.656052Z",
     "start_time": "2021-08-11T02:18:27.653059Z"
    }
   },
   "outputs": [],
   "source": [
    "import scipy as sp\n",
    "import scipy.stats"
   ]
  },
  {
   "cell_type": "markdown",
   "id": "noticed-strength",
   "metadata": {},
   "source": [
    "## 이항검정"
   ]
  },
  {
   "cell_type": "markdown",
   "id": "introductory-regular",
   "metadata": {},
   "source": [
    "이항분포를 이용해 베르누이 확률변수의 모수 $\\mu$에 대한 가설을 조사하는 검정.\n",
    "\n",
    "- stats 서브패키지의 binom_test 명령은 이항검정의 유의확률을 계산\n",
    "- 디폴트 귀무가설 $\\mu=0.5$\n",
    "- x 인자값으로 [0,1,1,1,0,0,1,0,1]과 같은 데이터를 입력\n",
    "- 혹은 1이 나온 횟수 $N_1$을 입력, 이 경우 시도한 횟수 $N$을 추가로 입력"
   ]
  },
  {
   "cell_type": "code",
   "execution_count": 11,
   "id": "bearing-ladder",
   "metadata": {
    "ExecuteTime": {
     "end_time": "2021-08-11T02:22:42.255292Z",
     "start_time": "2021-08-11T02:22:42.234408Z"
    }
   },
   "outputs": [
    {
     "name": "stdout",
     "output_type": "stream",
     "text": [
      "[0 1 1 1 1 1 1 0 1 0]\n",
      "1이 나온 횟수 :  7\n"
     ]
    }
   ],
   "source": [
    "N = 10\n",
    "mu = 0.5\n",
    "rv = sp.stats.bernoulli(mu)\n",
    "x = rv.rvs(N)\n",
    "print(x)\n",
    "print('1이 나온 횟수 : ',np.sum(x))"
   ]
  },
  {
   "cell_type": "markdown",
   "id": "handy-engineer",
   "metadata": {
    "ExecuteTime": {
     "end_time": "2021-08-11T02:22:24.753244Z",
     "start_time": "2021-08-11T02:22:24.731307Z"
    }
   },
   "source": [
    "모수가 0.5인 베르누이분포를 10번 시도하면 N이 10인 이항분포가 된다. 즉, N = 10, mu = 0.5인 이항분포에서의 기댓값은 5이다.\n",
    "\n",
    "하지만 이 경우 7이라는 값이 등장했다.\n",
    "\n",
    "따라서 이 7이라는 검정통계량의 검정통계분포(이항분포)는 모수가 0.5가 아닌 0.7인가? \n",
    "\n",
    "이 문제를 binom_test 이항검정 메소드로 유의확률을 구해 해결할 수 있다."
   ]
  },
  {
   "cell_type": "code",
   "execution_count": 14,
   "id": "insured-bedroom",
   "metadata": {
    "ExecuteTime": {
     "end_time": "2021-08-11T02:26:13.275848Z",
     "start_time": "2021-08-11T02:26:13.261917Z"
    }
   },
   "outputs": [
    {
     "data": {
      "text/plain": [
       "0.3437499999999999"
      ]
     },
     "execution_count": 14,
     "metadata": {},
     "output_type": "execute_result"
    }
   ],
   "source": [
    "sp.stats.binom_test(x.sum(), N)"
   ]
  },
  {
   "cell_type": "markdown",
   "id": "alike-newport",
   "metadata": {},
   "source": [
    "이항검정 결과 유의확률이 약 0.34로 유의수준이 일반적으로 사용되는 1%, 5%보다 크다. 따라서 귀무가설을 채택한다."
   ]
  },
  {
   "cell_type": "markdown",
   "id": "governmental-portsmouth",
   "metadata": {},
   "source": [
    "**예제 2)**"
   ]
  },
  {
   "cell_type": "markdown",
   "id": "african-refrigerator",
   "metadata": {},
   "source": [
    "어떤 자격시험 합격자 10명 중 7명이 대학졸업자일 때 대학졸업자가 비졸업자보다 실력이 좋다고 주장할 수 있는가?"
   ]
  },
  {
   "cell_type": "code",
   "execution_count": 33,
   "id": "honest-nelson",
   "metadata": {
    "ExecuteTime": {
     "end_time": "2021-08-11T02:41:06.881799Z",
     "start_time": "2021-08-11T02:41:06.872825Z"
    }
   },
   "outputs": [
    {
     "data": {
      "text/plain": [
       "0.3437499999999999"
      ]
     },
     "execution_count": 33,
     "metadata": {},
     "output_type": "execute_result"
    }
   ],
   "source": [
    "sp.stats.binom_test(7, 10)"
   ]
  },
  {
   "cell_type": "markdown",
   "id": "polished-stereo",
   "metadata": {},
   "source": [
    "유의확률이 약 0.34%로 $\\mu$가 0.5라는 귀무가설(대학졸업자와 비졸업자가 실력이 동등하다.)을 기각하지 못한다.\n",
    "\n",
    "따라서 대학졸업자가 비졸업자보다 실력이 좋다는 주장은 유의하지 않다."
   ]
  },
  {
   "cell_type": "markdown",
   "id": "mediterranean-potter",
   "metadata": {},
   "source": [
    "**예제 3)**"
   ]
  },
  {
   "cell_type": "markdown",
   "id": "earned-causing",
   "metadata": {},
   "source": [
    "$\\mu$가 0.5라고 생각되는 확률변수 데이터 수 $N$=100번 시뮬레이션하여 1이 49번 나온 경우에 대한 이항검정"
   ]
  },
  {
   "cell_type": "code",
   "execution_count": 34,
   "id": "printable-uruguay",
   "metadata": {
    "ExecuteTime": {
     "end_time": "2021-08-11T02:49:03.866373Z",
     "start_time": "2021-08-11T02:49:03.850416Z"
    }
   },
   "outputs": [
    {
     "data": {
      "text/plain": [
       "0.9204107626128206"
      ]
     },
     "execution_count": 34,
     "metadata": {},
     "output_type": "execute_result"
    }
   ],
   "source": [
    "sp.stats.binom_test(49, 100)"
   ]
  },
  {
   "cell_type": "markdown",
   "id": "designing-living",
   "metadata": {},
   "source": [
    "유의확률이 1에 매우 가까운 값으로 `아주 그럴듯하다.` 라고 할 수 있다. 즉, 귀무가설이 맞다는 것이다."
   ]
  },
  {
   "cell_type": "markdown",
   "id": "professional-criterion",
   "metadata": {},
   "source": [
    "**예제 4)**"
   ]
  },
  {
   "cell_type": "markdown",
   "id": "sunrise-portsmouth",
   "metadata": {},
   "source": [
    "실제 모수 $\\mu_0 = 0.35$인 경우에 대해 시뮬레이션, 이항검정 귀무가설 $H_0 : \\mu = 0.5$로 실시"
   ]
  },
  {
   "cell_type": "code",
   "execution_count": 36,
   "id": "polish-witness",
   "metadata": {
    "ExecuteTime": {
     "end_time": "2021-08-11T02:51:54.358193Z",
     "start_time": "2021-08-11T02:51:54.338245Z"
    }
   },
   "outputs": [
    {
     "data": {
      "text/plain": [
       "0.0017899303914868524"
      ]
     },
     "execution_count": 36,
     "metadata": {},
     "output_type": "execute_result"
    }
   ],
   "source": [
    "N = 100\n",
    "x = sp.stats.bernoulli(0.35).rvs(100)\n",
    "sp.stats.binom_test(x.sum(), N)"
   ]
  },
  {
   "cell_type": "markdown",
   "id": "crucial-theme",
   "metadata": {},
   "source": [
    "유의확률이 0.0017로 귀무가설을 기각할 수 있다."
   ]
  },
  {
   "cell_type": "markdown",
   "id": "seeing-astrology",
   "metadata": {},
   "source": [
    "**예제 5)**"
   ]
  },
  {
   "cell_type": "markdown",
   "id": "spatial-hierarchy",
   "metadata": {},
   "source": [
    "동전을 N번 던져 나오는 횟수를 측정\n",
    "\n",
    "1. N이 10이고 유의수준은 10%라면 앞면이 나온 횟수가 몇 번이어야 동전이 공정하지 않다고 이야기할 수 있는가?"
   ]
  },
  {
   "cell_type": "code",
   "execution_count": 51,
   "id": "verbal-estimate",
   "metadata": {
    "ExecuteTime": {
     "end_time": "2021-08-11T03:03:51.562835Z",
     "start_time": "2021-08-11T03:03:51.428928Z"
    }
   },
   "outputs": [
    {
     "name": "stdout",
     "output_type": "stream",
     "text": [
      "0 1 9 10 "
     ]
    },
    {
     "data": {
      "image/png": "[encoded data removed]",
      "text/plain": [
       "<Figure size 432x288 with 1 Axes>"
      ]
     },
     "metadata": {
      "image/png": {
       "height": 249,
       "width": 369
      },
      "needs_background": "light"
     },
     "output_type": "display_data"
    }
   ],
   "source": [
    "N = 10\n",
    "for i in range(11):\n",
    "    p_value = sp.stats.binom_test(i,N)\n",
    "    if p_value < 0.1:\n",
    "        print(i,end=' ')\n",
    "    plt.plot(i, p_value, 'bo')\n",
    "    plt.grid()"
   ]
  },
  {
   "cell_type": "markdown",
   "id": "selected-collection",
   "metadata": {},
   "source": [
    "0, 1, 9, 10번 앞면이 나온 경우 유의확률이 0.1 미만이기에 동전이 공정하다는 귀무가설을 기각할 수 있다."
   ]
  },
  {
   "cell_type": "markdown",
   "id": "fuzzy-somerset",
   "metadata": {},
   "source": [
    "2. N-1000, 유의수준 = 10%, 앞면이 나온 횟수가 몇 번이어야 동전이 공정하지 않다고 이야기 할 수 있는가?\n",
    "\n",
    "이 때 1~N의 횟수 범위 중 동전이 공정하다고 이야기 할 수 있는 횟수의 범위는 N=10일 때와 비교하여 넓은가? 좁은가?"
   ]
  },
  {
   "cell_type": "code",
   "execution_count": 57,
   "id": "italian-qatar",
   "metadata": {
    "ExecuteTime": {
     "end_time": "2021-08-11T03:08:42.421621Z",
     "start_time": "2021-08-11T03:08:40.084607Z"
    }
   },
   "outputs": [
    {
     "data": {
      "image/png": "[encoded data removed]",
      "text/plain": [
       "<Figure size 432x288 with 1 Axes>"
      ]
     },
     "metadata": {
      "image/png": {
       "height": 249,
       "width": 369
      },
      "needs_background": "light"
     },
     "output_type": "display_data"
    }
   ],
   "source": [
    "N = 1000\n",
    "for i in range(1001):\n",
    "    p_value = sp.stats.binom_test(i,N)\n",
    "    plt.plot(i, p_value, 'bo')"
   ]
  },
  {
   "cell_type": "markdown",
   "id": "casual-channel",
   "metadata": {},
   "source": [
    "`N=10일 때와 비교해 공정하다고 이야기 할 수 있는 범위의 폭이 좁다.`"
   ]
  },
  {
   "cell_type": "code",
   "execution_count": null,
   "id": "representative-butter",
   "metadata": {},
   "outputs": [],
   "source": []
  },
  {
   "cell_type": "markdown",
   "id": "informative-prototype",
   "metadata": {},
   "source": [
    "어떤 인터넷 쇼핑몰의 상품 20개 상품평 중 '좋아요 11개', '싫어요 9개'가 존재할 때 이 상품이 좋다는 주장을 검정해라. 유의수준은 10%"
   ]
  },
  {
   "cell_type": "code",
   "execution_count": 28,
   "id": "underlying-verification",
   "metadata": {
    "ExecuteTime": {
     "end_time": "2021-08-11T02:37:46.474786Z",
     "start_time": "2021-08-11T02:37:46.462818Z"
    }
   },
   "outputs": [
    {
     "name": "stdout",
     "output_type": "stream",
     "text": [
      "[1. 1. 1. 1. 1. 1. 1. 1. 1. 1. 1. 0. 0. 0. 0. 0. 0. 0. 0. 0.]\n"
     ]
    },
    {
     "data": {
      "text/plain": [
       "(None, 20)"
      ]
     },
     "execution_count": 28,
     "metadata": {},
     "output_type": "execute_result"
    }
   ],
   "source": [
    "# 좋아요, 싫어요 는 베르누이분포로 모델링\n",
    "x = np.ones(11)\n",
    "x2 = np.zeros(9)\n",
    "xx = np.concatenate([x, x2])\n",
    "print(xx), len(xx)"
   ]
  },
  {
   "cell_type": "code",
   "execution_count": 116,
   "id": "opening-blade",
   "metadata": {
    "ExecuteTime": {
     "end_time": "2021-08-11T04:31:15.734679Z",
     "start_time": "2021-08-11T04:31:15.726738Z"
    }
   },
   "outputs": [
    {
     "data": {
      "text/plain": [
       "0.41190147399902316"
      ]
     },
     "execution_count": 116,
     "metadata": {},
     "output_type": "execute_result"
    }
   ],
   "source": [
    "sp.stats.binom_test(xx.sum(), len(xx), alternative='greater')"
   ]
  },
  {
   "cell_type": "markdown",
   "id": "extra-consultancy",
   "metadata": {},
   "source": [
    "유의확률이 41%로 유의수준 10%를 넘긴다. 따라서 좋아요, 싫어요의 비율이 동일하다는 귀무가설을 채택한다.\n",
    "\n",
    "따라서 위 상품평을 통해 상품이 좋다는 주장을 하기 어렵다고 볼 수 있다."
   ]
  },
  {
   "cell_type": "markdown",
   "id": "thick-plaza",
   "metadata": {},
   "source": [
    "## tips 데이터 검정"
   ]
  },
  {
   "cell_type": "code",
   "execution_count": 59,
   "id": "attached-navigator",
   "metadata": {
    "ExecuteTime": {
     "end_time": "2021-08-11T03:29:50.492117Z",
     "start_time": "2021-08-11T03:29:50.453220Z"
    }
   },
   "outputs": [
    {
     "data": {
      "text/html": [
       "<div>\n",
       "<style scoped>\n",
       "    .dataframe tbody tr th:only-of-type {\n",
       "        vertical-align: middle;\n",
       "    }\n",
       "\n",
       "    .dataframe tbody tr th {\n",
       "        vertical-align: top;\n",
       "    }\n",
       "\n",
       "    .dataframe thead th {\n",
       "        text-align: right;\n",
       "    }\n",
       "</style>\n",
       "<table border=\"1\" class=\"dataframe\">\n",
       "  <thead>\n",
       "    <tr style=\"text-align: right;\">\n",
       "      <th></th>\n",
       "      <th>total_bill</th>\n",
       "      <th>tip</th>\n",
       "      <th>sex</th>\n",
       "      <th>smoker</th>\n",
       "      <th>day</th>\n",
       "      <th>time</th>\n",
       "      <th>size</th>\n",
       "    </tr>\n",
       "  </thead>\n",
       "  <tbody>\n",
       "    <tr>\n",
       "      <th>0</th>\n",
       "      <td>16.99</td>\n",
       "      <td>1.01</td>\n",
       "      <td>Female</td>\n",
       "      <td>No</td>\n",
       "      <td>Sun</td>\n",
       "      <td>Dinner</td>\n",
       "      <td>2</td>\n",
       "    </tr>\n",
       "    <tr>\n",
       "      <th>1</th>\n",
       "      <td>10.34</td>\n",
       "      <td>1.66</td>\n",
       "      <td>Male</td>\n",
       "      <td>No</td>\n",
       "      <td>Sun</td>\n",
       "      <td>Dinner</td>\n",
       "      <td>3</td>\n",
       "    </tr>\n",
       "    <tr>\n",
       "      <th>2</th>\n",
       "      <td>21.01</td>\n",
       "      <td>3.50</td>\n",
       "      <td>Male</td>\n",
       "      <td>No</td>\n",
       "      <td>Sun</td>\n",
       "      <td>Dinner</td>\n",
       "      <td>3</td>\n",
       "    </tr>\n",
       "    <tr>\n",
       "      <th>3</th>\n",
       "      <td>23.68</td>\n",
       "      <td>3.31</td>\n",
       "      <td>Male</td>\n",
       "      <td>No</td>\n",
       "      <td>Sun</td>\n",
       "      <td>Dinner</td>\n",
       "      <td>2</td>\n",
       "    </tr>\n",
       "    <tr>\n",
       "      <th>4</th>\n",
       "      <td>24.59</td>\n",
       "      <td>3.61</td>\n",
       "      <td>Female</td>\n",
       "      <td>No</td>\n",
       "      <td>Sun</td>\n",
       "      <td>Dinner</td>\n",
       "      <td>4</td>\n",
       "    </tr>\n",
       "  </tbody>\n",
       "</table>\n",
       "</div>"
      ],
      "text/plain": [
       "   total_bill   tip     sex smoker  day    time  size\n",
       "0       16.99  1.01  Female     No  Sun  Dinner     2\n",
       "1       10.34  1.66    Male     No  Sun  Dinner     3\n",
       "2       21.01  3.50    Male     No  Sun  Dinner     3\n",
       "3       23.68  3.31    Male     No  Sun  Dinner     2\n",
       "4       24.59  3.61  Female     No  Sun  Dinner     4"
      ]
     },
     "execution_count": 59,
     "metadata": {},
     "output_type": "execute_result"
    }
   ],
   "source": [
    "tips = sns.load_dataset('tips')\n",
    "tips.head()"
   ]
  },
  {
   "cell_type": "markdown",
   "id": "declared-proposition",
   "metadata": {},
   "source": [
    "1. 여성손님 중 비흡연자가 흡연자보다 많다고 할 수 있는가?"
   ]
  },
  {
   "cell_type": "code",
   "execution_count": 69,
   "id": "reduced-probability",
   "metadata": {
    "ExecuteTime": {
     "end_time": "2021-08-11T03:31:25.793528Z",
     "start_time": "2021-08-11T03:31:25.785549Z"
    }
   },
   "outputs": [
    {
     "data": {
      "text/plain": [
       "No     54\n",
       "Yes    33\n",
       "Name: smoker, dtype: int64"
      ]
     },
     "execution_count": 69,
     "metadata": {},
     "output_type": "execute_result"
    }
   ],
   "source": [
    "tips[tips['sex']=='Female']['smoker'].value_counts()"
   ]
  },
  {
   "cell_type": "markdown",
   "id": "efficient-princess",
   "metadata": {},
   "source": [
    "위 수치만으로는 여성손님 중 흡연자가 더 많은지, 적은지 단정지을 수 없다. 따라서 검정을 통해 이에 대한 해답을 내릴 수 있다."
   ]
  },
  {
   "cell_type": "markdown",
   "id": "adequate-collaboration",
   "metadata": {},
   "source": [
    "유의수준은 10%이다."
   ]
  },
  {
   "cell_type": "code",
   "execution_count": 89,
   "id": "disturbed-people",
   "metadata": {
    "ExecuteTime": {
     "end_time": "2021-08-11T03:49:30.905258Z",
     "start_time": "2021-08-11T03:49:30.889300Z"
    }
   },
   "outputs": [
    {
     "data": {
      "text/plain": [
       "0.015709055116923068"
      ]
     },
     "execution_count": 89,
     "metadata": {},
     "output_type": "execute_result"
    }
   ],
   "source": [
    "N = len(tips[tips['sex']=='Female'])\n",
    "sp.stats.binom_test(54, N, alternative='greater')"
   ]
  },
  {
   "cell_type": "markdown",
   "id": "baking-mills",
   "metadata": {},
   "source": [
    "유의확률이 1.5%로 유의수준보다 낮다. 즉, 귀무가설을 기각한다. 여기서 귀무가설은 흡연자와 비흡연자의 비율이 동일하다는 것이다.\n"
   ]
  },
  {
   "cell_type": "markdown",
   "id": "answering-plane",
   "metadata": {},
   "source": [
    "즉, 비흡연자가 흡연자보다 더 많다고 할 수 있다."
   ]
  },
  {
   "cell_type": "markdown",
   "id": "secondary-morocco",
   "metadata": {},
   "source": [
    "2. 저녁에 오는 여자 손님 중 비흡연자가 흡연자보다 많다고 할 수 있는가?"
   ]
  },
  {
   "cell_type": "code",
   "execution_count": 84,
   "id": "single-remainder",
   "metadata": {
    "ExecuteTime": {
     "end_time": "2021-08-11T03:43:49.394524Z",
     "start_time": "2021-08-11T03:43:49.375611Z"
    }
   },
   "outputs": [
    {
     "data": {
      "text/plain": [
       "No     29\n",
       "Yes    23\n",
       "Name: smoker, dtype: int64"
      ]
     },
     "execution_count": 84,
     "metadata": {},
     "output_type": "execute_result"
    }
   ],
   "source": [
    "tips[(tips['sex']=='Female') & (tips['time']=='Dinner')]['smoker'].value_counts()"
   ]
  },
  {
   "cell_type": "code",
   "execution_count": 92,
   "id": "charming-stewart",
   "metadata": {
    "ExecuteTime": {
     "end_time": "2021-08-11T04:10:23.598101Z",
     "start_time": "2021-08-11T04:10:23.585136Z"
    }
   },
   "outputs": [
    {
     "data": {
      "text/plain": [
       "0.2442278346899461"
      ]
     },
     "execution_count": 92,
     "metadata": {},
     "output_type": "execute_result"
    }
   ],
   "source": [
    "sp.stats.binom_test(29, 29+23, alternative='greater')"
   ]
  },
  {
   "cell_type": "markdown",
   "id": "gross-package",
   "metadata": {},
   "source": [
    "유의확률이 24퍼센트이기 떄문에 비흡연자가 많다고 단정지을 수 없다. 귀무가설 채택(비흡연자, 흡연자의 비율이 동일하다.)"
   ]
  },
  {
   "cell_type": "markdown",
   "id": "opposite-discipline",
   "metadata": {},
   "source": [
    "**예제 5)**"
   ]
  },
  {
   "cell_type": "markdown",
   "id": "greenhouse-audience",
   "metadata": {
    "ExecuteTime": {
     "end_time": "2021-08-11T04:29:52.552503Z",
     "start_time": "2021-08-11T04:29:52.548478Z"
    }
   },
   "source": [
    "어떤 주제에 대해 찬반을 묻는 설문조사를 실시, 설문조사 결과 응답자의 70% 이상이 찬성\n",
    "\n",
    "전체 국민의 2/3가 찬성한다는 결론을 유의수준 1%에서 얻기 위해 필요한 응답자의 수는?"
   ]
  },
  {
   "cell_type": "code",
   "execution_count": 114,
   "id": "cooperative-breeding",
   "metadata": {
    "ExecuteTime": {
     "end_time": "2021-08-11T04:23:39.685588Z",
     "start_time": "2021-08-11T04:23:39.549370Z"
    }
   },
   "outputs": [
    {
     "data": {
      "image/png": "[encoded data removed]",
      "text/plain": [
       "<Figure size 432x288 with 1 Axes>"
      ]
     },
     "metadata": {
      "image/png": {
       "height": 249,
       "width": 391
      },
      "needs_background": "light"
     },
     "output_type": "display_data"
    }
   ],
   "source": [
    "idx = []\n",
    "p_value = []\n",
    "\n",
    "for i in range(1050, 1180):\n",
    "    idx.append(i)\n",
    "    p_value.append(sp.stats.binom_test(int(i*0.7), i, p=2/3, alternative='greater'))\n",
    "    \n",
    "plt.plot(idx, p_value, 'ro-')\n",
    "plt.hlines(y=0.01, xmin=1050, xmax=1180, ls='--')\n",
    "plt.xlim(1050, 1180)\n",
    "plt.grid()"
   ]
  }
 ],
 "metadata": {
  "kernelspec": {
   "display_name": "Python 3",
   "language": "python",
   "name": "python3"
  },
  "language_info": {
   "codemirror_mode": {
    "name": "ipython",
    "version": 3
   },
   "file_extension": ".py",
   "mimetype": "text/x-python",
   "name": "python",
   "nbconvert_exporter": "python",
   "pygments_lexer": "ipython3",
   "version": "3.7.10"
  },
  "nbTranslate": {
   "displayLangs": [
    "*"
   ],
   "hotkey": "alt-t",
   "langInMainMenu": true,
   "sourceLang": "en",
   "targetLang": "fr",
   "useGoogleTranslate": true
  },
  "varInspector": {
   "cols": {
    "lenName": 16,
    "lenType": 16,
    "lenVar": 40
   },
   "kernels_config": {
    "python": {
     "delete_cmd_postfix": "",
     "delete_cmd_prefix": "del ",
     "library": "var_list.py",
     "varRefreshCmd": "print(var_dic_list())"
    },
    "r": {
     "delete_cmd_postfix": ") ",
     "delete_cmd_prefix": "rm(",
     "library": "var_list.r",
     "varRefreshCmd": "cat(var_dic_list()) "
    }
   },
   "types_to_exclude": [
    "module",
    "function",
    "builtin_function_or_method",
    "instance",
    "_Feature"
   ],
   "window_display": false
  }
 },
 "nbformat": 4,
 "nbformat_minor": 5
}
