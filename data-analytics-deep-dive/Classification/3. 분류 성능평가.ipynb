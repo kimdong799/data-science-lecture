{
 "cells": [
  {
   "cell_type": "code",
   "execution_count": 45,
   "id": "peripheral-peoples",
   "metadata": {
    "ExecuteTime": {
     "end_time": "2021-09-02T05:06:10.200411Z",
     "start_time": "2021-09-02T05:06:10.188443Z"
    }
   },
   "outputs": [],
   "source": [
    "import warnings\n",
    "warnings.filterwarnings('ignore')"
   ]
  },
  {
   "cell_type": "markdown",
   "id": "eastern-canvas",
   "metadata": {},
   "source": [
    "# 분류 성능평가 종류"
   ]
  },
  {
   "cell_type": "markdown",
   "id": "comprehensive-queensland",
   "metadata": {},
   "source": [
    "사이킷런의 metrics 서브패키지에서 제공하는 분류용 성능평가 명령"
   ]
  },
  {
   "cell_type": "markdown",
   "id": "figured-corps",
   "metadata": {},
   "source": [
    "1. confusion_matrix(y_true, y_pred)\n",
    "\n",
    "\n",
    "2. accuacy_score(y_true, y_pred)\n",
    "\n",
    "\n",
    "3. precision_score(y_true, y_pred)\n",
    "\n",
    "\n",
    "4. recall_score(y_true, y_pred)\n",
    "\n",
    "\n",
    "5. fbeta_score(y_true, y_pred, beta)\n",
    "\n",
    "\n",
    "6. f1_score(y_true, y_pred)\n",
    "\n",
    "\n",
    "7. classification_report(y_true, y_pred)\n",
    "\n",
    "\n",
    "8. roc_curve\n",
    "\n",
    "\n",
    "9. auc\n"
   ]
  },
  {
   "cell_type": "markdown",
   "id": "forbidden-tournament",
   "metadata": {},
   "source": [
    "## confusion matrix(혼동행렬)"
   ]
  },
  {
   "cell_type": "markdown",
   "id": "incorrect-lancaster",
   "metadata": {},
   "source": [
    "confusion matrix는 target의 실제 클래스와 model이 예측한 클래스가 일치하는지를 표로 나타낸 것이다."
   ]
  },
  {
   "cell_type": "code",
   "execution_count": 23,
   "id": "native-queensland",
   "metadata": {
    "ExecuteTime": {
     "end_time": "2021-09-02T04:50:15.884422Z",
     "start_time": "2021-09-02T04:50:15.870457Z"
    }
   },
   "outputs": [
    {
     "data": {
      "text/html": [
       "<div>\n",
       "<style scoped>\n",
       "    .dataframe tbody tr th:only-of-type {\n",
       "        vertical-align: middle;\n",
       "    }\n",
       "\n",
       "    .dataframe tbody tr th {\n",
       "        vertical-align: top;\n",
       "    }\n",
       "\n",
       "    .dataframe thead th {\n",
       "        text-align: right;\n",
       "    }\n",
       "</style>\n",
       "<table border=\"1\" class=\"dataframe\">\n",
       "  <thead>\n",
       "    <tr style=\"text-align: right;\">\n",
       "      <th></th>\n",
       "      <th>예측 클래스 0</th>\n",
       "      <th>예측 클래스 1</th>\n",
       "      <th>예측 클래스 2</th>\n",
       "    </tr>\n",
       "  </thead>\n",
       "  <tbody>\n",
       "    <tr>\n",
       "      <th>정답클래스 0</th>\n",
       "      <td>정답 클래스 0, 예측 클래스 0 표본 수</td>\n",
       "      <td>정답 클래스 1, 예측 클래스 0 표본 수</td>\n",
       "      <td>정답 클래스 2, 예측 클래스 0 표본 수</td>\n",
       "    </tr>\n",
       "    <tr>\n",
       "      <th>정답클래스 1</th>\n",
       "      <td>정답 클래스 0, 예측 클래스 1 표본 수</td>\n",
       "      <td>정답 클래스 1, 예측 클래스 1 표본 수</td>\n",
       "      <td>정답 클래스 2, 예측 클래스 1 표본 수</td>\n",
       "    </tr>\n",
       "    <tr>\n",
       "      <th>정답클래스 2</th>\n",
       "      <td>정답 클래스 0, 예측 클래스 2 표본 수</td>\n",
       "      <td>정답 클래스 1, 예측 클래스 2 표본 수</td>\n",
       "      <td>정답 클래스 2, 예측 클래스 2 표본 수</td>\n",
       "    </tr>\n",
       "  </tbody>\n",
       "</table>\n",
       "</div>"
      ],
      "text/plain": [
       "                        예측 클래스 0                 예측 클래스 1  \\\n",
       "정답클래스 0  정답 클래스 0, 예측 클래스 0 표본 수  정답 클래스 1, 예측 클래스 0 표본 수   \n",
       "정답클래스 1  정답 클래스 0, 예측 클래스 1 표본 수  정답 클래스 1, 예측 클래스 1 표본 수   \n",
       "정답클래스 2  정답 클래스 0, 예측 클래스 2 표본 수  정답 클래스 1, 예측 클래스 2 표본 수   \n",
       "\n",
       "                        예측 클래스 2  \n",
       "정답클래스 0  정답 클래스 2, 예측 클래스 0 표본 수  \n",
       "정답클래스 1  정답 클래스 2, 예측 클래스 1 표본 수  \n",
       "정답클래스 2  정답 클래스 2, 예측 클래스 2 표본 수  "
      ]
     },
     "execution_count": 23,
     "metadata": {},
     "output_type": "execute_result"
    }
   ],
   "source": [
    "pd.DataFrame(\n",
    "    {'예측 클래스 0':['정답 클래스 0, 예측 클래스 0 표본 수', '정답 클래스 0, 예측 클래스 1 표본 수', '정답 클래스 0, 예측 클래스 2 표본 수'],\n",
    "    '예측 클래스 1':['정답 클래스 1, 예측 클래스 0 표본 수', '정답 클래스 1, 예측 클래스 1 표본 수', '정답 클래스 1, 예측 클래스 2 표본 수'],\n",
    "    '예측 클래스 2':['정답 클래스 2, 예측 클래스 0 표본 수', '정답 클래스 2, 예측 클래스 1 표본 수', '정답 클래스 2, 예측 클래스 2 표본 수']},\n",
    "    index=['정답클래스 0', '정답클래스 1', '정답클래스 2']\n",
    ")"
   ]
  },
  {
   "cell_type": "markdown",
   "id": "exposed-strand",
   "metadata": {},
   "source": [
    "사이킷런의 confusion_matrix 메소드를 이용해 다음의 실제 타겟 클래스, 예측 클래스를 이용해 혼동행렬을 만들 수 있다."
   ]
  },
  {
   "cell_type": "markdown",
   "id": "acting-baptist",
   "metadata": {},
   "source": [
    "각 행렬의 원소는 실제 클래스와 예측 클래스에 따른 표본 수를 의미한다."
   ]
  },
  {
   "cell_type": "code",
   "execution_count": 26,
   "id": "alternate-marriage",
   "metadata": {
    "ExecuteTime": {
     "end_time": "2021-09-02T04:51:18.992710Z",
     "start_time": "2021-09-02T04:51:18.976750Z"
    }
   },
   "outputs": [
    {
     "data": {
      "text/plain": [
       "array([[2, 0, 0],\n",
       "       [0, 0, 1],\n",
       "       [1, 0, 2]], dtype=int64)"
      ]
     },
     "execution_count": 26,
     "metadata": {},
     "output_type": "execute_result"
    }
   ],
   "source": [
    "from sklearn.metrics import confusion_matrix\n",
    "\n",
    "y_true = [2, 0, 2, 2, 0, 1]\n",
    "y_pred = [0, 0, 2, 2, 0, 2]\n",
    "\n",
    "confusion_matrix(y_true, y_pred)"
   ]
  },
  {
   "cell_type": "markdown",
   "id": "professional-french",
   "metadata": {},
   "source": [
    "# 이진 분류 결과표"
   ]
  },
  {
   "cell_type": "markdown",
   "id": "ultimate-stone",
   "metadata": {},
   "source": [
    "클래스가 0, 1 처럼 두 종류만 존재하는 경우 일반적으로 클래스의 이름은 양성(positive), 음성(negative)으로 구분한다."
   ]
  },
  {
   "cell_type": "code",
   "execution_count": 30,
   "id": "european-geology",
   "metadata": {
    "ExecuteTime": {
     "end_time": "2021-09-02T04:54:22.914479Z",
     "start_time": "2021-09-02T04:54:22.893514Z"
    }
   },
   "outputs": [
    {
     "data": {
      "text/html": [
       "<div>\n",
       "<style scoped>\n",
       "    .dataframe tbody tr th:only-of-type {\n",
       "        vertical-align: middle;\n",
       "    }\n",
       "\n",
       "    .dataframe tbody tr th {\n",
       "        vertical-align: top;\n",
       "    }\n",
       "\n",
       "    .dataframe thead th {\n",
       "        text-align: right;\n",
       "    }\n",
       "</style>\n",
       "<table border=\"1\" class=\"dataframe\">\n",
       "  <thead>\n",
       "    <tr style=\"text-align: right;\">\n",
       "      <th></th>\n",
       "      <th>양성예측</th>\n",
       "      <th>음성예측</th>\n",
       "    </tr>\n",
       "  </thead>\n",
       "  <tbody>\n",
       "    <tr>\n",
       "      <th>실제양성</th>\n",
       "      <td>TP</td>\n",
       "      <td>FN</td>\n",
       "    </tr>\n",
       "    <tr>\n",
       "      <th>실제음성</th>\n",
       "      <td>FP</td>\n",
       "      <td>TN</td>\n",
       "    </tr>\n",
       "  </tbody>\n",
       "</table>\n",
       "</div>"
      ],
      "text/plain": [
       "     양성예측 음성예측\n",
       "실제양성   TP   FN\n",
       "실제음성   FP   TN"
      ]
     },
     "execution_count": 30,
     "metadata": {},
     "output_type": "execute_result"
    }
   ],
   "source": [
    "pd.DataFrame({\n",
    "    '양성예측':['TP', 'FP'],\n",
    "    '음성예측':['FN', 'TN'],},\n",
    "index=['실제양성', '실제음성']\n",
    ")"
   ]
  },
  {
   "cell_type": "markdown",
   "id": "pointed-louisville",
   "metadata": {},
   "source": [
    "위의 혼동행렬을 이용해 암(cancer)을 검진할 때의 예시를 들어보자."
   ]
  },
  {
   "cell_type": "markdown",
   "id": "noted-legislation",
   "metadata": {},
   "source": [
    "- TP : 실제 양성(암환자)을 양성으로 검진\n",
    "\n",
    "- FP : 실제 음성(정상)을 양성으로 오진\n",
    "\n",
    "- FN : 실제 양성(암환자)을 음성으로 오진\n",
    "\n",
    "- TN : 실제 음성(정상)을 음성으로 검진"
   ]
  },
  {
   "cell_type": "markdown",
   "id": "medieval-ethnic",
   "metadata": {},
   "source": [
    "# 정확도"
   ]
  },
  {
   "cell_type": "markdown",
   "id": "voluntary-associate",
   "metadata": {},
   "source": [
    "정확도(accuracy)는 일반적으로 최적화 목적함수로 사용되며 전체 샘플 중 맞게 예측한 샘플 수의 비율을 의미한다."
   ]
  },
  {
   "cell_type": "markdown",
   "id": "economic-expert",
   "metadata": {},
   "source": [
    "$$Acc = \\dfrac{TP + TN}{TP + TN + FP + FN}$$"
   ]
  },
  {
   "cell_type": "code",
   "execution_count": 48,
   "id": "spatial-lighter",
   "metadata": {
    "ExecuteTime": {
     "end_time": "2021-09-02T05:06:54.382218Z",
     "start_time": "2021-09-02T05:06:54.324285Z"
    }
   },
   "outputs": [
    {
     "name": "stdout",
     "output_type": "stream",
     "text": [
      "confusion matrix\n",
      "[[ 9  5]\n",
      " [ 4 19]]\n",
      "ACC : 0.757\n"
     ]
    }
   ],
   "source": [
    "from sklearn.datasets import load_iris\n",
    "from sklearn.model_selection import train_test_split\n",
    "from sklearn.metrics import accuracy_score\n",
    "\n",
    "#로지스틱 회귀를 이용한 분류 모델 생성\n",
    "\n",
    "# 데이터 전처리\n",
    "titanic = sns.load_dataset('titanic')\n",
    "titanic = titanic.dropna()\n",
    "\n",
    "titanic.drop(['class','who','deck','embark_town','alive'], axis=1, inplace=True)\n",
    "\n",
    "titanic['pclass'] = pd.get_dummies(titanic['pclass'])\n",
    "titanic['sex'] = titanic['sex'].astype('category').cat.codes\n",
    "titanic['embarked'] = titanic['embarked'].astype('category').cat.codes\n",
    "titanic['alone'] = titanic['alone'].astype('category').cat.codes\n",
    "titanic['adult_male'] = titanic['adult_male'].astype('category').cat.codes\n",
    "titanic['family'] = titanic['sibsp'] + titanic['parch'] + 1\n",
    "\n",
    "label = titanic.survived\n",
    "titanic_df = titanic.drop('survived',axis=1)\n",
    "\n",
    "# 학습 데이터, 테스트 데이터 분리\n",
    "X_train, X_test, y_train, y_test = train_test_split(titanic_df, label, test_size=0.2)\n",
    "\n",
    "# 로지스틱 회귀 알고리즘을 이용한 생존자 이진 분류 모델\n",
    "from sklearn.linear_model import LogisticRegression\n",
    "\n",
    "lr_clf = LogisticRegression()\n",
    "\n",
    "lr_clf.fit(X_train, y_train)\n",
    "y_pred = lr_clf.predict(X_test)\n",
    "\n",
    "print('confusion matrix')\n",
    "print(confusion_matrix(y_test, y_pred))\n",
    "print('ACC :',np.round(accuracy_score(y_test, y_pred), 3))"
   ]
  },
  {
   "cell_type": "markdown",
   "id": "coral-success",
   "metadata": {},
   "source": [
    "# 정밀도(precision)"
   ]
  },
  {
   "cell_type": "markdown",
   "id": "registered-allen",
   "metadata": {},
   "source": [
    "정밀도(precision)은 실제 양성 클래스인 샘플 중 양성이라고 예측한 샘플의 수에 대한 비율을 의미한다."
   ]
  },
  {
   "cell_type": "markdown",
   "id": "wired-yahoo",
   "metadata": {},
   "source": [
    "$$Precision = \\dfrac{TP}{TP + FP}$$"
   ]
  },
  {
   "cell_type": "markdown",
   "id": "included-print",
   "metadata": {},
   "source": [
    "즉, 양성이라고 예측한 것 중 실제 양성인 것의 비율을 의미한다. \n",
    "\n",
    "극단적인 의미로 100% 확신할 수 있는 환자만 양성으로 판단하면 정밀도는 100%가 된다."
   ]
  },
  {
   "cell_type": "code",
   "execution_count": 50,
   "id": "crude-encounter",
   "metadata": {
    "ExecuteTime": {
     "end_time": "2021-09-02T05:08:39.462003Z",
     "start_time": "2021-09-02T05:08:39.457052Z"
    }
   },
   "outputs": [
    {
     "name": "stdout",
     "output_type": "stream",
     "text": [
      "PRECISION : 0.792\n"
     ]
    }
   ],
   "source": [
    "from sklearn.metrics import precision_score\n",
    "\n",
    "print('PRECISION :',np.round(precision_score(y_test, y_pred), 3))"
   ]
  },
  {
   "cell_type": "markdown",
   "id": "objective-assumption",
   "metadata": {},
   "source": [
    "# 재현율(recall)"
   ]
  },
  {
   "cell_type": "markdown",
   "id": "annual-election",
   "metadata": {},
   "source": [
    "재현율(recall)은 실제 양성인 데이터 중 양성을 얼마나 검출해냈느냐를 의미한다."
   ]
  },
  {
   "cell_type": "markdown",
   "id": "statistical-southeast",
   "metadata": {},
   "source": [
    "극단적인 예시로 재현율을 100%로 만드는 방법은 모든 샘플의 클래스를 양성으로 예측하는 것이다."
   ]
  },
  {
   "cell_type": "markdown",
   "id": "median-commissioner",
   "metadata": {},
   "source": [
    "$$Recall = \\dfrac{TP}{TP + FN}$$"
   ]
  },
  {
   "cell_type": "code",
   "execution_count": 51,
   "id": "vital-vermont",
   "metadata": {
    "ExecuteTime": {
     "end_time": "2021-09-02T05:14:03.294935Z",
     "start_time": "2021-09-02T05:14:03.282967Z"
    }
   },
   "outputs": [
    {
     "name": "stdout",
     "output_type": "stream",
     "text": [
      "RECALL : 0.826\n"
     ]
    }
   ],
   "source": [
    "from sklearn.metrics import recall_score\n",
    "\n",
    "print('RECALL :',np.round(recall_score(y_test, y_pred), 3))"
   ]
  },
  {
   "cell_type": "markdown",
   "id": "standard-tonight",
   "metadata": {},
   "source": [
    "# 위양성율(fall-out)"
   ]
  },
  {
   "cell_type": "markdown",
   "id": "explicit-cycling",
   "metadata": {},
   "source": [
    "위양성율(fall-out)은 실제 양성 클래스에 속하지 않는 표본 중 양성 클래스에 속한다고 출력한 표본의 비율이다.\n",
    "\n",
    "재판을 예로 들면 억울한 재판 결과를 받은 사람들의 비율이다."
   ]
  },
  {
   "cell_type": "markdown",
   "id": "presidential-result",
   "metadata": {},
   "source": [
    "$$fallout = \\dfrac{FP}{FP + TN}$$"
   ]
  },
  {
   "cell_type": "markdown",
   "id": "placed-power",
   "metadata": {},
   "source": [
    "# F점수"
   ]
  },
  {
   "cell_type": "markdown",
   "id": "psychological-latin",
   "metadata": {},
   "source": [
    "정밀도와 재현율의 가중조화평균(weight harminic average)를 F점수(F-score)라고 한다.\n",
    "\n",
    "여기서 가중조화평균이란 a, b의 역수의 평균의 역수를 구하는 방법으로 이 가중조화평균 중 정밀도에 가중치 베타(beta)를 줄 수 있는데 여기서 베타가 1인 경우를 F1 score라고 한다."
   ]
  },
  {
   "cell_type": "markdown",
   "id": "sustained-prevention",
   "metadata": {},
   "source": [
    "$$F_\\beta = (1 + \\beta^2) \\, ({\\text{precision} \\times \\text{recall}}) \\, / \\, ({\\beta^2 \\, \\text{precision} + \\text{recall}})$$"
   ]
  },
  {
   "cell_type": "markdown",
   "id": "excess-squad",
   "metadata": {},
   "source": [
    "$$F_1 = 2 \\cdot \\text{precision} \\cdot \\text{recall} \\, / \\, (\\text{precision} + \\text{recall})$$"
   ]
  },
  {
   "cell_type": "code",
   "execution_count": 52,
   "id": "dressed-curve",
   "metadata": {
    "ExecuteTime": {
     "end_time": "2021-09-02T05:17:38.393243Z",
     "start_time": "2021-09-02T05:17:38.376284Z"
    }
   },
   "outputs": [
    {
     "name": "stdout",
     "output_type": "stream",
     "text": [
      "RECALL : 0.809\n"
     ]
    }
   ],
   "source": [
    "from sklearn.metrics import f1_score\n",
    "\n",
    "print('RECALL :',np.round(f1_score(y_test, y_pred), 3))"
   ]
  },
  {
   "cell_type": "markdown",
   "id": "pregnant-taiwan",
   "metadata": {},
   "source": [
    "# classification_report"
   ]
  },
  {
   "cell_type": "markdown",
   "id": "official-title",
   "metadata": {},
   "source": [
    "각각의 클래스를 양성(Positive) 클래스로 보았을 때의 정밀도, 재현율, F1 score를 각각 구하고 그 평균값으로 전체 모형의 성능을 평가한다."
   ]
  },
  {
   "cell_type": "code",
   "execution_count": 54,
   "id": "upper-maria",
   "metadata": {
    "ExecuteTime": {
     "end_time": "2021-09-02T05:40:47.465358Z",
     "start_time": "2021-09-02T05:40:47.446451Z"
    }
   },
   "outputs": [
    {
     "name": "stdout",
     "output_type": "stream",
     "text": [
      "              precision    recall  f1-score   support\n",
      "\n",
      "     class 0       0.75      0.60      0.67         5\n",
      "     class 1       0.33      0.50      0.40         2\n",
      "\n",
      "    accuracy                           0.57         7\n",
      "   macro avg       0.54      0.55      0.53         7\n",
      "weighted avg       0.63      0.57      0.59         7\n",
      "\n"
     ]
    }
   ],
   "source": [
    "from sklearn.metrics import classification_report\n",
    "\n",
    "y_true = [0, 0, 0, 1, 1, 0, 0]\n",
    "y_pred = [0, 0, 0, 0, 1, 1, 1]\n",
    "\n",
    "print(classification_report(y_true, y_pred, target_names=['class 0', 'class 1']))"
   ]
  },
  {
   "cell_type": "markdown",
   "id": "marine-twins",
   "metadata": {},
   "source": [
    "위 report를 이해하는 방법은 다음과 같다.\n",
    "\n",
    "먼저 class0에 대한 precision부터 살펴보자.\n",
    "\n",
    "precision이란 양성이라 예측한 데이터 중 실제로 양성인 데이터의 비율을 의미한다.\n",
    "\n",
    "따라서 class0이라 예측한 데이터 4개 중 실제로 클래스가 0인 데이터는 3이므로 75%가 된다.\n",
    "\n",
    "class0의 recall은 0.6으로 기록되어있는데 recall은 일종의 정의구현율로 실제 양성 중 얼마나 많은 양성을 검출해냈느냐를 의미한다.\n",
    "\n",
    "따라서 실제 class가 0인 데이터 5개 중 3개만을 검출했으므로 recall은 60%가 된다.\n",
    "\n",
    "그리고 f1-score는 precision과 recall의 비슷할수록 높은 값을 띄는 특징이 있으므로 precision, recall의 중간에 위치하는 값이 된다.\n"
   ]
  },
  {
   "cell_type": "markdown",
   "id": "lesbian-metro",
   "metadata": {},
   "source": [
    "- macro : 단순평균\n",
    "\n",
    "- weighted : 각 클래스에 속하는 표본의 갯수로 가중평균(support)"
   ]
  },
  {
   "cell_type": "markdown",
   "id": "fuzzy-abraham",
   "metadata": {},
   "source": [
    "앞서 사용했던 타이타닉 데이터 분류문제를 이용해 report를 생성한 결과는 다음과 같다."
   ]
  },
  {
   "cell_type": "code",
   "execution_count": 57,
   "id": "cathedral-blink",
   "metadata": {
    "ExecuteTime": {
     "end_time": "2021-09-02T05:46:44.365745Z",
     "start_time": "2021-09-02T05:46:44.351783Z"
    }
   },
   "outputs": [
    {
     "name": "stdout",
     "output_type": "stream",
     "text": [
      "              precision    recall  f1-score   support\n",
      "\n",
      "     class 0       0.69      0.64      0.67        14\n",
      "     class 1       0.79      0.83      0.81        23\n",
      "\n",
      "    accuracy                           0.76        37\n",
      "   macro avg       0.74      0.73      0.74        37\n",
      "weighted avg       0.75      0.76      0.75        37\n",
      "\n"
     ]
    }
   ],
   "source": [
    "y_pred = lr_clf.predict(X_test)\n",
    "\n",
    "print(classification_report(y_test, y_pred, target_names=['class 0', 'class 1']))"
   ]
  },
  {
   "cell_type": "markdown",
   "id": "royal-mission",
   "metadata": {},
   "source": [
    "# ROC Curve"
   ]
  },
  {
   "cell_type": "markdown",
   "id": "opposite-assist",
   "metadata": {},
   "source": [
    "재현율(recall)과 위양성률(fall-out)은 일반적으로 양의 상관 관계가 있다."
   ]
  },
  {
   "cell_type": "markdown",
   "id": "front-account",
   "metadata": {},
   "source": [
    "범죄자 검거에 대한 예시로 이 관계를 살펴보면 다음과 같이 설명할 수 있다.\n",
    "\n",
    "재현율(recall)은 일종의 정의구현율로 생각할 수 있다. 즉, 실제 범죄자들 중 얼마나 많은 사람들이 검거되었는지에 대한 비율이다.\n",
    "\n",
    "만약 recall값이 0.6인 경우 실제 범죄자들 중 단 60%만이 검거되었다는 의미이다. 따라서 이 recall값을 높이기 위해선 범죄자와 일반시민을 구분하는 threshold(임계치)를 조정해 recall값을 높여야한다. 그런데 recall을 높이는 과정에서 일반 시민이 검거되는 fall-out 값이 높아지는 경우가 발생할 수 있다."
   ]
  },
  {
   "attachments": {
    "image.png": {
     "image/png": "[encoded data removed]"
    }
   },
   "cell_type": "markdown",
   "id": "quiet-dealer",
   "metadata": {},
   "source": [
    "![image.png](attachment:image.png)"
   ]
  },
  {
   "cell_type": "markdown",
   "id": "increased-receptor",
   "metadata": {},
   "source": [
    "위 그림을 통해 앞서 설명한 내용의 이해를 높일 수 있다."
   ]
  },
  {
   "cell_type": "markdown",
   "id": "french-submission",
   "metadata": {},
   "source": [
    "ROC curve는 클래스 판별 기준값(threshold)의 변화에 따라 fall-out, recall의 변화를 의미한다."
   ]
  },
  {
   "cell_type": "markdown",
   "id": "cathedral-samba",
   "metadata": {},
   "source": [
    "즉, 판별함수값이 음수이면 0인 클래스, 양수이면 1인 클래스로 판단하는 판별함수(discrimiannt function)에서 ROC 커브는 클래스 판별 기준값이 달라지면 그로 인한 판별 결과의 변화를 의미한다."
   ]
  },
  {
   "cell_type": "code",
   "execution_count": 65,
   "id": "consolidated-lottery",
   "metadata": {
    "ExecuteTime": {
     "end_time": "2021-09-02T05:57:41.981041Z",
     "start_time": "2021-09-02T05:57:41.958103Z"
    }
   },
   "outputs": [
    {
     "data": {
      "text/html": [
       "<div>\n",
       "<style scoped>\n",
       "    .dataframe tbody tr th:only-of-type {\n",
       "        vertical-align: middle;\n",
       "    }\n",
       "\n",
       "    .dataframe tbody tr th {\n",
       "        vertical-align: top;\n",
       "    }\n",
       "\n",
       "    .dataframe thead th {\n",
       "        text-align: right;\n",
       "    }\n",
       "</style>\n",
       "<table border=\"1\" class=\"dataframe\">\n",
       "  <thead>\n",
       "    <tr style=\"text-align: right;\">\n",
       "      <th></th>\n",
       "      <th>f</th>\n",
       "      <th>y_hat</th>\n",
       "      <th>y</th>\n",
       "    </tr>\n",
       "  </thead>\n",
       "  <tbody>\n",
       "    <tr>\n",
       "      <th>0</th>\n",
       "      <td>2.363163</td>\n",
       "      <td>1.0</td>\n",
       "      <td>1.0</td>\n",
       "    </tr>\n",
       "    <tr>\n",
       "      <th>1</th>\n",
       "      <td>2.065047</td>\n",
       "      <td>1.0</td>\n",
       "      <td>1.0</td>\n",
       "    </tr>\n",
       "    <tr>\n",
       "      <th>2</th>\n",
       "      <td>1.633657</td>\n",
       "      <td>1.0</td>\n",
       "      <td>1.0</td>\n",
       "    </tr>\n",
       "    <tr>\n",
       "      <th>3</th>\n",
       "      <td>1.626171</td>\n",
       "      <td>1.0</td>\n",
       "      <td>1.0</td>\n",
       "    </tr>\n",
       "    <tr>\n",
       "      <th>4</th>\n",
       "      <td>1.624967</td>\n",
       "      <td>1.0</td>\n",
       "      <td>1.0</td>\n",
       "    </tr>\n",
       "    <tr>\n",
       "      <th>5</th>\n",
       "      <td>1.219678</td>\n",
       "      <td>1.0</td>\n",
       "      <td>1.0</td>\n",
       "    </tr>\n",
       "    <tr>\n",
       "      <th>6</th>\n",
       "      <td>0.378296</td>\n",
       "      <td>1.0</td>\n",
       "      <td>0.0</td>\n",
       "    </tr>\n",
       "    <tr>\n",
       "      <th>7</th>\n",
       "      <td>0.094285</td>\n",
       "      <td>1.0</td>\n",
       "      <td>1.0</td>\n",
       "    </tr>\n",
       "    <tr>\n",
       "      <th>8</th>\n",
       "      <td>-0.438666</td>\n",
       "      <td>0.0</td>\n",
       "      <td>0.0</td>\n",
       "    </tr>\n",
       "    <tr>\n",
       "      <th>9</th>\n",
       "      <td>-0.765888</td>\n",
       "      <td>0.0</td>\n",
       "      <td>0.0</td>\n",
       "    </tr>\n",
       "    <tr>\n",
       "      <th>10</th>\n",
       "      <td>-0.926932</td>\n",
       "      <td>0.0</td>\n",
       "      <td>1.0</td>\n",
       "    </tr>\n",
       "    <tr>\n",
       "      <th>11</th>\n",
       "      <td>-1.046770</td>\n",
       "      <td>0.0</td>\n",
       "      <td>0.0</td>\n",
       "    </tr>\n",
       "    <tr>\n",
       "      <th>12</th>\n",
       "      <td>-1.214700</td>\n",
       "      <td>0.0</td>\n",
       "      <td>0.0</td>\n",
       "    </tr>\n",
       "    <tr>\n",
       "      <th>13</th>\n",
       "      <td>-1.429382</td>\n",
       "      <td>0.0</td>\n",
       "      <td>0.0</td>\n",
       "    </tr>\n",
       "    <tr>\n",
       "      <th>14</th>\n",
       "      <td>-2.081586</td>\n",
       "      <td>0.0</td>\n",
       "      <td>0.0</td>\n",
       "    </tr>\n",
       "    <tr>\n",
       "      <th>15</th>\n",
       "      <td>-4.118969</td>\n",
       "      <td>0.0</td>\n",
       "      <td>0.0</td>\n",
       "    </tr>\n",
       "  </tbody>\n",
       "</table>\n",
       "</div>"
      ],
      "text/plain": [
       "           f  y_hat    y\n",
       "0   2.363163    1.0  1.0\n",
       "1   2.065047    1.0  1.0\n",
       "2   1.633657    1.0  1.0\n",
       "3   1.626171    1.0  1.0\n",
       "4   1.624967    1.0  1.0\n",
       "5   1.219678    1.0  1.0\n",
       "6   0.378296    1.0  0.0\n",
       "7   0.094285    1.0  1.0\n",
       "8  -0.438666    0.0  0.0\n",
       "9  -0.765888    0.0  0.0\n",
       "10 -0.926932    0.0  1.0\n",
       "11 -1.046770    0.0  0.0\n",
       "12 -1.214700    0.0  0.0\n",
       "13 -1.429382    0.0  0.0\n",
       "14 -2.081586    0.0  0.0\n",
       "15 -4.118969    0.0  0.0"
      ]
     },
     "execution_count": 65,
     "metadata": {},
     "output_type": "execute_result"
    }
   ],
   "source": [
    "from sklearn.datasets import make_classification\n",
    "from sklearn.linear_model import LogisticRegression\n",
    "\n",
    "X, y = make_classification(n_samples=16, n_features=2,\n",
    "                           n_informative=2, n_redundant=0,\n",
    "                           random_state=0)\n",
    "\n",
    "model = LogisticRegression().fit(X, y)\n",
    "y_hat = model.predict(X)\n",
    "f_value = model.decision_function(X)\n",
    "\n",
    "df = pd.DataFrame(np.vstack([f_value, y_hat, y]).T, columns=[\"f\", \"y_hat\", \"y\"])\n",
    "df.sort_values(\"f\", ascending=False).reset_index(drop=True)"
   ]
  },
  {
   "cell_type": "markdown",
   "id": "incorporated-transfer",
   "metadata": {},
   "source": [
    "1. 현재는 0을 기준으로 클래스를 구분하여 판별함수값이 0보다 크면 양성(Positive), 작으면 음성(negative)이다.\n",
    "\n",
    "\n",
    "2. 데이터 분류가 달라지도록 기준값을 변화시킨다.\n",
    "\n",
    "\n",
    "3. 기준값을 여러 방법으로 변화시키며 그에 따른 recall, fall-out 또한 변화된다."
   ]
  },
  {
   "cell_type": "code",
   "execution_count": 62,
   "id": "essential-agency",
   "metadata": {
    "ExecuteTime": {
     "end_time": "2021-09-02T05:54:24.049105Z",
     "start_time": "2021-09-02T05:54:24.033182Z"
    }
   },
   "outputs": [
    {
     "data": {
      "text/html": [
       "<div>\n",
       "<style scoped>\n",
       "    .dataframe tbody tr th:only-of-type {\n",
       "        vertical-align: middle;\n",
       "    }\n",
       "\n",
       "    .dataframe tbody tr th {\n",
       "        vertical-align: top;\n",
       "    }\n",
       "\n",
       "    .dataframe thead th {\n",
       "        text-align: right;\n",
       "    }\n",
       "</style>\n",
       "<table border=\"1\" class=\"dataframe\">\n",
       "  <thead>\n",
       "    <tr style=\"text-align: right;\">\n",
       "      <th></th>\n",
       "      <th>index</th>\n",
       "      <th>FPR</th>\n",
       "      <th>TPR</th>\n",
       "    </tr>\n",
       "  </thead>\n",
       "  <tbody>\n",
       "    <tr>\n",
       "      <th>0</th>\n",
       "      <td>1</td>\n",
       "      <td>0.000000</td>\n",
       "      <td>0.043478</td>\n",
       "    </tr>\n",
       "    <tr>\n",
       "      <th>1</th>\n",
       "      <td>2</td>\n",
       "      <td>0.000000</td>\n",
       "      <td>0.391304</td>\n",
       "    </tr>\n",
       "    <tr>\n",
       "      <th>2</th>\n",
       "      <td>3</td>\n",
       "      <td>0.071429</td>\n",
       "      <td>0.391304</td>\n",
       "    </tr>\n",
       "    <tr>\n",
       "      <th>3</th>\n",
       "      <td>4</td>\n",
       "      <td>0.071429</td>\n",
       "      <td>0.695652</td>\n",
       "    </tr>\n",
       "    <tr>\n",
       "      <th>4</th>\n",
       "      <td>5</td>\n",
       "      <td>0.142857</td>\n",
       "      <td>0.695652</td>\n",
       "    </tr>\n",
       "    <tr>\n",
       "      <th>5</th>\n",
       "      <td>6</td>\n",
       "      <td>0.142857</td>\n",
       "      <td>0.739130</td>\n",
       "    </tr>\n",
       "    <tr>\n",
       "      <th>6</th>\n",
       "      <td>7</td>\n",
       "      <td>0.214286</td>\n",
       "      <td>0.739130</td>\n",
       "    </tr>\n",
       "    <tr>\n",
       "      <th>7</th>\n",
       "      <td>8</td>\n",
       "      <td>0.214286</td>\n",
       "      <td>0.782609</td>\n",
       "    </tr>\n",
       "    <tr>\n",
       "      <th>8</th>\n",
       "      <td>9</td>\n",
       "      <td>0.285714</td>\n",
       "      <td>0.782609</td>\n",
       "    </tr>\n",
       "    <tr>\n",
       "      <th>9</th>\n",
       "      <td>10</td>\n",
       "      <td>0.285714</td>\n",
       "      <td>0.826087</td>\n",
       "    </tr>\n",
       "    <tr>\n",
       "      <th>10</th>\n",
       "      <td>11</td>\n",
       "      <td>0.571429</td>\n",
       "      <td>0.826087</td>\n",
       "    </tr>\n",
       "    <tr>\n",
       "      <th>11</th>\n",
       "      <td>12</td>\n",
       "      <td>0.571429</td>\n",
       "      <td>0.869565</td>\n",
       "    </tr>\n",
       "    <tr>\n",
       "      <th>12</th>\n",
       "      <td>13</td>\n",
       "      <td>0.642857</td>\n",
       "      <td>0.869565</td>\n",
       "    </tr>\n",
       "    <tr>\n",
       "      <th>13</th>\n",
       "      <td>14</td>\n",
       "      <td>0.642857</td>\n",
       "      <td>0.913043</td>\n",
       "    </tr>\n",
       "    <tr>\n",
       "      <th>14</th>\n",
       "      <td>15</td>\n",
       "      <td>0.785714</td>\n",
       "      <td>0.913043</td>\n",
       "    </tr>\n",
       "    <tr>\n",
       "      <th>15</th>\n",
       "      <td>16</td>\n",
       "      <td>0.785714</td>\n",
       "      <td>0.956522</td>\n",
       "    </tr>\n",
       "    <tr>\n",
       "      <th>16</th>\n",
       "      <td>17</td>\n",
       "      <td>0.857143</td>\n",
       "      <td>0.956522</td>\n",
       "    </tr>\n",
       "    <tr>\n",
       "      <th>17</th>\n",
       "      <td>18</td>\n",
       "      <td>0.857143</td>\n",
       "      <td>1.000000</td>\n",
       "    </tr>\n",
       "    <tr>\n",
       "      <th>18</th>\n",
       "      <td>19</td>\n",
       "      <td>1.000000</td>\n",
       "      <td>1.000000</td>\n",
       "    </tr>\n",
       "  </tbody>\n",
       "</table>\n",
       "</div>"
      ],
      "text/plain": [
       "    index       FPR       TPR\n",
       "0       1  0.000000  0.043478\n",
       "1       2  0.000000  0.391304\n",
       "2       3  0.071429  0.391304\n",
       "3       4  0.071429  0.695652\n",
       "4       5  0.142857  0.695652\n",
       "5       6  0.142857  0.739130\n",
       "6       7  0.214286  0.739130\n",
       "7       8  0.214286  0.782609\n",
       "8       9  0.285714  0.782609\n",
       "9      10  0.285714  0.826087\n",
       "10     11  0.571429  0.826087\n",
       "11     12  0.571429  0.869565\n",
       "12     13  0.642857  0.869565\n",
       "13     14  0.642857  0.913043\n",
       "14     15  0.785714  0.913043\n",
       "15     16  0.785714  0.956522\n",
       "16     17  0.857143  0.956522\n",
       "17     18  0.857143  1.000000\n",
       "18     19  1.000000  1.000000"
      ]
     },
     "execution_count": 62,
     "metadata": {},
     "output_type": "execute_result"
    }
   ],
   "source": [
    "from sklearn.metrics import roc_curve\n",
    "\n",
    "fprs, tprs, thresholds = roc_curve(y_test, pred_proba_class_1)\n",
    "\n",
    "# 반환된 임곗값 배열에서 샘플로 데이터 추출\n",
    "# thresholds[0]은 max(예측확률)+1 값이 임의로 지정됨.\n",
    "\n",
    "thr_index = np.arange(1, thresholds.shape[0])\n",
    "\n",
    "pd.DataFrame({'index':thr_index,\n",
    "             'FPR':fprs[thr_index],\n",
    "             'TPR':tprs[thr_index]})"
   ]
  },
  {
   "cell_type": "code",
   "execution_count": 66,
   "id": "dense-feeding",
   "metadata": {
    "ExecuteTime": {
     "end_time": "2021-09-02T05:59:15.187453Z",
     "start_time": "2021-09-02T05:59:15.172494Z"
    }
   },
   "outputs": [
    {
     "data": {
      "text/plain": [
       "array([[7, 1],\n",
       "       [1, 7]], dtype=int64)"
      ]
     },
     "execution_count": 66,
     "metadata": {},
     "output_type": "execute_result"
    }
   ],
   "source": [
    "confusion_matrix(y, y_hat, labels=[1, 0])"
   ]
  },
  {
   "cell_type": "code",
   "execution_count": 67,
   "id": "alternate-opera",
   "metadata": {
    "ExecuteTime": {
     "end_time": "2021-09-02T05:59:22.452058Z",
     "start_time": "2021-09-02T05:59:22.438097Z"
    }
   },
   "outputs": [
    {
     "name": "stdout",
     "output_type": "stream",
     "text": [
      "recall = 0.75\n",
      "fallout = 0.125\n"
     ]
    }
   ],
   "source": [
    "recall = 6 / (6 + 2)\n",
    "fallout = 1 / (1 + 7)\n",
    "print(\"recall =\", recall)\n",
    "print(\"fallout =\", fallout)"
   ]
  },
  {
   "cell_type": "code",
   "execution_count": 68,
   "id": "minor-brazil",
   "metadata": {
    "ExecuteTime": {
     "end_time": "2021-09-02T05:59:47.039807Z",
     "start_time": "2021-09-02T05:59:47.031860Z"
    }
   },
   "outputs": [
    {
     "data": {
      "text/plain": [
       "(array([0.   , 0.   , 0.   , 0.125, 0.125, 0.375, 0.375, 1.   ]),\n",
       " array([0.   , 0.125, 0.75 , 0.75 , 0.875, 0.875, 1.   , 1.   ]),\n",
       " array([ 3.36316277,  2.36316277,  1.21967832,  0.37829565,  0.09428499,\n",
       "        -0.76588836, -0.92693183, -4.11896895]))"
      ]
     },
     "execution_count": 68,
     "metadata": {},
     "output_type": "execute_result"
    }
   ],
   "source": [
    "# rov_curve는 위 과정을 지원한다.\n",
    "\n",
    "from sklearn.metrics import roc_curve\n",
    "\n",
    "fpr, tpr, thresholds = roc_curve(y, model.decision_function(X))\n",
    "fpr, tpr, thresholds"
   ]
  },
  {
   "cell_type": "code",
   "execution_count": 69,
   "id": "revised-council",
   "metadata": {
    "ExecuteTime": {
     "end_time": "2021-09-02T05:59:51.822405Z",
     "start_time": "2021-09-02T05:59:51.801462Z"
    }
   },
   "outputs": [
    {
     "data": {
      "text/plain": [
       "(array([0.   , 0.   , 0.   , 0.125, 0.125, 0.375, 0.375, 1.   ]),\n",
       " array([0.   , 0.125, 0.75 , 0.75 , 0.875, 0.875, 1.   , 1.   ]),\n",
       " array([1.9139748 , 0.9139748 , 0.77200693, 0.59346197, 0.5235538 ,\n",
       "        0.31736921, 0.28354759, 0.01600107]))"
      ]
     },
     "execution_count": 69,
     "metadata": {},
     "output_type": "execute_result"
    }
   ],
   "source": [
    "fpr, tpr, thresholds = roc_curve(y, model.predict_proba(X)[:, 1])\n",
    "fpr, tpr, thresholds"
   ]
  },
  {
   "cell_type": "code",
   "execution_count": 70,
   "id": "large-graphic",
   "metadata": {
    "ExecuteTime": {
     "end_time": "2021-09-02T05:59:56.188290Z",
     "start_time": "2021-09-02T05:59:56.024259Z"
    }
   },
   "outputs": [
    {
     "data": {
      "image/png": "[encoded data removed]",
      "text/plain": [
       "<Figure size 432x288 with 1 Axes>"
      ]
     },
     "metadata": {
      "image/png": {
       "height": 279,
       "width": 383
      },
      "needs_background": "light"
     },
     "output_type": "display_data"
    }
   ],
   "source": [
    "plt.plot(fpr, tpr, 'o-', label=\"Logistic Regression\")\n",
    "plt.plot([0, 1], [0, 1], 'k--', label=\"random guess\")\n",
    "plt.plot([fallout], [recall], 'ro', ms=10)\n",
    "plt.xlabel('위양성률(Fall-Out)')\n",
    "plt.ylabel('재현률(Recall)')\n",
    "plt.title('Receiver operating characteristic example')\n",
    "plt.show()"
   ]
  },
  {
   "cell_type": "markdown",
   "id": "celtic-observation",
   "metadata": {},
   "source": [
    "사이킷런에서 제공하는 분류모델은 기본적으로 정확도(ACC)를 목적함수로 사용한다.  하지만 acc, recall, precision 등의 다양한 성능을 통해 ROC커브에서 성능이 달라지는 것을 확인할 수 있다."
   ]
  },
  {
   "cell_type": "code",
   "execution_count": 74,
   "id": "eastern-friday",
   "metadata": {
    "ExecuteTime": {
     "end_time": "2021-09-02T06:01:18.616223Z",
     "start_time": "2021-09-02T06:01:18.535738Z"
    }
   },
   "outputs": [],
   "source": [
    "from sklearn.datasets import make_classification\n",
    "from sklearn.linear_model import LogisticRegression\n",
    "from sklearn.svm import SVC\n",
    "\n",
    "X, y = make_classification(n_samples=1000, weights=[0.95, 0.05], random_state=5)\n",
    "\n",
    "# 로지스틱 회귀 모형\n",
    "model1 = LogisticRegression().fit(X, y)\n",
    "y_hat1 = model1.predict(X)\n",
    "\n",
    "# 서포트 벡터 머신 모형\n",
    "model2 = SVC(gamma=0.0001, C=3000, probability=True).fit(X, y)\n",
    "y_hat2 = model2.predict(X)"
   ]
  },
  {
   "cell_type": "markdown",
   "id": "yellow-madness",
   "metadata": {},
   "source": [
    "두 모형의 혼동행렬이 완전히 동일한 것을 확인할 수 있다."
   ]
  },
  {
   "cell_type": "code",
   "execution_count": 75,
   "id": "tender-egypt",
   "metadata": {
    "ExecuteTime": {
     "end_time": "2021-09-02T06:01:31.133958Z",
     "start_time": "2021-09-02T06:01:31.126976Z"
    }
   },
   "outputs": [
    {
     "name": "stdout",
     "output_type": "stream",
     "text": [
      "[[940   3]\n",
      " [ 30  27]]\n"
     ]
    }
   ],
   "source": [
    "print(confusion_matrix(y, y_hat1))"
   ]
  },
  {
   "cell_type": "code",
   "execution_count": 76,
   "id": "tender-coordination",
   "metadata": {
    "ExecuteTime": {
     "end_time": "2021-09-02T06:01:31.307757Z",
     "start_time": "2021-09-02T06:01:31.296818Z"
    }
   },
   "outputs": [
    {
     "name": "stdout",
     "output_type": "stream",
     "text": [
      "[[940   3]\n",
      " [ 30  27]]\n"
     ]
    }
   ],
   "source": [
    "print(confusion_matrix(y, y_hat2))"
   ]
  },
  {
   "cell_type": "markdown",
   "id": "pressed-floating",
   "metadata": {},
   "source": [
    "하지만 ROC curve를 사용하면 아래와 같이 다른 결과를 확인할 수 있다."
   ]
  },
  {
   "cell_type": "code",
   "execution_count": 77,
   "id": "union-embassy",
   "metadata": {
    "ExecuteTime": {
     "end_time": "2021-09-02T06:01:56.201360Z",
     "start_time": "2021-09-02T06:01:56.032812Z"
    }
   },
   "outputs": [
    {
     "data": {
      "image/png": "[encoded data removed]",
      "text/plain": [
       "<Figure size 432x288 with 1 Axes>"
      ]
     },
     "metadata": {
      "image/png": {
       "height": 279,
       "width": 383
      },
      "needs_background": "light"
     },
     "output_type": "display_data"
    }
   ],
   "source": [
    "fpr1, tpr1, thresholds1 = roc_curve(y, model1.decision_function(X))\n",
    "fpr2, tpr2, thresholds1 = roc_curve(y, model2.decision_function(X))\n",
    "\n",
    "plt.plot(fpr1, tpr1, 'o-', ms=2, label=\"Logistic Regression\")\n",
    "plt.plot(fpr2, tpr2, 'o-', ms=2, label=\"Kernel SVM\")\n",
    "plt.legend()\n",
    "plt.plot([0, 1], [0, 1], 'k--', label=\"random guess\")\n",
    "plt.xlabel('위양성률(Fall-Out)')\n",
    "plt.ylabel('재현률(Recall)')\n",
    "plt.title('ROC 커브')\n",
    "plt.show()"
   ]
  },
  {
   "cell_type": "markdown",
   "id": "extraordinary-amateur",
   "metadata": {},
   "source": [
    "# AUC"
   ]
  },
  {
   "cell_type": "markdown",
   "id": "enclosed-wallet",
   "metadata": {},
   "source": [
    "AUC(Area Under the Curve)는 ROC 곡선의 면적을 의미한다. 즉, fall-out값이 같을 때 recall값이 크거나 recall값이 같을 때 fall-out값이 작을수록 AUC가 1에 가까운 좋은 모형이 된다."
   ]
  },
  {
   "cell_type": "code",
   "execution_count": 78,
   "id": "placed-fireplace",
   "metadata": {
    "ExecuteTime": {
     "end_time": "2021-09-02T06:03:15.487447Z",
     "start_time": "2021-09-02T06:03:15.465507Z"
    }
   },
   "outputs": [
    {
     "data": {
      "text/plain": [
       "(0.9112202563673234, 0.9037227214377407)"
      ]
     },
     "execution_count": 78,
     "metadata": {},
     "output_type": "execute_result"
    }
   ],
   "source": [
    "from sklearn.metrics import auc\n",
    "auc(fpr1, tpr1), auc(fpr2, tpr2)"
   ]
  },
  {
   "cell_type": "markdown",
   "id": "superior-start",
   "metadata": {},
   "source": [
    "다중 클래스에 대해서는 정밀도, 재현율을 구하거나 ROC 커브를 그릴 수 없으므로 각각의 클래스에 대해 OvR 문제를 가정하고 각각의 OvR 문제에 대해 ROC 커브를 그린다."
   ]
  },
  {
   "cell_type": "code",
   "execution_count": 79,
   "id": "first-yukon",
   "metadata": {
    "ExecuteTime": {
     "end_time": "2021-09-02T06:03:21.671250Z",
     "start_time": "2021-09-02T06:03:21.531623Z"
    }
   },
   "outputs": [
    {
     "data": {
      "image/png": "[encoded data removed]",
      "text/plain": [
       "<Figure size 432x288 with 1 Axes>"
      ]
     },
     "metadata": {
      "image/png": {
       "height": 263,
       "width": 383
      },
      "needs_background": "light"
     },
     "output_type": "display_data"
    }
   ],
   "source": [
    "from sklearn.naive_bayes import GaussianNB\n",
    "from sklearn.datasets import load_iris\n",
    "from sklearn.preprocessing import label_binarize\n",
    "\n",
    "iris = load_iris()\n",
    "X = iris.data\n",
    "y = label_binarize(iris.target, [0, 1, 2])\n",
    "\n",
    "fpr = [None] * 3\n",
    "tpr = [None] * 3\n",
    "thr = [None] * 3\n",
    "\n",
    "for i in range(3):\n",
    "    model = GaussianNB().fit(X, y[:, i])\n",
    "    fpr[i], tpr[i], thr[i] = roc_curve(y[:, i], model.predict_proba(X)[:, 1])\n",
    "    plt.plot(fpr[i], tpr[i])\n",
    "\n",
    "plt.xlabel('위양성률(Fall-Out)')\n",
    "plt.ylabel('재현률(Recall)')\n",
    "plt.show()"
   ]
  },
  {
   "cell_type": "markdown",
   "id": "specialized-pharmaceutical",
   "metadata": {
    "ExecuteTime": {
     "end_time": "2021-09-02T09:04:47.487939Z",
     "start_time": "2021-09-02T09:04:47.460887Z"
    }
   },
   "source": [
    "파란색 ROC Curve는 Setosa냐 아니냐, 초록색 Curve는 Versicolor냐 아니냐 등으로 특정 클래스가 맞냐 아니냐를 묻는 문제로 변환했기 때문에 ROC Curve는가 3개가 나오게 된다."
   ]
  }
 ],
 "metadata": {
  "kernelspec": {
   "display_name": "Python 3",
   "language": "python",
   "name": "python3"
  },
  "language_info": {
   "codemirror_mode": {
    "name": "ipython",
    "version": 3
   },
   "file_extension": ".py",
   "mimetype": "text/x-python",
   "name": "python",
   "nbconvert_exporter": "python",
   "pygments_lexer": "ipython3",
   "version": "3.7.10"
  },
  "nbTranslate": {
   "displayLangs": [
    "*"
   ],
   "hotkey": "alt-t",
   "langInMainMenu": true,
   "sourceLang": "en",
   "targetLang": "fr",
   "useGoogleTranslate": true
  },
  "varInspector": {
   "cols": {
    "lenName": 16,
    "lenType": 16,
    "lenVar": 40
   },
   "kernels_config": {
    "python": {
     "delete_cmd_postfix": "",
     "delete_cmd_prefix": "del ",
     "library": "var_list.py",
     "varRefreshCmd": "print(var_dic_list())"
    },
    "r": {
     "delete_cmd_postfix": ") ",
     "delete_cmd_prefix": "rm(",
     "library": "var_list.r",
     "varRefreshCmd": "cat(var_dic_list()) "
    }
   },
   "types_to_exclude": [
    "module",
    "function",
    "builtin_function_or_method",
    "instance",
    "_Feature"
   ],
   "window_display": false
  }
 },
 "nbformat": 4,
 "nbformat_minor": 5
}
