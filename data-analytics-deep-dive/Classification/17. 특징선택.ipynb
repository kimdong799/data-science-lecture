{
 "cells": [
  {
   "cell_type": "markdown",
   "id": "funded-flour",
   "metadata": {},
   "source": [
    "# Feature Selection"
   ]
  },
  {
   "cell_type": "markdown",
   "id": "conceptual-accessory",
   "metadata": {},
   "source": [
    "대규모 데이터를 기반으로 분류모델을 생성하는 경우 샘플의 갯수 혹은 피처의 갯수가 방대해 이슈가 발생할 수 있다. 아래는 그 중 독립변수가 방대해서 문제가 발생하는 경우 문제 접근 방법에 대해 설명한다."
   ]
  },
  {
   "cell_type": "markdown",
   "id": "classified-ballet",
   "metadata": {},
   "source": [
    "다음의 데이터는 독립변수가 47236개, 샘플사이즈가 23149개이다."
   ]
  },
  {
   "cell_type": "code",
   "execution_count": 3,
   "id": "international-spirit",
   "metadata": {
    "ExecuteTime": {
     "end_time": "2021-09-21T08:00:19.335391Z",
     "start_time": "2021-09-21T07:54:23.597227Z"
    }
   },
   "outputs": [
    {
     "name": "stdout",
     "output_type": "stream",
     "text": [
      "(23149, 47236)\n",
      "Wall time: 5min 55s\n"
     ]
    }
   ],
   "source": [
    "%%time\n",
    "from sklearn.datasets import fetch_rcv1\n",
    "rcv_train = fetch_rcv1(subset=\"train\")\n",
    "rcv_test = fetch_rcv1(subset=\"test\")\n",
    "X_train = rcv_train.data\n",
    "y_train = rcv_train.target\n",
    "X_test = rcv_test.data\n",
    "y_test = rcv_test.target\n",
    "\n",
    "# Ont-Hot-Encoding된 라벨을 정수형으로 복원\n",
    "classes = np.arange(rcv_train.target.shape[1])\n",
    "y_train = y_train.dot(classes)\n",
    "y_test = y_test.dot(classes)\n",
    "\n",
    "print(X_train.shape)"
   ]
  },
  {
   "cell_type": "markdown",
   "id": "nuclear-narrow",
   "metadata": {},
   "source": [
    "# 분산에 의한 선택"
   ]
  },
  {
   "cell_type": "markdown",
   "id": "forbidden-gasoline",
   "metadata": {},
   "source": [
    "데이터를 분류하기 위해 중요한 독립변수는 $y$값과의 상관관계가 큰 데이터가 퍼포먼스에 좋은 영향을 미친다고 기대할 수 있다."
   ]
  },
  {
   "cell_type": "markdown",
   "id": "ongoing-cardiff",
   "metadata": {},
   "source": [
    "그런데 데이터 자체의 분산이 작아 $y$값과 상관관계가 작게 발생하는 경우 오히려 퍼포먼스에 악영향을 미칠 수 있다."
   ]
  },
  {
   "cell_type": "markdown",
   "id": "acting-somalia",
   "metadata": {},
   "source": [
    "이러한 접근법으로 분산을 이용해 Feature Selection을 진행할 수 있는데 sklearn에서 이를 위한 VarianceThreshold 메소드를 제공한다. 파라미터로는 분산의 크기를 지정해 그보다 분산이 작은 피처를 제거한다."
   ]
  },
  {
   "cell_type": "code",
   "execution_count": 17,
   "id": "colonial-compact",
   "metadata": {
    "ExecuteTime": {
     "end_time": "2021-09-21T08:05:46.348052Z",
     "start_time": "2021-09-21T08:05:46.054444Z"
    }
   },
   "outputs": [
    {
     "data": {
      "text/plain": [
       "(23149, 14330)"
      ]
     },
     "execution_count": 17,
     "metadata": {},
     "output_type": "execute_result"
    }
   ],
   "source": [
    "from sklearn.feature_selection import VarianceThreshold\n",
    "\n",
    "selector = VarianceThreshold(1e-5)\n",
    "X_train_sel = selector.fit_transform(X_train)\n",
    "X_test_sel = selector.transform(X_test)\n",
    "X_train_sel.shape"
   ]
  },
  {
   "cell_type": "markdown",
   "id": "played-franchise",
   "metadata": {},
   "source": [
    "분산을 이용한 Feature Selection을 진행한 결과 원본 데이터의 약 30%에 해당하는 피처만이 선택된 것을 확인할 수 있다."
   ]
  },
  {
   "cell_type": "markdown",
   "id": "placed-martial",
   "metadata": {},
   "source": [
    "이제 베르누이 나이브베이즈 분류모델을 이용해 Train set과 Test set에 대한 퍼포먼스를 측정해보자."
   ]
  },
  {
   "cell_type": "code",
   "execution_count": 7,
   "id": "executed-treat",
   "metadata": {
    "ExecuteTime": {
     "end_time": "2021-09-21T08:02:20.650432Z",
     "start_time": "2021-09-21T08:02:20.638465Z"
    }
   },
   "outputs": [],
   "source": [
    "from sklearn.naive_bayes import BernoulliNB\n",
    "from sklearn.metrics import accuracy_score"
   ]
  },
  {
   "cell_type": "code",
   "execution_count": 18,
   "id": "differential-insight",
   "metadata": {
    "ExecuteTime": {
     "end_time": "2021-09-21T08:06:11.529778Z",
     "start_time": "2021-09-21T08:05:48.935780Z"
    }
   },
   "outputs": [
    {
     "name": "stdout",
     "output_type": "stream",
     "text": [
      "train accuracy:0.381\n",
      "test accuracy :0.324\n",
      "Wall time: 22.5 s\n"
     ]
    }
   ],
   "source": [
    "%%time\n",
    "model = BernoulliNB()\n",
    "model.fit(X_train, y_train)\n",
    "print(\"train accuracy:{:5.3f}\".format(accuracy_score(y_train, model.predict(X_train))))\n",
    "print(\"test accuracy :{:5.3f}\".format(accuracy_score(y_test, model.predict(X_test))))"
   ]
  },
  {
   "cell_type": "code",
   "execution_count": 21,
   "id": "prime-hamilton",
   "metadata": {
    "ExecuteTime": {
     "end_time": "2021-09-21T08:06:38.126426Z",
     "start_time": "2021-09-21T08:06:19.996889Z"
    }
   },
   "outputs": [
    {
     "name": "stdout",
     "output_type": "stream",
     "text": [
      "train accuracy:0.529\n",
      "test accuracy :0.441\n",
      "Wall time: 18.1 s\n"
     ]
    }
   ],
   "source": [
    "%%time\n",
    "model = BernoulliNB()\n",
    "model.fit(X_train_sel, y_train)\n",
    "print(\"train accuracy:{:5.3f}\".format(accuracy_score(y_train, model.predict(X_train_sel))))\n",
    "print(\"test accuracy :{:5.3f}\".format(accuracy_score(y_test, model.predict(X_test_sel))))"
   ]
  },
  {
   "cell_type": "markdown",
   "id": "compatible-graph",
   "metadata": {},
   "source": [
    "원본데이터와 분산선택을 통한 데이터로 두 모델을 학습시켜 성능을 측정한 결과 ACC가 약 10% 증가함을 확인할 수 있다."
   ]
  },
  {
   "cell_type": "markdown",
   "id": "limited-purpose",
   "metadata": {},
   "source": [
    "이처럼 피처 선택 후 성능이 좋아지는 이유는 다음과 같다.\n",
    "\n",
    "NB 모델의 가정은 나이브 가정으로 서로 독립적이라고 가정한다. 하지만 현실의 데이터가 그렇지 못한 경우 퍼포먼스가 떨어지게 되는데 독립변수의 갯수가 적어지면서 나이브가정이 잘 맞게 되면서 성능이 좋아지는 경향을 보인다."
   ]
  },
  {
   "cell_type": "markdown",
   "id": "suffering-delhi",
   "metadata": {},
   "source": [
    "# 단일 변수 선택"
   ]
  },
  {
   "cell_type": "markdown",
   "id": "instant-disclaimer",
   "metadata": {},
   "source": [
    "단일 변수 선택법은 하나 하나의 독립변수만을 이용해 예측 모형의 성능을 평가한다. 이를 통해 최종적으로 분류성능 혹은 상관관계가 가장 높은 독립변수만을 선택하는 방법이다."
   ]
  },
  {
   "cell_type": "markdown",
   "id": "sound-integration",
   "metadata": {},
   "source": [
    "- chi2: 카이제곱 검정 통계값\n",
    "- f_classif : ANOVA분석 F검정 통계값\n",
    "- mutual_info_classif : 상호정보량(mutual information)"
   ]
  },
  {
   "cell_type": "markdown",
   "id": "ordered-password",
   "metadata": {},
   "source": [
    "다만 단일 변수 선택법은 하나 하나의 독립변수로 그리디한 선택으로 동작해 예측 모형에 대한 성능을 평가할 때 상관관계가 낮은 두 독립변수가 함께 사용되었을 때의 좋은 성능을 내는 피처는 선택하지 못한다."
   ]
  },
  {
   "cell_type": "markdown",
   "id": "chicken-ecuador",
   "metadata": {},
   "source": [
    "SelectKBest 클래스는 성능이 좋은 변수만을 사용하는 전처리기이다."
   ]
  },
  {
   "cell_type": "code",
   "execution_count": 23,
   "id": "intimate-charleston",
   "metadata": {
    "ExecuteTime": {
     "end_time": "2021-09-21T08:24:34.199137Z",
     "start_time": "2021-09-21T08:24:34.186173Z"
    }
   },
   "outputs": [],
   "source": [
    "from sklearn.feature_selection import chi2, SelectKBest"
   ]
  },
  {
   "cell_type": "code",
   "execution_count": 25,
   "id": "separate-kentucky",
   "metadata": {
    "ExecuteTime": {
     "end_time": "2021-09-21T08:26:39.477832Z",
     "start_time": "2021-09-21T08:26:22.351760Z"
    }
   },
   "outputs": [
    {
     "name": "stdout",
     "output_type": "stream",
     "text": [
      "train accuracy:0.505\n",
      "test accuracy :0.438\n",
      "Wall time: 17 s\n"
     ]
    }
   ],
   "source": [
    "%%time\n",
    "\n",
    "# 분산선택 시 선택된 피처의 갯수를 k로 지정\n",
    "selector1 = SelectKBest(chi2, k=14330)\n",
    "X_train1 = selector1.fit_transform(X_train, y_train)\n",
    "X_test1 = selector1.transform(X_test)\n",
    "\n",
    "model = BernoulliNB()\n",
    "model.fit(X_train1, y_train)\n",
    "print(\"train accuracy:{:5.3f}\".format(accuracy_score(y_train, model.predict(X_train1))))\n",
    "print(\"test accuracy :{:5.3f}\".format(accuracy_score(y_test, model.predict(X_test1))))"
   ]
  },
  {
   "cell_type": "markdown",
   "id": "tender-membership",
   "metadata": {},
   "source": [
    "카이제곱 검정 통계값을 이용해 피처를 선택한 결과 원본 데이터보다 10% 정도 높은 성능을 확인할 수 있다."
   ]
  },
  {
   "cell_type": "markdown",
   "id": "compressed-atlantic",
   "metadata": {},
   "source": [
    "# Feature Importance를 이용한 변수 선택"
   ]
  },
  {
   "cell_type": "markdown",
   "id": "backed-spanking",
   "metadata": {},
   "source": [
    "RandomForest와 같은 모델을 이용해 Feature Importance를 계산할 수 있는데 이 정보를 이용해 중요한 피처를 선택하고 해당 피처를 다른 모형에서 사용하는 방법이다."
   ]
  },
  {
   "cell_type": "code",
   "execution_count": 26,
   "id": "martial-sheriff",
   "metadata": {
    "ExecuteTime": {
     "end_time": "2021-09-21T08:28:12.871789Z",
     "start_time": "2021-09-21T08:28:12.853518Z"
    }
   },
   "outputs": [],
   "source": [
    "from sklearn.feature_selection import SelectFromModel\n",
    "from sklearn.ensemble import ExtraTreesClassifier"
   ]
  },
  {
   "cell_type": "code",
   "execution_count": 29,
   "id": "institutional-color",
   "metadata": {
    "ExecuteTime": {
     "end_time": "2021-09-21T08:30:06.046851Z",
     "start_time": "2021-09-21T08:29:38.879555Z"
    }
   },
   "outputs": [
    {
     "name": "stdout",
     "output_type": "stream",
     "text": [
      "Wall time: 27.2 s\n"
     ]
    }
   ],
   "source": [
    "%%time\n",
    "n_sample = 10000\n",
    "idx = np.random.choice(range(len(y_train)), n_sample)\n",
    "model_sel = ExtraTreesClassifier(n_estimators=50).fit(X_train[idx, :], y_train[idx])\n",
    "selector = SelectFromModel(model_sel, prefit=True, max_features=14330)\n",
    "X_train_sel = selector.transform(X_train)\n",
    "X_test_sel = selector.transform(X_test)"
   ]
  },
  {
   "cell_type": "code",
   "execution_count": 30,
   "id": "compliant-slovenia",
   "metadata": {
    "ExecuteTime": {
     "end_time": "2021-09-21T08:30:31.645135Z",
     "start_time": "2021-09-21T08:30:13.748208Z"
    }
   },
   "outputs": [
    {
     "name": "stdout",
     "output_type": "stream",
     "text": [
      "train accuracy:0.601\n",
      "test accuracy :0.491\n",
      "Wall time: 17.8 s\n"
     ]
    }
   ],
   "source": [
    "%%time\n",
    "model = BernoulliNB()\n",
    "model.fit(X_train_sel, y_train)\n",
    "print(\"train accuracy:{:5.3f}\".format(accuracy_score(y_train, model.predict(X_train_sel))))\n",
    "print(\"test accuracy :{:5.3f}\".format(accuracy_score(y_test, model.predict(X_test_sel))))"
   ]
  },
  {
   "cell_type": "code",
   "execution_count": null,
   "id": "tight-stereo",
   "metadata": {},
   "outputs": [],
   "source": []
  }
 ],
 "metadata": {
  "kernelspec": {
   "display_name": "Python 3",
   "language": "python",
   "name": "python3"
  },
  "language_info": {
   "codemirror_mode": {
    "name": "ipython",
    "version": 3
   },
   "file_extension": ".py",
   "mimetype": "text/x-python",
   "name": "python",
   "nbconvert_exporter": "python",
   "pygments_lexer": "ipython3",
   "version": "3.7.10"
  },
  "nbTranslate": {
   "displayLangs": [
    "*"
   ],
   "hotkey": "alt-t",
   "langInMainMenu": true,
   "sourceLang": "en",
   "targetLang": "fr",
   "useGoogleTranslate": true
  },
  "varInspector": {
   "cols": {
    "lenName": 16,
    "lenType": 16,
    "lenVar": 40
   },
   "kernels_config": {
    "python": {
     "delete_cmd_postfix": "",
     "delete_cmd_prefix": "del ",
     "library": "var_list.py",
     "varRefreshCmd": "print(var_dic_list())"
    },
    "r": {
     "delete_cmd_postfix": ") ",
     "delete_cmd_prefix": "rm(",
     "library": "var_list.r",
     "varRefreshCmd": "cat(var_dic_list()) "
    }
   },
   "types_to_exclude": [
    "module",
    "function",
    "builtin_function_or_method",
    "instance",
    "_Feature"
   ],
   "window_display": false
  }
 },
 "nbformat": 4,
 "nbformat_minor": 5
}
