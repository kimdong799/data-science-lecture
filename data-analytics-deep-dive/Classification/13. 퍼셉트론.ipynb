{
 "cells": [
  {
   "cell_type": "markdown",
   "id": "coated-shuttle",
   "metadata": {},
   "source": [
    "# 퍼셉트론"
   ]
  },
  {
   "cell_type": "markdown",
   "id": "executed-edition",
   "metadata": {},
   "source": [
    "다음은 단층 퍼셉트론의 예시이다."
   ]
  },
  {
   "attachments": {
    "image.png": {
     "image/png": "[encoded data removed]"
    }
   },
   "cell_type": "markdown",
   "id": "vital-wholesale",
   "metadata": {},
   "source": [
    "![image.png](attachment:image.png)"
   ]
  },
  {
   "cell_type": "markdown",
   "id": "serious-elements",
   "metadata": {},
   "source": [
    "위 퍼셉트론이 동작하는 원리는 먼저 상수항이 추가된 X벡터에 가중치 벡터 W를 내적하는 것으로 퍼셉트론의 동작이 시작된다.\n",
    "\n",
    "여기서 내적한 값(스칼라)는 부호판별함수(h)에 입력되어 $\\hat{y}$값을 반환하게 된다.\n",
    "\n",
    "여기서 $\\hat{y}$는 -1과 1만 출력되며 이 값을 실제 $y$값과 비교해 Loss Function에 입력한다.\n",
    "\n",
    "최종적으로 이 Loss Function을 미분한 Gradient Vector를 이용해 가중치를 갱신하는 것으로 모델 최적화를 진행한다."
   ]
  },
  {
   "cell_type": "code",
   "execution_count": null,
   "id": "cooked-plumbing",
   "metadata": {},
   "outputs": [],
   "source": []
  },
  {
   "cell_type": "code",
   "execution_count": null,
   "id": "painful-completion",
   "metadata": {},
   "outputs": [],
   "source": []
  },
  {
   "cell_type": "code",
   "execution_count": null,
   "id": "lined-kitchen",
   "metadata": {},
   "outputs": [],
   "source": []
  },
  {
   "cell_type": "code",
   "execution_count": null,
   "id": "banner-bullet",
   "metadata": {},
   "outputs": [],
   "source": []
  },
  {
   "cell_type": "code",
   "execution_count": null,
   "id": "numerous-fence",
   "metadata": {},
   "outputs": [],
   "source": []
  },
  {
   "cell_type": "code",
   "execution_count": null,
   "id": "welsh-oxford",
   "metadata": {},
   "outputs": [],
   "source": []
  },
  {
   "cell_type": "code",
   "execution_count": null,
   "id": "turkish-implementation",
   "metadata": {},
   "outputs": [],
   "source": []
  },
  {
   "cell_type": "markdown",
   "id": "white-arrest",
   "metadata": {},
   "source": [
    "# sklearn 퍼셉트론 구현"
   ]
  },
  {
   "cell_type": "markdown",
   "id": "nearby-integrity",
   "metadata": {},
   "source": [
    "- max_iter : 최적화를 위한 반복횟수\n",
    "- eta0 : 학습속도\n",
    "- n_iter_no_change : 설정값만큼 반복해도 성능이 나아지지 않으면 max_iter 결정값과 상관없이 중단"
   ]
  },
  {
   "cell_type": "code",
   "execution_count": 8,
   "id": "packed-package",
   "metadata": {
    "ExecuteTime": {
     "end_time": "2021-09-17T03:04:05.796157Z",
     "start_time": "2021-09-17T03:04:05.776210Z"
    }
   },
   "outputs": [],
   "source": [
    "from sklearn.datasets import load_iris\n",
    "from sklearn.linear_model import Perceptron\n",
    "\n",
    "iris = load_iris()\n",
    "\n",
    "idx = np.in1d(iris.target, [0, 2])\n",
    "\n",
    "X = iris.data[idx, :2]\n",
    "y = (iris.target[idx] / 2).astype(np.int)"
   ]
  },
  {
   "cell_type": "code",
   "execution_count": 9,
   "id": "wired-chaos",
   "metadata": {
    "ExecuteTime": {
     "end_time": "2021-09-17T03:04:06.000470Z",
     "start_time": "2021-09-17T03:04:05.985510Z"
    }
   },
   "outputs": [],
   "source": [
    "def plot_perceptron(n):\n",
    "    model = Perceptron(max_iter=300, shuffle=False, tol=0, n_iter_no_change=1e9).fit(X, y)\n",
    "    XX_min = X[:, 0].min() - 1\n",
    "    XX_max = X[:, 0].max() + 1\n",
    "    YY_min = X[:, 1].min() - 1\n",
    "    YY_max = X[:, 1].max() + 1\n",
    "    XX, YY = np.meshgrid(np.linspace(XX_min, XX_max, 1000),\n",
    "                        np.linspace(YY_min, YY_max, 1000))\n",
    "    ZZ = model.predict(np.c_[XX.ravel(), YY.ravel()]).reshape(XX.shape)\n",
    "    plt.contourf(XX, YY, ZZ, cmap=mpl.cm.Set3)\n",
    "    plt.scatter(X[y==0, 0], X[y==0, 1], c='w', s=100, marker='o', edgecolors='k')\n",
    "    plt.scatter(X[y==1, 0], X[y==1, 1], c='k', s=100, marker='x', edgecolors='k')\n",
    "    plt.xlabel(\"꽃받침의 길이\")\n",
    "    plt.ylabel(\"꽃받침의 폭\")\n",
    "    plt.grid(False)\n",
    "    plt.show()"
   ]
  },
  {
   "cell_type": "code",
   "execution_count": 10,
   "id": "fantastic-forestry",
   "metadata": {
    "ExecuteTime": {
     "end_time": "2021-09-17T03:04:06.648405Z",
     "start_time": "2021-09-17T03:04:06.385634Z"
    }
   },
   "outputs": [
    {
     "data": {
      "application/vnd.jupyter.widget-view+json": {
       "model_id": "ec45400ea15a448d8ac44f29ce06c0fe",
       "version_major": 2,
       "version_minor": 0
      },
      "text/plain": [
       "interactive(children=(IntSlider(value=1, description='n', min=1), Output()), _dom_classes=('widget-interact',)…"
      ]
     },
     "metadata": {},
     "output_type": "display_data"
    },
    {
     "data": {
      "text/plain": [
       "<function __main__.plot_perceptron(n)>"
      ]
     },
     "execution_count": 10,
     "metadata": {},
     "output_type": "execute_result"
    }
   ],
   "source": [
    "from ipywidgets import widgets\n",
    "widgets.interact(plot_perceptron, n=widgets.IntSlider(min=1, max=100, step=1, value=1))"
   ]
  },
  {
   "cell_type": "code",
   "execution_count": null,
   "id": "broad-casino",
   "metadata": {},
   "outputs": [],
   "source": []
  }
 ],
 "metadata": {
  "kernelspec": {
   "display_name": "Python 3",
   "language": "python",
   "name": "python3"
  },
  "language_info": {
   "codemirror_mode": {
    "name": "ipython",
    "version": 3
   },
   "file_extension": ".py",
   "mimetype": "text/x-python",
   "name": "python",
   "nbconvert_exporter": "python",
   "pygments_lexer": "ipython3",
   "version": "3.7.10"
  },
  "nbTranslate": {
   "displayLangs": [
    "*"
   ],
   "hotkey": "alt-t",
   "langInMainMenu": true,
   "sourceLang": "en",
   "targetLang": "fr",
   "useGoogleTranslate": true
  },
  "varInspector": {
   "cols": {
    "lenName": 16,
    "lenType": 16,
    "lenVar": 40
   },
   "kernels_config": {
    "python": {
     "delete_cmd_postfix": "",
     "delete_cmd_prefix": "del ",
     "library": "var_list.py",
     "varRefreshCmd": "print(var_dic_list())"
    },
    "r": {
     "delete_cmd_postfix": ") ",
     "delete_cmd_prefix": "rm(",
     "library": "var_list.r",
     "varRefreshCmd": "cat(var_dic_list()) "
    }
   },
   "types_to_exclude": [
    "module",
    "function",
    "builtin_function_or_method",
    "instance",
    "_Feature"
   ],
   "window_display": false
  }
 },
 "nbformat": 4,
 "nbformat_minor": 5
}
