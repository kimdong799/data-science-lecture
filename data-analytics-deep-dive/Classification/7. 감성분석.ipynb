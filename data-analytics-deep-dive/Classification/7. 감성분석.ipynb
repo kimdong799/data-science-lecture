{
 "cells": [
  {
   "cell_type": "markdown",
   "id": "southern-surname",
   "metadata": {},
   "source": [
    "# 감성분석"
   ]
  },
  {
   "cell_type": "markdown",
   "id": "sapphire-thought",
   "metadata": {
    "ExecuteTime": {
     "end_time": "2021-09-10T04:33:40.615390Z",
     "start_time": "2021-09-10T04:33:40.595444Z"
    }
   },
   "source": [
    "codecs 패키지는 `utf-8 -> byte -> unicode` 변환 과정을 스트리밍 방식으로 수행한다. 따라서 ram 문제, 시간 문제를 해결하기 위해 사용한다.ㅡ"
   ]
  },
  {
   "cell_type": "code",
   "execution_count": 61,
   "id": "random-effectiveness",
   "metadata": {
    "ExecuteTime": {
     "end_time": "2021-09-10T04:33:44.034070Z",
     "start_time": "2021-09-10T04:33:43.720086Z"
    }
   },
   "outputs": [],
   "source": [
    "import codecs\n",
    "with codecs.open(\"ratings_train.txt\", encoding='utf-8') as f:\n",
    "    data = [line.split('\\t') for line in f.read().splitlines()]\n",
    "    data = data[1:]   # header 제외"
   ]
  },
  {
   "cell_type": "markdown",
   "id": "forced-horror",
   "metadata": {},
   "source": [
    "해당 데이터는 번호, 내용, 평점으로 구성됨"
   ]
  },
  {
   "cell_type": "code",
   "execution_count": 63,
   "id": "electronic-pioneer",
   "metadata": {
    "ExecuteTime": {
     "end_time": "2021-09-10T04:33:51.875866Z",
     "start_time": "2021-09-10T04:33:51.855918Z"
    }
   },
   "outputs": [
    {
     "data": {
      "text/plain": [
       "['9976970', '아 더빙.. 진짜 짜증나네요 목소리', '0']"
      ]
     },
     "execution_count": 63,
     "metadata": {},
     "output_type": "execute_result"
    }
   ],
   "source": [
    "# 데이터 확인\n",
    "\n",
    "data[0]"
   ]
  },
  {
   "cell_type": "markdown",
   "id": "present-progressive",
   "metadata": {},
   "source": [
    "내용을 X, 평점을 y로 지정"
   ]
  },
  {
   "cell_type": "code",
   "execution_count": 87,
   "id": "marine-brunswick",
   "metadata": {
    "ExecuteTime": {
     "end_time": "2021-09-10T04:43:36.583476Z",
     "start_time": "2021-09-10T04:43:36.181106Z"
    }
   },
   "outputs": [],
   "source": [
    "X = list(zip(*data))[1]\n",
    "y = np.array(list(zip(*data))[2], dtype=int)"
   ]
  },
  {
   "cell_type": "code",
   "execution_count": 73,
   "id": "bright-salad",
   "metadata": {
    "ExecuteTime": {
     "end_time": "2021-09-10T04:37:11.369996Z",
     "start_time": "2021-09-10T04:37:11.358067Z"
    }
   },
   "outputs": [
    {
     "data": {
      "text/plain": [
       "('아 더빙.. 진짜 짜증나네요 목소리', 0)"
      ]
     },
     "execution_count": 73,
     "metadata": {},
     "output_type": "execute_result"
    }
   ],
   "source": [
    "X[0], y[0]"
   ]
  },
  {
   "cell_type": "markdown",
   "id": "returning-beaver",
   "metadata": {},
   "source": [
    "# 다항 NB 모델 학습"
   ]
  },
  {
   "cell_type": "markdown",
   "id": "beneficial-corner",
   "metadata": {},
   "source": [
    "## CountVectorizer"
   ]
  },
  {
   "cell_type": "code",
   "execution_count": 75,
   "id": "authorized-nomination",
   "metadata": {
    "ExecuteTime": {
     "end_time": "2021-09-10T04:38:08.421205Z",
     "start_time": "2021-09-10T04:38:08.414189Z"
    }
   },
   "outputs": [],
   "source": [
    "from sklearn.feature_extraction.text import CountVectorizer\n",
    "from sklearn.naive_bayes import MultinomialNB\n",
    "from sklearn.pipeline import Pipeline\n",
    "from sklearn.metrics import classification_report\n",
    "\n",
    "# 파이프라인 설정\n",
    "model1 = Pipeline([\n",
    "    ('vect', CountVectorizer()),\n",
    "    ('mb', MultinomialNB()),\n",
    "])"
   ]
  },
  {
   "cell_type": "code",
   "execution_count": 76,
   "id": "greater-possible",
   "metadata": {
    "ExecuteTime": {
     "end_time": "2021-09-10T04:38:11.483130Z",
     "start_time": "2021-09-10T04:38:09.309016Z"
    }
   },
   "outputs": [
    {
     "name": "stdout",
     "output_type": "stream",
     "text": [
      "Wall time: 2.16 s\n"
     ]
    },
    {
     "data": {
      "text/plain": [
       "Pipeline(steps=[('vect', CountVectorizer()), ('mb', MultinomialNB())])"
      ]
     },
     "execution_count": 76,
     "metadata": {},
     "output_type": "execute_result"
    }
   ],
   "source": [
    "# 모델 학습\n",
    "\n",
    "%%time\n",
    "model1.fit(X,y)"
   ]
  },
  {
   "cell_type": "code",
   "execution_count": 77,
   "id": "grave-intervention",
   "metadata": {
    "ExecuteTime": {
     "end_time": "2021-09-10T04:38:52.118545Z",
     "start_time": "2021-09-10T04:38:52.051571Z"
    }
   },
   "outputs": [],
   "source": [
    "# test용 text데이터 로드\n",
    "\n",
    "import codecs\n",
    "with codecs.open(\"ratings_test.txt\", encoding='utf-8') as f:\n",
    "    data_test = [line.split('\\t') for line in f.read().splitlines()]\n",
    "    data_test = data_test[1:]   # header 제외"
   ]
  },
  {
   "cell_type": "code",
   "execution_count": 79,
   "id": "supported-coral",
   "metadata": {
    "ExecuteTime": {
     "end_time": "2021-09-10T04:39:25.186599Z",
     "start_time": "2021-09-10T04:39:24.400539Z"
    }
   },
   "outputs": [
    {
     "name": "stdout",
     "output_type": "stream",
     "text": [
      "              precision    recall  f1-score   support\n",
      "\n",
      "           0       0.81      0.84      0.83     24827\n",
      "           1       0.84      0.81      0.82     25173\n",
      "\n",
      "    accuracy                           0.83     50000\n",
      "   macro avg       0.83      0.83      0.83     50000\n",
      "weighted avg       0.83      0.83      0.83     50000\n",
      "\n"
     ]
    }
   ],
   "source": [
    "# test 데이터를 이용한 성능평가\n",
    "\n",
    "X_test = list(zip(*data_test))[1]\n",
    "y_test = np.array(list(zip(*data_test))[2], dtype=int)\n",
    "\n",
    "print(classification_report(y_test, model1.predict(X_test)))"
   ]
  },
  {
   "cell_type": "code",
   "execution_count": 84,
   "id": "intense-challenge",
   "metadata": {
    "ExecuteTime": {
     "end_time": "2021-09-10T04:41:15.402783Z",
     "start_time": "2021-09-10T04:41:15.385830Z"
    }
   },
   "outputs": [
    {
     "data": {
      "text/plain": [
       "array([0, 1, 0, 1, 0])"
      ]
     },
     "execution_count": 84,
     "metadata": {},
     "output_type": "execute_result"
    }
   ],
   "source": [
    "# predict 결과 확인\n",
    "\n",
    "new_datas = ['이게 무슨 영화냐 시간아깝다',\n",
    "            '진짜 감동이다',\n",
    "            '완전 비추입니다 보지마세요',\n",
    "            '인생영화 무조건 강추입니다',\n",
    "            '장난하냐 돈아깝다']\n",
    "\n",
    "model1.predict(new_datas)"
   ]
  },
  {
   "cell_type": "markdown",
   "id": "floppy-filling",
   "metadata": {},
   "source": [
    "## TfidVectorizer"
   ]
  },
  {
   "cell_type": "code",
   "execution_count": 89,
   "id": "palestinian-gossip",
   "metadata": {
    "ExecuteTime": {
     "end_time": "2021-09-10T04:43:48.893221Z",
     "start_time": "2021-09-10T04:43:48.880301Z"
    }
   },
   "outputs": [],
   "source": [
    "from sklearn.feature_extraction.text import TfidfVectorizer\n",
    "\n",
    "model2 = Pipeline([\n",
    "    ('vect', TfidfVectorizer()),\n",
    "    ('mb', MultinomialNB())\n",
    "])"
   ]
  },
  {
   "cell_type": "code",
   "execution_count": 90,
   "id": "touched-drinking",
   "metadata": {
    "ExecuteTime": {
     "end_time": "2021-09-10T04:43:51.487804Z",
     "start_time": "2021-09-10T04:43:49.166026Z"
    }
   },
   "outputs": [
    {
     "name": "stdout",
     "output_type": "stream",
     "text": [
      "Wall time: 2.31 s\n"
     ]
    },
    {
     "data": {
      "text/plain": [
       "Pipeline(steps=[('vect', TfidfVectorizer()), ('mb', MultinomialNB())])"
      ]
     },
     "execution_count": 90,
     "metadata": {},
     "output_type": "execute_result"
    }
   ],
   "source": [
    "%%time\n",
    "\n",
    "model2.fit(X, y)"
   ]
  },
  {
   "cell_type": "code",
   "execution_count": 91,
   "id": "accessory-basket",
   "metadata": {
    "ExecuteTime": {
     "end_time": "2021-09-10T04:44:06.632191Z",
     "start_time": "2021-09-10T04:44:06.080617Z"
    }
   },
   "outputs": [
    {
     "name": "stdout",
     "output_type": "stream",
     "text": [
      "              precision    recall  f1-score   support\n",
      "\n",
      "           0       0.81      0.84      0.83     24827\n",
      "           1       0.84      0.81      0.83     25173\n",
      "\n",
      "    accuracy                           0.83     50000\n",
      "   macro avg       0.83      0.83      0.83     50000\n",
      "weighted avg       0.83      0.83      0.83     50000\n",
      "\n"
     ]
    }
   ],
   "source": [
    "# 성능평가\n",
    "\n",
    "print(classification_report(y_test, model2.predict(X_test)))"
   ]
  },
  {
   "cell_type": "code",
   "execution_count": 92,
   "id": "bored-emerald",
   "metadata": {
    "ExecuteTime": {
     "end_time": "2021-09-10T04:44:22.094404Z",
     "start_time": "2021-09-10T04:44:22.075489Z"
    }
   },
   "outputs": [
    {
     "data": {
      "text/plain": [
       "array([0, 1, 0, 1, 0])"
      ]
     },
     "execution_count": 92,
     "metadata": {},
     "output_type": "execute_result"
    }
   ],
   "source": [
    "# predict 예시\n",
    "\n",
    "model2.predict(new_datas)"
   ]
  },
  {
   "cell_type": "markdown",
   "id": "postal-start",
   "metadata": {},
   "source": [
    "## 형태소분석기 사용"
   ]
  },
  {
   "cell_type": "code",
   "execution_count": 93,
   "id": "parental-impossible",
   "metadata": {
    "ExecuteTime": {
     "end_time": "2021-09-10T04:45:17.369735Z",
     "start_time": "2021-09-10T04:45:16.308797Z"
    }
   },
   "outputs": [],
   "source": [
    "from konlpy.tag import Okt\n",
    "pos_tagger = Okt()\n",
    "\n",
    "def tokenize_pos(doc):\n",
    "    return ['/'.join(t) for t in pos_tagger.pos(doc)]"
   ]
  },
  {
   "cell_type": "code",
   "execution_count": 94,
   "id": "dried-northwest",
   "metadata": {
    "ExecuteTime": {
     "end_time": "2021-09-10T04:45:21.998456Z",
     "start_time": "2021-09-10T04:45:21.983469Z"
    }
   },
   "outputs": [],
   "source": [
    "model3 = Pipeline([\n",
    "    ('vect', CountVectorizer(tokenizer=tokenize_pos)),\n",
    "    ('mb', MultinomialNB()),\n",
    "])"
   ]
  },
  {
   "cell_type": "code",
   "execution_count": 95,
   "id": "correct-butter",
   "metadata": {
    "ExecuteTime": {
     "end_time": "2021-09-10T04:48:42.003465Z",
     "start_time": "2021-09-10T04:45:26.277282Z"
    }
   },
   "outputs": [
    {
     "name": "stdout",
     "output_type": "stream",
     "text": [
      "Wall time: 3min 15s\n"
     ]
    },
    {
     "data": {
      "text/plain": [
       "Pipeline(steps=[('vect',\n",
       "                 CountVectorizer(tokenizer=<function tokenize_pos at 0x000001D0FB93ADC8>)),\n",
       "                ('mb', MultinomialNB())])"
      ]
     },
     "execution_count": 95,
     "metadata": {},
     "output_type": "execute_result"
    }
   ],
   "source": [
    "%%time\n",
    "model3.fit(X, y)"
   ]
  },
  {
   "cell_type": "code",
   "execution_count": 96,
   "id": "romantic-fifteen",
   "metadata": {
    "ExecuteTime": {
     "end_time": "2021-09-10T04:49:45.932674Z",
     "start_time": "2021-09-10T04:48:42.275461Z"
    },
    "scrolled": true
   },
   "outputs": [
    {
     "name": "stdout",
     "output_type": "stream",
     "text": [
      "              precision    recall  f1-score   support\n",
      "\n",
      "           0       0.85      0.86      0.85     24827\n",
      "           1       0.86      0.85      0.85     25173\n",
      "\n",
      "    accuracy                           0.85     50000\n",
      "   macro avg       0.85      0.85      0.85     50000\n",
      "weighted avg       0.85      0.85      0.85     50000\n",
      "\n"
     ]
    }
   ],
   "source": [
    "print(classification_report(y_test, model3.predict(X_test)))"
   ]
  },
  {
   "cell_type": "markdown",
   "id": "clinical-young",
   "metadata": {},
   "source": [
    "## 바이그램 사용"
   ]
  },
  {
   "cell_type": "code",
   "execution_count": 97,
   "id": "indirect-therapist",
   "metadata": {
    "ExecuteTime": {
     "end_time": "2021-09-10T04:49:46.403565Z",
     "start_time": "2021-09-10T04:49:46.387005Z"
    }
   },
   "outputs": [],
   "source": [
    "model4 = Pipeline([\n",
    "    ('vect', TfidfVectorizer(tokenizer=tokenize_pos, ngram_range=(1, 2))),\n",
    "    ('mb', MultinomialNB()),\n",
    "])"
   ]
  },
  {
   "cell_type": "code",
   "execution_count": 98,
   "id": "waiting-punch",
   "metadata": {
    "ExecuteTime": {
     "end_time": "2021-09-10T04:53:27.432975Z",
     "start_time": "2021-09-10T04:49:46.688922Z"
    }
   },
   "outputs": [
    {
     "name": "stdout",
     "output_type": "stream",
     "text": [
      "Wall time: 3min 40s\n"
     ]
    },
    {
     "data": {
      "text/plain": [
       "Pipeline(steps=[('vect',\n",
       "                 TfidfVectorizer(ngram_range=(1, 2),\n",
       "                                 tokenizer=<function tokenize_pos at 0x000001D0FB93ADC8>)),\n",
       "                ('mb', MultinomialNB())])"
      ]
     },
     "execution_count": 98,
     "metadata": {},
     "output_type": "execute_result"
    }
   ],
   "source": [
    "%%time\n",
    "model4.fit(X, y)"
   ]
  },
  {
   "cell_type": "code",
   "execution_count": 99,
   "id": "complete-charlotte",
   "metadata": {
    "ExecuteTime": {
     "end_time": "2021-09-10T04:54:32.395465Z",
     "start_time": "2021-09-10T04:53:27.702653Z"
    }
   },
   "outputs": [
    {
     "name": "stdout",
     "output_type": "stream",
     "text": [
      "              precision    recall  f1-score   support\n",
      "\n",
      "           0       0.86      0.87      0.87     24827\n",
      "           1       0.87      0.86      0.87     25173\n",
      "\n",
      "    accuracy                           0.87     50000\n",
      "   macro avg       0.87      0.87      0.87     50000\n",
      "weighted avg       0.87      0.87      0.87     50000\n",
      "\n"
     ]
    }
   ],
   "source": [
    "print(classification_report(y_test, model4.predict(X_test)))"
   ]
  },
  {
   "cell_type": "code",
   "execution_count": null,
   "id": "primary-enough",
   "metadata": {},
   "outputs": [],
   "source": []
  }
 ],
 "metadata": {
  "kernelspec": {
   "display_name": "Python 3",
   "language": "python",
   "name": "python3"
  },
  "language_info": {
   "codemirror_mode": {
    "name": "ipython",
    "version": 3
   },
   "file_extension": ".py",
   "mimetype": "text/x-python",
   "name": "python",
   "nbconvert_exporter": "python",
   "pygments_lexer": "ipython3",
   "version": "3.7.10"
  },
  "nbTranslate": {
   "displayLangs": [
    "*"
   ],
   "hotkey": "alt-t",
   "langInMainMenu": true,
   "sourceLang": "en",
   "targetLang": "fr",
   "useGoogleTranslate": true
  },
  "varInspector": {
   "cols": {
    "lenName": 16,
    "lenType": 16,
    "lenVar": 40
   },
   "kernels_config": {
    "python": {
     "delete_cmd_postfix": "",
     "delete_cmd_prefix": "del ",
     "library": "var_list.py",
     "varRefreshCmd": "print(var_dic_list())"
    },
    "r": {
     "delete_cmd_postfix": ") ",
     "delete_cmd_prefix": "rm(",
     "library": "var_list.r",
     "varRefreshCmd": "cat(var_dic_list()) "
    }
   },
   "types_to_exclude": [
    "module",
    "function",
    "builtin_function_or_method",
    "instance",
    "_Feature"
   ],
   "window_display": false
  }
 },
 "nbformat": 4,
 "nbformat_minor": 5
}
