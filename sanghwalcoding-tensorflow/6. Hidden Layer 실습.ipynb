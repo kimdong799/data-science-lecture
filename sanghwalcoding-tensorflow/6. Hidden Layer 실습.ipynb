{
 "cells": [
  {
   "cell_type": "markdown",
   "metadata": {
    "ExecuteTime": {
     "end_time": "2021-01-30T13:27:04.784559Z",
     "start_time": "2021-01-30T13:27:04.778573Z"
    }
   },
   "source": [
    "# 히든레이어"
   ]
  },
  {
   "cell_type": "markdown",
   "metadata": {},
   "source": [
    "- 보스턴 집값 예측: https://raw.githubusercontent.com/blackdew/tensorflow1/master/csv/boston.csv\n",
    "\n",
    "- 아이리스 품종 분류: https://raw.githubusercontent.com/blackdew/tensorflow1/master/csv/iris.csv"
   ]
  },
  {
   "cell_type": "markdown",
   "metadata": {},
   "source": [
    "지금까지는 퍼셉트론 하나만을 이용한 모델을 사용했고 이번에는 히든레이어를 쌓아보면서 진짜 딥러닝 모델을 구현해봅시다!"
   ]
  },
  {
   "cell_type": "code",
   "execution_count": 3,
   "metadata": {
    "ExecuteTime": {
     "end_time": "2021-01-30T13:29:54.550262Z",
     "start_time": "2021-01-30T13:29:49.630079Z"
    }
   },
   "outputs": [],
   "source": [
    "# 라이브러리 import\n",
    "\n",
    "import pandas as pd\n",
    "import tensorflow as tf"
   ]
  },
  {
   "cell_type": "markdown",
   "metadata": {},
   "source": [
    "# 보스턴 집값 예측"
   ]
  },
  {
   "cell_type": "code",
   "execution_count": 5,
   "metadata": {
    "ExecuteTime": {
     "end_time": "2021-01-30T13:31:05.269076Z",
     "start_time": "2021-01-30T13:31:05.046656Z"
    }
   },
   "outputs": [],
   "source": [
    "# 과거의 데이터를 준비합니다.\n",
    "\n",
    "url = 'https://raw.githubusercontent.com/blackdew/tensorflow1/master/csv/boston.csv'\n",
    "boston = pd.read_csv(url)"
   ]
  },
  {
   "cell_type": "code",
   "execution_count": 8,
   "metadata": {
    "ExecuteTime": {
     "end_time": "2021-01-30T13:31:25.767306Z",
     "start_time": "2021-01-30T13:31:25.758330Z"
    }
   },
   "outputs": [
    {
     "name": "stdout",
     "output_type": "stream",
     "text": [
      "(506, 14)\n"
     ]
    },
    {
     "data": {
      "text/plain": [
       "Index(['crim', 'zn', 'indus', 'chas', 'nox', 'rm', 'age', 'dis', 'rad', 'tax',\n",
       "       'ptratio', 'b', 'lstat', 'medv'],\n",
       "      dtype='object')"
      ]
     },
     "execution_count": 8,
     "metadata": {},
     "output_type": "execute_result"
    }
   ],
   "source": [
    "print(boston.shape)\n",
    "\n",
    "boston.columns"
   ]
  },
  {
   "cell_type": "code",
   "execution_count": 19,
   "metadata": {
    "ExecuteTime": {
     "end_time": "2021-01-30T13:36:40.321382Z",
     "start_time": "2021-01-30T13:36:40.301436Z"
    }
   },
   "outputs": [
    {
     "name": "stdout",
     "output_type": "stream",
     "text": [
      "(506, 13) (506, 1)\n"
     ]
    }
   ],
   "source": [
    "# 종속변수, 독립변수\n",
    "\n",
    "독립 = boston[['crim', 'zn', 'indus', 'chas', 'nox', 'rm', 'age','dis', 'rad', 'tax','ptratio', 'b', 'lstat']]\n",
    "\n",
    "종속 = boston[['medv']]\n",
    "\n",
    "print(x.shape, y.shape)"
   ]
  },
  {
   "cell_type": "code",
   "execution_count": 22,
   "metadata": {
    "ExecuteTime": {
     "end_time": "2021-01-30T13:39:58.985365Z",
     "start_time": "2021-01-30T13:39:58.949736Z"
    }
   },
   "outputs": [],
   "source": [
    "# 모델의 구조를 만듭니다.\n",
    "\n",
    "X = tf.keras.layers.Input(shape=[13])\n",
    "\n",
    "# ---Hidden Layer--- 10개의 노드, swish 액티베이션 사용\n",
    "\n",
    "H = tf.keras.layers.Dense(10, activation='swish')(X)\n",
    "\n",
    "# ---Hidden Layer---\n",
    "Y = tf.keras.layers.Dense(1)(H)\n",
    "model = tf.keras.models.Model(X, Y)\n",
    "model.compile(loss='mse')"
   ]
  },
  {
   "cell_type": "code",
   "execution_count": 49,
   "metadata": {
    "ExecuteTime": {
     "end_time": "2021-01-30T13:54:17.245118Z",
     "start_time": "2021-01-30T13:54:15.915680Z"
    }
   },
   "outputs": [
    {
     "name": "stdout",
     "output_type": "stream",
     "text": [
      "Epoch 1/100\n",
      "16/16 [==============================] - 0s 810us/step - loss: 17.2408\n",
      "Epoch 2/100\n",
      "16/16 [==============================] - 0s 748us/step - loss: 17.3329\n",
      "Epoch 3/100\n",
      "16/16 [==============================] - 0s 810us/step - loss: 16.2126\n",
      "Epoch 4/100\n",
      "16/16 [==============================] - 0s 748us/step - loss: 16.3052\n",
      "Epoch 5/100\n",
      "16/16 [==============================] - 0s 873us/step - loss: 17.9367\n",
      "Epoch 6/100\n",
      "16/16 [==============================] - 0s 561us/step - loss: 17.8215\n",
      "Epoch 7/100\n",
      "16/16 [==============================] - 0s 561us/step - loss: 16.2105\n",
      "Epoch 8/100\n",
      "16/16 [==============================] - 0s 623us/step - loss: 16.3863\n",
      "Epoch 9/100\n",
      "16/16 [==============================] - 0s 561us/step - loss: 18.5120\n",
      "Epoch 10/100\n",
      "16/16 [==============================] - 0s 686us/step - loss: 16.6350\n",
      "Epoch 11/100\n",
      "16/16 [==============================] - 0s 748us/step - loss: 18.2838\n",
      "Epoch 12/100\n",
      "16/16 [==============================] - 0s 810us/step - loss: 17.1034\n",
      "Epoch 13/100\n",
      "16/16 [==============================] - 0s 810us/step - loss: 16.2436\n",
      "Epoch 14/100\n",
      "16/16 [==============================] - 0s 873us/step - loss: 17.0171\n",
      "Epoch 15/100\n",
      "16/16 [==============================] - 0s 810us/step - loss: 17.2061\n",
      "Epoch 16/100\n",
      "16/16 [==============================] - 0s 810us/step - loss: 16.7889\n",
      "Epoch 17/100\n",
      "16/16 [==============================] - 0s 810us/step - loss: 17.1940\n",
      "Epoch 18/100\n",
      "16/16 [==============================] - 0s 748us/step - loss: 16.0868\n",
      "Epoch 19/100\n",
      "16/16 [==============================] - 0s 623us/step - loss: 16.5784\n",
      "Epoch 20/100\n",
      "16/16 [==============================] - 0s 499us/step - loss: 19.1103\n",
      "Epoch 21/100\n",
      "16/16 [==============================] - 0s 561us/step - loss: 16.7412\n",
      "Epoch 22/100\n",
      "16/16 [==============================] - 0s 560us/step - loss: 17.2712\n",
      "Epoch 23/100\n",
      "16/16 [==============================] - 0s 499us/step - loss: 17.1433\n",
      "Epoch 24/100\n",
      "16/16 [==============================] - 0s 623us/step - loss: 15.1358\n",
      "Epoch 25/100\n",
      "16/16 [==============================] - 0s 623us/step - loss: 17.9576\n",
      "Epoch 26/100\n",
      "16/16 [==============================] - 0s 561us/step - loss: 16.4014\n",
      "Epoch 27/100\n",
      "16/16 [==============================] - 0s 561us/step - loss: 17.3350\n",
      "Epoch 28/100\n",
      "16/16 [==============================] - 0s 686us/step - loss: 18.8133\n",
      "Epoch 29/100\n",
      "16/16 [==============================] - 0s 561us/step - loss: 16.9025\n",
      "Epoch 30/100\n",
      "16/16 [==============================] - 0s 499us/step - loss: 16.7627\n",
      "Epoch 31/100\n",
      "16/16 [==============================] - 0s 685us/step - loss: 17.5982\n",
      "Epoch 32/100\n",
      "16/16 [==============================] - 0s 623us/step - loss: 16.5607\n",
      "Epoch 33/100\n",
      "16/16 [==============================] - 0s 561us/step - loss: 17.5864\n",
      "Epoch 34/100\n",
      "16/16 [==============================] - 0s 499us/step - loss: 17.9172\n",
      "Epoch 35/100\n",
      "16/16 [==============================] - 0s 561us/step - loss: 17.3884\n",
      "Epoch 36/100\n",
      "16/16 [==============================] - 0s 623us/step - loss: 16.8603\n",
      "Epoch 37/100\n",
      "16/16 [==============================] - 0s 562us/step - loss: 16.9467\n",
      "Epoch 38/100\n",
      "16/16 [==============================] - 0s 623us/step - loss: 18.3313\n",
      "Epoch 39/100\n",
      "16/16 [==============================] - 0s 623us/step - loss: 16.2294\n",
      "Epoch 40/100\n",
      "16/16 [==============================] - 0s 686us/step - loss: 16.4358\n",
      "Epoch 41/100\n",
      "16/16 [==============================] - 0s 623us/step - loss: 16.6449\n",
      "Epoch 42/100\n",
      "16/16 [==============================] - 0s 562us/step - loss: 16.2332\n",
      "Epoch 43/100\n",
      "16/16 [==============================] - 0s 561us/step - loss: 18.0138\n",
      "Epoch 44/100\n",
      "16/16 [==============================] - 0s 561us/step - loss: 16.8823\n",
      "Epoch 45/100\n",
      "16/16 [==============================] - 0s 623us/step - loss: 16.1591\n",
      "Epoch 46/100\n",
      "16/16 [==============================] - 0s 686us/step - loss: 17.9419\n",
      "Epoch 47/100\n",
      "16/16 [==============================] - 0s 623us/step - loss: 16.1552\n",
      "Epoch 48/100\n",
      "16/16 [==============================] - 0s 686us/step - loss: 16.7637\n",
      "Epoch 49/100\n",
      "16/16 [==============================] - 0s 623us/step - loss: 16.2343\n",
      "Epoch 50/100\n",
      "16/16 [==============================] - 0s 623us/step - loss: 16.9831\n",
      "Epoch 51/100\n",
      "16/16 [==============================] - 0s 561us/step - loss: 16.8592\n",
      "Epoch 52/100\n",
      "16/16 [==============================] - 0s 686us/step - loss: 17.2617\n",
      "Epoch 53/100\n",
      "16/16 [==============================] - 0s 561us/step - loss: 15.8357\n",
      "Epoch 54/100\n",
      "16/16 [==============================] - 0s 623us/step - loss: 17.0707\n",
      "Epoch 55/100\n",
      "16/16 [==============================] - 0s 623us/step - loss: 17.3342\n",
      "Epoch 56/100\n",
      "16/16 [==============================] - 0s 1ms/step - loss: 17.1988\n",
      "Epoch 57/100\n",
      "16/16 [==============================] - 0s 686us/step - loss: 16.5976\n",
      "Epoch 58/100\n",
      "16/16 [==============================] - 0s 623us/step - loss: 16.5787\n",
      "Epoch 59/100\n",
      "16/16 [==============================] - 0s 561us/step - loss: 16.5879\n",
      "Epoch 60/100\n",
      "16/16 [==============================] - 0s 436us/step - loss: 18.8498\n",
      "Epoch 61/100\n",
      "16/16 [==============================] - 0s 623us/step - loss: 16.9851\n",
      "Epoch 62/100\n",
      "16/16 [==============================] - 0s 561us/step - loss: 16.5931\n",
      "Epoch 63/100\n",
      "16/16 [==============================] - 0s 499us/step - loss: 16.9796\n",
      "Epoch 64/100\n",
      "16/16 [==============================] - 0s 561us/step - loss: 16.3860\n",
      "Epoch 65/100\n",
      "16/16 [==============================] - 0s 561us/step - loss: 16.4748\n",
      "Epoch 66/100\n",
      "16/16 [==============================] - 0s 623us/step - loss: 18.5844\n",
      "Epoch 67/100\n",
      "16/16 [==============================] - 0s 561us/step - loss: 16.1212\n",
      "Epoch 68/100\n",
      "16/16 [==============================] - 0s 561us/step - loss: 17.2138\n",
      "Epoch 69/100\n",
      "16/16 [==============================] - 0s 499us/step - loss: 16.3596\n",
      "Epoch 70/100\n",
      "16/16 [==============================] - 0s 561us/step - loss: 16.9866\n",
      "Epoch 71/100\n",
      "16/16 [==============================] - 0s 561us/step - loss: 16.9135\n",
      "Epoch 72/100\n",
      "16/16 [==============================] - 0s 499us/step - loss: 17.5833\n",
      "Epoch 73/100\n",
      "16/16 [==============================] - 0s 561us/step - loss: 15.7619\n",
      "Epoch 74/100\n",
      "16/16 [==============================] - 0s 623us/step - loss: 17.1783\n",
      "Epoch 75/100\n",
      "16/16 [==============================] - 0s 561us/step - loss: 15.4321\n",
      "Epoch 76/100\n",
      "16/16 [==============================] - 0s 686us/step - loss: 17.7760\n",
      "Epoch 77/100\n",
      "16/16 [==============================] - 0s 686us/step - loss: 17.0092\n",
      "Epoch 78/100\n",
      "16/16 [==============================] - 0s 623us/step - loss: 16.4966\n",
      "Epoch 79/100\n",
      "16/16 [==============================] - 0s 561us/step - loss: 16.1507\n",
      "Epoch 80/100\n",
      "16/16 [==============================] - 0s 622us/step - loss: 16.6149\n",
      "Epoch 81/100\n",
      "16/16 [==============================] - 0s 561us/step - loss: 16.4318\n",
      "Epoch 82/100\n",
      "16/16 [==============================] - 0s 623us/step - loss: 16.6661\n",
      "Epoch 83/100\n",
      "16/16 [==============================] - 0s 561us/step - loss: 17.8254\n",
      "Epoch 84/100\n",
      "16/16 [==============================] - 0s 561us/step - loss: 17.4227\n",
      "Epoch 85/100\n",
      "16/16 [==============================] - 0s 748us/step - loss: 16.8735\n",
      "Epoch 86/100\n",
      "16/16 [==============================] - 0s 623us/step - loss: 16.1623\n",
      "Epoch 87/100\n",
      "16/16 [==============================] - 0s 623us/step - loss: 16.9954\n",
      "Epoch 88/100\n",
      "16/16 [==============================] - 0s 499us/step - loss: 15.6138\n",
      "Epoch 89/100\n",
      "16/16 [==============================] - 0s 561us/step - loss: 16.1193\n",
      "Epoch 90/100\n",
      "16/16 [==============================] - 0s 561us/step - loss: 17.3213\n",
      "Epoch 91/100\n",
      "16/16 [==============================] - 0s 561us/step - loss: 16.4897\n",
      "Epoch 92/100\n",
      "16/16 [==============================] - 0s 623us/step - loss: 18.3842\n",
      "Epoch 93/100\n",
      "16/16 [==============================] - 0s 623us/step - loss: 16.8560\n",
      "Epoch 94/100\n",
      "16/16 [==============================] - 0s 686us/step - loss: 16.2832\n",
      "Epoch 95/100\n",
      "16/16 [==============================] - 0s 561us/step - loss: 17.2775\n",
      "Epoch 96/100\n",
      "16/16 [==============================] - 0s 561us/step - loss: 16.2823\n",
      "Epoch 97/100\n",
      "16/16 [==============================] - 0s 623us/step - loss: 15.5471\n",
      "Epoch 98/100\n"
     ]
    },
    {
     "name": "stdout",
     "output_type": "stream",
     "text": [
      "16/16 [==============================] - 0s 561us/step - loss: 18.2182\n",
      "Epoch 99/100\n",
      "16/16 [==============================] - 0s 436us/step - loss: 15.0786\n",
      "Epoch 100/100\n",
      "16/16 [==============================] - 0s 623us/step - loss: 16.7305\n"
     ]
    },
    {
     "data": {
      "text/plain": [
       "<tensorflow.python.keras.callbacks.History at 0x2a1766a32c8>"
      ]
     },
     "execution_count": 49,
     "metadata": {},
     "output_type": "execute_result"
    }
   ],
   "source": [
    "# 데이터로 모델을 학습합니다.\n",
    "\n",
    "model.fit(독립, 종속, epochs=100)"
   ]
  },
  {
   "cell_type": "code",
   "execution_count": 28,
   "metadata": {
    "ExecuteTime": {
     "end_time": "2021-01-30T13:43:37.127356Z",
     "start_time": "2021-01-30T13:43:37.109401Z"
    }
   },
   "outputs": [
    {
     "name": "stdout",
     "output_type": "stream",
     "text": [
      "Model: \"functional_5\"\n",
      "_________________________________________________________________\n",
      "Layer (type)                 Output Shape              Param #   \n",
      "=================================================================\n",
      "input_3 (InputLayer)         [(None, 13)]              0         \n",
      "_________________________________________________________________\n",
      "dense_2 (Dense)              (None, 10)                140       \n",
      "_________________________________________________________________\n",
      "dense_3 (Dense)              (None, 1)                 11        \n",
      "=================================================================\n",
      "Total params: 151\n",
      "Trainable params: 151\n",
      "Non-trainable params: 0\n",
      "_________________________________________________________________\n"
     ]
    }
   ],
   "source": [
    "# 모델의 형태를 확인해 봅시다\n",
    "# 출력 레이어 Param (11)의 의미는 히든 레이어에서 찾는 가중치로 \n",
    "# 10개의 입력을 받아서 1개의 출력을 만드니까 수식(항)이 10개고 마지막 Bias가 1개 추가되어 11이다.\n",
    "\n",
    "model.summary()"
   ]
  },
  {
   "cell_type": "code",
   "execution_count": 50,
   "metadata": {
    "ExecuteTime": {
     "end_time": "2021-01-30T13:54:21.646379Z",
     "start_time": "2021-01-30T13:54:21.602497Z"
    }
   },
   "outputs": [
    {
     "name": "stdout",
     "output_type": "stream",
     "text": [
      "[[31.358442]\n",
      " [22.879555]\n",
      " [31.99483 ]\n",
      " [35.564285]\n",
      " [34.258034]]\n",
      "   medv\n",
      "0  24.0\n",
      "1  21.6\n",
      "2  34.7\n",
      "3  33.4\n",
      "4  36.2\n"
     ]
    }
   ],
   "source": [
    "# 모델을 이용합니다.\n",
    "\n",
    "print(model.predict(독립[:5]))\n",
    "print(종속[:5])"
   ]
  },
  {
   "cell_type": "code",
   "execution_count": 51,
   "metadata": {
    "ExecuteTime": {
     "end_time": "2021-01-30T13:54:23.373441Z",
     "start_time": "2021-01-30T13:54:23.365468Z"
    }
   },
   "outputs": [],
   "source": [
    "import matplotlib.pyplot as plt"
   ]
  },
  {
   "cell_type": "code",
   "execution_count": 52,
   "metadata": {
    "ExecuteTime": {
     "end_time": "2021-01-30T13:54:23.861350Z",
     "start_time": "2021-01-30T13:54:23.691480Z"
    }
   },
   "outputs": [
    {
     "data": {
      "text/plain": [
       "[<matplotlib.lines.Line2D at 0x2a1782e9dc8>]"
      ]
     },
     "execution_count": 52,
     "metadata": {},
     "output_type": "execute_result"
    },
    {
     "data": {
      "image/png": "[encoded data removed]",
      "text/plain": [
       "<Figure size 432x288 with 1 Axes>"
      ]
     },
     "metadata": {
      "needs_background": "light"
     },
     "output_type": "display_data"
    }
   ],
   "source": [
    "plt.plot(종속[:5])\n",
    "plt.plot(model.predict(독립[:5]))"
   ]
  },
  {
   "cell_type": "code",
   "execution_count": null,
   "metadata": {},
   "outputs": [],
   "source": []
  },
  {
   "cell_type": "code",
   "execution_count": null,
   "metadata": {},
   "outputs": [],
   "source": []
  },
  {
   "cell_type": "markdown",
   "metadata": {},
   "source": [
    "# 아이리스 품종 분류"
   ]
  },
  {
   "cell_type": "code",
   "execution_count": 53,
   "metadata": {
    "ExecuteTime": {
     "end_time": "2021-01-30T13:55:12.596462Z",
     "start_time": "2021-01-30T13:55:12.158752Z"
    }
   },
   "outputs": [
    {
     "name": "stdout",
     "output_type": "stream",
     "text": [
      "(150, 4) (150, 3)\n"
     ]
    }
   ],
   "source": [
    "파일경로 = 'https://raw.githubusercontent.com/blackdew/tensorflow1/master/csv/iris.csv'\n",
    "아이리스 = pd.read_csv(파일경로)\n",
    "\n",
    "# 원핫인코딩\n",
    "아이리스 = pd.get_dummies(아이리스)\n",
    "\n",
    "# 종속변수, 독립변수\n",
    "독립 = 아이리스[['꽃잎길이', '꽃잎폭', '꽃받침길이', '꽃받침폭']]\n",
    "종속 = 아이리스[['품종_setosa', '품종_versicolor', '품종_virginica']]\n",
    "print(독립.shape, 종속.shape)"
   ]
  },
  {
   "cell_type": "code",
   "execution_count": 55,
   "metadata": {
    "ExecuteTime": {
     "end_time": "2021-01-30T13:57:56.880470Z",
     "start_time": "2021-01-30T13:57:56.829603Z"
    }
   },
   "outputs": [],
   "source": [
    "# 모델의 구조를 만듭니다.\n",
    "\n",
    "X = tf.keras.layers.Input(shape=[4])\n",
    "\n",
    "H = tf.keras.layers.Dense(8, activation=\"swish\")(X)\n",
    "H = tf.keras.layers.Dense(8, activation=\"swish\")(H)\n",
    "H = tf.keras.layers.Dense(8, activation=\"swish\")(H)\n",
    "\n",
    "Y = tf.keras.layers.Dense(3, activation='softmax')(H)\n",
    "\n",
    "model = tf.keras.models.Model(X, Y)\n",
    "model.compile(loss = 'categorical_crossentropy',\n",
    "             metrics='accuracy')"
   ]
  },
  {
   "cell_type": "code",
   "execution_count": 59,
   "metadata": {
    "ExecuteTime": {
     "end_time": "2021-01-30T13:58:31.093042Z",
     "start_time": "2021-01-30T13:58:31.087061Z"
    }
   },
   "outputs": [
    {
     "name": "stdout",
     "output_type": "stream",
     "text": [
      "Model: \"functional_9\"\n",
      "_________________________________________________________________\n",
      "Layer (type)                 Output Shape              Param #   \n",
      "=================================================================\n",
      "input_5 (InputLayer)         [(None, 4)]               0         \n",
      "_________________________________________________________________\n",
      "dense_5 (Dense)              (None, 8)                 40        \n",
      "_________________________________________________________________\n",
      "dense_6 (Dense)              (None, 8)                 72        \n",
      "_________________________________________________________________\n",
      "dense_7 (Dense)              (None, 8)                 72        \n",
      "_________________________________________________________________\n",
      "dense_8 (Dense)              (None, 3)                 27        \n",
      "=================================================================\n",
      "Total params: 211\n",
      "Trainable params: 211\n",
      "Non-trainable params: 0\n",
      "_________________________________________________________________\n"
     ]
    }
   ],
   "source": [
    "model.summary()"
   ]
  },
  {
   "cell_type": "code",
   "execution_count": 60,
   "metadata": {
    "ExecuteTime": {
     "end_time": "2021-01-30T13:59:01.762023Z",
     "start_time": "2021-01-30T13:59:01.232066Z"
    }
   },
   "outputs": [
    {
     "name": "stdout",
     "output_type": "stream",
     "text": [
      "Epoch 1/10\n",
      "5/5 [==============================] - 0s 798us/step - loss: 1.1998 - accuracy: 0.3333\n",
      "Epoch 2/10\n",
      "5/5 [==============================] - 0s 798us/step - loss: 1.1157 - accuracy: 0.2133\n",
      "Epoch 3/10\n",
      "5/5 [==============================] - 0s 997us/step - loss: 1.0870 - accuracy: 0.1133\n",
      "Epoch 4/10\n",
      "5/5 [==============================] - 0s 798us/step - loss: 1.0665 - accuracy: 0.2600\n",
      "Epoch 5/10\n",
      "5/5 [==============================] - 0s 997us/step - loss: 1.0506 - accuracy: 0.4000\n",
      "Epoch 6/10\n",
      "5/5 [==============================] - 0s 797us/step - loss: 1.0370 - accuracy: 0.5333\n",
      "Epoch 7/10\n",
      "5/5 [==============================] - 0s 798us/step - loss: 1.0234 - accuracy: 0.6200\n",
      "Epoch 8/10\n",
      "5/5 [==============================] - 0s 1ms/step - loss: 1.0117 - accuracy: 0.6933\n",
      "Epoch 9/10\n",
      "5/5 [==============================] - 0s 998us/step - loss: 0.9987 - accuracy: 0.6667\n",
      "Epoch 10/10\n",
      "5/5 [==============================] - 0s 1ms/step - loss: 0.9859 - accuracy: 0.6667\n"
     ]
    },
    {
     "data": {
      "text/plain": [
       "<tensorflow.python.keras.callbacks.History at 0x2a17820a608>"
      ]
     },
     "execution_count": 60,
     "metadata": {},
     "output_type": "execute_result"
    }
   ],
   "source": [
    "# 데이터로 모델을 학습합니다.\n",
    "\n",
    "model.fit(독립, 종속, epochs=10)"
   ]
  },
  {
   "cell_type": "code",
   "execution_count": 67,
   "metadata": {
    "ExecuteTime": {
     "end_time": "2021-01-30T14:01:17.130697Z",
     "start_time": "2021-01-30T14:01:17.074879Z"
    }
   },
   "outputs": [
    {
     "name": "stdout",
     "output_type": "stream",
     "text": [
      "[[9.9807191e-01 1.9281162e-03 5.7825131e-13]\n",
      " [9.9592376e-01 4.0762308e-03 1.2962171e-11]\n",
      " [9.9690598e-01 3.0940012e-03 5.9432342e-12]\n",
      " [9.9498874e-01 5.0112209e-03 3.9788964e-11]\n",
      " [9.9816692e-01 1.8330379e-03 5.2148856e-13]]\n",
      "   품종_setosa  품종_versicolor  품종_virginica\n",
      "0          1              0             0\n",
      "1          1              0             0\n",
      "2          1              0             0\n",
      "3          1              0             0\n",
      "4          1              0             0\n"
     ]
    }
   ],
   "source": [
    "# 모델을 이용합니다.\n",
    "\n",
    "print(model.predict(독립[0:5]))\n",
    "print(종속[0:5])"
   ]
  }
 ],
 "metadata": {
  "kernelspec": {
   "display_name": "Python 3",
   "language": "python",
   "name": "python3"
  },
  "language_info": {
   "codemirror_mode": {
    "name": "ipython",
    "version": 3
   },
   "file_extension": ".py",
   "mimetype": "text/x-python",
   "name": "python",
   "nbconvert_exporter": "python",
   "pygments_lexer": "ipython3",
   "version": "3.7.6"
  },
  "toc": {
   "base_numbering": 1,
   "nav_menu": {},
   "number_sections": true,
   "sideBar": true,
   "skip_h1_title": false,
   "title_cell": "Table of Contents",
   "title_sidebar": "Contents",
   "toc_cell": false,
   "toc_position": {},
   "toc_section_display": true,
   "toc_window_display": false
  },
  "varInspector": {
   "cols": {
    "lenName": 16,
    "lenType": 16,
    "lenVar": 40
   },
   "kernels_config": {
    "python": {
     "delete_cmd_postfix": "",
     "delete_cmd_prefix": "del ",
     "library": "var_list.py",
     "varRefreshCmd": "print(var_dic_list())"
    },
    "r": {
     "delete_cmd_postfix": ") ",
     "delete_cmd_prefix": "rm(",
     "library": "var_list.r",
     "varRefreshCmd": "cat(var_dic_list()) "
    }
   },
   "types_to_exclude": [
    "module",
    "function",
    "builtin_function_or_method",
    "instance",
    "_Feature"
   ],
   "window_display": false
  }
 },
 "nbformat": 4,
 "nbformat_minor": 4
}
